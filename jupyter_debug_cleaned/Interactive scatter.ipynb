{
 "cells": [
  {
   "cell_type": "code",
   "execution_count": null,
   "metadata": {},
   "outputs": [],
   "source": [
    "%load_ext autoreload\n",
    "%autoreload 2\n",
    "\n",
    "import os,sys\n",
    "import mne\n",
    "import utils  #my code\n",
    "import json\n",
    "import matplotlib.pyplot as plt\n",
    "import numpy as np\n",
    "import h5py\n",
    "import os\n",
    "import matplotlib as mpl\n",
    "import utils_tSNE as utsne\n",
    "\n",
    "from matplotlib.widgets import Button\n",
    "from matplotlib.text import Annotation\n",
    "import globvars as gv\n",
    "import utils_interactive_scatter as uis\n",
    "\n",
    "data_dir = gv.data_dir"
   ]
  },
  {
   "cell_type": "code",
   "execution_count": null,
   "metadata": {},
   "outputs": [],
   "source": [
    "rawname_ = 'S01_on_hold'  # no trem\n",
    "rawname_ = 'S01_off_hold'\n",
    "rawname_ = 'S01_off_move'\n",
    "#rawname_ = 'S01_on_move'\n",
    "\n",
    "\n",
    "#rawname_ = 'S02_off_hold'\n",
    "#rawname_ = 'S02_on_hold'\n",
    "rawnames = [rawname_]\n",
    "rawnames = ['S01_off_hold', 'S01_off_move']\n",
    "rn_str = ','.join(rawnames)\n",
    "\n",
    "crop_time = -1\n",
    "nraws_used_PCA = 2  # more precision\n",
    "\n",
    "skip_feat = 32  #  80 ,128\n",
    "subskip = 4\n",
    "skip_tSNE = skip_feat * subskip\n",
    "\n",
    "wsz = 256\n",
    "#dim_PCA = ?\n",
    "#effdim = ?\n",
    "#n_feats_PCA = ?\n",
    "n_channels = 7\n",
    "skip_PCA = skip_feat\n",
    "\n",
    "prefix = 'all'"
   ]
  },
  {
   "cell_type": "code",
   "execution_count": null,
   "metadata": {},
   "outputs": [],
   "source": [
    "# regex = \n",
    "# utsne.findByPrefix(gv.data_dir, '', '', regex)"
   ]
  },
  {
   "cell_type": "code",
   "execution_count": null,
   "metadata": {},
   "outputs": [],
   "source": [
    "#out_name_templ = '{}_{}tSNE_nrPCA{}_{}chs_nfeats{}_pcadim{}_skip{}_wsz{}_effdim{}_subskip{}'\n",
    "regex = '{}_{}_tSNE_nrPCA{}_{}chs_nfeats([0-9]+)_pcadim([0-9]+)_skip{}_wsz{}_effdim([0-9]+)_subskip{}'.\\\n",
    "format(rn_str,prefix,nraws_used_PCA, n_channels, skip_PCA, wsz, subskip)\n",
    "\n",
    "regex = '{}_{}_tSNE_nrPCA{}_.*_subskip{}'.\\\n",
    "format(rn_str,prefix,nraws_used_PCA, subskip)\n",
    "#regex = '{}_.*tSNE.*'.format(rn_str)\n",
    "if crop_time > 0:\n",
    "    regex += '_crop{.1f}'.format(crop_time)\n",
    "    \n",
    "print(regex)\n",
    "\n",
    "fnfound = utsne.findByPrefix(data_dir, rawname_, prefix, regex=regex)\n",
    "assert len(fnfound) == 1, 'For {} found not single fnames {}'.format(rawname_,fnfound)\n",
    "print(fnfound)\n",
    "\n",
    "fname_tsne = fnfound[0]\n",
    "fname_tsne_full = os.path.join( data_dir,fname_tsne) \n",
    "#S01_off_move_feats_7chs_nfeats609_skip32_wsz256.npz"
   ]
  },
  {
   "cell_type": "code",
   "execution_count": null,
   "metadata": {},
   "outputs": [],
   "source": [
    "#os.stat( fname_feat_full )"
   ]
  },
  {
   "cell_type": "code",
   "execution_count": null,
   "metadata": {},
   "outputs": [],
   "source": [
    "from datetime import datetime\n"
   ]
  },
  {
   "cell_type": "code",
   "execution_count": null,
   "metadata": {},
   "outputs": [],
   "source": [
    "help(datetime.fromtimestamp)"
   ]
  },
  {
   "cell_type": "code",
   "execution_count": null,
   "metadata": {
    "run_control": {
     "marked": false
    }
   },
   "outputs": [],
   "source": [
    "nfeats = 609\n",
    "Xs = []\n",
    "for rawname_ in rawnames:\n",
    "    fname_feat = '{}_feats_7chs_nfeats{}_skip{}_wsz256.npz'.\\\n",
    "    format(rawname_, nfeats, skip_feat) \n",
    "    fname_feat_full = os.path.join(data_dir, fname_feat)\n",
    "    #fname_tsne_full = os.path.join(data_dir, '{}_tsne_7chs_skip{}_wsz256.npz'.format(rawname_, skip_tSNE) )\n",
    "\n",
    "    r = np.load(fname_feat_full, allow_pickle=1)\n",
    "    mtime = os.stat( fname_feat_full ).st_mtime\n",
    "    print(fname_feat)\n",
    "    print( datetime.fromtimestamp(mtime), '(US format)' ) \n",
    "\n",
    "    X = r['X']\n",
    "    Xs += [X]\n",
    "X = np.vstack(Xs)\n",
    "feature_names_all = r['feature_names_all']\n",
    "#Xtimes = r['Xtimes']\n",
    "#extdat = r['extdat']\n",
    "\n",
    "skip = r['skip']\n",
    "sfreq = r['sfreq']\n",
    "windowsz = r['windowsz']\n",
    "nedgeBins = r['nedgeBins']\n",
    "\n",
    "\n",
    "###################################\n",
    "\n",
    "\n",
    "r = np.load(fname_tsne_full, allow_pickle=1)\n",
    "mtime = os.stat( fname_tsne_full ).st_mtime\n",
    "print(fname_tsne)\n",
    "print( datetime.fromtimestamp(mtime), '(US format)' ) \n",
    "\n",
    "\n",
    "tSNE_result = r['tSNE_result']\n",
    "\n",
    "#colors = r['colors']\n",
    "#markers = r['markers']\n",
    "#legend_elements = r['legend_elements']\n",
    "anns = r['anns']\n",
    "\n",
    "print('len(X)={}, len(X)/subskip={}, tSNE[0][2].shape={}'.\n",
    "      format(len(X), len(X)/subskip, tSNE_result[0][2].shape))"
   ]
  },
  {
   "cell_type": "code",
   "execution_count": null,
   "metadata": {},
   "outputs": [],
   "source": [
    "Xtimes_almost_pri = []\n",
    "PCA_files_pri = []\n",
    "for rawname_ in rawnames:\n",
    "    subj,medcond,task  = utils.getParamsFromRawname(rawname_)\n",
    "    regex_nrPCA = '[0-9]+'\n",
    "    regex_nfeats = '[0-9]+'\n",
    "    regex_pcadim = '[0-9]+'\n",
    "    regex = '{0}_{1}_PCA_nr({2})_[0-9]+chs_nfeats({3})_pcadim({4}).*'.\\\n",
    "        format(rawname_, prefix, regex_nrPCA, regex_nfeats, regex_pcadim)\n",
    "\n",
    "    fnfound = utsne.findByPrefix(data_dir, rawname_, prefix, regex=regex)\n",
    "    if len(fnfound) > 1:\n",
    "        fnt = [0] * len(fnfound)\n",
    "        for fni in range(len(fnt) ):\n",
    "            fnfull = os.path.join(data_dir, fnfound[fni])\n",
    "            fnt[fni] = os.path.getmtime(fnfull)\n",
    "        fni_max = np.argmax(fnt)\n",
    "        fnfound = [ fnfound[fni_max] ]\n",
    "    assert len(fnfound) == 1, 'For {} found not single fnames {}'.format(rawname_,fnfound)\n",
    "    fname_PCA = fnfound[0]\n",
    "    fname_PCA_full = os.path.join( data_dir, fname_PCA )\n",
    "\n",
    "    f = np.load(fname_PCA_full, allow_pickle=1)\n",
    "    mtime = os.stat( fname_PCA_full ).st_mtime\n",
    "    print(fname_PCA)\n",
    "    print( datetime.fromtimestamp(mtime), '(US format)' ) \n",
    "    \n",
    "    Xtimes_cur = f['Xtimes'] \n",
    "    Xtimes_almost_pri += [ Xtimes_cur ]\n",
    "    PCA_files_pri += [f]\n",
    "\n",
    "\n",
    "    print(Xtimes_cur.shape)\n"
   ]
  },
  {
   "cell_type": "code",
   "execution_count": null,
   "metadata": {},
   "outputs": [],
   "source": [
    "# for better display\n",
    "feature_names_all_mod = [name.replace('allf_','') for name in feature_names_all]\n",
    "feature_names_all_mod = [name.replace('con_','') for name in feature_names_all_mod]"
   ]
  },
  {
   "cell_type": "markdown",
   "metadata": {},
   "source": [
    "# select 30 preplexity"
   ]
  },
  {
   "cell_type": "code",
   "execution_count": null,
   "metadata": {},
   "outputs": [],
   "source": [
    "alg_to_use = 'UMAP'\n",
    "dtype_to_use = 'PCA'\n",
    "param_to_use = 10\n",
    "for tpl in tSNE_result:\n",
    "    pi,si,X_embedded, seed, param, lrate, dtype, alg = tpl\n",
    "    if param == param_to_use and dtype == dtype_to_use and alg == alg_to_use:\n",
    "        break"
   ]
  },
  {
   "cell_type": "code",
   "execution_count": null,
   "metadata": {},
   "outputs": [],
   "source": [
    "itypes = ['trem_L', 'notrem_L', 'hold_L', 'move_L']"
   ]
  },
  {
   "cell_type": "code",
   "execution_count": null,
   "metadata": {},
   "outputs": [],
   "source": [
    "totskip = skip_tSNE"
   ]
  },
  {
   "cell_type": "code",
   "execution_count": null,
   "metadata": {},
   "outputs": [],
   "source": [
    "windowsz"
   ]
  },
  {
   "cell_type": "code",
   "execution_count": null,
   "metadata": {},
   "outputs": [],
   "source": [
    "totskip"
   ]
  },
  {
   "cell_type": "code",
   "execution_count": null,
   "metadata": {},
   "outputs": [],
   "source": [
    "anns, anns_pri, Xtimes, dataset_bounds = utsne.concatAnns(rawnames, Xtimes_almost_pri)\n",
    "ivalis = utils.ann2ivalDict(anns)\n",
    "ivalis_tb, ivalis_tb_indarrays = utsne.getAnnBins(ivalis, Xtimes, nedgeBins, sfreq, \n",
    "                                                  totskip, windowsz, dataset_bounds)\n",
    "ivalis_tb_indarrays_merged = utsne.mergeAnnBinArrays(ivalis_tb_indarrays)\n",
    "\n",
    "print(Xtimes.shape, X.shape)"
   ]
  },
  {
   "cell_type": "code",
   "execution_count": null,
   "metadata": {},
   "outputs": [],
   "source": []
  },
  {
   "cell_type": "markdown",
   "metadata": {},
   "source": [
    "### markers\n",
    "https://matplotlib.org/api/markers_api.html"
   ]
  },
  {
   "cell_type": "code",
   "execution_count": null,
   "metadata": {},
   "outputs": [],
   "source": [
    "sind_str,medcond,task = utils.getParamsFromRawname(rawname_)\n",
    "#mrk = ['<','>','o','^','v']\n",
    "mrk = ['<','o','o','X','v']\n",
    "#mrknames = ['_pres','_posts','','_pree','_poste']"
   ]
  },
  {
   "cell_type": "code",
   "execution_count": null,
   "metadata": {},
   "outputs": [],
   "source": [
    "maintremside = gv.gp.gen_subj_info[subj]['tremor_side']"
   ]
  },
  {
   "cell_type": "code",
   "execution_count": null,
   "metadata": {},
   "outputs": [],
   "source": [
    "mts_letter = maintremside[0].upper()"
   ]
  },
  {
   "cell_type": "code",
   "execution_count": null,
   "metadata": {},
   "outputs": [],
   "source": [
    "anis = [ani for ani,ann in enumerate(anns) if ann['description'].find(mts_letter) >= 0]\n",
    "anns_mts = anns[anis]\n",
    "\n",
    "len(anns_mts)\n",
    "\n",
    "print( 'Proportion of dataset covered by labels ',\n",
    "      np.sum(anns_mts.duration) / Xtimes[-1] )\n",
    "\n",
    "ivalis"
   ]
  },
  {
   "cell_type": "markdown",
   "metadata": {},
   "source": [
    "# Prep colors"
   ]
  },
  {
   "cell_type": "code",
   "execution_count": null,
   "metadata": {},
   "outputs": [],
   "source": [
    "its = [it for it in ivalis_tb_indarrays_merged if it.find(mts_letter) >= 0]\n",
    "#anns_mts = anns[anis]"
   ]
  },
  {
   "cell_type": "code",
   "execution_count": null,
   "metadata": {},
   "outputs": [],
   "source": [
    "ivalis_tb_indarrays_merged_mts = {}\n",
    "for it in its:\n",
    "    ivalis_tb_indarrays_merged_mts[it] = ivalis_tb_indarrays_merged[it]"
   ]
  },
  {
   "cell_type": "code",
   "execution_count": null,
   "metadata": {},
   "outputs": [],
   "source": [
    "sum( [len(indarr) for indarr in ivalis_tb_indarrays_merged_mts.values()] ) / len(Xtimes[::4])"
   ]
  },
  {
   "cell_type": "code",
   "execution_count": null,
   "metadata": {},
   "outputs": [],
   "source": [
    "Xtimes[::subskip].shape"
   ]
  },
  {
   "cell_type": "code",
   "execution_count": null,
   "metadata": {},
   "outputs": [],
   "source": [
    "'fd'.startswith('ss')"
   ]
  },
  {
   "cell_type": "code",
   "execution_count": null,
   "metadata": {},
   "outputs": [],
   "source": [
    "ivalis['notrem_L'][0]"
   ]
  },
  {
   "cell_type": "code",
   "execution_count": null,
   "metadata": {},
   "outputs": [],
   "source": [
    "ivalis_tb_indarrays['notrem_L'][0]"
   ]
  },
  {
   "cell_type": "code",
   "execution_count": null,
   "metadata": {},
   "outputs": [],
   "source": [
    "len(ivalis_tb_indarrays_merged_mts['trem_L'])"
   ]
  },
  {
   "cell_type": "code",
   "execution_count": null,
   "metadata": {},
   "outputs": [],
   "source": [
    "print(anns_mts)\n",
    "anns_mts.onset"
   ]
  },
  {
   "cell_type": "code",
   "execution_count": null,
   "metadata": {},
   "outputs": [],
   "source": [
    "colors, markers =utsne.prepColorsMarkers(mts_letter, anns, Xtimes[::subskip],\n",
    "           nedgeBins, windowsz, sfreq, totskip, mrk,gv.gp.mrknames, \n",
    "                                         gv.gp.color_per_int_type,\n",
    "                                        dataset_bounds = dataset_bounds)\n",
    "\n",
    "legend_elements = utsne.prepareLegendElements(mrk,\n",
    "                                              gv.gp.mrknames,\n",
    "                                              gv.gp.color_per_int_type, \n",
    "                                              task, skipExt = 0 )"
   ]
  },
  {
   "cell_type": "code",
   "execution_count": null,
   "metadata": {},
   "outputs": [],
   "source": [
    "nonneut = np.array(colors) != gv.gp.neutcolor\n",
    "num_nonneut = sum(  nonneut)"
   ]
  },
  {
   "cell_type": "code",
   "execution_count": null,
   "metadata": {},
   "outputs": [],
   "source": [
    "print( 'Proportion of dataset non-neut colors ',\n",
    "      num_nonneut / len(colors) )"
   ]
  },
  {
   "cell_type": "code",
   "execution_count": null,
   "metadata": {},
   "outputs": [],
   "source": [
    "np.where(nonneut)[0][0] / len(colors)"
   ]
  },
  {
   "cell_type": "code",
   "execution_count": null,
   "metadata": {},
   "outputs": [],
   "source": [
    "np.where(nonneut)[0][-1] / len(colors)"
   ]
  },
  {
   "cell_type": "markdown",
   "metadata": {},
   "source": [
    "# Read muscle info"
   ]
  },
  {
   "cell_type": "code",
   "execution_count": null,
   "metadata": {},
   "outputs": [],
   "source": [
    "import utils_preproc as upre\n",
    "maintremside = 'left'\n",
    "\n",
    "EMG_per_hand = {'right':['EMG061_old', 'EMG062_old'], 'left':['EMG063_old', 'EMG064_old' ] }\n",
    "chnames_emg = EMG_per_hand[maintremside]"
   ]
  },
  {
   "cell_type": "code",
   "execution_count": null,
   "metadata": {},
   "outputs": [],
   "source": [
    "emg_rectconvs = []\n",
    "emg_rectconvs2 = []\n",
    "true_times_pri = []\n",
    "dataset_bounds_uncut_bins = []\n",
    "shift = 0\n",
    "for rawname_ in rawnames:\n",
    "    rectconv_fname_full = os.path.join(data_dir, '{}_emg_rectconv.fif'.format(rawname_) )\n",
    "    print(rectconv_fname_full)\n",
    "    emg_rectconv_cur = mne.io.read_raw_fif(rectconv_fname_full)\n",
    "    emg_rectconvs += [emg_rectconv_cur.copy()]\n",
    "    emg_rectconvs2 += [emg_rectconv_cur.copy()]\n",
    "    true_times_pri += [emg_rectconv_cur.times]\n",
    "    \n",
    "    st,end = 0, len(emg_rectconv_cur.times)\n",
    "    st += shift; end += shift\n",
    "    dataset_bounds_uncut_bins += [(st,end)]\n",
    "    \n",
    "#emg_rectconv = mne.concatenate_raws(emg_rectconvs2)\n",
    "emg_rectconv = upre.concatRaws(emg_rectconvs2)\n",
    "tbs,tbe = emg_rectconv.time_as_index([0,300])\n",
    "rectconv_emg, ts_ = emg_rectconv[chnames_emg, tbs:tbe]\n",
    "\n",
    "anns_naive = utsne.concatAnnsNaive(rawnames, true_times_pri)\n",
    "\n",
    "emg_rectconv.set_annotations(anns_naive)\n",
    "emg_rectconv_ps = utils.getEMGperHand(emg_rectconv)\n",
    "\n"
   ]
  },
  {
   "cell_type": "code",
   "execution_count": null,
   "metadata": {},
   "outputs": [],
   "source": [
    "dataset_bounds_uncut_bins"
   ]
  },
  {
   "cell_type": "code",
   "execution_count": null,
   "metadata": {},
   "outputs": [],
   "source": [
    "#emg_rectconvs[0].plot(duration=50,scalings='auto');\n",
    "\n",
    "# emg_rectconv.plot(duration=50,scalings='auto');\n",
    "\n",
    "# emg_rectconvs[0].plot(duration=50,scalings='auto');\n",
    "\n",
    "# emg_rectconvs[1].plot(duration=50,scalings='auto');\n",
    "\n",
    "# emg_rectconvs[0].annotations\n",
    "\n",
    "# help(emg_rectconvs[0].apply_function)\n",
    "\n",
    "# emg_rectconvs[0].apply_function()\n",
    "\n",
    "# emg_rectconvs[0].annotations.onset\n",
    "\n",
    "# emg_rectconvs[0].annotations.duration\n",
    "\n",
    "# emg_rectconvs[0].set_annotations( mne.Annotations([],[],[]) )\n",
    "\n"
   ]
  },
  {
   "cell_type": "code",
   "execution_count": null,
   "metadata": {},
   "outputs": [],
   "source": [
    "%matplotlib qt"
   ]
  },
  {
   "cell_type": "code",
   "execution_count": null,
   "metadata": {},
   "outputs": [],
   "source": [
    "emg_rectconv_ps[maintremside].plot(duration=20, scalings='auto');"
   ]
  },
  {
   "cell_type": "code",
   "execution_count": null,
   "metadata": {},
   "outputs": [],
   "source": [
    "# tasks = []\n",
    "# ivalis_pri = []\n",
    "# anns_pri = []\n",
    "\n",
    "# ivalis_tb = {}  # only bounds\n",
    "# ivalis_tb_indarrays = {}  # entire arrays\n",
    "# globend = Xtimes[-1] + nedgeBins/sfreq\n",
    "\n",
    "# tshift = 0\n",
    "# assert len(rawnames) == 1 # otherwise I need to load both rawnames, better to load anns from run_tSNE\n",
    "# for rawname_ in rawnames:\n",
    "#     subj,medcond,task  = utils.getParamsFromRawname(rawname_)\n",
    "#     tasks += [task]\n",
    "\n",
    "#     anns_fn = rawname_ + '_anns.txt'\n",
    "#     anns_fn_full = os.path.join(data_dir, anns_fn)\n",
    "#     anns = mne.read_annotations(anns_fn_full)\n",
    "#     #raw.set_annotations(anns)\n",
    "    \n",
    "#     utils.ann2ivalDict(anns)\n",
    "\n",
    "#     ivalis_cur = utils.ann2ivalDict(anns)\n",
    "#     for it in ivalis_cur:\n",
    "#         intervals = ivalis_cur[it]\n",
    "#         intervals_bins = []\n",
    "#         ivalis_tb_indarrays[it] = []\n",
    "#         for st,end,it_ in intervals:\n",
    "#             bnd0 = min(len(Xtimes)-1, st * sfreq // totskip   + windowsz // totskip -1   )\n",
    "#             bnd1 = min(len(Xtimes)-1, end *sfreq // totskip    + windowsz // totskip -1   )\n",
    "#             if bnd1 - bnd0 > 0:\n",
    "#                 intervals_bins += [(bnd0,bnd1,it_)]\n",
    "#                 ivalis_tb_indarrays[it] += [np.arange(bnd0,bnd1, dtype=int)]\n",
    "#         ivalis_tb[it] =  intervals_bins\n",
    "    \n",
    "    \n",
    "\n",
    "\n",
    "# resinds = {}\n",
    "# for an in anns:\n",
    "#     for descr in annot_colors_cur:\n",
    "#         if an['description'] != descr:\n",
    "#             continue\n",
    "#         col = annot_colors_cur[descr]\n",
    "\n",
    "#         start = an['onset']\n",
    "#         end = start + an['duration']\n",
    "\n",
    "#         timesBnds, indsBnd, sliceNames = getIntervalSurround( start,end, extend,\n",
    "#                                                             times=Xtimes)\n",
    "#         #print('indBnds in color prep ',indsBnd)\n",
    "#         for ii in range(len(indsBnd)-1 ):\n",
    "#             # do not set prestart, poststart for left recording edge\n",
    "#             if start <= nedgeBins/sfreq and ii in [0,1]:\n",
    "#                 continue\n",
    "#             # do not set preend, posted for right recording edge\n",
    "#             #globend = Xtimes_almost[-1] + nedgeBins/sfreq\n",
    "#             globend = Xtimes[-1] + nedgeBins/sfreq\n",
    "#             if  globend - end <= nedgeBins/sfreq and ii in [3,4]:\n",
    "#                 continue\n",
    "#             # window size correction because it goes _before_\n",
    "#             bnd0 = min(len(Xtimes)-1, indsBnd[ii]   + windowsz // totskip -1   )\n",
    "#             bnd1 = min(len(Xtimes)-1, indsBnd[ii+1] + windowsz // totskip -1   )\n",
    "#             #inds2 = slice( bnd0, bnd1 )\n",
    "#             inds2 = range( bnd0, bnd1 )\n",
    "\n",
    "#             #inds2 = slice( indsBnd[ii], indsBnd[ii+1] )\n",
    "#             #markers[inds2] = mrk[ii]\n",
    "\n",
    "#             for jj in inds2:\n",
    "#                 colors [jj] = col\n",
    "#                 markers[jj] = mrk[ii]"
   ]
  },
  {
   "cell_type": "markdown",
   "metadata": {},
   "source": [
    "## just test that we imported info correctly"
   ]
  },
  {
   "cell_type": "code",
   "execution_count": null,
   "metadata": {},
   "outputs": [],
   "source": [
    "#help(ax.scatter)"
   ]
  },
  {
   "cell_type": "markdown",
   "metadata": {},
   "source": [
    "## Emph some points"
   ]
  },
  {
   "cell_type": "code",
   "execution_count": null,
   "metadata": {},
   "outputs": [],
   "source": [
    "# create and add an annotation object (a text label)\n",
    "def annotate(axis, text, x, y):\n",
    "    text_annotation = Annotation(text, xy=(x, y), xycoords='data')\n",
    "    axis.add_artist(text_annotation)"
   ]
  },
  {
   "cell_type": "code",
   "execution_count": null,
   "metadata": {},
   "outputs": [],
   "source": [
    "#ivalis_tb_indarrays['trem_L'][0]"
   ]
  },
  {
   "cell_type": "code",
   "execution_count": null,
   "metadata": {},
   "outputs": [],
   "source": [
    "def emph_interval(ax, int_name,int_ind, ls='--',msz=5,msz_emph=22,\n",
    "                 lines_only=True):\n",
    "    # prepare highlight of some interval\n",
    "    emph_inds = ivalis_tb_indarrays[int_name][int_ind]\n",
    "\n",
    "    alpha_noemph = 0.5\n",
    "\n",
    "    sizes = np.array( [msz] * len(colors) )\n",
    "    sizes[emph_inds] = msz_emph\n",
    "\n",
    "    colors_rgba = utsne.colNames2Rgba(colors)\n",
    "    colors_rgba = np.vstack(colors_rgba)\n",
    "    noemph_inds = np.setdiff1d(np.arange(len(colors), ), emph_inds)\n",
    "    colors_rgba[noemph_inds,-1] = alpha_noemph\n",
    "\n",
    "#%matplotlib qt\n",
    "#%matplotlib inline\n",
    "#ax = plt.gca()\n",
    "\n",
    "    if not lines_only:\n",
    "        utsne.plotMultiMarker(ax,X_embedded[:,0], X_embedded[:,1], c = colors_rgba, s=sizes,\n",
    "                              m=markers);\n",
    "    # connect by line\n",
    "    ax.plot(X_embedded[emph_inds,0], X_embedded[emph_inds,1], lw=1, ls=ls)\n",
    "    \n"
   ]
  },
  {
   "cell_type": "code",
   "execution_count": null,
   "metadata": {},
   "outputs": [],
   "source": [
    "plt.close('all')"
   ]
  },
  {
   "cell_type": "code",
   "execution_count": null,
   "metadata": {},
   "outputs": [],
   "source": [
    "#%debug\n",
    "ax = plt.gca()\n",
    "emph_interval(ax,'trem_L',1, lines_only=0)\n",
    "ax.legend(handles=legend_elements, loc='upper right')"
   ]
  },
  {
   "cell_type": "code",
   "execution_count": null,
   "metadata": {},
   "outputs": [],
   "source": [
    "ivalis['trem_L']"
   ]
  },
  {
   "cell_type": "code",
   "execution_count": null,
   "metadata": {},
   "outputs": [],
   "source": []
  },
  {
   "cell_type": "markdown",
   "metadata": {},
   "source": [
    "## Scale channels to similar size"
   ]
  },
  {
   "cell_type": "code",
   "execution_count": null,
   "metadata": {},
   "outputs": [],
   "source": [
    "dat_emg_scaled_ = rectconv_emg.copy()\n",
    "dat_emg_scaled_ -= np.mean(dat_emg_scaled_, axis=1)[:,None]\n",
    "dat_emg_scaled_ /= (np.quantile(dat_emg_scaled_,0.95,axis=1) - np.quantile(dat_emg_scaled_,0.05,axis=1))[:,None]"
   ]
  },
  {
   "cell_type": "code",
   "execution_count": null,
   "metadata": {},
   "outputs": [],
   "source": [
    "mn = np.quantile(dat_emg_scaled_, 0.05); \n",
    "mx = np.quantile(dat_emg_scaled_,0.95); "
   ]
  },
  {
   "cell_type": "code",
   "execution_count": null,
   "metadata": {},
   "outputs": [],
   "source": [
    "emg_skip = 5\n",
    "ts_skipped = emg_rectconv.times[::emg_skip]\n",
    "dat_emg_scaled = dat_emg_scaled_[:,::emg_skip]"
   ]
  },
  {
   "cell_type": "code",
   "execution_count": null,
   "metadata": {},
   "outputs": [],
   "source": [
    "plt.plot(dat_emg_scaled.T)"
   ]
  },
  {
   "cell_type": "code",
   "execution_count": null,
   "metadata": {},
   "outputs": [],
   "source": [
    "plt.plot(dat_emg_scaled.T[:3 * 256//emg_skip])"
   ]
  },
  {
   "cell_type": "code",
   "execution_count": null,
   "metadata": {},
   "outputs": [],
   "source": []
  },
  {
   "cell_type": "code",
   "execution_count": null,
   "metadata": {},
   "outputs": [],
   "source": [
    "skip_feat"
   ]
  },
  {
   "cell_type": "code",
   "execution_count": null,
   "metadata": {},
   "outputs": [],
   "source": [
    "nedgeBins"
   ]
  },
  {
   "cell_type": "code",
   "execution_count": null,
   "metadata": {},
   "outputs": [],
   "source": [
    "dataset_bounds_uncut_bins"
   ]
  },
  {
   "cell_type": "code",
   "execution_count": null,
   "metadata": {},
   "outputs": [],
   "source": []
  },
  {
   "cell_type": "code",
   "execution_count": null,
   "metadata": {},
   "outputs": [],
   "source": [
    "def plotEMG(ax, ptind, offset = 3):\n",
    "    '''\n",
    "    offset is in sec\n",
    "    ptind -- index of feature bin\n",
    "    ''' \n",
    "    ax.cla()\n",
    "    dbbs = [(dbs// skip_feat,dbe// skip_feat) for (dbs,dbe) in dataset_bounds_uncut_bins ]\n",
    "    ptind_hole = utils.indHoleToNoHole(ptind, dbbs, \n",
    "                                            nedgeBins // skip_feat)\n",
    "    #ptind_sec = (ptind * skip_tSNE ) /  sfreq\n",
    "    #ptind_sec = (ptind_feat_hole * skip_feat ) /  sfreq\n",
    "    ptind_sec = (ptind * skip_feat ) /  sfreq\n",
    "    print('ptind sec ', ptind_sec)\n",
    "    t0,t1 = max(emg_rectconv.times[0],ptind_sec - offset), \\\n",
    "    min(ptind_sec + offset, emg_rectconv.times[-1] )\n",
    "    assert t0 <= t1, (t0,t1)\n",
    "    tb0,tb1 = emg_rectconv.time_as_index([t0,t1])\n",
    "    tb0_skip = tb0 // emg_skip\n",
    "    tb1_skip = tb1 // emg_skip\n",
    "    \n",
    "    times_toplot = ts_skipped[tb0_skip:tb1_skip]\n",
    "    \n",
    "    assert len(rectconv_emg) == 2\n",
    "\n",
    "    ax.set_title('EMG recmav time={:.2f}'.format(Xtimes[ptind] ) )\n",
    "    for ii in range(2):\n",
    "        #print('Lalalal')\n",
    "        dat = dat_emg_scaled[ii,tb0_skip:tb1_skip]\n",
    "        print(dat.shape)\n",
    "        ax.plot( times_toplot, dat , label = chnames_emg[ii])\n",
    "    \n",
    "    #print((ptind[0] * skip) / sfreq)\n",
    "    ax.axvline(x= (ptind * skip_tSNE) / sfreq, c='r', ls=':', lw=5)\n",
    "    ax.set_xlabel('time, [s]')\n",
    "\n",
    "    ax.set_ylim(mn,mx)\n",
    "    ax.set_xlim(t0,t1)\n",
    "    ax.legend(loc='lower left')\n",
    "    ax.fill_between([ptind_sec-windowsz/sfreq, ptind_sec], \n",
    "                    [mn,mn], [mx,mx], color='r',alpha=0.2)\n",
    "    \n",
    "ax = plt.gca()\n",
    "ptind = int( ivalis['trem_L'][0][1] * sfreq / skip_feat )\n",
    "plotEMG(ax, ptind, 10)\n",
    "#plotEMG(ax, ptind, 5)\n",
    "#plotEMG(ax, ptind)\n"
   ]
  },
  {
   "cell_type": "code",
   "execution_count": null,
   "metadata": {},
   "outputs": [],
   "source": [
    "ax = plt.gca()\n",
    "plotEMG(ax, (40*256)//skip_tSNE)"
   ]
  },
  {
   "cell_type": "code",
   "execution_count": null,
   "metadata": {},
   "outputs": [],
   "source": [
    "#help(ax.fill_between)"
   ]
  },
  {
   "cell_type": "code",
   "execution_count": null,
   "metadata": {},
   "outputs": [],
   "source": [
    "#300 * 45  /256"
   ]
  },
  {
   "cell_type": "code",
   "execution_count": null,
   "metadata": {},
   "outputs": [],
   "source": [
    "#X_embedded"
   ]
  },
  {
   "cell_type": "code",
   "execution_count": null,
   "metadata": {},
   "outputs": [],
   "source": []
  },
  {
   "cell_type": "markdown",
   "metadata": {},
   "source": [
    "# Plot interactive scatter"
   ]
  },
  {
   "cell_type": "code",
   "execution_count": null,
   "metadata": {},
   "outputs": [],
   "source": [
    "%matplotlib qt"
   ]
  },
  {
   "cell_type": "code",
   "execution_count": null,
   "metadata": {},
   "outputs": [],
   "source": [
    "feature_names_all_mod"
   ]
  },
  {
   "cell_type": "code",
   "execution_count": null,
   "metadata": {},
   "outputs": [],
   "source": [
    "help(ax.remove)"
   ]
  },
  {
   "cell_type": "code",
   "execution_count": null,
   "metadata": {},
   "outputs": [],
   "source": [
    "#global gxlabels_were_set\n",
    "#gxlabels_were_set = 0\n",
    "def plotPtInfo(axEMG,axFeat,trueInd, show_labels='strong', qstrong=0.95):\n",
    "    '''\n",
    "    trueInd -- index of feature bin\n",
    "    '''\n",
    "    if axEMG is not None:\n",
    "        plotEMG(axEMG,trueInd)\n",
    "    \n",
    "    if axFeat is not None:\n",
    "        dat = X[trueInd * (skip_tSNE//skip_feat)]\n",
    "        \n",
    "        axFeat.cla()\n",
    "        axFeat.set_title('Feat time={:.2f}'.format(Xtimes[trueInd] ) )\n",
    "        axFeat.plot(dat)\n",
    "        \n",
    "        dd = np.abs(dat )\n",
    "        q = np.quantile(dd,qstrong)\n",
    "        strongInds = np.where( dd  > q ) [0]\n",
    "        strongestInd = np.argmax(dd)\n",
    "        ax.axhline(y=q, c='purple', ls=':')\n",
    "        ax.axhline(y=-q, c='purple', ls=':')\n",
    "        \n",
    "        #global gxlabels_were_set\n",
    "        #if not gxlabels_were_set:\n",
    "        if show_labels != 'none':\n",
    "            axFeat.set_xticks(range(len(feature_names_all)))\n",
    "            if show_labels == 'all':\n",
    "                axFeat.set_xticklabels(feature_names_all_mod,rotation=90)\n",
    "            if show_labels == 'strong':\n",
    "                tl = np.array( feature_names_all_mod[:] )\n",
    "                inds_ = set(np.arange(len(feature_names_all))) - set(strongInds)\n",
    "                inds_ = list(inds_)\n",
    "                tl[ inds_ ] = ''\n",
    "                axFeat.set_xticklabels(tl,rotation=90)\n",
    "\n",
    "\n",
    "            tls = axFeat.get_xticklabels()\n",
    "            if len(tls):\n",
    "                for i in strongInds:\n",
    "                    tls[i].set_color(\"red\")\n",
    "                tls[strongestInd].set_color(\"blue\")\n",
    "                \n",
    "        axFeat.set_xlim(0, len(feature_names_all)-1 )\n",
    "        axFeat.set_ylim(-1.5,1.5)\n",
    "        axFeat.axhline(y=0, c='r', ls=':')\n",
    "\n",
    "        \n",
    "#         if show_labels == 'strong':\n",
    "#             axFeat.set_xticks(range(len(strongInds)))\n",
    "#             axFeat.set_xticklabels(np.array(feature_names_all_mod)[strongInds],rotation=90)\n",
    "            \n",
    "#             tls = axFeat.get_xticklabels()\n",
    "#             if len(tls):\n",
    "#                 si = list(strongInds).index(strongestInd)\n",
    "#                 tls[si].set_color(\"blue\")\n",
    "\n",
    "%matplotlib qt\n",
    "\n",
    "nr = 1; nc=2\n",
    "assert nr > 0,  'Nothing was selected'\n",
    "ww = 15; hh = 3\n",
    "fig,axs = plt.subplots(nrows=nr, ncols=nc, figsize= (nc*ww,nr*hh), sharex='none'\n",
    "                       , gridspec_kw={'width_ratios': [1, 3]})\n",
    "axs = axs.reshape((nr,nc))\n",
    "#%debug\n",
    "for i,trueInd in enumerate([10]): #  [:1]):\n",
    "    axEMG = axs[i,0]\n",
    "    axFeat = axs[i,1]\n",
    "    plotPtInfo(axEMG,axFeat,trueInd,qstrong=0.99)#, show_labels='none')\n",
    "#     if i != len(selected) -1:\n",
    "#         axFeat.set_xticklabels(['']*len(feature_names_all_mod))\n",
    "\n",
    "plt.tight_layout()"
   ]
  },
  {
   "cell_type": "code",
   "execution_count": null,
   "metadata": {},
   "outputs": [],
   "source": [
    "%matplotlib qt"
   ]
  },
  {
   "cell_type": "code",
   "execution_count": null,
   "metadata": {},
   "outputs": [],
   "source": [
    "#markers == '^'"
   ]
  },
  {
   "cell_type": "code",
   "execution_count": null,
   "metadata": {},
   "outputs": [],
   "source": [
    "for i in range(len(colors)):\n",
    "    if colors[i] == 'g' and markers[i] in ['^', 'v', '>', '<']:\n",
    "        markers[i] = 'o'"
   ]
  },
  {
   "cell_type": "markdown",
   "metadata": {},
   "source": [
    "## Finally plot"
   ]
  },
  {
   "cell_type": "code",
   "execution_count": null,
   "metadata": {},
   "outputs": [],
   "source": [
    "len(X_embedded)"
   ]
  },
  {
   "cell_type": "code",
   "execution_count": null,
   "metadata": {},
   "outputs": [],
   "source": [
    "len(colors)"
   ]
  },
  {
   "cell_type": "code",
   "execution_count": null,
   "metadata": {},
   "outputs": [],
   "source": [
    "len(markers)"
   ]
  },
  {
   "cell_type": "code",
   "execution_count": null,
   "metadata": {},
   "outputs": [],
   "source": [
    "show_feat_info = 1\n",
    "show_emg_info = 1\n",
    "show_time_as_ptlabel = 1\n",
    "show_all_pts_under_cursor = 0\n",
    "ind_offset = 5    # how many neighbors to mark\n",
    "\n",
    "fig,axs = plt.subplots(nrows=3, ncols=1, figsize=(20, 25), gridspec_kw={'height_ratios': [5, 1, 1]})\n",
    "plt.subplots_adjust(bottom=0.22,top=0.99,left=0.03,right=0.99)\n",
    "axScat = axs[0]; axEMG = axs[1]; axFeat = axs[2]\n",
    "\n",
    "if show_emg_info:\n",
    "    a1 = axEMG \n",
    "else: \n",
    "    a1 = None\n",
    "\n",
    "if show_feat_info:\n",
    "    a2 = axFeat\n",
    "else:\n",
    "    a2 = None\n",
    "\n",
    "msz_normal = 25\n",
    "#msz_normal = 40\n",
    "\n",
    "custom_marker_size = {'^':msz_normal*3, '<':msz_normal*3}\n",
    "    \n",
    "def draw_scatterplot():\n",
    "    # since I I use multiple marker types, I have to make several separate scatter plots\n",
    "    # it gives separates \"artists\" which makes indexing more confusing, \n",
    "    # so I have to save the outcome for future use\n",
    "    r = utsne.plotMultiMarker(axScat,X_embedded[:,0], X_embedded[:,1], \n",
    "                              c = colors, s=msz_normal,\n",
    "                      m=markers, picker=True, \n",
    "                              custom_marker_size = custom_marker_size)\n",
    "    axScat.legend(handles=legend_elements, loc='upper left')\n",
    "    return r\n",
    "\n",
    "# draw the initial scatterplot\n",
    "global markerset,resinds,scs\n",
    "markerset,resinds,scs = draw_scatterplot()\n",
    "\n",
    "global selected, selected_all_info\n",
    "selected = []; selected_all_info = []\n",
    "\n",
    "# define the behaviour -> what happens when you pick a dot on the scatterplot by clicking close to it\n",
    "def onpick(event):\n",
    "    global selected, resinds, scs, selected_all_info\n",
    "    offset = 0  # offset in putting labels\n",
    "    ptinds = event.ind\n",
    "    \n",
    "    trueInds = []\n",
    "    for ptind in ptinds:\n",
    "        artistInd = scs.index(event.artist)\n",
    "        trueInds += [ resinds[artistInd] [ptind] ] \n",
    "\n",
    "    selected_all_info += [(event, resinds, ptinds, scs)]\n",
    "    # step 2: save the actual coordinates of the click, so we can position the text label properly\n",
    "    click_pos_x = event.mouseevent.xdata\n",
    "    click_pos_y = event.mouseevent.ydata\n",
    "    \n",
    "    trueInd = trueInds[0]\n",
    "    #selected += trueInds\n",
    "    selected += [trueInd]\n",
    "    \n",
    "    x,y = X_embedded[trueInd,:]\n",
    "    xerr = abs(x - click_pos_x)\n",
    "    yerr = abs(y - click_pos_y)\n",
    "    #print('{}(true={}): errs=({:.2f},{:.2f})'.format(ptind,trueInd, xerr,yerr) )\n",
    "    \n",
    "    print('true ind={}: X_emb=({:.2f},{:.2f})'.\n",
    "          format(trueInd,x,y) )\n",
    "\n",
    "    plotPtInfo(a1,a2,trueInd)\n",
    "\n",
    "    if show_all_pts_under_cursor:\n",
    "        inds_pts_to_surrond = trueInds\n",
    "    else:\n",
    "        inds_pts_to_surrond = [trueInd]\n",
    "    # if the dots are to close one to another, a list of dots clicked is returned by the matplotlib library\n",
    "    for i in inds_pts_to_surrond:\n",
    "        if ind_offset == 0:\n",
    "            inds_range = [i]\n",
    "        else:\n",
    "            inds_range = range( max(0,i-ind_offset), min(i+ind_offset, (X_embedded.shape[0])-1  ) )\n",
    "        \n",
    "        for ind_cur in inds_range:\n",
    "            time_cur = Xtimes[ind_cur]\n",
    "            \n",
    "            if show_time_as_ptlabel:\n",
    "                lbl_content = time_cur\n",
    "            else:\n",
    "                lbl_content = ind_cur\n",
    "                \n",
    "            if ind_cur == i:\n",
    "                #label = '!!{}'.format(label0)\n",
    "                label = '!!{:.1f}'.format(lbl_content)\n",
    "            else:\n",
    "                label = '{:.1f}'.format(lbl_content)\n",
    "                #label = '{}->{}'.format(i,ind_cur)#.format(label0, generated_labels[ind_cur] )\n",
    "\n",
    "            x,y = X_embedded[ind_cur,:]\n",
    "            annotate(axScat,label, x + offset, y + offset)\n",
    "\n",
    "        # step 6: force re-draw\n",
    "        axScat.figure.canvas.draw_idle()\n",
    "\n",
    "fig.canvas.mpl_connect('pick_event', onpick)\n",
    "\n",
    "def onclick_clearall(event):\n",
    "    # step 1: we clear all artist object of the scatter plot\n",
    "    for ax in axs:\n",
    "        ax.cla()\n",
    "\n",
    "    global markerset,resinds,scs, selected\n",
    "    markerset,resinds,scs = draw_scatterplot()\n",
    "    ax.figure.canvas.draw_idle()\n",
    "    selected = []\n",
    "\n",
    "bt_width = 0.1\n",
    "bt_height = 0.025\n",
    "# create the \"clear all\" button, and place it somewhere on the screen\n",
    "ax_clear_all = plt.axes([0.0, 0.0, 0.1, bt_height])\n",
    "button_clear_all = Button(ax_clear_all, 'Clear all')\n",
    "# link the event handler function to the click event on the button\n",
    "button_clear_all.on_clicked(onclick_clearall)\n",
    "\n",
    "\n",
    "int_type = 'trem_L' \n",
    "vshift = bt_height/10\n",
    "nints = len(ivalis_tb_indarrays[int_type] )\n",
    "# funs = [0]*nints\n",
    "# for int_ind in range(nints ):\n",
    "#     emph_interval(axScat,int_type,int_ind, lines_only=1)\n",
    "    \n",
    "#     ax_trem_show = plt.axes([1.0-bt_width, (bt_height + vshift) *int_ind ,\n",
    "#                              bt_width, bt_height])\n",
    "#     #int_ind = 0\n",
    "#     button_trem_cur = Button(ax_trem_show, '{}_{}'.format(int_type,int_ind))\n",
    "#     onclick_bttrem = lambda event: emph_interval(axScat,int_type,int_ind, \n",
    "#                                                  msz_emph=msz_normal*2)\n",
    "#     funs[int_ind] = onclick_bttrem\n",
    "#     #fun = lambda x: print('ffd')\n",
    "#     # def onclick_bttrem(event):\n",
    "#     #     emph_interval(axScat,int_type,int_ind)\n",
    "#     #     print('fdfd')\n",
    "#     button_trem_cur.on_clicked(funs[int_ind])\n",
    "from matplotlib.widgets import TextBox\n",
    "ax_trem_show = plt.axes([1.0-bt_width-3e-3, (bt_height + vshift) *0 + 1e-3,\n",
    "                              bt_width, bt_height])\n",
    "text_box = TextBox(ax_trem_show, '{} ind (< {})'.format(int_type,nints), initial='')\n",
    "def submit(text): \n",
    "    emph_interval(axScat,int_type,int(text), msz_emph=msz_normal*2)\n",
    "    plt.draw()\n",
    "text_box.on_submit(submit)\n",
    "    \n",
    "\n",
    "plt.plot()\n",
    "print(\"scatterplot done\")\n",
    "plt.show()"
   ]
  },
  {
   "cell_type": "code",
   "execution_count": null,
   "metadata": {},
   "outputs": [],
   "source": [
    "ivalis['trem_L']"
   ]
  },
  {
   "cell_type": "code",
   "execution_count": null,
   "metadata": {},
   "outputs": [],
   "source": [
    "selected"
   ]
  },
  {
   "cell_type": "code",
   "execution_count": null,
   "metadata": {},
   "outputs": [],
   "source": [
    "(event, resinds, ptinds,scs) = selected_all_info[0]"
   ]
  },
  {
   "cell_type": "code",
   "execution_count": null,
   "metadata": {},
   "outputs": [],
   "source": [
    "event.__dict__"
   ]
  },
  {
   "cell_type": "code",
   "execution_count": null,
   "metadata": {},
   "outputs": [],
   "source": [
    "print(scs.index(event.artist))\n",
    "scs"
   ]
  },
  {
   "cell_type": "code",
   "execution_count": null,
   "metadata": {},
   "outputs": [],
   "source": [
    "print(len(X_embedded),len(X))"
   ]
  },
  {
   "cell_type": "code",
   "execution_count": null,
   "metadata": {},
   "outputs": [],
   "source": [
    "resinds"
   ]
  },
  {
   "cell_type": "code",
   "execution_count": null,
   "metadata": {},
   "outputs": [],
   "source": [
    "# for ptind in ptinds:\n",
    "#     artistInd = scs.index(event.artist)\n",
    "#     trueInds += [ resinds[artistInd] [ptind] ] \n",
    "\n",
    "# selected_all_info += [(event, resinds, ptinds)]"
   ]
  },
  {
   "cell_type": "code",
   "execution_count": null,
   "metadata": {},
   "outputs": [],
   "source": []
  },
  {
   "cell_type": "code",
   "execution_count": null,
   "metadata": {},
   "outputs": [],
   "source": [
    "%matplotlib qt\n",
    "\n",
    "nr = len(selected); nc=2\n",
    "assert nr > 0,  'Nothing was selected'\n",
    "ww = 15; hh = 3\n",
    "fig,axs = plt.subplots(nrows=nr, ncols=nc, figsize= (nc*ww,nr*hh), sharex='none'\n",
    "                       , gridspec_kw={'width_ratios': [1, 3]})\n",
    "axs = axs.reshape((nr,nc))\n",
    "#%debug\n",
    "for i,trueInd in enumerate(selected): #  [:1]):\n",
    "    axEMG = axs[i,0]\n",
    "    axFeat = axs[i,1]\n",
    "    plotPtInfo(axEMG,axFeat,trueInd,qstrong=0.99)#, show_labels='none')\n",
    "    if i != len(selected) -1:\n",
    "        axFeat.set_xticklabels(['']*len(feature_names_all_mod))\n",
    "\n",
    "plt.tight_layout()"
   ]
  },
  {
   "cell_type": "code",
   "execution_count": null,
   "metadata": {},
   "outputs": [],
   "source": [
    "skip_tSNE"
   ]
  },
  {
   "cell_type": "code",
   "execution_count": null,
   "metadata": {},
   "outputs": [],
   "source": [
    "skip_feat"
   ]
  },
  {
   "cell_type": "code",
   "execution_count": null,
   "metadata": {},
   "outputs": [],
   "source": []
  }
 ],
 "metadata": {
  "kernelspec": {
   "display_name": "Python 3",
   "language": "python",
   "name": "python3"
  },
  "language_info": {
   "codemirror_mode": {
    "name": "ipython",
    "version": 3
   },
   "file_extension": ".py",
   "mimetype": "text/x-python",
   "name": "python",
   "nbconvert_exporter": "python",
   "pygments_lexer": "ipython3",
   "version": "3.6.9"
  },
  "varInspector": {
   "cols": {
    "lenName": 16,
    "lenType": 16,
    "lenVar": 40
   },
   "kernels_config": {
    "python": {
     "delete_cmd_postfix": "",
     "delete_cmd_prefix": "del ",
     "library": "var_list.py",
     "varRefreshCmd": "print(var_dic_list())"
    },
    "r": {
     "delete_cmd_postfix": ") ",
     "delete_cmd_prefix": "rm(",
     "library": "var_list.r",
     "varRefreshCmd": "cat(var_dic_list()) "
    }
   },
   "types_to_exclude": [
    "module",
    "function",
    "builtin_function_or_method",
    "instance",
    "_Feature"
   ],
   "window_display": false
  }
 },
 "nbformat": 4,
 "nbformat_minor": 2
}
