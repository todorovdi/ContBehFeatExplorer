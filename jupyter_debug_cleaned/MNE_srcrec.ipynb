{
 "cells": [
  {
   "cell_type": "code",
   "execution_count": null,
   "id": "47bdf2e4",
   "metadata": {},
   "outputs": [],
   "source": [
    "%matplotlib qt\n",
    "%load_ext autoreload\n",
    "%autoreload 2\n",
    "\n",
    "from os.path import join as pjoin\n",
    "import mne\n",
    "\n",
    "import globvars as gv\n",
    "gp = gv.gp\n",
    "\n",
    "#rawname = '_S011_OFF_01_anon_crop'\n",
    "data_path = os.path.expandvars('$HOME/hhuc_gpfs/project/todorov/ai200/rawdata_copy')\n",
    "#fname_full_raw = pjoin(  hhuc_path, rawname+'.fif')\n",
    "#data_path = os.path.expandvars('$HOME/data')\n",
    "\n",
    "\n",
    "subj_mri = 'S04'\n",
    "s = gp.subj_corresp['my2hilbert'][subj_mri]\n",
    "rawname = f\"{s}_OFF_01_anon.fif\"\n",
    "\n",
    "fname_full_raw = pjoin(  data_path, rawname)\n",
    "freesurfer_subj_dir = os.path.expandvars('$HOME/data/subjects')\n",
    "raw = mne.io.read_raw(fname_full_raw, on_split_missing='ignore')\n",
    "\n",
    "import os.path as op\n",
    "import mne\n",
    "mne.viz.set_3d_backend('pyvistaqt')\n",
    "\n",
    "#sample_path = mne.datasets.sample.data_path()\n",
    "#subjects_dir = op.join(sample_path, 'subjects')\n",
    "# fname_evoked = op.join(sample_path, 'MEG', 'sample', 'sample_audvis-ave.fif')\n",
    "# fname_inv = op.join(sample_path, 'MEG', 'sample',\n",
    "#                     'sample_audvis-meg-oct-6-meg-inv.fif')\n",
    "#fname_trans = op.join(sample_path, 'MEG', 'sample',\n",
    "#                       'sample_audvis_raw-trans.fif')\n",
    "# inv = mne.minimum_norm.read_inverse_operator(fname_inv)\n",
    "# evoked = mne.read_evokeds(fname_evoked, baseline=(None, 0),\n",
    "#                           proj=True, verbose=False, condition='Left Auditory')\n",
    "# maps = mne.make_field_map(evoked, trans=fname_trans, ch_type='meg',\n",
    "#                           subject='sample', subjects_dir=subjects_dir)\n",
    "                      \n",
    "fname_trans = op.join(freesurfer_subj_dir, subj_mri + '_transform.fif')                      \n",
    "time = 0.083\n",
    "\n",
    "#identity_trans = mne.transforms.Transform('head', 'mri')\n",
    "\n",
    "fig = mne.viz.create_3d_figure((256, 256))\n",
    "mne.viz.plot_alignment(\n",
    "    raw.info, subject=subj_mri, subjects_dir=freesurfer_subj_dir, fig=fig,\n",
    "    meg='sensors', eeg=False, surfaces='head', trans=fname_trans,\n",
    "    coord_frame='meg')\n",
    "    #trans = raw.info['dev_head_t'],\n",
    "    #, trans=coreg.trans)  #surfaces='pial')\n",
    "    #, trans=identity_trans,     coord_frame='mri')\n",
    "#'head-dense'\n",
    "#trans=fname_trans,\n",
    "#evoked.plot_field(maps, time=time, fig=fig, time_label=None, vmax=5e-13)\n",
    "mne.viz.set_3d_view(\n",
    "    fig, azimuth=40, elevation=87, focalpoint=(0., -0.01, 0.04), roll=-25,\n",
    "    distance=0.55)"
   ]
  },
  {
   "cell_type": "code",
   "execution_count": null,
   "id": "68f6b33f",
   "metadata": {},
   "outputs": [],
   "source": [
    "gp.subj_corresp['my2motzkin']"
   ]
  },
  {
   "cell_type": "code",
   "execution_count": null,
   "id": "2e06d3be",
   "metadata": {},
   "outputs": [],
   "source": [
    "raw.info['dev_head_t']"
   ]
  },
  {
   "cell_type": "code",
   "execution_count": null,
   "id": "d536aa55",
   "metadata": {},
   "outputs": [],
   "source": [
    "chpi_amplitudes = mne.chpi.compute_chpi_amplitudes(raw)\n",
    "chpi_amplitudes\n",
    "chpi_locs = mne.chpi.compute_chpi_locs(raw.info, chpi_amplitudes)\n",
    "head_pos = mne.chpi.compute_head_pos(raw.info, chpi_locs, verbose=True)\n",
    "if len(head_pos):\n",
    "    mne.viz.plot_head_positions(head_pos, mode='traces')\n",
    "if len(head_pos):\n",
    "    mne.viz.plot_head_positions(head_pos, mode='field')"
   ]
  },
  {
   "cell_type": "code",
   "execution_count": null,
   "id": "155a04b4",
   "metadata": {},
   "outputs": [],
   "source": [
    "#raw.info['hpi_meas']"
   ]
  },
  {
   "cell_type": "code",
   "execution_count": null,
   "id": "7985010e",
   "metadata": {},
   "outputs": [],
   "source": [
    "from mne.coreg import Coregistration\n",
    "fiducials = \"estimated\"  # get fiducials from fsaverage\n",
    "coreg = Coregistration(raw.info, subj_mri, freesurfer_subj_dir, fiducials=fiducials)"
   ]
  },
  {
   "cell_type": "code",
   "execution_count": null,
   "id": "7733b446",
   "metadata": {},
   "outputs": [],
   "source": [
    "mne.__version__"
   ]
  },
  {
   "cell_type": "code",
   "execution_count": null,
   "id": "c1b0ec65",
   "metadata": {},
   "outputs": [],
   "source": [
    "#raw.info['helium_inf']"
   ]
  },
  {
   "cell_type": "code",
   "execution_count": null,
   "id": "5960e95a",
   "metadata": {},
   "outputs": [],
   "source": []
  },
  {
   "cell_type": "code",
   "execution_count": null,
   "id": "5b605b7e",
   "metadata": {},
   "outputs": [],
   "source": []
  },
  {
   "cell_type": "code",
   "execution_count": null,
   "id": "ae784dc6",
   "metadata": {},
   "outputs": [],
   "source": [
    "fiducials = mne.coreg.get_mni_fiducials(subj_mri, subjects_dir=freesurfer_subj_dir)"
   ]
  },
  {
   "cell_type": "code",
   "execution_count": null,
   "id": "9915283d",
   "metadata": {},
   "outputs": [],
   "source": [
    "fiducials"
   ]
  },
  {
   "cell_type": "code",
   "execution_count": null,
   "id": "65694e18",
   "metadata": {},
   "outputs": [],
   "source": []
  },
  {
   "cell_type": "code",
   "execution_count": null,
   "id": "3e744faa",
   "metadata": {},
   "outputs": [],
   "source": [
    "raw.info['dig']"
   ]
  },
  {
   "cell_type": "code",
   "execution_count": null,
   "id": "c95ad562",
   "metadata": {},
   "outputs": [],
   "source": [
    "#To convert from head coordinate frame to voxels, \n",
    "#we first apply the head → MRI (surface RAS) transform \n",
    "#from a trans file (typically created with the MNE-Python coregistration GUI), \n",
    "#then convert meters → millimeters, and finally apply the inverse of Torig\n",
    "#to get to voxels."
   ]
  },
  {
   "cell_type": "code",
   "execution_count": null,
   "id": "9cce9e01",
   "metadata": {},
   "outputs": [],
   "source": []
  },
  {
   "cell_type": "markdown",
   "id": "6b2c94fe",
   "metadata": {},
   "source": [
    "https://mne.tools/stable/auto_tutorials/forward/50_background_freesurfer_mne.html\n",
    "https://mne.tools/stable/overview/implementation.html#coordinate-systems\n",
    "\n",
    "\n"
   ]
  }
 ],
 "metadata": {
  "kernelspec": {
   "display_name": "Python 3 (ipykernel)",
   "language": "python",
   "name": "python3"
  },
  "language_info": {
   "codemirror_mode": {
    "name": "ipython",
    "version": 3
   },
   "file_extension": ".py",
   "mimetype": "text/x-python",
   "name": "python",
   "nbconvert_exporter": "python",
   "pygments_lexer": "ipython3",
   "version": "3.8.13"
  }
 },
 "nbformat": 4,
 "nbformat_minor": 5
}
