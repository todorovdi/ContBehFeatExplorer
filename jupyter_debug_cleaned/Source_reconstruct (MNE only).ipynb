{
 "cells": [
  {
   "cell_type": "code",
   "execution_count": null,
   "metadata": {},
   "outputs": [],
   "source": [
    "list ( set([1,2,3]) - set([2]) )"
   ]
  },
  {
   "cell_type": "code",
   "execution_count": null,
   "metadata": {},
   "outputs": [],
   "source": [
    "# data_dir = '/home/demitau/data_duss'\n",
    "# !DATA_DUSS=$data_dir"
   ]
  },
  {
   "cell_type": "code",
   "execution_count": null,
   "metadata": {},
   "outputs": [],
   "source": []
  },
  {
   "cell_type": "code",
   "execution_count": null,
   "metadata": {},
   "outputs": [],
   "source": [
    "from os.path import join as pjoin\n",
    "\n",
    "import mne\n",
    "import os,sys\n",
    "\n",
    "import os,sys\n",
    "sys.path.append('/home/demitau/ownCloud/Current/NeuroSci/MSCA_sci/code/data_proc')\n",
    "subjects_dir = os.path.expandvars('$SUBJECTS_DIR')\n",
    "from globvars import data_dir\n",
    "\n",
    "# if os.environ.get('DATA_DUSS') is not None:\n",
    "#     data_dir = os.path.expandvars('$DATA_DUSS')\n",
    "# else:\n",
    "#     data_dir = '/home/demitau/data'\n",
    "    \n",
    "raws = {}\n",
    "\n",
    "rawnames = ['S01_off_hold', 'S01_on_hold']; data_type = 'hold'\n",
    "#fnames_noext = ['S01_off_move', 'S01_on_move']; data_type = 'move'\n",
    "for rawname in rawnames:\n",
    "    #fname = rawname + '_hires-raw.fif'\n",
    "    fname = rawname + '_resample_notch_raw.fif'\n",
    "    print(fname)\n",
    "    fname_full = os.path.join(data_dir,fname)\n",
    "    if not os.path.exists(fname_full):\n",
    "        print('Warning: path does not exist! {}'.format(fname_full))\n",
    "        continue\n",
    "\n",
    "#fname = 'S01_off_hold.mat'\n",
    "    f = mne.io.read_raw_fif(fname_full, None)\n",
    "    \n",
    "    raws[rawname] = f "
   ]
  },
  {
   "cell_type": "code",
   "execution_count": null,
   "metadata": {},
   "outputs": [],
   "source": [
    "from autoreject import AutoReject,get_rejection_threshold,Ransac\n",
    "ar = AutoReject()\n",
    "# epochs_clean = ar.fit_transform(epochs)  \n",
    "# reject = get_rejection_threshold(epochs)  \n",
    "# rsc = Ransac()\n",
    "# epochs_clean = rsc.fit_transform(epochs)  \n",
    "\n",
    "# ar.fit_transform?\n",
    "\n",
    "# AutoReject?"
   ]
  },
  {
   "cell_type": "code",
   "execution_count": null,
   "metadata": {},
   "outputs": [],
   "source": [
    "totnbins = 300 * 256 \n",
    "3 / totnbins"
   ]
  },
  {
   "cell_type": "code",
   "execution_count": null,
   "metadata": {},
   "outputs": [],
   "source": [
    "1e-3 * totnbins"
   ]
  },
  {
   "cell_type": "code",
   "execution_count": null,
   "metadata": {},
   "outputs": [],
   "source": [
    "fine_cal_file = os.path.join(data_dir, 'sss_cal.dat')\n",
    "crosstalk_file = os.path.join(data_dir,  'ct_sparse.fif')\n",
    "\n",
    "raw = raws['S01_on_hold']\n",
    "raw_sss = mne.preprocessing.maxwell_filter(raw , cross_talk=crosstalk_file,\n",
    "                                           calibration=fine_cal_file, coord_frame='meg')"
   ]
  },
  {
   "cell_type": "code",
   "execution_count": null,
   "metadata": {},
   "outputs": [],
   "source": [
    "data_type = ''\n",
    "move_found = 0\n",
    "hold_found = 0\n",
    "for k in raws.keys():\n",
    "    if k.find('move') >= 0:\n",
    "        move_found = 1\n",
    "    elif k.find('hold') >= 0:\n",
    "        hold_found = 1\n",
    "        \n",
    "if move_found:\n",
    "    if hold_found:\n",
    "        data_type = 'mix'\n",
    "    else:\n",
    "        data_type = 'move'\n",
    "else:\n",
    "    data_type = 'hold'\n",
    "\n",
    "print(data_type)"
   ]
  },
  {
   "cell_type": "code",
   "execution_count": null,
   "metadata": {},
   "outputs": [],
   "source": [
    "info = f.info\n",
    "chnames = info['ch_names']\n",
    "#print(chnames)\n",
    "\n",
    "emg_inds = [i for i,s in enumerate(f.info['ch_names']) if 0 <= s.find('EMG') ]\n",
    "emgkil_inds = [i for i,s in enumerate(f.info['ch_names']) if 0 <= s.find('_kil') ]\n",
    "lfp_inds = [i for i,s in enumerate(f.info['ch_names']) if 0 <= s.find('LFP') ]\n",
    "lfpl_inds = [i for i,s in enumerate(f.info['ch_names']) if 0 <= s.find('LFPL') ]  # left STN LFP\n",
    "lfpr_inds = [i for i,s in enumerate(f.info['ch_names']) if 0 <= s.find('LFPR') ]  # right STN LFP\n",
    "eye_vert_name = 'EOG127'\n",
    "eye_hor_name = 'EOG128'\n",
    "eog_inds = [i for i,s in enumerate(chnames) if 0 <= s.find('EOG') ]\n",
    "right_edc = 'EMG061'\n",
    "right_fds = 'EMG062'\n",
    "left_edc = 'EMG063'\n",
    "left_fds = 'EMG064'"
   ]
  },
  {
   "cell_type": "markdown",
   "metadata": {
    "heading_collapsed": true
   },
   "source": [
    "## playing with grids"
   ]
  },
  {
   "cell_type": "code",
   "execution_count": null,
   "metadata": {
    "hidden": true
   },
   "outputs": [],
   "source": [
    "import pymatreader as pym\n",
    "import pandas as pd\n",
    "#head_fname = os.path.join(data_dir, 'headmodel_grid_S01.mat')\n",
    "head_fname = os.path.join(data_dir, 'Hilbert_headmodels', 's011.mat')\n",
    "\n",
    "#head = pd.read_hdf(head_fname)\n",
    "\n",
    "##import h5py\n",
    "#fhead = h5py.File(head_fname )\n",
    "fhead =  pym.read_mat(head_fname)\n",
    "\n",
    "import numpy as np"
   ]
  },
  {
   "cell_type": "code",
   "execution_count": null,
   "metadata": {
    "hidden": true
   },
   "outputs": [],
   "source": [
    "def makeStr(smth):\n",
    "    yy = list ( smth )\n",
    "    a = map( lambda x:  chr(x[0]) , yy)    \n",
    "    return ''.join(a)      "
   ]
  },
  {
   "cell_type": "code",
   "execution_count": null,
   "metadata": {
    "hidden": true
   },
   "outputs": [],
   "source": [
    "#dict(fhead )"
   ]
  },
  {
   "cell_type": "code",
   "execution_count": null,
   "metadata": {
    "hidden": true
   },
   "outputs": [],
   "source": [
    "refs = dict( fhead['#refs#'] )\n",
    "print( refs )\n",
    "makeStr( refs['b'] )"
   ]
  },
  {
   "cell_type": "code",
   "execution_count": null,
   "metadata": {
    "hidden": true
   },
   "outputs": [],
   "source": [
    "fhead['hdm'].keys()"
   ]
  },
  {
   "cell_type": "code",
   "execution_count": null,
   "metadata": {
    "hidden": true
   },
   "outputs": [],
   "source": [
    "print( makeStr(fhead['hdm']['type'] ) )\n",
    "print( makeStr (fhead['hdm']['unit'] )  )"
   ]
  },
  {
   "cell_type": "code",
   "execution_count": null,
   "metadata": {
    "hidden": true
   },
   "outputs": [],
   "source": [
    "for k,v in fhead.items():\n",
    "    print(k)"
   ]
  },
  {
   "cell_type": "code",
   "execution_count": null,
   "metadata": {
    "hidden": true
   },
   "outputs": [],
   "source": [
    "dict(fhead['hdm']['bnd'] )"
   ]
  },
  {
   "cell_type": "code",
   "execution_count": null,
   "metadata": {
    "hidden": true
   },
   "outputs": [],
   "source": [
    "dict( fhead['hdm']['bnd']['cfg'] )"
   ]
  },
  {
   "cell_type": "code",
   "execution_count": null,
   "metadata": {
    "hidden": true
   },
   "outputs": [],
   "source": [
    "pos = np.array( fhead['hdm']['bnd']['pos']  )\n",
    "print(pos.shape, pos)"
   ]
  },
  {
   "cell_type": "code",
   "execution_count": null,
   "metadata": {
    "hidden": true
   },
   "outputs": [],
   "source": [
    "tri = np.array( fhead['hdm']['bnd']['tri']  )\n",
    "print(pos.shape, pos)"
   ]
  },
  {
   "cell_type": "code",
   "execution_count": null,
   "metadata": {
    "hidden": true
   },
   "outputs": [],
   "source": [
    "dict( fhead['hdm']['bnd']['cfg']['callinfo'] )"
   ]
  },
  {
   "cell_type": "code",
   "execution_count": null,
   "metadata": {
    "hidden": true
   },
   "outputs": [],
   "source": [
    "fhead['hdm']['bnd']['pos']"
   ]
  },
  {
   "cell_type": "code",
   "execution_count": null,
   "metadata": {
    "hidden": true
   },
   "outputs": [],
   "source": [
    "tri_ = np.array( fhead['hdm']['bnd']['tri'] , dtype=np.int)\n",
    "tri = tri_ - 1 #matlab 2 python\n",
    "print(tri.shape, tri)"
   ]
  },
  {
   "cell_type": "code",
   "execution_count": null,
   "metadata": {
    "hidden": true
   },
   "outputs": [],
   "source": [
    "fhead['mni_aligned_grid'].keys()"
   ]
  },
  {
   "cell_type": "code",
   "execution_count": null,
   "metadata": {
    "hidden": true
   },
   "outputs": [],
   "source": [
    "dims = np.array( fhead['mni_aligned_grid']['dim'] , dtype=np.int)[:,0]\n",
    "print(dims, np.prod(dims))"
   ]
  },
  {
   "cell_type": "code",
   "execution_count": null,
   "metadata": {
    "hidden": true
   },
   "outputs": [],
   "source": [
    "fhead['mni_aligned_grid']['cfg'].keys()"
   ]
  },
  {
   "cell_type": "code",
   "execution_count": null,
   "metadata": {
    "hidden": true
   },
   "outputs": [],
   "source": [
    "# probably tell whether a given grid point is inside the brain or outside\n",
    "inside = np.array ( fhead['mni_aligned_grid']['inside']   )\n",
    "print( np.sum( inside ) )\n",
    "inside_ = inside.reshape( dims)\n",
    "inside_[:,0,0]"
   ]
  },
  {
   "cell_type": "markdown",
   "metadata": {},
   "source": [
    "## old"
   ]
  },
  {
   "cell_type": "code",
   "execution_count": null,
   "metadata": {},
   "outputs": [],
   "source": [
    "gridpos = np.array( fhead['mni_aligned_grid']['pos'] )\n",
    "gridpos.shape"
   ]
  },
  {
   "cell_type": "code",
   "execution_count": null,
   "metadata": {},
   "outputs": [],
   "source": [
    "makeStr( fhead['mni_aligned_grid']['unit'] )"
   ]
  },
  {
   "cell_type": "code",
   "execution_count": null,
   "metadata": {},
   "outputs": [],
   "source": [
    "# srcstr | instance of SourceSpaces :   If string, should be a source space filename. Can also be an instance of loaded or generated SourceSpaces.\n",
    "# bemdict | str : Filename of the BEM (e.g., “sample-5120-5120-5120-bem-sol.fif”) to use, or a loaded sphere model (dict).\n",
    "k = list(raws.keys() ) [0]\n",
    "f = raws[k]\n",
    "\n",
    "\n",
    "bem_model = mne.make_bem_model('S01', subjects_dir=subjects_dir)\n",
    "bem_sol = mne.make_bem_solution(bem_model)"
   ]
  },
  {
   "cell_type": "code",
   "execution_count": null,
   "metadata": {},
   "outputs": [],
   "source": [
    "fwd = mne.make_forward_solution(f.info, None, src, bem_sol) "
   ]
  },
  {
   "cell_type": "code",
   "execution_count": null,
   "metadata": {},
   "outputs": [],
   "source": [
    "os.environ[\"SUBJECTS_DIR\"] = data_dir"
   ]
  },
  {
   "cell_type": "code",
   "execution_count": null,
   "metadata": {},
   "outputs": [],
   "source": [
    "src = mne.setup_source_space('sample', spacing='oct6') "
   ]
  },
  {
   "cell_type": "code",
   "execution_count": null,
   "metadata": {},
   "outputs": [],
   "source": [
    "picks = mne.pick_types(f.info, meg='grad', exclude='bads')\n"
   ]
  },
  {
   "cell_type": "code",
   "execution_count": null,
   "metadata": {},
   "outputs": [],
   "source": [
    "fwd = mne.read_forward_solution(fname_fwd)"
   ]
  },
  {
   "cell_type": "code",
   "execution_count": null,
   "metadata": {},
   "outputs": [],
   "source": [
    "pos.shape"
   ]
  },
  {
   "cell_type": "code",
   "execution_count": null,
   "metadata": {},
   "outputs": [],
   "source": [
    "gridpos.shape"
   ]
  },
  {
   "cell_type": "code",
   "execution_count": null,
   "metadata": {},
   "outputs": [],
   "source": [
    "x=pos[0,:]; y =pos[1,:]; z=pos[2,:]\n",
    "gridskip = 3\n",
    "xg = gridpos[0,::3]; yg = gridpos[1,::3]; zg=gridpos[2,::3]"
   ]
  },
  {
   "cell_type": "code",
   "execution_count": null,
   "metadata": {},
   "outputs": [],
   "source": [
    "import matplotlib.pyplot as plt"
   ]
  },
  {
   "cell_type": "code",
   "execution_count": null,
   "metadata": {},
   "outputs": [],
   "source": [
    "tri.shape"
   ]
  },
  {
   "cell_type": "code",
   "execution_count": null,
   "metadata": {},
   "outputs": [],
   "source": [
    "%matplotlib qt\n",
    "from mpl_toolkits.mplot3d import Axes3D\n",
    "fig = plt.figure()\n",
    "ax = fig.add_subplot(1, 2, 1, projection='3d')\n",
    "\n",
    "ax.plot_trisurf(x,y,z,triangles=tri.T)\n",
    "ax.scatter(xg,yg,zg,c='green',alpha=0.5)"
   ]
  },
  {
   "cell_type": "code",
   "execution_count": null,
   "metadata": {},
   "outputs": [],
   "source": [
    "atlas_dir = os.path.join( data_dir, 'HMAT')\n",
    "M1fname_left = os.path.join(atlas_dir,'HMAT_Left_M1.nii')"
   ]
  },
  {
   "cell_type": "code",
   "execution_count": null,
   "metadata": {},
   "outputs": [],
   "source": [
    " import nibabel as nib\n",
    "img = nib.load(M1fname_left)\n"
   ]
  },
  {
   "cell_type": "code",
   "execution_count": null,
   "metadata": {},
   "outputs": [],
   "source": [
    "img.shape"
   ]
  },
  {
   "cell_type": "code",
   "execution_count": null,
   "metadata": {},
   "outputs": [],
   "source": [
    "hdr = img.header"
   ]
  },
  {
   "cell_type": "code",
   "execution_count": null,
   "metadata": {},
   "outputs": [],
   "source": [
    "data = img.get_fdata()"
   ]
  },
  {
   "cell_type": "code",
   "execution_count": null,
   "metadata": {},
   "outputs": [],
   "source": [
    "np.sum( data ) # perhabs only zeros and ones there?"
   ]
  },
  {
   "cell_type": "code",
   "execution_count": null,
   "metadata": {},
   "outputs": [],
   "source": [
    "nz = np.where(data > 0)"
   ]
  },
  {
   "cell_type": "markdown",
   "metadata": {},
   "source": [
    "1. I need convert to MNI from Talairach...\n",
    "1. Somehow make indices correspond to coordinates\n",
    "1. Make sure the points are actually located on the brain surface  and that brain model I have corresponds to something\n",
    "1. Use coordinates for source reconstruction\n",
    "1. How do I \n",
    "  \n",
    "  1. mne.setup_source_space"
   ]
  },
  {
   "cell_type": "code",
   "execution_count": null,
   "metadata": {},
   "outputs": [],
   "source": [
    "nz"
   ]
  },
  {
   "cell_type": "code",
   "execution_count": null,
   "metadata": {},
   "outputs": [],
   "source": [
    "np.mean(data)"
   ]
  },
  {
   "cell_type": "code",
   "execution_count": null,
   "metadata": {},
   "outputs": [],
   "source": [
    "print(hdr)"
   ]
  },
  {
   "cell_type": "code",
   "execution_count": null,
   "metadata": {},
   "outputs": [],
   "source": [
    "print(hdr['sform_code'])\n",
    "#3 means RAS+ in Talairach atlas space"
   ]
  },
  {
   "cell_type": "code",
   "execution_count": null,
   "metadata": {},
   "outputs": [],
   "source": [
    "# The segmentation algorithms described in The Boundary Element Model (BEM) produce either FreeSurfer surfaces or triangulation data in text. Before proceeding to the creation of the boundary element model, standard files for FreeSurfer surfaces must be present:\n",
    "\n",
    "#     inner_skull.surf contains the inner skull triangulation.\n",
    "#     outer_skull.surf contains the outer skull triangulation.\n",
    "#     outer_skin.surf contains the head surface triangulation.\n",
    "\n",
    "\n",
    "\n",
    "mne.utils.set_config(\"SUBJECTS_DIR\", '$HOME/data', set_env=True)\n",
    "conductivity = (0.3,)  # for single layer\n",
    "model = mne.make_bem_model('sample',conductivity=conductivity)  \n",
    "bem_sol = make_bem_solution(model)\n",
    "# The surface based source space src contains two parts, one for the left hemisphere (4098 locations) \n",
    "# and one for the right hemisphere (4098 locations). \n",
    "src = mne.setup_source_space(subject, spacing='oct6',\n",
    "                             subjects_dir=subjects_dir, add_dist=False)\n",
    "fwd = make_forward_solution(raw.info, fname_trans, src, bem_sol, meg=True, eeg=False, njobs=8, mindist=5.)  \n",
    "inv = mne.minimum_norm.make_inverse_operator(raw.info, fwd, cov, loose=0.2)  \n",
    "stc = mne.minimum_norm.apply_inverse(evoked, inv, lambda2=1. / 9.)  \n",
    "\n",
    "\n",
    "# https://mne.tools/dev/auto_examples/inverse/plot_lcmv_beamformer.html?highlight=beamforming\n",
    "#use_forward = mne.convert_forward_solution(forward, force_fixed=True)\n",
    "use_forward = forward\n",
    "filters = make_lcmv(evoked.info, use_forward, data_cov, reg=0.05,\n",
    "                        noise_cov=noise_cov, pick_ori=pick_ori,\n",
    "                        weight_norm='unit-noise-gain', rank=None)\n",
    "# apply this spatial filter to source-reconstruct the evoked data\n",
    "stc = apply_lcmv(evoked, filters, max_ori_out='signed')\n",
    "\n",
    "\n",
    "# Computing LCMV solutions for time-frequency windows in a label in source\n",
    "# space for faster computation, use label=None for full solution\n",
    "stcs = tf_lcmv(epochs, forward, noise_covs, tmin, tmax, tstep, win_lengths,\n",
    "               freq_bins=freq_bins, subtract_evoked=subtract_evoked,\n",
    "               reg=data_reg, label=label, rank=None)\n",
    "\n",
    "# Plotting source spectrogram for source with maximum activity.\n",
    "# Note that tmin and tmax are set to display a time range that is smaller than\n",
    "# the one for which beamforming estimates were calculated. This ensures that\n",
    "# all time bins shown are a result of smoothing across an identical number of\n",
    "# time windows.\n",
    "plot_source_spectrogram(stcs, freq_bins, tmin=tmin_plot, tmax=tmax_plot,\n",
    "                        source_index=None, colorbar=True)"
   ]
  },
  {
   "cell_type": "code",
   "execution_count": null,
   "metadata": {},
   "outputs": [],
   "source": []
  }
 ],
 "metadata": {
  "kernelspec": {
   "display_name": "conda_oscbagdis",
   "language": "python",
   "name": "conda_oscbagdis"
  },
  "language_info": {
   "codemirror_mode": {
    "name": "ipython",
    "version": 3
   },
   "file_extension": ".py",
   "mimetype": "text/x-python",
   "name": "python",
   "nbconvert_exporter": "python",
   "pygments_lexer": "ipython3",
   "version": "3.8.15"
  },
  "varInspector": {
   "cols": {
    "lenName": 16,
    "lenType": 16,
    "lenVar": 40
   },
   "kernels_config": {
    "python": {
     "delete_cmd_postfix": "",
     "delete_cmd_prefix": "del ",
     "library": "var_list.py",
     "varRefreshCmd": "print(var_dic_list())"
    },
    "r": {
     "delete_cmd_postfix": ") ",
     "delete_cmd_prefix": "rm(",
     "library": "var_list.r",
     "varRefreshCmd": "cat(var_dic_list()) "
    }
   },
   "types_to_exclude": [
    "module",
    "function",
    "builtin_function_or_method",
    "instance",
    "_Feature"
   ],
   "window_display": false
  }
 },
 "nbformat": 4,
 "nbformat_minor": 2
}
