{
 "cells": [
  {
   "cell_type": "code",
   "execution_count": null,
   "id": "2d582b72",
   "metadata": {},
   "outputs": [],
   "source": [
    "!"
   ]
  },
  {
   "cell_type": "code",
   "execution_count": null,
   "id": "9cfad04d",
   "metadata": {},
   "outputs": [],
   "source": [
    "help(LinearRegression)"
   ]
  },
  {
   "cell_type": "code",
   "execution_count": null,
   "id": "fac42617",
   "metadata": {},
   "outputs": [],
   "source": [
    "import sklearn\n",
    "from statsmodels.stats.outliers_influence import variance_inflation_factor # has some problem with intercept\n",
    "\n",
    "\n",
    "\n",
    "import pandas as pd\n",
    "vfs2,tolerance_dict = sklearn_vif(X,np.arange(X.shape[1]))"
   ]
  },
  {
   "cell_type": "code",
   "execution_count": null,
   "id": "84bca7c1",
   "metadata": {},
   "outputs": [],
   "source": [
    "\n",
    "keys"
   ]
  },
  {
   "cell_type": "code",
   "execution_count": null,
   "id": "effe3db7",
   "metadata": {},
   "outputs": [],
   "source": [
    "tolerance_dict"
   ]
  },
  {
   "cell_type": "code",
   "execution_count": null,
   "id": "955648a6",
   "metadata": {},
   "outputs": [],
   "source": [
    "vfs2"
   ]
  },
  {
   "cell_type": "code",
   "execution_count": null,
   "id": "c51fbd8a",
   "metadata": {},
   "outputs": [],
   "source": [
    "sz = (200, 6)\n",
    "X = np.random.uniform(size=sz)\n",
    "y = np.random.randint(3,size=(X.shape[0]))\n",
    "print(X.shape, y.shape)\n",
    "X[:,0] = y + np.random.uniform(size=(X.shape[0])) / 4.5\n",
    "\n",
    "X[:,4] = X[:,2] + X[:,3]  + np.random.uniform(size=(X.shape[0])) / 10\n",
    "X[:,5] = X[:,0] + X[:,3]  + np.random.uniform(size=(X.shape[0])) / 5"
   ]
  },
  {
   "cell_type": "code",
   "execution_count": null,
   "id": "a0611e14",
   "metadata": {},
   "outputs": [],
   "source": [
    "\n",
    "    #np.array(vfs.values() )"
   ]
  },
  {
   "cell_type": "code",
   "execution_count": null,
   "id": "d759ffdd",
   "metadata": {},
   "outputs": [],
   "source": [
    "colinds_bad"
   ]
  },
  {
   "cell_type": "code",
   "execution_count": null,
   "id": "86aa8397",
   "metadata": {},
   "outputs": [],
   "source": [
    "X2.shape"
   ]
  },
  {
   "cell_type": "markdown",
   "id": "5a0e48a0",
   "metadata": {},
   "source": [
    "# Feature selection"
   ]
  },
  {
   "cell_type": "code",
   "execution_count": null,
   "id": "d6dd1005",
   "metadata": {},
   "outputs": [],
   "source": [
    "colinds_bad,_ = findBadColumnsVF(X,vf_thr=10)\n",
    "colinds_good = np.setdiff1d(np.arange(X.shape[1]), colinds_bad)\n",
    "#X2 = X\n",
    "X2 = X[:,colinds_good]\n",
    "\n",
    "from boruta import BorutaPy\n",
    "verbose = 1; random_state=0\n",
    "######\n",
    "\n",
    "n_jobs = -1\n",
    "add_clf_creopts={ 'n_jobs':n_jobs, 'use_label_encoder':False,\n",
    "                 'importance_type': 'total_gain' }\n",
    "tree_method = 'exact'\n",
    "method_params = {'tree_method': tree_method}\n",
    "\n",
    "add_clf_creopts.update(method_params)\n",
    "clf_XGB = XGBClassifier(**add_clf_creopts)\n",
    "\n",
    "\n",
    "##########\n",
    "\n",
    "# define Boruta feature selection method\n",
    "feat_selector = BorutaPy(clf_XGB, n_estimators='auto', verbose=verbose, random_state=random_state)\n",
    "\n",
    "# find all relevant features - 5 features should be selected\n",
    "feat_selector.fit(X2, y)\n",
    "\n",
    "# check selected features - first 5 features are selected\n",
    "selected_featinds = np.where(feat_selector.support_)[0]\n",
    "print(selected_featinds, feat_selector.ranking_)"
   ]
  },
  {
   "cell_type": "code",
   "execution_count": null,
   "id": "851e5e43",
   "metadata": {},
   "outputs": [],
   "source": []
  },
  {
   "cell_type": "code",
   "execution_count": null,
   "id": "87602a1d",
   "metadata": {},
   "outputs": [],
   "source": []
  },
  {
   "cell_type": "code",
   "execution_count": null,
   "id": "eb7062a0",
   "metadata": {},
   "outputs": [],
   "source": []
  },
  {
   "cell_type": "code",
   "execution_count": null,
   "id": "527ac497",
   "metadata": {},
   "outputs": [],
   "source": [
    "colinds_bad"
   ]
  },
  {
   "cell_type": "code",
   "execution_count": null,
   "id": "1f605bba",
   "metadata": {},
   "outputs": [],
   "source": [
    "for i in range(X.shape[1]):\n",
    "    vf = variance_inflation_factor(X,i)\n",
    "    print(f'{i}, {vf:.2f},  {vfs2[i]:.2f}')"
   ]
  },
  {
   "cell_type": "code",
   "execution_count": null,
   "id": "b6a273cd",
   "metadata": {},
   "outputs": [],
   "source": [
    "help(variance_inflation_factor)"
   ]
  },
  {
   "cell_type": "code",
   "execution_count": null,
   "id": "5ba5243b",
   "metadata": {},
   "outputs": [],
   "source": []
  },
  {
   "cell_type": "code",
   "execution_count": null,
   "id": "7a881d2a",
   "metadata": {},
   "outputs": [],
   "source": [
    "X.shape"
   ]
  },
  {
   "cell_type": "code",
   "execution_count": null,
   "id": "267056ca",
   "metadata": {},
   "outputs": [],
   "source": [
    "y"
   ]
  },
  {
   "cell_type": "code",
   "execution_count": null,
   "id": "5ece772e",
   "metadata": {},
   "outputs": [],
   "source": []
  },
  {
   "cell_type": "code",
   "execution_count": null,
   "id": "0a333dcd",
   "metadata": {},
   "outputs": [],
   "source": [
    "import xgboost as xgb\n",
    "from xgboost import XGBClassifier"
   ]
  },
  {
   "cell_type": "code",
   "execution_count": null,
   "id": "51336caf",
   "metadata": {},
   "outputs": [],
   "source": [
    "#import pandas as pd\n",
    "#from sklearn.ensemble import RandomForestClassifier\n",
    "from boruta import BorutaPy\n",
    "\n",
    "# load X and y\n",
    "# NOTE BorutaPy accepts numpy arrays only, hence the .values attribute\n",
    "#X = pd.read_csv('examples/test_X.csv', index_col=0).values\n",
    "#y = pd.read_csv('examples/test_y.csv', header=None, index_col=0).values\n",
    "#y = y.ravel()\n",
    "\n",
    "# define random forest classifier, with utilising all cores and\n",
    "# sampling in proportion to y labels\n",
    "# rf = RandomForestClassifier(n_jobs=-1, class_weight='balanced', max_depth=5)\n",
    "# feat_selector = BorutaPy(rf, n_estimators='auto', verbose=2, random_state=1)\n",
    "\n",
    "\n",
    "\n"
   ]
  },
  {
   "cell_type": "code",
   "execution_count": null,
   "id": "046b990a",
   "metadata": {},
   "outputs": [],
   "source": [
    "help(BorutaPy)"
   ]
  },
  {
   "cell_type": "code",
   "execution_count": null,
   "id": "b9b761c3",
   "metadata": {},
   "outputs": [],
   "source": [
    "feat_selector.support_"
   ]
  },
  {
   "cell_type": "code",
   "execution_count": null,
   "id": "94000b1c",
   "metadata": {},
   "outputs": [],
   "source": [
    "feat_selector.ranking_"
   ]
  },
  {
   "cell_type": "code",
   "execution_count": null,
   "id": "156915b5",
   "metadata": {},
   "outputs": [],
   "source": [
    "X_filtered.shape"
   ]
  },
  {
   "cell_type": "code",
   "execution_count": null,
   "id": "9d7f06cd",
   "metadata": {},
   "outputs": [],
   "source": []
  }
 ],
 "metadata": {
  "kernelspec": {
   "display_name": "Python 3",
   "language": "python",
   "name": "python3"
  },
  "language_info": {
   "codemirror_mode": {
    "name": "ipython",
    "version": 3
   },
   "file_extension": ".py",
   "mimetype": "text/x-python",
   "name": "python",
   "nbconvert_exporter": "python",
   "pygments_lexer": "ipython3",
   "version": "3.8.10"
  }
 },
 "nbformat": 4,
 "nbformat_minor": 5
}
