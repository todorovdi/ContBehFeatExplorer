{
 "cells": [
  {
   "cell_type": "code",
   "execution_count": null,
   "metadata": {},
   "outputs": [],
   "source": [
    "import numpy as np"
   ]
  },
  {
   "cell_type": "code",
   "execution_count": null,
   "metadata": {},
   "outputs": [],
   "source": [
    "np.all"
   ]
  },
  {
   "cell_type": "markdown",
   "metadata": {},
   "source": [
    "# Anonym"
   ]
  },
  {
   "cell_type": "code",
   "execution_count": null,
   "metadata": {},
   "outputs": [],
   "source": [
    "# from Jan\n",
    "Initials =  ['ps',  'tm','hhw','an',  'hg','mg', 'lk2', 'mf','ft', 'hb'];\n",
    "subj_codes = ['PGY6BWAXHZ','DRFRMVMB13','GY24G81RK7','XT73PAA4R0','7GDX14CLEN','9QOETOVN7U','NDW513CVOD','XEAR6DG6KY','K6WNF99ZBZ','LGLN5B06N0'];\n",
    "\n",
    "# my subject numbers\n",
    "chosen_subjects_paper = ['S01','S02','S03','S04','S05','S06','S07','S08','S09','S10']\n",
    "subj_codes2 = ['PGY6BWAXHZ','DRFRMVMB13','GY24G81RK7','XT73PAA4R0','7GDX14CLEN','9QOETOVN7U','NDW513CVOD','XEAR6DG6KY','K6WNF99ZBZ','LGLN5B06N0']\n",
    "\n",
    "# internal UKD subject numbers\n",
    "i2ic = {'hb':'sub037', \n",
    "'ft' : 'sub022',\n",
    "'ps' : 'sub011',\n",
    "'tm' : 'sub012',\n",
    "'hhw': 'sub013',\n",
    "'an' : 'sub015',\n",
    "'hg' : 'sub018',\n",
    "'mg' : 'sub020',\n",
    "'lk2': 'sub014',\n",
    "'mf' : 'sub021'}\n",
    "ksvs = list(i2ic.items())\n",
    "ks,vs = zip(*ksvs)\n",
    "ic2i = dict( zip(vs,ks) )\n",
    "\n",
    "\n",
    "i2c = dict(zip(Initials,subj_codes) )\n",
    "c2i = dict(zip(subj_codes,Initials) )\n",
    "\n",
    "s2c = dict(zip(chosen_subjects_paper,subj_codes2) )\n",
    "c2s = dict(zip(subj_codes2,chosen_subjects_paper) )\n",
    "\n",
    "#set(subj_codes2) == set(subj_codes)\n",
    "\n",
    "tpls = []\n",
    "for s in chosen_subjects_paper:\n",
    "    code = s2c[s]\n",
    "    initial = c2i [ code ]\n",
    "    internal = i2ic[initial]\n",
    "    if internal is None:\n",
    "        internal = ''\n",
    "    print(f'{initial:4} = {internal:7} = {s :3} = {code:10} ')\n",
    "    tpls += [(initial,internal,s,code)]\n",
    "\n",
    "#############################################################################\n",
    "import globvars as gv\n",
    "from os.path import join as pjoin\n",
    "import csv\n",
    "\n",
    "fld = 'patients_info_xls'\n",
    "fname_trem_checked = 'pd_patients_tremor_checked.csv'\n",
    "fname_subj_corresp = 'fuer_alex.csv'\n",
    "\n",
    "fname_full = pjoin(gv.code_dir, fld,fname_subj_corresp)\n",
    "entries_full = {}\n",
    "with open(fname_full, newline='') as csvfile:\n",
    "    csvreader = csv.reader(csvfile)\n",
    "    # pre, peri, post\n",
    "    for row in csvreader:\n",
    "        if len(row) == 5:\n",
    "            oldname,newname = row[0], row[-1]\n",
    "            # dates\n",
    "            pre, peri, post = row[1:4]\n",
    "            if not( len(oldname) and len(newname)):\n",
    "                continue\n",
    "            print(oldname,newname, '   ', ', '.join(row))\n",
    "            if oldname != 'Subject ID':\n",
    "                entries_full[oldname] = {'new_ID':newname, 'pre':pre, 'peri':peri, 'post':post}\n",
    "        \n",
    "\n",
    "fname_full = pjoin(gv.code_dir, fld,fname_trem_checked)\n",
    "entries_trem_info = {}\n",
    "ind = 0\n",
    "legend_row = None\n",
    "with open(fname_full, newline='') as csvfile:\n",
    "    csvreader = csv.reader(csvfile)\n",
    "    # pre, peri, post\n",
    "    for row in csvreader:\n",
    "        print(ind,row)\n",
    "        if ind == 0:\n",
    "            legend_row = row\n",
    "        else:\n",
    "            entries_trem_info[row[0]] = {}\n",
    "            for ci,le in enumerate(legend_row[1:] ):\n",
    "                entries_trem_info[row[0]][le] = row[ci+1]\n",
    "\n",
    "        ind += 1\n",
    "        \n"
   ]
  },
  {
   "cell_type": "code",
   "execution_count": null,
   "metadata": {},
   "outputs": [],
   "source": [
    "_,motzkin_subnames,my_subnames,anonym_subnames = list( zip(*tpls) )\n",
    "hilbert_subnames = [ 'S' + s[-3:] for s in motzkin_subnames ]\n",
    "hilbert_subnames"
   ]
  },
  {
   "cell_type": "code",
   "execution_count": null,
   "metadata": {},
   "outputs": [],
   "source": [
    "tuples = zip(my_subnames,motzkin_subnames,hilbert_subnames,anonym_subnames)\n",
    "tuples = list(tuples)\n",
    "tuples"
   ]
  },
  {
   "cell_type": "code",
   "execution_count": null,
   "metadata": {},
   "outputs": [],
   "source": [
    "my2motzkin = dict(zip(my_subnames,motzkin_subnames))\n",
    "my2hilbert = dict(zip(my_subnames,hilbert_subnames))\n",
    "my2anonym = dict(zip(my_subnames,anonym_subnames))\n",
    "anonym2my = dict(zip(anonym_subnames,my_subnames))"
   ]
  },
  {
   "cell_type": "code",
   "execution_count": null,
   "metadata": {},
   "outputs": [],
   "source": [
    "svd = dict(motzkin_subnames=motzkin_subnames, my_subnames=my_subnames,\n",
    "          hilbert_subnames=hilbert_subnames, anonlym_subnames=anonlym_subnames,\n",
    "           tuples=tuples, anonym2my=anonym2my,my2anonym=my2anonym,\n",
    "          my2hilbert=my2hilbert, my2motzkin=my2motzkin)"
   ]
  },
  {
   "cell_type": "code",
   "execution_count": null,
   "metadata": {},
   "outputs": [],
   "source": [
    "import json\n",
    "import globvars as gv\n",
    "fn = os.path.join(gv.code_dir, 'subj_corresp.json')\n",
    "with open(fn, 'w') as f:\n",
    "    json.dump(svd,f)"
   ]
  },
  {
   "cell_type": "code",
   "execution_count": null,
   "metadata": {},
   "outputs": [],
   "source": [
    "import json\n",
    "import globvars as gv\n",
    "fn = os.path.join(gv.code_dir, 'subj_corresp.json')\n",
    "with open(fn, 'r') as f:\n",
    "    svd2 = json.load(f)"
   ]
  },
  {
   "cell_type": "code",
   "execution_count": null,
   "metadata": {},
   "outputs": [],
   "source": [
    "svd2"
   ]
  },
  {
   "cell_type": "code",
   "execution_count": null,
   "metadata": {},
   "outputs": [],
   "source": [
    "new_IDs_with_trem = []\n",
    "for key,en in entries_trem_info.items():\n",
    "    istrem = en['rest tremor left med off'] or en['rest tremor right med off']\n",
    "    if istrem:\n",
    "        new_IDs_with_trem += [entries_full[key]['new_ID']]"
   ]
  },
  {
   "cell_type": "code",
   "execution_count": null,
   "metadata": {},
   "outputs": [],
   "source": [
    "new_IDs_with_trem"
   ]
  },
  {
   "cell_type": "code",
   "execution_count": null,
   "metadata": {},
   "outputs": [],
   "source": [
    "import json\n",
    "with open(fn_full) as f:\n",
    "    r = json.load(f)"
   ]
  },
  {
   "cell_type": "code",
   "execution_count": null,
   "metadata": {},
   "outputs": [],
   "source": [
    "entries_full"
   ]
  },
  {
   "cell_type": "code",
   "execution_count": null,
   "metadata": {},
   "outputs": [],
   "source": [
    "tpls"
   ]
  },
  {
   "cell_type": "code",
   "execution_count": null,
   "metadata": {},
   "outputs": [],
   "source": []
  },
  {
   "cell_type": "code",
   "execution_count": null,
   "metadata": {},
   "outputs": [],
   "source": [
    "#sent to Moritz\n",
    "print('  old portion')\n",
    "s2m = ['7GDX14CLEN', '9QOETOVN7U', 'DRFRMVMB13', 'XT73PAA4R0']\n",
    "for code in s2m:\n",
    "    print( code, i2ic[ c2i[code] ] )\n",
    "\n",
    "print('  new portion')\n",
    "s2m = ['GY24G81RK7', 'K6WNF99ZBZ', 'LGLN5B06N0', 'XEAR6DG6KY']\n",
    "for code in s2m:\n",
    "    print( code, i2ic[ c2i[code] ] )\n"
   ]
  },
  {
   "cell_type": "code",
   "execution_count": null,
   "metadata": {},
   "outputs": [],
   "source": [
    "a = [13,21,22,20,18,15,12,11,37,12,15,18,20,11,37]\n",
    "sa = set(a)\n",
    "print(len(sa),sa)"
   ]
  },
  {
   "cell_type": "code",
   "execution_count": null,
   "metadata": {},
   "outputs": [],
   "source": [
    "# read Jan and Alex's corresp"
   ]
  },
  {
   "cell_type": "code",
   "execution_count": null,
   "metadata": {},
   "outputs": [],
   "source": []
  },
  {
   "cell_type": "markdown",
   "metadata": {},
   "source": [
    "# actual rename"
   ]
  },
  {
   "cell_type": "code",
   "execution_count": null,
   "metadata": {},
   "outputs": [],
   "source": [
    "import shutil"
   ]
  },
  {
   "cell_type": "code",
   "execution_count": null,
   "metadata": {},
   "outputs": [],
   "source": [
    "#d = '/home/demitau/tmp/annot'\n",
    "d = '/home/demitau/tmp/infos'\n",
    "d2 = os.path.join(d,'renamed')\n",
    "if not os.path.exists(d2):\n",
    "    os.mkdir( d2)\n",
    "\n",
    "for fn in os.listdir(d):\n",
    "    orig = os.path.join(d,fn)\n",
    "    init = fn[:3]\n",
    "    try:\n",
    "        fn_mod = s2c[init] + fn[3:]\n",
    "        dest = os.path.join(d2,fn_mod)\n",
    "        print(orig,dest)\n",
    "        \n",
    "        shutil.copy(orig,dest)\n",
    "    except KeyError as e:\n",
    "        continue\n",
    "    "
   ]
  },
  {
   "cell_type": "markdown",
   "metadata": {},
   "source": [
    "# Vis brain"
   ]
  },
  {
   "cell_type": "code",
   "execution_count": null,
   "metadata": {},
   "outputs": [],
   "source": [
    "import numpy as np\n",
    "\n",
    "from visbrain.objects import BrainObj, ColorbarObj, SceneObj, SourceObj\n",
    "from visbrain.objects import RoiObj, ColorbarObj, SceneObj, SourceObj, BrainObj\n",
    "from visbrain.io import download_file, read_stc\n",
    "\n",
    "# Download iEEG coordinates and define some random data\n",
    "mat = np.load(download_file('xyz_sample.npz', astype='example_data'))\n",
    "xyz, subjects = mat['xyz'], mat['subjects']\n",
    "data = np.random.rand(xyz.shape[0])\n",
    "\n",
    "# Scene creation\n",
    "sc = SceneObj(bgcolor='black', size=(1400, 1000))\n",
    "# Colorbar default arguments. See `visbrain.objects.ColorbarObj`\n",
    "CBAR_STATE = dict(cbtxtsz=12, txtsz=10., width=.1, cbtxtsh=3.,\n",
    "                  rect=(-.3, -2., 1., 4.))\n",
    "KW = dict(title_size=14., zoom=1.2)\n",
    "\n",
    "# # Translucent inflated BrainObj with both hemispheres displayed\n",
    "# b_obj_fs = BrainObj('inflated', translucent=True, hemisphere='both')\n",
    "# # Add the brain to the scene. Note that `row_span` means that the plot will\n",
    "# # occupy two rows (row 0 and 1)\n",
    "# sc.add_to_subplot(b_obj_fs, row=0, col=0, row_span=2,\n",
    "#                   title='Translucent inflated brain template', **KW)\n",
    "\n",
    "b_obj = BrainObj('inflated', translucent=True, hemisphere='both')\n",
    "b_obj2 = BrainObj('inflated', translucent=True, hemisphere='both')\n",
    "sc.add_to_subplot(b_obj, row=0, col=0, rotate='right',\n",
    "                  title='All hemispheres', **KW)\n",
    "\n",
    "sc.add_to_subplot(b_obj2, row=0, col=1, rotate='top',\n",
    "                  title='All hemisphere', **KW)\n",
    "\n",
    "# Opaque left hemispehre of the white matter\n",
    "# #b_obj_lw = BrainObj('white', hemisphere='left', translucent=False)\n",
    "# sc.add_to_subplot(b_obj_lw, row=0, col=0, rotate='right',\n",
    "#                   title='Left hemisphere', **KW)\n",
    "\n",
    "\n",
    "\n",
    "\n",
    "#import globvars as gv\n",
    "\n",
    "\n",
    "\n",
    "roi_aal = RoiObj('aal') \n",
    "\n",
    "\n",
    "roi_labels = roi_aal.get_labels()\n",
    "nparcels = len( roi_labels )\n",
    "\n",
    "import pandas as pd\n",
    "df = roi_labels\n",
    "inds = df.index[ pd.Series(df['aal']).str.endswith('(L)') ]\n",
    "#df.loc[inds]  # there is also iloc\n",
    "some_inds = list(inds)[:3]\n",
    "\n",
    "#roi_aal.select_roi(select=list(range(nparcels)), unique_color=True, smooth=11)\n",
    "roi_aal.select_roi(select=some_inds, unique_color=True, smooth=5)\n",
    "\n",
    "roi_aal2 = RoiObj('aal')\n",
    "roi_aal2.select_roi(select=some_inds, unique_color=True, smooth=5)"
   ]
  },
  {
   "cell_type": "code",
   "execution_count": null,
   "metadata": {},
   "outputs": [],
   "source": [
    "sc.add_to_subplot(roi_aal, row=0, col=0, rotate='right')\n",
    "sc.add_to_subplot(roi_aal2, row=0, col=1, rotate='top')"
   ]
  },
  {
   "cell_type": "code",
   "execution_count": null,
   "metadata": {},
   "outputs": [],
   "source": [
    "sc.preview()"
   ]
  },
  {
   "cell_type": "code",
   "execution_count": null,
   "metadata": {},
   "outputs": [],
   "source": [
    "s_dmn = SourceObj('SecondSources', xyz, data=data)\n",
    "s_dmn.project_sources(roi_aal, cmap='plasma', clim=(-1., 1.), vmin=-.5,\n",
    "                      vmax=.7, under='gray', over='red')"
   ]
  },
  {
   "cell_type": "code",
   "execution_count": null,
   "metadata": {},
   "outputs": [],
   "source": [
    "# Get the colorbar of the projection\n",
    "cb_dmn = ColorbarObj(s_dmn, cblabel='Source activity', **CBAR_STATE)\n",
    "# Add those objects to the scene\n",
    "sc.add_to_subplot(roi_aal, row=0, col=1, rotate='top', zoom=.4,\n",
    "                  title=\"Project source's activity onto the DMN\")\n",
    "sc.add_to_subplot(cb_dmn, row=0, col=2, width_max=200)"
   ]
  },
  {
   "cell_type": "code",
   "execution_count": null,
   "metadata": {},
   "outputs": [],
   "source": [
    "sc.preview()"
   ]
  },
  {
   "cell_type": "code",
   "execution_count": null,
   "metadata": {},
   "outputs": [],
   "source": [
    "#############"
   ]
  },
  {
   "cell_type": "code",
   "execution_count": null,
   "metadata": {},
   "outputs": [],
   "source": [
    "import numpy as np\n",
    "\n",
    "from visbrain.objects import BrainObj, ColorbarObj, SceneObj, SourceObj\n",
    "from visbrain.objects import RoiObj, ColorbarObj, SceneObj, SourceObj, BrainObj\n",
    "from visbrain.io import download_file, read_stc\n",
    "\n",
    "# Download iEEG coordinates and define some random data\n",
    "mat = np.load(download_file('xyz_sample.npz', astype='example_data'))\n",
    "xyz, subjects = mat['xyz'], mat['subjects']\n",
    "data = np.random.rand(xyz.shape[0])\n",
    "\n",
    "# Scene creation\n",
    "sc = SceneObj(bgcolor='black', size=(1400, 1000))\n",
    "# Colorbar default arguments. See `visbrain.objects.ColorbarObj`\n",
    "CBAR_STATE = dict(cbtxtsz=12, txtsz=10., width=.1, cbtxtsh=3.,\n",
    "                  rect=(-.3, -2., 1., 4.))\n",
    "KW = dict(title_size=14., zoom=1.2)\n",
    "\n",
    "# # Translucent inflated BrainObj with both hemispheres displayed\n",
    "# b_obj_fs = BrainObj('inflated', translucent=True, hemisphere='both')\n",
    "# # Add the brain to the scene. Note that `row_span` means that the plot will\n",
    "# # occupy two rows (row 0 and 1)\n",
    "# sc.add_to_subplot(b_obj_fs, row=0, col=0, row_span=2,\n",
    "#                   title='Translucent inflated brain template', **KW)\n",
    "\n",
    "b_obj = BrainObj('inflated', translucent=True, hemisphere='both')\n",
    "b_obj2 = BrainObj('inflated', translucent=True, hemisphere='both')\n",
    "sc.add_to_subplot(b_obj, row=0, col=0, rotate='right',\n",
    "                  title='All hemispheres', **KW)\n",
    "\n",
    "sc.add_to_subplot(b_obj2, row=0, col=1, rotate='top',\n",
    "                  title='All hemisphere', **KW)"
   ]
  },
  {
   "cell_type": "code",
   "execution_count": null,
   "metadata": {},
   "outputs": [],
   "source": [
    "# # Define the default camera state used for each subplot\n",
    "# CAM_STATE = dict(azimuth=0,        # azimuth angle\n",
    "#                  elevation=90,     # elevation angle\n",
    "#                  scale_factor=180  # distance to the camera\n",
    "#                  )\n",
    "# S_KW = dict(camera_state=CAM_STATE)"
   ]
  },
  {
   "cell_type": "code",
   "execution_count": null,
   "metadata": {},
   "outputs": [],
   "source": [
    "data"
   ]
  },
  {
   "cell_type": "code",
   "execution_count": null,
   "metadata": {},
   "outputs": [],
   "source": [
    "# Define the source object\n",
    "radius_min = 7\n",
    "radius_max = 25\n",
    "rnd_data = data\n",
    "s_obj_data = SourceObj('S3', xyz, data=rnd_data, radius_min=radius_min,\n",
    "                       radius_max=radius_max)\n",
    "# Color sources according to a data vector\n",
    "s_obj_data.color_sources(data=rnd_data, cmap='viridis', clim=(0, 1),)\n",
    "# Get the colorbar of the source object\n",
    "cb_data = ColorbarObj(s_obj_data, cblabel='Random data', border=False,\n",
    "                      **CBAR_STATE)\n",
    "# Add the source and colorbar objects to the scene\n",
    "sc.add_to_subplot(s_obj_data, row=1, col=3, title='Color sources using data')\n",
    "#,                  **S_KW)\n",
    "sc.add_to_subplot(cb_data, row=1, col=4, width_max=60)"
   ]
  },
  {
   "cell_type": "code",
   "execution_count": null,
   "metadata": {},
   "outputs": [],
   "source": [
    "#sc.preview()"
   ]
  },
  {
   "cell_type": "code",
   "execution_count": null,
   "metadata": {},
   "outputs": [],
   "source": [
    "b_proj = BrainObj('B3', translucent=False)\n",
    "s_proj = SourceObj('proj', xyz, data=rnd_data)\n",
    "s_proj.project_sources(b_proj, cmap='inferno', radius=15.)\n",
    "sc.add_to_subplot(b_proj, row=1, col=0, title=\"Project source's activity\")"
   ]
  },
  {
   "cell_type": "code",
   "execution_count": null,
   "metadata": {},
   "outputs": [],
   "source": [
    "# b_mask = BrainObj('B3', translucent=False)\n",
    "# s_mask = SourceObj('mask', xyz, data=rnd_data, mask_color = 'gray')\n",
    "# s_mask.project_sources(b_proj, cmap='inferno', , radius=15.)\n",
    "# sc.add_to_subplot(b_mask, row=1, col=1, title=\"Project masked source's  activity\")"
   ]
  },
  {
   "cell_type": "code",
   "execution_count": null,
   "metadata": {},
   "outputs": [],
   "source": [
    "sc.preview()"
   ]
  },
  {
   "cell_type": "code",
   "execution_count": null,
   "metadata": {},
   "outputs": [],
   "source": []
  },
  {
   "cell_type": "code",
   "execution_count": null,
   "metadata": {},
   "outputs": [],
   "source": []
  },
  {
   "cell_type": "code",
   "execution_count": null,
   "metadata": {},
   "outputs": [],
   "source": [
    "###############"
   ]
  },
  {
   "cell_type": "code",
   "execution_count": null,
   "metadata": {},
   "outputs": [],
   "source": [
    "#help(download_file)"
   ]
  },
  {
   "cell_type": "code",
   "execution_count": null,
   "metadata": {},
   "outputs": [],
   "source": [
    "from visbrain.io.rw_config import load_config_json\n",
    "from visbrain.io.path import get_data_url_path"
   ]
  },
  {
   "cell_type": "code",
   "execution_count": null,
   "metadata": {},
   "outputs": [],
   "source": [
    "load_config_json(get_data_url_path())"
   ]
  },
  {
   "cell_type": "code",
   "execution_count": null,
   "metadata": {},
   "outputs": [],
   "source": [
    "example_data"
   ]
  },
  {
   "cell_type": "code",
   "execution_count": null,
   "metadata": {},
   "outputs": [],
   "source": [
    "# Download the annotation file of the left hemisphere lh.aparc.a2009s.annot\n",
    "path_to_file1 = download_file('lh.aparc.a2009s.annot', astype='example_data')\n",
    "# Define the brain object (now you should know how to do it)\n",
    "b_obj_parl = BrainObj('inflated', hemisphere='left', translucent=False)\n",
    "# Print parcellates included in the file\n",
    "# print(b_obj_parl.get_parcellates(path_to_file1))\n",
    "# Finally, parcellize the brain and add the brain to the scene\n",
    "b_obj_parl.parcellize(path_to_file1)\n",
    "sc.add_to_subplot(b_obj_parl, row=0, col=1, rotate='left',\n",
    "                  title='Parcellize using the Desikan Atlas', **KW)"
   ]
  },
  {
   "cell_type": "code",
   "execution_count": null,
   "metadata": {},
   "outputs": [],
   "source": [
    "help(b_obj_parl.parcellize)"
   ]
  },
  {
   "cell_type": "code",
   "execution_count": null,
   "metadata": {},
   "outputs": [],
   "source": [
    "# First, define a brain object used for the projection\n",
    "b_obj_proj = BrainObj('B3', hemisphere='both', translucent=False)\n",
    "# Define the source object\n",
    "s_obj = SourceObj('iEEG', xyz, data=data, cmap='inferno')\n",
    "# Just for fun, color sources according to the data :)\n",
    "s_obj.color_sources(data=data)\n",
    "# Project source's activity\n",
    "s_obj.project_sources(b_obj_proj, cmap='plasma')\n",
    "# Finally, add the source and brain objects to the subplot\n",
    "sc.add_to_subplot(s_obj, row=0, col=2, title='Project iEEG data', **KW)\n",
    "sc.add_to_subplot(b_obj_proj, row=0, col=2, rotate='left', use_this_cam=True)\n",
    "# Finally, add the colorbar :\n",
    "cb_proj = ColorbarObj(s_obj, cblabel='Projection of niEEG data', **CBAR_STATE)\n",
    "sc.add_to_subplot(cb_proj, row=0, col=3, width_max=200)"
   ]
  },
  {
   "cell_type": "code",
   "execution_count": null,
   "metadata": {},
   "outputs": [],
   "source": [
    "sc.preview()"
   ]
  },
  {
   "cell_type": "code",
   "execution_count": null,
   "metadata": {},
   "outputs": [],
   "source": []
  },
  {
   "cell_type": "code",
   "execution_count": null,
   "metadata": {},
   "outputs": [],
   "source": []
  },
  {
   "cell_type": "code",
   "execution_count": null,
   "metadata": {},
   "outputs": [],
   "source": [
    "import matplotlib.pyplot as plt\n",
    "import pymatreader as pmr\n",
    "import os"
   ]
  },
  {
   "cell_type": "code",
   "execution_count": null,
   "metadata": {},
   "outputs": [],
   "source": [
    "pmr.read_mat(os.path.expandvars( '$HOME/tmp/headmodels/hb.mat'))"
   ]
  },
  {
   "cell_type": "code",
   "execution_count": null,
   "metadata": {},
   "outputs": [],
   "source": [
    "%load_ext autoreload\n",
    "%autoreload 2"
   ]
  },
  {
   "cell_type": "code",
   "execution_count": null,
   "metadata": {},
   "outputs": [],
   "source": [
    "import plots\n",
    "\n",
    "import matplotlib.pyplot as plt\n",
    "\n",
    "ax = plt.gca()\n",
    "\n",
    "xs = ['a', 'b', 'bias1']\n",
    "ys = [1,2,0.5]\n",
    "xerr = [0,0,0]\n",
    "\n",
    "plots.plotErrorBarStrings(ax,xs,ys,xerr,add_args={'lw':0, 'marker':'o'})\n",
    "\n",
    "plt.gcf().canvas.draw()\n",
    "print(ax.get_yticklabels())\n",
    "\n",
    "#xs = ['b', 'bias2']\n",
    "xs = ['a', 'b', 'bias2']\n",
    "ys = [2.3, 0.5, 0.7]\n",
    "xerr = [0,0,0]\n",
    "\n",
    "plots.plotErrorBarStrings(ax,xs,ys,xerr,add_args={'lw':0, 'marker':'*'})"
   ]
  },
  {
   "cell_type": "code",
   "execution_count": null,
   "metadata": {},
   "outputs": [],
   "source": [
    "ax = plt.gca()\n",
    "ax.plot(['a','b'],[1,2])\n",
    "\n",
    "ax.plot(['a','b'],[4,3])\n",
    "\n",
    "ax.plot(['b'],[8], marker='*')\n",
    "\n",
    "ax.plot(['dd'],[8], marker='*')\n",
    "\n",
    "\n",
    "ax.plot(['b','d','a'],[14,0,13], lw=0,marker='o')\n"
   ]
  },
  {
   "cell_type": "code",
   "execution_count": null,
   "metadata": {},
   "outputs": [],
   "source": [
    "ax = plt.gca()\n",
    "ax.errorbar(['a','b'],[1,2],yerr=[0.5,0.5])\n",
    "\n",
    "ax.errorbar(['a','b'],[4,3])\n",
    "\n",
    "ax.errorbar(['b'],[8], marker='*')\n",
    "\n",
    "ax.errorbar(['dd'],[8], marker='*')\n",
    "\n",
    "\n",
    "ax.errorbar(['b','d','a'],[14,0,13], lw=0,marker='o')\n"
   ]
  },
  {
   "cell_type": "code",
   "execution_count": null,
   "metadata": {},
   "outputs": [],
   "source": [
    "a = \"Traceback (most recent call last):\\n  File \\\"/home/todorov/src/data_proc/run/extract_EMG.py\\\", line 130, in <module>\\n    f = mne.io.read_raw_fif(fname_full, None)\\n  File \\\"/home/todorov/src/myvenv/lib/python3.8/site-packages/mne/io/fiff/raw.py\\\", line 473, in read_raw_fif\\n    return Raw(fname=fname, allow_maxshield=allow_maxshield,\\n  File \\\"<decorator-gen-229>\\\", line 24, in __init__\\n  File \\\"/home/todorov/src/myvenv/lib/python3.8/site-packages/mne/io/fiff/raw.py\\\", line 94, in __init__\\n    _on_missing(on_split_missing, msg, name='on_split_missing')\\n  File \\\"/home/todorov/src/myvenv/lib/python3.8/site-packages/mne/utils/check.py\\\", line 811, in _on_missing\\n    raise error_klass(msg)\\nValueError: Split raw file detected but next file /home/todorov/rawdata/S010_OFF_02_anon-1.fif does not exist. Ensure all files were transferred properly and that split and original files were not manually renamed on disk (split files should be renamed by loading and re-saving with MNE-Python to preserve proper filename linkage).\\n\"\n",
    "print(a)"
   ]
  },
  {
   "cell_type": "code",
   "execution_count": null,
   "metadata": {},
   "outputs": [],
   "source": [
    "N = 58\n",
    "n  = 4\n",
    "ctr = 0\n",
    "while ctr < N:\n",
    "    s = list( map(str,np.arange(ctr, min(ctr+n,N) ) ) )\n",
    "    s = ','.join(s)\n",
    "    print(f'extract_EMG.py --inds {s}')\n",
    "    #print(s)\n",
    "    ctr += n"
   ]
  }
 ],
 "metadata": {
  "kernelspec": {
   "display_name": "Python 3 (ipykernel)",
   "language": "python",
   "name": "python3"
  },
  "language_info": {
   "codemirror_mode": {
    "name": "ipython",
    "version": 3
   },
   "file_extension": ".py",
   "mimetype": "text/x-python",
   "name": "python",
   "nbconvert_exporter": "python",
   "pygments_lexer": "ipython3",
   "version": "3.8.15"
  },
  "varInspector": {
   "cols": {
    "lenName": 16,
    "lenType": 16,
    "lenVar": 40
   },
   "kernels_config": {
    "python": {
     "delete_cmd_postfix": "",
     "delete_cmd_prefix": "del ",
     "library": "var_list.py",
     "varRefreshCmd": "print(var_dic_list())"
    },
    "r": {
     "delete_cmd_postfix": ") ",
     "delete_cmd_prefix": "rm(",
     "library": "var_list.r",
     "varRefreshCmd": "cat(var_dic_list()) "
    }
   },
   "types_to_exclude": [
    "module",
    "function",
    "builtin_function_or_method",
    "instance",
    "_Feature"
   ],
   "window_display": false
  }
 },
 "nbformat": 4,
 "nbformat_minor": 2
}
