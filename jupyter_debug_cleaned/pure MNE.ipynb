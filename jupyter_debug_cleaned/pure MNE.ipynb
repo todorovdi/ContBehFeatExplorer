{
 "cells": [
  {
   "cell_type": "code",
   "execution_count": null,
   "id": "7c16b2f8",
   "metadata": {},
   "outputs": [],
   "source": [
    "%load_ext autoreload\n",
    "%autoreload 2\n",
    "\n",
    "import os,sys\n",
    "sys.path.append('/home/demitau/ownCloud/Current/NeuroSci/MSCA_sci/code/data_proc')\n",
    "data_dir = '/home/demitau/data_duss'\n",
    "subjects_dir = '/home/demitau/data_duss/MRI/subjects'\n",
    "\n",
    "import mne\n",
    "# import utils  #my code\n",
    "# import json\n",
    "import matplotlib.pyplot as plt\n",
    "import numpy as np\n",
    "# import utils_preproc as upre\n",
    "# import globvars as gv\n",
    "\n",
    "rawnames = ['S01_off_hold', 'S01_off_move']"
   ]
  },
  {
   "cell_type": "code",
   "execution_count": null,
   "id": "350df2ec",
   "metadata": {},
   "outputs": [],
   "source": [
    "from os.path import join as pjoin\n",
    "raws = []\n",
    "for rn in rawnames:\n",
    "    fnf = pjoin(data_dir,rn + '_hires-raw.fif')\n",
    "    raw = mne.io.read_raw_fif(fnf)\n",
    "    \n",
    "    fnf = pjoin(data_dir,rn+'_anns.txt')\n",
    "    anns = mne.read_annotations(fnf)\n",
    "    raw.set_annotations(anns)\n",
    "    raws += [raw]"
   ]
  },
  {
   "cell_type": "code",
   "execution_count": null,
   "id": "0302ad3c",
   "metadata": {},
   "outputs": [],
   "source": [
    "mne.compute_covariance?"
   ]
  },
  {
   "cell_type": "code",
   "execution_count": null,
   "id": "1013a3f1",
   "metadata": {},
   "outputs": [],
   "source": [
    "# todo: make epochs"
   ]
  },
  {
   "cell_type": "code",
   "execution_count": null,
   "id": "94d874d9",
   "metadata": {},
   "outputs": [],
   "source": [
    "!OSCBAGDIS_DATAPROC_CODE=/home/current_ownCloud/NeuroSci/code/data_proc\n",
    "!OSCBAGDIS_DATA=/home/demitau/data_duss"
   ]
  },
  {
   "cell_type": "code",
   "execution_count": null,
   "id": "1bab8bd0",
   "metadata": {},
   "outputs": [],
   "source": [
    "!echo  \"$OCBAGDIS_DATAPROC_CODE\""
   ]
  },
  {
   "cell_type": "code",
   "execution_count": null,
   "id": "b28af404",
   "metadata": {},
   "outputs": [],
   "source": [
    "os.environ['OCBAGDIS_DATAPROC_CODE'] = '/home/current_ownCloud/NeuroSci/code/data_proc'"
   ]
  },
  {
   "cell_type": "code",
   "execution_count": null,
   "id": "7f75048c",
   "metadata": {},
   "outputs": [],
   "source": [
    "os.path.expandvars('$OCBAGDIS_DATAPROC_CODE')"
   ]
  },
  {
   "cell_type": "code",
   "execution_count": null,
   "id": "d3e5b3dc",
   "metadata": {},
   "outputs": [],
   "source": [
    "%autoreload"
   ]
  },
  {
   "cell_type": "code",
   "execution_count": null,
   "id": "5a00b65f",
   "metadata": {},
   "outputs": [],
   "source": [
    "from globvars import gp"
   ]
  },
  {
   "cell_type": "code",
   "execution_count": null,
   "id": "7507ed9d",
   "metadata": {},
   "outputs": [],
   "source": [
    "event_id = {}"
   ]
  },
  {
   "cell_type": "code",
   "execution_count": null,
   "id": "fd7190e4",
   "metadata": {},
   "outputs": [],
   "source": [
    "#def ann2flevents(anns):\n",
    "rawname = rawnames[1]\n",
    "anns = mne.read_annotations(pjoin(data_dir,f'{rawname}_anns.txt' ))\n",
    "event_id = {}\n",
    "for ann in anns:\n",
    "    if ann['description'] in gp.int_types_basic_sided:\n",
    "        ind = gp.int_types_basic_sided.index(ann['description'])\n",
    "        event_id[ann['description']] = ind\n",
    "    print(ann)"
   ]
  },
  {
   "cell_type": "code",
   "execution_count": null,
   "id": "1592414a",
   "metadata": {},
   "outputs": [],
   "source": [
    "n_cycles = 7\n",
    "wnddur = 1 # in sec\n",
    "min_freq = 3\n",
    "fleid = 1000\n",
    "edge_artif_len = (1./min_freq) * (n_cycles/2.)\n",
    "events = mne.event.make_fixed_length_events(raw, id=fleid, start=edge_artif_len, \n",
    "    duration=wnddur + 2*edge_artif_len, overlap = edge_artif_len * 2)\n",
    "event_id['wnd_start'] = fleid"
   ]
  },
  {
   "cell_type": "code",
   "execution_count": null,
   "id": "0e56e172",
   "metadata": {},
   "outputs": [],
   "source": [
    "fig = mne.viz.plot_events(events, sfreq=raw.info['sfreq'],\n",
    "                          event_id=event_id);"
   ]
  },
  {
   "cell_type": "code",
   "execution_count": null,
   "id": "3d3d0695",
   "metadata": {},
   "outputs": [],
   "source": [
    "picks = mne.pick_types(raw.info, meg=True, eeg=False, eog=True,\n",
    "                       stim=False, exclude='bads')\n",
    "baseline = None\n",
    "reject = None"
   ]
  },
  {
   "cell_type": "code",
   "execution_count": null,
   "id": "d2736bd0",
   "metadata": {},
   "outputs": [],
   "source": [
    "tmin = 0-edge_artif_len\n",
    "tmax = wnddur + edge_artif_len\n",
    "epochs = mne.Epochs(raw, events, event_id, tmin, tmax, proj=False,\n",
    "                    picks=picks, baseline=baseline,\n",
    "                    reject=reject)"
   ]
  },
  {
   "cell_type": "code",
   "execution_count": null,
   "id": "1431202d",
   "metadata": {},
   "outputs": [],
   "source": [
    "raw.load_data()"
   ]
  },
  {
   "cell_type": "code",
   "execution_count": null,
   "id": "46eec7ee",
   "metadata": {},
   "outputs": [],
   "source": [
    "# There is a function to create EOG epochs:\n",
    "eog_epochs = mne.preprocessing.create_eog_epochs(raw.copy().filter(1, None))\n",
    "eog_epochs.average().plot_joint();"
   ]
  },
  {
   "cell_type": "code",
   "execution_count": null,
   "id": "8a2d3c31",
   "metadata": {},
   "outputs": [],
   "source": [
    "# same business, same issue for ECG\n",
    "ecg_epochs = mne.preprocessing.create_ecg_epochs(raw.copy().filter(1, None))\n",
    "ecg_epochs.average().plot_joint()"
   ]
  },
  {
   "cell_type": "code",
   "execution_count": null,
   "id": "4cf1f477",
   "metadata": {},
   "outputs": [],
   "source": [
    "import mne\n",
    "data_cov = mne.compute_covariance(epochs, method='empirical', rank='info')\n",
    "mne.viz.plot_cov(data_cov, info=epochs.info)"
   ]
  },
  {
   "cell_type": "code",
   "execution_count": null,
   "id": "7380c5a9",
   "metadata": {},
   "outputs": [],
   "source": [
    "# find artif in raw using ICA fitted to raw, annotate\n",
    "# lowpass and compute eog and ecg, remove from original using same demixing matrix\n",
    "# notch\n",
    "# max filter?"
   ]
  },
  {
   "cell_type": "code",
   "execution_count": null,
   "id": "db96655f",
   "metadata": {},
   "outputs": [],
   "source": [
    "from mne.preprocessing import annotate_muscle_zscore"
   ]
  },
  {
   "cell_type": "code",
   "execution_count": null,
   "id": "96c22554",
   "metadata": {},
   "outputs": [],
   "source": [
    "raw.load_data()"
   ]
  },
  {
   "cell_type": "code",
   "execution_count": null,
   "id": "9f304e82",
   "metadata": {},
   "outputs": [],
   "source": [
    "annotate_muscle_zscore?"
   ]
  },
  {
   "cell_type": "code",
   "execution_count": null,
   "id": "adfe28f6",
   "metadata": {},
   "outputs": [],
   "source": [
    "threshold_muscle = 5  # z-score\n",
    "# Choose one channel type, if there are axial gradiometers and magnetometers,\n",
    "# select magnetometers as they are more sensitive to muscle activity.\n",
    "annot_muscle, scores_muscle = annotate_muscle_zscore(\n",
    "    raw, ch_type=\"mag\", threshold=threshold_muscle, min_length_good=0.2,\n",
    "    filter_freq=[110, 140])"
   ]
  },
  {
   "cell_type": "code",
   "execution_count": null,
   "id": "571592a3",
   "metadata": {},
   "outputs": [],
   "source": [
    "fig, ax = plt.subplots()\n",
    "ax.plot(raw.times, scores_muscle)\n",
    "ax.axhline(y=threshold_muscle, color='r')\n",
    "ax.set(xlabel='time, (s)', ylabel='zscore', title='Muscle activity')"
   ]
  },
  {
   "cell_type": "code",
   "execution_count": null,
   "id": "2ee1d1b4",
   "metadata": {},
   "outputs": [],
   "source": [
    "raw.annotations\n"
   ]
  },
  {
   "cell_type": "code",
   "execution_count": null,
   "id": "86d281f2",
   "metadata": {},
   "outputs": [],
   "source": [
    "order = np.arange(144, 164)\n",
    "raw.set_annotations(annot_muscle)\n",
    "raw.plot(start=5, duration=20, proj=0) #, order=order)"
   ]
  },
  {
   "cell_type": "markdown",
   "id": "3c67e7c8",
   "metadata": {},
   "source": [
    "# CB"
   ]
  },
  {
   "cell_type": "code",
   "execution_count": null,
   "id": "4acf33d8",
   "metadata": {},
   "outputs": [],
   "source": [
    "import mne\n",
    "from mne import setup_source_space, setup_volume_source_space\n",
    "from mne.datasets import sample\n",
    "\n",
    "print(__doc__)\n",
    "\n",
    "data_path = sample.data_path()\n",
    "subjects_dir = data_path / 'subjects'\n",
    "subject = 'sample'\n",
    "aseg_fname = subjects_dir / 'sample' / 'mri' / 'aseg.mgz'\n",
    "\n",
    "# %%\n",
    "# Setup the source spaces\n",
    "\n",
    "# setup a cortical surface source space and extract left hemisphere\n",
    "surf = setup_source_space(subject, subjects_dir=subjects_dir, add_dist=False)\n",
    "lh_surf = surf[0]\n",
    "\n",
    "# setup a volume source space of the left cerebellum cortex\n",
    "volume_label = 'Left-Cerebellum-Cortex'\n",
    "sphere = (0, 0, 0, 0.12)\n",
    "lh_cereb = setup_volume_source_space(\n",
    "    subject, mri=aseg_fname, sphere=sphere, volume_label=volume_label,\n",
    "    subjects_dir=subjects_dir, sphere_units='m')\n",
    "\n",
    "# Combine the source spaces\n",
    "src = surf + lh_cereb"
   ]
  },
  {
   "cell_type": "code",
   "execution_count": null,
   "id": "cbfa6d00",
   "metadata": {},
   "outputs": [],
   "source": [
    "setup_source_space?"
   ]
  }
 ],
 "metadata": {
  "kernelspec": {
   "display_name": "conda_oscbagdis",
   "language": "python",
   "name": "conda_oscbagdis"
  },
  "language_info": {
   "codemirror_mode": {
    "name": "ipython",
    "version": 3
   },
   "file_extension": ".py",
   "mimetype": "text/x-python",
   "name": "python",
   "nbconvert_exporter": "python",
   "pygments_lexer": "ipython3",
   "version": "3.8.15"
  }
 },
 "nbformat": 4,
 "nbformat_minor": 5
}
