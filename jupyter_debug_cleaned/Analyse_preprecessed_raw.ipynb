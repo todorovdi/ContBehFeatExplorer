{
 "cells": [
  {
   "cell_type": "code",
   "execution_count": null,
   "metadata": {},
   "outputs": [],
   "source": [
    "import os,sys\n",
    "import mne\n",
    "import utils  #my code\n",
    "import json\n",
    "import matplotlib.pyplot as plt\n",
    "import numpy as np\n",
    "%load_ext autoreload\n",
    "%autoreload 2\n",
    "\n",
    "if os.environ.get('DATA_DUSS') is not None:\n",
    "    data_dir = os.path.expandvars('$DATA_DUSS')\n",
    "else:\n",
    "    data_dir = '/home/demitau/data'\n",
    "    \n",
    "\n",
    "\n",
    "rawname_ = 'S01_off_hold'\n",
    "#rawname_ = 'S01_on_hold'\n",
    "rawname = rawname_ + '_resample_raw.fif'\n",
    "fname_full = os.path.join(data_dir,rawname)\n",
    "    \n",
    "# read file -- resampled to 256 Hz,  Electa MEG, EMG, LFP, EOG channels\n",
    "raw = mne.io.read_raw_fif(fname_full, None)"
   ]
  },
  {
   "cell_type": "code",
   "execution_count": null,
   "metadata": {},
   "outputs": [],
   "source": [
    "reconst_name = rawname_ + '_resample_afterICA_raw.fif'\n",
    "reconst_fname_full = os.path.join(data_dir,reconst_name)\n",
    "reconst_raw = mne.io.read_raw_fif(reconst_fname_full, None)"
   ]
  },
  {
   "cell_type": "code",
   "execution_count": null,
   "metadata": {},
   "outputs": [],
   "source": [
    "raw"
   ]
  },
  {
   "cell_type": "code",
   "execution_count": null,
   "metadata": {},
   "outputs": [],
   "source": [
    "#reconst_raw.ch_names"
   ]
  },
  {
   "cell_type": "code",
   "execution_count": null,
   "metadata": {},
   "outputs": [],
   "source": [
    "#reshuffle channels types (by default LFP and EMG types are determined wronng)\n",
    "\n",
    "# set types for some misc channels\n",
    "for i,chn in enumerate(raw.ch_names):\n",
    "    #chn = raw.ch_names[chi]\n",
    "    show = 0\n",
    "    if chn.find('_old') >= 0:\n",
    "        raw.set_channel_types({chn:'emg'}); show = 1\n",
    "    elif chn.find('_kil') >= 0:\n",
    "        raw.set_channel_types({chn:'misc'}); show = 1\n",
    "    elif chn.find('LFP') >= 0:\n",
    "        raw.set_channel_types({chn:'bio'}); show = 1  # or stim, ecog, eeg\n",
    "    \n",
    "    if show:\n",
    "        print(i, chn )\n",
    "        \n",
    "        \n",
    "bt = mne.io.pick.channel_indices_by_type(raw.info)\n",
    "miscchans = bt['misc']\n",
    "gradchans = bt['grad']\n",
    "magchans = bt['mag']\n",
    "eogchans = bt['eog']\n",
    "emgchans = bt['emg']\n",
    "biochans = bt['bio']\n",
    "#mne.pick_channels(raw,miscchans)\n",
    "\n",
    "print('miscchans', len(miscchans))\n",
    "print('gradchans', len(gradchans) )\n",
    "print('magchans', len(magchans))\n",
    "print('eogchans', len(eogchans))\n",
    "print('emgchans', len(emgchans))\n",
    "print('biochans', len(biochans))\n",
    "print( len(miscchans) + len(gradchans) + len(magchans) + len(eogchans) + len(emgchans) +\n",
    "      len(biochans), len(raw.ch_names) )\n",
    "print(len(raw.info['bads']))"
   ]
  },
  {
   "cell_type": "code",
   "execution_count": null,
   "metadata": {},
   "outputs": [],
   "source": [
    "# get info about bad MEG channels (from separate file)\n",
    "with open('subj_info.json') as info_json:\n",
    "        #raise TypeError\n",
    "\n",
    "    #json.dumps({'value': numpy.int64(42)}, default=convert)\n",
    "    gen_subj_info = json.load(info_json)\n",
    "    \n",
    "subj,medcond,task  = utils.getParamsFromRawname(rawname_)\n",
    "badchlist = gen_subj_info[subj]['bad_channels'][medcond][task]\n",
    "raw.info['bads'] = badchlist\n",
    "print('bad channels are ',badchlist)"
   ]
  },
  {
   "cell_type": "code",
   "execution_count": null,
   "metadata": {},
   "outputs": [],
   "source": [
    "import utils\n",
    "trem_times_fn = 'trem_times_tau.json'\n",
    "with open(trem_times_fn ) as jf:\n",
    "    trem_times_byhand = json.load(jf)   \n",
    "trem_times_nms_fn = 'trem_times_tau_nms.json'\n",
    "with open(trem_times_nms_fn ) as jf:\n",
    "    trem_times_nms_byhand = json.load(jf)   \n",
    "\n",
    "#%debug\n",
    "tremIntervalJan, artif         = utils.unpackTimeIntervals(trem_times_byhand, mainSide = True, \n",
    "                                                           gen_subj_info=gen_subj_info, skipNotLoadedRaws=0)\n",
    "tremIntervalJan_nms, artif_nms = utils.unpackTimeIntervals(trem_times_nms_byhand, mainSide = False, \n",
    "                                                           gen_subj_info=gen_subj_info, skipNotLoadedRaws=0)\n",
    "for rawn in [rawname_]:\n",
    "    if rawn in artif_nms and rawn not in artif:\n",
    "        artif[rawn] = artif_nms[rawn]\n",
    "    else:\n",
    "        if rawn in artif_nms:\n",
    "            artif[rawn].update(artif_nms[rawn] )\n",
    "        \n",
    "for rawn in tremIntervalJan:\n",
    "    sind_str,medcond,task = utils.getParamsFromRawname(rawn)\n",
    "    maintremside = gen_subj_info[sind_str]['tremor_side']\n",
    "    opside= utils.getOppositeSideStr(maintremside)\n",
    "    if rawn in tremIntervalJan_nms:\n",
    "        tremIntervalJan[rawn][opside] = tremIntervalJan_nms[rawn][opside] \n",
    "\n",
    "\n",
    "mvtTypes = ['tremor', 'no_tremor', 'unk_activity']\n",
    "\n",
    "plotTremNegOffset = 2.\n",
    "plotTremPosOffset = 2.\n",
    "maxPlotLen = 6   # for those interval that are made for plotting, not touching intervals for stats\n",
    "addIntLenStat = 5\n",
    "plot_time_end = 150\n",
    "\n",
    "timeIntervalPerRaw_processed = utils.processJanIntervals(tremIntervalJan, maxPlotLen, addIntLenStat, \n",
    "                          plotTremNegOffset, plotTremPosOffset, plot_time_end, mvtTypes=mvtTypes)"
   ]
  },
  {
   "cell_type": "code",
   "execution_count": null,
   "metadata": {},
   "outputs": [],
   "source": [
    "# for current raw\n",
    "maintremside = gen_subj_info[subj]['tremor_side']\n",
    "nonmaintremside = utils.getOppositeSideStr(maintremside)\n",
    "intervals = timeIntervalPerRaw_processed[rawname_][maintremside]   #[rawn][side] -- list of tuples (beg,end, type string)]   #[rawn][side] -- list of tuples (beg,end, type string)\n",
    "intervals_nms = timeIntervalPerRaw_processed[rawname_][nonmaintremside]   #[rawn][side] -- list of tuples (beg,end, type string)]   #[rawn][side] -- list of tuples (beg,end, type string)\n",
    "\n",
    "# convert to intervalType -> intervalInds\n",
    "import globvars as gv\n",
    "ivalis = {}  # dict of indices of intervals per interval type\n",
    "ivalis_nms = {}\n",
    "for itype in gv.gparams['intTypes']:\n",
    "    ivit = []\n",
    "    for i,interval in enumerate(intervals):\n",
    "        t1,t2,it = interval\n",
    "\n",
    "        if it == itype:\n",
    "            ivit += [i]\n",
    "    if len(ivit) > 0:\n",
    "        ivalis[itype] = ivit\n",
    "        \n",
    "    ivit = []\n",
    "    for i,interval in enumerate(intervals_nms):\n",
    "        t1,t2,it = interval\n",
    "\n",
    "        if it == itype:\n",
    "            ivit += [i]\n",
    "    if len(ivit) > 0:\n",
    "        ivalis_nms[itype] = ivit\n",
    "\n",
    "print('Main tremor side here is ',maintremside)\n",
    "\n",
    "display('all intervals:' ,intervals)\n",
    "display('intervals by type:', ivalis )\n",
    "\n",
    "# convert intervals to MNE type\n",
    "annotation_desc_2_event_id = {'middle_full':0, 'no_tremor':1, 'endseg':2}\n",
    "annotation_desc_2_event_id = {'middle_full':0, 'no_tremor':1}\n",
    "\n",
    "onset = [ ivl[0] for ivl in intervals ]\n",
    "duration = [ ivl[1]-ivl[0] for ivl in intervals ]\n",
    "description = [ ivl[2] for ivl in intervals ]\n",
    "annot = mne.Annotations(onset, duration, description)\n",
    "raw.set_annotations(annot)"
   ]
  },
  {
   "cell_type": "code",
   "execution_count": null,
   "metadata": {},
   "outputs": [],
   "source": [
    "help(plt.hist)"
   ]
  },
  {
   "cell_type": "code",
   "execution_count": null,
   "metadata": {},
   "outputs": [],
   "source": [
    "meg_chis = np.where ( [ a in ['grad','mag'] for a in reconst_raw.get_channel_types() ] )[0]\n",
    "\n",
    "meg_chnames = set( np.array(reconst_raw.ch_names)[meg_chis] ) #- set( raw.info['bads'] )\n",
    "meg_chnames = sorted(meg_chnames)"
   ]
  },
  {
   "cell_type": "code",
   "execution_count": null,
   "metadata": {},
   "outputs": [],
   "source": [
    "reconst_raw.info['bads']"
   ]
  },
  {
   "cell_type": "code",
   "execution_count": null,
   "metadata": {},
   "outputs": [],
   "source": [
    "raw.info['bads']"
   ]
  },
  {
   "cell_type": "code",
   "execution_count": null,
   "metadata": {},
   "outputs": [],
   "source": [
    "meg_chnames"
   ]
  },
  {
   "cell_type": "code",
   "execution_count": null,
   "metadata": {},
   "outputs": [],
   "source": [
    "#for chn in meg_chnames\n",
    "iii = 8\n",
    "chn = meg_chnames[iii]\n",
    "#chn = raw.info['bads'][3]\n",
    "print(chn)\n",
    "chd, times = reconst_raw[chn]\n",
    "chd0, times = raw[chn]"
   ]
  },
  {
   "cell_type": "code",
   "execution_count": null,
   "metadata": {},
   "outputs": [],
   "source": [
    "chd = chd[0,:]\n",
    "chd0 = chd0[0,:]"
   ]
  },
  {
   "cell_type": "code",
   "execution_count": null,
   "metadata": {},
   "outputs": [],
   "source": [
    "ww = 5; hh = 3; nr = 2; nc = 1\n",
    "fig,axs = plt.subplots(nr,nc, figsize=(nc*ww, nr*hh), sharex='col'); axs = axs.reshape(2,1)\n",
    "ax = axs[0,0]\n",
    "ax.hist(chd0, bins=100, alpha=0.5);\n",
    "ax = axs[1,0]\n",
    "ax.hist(chd, bins=100, alpha=0.5);\n",
    "ax.set_title('after Maxwell + filtering + ICA')"
   ]
  },
  {
   "cell_type": "code",
   "execution_count": null,
   "metadata": {},
   "outputs": [],
   "source": [
    "raw.get_channel_types()"
   ]
  },
  {
   "cell_type": "code",
   "execution_count": null,
   "metadata": {},
   "outputs": [],
   "source": [
    "lfp_chis = np.where ( [ a in ['bio'] for a in reconst_raw.get_channel_types() ] )[0]\n",
    "lfp_chnames =  np.array(reconst_raw.ch_names)[lfp_chis] \n",
    "\n",
    "iii = 1\n",
    "chn = lfp_chnames[iii]\n",
    "print(chn)\n",
    "chd, times = reconst_raw[chn]\n",
    "chd0, times = raw[chn]"
   ]
  },
  {
   "cell_type": "code",
   "execution_count": null,
   "metadata": {},
   "outputs": [],
   "source": [
    "chd = chd[0,:]\n",
    "chd0 = chd0[0,:]"
   ]
  },
  {
   "cell_type": "code",
   "execution_count": null,
   "metadata": {},
   "outputs": [],
   "source": [
    "ww = 5; hh = 3; nr = 2; nc = 1\n",
    "fig,axs = plt.subplots(nr,nc, figsize=(nc*ww, nr*hh), sharex='col'); axs = axs.reshape(2,1)\n",
    "ax = axs[0,0]\n",
    "ax.hist(chd0, bins=100, alpha=0.5);\n",
    "ax = axs[1,0]\n",
    "ax.hist(chd, bins=100, alpha=0.5);\n",
    "ax.set_title('after filtering')"
   ]
  },
  {
   "cell_type": "code",
   "execution_count": null,
   "metadata": {},
   "outputs": [],
   "source": [
    "strec = 0\n",
    "endrec = 300\n",
    "epdur = endrec\n",
    "new_events = mne.make_fixed_length_events(reconst_raw, start=strec, stop=endrec, duration=epdur)\n",
    "epochs = mne.Epochs(raw,new_events, tmin=0,tmax = epdur, baseline=None)\n",
    "\n",
    "freqs = np.linspace(3, 90, num=100)\n",
    "\n",
    "# sh=2\n",
    "# cfq = 15\n",
    "# freqs = np.logspace(*np.log10([cfq-sh,cfq+sh ]), num=6)\n",
    "n_cycles = freqs / 2.  # different number of cycle per frequency\n",
    "power = mne.time_frequency.tfr_morlet(epochs, freqs=freqs, n_cycles=n_cycles, use_fft=True,\n",
    "                        return_itc=False, decim=3, n_jobs=10)"
   ]
  },
  {
   "cell_type": "markdown",
   "metadata": {},
   "source": [
    "### Plot power band concentrations"
   ]
  },
  {
   "cell_type": "code",
   "execution_count": null,
   "metadata": {},
   "outputs": [],
   "source": [
    "timeints = [ ('nonotrem',a0,b0), ('trem', a,b), ('trem2', a1,b1)]\n",
    "fbs = [ ('tremfreq', 3,9), ('alpha/mu', 8,13),  ('beta', 15,30), ('gamma', 30,90)  ]\n",
    "nc = len(fbs); nr = len(timeints)\n",
    "ww = 4; hh = 3\n",
    "headsph = np.array([0,0,0,0.9])\n",
    "fig,axs = plt.subplots( nrows = nr, ncols = nc, figsize= (nc*ww, nr*hh))\n",
    "for i,ti in enumerate(timeints):\n",
    "    tiname,timin,timax = ti\n",
    "    for j,fb in enumerate(fbs):\n",
    "        fbname, fbmin, fbmax = fb\n",
    "        ax = axs[i,j]\n",
    "        ttl = 'epoch type: {};  band: {}'.format(tiname,fbname)\n",
    "        ax.set_title(ttl)\n",
    "        power.plot_topomap(sensors=True, contours=8, tmin=timin, tmax=timax, \n",
    "                           fmin=fbmin, fmax=fbmax, axes=ax, colorbar=True, size=40, res=100, show=0, sphere=headsph);\n",
    "        #plt.gcf().suptitle('{} : {}'.format(tiname,fbname))\n",
    "#plt.tight_layout()\n",
    "plt.savefig('{}_sensor_bandpow_concentr.pdf'.format(rawname_ ))"
   ]
  },
  {
   "cell_type": "code",
   "execution_count": null,
   "metadata": {},
   "outputs": [],
   "source": [
    "reconst_raw.filter(picks='emg', l_freq=10, h_freq=None)"
   ]
  },
  {
   "cell_type": "code",
   "execution_count": null,
   "metadata": {},
   "outputs": [],
   "source": [
    "#left\n",
    "leftEMG, times = reconst_raw[['EMG063_old', 'EMG064_old']]\n",
    "plt.plot(times,leftEMG.T, c='b', alpha=0.5)\n",
    "plt.figure()\n",
    "rightEMG, times = reconst_raw[['EMG061_old', 'EMG062_old']]\n",
    "plt.plot(times,rightEMG.T, c='g', alpha=0.5)"
   ]
  }
 ],
 "metadata": {
  "kernelspec": {
   "display_name": "Python 3",
   "language": "python",
   "name": "python3"
  },
  "language_info": {
   "codemirror_mode": {
    "name": "ipython",
    "version": 3
   },
   "file_extension": ".py",
   "mimetype": "text/x-python",
   "name": "python",
   "nbconvert_exporter": "python",
   "pygments_lexer": "ipython3",
   "version": "3.8.5"
  },
  "varInspector": {
   "cols": {
    "lenName": 16,
    "lenType": 16,
    "lenVar": 40
   },
   "kernels_config": {
    "python": {
     "delete_cmd_postfix": "",
     "delete_cmd_prefix": "del ",
     "library": "var_list.py",
     "varRefreshCmd": "print(var_dic_list())"
    },
    "r": {
     "delete_cmd_postfix": ") ",
     "delete_cmd_prefix": "rm(",
     "library": "var_list.r",
     "varRefreshCmd": "cat(var_dic_list()) "
    }
   },
   "types_to_exclude": [
    "module",
    "function",
    "builtin_function_or_method",
    "instance",
    "_Feature"
   ],
   "window_display": false
  }
 },
 "nbformat": 4,
 "nbformat_minor": 2
}
