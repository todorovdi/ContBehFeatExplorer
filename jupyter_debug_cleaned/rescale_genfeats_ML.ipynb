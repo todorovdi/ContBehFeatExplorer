{
 "cells": [
  {
   "cell_type": "code",
   "execution_count": null,
   "id": "df1389ee",
   "metadata": {},
   "outputs": [],
   "source": [
    "!pip freeze | grep mne"
   ]
  },
  {
   "cell_type": "code",
   "execution_count": null,
   "id": "3a3848db",
   "metadata": {},
   "outputs": [],
   "source": [
    "%load_ext autoreload\n",
    "%autoreload 2\n",
    "\n",
    "from utils_postprocess import printDict\n",
    "\n",
    "import globvars as gv\n",
    "import mne\n",
    "import matplotlib.pyplot as plt\n",
    "from os.path import join as pjoin\n",
    "\n",
    "\n",
    "defdgen = lambda sz :np.random.uniform(low=-1,high=1, size=sz)\n",
    "\n",
    "import utils_tSNE as utsne\n",
    "from utils import runFilePart\n",
    "\n",
    "sfreq = 256\n",
    "sfreq_hires = 1024\n",
    "\n",
    "#from IPython import get_ipython; ipython = get_ipython()\n",
    "#ipython.magic('run -i ../test_data/gen_test_data6.py')\n",
    "runFilePart('../test_data/gen_test_data7.py','')\n",
    "\n",
    "print(test_data_descr)\n",
    "\n",
    "#rawnames = ['S01_off_move','S01_off_hold','S01_on_move']\n",
    "\n",
    "# prep_test_data\n",
    "\n",
    "# _gt means ground truth here\n",
    "dat_pri_gt           = dat_pri\n",
    "dat_LFP_hires_pri_gt = dat_LFP_hires_pri\n",
    "\n",
    "dati = dati\n",
    "plt.plot(times,dat_pri[dati].T)\n",
    "plt.figure()\n",
    "plt.plot(times_hires,\n",
    "         dat_LFP_hires_pri[dati].T, \n",
    "         label=sfo_LFP)\n",
    "plt.legend()\n",
    "\n",
    "dat_EMG = defdgen( (2, nbins ) )\n",
    "\n",
    "# reversed if needed\n",
    "from utils import makeSimpleRaw\n",
    "from featlist import selFeatsRegexInds\n",
    "raws_permod_both_sides2 = {}\n",
    "for rawi,rawn in enumerate(rawnames):\n",
    "    raws_permod_both_sides2[rawn] = {}\n",
    "    chis_LFP = utsne.selFeatsRegexInds(sfo_pri[rawi], 'LFP.*' )\n",
    "    dat_LFP = dat_pri_gt[rawi][chis_LFP]\n",
    "    raws_permod_both_sides2[rawn]['LFP'] = makeSimpleRaw(dat_LFP, np.array(sfo_pri[rawi])[chis_LFP], rescale=0 )\n",
    "\n",
    "    chis_msrc = utsne.selFeatsRegexInds(sfo_pri[rawi], 'msrc.*' )\n",
    "    dat_msrc = dat_pri_gt[rawi][chis_msrc]\n",
    "    raws_permod_both_sides2[rawn]['src'] = makeSimpleRaw(dat_msrc, \n",
    "        np.array(sfo_pri[rawi])[chis_msrc] , rescale=0)\n",
    "\n",
    "    raws_permod_both_sides2[rawn]['LFP_hires'] = makeSimpleRaw(dat_LFP_hires_pri_gt[rawi],\n",
    "        sfo_lfp_hires_pri[rawi], sfreq=sfreq_hires, rescale=0 )\n",
    "    \n",
    "    raws_permod_both_sides2[rawn]['EMG'] = makeSimpleRaw(dat_EMG, \n",
    "        gv.EMG_per_hand[main_side], sfreq=sfreq, rescale=0)\n",
    "\n",
    "rawnames_str = ','.join(rawnames)\n",
    "\n",
    "####################################\n",
    "import globvars as gv\n",
    "gv.DEBUG_MODE=1\n",
    "from IPython import get_ipython; ipython = get_ipython()\n",
    "#Once that's done, run a magic command like this:\n",
    "#%debug\n",
    "raws_permod_both_sides = raws_permod_both_sides2\n",
    "\n",
    "mstr = 'run -i ../run/run_prep_dat.py -r ' +   rawnames_str + \\\n",
    "        ' --param_file prep_dat_defparams.ini --calc_stats_multi_band 1' +\\\n",
    "        ' --save_dat 1 --save_stats 1 --use_preloaded_raws 1 --allow_CUDA 0'\n",
    "ipython.magic(mstr)\n",
    "\n",
    "# %run -i ../run/run_prep_dat.py -r S99_off_move,S99_off_hold,S99_on_move \\\n",
    "#         --param_file prep_dat_defparams.ini --calc_stats_multi_band 1 --save_dat 1 \\\n",
    "#         --use_preloaded_raws 1 --save_stats 1\n",
    "\n",
    "\n",
    "from IPython import get_ipython; ipython = get_ipython()\n",
    "#debug\n",
    "\n",
    "# import warnings\n",
    "# warnings.filterwarnings(\"error\")\n",
    "# # with warnings.catch_warnings():\n",
    "# #     warnings.simplefilter('error')00\n",
    "\n",
    "# try:\n",
    "\n",
    "# except ComplexWarning as e:\n",
    "#     pass\n",
    "\n",
    "rs = ('%run -i ../run/run_genfeats.py '\n",
    "' --sources_type parcel_aal --bands crude'\n",
    "' --src_grouping_fn 10'\n",
    "' --src_grouping 0 '\n",
    "' --raw {} '\n",
    "' --feat_types con,H_act,H_mob,H_compl,rbcorr,bpcorr'\n",
    "' --Kalman_smooth 0'\n",
    "' --load_TFR 0'\n",
    "' --load_CSD 0'\n",
    "' --save_TFR 0'\n",
    "' --save_CSD 0'\n",
    "' --save_bpcorr 0'\n",
    "' --save_rbcorr 0'\n",
    "' --load_rbcorr 0'\n",
    "' --use_existing_TFR 0'\n",
    "' --use_preloaded_data 0'\n",
    "' --allow_CUDA 0'\n",
    "' --load_only 0'\n",
    "' --show_plots 0'\n",
    "' --plot_types ,'\n",
    "' --prescale_data 1'\n",
    "' --exit_after {}'\n",
    "' --normalize_TFR separate'\n",
    "' --scale_data_combine_type no'\n",
    "' --baseline_int_type entire'\n",
    "' --n_jobs 1'\n",
    "' --save_feat 1'\n",
    "' --feat_stats_artif_handling reject'\n",
    "' --scale_data_combine_type no '\n",
    "' --rbcorr_use_local_means 0'\n",
    "' --output_subdir test'\n",
    "' --stats_fn_prefix stats_{}_{}_ '\n",
    "' --param_file genfeats_defparams.ini ')\n",
    "\n",
    "exit_after = 'end'\n",
    "#exit_after = 'prescale_data'\n",
    "#exit_after = 'load'\n",
    "mstr2 = rs.format(rawnames_str,exit_after,rawnames_str[:3],len(rawnames))\n",
    "\n",
    "#%debug\n",
    "\n",
    "ipython.magic(mstr2)\n",
    "\n",
    "#np.savez(pjoin(gv.data_dir,'test.npz') ,globals() )"
   ]
  },
  {
   "cell_type": "code",
   "execution_count": null,
   "id": "aba1a33b",
   "metadata": {},
   "outputs": [],
   "source": [
    "print( rawnames )"
   ]
  },
  {
   "cell_type": "code",
   "execution_count": null,
   "id": "9df4bbed",
   "metadata": {},
   "outputs": [],
   "source": [
    "group_labels_dict"
   ]
  },
  {
   "cell_type": "code",
   "execution_count": null,
   "id": "7e35a986",
   "metadata": {},
   "outputs": [],
   "source": [
    "rawnames = ['S95_off_hold', 'S95_off_move']\n",
    "import globvars as gv"
   ]
  },
  {
   "cell_type": "code",
   "execution_count": null,
   "id": "b64a4613",
   "metadata": {},
   "outputs": [],
   "source": [
    "#rawnames_str = 'S95_off_move'\n",
    "#rawnames_str = 'S95_off_hold,S95_off_move'\n",
    "rawnames_str = ','.join(rawnames)\n",
    "gv.DEBUG_MODE=1\n",
    "\n",
    "%load_ext autoreload\n",
    "%autoreload 2\n",
    "\n",
    "#    --calc_VIF 1\\\n",
    "#    --feat_types Hjorth,con,rbcorr,bpcorr\\\n",
    "#--parcel_group_names motor-related\\\n",
    "#--EBM_featsel_feats all,heavy,VIFsel\n",
    "from IPython import get_ipython; ipython = get_ipython()\n",
    "mstr_ML = '''%run -t -i ../run/run_ML.py --sources_type parcel_aal --bands_type crude --src_grouping_fn 10\\\n",
    "    --src_grouping 0 \\\n",
    "    --prefix test \\\n",
    "    --skip_XGB 0\\\n",
    "    --mods LFP,msrc\\\n",
    "    --LFP_related_only 1\\\n",
    "    --feat_types con\\\n",
    "    --allow_CUDA 0\\\n",
    "    --subskip_fit 1 \\\n",
    "    --n_splits 4 \\\n",
    "    --calc_MI 0 \\\n",
    "    --save_output 1\\\n",
    "    --skip_LDA 0\\\n",
    "    --calc_VIF 0\\\n",
    "    --compute_ICA  0\\\n",
    "    --use_ICA_for_classif 0\\\n",
    "    --parcel_types !Frontal_Sup\\\n",
    "    --heavy_fit_red_featset 0\\ \n",
    "    --featsel_only_best_LFP 0\\\n",
    "    --calc_Boruta 0\\\n",
    "    --groupings_to_use merge_nothing --int_types_to_use basic\\\n",
    "    --input_subdir test --output_subdir test\\\n",
    "    --raw {} --load_only 0 --show_plots 1\\\n",
    "    --XGB_tune_param 1\\\n",
    "    --XGB_tree_method exact\\\n",
    "    --param_file ML_defparams.ini \\\n",
    "    --featsel_method XGB_Shapley,interpret_DPEBM,interpret_EBM\\\n",
    "    --EBM_featsel_feats all\n",
    "    --EBM_compute_pairwise 0\\\n",
    "    --label_groups_to_use subj_medcond_task \\\n",
    "    --exit_after {}\\\n",
    "    --prep_for_clf_only 0 \\\n",
    "    --EBM_CV 1 \\\n",
    "    --EBM_tune_param 1 \\\n",
    "    --EBM_tune_max_evals 2 \\\n",
    "    --EBM_balancing weighting\n",
    "    --load_EBM_params_auto 0'''\n",
    "\n",
    "#--skip_LDA 1\\\n",
    "#merge_all_not_trem\n",
    "#%debug\n",
    "\n",
    "exit_after = 'end'\n",
    "#exit_after = 'XGB_main'\n",
    "#exit_after = 'XGB_search_LFP'\n",
    "mstr_ML = mstr_ML.format(rawnames_str,exit_after)\n",
    "\n",
    "\n",
    "#%debug\n",
    "ipython.magic(mstr_ML)"
   ]
  },
  {
   "cell_type": "code",
   "execution_count": null,
   "id": "1bd6a584",
   "metadata": {},
   "outputs": [],
   "source": [
    "!ls /home/demitau/data/test/S95/test_/basic/merge_nothing/featsel_per_method/interpret_EBM/all/"
   ]
  },
  {
   "cell_type": "code",
   "execution_count": null,
   "id": "45aca0d7",
   "metadata": {},
   "outputs": [],
   "source": [
    "d = {'binning': 'uniform', 'learning_rate': 0.005, 'max_bins': 64, 'max_interaction_bins': 32, 'max_leaves': 5, 'min_samples_leaf': 4, 'outer_bags': 12, 'validation_size': 0.1}"
   ]
  },
  {
   "cell_type": "code",
   "execution_count": null,
   "id": "56d0411f",
   "metadata": {},
   "outputs": [],
   "source": []
  },
  {
   "cell_type": "code",
   "execution_count": null,
   "id": "30ff02a3",
   "metadata": {},
   "outputs": [],
   "source": [
    "results_cur['featsel_per_method']['interpret_EBM']['all'].keys()"
   ]
  },
  {
   "cell_type": "code",
   "execution_count": null,
   "id": "873587f2",
   "metadata": {},
   "outputs": [],
   "source": [
    "dict(results_cur['cmd'][0])"
   ]
  },
  {
   "cell_type": "code",
   "execution_count": null,
   "id": "ac6800ca",
   "metadata": {},
   "outputs": [],
   "source": [
    "resc_['featsel_per_method'][fsh][featsel_feat_subset_name].keys()"
   ]
  },
  {
   "cell_type": "code",
   "execution_count": null,
   "id": "eda9cf3a",
   "metadata": {},
   "outputs": [],
   "source": [
    "resc_['featsel_per_method'][fsh][featsel_feat_subset_name]['perf_per_cp']"
   ]
  },
  {
   "cell_type": "code",
   "execution_count": null,
   "id": "c158405b",
   "metadata": {},
   "outputs": [],
   "source": [
    "#ebm_creopts_tuned"
   ]
  },
  {
   "cell_type": "code",
   "execution_count": null,
   "id": "8f39b359",
   "metadata": {},
   "outputs": [],
   "source": [
    "EBM_tune_param and load_EBM_params_auto \\\n",
    "                                and os.path.exists(fname_ML_full_intermed_light)"
   ]
  },
  {
   "cell_type": "code",
   "execution_count": null,
   "id": "4a648960",
   "metadata": {},
   "outputs": [],
   "source": [
    "results_cur['XGB_analysis_versions']['all_present_features']['perf_per_cp']"
   ]
  },
  {
   "cell_type": "code",
   "execution_count": null,
   "id": "718f83d3",
   "metadata": {},
   "outputs": [],
   "source": [
    "results_cur['XGB_analysis_versions']['all_present_features']['perf_dict'].keys()"
   ]
  },
  {
   "cell_type": "code",
   "execution_count": null,
   "id": "d24c450a",
   "metadata": {},
   "outputs": [],
   "source": [
    "n_splits"
   ]
  },
  {
   "cell_type": "code",
   "execution_count": null,
   "id": "6d890a27",
   "metadata": {},
   "outputs": [],
   "source": [
    "r0 = utsne.getPredPowersCV(clf_XGB,X_cur,y_cur,\n",
    "    class_ind_to_check_lenc, printLog = 0,\n",
    "    n_splits=n_splits, add_fitopts=add_fitopts,\n",
    "    add_clf_creopts=add_clf_creopts,\n",
    "    ret_clf_obj=True, seed=0)\n",
    "\n",
    "from utils_tSNE import extractSubperfs\n",
    "perf_per_cp = extractSubperfs(X_cur,class_labels_good_for_classif, class_labels_good_for_classif_nm, \n",
    "                revdict_lenc, revdict_lenc_nm,\n",
    "               class_ind_to_check_lenc, r0['clf_objs' ] , r0['test_indices_list'] )"
   ]
  },
  {
   "cell_type": "code",
   "execution_count": null,
   "id": "2377ba3d",
   "metadata": {},
   "outputs": [],
   "source": [
    "r0['test_indices_list']"
   ]
  },
  {
   "cell_type": "code",
   "execution_count": null,
   "id": "8f7a3a00",
   "metadata": {},
   "outputs": [],
   "source": [
    "revdict"
   ]
  },
  {
   "cell_type": "code",
   "execution_count": null,
   "id": "972af7a2",
   "metadata": {},
   "outputs": [],
   "source": [
    "revdict_nm"
   ]
  },
  {
   "cell_type": "code",
   "execution_count": null,
   "id": "7a64dfd8",
   "metadata": {},
   "outputs": [],
   "source": [
    "lab_enc.inverse_transform([0])"
   ]
  },
  {
   "cell_type": "code",
   "execution_count": null,
   "id": "bb7239b7",
   "metadata": {},
   "outputs": [],
   "source": [
    "r0['clf_objs']"
   ]
  },
  {
   "cell_type": "code",
   "execution_count": null,
   "id": "7dd0b224",
   "metadata": {},
   "outputs": [],
   "source": [
    "'a' in ['a', 'b']"
   ]
  },
  {
   "cell_type": "code",
   "execution_count": null,
   "id": "af86113a",
   "metadata": {},
   "outputs": [],
   "source": [
    "if 'a' in {'a':5}:\n",
    "    print('f')"
   ]
  },
  {
   "cell_type": "code",
   "execution_count": null,
   "id": "bc793861",
   "metadata": {},
   "outputs": [],
   "source": [
    "#ivalis_tb_indarrays_merged"
   ]
  },
  {
   "cell_type": "code",
   "execution_count": null,
   "id": "51f2b280",
   "metadata": {},
   "outputs": [],
   "source": [
    "class_labels"
   ]
  },
  {
   "cell_type": "code",
   "execution_count": null,
   "id": "05abd624",
   "metadata": {},
   "outputs": [],
   "source": [
    "a,b = zip(*class_ids_grouped.items())  \n",
    "dict( zip(b,a))"
   ]
  },
  {
   "cell_type": "code",
   "execution_count": null,
   "id": "959386ca",
   "metadata": {},
   "outputs": [],
   "source": [
    "discard_remaining_int_types_during_fit"
   ]
  },
  {
   "cell_type": "code",
   "execution_count": null,
   "id": "5ad221be",
   "metadata": {},
   "outputs": [],
   "source": [
    "numpoints_per_class_id"
   ]
  },
  {
   "cell_type": "code",
   "execution_count": null,
   "id": "f2930bc1",
   "metadata": {},
   "outputs": [],
   "source": [
    "featsel_per_method['interpret_EBM']['all']['perf_per_cp']"
   ]
  },
  {
   "cell_type": "code",
   "execution_count": null,
   "id": "0ddd7ca8",
   "metadata": {},
   "outputs": [],
   "source": [
    "featsel_per_method['interpret_EBM']['all']['perf_dict']"
   ]
  },
  {
   "cell_type": "code",
   "execution_count": null,
   "id": "76128cdb",
   "metadata": {},
   "outputs": [],
   "source": [
    "featsel_per_method['interpret_DPEBM']['all']['perf_per_cp']"
   ]
  },
  {
   "cell_type": "code",
   "execution_count": null,
   "id": "27580058",
   "metadata": {},
   "outputs": [],
   "source": [
    "featsel_per_method['interpret_DPEBM']['all'].keys()"
   ]
  },
  {
   "cell_type": "code",
   "execution_count": null,
   "id": "737edfe2",
   "metadata": {},
   "outputs": [],
   "source": [
    "featsel_per_method['interpret_DPEBM']['all']['perf_per_cp']"
   ]
  },
  {
   "cell_type": "code",
   "execution_count": null,
   "id": "a597c4d3",
   "metadata": {},
   "outputs": [],
   "source": [
    "featsel_per_method['interpret_DPEBM']['all']['perf_dict']#['clf_objs']"
   ]
  },
  {
   "cell_type": "code",
   "execution_count": null,
   "id": "0bedd4e8",
   "metadata": {},
   "outputs": [],
   "source": [
    "pp.printSizeInfo(r)"
   ]
  },
  {
   "cell_type": "code",
   "execution_count": null,
   "id": "0f61a1f6",
   "metadata": {},
   "outputs": [],
   "source": [
    "r['featsel_per_method']['interpret_DPEBM']['all'].keys()"
   ]
  },
  {
   "cell_type": "code",
   "execution_count": null,
   "id": "7d1bfab2",
   "metadata": {},
   "outputs": [],
   "source": [
    "#%debug\n",
    "r = pp.removeLargeItems(results_cur)\n",
    "r['featsel_per_method']['interpret_DPEBM']['all']['ebmobj']"
   ]
  },
  {
   "cell_type": "code",
   "execution_count": null,
   "id": "b974dc73",
   "metadata": {},
   "outputs": [],
   "source": [
    "r['featsel_per_method']['interpret_DPEBM']['all']['perf']"
   ]
  },
  {
   "cell_type": "code",
   "execution_count": null,
   "id": "2915195c",
   "metadata": {},
   "outputs": [],
   "source": [
    "#%debug\n",
    "info_cur = utsne.computeEBM(X_EBM,y_EBM,EBM,ebm_creopts,revdict_lenc,\n",
    "        class_ind_to_check_lenc, class_labels_good_nm, revdict_nm,\n",
    "                            n_splits=n_splits,\n",
    "        EBM_compute_pairwise=EBM_compute_pairwise,\n",
    "        EBM_CV=EBM_CV, featnames_ebm=featnames_ebm,\n",
    "        tune_params = 0, params_space=params_space,\n",
    "                            max_evals=EBM_tune_max_evals)\n"
   ]
  },
  {
   "cell_type": "code",
   "execution_count": null,
   "id": "8f795f07",
   "metadata": {},
   "outputs": [],
   "source": [
    "from imblearn.over_sampling import RandomOverSampler\n",
    "oversample = RandomOverSampler(sampling_strategy='minority')\n"
   ]
  },
  {
   "cell_type": "code",
   "execution_count": null,
   "id": "d3826840",
   "metadata": {},
   "outputs": [],
   "source": [
    "X_,y_ = oversample.fit_resample(X,y)"
   ]
  },
  {
   "cell_type": "code",
   "execution_count": null,
   "id": "4d2d0641",
   "metadata": {},
   "outputs": [],
   "source": [
    "len(y)"
   ]
  },
  {
   "cell_type": "code",
   "execution_count": null,
   "id": "edcad840",
   "metadata": {},
   "outputs": [],
   "source": [
    "len(oversample.sample_indices_)"
   ]
  },
  {
   "cell_type": "code",
   "execution_count": null,
   "id": "df680a89",
   "metadata": {},
   "outputs": [],
   "source": [
    "help(RandomOverSampler)"
   ]
  },
  {
   "cell_type": "code",
   "execution_count": null,
   "id": "671cede1",
   "metadata": {},
   "outputs": [],
   "source": [
    "help(oversample.fit_resample)"
   ]
  },
  {
   "cell_type": "code",
   "execution_count": null,
   "id": "530f375a",
   "metadata": {},
   "outputs": [],
   "source": [
    "info_cur['perf_per_cp']"
   ]
  },
  {
   "cell_type": "code",
   "execution_count": null,
   "id": "23799e1e",
   "metadata": {},
   "outputs": [],
   "source": [
    "len( info_cur['perf_per_cp'] )"
   ]
  },
  {
   "cell_type": "code",
   "execution_count": null,
   "id": "d9b79cf6",
   "metadata": {},
   "outputs": [],
   "source": [
    "np.exp(xx)"
   ]
  },
  {
   "cell_type": "code",
   "execution_count": null,
   "id": "c6182596",
   "metadata": {},
   "outputs": [],
   "source": [
    "xx=0.021991313767351812"
   ]
  },
  {
   "cell_type": "code",
   "execution_count": null,
   "id": "4c4a0bcd",
   "metadata": {},
   "outputs": [],
   "source": [
    "1 / (1 + np.exp(xx))"
   ]
  },
  {
   "cell_type": "code",
   "execution_count": null,
   "id": "38443f41",
   "metadata": {},
   "outputs": [],
   "source": [
    "ebm, expl_data= info_cur"
   ]
  },
  {
   "cell_type": "code",
   "execution_count": null,
   "id": "dad96e9f",
   "metadata": {},
   "outputs": [],
   "source": [
    "expl_data"
   ]
  },
  {
   "cell_type": "code",
   "execution_count": null,
   "id": "2292d322",
   "metadata": {},
   "outputs": [],
   "source": [
    "sum(y)  / len(y)"
   ]
  },
  {
   "cell_type": "code",
   "execution_count": null,
   "id": "74e9ab1f",
   "metadata": {},
   "outputs": [],
   "source": [
    "sum( ebm.predict(X) ) / sum(y)"
   ]
  },
  {
   "cell_type": "code",
   "execution_count": null,
   "id": "615a93f8",
   "metadata": {},
   "outputs": [],
   "source": [
    "ebm.explain_local(X).__dict__.keys()"
   ]
  },
  {
   "cell_type": "code",
   "execution_count": null,
   "id": "6b41445b",
   "metadata": {},
   "outputs": [],
   "source": [
    "len(X)"
   ]
  },
  {
   "cell_type": "code",
   "execution_count": null,
   "id": "c1ba19cc",
   "metadata": {},
   "outputs": [],
   "source": [
    "len( ebm.explain_local(X)._internal_obj['specific'] )"
   ]
  },
  {
   "cell_type": "code",
   "execution_count": null,
   "id": "efee6a73",
   "metadata": {},
   "outputs": [],
   "source": [
    "help(ebm.explain_local)"
   ]
  },
  {
   "cell_type": "code",
   "execution_count": null,
   "id": "75e0a23c",
   "metadata": {},
   "outputs": [],
   "source": [
    "ebm.explain_local(X,y)._internal_obj['specific'][0]"
   ]
  },
  {
   "cell_type": "code",
   "execution_count": null,
   "id": "9d11a127",
   "metadata": {},
   "outputs": [],
   "source": [
    "ebm.predict_proba(X)"
   ]
  },
  {
   "cell_type": "code",
   "execution_count": null,
   "id": "9a8d3ac7",
   "metadata": {},
   "outputs": [],
   "source": [
    "help(ebm.predict_proba)"
   ]
  },
  {
   "cell_type": "code",
   "execution_count": null,
   "id": "efd6a4b6",
   "metadata": {},
   "outputs": [],
   "source": [
    "from imblearn.over_sampling import RandomOverSampler\n",
    "oversample = RandomOverSampler(sampling_strategy='minority')\n",
    "#X_orig,y_orig = X,y\n",
    "X_,y_ = oversample.fit_resample(X,y)\n",
    "    "
   ]
  },
  {
   "cell_type": "code",
   "execution_count": null,
   "id": "8898d040",
   "metadata": {},
   "outputs": [],
   "source": [
    "numpoints_per_class_id"
   ]
  },
  {
   "cell_type": "code",
   "execution_count": null,
   "id": "2b696641",
   "metadata": {},
   "outputs": [],
   "source": [
    "type(y_)"
   ]
  },
  {
   "cell_type": "code",
   "execution_count": null,
   "id": "8764ddc1",
   "metadata": {},
   "outputs": [],
   "source": [
    "utsne.countClassLabels(y_)"
   ]
  },
  {
   "cell_type": "code",
   "execution_count": null,
   "id": "713e5ebc",
   "metadata": {},
   "outputs": [],
   "source": [
    "from hyperopt import hp,fmin,tpe, Trials, STATUS_OK\n",
    "\n",
    "space = { 'max_bins': hp.choice('max_bins',[64,128,256,384, 512]),\n",
    " 'outer_bags':hp.choice('outer_bags',[2,4,8,12,16]),\n",
    " 'learning_rate':hp.choice('learning_rate',[1e-3,5e-3,1e-2,2e-2]),\n",
    " 'validation_size':hp.choice('validation_size',[0.10,0.15, 0.2, 0.3]),\n",
    " 'min_samples_leaf':hp.choice('min_samples_leaf',[2,3,4,5,7]),\n",
    " 'max_leaves':hp.choice('max_leaves',[2,3,5,7]),\n",
    " 'binning': hp.choice('binning',['quantile','quantile_humanized', 'uniform'])\n",
    "}\n",
    "if len(numpoints_per_class_id) > 2:\n",
    "    nfeats = len(featnames_ebm)\n",
    "    interaction_d = {'interactions': hp.quniform('interactions',0, (nfeats*(nfeats-1) // 2),1),\n",
    "    'max_interaction_bins':hp.choice('max_interaction_bins', [16,32,64])\n",
    "    }\n",
    "    space.update(interaction_d)\n",
    "\n",
    "space2 = {  'max_bins': hp.choice('max_bins',[16,32,64,128,256]),\n",
    " #quantile_humanized\n",
    " 'outer_bags':hp.choice('outer_bags',[1,2,4,8]),\n",
    " 'learning_rate':hp.choice('learning_rate',[1e-3,5e-3,1e-2,2e-2]),\n",
    " #'validation_size':hp.choice('validation_size',[0., 0.10, 0.2, 0.3]),\n",
    " 'min_samples_leaf':hp.choice('min_samples_leaf',[2,3,4,5,7]),\n",
    " 'max_leaves':hp.choice('max_leaves',[2,3,5,7]),\n",
    " 'bin_budget_frac':hp.choice( 'bin_budget_frac', [0.05, 0.1, 0.2] ) ,\n",
    " 'epsilon': hp.choice('epsilon', [0.75, 1, 1.25]),\n",
    " 'delta': hp.choice('delta', [1e-6, 1e-5, 2e-5, 1e-4, 1e-3])\n",
    "}\n",
    "\n",
    "\n",
    "#space2 = {  'max_bins': hp.choice('max_bins',[16,32,64,128,256]) }\n",
    "#composition = 'classic' or 'gdp'\n",
    "#'binning': hp.choice('binning',['quantile','quantile_humanized', 'uniform'])\n",
    "#privacy_schema: User specified min/maxes for numeric features as dictionary. Only applicable when binning is \"private\".\n",
    "\n",
    "# for feati in range(X.shape[1]):\n",
    "#     np.quantile(X,)\n",
    "q = 1e-1\n",
    "qX = np.quantile(X_for_heavy,[q,1-q], axis=0) # 2 x X.shape[0]\n",
    "privacy_schema = dict( zip( range(X.shape[0]), list( zip(*qX) )  ) )\n",
    "privacy_schema['target'] = (0,0)\n",
    "ebm_creopts['privacy_schema'] = privacy_schema # ONLY FOR DBEx\n",
    "\n",
    "#         outer_bags=1,\n",
    "#         # Boosting\n",
    "#         learning_rate=0.01,\n",
    "#         validation_size=0,\n",
    "#         max_rounds=300,\n",
    "#         max_bins=32,\n",
    "#         binning=\"private\",\n",
    "#         epsilon=1,\n",
    "#         delta=1e-5,\n",
    "#         composition='gdp',\n",
    "#         bin_budget_frac=0.1,\n",
    "#         privacy_schema=None,\n",
    "\n",
    "# space = {'name':hp.choice('param_name',['val1','val2']),\n",
    "#         'pname2':hp.uniform('pname2', 0, 0.5)}\n",
    "#hp.quniform(label, low, high, q)\n",
    "\n",
    "from sklearn.model_selection import cross_val_score\n",
    "X_train = X_for_heavy [::2]\n",
    "y_train = class_labels_good_for_classif [::2]"
   ]
  },
  {
   "cell_type": "code",
   "execution_count": null,
   "id": "4eb4851d",
   "metadata": {},
   "outputs": [],
   "source": [
    "def objective(space_loc):\n",
    "    import time\n",
    "    st_time =time.time()\n",
    "    ebm_creopts_loc = dict(ebm_creopts.items())\n",
    "    ebm_creopts_loc.update(space_loc)\n",
    "    ebm_creopts_loc['n_jobs'] = 1\n",
    "    ebm_creopts_loc['composition'] = 'gdp'\n",
    "    #model = EBM(**space_loc)\n",
    "    model = EBM(**ebm_creopts_loc)\n",
    "    accuracy = cross_val_score(model,X_train,y_train,cv=4, scoring='balanced_accuracy').mean()\n",
    "    \n",
    "    print(space_loc)\n",
    "    return {'loss':-accuracy, 'status':STATUS_OK, 'creopts':ebm_creopts_loc, 'effparams':space_loc,\n",
    "           'time':time.time() - st_time}\n",
    "\n",
    "#%debug\n",
    "trials = Trials()\n",
    "max_evals = 4\n",
    "best = fmin(fn=objective, space=space, algo=tpe.suggest, max_evals=max_evals, trials=trials)\n",
    "best\n",
    "\n",
    "# trials.trials - a list of dictionaries representing everything about the search\n",
    "# trials.results - a list of dictionaries returned by 'objective' during the search\n",
    "# trials.losses() - a list of losses (float for each 'ok' trial)\n",
    "# trials.statuses() - a list of status strings"
   ]
  },
  {
   "cell_type": "code",
   "execution_count": null,
   "id": "591b9999",
   "metadata": {},
   "outputs": [],
   "source": [
    "trials.results[ np.argmin( trials.losses() ) ]['creopts']"
   ]
  },
  {
   "cell_type": "code",
   "execution_count": null,
   "id": "297a5c33",
   "metadata": {},
   "outputs": [],
   "source": [
    "trials.results"
   ]
  },
  {
   "cell_type": "code",
   "execution_count": null,
   "id": "9bd218a1",
   "metadata": {},
   "outputs": [],
   "source": [
    "for tr in trials:\n",
    "    print( tr['result']['effparams'])"
   ]
  },
  {
   "cell_type": "code",
   "execution_count": null,
   "id": "f8003868",
   "metadata": {},
   "outputs": [],
   "source": [
    "list( trials)[0]"
   ]
  },
  {
   "cell_type": "code",
   "execution_count": null,
   "id": "f0c2f551",
   "metadata": {},
   "outputs": [],
   "source": [
    "list( trials)[0]['creopts']"
   ]
  },
  {
   "cell_type": "code",
   "execution_count": null,
   "id": "dd3b0aee",
   "metadata": {},
   "outputs": [],
   "source": [
    "help(EBM)"
   ]
  },
  {
   "cell_type": "code",
   "execution_count": null,
   "id": "6eb392fe",
   "metadata": {},
   "outputs": [],
   "source": [
    "EBM"
   ]
  },
  {
   "cell_type": "code",
   "execution_count": null,
   "id": "9d3f4cf3",
   "metadata": {},
   "outputs": [],
   "source": [
    "from interpret.privacy import DPExplainableBoostingClassifier as EBM\n"
   ]
  },
  {
   "cell_type": "code",
   "execution_count": null,
   "id": "233b7a46",
   "metadata": {},
   "outputs": [],
   "source": [
    "from interpret.glassbox import DPExplainableBoostingClassifier as EBM\n"
   ]
  },
  {
   "cell_type": "code",
   "execution_count": null,
   "id": "4e3609db",
   "metadata": {},
   "outputs": [],
   "source": [
    "help( interpret.glassbox.ebm)"
   ]
  },
  {
   "cell_type": "code",
   "execution_count": null,
   "id": "a029d9f2",
   "metadata": {},
   "outputs": [],
   "source": [
    "EBM_compute_pairwise"
   ]
  },
  {
   "cell_type": "code",
   "execution_count": null,
   "id": "caee338e",
   "metadata": {},
   "outputs": [],
   "source": [
    "set(y)"
   ]
  },
  {
   "cell_type": "code",
   "execution_count": null,
   "id": "b93cfb6d",
   "metadata": {},
   "outputs": [],
   "source": [
    "                            EBM_CV = 1\n",
    "                            info_cur = utsne.computeEBM(X,y,EBM,ebm_creopts,revdict,\n",
    "                                        class_ind_to_check_lenc, n_splits=n_splits,\n",
    "                                        EBM_compute_pairwise=EBM_compute_pairwise,\n",
    "                                        EBM_CV=EBM_CV, featnames_ebm=featnames_ebm)\n",
    "                            info_cur['feature_indices_used'] = featis\n",
    "                            featsel_info[featsel_feat_subset_name] = info_cur\n"
   ]
  },
  {
   "cell_type": "code",
   "execution_count": null,
   "id": "945caac8",
   "metadata": {},
   "outputs": [],
   "source": [
    "#rawnames_str = 'S95_off_move'\n",
    "#rawnames_str = 'S95_off_hold,S95_off_move'\n",
    "rawnames_str = ','.join(rawnames)\n",
    "gv.DEBUG_MODE=1\n",
    "\n",
    "%load_ext autoreload\n",
    "%autoreload 2\n",
    "\n",
    "#    --calc_VIF 1\\\n",
    "#    --feat_types Hjorth,con,rbcorr,bpcorr\\\n",
    "#--parcel_group_names motor-related\\\n",
    "from IPython import get_ipython; ipython = get_ipython()\n",
    "mstr_ML = '''%run -t -i ../run/run_ML.py --sources_type parcel_aal --bands_type crude --src_grouping_fn 10\\\n",
    "    --src_grouping 0 \\\n",
    "    --prefix test \\\n",
    "    --skip_XGB 0\\\n",
    "    --mods LFP,msrc\\\n",
    "    --feat_types H_act,H_mob,H_compl\\\n",
    "    --allow_CUDA 0\\\n",
    "    --subskip_fit 1 \\\n",
    "    --n_splits 4 \\\n",
    "    --calc_MI 0 \\\n",
    "    --save_output 1\\\n",
    "    --skip_LDA 1\\\n",
    "    --calc_VIF 0\\\n",
    "    --compute_ICA  0\\\n",
    "    --use_ICA_for_classif 0\\\n",
    "    --parcel_types !Frontal_Sup\\\n",
    "    --heavy_fit_red_featset 0\\ \n",
    "    --featsel_only_best_LFP 0\\\n",
    "    --calc_Boruta 0\\\n",
    "    --groupings_to_use merge_movements --int_types_to_use basic\\\n",
    "    --input_subdir test --output_subdir test\\\n",
    "    --raw {} --load_only 0 --show_plots 1\\\n",
    "    --XGB_tune_param 1\\\n",
    "    --XGB_tree_method exact\\\n",
    "    --param_file ML_defparams.ini \\\n",
    "    --featsel_method XGB_Shapley,interpret_EBM\\\n",
    "    --EBM_featsel_feats all,heavy,VIFsel\n",
    "    --EBM_compute_pairwise 0\\\n",
    "    --label_groups_to_use subj_medcond_task\n",
    "    --exit_after {}\\\n",
    "    --prep_for_clf_only 0'''\n",
    "\n",
    "#--skip_LDA 1\\\n",
    "\n",
    "#%debug\n",
    "\n",
    "exit_after = 'end'\n",
    "#exit_after = 'load'\n",
    "#exit_after = 'XGB_main'\n",
    "#exit_after = 'XGB_search_LFP'\n",
    "mstr_ML = mstr_ML.format(rawnames_str,exit_after)\n",
    "\n",
    "\n",
    "#%debug\n",
    "ipython.magic(mstr_ML)"
   ]
  },
  {
   "cell_type": "code",
   "execution_count": null,
   "id": "2b99881d",
   "metadata": {},
   "outputs": [],
   "source": [
    "                        resc_ = fe['results_light'][()]\n",
    "                        rc = resc_['XGB_analysis_versions']['all_present_features']\n",
    "                        add_clf_creopts_tuned  = rc.get('add_clf_creopts',None)\n",
    "                        add_fitopts_tuned      = rc.get('add_fitopts',None)\n",
    "                        print('-------- Loaded XGB parameters from file!')\n"
   ]
  },
  {
   "cell_type": "code",
   "execution_count": null,
   "id": "440a9b28",
   "metadata": {},
   "outputs": [],
   "source": [
    "results_cur.keys()"
   ]
  },
  {
   "cell_type": "code",
   "execution_count": null,
   "id": "83af30e3",
   "metadata": {},
   "outputs": [],
   "source": []
  },
  {
   "cell_type": "code",
   "execution_count": null,
   "id": "5040a9e3",
   "metadata": {},
   "outputs": [],
   "source": []
  },
  {
   "cell_type": "code",
   "execution_count": null,
   "id": "f4937341",
   "metadata": {},
   "outputs": [],
   "source": []
  },
  {
   "cell_type": "code",
   "execution_count": null,
   "id": "3753971b",
   "metadata": {},
   "outputs": [],
   "source": []
  },
  {
   "cell_type": "code",
   "execution_count": null,
   "id": "9f840207",
   "metadata": {},
   "outputs": [],
   "source": [
    "expl_loc = ebm.explain_local(X[:3],y[:3])"
   ]
  },
  {
   "cell_type": "code",
   "execution_count": null,
   "id": "122a8bfd",
   "metadata": {},
   "outputs": [],
   "source": [
    "expl_loc.data()"
   ]
  },
  {
   "cell_type": "code",
   "execution_count": null,
   "id": "551b1c35",
   "metadata": {},
   "outputs": [],
   "source": [
    "load_XGB_params_auto"
   ]
  },
  {
   "cell_type": "code",
   "execution_count": null,
   "id": "5a045be3",
   "metadata": {},
   "outputs": [],
   "source": [
    "fname_ML_full_intermed_light"
   ]
  },
  {
   "cell_type": "code",
   "execution_count": null,
   "id": "016348e3",
   "metadata": {},
   "outputs": [],
   "source": [
    "load_XGB_params_auto and os.path.exists(fname_ML_full_intermed_light)\n"
   ]
  },
  {
   "cell_type": "code",
   "execution_count": null,
   "id": "ea8c58dd",
   "metadata": {},
   "outputs": [],
   "source": [
    "help(ebm.fit)"
   ]
  },
  {
   "cell_type": "code",
   "execution_count": null,
   "id": "f76b38f1",
   "metadata": {},
   "outputs": [],
   "source": [
    "feature_names_all"
   ]
  },
  {
   "cell_type": "code",
   "execution_count": null,
   "id": "5c60a0c4",
   "metadata": {},
   "outputs": [],
   "source": [
    "feature_names_all2 = list(feature_names_all) + ['H_act_msrcR_9_5_c0','H_mob_msrcR_9_5_c0']"
   ]
  },
  {
   "cell_type": "code",
   "execution_count": null,
   "id": "0082e9ae",
   "metadata": {},
   "outputs": [],
   "source": [
    "features_to_use = ['H_act']"
   ]
  },
  {
   "cell_type": "code",
   "execution_count": null,
   "id": "649caae0",
   "metadata": {},
   "outputs": [],
   "source": [
    "    selected_feat_inds =  filterFeats(feature_names_all2, chnames_LFP,\n",
    "                                      LFP_related_only, parcel_types,\n",
    "                                      remove_crossLFP, cross_couplings_only,\n",
    "                                      self_couplings_only, fbands_to_use,\n",
    "                                      features_to_use, fbands_per_mod, feat_types_all,\n",
    "                                      data_modalities, data_modalities_all,\n",
    "                                      msrc_inds, parcel_group_names,\n",
    "                                      roi_labels,srcgrouping_names_sorted,\n",
    "                                      src_file_grouping_ind, fbands_def,\n",
    "                                      fband_names_fine_inc_HFO, use_lfp_HFO,\n",
    "                                      use_main_LFP_chan, mainLFPchan,\n",
    "                                      mainLFPchan_new_name_templ,\n",
    "                                      printLog=1)\n"
   ]
  },
  {
   "cell_type": "code",
   "execution_count": null,
   "id": "1d3ad50f",
   "metadata": {},
   "outputs": [],
   "source": [
    "np.array(feature_names_all2)[selected_feat_inds]"
   ]
  },
  {
   "cell_type": "code",
   "execution_count": null,
   "id": "51ed1b48",
   "metadata": {},
   "outputs": [],
   "source": [
    "featnames"
   ]
  },
  {
   "cell_type": "code",
   "execution_count": null,
   "id": "582c7404",
   "metadata": {},
   "outputs": [],
   "source": [
    "X_for_heavy.shape"
   ]
  },
  {
   "cell_type": "code",
   "execution_count": null,
   "id": "3e5f1187",
   "metadata": {},
   "outputs": [],
   "source": [
    "featnames"
   ]
  },
  {
   "cell_type": "code",
   "execution_count": null,
   "id": "73b6b0b0",
   "metadata": {},
   "outputs": [],
   "source": [
    "expl = utsne.shapr_proxy(X_for_heavy,class_labels_for_heavy,featnames)"
   ]
  },
  {
   "cell_type": "code",
   "execution_count": null,
   "id": "682fac43",
   "metadata": {},
   "outputs": [],
   "source": [
    "expl[4]"
   ]
  },
  {
   "cell_type": "code",
   "execution_count": null,
   "id": "fba2f050",
   "metadata": {},
   "outputs": [],
   "source": [
    "pca.components_.shape"
   ]
  },
  {
   "cell_type": "code",
   "execution_count": null,
   "id": "7e1e2e52",
   "metadata": {},
   "outputs": [],
   "source": [
    "pca"
   ]
  },
  {
   "cell_type": "code",
   "execution_count": null,
   "id": "2e7acb91",
   "metadata": {},
   "outputs": [],
   "source": []
  },
  {
   "cell_type": "code",
   "execution_count": null,
   "id": "e4887c6d",
   "metadata": {},
   "outputs": [],
   "source": [
    "tt = np.random.uniform(-1,1,size=(1000,10))\n",
    "tt[:,:-2] = 0\n",
    "pca = PCA(n_components=0.6)\n",
    "pca.fit(tt)\n",
    "ica = FastICA(n_components=pca.components_.shape[0],\n",
    "                random_state=0, max_iter=max_iter)\n",
    "ica.fit(  pca.transform(tt))\n"
   ]
  },
  {
   "cell_type": "code",
   "execution_count": null,
   "id": "7a74e60a",
   "metadata": {},
   "outputs": [],
   "source": [
    "pca.n_components_"
   ]
  },
  {
   "cell_type": "code",
   "execution_count": null,
   "id": "ed85db9d",
   "metadata": {},
   "outputs": [],
   "source": [
    "from utils import pcaica2featCoef\n",
    "mix_appl = pcaica2featCoef(pca,ica)\n"
   ]
  },
  {
   "cell_type": "code",
   "execution_count": null,
   "id": "5962d70a",
   "metadata": {},
   "outputs": [],
   "source": [
    "mix_appl[:,0], mix_appl[:,1]"
   ]
  },
  {
   "cell_type": "code",
   "execution_count": null,
   "id": "d6d1fd70",
   "metadata": {},
   "outputs": [],
   "source": [
    "mix_appl.shape"
   ]
  },
  {
   "cell_type": "code",
   "execution_count": null,
   "id": "8442b072",
   "metadata": {},
   "outputs": [],
   "source": [
    "pca.components_.shape"
   ]
  },
  {
   "cell_type": "code",
   "execution_count": null,
   "id": "b5294e37",
   "metadata": {},
   "outputs": [],
   "source": [
    "mix_appl[:,0]"
   ]
  },
  {
   "cell_type": "code",
   "execution_count": null,
   "id": "dc2b17f2",
   "metadata": {},
   "outputs": [],
   "source": [
    "pca.__dict__"
   ]
  },
  {
   "cell_type": "code",
   "execution_count": null,
   "id": "25806336",
   "metadata": {},
   "outputs": [],
   "source": [
    "ica.__dict__"
   ]
  },
  {
   "cell_type": "code",
   "execution_count": null,
   "id": "ce2d365d",
   "metadata": {},
   "outputs": [],
   "source": [
    "X_for_heavy.shape"
   ]
  },
  {
   "cell_type": "code",
   "execution_count": null,
   "id": "7142fbd9",
   "metadata": {},
   "outputs": [],
   "source": [
    "pca_derived_featinds"
   ]
  },
  {
   "cell_type": "code",
   "execution_count": null,
   "id": "205466ae",
   "metadata": {},
   "outputs": [],
   "source": [
    "results_cur['XGB_analysis_versions']['all_present_features']['across']"
   ]
  },
  {
   "cell_type": "code",
   "execution_count": null,
   "id": "a81a28af",
   "metadata": {},
   "outputs": [],
   "source": [
    "results_cur['featsel_per_method']['interpret_EBM']"
   ]
  },
  {
   "cell_type": "markdown",
   "id": "96544911",
   "metadata": {},
   "source": [
    "# Plot class labels"
   ]
  },
  {
   "cell_type": "code",
   "execution_count": null,
   "id": "9bcae9bb",
   "metadata": {},
   "outputs": [],
   "source": [
    "Xtimes_concat = wbd_merged[0] / sfreq\n",
    "markersize = 4\n",
    "# TODO: concat xtimes, show for several datasets joined, with EMG\n",
    "if len(artif_naive_bininds):\n",
    "    mask =  [-2]*len(artif_naive_bininds)\n",
    "    #plt.plot(Xtimes_pri[0][bininds_concat_bad], bininds_concat_bad)\n",
    "    plt.plot(Xtimes_concat[artif_naive_bininds],mask, lw=0, marker='x', \n",
    "             markersize=markersize,\n",
    "            label='naive bad inds')\n",
    "\n",
    "bininds_concat_bad = \\\n",
    "    np.setdiff1d(np.arange(Xconcat_imputed.shape[0]),bininds_concat_good_yes_label) \n",
    "mask =  [-1]*len(bininds_concat_bad)\n",
    "#plt.plot(Xtimes_pri[0][bininds_concat_bad], bininds_concat_bad)\n",
    "plt.plot(Xtimes_concat[bininds_concat_bad],mask, lw=0, marker='x', \n",
    "         markersize=markersize,\n",
    "        label='bad inds')\n",
    "\n",
    "clgu = sorted(set(class_labels_good))\n",
    "for cidi,class_id in enumerate( clgu):\n",
    "    orig_inds = bininds_concat_good_yes_label[np.where(class_labels_good==class_id)[0]]\n",
    "    mask =  [cidi]*len(orig_inds)\n",
    "    plt.plot(Xtimes_concat[orig_inds],mask, lw=0, marker='o', markersize=markersize, \n",
    "             label=class_label_names_ordered[cidi])\n",
    "\n",
    "for lblid in sorted(set(class_labels_good_for_classif) ):\n",
    "    binds_cur = np.where(class_labels_good_for_classif == lblid)[0]\n",
    "    binds_cur = bininds_concat_good_yes_label[binds_cur]\n",
    "    mask =  [lblid + len(clgu) ]*len(binds_cur)\n",
    "    plt.plot(Xtimes_concat[binds_cur], mask, lw=0, marker='o', markersize=markersize,\n",
    "             label = 'forclf_' +class_label_names_ordered[lblid])\n",
    "    \n",
    "plt.legend(loc = (1,0))\n",
    "plt.xlim(0,datlen_s * len(X_pri))\n"
   ]
  },
  {
   "cell_type": "code",
   "execution_count": null,
   "id": "113d8a4b",
   "metadata": {},
   "outputs": [],
   "source": [
    "test_plots_descr"
   ]
  },
  {
   "cell_type": "code",
   "execution_count": null,
   "id": "0128e1a9",
   "metadata": {},
   "outputs": [],
   "source": [
    "special_chns"
   ]
  },
  {
   "cell_type": "code",
   "execution_count": null,
   "id": "ad89f33c",
   "metadata": {},
   "outputs": [],
   "source": [
    "from plots import plotFeatsWithEverything\n",
    "#%debug\n",
    "plotFeatsWithEverything(dat_pri, times_pri, X_pri, \n",
    "                            Xtimes_pri, dat_lfp_hires_pri, times_hires_pri,\n",
    "                            rawnames,\n",
    "                            subfeature_order_pri, subfeature_order_newsrcgrp_pri,\n",
    "                            subfeature_order_lfp_hires_pri,\n",
    "                            anndict_per_intcat_per_rawn,\n",
    "                            featnames, wbd_H_pri,\n",
    "                            sfreq, raw_perband_flt_pri, raw_perband_bp_pri,\n",
    "                            scale_data_combine_type,\n",
    "                            stats_multiband_flt, stats_multiband_bp,\n",
    "                            test_plots_descr, special_chns,\n",
    "                           fband_names_inc_HFO )\n"
   ]
  },
  {
   "cell_type": "code",
   "execution_count": null,
   "id": "ed0637d0",
   "metadata": {},
   "outputs": [],
   "source": [
    "VIF_truncation_6 = VIF_truncation"
   ]
  },
  {
   "cell_type": "code",
   "execution_count": null,
   "id": "4bd315e1",
   "metadata": {},
   "outputs": [],
   "source": [
    "VIF_truncation_7 = VIF_truncation"
   ]
  },
  {
   "cell_type": "code",
   "execution_count": null,
   "id": "71cd7b67",
   "metadata": {},
   "outputs": [],
   "source": [
    "VIF_truncation_6"
   ]
  },
  {
   "cell_type": "code",
   "execution_count": null,
   "id": "d0d421e0",
   "metadata": {},
   "outputs": [],
   "source": [
    "VIF_truncation_7"
   ]
  },
  {
   "cell_type": "code",
   "execution_count": null,
   "id": "a8a0cb83",
   "metadata": {},
   "outputs": [],
   "source": [
    "info_per_cp.keys()"
   ]
  },
  {
   "cell_type": "code",
   "execution_count": null,
   "id": "709cb120",
   "metadata": {},
   "outputs": [],
   "source": [
    "#explain_global = info_per_cp[('trem_L', 'notrem_L')]['explainer']\n",
    "explain_global = info_per_cp[('trem_L', 'hold_L&move_L')]['explainer']\n",
    "\n",
    "from interpret import show\n",
    "\n",
    "show(explain_global)"
   ]
  },
  {
   "cell_type": "code",
   "execution_count": null,
   "id": "69bc9add",
   "metadata": {},
   "outputs": [],
   "source": [
    "from utils_tSNE import getScoresPerClass\n",
    "r = getScoresPerClass(class_labels_good_for_classif,featsel_per_method['XGB_Shapley']['scores'],1)\n",
    "\n",
    "\n",
    "\n",
    "scores,bias = r\n",
    "\n",
    "#class_label_names_ordered\n",
    "\n",
    "tremind = class_label_names_ordered.index('trem_L')\n",
    "si = np.argmax(scores[tremind] )\n",
    "\n",
    "bestfeats = []\n",
    "bestfeats_nice = []\n",
    "feat_comments = []\n",
    "for ind,lblstr in enumerate(class_label_names_ordered):\n",
    "    si = np.argmax(scores[ind] )\n",
    "    if featsel_on_VIF:\n",
    "        feat_inds =  VIF_truncation['colinds_good_VIFsel']\n",
    "    else:\n",
    "        feat_inds = np.arange(len(featnames))\n",
    "    tmp = np.array(featnames_nice)[ feat_inds[si] ]\n",
    "    bestfeats_nice += [tmp]\n",
    "    tmp = np.array(featnames)[ feat_inds[si] ]\n",
    "    bestfeats += [tmp]\n",
    "    feat_comments += ['best for ' + lblstr]\n",
    "\n",
    "print(bestfeats_nice)\n",
    "featnames_sel = bestfeats"
   ]
  },
  {
   "cell_type": "code",
   "execution_count": null,
   "id": "80b4d865",
   "metadata": {},
   "outputs": [],
   "source": [
    "print(scores), bias"
   ]
  },
  {
   "cell_type": "code",
   "execution_count": null,
   "id": "c50734b4",
   "metadata": {},
   "outputs": [],
   "source": [
    "feat_comments"
   ]
  },
  {
   "cell_type": "code",
   "execution_count": null,
   "id": "1e8dd0d4",
   "metadata": {},
   "outputs": [],
   "source": [
    "from plots import plotFeatsAndRelDat\n",
    "#%debug\n",
    "plotFeatsAndRelDat(rawnames, featnames_sel, dat_pri,subfeature_order_pri,\n",
    "                X_pri,[featnames]*len(rawnames),times_pri,Xtimes_pri,\n",
    "                subfeature_order_newsrcgrp_pri, wbd_H_pri,\n",
    "                dat_hires_pri=dat_lfp_hires_pri,\n",
    "                chnames_all_hires_pri = subfeature_order_lfp_hires_pri,\n",
    "                times_hires_pri=times_hires_pri,\n",
    "                anndict_per_intcat_per_rawn=anndict_per_intcat_per_rawn, sfreq=sfreq,\n",
    "                  feat_comments=feat_comments)\n",
    "\n",
    "plt.tight_layout()"
   ]
  },
  {
   "cell_type": "code",
   "execution_count": null,
   "id": "43b2eccb",
   "metadata": {},
   "outputs": [],
   "source": [
    "VIF_truncation.keys()"
   ]
  },
  {
   "cell_type": "code",
   "execution_count": null,
   "id": "db93ad19",
   "metadata": {},
   "outputs": [],
   "source": [
    "exogs_list[-1]"
   ]
  },
  {
   "cell_type": "markdown",
   "id": "ff773d89",
   "metadata": {},
   "source": [
    "# Look at regressable features"
   ]
  },
  {
   "cell_type": "code",
   "execution_count": null,
   "id": "0f4caa92",
   "metadata": {},
   "outputs": [],
   "source": [
    "colinds_good_VIFsel,colinds_bad_VIFsel[-1]"
   ]
  },
  {
   "cell_type": "code",
   "execution_count": null,
   "id": "eb4fba89",
   "metadata": {},
   "outputs": [],
   "source": [
    "featnames_sel = np.array(featnames)[list(colinds_good_VIFsel) +\\\n",
    "                                    [colinds_bad_VIFsel[-1]] ]\n",
    "print(featnames_sel)\n",
    "feat_comments = len(colinds_good_VIFsel) * [''] + ['last_bad']"
   ]
  },
  {
   "cell_type": "code",
   "execution_count": null,
   "id": "6fd4e137",
   "metadata": {},
   "outputs": [],
   "source": [
    "from plots import plotFeatsAndRelDat\n",
    "#%debug\n",
    "plotFeatsAndRelDat(rawnames, featnames_sel, dat_pri,subfeature_order_pri,\n",
    "                X_pri,[featnames]*len(rawnames),times_pri,Xtimes_pri,\n",
    "                subfeature_order_newsrcgrp_pri, wbd_H_pri,\n",
    "                dat_hires_pri=dat_lfp_hires_pri,\n",
    "                chnames_all_hires_pri = subfeature_order_lfp_hires_pri,\n",
    "                times_hires_pri=times_hires_pri,\n",
    "                anndict_per_intcat_per_rawn=anndict_per_intcat_per_rawn, sfreq=sfreq,\n",
    "                  feat_comments=feat_comments)\n",
    "\n",
    "plt.tight_layout()"
   ]
  },
  {
   "cell_type": "code",
   "execution_count": null,
   "id": "9df5a2e7",
   "metadata": {},
   "outputs": [],
   "source": [
    "linreg_dict"
   ]
  },
  {
   "cell_type": "code",
   "execution_count": null,
   "id": "a87efed2",
   "metadata": {},
   "outputs": [],
   "source": [
    "colinds_good_VIFsel"
   ]
  },
  {
   "cell_type": "code",
   "execution_count": null,
   "id": "f5b86540",
   "metadata": {},
   "outputs": [],
   "source": [
    "inds = list(colinds_good_VIFsel) + [colinds_bad_VIFsel[-1]]\n",
    "print(inds)\n",
    "\n",
    "vif_dict,tole,linreg_dict = utsne.sklearn_VIF(Xconcat_to_fit[:,inds], [inds.index(colinds_bad_VIFsel[-1]) ], n_jobs=-1,\n",
    "                  search_worst=0, return_obj='all')\n",
    "\n",
    "regressor = list(linreg_dict.values() )[0]\n",
    "Xsummed = np.sum( Xconcat_to_fit[:,inds[:-1]] * regressor.coef_[None,:], axis=1)\n",
    "print(regressor.coef_)\n",
    "\n",
    "plt.plot(Xsummed)\n",
    "plt.plot(Xconcat_to_fit[:,inds[-1]])"
   ]
  },
  {
   "cell_type": "code",
   "execution_count": null,
   "id": "667beb7f",
   "metadata": {},
   "outputs": [],
   "source": [
    "linreg_dict[5].coef_"
   ]
  },
  {
   "cell_type": "code",
   "execution_count": null,
   "id": "e1514688",
   "metadata": {},
   "outputs": [],
   "source": [
    "linreg_dict[5]."
   ]
  },
  {
   "cell_type": "code",
   "execution_count": null,
   "id": "24b3c02e",
   "metadata": {},
   "outputs": [],
   "source": []
  }
 ],
 "metadata": {
  "kernelspec": {
   "display_name": "Python 3",
   "language": "python",
   "name": "python3"
  },
  "language_info": {
   "codemirror_mode": {
    "name": "ipython",
    "version": 3
   },
   "file_extension": ".py",
   "mimetype": "text/x-python",
   "name": "python",
   "nbconvert_exporter": "python",
   "pygments_lexer": "ipython3",
   "version": "3.8.10"
  }
 },
 "nbformat": 4,
 "nbformat_minor": 5
}
