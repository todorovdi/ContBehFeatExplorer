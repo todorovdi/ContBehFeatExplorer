{
 "cells": [
  {
   "cell_type": "code",
   "execution_count": null,
   "id": "df1389ee",
   "metadata": {},
   "outputs": [],
   "source": [
    "!pip freeze | grep mne"
   ]
  },
  {
   "cell_type": "markdown",
   "id": "763fe0aa",
   "metadata": {},
   "source": [
    "# mfds"
   ]
  },
  {
   "cell_type": "code",
   "execution_count": null,
   "id": "41fd7b6c",
   "metadata": {},
   "outputs": [],
   "source": [
    "#!pip install jupyter_helpers"
   ]
  },
  {
   "cell_type": "code",
   "execution_count": null,
   "id": "551db738",
   "metadata": {},
   "outputs": [],
   "source": [
    "%load_ext autoreload\n",
    "%autoreload 2\n",
    "%precision %.4f"
   ]
  },
  {
   "cell_type": "code",
   "execution_count": null,
   "id": "c7f77a74",
   "metadata": {},
   "outputs": [],
   "source": [
    "mstr = 'run -i ../run/run_prep_dat.py -r ' +   rawnames_str + \\\n",
    "        ' --param_file prep_dat_defparams.ini --calc_stats_multi_band 1' +\\\n",
    "        ' --save_dat 1 --save_stats 1 --use_preloaded_raws 1 '+\\\n",
    "        ' --allow_CUDA 0 --brain_side_to_use both --exit_after collectDataFromMultiRaws'\n",
    "ipython.magic(mstr)"
   ]
  },
  {
   "cell_type": "code",
   "execution_count": null,
   "id": "bb503f84",
   "metadata": {},
   "outputs": [],
   "source": [
    "clf"
   ]
  },
  {
   "cell_type": "code",
   "execution_count": null,
   "id": "51c872a4",
   "metadata": {},
   "outputs": [],
   "source": []
  },
  {
   "cell_type": "code",
   "execution_count": null,
   "id": "5fab885a",
   "metadata": {},
   "outputs": [],
   "source": [
    "help(permutation_test_score)"
   ]
  },
  {
   "cell_type": "code",
   "execution_count": null,
   "id": "f3f9def8",
   "metadata": {},
   "outputs": [],
   "source": [
    "cd jupyter_debug"
   ]
  },
  {
   "cell_type": "code",
   "execution_count": null,
   "id": "5db6534d",
   "metadata": {},
   "outputs": [],
   "source": [
    "import sys\n",
    "sys.path.append('/home/demitau/ownCloud/Current/NeuroSci/MSCA_sci/code/data_proc')"
   ]
  },
  {
   "cell_type": "code",
   "execution_count": null,
   "id": "3a3848db",
   "metadata": {
    "code_folding": [
     48
    ]
   },
   "outputs": [],
   "source": [
    "#%%capture cell_output\n",
    "%load_ext autoreload\n",
    "%autoreload 2\n",
    "\n",
    "from utils_postprocess import printDict\n",
    "import globvars as gv\n",
    "import mne\n",
    "import matplotlib.pyplot as plt\n",
    "from os.path import join as pjoin\n",
    "from IPython import get_ipython; ipython = get_ipython()\n",
    "import traceback\n",
    "\n",
    "\n",
    "defdgen = lambda sz :np.random.uniform(low=-1,high=1, size=sz)\n",
    "\n",
    "import utils_tSNE as utsne\n",
    "from utils import runFilePart\n",
    "\n",
    "sfreq = 256\n",
    "sfreq_hires = 1024\n",
    "\n",
    "#from IPython import get_ipython; ipython = get_ipython()\n",
    "#ipython.magic('run -i ../test_data/gen_test_data6.py')\n",
    "runFilePart('../test_data/gen_test_data8.py','')\n",
    "\n",
    "print(test_data_descr)\n",
    "\n",
    "#rawnames = ['S01_off_move','S01_off_hold','S01_on_move']\n",
    "\n",
    "# prep_test_data\n",
    "\n",
    "# _gt means ground truth here\n",
    "dat_pri_gt           = dat_pri\n",
    "dat_LFP_hires_pri_gt = dat_LFP_hires_pri\n",
    "\n",
    "dati = dati\n",
    "plt.plot(times,dat_pri[dati].T)\n",
    "plt.figure()\n",
    "plt.plot(times_hires,\n",
    "         dat_LFP_hires_pri[dati].T, \n",
    "         label=sfo_LFP)\n",
    "plt.legend()\n",
    "\n",
    "dat_EMG = defdgen( (2, nbins ) )\n",
    "\n",
    "# reversed if needed\n",
    "from utils import makeSimpleRaw\n",
    "from featlist import selFeatsRegexInds\n",
    "raws_permod_both_sides2 = {}\n",
    "for rawi,rawn in enumerate(rawnames):\n",
    "    raws_permod_both_sides2[rawn] = {}\n",
    "    chis_LFP = utsne.selFeatsRegexInds(sfo_pri[rawi], 'LFP.*' )\n",
    "    dat_LFP = dat_pri_gt[rawi][chis_LFP]\n",
    "    raws_permod_both_sides2[rawn]['LFP'] = makeSimpleRaw(dat_LFP, np.array(sfo_pri[rawi])[chis_LFP], rescale=0 )\n",
    "\n",
    "    chis_msrc = utsne.selFeatsRegexInds(sfo_pri[rawi], 'msrc.*' )\n",
    "    dat_msrc = dat_pri_gt[rawi][chis_msrc]\n",
    "    raws_permod_both_sides2[rawn]['src'] = makeSimpleRaw(dat_msrc, \n",
    "        np.array(sfo_pri[rawi])[chis_msrc] , rescale=0)\n",
    "\n",
    "    raws_permod_both_sides2[rawn]['LFP_hires'] = makeSimpleRaw(dat_LFP_hires_pri_gt[rawi],\n",
    "        sfo_lfp_hires_pri[rawi], sfreq=sfreq_hires, rescale=0 )\n",
    "    \n",
    "    raws_permod_both_sides2[rawn]['EMG'] = makeSimpleRaw(dat_EMG, \n",
    "        gv.EMG_per_hand[main_side], sfreq=sfreq, rescale=0)\n",
    "\n",
    "rawnames_str = ','.join(rawnames)\n",
    "\n",
    "####################################\n",
    "import globvars as gv\n",
    "gv.DEBUG_MODE=1\n",
    "from IPython import get_ipython; ipython = get_ipython()\n",
    "#Once that's done, run a magic command like this:\n",
    "#%debug\n",
    "raws_permod_both_sides = raws_permod_both_sides2\n",
    "\n",
    "mstr = 'run -i ../run/run_prep_dat.py -r ' +   rawnames_str + \\\n",
    "        ' --param_file prep_dat_defparams.ini --calc_stats_multi_band 1' +\\\n",
    "        ' --save_dat 1 --save_stats 1 --use_preloaded_raws 1 '+\\\n",
    "        ' --allow_CUDA 0 --brain_side_to_use both'\n",
    "ipython.magic(mstr)\n",
    "\n",
    "# %run -i ../run/run_prep_dat.py -r S99_off_move,S99_off_hold,S99_on_move \\\n",
    "#         --param_file prep_dat_defparams.ini --calc_stats_multi_band 1 --save_dat 1 \\\n",
    "#         --use_preloaded_raws 1 --save_stats 1\n",
    "\n",
    "\n",
    "#debug\n",
    "\n",
    "# import warnings\n",
    "# warnings.filterwarnings(\"error\")\n",
    "# # with warnings.catch_warnings():\n",
    "# #     warnings.simplefilter('error')00\n",
    "\n",
    "# try:\n",
    "\n",
    "# except ComplexWarning as e:\n",
    "#     pass\n",
    "\n",
    "rs = ('%run -i ../run/run_genfeats.py '\n",
    "' --sources_type parcel_aal --bands crude'\n",
    "' --src_grouping_fn 10'\n",
    "' --src_grouping 0 '\n",
    "' --raw {} '\n",
    "' --feat_types con,H_act,H_mob,H_compl,rbcorr,bpcorr'\n",
    "' --Kalman_smooth 0'\n",
    "' --load_TFR 0'\n",
    "' --load_CSD 0'\n",
    "' --save_TFR 1'\n",
    "' --save_CSD 1'\n",
    "' --save_bpcorr 0'\n",
    "' --save_rbcorr 0'\n",
    "' --load_rbcorr 0'\n",
    "' --use_existing_TFR 0'\n",
    "' --use_preloaded_data 0'\n",
    "' --allow_CUDA 0'\n",
    "' --load_only 0'\n",
    "' --show_plots 0'\n",
    "' --plot_types ,'\n",
    "' --prescale_data 1'\n",
    "' --exit_after {}'\n",
    "' --normalize_TFR separate'\n",
    "' --scale_data_combine_type no'\n",
    "' --baseline_int_type notrem'\n",
    "' --n_jobs 1'\n",
    "' --save_feat 1'\n",
    "' --feat_stats_artif_handling reject'\n",
    "' --scale_data_combine_type no '\n",
    "' --rbcorr_use_local_means 0'\n",
    "' --brain_side_to_use both'\n",
    "' --output_subdir test'\n",
    "' --stats_fn_prefix stats_{}_{}_ '\n",
    "' --param_file genfeats_defparams.ini ')\n",
    "\n",
    "exit_after = 'end'\n",
    "#exit_after = 'prescale_data'\n",
    "#exit_after = 'load'\n",
    "mstr2 = rs.format(rawnames_str,exit_after,rawnames_str[:3],len(rawnames))\n",
    "\n",
    "#%debug\n",
    "\n",
    "ipython.magic(mstr2)\n",
    "\n",
    "#np.savez(pjoin(gv.data_dir,'test.npz') ,globals() )"
   ]
  },
  {
   "cell_type": "code",
   "execution_count": null,
   "id": "f0e3ef6d",
   "metadata": {},
   "outputs": [],
   "source": [
    "glob.fn\\"
   ]
  },
  {
   "cell_type": "code",
   "execution_count": null,
   "id": "3290b36c",
   "metadata": {},
   "outputs": [],
   "source": [
    "import glob;\n",
    "glob.glob('/home/demitau/data_duss/S95*')"
   ]
  },
  {
   "cell_type": "code",
   "execution_count": null,
   "id": "a40af018",
   "metadata": {},
   "outputs": [],
   "source": [
    "#str(cell_output)"
   ]
  },
  {
   "cell_type": "code",
   "execution_count": null,
   "id": "babe7429",
   "metadata": {
    "code_folding": [
     2
    ]
   },
   "outputs": [],
   "source": [
    "from utils_genfeats import prepTFR, prepCSD\n",
    "import traceback\n",
    "try:    \n",
    "    rs = ('%run -i ../run/run_genfeats.py '\n",
    "    ' --sources_type parcel_aal --bands crude'\n",
    "    ' --src_grouping_fn 10'\n",
    "    ' --src_grouping 0 '\n",
    "    ' --raw {} '\n",
    "    ' --feat_types con,H_act,H_mob,H_compl,rbcorr,bpcorr'\n",
    "    ' --Kalman_smooth 0'\n",
    "    ' --load_TFR 0'\n",
    "    ' --load_CSD 0'\n",
    "    ' --save_TFR 0'\n",
    "    ' --save_CSD 0'\n",
    "    ' --save_bpcorr 0'\n",
    "    ' --save_rbcorr 0'\n",
    "    ' --load_rbcorr 0'\n",
    "    ' --use_existing_TFR 0'\n",
    "    ' --use_preloaded_data 0'\n",
    "    ' --allow_CUDA 0'\n",
    "    ' --load_only 0'\n",
    "    ' --show_plots 0'\n",
    "    ' --plot_types ,'\n",
    "    ' --prescale_data 1'\n",
    "    ' --exit_after {}'\n",
    "    ' --normalize_TFR separate'\n",
    "    ' --scale_data_combine_type no'\n",
    "    ' --baseline_int_type notrem'\n",
    "    ' --n_jobs 1'\n",
    "    ' --save_feat 1'\n",
    "    ' --feat_stats_artif_handling reject'\n",
    "    ' --scale_data_combine_type no '\n",
    "    ' --rbcorr_use_local_means 0'\n",
    "    ' --brain_side_to_use both'\n",
    "    ' --output_subdir test'\n",
    "    ' --stats_fn_prefix stats_{}_{}_ '\n",
    "    ' --param_file genfeats_defparams.ini ')\n",
    "\n",
    "    exit_after = 'end'\n",
    "    #exit_after = 'prescale_data'\n",
    "    #exit_after = 'load'\n",
    "    mstr2 = rs.format(rawnames_str,exit_after,rawnames_str[:3],len(rawnames))\n",
    "\n",
    "    #%debug\n",
    "\n",
    "    ipython.magic(mstr2)\n",
    "\n",
    "\n",
    "except Exception as e:\n",
    "    exc_info = sys.exc_info()\n",
    "    if exc_info[2].tb_next is not None:\n",
    "        locs = exc_info[2].tb_next.tb_frame.f_locals\n",
    "    else:\n",
    "        locs = locals()\n",
    "    exc = traceback.TracebackException(*exc_info, capture_locals=True)\n",
    "    display(exc.stack)\n",
    "    \n",
    "    print(exc.exc_type,str(exc))\n",
    "    raise e"
   ]
  },
  {
   "cell_type": "code",
   "execution_count": null,
   "id": "3e814c1d",
   "metadata": {},
   "outputs": [],
   "source": [
    "# cannot find save\n",
    "# dont have acces to clf_XGB"
   ]
  },
  {
   "cell_type": "code",
   "execution_count": null,
   "id": "7e35a986",
   "metadata": {
    "code_folding": []
   },
   "outputs": [],
   "source": [
    "#rawnames = ['S95_off_hold', 'S95_off_move']\n",
    "import globvars as gv\n",
    "\n",
    "#rawnames_str = 'S95_off_move'\n",
    "#rawnames_str = 'S95_off_hold,S95_off_move'\n",
    "rawnames_str = ','.join(rawnames)\n",
    "gv.DEBUG_MODE=1\n",
    "\n",
    "%load_ext autoreload\n",
    "%autoreload 2\n",
    "\n",
    "#    --calc_VIF 1\\\n",
    "#    --feat_types Hjorth,con,rbcorr,bpcorr\\\n",
    "#--parcel_group_names motor-related\\\n",
    "#--EBM_featsel_feats all,heavy,VIFsel\n",
    "from IPython import get_ipython; ipython = get_ipython()\n",
    "#    --parcel_types !Frontal_Sup\\\n",
    "# --feat_types con\\\n",
    "mstr_ML = '''%run -t -i ../run/run_ML.py --sources_type parcel_aal --bands_type crude --src_grouping_fn 10\\\n",
    "    --src_grouping 0 \\\n",
    "    --prefix test \\\n",
    "    --mods LFP,msrc\\\n",
    "    --LFP_related_only 0\\\n",
    "    --feat_types Hjorth\\\n",
    "    --allow_CUDA 0\\\n",
    "    --skip_XGB 0\\\n",
    "    --subskip_fit 1 \\\n",
    "    --n_splits 4 \\\n",
    "    --calc_MI 0 \\\n",
    "    --save_output 1\\\n",
    "    --skip_LDA 0\\\n",
    "    --calc_VIF 0\\\n",
    "    --compute_ICA  0\\\n",
    "    --use_ICA_for_classif 0\\    \n",
    "    --heavy_fit_red_featset 0\\ \n",
    "    --featsel_only_best_LFP 0\\\n",
    "    --calc_Boruta 0\\\n",
    "    --groupings_to_use merge_nothing --int_types_to_use basic\\\n",
    "    --input_subdir test --output_subdir test\\\n",
    "    --raw {} --load_only 0 --show_plots 1\\\n",
    "    --XGB_tune_param 1\\\n",
    "    --XGB_tree_method exact\\\n",
    "    --XGB_balancing oversample\\\n",
    "    --XGB_grid_test_only 1\\\n",
    "    --param_file ML_defparams.ini \\\n",
    "    --featsel_method XGB_Shapley,interpret_DPEBM,interpret_EBM\\\n",
    "    --EBM_featsel_feats all\n",
    "    --EBM_compute_pairwise 0\\\n",
    "    --label_groups_to_use subj_medcond_task \\\n",
    "    --exit_after {}\\\n",
    "    --feat_body_side both \\\n",
    "    --brain_side_to_use right \\\n",
    "    --LFP_side_to_use   left \\\n",
    "    --prep_for_clf_only 0 \\\n",
    "    --EBM_CV 1 \\\n",
    "    --EBM_tune_param 1 \\\n",
    "    --EBM_tune_max_evals 2 \\\n",
    "    --EBM_balancing weighting \\\n",
    "    --skip_LDA 1 \\\n",
    "    --load_EBM_params_auto 0 \\\n",
    "    --load_XGB_params_auto 1 \\\n",
    "    --load_XGB_params_date_thr 2022-04-22T18:22:22 \\\n",
    "    --n_permutations_permtest 0 \\\n",
    "    --SLURM_job_id LALALA'''\n",
    "\n",
    "#--skip_LDA 1\\\n",
    "#merge_all_not_trem\n",
    "#%debug\n",
    "\n",
    "exit_after = 'end'\n",
    "#exit_after = 'load'\n",
    "#exit_after = 'XGB_main'\n",
    "#exit_after = 'XGB_search_LFP'\n",
    "mstr_ML = mstr_ML.format(rawnames_str,exit_after)\n",
    "\n",
    "\n",
    "#%debug\n",
    "ipython.magic(mstr_ML)"
   ]
  },
  {
   "cell_type": "code",
   "execution_count": null,
   "id": "44be6004",
   "metadata": {},
   "outputs": [],
   "source": [
    "help(permutation_test_score)"
   ]
  },
  {
   "cell_type": "code",
   "execution_count": null,
   "id": "695de488",
   "metadata": {},
   "outputs": [],
   "source": [
    "ann = mne.Annotations([0],[1],['df'])"
   ]
  },
  {
   "cell_type": "code",
   "execution_count": null,
   "id": "8d7f26da",
   "metadata": {},
   "outputs": [],
   "source": [
    "(ann + ann).duration"
   ]
  },
  {
   "cell_type": "code",
   "execution_count": null,
   "id": "199bab29",
   "metadata": {},
   "outputs": [],
   "source": [
    "fit_params"
   ]
  },
  {
   "cell_type": "code",
   "execution_count": null,
   "id": "826afc09",
   "metadata": {},
   "outputs": [],
   "source": []
  },
  {
   "cell_type": "code",
   "execution_count": null,
   "id": "cdb27d6b",
   "metadata": {},
   "outputs": [],
   "source": [
    "score_noperm"
   ]
  },
  {
   "cell_type": "code",
   "execution_count": null,
   "id": "14865701",
   "metadata": {},
   "outputs": [],
   "source": [
    "pvalue"
   ]
  },
  {
   "cell_type": "code",
   "execution_count": null,
   "id": "6298441c",
   "metadata": {},
   "outputs": [],
   "source": []
  },
  {
   "cell_type": "code",
   "execution_count": null,
   "id": "65ec83e9",
   "metadata": {},
   "outputs": [],
   "source": [
    "parser.parse('00:11:14') - parser.parse('00:00:00')"
   ]
  },
  {
   "cell_type": "code",
   "execution_count": null,
   "id": "8d994464",
   "metadata": {},
   "outputs": [],
   "source": [
    "674 / 60"
   ]
  },
  {
   "cell_type": "code",
   "execution_count": null,
   "id": "0f4e91f0",
   "metadata": {},
   "outputs": [],
   "source": [
    "dict(a='a',b='b')"
   ]
  },
  {
   "cell_type": "code",
   "execution_count": null,
   "id": "51e1d859",
   "metadata": {},
   "outputs": [],
   "source": [
    "XGB_balancing"
   ]
  },
  {
   "cell_type": "code",
   "execution_count": null,
   "id": "44a6297e",
   "metadata": {},
   "outputs": [],
   "source": [
    "'22.04.2022_18:22:22'\n",
    "ts = '2022-04-06T18:22:22'\n",
    "fmt = 'YYY-MM-DDThh:mmTZD'\n",
    "dt = parser.parse(ts, ignoretz=1)\n",
    "print(dt, dt.month)"
   ]
  },
  {
   "cell_type": "code",
   "execution_count": null,
   "id": "a1f414f6",
   "metadata": {},
   "outputs": [],
   "source": [
    "from sklearn.dummy import DummyClassifier\n",
    "dummy_clf = DummyClassifier(strategy='stratified') \n",
    "dummy_clf.fit(X_cur, y_cur)\n",
    "#dummy_clf.predict(X_cur)\n",
    "#array([1, 1, 1, 1])\n",
    "#dummy_clf.score(X, y)\n",
    "r = utsne.getClfPredPower(dummy_clf,X_cur,y_cur,class_ind_to_check_lenc)"
   ]
  },
  {
   "cell_type": "code",
   "execution_count": null,
   "id": "2a827ab4",
   "metadata": {},
   "outputs": [],
   "source": [
    "r"
   ]
  },
  {
   "cell_type": "code",
   "execution_count": null,
   "id": "9cf26a9f",
   "metadata": {},
   "outputs": [],
   "source": [
    "        perf_nocv = getClfPredPower(clf,X,class_labels,class_ind, printLog=printLog)\n"
   ]
  },
  {
   "cell_type": "code",
   "execution_count": null,
   "id": "e30a1738",
   "metadata": {},
   "outputs": [],
   "source": []
  },
  {
   "cell_type": "code",
   "execution_count": null,
   "id": "f812090a",
   "metadata": {},
   "outputs": [],
   "source": [
    "not_old"
   ]
  },
  {
   "cell_type": "code",
   "execution_count": null,
   "id": "6b8eedbb",
   "metadata": {},
   "outputs": [],
   "source": [
    "modtime\n",
    "load_XGB_params_date_thr"
   ]
  },
  {
   "cell_type": "code",
   "execution_count": null,
   "id": "afe81055",
   "metadata": {},
   "outputs": [],
   "source": [
    "good_feats"
   ]
  },
  {
   "cell_type": "code",
   "execution_count": null,
   "id": "07edf872",
   "metadata": {},
   "outputs": [],
   "source": [
    "LFP_side_to_use"
   ]
  },
  {
   "cell_type": "code",
   "execution_count": null,
   "id": "ea58c3ef",
   "metadata": {},
   "outputs": [],
   "source": [
    "LFP_side_to_use"
   ]
  },
  {
   "cell_type": "code",
   "execution_count": null,
   "id": "1552ebe3",
   "metadata": {},
   "outputs": [],
   "source": [
    "chnames_LFP"
   ]
  },
  {
   "cell_type": "code",
   "execution_count": null,
   "id": "347fd322",
   "metadata": {},
   "outputs": [],
   "source": [
    "feature_names_all"
   ]
  },
  {
   "cell_type": "code",
   "execution_count": null,
   "id": "ada8851f",
   "metadata": {},
   "outputs": [],
   "source": [
    "feature_names_all_t = feature_names_all.tolist() + ['H_compl_msrcR_9_59_c0', 'H_compl_msrcL_9_60_c3'] "
   ]
  },
  {
   "cell_type": "code",
   "execution_count": null,
   "id": "7684b8a0",
   "metadata": {},
   "outputs": [],
   "source": [
    "feature_names_all_t = [ 'H_act_msrcR_9_3_c0', 'H_act_msrcL_9_4_c0', 'H_act_LFPR092',\n",
    "       'H_act_LFPL092', 'H_mob_msrcR_9_3_c0', 'H_mob_msrcL_9_4_c0',\n",
    "       'H_mob_LFPR092', 'H_mob_LFPL092', 'H_compl_msrcR_9_3_c0',\n",
    "       'H_compl_msrcL_9_4_c0', 'H_compl_LFPR092', 'H_compl_LFPL092']\n",
    "feature_names_all_t = [ 'H_act_msrcR_9_3_c0', 'H_act_msrcL_9_4_c0', 'H_act_msrcL_9_6_c0', 'H_act_LFPR092',\n",
    "       'H_act_LFPL092']\n",
    "feature_names_all_t += ['H_compl_msrcR_9_59_c0', 'H_compl_msrcL_9_60_c3'] "
   ]
  },
  {
   "cell_type": "code",
   "execution_count": null,
   "id": "c3ec2e0f",
   "metadata": {},
   "outputs": [],
   "source": [
    "#brain_side_to_use_t = 'left_exCB'\n",
    "brain_side_to_use_t = 'right'\n",
    "sidelet = brain_side_to_use_t[0].upper()\n",
    "opsidelet = utils.getOppositeSideStr(sidelet)\n",
    "# this is to prohibit for cross-side side couplings if we computed them\n",
    "if brain_side_to_use_t.endswith('CB'):\n",
    "    all_parcels= roi_labels[gp.src_grouping_names_order[src_file_grouping_ind]]\n",
    "    CB_curside = f'Cerebellum_{sidelet}'\n",
    "    CB_opside = f'Cerebellum_{opsidelet}'\n",
    "    CBcsi = all_parcels.index(CB_curside)\n",
    "    CBosi = all_parcels.index(CB_opside)\n",
    "    #CB_opside = f'Cerebellum_{sidelet}'\n",
    "    opsrcre1 = '.*msrc'+opsidelet+'_[0-9]+_(?!' + str(CBosi) +  ').*_.*'  # not CB with opsidelet will be prohib\n",
    "    opsrcre2 = '.*msrc'+sidelet+'_[0-9]+_' + str(CBcsi) + '_.*'    # CB with sidelet will be prohib\n",
    "    \n",
    "    regexes = [opsrcre1, opsrcre2]\n",
    "else:\n",
    "    opsrcre = '.*msrc'+opsidelet+'.*'\n",
    "    regexes = [opsrcre]\n",
    "\n",
    "print(regexes)\n",
    "inds_bad_  = selFeatsRegexInds(feature_names_all_t,regexes)\n",
    "si = list(set( range(len(feature_names_all_t)) ) -  set(inds_bad_))\n",
    "\n",
    "np.array(feature_names_all_t)[ si ].tolist()"
   ]
  },
  {
   "cell_type": "code",
   "execution_count": null,
   "id": "671f9d81",
   "metadata": {},
   "outputs": [],
   "source": [
    "import re;\n",
    "re.match('.*msrcR_[0-9]+_(?!60).*_.*','H_act_msrcR_9_3_c0')"
   ]
  },
  {
   "cell_type": "code",
   "execution_count": null,
   "id": "03fe73c6",
   "metadata": {},
   "outputs": [],
   "source": [
    "# I want to leave present right CB"
   ]
  },
  {
   "cell_type": "code",
   "execution_count": null,
   "id": "950830e2",
   "metadata": {},
   "outputs": [],
   "source": [
    "feature_names_all_t"
   ]
  },
  {
   "cell_type": "code",
   "execution_count": null,
   "id": "55e9f5b8",
   "metadata": {},
   "outputs": [],
   "source": [
    "# leaves both left and right, only removes one CB\n",
    "#parseFeatNames"
   ]
  },
  {
   "cell_type": "code",
   "execution_count": null,
   "id": "1020dd6a",
   "metadata": {},
   "outputs": [],
   "source": [
    "for brain_side_to_use_t in ['left', 'left_exCB', 'right', 'right_exCB']:\n",
    "    print('     ' , brain_side_to_use_t)\n",
    "\n",
    "    selected_feat_inds =  filterFeats(feature_names_all_t, chnames_LFP,\n",
    "                                      LFP_related_only, parcel_types,\n",
    "                                      remove_crossLFP, cross_couplings_only,\n",
    "                                      self_couplings_only, fbands_to_use,\n",
    "                                      features_to_use, fbands_per_mod, feat_types_all,\n",
    "                                      data_modalities, data_modalities_all,\n",
    "                                      msrc_inds, parcel_group_names,\n",
    "                                      roi_labels,srcgrouping_names_sorted,\n",
    "                                      src_file_grouping_ind, fbands_def,\n",
    "                                      fband_names_fine_inc_HFO, use_lfp_HFO,\n",
    "                                      use_main_LFP_chan, mainLFPchan,\n",
    "                                      mainLFPchan_new_name_templ,\n",
    "                                      brain_side_to_use_t, LFP_side_to_use,\n",
    "                                      verbose=1)\n",
    "    good_feats = np.array(feature_names_all_t)[ selected_feat_inds]\n",
    "    print(len(good_feats), good_feats)\n",
    "\n"
   ]
  },
  {
   "cell_type": "code",
   "execution_count": null,
   "id": "b9a955ab",
   "metadata": {},
   "outputs": [],
   "source": [
    "roi_labels['all_raw'].index('Cerebellum_R'),roi_labels['all_raw'].index('Cerebellum_L')"
   ]
  },
  {
   "cell_type": "code",
   "execution_count": null,
   "id": "371b7b1a",
   "metadata": {},
   "outputs": [],
   "source": [
    "selected_feat_inds"
   ]
  },
  {
   "cell_type": "code",
   "execution_count": null,
   "id": "f747b11d",
   "metadata": {},
   "outputs": [],
   "source": [
    "good_feats"
   ]
  },
  {
   "cell_type": "code",
   "execution_count": null,
   "id": "79486bac",
   "metadata": {},
   "outputs": [],
   "source": [
    "mainLFPchan"
   ]
  },
  {
   "cell_type": "code",
   "execution_count": null,
   "id": "74e9ab1f",
   "metadata": {},
   "outputs": [],
   "source": [
    "sum( ebm.predict(X) ) / sum(y)"
   ]
  },
  {
   "cell_type": "code",
   "execution_count": null,
   "id": "615a93f8",
   "metadata": {},
   "outputs": [],
   "source": [
    "ebm.explain_local(X).__dict__.keys()"
   ]
  },
  {
   "cell_type": "code",
   "execution_count": null,
   "id": "8a5077db",
   "metadata": {},
   "outputs": [],
   "source": []
  },
  {
   "cell_type": "markdown",
   "id": "96544911",
   "metadata": {
    "heading_collapsed": true
   },
   "source": [
    "# Plot class labels"
   ]
  },
  {
   "cell_type": "code",
   "execution_count": null,
   "id": "9bcae9bb",
   "metadata": {
    "hidden": true
   },
   "outputs": [],
   "source": [
    "Xtimes_concat = wbd_merged[0] / sfreq\n",
    "markersize = 4\n",
    "# TODO: concat xtimes, show for several datasets joined, with EMG\n",
    "if len(artif_naive_bininds):\n",
    "    mask =  [-2]*len(artif_naive_bininds)\n",
    "    #plt.plot(Xtimes_pri[0][bininds_concat_bad], bininds_concat_bad)\n",
    "    plt.plot(Xtimes_concat[artif_naive_bininds],mask, lw=0, marker='x', \n",
    "             markersize=markersize,\n",
    "            label='naive bad inds')\n",
    "\n",
    "bininds_concat_bad = \\\n",
    "    np.setdiff1d(np.arange(Xconcat_imputed.shape[0]),bininds_concat_good_yes_label) \n",
    "mask =  [-1]*len(bininds_concat_bad)\n",
    "#plt.plot(Xtimes_pri[0][bininds_concat_bad], bininds_concat_bad)\n",
    "plt.plot(Xtimes_concat[bininds_concat_bad],mask, lw=0, marker='x', \n",
    "         markersize=markersize,\n",
    "        label='bad inds')\n",
    "\n",
    "clgu = sorted(set(class_labels_good))\n",
    "for cidi,class_id in enumerate( clgu):\n",
    "    orig_inds = bininds_concat_good_yes_label[np.where(class_labels_good==class_id)[0]]\n",
    "    mask =  [cidi]*len(orig_inds)\n",
    "    plt.plot(Xtimes_concat[orig_inds],mask, lw=0, marker='o', markersize=markersize, \n",
    "             label=class_label_names_ordered[cidi])\n",
    "\n",
    "for lblid in sorted(set(class_labels_good_for_classif) ):\n",
    "    binds_cur = np.where(class_labels_good_for_classif == lblid)[0]\n",
    "    binds_cur = bininds_concat_good_yes_label[binds_cur]\n",
    "    mask =  [lblid + len(clgu) ]*len(binds_cur)\n",
    "    plt.plot(Xtimes_concat[binds_cur], mask, lw=0, marker='o', markersize=markersize,\n",
    "             label = 'forclf_' +class_label_names_ordered[lblid])\n",
    "    \n",
    "plt.legend(loc = (1,0))\n",
    "plt.xlim(0,datlen_s * len(X_pri))\n"
   ]
  },
  {
   "cell_type": "code",
   "execution_count": null,
   "id": "113d8a4b",
   "metadata": {
    "hidden": true
   },
   "outputs": [],
   "source": [
    "test_plots_descr"
   ]
  },
  {
   "cell_type": "code",
   "execution_count": null,
   "id": "3003ef36",
   "metadata": {
    "hidden": true
   },
   "outputs": [],
   "source": [
    "featnames"
   ]
  },
  {
   "cell_type": "code",
   "execution_count": null,
   "id": "0128e1a9",
   "metadata": {
    "hidden": true
   },
   "outputs": [],
   "source": [
    "special_chns"
   ]
  },
  {
   "cell_type": "markdown",
   "id": "ff251dbe",
   "metadata": {
    "heading_collapsed": true
   },
   "source": [
    "# plotFeatsWithEverything"
   ]
  },
  {
   "cell_type": "code",
   "execution_count": null,
   "id": "408f4a17",
   "metadata": {
    "hidden": true
   },
   "outputs": [],
   "source": [
    "test_plots_descr"
   ]
  },
  {
   "cell_type": "code",
   "execution_count": null,
   "id": "ad89f33c",
   "metadata": {
    "hidden": true
   },
   "outputs": [],
   "source": [
    "from plots import plotFeatsWithEverything\n",
    "#%debug\n",
    "specchns = special_chns\n",
    "specchns = None\n",
    "plotFeatsWithEverything(dat_pri, times_pri, X_pri, \n",
    "                            Xtimes_pri, dat_lfp_hires_pri, times_hires_pri,\n",
    "                            rawnames,\n",
    "                            subfeature_order_pri, subfeature_order_newsrcgrp_pri,\n",
    "                            subfeature_order_lfp_hires_pri,\n",
    "                            anndict_per_intcat_per_rawn,\n",
    "                            featnames, wbd_H_pri,\n",
    "                            sfreq, raw_perband_flt_pri, raw_perband_bp_pri,\n",
    "                            scale_data_combine_type,\n",
    "                            stats_multiband_flt, stats_multiband_bp,\n",
    "                            test_plots_descr, specchns,\n",
    "                           fband_names_inc_HFO )\n"
   ]
  },
  {
   "cell_type": "markdown",
   "id": "6803afee",
   "metadata": {},
   "source": [
    "# plotDataAnnStat"
   ]
  },
  {
   "cell_type": "code",
   "execution_count": null,
   "id": "5e6c1f73",
   "metadata": {},
   "outputs": [],
   "source": [
    "list( stats_per_ct.keys() )  # =['no', 'subj', 'medcond', 'task']"
   ]
  },
  {
   "cell_type": "code",
   "execution_count": null,
   "id": "b24bbd1c",
   "metadata": {},
   "outputs": [],
   "source": [
    "stats_per_ct[ct].keys()"
   ]
  },
  {
   "cell_type": "code",
   "execution_count": null,
   "id": "da32a133",
   "metadata": {},
   "outputs": [],
   "source": [
    "stds_rescaled"
   ]
  },
  {
   "cell_type": "code",
   "execution_count": null,
   "id": "cfd6beac",
   "metadata": {},
   "outputs": [],
   "source": [
    "np.max( dat_pri[0][0] )"
   ]
  },
  {
   "cell_type": "code",
   "execution_count": null,
   "id": "f6f09eb6",
   "metadata": {},
   "outputs": [],
   "source": [
    "dat_T_scaled dat_T_scaled"
   ]
  },
  {
   "cell_type": "code",
   "execution_count": null,
   "id": "fbb23b47",
   "metadata": {},
   "outputs": [],
   "source": [
    "#means_rescaled"
   ]
  },
  {
   "cell_type": "code",
   "execution_count": null,
   "id": "fe2b791d",
   "metadata": {},
   "outputs": [],
   "source": [
    "ct = 'no'\n",
    "indsets = stats_per_ct[ct]['indsets']\n",
    "show_unscaled = False\n",
    "if show_unscaled:\n",
    "    means_per_iset = stats_per_ct[ct]['means']\n",
    "    stds_per_iset  = stats_per_ct[ct]['stds']\n",
    "    dat_to_show = dat_pri_unscaled\n",
    "else:\n",
    "    means_per_iset = means_rescaled\n",
    "    stds_per_iset = stds_rescaled\n",
    "    dat_to_show = dat_pri\n",
    "\n",
    "suptitle = ct\n",
    "\n",
    "from plots import plotDataAnnStat\n",
    "plotDataAnnStat(rawnames,dat_to_show,times_pri,subfeature_order_pri,                    \n",
    "                   None,None,None,\n",
    "                   anndict_per_intcat_per_rawn,\n",
    "                   indsets,means_per_iset,stds_per_iset,\n",
    "                   suptitle=suptitle,\n",
    "                   dat_dict=None,band=None, hh=4)\n",
    "plt.tight_layout()\n",
    "figname = pjoin(gv.dir_fig,f'test_rawdata_scaling_scaled{1-show_unscaled}.pdf')\n",
    "plt.savefig(figname)"
   ]
  },
  {
   "cell_type": "code",
   "execution_count": null,
   "id": "35162ae1",
   "metadata": {},
   "outputs": [],
   "source": [
    "prescale_data, combine_type"
   ]
  },
  {
   "cell_type": "code",
   "execution_count": null,
   "id": "42649e34",
   "metadata": {},
   "outputs": [],
   "source": [
    "stds_per_iset"
   ]
  },
  {
   "cell_type": "code",
   "execution_count": null,
   "id": "ed0637d0",
   "metadata": {},
   "outputs": [],
   "source": [
    "featnames"
   ]
  },
  {
   "cell_type": "code",
   "execution_count": null,
   "id": "4bd315e1",
   "metadata": {},
   "outputs": [],
   "source": [
    "VIF_truncation_7 = VIF_truncation"
   ]
  },
  {
   "cell_type": "code",
   "execution_count": null,
   "id": "71cd7b67",
   "metadata": {},
   "outputs": [],
   "source": [
    "VIF_truncation_6"
   ]
  },
  {
   "cell_type": "code",
   "execution_count": null,
   "id": "d0d421e0",
   "metadata": {},
   "outputs": [],
   "source": [
    "VIF_truncation_7"
   ]
  },
  {
   "cell_type": "code",
   "execution_count": null,
   "id": "a8a0cb83",
   "metadata": {},
   "outputs": [],
   "source": [
    "info_per_cp.keys()"
   ]
  },
  {
   "cell_type": "code",
   "execution_count": null,
   "id": "709cb120",
   "metadata": {},
   "outputs": [],
   "source": [
    "#explain_global = info_per_cp[('trem_L', 'notrem_L')]['explainer']\n",
    "explain_global = info_per_cp[('trem_L', 'hold_L&move_L')]['explainer']\n",
    "\n",
    "from interpret import show\n",
    "\n",
    "show(explain_global)"
   ]
  },
  {
   "cell_type": "code",
   "execution_count": null,
   "id": "69bc9add",
   "metadata": {},
   "outputs": [],
   "source": [
    "from utils_tSNE import getScoresPerClass\n",
    "r = getScoresPerClass(class_labels_good_for_classif,featsel_per_method['XGB_Shapley']['scores'],1)\n",
    "\n",
    "\n",
    "\n",
    "scores,bias = r\n",
    "\n",
    "#class_label_names_ordered\n",
    "\n",
    "tremind = class_label_names_ordered.index('trem_L')\n",
    "si = np.argmax(scores[tremind] )\n",
    "\n",
    "bestfeats = []\n",
    "bestfeats_nice = []\n",
    "feat_comments = []\n",
    "for ind,lblstr in enumerate(class_label_names_ordered):\n",
    "    si = np.argmax(scores[ind] )\n",
    "    if featsel_on_VIF:\n",
    "        feat_inds =  VIF_truncation['colinds_good_VIFsel']\n",
    "    else:\n",
    "        feat_inds = np.arange(len(featnames))\n",
    "    tmp = np.array(featnames_nice)[ feat_inds[si] ]\n",
    "    bestfeats_nice += [tmp]\n",
    "    tmp = np.array(featnames)[ feat_inds[si] ]\n",
    "    bestfeats += [tmp]\n",
    "    feat_comments += ['best for ' + lblstr]\n",
    "\n",
    "print(bestfeats_nice)\n",
    "featnames_sel = bestfeats"
   ]
  },
  {
   "cell_type": "code",
   "execution_count": null,
   "id": "80b4d865",
   "metadata": {},
   "outputs": [],
   "source": [
    "print(scores), bias"
   ]
  },
  {
   "cell_type": "code",
   "execution_count": null,
   "id": "c50734b4",
   "metadata": {},
   "outputs": [],
   "source": [
    "feat_comments"
   ]
  },
  {
   "cell_type": "code",
   "execution_count": null,
   "id": "1e8dd0d4",
   "metadata": {},
   "outputs": [],
   "source": [
    "from plots import plotFeatsAndRelDat\n",
    "#%debug\n",
    "plotFeatsAndRelDat(rawnames, featnames_sel, dat_pri,subfeature_order_pri,\n",
    "                X_pri,[featnames]*len(rawnames),times_pri,Xtimes_pri,\n",
    "                subfeature_order_newsrcgrp_pri, wbd_H_pri,\n",
    "                dat_hires_pri=dat_lfp_hires_pri,\n",
    "                chnames_all_hires_pri = subfeature_order_lfp_hires_pri,\n",
    "                times_hires_pri=times_hires_pri,\n",
    "                anndict_per_intcat_per_rawn=anndict_per_intcat_per_rawn, sfreq=sfreq,\n",
    "                  feat_comments=feat_comments)\n",
    "\n",
    "plt.tight_layout()"
   ]
  },
  {
   "cell_type": "code",
   "execution_count": null,
   "id": "43b2eccb",
   "metadata": {},
   "outputs": [],
   "source": [
    "VIF_truncation.keys()"
   ]
  },
  {
   "cell_type": "code",
   "execution_count": null,
   "id": "db93ad19",
   "metadata": {},
   "outputs": [],
   "source": [
    "exogs_list[-1]"
   ]
  },
  {
   "cell_type": "markdown",
   "id": "ff773d89",
   "metadata": {},
   "source": [
    "# Look at regressable features"
   ]
  },
  {
   "cell_type": "code",
   "execution_count": null,
   "id": "0f4caa92",
   "metadata": {},
   "outputs": [],
   "source": [
    "colinds_good_VIFsel,colinds_bad_VIFsel[-1]"
   ]
  },
  {
   "cell_type": "code",
   "execution_count": null,
   "id": "eb4fba89",
   "metadata": {},
   "outputs": [],
   "source": [
    "featnames_sel = np.array(featnames)[list(colinds_good_VIFsel) +\\\n",
    "                                    [colinds_bad_VIFsel[-1]] ]\n",
    "print(featnames_sel)\n",
    "feat_comments = len(colinds_good_VIFsel) * [''] + ['last_bad']"
   ]
  },
  {
   "cell_type": "code",
   "execution_count": null,
   "id": "6fd4e137",
   "metadata": {},
   "outputs": [],
   "source": [
    "from plots import plotFeatsAndRelDat\n",
    "#%debug\n",
    "plotFeatsAndRelDat(rawnames, featnames_sel, dat_pri,subfeature_order_pri,\n",
    "                X_pri,[featnames]*len(rawnames),times_pri,Xtimes_pri,\n",
    "                subfeature_order_newsrcgrp_pri, wbd_H_pri,\n",
    "                dat_hires_pri=dat_lfp_hires_pri,\n",
    "                chnames_all_hires_pri = subfeature_order_lfp_hires_pri,\n",
    "                times_hires_pri=times_hires_pri,\n",
    "                anndict_per_intcat_per_rawn=anndict_per_intcat_per_rawn, sfreq=sfreq,\n",
    "                  feat_comments=feat_comments)\n",
    "\n",
    "plt.tight_layout()"
   ]
  },
  {
   "cell_type": "code",
   "execution_count": null,
   "id": "9df5a2e7",
   "metadata": {},
   "outputs": [],
   "source": [
    "linreg_dict"
   ]
  },
  {
   "cell_type": "code",
   "execution_count": null,
   "id": "a87efed2",
   "metadata": {},
   "outputs": [],
   "source": [
    "colinds_good_VIFsel"
   ]
  },
  {
   "cell_type": "code",
   "execution_count": null,
   "id": "f5b86540",
   "metadata": {},
   "outputs": [],
   "source": [
    "inds = list(colinds_good_VIFsel) + [colinds_bad_VIFsel[-1]]\n",
    "print(inds)\n",
    "\n",
    "vif_dict,tole,linreg_dict = utsne.sklearn_VIF(Xconcat_to_fit[:,inds], [inds.index(colinds_bad_VIFsel[-1]) ], n_jobs=-1,\n",
    "                  search_worst=0, return_obj='all')\n",
    "\n",
    "regressor = list(linreg_dict.values() )[0]\n",
    "Xsummed = np.sum( Xconcat_to_fit[:,inds[:-1]] * regressor.coef_[None,:], axis=1)\n",
    "print(regressor.coef_)\n",
    "\n",
    "plt.plot(Xsummed)\n",
    "plt.plot(Xconcat_to_fit[:,inds[-1]])"
   ]
  },
  {
   "cell_type": "code",
   "execution_count": null,
   "id": "667beb7f",
   "metadata": {},
   "outputs": [],
   "source": [
    "linreg_dict[5].coef_"
   ]
  },
  {
   "cell_type": "code",
   "execution_count": null,
   "id": "e1514688",
   "metadata": {},
   "outputs": [],
   "source": [
    "linreg_dict[5]."
   ]
  },
  {
   "cell_type": "code",
   "execution_count": null,
   "id": "24b3c02e",
   "metadata": {},
   "outputs": [],
   "source": []
  }
 ],
 "metadata": {
  "kernelspec": {
   "display_name": "oscbagdis",
   "language": "python",
   "name": "oscbagdis"
  },
  "language_info": {
   "codemirror_mode": {
    "name": "ipython",
    "version": 3
   },
   "file_extension": ".py",
   "mimetype": "text/x-python",
   "name": "python",
   "nbconvert_exporter": "python",
   "pygments_lexer": "ipython3",
   "version": "3.10.8"
  },
  "latex_envs": {
   "LaTeX_envs_menu_present": true,
   "autoclose": false,
   "autocomplete": true,
   "bibliofile": "biblio.bib",
   "cite_by": "apalike",
   "current_citInitial": 1,
   "eqLabelWithNumbers": true,
   "eqNumInitial": 1,
   "hotkeys": {
    "equation": "Ctrl-E",
    "itemize": "Ctrl-I"
   },
   "labels_anchors": false,
   "latex_user_defs": false,
   "report_style_numbering": false,
   "user_envs_cfg": false
  }
 },
 "nbformat": 4,
 "nbformat_minor": 5
}
