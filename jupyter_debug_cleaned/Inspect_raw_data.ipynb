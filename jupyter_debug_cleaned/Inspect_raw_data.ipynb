{
 "cells": [
  {
   "cell_type": "code",
   "execution_count": null,
   "metadata": {},
   "outputs": [],
   "source": [
    "%load_ext autoreload\n",
    "%autoreload 2\n",
    "\n",
    "import os,sys\n",
    "import mne\n",
    "import utils  #my code\n",
    "import json\n",
    "import matplotlib.pyplot as plt\n",
    "import numpy as np\n",
    "import utils_preproc as upre\n",
    "import globvars as gv"
   ]
  },
  {
   "cell_type": "code",
   "execution_count": null,
   "metadata": {},
   "outputs": [],
   "source": [
    "#rawnames = ['S99_off_move']\n",
    "rawnames = ['S03_off_hold']\n",
    "\n",
    "rawnames = ['S01_off_hold', 'S01_off_move']"
   ]
  },
  {
   "cell_type": "code",
   "execution_count": null,
   "metadata": {},
   "outputs": [],
   "source": [
    "sources_type = 'parcel_aal'\n",
    "src_file_grouping_ind = 10\n",
    "use_lfp_HFO = 0\n",
    "src_type_to_use  = 'parcel_ICA'\n",
    "crop_start = None\n",
    "crop_end   = None"
   ]
  },
  {
   "cell_type": "code",
   "execution_count": null,
   "metadata": {},
   "outputs": [],
   "source": [
    "#mods_to_load = ['LFP', 'src', 'EMG']\n",
    "#mods_to_load = ['LFP', 'src', 'EMG', 'SSS','resample', 'FTraw']\n",
    "mods_to_load = ['LFP', 'src', 'EMG', 'resample', 'afterICA']\n",
    "mods_to_load = ['src', 'FTraw']\n",
    "mods_to_load = ['src', 'LFP', 'EMG']\n",
    "if use_lfp_HFO:\n",
    "    mods_to_load += ['LFP_hires']"
   ]
  },
  {
   "cell_type": "code",
   "execution_count": null,
   "metadata": {},
   "outputs": [],
   "source": [
    "raws_permod_both_sides = upre.loadRaws(rawnames,mods_to_load, sources_type, src_type_to_use, \n",
    "             src_file_grouping_ind)\n",
    "raws_lfponly = []\n",
    "raws_lfp_highres = []\n",
    "raws_srconly = []\n",
    "raws_emg_rectconv = []\n",
    "for rawname_ in rawnames:  \n",
    "    r = raws_permod_both_sides[rawname_]\n",
    "    raws_lfponly       += [ r.get('LFP',None)  ]\n",
    "    raws_lfp_highres   += [ r.get('LFP_hires',None)  ]\n",
    "    raws_srconly       += [ r.get('src',None)  ]\n",
    "    raws_emg_rectconv  += [ r.get('EMG',None)  ]\n",
    "    \n",
    "\n",
    "if crop_end is not None:\n",
    "    allraws = raws_lfp_highres + raws_lfponly + raws_srconly + raws_emg_rectconv\n",
    "    for raw_cur in allraws:\n",
    "        raw_cur.crop(crop_start,crop_end)"
   ]
  },
  {
   "cell_type": "code",
   "execution_count": null,
   "metadata": {},
   "outputs": [],
   "source": [
    "utils.getRawPerSide(raws_permod_both_sides['S01_off_hold']['LFP'], 'LFP', 'str', \n",
    "                    remove_anns = None, switch_sides_chinfo=True, switch_sides=True)"
   ]
  },
  {
   "cell_type": "code",
   "execution_count": null,
   "metadata": {},
   "outputs": [],
   "source": [
    "rr = raws_permod_both_sides['S01_off_hold']['src']\n",
    "rop = utils.changeRawInfoSides(rr)"
   ]
  },
  {
   "cell_type": "code",
   "execution_count": null,
   "metadata": {},
   "outputs": [],
   "source": [
    "yy = 'fds'\n",
    "uu = yy.replace('fd','sss')\n",
    "yy, uu"
   ]
  },
  {
   "cell_type": "code",
   "execution_count": null,
   "metadata": {},
   "outputs": [],
   "source": [
    "rr.ch_names"
   ]
  },
  {
   "cell_type": "code",
   "execution_count": null,
   "metadata": {},
   "outputs": [],
   "source": [
    "rop.ch_names"
   ]
  },
  {
   "cell_type": "code",
   "execution_count": null,
   "metadata": {},
   "outputs": [],
   "source": [
    "#help(rr.get_data )"
   ]
  },
  {
   "cell_type": "code",
   "execution_count": null,
   "metadata": {},
   "outputs": [],
   "source": [
    "for "
   ]
  },
  {
   "cell_type": "code",
   "execution_count": null,
   "metadata": {},
   "outputs": [],
   "source": [
    "info_LFP= raws_permod_both_sides['S01_off_hold']['LFP'].info['chs'][0]\n",
    "info_LFP"
   ]
  },
  {
   "cell_type": "code",
   "execution_count": null,
   "metadata": {},
   "outputs": [],
   "source": [
    "info_LFP['ch_name'] += 'fd'"
   ]
  },
  {
   "cell_type": "code",
   "execution_count": null,
   "metadata": {},
   "outputs": [],
   "source": [
    "info= raws_permod_both_sides['S01_off_hold']['src'].info"
   ]
  },
  {
   "cell_type": "code",
   "execution_count": null,
   "metadata": {},
   "outputs": [],
   "source": [
    "info['chs'][0].keys()"
   ]
  },
  {
   "cell_type": "code",
   "execution_count": null,
   "metadata": {},
   "outputs": [],
   "source": [
    "agree = 0\n",
    "for chni,chinfo in enumerate(info['chs']):\n",
    "    print(info['ch_names'][chni], chinfo['ch_name'],chinfo['loc'][:3] )\n",
    "    if chinfo['ch_name'].find('msrcR') >= 0 and chinfo['loc'][0] >= 0:\n",
    "        agree += 1\n",
    "    if chinfo['ch_name'].find('msrcL') >= 0 and chinfo['loc'][0] < 0:\n",
    "        agree += 1"
   ]
  },
  {
   "cell_type": "code",
   "execution_count": null,
   "metadata": {},
   "outputs": [],
   "source": [
    "agree, len(info['chs'])"
   ]
  },
  {
   "cell_type": "code",
   "execution_count": null,
   "metadata": {},
   "outputs": [],
   "source": [
    "info['chs'][334]"
   ]
  },
  {
   "cell_type": "code",
   "execution_count": null,
   "metadata": {},
   "outputs": [],
   "source": [
    "info['chs'][336]"
   ]
  },
  {
   "cell_type": "code",
   "execution_count": null,
   "metadata": {},
   "outputs": [],
   "source": [
    "info['chs'][400]"
   ]
  },
  {
   "cell_type": "markdown",
   "metadata": {},
   "source": [
    "# Trying to merge"
   ]
  },
  {
   "cell_type": "code",
   "execution_count": null,
   "metadata": {},
   "outputs": [],
   "source": [
    "rhold = raws_permod_both_sides['S01_off_hold']['FTraw']\n",
    "rmove = raws_permod_both_sides['S01_off_move']['FTraw']"
   ]
  },
  {
   "cell_type": "code",
   "execution_count": null,
   "metadata": {},
   "outputs": [],
   "source": [
    "lthold = len(rhold.times)\n",
    "ltmove = len(rmove.times)\n",
    "dur = 5\n",
    "nb = int(dur*rhold.info['sfreq'])\n",
    "dth,tsh = rhold[:,-nb:]\n",
    "dtm,tsm = rmove[:,:nb]\n",
    "\n",
    "dthi,tshi = rhold[:,:nb]\n",
    "dtmi,tsmi = rmove[:,-nb:]"
   ]
  },
  {
   "cell_type": "code",
   "execution_count": null,
   "metadata": {},
   "outputs": [],
   "source": [
    "dth.shape"
   ]
  },
  {
   "cell_type": "code",
   "execution_count": null,
   "metadata": {},
   "outputs": [],
   "source": [
    "chis = range(50)\n",
    "N = len(chis)\n",
    "ww = 5; hh=2\n",
    "fig,axs = plt.subplots(N,2,figsize=(2*ww,N*hh))\n",
    "\n",
    "for chii in range(N):\n",
    "    \n",
    "    chi = chis[chii]\n",
    "    chnh = rhold.ch_names[chi]\n",
    "    chnm = rmove.ch_names[chi]\n",
    "    assert chnh == chnm\n",
    "    \n",
    "    ax = axs[chii,0]\n",
    "    ax.plot(tsh,dth[chi],label='hold')\n",
    "    ax.plot(rhold.times[-1]+tsm,dtm[chi],label='move')\n",
    "    ax.legend()\n",
    "    ax.set_title(chnh)\n",
    "\n",
    "    ax = axs[chii,1]\n",
    "    ax.plot(rmove.times[-1] + tshi,dthi[chi],label='hold')\n",
    "    ax.plot(tsmi,dtmi[chi],label='move')\n",
    "    ax.legend()\n",
    "    \n",
    "plt.tight_layout()\n",
    "plt.savefig('merge_{}_and_{}.png'.format(rawnames[0],rawnames[1]))\n",
    "plt.close()"
   ]
  },
  {
   "cell_type": "code",
   "execution_count": null,
   "metadata": {},
   "outputs": [],
   "source": [
    "import gc; gc.collect()"
   ]
  },
  {
   "cell_type": "code",
   "execution_count": null,
   "metadata": {},
   "outputs": [],
   "source": [
    "help(raw_FT.filter)"
   ]
  },
  {
   "cell_type": "code",
   "execution_count": null,
   "metadata": {},
   "outputs": [],
   "source": [
    "sfreq = int(raws_srconly[0].info['sfreq'])\n",
    "sfreq_highres = raws_lfp_highres[0].info['sfreq']\n",
    "sfreq_highres = int(sfreq_highres)"
   ]
  },
  {
   "cell_type": "code",
   "execution_count": null,
   "metadata": {},
   "outputs": [],
   "source": [
    "raw_FT = raws_permod_both_sides[rawnames[0]]['FTraw']\n",
    "raw_FT_meg = raw_FT.copy()\n",
    "raw_FT_meg.pick_types(meg=True)"
   ]
  },
  {
   "cell_type": "code",
   "execution_count": null,
   "metadata": {},
   "outputs": [],
   "source": []
  },
  {
   "cell_type": "code",
   "execution_count": null,
   "metadata": {},
   "outputs": [],
   "source": [
    "badchlist = upre.loadBadChannelList(rawname_,raw_FT_meg.ch_names)\n",
    "raw_FT_meg.info['bads'] = badchlist\n"
   ]
  },
  {
   "cell_type": "code",
   "execution_count": null,
   "metadata": {},
   "outputs": [],
   "source": [
    "raw_FT_meg.drop_channels(badchlist)"
   ]
  },
  {
   "cell_type": "code",
   "execution_count": null,
   "metadata": {},
   "outputs": [],
   "source": [
    "r = utils.findRawArtifacts(raw_FT_meg, thr_use_mean = 1, data_mod='MEG')"
   ]
  },
  {
   "cell_type": "code",
   "execution_count": null,
   "metadata": {},
   "outputs": [],
   "source": [
    "anns, cvlps = r"
   ]
  },
  {
   "cell_type": "code",
   "execution_count": null,
   "metadata": {},
   "outputs": [],
   "source": [
    "raw_FT_meg.set_annotations(anns)"
   ]
  },
  {
   "cell_type": "code",
   "execution_count": null,
   "metadata": {},
   "outputs": [],
   "source": [
    "%matplotlib qt"
   ]
  },
  {
   "cell_type": "code",
   "execution_count": null,
   "metadata": {},
   "outputs": [],
   "source": [
    "#MEG1723 -- squid jump around 460s"
   ]
  },
  {
   "cell_type": "code",
   "execution_count": null,
   "metadata": {},
   "outputs": [],
   "source": [
    "raw_FT_meg.info['chs']"
   ]
  },
  {
   "cell_type": "code",
   "execution_count": null,
   "metadata": {},
   "outputs": [],
   "source": [
    "raw_FT_meg.plot();"
   ]
  },
  {
   "cell_type": "code",
   "execution_count": null,
   "metadata": {},
   "outputs": [],
   "source": [
    "raw_FT_lfp.ch_names"
   ]
  },
  {
   "cell_type": "code",
   "execution_count": null,
   "metadata": {},
   "outputs": [],
   "source": [
    "raw_FT_lfp = raw_FT.copy()\n",
    "chns = np.array(raw_FT.ch_names)[ mne.pick_channels_regexp(raw_FT.ch_names,'LFP*') ]\n",
    "raw_FT_lfp.pick_channels(chns)"
   ]
  },
  {
   "cell_type": "code",
   "execution_count": null,
   "metadata": {},
   "outputs": [],
   "source": [
    "utils.findRawArtifacts(raw_FT_lfp, thr_use_mean = 1, data_mod='LFP')"
   ]
  },
  {
   "cell_type": "code",
   "execution_count": null,
   "metadata": {},
   "outputs": [],
   "source": [
    "raw_FT_lfp.info['chs']"
   ]
  },
  {
   "cell_type": "code",
   "execution_count": null,
   "metadata": {},
   "outputs": [],
   "source": [
    "raw_src = raws_permod_both_sides[rawnames[0]]['src']"
   ]
  },
  {
   "cell_type": "code",
   "execution_count": null,
   "metadata": {},
   "outputs": [],
   "source": [
    "#raw_src.plot();"
   ]
  },
  {
   "cell_type": "code",
   "execution_count": null,
   "metadata": {},
   "outputs": [],
   "source": [
    "%matplotlib qt"
   ]
  },
  {
   "cell_type": "code",
   "execution_count": null,
   "metadata": {},
   "outputs": [],
   "source": []
  },
  {
   "cell_type": "code",
   "execution_count": null,
   "metadata": {},
   "outputs": [],
   "source": [
    "#S01_off_hold 355.421875,1.0859375,BAD_MEGR"
   ]
  },
  {
   "cell_type": "code",
   "execution_count": null,
   "metadata": {},
   "outputs": [],
   "source": [
    "raw_afterICA = raws_permod_both_sides[rawnames[0]]['afterICA']\n",
    "raw_afterICA_meg = raw_afterICA.copy()\n",
    "raw_afterICA_meg.pick_types(meg=True)"
   ]
  },
  {
   "cell_type": "code",
   "execution_count": null,
   "metadata": {},
   "outputs": [],
   "source": [
    "raw_afterICA_meg.plot()"
   ]
  },
  {
   "cell_type": "code",
   "execution_count": null,
   "metadata": {},
   "outputs": [],
   "source": [
    "raw_SSS = raws_permod_both_sides[rawnames[0]]['SSS']\n",
    "raw_SSS_meg = raw_SSS.copy()\n",
    "raw_SSS_meg.pick_types(meg=True)"
   ]
  },
  {
   "cell_type": "code",
   "execution_count": null,
   "metadata": {},
   "outputs": [],
   "source": [
    "%matplotlib qt"
   ]
  },
  {
   "cell_type": "code",
   "execution_count": null,
   "metadata": {},
   "outputs": [],
   "source": [
    "#raw_SSS_meg.plot(butterfly=1);\n",
    "raw_SSS_meg.plot();"
   ]
  },
  {
   "cell_type": "code",
   "execution_count": null,
   "metadata": {},
   "outputs": [],
   "source": [
    "raw_resample = raws_permod_both_sides[rawnames[0]]['resample']\n",
    "raw_resample_meg = raw_resample.copy()\n",
    "raw_resample_meg.pick_types(meg=True)"
   ]
  },
  {
   "cell_type": "code",
   "execution_count": null,
   "metadata": {},
   "outputs": [],
   "source": [
    "raw_resample.info['chs']"
   ]
  },
  {
   "cell_type": "code",
   "execution_count": null,
   "metadata": {},
   "outputs": [],
   "source": [
    "#raw_SSS_meg.plot(butterfly=1);\n",
    "raw_resample_meg.plot();"
   ]
  },
  {
   "cell_type": "code",
   "execution_count": null,
   "metadata": {},
   "outputs": [],
   "source": [
    "import gc; gc.collect()"
   ]
  },
  {
   "cell_type": "code",
   "execution_count": null,
   "metadata": {},
   "outputs": [],
   "source": [
    "sources_type = 'parcel_aal'\n",
    "src_file_grouping_ind = 10\n",
    "src_grouping = 0 \n",
    "crop_start = None\n",
    "crop_end   = None\n",
    "use_main_LFP_chan = 0\n",
    "use_main_tremorside = 1\n",
    "maintremside = 'left'\n",
    "mts_letter = maintremside[0].upper()\n",
    "data_modalities = ['LFP', 'msrc']\n",
    "\n",
    "only_load_data = 0"
   ]
  },
  {
   "cell_type": "code",
   "execution_count": null,
   "metadata": {},
   "outputs": [],
   "source": [
    "raws_permod_both_sides"
   ]
  },
  {
   "cell_type": "code",
   "execution_count": null,
   "metadata": {},
   "outputs": [],
   "source": []
  },
  {
   "cell_type": "code",
   "execution_count": null,
   "metadata": {},
   "outputs": [],
   "source": [
    "opside_let = utils.getOppositeSideStr(mts_letter)\n",
    "srcraw = raws_permod['msrc'][opside_let]"
   ]
  },
  {
   "cell_type": "code",
   "execution_count": null,
   "metadata": {},
   "outputs": [],
   "source": [
    "srcraw.ch_names"
   ]
  },
  {
   "cell_type": "code",
   "execution_count": null,
   "metadata": {},
   "outputs": [],
   "source": [
    "supp_info_fname = rawname_ + '_supp_info.npz'\n",
    "supp_info_fname_full = os.path.join(gv.data_dir,supp_info_fname)\n",
    "supp_info = np.load(supp_info_fname_full, allow_pickle=1)['supp_info'][()]"
   ]
  },
  {
   "cell_type": "code",
   "execution_count": null,
   "metadata": {},
   "outputs": [],
   "source": [
    "raws_srconly"
   ]
  },
  {
   "cell_type": "code",
   "execution_count": null,
   "metadata": {},
   "outputs": [],
   "source": [
    "band = supp_info['trem_burst_meg_freq'] - 4, supp_info['trem_burst_meg_freq'] + 4"
   ]
  },
  {
   "cell_type": "code",
   "execution_count": null,
   "metadata": {},
   "outputs": [],
   "source": [
    "srcdat.shape"
   ]
  },
  {
   "cell_type": "code",
   "execution_count": null,
   "metadata": {},
   "outputs": [],
   "source": [
    "%matplotlib qt"
   ]
  },
  {
   "cell_type": "code",
   "execution_count": null,
   "metadata": {},
   "outputs": [],
   "source": [
    "srcraw.plot();"
   ]
  },
  {
   "cell_type": "code",
   "execution_count": null,
   "metadata": {},
   "outputs": [],
   "source": [
    "srcgroups = rec_info['srcgroups_dict'][()]['all_raw']\n",
    "inds_per_roi = {}\n",
    "srcraw = raws_srconly[0]\n",
    "srcraw = srcraw.copy()\n",
    "#srcraw.filter(l_freq=band[0],h_freq=band[1])\n",
    "\n",
    "ch_names = srcraw.ch_names\n",
    "labels_to_show = supp_info['roi_labels_with_tremor']\n",
    "#labels_to_show = roi_labels_cur\n",
    "for roi_lbl in labels_to_show:\n",
    "    lbl_ind = roi_labels_cur.index(roi_lbl)\n",
    "    #src_inds = np.where(srcgroups==lbl_ind)[0]\n",
    "    side = roi_lbl[-1].upper()\n",
    "    src_inds = mne.pick_channels_regexp(ch_names,'msrc{}_0_{}_c.*'.format(side,lbl_ind))\n",
    "    \n",
    "    inds_per_roi[roi_lbl] = src_inds\n",
    "    print(roi_lbl, len(src_inds), type(src_inds))\n",
    "    if len(src_inds) == 0:\n",
    "        continue\n",
    "    srcdat,times = srcraw[src_inds]\n",
    "    #mean_srcdat = np.mean(srcdat,axis=0)\n",
    "    #plt.plot(times,mean_srcdat)\n",
    "    nsrcs = srcdat.shape[0]\n",
    "    fig,axs = plt.subplots(nrows=nsrcs, ncols=1, sharex='col', figsize=(5,nsrcs*1.5))\n",
    "    if not isinstance(axs,np.ndarray):\n",
    "        axs = np.array([axs])\n",
    "    for srci in range(nsrcs):\n",
    "        ax = axs[srci]\n",
    "        #plt.figure(figsize=(5,1))\n",
    "        ax.plot(times,srcdat[srci])\n",
    "        ax.set_title('{}:{}_{}_{}'.format(lbl_ind,roi_lbl, srci, srcraw.ch_names[src_inds[srci] ]) )\n",
    "    plt.tight_layout()\n",
    "    plt.show()\n",
    "#     plt.title(roi_lbl)\n",
    "#     plt.show()\n",
    "    "
   ]
  },
  {
   "cell_type": "code",
   "execution_count": null,
   "metadata": {},
   "outputs": [],
   "source": [
    "src_inds"
   ]
  },
  {
   "cell_type": "code",
   "execution_count": null,
   "metadata": {},
   "outputs": [],
   "source": [
    "list(rec_info.keys())"
   ]
  },
  {
   "cell_type": "code",
   "execution_count": null,
   "metadata": {},
   "outputs": [],
   "source": []
  },
  {
   "cell_type": "code",
   "execution_count": null,
   "metadata": {},
   "outputs": [],
   "source": []
  }
 ],
 "metadata": {
  "kernelspec": {
   "display_name": "prmeeg",
   "language": "python",
   "name": "prmeeg"
  },
  "language_info": {
   "codemirror_mode": {
    "name": "ipython",
    "version": 3
   },
   "file_extension": ".py",
   "mimetype": "text/x-python",
   "name": "python",
   "nbconvert_exporter": "python",
   "pygments_lexer": "ipython3",
   "version": "3.10.8"
  }
 },
 "nbformat": 4,
 "nbformat_minor": 2
}
