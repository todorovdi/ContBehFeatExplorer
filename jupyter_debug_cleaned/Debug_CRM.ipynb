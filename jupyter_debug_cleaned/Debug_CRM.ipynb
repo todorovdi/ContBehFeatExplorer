{
 "cells": [
  {
   "cell_type": "code",
   "execution_count": null,
   "metadata": {},
   "outputs": [],
   "source": [
    "%load_ext autoreload\n",
    "%autoreload 2"
   ]
  },
  {
   "cell_type": "code",
   "execution_count": null,
   "metadata": {},
   "outputs": [],
   "source": [
    "import os"
   ]
  },
  {
   "cell_type": "code",
   "execution_count": null,
   "metadata": {},
   "outputs": [],
   "source": [
    "fnames = os.listdir(\".\")"
   ]
  },
  {
   "cell_type": "code",
   "execution_count": null,
   "metadata": {},
   "outputs": [],
   "source": [
    "%run -i run_ML.py --param_file ML_HPC.ini -r S01_off_hold\\\n",
    "--groupings_to_use merge_nothing --int_types_to_use basic --mods LFP --prefix modLFP \\\n",
    "--subskip_fit 4"
   ]
  },
  {
   "cell_type": "code",
   "execution_count": null,
   "metadata": {},
   "outputs": [],
   "source": [
    "%load_ext autoreload\n",
    "%autoreload 2\n",
    "\n",
    "%run -i run_ML.py --param_file ML_HPC.ini -r S01_off_hold\\\n",
    "--groupings_to_use merge_all_not_trem --int_types_to_use trem_vs_quiet --mods msrc --prefix modSrc_short \\\n",
    "--subskip_fit 12"
   ]
  },
  {
   "cell_type": "code",
   "execution_count": null,
   "metadata": {},
   "outputs": [],
   "source": [
    "do_XGB_cur"
   ]
  },
  {
   "cell_type": "code",
   "execution_count": null,
   "metadata": {},
   "outputs": [],
   "source": [
    "shap_values"
   ]
  },
  {
   "cell_type": "code",
   "execution_count": null,
   "metadata": {},
   "outputs": [],
   "source": [
    "X_to_analyze_feat_sign.shape"
   ]
  },
  {
   "cell_type": "code",
   "execution_count": null,
   "metadata": {},
   "outputs": [],
   "source": [
    "clf_bestfeats = XGBClassifier(**add_clf_creopts)\n",
    "\n",
    "clf_bestfeats.fit(X_for_heavy[:,best_inds_XGB_among_heavy],\n",
    "                  class_labels_good_for_classif, **add_fitopts)"
   ]
  },
  {
   "cell_type": "code",
   "execution_count": null,
   "metadata": {},
   "outputs": [],
   "source": [
    "clf_bestfeats = XGBClassifier(**add_clf_creopts)                                             \n",
    "                     #clf_bestfeats.fit(X_for_heavy[:,best_inds_XGB_among_heavy],                                 \n",
    "                     #                  class_labels_good_for_classif, **add_fitopts)                             \n",
    "clf_bestfeats.fit(X_to_analyze_feat_sign,                                                    \n",
    "               class_labels_good_for_classif, **add_fitopts) \n",
    "perf_nocv_, results_, res_aver_ = utsne.getPredPowersCV(clf_bestfeats,X_for_heavy[:,best_inds_XGB_among_heavy],\n",
    "                                                  class_labels_good_for_classif,list(le.classes_).index(class_ind_to_check),\n",
    "                                                  1,              \n",
    "                            n_splits=n_splits, add_fitopts=add_fitopts, add_clf_creopts=add_clf_creopts)"
   ]
  },
  {
   "cell_type": "code",
   "execution_count": null,
   "metadata": {},
   "outputs": [],
   "source": [
    "len(best_inds_XGB_among_heavy)"
   ]
  },
  {
   "cell_type": "code",
   "execution_count": null,
   "metadata": {},
   "outputs": [],
   "source": [
    "perf_nocv_, results_, res_aver_ = utsne.getPredPowersCV(clfs_best_CV[0],X_for_heavy[:,best_inds_XGB_among_heavy],\n",
    "                                                  class_labels_good_for_classif,list(le.classes_).index(class_ind_to_check),\n",
    "                                                  1,              \n",
    "                            n_splits=n_splits, add_fitopts=add_fitopts, add_clf_creopts=add_clf_creopts)"
   ]
  },
  {
   "cell_type": "code",
   "execution_count": null,
   "metadata": {},
   "outputs": [],
   "source": []
  },
  {
   "cell_type": "code",
   "execution_count": null,
   "metadata": {},
   "outputs": [],
   "source": [
    "                     clf_bestfeats = XGBClassifier(**add_clf_creopts)                                             \n",
    "                     #clf_bestfeats.fit(X_for_heavy[:,best_inds_XGB_among_heavy],                                 \n",
    "                     #                  class_labels_good_for_classif, **add_fitopts)                             \n",
    "                     clf_bestfeats.fit(X_to_analyze_feat_sign[::12,:],                                                    \n",
    "                                       class_labels_good_for_classif, **add_fitopts)                              \n",
    "                                      "
   ]
  },
  {
   "cell_type": "code",
   "execution_count": null,
   "metadata": {},
   "outputs": [],
   "source": [
    "                                                                            \n",
    "                     #try:                                                                                        \n",
    "                     explainer= shap.Explainer(clf_bestfeats.predict, Xsubset,feature_names=featnames_sel)        \n",
    "                     #explainer= shap.Explainer(clf_bestfeats.predict, Xsubset)                                   \n",
    "                     shap_values = explainer(X_to_analyze_feat_sign)     "
   ]
  },
  {
   "cell_type": "code",
   "execution_count": null,
   "metadata": {},
   "outputs": [],
   "source": [
    "X_for_heavy.shape"
   ]
  },
  {
   "cell_type": "code",
   "execution_count": null,
   "metadata": {},
   "outputs": [],
   "source": [
    "best_inds_XGB"
   ]
  },
  {
   "cell_type": "code",
   "execution_count": null,
   "metadata": {},
   "outputs": [],
   "source": [
    "explainer.__dict__"
   ]
  },
  {
   "cell_type": "code",
   "execution_count": null,
   "metadata": {},
   "outputs": [],
   "source": [
    "r[2]"
   ]
  },
  {
   "cell_type": "code",
   "execution_count": null,
   "metadata": {},
   "outputs": [],
   "source": [
    "help(open)"
   ]
  },
  {
   "cell_type": "code",
   "execution_count": null,
   "metadata": {},
   "outputs": [],
   "source": []
  },
  {
   "cell_type": "code",
   "execution_count": null,
   "metadata": {},
   "outputs": [],
   "source": [
    "rpfn = {}\n",
    "mymodules = []\n",
    "for fn in fnames:\n",
    "    if not fn.endswith('.py'):\n",
    "        continue\n",
    "    print(fn)\n",
    "    mymodules += [fn[:-3] ]\n",
    "    \n",
    "    r = \"\"\n",
    "    with open(fn, mode='r',encoding = \"ISO-8859-1\") as f:\n",
    "        r = f.readlines()\n",
    "    rpfn[fn] = r"
   ]
  },
  {
   "cell_type": "code",
   "execution_count": null,
   "metadata": {},
   "outputs": [],
   "source": [
    "mymodules"
   ]
  },
  {
   "cell_type": "code",
   "execution_count": null,
   "metadata": {},
   "outputs": [],
   "source": [
    "import re\n",
    "found_imports = []\n",
    "for lines_cur in rpfn.values():\n",
    "    #lines = files[0]\n",
    "    #s = lines[2]\n",
    "    for s in lines_cur:\n",
    "    #print(s)\n",
    "        cmtmatch = re.match(\"\\s*#\",s)\n",
    "        if cmtmatch is None:\n",
    "            p = \"^\\s*from\\s*(\\w+)\\s+import\\s+|^\\s*import\\s+(\\w+)\"\n",
    "            p += \"|\"\n",
    "            p += \"^\\s*from\\s+(\\w+)\\s*\\.\\s*\\w+\\s+import\"\n",
    "            rer = re.findall(p,s)\n",
    "            if len(rer) == 0:\n",
    "                continue\n",
    "            rr = [r for r in rer[0] if len(r) > 0]\n",
    "            print(rr)\n",
    "            assert len(rr) == 1, (s,rr)\n",
    "            if rr[0] in mymodules:\n",
    "                continue\n",
    "            found_imports += [ rr[0] ]\n",
    "    #     else:\n",
    "    #          print(cmtmatch)\n",
    "found_imports = list(set(found_imports))"
   ]
  },
  {
   "cell_type": "code",
   "execution_count": null,
   "metadata": {},
   "outputs": [],
   "source": [
    "found_imports"
   ]
  },
  {
   "cell_type": "code",
   "execution_count": null,
   "metadata": {},
   "outputs": [],
   "source": [
    "','.join(found_imports)"
   ]
  },
  {
   "cell_type": "code",
   "execution_count": null,
   "metadata": {},
   "outputs": [],
   "source": [
    "imports_str = \"scipy,xgboost,sys,sklearn,gc,pandas,lspopt,datetime,json,pywt,mayavi,numpy,re,umap,deepdiff,getopt,mne,operator,os,multiprocessing,time,itertools,pdb,socket,matplotlib,unittest,simdkalman,collections,mpi4py,h5py,pymatreader,copy\"; \n",
    "imps = imports_str.split(',')\n",
    "import importlib as il\n",
    "for imp in imps:\n",
    "    try:\n",
    "        il.import_module(imp)\n",
    "    except ModuleNotFoundError as e:\n",
    "        print(e)"
   ]
  },
  {
   "cell_type": "code",
   "execution_count": null,
   "metadata": {},
   "outputs": [],
   "source": [
    "simdkalman"
   ]
  },
  {
   "cell_type": "code",
   "execution_count": null,
   "metadata": {},
   "outputs": [],
   "source": [
    "#import scipy,xgboost,sys,sklearn,gc,pandas,lspopt,datetime,json,pywt,mayavi,numpy,re,umap,deepdiff,getopt,mne,operator,os,multiprocessing,time,itertools,pdb,socket,matplotlib,unittest,simdkalman\n",
    "import collections,mpi4py,h5py,pymatreader,copy"
   ]
  },
  {
   "cell_type": "code",
   "execution_count": null,
   "metadata": {},
   "outputs": [],
   "source": [
    "rer[0]"
   ]
  },
  {
   "cell_type": "code",
   "execution_count": null,
   "metadata": {},
   "outputs": [],
   "source": [
    "p"
   ]
  },
  {
   "cell_type": "code",
   "execution_count": null,
   "metadata": {},
   "outputs": [],
   "source": [
    "import shap"
   ]
  },
  {
   "cell_type": "code",
   "execution_count": null,
   "metadata": {},
   "outputs": [],
   "source": [
    "import numpy as np"
   ]
  },
  {
   "cell_type": "code",
   "execution_count": null,
   "metadata": {},
   "outputs": [],
   "source": []
  },
  {
   "cell_type": "code",
   "execution_count": null,
   "metadata": {},
   "outputs": [],
   "source": [
    "#search for non-zero components in short msrc names\n",
    "b = []\n",
    "for fen in feature_names_all:\n",
    "    r = re.match('.*msrc._[0-9]+_[0-9]+_c[^0][0-9]*', fen)\n",
    "    if r is not None:\n",
    "        print(fen)\n",
    "        b += [fen]\n",
    "   "
   ]
  },
  {
   "cell_type": "code",
   "execution_count": null,
   "metadata": {},
   "outputs": [],
   "source": [
    "#search for non-zero components in short msrc names\n",
    "b = []\n",
    "for fen in featnames:\n",
    "    r = re.match('.*msrc._[0-9]+_[0-9]+_c1[0-9]*', fen)\n",
    "    if r is not None:\n",
    "        print(fen)\n",
    "        b += [fen]\n",
    "   \n",
    "#search for non-zero components in long msrc names\n",
    "if len(b) == 0:\n",
    "    for fen in featnames_nice:\n",
    "        r = re.match('.*msrc_.*_c1[0-9]*', fen)\n",
    "        if r is not None:\n",
    "            print(fen)"
   ]
  },
  {
   "cell_type": "markdown",
   "metadata": {},
   "source": [
    "# run_PCA"
   ]
  },
  {
   "cell_type": "code",
   "execution_count": null,
   "metadata": {},
   "outputs": [],
   "source": [
    "%load_ext autoreload\n",
    "%autoreload 2"
   ]
  },
  {
   "cell_type": "code",
   "execution_count": null,
   "metadata": {},
   "outputs": [],
   "source": [
    "%run -i run_PCA.py -r S01_off_hold \\\n",
    "--bands crude --sources_type parcel_aal --mods msrc \\\n",
    "--src_grouping 0 --src_grouping_fn 10 --rescale_feats 1 \\\n",
    "--skip_XGB 1 --search_best_LFP 1 \\\n",
    "--int_types_to_use subj \\\n",
    "--groupings_to_use merge_within_task,merge_within_medcond,merge_within_subj \\\n",
    "--save_output 0 --prefix test --load_only 1"
   ]
  },
  {
   "cell_type": "code",
   "execution_count": null,
   "metadata": {},
   "outputs": [],
   "source": []
  },
  {
   "cell_type": "code",
   "execution_count": null,
   "metadata": {},
   "outputs": [],
   "source": [
    "%run -i run_PCA.py -r S01_off_hold,S01_off_move,S01_on_hold,S02_off_hold \\\n",
    "--bands crude --sources_type parcel_aal --mods msrc \\\n",
    "--src_grouping 0 --src_grouping_fn 10 --rescale_feats 1 \\\n",
    "--skip_XGB 1 --search_best_LFP 1 \\\n",
    "--int_types_to_use subj_medcond_task,subj_medcond,subj \\\n",
    "--groupings_to_use merge_within_task,merge_within_medcond,merge_within_subj \\\n",
    "--save_output 0 --prefix test"
   ]
  },
  {
   "cell_type": "code",
   "execution_count": null,
   "metadata": {},
   "outputs": [],
   "source": [
    "# they have differnt main lfp chans\n",
    "%run -i run_PCA.py -r S01_off_hold,S02_off_hold \\\n",
    "--bands crude --sources_type parcel_aal --mods LFP \\\n",
    "--src_grouping 0 --src_grouping_fn 10 --rescale_feats 1 \\\n",
    "--skip_XGB 1 --LFPchan main\\\n",
    "--int_types_to_use subj_medcond_task,subj_medcond,subj \\\n",
    "--groupings_to_use merge_within_task,merge_within_medcond,merge_within_subj \\\n",
    "--save_output 1 --prefix test"
   ]
  },
  {
   "cell_type": "code",
   "execution_count": null,
   "metadata": {},
   "outputs": [],
   "source": [
    "feature_names_pri"
   ]
  },
  {
   "cell_type": "code",
   "execution_count": null,
   "metadata": {},
   "outputs": [],
   "source": [
    "%load_ext autoreload\n",
    "%autoreload 2"
   ]
  },
  {
   "cell_type": "code",
   "execution_count": null,
   "metadata": {},
   "outputs": [],
   "source": [
    "%run -i run_PCA.py -r S01_off_hold,S01_off_move,S01_on_hold,S02_off_hold \\\n",
    "--bands crude --sources_type parcel_aal --mods LFP \\\n",
    "--src_grouping 0 --src_grouping_fn 10 --rescale_feats 0 \\\n",
    "--skip_XGB 1 --search_best_LFP 1 --LFP_related_only 1\\\n",
    "--int_types_to_use subj_medcond_task,subj_medcond,subj \\\n",
    "--groupings_to_use merge_within_task,merge_within_medcond,merge_within_subj \\\n",
    "--save_output 1 --prefix test"
   ]
  },
  {
   "cell_type": "code",
   "execution_count": null,
   "metadata": {},
   "outputs": [],
   "source": [
    "use_main_LFP_chan"
   ]
  },
  {
   "cell_type": "code",
   "execution_count": null,
   "metadata": {},
   "outputs": [],
   "source": [
    "sa = upre.getRawnameListStructure(rawnames) \n",
    "[ si['medconds'] for si in sa.values() ]\n",
    "[ si['tasks'] for si in sa.values() ] \n",
    "[ int(si[1:]) for si in sa ]"
   ]
  },
  {
   "cell_type": "code",
   "execution_count": null,
   "metadata": {},
   "outputs": [],
   "source": [
    "import itertools"
   ]
  },
  {
   "cell_type": "code",
   "execution_count": null,
   "metadata": {},
   "outputs": [],
   "source": [
    "help(itertools.chain)"
   ]
  },
  {
   "cell_type": "code",
   "execution_count": null,
   "metadata": {},
   "outputs": [],
   "source": []
  },
  {
   "cell_type": "code",
   "execution_count": null,
   "metadata": {},
   "outputs": [],
   "source": [
    "sa"
   ]
  },
  {
   "cell_type": "code",
   "execution_count": null,
   "metadata": {},
   "outputs": [],
   "source": [
    "data_modalitites"
   ]
  },
  {
   "cell_type": "code",
   "execution_count": null,
   "metadata": {},
   "outputs": [],
   "source": [
    "sum( lens_pri )"
   ]
  },
  {
   "cell_type": "code",
   "execution_count": null,
   "metadata": {},
   "outputs": [],
   "source": [
    "Xconcat_imputed.shape"
   ]
  },
  {
   "cell_type": "code",
   "execution_count": null,
   "metadata": {},
   "outputs": [],
   "source": [
    "class_labels"
   ]
  },
  {
   "cell_type": "code",
   "execution_count": null,
   "metadata": {},
   "outputs": [],
   "source": [
    "np.sum( class_labels  ==0)"
   ]
  },
  {
   "cell_type": "code",
   "execution_count": null,
   "metadata": {},
   "outputs": [],
   "source": [
    "class_to_check"
   ]
  },
  {
   "cell_type": "code",
   "execution_count": null,
   "metadata": {},
   "outputs": [],
   "source": [
    "grouping_key"
   ]
  },
  {
   "cell_type": "code",
   "execution_count": null,
   "metadata": {},
   "outputs": [],
   "source": [
    "groupings_to_use"
   ]
  },
  {
   "cell_type": "code",
   "execution_count": null,
   "metadata": {},
   "outputs": [],
   "source": [
    "int_types_to_use"
   ]
  },
  {
   "cell_type": "code",
   "execution_count": null,
   "metadata": {},
   "outputs": [],
   "source": [
    "featnames"
   ]
  },
  {
   "cell_type": "code",
   "execution_count": null,
   "metadata": {},
   "outputs": [],
   "source": [
    "#%debug\n",
    "%run -i run_PCA.py -r S01_off_hold \\\n",
    "--bands crude --sources_type parcel_aal \\\n",
    "--src_grouping 0 --src_grouping_fn 10 \\\n",
    "--skip_XGB 1 --search_best_LFP 1 --LFP_related_only 1 --cross_couplings_only 1\\\n",
    "--save_output 0"
   ]
  },
  {
   "cell_type": "code",
   "execution_count": null,
   "metadata": {},
   "outputs": [],
   "source": [
    "featnames[5]"
   ]
  },
  {
   "cell_type": "code",
   "execution_count": null,
   "metadata": {},
   "outputs": [],
   "source": [
    "from sklearn.feature_selection import mutual_info_classif\n",
    "mic = mutual_info_classif(Xconcat_good_cur,class_labels_good, discrete_features = False)\n"
   ]
  },
  {
   "cell_type": "code",
   "execution_count": null,
   "metadata": {},
   "outputs": [],
   "source": [
    "mic"
   ]
  },
  {
   "cell_type": "code",
   "execution_count": null,
   "metadata": {},
   "outputs": [],
   "source": [
    "class_labels"
   ]
  },
  {
   "cell_type": "code",
   "execution_count": null,
   "metadata": {},
   "outputs": [],
   "source": [
    "class_labels_good"
   ]
  },
  {
   "cell_type": "code",
   "execution_count": null,
   "metadata": {},
   "outputs": [],
   "source": [
    "class_ids_grouped, revdict"
   ]
  },
  {
   "cell_type": "code",
   "execution_count": null,
   "metadata": {},
   "outputs": [],
   "source": [
    "counts = utsne.countClassLabels(class_labels_good, class_ids_grouped)\n",
    "counts"
   ]
  },
  {
   "cell_type": "code",
   "execution_count": null,
   "metadata": {},
   "outputs": [],
   "source": [
    "ivalis"
   ]
  },
  {
   "cell_type": "code",
   "execution_count": null,
   "metadata": {},
   "outputs": [],
   "source": [
    "print(counts)"
   ]
  },
  {
   "cell_type": "code",
   "execution_count": null,
   "metadata": {},
   "outputs": [],
   "source": [
    "#%debug\n",
    "%run -i run_PCA.py -r S01_on_hold,S07_on_move \\\n",
    "--bands crude --sources_type parcel_aal \\\n",
    "--src_grouping 0 --src_grouping_fn 10 \\\n",
    "--skip_XGB 1 --search_best_LFP 1"
   ]
  },
  {
   "cell_type": "code",
   "execution_count": null,
   "metadata": {},
   "outputs": [],
   "source": [
    "os.path.exists(fname_csd_full)"
   ]
  },
  {
   "cell_type": "code",
   "execution_count": null,
   "metadata": {},
   "outputs": [],
   "source": [
    "act,mob,compl  = utils.Hjorth(dat_src, 1/sfreq, windowsz=windowsz, skip=skip)\n"
   ]
  },
  {
   "cell_type": "code",
   "execution_count": null,
   "metadata": {},
   "outputs": [],
   "source": [
    "kk = globals().keys()\n",
    "for v in kk:\n",
    "    sz= sys.getsizeof(v)\n",
    "    #if sz > 60:\n",
    "    print(v, sz)"
   ]
  },
  {
   "cell_type": "code",
   "execution_count": null,
   "metadata": {},
   "outputs": [],
   "source": [
    "#del tfrres\n",
    "del tfrres_pri\n",
    "del csd\n",
    "gc.collect()"
   ]
  },
  {
   "cell_type": "code",
   "execution_count": null,
   "metadata": {},
   "outputs": [],
   "source": [
    "dat_src,names_src = utsne.selFeatsRegex(dat_pri, subfeature_order, ['msrc.*'])\n",
    "dat_lfp,names_lfp = utsne.selFeatsRegex(dat_pri, subfeature_order, ['LFP.*'])\n",
    "\n",
    "#TODO maybe it would be better to make a simple coupling between old names and new names\n",
    "#act,mob,compl  = utils.Hjorth(dat_scaled_src, 1/sfreq, windowsz=windowsz)\n",
    "#n_newchns_srconly = len(newchns) - dat_scaled_lfp.shape[0]\n",
    "act,mob,compl  = utils.Hjorth(dat_src, 1/sfreq, windowsz=windowsz, skip=skip)\n"
   ]
  },
  {
   "cell_type": "code",
   "execution_count": null,
   "metadata": {},
   "outputs": [],
   "source": [
    "len(act)"
   ]
  },
  {
   "cell_type": "code",
   "execution_count": null,
   "metadata": {},
   "outputs": [],
   "source": []
  }
 ],
 "metadata": {
  "kernelspec": {
   "display_name": "Python 3",
   "language": "python",
   "name": "python3"
  },
  "language_info": {
   "codemirror_mode": {
    "name": "ipython",
    "version": 3
   },
   "file_extension": ".py",
   "mimetype": "text/x-python",
   "name": "python",
   "nbconvert_exporter": "python",
   "pygments_lexer": "ipython3",
   "version": "3.8.5"
  }
 },
 "nbformat": 4,
 "nbformat_minor": 2
}
