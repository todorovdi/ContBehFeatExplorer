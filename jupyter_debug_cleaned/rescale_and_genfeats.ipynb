{
 "cells": [
  {
   "cell_type": "markdown",
   "id": "a80faf1f",
   "metadata": {},
   "source": [
    "# Tests"
   ]
  },
  {
   "cell_type": "code",
   "execution_count": null,
   "id": "90a005c2",
   "metadata": {},
   "outputs": [],
   "source": [
    "%load_ext autoreload\n",
    "%autoreload 2\n",
    "\n",
    "from utils_postprocess import printDict\n",
    "\n",
    "import globvars as gv\n",
    "import mne\n",
    "import matplotlib.pyplot as plt\n",
    "from os.path import join as pjoin\n",
    "\n",
    "\n",
    "defdgen = lambda sz :np.random.uniform(low=-1,high=1, size=sz)\n",
    "\n",
    "import utils_tSNE as utsne\n",
    "\n",
    "sfreq = 256\n",
    "sfreq_hires = 1024\n",
    "\n",
    "from IPython import get_ipython; ipython = get_ipython()\n",
    "ipython.magic('run -i ../test_data/gen_test_data4.py')\n",
    "\n",
    "print(test_data_descr)\n",
    "\n",
    "#rawnames = ['S01_off_move','S01_off_hold','S01_on_move']\n",
    "\n",
    "# prep_test_data\n",
    "\n",
    "# _gt means ground truth here\n",
    "dat_pri_gt           = dat_pri\n",
    "dat_LFP_hires_pri_gt = dat_LFP_hires_pri\n",
    "\n",
    "plt.plot(times,dat_pri[dati].T)\n",
    "plt.figure()\n",
    "plt.plot(times_hires,dat_LFP_hires_pri[dati].T, label=sfo_LFP)\n",
    "plt.legend()\n",
    "\n",
    "dat_EMG = defdgen( (2, nbins ) )\n",
    "\n",
    "# reversed if needed\n",
    "from utils import makeSimpleRaw\n",
    "from featlist import selFeatsRegexInds\n",
    "raws_permod_both_sides2 = {}\n",
    "for rawi,rawn in enumerate(rawnames):\n",
    "    raws_permod_both_sides2[rawn] = {}\n",
    "    chis_LFP = utsne.selFeatsRegexInds(sfo_pri[rawi], 'LFP.*' )\n",
    "    dat_LFP = dat_pri_gt[rawi][chis_LFP]\n",
    "    raws_permod_both_sides2[rawn]['LFP'] = makeSimpleRaw(dat_LFP, np.array(sfo_pri[rawi])[chis_LFP], rescale=0 )\n",
    "\n",
    "    chis_msrc = utsne.selFeatsRegexInds(sfo_pri[rawi], 'msrc.*' )\n",
    "    dat_msrc = dat_pri_gt[rawi][chis_msrc]\n",
    "    raws_permod_both_sides2[rawn]['src'] = makeSimpleRaw(dat_msrc, \n",
    "        np.array(sfo_pri[rawi])[chis_msrc] , rescale=0)\n",
    "\n",
    "    raws_permod_both_sides2[rawn]['LFP_hires'] = makeSimpleRaw(dat_LFP_hires_pri_gt[rawi],\n",
    "        sfo_lfp_hires_pri[rawi], sfreq=sfreq_hires, rescale=0 )\n",
    "    \n",
    "    raws_permod_both_sides2[rawn]['EMG'] = makeSimpleRaw(dat_EMG, \n",
    "        gv.EMG_per_hand[main_side], sfreq=sfreq, rescale=0)\n",
    "\n",
    "rawnames_str = ','.join(rawnames)\n",
    "\n",
    "####################################\n",
    "import globvars as gv\n",
    "gv.DEBUG_MODE=1\n",
    "from IPython import get_ipython; ipython = get_ipython()\n",
    "#Once that's done, run a magic command like this:\n",
    "#%debug\n",
    "raws_permod_both_sides = raws_permod_both_sides2\n",
    "\n",
    "mstr = 'run -i ../run/run_prep_dat.py -r ' +   rawnames_str + \\\n",
    "        ' --param_file prep_dat_defparams.ini --calc_stats_multi_band 1' +\\\n",
    "        ' --save_dat 1 --save_stats 1 --use_preloaded_raws 1 --allow_CUDA 0'\n",
    "ipython.magic(mstr)\n",
    "\n",
    "# %run -i ../run/run_prep_dat.py -r S99_off_move,S99_off_hold,S99_on_move \\\n",
    "#         --param_file prep_dat_defparams.ini --calc_stats_multi_band 1 --save_dat 1 \\\n",
    "#         --use_preloaded_raws 1 --save_stats 1\n",
    "\n",
    "gv.DEBUG_MODE = True\n",
    "from IPython import get_ipython; ipython = get_ipython()\n",
    "#debug\n",
    "\n",
    "# import warnings\n",
    "# warnings.filterwarnings(\"error\")\n",
    "# # with warnings.catch_warnings():\n",
    "# #     warnings.simplefilter('error')\n",
    "\n",
    "# try:\n",
    "\n",
    "# except ComplexWarning as e:\n",
    "#     pass\n",
    "\n",
    "rs = ('%run -i ../run/run_genfeats.py '\n",
    "' --sources_type parcel_aal --bands crude'\n",
    "' --src_grouping_fn 10'\n",
    "' --src_grouping 0 '\n",
    "' --raw {} '\n",
    "' --feat_types con,H_act,H_mob,H_compl,rbcorr,bpcorr'\n",
    "' --Kalman_smooth 0'\n",
    "' --load_TFR 0'\n",
    "' --load_CSD 0'\n",
    "' --save_TFR 0'\n",
    "' --save_CSD 0'\n",
    "' --save_bpcorr 0'\n",
    "' --save_rbcorr 0'\n",
    "' --load_rbcorr 0'\n",
    "' --use_existing_TFR 0'\n",
    "' --use_preloaded_data 0'\n",
    "' --allow_CUDA 0'\n",
    "' --load_only 0'\n",
    "' --show_plots 0'\n",
    "' --plot_types ,'\n",
    "' --prescale_data 1'\n",
    "' --exit_after {}'\n",
    "' --normalize_TFR separate'\n",
    "' --scale_data_combine_type no'\n",
    "' --baseline_int_type entire'\n",
    "' --n_jobs 1'\n",
    "' --save_feat 0'\n",
    "' --feat_stats_artif_handling reject'\n",
    "' --scale_data_combine_type no '\n",
    "' --rbcorr_use_local_means 0'\n",
    "' --output_subdir test'\n",
    "' --stats_fn_prefix stats_{}_{}_ '\n",
    "' --param_file genfeats_defparams.ini ')\n",
    "\n",
    "exit_after = 'end'\n",
    "#exit_after = 'prescale_data'\n",
    "#exit_after = 'load'\n",
    "mstr2 = rs.format(rawnames_str,exit_after,rawnames_str[:3],len(rawnames))\n",
    "\n",
    "#%debug\n",
    "\n",
    "ipython.magic(mstr2)\n",
    "\n",
    "#np.savez(pjoin(gv.data_dir,'test.npz') ,globals() )"
   ]
  },
  {
   "cell_type": "markdown",
   "id": "45b6a909",
   "metadata": {},
   "source": [
    "# TFR"
   ]
  },
  {
   "cell_type": "code",
   "execution_count": null,
   "id": "a3fd6501",
   "metadata": {},
   "outputs": [],
   "source": [
    "        csd_cur, csdord = ugf.tfr2csd(tfrres_pri[0], sfreq, returnOrder=1,\n",
    "                                        ind_pairs=None,\n",
    "                                        parcel_couplings=parcel_couplings,\n",
    "                                        LFP2LFP_couplings=LFP2LFP_couplings,\n",
    "                                        LFP2parcel_couplings=LFP2parcel_couplings,\n",
    "                                        oldchns=chnames_tfr,\n",
    "                                        newchns=newchns,\n",
    "                                        res_group_id=newchn_grouping_ind,\n",
    "                                        log=log_during_csd)\n"
   ]
  },
  {
   "cell_type": "code",
   "execution_count": null,
   "id": "a2c554d0",
   "metadata": {},
   "outputs": [],
   "source": [
    "len(freqs),len(freqs_inc_HFO), len(freqs_inc_HFO)-len(freqs)"
   ]
  },
  {
   "cell_type": "code",
   "execution_count": null,
   "id": "109276d6",
   "metadata": {},
   "outputs": [],
   "source": [
    "tfrres_LFP_HFO_pri[0].shape"
   ]
  },
  {
   "cell_type": "code",
   "execution_count": null,
   "id": "74d21a69",
   "metadata": {},
   "outputs": [],
   "source": [
    "from plots import plotTFRlike\n",
    "\n",
    "p = {'dat_pri':dat_pri, 'dat_hires_pri':dat_lfp_hires_pri,  \n",
    "     'tfrres_pri':tfrres_pri, 'tfrres_HFO_pri':tfrres_LFP_HFO_pri, 'csd_pri':csd_pri,\n",
    "    'bpow_abscsd_pri':bpow_abscsd_pri,\n",
    "    'wbd':wbd_H_pri, 'feat_dict':feat_dict,\n",
    "    'times_pri':times_pri, 'times_hires_pri':times_hires_pri,\n",
    "    'subfeature_order_pri':subfeature_order_pri, \n",
    "     'subfeature_order_newsrcgrp_pri':subfeature_order_newsrcgrp_pri,\n",
    "    'csdord_pri':csdord_pri, 'csdord_strs_pri':csdord_strs_pri,\n",
    "    'freqs':freqs_inc_HFO, 'sfreq':sfreq, \n",
    "    'normalize':True}\n",
    "\n",
    "#%debug\n",
    "fbs = ['tremor','beta', 'gamma']\n",
    "for chn_cur in subfeature_order_pri[0]:\n",
    "    chns = [chn_cur]\n",
    "    funloc = plotTFRlike(**p, bands=fbs, chns=chns)\n",
    "    plt.savefig(pjoin(gv.dir_fig,f'tfrplot_{chns}.pdf' ) )\n",
    "    plt.close()\n",
    "\n",
    "#chns = ['msrcR_0_3_c5', 'LFPR092']\n",
    "chns = subfeature_order_pri[0]\n",
    "chns_cur = chns[:2]\n",
    "funloc = plotTFRlike(**p, bands=fbs, chns=chns_cur)\n",
    "plt.savefig(pjoin(gv.dir_fig,f'tfrplot_{chns_cur}.pdf' ) )\n",
    "plt.close()\n",
    "\n",
    "\n",
    "chns = subfeature_order_pri[0]\n",
    "chns_cur = chns[:2]\n",
    "funloc = plotTFRlike(**p, bands=fbs, chns=chns_cur)\n",
    "plt.savefig(pjoin(gv.dir_fig,f'tfrplot_{chns_cur}.pdf' ) )\n",
    "plt.close()\n",
    "\n"
   ]
  },
  {
   "cell_type": "code",
   "execution_count": null,
   "id": "4bdcb622",
   "metadata": {},
   "outputs": [],
   "source": [
    "binom(6,1)"
   ]
  },
  {
   "cell_type": "code",
   "execution_count": null,
   "id": "01961c79",
   "metadata": {},
   "outputs": [],
   "source": [
    "freqs_inc_HFO[47:]"
   ]
  },
  {
   "cell_type": "code",
   "execution_count": null,
   "id": "38e8f311",
   "metadata": {},
   "outputs": [],
   "source": [
    "np"
   ]
  },
  {
   "cell_type": "code",
   "execution_count": null,
   "id": "55ca040a",
   "metadata": {},
   "outputs": [],
   "source": [
    "tfrres_pri[0].shape, tfrres_LFP_HFO_pri[0].shape"
   ]
  },
  {
   "cell_type": "code",
   "execution_count": null,
   "id": "5133aac2",
   "metadata": {},
   "outputs": [],
   "source": [
    "recalc_stats_multi_band"
   ]
  },
  {
   "cell_type": "code",
   "execution_count": null,
   "id": "ce3009b3",
   "metadata": {},
   "outputs": [],
   "source": [
    "noise_size"
   ]
  },
  {
   "cell_type": "code",
   "execution_count": null,
   "id": "28e1c851",
   "metadata": {},
   "outputs": [],
   "source": [
    "# Check the we have scaled correctly\n",
    "m0 = max( np.max( dat_pri_unscaled[0] - dat_pri_unscaled[1] ), np.max( dat_pri_unscaled[0] - dat_pri_unscaled[2] ) )\n",
    "m1 = max( np.max( dat_pri[0] - dat_pri[1] ), np.max( dat_pri[0] - dat_pri[2] ) )\n",
    "print(m0,m1)\n",
    "assert m1 < noise_size\n",
    "\n",
    "# Check the we have scaled correctly\n",
    "m0 = max( np.max( dat_lfp_hires_pri_unscaled[0] - dat_lfp_hires_pri_unscaled[1] ), \n",
    "         np.max( dat_lfp_hires_pri_unscaled[0] - dat_lfp_hires_pri_unscaled[2] ) )\n",
    "m1 = max( np.max( dat_lfp_hires_pri[0] - dat_lfp_hires_pri[1] ), \n",
    "         np.max( dat_lfp_hires_pri[0] - dat_lfp_hires_pri[2] ) )\n",
    "print(m0,m1)\n",
    "assert m1 < noise_size"
   ]
  },
  {
   "cell_type": "code",
   "execution_count": null,
   "id": "116317b4",
   "metadata": {},
   "outputs": [],
   "source": [
    "np.sum( np.isnan(C_nocenter) )"
   ]
  },
  {
   "cell_type": "code",
   "execution_count": null,
   "id": "b2952b44",
   "metadata": {},
   "outputs": [],
   "source": [
    "plt.pcolor( np.cov(X_pri[rawi],rowvar=False) )\n",
    "plt.figure()\n",
    "plt.hist( np.cov(X_pri[rawi] ).flatten() )"
   ]
  },
  {
   "cell_type": "code",
   "execution_count": null,
   "id": "ed98f169",
   "metadata": {},
   "outputs": [],
   "source": [
    "corr_info_pri  = len(rawnames ) * [0]\n",
    "C_pri = len(rawnames ) * [0]\n",
    "for rawi in range(len(rawnames)):\n",
    "    C = np.corrcoef(X_pri[rawi],rowvar=False)\n",
    "    \n",
    "    absC = np.abs(C)\n",
    "\n",
    "    C_nocenter = absC - np.diag(np.diag(absC))\n",
    "    C_pri[rawi] = C_nocenter\n",
    "\n",
    "    C_flat = C_nocenter.flatten()\n",
    "    sinds = np.argsort(C_flat)\n",
    "    hist, bin_edges = np.histogram(C_nocenter.flatten(), bins=20, density=False)\n",
    "    \n",
    "    info = {'C':C, 'C_nocenter':C_nocenter, 'hist':hist, 'bin_edges':bin_edges}\n",
    "    corr_info_pri[rawi] = info\n",
    "\n",
    "\n",
    "\n",
    "Cs = np.stack(C_pri, axis=-1)\n",
    "Cmean = np.mean(Cs,axis=-1)\n",
    "\n",
    "import utils_postprocess as postp\n",
    "#q = 1-1e-2\n",
    "q = 0.99\n",
    "#scft = postp.getStrongCorrelPairs(C_pri[0],q)\n",
    "scft = postp.getStrongCorrelPairs(Cmean,q)\n",
    "for i,j in scft:\n",
    "    print(feature_names_all[i],feature_names_all[j])"
   ]
  },
  {
   "cell_type": "code",
   "execution_count": null,
   "id": "dad16396",
   "metadata": {},
   "outputs": [],
   "source": [
    "plt.pcolor(Cmean)\n",
    "\n",
    "plt.figure()\n",
    "plt.plot(bin_edges[1:],hist)"
   ]
  },
  {
   "cell_type": "code",
   "execution_count": null,
   "id": "ae6b420f",
   "metadata": {},
   "outputs": [],
   "source": [
    "from featlist import parseFeatNames"
   ]
  },
  {
   "cell_type": "code",
   "execution_count": null,
   "id": "6cb22a61",
   "metadata": {},
   "outputs": [],
   "source": []
  },
  {
   "cell_type": "code",
   "execution_count": null,
   "id": "65764a3a",
   "metadata": {},
   "outputs": [],
   "source": []
  },
  {
   "cell_type": "code",
   "execution_count": null,
   "id": "d59d1550",
   "metadata": {},
   "outputs": [],
   "source": [
    "subfeature_order"
   ]
  },
  {
   "cell_type": "code",
   "execution_count": null,
   "id": "61669a8b",
   "metadata": {},
   "outputs": [],
   "source": [
    "gv.fband_names_crude"
   ]
  },
  {
   "cell_type": "code",
   "execution_count": null,
   "id": "6fe88ad1",
   "metadata": {},
   "outputs": [],
   "source": [
    "fband_names_inc_HFO"
   ]
  },
  {
   "cell_type": "code",
   "execution_count": null,
   "id": "0e95b1e5",
   "metadata": {},
   "outputs": [],
   "source": [
    "import featlist\n",
    "#     if cond_ft and cond_bands:\n",
    "#         print(feature_names_all[fi],fbs_cur,chns_cur, fts,relevant_freqs,cond_ft,cond_bands,cond_chns)\n",
    "featlist.selectFeatNames(fts,relevant_freqs,desired_chns, feature_names_all, fband_names=fband_names_inc_HFO)\n",
    "featlist.replaceMEGsrcChnamesParams(desired_chns, 0,9, '.*', 0)"
   ]
  },
  {
   "cell_type": "code",
   "execution_count": null,
   "id": "bff9b5eb",
   "metadata": {},
   "outputs": [],
   "source": [
    "# Plot together: raw data, features and intermediate stuff (except spectral)"
   ]
  },
  {
   "cell_type": "markdown",
   "id": "7c234704",
   "metadata": {},
   "source": [
    "# Plot meaningful channels and features together"
   ]
  },
  {
   "cell_type": "code",
   "execution_count": null,
   "id": "679e748c",
   "metadata": {},
   "outputs": [],
   "source": [
    "test_plots_descr"
   ]
  },
  {
   "cell_type": "code",
   "execution_count": null,
   "id": "d4d2b0c8",
   "metadata": {},
   "outputs": [],
   "source": [
    "from featlist import parseFeatNames\n",
    "from featlist import selectFeatNames\n",
    "from utils import freqs2relevantBands\n",
    "featnames_parse_res = parseFeatNames( feature_names_all)\n",
    "featnames_parse_res.keys()\n",
    "\n",
    "from plots import plotFeatsAndRelDat\n",
    "from plots import plotDataAnnStat\n",
    "from plots import shadeAnn\n",
    "from plots import plotMeansPerIt\n",
    "\n",
    "#%debug\n",
    "for tpd in test_plots_descr:\n",
    "#for tpd in test_plots_descr[:1]:\n",
    "#for tpd in test_plots_descr[0:1]:\n",
    "#for tpd in test_plots_descr[1:2]:\n",
    "#for tpd in test_plots_descr[2:3]:\n",
    "    \n",
    "    from matplotlib.backends.backend_pdf import PdfPages\n",
    "    #fign = rawnstr + '__rawdata_vs_feat'\n",
    "    fign = tpd['figname'] + '__rawdata_vs_feat'\n",
    "    figfn_full = pjoin(gv.dir_fig, fign+'.pdf')\n",
    "    #plt.savefig(figfn_full)\n",
    "    pdf= PdfPages(figfn_full  )\n",
    "    \n",
    "    \n",
    "    ds = tpd['chn_descrs']\n",
    "    print('   ',tpd['informal_descr'])\n",
    "    desired_chns = [special_chns[chnd] for chnd in ds]\n",
    "    fts = tpd['feat_types_actual_coupling']\n",
    "    relevant_freqs = tpd['relevant_freqs']\n",
    "    print(ds,desired_chns)\n",
    "    print(fts,relevant_freqs)\n",
    "    \n",
    "    featnames_sel = selectFeatNames(fts,relevant_freqs,desired_chns, feature_names_all,\n",
    "                                    fband_names=fband_names_inc_HFO)\n",
    "    print(featnames_sel)\n",
    "    \n",
    "    # select features related to these channels\n",
    "    plotFeatsAndRelDat(rawnames, featnames_sel, dat_pri,subfeature_order_pri,                         \n",
    "                       X_pri,[feature_names_all]*3,times_pri,Xtimes_pri,\n",
    "                      subfeature_order_newsrcgrp_pri, wbd_H_pri,\n",
    "                      dat_hires_pri=dat_lfp_hires_pri,\n",
    "                       chnames_all_hires_pri = subfeature_order_lfp_hires_pri,\n",
    "                       times_hires_pri=times_hires_pri, \n",
    "                       anndict_per_intcat_per_rawn=anndict_per_intcat_per_rawn, sfreq=sfreq )\n",
    "    plt.tight_layout()\n",
    "    pdf.savefig()\n",
    "    plt.close()\n",
    "\n",
    "\n",
    "#ct = 'medcond'\n",
    "\n",
    "    tpl1 = (raw_perband_flt_pri,stats_multiband_flt,'flt')\n",
    "    tpl2 = (raw_perband_bp_pri, stats_multiband_bp,'bp')\n",
    "    tpls = (tpl1,tpl2)\n",
    "    for dat_dict,stat_dict,dat_type in tpls:    \n",
    "        bands_cur = freqs2relevantBands(relevant_freqs, fband_names_inc_HFO)\n",
    "        for band in bands_cur:\n",
    "        #for band in ['HFO']:\n",
    "        #for band in ['beta']:\n",
    "        #band = 'gamma'\n",
    "        #band = 'beta'\n",
    "        #band = 'tremor'        \n",
    "            means_per_iset = stat_dict['means'].get(band, None)\n",
    "            indsets = stat_dict['indsets']\n",
    "            suptitle = f'combin={scale_data_combine_type}  band={band} dat_type={dat_type}'\n",
    "\n",
    "            if means_per_iset is None:\n",
    "                continue\n",
    "\n",
    "            r = parseFeatNames(featnames_sel)\n",
    "            chnames_involved = [chn for chn in (r['ch1'] + r['ch2']) if chn is not None]\n",
    "            chnames_involved = list(set(chnames_involved))\n",
    "            chis = [subfeature_order_newsrcgrp_pri[0].index( chn ) for chn in chnames_involved]\n",
    "\n",
    "            plotDataAnnStat(rawnames, dat_pri, times_pri, subfeature_order_pri,  \n",
    "                               dat_lfp_hires_pri,times_hires_pri,subfeature_order_lfp_hires_pri,\n",
    "                               anndict_per_intcat_per_rawn,\n",
    "                               indsets,means_per_iset,suptitle=suptitle,\n",
    "                               dat_dict=dat_dict,band=band,legend_loc='upper left',\n",
    "                           chis_to_show = chis)\n",
    "            plt.tight_layout()\n",
    "            pdf.savefig()\n",
    "            plt.close()\n",
    "\n",
    "    pdf.close()"
   ]
  },
  {
   "cell_type": "code",
   "execution_count": null,
   "id": "07cf5f33",
   "metadata": {},
   "outputs": [],
   "source": [
    "subfeature_order_newsrcgrp_pri"
   ]
  },
  {
   "cell_type": "code",
   "execution_count": null,
   "id": "a743ae50",
   "metadata": {},
   "outputs": [],
   "source": [
    "subfeature_order_pri"
   ]
  },
  {
   "cell_type": "code",
   "execution_count": null,
   "id": "80a6742c",
   "metadata": {},
   "outputs": [],
   "source": [
    "noise_size"
   ]
  },
  {
   "cell_type": "code",
   "execution_count": null,
   "id": "d78ea74e",
   "metadata": {},
   "outputs": [],
   "source": [
    "freqs"
   ]
  },
  {
   "cell_type": "code",
   "execution_count": null,
   "id": "86d14f91",
   "metadata": {},
   "outputs": [],
   "source": []
  },
  {
   "cell_type": "code",
   "execution_count": null,
   "id": "9b94fa88",
   "metadata": {},
   "outputs": [],
   "source": [
    "nlowfreq"
   ]
  },
  {
   "cell_type": "code",
   "execution_count": null,
   "id": "289e0a93",
   "metadata": {},
   "outputs": [],
   "source": [
    "#subfeature_order_newsrcgrp_pri"
   ]
  },
  {
   "cell_type": "code",
   "execution_count": null,
   "id": "8e20855c",
   "metadata": {},
   "outputs": [],
   "source": [
    "subfeature_order"
   ]
  },
  {
   "cell_type": "code",
   "execution_count": null,
   "id": "d4c1d8e8",
   "metadata": {},
   "outputs": [],
   "source": [
    "freqs >= fbands[band][0]"
   ]
  },
  {
   "cell_type": "code",
   "execution_count": null,
   "id": "f3441f8b",
   "metadata": {},
   "outputs": [],
   "source": [
    "band='beta'\n",
    "freqis = np.where( (freqs >= fbands[band][0]) & (freqs <= fbands[band][1]) )[0]\n",
    "freqs[freqis]"
   ]
  },
  {
   "cell_type": "code",
   "execution_count": null,
   "id": "d726e4ce",
   "metadata": {},
   "outputs": [],
   "source": [
    "subfeature_order_newsrcgrp_pri"
   ]
  },
  {
   "cell_type": "code",
   "execution_count": null,
   "id": "a0702e3e",
   "metadata": {},
   "outputs": [],
   "source": [
    "import re\n",
    "regex = 'beta_(msrcR_0_3_c5|LFPR092),(msrcR_0_3_c5|LFPR092)'\n",
    "r = re.match( 'beta_(msrcR_0_3_c5|LFPR092),(msrcR_0_3_c5|LFPR092)' , 'beta_msrcR_9_3_c0,msrcR_9_3_c0')\n",
    "print(r)\n",
    "selFeatsRegexInds( feat_dict['con']['names'], regex )"
   ]
  },
  {
   "cell_type": "code",
   "execution_count": null,
   "id": "0e0e7335",
   "metadata": {},
   "outputs": [],
   "source": [
    "feat_dict['con']['names']"
   ]
  },
  {
   "cell_type": "code",
   "execution_count": null,
   "id": "85ee2fb5",
   "metadata": {},
   "outputs": [],
   "source": [
    "bb = 'beta'\n",
    "fbi = fband_names.index(bb)\n",
    "for csdi in range(bpow_abscsd_pri[0].shape[0]):\n",
    "    plt.figure(figsize=(15,2)); ax = plt.gca()\n",
    "    ax.plot(Xtimes, np.abs( bpow_abscsd_pri[rawi][csdi,fbi] ) )\n",
    "    ax.set_title(f'{csdi}  {csdord_pri[0][:,csdi] }   {csdord_strs_pri[0][csdi]}')"
   ]
  },
  {
   "cell_type": "code",
   "execution_count": null,
   "id": "18be7534",
   "metadata": {},
   "outputs": [],
   "source": [
    "AA = bpow_abscds_reshaped\n",
    "for i,s in enumerate(csdord_strs_pri[0]):\n",
    "    plt.figure(figsize=(15,2)); ax = plt.gca()\n",
    "    ax.plot(Xtimes,AA[i])\n",
    "    #ii,jj = np.unravel_index(i,bpow_abscsd.shape[:2])\n",
    "    #print(i,ii,jj)\n",
    "    #i1,i2 = csdord[:,i]\n",
    "    #print(i, csdord[:,ii], ii,jj)\n",
    "    ax.set_title(f'{s} ') #--  {chnames_tfr[i1]},{chnames_tfr[i2]}')\n"
   ]
  },
  {
   "cell_type": "code",
   "execution_count": null,
   "id": "e3342388",
   "metadata": {},
   "outputs": [],
   "source": [
    "ab"
   ]
  },
  {
   "cell_type": "code",
   "execution_count": null,
   "id": "ff7df5f6",
   "metadata": {},
   "outputs": [],
   "source": [
    "bpow_abscsd.shape"
   ]
  },
  {
   "cell_type": "code",
   "execution_count": null,
   "id": "249ea232",
   "metadata": {},
   "outputs": [],
   "source": [
    "tfrres.shape[1]"
   ]
  },
  {
   "cell_type": "code",
   "execution_count": null,
   "id": "56fcc7d0",
   "metadata": {},
   "outputs": [],
   "source": [
    "tfrres_LFP_HFO.shape[1]"
   ]
  },
  {
   "cell_type": "code",
   "execution_count": null,
   "id": "a6abf2a2",
   "metadata": {},
   "outputs": [],
   "source": [
    "t"
   ]
  },
  {
   "cell_type": "code",
   "execution_count": null,
   "id": "4633c89e",
   "metadata": {},
   "outputs": [],
   "source": [
    "isinstance(6,(float,int))"
   ]
  },
  {
   "cell_type": "code",
   "execution_count": null,
   "id": "d0aa120e",
   "metadata": {},
   "outputs": [],
   "source": [
    "stats_multiband_bp"
   ]
  },
  {
   "cell_type": "code",
   "execution_count": null,
   "id": "8706e120",
   "metadata": {},
   "outputs": [],
   "source": []
  },
  {
   "cell_type": "markdown",
   "id": "b563e111",
   "metadata": {},
   "source": [
    "# See why correlated features arise"
   ]
  },
  {
   "cell_type": "code",
   "execution_count": null,
   "id": "78690271",
   "metadata": {},
   "outputs": [],
   "source": [
    "import utils_postprocess as postp\n",
    "scft = postp.getStrongCorrelPairs(Cmean,0.9999)\n",
    "\n",
    "scft = postp.getStrongCorrelPairs(C_pri[0],0.92)\n",
    "for i,j in scft:\n",
    "    print(feature_names_all[i],feature_names_all[j])\n",
    "\n",
    "from utils_postprocess import getSynonymList\n",
    "lll = getSynonymList(scft, ret_dict = 0)\n",
    "print(lll)"
   ]
  },
  {
   "cell_type": "code",
   "execution_count": null,
   "id": "8c0cffaa",
   "metadata": {},
   "outputs": [],
   "source": [
    "ll = lll[1]\n",
    "syns_to_disp = [feature_names_all[l] for l in ll]\n",
    "print( syns_to_disp )"
   ]
  },
  {
   "cell_type": "code",
   "execution_count": null,
   "id": "2ec3bda9",
   "metadata": {},
   "outputs": [],
   "source": [
    "from matplotlib.backends.backend_pdf import PdfPages\n",
    "fign = rawnstr + '__rawdata_vs_feat_corrfeat'\n",
    "figfn_full = pjoin(gv.dir_fig, fign+'.pdf')\n",
    "#plt.savefig(figfn_full)\n",
    "pdf= PdfPages(figfn_full  )\n",
    "\n",
    "\n",
    "from featlist import parseFeatNames\n",
    "featnames_parse_res = parseFeatNames( feature_names_all_pri[0])\n",
    "featnames_parse_res.keys()\n",
    "\n",
    "from plots import plotFeatsAndRelDat\n",
    "from plots import plotDataAnnStat\n",
    "from plots import shadeAnn\n",
    "from plots import plotMeansPerIt\n",
    "from featlist import selectFeatNames\n",
    "from utils import freqs2relevantBands\n",
    "\n",
    "#for i,j in scft[:1]:\n",
    "#for i,j in [syns_to_disp]:\n",
    "featnames_sel = syns_to_disp\n",
    "\n",
    "bands_cur = set([])\n",
    "for fn in syns_to_disp:\n",
    "    i = feature_names_all_pri[0].index(fn) \n",
    "    bands_cur |= set([featnames_parse_res['fb1'][i], featnames_parse_res['fb2'][i]])\n",
    "\n",
    "bands_cur = list(bands_cur)\n",
    "#featnames_sel =[ feature_names_all[i],feature_names_all[j]]\n",
    "\n",
    "# select features related to these channels\n",
    "plotFeatsAndRelDat(rawnames, featnames_sel, dat_pri,subfeature_order_pri,                         \n",
    "                   X_pri,[feature_names_all]*3,times_pri,Xtimes_pri,\n",
    "                  subfeature_order_newsrcgrp_pri, wbd_H_pri,\n",
    "                  dat_hires_pri=dat_lfp_hires_pri,\n",
    "                   chnames_all_hires_pri = subfeature_order_lfp_hires_pri,\n",
    "                   times_hires_pri=times_hires_pri, \n",
    "                   anndict_per_intcat_per_rawn=anndict_per_intcat_per_rawn, sfreq=sfreq )\n",
    "plt.tight_layout()\n",
    "pdf.savefig()\n",
    "plt.close()\n",
    "\n",
    "\n",
    "#ct = 'medcond'\n",
    "\n",
    "tpl1 = (raw_perband_flt_pri,stats_multiband_flt,'flt')\n",
    "tpl2 = (raw_perband_bp_pri, stats_multiband_bp,'bp')\n",
    "tpls = (tpl1,tpl2)\n",
    "for dat_dict,stat_dict,dat_type in tpls:        \n",
    "    for band in bands_cur:\n",
    "    #for band in ['HFO']:\n",
    "    #for band in ['beta']:\n",
    "    #band = 'gamma'\n",
    "    #band = 'beta'\n",
    "    #band = 'tremor'        \n",
    "        means_per_iset = stat_dict['means'].get(band, None)\n",
    "        indsets = stat_dict['indsets']\n",
    "        suptitle = f'combin={scale_data_combine_type}  band={band} dat_type={dat_type}'\n",
    "        \n",
    "        if means_per_iset is None:\n",
    "            continue\n",
    "            \n",
    "        r = parseFeatNames(featnames_sel)\n",
    "        chnames_involved = [chn for chn in (r['ch1'] + r['ch2']) if chn is not None]\n",
    "        chnames_involved = list(set(chnames_involved))\n",
    "        chis = [subfeature_order_newsrcgrp_pri[0].index( chn ) for chn in chnames_involved]\n",
    "\n",
    "        plotDataAnnStat(rawnames, dat_pri, times_pri, subfeature_order_pri,  \n",
    "                           dat_lfp_hires_pri,times_hires_pri,subfeature_order_lfp_hires_pri,\n",
    "                           anndict_per_intcat_per_rawn,\n",
    "                           indsets,means_per_iset,suptitle=suptitle,\n",
    "                           dat_dict=dat_dict,band=band,legend_loc='upper left',\n",
    "                       chis_to_show = chis)\n",
    "        plt.tight_layout()\n",
    "        pdf.savefig()\n",
    "        plt.close()\n",
    "        \n",
    "pdf.close()"
   ]
  },
  {
   "cell_type": "code",
   "execution_count": null,
   "id": "34a533ae",
   "metadata": {},
   "outputs": [],
   "source": []
  },
  {
   "cell_type": "code",
   "execution_count": null,
   "id": "609dc8ed",
   "metadata": {},
   "outputs": [],
   "source": []
  },
  {
   "cell_type": "code",
   "execution_count": null,
   "id": "adb90991",
   "metadata": {},
   "outputs": [],
   "source": [
    "if bands_acc == 'crude':\n",
    "    fbl = gv.fband_names_crude\n",
    "else:\n",
    "    fbl = gv.fband_names_fine\n",
    "desired_fbands = []\n",
    "for fbname in fbl:\n",
    "    fb = gv.fbands[fbname]\n",
    "    t = (rf >= fb[0]) and (rf <= fb[1])\n",
    "    if t:\n",
    "        desired_fbands += [fbname]"
   ]
  },
  {
   "cell_type": "code",
   "execution_count": null,
   "id": "d47b9a61",
   "metadata": {},
   "outputs": [],
   "source": [
    "feat"
   ]
  },
  {
   "cell_type": "code",
   "execution_count": null,
   "id": "a348e3ee",
   "metadata": {},
   "outputs": [],
   "source": [
    "ipdb> featn\n",
    "'con_tremor_LFPR092,msrcR_9_3_c0'\n",
    "ipdb> featnames_all_pri[rawi]\n",
    "'con_tremor_msrcR_9_2_c0,msrcR_9_2_c0'"
   ]
  },
  {
   "cell_type": "markdown",
   "id": "8ef01db5",
   "metadata": {},
   "source": [
    "### check scaling with plots"
   ]
  },
  {
   "cell_type": "code",
   "execution_count": null,
   "id": "586d618f",
   "metadata": {},
   "outputs": [],
   "source": [
    "ax = plt.gca()\n",
    "d = dat_pri[0]\n",
    "ts = times_pri[0]\n",
    "ax.plot(ts,d[0], label='non scaled')\n",
    "d = dat_pri[1]\n",
    "ts = times_pri[1]\n",
    "ax.plot(ts,d[0], label='procued by my code')\n",
    "plt.legend()\n",
    "\n",
    "plt.figure()\n",
    "\n",
    "ax = plt.gca()\n",
    "d = dat_pri[0]\n",
    "ts = times_pri[0]\n",
    "ax.plot(ts,d[0], label='non scaled')\n",
    "d = dat_pri[1]\n",
    "ts = times_pri[1]\n",
    "ax.plot(ts,d[0]*10, label='scaled here')\n",
    "plt.legend()"
   ]
  },
  {
   "cell_type": "code",
   "execution_count": null,
   "id": "7d0adc3b",
   "metadata": {},
   "outputs": [],
   "source": [
    "newindsets"
   ]
  },
  {
   "cell_type": "code",
   "execution_count": null,
   "id": "d9b252f3",
   "metadata": {},
   "outputs": [],
   "source": [
    "means"
   ]
  },
  {
   "cell_type": "code",
   "execution_count": null,
   "id": "ce2a7771",
   "metadata": {},
   "outputs": [],
   "source": [
    "baseline_int"
   ]
  },
  {
   "cell_type": "code",
   "execution_count": null,
   "id": "3504ef9f",
   "metadata": {},
   "outputs": [],
   "source": [
    "scale_data_combine_type"
   ]
  },
  {
   "cell_type": "code",
   "execution_count": null,
   "id": "cb2213ff",
   "metadata": {},
   "outputs": [],
   "source": [
    "dat_pri_scaled = len(dat_pri) * [0]\n",
    "for dati in range(len(dat_pri) ):\n",
    "    dat_pri_scaled[dati] = dat_T_scaled[dati].T\n",
    "max( np.max( dat_pri_scaled[0] - dat_pri_scaled[1] ), np.max( dat_pri_scaled[0] - dat_pri_scaled[2] ) )"
   ]
  },
  {
   "cell_type": "code",
   "execution_count": null,
   "id": "c1fe1bb7",
   "metadata": {},
   "outputs": [],
   "source": [
    "nr= 1 ;\n",
    "nc =len(rawnames)\n",
    "ww = 6; hh=4\n",
    "fig,axs = plt.subplots(nr,nc, figsize=(nc*ww,nr*hh) )\n",
    "for dati in range(len(rawnames)):\n",
    "    ax = axs[dati]\n",
    "    ts = times_pri[dati]\n",
    "    d = dat_pri_unscaled[dati]    \n",
    "    #ax.plot(ts,d[0],label=f'orig data {dati}' )\n",
    "    m = means[dati]['entire'][0]\n",
    "    s = stds[dati]['entire'][0]\n",
    "    #ax.plot(ts,(d[0] - m) / s,label=f'scaled here {dati}')\n",
    "    ax.plot(ts,d[0] / data_mult_per_rawi[dati],label=f'scaled gt {dati}')\n",
    "    \n",
    "    d = dat_pri[dati]\n",
    "    ax.plot(ts,d[0],label=f'scaled {dati}')\n",
    "    \n",
    "#     ax.axhline(m, ls='-.', c='purple',label='mean')\n",
    "#     ax.axhline(m-s, ls=':', c='purple',label='std')\n",
    "#     ax.axhline(m+s, ls=':', c='purple')\n",
    "    ax.set_title(f'm={m:.4f}, std={s:.4f}')\n",
    "    ax.legend()"
   ]
  },
  {
   "cell_type": "code",
   "execution_count": null,
   "id": "3ae44e07",
   "metadata": {},
   "outputs": [],
   "source": [
    "nr= 1 ;\n",
    "nc =len(rawnames)\n",
    "ww = 6; hh=4\n",
    "chi = 1\n",
    "fig,axs = plt.subplots(nr,nc, figsize=(nc*ww,nr*hh) )\n",
    "for dati in range(len(rawnames)):\n",
    "    ax = axs[dati]\n",
    "    ts = times_hires_pri[dati]\n",
    "    d = dat_lfp_hires_pri_unscaled[dati]    \n",
    "    #ax.plot(ts,d[0],label=f'orig data {dati}' )\n",
    "    m = means[dati]['entire'][chi]\n",
    "    s = stds[dati]['entire'][chi]\n",
    "    #ax.plot(ts,(d[0] - m) / s,label=f'scaled here {dati}')\n",
    "    ax.plot(ts,d[chi] / data_mult_per_rawi[dati],label=f'scaled gt {dati}')\n",
    "    \n",
    "    d = dat_lfp_hires_pri[dati]\n",
    "    ax.plot(ts,d[chi],label=f'scaled {dati}')\n",
    "    \n",
    "#     ax.axhline(m, ls='-.', c='purple',label='mean')\n",
    "#     ax.axhline(m-s, ls=':', c='purple',label='std')\n",
    "#     ax.axhline(m+s, ls=':', c='purple')\n",
    "    ax.set_title(f'm={m:.4f}, std={s:.4f}')\n",
    "    ax.legend()"
   ]
  },
  {
   "cell_type": "code",
   "execution_count": null,
   "id": "d8c65c02",
   "metadata": {},
   "outputs": [],
   "source": [
    "list(f.keys())"
   ]
  },
  {
   "cell_type": "code",
   "execution_count": null,
   "id": "8b517d4e",
   "metadata": {},
   "outputs": [],
   "source": [
    "    recalc_stats_multi_band = 1\n",
    "    \n",
    "    if recalc_stats_multi_band:\n",
    "        #means_perband_flt_pri_,_ = \\\n",
    "        indsets, means_perband_flt_pri_, stds_perband_flt_pri_, stats_per_indset_per_band_flt =  \\\n",
    "        ugf.gatherMultiBandStats(rawnames,raw_perband_flt_pri, times_pri,\n",
    "                                chnames_perband_flt_pri, side_switched_pri, sfreq,\n",
    "                                baseline_int, scale_data_combine_type,\n",
    "                                feat_stats_artif_handling,\n",
    "                                require_intervals_present = [baseline_int],\n",
    "                                 bindict_per_rawn=bindict_per_rawn)\n",
    "        #means_perband_bp_pri_,_ = \\\n",
    "        indsets, means_perband_bp_pri_, stds_perband_bp_pri_, stats_per_indset_per_band_bp =  \\\n",
    "        ugf.gatherMultiBandStats(rawnames,raw_perband_bp_pri, times_pri,\n",
    "                                chnames_perband_bp_pri, side_switched_pri, sfreq,\n",
    "                                baseline_int, scale_data_combine_type,\n",
    "                                feat_stats_artif_handling,\n",
    "                                require_intervals_present = [baseline_int],\n",
    "                                 bindict_per_rawn=bindict_per_rawn)\n",
    "    else:\n",
    "        prefix = stats_fn_prefix\n",
    "        fname_stats_multi_band = utils.genStatsMultiBandFn(None, new_main_side, data_modalities,\n",
    "                                        use_main_LFP_chan, src_file_grouping_ind,\n",
    "                                        src_grouping, bands_only, prefix )\n",
    "        fname_stats_full = pjoin( gv.data_dir, input_subdir, fname_stats_multi_band)\n",
    "        f = np.load(fname_stats_full, allow_pickle=True)\n",
    "        rawnames_stats =  f['rawnames']\n",
    "        assert set(rawnames).issubset(rawnames_stats)\n",
    "        #means_perband_flt_pri_ =  f['stats_multiband_flt_per_ct'][()][scale_data_combine_type]['means']\n",
    "        #means_perband_bp_pri_  =  f['stats_multiband_bp_per_ct'][()][scale_data_combine_type]['means']\n",
    "\n",
    "        stats_multiband_flt =  f['stats_multiband_flt_per_ct'][()][scale_data_combine_type]\n",
    "        stats_multiband_bp  =  f['stats_multiband_bp_per_ct'][()][scale_data_combine_type]\n",
    "\n",
    "        #indsets = stats_multiband_bp['indsets']\n",
    "\n",
    "        #stats_per_indset_per_band_flt"
   ]
  },
  {
   "cell_type": "code",
   "execution_count": null,
   "id": "cfc27a17",
   "metadata": {},
   "outputs": [],
   "source": [
    "stats_multiband_flt = stats_per_indset_per_band_flt\n",
    "stats_multiband_bp = stats_per_indset_per_band_bp "
   ]
  },
  {
   "cell_type": "code",
   "execution_count": null,
   "id": "24c2cf5c",
   "metadata": {},
   "outputs": [],
   "source": [
    "stats_multiband_flt"
   ]
  },
  {
   "cell_type": "code",
   "execution_count": null,
   "id": "f7885910",
   "metadata": {},
   "outputs": [],
   "source": [
    "    ################# extract stats for the given baseline int\n",
    "\n",
    "    rawi_mask,allinds = upre.getIndsetMask(indsets, allow_repeating=False, allow_holes = False)\n",
    "\n",
    "    means_perband_flt_pri = len(rawnames) * [dict()]\n",
    "    means_perband_bp_pri = len(rawnames) * [dict()]\n",
    "\n",
    "    statdicts =[stats_multiband_flt, stats_multiband_bp ]\n",
    "    mdicts =[means_perband_flt_pri, means_perband_bp_pri ]\n",
    "    for mdi,md in enumerate(mdicts):\n",
    "        for rawind in range(len(rawnames)):\n",
    "            indseti = rawi_mask[rawind]\n",
    "            if recalc_stats_multi_band:\n",
    "                for bandname in statdicts[mdi]:\n",
    "                    a = statdicts[mdi][bandname][indseti][baseline_int]\n",
    "                    #print(a)\n",
    "                    mdicts[mdi][rawind][bandname] = a\n",
    "            else:\n",
    "                for bandname in statdicts[mdi]['means']:\n",
    "                    a = statdicts[mdi]['means'][bandname][indseti][baseline_int]\n",
    "                    #print(a)\n",
    "                    mdicts[mdi][rawind][bandname] = a\n"
   ]
  },
  {
   "cell_type": "code",
   "execution_count": null,
   "id": "6ec52faa",
   "metadata": {},
   "outputs": [],
   "source": [
    "rawi_mask"
   ]
  },
  {
   "cell_type": "code",
   "execution_count": null,
   "id": "145a8756",
   "metadata": {},
   "outputs": [],
   "source": [
    "indseti"
   ]
  },
  {
   "cell_type": "code",
   "execution_count": null,
   "id": "9a571caf",
   "metadata": {},
   "outputs": [],
   "source": [
    "statdicts[mdi]['means'][bandname]"
   ]
  },
  {
   "cell_type": "code",
   "execution_count": null,
   "id": "b83c6872",
   "metadata": {},
   "outputs": [],
   "source": [
    "baseline_int"
   ]
  },
  {
   "cell_type": "code",
   "execution_count": null,
   "id": "4f09daa4",
   "metadata": {},
   "outputs": [],
   "source": [
    "statdicts[mdi]['means'][bandname][0][baseline_int]"
   ]
  },
  {
   "cell_type": "code",
   "execution_count": null,
   "id": "a1b28412",
   "metadata": {},
   "outputs": [],
   "source": [
    "statdicts[mdi][bandname]"
   ]
  },
  {
   "cell_type": "code",
   "execution_count": null,
   "id": "7afd0677",
   "metadata": {},
   "outputs": [],
   "source": [
    "stats_fn_prefix"
   ]
  },
  {
   "cell_type": "code",
   "execution_count": null,
   "id": "105fab21",
   "metadata": {},
   "outputs": [],
   "source": [
    "utils.genStatsMultiBandFn(None, new_main_side, data_modalities,\n",
    "                                        use_main_LFP_chan, src_file_grouping_ind,\n",
    "                                        src_grouping, bands_only, prefix )"
   ]
  },
  {
   "cell_type": "code",
   "execution_count": null,
   "id": "4615d2e9",
   "metadata": {},
   "outputs": [],
   "source": [
    "fname_stats_full"
   ]
  },
  {
   "cell_type": "code",
   "execution_count": null,
   "id": "d1c9b16b",
   "metadata": {},
   "outputs": [],
   "source": [
    "#Saving multiband stats  /home/demitau/data/stats_S95_3_crude_dat_LFP,msrc_newmsL_mainLFP0_grp10-0.npz"
   ]
  }
 ],
 "metadata": {
  "kernelspec": {
   "display_name": "Python 3 (ipykernel)",
   "language": "python",
   "name": "python3"
  },
  "language_info": {
   "codemirror_mode": {
    "name": "ipython",
    "version": 3
   },
   "file_extension": ".py",
   "mimetype": "text/x-python",
   "name": "python",
   "nbconvert_exporter": "python",
   "pygments_lexer": "ipython3",
   "version": "3.8.13"
  },
  "latex_envs": {
   "LaTeX_envs_menu_present": true,
   "autoclose": false,
   "autocomplete": true,
   "bibliofile": "biblio.bib",
   "cite_by": "apalike",
   "current_citInitial": 1,
   "eqLabelWithNumbers": true,
   "eqNumInitial": 1,
   "hotkeys": {
    "equation": "Ctrl-E",
    "itemize": "Ctrl-I"
   },
   "labels_anchors": false,
   "latex_user_defs": false,
   "report_style_numbering": false,
   "user_envs_cfg": false
  }
 },
 "nbformat": 4,
 "nbformat_minor": 5
}
