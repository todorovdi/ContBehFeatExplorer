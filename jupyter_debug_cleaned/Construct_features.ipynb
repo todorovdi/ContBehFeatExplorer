{
 "cells": [
  {
   "cell_type": "code",
   "execution_count": null,
   "metadata": {},
   "outputs": [],
   "source": [
    "import os,sys\n",
    "import mne\n",
    "import utils  #my code\n",
    "import json\n",
    "import matplotlib.pyplot as plt\n",
    "import numpy as np\n",
    "import h5py\n",
    "%load_ext autoreload\n",
    "%autoreload 2\n",
    "\n",
    "if os.environ.get('DATA_DUSS') is not None:\n",
    "    data_dir = os.path.expandvars('$DATA_DUSS')\n",
    "else:\n",
    "    data_dir = '/home/demitau/data'\n",
    "    \n",
    "\n",
    "\n",
    "rawname_ = 'S01_off_hold'\n",
    "#rawname_ = 'S01_on_hold'\n",
    "rawname = rawname_ + '_resample_raw.fif'\n",
    "fname_full = os.path.join(data_dir,rawname)\n",
    "    \n",
    "# read file -- resampled to 256 Hz,  Electa MEG, EMG, LFP, EOG channels\n",
    "raw = mne.io.read_raw_fif(fname_full, None)"
   ]
  },
  {
   "cell_type": "code",
   "execution_count": null,
   "metadata": {},
   "outputs": [],
   "source": [
    "reconst_name = rawname_ + '_resample_afterICA_raw.fif'\n",
    "reconst_fname_full = os.path.join(data_dir,reconst_name)\n",
    "reconst_raw = mne.io.read_raw_fif(reconst_fname_full, None)"
   ]
  },
  {
   "cell_type": "code",
   "execution_count": null,
   "metadata": {},
   "outputs": [],
   "source": [
    "#src_fname"
   ]
  },
  {
   "cell_type": "code",
   "execution_count": null,
   "metadata": {},
   "outputs": [],
   "source": [
    "'srcd_S01_off_hold_HirschPt2011_test.mat'"
   ]
  },
  {
   "cell_type": "code",
   "execution_count": null,
   "metadata": {},
   "outputs": [],
   "source": [
    "src_fname = 'srcd_{}_HirschPt2011_test.mat'.format(rawname_)\n",
    "src_fname_full = os.path.join(data_dir,src_fname)\n",
    "src_ft = h5py.File(src_fname_full, 'r')\n",
    "ff = src_ft"
   ]
  },
  {
   "cell_type": "code",
   "execution_count": null,
   "metadata": {},
   "outputs": [],
   "source": [
    "ff.keys()"
   ]
  },
  {
   "cell_type": "code",
   "execution_count": null,
   "metadata": {},
   "outputs": [],
   "source": [
    "ff['source_data']"
   ]
  },
  {
   "cell_type": "code",
   "execution_count": null,
   "metadata": {},
   "outputs": [],
   "source": [
    "ff['source_data'][0,0]"
   ]
  },
  {
   "cell_type": "code",
   "execution_count": null,
   "metadata": {},
   "outputs": [],
   "source": [
    "f = ff[ ff['source_data'][0,0] ]\n",
    "f.keys()"
   ]
  },
  {
   "cell_type": "code",
   "execution_count": null,
   "metadata": {},
   "outputs": [],
   "source": [
    "''.join( map(chr, f['source_data']['method'][:,0] ) )"
   ]
  },
  {
   "cell_type": "code",
   "execution_count": null,
   "metadata": {},
   "outputs": [],
   "source": [
    "f['source_data']['avg'].keys()"
   ]
  },
  {
   "cell_type": "markdown",
   "metadata": {},
   "source": [
    "# Load LCMV"
   ]
  },
  {
   "cell_type": "code",
   "execution_count": null,
   "metadata": {},
   "outputs": [],
   "source": [
    "reconst_raw.load_data()"
   ]
  },
  {
   "cell_type": "code",
   "execution_count": null,
   "metadata": {},
   "outputs": [],
   "source": [
    "#ff['source_data'].shape[0]"
   ]
  },
  {
   "cell_type": "code",
   "execution_count": null,
   "metadata": {},
   "outputs": [],
   "source": [
    "sind_str,medcond,task = utils.getParamsFromRawname(rawname)\n",
    "\n",
    "stcs = []\n",
    "fbands = []\n",
    "custom_raw = None\n",
    "bandnames = ['tremor', 'beta', 'gamma', 'allf']\n",
    "for srcdi in range(ff['source_data'].shape[0] ):\n",
    "    bandname = bandnames[srcdi]\n",
    "    f = ff[ ff['source_data'][srcdi,0] ]\n",
    "\n",
    "    freqBand = f['bpfreq'][:].flatten()\n",
    "    pos = f['source_data']['pos'][:,:].T\n",
    "    # first coord is the left-right coord\n",
    "    posinds = np.argsort( pos[:,0] )  # I'll need to sort correspondance as well\n",
    "\n",
    "    sortedPos = pos[posinds]\n",
    "    #leftHemispherePos = sortedPos[sortedPos[:,0]<= 0]\n",
    "    #rightHemispherePos = sortedPos[sortedPos[:,0] > 0]\n",
    "    leftInds = np.where(sortedPos[:,0]<= 0)[0]\n",
    "    rightInds = np.where(sortedPos[:,0] > 0)[0]\n",
    "    vertices = [leftInds, rightInds]\n",
    "\n",
    "    t0 = f['source_data']['time'][0,0]\n",
    "    tstep = np.diff( f['source_data']['time'][:10,0] ) [0]\n",
    "\n",
    "    srcRefs = f['source_data']['avg']['mom'][0,:] \n",
    "    srcData_ = [0]* len(srcRefs)\n",
    "    for srci in range(len(srcRefs)):\n",
    "        srcData_[srci] = f[srcRefs[srci] ][:,0]\n",
    "\n",
    "    srcData = np.vstack(srcData_)[posinds]\n",
    "\n",
    "    #(data, vertices=None, tmin=None, tstep=None, subject=None, verbose=None\n",
    "    stc = mne.SourceEstimate(data = srcData, tmin = t0, tstep= tstep  , subject = sind_str , vertices=vertices)\n",
    "    \n",
    "    stcs += [stc]\n",
    "    fbands += [freqBand]\n",
    "    \n",
    "    lhi = map(str, list( vertices[0] ) )\n",
    "    rhi = map(str, list( vertices[1] ) )\n",
    "\n",
    "    srcnames = [ 'srcL_{}_'.format(bandname) + s for s in lhi ] \n",
    "    srcnames += [ 'srcR_{}_'.format(bandname) + s for s in rhi ]\n",
    "\n",
    "    # Initialize an info structure\n",
    "    info = mne.create_info(\n",
    "        ch_names=srcnames,\n",
    "        ch_types=['csd'] * len(srcnames),\n",
    "        sfreq=int ( 1/tstep ))\n",
    "\n",
    "    custom_raw_cur = mne.io.RawArray(srcData, info)\n",
    "    if custom_raw is None:\n",
    "        custom_raw = custom_raw_cur\n",
    "    else:\n",
    "        custom_raw.add_channels([custom_raw_cur])\n",
    "    #print(custom_raw)\n",
    "    #reconst_raw.add_channels([custom_raw])\n",
    "    "
   ]
  },
  {
   "cell_type": "markdown",
   "metadata": {},
   "source": [
    "# Average sources"
   ]
  },
  {
   "cell_type": "code",
   "execution_count": null,
   "metadata": {},
   "outputs": [],
   "source": [
    "import scipy.io\n",
    "\n",
    "srcCoords_fn = sind_str + '_modcoord.mat'\n",
    "crdf = scipy.io.loadmat(srcCoords_fn)\n",
    "coords = crdf['coords_Jan_actual']\n",
    "srcgroups = crdf['point_ind_corresp'][0][posinds]-1"
   ]
  },
  {
   "cell_type": "code",
   "execution_count": null,
   "metadata": {},
   "outputs": [],
   "source": [
    "assert min(srcgroups) == 0\n",
    "assert max(srcgroups) == len(coords)-1, ( max(srcgroups)+1, len(coords) )\n",
    "newchanames = []\n",
    "newdatas = []\n",
    "for i in range( max(srcgroups)+1 ):\n",
    "    inds = np.where(srcgroups == i)[0]\n",
    "    #srcData[inds]\n",
    "    #L or R?\n",
    "    if coords[i][0] <= 0:\n",
    "        brainside = 'L'\n",
    "    else:\n",
    "        brainside = 'R'\n",
    "    \n",
    "    for bandname in bandnames:\n",
    "        chnames = [ 'src{}_{}_{}'.format(brainside,bandname,s) for s in inds ] \n",
    "        chdata, times = custom_raw[chnames]\n",
    "        newdata = np.mean(chdata,axis=0)[None,:]\n",
    "        #print(chnames)\n",
    "        print('{}: Mean over {}'.format(i,chdata.shape[0]))\n",
    "        newchname = 'msrc{}_{}_{}'.format(brainside,bandname,i)\n",
    "        newchanames += [newchname]\n",
    "        newdatas    += [newdata]"
   ]
  },
  {
   "cell_type": "code",
   "execution_count": null,
   "metadata": {},
   "outputs": [],
   "source": [
    "info = mne.create_info(\n",
    "    ch_names=newchanames,\n",
    "    ch_types=['csd'] * len(newchanames),\n",
    "    sfreq=int ( 1/tstep ))\n",
    "\n",
    "custom_raw.add_channels([ mne.io.RawArray(np.vstack(newdatas), info)] )"
   ]
  },
  {
   "cell_type": "markdown",
   "metadata": {},
   "source": [
    " ## Plotting"
   ]
  },
  {
   "cell_type": "code",
   "execution_count": null,
   "metadata": {},
   "outputs": [],
   "source": [
    "meansrcind = 1\n",
    "inds = np.where(srcgroups == meansrcind)[0]\n",
    "bandname = 'gamma'\n",
    "if coords[meansrcind][0] <= 0:\n",
    "    brainside = 'L'\n",
    "else:\n",
    "    brainside = 'R'\n",
    "formatstr = 'src{}_{}_{}'\n",
    "chns = [formatstr.format(brainside,bandname,i) for i in inds]   #msrcR_tremor_0\n",
    "chns += ['m'+formatstr.format(brainside,bandname,meansrcind) ]\n",
    "chns"
   ]
  },
  {
   "cell_type": "code",
   "execution_count": null,
   "metadata": {},
   "outputs": [],
   "source": [
    "raw_compareAv = custom_raw.copy()\n",
    "raw_compareAv.pick_channels(chns)"
   ]
  },
  {
   "cell_type": "code",
   "execution_count": null,
   "metadata": {},
   "outputs": [],
   "source": [
    "%matplotlib qt\n",
    "raw_compareAv.plot();"
   ]
  },
  {
   "cell_type": "code",
   "execution_count": null,
   "metadata": {},
   "outputs": [],
   "source": [
    "#mne.time_frequency.csd_array_morlet(picks )"
   ]
  },
  {
   "cell_type": "code",
   "execution_count": null,
   "metadata": {},
   "outputs": [],
   "source": [
    "#reconst_raw.get_channel_types()"
   ]
  },
  {
   "cell_type": "code",
   "execution_count": null,
   "metadata": {},
   "outputs": [],
   "source": [
    "import pandas as pd"
   ]
  },
  {
   "cell_type": "code",
   "execution_count": null,
   "metadata": {},
   "outputs": [],
   "source": [
    "td.shape"
   ]
  },
  {
   "cell_type": "code",
   "execution_count": null,
   "metadata": {},
   "outputs": [],
   "source": [
    "vr = pd.Series(td).rolling(100).var()\n",
    "vr"
   ]
  },
  {
   "cell_type": "code",
   "execution_count": null,
   "metadata": {},
   "outputs": [],
   "source": [
    "help( pd.Series(td).rolling )"
   ]
  },
  {
   "cell_type": "markdown",
   "metadata": {},
   "source": [
    "## Hjorth"
   ]
  },
  {
   "cell_type": "code",
   "execution_count": null,
   "metadata": {},
   "outputs": [],
   "source": [
    "help( np.diff )"
   ]
  },
  {
   "cell_type": "code",
   "execution_count": null,
   "metadata": {},
   "outputs": [],
   "source": [
    "yty = np.arange(10)[None,:]\n",
    "ytyd = np.diff(yty,axis=-1, prepend=yty[:,0][:,None]  )\n",
    "yty.shape, ytyd.shape"
   ]
  },
  {
   "cell_type": "code",
   "execution_count": null,
   "metadata": {},
   "outputs": [],
   "source": [
    "def H_difactmob(dat,dt, windowsz = None):\n",
    "    dif = np.diff(dat,axis=-1, prepend=dat[:,0][:,None] ) / dt\n",
    "    if windowsz is None:    \n",
    "        activity = np.var(dat, axis=-1)\n",
    "        vardif = np.var(dif, axis=-1)\n",
    "    else:\n",
    "        #raise ValueError('not implemented yet')\n",
    "        if dat.ndim > 1 and dat.shape[0] == 1:            \n",
    "            activity = []\n",
    "            vardif = []\n",
    "            for dim in range(dat.shape[0]):\n",
    "                act = pd.Series(dat[dim]).rolling(windowsz).var()\n",
    "                var   = pd.Series(dif[dim]).rolling(windowsz).var()  # there is one-bin shift here, better to remove..\n",
    "                activity += [act]\n",
    "                vardif += [var]\n",
    "            activity = np.vstack(activity)\n",
    "            vardif = np.vstack(vardif)\n",
    "        else:\n",
    "            raise ValueError('wrong!')\n",
    "        \n",
    "    mobility = np.sqrt( vardif / activity )\n",
    "\n",
    "    return dif,activity, mobility\n",
    "\n",
    "def Hjorth(dat, dt, windowsz = None):\n",
    "#     if windowsz is not None:\n",
    "#         raise ValueError('not implemented yet')\n",
    "#     activity = np.var(dat, axis=-1)\n",
    "#     dif = np.diff(dat,axis=-1) / dt\n",
    "#     vardif = np.var(dif)\n",
    "#     mobility = np.sqrt( vardif / activity )\n",
    "    dif, activity, mobility = H_difactmob(dat,dt, windowsz=windowsz)\n",
    "    #dif2 = np.diff(dif) / dt\n",
    "    \n",
    "    dif2, act2, mob2 = H_difactmob(dif,dt, windowsz=windowsz)\n",
    "    complexity = mob2 / mobility\n",
    "    \n",
    "    return activity, mobility, complexity"
   ]
  },
  {
   "cell_type": "code",
   "execution_count": null,
   "metadata": {},
   "outputs": [],
   "source": [
    "srcdata_test.shape"
   ]
  },
  {
   "cell_type": "code",
   "execution_count": null,
   "metadata": {},
   "outputs": [],
   "source": [
    "activity, mobility, complexity = Hjorth(srcdata_test, times[1]-times[0] , windowsz=256)\n",
    "activity, mobility, complexity"
   ]
  },
  {
   "cell_type": "code",
   "execution_count": null,
   "metadata": {},
   "outputs": [],
   "source": [
    "plt.subplot(3,1,1).plot(times,activity.T)\n",
    "plt.subplot(3,1,1).set_title('activity')\n",
    "plt.subplot(3,1,2).plot(times,mobility.T)\n",
    "plt.subplot(3,1,2).set_title('mobility')\n",
    "plt.subplot(3,1,3).plot(times,complexity.T)\n",
    "plt.subplot(3,1,3).set_title('complexity')"
   ]
  },
  {
   "cell_type": "code",
   "execution_count": null,
   "metadata": {},
   "outputs": [],
   "source": [
    "activity, mobility, complexity = Hjorth(srcdata_test, times[1]-times[0])\n",
    "activity, mobility, complexity"
   ]
  },
  {
   "cell_type": "code",
   "execution_count": null,
   "metadata": {},
   "outputs": [],
   "source": [
    "tt = np.arange(1,1000,0.01)\n",
    "td = np.sin(tt)"
   ]
  },
  {
   "cell_type": "code",
   "execution_count": null,
   "metadata": {},
   "outputs": [],
   "source": [
    "Hjorth(td,tt[1]-tt[0])"
   ]
  },
  {
   "cell_type": "code",
   "execution_count": null,
   "metadata": {},
   "outputs": [],
   "source": [
    "help(plt.psd)"
   ]
  },
  {
   "cell_type": "code",
   "execution_count": null,
   "metadata": {},
   "outputs": [],
   "source": [
    "v,f = plt.psd(td,Fs=1/(tt[1]-tt[0]) )"
   ]
  },
  {
   "cell_type": "code",
   "execution_count": null,
   "metadata": {},
   "outputs": [],
   "source": [
    "np.sum(v) * (f[1]-f[0])"
   ]
  },
  {
   "cell_type": "code",
   "execution_count": null,
   "metadata": {},
   "outputs": [],
   "source": [
    "srcdata_test,times = custom_raw['msrcL_gamma_1']"
   ]
  },
  {
   "cell_type": "code",
   "execution_count": null,
   "metadata": {},
   "outputs": [],
   "source": [
    "srcdata_test.shape"
   ]
  },
  {
   "cell_type": "code",
   "execution_count": null,
   "metadata": {},
   "outputs": [],
   "source": [
    "raw.times"
   ]
  },
  {
   "cell_type": "code",
   "execution_count": null,
   "metadata": {},
   "outputs": [],
   "source": [
    "custom_raw.info"
   ]
  },
  {
   "cell_type": "code",
   "execution_count": null,
   "metadata": {},
   "outputs": [],
   "source": [
    "msrcOnly = custom_raw.copy()"
   ]
  },
  {
   "cell_type": "code",
   "execution_count": null,
   "metadata": {},
   "outputs": [],
   "source": [
    "picks =  mne.pick_channels_regexp(msrcOnly.ch_names, 'msrc._all_*'  )  \n",
    "picks_names = [msrcOnly.ch_names[i] for i in picks]"
   ]
  },
  {
   "cell_type": "code",
   "execution_count": null,
   "metadata": {},
   "outputs": [],
   "source": [
    "picks_names"
   ]
  },
  {
   "cell_type": "code",
   "execution_count": null,
   "metadata": {},
   "outputs": [],
   "source": [
    "msrcOnly.pick_channels(   picks_names  )"
   ]
  },
  {
   "cell_type": "code",
   "execution_count": null,
   "metadata": {},
   "outputs": [],
   "source": [
    "strec = 0\n",
    "endrec = msrcOnly.times[-1]\n",
    "epdur = endrec\n",
    "events_one = mne.make_fixed_length_events(msrcOnly, start=strec, stop=endrec, duration=epdur)\n",
    "epochs_one = mne.Epochs(msrcOnly,events_one, tmin=0,tmax = epdur, baseline=None)"
   ]
  },
  {
   "cell_type": "code",
   "execution_count": null,
   "metadata": {},
   "outputs": [],
   "source": [
    "#tfr_array_morlet\n",
    "freqs = np.arange(4,100)\n",
    "tfrres = mne.time_frequency.tfr_morlet(epochs_one, freqs, freqs * 0.75, return_itc=0, n_jobs=10, \n",
    "                                       output='complex', average=False)"
   ]
  },
  {
   "cell_type": "code",
   "execution_count": null,
   "metadata": {},
   "outputs": [],
   "source": [
    "tfrres.ch_names"
   ]
  },
  {
   "cell_type": "code",
   "execution_count": null,
   "metadata": {},
   "outputs": [],
   "source": [
    "tfrres.data.shape"
   ]
  },
  {
   "cell_type": "code",
   "execution_count": null,
   "metadata": {},
   "outputs": [],
   "source": [
    "#help(mne.time_frequency.tfr_morlet)"
   ]
  },
  {
   "cell_type": "code",
   "execution_count": null,
   "metadata": {},
   "outputs": [],
   "source": [
    "windowssz = 1 #sec\n",
    "window_centers = np.arange()"
   ]
  },
  {
   "cell_type": "code",
   "execution_count": null,
   "metadata": {},
   "outputs": [],
   "source": [
    "#tfrres.data"
   ]
  },
  {
   "cell_type": "code",
   "execution_count": null,
   "metadata": {},
   "outputs": [],
   "source": [
    "#srcData.shape"
   ]
  },
  {
   "cell_type": "code",
   "execution_count": null,
   "metadata": {},
   "outputs": [],
   "source": [
    "dat = tfrres.data[0]\n",
    "n_channels = dat.shape[0]\n",
    "csds = []\n",
    "for chn in range(n_channels):\n",
    "    #r = dat[[chn]] * np.conj ( dat[chn:] )    # upper diagonal elements only, same freq cross-channels\n",
    "    r = np.conj ( dat[[chn]] ) *  ( dat[chn:] )    # upper diagonal elements only, same freq cross-channels\n",
    "    print(r.shape)\n",
    "    csds += [r / custom_raw.info['sfreq'] ]"
   ]
  },
  {
   "cell_type": "code",
   "execution_count": null,
   "metadata": {},
   "outputs": [],
   "source": [
    "#csds[0][0] - csds[0][1]"
   ]
  },
  {
   "cell_type": "code",
   "execution_count": null,
   "metadata": {},
   "outputs": [],
   "source": [
    "csd = np.vstack( csds )"
   ]
  },
  {
   "cell_type": "code",
   "execution_count": null,
   "metadata": {},
   "outputs": [],
   "source": [
    "def getCsdVals(csd,i,j, updiag = 0):\n",
    "    #swap\n",
    "    assert i < n_channels\n",
    "    assert j < n_channels\n",
    "    \n",
    "    if j < i: \n",
    "        tmp = i\n",
    "        i = j\n",
    "        j = tmp\n",
    "\n",
    "    idx = 0\n",
    "    for ii in range(i):\n",
    "        idx += (n_channels - ii - updiag)\n",
    "\n",
    "    dist_to_diag = j - i - updiag\n",
    "    idx += dist_to_diag\n",
    "    #print(idx)\n",
    "    return csd[idx]\n",
    "#i,j -> \n",
    "getCsdVals(csd,2,2)"
   ]
  },
  {
   "cell_type": "code",
   "execution_count": null,
   "metadata": {},
   "outputs": [],
   "source": [
    "#getCsdVals(csd,3,3)"
   ]
  },
  {
   "cell_type": "code",
   "execution_count": null,
   "metadata": {},
   "outputs": [],
   "source": [
    "#getCsdVals(csd,2,2) - getCsdVals(csd,2,5)"
   ]
  },
  {
   "cell_type": "code",
   "execution_count": null,
   "metadata": {},
   "outputs": [],
   "source": [
    "getCsdVals(csd,2,2).shape"
   ]
  },
  {
   "cell_type": "code",
   "execution_count": null,
   "metadata": {},
   "outputs": [],
   "source": [
    "def getFullMat(csd, freq_index, time_index, updiag=0):\n",
    "    M = np.zeros( (n_channels, n_channels), dtype = csd.dtype)\n",
    "    for i in range(n_channels):\n",
    "        for j in range(n_channels):\n",
    "            M[i,j] = getCsdVals(csd,i,j, updiag =updiag)[freq_index,time_index]\n",
    "            \n",
    "    return M\n",
    "M = getFullMat(csd, 0, 1000)"
   ]
  },
  {
   "cell_type": "code",
   "execution_count": null,
   "metadata": {},
   "outputs": [],
   "source": [
    "#csd[1]"
   ]
  },
  {
   "cell_type": "code",
   "execution_count": null,
   "metadata": {},
   "outputs": [],
   "source": [
    "plt.imshow(np.abs(M) )"
   ]
  },
  {
   "cell_type": "code",
   "execution_count": null,
   "metadata": {},
   "outputs": [],
   "source": [
    "import gc; gc.collect()"
   ]
  },
  {
   "cell_type": "code",
   "execution_count": null,
   "metadata": {},
   "outputs": [],
   "source": [
    "import scipy.signal as sig"
   ]
  },
  {
   "cell_type": "code",
   "execution_count": null,
   "metadata": {},
   "outputs": [],
   "source": [
    "epdat = epochs_one.get_data()[0]"
   ]
  },
  {
   "cell_type": "code",
   "execution_count": null,
   "metadata": {},
   "outputs": [],
   "source": []
  },
  {
   "cell_type": "code",
   "execution_count": null,
   "metadata": {},
   "outputs": [],
   "source": [
    "fqs, csdscipy = sig.csd(epdat[0],epdat[3],fs=int(raw.info['sfreq']))"
   ]
  },
  {
   "cell_type": "code",
   "execution_count": null,
   "metadata": {},
   "outputs": [],
   "source": [
    "freqs[2]"
   ]
  },
  {
   "cell_type": "code",
   "execution_count": null,
   "metadata": {},
   "outputs": [],
   "source": [
    "fqs[6]"
   ]
  },
  {
   "cell_type": "code",
   "execution_count": null,
   "metadata": {},
   "outputs": [],
   "source": [
    "csdscipy[6]"
   ]
  },
  {
   "cell_type": "code",
   "execution_count": null,
   "metadata": {},
   "outputs": [],
   "source": [
    "np.mean( getCsdVals(csd,0,3)[2] )"
   ]
  },
  {
   "cell_type": "code",
   "execution_count": null,
   "metadata": {},
   "outputs": [],
   "source": [
    "# Plot CSD\n",
    "ii,jj = 0,3\n",
    "plt.semilogy(fqs,csdscipy.real, label='scipy' )\n",
    "plt.semilogy(freqs, np.mean( getCsdVals(csd,ii,jj), axis=1 ).real , label='hand' )\n",
    "plt.legend()"
   ]
  },
  {
   "cell_type": "code",
   "execution_count": null,
   "metadata": {},
   "outputs": [],
   "source": [
    "# Plot CSD\n",
    "plt.semilogy(fqs,csdscipy.imag, label='scipy' )\n",
    "plt.semilogy(freqs, np.mean( getCsdVals(csd,ii,jj), axis=1 ).imag , label='hand' )\n",
    "plt.legend()"
   ]
  },
  {
   "cell_type": "code",
   "execution_count": null,
   "metadata": {},
   "outputs": [],
   "source": [
    "cohs = []\n",
    "ps = []\n",
    "for i in range(n_channels):\n",
    "    for j in range(i+1,n_channels):\n",
    "        if i == j:\n",
    "            coh_cur = np.ones( (csd.shape[1], csd.shape[2]) )\n",
    "        else:\n",
    "            csd_cur = getCsdVals(csd,i,j)\n",
    "            csd_cur_sq = np.square(csd_cur.imag) + np.square(csd_cur.real)\n",
    "            coh_cur = csd_cur_sq / (getCsdVals(csd,i,i).real * getCsdVals(csd,j,j).real  )\n",
    "        ps +=  [(i,j)]\n",
    "            #print('--------------')\n",
    "            #display(coh_cur)\n",
    "        cohs += [coh_cur[None,:].real ]"
   ]
  },
  {
   "cell_type": "code",
   "execution_count": null,
   "metadata": {},
   "outputs": [],
   "source": [
    "coh_cur.shape"
   ]
  },
  {
   "cell_type": "code",
   "execution_count": null,
   "metadata": {},
   "outputs": [],
   "source": [
    "fqs,cohscipy = sig.coherence(epdat[ii],epdat[jj],fs=int(raw.info['sfreq']) )\n",
    "\n",
    "csd_cur = getCsdVals(csd,ii,jj)\n",
    "csd_cur_sq = np.square(csd_cur.imag) + np.square(csd_cur.real)\n",
    "coh_cur = csd_cur_sq / ( getCsdVals(csd,ii,ii) * getCsdVals(csd,jj,jj) )\n",
    "coh_cur_av = np.mean(coh_cur, axis=1)\n",
    "\n",
    "#plt.semilogy(freqs, np.mean( getCsdVals(csd,0,3), axis=1 ).imag , label='hand' )\n",
    "\n",
    "plt.semilogy(fqs,cohscipy, label='scipy')\n",
    "plt.semilogy(freqs,coh_cur_av, label='hand')\n",
    "plt.legend()"
   ]
  },
  {
   "cell_type": "code",
   "execution_count": null,
   "metadata": {},
   "outputs": [],
   "source": [
    "yy = np.mean(csd_cur, axis=1)\n",
    "yy = yy.imag**2 + yy.real**2\n",
    "yy1 = np.mean(getCsdVals(csd,ii,ii), axis=1  )\n",
    "yy2 = np.mean(getCsdVals(csd,jj,jj), axis=1  )"
   ]
  },
  {
   "cell_type": "code",
   "execution_count": null,
   "metadata": {},
   "outputs": [],
   "source": [
    "plt.semilogy( freqs, yy/(yy1*yy2 ) )  \n",
    "\n",
    "plt.semilogy(fqs,cohscipy, label='coh scipy')\n",
    "plt.legend()"
   ]
  },
  {
   "cell_type": "code",
   "execution_count": null,
   "metadata": {},
   "outputs": [],
   "source": [
    "plt.semilogy( freqs, np.mean(csd_cur_sq, axis=1) )\n",
    "# plt.semilogy( freqs, np.mean(getCsdVals(csd,ii,ii).real, axis=1)**2 )\n",
    "# plt.semilogy( freqs, np.mean(getCsdVals(csd,jj,jj).real, axis=1)**2 )\n",
    "\n",
    "plt.semilogy( freqs, np.mean(getCsdVals(csd,jj,jj).real * getCsdVals(csd,ii,ii).real, axis=1), ls='--' )"
   ]
  },
  {
   "cell_type": "code",
   "execution_count": null,
   "metadata": {},
   "outputs": [],
   "source": [
    "plt.semilogy( freqs, np.mean(getCsdVals(csd,ii,ii), axis=1) )"
   ]
  },
  {
   "cell_type": "code",
   "execution_count": null,
   "metadata": {},
   "outputs": [],
   "source": [
    "cohs[2][0,:,2000]  #all freq"
   ]
  },
  {
   "cell_type": "code",
   "execution_count": null,
   "metadata": {},
   "outputs": [],
   "source": [
    "ps"
   ]
  },
  {
   "cell_type": "code",
   "execution_count": null,
   "metadata": {},
   "outputs": [],
   "source": [
    "len(cohs)"
   ]
  },
  {
   "cell_type": "code",
   "execution_count": null,
   "metadata": {},
   "outputs": [],
   "source": [
    "cohs[0].shape"
   ]
  },
  {
   "cell_type": "code",
   "execution_count": null,
   "metadata": {},
   "outputs": [],
   "source": [
    "cohs[1].shape"
   ]
  },
  {
   "cell_type": "code",
   "execution_count": null,
   "metadata": {},
   "outputs": [],
   "source": [
    "coh = np.concatenate(cohs,axis=0)"
   ]
  },
  {
   "cell_type": "code",
   "execution_count": null,
   "metadata": {},
   "outputs": [],
   "source": [
    "coh.shape"
   ]
  },
  {
   "cell_type": "code",
   "execution_count": null,
   "metadata": {},
   "outputs": [],
   "source": [
    "coh"
   ]
  },
  {
   "cell_type": "code",
   "execution_count": null,
   "metadata": {},
   "outputs": [],
   "source": [
    "#coh(i,j,freq) = np.abs(  csd(i,j,freq) )**2 / ( csd(i,i,freq) * csd(j,j,freq))"
   ]
  },
  {
   "cell_type": "code",
   "execution_count": null,
   "metadata": {},
   "outputs": [],
   "source": [
    "#[np.mean(psds[[i]] * psds_conj[i:], axis=2)       for i in range(n_channels)]\n",
    "\n",
    "#     # Scaling by sampling frequency for compatibility with Matlab\n",
    "#     csds /= sfreq"
   ]
  },
  {
   "cell_type": "code",
   "execution_count": null,
   "metadata": {},
   "outputs": [],
   "source": [
    "# MNE:   _csd_morlet(...)\n",
    "#     n_channels = data.shape[0]\n",
    "#     csds = np.vstack([np.mean(psds[[i]] * psds_conj[i:], axis=2)\n",
    "#                       for i in range(n_channels)])\n",
    "\n",
    "#     # Scaling by sampling frequency for compatibility with Matlab\n",
    "#     csds /= sfreq"
   ]
  },
  {
   "cell_type": "markdown",
   "metadata": {},
   "source": [
    " ## mne.SourceEstimate\n",
    "\n",
    "data\n",
    "    \n",
    "    array of shape (n_dipoles, n_times) | tuple, shape (2,)\n",
    "\n",
    "    The data in source space. When it is a single array, the left hemisphere is stored in data[:len(vertices[0])] and the right hemisphere is stored in data[-len(vertices[1]):]. When data is a tuple, it contains two arrays:\n",
    "\n",
    "        “kernel” shape (n_vertices, n_sensors) and\n",
    "\n",
    "        “sens_data” shape (n_sensors, n_times).\n",
    "\n",
    "    In this case, the source space data corresponds to np.dot(kernel, sens_data).\n",
    "vertices\n",
    "\n",
    "    list of array, shape (2,)\n",
    "\n",
    "    Vertex numbers corresponding to the data. The first element of the list contains vertices of left hemisphere and the second element contains vertices of right hemisphere.\n"
   ]
  },
  {
   "cell_type": "markdown",
   "metadata": {},
   "source": [
    "# DICS"
   ]
  },
  {
   "cell_type": "code",
   "execution_count": null,
   "metadata": {},
   "outputs": [],
   "source": [
    "f['source_data']['avg']['noise'][0,:]"
   ]
  },
  {
   "cell_type": "code",
   "execution_count": null,
   "metadata": {},
   "outputs": [],
   "source": [
    "f['source_data']['avg']['pow'][0,:]"
   ]
  },
  {
   "cell_type": "code",
   "execution_count": null,
   "metadata": {},
   "outputs": [],
   "source": [
    "f['source_data']['freq']"
   ]
  },
  {
   "cell_type": "code",
   "execution_count": null,
   "metadata": {},
   "outputs": [],
   "source": [
    "f = src_ft\n",
    "times = f['source_data']['time'][ts:te,0]\n",
    "\n",
    "src = f['source_data'] "
   ]
  },
  {
   "cell_type": "code",
   "execution_count": null,
   "metadata": {},
   "outputs": [],
   "source": [
    "ref = src['avg']['mom'] [0,srci]\n",
    "# maybe I can make more efficient data extraction of multiple channels at once \n",
    "# later if needed, if I bundle all channels from the same source file \n",
    "if f[ref].size > 10:\n",
    "    srcval = f[ref ][ts:te,0]   # 1D array with reconstructed source activity"
   ]
  },
  {
   "cell_type": "code",
   "execution_count": null,
   "metadata": {},
   "outputs": [],
   "source": [
    "freqdat_fname_full =  os.path.join(data_dir, 'tmp_freq_data.mat' )"
   ]
  },
  {
   "cell_type": "code",
   "execution_count": null,
   "metadata": {},
   "outputs": [],
   "source": [
    "freqd = h5py.File(freqdat_fname_full, 'r')"
   ]
  },
  {
   "cell_type": "code",
   "execution_count": null,
   "metadata": {},
   "outputs": [],
   "source": [
    "freqd['#refs#']"
   ]
  },
  {
   "cell_type": "code",
   "execution_count": null,
   "metadata": {},
   "outputs": [],
   "source": [
    "freqd['freqdata'].keys()"
   ]
  },
  {
   "cell_type": "code",
   "execution_count": null,
   "metadata": {},
   "outputs": [],
   "source": [
    "freqd['freqdata']['grad'].keys()"
   ]
  },
  {
   "cell_type": "code",
   "execution_count": null,
   "metadata": {},
   "outputs": [],
   "source": [
    "freqd['freqdata']['freq'][:,0]"
   ]
  },
  {
   "cell_type": "code",
   "execution_count": null,
   "metadata": {},
   "outputs": [],
   "source": [
    "freqd['freqdata']['labelcmb']"
   ]
  },
  {
   "cell_type": "code",
   "execution_count": null,
   "metadata": {},
   "outputs": [],
   "source": [
    "fr = freqd[ freqd['freqdata']['labelcmb'][1,0] ]"
   ]
  },
  {
   "cell_type": "code",
   "execution_count": null,
   "metadata": {},
   "outputs": [],
   "source": [
    "''.join( map(chr, fr[:,0] ) )"
   ]
  },
  {
   "cell_type": "code",
   "execution_count": null,
   "metadata": {},
   "outputs": [],
   "source": [
    "freqd['freqdata']['powspctrm']"
   ]
  },
  {
   "cell_type": "code",
   "execution_count": null,
   "metadata": {},
   "outputs": [],
   "source": [
    "freqd['freqdata']['crsspctrm']"
   ]
  },
  {
   "cell_type": "code",
   "execution_count": null,
   "metadata": {},
   "outputs": [],
   "source": [
    "freqd['freqdata']['dimord'][:,0]"
   ]
  },
  {
   "cell_type": "code",
   "execution_count": null,
   "metadata": {},
   "outputs": [],
   "source": [
    "''.join( map(chr, freqd['freqdata']['dimord'][:,0] ) )"
   ]
  },
  {
   "cell_type": "code",
   "execution_count": null,
   "metadata": {},
   "outputs": [],
   "source": [
    "freqd['freqdata']['crsspctrm'][0,1]"
   ]
  },
  {
   "cell_type": "code",
   "execution_count": null,
   "metadata": {},
   "outputs": [],
   "source": []
  }
 ],
 "metadata": {
  "kernelspec": {
   "display_name": "Python 3",
   "language": "python",
   "name": "python3"
  },
  "language_info": {
   "codemirror_mode": {
    "name": "ipython",
    "version": 3
   },
   "file_extension": ".py",
   "mimetype": "text/x-python",
   "name": "python",
   "nbconvert_exporter": "python",
   "pygments_lexer": "ipython3",
   "version": "3.8.5"
  },
  "toc-autonumbering": true,
  "toc-showcode": false,
  "toc-showmarkdowntxt": false,
  "toc-showtags": false
 },
 "nbformat": 4,
 "nbformat_minor": 4
}
