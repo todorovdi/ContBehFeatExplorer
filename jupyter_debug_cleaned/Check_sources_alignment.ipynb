{
 "cells": [
  {
   "cell_type": "code",
   "execution_count": null,
   "id": "3deccc4b",
   "metadata": {},
   "outputs": [],
   "source": [
    "%matplotlib qt\n",
    "%load_ext autoreload\n",
    "%autoreload 2\n",
    "\n",
    "sind_strs = [ 'S01', 'S02', 'S03', 'S04', 'S05', 'S07' ]"
   ]
  },
  {
   "cell_type": "code",
   "execution_count": null,
   "id": "82bb39ed",
   "metadata": {},
   "outputs": [],
   "source": [
    "#sind_strs = [ 'S01', 'S02', 'S03', 'S04', 'S05', 'S07' ]\n",
    "\n",
    "import globvars as gv\n",
    "from os.path import join as pjoin\n",
    "from utils import loadROILabels, loadSurfAndGrids\n",
    "# it is very important to get the right order\n",
    "roi_labels, srcgroups, source_coords = loadROILabels()\n",
    "vis_info_per_subj = loadSurfAndGrids(sind_strs)\n",
    "    \n",
    "cgMNI = vis_info_per_subj['S_default']\n",
    "\n",
    "from visbrain.objects import BrainObj, ColorbarObj, SceneObj, SourceObj, RoiObj\n",
    "from visbrain.gui import Brain"
   ]
  },
  {
   "cell_type": "code",
   "execution_count": null,
   "id": "6d989020",
   "metadata": {},
   "outputs": [],
   "source": [
    "cgMNI.keys()"
   ]
  },
  {
   "cell_type": "markdown",
   "id": "ea7f3e49",
   "metadata": {},
   "source": [
    "##  plot S07 on Jan's brain surf"
   ]
  },
  {
   "cell_type": "code",
   "execution_count": null,
   "id": "e177206c",
   "metadata": {},
   "outputs": [],
   "source": [
    "import gc; gc.collect()\n",
    "subj = 'S07'\n",
    "#subj = 'S01'\n",
    "vi = vis_info_per_subj[subj]\n",
    "\n",
    "#xyz =  cgMNI['headsurfgrid_verts'].T * 100\n",
    "xyz = vi['headsurfgrid_verts']\n",
    "data = np.arange(xyz.shape[0])\n",
    "radius_supp = 4\n",
    "RADINFO = dict(radius_min=radius_supp, radius_max = radius_supp)\n",
    "\n",
    "s_obj1  = SourceObj ('mysrc',xyz, data=data, cmap='inferno', **RADINFO)\n",
    "s_obj2  = SourceObj ('mysrc',xyz, data=data, cmap='inferno', **RADINFO)\n",
    "\n",
    "xyz2 = vi['headsurfgrid_mod_verts']\n",
    "s_obj21  = SourceObj ('mysrc',xyz2, data=data, cmap='inferno', **RADINFO)\n",
    "s_obj22  = SourceObj ('mysrc',xyz2, data=data, cmap='inferno', **RADINFO)\n",
    "\n",
    "\n",
    "tc = True\n",
    "verts = vi['headsurf_verts']\n",
    "tris = vi['headsurf_tris']\n",
    "b1 = BrainObj(subj, hemisphere='both' , translucent=tc, vertices=verts, faces=tris ) \n",
    "b2 = BrainObj(subj, hemisphere='both' , translucent=tc, vertices=verts, faces=tris ) \n",
    "b21 = BrainObj(subj, hemisphere='both' , translucent=tc, vertices=verts, faces=tris ) \n",
    "b22 = BrainObj(subj, hemisphere='both' , translucent=tc, vertices=verts, faces=tris ) \n",
    "\n",
    "verts = b1.vertices\n",
    "#s_obj1.fit_to_vertices(verts) # result it shift\n",
    "\n",
    "from visbrain.objects import BrainObj, SceneObj\n",
    "bgcolor = 'black'\n",
    "bgcolor = 'white'\n",
    "sc = SceneObj(bgcolor=bgcolor, size=(400, 400))\n",
    "\n",
    "#sc.add_to_subplot(b, row=0, col=0)\n",
    "sc.add_to_subplot(b1, row=0, col=0, rotate='left', title=subj)\n",
    "sc.add_to_subplot(b2, row=0, col=1, rotate='top', title=subj)\n",
    "sc.add_to_subplot(s_obj1, row=0, col=0, rotate='left')\n",
    "sc.add_to_subplot(s_obj2, row=0, col=1, rotate='top')\n",
    "\n",
    "sc.add_to_subplot(b21,     row=1, col=0, rotate='left', title=subj)\n",
    "sc.add_to_subplot(b22,     row=1, col=1, rotate='top', title=subj)\n",
    "sc.add_to_subplot(s_obj21, row=1, col=0, rotate='left')\n",
    "sc.add_to_subplot(s_obj22, row=1, col=1, rotate='top')\n",
    "\n",
    "sc.preview()"
   ]
  },
  {
   "cell_type": "markdown",
   "id": "f494457d",
   "metadata": {
    "heading_collapsed": true
   },
   "source": [
    "## compare Jan's invidivdual grid with BEM"
   ]
  },
  {
   "cell_type": "code",
   "execution_count": null,
   "id": "b9aea038",
   "metadata": {
    "hidden": true
   },
   "outputs": [],
   "source": [
    "import gc; gc.collect()\n",
    "import mne\n",
    "from plots import saveRenderVisBrainScene\n",
    "subdir_fig = 'output/surf_consistency_check'\n",
    "\n",
    "shift_xyz = 1\n",
    "subj = 'S08'\n",
    "#subj = 'S01'\n",
    "vi = vis_info_per_subj[subj]\n",
    "#%debug\n",
    "# surf_type = 'pial' # \n",
    "# #surf_type = 'white'\n",
    "# surf_type = 'inflated' # \n",
    "# surfnames = [f'lh.{surf_type}', f'rh.{surf_type}']\n",
    "surfnames = ['brain.surf']\n",
    "#%debug\n",
    "print(surfnames)\n",
    "bem_dir = pjoin('/home/demitau/data/subjects/',subj,'bem')\n",
    "\n",
    "coords, faces = mne.read_surface(pjoin(bem_dir, 'inner_skull.surf'))\n",
    "tc = False\n",
    "b1 = BrainObj('', hemisphere='both' , translucent=tc, vertices=coords, faces=faces ) \n",
    "b2 = BrainObj('', hemisphere='both' , translucent=tc, vertices=coords, faces=faces ) \n",
    "\n",
    "verts = vi['headsurf_verts']\n",
    "tris = vi['headsurf_tris']\n",
    "b1_ = BrainObj(subj, hemisphere='both' , translucent=tc, vertices=verts, faces=tris ) \n",
    "b2_ = BrainObj(subj, hemisphere='both' , translucent=tc, vertices=verts, faces=tris ) \n",
    "\n",
    "\n",
    "verts = b1.vertices\n",
    "maxs = np.max( verts, axis=0)\n",
    "mins = np.min( verts, axis=0)\n",
    "difs = maxs - mins\n",
    "#s_obj1.fit_to_vertices(verts) # result it shift\n",
    "\n",
    "xyz =  vi['headsurfgrid_verts'] * 10\n",
    "maxs2 = np.max( xyz, axis=0)\n",
    "mins2 = np.min( xyz, axis=0)\n",
    "difs2 = maxs2 - mins2\n",
    "if shift_xyz:\n",
    "    xyz -= ( (maxs2+mins2)/2 )[None,:]\n",
    "    xyz = xyz * ( (difs / difs2)[None,:] )\n",
    "    xyz += ( (maxs+mins)/2 )[None,:]\n",
    "\n",
    "data = np.arange(xyz.shape[0])\n",
    "radius_supp = 4\n",
    "RADINFO = dict(radius_min=radius_supp, radius_max = radius_supp)\n",
    "\n",
    "s_obj1  = SourceObj ('mysrc',xyz, data=data, cmap='inferno', **RADINFO)\n",
    "s_obj2  = SourceObj ('mysrc',xyz, data=data, cmap='inferno', **RADINFO)\n",
    "\n",
    "\n",
    "from visbrain.objects import BrainObj, SceneObj\n",
    "bgcolor = 'black'\n",
    "#bgcolor = 'white'\n",
    "sc = SceneObj(bgcolor=bgcolor, size=(400, 400))\n",
    "\n",
    "#sc.add_to_subplot(b, row=0, col=0)\n",
    "sc.add_to_subplot(b1,  row=0, col=0, zoom=2., rotate='left')\n",
    "sc.add_to_subplot(b2,  row=0, col=1, zoom=2., rotate='top')\n",
    "sc.add_to_subplot(b1_, row=1, col=0, zoom=2., rotate='left')\n",
    "sc.add_to_subplot(b2_, row=1, col=1, zoom=2., rotate='top')\n",
    "\n",
    "#sc.add_to_subplot(s_obj1, row=0, col=0, rotate='left')\n",
    "#sc.add_to_subplot(s_obj2, row=0, col=1, rotate='top')\n",
    "\n",
    "figfname_full= pjoin(gv.code_dir, subdir_fig, f'{subj}_surf_vs_bem.png')\n",
    "render_result = saveRenderVisBrainScene(sc,figfname_full, render_only = 0)\n",
    "\n",
    "#sc.preview()"
   ]
  },
  {
   "cell_type": "code",
   "execution_count": null,
   "id": "89e92d5b",
   "metadata": {
    "hidden": true
   },
   "outputs": [],
   "source": [
    "vb = Brain(brain_obj=b1, bgcolor='slateblue')\n",
    "vb2 = Brain(brain_obj=b1_, bgcolor='slateblue')"
   ]
  },
  {
   "cell_type": "code",
   "execution_count": null,
   "id": "4da807ff",
   "metadata": {
    "hidden": true
   },
   "outputs": [],
   "source": [
    "# if I do it after preview, does not work\n",
    "vb.show()\n",
    "vb2.show()"
   ]
  },
  {
   "cell_type": "code",
   "execution_count": null,
   "id": "0160a1db",
   "metadata": {
    "hidden": true
   },
   "outputs": [],
   "source": [
    "from visbrain.gui import Brain\n",
    "help(Brain)"
   ]
  },
  {
   "cell_type": "markdown",
   "id": "d6fa2bb0",
   "metadata": {
    "heading_collapsed": true
   },
   "source": [
    "## compare Jan's MNI grid with standard freesurfer brain"
   ]
  },
  {
   "cell_type": "code",
   "execution_count": null,
   "id": "a8b08f7f",
   "metadata": {
    "hidden": true
   },
   "outputs": [],
   "source": [
    "import gc; gc.collect()\n",
    "\n",
    "surf_type = 'pial' # \n",
    "#surf_type = 'white'\n",
    "surf_type = 'inflated' # \n",
    "surfnames = [f'lh.{surf_type}', f'rh.{surf_type}']\n",
    "#%debug\n",
    "print(surfnames)\n",
    "p = '/home/demitau/data/freesurfer_surf'\n",
    "spaths = [pjoin(p,sn) for sn in surfnames]\n",
    "tc = True\n",
    "b1 = BrainObj(spaths, hemisphere='both' , translucent=tc ) \n",
    "b2 = BrainObj(spaths, hemisphere='both' , translucent=tc ) \n",
    "\n",
    "\n",
    "verts = b1.vertices\n",
    "maxs = np.max( verts, axis=0)\n",
    "mins = np.min( verts, axis=0)\n",
    "difs = maxs - mins\n",
    "#s_obj1.fit_to_vertices(verts) # result it shift\n",
    "\n",
    "xyz =  cgMNI['headsurfgrid_verts'].T \n",
    "maxs2 = np.max( xyz, axis=0)\n",
    "mins2 = np.min( xyz, axis=0)\n",
    "difs2 = maxs2 - mins2\n",
    "xyz -= ( (maxs2+mins2)/2 )[None,:]\n",
    "xyz = xyz * ( (difs / difs2)[None,:] )\n",
    "xyz += ( (maxs+mins)/2 )[None,:]\n",
    "\n",
    "data = np.arange(xyz.shape[0])\n",
    "radius_supp = 4\n",
    "RADINFO = dict(radius_min=radius_supp, radius_max = radius_supp)\n",
    "\n",
    "s_obj1  = SourceObj ('mysrc',xyz, data=data, cmap='inferno', **RADINFO)\n",
    "s_obj2  = SourceObj ('mysrc',xyz, data=data, cmap='inferno', **RADINFO)\n",
    "\n",
    "\n",
    "from visbrain.objects import BrainObj, SceneObj\n",
    "bgcolor = 'black'\n",
    "bgcolor = 'white'\n",
    "sc = SceneObj(bgcolor=bgcolor, size=(400, 400))\n",
    "\n",
    "#sc.add_to_subplot(b, row=0, col=0)\n",
    "sc.add_to_subplot(b1, row=0, col=0, rotate='left')\n",
    "sc.add_to_subplot(b2, row=0, col=1, rotate='top')\n",
    "sc.add_to_subplot(s_obj1, row=0, col=0, rotate='left')\n",
    "sc.add_to_subplot(s_obj2, row=0, col=1, rotate='top')\n",
    "\n",
    "sc.preview()"
   ]
  }
 ],
 "metadata": {
  "kernelspec": {
   "display_name": "Python 3",
   "language": "python",
   "name": "python3"
  },
  "language_info": {
   "codemirror_mode": {
    "name": "ipython",
    "version": 3
   },
   "file_extension": ".py",
   "mimetype": "text/x-python",
   "name": "python",
   "nbconvert_exporter": "python",
   "pygments_lexer": "ipython3",
   "version": "3.8.10"
  }
 },
 "nbformat": 4,
 "nbformat_minor": 5
}
