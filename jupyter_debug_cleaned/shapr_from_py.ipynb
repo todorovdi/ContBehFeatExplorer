{
 "cells": [
  {
   "cell_type": "code",
   "execution_count": null,
   "id": "b7d26a42",
   "metadata": {},
   "outputs": [],
   "source": [
    "import rpy2.robjects as robjects\n",
    "r = robjects.r"
   ]
  },
  {
   "cell_type": "code",
   "execution_count": null,
   "id": "9fcaf699",
   "metadata": {},
   "outputs": [],
   "source": [
    "!which python"
   ]
  },
  {
   "cell_type": "code",
   "execution_count": null,
   "id": "f98ed914",
   "metadata": {},
   "outputs": [],
   "source": [
    "import rpy2"
   ]
  },
  {
   "cell_type": "code",
   "execution_count": null,
   "id": "8364fbe1",
   "metadata": {},
   "outputs": [],
   "source": [
    "#!echo $PATH"
   ]
  },
  {
   "cell_type": "code",
   "execution_count": null,
   "id": "64253b75",
   "metadata": {},
   "outputs": [],
   "source": []
  },
  {
   "cell_type": "code",
   "execution_count": null,
   "id": "8a6d1cb8",
   "metadata": {},
   "outputs": [],
   "source": [
    "Npts = 400\n",
    "# nfeats = 2; \n",
    "# X_train = np.random.uniform(-1,1, size=(Npts,nfeats)) * 1e-1\n",
    "# y_train = np.zeros(Npts,dtype=int) \n",
    "# #\n",
    "# y_train[:Npts//2] = 1\n",
    "# #\n",
    "# X_train[:Npts//2+2,0]  += 10\n",
    "\n",
    "# keyname = '3_classes_3feats_2_signif_feat_corr2'\n",
    "# tests_order += [keyname]\n",
    "# vard[keyname] = dcur\n",
    "\n",
    "nfeats = 3\n",
    "X_train = np.random.uniform(-1,1, size=(Npts,nfeats)) * 1e-1\n",
    "y_train = np.zeros(Npts,dtype=int)\n",
    "#\n",
    "y_train[:Npts//2] = 1\n",
    "y_train[Npts//4:Npts//2] = 2\n",
    "#\n",
    "X_train[:Npts//2+2,0]  += 1.5\n",
    "X_train[Npts//4:Npts//2,0]  += 10\n",
    "X_train[:,1] += X_train[:,0] \n",
    "\n",
    "\n",
    "    #print(data[0], \"data\\n\", df, \"\\n\")\n",
    "# fn = \"_toR.feather\"\n",
    "# #uu = df.to_feather(fn)\n",
    "    \n",
    "# with open(\"_toR.feather\", 'wb') as f:\n",
    "#     ft.write_feather(df, f)"
   ]
  },
  {
   "cell_type": "code",
   "execution_count": null,
   "id": "69a5b74f",
   "metadata": {},
   "outputs": [],
   "source": [
    "import pyarrow.feather as ft\n",
    "ft.write_feather(df, fn)\n",
    "\n",
    "ft.read_feather(fn)"
   ]
  },
  {
   "cell_type": "code",
   "execution_count": null,
   "id": "450bb099",
   "metadata": {},
   "outputs": [],
   "source": []
  },
  {
   "cell_type": "code",
   "execution_count": null,
   "id": "c88ba436",
   "metadata": {},
   "outputs": [],
   "source": [
    "add_clf_creopts = {'n_jobs': 256,\n",
    " 'use_label_encoder': False,\n",
    " 'importance_type': 'gain',\n",
    " 'max_depth': 4,\n",
    " 'min_child_weight': 3,\n",
    " 'eta': 0.3000,\n",
    " 'subsample': 1,\n",
    " 'tree_method': 'exact'}\n",
    "add_fitopts = {'eval_metric': 'mlogloss'}\n",
    "class_weights = np.ones(X_train.shape[0])"
   ]
  },
  {
   "cell_type": "code",
   "execution_count": null,
   "id": "84075f5a",
   "metadata": {},
   "outputs": [],
   "source": [
    "class_weights.shape"
   ]
  },
  {
   "cell_type": "code",
   "execution_count": null,
   "id": "5a3e408d",
   "metadata": {},
   "outputs": [],
   "source": [
    "#     clf_XGB2 = XGBClassifier(**add_clf_creopts)\n",
    "#     clf_XGB2.fit(X, y, **add_fitopts,sample_weight=class_weights)\n"
   ]
  },
  {
   "cell_type": "code",
   "execution_count": null,
   "id": "744f96c5",
   "metadata": {},
   "outputs": [],
   "source": [
    "y_train"
   ]
  },
  {
   "cell_type": "code",
   "execution_count": null,
   "id": "7b0df39b",
   "metadata": {},
   "outputs": [],
   "source": [
    "X_train_r.shape"
   ]
  },
  {
   "cell_type": "code",
   "execution_count": null,
   "id": "970e62c8",
   "metadata": {},
   "outputs": [],
   "source": []
  },
  {
   "cell_type": "code",
   "execution_count": null,
   "id": "e174a43d",
   "metadata": {},
   "outputs": [],
   "source": []
  },
  {
   "cell_type": "code",
   "execution_count": null,
   "id": "e6a3e2a2",
   "metadata": {},
   "outputs": [],
   "source": [
    "explanation"
   ]
  },
  {
   "cell_type": "code",
   "execution_count": null,
   "id": "b50ca36d",
   "metadata": {},
   "outputs": [],
   "source": [
    "explanation[0]"
   ]
  },
  {
   "cell_type": "code",
   "execution_count": null,
   "id": "9e66322b",
   "metadata": {},
   "outputs": [],
   "source": [
    "base.print(p)"
   ]
  },
  {
   "cell_type": "code",
   "execution_count": null,
   "id": "6e3863ac",
   "metadata": {},
   "outputs": [],
   "source": [
    "base.print(explanation)"
   ]
  },
  {
   "cell_type": "code",
   "execution_count": null,
   "id": "3b0dc3e0",
   "metadata": {},
   "outputs": [],
   "source": [
    "ggplot2 = importr('ggplot2')\n",
    "ggplot2.plot(explanation)"
   ]
  },
  {
   "cell_type": "code",
   "execution_count": null,
   "id": "e7ac3bd0",
   "metadata": {},
   "outputs": [],
   "source": [
    "library(xgboost)\n",
    "library(shapr)\n",
    "\n",
    "data(\"Boston\", package = \"MASS\")\n",
    "\n",
    "x_var <- c(\"lstat\", \"rm\", \"dis\", \"indus\")\n",
    "y_var <- \"medv\"\n",
    "\n",
    "ind_x_test <- 1:6\n",
    "x_train <- as.matrix(Boston[-ind_x_test, x_var])\n",
    "y_train <- Boston[-ind_x_test, y_var]\n",
    "x_test <- as.matrix(Boston[ind_x_test, x_var])\n",
    "\n",
    "# Looking at the dependence between the features\n",
    "cor(x_train)\n",
    "#>            lstat         rm        dis      indus\n",
    "#> lstat  1.0000000 -0.6108040 -0.4928126  0.5986263\n",
    "#> rm    -0.6108040  1.0000000  0.1999130 -0.3870571\n",
    "#> dis   -0.4928126  0.1999130  1.0000000 -0.7060903\n",
    "#> indus  0.5986263 -0.3870571 -0.7060903  1.0000000\n",
    "\n",
    "# Fitting a basic xgboost model to the training data\n",
    "model <- xgboost(\n",
    "  data = x_train,\n",
    "  label = y_train,\n",
    "  nround = 20,\n",
    "  verbose = FALSE\n",
    ")"
   ]
  }
 ],
 "metadata": {
  "kernelspec": {
   "display_name": "Python 3",
   "language": "python",
   "name": "python3"
  },
  "language_info": {
   "codemirror_mode": {
    "name": "ipython",
    "version": 3
   },
   "file_extension": ".py",
   "mimetype": "text/x-python",
   "name": "python",
   "nbconvert_exporter": "python",
   "pygments_lexer": "ipython3",
   "version": "3.8.10"
  }
 },
 "nbformat": 4,
 "nbformat_minor": 5
}
