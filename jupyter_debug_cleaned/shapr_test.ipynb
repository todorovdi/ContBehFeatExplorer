{
 "cells": [
  {
   "cell_type": "code",
   "execution_count": null,
   "id": "896a06be",
   "metadata": {},
   "outputs": [],
   "source": [
    "y_train"
   ]
  },
  {
   "cell_type": "code",
   "execution_count": null,
   "id": "29a6e407",
   "metadata": {},
   "outputs": [],
   "source": [
    "library(xgboost)\n",
    "library(shapr)\n",
    "\n",
    "data(\"Boston\", package = \"MASS\")\n",
    "\n",
    "x_var <- c(\"lstat\", \"rm\", \"dis\", \"indus\")\n",
    "y_var <- \"medv\"\n",
    "\n",
    "ind_x_test <- 1:6\n",
    "x_train <- as.matrix(Boston[-ind_x_test, x_var])\n",
    "y_train <- Boston[-ind_x_test, y_var]\n",
    "x_test <- as.matrix(Boston[ind_x_test, x_var])\n",
    "\n",
    "# Looking at the dependence between the features\n",
    "cor(x_train)\n",
    "#>            lstat         rm        dis      indus\n",
    "#> lstat  1.0000000 -0.6108040 -0.4928126  0.5986263\n",
    "#> rm    -0.6108040  1.0000000  0.1999130 -0.3870571\n",
    "#> dis   -0.4928126  0.1999130  1.0000000 -0.7060903\n",
    "#> indus  0.5986263 -0.3870571 -0.7060903  1.0000000\n",
    "\n",
    "# Fitting a basic xgboost model to the training data\n",
    "model <- xgboost(\n",
    "  data = x_train,\n",
    "  label = y_train,\n",
    "  nround = 20,\n",
    "  verbose = FALSE\n",
    ")"
   ]
  },
  {
   "cell_type": "code",
   "execution_count": null,
   "id": "7dfa6d2c",
   "metadata": {},
   "outputs": [],
   "source": [
    "# Prepare the data for explanation\n",
    "explainer <- shapr(x_train, model)\n",
    "#> The specified model provides feature classes that are NA. The classes of data are taken as the truth.\n",
    "\n",
    "# Specifying the phi_0, i.e. the expected prediction without any features\n",
    "p <- mean(y_train)\n",
    "\n",
    "# Computing the actual Shapley values with kernelSHAP accounting for feature dependence using\n",
    "# the empirical (conditional) distribution approach with bandwidth parameter sigma = 0.1 (default)\n",
    "explanation <- explain(\n",
    "  x_test,\n",
    "  approach = \"empirical\",\n",
    "  explainer = explainer,\n",
    "  prediction_zero = p\n",
    ")\n",
    "\n",
    "# Printing the Shapley values for the test data.\n",
    "# For more information about the interpretation of the values in the table, see ?shapr::explain.\n",
    "print(explanation$dt)\n",
    "#>      none     lstat         rm       dis      indus\n",
    "#> 1: 22.446 5.2632030 -1.2526613 0.2920444  4.5528644\n",
    "#> 2: 22.446 0.1671901 -0.7088401 0.9689005  0.3786871\n",
    "#> 3: 22.446 5.9888022  5.5450858 0.5660134 -1.4304351\n",
    "#> 4: 22.446 8.2142204  0.7507572 0.1893366  1.8298304\n",
    "#> 5: 22.446 0.5059898  5.6875103 0.8432238  2.2471150\n",
    "#> 6: 22.446 1.9929673 -3.6001958 0.8601984  3.1510531\n",
    "\n",
    "# Finally we plot the resulting explanations\n",
    "plot(explanation)"
   ]
  },
  {
   "cell_type": "code",
   "execution_count": null,
   "id": "81a5a1a9",
   "metadata": {},
   "outputs": [],
   "source": [
    "group <- list(A = c(\"lstat\", \"rm\"), B = c(\"dis\", \"indus\"))\n",
    "explainer_group <- shapr(x_train, model, group = group)\n",
    "explain_groups <- explain(\n",
    " x_test,\n",
    " explainer_group,\n",
    " approach = \"empirical\",\n",
    " prediction_zero = p,\n",
    " n_samples = 1e2\n",
    ")\n",
    "print(explain_groups$dt)"
   ]
  },
  {
   "cell_type": "code",
   "execution_count": null,
   "id": "66e07cbc",
   "metadata": {},
   "outputs": [],
   "source": []
  },
  {
   "cell_type": "code",
   "execution_count": null,
   "id": "eab4ffdc",
   "metadata": {},
   "outputs": [],
   "source": [
    "# if you condition on 2-5 features, and ‘\"copula\"’ version if you\n",
    "#      condition on more than 5 features this can be done by simply\n",
    "#      passing ‘approach = c(\"gaussian\", rep(\"empirical\", 4),\n",
    "#      rep(\"copula\", 5))’. If ‘\"approach[i]\" = \"gaussian\"’ means that\n",
    "#      you'd like to use the ‘\"gaussian\"’ approach when conditioning on\n",
    "#      ‘i’ features."
   ]
  },
  {
   "cell_type": "code",
   "execution_count": null,
   "id": "75169510",
   "metadata": {},
   "outputs": [],
   "source": [
    "?shapr::shapr"
   ]
  },
  {
   "cell_type": "code",
   "execution_count": null,
   "id": "fe70095f",
   "metadata": {},
   "outputs": [],
   "source": [
    "?shapr::explain"
   ]
  },
  {
   "cell_type": "code",
   "execution_count": null,
   "id": "6f2af36c",
   "metadata": {},
   "outputs": [],
   "source": [
    "??shapr"
   ]
  },
  {
   "cell_type": "markdown",
   "id": "42f06a34",
   "metadata": {},
   "source": [
    "# XGB"
   ]
  },
  {
   "cell_type": "code",
   "execution_count": null,
   "id": "21dd50eb",
   "metadata": {},
   "outputs": [],
   "source": [
    "lb"
   ]
  },
  {
   "cell_type": "code",
   "execution_count": null,
   "id": "f8f23397",
   "metadata": {},
   "outputs": [],
   "source": [
    "num_class"
   ]
  },
  {
   "cell_type": "code",
   "execution_count": null,
   "id": "0a57c7f6",
   "metadata": {},
   "outputs": [],
   "source": [
    "lb <- as.numeric(iris$Species) - 1\n",
    "num_class <- 3\n",
    "set.seed(11)\n",
    "bst <- xgboost(data = as.matrix(iris[, -5]), label = lb,\n",
    "max_depth = 4, eta = 0.5, nthread = 2, nrounds = 10, subsample = 0.5,\n",
    "objective = \"multi:softprob\", num_class = num_class)\n",
    "# predict for softmax returns num_class probability numbers per case:\n",
    "pred <- predict(bst, as.matrix(iris[, -5]))\n",
    "str(pred)\n",
    "# reshape it to a num_class-columns matrix\n",
    "pred <- matrix(pred, ncol=num_class, byrow=TRUE)\n",
    "# convert the probabilities to softmax labels\n",
    "pred_labels <- max.col(pred) - 1\n",
    "# the following should result in the same error as seen in the last iteration\n",
    "sum(pred_labels != lb)/length(lb)\n",
    "# compare that to the predictions from softmax:\n",
    "set.seed(11)\n",
    "bst <- xgboost(data = as.matrix(iris[, -5]), label = lb,\n",
    "max_depth = 4, eta = 0.5, nthread = 2, nrounds = 10, subsample = 0.5,\n",
    "objective = \"multi:softmax\", num_class = num_class)\n",
    "pred <- predict(bst, as.matrix(iris[, -5]))\n",
    "str(pred)\n",
    "all.equal(pred, pred_labels)\n",
    "# prediction from using only 5 iterations should result\n",
    "# in the same error as seen in iteration 5:\n",
    "pred5 <- predict(bst, as.matrix(iris[, -5]), ntreelimit=5)\n",
    "sum(pred5 != lb)/length(lb)"
   ]
  },
  {
   "cell_type": "code",
   "execution_count": null,
   "id": "2a9360da",
   "metadata": {},
   "outputs": [],
   "source": [
    "? shapr"
   ]
  }
 ],
 "metadata": {
  "kernelspec": {
   "display_name": "R",
   "language": "R",
   "name": "ir"
  },
  "language_info": {
   "codemirror_mode": "r",
   "file_extension": ".r",
   "mimetype": "text/x-r-source",
   "name": "R",
   "pygments_lexer": "r",
   "version": "4.1.1"
  }
 },
 "nbformat": 4,
 "nbformat_minor": 5
}
