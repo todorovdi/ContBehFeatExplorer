{
 "cells": [
  {
   "cell_type": "code",
   "execution_count": null,
   "id": "30b44e17",
   "metadata": {},
   "outputs": [],
   "source": [
    "import os,sys\n",
    "import mne\n",
    "import utils  #my code\n",
    "import json\n",
    "import matplotlib.pyplot as plt\n",
    "import numpy as np\n",
    "import globvars as gv\n",
    "\n",
    "%load_ext autoreload\n",
    "%autoreload 2"
   ]
  },
  {
   "cell_type": "code",
   "execution_count": null,
   "id": "2435dc14",
   "metadata": {},
   "outputs": [],
   "source": [
    "%run ../run/resave.py -r S01_off_hold --recalc_LFPEMG 0 --exit_after MEG_artif_calc"
   ]
  },
  {
   "cell_type": "code",
   "execution_count": null,
   "id": "447c5b60",
   "metadata": {},
   "outputs": [],
   "source": [
    "badchlist = upre.loadBadChannelList(fname_noext, raw.ch_names)\n",
    "raw.info['bads'] = badchlist\n",
    "print('bad channels (provided by Jan) are ',badchlist)\n",
    "\n",
    "\n",
    "\n",
    "anns_MEG_artif, cvl_per_side = utils.findRawArtifacts(raw , thr_mult = MEG_artif_thr_mult,\n",
    "    thr_use_mean = MEG_thr_use_mean)\n"
   ]
  },
  {
   "cell_type": "code",
   "execution_count": null,
   "id": "672b35f8",
   "metadata": {},
   "outputs": [],
   "source": [
    "anns_MEG_artif"
   ]
  },
  {
   "cell_type": "code",
   "execution_count": null,
   "id": "a87afa1e",
   "metadata": {},
   "outputs": [],
   "source": [
    "anns_MEG_artif + anns_MEG_artif"
   ]
  },
  {
   "cell_type": "code",
   "execution_count": null,
   "id": "6a50ec7e",
   "metadata": {},
   "outputs": [],
   "source": [
    "pdrop1 = {'a1':3, 'a2':4, 'type':1}\n",
    "pdrop2 = {'a1':100, 'a2':50, 'type':2}\n",
    "\n",
    "pdrops = [pdrop1,pdrop2]\n",
    "\n",
    "rows = []\n",
    "for pdrop in pdrops:\n",
    "    for k,v in pdrop.items():\n",
    "        if k == 'type':\n",
    "            continue\n",
    "        rows += [{'name':k, 'val':v, 'type':pdrop['type']}]\n",
    "import pandas as pd\n",
    "df = pd.DataFrame(rows)\n",
    "\n",
    "r = df.groupby('name').mean().reset_index().sort_values('val').iloc[1]\n",
    "r"
   ]
  },
  {
   "cell_type": "code",
   "execution_count": null,
   "id": "952ba0d1",
   "metadata": {},
   "outputs": [],
   "source": [
    "r['name']"
   ]
  }
 ],
 "metadata": {
  "kernelspec": {
   "display_name": "obddp_upd",
   "language": "python",
   "name": "obddp_upd"
  },
  "language_info": {
   "codemirror_mode": {
    "name": "ipython",
    "version": 3
   },
   "file_extension": ".py",
   "mimetype": "text/x-python",
   "name": "python",
   "nbconvert_exporter": "python",
   "pygments_lexer": "ipython3",
   "version": "3.8.10"
  },
  "latex_envs": {
   "LaTeX_envs_menu_present": true,
   "autoclose": false,
   "autocomplete": true,
   "bibliofile": "biblio.bib",
   "cite_by": "apalike",
   "current_citInitial": 1,
   "eqLabelWithNumbers": true,
   "eqNumInitial": 1,
   "hotkeys": {
    "equation": "Ctrl-E",
    "itemize": "Ctrl-I"
   },
   "labels_anchors": false,
   "latex_user_defs": false,
   "report_style_numbering": false,
   "user_envs_cfg": false
  }
 },
 "nbformat": 4,
 "nbformat_minor": 5
}
