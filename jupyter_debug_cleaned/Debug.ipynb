{
 "cells": [
  {
   "cell_type": "code",
   "execution_count": null,
   "metadata": {},
   "outputs": [],
   "source": [
    "ivalis_artif"
   ]
  },
  {
   "cell_type": "code",
   "execution_count": null,
   "metadata": {},
   "outputs": [],
   "source": [
    "ivalis_artif_tb"
   ]
  },
  {
   "cell_type": "markdown",
   "metadata": {},
   "source": [
    "\n",
    "# traceback catch locals"
   ]
  },
  {
   "cell_type": "code",
   "execution_count": null,
   "metadata": {},
   "outputs": [],
   "source": [
    "q = 11\n",
    "def test(arg):\n",
    "    q = 33\n",
    "    s = 0/0.\n",
    "    return s\n",
    "\n",
    "import sys, traceback\n",
    "\n",
    "try:\n",
    "    test(100)\n",
    "except:\n",
    "    exc_info = sys.exc_info()\n",
    "    exc = traceback.TracebackException(*exc_info, capture_locals=True)\n",
    "    \n",
    "    # exc_info == (ZeroDivisionError, \n",
    "    # ZeroDivisionError('float division by zero'),\n",
    "    # <traceback at 0x7f0183171e00>)\n",
    "    \n",
    "    local_vars_in_fun = exc_info[2].tb_next.tb_frame.f_locals\n",
    "    display(local_vars_in_fun)\n",
    "    exc_info[2].tb_lineno # line number, I can also get line number inside function using tb_next.tb_lineno\n",
    "    exc_info[2].tb_lasti # idk what this number means"
   ]
  },
  {
   "cell_type": "code",
   "execution_count": null,
   "metadata": {},
   "outputs": [],
   "source": [
    "exc.__dict__"
   ]
  },
  {
   "cell_type": "code",
   "execution_count": null,
   "metadata": {},
   "outputs": [],
   "source": [
    "exc_info"
   ]
  },
  {
   "cell_type": "code",
   "execution_count": null,
   "metadata": {},
   "outputs": [],
   "source": [
    "exc.stack  # gives strings which identify where in stack the exc happened (inc when in jupyter)"
   ]
  },
  {
   "cell_type": "code",
   "execution_count": null,
   "metadata": {},
   "outputs": [],
   "source": [
    "exc_info[2].tb_next.tb_lineno"
   ]
  },
  {
   "cell_type": "code",
   "execution_count": null,
   "metadata": {},
   "outputs": [],
   "source": [
    "exc.stack[0]"
   ]
  },
  {
   "cell_type": "code",
   "execution_count": null,
   "metadata": {},
   "outputs": [],
   "source": []
  },
  {
   "cell_type": "markdown",
   "metadata": {},
   "source": [
    "# Debug resave"
   ]
  },
  {
   "cell_type": "code",
   "execution_count": null,
   "metadata": {},
   "outputs": [],
   "source": [
    "%load_ext autoreload\n",
    "%autoreload 2\n",
    "\n",
    "#%debug\n",
    "%run ../run/resave.py -r S01_off_hold --read_type 'hires-raw' --to_perform notch"
   ]
  },
  {
   "cell_type": "code",
   "execution_count": null,
   "metadata": {},
   "outputs": [],
   "source": [
    "upre.readInfo(fname_noext, raw, sis=[1,2],\n",
    "             check_info_diff = 1, bandpass_info=0 )\n"
   ]
  },
  {
   "cell_type": "code",
   "execution_count": null,
   "metadata": {},
   "outputs": [],
   "source": [
    "#raw.get_channel_types()"
   ]
  },
  {
   "cell_type": "code",
   "execution_count": null,
   "metadata": {},
   "outputs": [],
   "source": [
    "raw.info['chs']"
   ]
  },
  {
   "cell_type": "code",
   "execution_count": null,
   "metadata": {},
   "outputs": [],
   "source": [
    "    if recalc_artif:\n",
    "        r = upre.recalcMEGArtifacts(fname_noext,\n",
    "            raw, thr_mult=MEG_artif_thr_mult, use_mean=MEG_thr_use_mean,\n",
    "            flt_thr_mult=MEG_flt_artif_thr_mult,\n",
    "            flt_use_mean=MEG_flt_thr_use_mean,\n",
    "            lowest_freq_to_keep=lowest_freq_to_keep,\n",
    "            n_jobs=n_jobs, raw_flt = None, raw_notched = raw_notched,\n",
    "            savedir=data_dir_input, notch_freqsToKill=freqsToKill )\n",
    "        anns_MEG_artif, anns_MEG_artif_flt, anns_icaMEG_artif, anns_MEG_artif_muscle  = r\n",
    "\n",
    "    raw = raw_notched\n",
    "\n"
   ]
  },
  {
   "cell_type": "code",
   "execution_count": null,
   "metadata": {},
   "outputs": [],
   "source": [
    "raw.info['chns']"
   ]
  },
  {
   "cell_type": "markdown",
   "metadata": {
    "heading_collapsed": true
   },
   "source": [
    "# Debug artifacts and filtering"
   ]
  },
  {
   "cell_type": "code",
   "execution_count": null,
   "metadata": {
    "hidden": true
   },
   "outputs": [],
   "source": [
    "sfreq_hires = 2000\n",
    "#sfreq = 256\n",
    "sfreq = 250\n",
    "duration = 10\n",
    "artif = [3,4]\n",
    "noise_size = 1e-10\n",
    "\n",
    "times = np.arange(0,duration,1/sfreq_hires)\n",
    "dat = np.random.uniform(low=-1,high=1,size=(1,len(times))) * noise_size\n",
    "dat[0,artif[0]*sfreq_hires:artif[1]*sfreq_hires] += 20\n",
    "\n",
    "plt.plot(times,dat[0])"
   ]
  },
  {
   "cell_type": "code",
   "execution_count": null,
   "metadata": {
    "hidden": true
   },
   "outputs": [],
   "source": [
    "new_info = mne.create_info(\n",
    "    ch_names=['EEG1'],\n",
    "    ch_types=['eeg'],\n",
    "    sfreq=sfreq_hires)\n",
    "\n",
    "raw = mne.io.RawArray(dat/1e6, new_info)"
   ]
  },
  {
   "cell_type": "code",
   "execution_count": null,
   "metadata": {
    "hidden": true
   },
   "outputs": [],
   "source": []
  },
  {
   "cell_type": "code",
   "execution_count": null,
   "metadata": {
    "hidden": true
   },
   "outputs": [],
   "source": [
    "%matplotlib qt"
   ]
  },
  {
   "cell_type": "code",
   "execution_count": null,
   "metadata": {
    "hidden": true
   },
   "outputs": [],
   "source": [
    "raw.plot();"
   ]
  },
  {
   "cell_type": "code",
   "execution_count": null,
   "metadata": {
    "hidden": true
   },
   "outputs": [],
   "source": [
    "raw_resampled = raw.copy()"
   ]
  },
  {
   "cell_type": "code",
   "execution_count": null,
   "metadata": {
    "hidden": true
   },
   "outputs": [],
   "source": [
    "raw_resampled.resample(sfreq)"
   ]
  },
  {
   "cell_type": "code",
   "execution_count": null,
   "metadata": {
    "hidden": true
   },
   "outputs": [],
   "source": [
    "raw_resampled.plot();"
   ]
  },
  {
   "cell_type": "code",
   "execution_count": null,
   "metadata": {
    "hidden": true
   },
   "outputs": [],
   "source": [
    "help(raw_resampled.resample)"
   ]
  },
  {
   "cell_type": "code",
   "execution_count": null,
   "metadata": {
    "hidden": true
   },
   "outputs": [],
   "source": []
  },
  {
   "cell_type": "markdown",
   "metadata": {
    "heading_collapsed": true
   },
   "source": [
    "# Debug artifact & movement collection (to be used for source reconstruction)"
   ]
  },
  {
   "cell_type": "code",
   "execution_count": null,
   "metadata": {
    "hidden": true
   },
   "outputs": [],
   "source": [
    "duration = 40\n",
    "sfreq = 256\n",
    "\n",
    "\n",
    "                    \n",
    "bins = fillBinsFromAnns([anns, anns2], duration, sfreq)"
   ]
  },
  {
   "cell_type": "code",
   "execution_count": null,
   "metadata": {
    "hidden": true
   },
   "outputs": [],
   "source": [
    "cvlskip,pairs = utils.getIntervals(bininds=None,width=0,percentthr=1,inc=1,minlen=2,cvl=bins,\n",
    "                   min_dist_between=1,include_short_spikes=1)"
   ]
  },
  {
   "cell_type": "code",
   "execution_count": null,
   "metadata": {
    "hidden": true
   },
   "outputs": [],
   "source": [
    "for s,e in pairs:\n",
    "    ss,ee = s/sfreq,e/sfreq\n",
    "    print(ss,ee)"
   ]
  },
  {
   "cell_type": "code",
   "execution_count": null,
   "metadata": {
    "hidden": true
   },
   "outputs": [],
   "source": [
    "ann_merged= mergeAnns([anns, anns2], duration, sfreq)"
   ]
  },
  {
   "cell_type": "code",
   "execution_count": null,
   "metadata": {
    "hidden": true
   },
   "outputs": [],
   "source": [
    "ann_merged.onset, ann_merged.duration"
   ]
  },
  {
   "cell_type": "code",
   "execution_count": null,
   "metadata": {
    "hidden": true
   },
   "outputs": [],
   "source": [
    "%run -i run_collect_artifacts.py -r S01_off_hold\n"
   ]
  },
  {
   "cell_type": "code",
   "execution_count": null,
   "metadata": {
    "hidden": true
   },
   "outputs": [],
   "source": [
    "ann_list"
   ]
  },
  {
   "cell_type": "code",
   "execution_count": null,
   "metadata": {
    "hidden": true
   },
   "outputs": [],
   "source": [
    "merged_anns"
   ]
  },
  {
   "cell_type": "markdown",
   "metadata": {
    "heading_collapsed": true
   },
   "source": [
    "# Hjorth"
   ]
  },
  {
   "cell_type": "code",
   "execution_count": null,
   "metadata": {
    "hidden": true
   },
   "outputs": [],
   "source": [
    "import numpy as np\n",
    "import utils"
   ]
  },
  {
   "cell_type": "code",
   "execution_count": null,
   "metadata": {
    "hidden": true
   },
   "outputs": [],
   "source": [
    "z = np.arange(24)\n",
    "#z   #array([ 0,  1,  2,  3,  4,  5,  6,  7,  8,  9, 10, 11, 12, 13, 14, 15, 16, 17, 18, 19])\n",
    "s = utils.stride(z, (10,), (5,))\n",
    "\n",
    "np.mean(s, axis=1), np.std(s, axis=1)  # array([ 3.,  5.,  7.,  9., 11., 13., 15.])"
   ]
  },
  {
   "cell_type": "code",
   "execution_count": null,
   "metadata": {
    "hidden": true
   },
   "outputs": [],
   "source": [
    "ss.shape"
   ]
  },
  {
   "cell_type": "code",
   "execution_count": null,
   "metadata": {
    "hidden": true
   },
   "outputs": [],
   "source": [
    "zz = np.vstack( [np.arange(24), np.arange(24)] )\n",
    "#z   #array([ 0,  1,  2,  3,  4,  5,  6,  7,  8,  9, 10, 11, 12, 13, 14, 15, 16, 17, 18, 19])\n",
    "ss = stride(zz, (1,3,), (1,2,))\n",
    "\n",
    "np.sum(ss, axis=-1), np.var(ss, axis=-1, ddof=1)  # array([ 3.,  5.,  7.,  9., 11., 13., 15.])"
   ]
  },
  {
   "cell_type": "code",
   "execution_count": null,
   "metadata": {
    "hidden": true
   },
   "outputs": [],
   "source": [
    "import pandas as pd\n",
    "pd.Series(zz[0]).rolling(3).var()"
   ]
  },
  {
   "cell_type": "code",
   "execution_count": null,
   "metadata": {
    "hidden": true
   },
   "outputs": [],
   "source": [
    "\n",
    "#I failed to point out that you can create an output that you could append as a column into pandas. Going back to the original definitions used above\n",
    "\n",
    "nans = np.full_like(z, np.nan, dtype='float')  # z is the 20 number sequence\n",
    "means = np.mean(s, axis=1)   # results from the strided mean\n",
    "# assign the means to the output array skipping the first and last 3 and striding by 2\n",
    "\n",
    "nans[3:-3:2] = means        \n",
    "\n",
    "nans # array([nan, nan, nan,  3., nan,  5., nan,  7., nan,  9., nan, 11., nan, 13., nan, 15., nan, nan, nan, nan])"
   ]
  },
  {
   "cell_type": "code",
   "execution_count": null,
   "metadata": {
    "hidden": true
   },
   "outputs": [],
   "source": []
  },
  {
   "cell_type": "code",
   "execution_count": null,
   "metadata": {
    "hidden": true
   },
   "outputs": [],
   "source": [
    "windowsz = 256\n",
    "nbins = windowsz * 7\n",
    "skip = 16\n",
    "dt = 1/256\n",
    "\n",
    "windowsz = 3\n",
    "nbins = windowsz * 3 + 3\n",
    "skip = 2\n",
    "dt = 1\n",
    "\n",
    "#dat = np.vstack( [np.arange(nbins), np.arange(nbins)] )\n",
    "dat = np.random.uniform( size = (2,nbins) )"
   ]
  },
  {
   "cell_type": "code",
   "execution_count": null,
   "metadata": {
    "hidden": true
   },
   "outputs": [],
   "source": [
    "import utils\n",
    "#%debug\n",
    "act,mob,compl    = utils.Hjorth(dat,dt, windowsz, skip, stride_ver= True)\n",
    "act2,mob2,compl2 = utils.Hjorth(dat,dt, windowsz, skip, stride_ver= False)\n",
    "print( act.shape, mob.shape)"
   ]
  },
  {
   "cell_type": "code",
   "execution_count": null,
   "metadata": {
    "hidden": true
   },
   "outputs": [],
   "source": [
    "act-act2"
   ]
  },
  {
   "cell_type": "code",
   "execution_count": null,
   "metadata": {
    "hidden": true
   },
   "outputs": [],
   "source": [
    "mob-mob2"
   ]
  },
  {
   "cell_type": "code",
   "execution_count": null,
   "metadata": {
    "hidden": true
   },
   "outputs": [],
   "source": [
    "compl-compl2"
   ]
  },
  {
   "cell_type": "code",
   "execution_count": null,
   "metadata": {
    "hidden": true
   },
   "outputs": [],
   "source": [
    "dat.shape"
   ]
  },
  {
   "cell_type": "code",
   "execution_count": null,
   "metadata": {
    "hidden": true
   },
   "outputs": [],
   "source": [
    "window = (1,256); step = (1,32)"
   ]
  },
  {
   "cell_type": "code",
   "execution_count": null,
   "metadata": {
    "hidden": true
   },
   "outputs": [],
   "source": [
    "np.aran"
   ]
  },
  {
   "cell_type": "code",
   "execution_count": null,
   "metadata": {
    "hidden": true
   },
   "outputs": [],
   "source": [
    "dat.shape[-1] // skip"
   ]
  },
  {
   "cell_type": "code",
   "execution_count": null,
   "metadata": {
    "hidden": true
   },
   "outputs": [],
   "source": [
    "(dat.shape[-1] - windowsz) // skip + 1"
   ]
  },
  {
   "cell_type": "code",
   "execution_count": null,
   "metadata": {
    "hidden": true
   },
   "outputs": [],
   "source": [
    "(ext.shape[-1] - windowsz) // skip + 1"
   ]
  },
  {
   "cell_type": "code",
   "execution_count": null,
   "metadata": {
    "hidden": true
   },
   "outputs": [],
   "source": [
    "tuple( ( np.array(dat.shape) - np.array(window) ) // np.array(step) + 1) + window"
   ]
  },
  {
   "cell_type": "code",
   "execution_count": null,
   "metadata": {
    "hidden": true
   },
   "outputs": [],
   "source": [
    "ext = np.pad(dat,[(0,0),(windowsz - skip,0)],mode='edge')\n",
    "ext.shape"
   ]
  },
  {
   "cell_type": "code",
   "execution_count": null,
   "metadata": {
    "hidden": true
   },
   "outputs": [],
   "source": []
  },
  {
   "cell_type": "code",
   "execution_count": null,
   "metadata": {
    "hidden": true
   },
   "outputs": [],
   "source": [
    "act2.shape, mob2.shape"
   ]
  },
  {
   "cell_type": "code",
   "execution_count": null,
   "metadata": {
    "hidden": true
   },
   "outputs": [],
   "source": [
    "256 * 10    / 256 * (256/32)"
   ]
  },
  {
   "cell_type": "code",
   "execution_count": null,
   "metadata": {
    "hidden": true
   },
   "outputs": [],
   "source": [
    "#del utils\n",
    "import importlib as il\n",
    "il.reload(utils)\n",
    "import utils"
   ]
  },
  {
   "cell_type": "code",
   "execution_count": null,
   "metadata": {
    "hidden": true
   },
   "outputs": [],
   "source": [
    "%load_ext autoreload\n",
    "%autoreload 2"
   ]
  },
  {
   "cell_type": "code",
   "execution_count": null,
   "metadata": {
    "hidden": true
   },
   "outputs": [],
   "source": [
    "sfreq = 256\n",
    "sfreq = 512\n",
    "#sfreq = 1024\n",
    "\n",
    "#wsz = int( 1 * sfreq )\n",
    "freqs,n_cycles,Ws,wsz = utils.prepFreqs(min_freq = 3, max_freq = 31, frmults=[1,1,1],\n",
    "                                       sfreq=sfreq)\n",
    "skip=32\n",
    "durs = np.array([1.5, 5, 7])\n",
    "#durs += 14/sfreq\n",
    "dats_test = len(durs) * [0]\n",
    "for duri,dur in enumerate(durs):\n",
    "    durbin = int(dur*sfreq)\n",
    "    #dats_test[duri] = np.vstack( [np.arange(durbin), np.arange(durbin)] )\n",
    "    cur = np.vstack( [np.ones(durbin), np.ones(durbin)] )\n",
    "    cur[:,::2] = 0\n",
    "    dats_test[duri] = cur * 1000\n",
    "    \n",
    "\n",
    "tfrres_pri = len(durs)*[0]\n",
    "h_pri= len(durs) * [0]\n",
    "wsz"
   ]
  },
  {
   "cell_type": "code",
   "execution_count": null,
   "metadata": {
    "hidden": true
   },
   "outputs": [],
   "source": [
    "wsz"
   ]
  },
  {
   "cell_type": "code",
   "execution_count": null,
   "metadata": {
    "hidden": true
   },
   "outputs": [],
   "source": [
    "#%debug\n",
    "for dati,dat_test in enumerate(dats_test):\n",
    "    print(dati,durs[dati], durs[dati]*sfreq, (durs[dati]*sfreq)//skip)\n",
    "    tfrres_pri[dati] = utils.tfr(dat_test,sfreq,freqs,n_cycles,wsz,decim=skip)\n",
    "    \n",
    "    h_pri[dati] = utils.Hjorth(dat_test,1/sfreq,wsz, skip, remove_invalid=True)"
   ]
  },
  {
   "cell_type": "code",
   "execution_count": null,
   "metadata": {
    "hidden": true
   },
   "outputs": [],
   "source": []
  },
  {
   "cell_type": "code",
   "execution_count": null,
   "metadata": {
    "hidden": true
   },
   "outputs": [],
   "source": [
    "for dati,dat_test in enumerate(dats_test):\n",
    "    print(dati,durs[dati],durs[dati]*sfreq,\n",
    "          h_pri[dati][0].shape[-1], h_pri[dati][1].shape[-1],\n",
    "          tfrres_pri[dati][0].shape[-1],tfrres_pri[dati][1].shape[-1])"
   ]
  },
  {
   "cell_type": "code",
   "execution_count": null,
   "metadata": {
    "hidden": true
   },
   "outputs": [],
   "source": [
    "dati = 0\n",
    "wbd_H = h_pri[dati][-1]\n",
    "wbd_tfr = tfrres_pri[dati][1]"
   ]
  },
  {
   "cell_type": "code",
   "execution_count": null,
   "metadata": {
    "hidden": true
   },
   "outputs": [],
   "source": [
    "wbd_H[0], wbd_H[1]"
   ]
  },
  {
   "cell_type": "code",
   "execution_count": null,
   "metadata": {
    "hidden": true
   },
   "outputs": [],
   "source": [
    "wbd_H"
   ]
  },
  {
   "cell_type": "code",
   "execution_count": null,
   "metadata": {
    "hidden": true
   },
   "outputs": [],
   "source": [
    "wbd_tfr[0], wbd_tfr[1]"
   ]
  },
  {
   "cell_type": "code",
   "execution_count": null,
   "metadata": {
    "hidden": true
   },
   "outputs": [],
   "source": [
    "windowsz/sfreq"
   ]
  },
  {
   "cell_type": "code",
   "execution_count": null,
   "metadata": {
    "hidden": true
   },
   "outputs": [],
   "source": [
    "dats_test[0].shape"
   ]
  },
  {
   "cell_type": "code",
   "execution_count": null,
   "metadata": {
    "hidden": true
   },
   "outputs": [],
   "source": [
    "768 // skip"
   ]
  },
  {
   "cell_type": "code",
   "execution_count": null,
   "metadata": {
    "hidden": true
   },
   "outputs": [],
   "source": [
    "np.max( [ np.max( [len(w) for w in ww] ) for ww in Ws ] )\n"
   ]
  },
  {
   "cell_type": "code",
   "execution_count": null,
   "metadata": {
    "hidden": true
   },
   "outputs": [],
   "source": [
    "wsz//skip"
   ]
  },
  {
   "cell_type": "code",
   "execution_count": null,
   "metadata": {
    "hidden": true
   },
   "outputs": [],
   "source": [
    "ndb = 8192\n",
    "wsz = 256\n",
    "skip =32\n",
    "padlen = wsz - skip\n",
    "pred = np.arange(ndb + padlen)\n",
    "wnds = utils.stride(pred, (wsz,), (skip,) )\n",
    "dd = np.vstack([pred,pred])\n",
    "#wnds = utils.stride(dd, (1,wsz), (1,skip) )\n",
    "wbds = np.vstack([ wnds[:,0],wnds[:,-1] ] )\n",
    "\n",
    "a,m,c,wbds_H = utils.Hjorth(dd,1/sfreq,wsz, skip, remove_invalid=True)\n",
    "\n",
    "print( wnds.shape,  wbds.shape, wsz//skip )"
   ]
  },
  {
   "cell_type": "code",
   "execution_count": null,
   "metadata": {
    "hidden": true
   },
   "outputs": [],
   "source": [
    "wbds_H"
   ]
  },
  {
   "cell_type": "code",
   "execution_count": null,
   "metadata": {
    "hidden": true
   },
   "outputs": [],
   "source": [
    "wbds"
   ]
  },
  {
   "cell_type": "code",
   "execution_count": null,
   "metadata": {
    "hidden": true
   },
   "outputs": [],
   "source": [
    "wbds[0,16:].shape"
   ]
  },
  {
   "cell_type": "code",
   "execution_count": null,
   "metadata": {
    "hidden": true
   },
   "outputs": [],
   "source": [
    "wbds"
   ]
  },
  {
   "cell_type": "code",
   "execution_count": null,
   "metadata": {
    "hidden": true
   },
   "outputs": [],
   "source": [
    "windowsz"
   ]
  },
  {
   "cell_type": "code",
   "execution_count": null,
   "metadata": {
    "hidden": true
   },
   "outputs": [],
   "source": [
    "np.arange(0, 768 - wsz, skip)"
   ]
  },
  {
   "cell_type": "code",
   "execution_count": null,
   "metadata": {
    "hidden": true
   },
   "outputs": [],
   "source": [
    "tfr,wbd = tfrres_pri[0]\n",
    "act,mob,compl,wbdh = h_pri[0]"
   ]
  },
  {
   "cell_type": "code",
   "execution_count": null,
   "metadata": {
    "hidden": true
   },
   "outputs": [],
   "source": [
    "wbd, tfr.shape"
   ]
  },
  {
   "cell_type": "code",
   "execution_count": null,
   "metadata": {
    "hidden": true
   },
   "outputs": [],
   "source": [
    "wbdh, act.shape"
   ]
  },
  {
   "cell_type": "code",
   "execution_count": null,
   "metadata": {
    "hidden": true
   },
   "outputs": [],
   "source": [
    "wbd.shape"
   ]
  },
  {
   "cell_type": "code",
   "execution_count": null,
   "metadata": {
    "hidden": true
   },
   "outputs": [],
   "source": [
    "tfr.shape"
   ]
  },
  {
   "cell_type": "code",
   "execution_count": null,
   "metadata": {
    "hidden": true
   },
   "outputs": [],
   "source": [
    "tfrres_pri[0].shape"
   ]
  },
  {
   "cell_type": "code",
   "execution_count": null,
   "metadata": {
    "hidden": true
   },
   "outputs": [],
   "source": [
    "\n",
    "n_times = tfrres_pri[0].shape[-1]\n",
    "wsz = sfreq\n",
    "startind = (n_times + wsz - 1 -  n_times) // 2 # == (wsz - 1) // 2\n",
    "endind = startind + n_times\n",
    "#and then we decimate\n",
    "startind,endind"
   ]
  },
  {
   "cell_type": "code",
   "execution_count": null,
   "metadata": {
    "hidden": true
   },
   "outputs": [],
   "source": [
    "durs[0]*sfreq / skip"
   ]
  },
  {
   "cell_type": "code",
   "execution_count": null,
   "metadata": {
    "hidden": true
   },
   "outputs": [],
   "source": [
    "m = 2\n",
    "freqs,n_cycles = utils.prepFreqs(frmults=[m,m,m])\n",
    "\n",
    "sfreq = 256\n",
    "Ws = mne.time_frequency.tfr._make_dpss(sfreq, freqs, n_cycles=n_cycles,\n",
    "                        time_bandwidth=4, zero_mean=False)\n",
    "lens = []\n",
    "for ww in Ws:\n",
    "    for w in ww:\n",
    "        lens += [len(w)]\n",
    "ulens = np.unique(lens)\n",
    "ulensl = len( ulens )\n",
    "assert ulensl == 1, ulens\n",
    "print(ulens[0])"
   ]
  },
  {
   "cell_type": "code",
   "execution_count": null,
   "metadata": {
    "hidden": true
   },
   "outputs": [],
   "source": [
    "Wmor = mne.time_frequency.tfr.morlet(sfreq, freqs, n_cycles=n_cycles, zero_mean=False)\n",
    "Ws_mor = [Wmor]"
   ]
  },
  {
   "cell_type": "code",
   "execution_count": null,
   "metadata": {
    "hidden": true
   },
   "outputs": [],
   "source": []
  },
  {
   "cell_type": "code",
   "execution_count": null,
   "metadata": {
    "hidden": true
   },
   "outputs": [],
   "source": [
    "#list (ntapers) of lists (nfreqs)"
   ]
  },
  {
   "cell_type": "code",
   "execution_count": null,
   "metadata": {
    "hidden": true
   },
   "outputs": [],
   "source": [
    "sfreq * 1.5"
   ]
  },
  {
   "cell_type": "code",
   "execution_count": null,
   "metadata": {
    "hidden": true
   },
   "outputs": [],
   "source": [
    "freqs"
   ]
  },
  {
   "cell_type": "code",
   "execution_count": null,
   "metadata": {
    "hidden": true
   },
   "outputs": [],
   "source": [
    "for ww in Ws:\n",
    "    print('---')\n",
    "    for w in ww:\n",
    "        print(len(w))"
   ]
  },
  {
   "cell_type": "code",
   "execution_count": null,
   "metadata": {
    "hidden": true
   },
   "outputs": [],
   "source": [
    "for ww in Ws_mor:\n",
    "    print('---')\n",
    "    for w in ww:\n",
    "        print(len(w))"
   ]
  },
  {
   "cell_type": "code",
   "execution_count": null,
   "metadata": {
    "hidden": true
   },
   "outputs": [],
   "source": [
    "len(Ws[0]), len(Ws[0][0])"
   ]
  },
  {
   "cell_type": "code",
   "execution_count": null,
   "metadata": {
    "hidden": true
   },
   "outputs": [],
   "source": [
    "wsz = 5\n",
    "second = wsz\n",
    "arr = np.ones(10)\n",
    "res = np.convolve(arr,np.ones(second),mode='same')\n",
    "res_all = np.convolve(arr,np.ones(second),mode='full')\n",
    "print(res_all.shape)\n",
    "display(res_all)\n",
    "\n",
    "#n_full_window_fits = len(arr) - wsz + 1\n",
    "#n_right = wsz - 1\n",
    "#n_left  = wsz - 1\n",
    "#actual_size = len(arr)\n",
    "edgbins_start = second-1-1 # second -1 is because we count from zero\n",
    "edgbins_end = second - edgbins_start \n",
    "print(edgbins_start, edgbins_end)\n",
    "display(res, res[edgbins_start:-edgbins_end])"
   ]
  },
  {
   "cell_type": "code",
   "execution_count": null,
   "metadata": {
    "hidden": true
   },
   "outputs": [],
   "source": [
    "%matplotlib inline"
   ]
  },
  {
   "cell_type": "code",
   "execution_count": null,
   "metadata": {
    "hidden": true
   },
   "outputs": [],
   "source": [
    "help(mne.time_frequency.tfr_array_multitaper)"
   ]
  },
  {
   "cell_type": "code",
   "execution_count": null,
   "metadata": {
    "hidden": true
   },
   "outputs": [],
   "source": [
    "mrks = ['o', '+', '3']\n",
    "# 6 and 4 are right values for 256\n",
    "nedgeBins_start = int(durs[0]*sfreq / skip) // 2\n",
    "nedgeBins_end = int(durs[0]*sfreq / skip) // 2 -1 #- 2\n",
    "\n",
    "# nedgeBins_start += 1\n",
    "# nedgeBins_end   += 1\n",
    "\n",
    "freqi = 4\n",
    "\n",
    "for shft in range(nedgeBins_end):\n",
    "\n",
    "    print(nedgeBins_start, nedgeBins_end)\n",
    "    for duri,dur in enumerate(durs):\n",
    "        dd = tfrres_pri[duri][0,freqi,nedgeBins_start:-nedgeBins_end]\n",
    "        #print(dd.shape)\n",
    "        plt.plot(np.abs( dd ),label='{}'.format(durs[duri]), marker=mrks[duri], lw=0)\n",
    "    plt.legend()\n",
    "    plt.show()\n",
    "    \n",
    "    nedgeBins_start -= 1\n",
    "    nedgeBins_end   -= 1\n",
    "\n",
    "\n",
    "# nedgeBins_start = 6\n",
    "# nedgeBins_end = 3\n",
    "\n"
   ]
  },
  {
   "cell_type": "code",
   "execution_count": null,
   "metadata": {
    "hidden": true
   },
   "outputs": [],
   "source": [
    "os.listdir('params')"
   ]
  },
  {
   "cell_type": "code",
   "execution_count": null,
   "metadata": {
    "hidden": true
   },
   "outputs": [],
   "source": [
    "gv.paramFileRead('params/prep_dat_defparams.ini')"
   ]
  },
  {
   "cell_type": "markdown",
   "metadata": {
    "heading_collapsed": true
   },
   "source": [
    "# prep_dat"
   ]
  },
  {
   "cell_type": "code",
   "execution_count": null,
   "metadata": {
    "hidden": true
   },
   "outputs": [],
   "source": [
    "%load_ext autoreload\n",
    "%autoreload 2\n",
    "\n",
    "#%debug\n",
    "%run -i run_prep_dat.py --sources_type parcel_aal  --src_grouping_fn 10\\\n",
    " --src_grouping 0 \\\n",
    " --rawnames S99_off_hold,S99_off_move,S97_off_move \\\n",
    " --save_dat 1 --save_stats 1 --param_file prep_dat_defparams.ini"
   ]
  },
  {
   "cell_type": "code",
   "execution_count": null,
   "metadata": {
    "hidden": true
   },
   "outputs": [],
   "source": [
    "stats_per_ct"
   ]
  },
  {
   "cell_type": "markdown",
   "metadata": {},
   "source": [
    "# GenFeatures "
   ]
  },
  {
   "cell_type": "code",
   "execution_count": null,
   "metadata": {},
   "outputs": [],
   "source": [
    "%load_ext autoreload\n",
    "%autoreload 2"
   ]
  },
  {
   "cell_type": "markdown",
   "metadata": {},
   "source": [
    "## Test dataset"
   ]
  },
  {
   "cell_type": "code",
   "execution_count": null,
   "metadata": {},
   "outputs": [],
   "source": [
    "[1, 3].index(33)"
   ]
  },
  {
   "cell_type": "code",
   "execution_count": null,
   "metadata": {},
   "outputs": [],
   "source": []
  },
  {
   "cell_type": "code",
   "execution_count": null,
   "metadata": {},
   "outputs": [],
   "source": [
    "import params"
   ]
  },
  {
   "cell_type": "code",
   "execution_count": null,
   "metadata": {},
   "outputs": [],
   "source": [
    "import io"
   ]
  },
  {
   "cell_type": "code",
   "execution_count": null,
   "metadata": {},
   "outputs": [],
   "source": [
    "#fast until the end\n",
    "#%debug\n",
    "%load_ext autoreload\n",
    "%autoreload 2\n",
    "\n",
    "%run -i ../run/run_genfeats.py --sources_type parcel_aal --bands crude\\\n",
    " --src_grouping_fn 10\\\n",
    " --src_grouping 0 \\\n",
    " --raw S97_off_move \\\n",
    " --feat_types con,H_act,H_mob,H_compl,rbcorr\\\n",
    " --Kalman_smooth 1\\\n",
    " --load_TFR 0\\\n",
    " --load_CSD 0\\\n",
    " --save_TFR 0\\\n",
    " --save_CSD 0\\\n",
    " --save_bpcorr 0\\\n",
    " --save_rbcorr 0\\\n",
    " --load_rbcorr 0\\\n",
    " --use_existing_TFR 1\\\n",
    " --use_preloaded_data 1\\\n",
    " --load_only 1\\\n",
    " --show_plots 1\\\n",
    " --plot_types raw_stats_scatter,feat_stats_scatter\\\n",
    " --feat_stats_artif_handling no\\\n",
    " --scale_data_combine_type subj \\\n",
    " --rbcorr_use_local_means 1\\\n",
    " --output_subdir test\\\n",
    " --stats_fn_prefix stats_S97,S99_3_ \\\n",
    " --param_file genfeats_defparams.ini"
   ]
  },
  {
   "cell_type": "code",
   "execution_count": null,
   "metadata": {},
   "outputs": [],
   "source": [
    "newsfo = subfeature_order_pri[0][:2] + subfeature_order_pri[0][20::30]\n",
    "newsfo"
   ]
  },
  {
   "cell_type": "code",
   "execution_count": null,
   "metadata": {},
   "outputs": [],
   "source": []
  },
  {
   "cell_type": "code",
   "execution_count": null,
   "metadata": {},
   "outputs": [],
   "source": [
    "extdat_pri[0].shape"
   ]
  },
  {
   "cell_type": "code",
   "execution_count": null,
   "metadata": {},
   "outputs": [],
   "source": []
  },
  {
   "cell_type": "code",
   "execution_count": null,
   "metadata": {},
   "outputs": [],
   "source": []
  },
  {
   "cell_type": "code",
   "execution_count": null,
   "metadata": {},
   "outputs": [],
   "source": [
    "dat_pri[0].shape"
   ]
  },
  {
   "cell_type": "code",
   "execution_count": null,
   "metadata": {},
   "outputs": [],
   "source": [
    "r = utils.makeSimpleRaw(act_pri[0], ch_names=None, sfreq=sfreq)\n"
   ]
  },
  {
   "cell_type": "code",
   "execution_count": null,
   "metadata": {},
   "outputs": [],
   "source": [
    "%matplotlib qt\n",
    "r.plot(scalings='auto');"
   ]
  },
  {
   "cell_type": "code",
   "execution_count": null,
   "metadata": {},
   "outputs": [],
   "source": [
    "ivalis"
   ]
  },
  {
   "cell_type": "code",
   "execution_count": null,
   "metadata": {},
   "outputs": [],
   "source": [
    "    raw_perband_flt_pri, raw_perband_bp_pri, chnames_perband_flt_pri, chnames_perband_bp_pri  = \\\n",
    "        ugf.bandFilter(rawnames, times_pri, main_sides_pri, side_switched_pri,\n",
    "              sfreqs, skips, dat_pri_persfreq, fband_names_inc_HFO, gv.fband_names_HFO_all,\n",
    "              fbands, n_jobs_flt, subfeature_order, subfeature_order_lfp_hires,\n",
    "              smoothen_bandpow, ann_MEGartif_prefix_to_use)\n"
   ]
  },
  {
   "cell_type": "code",
   "execution_count": null,
   "metadata": {},
   "outputs": [],
   "source": [
    "    recalc_stats_multi_band = 1\n",
    "    if recalc_stats_multi_band:\n",
    "        means_perband_flt_pri,_ = \\\n",
    "        ugf.gatherMultiBandStats(rawnames,raw_perband_flt_pri, times_pri,\n",
    "                                chnames_perband_flt_pri, side_switched_pri, sfreq,\n",
    "                                baseline_int, scale_data_combine_type,\n",
    "                                artif_handling)\n",
    "        means_perband_bp_pri,_ = \\\n",
    "        ugf.gatherMultiBandStats(rawnames,raw_perband_bp_pri, times_pri,\n",
    "                                chnames_perband_bp_pri, side_switched_pri, sfreq,\n",
    "                                baseline_int, scale_data_combine_type,\n",
    "                                artif_handling)\n"
   ]
  },
  {
   "cell_type": "code",
   "execution_count": null,
   "metadata": {},
   "outputs": [],
   "source": [
    "means_perband_flt_pri_ = means_perband_flt_pri\n",
    "means_perband_bp_pri_ = means_perband_bp_pri"
   ]
  },
  {
   "cell_type": "code",
   "execution_count": null,
   "metadata": {},
   "outputs": [],
   "source": []
  },
  {
   "cell_type": "code",
   "execution_count": null,
   "metadata": {},
   "outputs": [],
   "source": [
    "means_perband_flt_pri"
   ]
  },
  {
   "cell_type": "code",
   "execution_count": null,
   "metadata": {},
   "outputs": [],
   "source": [
    "raw_perband_flt_pri[0]"
   ]
  },
  {
   "cell_type": "code",
   "execution_count": null,
   "metadata": {},
   "outputs": [],
   "source": [
    "fband_names_inc_HFO"
   ]
  },
  {
   "cell_type": "code",
   "execution_count": null,
   "metadata": {},
   "outputs": [],
   "source": [
    "newindsets"
   ]
  },
  {
   "cell_type": "code",
   "execution_count": null,
   "metadata": {},
   "outputs": [],
   "source": [
    "indsetis_valid"
   ]
  },
  {
   "cell_type": "code",
   "execution_count": null,
   "metadata": {},
   "outputs": [],
   "source": [
    "dat_cur.dtype"
   ]
  },
  {
   "cell_type": "code",
   "execution_count": null,
   "metadata": {},
   "outputs": [],
   "source": [
    "type(sfreq_cur)"
   ]
  },
  {
   "cell_type": "code",
   "execution_count": null,
   "metadata": {},
   "outputs": [],
   "source": [
    "opsidelet"
   ]
  },
  {
   "cell_type": "code",
   "execution_count": null,
   "metadata": {},
   "outputs": [],
   "source": [
    "type(low)"
   ]
  },
  {
   "cell_type": "code",
   "execution_count": null,
   "metadata": {},
   "outputs": [],
   "source": [
    "                    r = utils.makeSimpleRaw(dat_cur, ch_names=None, sfreq=sfreq_cur)\n",
    "                    if bandname.find('HFO') < 0:\n",
    "                        r.set_annotations(anns_MEGartif)\n",
    "                        r.set_annotations(anns_LFPartif)\n",
    "                    else: # we have only LFP channels then\n",
    "                        r.set_annotations(anns_LFPartif)\n",
    "                    r.filter(l_freq=low,h_freq=high, n_jobs=n_jobs_flt,\n",
    "                            skip_by_annotation='BAD_{}'.format(opsidelet), pad='symmetric')#, filter_length=\"1s\" )\n"
   ]
  },
  {
   "cell_type": "code",
   "execution_count": null,
   "metadata": {},
   "outputs": [],
   "source": [
    "anns_LFPartif[1]"
   ]
  },
  {
   "cell_type": "code",
   "execution_count": null,
   "metadata": {},
   "outputs": [],
   "source": [
    "r[0][0].shape"
   ]
  },
  {
   "cell_type": "code",
   "execution_count": null,
   "metadata": {},
   "outputs": [],
   "source": [
    "                sh = tfrres_cur.shape\n",
    "                tmp = tfrres_cur.reshape( (sh[0] * sh[1], sh[2] ) ).T\n",
    "                #scaler.fit( tmp )\n",
    "\n",
    "                tfr_mean,tfr_std = utsne.robustMean(tmp, axis=-1,ret_std=True,per_dim=1)\n",
    "                tfrres_cur_ = (tmp - tfr_mean[:,None])/ tfr_std[:,None]\n",
    "                tfrres_cur_ = tfrres_cur_.reshape(  (sh[0], sh[1], sh[2] ) )\n"
   ]
  },
  {
   "cell_type": "code",
   "execution_count": null,
   "metadata": {},
   "outputs": [],
   "source": [
    "tfrres_cur_.shape"
   ]
  },
  {
   "cell_type": "code",
   "execution_count": null,
   "metadata": {},
   "outputs": [],
   "source": [
    "anns_pri[0]"
   ]
  },
  {
   "cell_type": "code",
   "execution_count": null,
   "metadata": {},
   "outputs": [],
   "source": [
    "subfeature_order_lfp_hires"
   ]
  },
  {
   "cell_type": "code",
   "execution_count": null,
   "metadata": {},
   "outputs": [],
   "source": [
    "skip"
   ]
  },
  {
   "cell_type": "code",
   "execution_count": null,
   "metadata": {},
   "outputs": [],
   "source": [
    "skip_hires"
   ]
  },
  {
   "cell_type": "code",
   "execution_count": null,
   "metadata": {},
   "outputs": [],
   "source": [
    "skip_div_TFR"
   ]
  },
  {
   "cell_type": "code",
   "execution_count": null,
   "metadata": {},
   "outputs": [],
   "source": [
    "aux_info_perraw['S99_off_hold'][()]"
   ]
  },
  {
   "cell_type": "code",
   "execution_count": null,
   "metadata": {},
   "outputs": [],
   "source": [
    "#fast until the end\n",
    "#%debug\n",
    "%load_ext autoreload\n",
    "%autoreload 2\n",
    "\n",
    "%run -i run_genfeats.py --sources_type parcel_aal --bands crude\\\n",
    " --src_grouping_fn 10\\\n",
    " --src_grouping 0 \\\n",
    " --raw S99_off_hold,S99_off_move \\\n",
    " --feat_types con,H_act,H_mob,H_compl\\\n",
    " --Kalman_smooth 0\\\n",
    " --load_TFR 1\\\n",
    " --load_CSD 1\\\n",
    " --save_TFR 0\\\n",
    " --save_CSD 0\\\n",
    " --save_bpcor 0\\\n",
    " --save_rbcor 0\\\n",
    " --use_existing_TFR 1\\\n",
    " --load_only 1\\\n",
    " --show_plots 1\\\n",
    " --plot_types raw_stats_scatter,feat_stats_scatter\\\n",
    " --output_subdir test"
   ]
  },
  {
   "cell_type": "code",
   "execution_count": null,
   "metadata": {},
   "outputs": [],
   "source": [
    "np.zeros((3,3)).ravel()"
   ]
  },
  {
   "cell_type": "code",
   "execution_count": null,
   "metadata": {},
   "outputs": [],
   "source": [
    "X_pri = "
   ]
  },
  {
   "cell_type": "code",
   "execution_count": null,
   "metadata": {},
   "outputs": [],
   "source": [
    "if plot_feat_stat_scatter:\n",
    "    int_types_to_stat = [it + '_{}'.format(main_side_let) for it in gp.int_types_basic]\n",
    "    upre.plotFeatStatsScatter(rawnames,X_pri, int_types_to_stat,\n",
    "                        feature_names_all,sfreq,\n",
    "                        times_pri,side_switched_pri, wbd_pri=wbd_H_pri,\n",
    "                                save_fig=False, separate_by='mod' )\n",
    "    plt.suptitle('Feat stats before rescaling')\n",
    "    pdf.savefig()\n",
    "    plt.close()\n",
    "    gc.collect()\n"
   ]
  },
  {
   "cell_type": "code",
   "execution_count": null,
   "metadata": {},
   "outputs": [],
   "source": [
    "len(set(n_channels_pri))"
   ]
  },
  {
   "cell_type": "code",
   "execution_count": null,
   "metadata": {},
   "outputs": [],
   "source": [
    "wdbd.shape"
   ]
  },
  {
   "cell_type": "code",
   "execution_count": null,
   "metadata": {},
   "outputs": [],
   "source": [
    "wbd[0]"
   ]
  },
  {
   "cell_type": "code",
   "execution_count": null,
   "metadata": {},
   "outputs": [],
   "source": [
    "wdbd[0::2]"
   ]
  },
  {
   "cell_type": "code",
   "execution_count": null,
   "metadata": {},
   "outputs": [],
   "source": [
    "np.var( np.diff(wdbd[1::2,:],axis=0) )"
   ]
  },
  {
   "cell_type": "code",
   "execution_count": null,
   "metadata": {},
   "outputs": [],
   "source": [
    "np.diff(wdbd[::2,:],axis=0)"
   ]
  },
  {
   "cell_type": "code",
   "execution_count": null,
   "metadata": {},
   "outputs": [],
   "source": [
    "wdbd"
   ]
  },
  {
   "cell_type": "code",
   "execution_count": null,
   "metadata": {},
   "outputs": [],
   "source": [
    "windowsz/sfreq"
   ]
  },
  {
   "cell_type": "code",
   "execution_count": null,
   "metadata": {},
   "outputs": [],
   "source": [
    "Xtimes[-1]"
   ]
  },
  {
   "cell_type": "code",
   "execution_count": null,
   "metadata": {},
   "outputs": [],
   "source": [
    "times_pri[rawind][-1]"
   ]
  },
  {
   "cell_type": "code",
   "execution_count": null,
   "metadata": {},
   "outputs": [],
   "source": [
    "%load_ext autoreload\n",
    "%autoreload 2\n",
    "\n",
    "\n",
    "%run -i run_genfeats.py --sources_type parcel_aal --bands crude\\\n",
    " --src_grouping_fn 10\\\n",
    " --src_grouping 0 \\\n",
    " --raw S99_off_move \\\n",
    " --feat_types con,H_act,H_mob,H_compl,rbcorr,bpcorr\\\n",
    " --Kalman_smooth 0\\\n",
    " --load_TFR 1\\\n",
    " --load_CSD 1\\\n",
    " --save_TFR 0\\\n",
    " --save_CSD 0\\\n",
    " --save_bpcor 0\\\n",
    " --save_rbcor 0\\\n",
    " --use_existing_TFR 1\\\n",
    " --load_only 1\n",
    "# --show_plots 1\\\n",
    "# --plot_types feat_timecourse\n",
    "#--plot_types raw_timecourse\n",
    "#--plot_types raw_stats,raw_timecourse,raw_psd,feat_stats,feat_timecourse\n",
    " #--plot_only 0"
   ]
  },
  {
   "cell_type": "code",
   "execution_count": null,
   "metadata": {},
   "outputs": [],
   "source": [
    "%load_ext autoreload\n",
    "%autoreload 2\n",
    "\n",
    "#%debug\n",
    "%run -i run_genfeats.py --sources_type parcel_aal --bands crude\\\n",
    " --src_grouping_fn 10\\\n",
    " --src_grouping 0 \\\n",
    " --raw S97_off_move \\\n",
    " --feat_types con,H_act,H_mob,H_compl,rbcorr,bpcorr\\\n",
    " --Kalman_smooth 0\\\n",
    " --load_TFR 1\\\n",
    " --load_CSD 1\\\n",
    " --save_TFR 0\\\n",
    " --save_CSD 0\\\n",
    " --save_bpcor 0\\\n",
    " --save_rbcor 0\\\n",
    " --use_existing_TFR 1\\\n",
    " --load_only 0\n",
    "# --show_plots 1\\\n",
    "# --plot_types feat_timecourse\n",
    "#--plot_types raw_timecourse\n",
    "#--plot_types raw_stats,raw_timecourse,raw_psd,feat_stats,feat_timecourse\n",
    " #--plot_only 0"
   ]
  },
  {
   "cell_type": "code",
   "execution_count": null,
   "metadata": {},
   "outputs": [],
   "source": [
    "rawnames"
   ]
  },
  {
   "cell_type": "code",
   "execution_count": null,
   "metadata": {},
   "outputs": [],
   "source": [
    "#search for non-zero components in short msrc names\n",
    "import re\n",
    "for nms in nml:\n",
    "    b = []\n",
    "    for fen in nms:\n",
    "    #for fen in feature_names_all:\n",
    "        r = re.match('.*msrc._[0-9]+_[0-9]+_c[^0][0-9]*', fen)\n",
    "        if r is not None:\n",
    "            print(fen)\n",
    "            b += [fen]\n",
    "   "
   ]
  },
  {
   "cell_type": "code",
   "execution_count": null,
   "metadata": {},
   "outputs": [],
   "source": [
    "b = []\n",
    "for fen in bpcor_names:\n",
    "#for fen in feature_names_all:\n",
    "    r = re.match('.*msrc._[0-9]+_[0-9]+_c[^0][0-9]*', fen)\n",
    "    if r is not None:\n",
    "        print(fen)\n",
    "        b += [fen]"
   ]
  },
  {
   "cell_type": "code",
   "execution_count": null,
   "metadata": {},
   "outputs": [],
   "source": [
    "scale_data_before_featgen, do_rescale_raws"
   ]
  },
  {
   "cell_type": "code",
   "execution_count": null,
   "metadata": {},
   "outputs": [],
   "source": [
    "%load_ext autoreload\n",
    "%autoreload 2"
   ]
  },
  {
   "cell_type": "code",
   "execution_count": null,
   "metadata": {},
   "outputs": [],
   "source": [
    "#%debug\n",
    "%run -i run_genfeats.py --sources_type parcel_aal --bands crude\\\n",
    " --src_grouping_fn 10\\\n",
    " --src_grouping 0 \\\n",
    " --raw S99_off_move,S99_off_move \\\n",
    " --feat_types con,H_act,H_mob,H_compl,rbcorr,bpcorr\\\n",
    " --Kalman_smooth 0\\\n",
    " --load_TFR 0\\\n",
    " --load_CSD 0\\\n",
    " --save_TFR 0\\\n",
    " --save_CSD 0\\\n",
    " --use_existing_TFR 1\\\n",
    " --load_only 1\n",
    "# --show_plots 1\\\n",
    "# --plot_types feat_timecourse\n",
    "#--plot_types raw_timecourse\n",
    "#--plot_types raw_stats,raw_timecourse,raw_psd,feat_stats,feat_timecourse\n",
    " #--plot_only 0"
   ]
  },
  {
   "cell_type": "markdown",
   "metadata": {},
   "source": [
    "## Double test"
   ]
  },
  {
   "cell_type": "code",
   "execution_count": null,
   "metadata": {},
   "outputs": [],
   "source": [
    "#%debug\n",
    "%run -i run_genfeats.py --sources_type parcel_aal --bands crude\\\n",
    " --src_grouping_fn 10\\\n",
    " --src_grouping 0 \\\n",
    " --raw S99_off_hold,S99_off_move \\\n",
    " --feat_types con,H_act,H_mob,H_compl,rbcorr,bpcorr\\\n",
    " --Kalman_smooth 0\\\n",
    " --load_TFR 0\\\n",
    " --load_CSD 0\\\n",
    " --save_TFR 0\\\n",
    " --save_CSD 0\\\n",
    " --use_existing_TFR 1\n",
    "# --show_plots 1\\\n",
    "# --plot_types feat_timecourse\n",
    "#--plot_types raw_timecourse\n",
    "#--plot_types raw_stats,raw_timecourse,raw_psd,feat_stats,feat_timecourse\n",
    " #--plot_only 0"
   ]
  },
  {
   "cell_type": "code",
   "execution_count": null,
   "metadata": {},
   "outputs": [],
   "source": []
  },
  {
   "cell_type": "markdown",
   "metadata": {},
   "source": [
    "## Normal dataset"
   ]
  },
  {
   "cell_type": "code",
   "execution_count": null,
   "metadata": {},
   "outputs": [],
   "source": [
    "%load_ext autoreload\n",
    "%autoreload 2"
   ]
  },
  {
   "cell_type": "code",
   "execution_count": null,
   "metadata": {},
   "outputs": [],
   "source": [
    "#%debug\n",
    "%run -i run_genfeats.py --sources_type parcel_aal --bands crude\\\n",
    " --src_grouping_fn 10\\\n",
    " --src_grouping 0 \\\n",
    " --raw S01_off_hold,S02_off_hold \\\n",
    " --feat_types con,H_act,H_mob,H_compl\\\n",
    " --Kalman_smooth 0\\\n",
    " --load_TFR 1\\\n",
    " --load_CSD 0\\\n",
    " --save_TFR 0\\\n",
    " --save_CSD 1\\\n",
    " --use_existing_TFR 1\n",
    "# --show_plots 1\\\n",
    "# --plot_types feat_timecourse\n",
    "#--plot_types raw_timecourse\n",
    "#--plot_types raw_stats,raw_timecourse,raw_psd,feat_stats,feat_timecourse\n",
    " #--plot_only 0"
   ]
  },
  {
   "cell_type": "code",
   "execution_count": null,
   "metadata": {},
   "outputs": [],
   "source": [
    "            utsne.concatAnns(rawnames[rawind],times_pri[rawind], artif_mod_str,crop=(crop_start,crop_end),\n",
    "                        allow_short_intervals=True,\n",
    "                             side_rev_pri = aux_info_perraw[rawnames[rawind]]['side_switched'],\n",
    "                             wbd_pri = wbd_H_pri[rawind], sfreq=sfreq)\n"
   ]
  },
  {
   "cell_type": "code",
   "execution_count": null,
   "metadata": {},
   "outputs": [],
   "source": [
    "times2[-1] + times2[-1]"
   ]
  },
  {
   "cell_type": "code",
   "execution_count": null,
   "metadata": {},
   "outputs": [],
   "source": [
    "wbd_H_pri[rawind][1,-1] / sfreq"
   ]
  },
  {
   "cell_type": "code",
   "execution_count": null,
   "metadata": {},
   "outputs": [],
   "source": [
    "(wbd_H_pri[0][1,-1] + wbd_H_pri[0][1,-1]) / sfreq"
   ]
  },
  {
   "cell_type": "code",
   "execution_count": null,
   "metadata": {},
   "outputs": [],
   "source": [
    "times_pri[0].dtype == float"
   ]
  },
  {
   "cell_type": "code",
   "execution_count": null,
   "metadata": {},
   "outputs": [],
   "source": [
    "ry = raws_permod_both_sides['S01_off_hold']['LFP']"
   ]
  },
  {
   "cell_type": "code",
   "execution_count": null,
   "metadata": {},
   "outputs": [],
   "source": [
    "isinstance(ry, mne.io.BaseRaw)"
   ]
  },
  {
   "cell_type": "markdown",
   "metadata": {
    "heading_collapsed": true
   },
   "source": [
    "## Double"
   ]
  },
  {
   "cell_type": "code",
   "execution_count": null,
   "metadata": {
    "hidden": true
   },
   "outputs": [],
   "source": [
    "%run -i run_genfeats.py --sources_type parcel_aal --bands crude\\\n",
    " --src_grouping_fn 10\\\n",
    " --src_grouping 0 \\\n",
    " --raw S01_off_hold,S02_off_hold \\\n",
    " --feat_types con,H_act,H_mob,H_compl\\\n",
    " --Kalman_smooth 0\\\n",
    " --load_TFR 1\\\n",
    " --load_CSD 1\\\n",
    " --save_TFR 0\\\n",
    " --save_CSD 0\\\n",
    " --use_existing_TFR 1\\\n",
    " --load_only 1 \\\n",
    " --show_plots 1 --plot_types raw_stats_scatter"
   ]
  },
  {
   "cell_type": "code",
   "execution_count": null,
   "metadata": {
    "hidden": true
   },
   "outputs": [],
   "source": [
    "csd_pri"
   ]
  },
  {
   "cell_type": "code",
   "execution_count": null,
   "metadata": {
    "hidden": true
   },
   "outputs": [],
   "source": [
    "ntimebins_"
   ]
  },
  {
   "cell_type": "code",
   "execution_count": null,
   "metadata": {
    "hidden": true
   },
   "outputs": [],
   "source": [
    "bpow_abscsd_LFP_HFO.shape"
   ]
  },
  {
   "cell_type": "code",
   "execution_count": null,
   "metadata": {
    "hidden": true
   },
   "outputs": [],
   "source": [
    "#%debug\n",
    "%run -i run_genfeats.py --sources_type parcel_aal --bands crude\\\n",
    " --src_grouping_fn 10\\\n",
    " --src_grouping 0 \\\n",
    " --raw S01_off_hold,S02_off_hold \\\n",
    " --feat_types con,H_act,H_mob,H_compl,rbcorr,bpcorr\\\n",
    " --Kalman_smooth 0\\\n",
    " --load_TFR 0\\\n",
    " --load_CSD 0\\\n",
    " --save_TFR 0\\\n",
    " --save_CSD 0\\\n",
    " --use_existing_TFR 1\n",
    "# --show_plots 1\\\n",
    "# --plot_types feat_timecourse\n",
    "#--plot_types raw_timecourse\n",
    "#--plot_types raw_stats,raw_timecourse,raw_psd,feat_stats,feat_timecourse\n",
    " #--plot_only 0"
   ]
  },
  {
   "cell_type": "code",
   "execution_count": null,
   "metadata": {
    "hidden": true
   },
   "outputs": [],
   "source": [
    "import utils_preproc as upre\n",
    "upre.getRawnameListStructure(rawnames=['S01_off_hold','S01_off_move', \n",
    "                                       'S01_on_move', 'S03_on_move',\n",
    "                                       'S03_on_hold']) "
   ]
  },
  {
   "cell_type": "code",
   "execution_count": null,
   "metadata": {
    "hidden": true
   },
   "outputs": [],
   "source": [
    "#%debug\n",
    "%run -i run_genfeats.py --sources_type parcel_aal --bands crude\\\n",
    " --src_grouping_fn 10\\\n",
    " --src_grouping 0 \\\n",
    " --raw S97_off_move \\\n",
    " --feat_types con,H_act,H_mob,H_compl\\\n",
    " --Kalman_smooth 0\\\n",
    " --load_TFR 0\\\n",
    " --load_CSD 0\\\n",
    " --save_TFR 0\\\n",
    " --save_CSD 0\\\n",
    " --use_existing_TFR 1\\\n",
    " --load_only 1\n",
    "# --show_plots 1\\\n",
    "# --plot_types feat_timecourse\n",
    "#--plot_types raw_timecourse\n",
    "#--plot_types raw_stats,raw_timecourse,raw_psd,feat_stats,feat_timecourse\n",
    " #--plot_only 0"
   ]
  },
  {
   "cell_type": "markdown",
   "metadata": {},
   "source": [
    "# runPCA"
   ]
  },
  {
   "cell_type": "code",
   "execution_count": null,
   "metadata": {},
   "outputs": [],
   "source": [
    "%load_ext autoreload\n",
    "%autoreload 2"
   ]
  },
  {
   "cell_type": "markdown",
   "metadata": {},
   "source": [
    "## Test dataset "
   ]
  },
  {
   "cell_type": "markdown",
   "metadata": {},
   "source": [
    "### Single"
   ]
  },
  {
   "cell_type": "code",
   "execution_count": null,
   "metadata": {},
   "outputs": [],
   "source": [
    "len( f['feature_names_all']  ), len(feature_names_all)"
   ]
  },
  {
   "cell_type": "code",
   "execution_count": null,
   "metadata": {},
   "outputs": [],
   "source": [
    "#roi_labels[gp.src_grouping_names_order[src_file_grouping_ind]] "
   ]
  },
  {
   "cell_type": "code",
   "execution_count": null,
   "metadata": {},
   "outputs": [],
   "source": [
    "--LFPchan main\\"
   ]
  },
  {
   "cell_type": "code",
   "execution_count": null,
   "metadata": {},
   "outputs": [],
   "source": [
    "side_switch_happened_pri"
   ]
  },
  {
   "cell_type": "code",
   "execution_count": null,
   "metadata": {},
   "outputs": [],
   "source": [
    "for i in range(10):\n",
    "    print(i)\n",
    "print(i)"
   ]
  },
  {
   "cell_type": "code",
   "execution_count": null,
   "metadata": {},
   "outputs": [],
   "source": [
    "t = [54, 4]\n",
    "t = t.copy()\n",
    "#t = t[:]\n",
    "tt[0] = 222\n",
    "print(t,tt)"
   ]
  },
  {
   "cell_type": "code",
   "execution_count": null,
   "metadata": {},
   "outputs": [],
   "source": [
    "pwd"
   ]
  },
  {
   "cell_type": "code",
   "execution_count": null,
   "metadata": {},
   "outputs": [],
   "source": [
    "import os,sys\n",
    "code_dir = os.path.expandvars('$OSCBAGDIS_DATAPROC_CODE')\n",
    "if code_dir not in sys.path: sys.path.append(code_dir)"
   ]
  },
  {
   "cell_type": "code",
   "execution_count": null,
   "metadata": {},
   "outputs": [],
   "source": [
    "class_labels.shape"
   ]
  },
  {
   "cell_type": "code",
   "execution_count": null,
   "metadata": {},
   "outputs": [],
   "source": [
    "X.shape"
   ]
  },
  {
   "cell_type": "code",
   "execution_count": null,
   "metadata": {},
   "outputs": [],
   "source": [
    "X_for_heavy.shape, class_labels_for_heavy.shape"
   ]
  },
  {
   "cell_type": "code",
   "execution_count": null,
   "metadata": {},
   "outputs": [],
   "source": [
    "    from sklearn.metrics import confusion_matrix\n"
   ]
  },
  {
   "cell_type": "code",
   "execution_count": null,
   "metadata": {},
   "outputs": [],
   "source": [
    "confusion_matrix([0, 0, 0 ], [23, 3, 3])"
   ]
  },
  {
   "cell_type": "code",
   "execution_count": null,
   "metadata": {},
   "outputs": [],
   "source": []
  },
  {
   "cell_type": "code",
   "execution_count": null,
   "metadata": {},
   "outputs": [],
   "source": [
    "%load_ext autoreload\n",
    "%autoreload 2\n",
    "%precision %.4f\n",
    "#%debug\n",
    "%run -i ../run/run_ML.py --sources_type parcel_aal --bands_type crude --src_grouping_fn 10\\\n",
    " --src_grouping 0 \\\n",
    " --prefix test \\\n",
    "--skip_XGB 0\\\n",
    "--mods LFP\\\n",
    "--allow_CUDA 0\\\n",
    "--subskip_fit 2 \\\n",
    "--n_splits 2 \\\n",
    "--calc_MI 0 \\\n",
    "--save_output 0\\\n",
    "--groupings_to_use merge_movements \\\n",
    "--int_types_to_use basic\\\n",
    "--input_subdir test --output_subdir test\\\n",
    "--raw S97_off_move,S99_off_hold --load_only 0 --show_plots 1\\\n",
    "--plot_types feat_stats --param_file ML_defparams.ini \\\n",
    "--featsel_method XGB_Shapley \\\n",
    "--load_only 1\n",
    "#--featsel_method SHAP_XGB,interpret_EBM,XGB_Shapley\n",
    "#--featsel_method interpret_EBM"
   ]
  },
  {
   "cell_type": "code",
   "execution_count": null,
   "metadata": {},
   "outputs": [],
   "source": [
    "%load_ext autoreload\n",
    "%autoreload 2\n",
    "%precision %.4f\n",
    "#%debug\n",
    "%run -i ../run/run_ML.py --sources_type parcel_aal --bands_type crude --src_grouping_fn 10\\\n",
    " --src_grouping 0 \\\n",
    " --prefix test \\\n",
    "--skip_XGB 0\\\n",
    "--mods LFP,msrc\\\n",
    "--LFP_related_only 1\\\n",
    "--cross_couplings_only 1\\\n",
    "--feat_types rbcorr\\\n",
    "--parcel_group_names motor-related\\\n",
    "--allow_CUDA 0\\\n",
    "--subskip_fit 2 \\\n",
    "--n_splits 2 \\\n",
    "--calc_MI 0 \\\n",
    "--save_output 0\\\n",
    "--groupings_to_use merge_movements \\\n",
    "--int_types_to_use basic\\\n",
    "--input_subdir test --output_subdir test\\\n",
    "--raw S97_off_move,S99_off_hold --load_only 0 --show_plots 1\\\n",
    "--param_file ML_defparams.ini \\\n",
    "--featsel_method XGB_Shapley \\\n",
    "--load_only 1\n",
    "\n",
    "#--featsel_method SHAP_XGB,interpret_EBM,XGB_Shapley\n",
    "#--featsel_method interpret_EBM"
   ]
  },
  {
   "cell_type": "code",
   "execution_count": null,
   "metadata": {},
   "outputs": [],
   "source": [
    "feature_names_all"
   ]
  },
  {
   "cell_type": "code",
   "execution_count": null,
   "metadata": {},
   "outputs": [],
   "source": [
    "fli = utils.collectFeatTypeInfo(feature_names_all )\n",
    "print( fli)\n"
   ]
  },
  {
   "cell_type": "code",
   "execution_count": null,
   "metadata": {},
   "outputs": [],
   "source": [
    "fli"
   ]
  },
  {
   "cell_type": "code",
   "execution_count": null,
   "metadata": {},
   "outputs": [],
   "source": [
    "len( [0] + [None] )"
   ]
  },
  {
   "cell_type": "code",
   "execution_count": null,
   "metadata": {},
   "outputs": [],
   "source": [
    "'Precentral_R'.find(gp.areas_list_aal_my_guess[0])"
   ]
  },
  {
   "cell_type": "code",
   "execution_count": null,
   "metadata": {},
   "outputs": [],
   "source": [
    "features_to_use"
   ]
  },
  {
   "cell_type": "code",
   "execution_count": null,
   "metadata": {},
   "outputs": [],
   "source": [
    "parcel_types"
   ]
  },
  {
   "cell_type": "code",
   "execution_count": null,
   "metadata": {},
   "outputs": [],
   "source": [
    "parcel_group_names"
   ]
  },
  {
   "cell_type": "code",
   "execution_count": null,
   "metadata": {},
   "outputs": [],
   "source": [
    "gp.areas_list_aal_my_guess"
   ]
  },
  {
   "cell_type": "code",
   "execution_count": null,
   "metadata": {},
   "outputs": [],
   "source": [
    "LFP_related_only, \n",
    "parcel_group_names, \n",
    "remove_corr_self_couplings, \n",
    "cross_couplings_only"
   ]
  },
  {
   "cell_type": "code",
   "execution_count": null,
   "metadata": {},
   "outputs": [],
   "source": [
    "fbands_def"
   ]
  },
  {
   "cell_type": "code",
   "execution_count": null,
   "metadata": {},
   "outputs": [],
   "source": [
    "data_modalities"
   ]
  },
  {
   "cell_type": "code",
   "execution_count": null,
   "metadata": {},
   "outputs": [],
   "source": [
    "A = set( range(100) )\n",
    "print(A)\n",
    "A - set(range(10))\n",
    "print(A)\n",
    "A - set(range(20))\n",
    "print(A)\n",
    "A - range(30,40)\n",
    "print(A)"
   ]
  },
  {
   "cell_type": "code",
   "execution_count": null,
   "metadata": {},
   "outputs": [],
   "source": [
    "ivalis_tb_indarrays_merged.keys()"
   ]
  },
  {
   "cell_type": "code",
   "execution_count": null,
   "metadata": {},
   "outputs": [],
   "source": [
    "revdict"
   ]
  },
  {
   "cell_type": "code",
   "execution_count": null,
   "metadata": {},
   "outputs": [],
   "source": [
    "save_output"
   ]
  },
  {
   "cell_type": "code",
   "execution_count": null,
   "metadata": {},
   "outputs": [],
   "source": [
    "featsel_explainers_res['interpret_EBM']"
   ]
  },
  {
   "cell_type": "code",
   "execution_count": null,
   "metadata": {},
   "outputs": [],
   "source": [
    "y.shape"
   ]
  },
  {
   "cell_type": "code",
   "execution_count": null,
   "metadata": {},
   "outputs": [],
   "source": [
    "X.shape"
   ]
  },
  {
   "cell_type": "code",
   "execution_count": null,
   "metadata": {},
   "outputs": [],
   "source": [
    "y == ebm.predict(X)"
   ]
  },
  {
   "cell_type": "code",
   "execution_count": null,
   "metadata": {},
   "outputs": [],
   "source": [
    "ebm.predict(X)"
   ]
  },
  {
   "cell_type": "code",
   "execution_count": null,
   "metadata": {},
   "outputs": [],
   "source": [
    "class_to_check"
   ]
  },
  {
   "cell_type": "code",
   "execution_count": null,
   "metadata": {},
   "outputs": [],
   "source": [
    "%load_ext autoreload\n",
    "%autoreload 2\n",
    "import utils_tSNE as utsne"
   ]
  },
  {
   "cell_type": "code",
   "execution_count": null,
   "metadata": {},
   "outputs": [],
   "source": [
    "sens,spec, F1, confmat  = utsne.getClfPredPower(ebm,X,y,class_to_check, printLog=False)\n"
   ]
  },
  {
   "cell_type": "code",
   "execution_count": null,
   "metadata": {},
   "outputs": [],
   "source": [
    "perfs_LDA_featsearch[0]"
   ]
  },
  {
   "cell_type": "code",
   "execution_count": null,
   "metadata": {},
   "outputs": [],
   "source": [
    "            res_all_feats = utsne.calcLDAVersions(Xconcat_good_cur, Xconcat_imputed, class_labels_good,\n",
    "                                  n_components_LDA, class_ind_to_check, revdict,\n",
    "                                        calcName=lda_version_name,n_splits=n_splits)\n",
    "            lda_analysis_versions[lda_version_name] = res_all_feats\n",
    "            gc.collect()\n"
   ]
  },
  {
   "cell_type": "code",
   "execution_count": null,
   "metadata": {},
   "outputs": [],
   "source": [
    "            res_all_feats = utsne.calcLDAVersions(Xconcat_good_cur, Xconcat_imputed, class_labels_good,\n",
    "                                  n_components_LDA, class_ind_to_check, revdict,\n",
    "                                        calcName=lda_version_name,n_splits=n_splits)\n"
   ]
  },
  {
   "cell_type": "code",
   "execution_count": null,
   "metadata": {},
   "outputs": [],
   "source": [
    "\n",
    "\n",
    "# data = sklearn.datasets.fetch_california_housing()\n",
    "# # feature_names = [\"MedInc\", \"HouseAge\", \"AveRooms\", \"AveBedrms\", \"Population\", \"AveOccup\",\n",
    "# #                  \"Latitude\", \"Longitude\"]\n",
    "# X = data.data\n",
    "# y = data.target\n",
    "# dmat = xgb.DMatrix(X, y)"
   ]
  },
  {
   "cell_type": "code",
   "execution_count": null,
   "metadata": {},
   "outputs": [],
   "source": [
    "model.__dict__.keys()"
   ]
  },
  {
   "cell_type": "code",
   "execution_count": null,
   "metadata": {},
   "outputs": [],
   "source": [
    "from sklearn.metrics import confusion_matrix\n",
    "confusion_matrix(y_true, y_pred) #, labels=[\"ant\", \"bird\", \"cat\"])"
   ]
  },
  {
   "cell_type": "code",
   "execution_count": null,
   "metadata": {},
   "outputs": [],
   "source": [
    "np.mean([np.zeros((3,3)),np.ones((3,3)) ],axis=0)"
   ]
  },
  {
   "cell_type": "code",
   "execution_count": null,
   "metadata": {},
   "outputs": [],
   "source": [
    "help(np.random.randint)"
   ]
  },
  {
   "cell_type": "code",
   "execution_count": null,
   "metadata": {},
   "outputs": [],
   "source": [
    "h = np.max(class_labels_good_for_classif) + 1\n",
    "confusion_matrix(class_labels_good_for_classif, np.random.randint(0, h, size=len(class_labels_good_for_classif)) )"
   ]
  },
  {
   "cell_type": "code",
   "execution_count": null,
   "metadata": {},
   "outputs": [],
   "source": [
    "confusion_matrix(class_labels_good_for_classif, class_labels_good_for_classif  )"
   ]
  },
  {
   "cell_type": "code",
   "execution_count": null,
   "metadata": {},
   "outputs": [],
   "source": [
    "class_labels_good_for_classif"
   ]
  },
  {
   "cell_type": "code",
   "execution_count": null,
   "metadata": {},
   "outputs": [],
   "source": [
    "#tn, fp, fn, tp = confusion_matrix([0, 1, 0, 1], [1, 1, 1, 0]).ravel()"
   ]
  },
  {
   "cell_type": "code",
   "execution_count": null,
   "metadata": {},
   "outputs": [],
   "source": [
    "XGB_max_weight=4"
   ]
  },
  {
   "cell_type": "code",
   "execution_count": null,
   "metadata": {},
   "outputs": [],
   "source": [
    "\n",
    "add_clf_creopts={ 'n_jobs':n_jobs_XGB, 'use_label_encoder':False,\n",
    "                 'importance_type': 'total_gain', 'max_depth':XGB_max_weight }\n",
    "tree_method = XGB_tree_method\n",
    "method_params = {'tree_method': tree_method}\n",
    "\n",
    "if (XGB_tree_method in ['hist', 'gpu_hist']) \\\n",
    "        and allow_CUDA \\\n",
    "        and len(GPUs_list):\n",
    "    tree_method = 'gpu_hist'\n",
    "\n",
    "    method_params['gpu_id'] = GPUs_list[0]\n",
    "\n",
    "add_clf_creopts.update(method_params)\n",
    "clf_XGB = XGBClassifier(**add_clf_creopts)\n",
    "# fit the clf_XGB to get feature importances\n",
    "print('Starting XGB on X.shape ', X_for_heavy.shape)\n",
    "add_fitopts = { 'eval_metric':'logloss'}\n",
    "clf_XGB.fit(X_for_heavy, class_labels_good_for_classif, **add_fitopts)\n"
   ]
  },
  {
   "cell_type": "code",
   "execution_count": null,
   "metadata": {},
   "outputs": [],
   "source": [
    "clf_XGB.max_depth"
   ]
  },
  {
   "cell_type": "code",
   "execution_count": null,
   "metadata": {},
   "outputs": [],
   "source": [
    "clf_XGB.n_classes_"
   ]
  },
  {
   "cell_type": "code",
   "execution_count": null,
   "metadata": {},
   "outputs": [],
   "source": [
    "clf_XGB._Booster.__dict__.keys()"
   ]
  },
  {
   "cell_type": "code",
   "execution_count": null,
   "metadata": {},
   "outputs": [],
   "source": [
    "clf_XGB.__dict__.keys()"
   ]
  },
  {
   "cell_type": "code",
   "execution_count": null,
   "metadata": {},
   "outputs": [],
   "source": [
    "grouping_key"
   ]
  },
  {
   "cell_type": "code",
   "execution_count": null,
   "metadata": {},
   "outputs": [],
   "source": [
    "GPUtil.showUtilization()"
   ]
  },
  {
   "cell_type": "code",
   "execution_count": null,
   "metadata": {},
   "outputs": [],
   "source": [
    "import xgboost as xgb\n",
    "\n",
    "X = X_for_heavy\n",
    "y = class_labels_good_for_classif\n",
    "dmat = xgb.DMatrix(X, y)\n",
    "\n"
   ]
  },
  {
   "cell_type": "markdown",
   "metadata": {},
   "source": [
    "for each pair of classes \n",
    "throw away datapoints with other labels\n",
    "perform classif"
   ]
  },
  {
   "cell_type": "code",
   "execution_count": null,
   "metadata": {},
   "outputs": [],
   "source": [
    "class_labels_for_heavy"
   ]
  },
  {
   "cell_type": "markdown",
   "metadata": {},
   "source": [
    "## EBM"
   ]
  },
  {
   "cell_type": "markdown",
   "metadata": {},
   "source": [
    "### test"
   ]
  },
  {
   "cell_type": "code",
   "execution_count": null,
   "metadata": {},
   "outputs": [],
   "source": [
    "import interpret"
   ]
  },
  {
   "cell_type": "code",
   "execution_count": null,
   "metadata": {},
   "outputs": [],
   "source": [
    "from interpret.glassbox import ExplainableBoostingClassifier\n",
    "seed = 0\n",
    "ebm = ExplainableBoostingClassifier(random_state=seed, feature_names=featnames_nice)\n",
    "ebm.fit(X, y)\n",
    "global_exp = ebm.explain_global()"
   ]
  },
  {
   "cell_type": "markdown",
   "metadata": {},
   "source": [
    "### 2"
   ]
  },
  {
   "cell_type": "code",
   "execution_count": null,
   "metadata": {},
   "outputs": [],
   "source": [
    "clu = list(set(class_labels_for_heavy))\n",
    "print(clu)\n",
    "le.transform(clu)"
   ]
  },
  {
   "cell_type": "code",
   "execution_count": null,
   "metadata": {},
   "outputs": [],
   "source": [
    "revdict"
   ]
  },
  {
   "cell_type": "code",
   "execution_count": null,
   "metadata": {},
   "outputs": [],
   "source": [
    "#                class_labels, class_labels_good, revdict, class_ids_grouped\n"
   ]
  },
  {
   "cell_type": "code",
   "execution_count": null,
   "metadata": {},
   "outputs": [],
   "source": [
    "EBM_result_per_cp= {}\n",
    "indpairs_names = []\n",
    "\n",
    "import itertools\n",
    "# since EBM only works for binary, I treat each pair of classes separately\n",
    "uls = list(set(class_labels_for_heavy))\n",
    "class_pairs = list(itertools.combinations(uls, 2))\n",
    "print(class_pairs)\n",
    "\n",
    "#cpi = 0\n",
    "for cpi in range(len(class_pairs)):\n",
    "    c1,c2 = class_pairs[cpi]\n",
    "    inds = np.where( (class_labels_good_for_classif == c1) | (class_labels_good_for_classif == c2)  )[0]\n",
    "    #inds2 = np.where(class_labels_good_for_classif == c2)[0]\n",
    "\n",
    "    ipo = le.inverse_transform([c1,c2])\n",
    "    indpair_names = ( revdict[ipo[0]], revdict[ipo[1]] )\n",
    "    \n",
    "    print(f'Starting computing EBM for class pair {indpair_names}, in total {len(inds)}'+\n",
    "          f'=({sum(class_labels_good_for_classif == c1)}+{sum(class_labels_good_for_classif == c2)}) data points')\n",
    "\n",
    "    # filter classes\n",
    "    X = Xconcat_good_cur[inds]\n",
    "    y = class_labels_good_for_classif[inds]\n",
    "\n",
    "    import interpret\n",
    "    from interpret.glassbox import ExplainableBoostingClassifier\n",
    "    seed = 0\n",
    "    ebm = ExplainableBoostingClassifier(random_state=seed, feature_names=featnames_nice, n_jobs=n_jobs_XGB)\n",
    "    ebm.fit(X, y)\n",
    "    global_exp = ebm.explain_global()\n",
    "\n",
    "    EBM_result_per_cp[indpair_names] = global_exp\n",
    "    indpairs_names += [indpair_names]\n",
    "    \n",
    "    # extracting data from explainer\n",
    "    scores = global_exp.data()['scores']\n",
    "    names = global_exp.data()['names']\n",
    "    sis = np.argsort(scores)[::-1]\n",
    "    featnames_srt = np.array(names)[sis]   \n",
    "    print(f'Strongest is {featnames_srt[0]}')\n",
    "    # TODO: use classs_names"
   ]
  },
  {
   "cell_type": "code",
   "execution_count": null,
   "metadata": {},
   "outputs": [],
   "source": [
    "print(indpairs_names[0])\n",
    "interpret.show(EBM_result_per_cp[indpair_names])"
   ]
  },
  {
   "cell_type": "code",
   "execution_count": null,
   "metadata": {},
   "outputs": [],
   "source": [
    "global_exp.data(1)"
   ]
  },
  {
   "cell_type": "code",
   "execution_count": null,
   "metadata": {},
   "outputs": [],
   "source": []
  },
  {
   "cell_type": "code",
   "execution_count": null,
   "metadata": {},
   "outputs": [],
   "source": [
    "global_exp.__dict__.keys()"
   ]
  },
  {
   "cell_type": "code",
   "execution_count": null,
   "metadata": {},
   "outputs": [],
   "source": [
    "global_exp.explanation_type"
   ]
  },
  {
   "cell_type": "code",
   "execution_count": null,
   "metadata": {},
   "outputs": [],
   "source": [
    "global_exp._internal_obj['overall']['scores']"
   ]
  },
  {
   "cell_type": "code",
   "execution_count": null,
   "metadata": {},
   "outputs": [],
   "source": [
    "import xgboost as xgb\n",
    "dmat = xgb.DMatrix(X, y)"
   ]
  },
  {
   "cell_type": "code",
   "execution_count": null,
   "metadata": {},
   "outputs": [],
   "source": [
    "X.shape"
   ]
  },
  {
   "cell_type": "code",
   "execution_count": null,
   "metadata": {},
   "outputs": [],
   "source": [
    "y.shape"
   ]
  },
  {
   "cell_type": "code",
   "execution_count": null,
   "metadata": {},
   "outputs": [],
   "source": [
    "#Shapley"
   ]
  },
  {
   "cell_type": "code",
   "execution_count": null,
   "metadata": {},
   "outputs": [],
   "source": [
    "set(y)"
   ]
  },
  {
   "cell_type": "code",
   "execution_count": null,
   "metadata": {},
   "outputs": [],
   "source": [
    "import inspect\n",
    "lines = inspect.getsource(bst.predict)\n",
    "print(lines)"
   ]
  },
  {
   "cell_type": "code",
   "execution_count": null,
   "metadata": {},
   "outputs": [],
   "source": [
    "help(bst.predict)"
   ]
  },
  {
   "cell_type": "markdown",
   "metadata": {},
   "source": [
    "#pred_contribs (bool) – When this is True the output will be a matrix of size (nsample, nfeats + 1) with each record indicating the feature contributions (SHAP values) for that prediction. The sum of all feature contributions is equal to the raw untransformed margin value of the prediction. Note the final column is the bias term."
   ]
  },
  {
   "cell_type": "code",
   "execution_count": null,
   "metadata": {},
   "outputs": [],
   "source": [
    "#%%timeit -n1 -r1\n",
    "clf_XGB2 = XGBClassifier(**add_clf_creopts)\n",
    "clf_XGB2.fit(X, y, **add_fitopts)\n",
    "\n",
    "\n",
    "bst = clf_XGB2.get_booster()\n",
    "bst.set_param({\"predictor\": \"gpu_predictor\"})\n",
    "shap_values = bst.predict(dmat, pred_contribs=True)\n",
    "shap_values.shape\n",
    "#shap_interaction_values = bst.predict(dmat, pred_interactions=True)"
   ]
  },
  {
   "cell_type": "code",
   "execution_count": null,
   "metadata": {},
   "outputs": [],
   "source": [
    "%matplotlib inline"
   ]
  },
  {
   "cell_type": "code",
   "execution_count": null,
   "metadata": {},
   "outputs": [],
   "source": [
    "def plot_feature_importance(feature_names, shap_values):\n",
    " # Get the mean absolute contribution for each feature\n",
    " aggregate = np.mean(np.abs(shap_values[:, 0:-1]), axis=0)\n",
    " # sort by magnitude\n",
    " z = [(x, y) for y, x in sorted(zip(aggregate, feature_names), reverse=True)]\n",
    " z = list(zip(*z))\n",
    " plt.bar(z[0], z[1])\n",
    " plt.xticks(rotation=90)\n",
    " plt.tight_layout()\n",
    " plt.show()\n",
    "\n",
    "plt.title('Shap values from XGB package');\n",
    "plot_feature_importance(featnames_nice, shap_values)\n"
   ]
  },
  {
   "cell_type": "code",
   "execution_count": null,
   "metadata": {},
   "outputs": [],
   "source": [
    "clf_XGB2.feature_importances_"
   ]
  },
  {
   "cell_type": "code",
   "execution_count": null,
   "metadata": {},
   "outputs": [],
   "source": [
    "def plot_feature_importance0(feature_names, importances):\n",
    " # Get the mean absolute contribution for each feature\n",
    " #aggregate = np.mean(np.abs(shap_values[:, 0:-1]), axis=0)\n",
    " # sort by magnitude\n",
    " z = [(x, y) for y, x in sorted(zip(importances, feature_names), reverse=True)]\n",
    " z = list(zip(*z))\n",
    " plt.bar(z[0], z[1])\n",
    " plt.xticks(rotation=90)\n",
    " plt.tight_layout()\n",
    " plt.show()\n",
    "\n",
    "plt.title('Feature importances from XGB package');\n",
    "plot_feature_importance0(featnames_nice, clf_XGB2.feature_importances_)"
   ]
  },
  {
   "cell_type": "code",
   "execution_count": null,
   "metadata": {},
   "outputs": [],
   "source": [
    "X.shape"
   ]
  },
  {
   "cell_type": "code",
   "execution_count": null,
   "metadata": {},
   "outputs": [],
   "source": [
    "clf_XGB2.inplace_predict()"
   ]
  },
  {
   "cell_type": "code",
   "execution_count": null,
   "metadata": {},
   "outputs": [],
   "source": [
    "clf_XGB3 = XGBClassifier(**add_clf_creopts)\n",
    "clf_XGB3.fit(X, y, **add_fitopts)\n",
    "\n",
    "\n",
    "bst = clf_XGB2.get_booster()\n",
    "bst.set_param({\"predictor\": \"cpu_predictor\"})\n",
    "\n",
    "# shap package\n",
    "\n",
    "nsamples = max(50, X.shape[0] // 10 )\n",
    "Xsubset = shap.utils.sample(X, nsamples)\n",
    "\n",
    "\n",
    "explainer= shap.Explainer(clf_XGB2.predict, Xsubset, feature_names=featnames_nice)\n",
    "#explainer= shap.Explainer(clf_bestfeats.predict, Xsubset)\n",
    "\n",
    "shap_values3 = explainer(X )"
   ]
  },
  {
   "cell_type": "code",
   "execution_count": null,
   "metadata": {},
   "outputs": [],
   "source": [
    "plt.title('Shap values from shap package');\n",
    "plot_feature_importance(featnames_nice, shap_values2.values)"
   ]
  },
  {
   "cell_type": "code",
   "execution_count": null,
   "metadata": {},
   "outputs": [],
   "source": [
    "# GPU -- I need to restart ipython perhaps because cupy wants some env var to be initialized\n",
    "import cupy as cp\n",
    "X_gpu = cp.array(X)\n",
    "\n",
    "# shap package\n",
    "\n",
    "nsamples = max(50, X.shape[0] // 10 )\n",
    "Xsubset = shap.utils.sample(X, nsamples)\n",
    "\n",
    "\n",
    "explainer= shap.Explainer(clf_XGB2.predict, Xsubset, feature_names=featnames_nice)\n",
    "#explainer= shap.Explainer(clf_bestfeats.predict, Xsubset)\n",
    "\n",
    "shap_values2 = explainer(X_gpu )\n"
   ]
  },
  {
   "cell_type": "code",
   "execution_count": null,
   "metadata": {},
   "outputs": [],
   "source": [
    "shap_values.shape"
   ]
  },
  {
   "cell_type": "code",
   "execution_count": null,
   "metadata": {},
   "outputs": [],
   "source": [
    "help(bst.predict)"
   ]
  },
  {
   "cell_type": "code",
   "execution_count": null,
   "metadata": {},
   "outputs": [],
   "source": [
    "shap_values.shape"
   ]
  },
  {
   "cell_type": "code",
   "execution_count": null,
   "metadata": {},
   "outputs": [],
   "source": [
    "shap_interaction_values.shape"
   ]
  },
  {
   "cell_type": "code",
   "execution_count": null,
   "metadata": {},
   "outputs": [],
   "source": [
    "? %timeit"
   ]
  },
  {
   "cell_type": "code",
   "execution_count": null,
   "metadata": {},
   "outputs": [],
   "source": [
    "%%timeit -n1 -r1\n",
    "bst = model.get_booster()\n",
    "bst.set_param({\"predictor\": \"cpu_predictor\"})\n",
    "shap_values = bst.predict(dmat, pred_contribs=True)"
   ]
  },
  {
   "cell_type": "code",
   "execution_count": null,
   "metadata": {},
   "outputs": [],
   "source": [
    "                cuda_par = {'tree_method': 'gpu_hist'}\n",
    "                if mne.utils.get_config('MNE_USE_CUDA'):\n",
    "                    add_clf_creopts.update(cuda_par)\n",
    "                model = XGBClassifier(**add_clf_creopts)\n",
    "                # fit the model to get feature importances\n",
    "                print('Starting XGB on X.shape ', X_for_heavy.shape)\n",
    "                add_fitopts = { 'eval_metric':'logloss'}\n",
    "                model.fit(X_for_heavy, class_labels_good_for_classif, **add_fitopts)\n"
   ]
  },
  {
   "cell_type": "code",
   "execution_count": null,
   "metadata": {},
   "outputs": [],
   "source": [
    "                add_clf_creopts={ 'n_jobs':n_jobs_XGB, 'use_label_encoder':False }\n",
    "\n",
    "                model = XGBClassifier(**add_clf_creopts)\n",
    "                # fit the model to get feature importances\n",
    "                print('Starting XGB on X.shape ', X_for_heavy.shape)\n",
    "                add_fitopts = { 'eval_metric':'logloss'}\n",
    "                model.fit(X_for_heavy, class_labels_good_for_classif, **add_fitopts)"
   ]
  },
  {
   "cell_type": "code",
   "execution_count": null,
   "metadata": {},
   "outputs": [],
   "source": [
    "shap_values"
   ]
  },
  {
   "cell_type": "code",
   "execution_count": null,
   "metadata": {},
   "outputs": [],
   "source": [
    "#%debug\n",
    "%run -i run_PCA.py --sources_type parcel_aal --bands_type crude --src_grouping_fn 10\\\n",
    " --src_grouping 0 \\\n",
    " --prefix test \\\n",
    "--skip_XGB 0\\\n",
    "--mods msrc\\\n",
    "--subskip_fit 8 \\\n",
    "--input_subdir test --output_subdir test\\\n",
    "--bands beta\\\n",
    "--raw S99_off_move,S99_off_hold --load_only 0 --save_output 1\\\n",
    " --self_couplings_only 1\\\n",
    "--show_plots 1 --plot_types feat_stats"
   ]
  },
  {
   "cell_type": "code",
   "execution_count": null,
   "metadata": {},
   "outputs": [],
   "source": [
    "help(plt.subplots)"
   ]
  },
  {
   "cell_type": "code",
   "execution_count": null,
   "metadata": {},
   "outputs": [],
   "source": [
    "X_pri[0].shape"
   ]
  },
  {
   "cell_type": "code",
   "execution_count": null,
   "metadata": {},
   "outputs": [],
   "source": [
    "featnames"
   ]
  },
  {
   "cell_type": "code",
   "execution_count": null,
   "metadata": {},
   "outputs": [],
   "source": [
    "len(featnames)"
   ]
  },
  {
   "cell_type": "code",
   "execution_count": null,
   "metadata": {},
   "outputs": [],
   "source": [
    "do_outliers_discard, artifact_handling, remove_unlabeled"
   ]
  },
  {
   "cell_type": "code",
   "execution_count": null,
   "metadata": {},
   "outputs": [],
   "source": [
    "len(bininds_concat_good)"
   ]
  },
  {
   "cell_type": "code",
   "execution_count": null,
   "metadata": {},
   "outputs": [],
   "source": [
    "len(np.where( mask[sl] )[0] )"
   ]
  },
  {
   "cell_type": "code",
   "execution_count": null,
   "metadata": {},
   "outputs": [],
   "source": [
    "len(bininds_good_cur)"
   ]
  },
  {
   "cell_type": "code",
   "execution_count": null,
   "metadata": {},
   "outputs": [],
   "source": [
    "#%debug\n",
    "%run -i run_PCA.py --sources_type parcel_aal --bands_type crude --src_grouping_fn 10\\\n",
    " --src_grouping 0 \\\n",
    " --prefix test \\\n",
    "--skip_XGB 0\\\n",
    "--subskip_fit 8 \\\n",
    "--parcel_types Cerebellum \\\n",
    "--input_subdir test --output_subdir test\\\n",
    "--raw S99_off_move --load_only 1 --save_output 1"
   ]
  },
  {
   "cell_type": "code",
   "execution_count": null,
   "metadata": {},
   "outputs": [],
   "source": [
    "#%debug\n",
    "%run -i run_PCA.py --sources_type parcel_aal --bands_type crude --src_grouping_fn 10\\\n",
    " --src_grouping 0 \\\n",
    " --prefix test \\\n",
    "--skip_XGB 0\\\n",
    "--subskip_fit 8 \\\n",
    "--parcel_types Cerebellum \\\n",
    "--raw S97_off_move,S99_off_move --load_only 1 --save_output 0"
   ]
  },
  {
   "cell_type": "code",
   "execution_count": null,
   "metadata": {},
   "outputs": [],
   "source": [
    "stds"
   ]
  },
  {
   "cell_type": "code",
   "execution_count": null,
   "metadata": {},
   "outputs": [],
   "source": [
    "means"
   ]
  },
  {
   "cell_type": "code",
   "execution_count": null,
   "metadata": {},
   "outputs": [],
   "source": [
    "#search for non-zero components in short msrc names\n",
    "for fen in featnames:\n",
    "    r = re.match('.*msrc._[0-9]+_[0-9]+_c1[0-9]*', fen)\n",
    "    if r is not None:\n",
    "        print(fen)\n",
    "        \n",
    "#search for non-zero components in long msrc names\n",
    "for fen in featnames_nice:\n",
    "    r = re.match('.*msrc_.*_c1[0-9]*', fen)\n",
    "    if r is not None:\n",
    "        print(fen)"
   ]
  },
  {
   "cell_type": "code",
   "execution_count": null,
   "metadata": {},
   "outputs": [],
   "source": [
    "featnames_nice"
   ]
  },
  {
   "cell_type": "markdown",
   "metadata": {},
   "source": [
    "### Double"
   ]
  },
  {
   "cell_type": "code",
   "execution_count": null,
   "metadata": {},
   "outputs": [],
   "source": [
    "%load_ext autoreload\n",
    "%autoreload 2\n",
    "\n",
    "%run -i run_PCA.py --sources_type parcel_aal --bands_type crude --src_grouping_fn 10\\\n",
    " --src_grouping 0 \\\n",
    " --prefix test \\\n",
    "--subskip_fit 4\\\n",
    "--groupings_to_use merge_all_not_trem,merge_nothing\\\n",
    "--int_types_to_use basic,trem_vs_quiet\\\n",
    "--raw  S99_off_hold,S97_off_move --load_only 1 --show_plots 1 --plot_types feat_stats"
   ]
  },
  {
   "cell_type": "code",
   "execution_count": null,
   "metadata": {},
   "outputs": [],
   "source": [
    "grouping, sides_hand"
   ]
  },
  {
   "cell_type": "code",
   "execution_count": null,
   "metadata": {},
   "outputs": [],
   "source": [
    "    if show_plots and 'feat_stats' in plot_types:\n",
    "        int_types_to_stat = [it + '_{}'.format(main_side_let) for it in gp.int_types_basic]\n",
    "        upre.plotFeatStatsScatter(rawnames, X_pri, int_types_to_stat,\n",
    "                            featnames,sfreq,\n",
    "                            rawtimes_pri,side_switch_happened_pri, wbd_pri=wbd_pri,\n",
    "                                    save_fig=True, separate_by = 'feat_type' )\n",
    "        #plt.suptitle('Feat stats before rescaling')\n",
    "        #pdf.savefig()\n",
    "        #plt.close()\n",
    "        #gc.collect()\n"
   ]
  },
  {
   "cell_type": "code",
   "execution_count": null,
   "metadata": {},
   "outputs": [],
   "source": [
    "featnames[0]"
   ]
  },
  {
   "cell_type": "code",
   "execution_count": null,
   "metadata": {},
   "outputs": [],
   "source": [
    "re.match(\"([a-zA-Z]+)_.*\",featnames[0]).groups()[0]\n"
   ]
  },
  {
   "cell_type": "code",
   "execution_count": null,
   "metadata": {},
   "outputs": [],
   "source": [
    "class_ids_grouped"
   ]
  },
  {
   "cell_type": "code",
   "execution_count": null,
   "metadata": {},
   "outputs": [],
   "source": [
    "revdict"
   ]
  },
  {
   "cell_type": "code",
   "execution_count": null,
   "metadata": {},
   "outputs": [],
   "source": [
    "counts = utsne.countClassLabels(class_labels_good, revdict=revdict) \n",
    "counts"
   ]
  },
  {
   "cell_type": "code",
   "execution_count": null,
   "metadata": {},
   "outputs": [],
   "source": [
    "ivalis_tb_indarrays_merged.keys()"
   ]
  },
  {
   "cell_type": "code",
   "execution_count": null,
   "metadata": {},
   "outputs": [],
   "source": [
    "new_main_side"
   ]
  },
  {
   "cell_type": "code",
   "execution_count": null,
   "metadata": {},
   "outputs": [],
   "source": [
    "class_ids_grouped"
   ]
  },
  {
   "cell_type": "code",
   "execution_count": null,
   "metadata": {},
   "outputs": [],
   "source": [
    "class_labels == 0"
   ]
  },
  {
   "cell_type": "code",
   "execution_count": null,
   "metadata": {},
   "outputs": [],
   "source": [
    "set(class_labels)"
   ]
  },
  {
   "cell_type": "markdown",
   "metadata": {},
   "source": [
    "## four"
   ]
  },
  {
   "cell_type": "code",
   "execution_count": null,
   "metadata": {},
   "outputs": [],
   "source": [
    "%load_ext autoreload\n",
    "%autoreload 2\n",
    "#%debug\n",
    "%run -i run_PCA.py --sources_type parcel_aal --bands_type crude --src_grouping_fn 10 \\\n",
    " --src_grouping 0 \\\n",
    " --prefix test \\\n",
    " --LFP_related_only 1\\\n",
    " --raw S99_off_hold,S99_off_move,S99_on_hold,S99_on_move\\\n",
    " --groupings_to_use merge_nothing,merge_within_subj,merge_within_medcond,merge_within_task\\\n",
    "--int_types_to_use basic,trem_vs_quiet,subj_medcond_task,subj_medcond,subj "
   ]
  },
  {
   "cell_type": "code",
   "execution_count": null,
   "metadata": {},
   "outputs": [],
   "source": []
  },
  {
   "cell_type": "markdown",
   "metadata": {},
   "source": [
    "## Normal dataset "
   ]
  },
  {
   "cell_type": "code",
   "execution_count": null,
   "metadata": {},
   "outputs": [],
   "source": [
    "%load_ext autoreload\n",
    "%autoreload 2"
   ]
  },
  {
   "cell_type": "markdown",
   "metadata": {},
   "source": [
    "### Single"
   ]
  },
  {
   "cell_type": "code",
   "execution_count": null,
   "metadata": {},
   "outputs": [],
   "source": [
    "#%debug\n",
    "%run -i run_PCA.py --sources_type parcel_aal --bands_type crude --src_grouping_fn 10\\\n",
    " --src_grouping 0 \\\n",
    " --prefix test \\\n",
    "--raw S01_off_hold --load_only 0"
   ]
  },
  {
   "cell_type": "markdown",
   "metadata": {},
   "source": [
    "### Double"
   ]
  },
  {
   "cell_type": "code",
   "execution_count": null,
   "metadata": {},
   "outputs": [],
   "source": [
    "#%debug\n",
    "%run -i run_PCA.py --sources_type parcel_aal --bands_type crude --src_grouping_fn 10\\\n",
    " --src_grouping 0 \\\n",
    " --groupings_to_use merge_nothing,merge_within_subj,merge_within_medcond,merge_within_task\\\n",
    "--int_types_to_use basic,trem_vs_quiet,subj_medcond_task,subj_medcond,subj \\\n",
    "--prefix test --LFP_related_only 1\\\n",
    "--raw S01_off_hold,S01_off_move \\\n",
    "--show_plots 1 --plot_types feat_stats --load_only 1"
   ]
  },
  {
   "cell_type": "code",
   "execution_count": null,
   "metadata": {},
   "outputs": [],
   "source": [
    "set(feature_names_pri[0]) - set(good_feats) "
   ]
  },
  {
   "cell_type": "code",
   "execution_count": null,
   "metadata": {},
   "outputs": [],
   "source": [
    "set(good_feats) - set(feature_names_pri[0])"
   ]
  },
  {
   "cell_type": "code",
   "execution_count": null,
   "metadata": {},
   "outputs": [],
   "source": [
    "feature_names_pri"
   ]
  },
  {
   "cell_type": "code",
   "execution_count": null,
   "metadata": {},
   "outputs": [],
   "source": [
    "new_main_side_pri"
   ]
  },
  {
   "cell_type": "code",
   "execution_count": null,
   "metadata": {},
   "outputs": [],
   "source": [
    "output_subdir"
   ]
  },
  {
   "cell_type": "code",
   "execution_count": null,
   "metadata": {},
   "outputs": [],
   "source": [
    "anns, anns_pri, times_concat, dataset_bounds, wbd_merged = utsne.concatAnns(rawnames,\n",
    "                                                          rawtimes_pri, crop=(crop_start,crop_end),\n",
    "                                                          side_rev_pri = side_switch_happened_pri,\n",
    "                                                         wbd_pri = wbd_pri, sfreq=sfreq, ret_wbd_merged=1)\n"
   ]
  },
  {
   "cell_type": "code",
   "execution_count": null,
   "metadata": {},
   "outputs": [],
   "source": [
    "wbd_merged[1,-1] / sfreq, (times_concat[-1] + 1/sfreq)"
   ]
  },
  {
   "cell_type": "code",
   "execution_count": null,
   "metadata": {},
   "outputs": [],
   "source": [
    "wbd_merged[:,0]"
   ]
  },
  {
   "cell_type": "code",
   "execution_count": null,
   "metadata": {},
   "outputs": [],
   "source": [
    "d = np.diff(times_concat)\n",
    "min(d),max(d), np.mean(d)"
   ]
  },
  {
   "cell_type": "code",
   "execution_count": null,
   "metadata": {},
   "outputs": [],
   "source": [
    "np.sum(d>0.005)"
   ]
  },
  {
   "cell_type": "code",
   "execution_count": null,
   "metadata": {},
   "outputs": [],
   "source": []
  },
  {
   "cell_type": "code",
   "execution_count": null,
   "metadata": {},
   "outputs": [],
   "source": [
    "wbd"
   ]
  },
  {
   "cell_type": "code",
   "execution_count": null,
   "metadata": {},
   "outputs": [],
   "source": [
    "\n",
    "\n",
    "    \n",
    "\n",
    "plotFeatStatsScatter(rawnames,X_pri_pre, ['notrem_L', 'trem_L', 'entire'],\n",
    "                         feature_names_pri,wbd_pri,sfreq,\n",
    "                         rawtimes_pri,side_switch_happened_pri)\n"
   ]
  },
  {
   "cell_type": "code",
   "execution_count": null,
   "metadata": {},
   "outputs": [],
   "source": [
    "plotFeatStatsScatter(rawnames,X_pri, ['notrem_L', 'trem_L', 'entire'],\n",
    "                         feature_names_pri,wbd_pri,sfreq,\n",
    "                         rawtimes_pri,side_switch_happened_pri)"
   ]
  },
  {
   "cell_type": "code",
   "execution_count": null,
   "metadata": {},
   "outputs": [],
   "source": [
    "f.get('wbd',None)"
   ]
  },
  {
   "cell_type": "code",
   "execution_count": null,
   "metadata": {},
   "outputs": [],
   "source": []
  },
  {
   "cell_type": "code",
   "execution_count": null,
   "metadata": {},
   "outputs": [],
   "source": [
    "#%debug\n",
    "%run -i run_PCA.py --sources_type parcel_aal --bands_type crude --src_grouping_fn 10\\\n",
    " --src_grouping 0 \\\n",
    " --prefix test --LFP_related_only 1\\\n",
    "--raw S01_off_hold,S02_off_hold --load_only 0"
   ]
  },
  {
   "cell_type": "code",
   "execution_count": null,
   "metadata": {},
   "outputs": [],
   "source": [
    "lda_analysis_versions['all_present_features']['CV'].keys()"
   ]
  },
  {
   "cell_type": "code",
   "execution_count": null,
   "metadata": {},
   "outputs": [],
   "source": [
    "LFP_related_only"
   ]
  },
  {
   "cell_type": "code",
   "execution_count": null,
   "metadata": {},
   "outputs": [],
   "source": [
    "import datetime"
   ]
  },
  {
   "cell_type": "code",
   "execution_count": null,
   "metadata": {},
   "outputs": [],
   "source": []
  },
  {
   "cell_type": "code",
   "execution_count": null,
   "metadata": {},
   "outputs": [],
   "source": [
    "np.arange(4)"
   ]
  },
  {
   "cell_type": "code",
   "execution_count": null,
   "metadata": {},
   "outputs": [],
   "source": [
    "np.logical_and(np.ones(4),np.ones(4),np.arange(4).astype(bool))"
   ]
  },
  {
   "cell_type": "code",
   "execution_count": null,
   "metadata": {},
   "outputs": [],
   "source": [
    "wbd_pri[0].shape"
   ]
  },
  {
   "cell_type": "code",
   "execution_count": null,
   "metadata": {},
   "outputs": [],
   "source": [
    "X.shape"
   ]
  },
  {
   "cell_type": "code",
   "execution_count": null,
   "metadata": {},
   "outputs": [],
   "source": [
    "#%debug\n",
    "Xs = upre.rescaleFeats(rawnames, Xs, feature_names_pri[0], wbd_pri,\n",
    "                 sfreq, rawtimes_pri, int_type_pri = int_type_pri,\n",
    "                 minlen_bins = 5 * 256 / 32, combine_within='no')\n"
   ]
  },
  {
   "cell_type": "code",
   "execution_count": null,
   "metadata": {},
   "outputs": [],
   "source": []
  },
  {
   "cell_type": "code",
   "execution_count": null,
   "metadata": {},
   "outputs": [],
   "source": [
    "from sklearn.model_selection import cross_validate"
   ]
  },
  {
   "cell_type": "code",
   "execution_count": null,
   "metadata": {},
   "outputs": [],
   "source": [
    "cross_validate"
   ]
  },
  {
   "cell_type": "code",
   "execution_count": null,
   "metadata": {},
   "outputs": [],
   "source": [
    "def myfun(y_true,y_pred):\n",
    "    span = (np.max(y_true) - np.min(y_true))\n",
    "    #print(span)\n",
    "    assert span <= 1\n",
    "    # I need to give y_true with only two possible values \n",
    "    #print(y_true,y_pred)\n",
    "    ntot = len(y_true)\n",
    "    TP = sum(y_true == y_pred)\n",
    "    FP = sum(y_true != y_pred)\n",
    "    return len(y_true)"
   ]
  },
  {
   "cell_type": "code",
   "execution_count": null,
   "metadata": {},
   "outputs": [],
   "source": [
    "from sklearn.metrics import make_scorer"
   ]
  },
  {
   "cell_type": "code",
   "execution_count": null,
   "metadata": {},
   "outputs": [],
   "source": [
    "# scoring = {'prec_macro': 'precision_macro',\n",
    "#            'rec_macro': make_scorer(recall_score, average='macro')}\n",
    "\n",
    "scoring = ['balanced_accuracy', 'precision', 'recall', 'f1']\n",
    "scoring = {'specificity':make_scorer(myfun)}"
   ]
  },
  {
   "cell_type": "code",
   "execution_count": null,
   "metadata": {},
   "outputs": [],
   "source": [
    "# add groups corresponding to patiend & condition numbmer. Maybe I can use rawnames directly"
   ]
  },
  {
   "cell_type": "code",
   "execution_count": null,
   "metadata": {},
   "outputs": [],
   "source": [
    "cross_validate(model, Xconcat_good_cur, class_labels_good, scoring=scoring, \n",
    "               cv=5, return_train_score=True)"
   ]
  },
  {
   "cell_type": "code",
   "execution_count": null,
   "metadata": {},
   "outputs": [],
   "source": [
    "import sklearn\n",
    "help(sklearn.metrics)"
   ]
  },
  {
   "cell_type": "code",
   "execution_count": null,
   "metadata": {},
   "outputs": [],
   "source": [
    "help(cross_validate)"
   ]
  },
  {
   "cell_type": "code",
   "execution_count": null,
   "metadata": {},
   "outputs": [],
   "source": [
    "len(parcel_types),parcel_types[0]"
   ]
  },
  {
   "cell_type": "code",
   "execution_count": null,
   "metadata": {},
   "outputs": [],
   "source": [
    "src_rec_info_pri[0]"
   ]
  },
  {
   "cell_type": "code",
   "execution_count": null,
   "metadata": {},
   "outputs": [],
   "source": []
  },
  {
   "cell_type": "code",
   "execution_count": null,
   "metadata": {},
   "outputs": [],
   "source": [
    "#roi_labels_cur = roi_labels[srcgrouping_names_sorted[0]]"
   ]
  },
  {
   "cell_type": "markdown",
   "metadata": {
    "heading_collapsed": true
   },
   "source": [
    "# Kalman"
   ]
  },
  {
   "cell_type": "code",
   "execution_count": null,
   "metadata": {
    "hidden": true
   },
   "outputs": [],
   "source": [
    "rawlfp = mne.io.read_raw( os.path.join(gv.data_dir,\"S07_on_move_LFPonly.fif\") )"
   ]
  },
  {
   "cell_type": "code",
   "execution_count": null,
   "metadata": {
    "hidden": true
   },
   "outputs": [],
   "source": [
    "rawlfp.load_data()\n",
    "\n",
    "#utils.\n",
    "\n",
    "#rawlfp.filter(l_freq=10, h_freq=30)\n",
    "\n",
    "chdata = rawlfp.get_data()\n",
    "\n",
    "chd = chdata[0]\n",
    "\n",
    "chd_ang, chd_instfreq, chd_ampl = utils.getBandHilbDat(chd,sfreq,10,30)\n",
    "\n",
    "\n",
    "\n",
    "plt.figure(figsize=(14,4))\n",
    "plt.plot(chd_ampl[:5*sfreq])\n",
    "\n",
    "inds = slice(None,10*sfreq)\n",
    "#inds = slice(None,None)\n",
    "chd_test = chd_ampl[inds]\n",
    "times_test = rawlfp.times[inds]"
   ]
  },
  {
   "cell_type": "code",
   "execution_count": null,
   "metadata": {
    "hidden": true
   },
   "outputs": [],
   "source": [
    "estim = chd_test[:300]"
   ]
  },
  {
   "cell_type": "code",
   "execution_count": null,
   "metadata": {
    "hidden": true
   },
   "outputs": [],
   "source": [
    "span = np.max(chd_test ) - np.min(chd_test)"
   ]
  },
  {
   "cell_type": "code",
   "execution_count": null,
   "metadata": {
    "hidden": true
   },
   "outputs": [],
   "source": [
    "%%latex\n",
    "\\begin{gather}\n",
    "x_k = A x_{k-1} + q_{k-1}, \\qquad q_{k-1} \\sim N(0, Q) \\\\\n",
    "y_k = H x_k + r_k, \\qquad r_k \\sim N(0, R),\n",
    "\\end{gather}"
   ]
  },
  {
   "cell_type": "code",
   "execution_count": null,
   "metadata": {
    "hidden": true
   },
   "outputs": [],
   "source": []
  },
  {
   "cell_type": "code",
   "execution_count": null,
   "metadata": {
    "hidden": true
   },
   "outputs": [],
   "source": [
    "procnoise_coef = 0.05\n",
    "noisecov_coef = 200\n",
    "kf = simdkalman.KalmanFilter(\n",
    "    state_transition = [[1]],        # matrix A\n",
    "    process_noise = np.diag([span*procnoise_coef]),    # Q\n",
    "    observation_model = np.array([[1]]),   # H\n",
    "    observation_noise = np.std(estim)*noisecov_coef)   # R\n",
    "# to smoothen I have to have small process noise and large observation noise\n",
    "\n",
    "\n",
    "smoothed = kf.smooth(chd_test,\n",
    "                     initial_value = [np.mean(estim)],\n",
    "                     initial_covariance = np.diag([np.std(estim)]))\n",
    "\n",
    "plt.figure(figsize=(14,4))\n",
    "plt.plot(times_test,chd_test)\n",
    "plt.plot(times_test,smoothed.states.mean[:,0])"
   ]
  },
  {
   "cell_type": "code",
   "execution_count": null,
   "metadata": {
    "hidden": true
   },
   "outputs": [],
   "source": [
    "help(LowessSmoother)"
   ]
  },
  {
   "cell_type": "code",
   "execution_count": null,
   "metadata": {
    "hidden": true
   },
   "outputs": [],
   "source": [
    "from tsmoothie.smoother import LowessSmoother\n",
    "smoother = LowessSmoother(smooth_fraction=0.5, iterations=1)\n",
    "smoother.smooth(chd_test)\n",
    "\n",
    "plt.figure(figsize=(14,4))\n",
    "plt.plot(times_test,chd_test)\n",
    "plt.plot(times_test,smoother.data[0])"
   ]
  },
  {
   "cell_type": "code",
   "execution_count": null,
   "metadata": {
    "hidden": true
   },
   "outputs": [],
   "source": [
    "#help(simdkalman)"
   ]
  },
  {
   "cell_type": "code",
   "execution_count": null,
   "metadata": {
    "hidden": true
   },
   "outputs": [],
   "source": [
    "chdata.shape"
   ]
  },
  {
   "cell_type": "code",
   "execution_count": null,
   "metadata": {
    "hidden": true
   },
   "outputs": [],
   "source": []
  },
  {
   "cell_type": "code",
   "execution_count": null,
   "metadata": {
    "hidden": true
   },
   "outputs": [],
   "source": [
    "%matplotlib inline"
   ]
  },
  {
   "cell_type": "code",
   "execution_count": null,
   "metadata": {
    "hidden": true
   },
   "outputs": [],
   "source": [
    "smoothed_.shape"
   ]
  },
  {
   "cell_type": "code",
   "execution_count": null,
   "metadata": {
    "hidden": true
   },
   "outputs": [],
   "source": [
    "import multiprocessing as mpr\n",
    "n_jobs = None\n",
    "if n_jobs is None:\n",
    "    n_jobs = max(1, mpr.cpu_count() - 2 )\n",
    "elif n_jobs == -1:\n",
    "    n_jobs = mpr.cpu_count()"
   ]
  },
  {
   "cell_type": "code",
   "execution_count": null,
   "metadata": {
    "hidden": true
   },
   "outputs": [],
   "source": [
    "estim = chd_test[:300]\n",
    "\n",
    "chd_test2 = np.vstack([chd_test, chd_test])\n",
    "sz = 1e-2\n",
    "chd_test2[1] += np.random.uniform(low=-sz,high=sz,size=(len(chd_test)))\n",
    "\n",
    "Tp = 1 * sfreq  # the smaller the smoother\n",
    "estim = chd_test2[:,:300]\n",
    "\n",
    "n_jobs = 1\n",
    "smoothed_ = smoothData(chd_test2,Tp,estim, n_jobs=n_jobs)\n",
    "\n",
    "for chi in range(smoothed_.shape[0]):\n",
    "    plt.figure(figsize=(14,4))\n",
    "    plt.plot(times_test,chd_test,label='test')\n",
    "    #plt.plot(times_test,smoothed.states.mean[:,0])\n",
    "    plt.plot(times_test,smoothed_[chi],label='smoothed {}'.format(chi))\n",
    "    plt.legend()\n",
    "    plt.show()"
   ]
  },
  {
   "cell_type": "code",
   "execution_count": null,
   "metadata": {
    "hidden": true
   },
   "outputs": [],
   "source": [
    "smoothed_.shape"
   ]
  },
  {
   "cell_type": "code",
   "execution_count": null,
   "metadata": {
    "hidden": true
   },
   "outputs": [],
   "source": [
    "chd_test2 = np.vstack([chd_test, chd_test])"
   ]
  },
  {
   "cell_type": "code",
   "execution_count": null,
   "metadata": {
    "hidden": true
   },
   "outputs": [],
   "source": [
    "import gc; gc.collect()"
   ]
  },
  {
   "cell_type": "code",
   "execution_count": null,
   "metadata": {
    "hidden": true
   },
   "outputs": [],
   "source": [
    "chd_test2.shape"
   ]
  },
  {
   "cell_type": "code",
   "execution_count": null,
   "metadata": {
    "hidden": true
   },
   "outputs": [],
   "source": [
    "ar = np.array( [[0, np.nan, 0, 1 , 3], [44, 5, 0, 1 , 3], [4, 4, 5 ,np.nan, 54]] )\n",
    "display(ar)\n",
    "#ar = ar.T\n",
    "print(ar.shape)\n",
    "np.where( np.isnan(ar) )"
   ]
  },
  {
   "cell_type": "code",
   "execution_count": null,
   "metadata": {
    "hidden": true
   },
   "outputs": [],
   "source": [
    "smoothed_ = smoothData(chdata,chdata[:,:sfreq*5],Tp)\n",
    "plt.figure(figsize=(14,4))\n",
    "plt.plot(rawlfp.times,chdata[0])\n",
    "#plt.plot(times_test,smoothed.states.mean[:,0])\n",
    "plt.plot(rawlfp.times,smoothed_[0])\n",
    "plt.xlim(0,10)"
   ]
  },
  {
   "cell_type": "code",
   "execution_count": null,
   "metadata": {
    "hidden": true
   },
   "outputs": [],
   "source": [
    "smoothed_.shape"
   ]
  },
  {
   "cell_type": "code",
   "execution_count": null,
   "metadata": {
    "hidden": true
   },
   "outputs": [],
   "source": [
    "smoothed_[0]"
   ]
  },
  {
   "cell_type": "code",
   "execution_count": null,
   "metadata": {
    "hidden": true
   },
   "outputs": [],
   "source": [
    "smoothed.states"
   ]
  },
  {
   "cell_type": "code",
   "execution_count": null,
   "metadata": {
    "hidden": true
   },
   "outputs": [],
   "source": [
    "plt.plot(smoothed.states.cov[10:-10,0])\n",
    "#plt.plot(smoothed.states.cov[10:-10,1])"
   ]
  },
  {
   "cell_type": "code",
   "execution_count": null,
   "metadata": {
    "hidden": true
   },
   "outputs": [],
   "source": [
    "import tsmoothie"
   ]
  },
  {
   "cell_type": "code",
   "execution_count": null,
   "metadata": {
    "hidden": true
   },
   "outputs": [],
   "source": [
    "help(tsmoothie.smoother.KalmanSmoother)"
   ]
  },
  {
   "cell_type": "code",
   "execution_count": null,
   "metadata": {
    "hidden": true
   },
   "outputs": [],
   "source": [
    "%debug\n",
    "%run -i run_PCA.py --sources_type parcel_aal --bands_type crude --src_grouping_fn 9\\\n",
    " --src_grouping 0 \\\n",
    " --prefix onlyMotorSrc_test \\\n",
    "--parcel_types motor-related --crop 170,220 --raw S01_off_hold"
   ]
  },
  {
   "cell_type": "code",
   "execution_count": null,
   "metadata": {
    "hidden": true
   },
   "outputs": [],
   "source": [
    "bad_parcel_inds"
   ]
  },
  {
   "cell_type": "code",
   "execution_count": null,
   "metadata": {
    "hidden": true
   },
   "outputs": [],
   "source": [
    "good_feats"
   ]
  },
  {
   "cell_type": "code",
   "execution_count": null,
   "metadata": {
    "hidden": true
   },
   "outputs": [],
   "source": [
    "crop_end"
   ]
  },
  {
   "cell_type": "code",
   "execution_count": null,
   "metadata": {
    "hidden": true
   },
   "outputs": [],
   "source": [
    "len()"
   ]
  },
  {
   "cell_type": "code",
   "execution_count": null,
   "metadata": {
    "hidden": true
   },
   "outputs": [],
   "source": [
    "all_parcels"
   ]
  },
  {
   "cell_type": "code",
   "execution_count": null,
   "metadata": {
    "hidden": true
   },
   "outputs": [],
   "source": [
    "regexes"
   ]
  },
  {
   "cell_type": "code",
   "execution_count": null,
   "metadata": {
    "hidden": true
   },
   "outputs": [],
   "source": [
    "len(inds_bad_parcels)"
   ]
  },
  {
   "cell_type": "code",
   "execution_count": null,
   "metadata": {
    "hidden": true
   },
   "outputs": [],
   "source": [
    "parcel_types"
   ]
  },
  {
   "cell_type": "code",
   "execution_count": null,
   "metadata": {
    "hidden": true
   },
   "outputs": [],
   "source": [
    "bad_parcels"
   ]
  },
  {
   "cell_type": "code",
   "execution_count": null,
   "metadata": {
    "hidden": true
   },
   "outputs": [],
   "source": [
    "roi_labels"
   ]
  },
  {
   "cell_type": "code",
   "execution_count": null,
   "metadata": {
    "hidden": true
   },
   "outputs": [],
   "source": []
  },
  {
   "cell_type": "markdown",
   "metadata": {},
   "source": [
    "# tSNE"
   ]
  },
  {
   "cell_type": "code",
   "execution_count": null,
   "metadata": {},
   "outputs": [],
   "source": [
    "%load_ext autoreload\n",
    "%autoreload 2"
   ]
  },
  {
   "cell_type": "code",
   "execution_count": null,
   "metadata": {},
   "outputs": [],
   "source": []
  },
  {
   "cell_type": "code",
   "execution_count": null,
   "metadata": {},
   "outputs": [],
   "source": [
    "#%debug\n",
    "%run -i run_tSNE.py --sources_type parcel_aal --src_grouping_fn 10\\\n",
    " --src_grouping 0 \\\n",
    " --prefix test \\\n",
    "--subskip 8 --output_subdir test_S01\\\n",
    "--input_subdir test\\\n",
    "--raw S99_off_hold,S99_off_move --load_only 1"
   ]
  },
  {
   "cell_type": "code",
   "execution_count": null,
   "metadata": {},
   "outputs": [],
   "source": [
    "# import matplotlib\n",
    "# matplotlib.use('Qt4Agg')\n",
    "#['GTK3Agg', 'GTK3Cairo', 'MacOSX', 'nbAgg', 'Qt4Agg', 'Qt4Cairo', \n",
    "#'Qt5Agg', 'Qt5Cairo', 'TkAgg', 'TkCairo', 'WebAgg', 'WX', \n",
    "#'WXAgg', 'WXCairo', 'agg', 'cairo', 'pdf', 'pgf', 'ps', 'svg', 'template']\n"
   ]
  },
  {
   "cell_type": "code",
   "execution_count": null,
   "metadata": {},
   "outputs": [],
   "source": [
    "%matplotlib "
   ]
  },
  {
   "cell_type": "code",
   "execution_count": null,
   "metadata": {},
   "outputs": [],
   "source": [
    "%load_ext autoreload\n",
    "%autoreload 2\n",
    "\n",
    "#%debug\n",
    "%run -i run_tSNE.py --sources_type parcel_aal --src_grouping_fn 10\\\n",
    " --src_grouping 0 \\\n",
    " --prefix test \\\n",
    "--subskip 8 --output_subdir test_S01\\\n",
    "--raw S01_off_hold,S01_off_move --load_only 1"
   ]
  },
  {
   "cell_type": "markdown",
   "metadata": {},
   "source": [
    "# Plotting best feats"
   ]
  },
  {
   "cell_type": "code",
   "execution_count": null,
   "metadata": {},
   "outputs": [],
   "source": [
    "sind_str,mc,tk  = utils.getParamsFromRawname(rawnames[0])\n",
    "sources_type='parcel_aal'\n",
    "src_file_grouping_ind = 10\n",
    "src_rec_info_fn = '{}_{}_grp{}_src_rec_info'.format(rawname_,\n",
    "                                                    sources_type,src_file_grouping_ind)\n",
    "src_rec_info_fn_full = os.path.join(gv.data_dir, src_rec_info_fn + '.npz')\n",
    "rec_info = np.load(src_rec_info_fn_full, allow_pickle=True)\n",
    "\n",
    "\n",
    "print( list(rec_info.keys()) )\n",
    "\n",
    "labels_dict = rec_info['label_groups_dict'][()]\n",
    "srcgroups_dict = rec_info['srcgroups_dict'][()]\n",
    "coords = rec_info['coords_Jan_actual'][()]\n",
    "srcgrouping_names_sorted = rec_info['srcgroups_key_order'][()]\n"
   ]
  },
  {
   "cell_type": "code",
   "execution_count": null,
   "metadata": {},
   "outputs": [],
   "source": [
    "sgdn = 'all_raw'\n",
    "clrs = utils.vizGroup(sind_str,coords,labels_dict[sgdn],srcgroups_dict[sgdn], show=False)\n",
    "\n",
    "import mayavi.mlab as mam\n",
    "#x,z axis views\n",
    "\n",
    "\n",
    "# mam.pitch(0)\n",
    "# mam.roll(0)\n",
    "#mam.view(0,0,'auto','auto',0,0)  #Z axis, from above\n",
    "#mam.view(90,0,'auto','auto',0,0)  #Z axis, from above\n",
    "\n",
    "#mam.view(6,2,'auto','auto')\n",
    "#mam.view(0,0)  # Z above\n",
    "mam.view(0,90)  # Y\n",
    "\n",
    "mam.orientation_axes()\n",
    "mam.show()"
   ]
  },
  {
   "cell_type": "code",
   "execution_count": null,
   "metadata": {},
   "outputs": [],
   "source": [
    "mam.close()"
   ]
  },
  {
   "cell_type": "code",
   "execution_count": null,
   "metadata": {},
   "outputs": [],
   "source": [
    "lda_output.keys()"
   ]
  },
  {
   "cell_type": "code",
   "execution_count": null,
   "metadata": {},
   "outputs": [],
   "source": [
    "best_feats_dict = {}\n",
    "\n",
    "feat_info_pri\n",
    "\n",
    "featnames_nice = utils.nicenFeatNames(featnames_filtered,\n",
    "                                    labels_dict,srcgrouping_names_sorted)\n",
    "featnames_nice = np.array(featnames_nice)\n",
    "\n",
    "\n",
    "\n",
    "if 'MI_per_feati' in lda_output:\n",
    "    MI = lda_output['MI_per_feati']\n",
    "\n",
    "    best_featsMI_incr = np.argsort(MI)\n",
    "    nbest_MI = 10\n",
    "\n",
    "    strong_inds = best_featsMI_incr[-nbest_MI:]    \n",
    "    best_feats_dict['MI'] = strong_inds\n",
    "\n",
    "strong_inds = lda_output['strong_inds_XGB']\n",
    "best_feats_dict['XGB'] = strong_inds\n",
    "\n",
    "strong_inds = lda_output['inds_important']\n",
    "best_feats_dict['LDA_naive'] = strong_inds\n",
    "\n",
    "# pca_derived_featinds_perthr = lda_output['pca_derived_featinds_perthr']\n",
    "# feat_variance_q_thr = lda_output['feat_variance_q_thr']\n",
    "\n",
    "# for thri,thr in feat_variance_q_thr:\n",
    "#     best_feats_dict['PCA_{:.2f}'.format(thr)] = pca_derived_featinds_perthr[thri] "
   ]
  },
  {
   "cell_type": "code",
   "execution_count": null,
   "metadata": {},
   "outputs": [],
   "source": [
    "bft = 'LDA_naive'\n",
    "#bft = 'XGB'\n",
    "strong_inds = best_feats_dict[bft]\n",
    "#feat_names_cur = featnames_nice[strong_inds]\n",
    "feat_names_cur = featnames_filtered[strong_inds]\n"
   ]
  },
  {
   "cell_type": "code",
   "execution_count": null,
   "metadata": {},
   "outputs": [],
   "source": [
    "import re\n",
    "src_chns_per_feat_nice = []\n",
    "src_chns_all_nice = []\n",
    "parcel_indices = []\n",
    "parcel_indices_all = []\n",
    "for fni,fn in enumerate(feat_names_cur):\n",
    "    p = 'msrc._[0-9]+_[0-9]+_c[0-9]+'\n",
    "    source_chns_cur_featname = re.findall(p, fn)\n",
    "    \n",
    "    sides,groupis,parcelis,compis = utils.parseMEGsrcChnamesShortList(source_chns_cur_featname)\n",
    "    parcel_indices_all += parcelis\n",
    "    parcel_indices += [parcelis]\n",
    "    \n",
    "    tmp = list(srcgrouping_names_sorted) * 10  # because we have 9 there\n",
    "    nice_chns_cur_featname = utils.nicenMEGsrc_chnames(source_chns_cur_featname,labels_dict,tmp,\n",
    "                            prefix='msrc_')\n",
    "    nice_chns_cur_featname = list(set(nice_chns_cur_featname))\n",
    "    src_chns_per_feat_nice += [nice_chns_cur_featname]\n",
    "    src_chns_all_nice += nice_chns_cur_featname\n",
    "    print(fn,nice_chns_cur_featname)\n",
    "\n",
    "sgdn='all_raw'\n",
    "parcel_indices_all = list(set(parcel_indices_all))\n",
    "#parcel_indices_all\n",
    "\n",
    "roi_labels = np.array(  labels_dict[sgdn] )\n",
    "rls = ['unlabeled'] + list( roi_labels[parcel_indices_all] )\n",
    "\n",
    "srcgrp = np.zeros( srcgroups_dict[sgdn].shape, dtype=srcgroups_dict[sgdn].dtype)\n",
    "\n",
    "for pii,pi in enumerate(parcel_indices_all):\n",
    "    srcgrp[srcgroups_dict[sgdn] == pi] = pii + 1 #list(roi_labels).index( rls[pii])\n"
   ]
  },
  {
   "cell_type": "code",
   "execution_count": null,
   "metadata": {},
   "outputs": [],
   "source": [
    "%matplotlib qt"
   ]
  },
  {
   "cell_type": "code",
   "execution_count": null,
   "metadata": {},
   "outputs": [],
   "source": [
    "\n",
    "\n",
    "clrs =  vizGroup2(sind_str,coords,rls,srcgrp, show=False, alpha=.1)\n",
    "\n",
    "\n",
    "\n",
    "plt.tight_layout()\n",
    "plt.savefig('{}_srcmap_top.png'.format(bft))"
   ]
  },
  {
   "cell_type": "code",
   "execution_count": null,
   "metadata": {},
   "outputs": [],
   "source": [
    "help(plt.scatter)"
   ]
  },
  {
   "cell_type": "code",
   "execution_count": null,
   "metadata": {},
   "outputs": [],
   "source": [
    "# utils.vizGroup(sind_str,coords,rls,srcgrp, show=False)\n",
    "\n",
    "# import mayavi.mlab as mam\n",
    "\n",
    "# mam.view(0,0)  # Z\n",
    "# mam.savefig('{}_srcmap_top.png'.format(bft), size=(500,500))\n",
    "# mam.view(0,90)  # Y,  right side is closer to the viewer\n",
    "# mam.orientation_axes()\n",
    "# mam.savefig('{}_srcmap_sideR.png'.format(bft), size=(500,500))\n",
    "\n",
    "# mam.show()\n",
    "# mam.close()"
   ]
  },
  {
   "cell_type": "code",
   "execution_count": null,
   "metadata": {},
   "outputs": [],
   "source": [
    "a = (3,4)\n",
    "a,4"
   ]
  },
  {
   "cell_type": "code",
   "execution_count": null,
   "metadata": {},
   "outputs": [],
   "source": [
    "mam.close()"
   ]
  },
  {
   "cell_type": "code",
   "execution_count": null,
   "metadata": {},
   "outputs": [],
   "source": [
    "strong_inds"
   ]
  },
  {
   "cell_type": "code",
   "execution_count": null,
   "metadata": {},
   "outputs": [],
   "source": [
    "best_featn"
   ]
  },
  {
   "cell_type": "code",
   "execution_count": null,
   "metadata": {},
   "outputs": [],
   "source": [
    "lda_anver.keys()"
   ]
  },
  {
   "cell_type": "code",
   "execution_count": null,
   "metadata": {},
   "outputs": [],
   "source": []
  },
  {
   "cell_type": "code",
   "execution_count": null,
   "metadata": {},
   "outputs": [],
   "source": [
    "node_names"
   ]
  },
  {
   "cell_type": "code",
   "execution_count": null,
   "metadata": {},
   "outputs": [],
   "source": [
    "con.dtype"
   ]
  },
  {
   "cell_type": "code",
   "execution_count": null,
   "metadata": {},
   "outputs": [],
   "source": [
    "%matplotlib inline"
   ]
  },
  {
   "cell_type": "code",
   "execution_count": null,
   "metadata": {},
   "outputs": [],
   "source": [
    "con = np.arange(4)/50\n",
    "node_names = list( map(str, np.arange(4)) )\n",
    "tuplinds=( [1, 2, 3, 0],[3, 1, 1, 1])\n",
    "tuplinds=( np.array(tuplinds[0]), np.array(tuplinds[1]))\n",
    "\n",
    "mne.viz.plot_connectivity_circle(con, node_names, indices=tuplinds, n_lines=None,\n",
    "                                title='fddd')\n",
    "#plt.suptitle('fds')"
   ]
  },
  {
   "cell_type": "markdown",
   "metadata": {},
   "source": [
    "    con : array\n",
    "        Connectivity scores. Can be a square matrix, or a 1D array. If a 1D\n",
    "        array is provided, \"indices\" has to be used to define the connection\n",
    "        indices.\n",
    "            node_names : list of str\n",
    "        Node names. The order corresponds to the order in con.\n",
    "    indices : tuple of array | None\n",
    "        Two arrays with indices of connections for which the connections\n",
    "        strengths are defined in con. Only needed if con is a 1D array."
   ]
  },
  {
   "cell_type": "code",
   "execution_count": null,
   "metadata": {},
   "outputs": [],
   "source": [
    "help(mne.viz.plot_connectivity_circle)\n"
   ]
  },
  {
   "cell_type": "code",
   "execution_count": null,
   "metadata": {},
   "outputs": [],
   "source": [
    "subskip"
   ]
  },
  {
   "cell_type": "code",
   "execution_count": null,
   "metadata": {},
   "outputs": [],
   "source": [
    "X_cur_lda_type_[0].shape"
   ]
  },
  {
   "cell_type": "code",
   "execution_count": null,
   "metadata": {},
   "outputs": [],
   "source": [
    "lda_anver.keys()"
   ]
  },
  {
   "cell_type": "code",
   "execution_count": null,
   "metadata": {},
   "outputs": [],
   "source": [
    "len(tSNE_result)"
   ]
  },
  {
   "cell_type": "code",
   "execution_count": null,
   "metadata": {},
   "outputs": [],
   "source": [
    "out_name"
   ]
  },
  {
   "cell_type": "code",
   "execution_count": null,
   "metadata": {},
   "outputs": [],
   "source": [
    "fig_fname"
   ]
  },
  {
   "cell_type": "code",
   "execution_count": null,
   "metadata": {},
   "outputs": [],
   "source": [
    "if show_plots and do_tSNE:\n",
    "    print('Starting tSNE plotting ')\n",
    "    print('!!! only zero seed !! ')\n",
    "    if not os.path.exists(os.path.join(gv.dir_fig, output_subdir) ):\n",
    "        os.makedirs(os.path.join(gv.dir_fig, output_subdir) )\n",
    "    pdf= PdfPages( os.path.join(gv.dir_fig, output_subdir, out_name+'.pdf' ) )\n",
    "\n",
    "    #cols = [colors, colors2, colors3]\n",
    "    cols = [colors]\n",
    "\n",
    "    colind = 0\n",
    "    nr = len(points_type) * len(dim_red_algs )\n",
    "    nc = len(perplex_values)\n",
    "    ww = 8; hh=8\n",
    "    fig,axs = plt.subplots(ncols =nc, nrows=nr, figsize = (nc*ww, nr*hh))\n",
    "    if not isinstance(axs,np.ndarray):\n",
    "        axs = np.array([[axs]] )\n",
    "    # for pi,pv in enumerate(perplex_values):\n",
    "    #     for si,sv in enumerate(seeds):\n",
    "    for tpl in tSNE_result:\n",
    "        #for algi in range(len(dim_red_algs)):\n",
    "        pi,si,X_embedded, seed, param, lrate, dtype, alg = tpl\n",
    "        algi = dim_red_algs.index(alg)\n",
    "        rowind = points_type.index(dtype )\n",
    "        ax = axs[si + len(seeds)*algi,pi ]\n",
    "        #X_embedded = res[si][pi]\n",
    "        #ax.scatter(X_embedded[:,0], X_embedded[:,1], c = cols[colind], s=5)\n",
    "\n",
    "        utsne.plotMultiMarker(ax,X_embedded[:,0], X_embedded[:,1], c = cols[colind], s=5,\n",
    "                                m=markers)\n",
    "        ax.set_title('{} from {} param = {};\\nlrate = {}; seed = {}'.\n",
    "                    format(alg, dtype, param, lrate, seed))\n",
    "\n",
    "    axs[0,0].legend(handles=legend_elements)\n",
    "    #figname = 'tSNE_inpdim{}_PCAdim{}_Npts{}_hside{}_skip{}_wsz{}_lrate{}.pdf'.\\\n",
    "    #    format(n_feats, pcapts.shape[-1], X_PCA.shape, mts_letter, totskip, windowsz, lrate)\n",
    "\n",
    "\n",
    "    str_feats = ','.join(PCA_info['features_to_use'])\n",
    "    str_mods = ','.join(PCA_info['data_modalities'])\n",
    "    out_name += '\\nmainLFP{}_HFO{}_{}_{}\\nXshape={}'.\\\n",
    "        format(int(PCA_info['use_main_LFP_chan']), int(PCA_info['use_lfp_HFO']),\n",
    "               str_mods, str_feats, X_PCA.shape)\n",
    "\n",
    "    figname = out_name + '.pdf'\n",
    "    plt.suptitle(figname)\n",
    "    #plt.savefig(rawname_ +'_'+figname)\n",
    "\n",
    "    pdf.savefig()\n",
    "    pdf.close()\n"
   ]
  },
  {
   "cell_type": "code",
   "execution_count": null,
   "metadata": {},
   "outputs": [],
   "source": [
    "os.path.join(gv.dir_fig, output_subdir, out_name+'.pdf' )"
   ]
  },
  {
   "cell_type": "code",
   "execution_count": null,
   "metadata": {},
   "outputs": [],
   "source": [
    "figname"
   ]
  },
  {
   "cell_type": "code",
   "execution_count": null,
   "metadata": {},
   "outputs": [],
   "source": [
    "ldapts.shape"
   ]
  },
  {
   "cell_type": "code",
   "execution_count": null,
   "metadata": {},
   "outputs": [],
   "source": [
    "siXGB"
   ]
  },
  {
   "cell_type": "code",
   "execution_count": null,
   "metadata": {},
   "outputs": [],
   "source": [
    "feat_info_pri[0].keys()"
   ]
  },
  {
   "cell_type": "code",
   "execution_count": null,
   "metadata": {},
   "outputs": [],
   "source": [
    "rec_info['labels_dict']"
   ]
  },
  {
   "cell_type": "code",
   "execution_count": null,
   "metadata": {},
   "outputs": [],
   "source": [
    "import globvars as gv\n",
    "import os\n",
    "import mne,utils"
   ]
  },
  {
   "cell_type": "code",
   "execution_count": null,
   "metadata": {},
   "outputs": [],
   "source": [
    "#anns_cnv, ivalis_perside = utils.intervalJSON2Anns(rawname_)"
   ]
  },
  {
   "cell_type": "code",
   "execution_count": null,
   "metadata": {},
   "outputs": [],
   "source": [
    "# get info about bad MEG channels (from separate file)\n",
    "with open('subj_info.json') as info_json:\n",
    "        #raise TypeError\n",
    "\n",
    "    #json.dumps({'value': numpy.int64(42)}, default=convert)\n",
    "    gen_subj_info = json.load(info_json)"
   ]
  },
  {
   "cell_type": "code",
   "execution_count": null,
   "metadata": {},
   "outputs": [],
   "source": []
  },
  {
   "cell_type": "code",
   "execution_count": null,
   "metadata": {},
   "outputs": [],
   "source": [
    "from globvars import gp"
   ]
  },
  {
   "cell_type": "code",
   "execution_count": null,
   "metadata": {},
   "outputs": [],
   "source": [
    "#gv.gen_subj_info\n",
    "import json"
   ]
  },
  {
   "cell_type": "code",
   "execution_count": null,
   "metadata": {},
   "outputs": [],
   "source": []
  },
  {
   "cell_type": "code",
   "execution_count": null,
   "metadata": {},
   "outputs": [],
   "source": [
    "\n",
    "rawname_ = 'S01_off_hold'\n",
    "lens =upre.getGenIntervalInfoFromRawname(rawname_);#,interval=(150,250));\n",
    "lens_short = upre.getGenIntervalInfoFromRawname(rawname_,interval=(170,220));"
   ]
  },
  {
   "cell_type": "code",
   "execution_count": null,
   "metadata": {},
   "outputs": [],
   "source": [
    "list(sorted(lens.keys()))[0].find('_L')"
   ]
  },
  {
   "cell_type": "code",
   "execution_count": null,
   "metadata": {},
   "outputs": [],
   "source": [
    "rawnames =   ['S01_off_hold', 'S01_off_move'] + ['S01_on_hold', 'S01_on_move']\n",
    "rawnames +=  ['S02_off_hold', 'S02_off_move'] + ['S02_on_hold', 'S02_on_move'] \n",
    "rawnames +=  ['S03_off_hold', 'S03_off_move']\n",
    "rawnames +=  ['S04_off_hold', 'S04_off_move'] + ['S04_on_hold', 'S04_on_move'] \n",
    "rawnames +=  ['S05_off_hold', 'S05_off_move'] + ['S05_on_hold', 'S05_on_move'] \n",
    "rawnames +=  ['S06_off_hold', 'S07_off_move'] + ['S06_on_hold', 'S07_on_move'] \n",
    "rawnames +=  ['S07_off_hold', 'S07_off_move'] + ['S07_on_hold', 'S07_on_move'] \n",
    "rawnames +=  ['S08_off_hold', 'S07_off_move'] + ['S08_on_hold', 'S07_on_move'] \n",
    "rawnames +=  ['S09_off_hold', 'S07_off_move'] + ['S09_on_hold', 'S07_on_move'] \n",
    "rawnames +=  ['S10_off_hold', 'S07_off_move'] + ['S10_on_hold', 'S07_on_move'] "
   ]
  },
  {
   "cell_type": "code",
   "execution_count": null,
   "metadata": {},
   "outputs": [],
   "source": [
    "%%capture cap\n",
    "\n",
    "for rawname_ in rawnames:\n",
    "    try:\n",
    "        getGenIntervalInfoFromRawname(rawname_);\n",
    "    except FileNotFoundError as fnfe:\n",
    "        print(fnfe)\n",
    "        \n",
    "with open('interval_stats_output.txt', 'w') as f:\n",
    "    f.write(cap.stdout)\n",
    "\n",
    "        \n"
   ]
  },
  {
   "cell_type": "markdown",
   "metadata": {},
   "source": [
    "# Resave"
   ]
  },
  {
   "cell_type": "code",
   "execution_count": null,
   "metadata": {},
   "outputs": [],
   "source": [
    "#%debug\n",
    "%run -i resave.py"
   ]
  },
  {
   "cell_type": "code",
   "execution_count": null,
   "metadata": {},
   "outputs": [],
   "source": [
    "anns"
   ]
  },
  {
   "cell_type": "code",
   "execution_count": null,
   "metadata": {},
   "outputs": [],
   "source": [
    "anns[0]"
   ]
  },
  {
   "cell_type": "code",
   "execution_count": null,
   "metadata": {},
   "outputs": [],
   "source": []
  },
  {
   "cell_type": "code",
   "execution_count": null,
   "metadata": {},
   "outputs": [],
   "source": [
    "%run -i run_genfeats.py --sources_type parcel_aal --bands crude\\\n",
    " --src_grouping_fn 10\\\n",
    " --src_grouping 0 \\\n",
    " --raw S01_off_move,S02_off_move \\\n",
    " --feat_types con,H_act,H_mob,H_compl "
   ]
  },
  {
   "cell_type": "code",
   "execution_count": null,
   "metadata": {},
   "outputs": [],
   "source": []
  },
  {
   "cell_type": "code",
   "execution_count": null,
   "metadata": {},
   "outputs": [],
   "source": [
    "%run -i run_PCA.py --prefix all --rawnames S01_off_move,S02_off_move --sources_type parcel_aal \\\n",
    "--skip_XGB 0 --bands_type crude --src_grouping 0 --src_grouping_fn 10 --groupings_to_use merge_nothing \\\n",
    "--int_types_to_use basic,trem_vs_quiet --show_plots 0"
   ]
  },
  {
   "cell_type": "code",
   "execution_count": null,
   "metadata": {},
   "outputs": [],
   "source": [
    "#mne.viz.plot_ica_properties(ica,filt_raw,[0,1], show=0, psd_args={'fmax':75} ) "
   ]
  },
  {
   "cell_type": "code",
   "execution_count": null,
   "metadata": {},
   "outputs": [],
   "source": [
    "%run -i run_PCA.py --prefix all --rawnames S01_off_hold,S01_off_move --sources_type parcel_aal \\\n",
    "--skip_XGB 1 --bands_type crude --src_grouping 0 --src_grouping_fn 9 --groupings_to_use merge_nothing \\\n",
    "--int_types_to_use basic,trem_vs_quiet --show_plots 0"
   ]
  },
  {
   "cell_type": "code",
   "execution_count": null,
   "metadata": {},
   "outputs": [],
   "source": [
    "ldas_CV = lda_output_pg['merge_nothing']['basic']['ldaobjs_CV']"
   ]
  },
  {
   "cell_type": "code",
   "execution_count": null,
   "metadata": {},
   "outputs": [],
   "source": [
    "ldas_CV[0].__dict__.keys()"
   ]
  },
  {
   "cell_type": "code",
   "execution_count": null,
   "metadata": {},
   "outputs": [],
   "source": [
    "            scalings_list = [lda_cur.scalings_ for lda_cur in ldas_CV   ]\n",
    "            xbars_list     = [lda_cur.xbar_     for lda_cur in ldas_CV   ]\n",
    "            rotations_list = [lda_cur.rotations_  for lda_cur in ldas_CV   ]\n",
    "            means_list     = [lda_cur.means_  for lda_cur in ldas_CV   ]\n",
    "            #rotations_[i]\n",
    "            #scalings_[i]\n",
    "            #means_[i]\n",
    "\n",
    "            scalings_aver = sum(scalings_list) / len(scalings_list)\n",
    "            rotations_aver = sum(rotations_list) / len(rotations_list)\n",
    "            means_aver = sum(means_list) / len(means_list)\n"
   ]
  },
  {
   "cell_type": "code",
   "execution_count": null,
   "metadata": {},
   "outputs": [],
   "source": [
    "lda.fit(Xconcat_good_cur, class_labels_good) "
   ]
  },
  {
   "cell_type": "code",
   "execution_count": null,
   "metadata": {},
   "outputs": [],
   "source": [
    "#lda.scalings_"
   ]
  },
  {
   "cell_type": "code",
   "execution_count": null,
   "metadata": {},
   "outputs": [],
   "source": [
    "lda"
   ]
  },
  {
   "cell_type": "code",
   "execution_count": null,
   "metadata": {},
   "outputs": [],
   "source": [
    "lda.coef_"
   ]
  },
  {
   "cell_type": "code",
   "execution_count": null,
   "metadata": {},
   "outputs": [],
   "source": [
    "?? lda.decision_function"
   ]
  },
  {
   "cell_type": "code",
   "execution_count": null,
   "metadata": {},
   "outputs": [],
   "source": [
    "lda_output_pg['merge_nothing'].keys()"
   ]
  },
  {
   "cell_type": "code",
   "execution_count": null,
   "metadata": {},
   "outputs": [],
   "source": [
    "ldas_CV = lda_output_pg['merge_nothing']['trem_vs_quiet']['ldaobjs_CV']"
   ]
  },
  {
   "cell_type": "code",
   "execution_count": null,
   "metadata": {},
   "outputs": [],
   "source": [
    "intercept_list     = [lda_cur.intercept_     for lda_cur in ldas_CV   ]\n",
    "coef_list          = [lda_cur.coef_     for lda_cur in ldas_CV   ]\n",
    "\n",
    "#rotations_list = [lda_cur.rotations_  for lda_cur in ldas_CV   ]\n",
    "#means_list     = [lda_cur.means_  for lda_cur in ldas_CV   ]\n",
    "#rotations_[i]\n",
    "#scalings_[i]\n",
    "#means_[i]\n",
    "\n",
    "scalings_aver = sum(scalings_list) / len(scalings_list)\n",
    "intercept_aver = sum(intercept_list) / len(intercept_list)\n",
    "coef_aver = sum(coef_list) / len(coef_list)\n"
   ]
  },
  {
   "cell_type": "code",
   "execution_count": null,
   "metadata": {},
   "outputs": [],
   "source": [
    "intercept_list"
   ]
  },
  {
   "cell_type": "code",
   "execution_count": null,
   "metadata": {},
   "outputs": [],
   "source": [
    "from copy import deepcopy\n",
    "lda2 = deepcopy(lda)"
   ]
  },
  {
   "cell_type": "code",
   "execution_count": null,
   "metadata": {},
   "outputs": [],
   "source": [
    "lda2.coef_ = coef_aver\n",
    "lda2.intercept_ = intercept_aver"
   ]
  },
  {
   "cell_type": "code",
   "execution_count": null,
   "metadata": {},
   "outputs": [],
   "source": [
    "lda.coef_.shape"
   ]
  },
  {
   "cell_type": "code",
   "execution_count": null,
   "metadata": {},
   "outputs": [],
   "source": [
    "lda2.intercept_"
   ]
  },
  {
   "cell_type": "code",
   "execution_count": null,
   "metadata": {},
   "outputs": [],
   "source": [
    "#%debug\n",
    "utsne.getLDApredPower(lda2,Xconcat_good_cur, class_labels_good, class_ind_to_check) "
   ]
  },
  {
   "cell_type": "code",
   "execution_count": null,
   "metadata": {},
   "outputs": [],
   "source": [
    "#/home/demitau/bigdisk/data/data_duss/S01_off_move_parcel_aal_grp9-0_all_PCA_nr2_7chs_nfeats1170_pcadim183_skip32_wsz256.npz\n"
   ]
  },
  {
   "cell_type": "code",
   "execution_count": null,
   "metadata": {},
   "outputs": [],
   "source": [
    "#S01_off_hold_parcel_aal_grp9-0_all_PCA_nr2_7chs_nfeats1170_pcadim183_skip32_wsz256.npz"
   ]
  },
  {
   "cell_type": "code",
   "execution_count": null,
   "metadata": {},
   "outputs": [],
   "source": [
    "del tSNE_result"
   ]
  },
  {
   "cell_type": "code",
   "execution_count": null,
   "metadata": {},
   "outputs": [],
   "source": [
    "%run -i run_tSNE.py --prefix all --rawnames S01_off_hold,S01_off_move \\\n",
    "--sources_type parcel_aal --skip_calc 0"
   ]
  },
  {
   "cell_type": "code",
   "execution_count": null,
   "metadata": {},
   "outputs": [],
   "source": [
    "perf_nocv_LDA, results_LDA, res_aver_LDA, ldas_CV = utsne.getPredPowersCV(lda_pri[0], Xconcat,class_labels, \n",
    "                      class_ind_to_check, printLog=False, n_splits=4, return_clf_obj=True)\n"
   ]
  },
  {
   "cell_type": "code",
   "execution_count": null,
   "metadata": {},
   "outputs": [],
   "source": [
    "lda_pg_pri[0]['merge_nothing']['LDA']"
   ]
  },
  {
   "cell_type": "code",
   "execution_count": null,
   "metadata": {},
   "outputs": [],
   "source": [
    "lda.scalings_.shape"
   ]
  },
  {
   "cell_type": "code",
   "execution_count": null,
   "metadata": {},
   "outputs": [],
   "source": [
    "lda.coef_.shape"
   ]
  },
  {
   "cell_type": "code",
   "execution_count": null,
   "metadata": {},
   "outputs": [],
   "source": [
    "gp.class_ids_def"
   ]
  },
  {
   "cell_type": "code",
   "execution_count": null,
   "metadata": {},
   "outputs": [],
   "source": [
    "set(class_labels)"
   ]
  },
  {
   "cell_type": "code",
   "execution_count": null,
   "metadata": {},
   "outputs": [],
   "source": [
    "set(class_labels_good)"
   ]
  },
  {
   "cell_type": "code",
   "execution_count": null,
   "metadata": {},
   "outputs": [],
   "source": [
    "lda.scalings_.shape"
   ]
  },
  {
   "cell_type": "code",
   "execution_count": null,
   "metadata": {},
   "outputs": [],
   "source": [
    "lda_pri[0].scalings_.shape"
   ]
  },
  {
   "cell_type": "code",
   "execution_count": null,
   "metadata": {},
   "outputs": [],
   "source": [
    "lda_pri[1].scalings_.shape"
   ]
  },
  {
   "cell_type": "code",
   "execution_count": null,
   "metadata": {},
   "outputs": [],
   "source": [
    "#lda_pri[2].scalings_.shape"
   ]
  },
  {
   "cell_type": "code",
   "execution_count": null,
   "metadata": {},
   "outputs": [],
   "source": [
    "np.mean(np.vstack([[4, 5,  5], [5, 1 ,6]]), axis=0)"
   ]
  },
  {
   "cell_type": "code",
   "execution_count": null,
   "metadata": {},
   "outputs": [],
   "source": [
    "if lda_pri[0].solver == 'svd':\n",
    "    xbars = [  ]\n",
    "    ldapts_ = np.dot(X - self.xbar_, self.scalings_)\n",
    "elif lda_pri[0].solver == 'eigen':\n",
    "    X_new = np.dot(X, self.scalings_)"
   ]
  },
  {
   "cell_type": "code",
   "execution_count": null,
   "metadata": {},
   "outputs": [],
   "source": [
    ".scalings_\n",
    "xbar_"
   ]
  },
  {
   "cell_type": "code",
   "execution_count": null,
   "metadata": {},
   "outputs": [],
   "source": [
    "lda_pri[0].intercept_"
   ]
  },
  {
   "cell_type": "code",
   "execution_count": null,
   "metadata": {},
   "outputs": [],
   "source": [
    "rawname_,sources_type,prefix"
   ]
  },
  {
   "cell_type": "code",
   "execution_count": null,
   "metadata": {},
   "outputs": [],
   "source": [
    "filt_raw.ch_names)"
   ]
  },
  {
   "cell_type": "code",
   "execution_count": null,
   "metadata": {
    "run_control": {
     "marked": false
    }
   },
   "outputs": [],
   "source": [
    "len(f.ch_names)"
   ]
  },
  {
   "cell_type": "code",
   "execution_count": null,
   "metadata": {},
   "outputs": [],
   "source": [
    "filt_raw.info['bads']"
   ]
  },
  {
   "cell_type": "code",
   "execution_count": null,
   "metadata": {},
   "outputs": [],
   "source": [
    "filt_raw.se"
   ]
  },
  {
   "cell_type": "code",
   "execution_count": null,
   "metadata": {},
   "outputs": [],
   "source": [
    "#%debug\n",
    "utils.collectChnamesBySide(f.info)"
   ]
  },
  {
   "cell_type": "code",
   "execution_count": null,
   "metadata": {},
   "outputs": [],
   "source": []
  },
  {
   "cell_type": "code",
   "execution_count": null,
   "metadata": {},
   "outputs": [],
   "source": []
  },
  {
   "cell_type": "code",
   "execution_count": null,
   "metadata": {},
   "outputs": [],
   "source": []
  },
  {
   "cell_type": "code",
   "execution_count": null,
   "metadata": {},
   "outputs": [],
   "source": []
  },
  {
   "cell_type": "code",
   "execution_count": null,
   "metadata": {},
   "outputs": [],
   "source": []
  },
  {
   "cell_type": "code",
   "execution_count": null,
   "metadata": {},
   "outputs": [],
   "source": [
    "import numpy as np\n",
    "import matplotlib.pyplot as plt\n",
    "\n",
    "import mne\n",
    "from mne.datasets.sleep_physionet.age import fetch_data\n",
    "from mne.time_frequency import psd_welch\n",
    "\n",
    "from sklearn.ensemble import RandomForestClassifier\n",
    "from sklearn.metrics import accuracy_score\n",
    "from sklearn.metrics import confusion_matrix\n",
    "from sklearn.metrics import classification_report\n",
    "from sklearn.pipeline import make_pipeline\n",
    "from sklearn.preprocessing import FunctionTransformer"
   ]
  },
  {
   "cell_type": "code",
   "execution_count": null,
   "metadata": {},
   "outputs": [],
   "source": [
    "ALICE, BOB = 0, 1\n",
    "\n",
    "[alice_files, bob_files] = fetch_data(subjects=[ALICE, BOB], recording=[1])\n",
    "\n",
    "mapping = {'EOG horizontal': 'eog',\n",
    "           'Resp oro-nasal': 'misc',\n",
    "           'EMG submental': 'misc',\n",
    "           'Temp rectal': 'misc',\n",
    "           'Event marker': 'misc'}\n",
    "\n",
    "raw_train = mne.io.read_raw_edf(alice_files[0])\n",
    "annot_train = mne.read_annotations(alice_files[1])\n",
    "\n",
    "raw_train.set_annotations(annot_train, emit_warning=False)\n",
    "raw_train.set_channel_types(mapping)\n",
    "\n",
    "# plot some data\n",
    "raw_train.plot(duration=60, scalings='auto')"
   ]
  },
  {
   "cell_type": "code",
   "execution_count": null,
   "metadata": {},
   "outputs": [],
   "source": [
    "annotation_desc_2_event_id = {'Sleep stage W': 1,\n",
    "                              'Sleep stage 1': 2,\n",
    "                              'Sleep stage 2': 3,\n",
    "                              'Sleep stage 3': 4,\n",
    "                              'Sleep stage 4': 4,\n",
    "                              'Sleep stage R': 5}\n",
    "\n",
    "events_train, _ = mne.events_from_annotations(\n",
    "    raw_train, event_id=annotation_desc_2_event_id, chunk_duration=30.)\n",
    "\n",
    "# create a new event_id that unifies stages 3 and 4\n",
    "event_id = {'Sleep stage W': 1,\n",
    "            'Sleep stage 1': 2,\n",
    "            'Sleep stage 2': 3,\n",
    "            'Sleep stage 3/4': 4,\n",
    "            'Sleep stage R': 5}\n",
    "\n",
    "# plot events\n",
    "mne.viz.plot_events(events_train, event_id=event_id,\n",
    "                    sfreq=raw_train.info['sfreq'])\n",
    "\n",
    "# keep the color-code for further plotting\n",
    "stage_colors = plt.rcParams['axes.prop_cycle'].by_key()['color']"
   ]
  }
 ],
 "metadata": {
  "kernelspec": {
   "display_name": "oscbagdis",
   "language": "python",
   "name": "oscbagdis"
  },
  "language_info": {
   "codemirror_mode": {
    "name": "ipython",
    "version": 3
   },
   "file_extension": ".py",
   "mimetype": "text/x-python",
   "name": "python",
   "nbconvert_exporter": "python",
   "pygments_lexer": "ipython3",
   "version": "3.10.8"
  },
  "latex_envs": {
   "LaTeX_envs_menu_present": true,
   "autoclose": false,
   "autocomplete": true,
   "bibliofile": "biblio.bib",
   "cite_by": "apalike",
   "current_citInitial": 1,
   "eqLabelWithNumbers": true,
   "eqNumInitial": 1,
   "hotkeys": {
    "equation": "Ctrl-E",
    "itemize": "Ctrl-I"
   },
   "labels_anchors": false,
   "latex_user_defs": false,
   "report_style_numbering": false,
   "user_envs_cfg": false
  },
  "varInspector": {
   "cols": {
    "lenName": 16,
    "lenType": 16,
    "lenVar": 40
   },
   "kernels_config": {
    "python": {
     "delete_cmd_postfix": "",
     "delete_cmd_prefix": "del ",
     "library": "var_list.py",
     "varRefreshCmd": "print(var_dic_list())"
    },
    "r": {
     "delete_cmd_postfix": ") ",
     "delete_cmd_prefix": "rm(",
     "library": "var_list.r",
     "varRefreshCmd": "cat(var_dic_list()) "
    }
   },
   "types_to_exclude": [
    "module",
    "function",
    "builtin_function_or_method",
    "instance",
    "_Feature"
   ],
   "window_display": false
  }
 },
 "nbformat": 4,
 "nbformat_minor": 4
}
