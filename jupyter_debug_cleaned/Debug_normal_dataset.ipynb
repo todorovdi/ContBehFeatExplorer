{
 "cells": [
  {
   "cell_type": "code",
   "execution_count": null,
   "id": "10239ff7",
   "metadata": {},
   "outputs": [],
   "source": [
    "f = open('../run/_runstrings.txt','r')\n",
    "runstrings = f.readlines()\n",
    "f.close()\n",
    "\n"
   ]
  },
  {
   "cell_type": "code",
   "execution_count": null,
   "id": "5a78f3c2",
   "metadata": {},
   "outputs": [],
   "source": [
    "from IPython import get_ipython; ipython = get_ipython()"
   ]
  },
  {
   "cell_type": "code",
   "execution_count": null,
   "id": "6779c925",
   "metadata": {},
   "outputs": [],
   "source": [
    "s =('%run -i ../run/run_ML.py -r S02_off_hold,S02_on_move '\n",
    "'--param_file ML_HPC_test_fast.ini --groupings_to_use merge_nothing '\n",
    "'--int_types_to_use basic --feat_types H_act '\n",
    "'--prefix tt --featsel_method interpret_EBM --subskip_fit 4 --save_output 0 --EBM_featsel_feats all --EBM_CV 1')"
   ]
  },
  {
   "cell_type": "code",
   "execution_count": null,
   "id": "17b85f0a",
   "metadata": {},
   "outputs": [],
   "source": [
    "ipython.magic(s + ' --show_plots 0')"
   ]
  },
  {
   "cell_type": "code",
   "execution_count": null,
   "id": "faa134ba",
   "metadata": {},
   "outputs": [],
   "source": [
    "mstr.replace('-- ','')"
   ]
  },
  {
   "cell_type": "code",
   "execution_count": null,
   "id": "92cb6d9c",
   "metadata": {},
   "outputs": [],
   "source": [
    "mstr"
   ]
  },
  {
   "cell_type": "code",
   "execution_count": null,
   "id": "b36a08d7",
   "metadata": {},
   "outputs": [],
   "source": [
    "mstr='%run -i ../run/'+runstrings[15]\n",
    "mstr = mstr.replace('-- ','')\n",
    "ipython.magic(mstr)"
   ]
  },
  {
   "cell_type": "code",
   "execution_count": null,
   "id": "772ded40",
   "metadata": {},
   "outputs": [],
   "source": [
    "%load_ext autoreload\n",
    "%autoreload 2\n",
    "%precision %.4f\n",
    "import numpy as np\n",
    "np.set_printoptions(precision=4, suppress=1)"
   ]
  },
  {
   "cell_type": "code",
   "execution_count": null,
   "id": "306ce2d8",
   "metadata": {},
   "outputs": [],
   "source": [
    "%run -i ../run/run_ML.py -r S01_off_hold,S01_off_move \\\n",
    "--bands_type crude --sources_type parcel_aal \\\n",
    "--LFP_related_only 1 \\\n",
    "--feat_types bpcorr \\\n",
    "--fbands beta,gamma\\\n",
    "--src_grouping 0 --src_grouping_fn 10 --rescale_feats 1 \\\n",
    "--skip_XGB 0\\\n",
    "--subskip_fit 2 \\\n",
    "--allow_CUDA 1\\\n",
    "--n_splits 2 \\\n",
    "--heavy_fit_red_featset 0\\\n",
    "--groupings_to_use merge_nothing \\\n",
    "--int_types_to_use basic\\\n",
    "--save_output 0 --prefix test \\\n",
    "--show_plots 0 \\\n",
    "--featsel_method interpret_EBM,XGB_Shapley  \n",
    "#--featsel_method SHAP_XGB,interpret_EBM,XGB_Shapley  \n",
    "#--featsel_methods XGB_Shapley\n",
    "#,interpret_EBM \n"
   ]
  },
  {
   "cell_type": "code",
   "execution_count": null,
   "id": "b32294ca",
   "metadata": {},
   "outputs": [],
   "source": [
    "revdict"
   ]
  },
  {
   "cell_type": "code",
   "execution_count": null,
   "id": "8ecfffd3",
   "metadata": {},
   "outputs": [],
   "source": [
    "featsel_per_method['interpret_EBM']['info_per_cp'].keys()"
   ]
  },
  {
   "cell_type": "code",
   "execution_count": null,
   "id": "60066cab",
   "metadata": {},
   "outputs": [],
   "source": [
    "explainer_cur = featsel_per_method['interpret_EBM']['info_per_cp'][('trem_L', 'notrem_L')]['explainer']"
   ]
  },
  {
   "cell_type": "code",
   "execution_count": null,
   "id": "36228ef5",
   "metadata": {},
   "outputs": [],
   "source": [
    "interpret.show(explainer_cur)"
   ]
  },
  {
   "cell_type": "code",
   "execution_count": null,
   "id": "347f464f",
   "metadata": {},
   "outputs": [],
   "source": [
    "featsel_per_method = results_cur['featsel_per_method'] \n",
    "fsh = 'XGB_total_gain'\n",
    "info = featsel_per_method[fsh]\n",
    "scores_XGB_total_gain = info['scores']\n",
    "\n",
    "fsh = 'XGB_Shapley'\n",
    "info = featsel_per_method[fsh]\n",
    "shapley_values = info['scores']  # dim = 3"
   ]
  },
  {
   "cell_type": "code",
   "execution_count": null,
   "id": "6b126982",
   "metadata": {},
   "outputs": [],
   "source": [
    "featsel_per_method.keys()"
   ]
  },
  {
   "cell_type": "code",
   "execution_count": null,
   "id": "e1953a0d",
   "metadata": {},
   "outputs": [],
   "source": [
    "scores.shape"
   ]
  },
  {
   "cell_type": "code",
   "execution_count": null,
   "id": "eb76fb09",
   "metadata": {},
   "outputs": [],
   "source": [
    "revdict"
   ]
  },
  {
   "cell_type": "code",
   "execution_count": null,
   "id": "f3ebe2aa",
   "metadata": {},
   "outputs": [],
   "source": [
    "for lblind in range(shap_values.shape[1] ):\n",
    "    plt.figure(figsize = (20,5))\n",
    "    ax = plt.gca()\n",
    "    utsne.plotFeatureImportance(ax, featnames_nice, shapley_values[:,lblind,:20], 'XGB_Shapley')\n",
    "    ax.set_title( ax.get_title() + f'_lblind={lblind}' )"
   ]
  },
  {
   "cell_type": "code",
   "execution_count": null,
   "id": "0c5b2bfe",
   "metadata": {},
   "outputs": [],
   "source": [
    "shap_values"
   ]
  },
  {
   "cell_type": "code",
   "execution_count": null,
   "id": "c8df1117",
   "metadata": {},
   "outputs": [],
   "source": [
    "fsh"
   ]
  },
  {
   "cell_type": "code",
   "execution_count": null,
   "id": "c5d1d2fd",
   "metadata": {},
   "outputs": [],
   "source": [
    "do_XGB_cur"
   ]
  },
  {
   "cell_type": "markdown",
   "id": "68c8e376",
   "metadata": {},
   "source": [
    "## Inspect explainable AI"
   ]
  },
  {
   "cell_type": "code",
   "execution_count": null,
   "id": "09117b7f",
   "metadata": {},
   "outputs": [],
   "source": [
    "# results_cur['featsel_importances_res'] = featsel_importances_res\n",
    "# results_cur['featsel_explainer_res'] = featsel_importances_res\n"
   ]
  },
  {
   "cell_type": "code",
   "execution_count": null,
   "id": "082a28b1",
   "metadata": {},
   "outputs": [],
   "source": [
    "results_cur['featsel_per_method'].keys()"
   ]
  },
  {
   "cell_type": "code",
   "execution_count": null,
   "id": "a547b38c",
   "metadata": {},
   "outputs": [],
   "source": [
    "\n",
    "#for fsh,info in featsel_per_method.items():\n",
    "    "
   ]
  },
  {
   "cell_type": "code",
   "execution_count": null,
   "id": "39b78785",
   "metadata": {},
   "outputs": [],
   "source": [
    "info.keys()"
   ]
  },
  {
   "cell_type": "code",
   "execution_count": null,
   "id": "eb07b8f0",
   "metadata": {},
   "outputs": [],
   "source": [
    "featsel_explainers_res.keys()"
   ]
  },
  {
   "cell_type": "code",
   "execution_count": null,
   "id": "51d286e9",
   "metadata": {},
   "outputs": [],
   "source": [
    "#featsel_explainers_res['interpret_EBM']"
   ]
  },
  {
   "cell_type": "code",
   "execution_count": null,
   "id": "662d8d1b",
   "metadata": {},
   "outputs": [],
   "source": [
    "interpret.show(explainer)"
   ]
  },
  {
   "cell_type": "code",
   "execution_count": null,
   "id": "2cb892df",
   "metadata": {},
   "outputs": [],
   "source": [
    "from sklearn.metrics import confusion_matrix\n",
    "preds = ebm.predict(X)\n",
    "# Confusion matrix whose i-th row and j-th column entry indicates the number\n",
    "# of samples with true label being i-th class and predicted label being j-th\n",
    "# class.   confmat[i,j] -- true i'th predicted being j'th\n",
    "confmat = confusion_matrix(preds, y)\n"
   ]
  },
  {
   "cell_type": "code",
   "execution_count": null,
   "id": "e22d9fd4",
   "metadata": {},
   "outputs": [],
   "source": [
    "confmat"
   ]
  },
  {
   "cell_type": "code",
   "execution_count": null,
   "id": "3b290dde",
   "metadata": {},
   "outputs": [],
   "source": []
  }
 ],
 "metadata": {
  "kernelspec": {
   "display_name": "Python 3",
   "language": "python",
   "name": "python3"
  },
  "language_info": {
   "codemirror_mode": {
    "name": "ipython",
    "version": 3
   },
   "file_extension": ".py",
   "mimetype": "text/x-python",
   "name": "python",
   "nbconvert_exporter": "python",
   "pygments_lexer": "ipython3",
   "version": "3.8.10"
  }
 },
 "nbformat": 4,
 "nbformat_minor": 5
}
