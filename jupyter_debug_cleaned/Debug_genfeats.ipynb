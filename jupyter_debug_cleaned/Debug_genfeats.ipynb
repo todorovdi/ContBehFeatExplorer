{
 "cells": [
  {
   "cell_type": "code",
   "execution_count": null,
   "id": "709076ca",
   "metadata": {},
   "outputs": [],
   "source": [
    "%load_ext autoreload\n",
    "%autoreload 2"
   ]
  },
  {
   "cell_type": "code",
   "execution_count": null,
   "id": "5b6c42ca",
   "metadata": {},
   "outputs": [],
   "source": [
    "from jupyter_helpers.notifications import Notifications\n",
    "\n",
    "#help(Notifications)\n",
    "\n",
    "p = '/usr/share/sounds/gnome/default/alerts/'\n",
    "p1 = p + 'glass.ogg'\n",
    "p2 = p + 'sonar.ogg'\n",
    "Notifications(success_audio=p1, time_threshold=2,\n",
    "    failure_audio=p2) \n",
    "#    ,integration='GNOME')\n",
    "\n",
    "#from jupyter_helpers.notifications import NotificationsNotifications("
   ]
  },
  {
   "cell_type": "code",
   "execution_count": null,
   "id": "b7aa119a",
   "metadata": {},
   "outputs": [],
   "source": [
    "#fast until the end\n",
    "#%debug\n",
    "%load_ext autoreload\n",
    "%autoreload 2\n",
    "\n",
    "#--plot_types raw_stats_scatter,feat_stats_scatter\\\n",
    "import warnings\n",
    "\n",
    "#%debug\n",
    "#with warnings.catch_warnings():\n",
    "#warnings.filterwarnings('error')\n",
    "%run -i ../run/run_genfeats.py --sources_type parcel_aal --bands crude\\\n",
    " --src_grouping_fn 10\\\n",
    " --src_grouping 0 \\\n",
    " --raw S99_off_hold \\\n",
    " --feat_types Hjorth\\\n",
    " --Kalman_smooth 0\\\n",
    " --load_TFR 0\\\n",
    " --load_CSD 0\\\n",
    " --save_TFR 0\\\n",
    " --save_CSD 0\\\n",
    " --save_bpcorr 0\\\n",
    " --save_rbcorr 0\\\n",
    " --load_rbcorr 0\\\n",
    " --use_existing_TFR 0\\\n",
    " --load_only 0\\\n",
    " --show_plots 0\\\n",
    " --scale_data_combine_type subj \\\n",
    " --rbcorr_use_local_means 1\\\n",
    " --output_subdir test\\\n",
    " --stats_fn_prefix stats_S99_1_ \\\n",
    " --brain_side_to_use both \\\n",
    " --param_file genfeats_defparams.ini\n",
    "\n",
    "\n"
   ]
  },
  {
   "cell_type": "code",
   "execution_count": null,
   "id": "ebe73c72",
   "metadata": {},
   "outputs": [],
   "source": [
    "new_main_body_side"
   ]
  },
  {
   "cell_type": "code",
   "execution_count": null,
   "id": "becc2afc",
   "metadata": {},
   "outputs": [],
   "source": [
    "np.append(names_lfp, names_src)"
   ]
  },
  {
   "cell_type": "code",
   "execution_count": null,
   "id": "3e956596",
   "metadata": {},
   "outputs": [],
   "source": [
    "feature_names_all"
   ]
  },
  {
   "cell_type": "code",
   "execution_count": null,
   "id": "4b54d61a",
   "metadata": {},
   "outputs": [],
   "source": [
    "feature_names_all[-20:]"
   ]
  },
  {
   "cell_type": "code",
   "execution_count": null,
   "id": "89f2070f",
   "metadata": {},
   "outputs": [],
   "source": [
    "subfeature_order"
   ]
  },
  {
   "cell_type": "code",
   "execution_count": null,
   "id": "58a04ed7",
   "metadata": {},
   "outputs": [],
   "source": [
    "chnames_tfr"
   ]
  },
  {
   "cell_type": "code",
   "execution_count": null,
   "id": "5aec9d45",
   "metadata": {},
   "outputs": [],
   "source": [
    "#fast until the end\n",
    "#%debug\n",
    "%load_ext autoreload\n",
    "%autoreload 2\n",
    "\n",
    "#--plot_types raw_stats_scatter,feat_stats_scatter\\\n",
    "\n",
    "%run -i ../run/run_genfeats.py --sources_type parcel_aal --bands crude\\\n",
    " --src_grouping_fn 10\\\n",
    " --src_grouping 0 \\\n",
    " --raw S97_off_move \\\n",
    " --feat_types bpcorr,Hjorth,con,rbcorr\\\n",
    " --Kalman_smooth 0\\\n",
    " --load_TFR 0\\\n",
    " --load_CSD 0\\\n",
    " --save_TFR 0\\\n",
    " --save_CSD 0\\\n",
    " --save_bpcorr 0\\\n",
    " --save_rbcorr 0\\\n",
    " --load_rbcorr 0\\\n",
    " --use_existing_TFR 0\\\n",
    " --load_only 0\\\n",
    " --show_plots 0\\\n",
    " --scale_data_combine_type subj \\\n",
    " --rbcorr_use_local_means 1\\\n",
    " --output_subdir test\\\n",
    " --stats_fn_prefix stats_S97,S99_3_ \\\n",
    " --param_file genfeats_defparams.ini"
   ]
  },
  {
   "cell_type": "code",
   "execution_count": null,
   "id": "0bb8b692",
   "metadata": {},
   "outputs": [],
   "source": [
    "# check whetehr do side filtering / reversal\n",
    "loadRaws\n",
    "collectdataFromMultiRaws\n",
    "collectAllMarkedIntervals\n",
    "gatherStats\n",
    "gatharMultiBandStats"
   ]
  },
  {
   "cell_type": "code",
   "execution_count": null,
   "id": "1e90fc78",
   "metadata": {},
   "outputs": [],
   "source": [
    "mne.cuda.init_cuda()"
   ]
  },
  {
   "cell_type": "code",
   "execution_count": null,
   "id": "7444f106",
   "metadata": {},
   "outputs": [],
   "source": [
    "gv.CUDA_state"
   ]
  },
  {
   "cell_type": "code",
   "execution_count": null,
   "id": "1b08a33b",
   "metadata": {},
   "outputs": [],
   "source": [
    "n_jobs"
   ]
  },
  {
   "cell_type": "code",
   "execution_count": null,
   "id": "b3898c6a",
   "metadata": {},
   "outputs": [],
   "source": []
  },
  {
   "cell_type": "code",
   "execution_count": null,
   "id": "62501c5c",
   "metadata": {},
   "outputs": [],
   "source": []
  },
  {
   "cell_type": "code",
   "execution_count": null,
   "id": "41e0b1f9",
   "metadata": {},
   "outputs": [],
   "source": []
  },
  {
   "cell_type": "code",
   "execution_count": null,
   "id": "3297cc78",
   "metadata": {},
   "outputs": [],
   "source": [
    "if bands_only == 'fine':\n",
    "    # no need to dubplicate reversing order\n",
    "    bandPairs = [('tremor','low_beta', 'corr'), ('tremor','high_beta', 'corr'),\n",
    "                ('tremor','low_gamma', 'corr'), ('tremor','high_gamma', 'corr'),\n",
    "                ('low_beta','low_gamma', 'corr') , ('low_beta','high_gamma', 'corr') ,\n",
    "                ('high_beta','low_gamma', 'corr') , ('high_beta','high_gamma', 'corr') ]\n",
    "else:\n",
    "    bandPairs = [('tremor','beta', 'corr'), ('tremor','gamma', 'corr'), ('beta','gamma', 'corr') ]\n",
    "if use_lfp_HFO:\n",
    "    # HFO should be always on the second place unless we use HFO-HFO\n",
    "    # coupling in LFP!\n",
    "    bandPairs += [ ('tremor','HFO', 'corr'), ('beta','HFO', 'corr'), ('gamma','HFO', 'corr') ]\n",
    "\n",
    "    if bands_only == 'fine':\n",
    "        bandPairs += [ ('HFO1','HFO2', 'div'), ('HFO1','HFO3', 'div'), ('HFO2','HFO3', 'div') ]\n",
    "\n",
    "bpcorrs_pri     = [0] * len(rawnames)\n",
    "wbd_bpcorr_pri  = [0] * len(rawnames)\n",
    "bpcor_names_pri = [0] * len(rawnames)\n",
    "for rawind in range(len(dat_pri)):\n",
    "    fn = pre_bpcorr_fname.format(rawnames[rawind], n_channels_pri[rawind] )\n",
    "    fn = pjoin(gv.data_dir, output_subdir, fn)\n",
    "    if load_bpcorr and os.path.exists(fn):\n",
    "        print('Load bpcorr from {}'.format(fn) )\n",
    "        f = np.load(fn, allow_pickle=True)\n",
    "        bpcorrs      =f['bpcorrs'    ]\n",
    "        bpcor_names  =f['bpcor_names']\n",
    "        wbd_bpcorr   =f['wbd_bpcorr' ]\n",
    "    else:\n",
    "        print('Starting bpcorr for datset {}'.format(rawind) )\n",
    "\n",
    "        raw_perband =  raw_perband_bp_pri[rawind]\n",
    "        chnames_perband =  chnames_perband_bp_pri[rawind]\n",
    "        means_perband = means_perband_bp_pri[rawind]\n",
    "        bpcorrs = []\n",
    "        bpcor_names = []\n",
    "        for bp in bandPairs:\n",
    "            print('band pair ',bp)\n",
    "            bpcorrs_curbp,bpcor_names_curbp,dct_nums,wbd_bpcorr =\\\n",
    "            computeCorr(raw_perband, names=chnames_perband,\n",
    "                                    defnames=chnames_tfr,\n",
    "                                    parcel_couplings=parcel_couplings,\n",
    "                                    LFP2parcel_couplings=LFP2parcel_couplings,\n",
    "                                    LFP2LFP_couplings=LFP2LFP_couplings,\n",
    "                                    res_group_id=newchn_grouping_ind,\n",
    "                                    skip=skip, windowsz = windowsz,\n",
    "                                    band_pairs = [bp], n_jobs=n_jobs,\n",
    "                                    positive=1, templ='{}_.*',\n",
    "                                    sort_keys=srcgrouping_names_sorted,\n",
    "                                    means=means_perband)\n",
    "            gc.collect()\n",
    "            assert len(bpcor_names_curbp) > 0\n",
    "            bpcorrs += bpcorrs_curbp\n",
    "            bpcor_names += bpcor_names_curbp\n",
    "\n",
    "        bpcorrs = np.vstack(bpcorrs)\n",
    "\n",
    "        for feati in range(len(bpcor_names) ):\n",
    "            bpcor_names[feati] = 'bp' + bpcor_names[feati]\n",
    "\n",
    "\n",
    "        if save_bpcorr:\n",
    "            print('Saving bpcorr ',fn)\n",
    "            np.savez( fn , bpcorrs=bpcorrs, bpcor_names=bpcor_names, wbd_bpcorr=wbd_bpcorr)\n",
    "            gc.collect()\n",
    "\n",
    "    bpcor_names_pri [rawind] = bpcor_names\n",
    "    bpcorrs_pri     [rawind] = bpcorrs\n",
    "    wbd_bpcorr_pri  [rawind] = wbd_bpcorr\n",
    "\n",
    "if do_cleanup:\n",
    "    del  bpcorrs\n",
    "    del  raw_perband_bp_pri\n",
    "gc.collect()\n"
   ]
  },
  {
   "cell_type": "code",
   "execution_count": null,
   "id": "2d71f13b",
   "metadata": {},
   "outputs": [],
   "source": []
  },
  {
   "cell_type": "code",
   "execution_count": null,
   "id": "59c52d90",
   "metadata": {},
   "outputs": [],
   "source": []
  },
  {
   "cell_type": "code",
   "execution_count": null,
   "id": "ef155ab0",
   "metadata": {},
   "outputs": [],
   "source": [
    "# [rawind] [bandname]"
   ]
  },
  {
   "cell_type": "code",
   "execution_count": null,
   "id": "caeef4bc",
   "metadata": {},
   "outputs": [],
   "source": []
  },
  {
   "cell_type": "code",
   "execution_count": null,
   "id": "8047074a",
   "metadata": {},
   "outputs": [],
   "source": [
    "# means com gatherMultiBandStats"
   ]
  },
  {
   "cell_type": "markdown",
   "id": "5dc7cdb0",
   "metadata": {
    "heading_collapsed": true
   },
   "source": [
    "# BPCORR"
   ]
  },
  {
   "cell_type": "code",
   "execution_count": null,
   "id": "683a6b00",
   "metadata": {
    "hidden": true
   },
   "outputs": [],
   "source": [
    "means_perband_bp_pri_,_ = \\\n",
    "ugf.gatherMultiBandStats(rawnames,raw_perband_bp_pri, times_pri,\n",
    "                        chnames_perband_bp_pri, side_switched_pri, sfreq,\n",
    "                        baseline_int, scale_data_combine_type,\n",
    "                        artif_handling)\n",
    "\n",
    "    means_perband_bp_pri = len(rawnames) * [dict()]\n",
    "    for rawind in range(len(rawnames)):\n",
    "        for bandname in means_perband_bp_pri_[rawind]:\n",
    "            means_perband_bp_pri[rawind][bandname] = \\\n",
    "                means_perband_bp_pri_[rawind][bandname][baseline_int]\n"
   ]
  },
  {
   "cell_type": "code",
   "execution_count": null,
   "id": "04ad8721",
   "metadata": {
    "hidden": true
   },
   "outputs": [],
   "source": [
    "%load_ext autoreload\n",
    "%autoreload 2\n",
    "import utils_genfeats as ugf\n",
    "import utils\n",
    "import mne"
   ]
  },
  {
   "cell_type": "code",
   "execution_count": null,
   "id": "e45d634a",
   "metadata": {
    "hidden": true
   },
   "outputs": [],
   "source": [
    "dat1 = np.ones((2,512))\n",
    "dat2 = np.ones((2,512))\n",
    "dat2[:,256:] = 0.5\n",
    "raw1 = utils.makeSimpleRaw(dat1,rescale=0)\n",
    "raw2 = utils.makeSimpleRaw(dat2,rescale=0)\n",
    "raw1.get_data()"
   ]
  },
  {
   "cell_type": "code",
   "execution_count": null,
   "id": "d86365b1",
   "metadata": {
    "hidden": true
   },
   "outputs": [],
   "source": [
    "%precision %.4f\n",
    "import numpy as np\n",
    "np.set_printoptions(precision=4, suppress=1)"
   ]
  },
  {
   "cell_type": "code",
   "execution_count": null,
   "id": "d7755d37",
   "metadata": {
    "hidden": true
   },
   "outputs": [],
   "source": [
    "import utils_genfeats as ugf\n",
    "import utils\n",
    "import gc\n",
    "#%debug\n",
    "\n",
    "\n",
    "\n",
    "\n",
    "def test2ch(bandPairs, ch1_band1,ch2_band1,ch1_band2,ch2_band2, chn1,chn2, means_perband, windowsz, skip):\n",
    "\n",
    "    # ch1_band1 = np.ones(dat_len)\n",
    "    # #ch2_band1 = np.ones(dat_len)\n",
    "    # ch2_band1 = np.random.uniform(size=dat_len)\n",
    "    dat1 = np.array( [ch1_band1, ch2_band1] )\n",
    "\n",
    "    # ch1_band2 = np.ones(dat_len)\n",
    "    # ch2_band2 = np.ones(dat_len)\n",
    "    dat2 = np.array( [ch1_band2, ch2_band2] )\n",
    "\n",
    "    raw1 = utils.makeSimpleRaw(dat1,rescale=0)\n",
    "    raw2 = utils.makeSimpleRaw(dat2,rescale=0)\n",
    "    raw_perband = {}\n",
    "    raw_perband[bp[0]]   = raw1\n",
    "    raw_perband[bp[1]]   = raw2\n",
    "\n",
    "    \n",
    "\n",
    "    chnames_perband = {}\n",
    "    # I cannot put just one band, it should have same bands in both modalities\n",
    "    # unless the band is LFP\n",
    "    # chnames_perband is one list for all modalities\n",
    "    chnames_perband[bp[0]] = [chn1,chn2]\n",
    "    chnames_perband[bp[1]] = [chn1,chn2]  # can be L as well if CB\n",
    "    \n",
    "    \n",
    "    \n",
    "    for i in range(2):\n",
    "        display(bp[i], raw_perband[bp[i]].get_data())\n",
    "    display(chnames_perband)\n",
    "    display(means_perband)\n",
    "\n",
    "\n",
    "    srcgrouping_names_sorted = []\n",
    "\n",
    "    # I think I want LFP to go first\n",
    "    chnames_tfr = [chn1,chn2]\n",
    "    print('chnames_tfr = ',chnames_tfr)\n",
    "\n",
    "    parcel_couplings = []\n",
    "    LFP2parcel_couplings = []\n",
    "    LFP2LFP_couplings = []\n",
    "    \n",
    "    from utils import parseMEGsrcChnameShort\n",
    "    \n",
    "    if chn1.startswith('LFP') and chn2.startswith('msrc'):\n",
    "        side2, gi2, parcel_ind2, si2  = parseMEGsrcChnameShort(chn2)\n",
    "        LFP2parcel_couplings = { (chn1, parcel_ind2): [(0,1)]  }\n",
    "        display(LFP2parcel_couplings)\n",
    "    if chn1.startswith('msrc') and chn2.startswith('msrc'):        \n",
    "        side1, gi1, parcel_ind1, si1  = parseMEGsrcChnameShort(chn1)\n",
    "        side2, gi2, parcel_ind2, si2  = parseMEGsrcChnameShort(chn2)\n",
    "        # keys: tuple of parcel indices,  values: chnames_tfr indices of chnames\n",
    "        parcel_couplings = { (parcel_ind1, parcel_ind2):[(0,1)] }\n",
    "        display(parcel_couplings)\n",
    "    if chn1.startswith('LFP') and chn2.startswith('LFP'):\n",
    "        LFP2LFP_couplings = { (chn1,chn2):[(0,1)] }\n",
    "        display(LFP2LFP_couplings)\n",
    "\n",
    "    n_jobs = 1\n",
    "    newchn_grouping_ind = 10\n",
    "    \n",
    "\n",
    "    # test differen simple imput combinations, see that correl indeed correls\n",
    "\n",
    "    bpcorrs = []\n",
    "    bpcor_names = []\n",
    "    for bpcur in bandPairs:\n",
    "        print('band pair ',bpcur)\n",
    "        bpcorrs_curbp,bpcor_names_curbp,dct_nums,wbd_bpcorr =\\\n",
    "        ugf.computeCorr(raw_perband, names=chnames_perband,\n",
    "                                defnames=chnames_tfr,\n",
    "                                parcel_couplings=parcel_couplings,\n",
    "                                LFP2parcel_couplings=LFP2parcel_couplings,\n",
    "                                LFP2LFP_couplings=LFP2LFP_couplings,\n",
    "                                res_group_id=newchn_grouping_ind,\n",
    "                                skip=skip, windowsz = windowsz,\n",
    "                                band_pairs = [bpcur], n_jobs=n_jobs,\n",
    "                                positive=1, templ='{}_.*',\n",
    "                                sort_keys=srcgrouping_names_sorted,\n",
    "                                means=means_perband, reverse=1, verbose=3, pad=0)\n",
    "        gc.collect()\n",
    "        assert len(bpcor_names_curbp) > 0\n",
    "        bpcorrs += bpcorrs_curbp\n",
    "        bpcor_names += bpcor_names_curbp\n",
    "\n",
    "    bpcorrs = np.vstack(bpcorrs)\n",
    "\n",
    "    for feati in range(len(bpcor_names) ):\n",
    "        bpcor_names[feati] = 'bp' + bpcor_names[feati]\n",
    "\n",
    "    print('----    Result is')\n",
    "    display(bpcorrs)\n",
    "    display(bpcor_names_curbp)\n",
    "    display(wbd_bpcorr)\n",
    "    display(dct_nums)\n",
    "    \n",
    "    return bpcorrs,bpcor_names_curbp,wbd_bpcorr,dct_nums\n",
    "    \n",
    "    \n",
    "bp = 'tremor','beta'\n",
    "bandPairs = [(bp[0],bp[1], 'corr')]\n",
    "\n",
    "windowsz = 4\n",
    "skip = 2\n",
    "dat_len = windowsz*5\n",
    "    \n",
    "# ones will live in tremor band of channel 1\n",
    "ch1_band1 = np.ones(dat_len) * 1\n",
    "ch1_band1[windowsz:] = 0\n",
    "# twos will live in tremor band of channel 2\n",
    "ch2_band1 = np.ones(dat_len) * 2\n",
    "ch2_band1[windowsz*2:] = 0\n",
    "#ch2_band1 = np.random.uniform(size=dat_len)\n",
    "# tens will live in beta band of channel 1\n",
    "ch1_band2 = np.ones(dat_len) * 10\n",
    "ch1_band2[windowsz*3:] = 0\n",
    "#ch1_band2[windowsz:] = 0\n",
    "# twentys will live in beta band of channel 2\n",
    "ch2_band2 = np.ones(dat_len) * 20\n",
    "ch2_band2[windowsz*4:] = 0\n",
    "\n",
    "means_perband = {}\n",
    "# means_perband[bp[0]] = [0.01, 0.02]\n",
    "# means_perband[bp[1]] = [0.1, 0.2]\n",
    "means_perband[bp[0]] = [0.0, 0.0]\n",
    "means_perband[bp[1]] = [0.0, 0.0]\n",
    "\n",
    "parcel_index1 = 1\n",
    "parcel_index2 = 2\n",
    "\n",
    "chn1 = 'LFPR01'\n",
    "#chn1 = f'msrcR_9_{parcel_index1}_c1'\n",
    "#chn2 = f'msrcR_9_{parcel_index2}_c2'\n",
    "chn2 = 'LFPR02'\n",
    "\n",
    "\n",
    "res = test2ch(bandPairs,ch1_band1,ch2_band1, ch1_band2, ch2_band2,chn1,chn2, means_perband, windowsz,skip)\n",
    "bpcorrs,bpcor_names_curbp,wbd_bpcorr,dct_nums = res"
   ]
  },
  {
   "cell_type": "code",
   "execution_count": null,
   "id": "d6adf53e",
   "metadata": {
    "hidden": true
   },
   "outputs": [],
   "source": [
    "19.8 * .99"
   ]
  },
  {
   "cell_type": "code",
   "execution_count": null,
   "id": "5dcba2de",
   "metadata": {
    "hidden": true
   },
   "outputs": [],
   "source": [
    "bpcorrs,bpcor_names_curbp,wbd_bpcorr,dct_nums = res"
   ]
  },
  {
   "cell_type": "code",
   "execution_count": null,
   "id": "206e0a4d",
   "metadata": {
    "hidden": true
   },
   "outputs": [],
   "source": [
    "res = test2ch(bandPairs,np.ones(windowsz),np.ones(windowsz), np.ones(windowsz), \n",
    "              np.ones(windowsz),chn1,chn2, windowsz,windowsz)"
   ]
  },
  {
   "cell_type": "markdown",
   "id": "c233f27f",
   "metadata": {
    "heading_collapsed": true
   },
   "source": [
    "# Corr and Hjorth together"
   ]
  },
  {
   "cell_type": "code",
   "execution_count": null,
   "id": "df6c6b42",
   "metadata": {
    "hidden": true
   },
   "outputs": [],
   "source": [
    "oper = 'corr'\n",
    "pos = True\n",
    "local_means=False\n",
    "\n",
    "windowsz = 8\n",
    "skip = 4\n",
    "#dfrom = ch1_band1[::8];  dto = ch1_band2[::8];   \n",
    "dfrom = np.ones(windowsz * 2); dfrom[windowsz:] = 0\n",
    "dto = np.ones(windowsz * 2)\n",
    "mfrom = 0; mto = 0\n",
    "arg = ('resname','bn_from','bn_to','pc','fromi','toi',windowsz,skip,dfrom,dto,mfrom,mto,oper,pos,local_means)\n",
    "ugf._feat_correl3(arg)"
   ]
  },
  {
   "cell_type": "code",
   "execution_count": null,
   "id": "4e91cf01",
   "metadata": {
    "hidden": true
   },
   "outputs": [],
   "source": [
    "dfrom, dto"
   ]
  },
  {
   "cell_type": "code",
   "execution_count": null,
   "id": "308e7be4",
   "metadata": {
    "hidden": true
   },
   "outputs": [],
   "source": [
    "sto = ugf.stride(dto , win=(windowsz), stepby=(skip,) )\n",
    "print( sto[0] )\n",
    "print( sto[1] )\n",
    "print( sto[-1] )"
   ]
  },
  {
   "cell_type": "code",
   "execution_count": null,
   "id": "e3167e0e",
   "metadata": {
    "hidden": true
   },
   "outputs": [],
   "source": [
    "sfrom = ugf.stride(dfrom , win=(windowsz), stepby=(skip,) )\n",
    "print( sfrom[0] )\n",
    "print( sfrom[1] )\n",
    "print( sfrom[-1] )"
   ]
  },
  {
   "cell_type": "code",
   "execution_count": null,
   "id": "09920ff3",
   "metadata": {
    "hidden": true
   },
   "outputs": [],
   "source": [
    "prod = sfrom * sto\n",
    "display(prod)\n",
    "np.mean(prod, axis=-1)"
   ]
  },
  {
   "cell_type": "code",
   "execution_count": null,
   "id": "bf99cb63",
   "metadata": {
    "hidden": true
   },
   "outputs": [],
   "source": [
    "sv = ugf.stride(np.arange(len(dfrom) )[None,:], win=(1,windowsz), stepby=(1,skip) )\n",
    "print(sv.shape)\n",
    "sv"
   ]
  },
  {
   "cell_type": "code",
   "execution_count": null,
   "id": "2c8384de",
   "metadata": {
    "hidden": true
   },
   "outputs": [],
   "source": [
    "np.array( [4,5] ) == np.array([4,5])"
   ]
  },
  {
   "cell_type": "code",
   "execution_count": null,
   "id": "8311aa44",
   "metadata": {
    "hidden": true
   },
   "outputs": [],
   "source": [
    "U = np.vstack([np.arange(6 ),10+np.arange(6) ] )\n",
    "sv = ugf.stride( U , win=(1,3), stepby=(1,2) )\n",
    "print(sv.shape)\n",
    "sv"
   ]
  },
  {
   "cell_type": "code",
   "execution_count": null,
   "id": "d855264b",
   "metadata": {
    "hidden": true
   },
   "outputs": [],
   "source": [
    "U = np.vstack([np.arange(len(dfrom) ),np.arange(len(dfrom)  ) ] )\n",
    "sv = ugf.stride( U , win=(1,windowsz), stepby=(1,skip) )\n",
    "print(sv.shape)\n",
    "sv"
   ]
  },
  {
   "cell_type": "code",
   "execution_count": null,
   "id": "d1bde7dc",
   "metadata": {
    "hidden": true
   },
   "outputs": [],
   "source": [
    "dfrom.shape,windowsz,skip"
   ]
  },
  {
   "cell_type": "code",
   "execution_count": null,
   "id": "d4723828",
   "metadata": {
    "hidden": true
   },
   "outputs": [],
   "source": [
    "tst = np.zeros(windowsz+skip-1)\n",
    "ugf.Hjorth(tst[None,:], dt=1, windowsz=windowsz, skip=skip, pad=False)"
   ]
  },
  {
   "cell_type": "code",
   "execution_count": null,
   "id": "6c041932",
   "metadata": {
    "hidden": true
   },
   "outputs": [],
   "source": [
    "tst = np.zeros(windowsz+skip)\n",
    "ugf.Hjorth(tst[None,:], dt=1, windowsz=windowsz, skip=skip, pad=False)"
   ]
  },
  {
   "cell_type": "code",
   "execution_count": null,
   "id": "a1165166",
   "metadata": {
    "hidden": true
   },
   "outputs": [],
   "source": []
  },
  {
   "cell_type": "code",
   "execution_count": null,
   "id": "160322a5",
   "metadata": {
    "hidden": true
   },
   "outputs": [],
   "source": [
    "#%debug\n",
    "ugf.Hjorth(dfrom[None,:], dt=1, windowsz=windowsz, skip=skip, pad=False)"
   ]
  },
  {
   "cell_type": "markdown",
   "id": "5cc342cb",
   "metadata": {},
   "source": [
    "# All "
   ]
  },
  {
   "cell_type": "code",
   "execution_count": null,
   "id": "f9e02abe",
   "metadata": {},
   "outputs": [],
   "source": [
    "# ivalis_pri = [{'notrem_L': [(0.0, 3.0, 'notrem_L'),\n",
    "#    (6.0, 17.0, 'notrem_L'),\n",
    "#    (23.0, 26.0, 'notrem_L')],\n",
    "#   'move_L': [(3.0, 6.0, 'move_L')],\n",
    "#   'trem_L': [(10.0, 20.0, 'trem_L'), (28.0, 32.0, 'trem_L')],\n",
    "#   'trem_R': [(14.0, 22.7, 'trem_R')],\n",
    "#   'notrem_R': [(25.0, 29.0, 'notrem_R')]}]\n",
    "\n",
    "# dat_pri                         = [0]*len(rawnames)\n",
    "# dat_lfp_hires_pri               = [0]*len(rawnames)\n",
    "# times_pri                       = [0]*len(rawnames)\n",
    "# times_hires_pri                 = [0]*len(rawnames)\n",
    "# subfeature_order_pri            = [0]*len(rawnames)\n",
    "# subfeature_order_lfp_hires_pri  = [0]*len(rawnames)\n",
    "# extdat_pri                      = [0]*len(rawnames)\n",
    "# ivalis_pri                      = [0]*len(rawnames)\n"
   ]
  },
  {
   "cell_type": "code",
   "execution_count": null,
   "id": "5a9e33b2",
   "metadata": {},
   "outputs": [],
   "source": [
    "#fast until the end\n",
    "#%debug\n",
    "%load_ext autoreload\n",
    "%autoreload 2\n",
    "\n",
    "%run -i ../run/run_genfeats.py --sources_type parcel_aal --bands crude\\\n",
    " --src_grouping_fn 10\\\n",
    " --src_grouping 0 \\\n",
    " --raw S97_off_move \\\n",
    " --feat_types con,H_act,H_mob,H_compl,rbcorr\\\n",
    " --load_only 1\\\n",
    " --show_plots 0\\\n",
    " --plot_types ,\\\n",
    " --scale_data_combine_type subj \\\n",
    " --output_subdir test\\\n",
    " --stats_fn_prefix stats_S97,S99_3_ \\\n",
    " --param_file genfeats_defparams.ini\n",
    "\n",
    "reclen = 8 # it is not enough because wavelet has len 2048\n",
    "nbins = windowsz * reclen \n",
    "nbins_hires = windowsz_hires * reclen\n",
    "#########\n",
    "times_pri = [np.arange(nbins ) * 1/sfreq]\n",
    "times_hires_pri = [np.arange( nbins_hires) * 1/sfreq_hires]\n",
    "extdat_pri = [np.zeros( (2,nbins))]\n",
    "subfeature_order_pri = [['LFPR01', \n",
    " 'LFPR12',\n",
    " 'msrcR_0_2_c5',\n",
    " 'msrcR_0_18_c15',\n",
    " 'msrcL_0_19_c1',\n",
    " 'msrcR_0_3_c8',\n",
    " 'msrcL_0_60_c24']]\n",
    "\n",
    "subfeature_order_lfp_hires_pri = [ ['LFPR01', 'LFPR12'] ]\n",
    "ivalis_pri = [{'notrem_L':(0.5,1,'notrem_L'),'trem_L':(1,1.5,'notrem_L') }]\n",
    "\n",
    "dat_pri = [np.zeros( (len(subfeature_order_pri[0]), nbins) )]\n",
    "dat_lfp_hires_pri = [np.zeros( (len(subfeature_order_lfp_hires_pri[0]), nbins_hires) )]        \n",
    "\n",
    "offset_sec = 4\n",
    "offset_start = windowsz * offset_sec\n",
    "for i in range(len(dat_pri[0])):\n",
    "    dat_pri[0][i][offset_start:] = 1\n",
    "    \n",
    "offset_hires_start = windowsz_hires* offset_sec    \n",
    "for i in range(len(dat_lfp_hires_pri[0])):\n",
    "    dat_lfp_hires_pri[0][i][offset_hires_start:] = 1\n",
    "\n",
    "%matplotlib inline\n",
    "plt.plot(times_pri[0],  dat_pri[0][0])\n",
    "#plt.figure()\n",
    "plt.plot(times_hires_pri[0], 1 + dat_lfp_hires_pri[0][0])"
   ]
  },
  {
   "cell_type": "code",
   "execution_count": null,
   "id": "9cb9be82",
   "metadata": {},
   "outputs": [],
   "source": [
    "import utils"
   ]
  },
  {
   "cell_type": "code",
   "execution_count": null,
   "id": "43f75cc0",
   "metadata": {},
   "outputs": [],
   "source": []
  },
  {
   "cell_type": "code",
   "execution_count": null,
   "id": "f8276daf",
   "metadata": {},
   "outputs": [],
   "source": [
    "reclen = 8 # it is not enough because wavelet has len 2048\n",
    "nbins = windowsz * reclen \n",
    "nbins_hires = windowsz_hires * reclen\n",
    "#########\n",
    "times_pri = [np.arange(nbins ) * 1/sfreq]\n",
    "times_hires_pri = [np.arange( nbins_hires) * 1/sfreq_hires]\n",
    "extdat_pri = [np.zeros( (2,nbins))]\n",
    "subfeature_order_pri = [['LFPR01', \n",
    " 'LFPR12',\n",
    " 'msrcR_0_4_c5',\n",
    " 'msrcR_0_8_c15',\n",
    " 'msrcR_0_16_c8',\n",
    " 'msrcR_0_32_c2',\n",
    " 'msrcR_0_38_c9',\n",
    " 'msrcR_0_44_c0',\n",
    " 'msrcR_0_52_c9',\n",
    " 'msrcR_0_58_c5',\n",
    " 'msrcL_0_60_c24']]\n",
    "subfeature_order_lfp_hires_pri = [ ['LFPR01', 'LFPR12'] ]\n",
    "ivalis_pri = [{'notrem_L':[(0.5,5,'notrem_L')] }] #,'trem_L':[(1,1.5,'trem_L')] }]\n",
    "\n",
    "rawn = 'S97_off_move'\n",
    "anndict_per_intcat_per_rawn = {}\n",
    "for rawn in [rawn]:\n",
    "    anndict_per_intcat_per_rawn[rawn] = {'artif':{\n",
    "        'MEG':mne.Annotations([],[],[]), 'LFP': mne.Annotations([],[],[])  },\n",
    "        'beh_state':[]}\n",
    "anndict_per_intcat_per_rawn[rawn]['beh_state'] = \\\n",
    "    utils.intervals2anns(ivalis_pri[0]['notrem_L']) # + utils.intervals2anns(ivalis_pri[0]['trem_L'])\n",
    "\n",
    "\n",
    "dat_pri = [np.zeros( (len(subfeature_order_pri[0]), nbins) )]\n",
    "dat_lfp_hires_pri = [np.zeros( (len(subfeature_order_lfp_hires_pri[0]), nbins_hires) )]        \n",
    "\n",
    "offset_sec = 4\n",
    "offset_start = windowsz * offset_sec\n",
    "for i in range(len(dat_pri[0])):\n",
    "    dat_pri[0][i][offset_start:] = 1\n",
    "    \n",
    "offset_hires_start = windowsz_hires* offset_sec    \n",
    "for i in range(len(dat_lfp_hires_pri[0])):\n",
    "    dat_lfp_hires_pri[0][i][offset_hires_start:] = 1\n",
    "\n",
    "%matplotlib inline\n",
    "plt.plot(times_pri[0],  dat_pri[0][0])\n",
    "#plt.figure()\n",
    "plt.plot(times_hires_pri[0], 1 + dat_lfp_hires_pri[0][0])"
   ]
  },
  {
   "cell_type": "code",
   "execution_count": null,
   "id": "74319a67",
   "metadata": {},
   "outputs": [],
   "source": [
    "anndict_per_intcat_per_rawn"
   ]
  },
  {
   "cell_type": "code",
   "execution_count": null,
   "id": "b12e5a95",
   "metadata": {},
   "outputs": [],
   "source": [
    "gv.DEBUG_MODE = True\n",
    "#%debug\n",
    "\n",
    "# import warnings\n",
    "# warnings.filterwarnings(\"error\")\n",
    "# # with warnings.catch_warnings():\n",
    "# #     warnings.simplefilter('error')\n",
    "#%debug\n",
    "# try:\n",
    "%run -i ../run/run_genfeats.py --sources_type parcel_aal --bands crude\\\n",
    " --src_grouping_fn 10\\\n",
    " --src_grouping 0 \\\n",
    " --raw S97_off_move \\\n",
    " --feat_types con,H_act,H_mob,H_compl,rbcorr,bpcorr\\\n",
    " --Kalman_smooth 0\\\n",
    " --load_TFR 0\\\n",
    " --load_CSD 0\\\n",
    " --save_TFR 0\\\n",
    " --save_CSD 0\\\n",
    " --save_bpcorr 0\\\n",
    " --save_rbcorr 0\\\n",
    " --load_rbcorr 0\\\n",
    " --use_existing_TFR 0\\\n",
    " --use_preloaded_data 1\\\n",
    " --allow_CUDA 0\\\n",
    " --load_only 0\\\n",
    " --show_plots 0\\\n",
    " --plot_types ,\\\n",
    " --prescale_data 0\\\n",
    " --normalize_TFR separate\\\n",
    " --n_jobs 1\\\n",
    " --save_feat 0\\\n",
    " --feat_stats_artif_handling no\\\n",
    " --scale_data_combine_type subj \\\n",
    " --rbcorr_use_local_means 0\\\n",
    " --output_subdir test\\\n",
    " --stats_fn_prefix stats_S97,S99_3_ \\\n",
    " --param_file genfeats_defparams.ini \n",
    "# except ComplexWarning as e:\n",
    "#     pass"
   ]
  },
  {
   "cell_type": "code",
   "execution_count": null,
   "id": "1bee554e",
   "metadata": {},
   "outputs": [],
   "source": [
    "feat_dict['con'].shape"
   ]
  },
  {
   "cell_type": "code",
   "execution_count": null,
   "id": "f78003fa",
   "metadata": {},
   "outputs": [],
   "source": [
    "%matplotlib inline\n",
    "from plots import shadeAnn\n",
    "anns_artif = anndict_per_intcat_per_rawn[rawnames[0]]['artif']['LFP'] \n",
    "\n",
    "N = dat_pri[0].shape[-1]\n",
    "print(tfrres.shape)\n",
    "nc = 11\n",
    "fig,axs = plt.subplots(nc,1,figsize=(12,2*nc), sharex='col')\n",
    "axind = 0\n",
    "ax = axs[axind]; axind += 1\n",
    "for chi in range(2,tfrres.shape[0]):\n",
    "    for fi in range(8,tfrres.shape[1] ):\n",
    "        ax.plot( np.abs( tfrres[chi][fi] ) )\n",
    "ax.plot( dat_pri[0][0][::skip] /8 )\n",
    "#ax.fill_betweenx([0,.2],  (offset_start-windowsz)//skip,  offset_start//skip, color='red', alpha=0.15)\n",
    "shadeAnn(ax,anns_artif, 0,1 ,plot_bins = 1, sfreq=sfreq, skip=skip)\n",
    "\n",
    "ax.set_title('tfrres SRC higher_freq')\n",
    "print(tfrres.shape)\n",
    "\n",
    "ax = axs[axind]; axind += 1\n",
    "for chi in range(2,tfrres.shape[0]):\n",
    "    for fi in range(8 ):\n",
    "        ax.plot( np.abs( tfrres[chi][fi] ) )\n",
    "ax.plot( dat_pri[0][0][::skip] /8 )\n",
    "ax.set_title('tfrres SRC low_freq')\n",
    "ax.fill_betweenx([0,2],  (offset_start-windowsz)//skip,  offset_start//skip, color='red', alpha=0.15)\n",
    "\n",
    "####################\n",
    "\n",
    "ax = axs[axind]; axind += 1\n",
    "for feati in range(30,bpow_abscds_all_reshaped.shape[0]):\n",
    "    ax.plot( np.abs( bpow_abscds_all_reshaped[feati] ) )\n",
    "ax.plot( dat_pri[0][0][::skip] / 10  )\n",
    "ax.set_title('bpow_abscds_all_reshaped higher_freq')\n",
    "ax.fill_betweenx([0,0.2],  (offset_start-windowsz)//skip,  offset_start//skip, color='red', alpha=0.15)\n",
    "\n",
    "############\n",
    "\n",
    "# plot LFP\n",
    "#fig,axs = plt.subplots(2,1,figsize=(12,6))\n",
    "ax = axs[axind]; axind += 1\n",
    "for chi in range(2):\n",
    "    for fi in range(8,tfrres.shape[1] ):\n",
    "        ax.plot( np.abs( tfrres[chi][fi] ) )\n",
    "ax.plot( dat_pri[0][0][::skip] / 8  )\n",
    "ax.fill_betweenx([0,.2],  (offset_start-windowsz)//skip,  offset_start//skip, color='red', alpha=0.15)\n",
    "ax.set_title('tfrres LFP higher_freq')\n",
    "\n",
    "ax = axs[axind]; axind += 1\n",
    "for chi in range(2):\n",
    "    for fi in range(8 ):\n",
    "        ax.plot( np.abs( tfrres[chi][fi] ) )\n",
    "ax.plot( dat_pri[0][0][::skip] *2  )\n",
    "ax.set_title('tfrres LFP lower_freq')\n",
    "ax.fill_betweenx([0,2],  (offset_start-windowsz)//skip,  offset_start//skip, color='red', alpha=0.15)\n",
    "\n",
    "wbdi = (offset_start-windowsz)//skip\n",
    "s,e = tfrres_wbd_pri[0][:,wbdi] / skip\n",
    "ax.fill_betweenx([0,1],  s,e, color='yellow', alpha=0.15)\n",
    "\n",
    "#----\n",
    "\n",
    "ax = axs[axind]; axind += 1\n",
    "for chi in range(tfrres_LFP_HFO.shape[0]):\n",
    "    for fi in range(tfrres_LFP_HFO.shape[1] ):\n",
    "        ax.plot( np.abs( tfrres_LFP_HFO[chi][fi] ) )\n",
    "ax.plot( dat_pri[0][0][::skip] /8 )\n",
    "ax.set_title('tfrres LFP HFO')\n",
    "ax.fill_betweenx([0,0.1],  (offset_start-windowsz)//skip,  offset_start//skip, color='red', alpha=0.15)\n",
    "\n",
    "\n",
    "#-------------------\n",
    "ax = axs[axind]; axind += 1\n",
    "d1 = act_pri[0][0]\n",
    "d2 = mob_pri[0][0]\n",
    "d3 = compl_pri[0][0]\n",
    "#plt.close('all')\n",
    "ax.plot( d1 / np.max(d1)  ,label='act', marker='*' )\n",
    "ax.plot( d2 / np.max(d2), label='mob' )\n",
    "ax.plot( d3 / np.max(d3)  , label='compl' )\n",
    "\n",
    "\n",
    "ax.plot( dat_pri[0][0][::skip] *2  )\n",
    "ax.fill_betweenx([0,2],  (offset_start-windowsz)//skip,  offset_start//skip, color='red', alpha=0.15)\n",
    "ax.set_title('H')\n",
    "\n",
    "wbdi = (offset_start-windowsz)//skip\n",
    "s,e = wbd_H_pri[0][:,wbdi] / skip\n",
    "ax.fill_betweenx([0,1],  s,e, color='yellow', alpha=0.15)\n",
    "ax.legend()\n",
    "\n",
    "ax = axs[axind]; axind += 1\n",
    "for bn,r in raw_perband_flt_pri[0].items():\n",
    "    d = r.get_data()\n",
    "    print(bn, np.where( np.abs(d[:,-1] ) > 1e-10 )[0] )\n",
    "    ax.plot(np.arange(N) / skip, d.T , label=bn)\n",
    "ax.plot(np.arange(N) / skip, dat_pri[0][0]/2 )        \n",
    "shadeAnn(ax,anns_artif, np.min(d),np.max(d) ,plot_bins = 1, sfreq=sfreq, skip=skip)\n",
    "    \n",
    "\n",
    "ax = axs[axind]; axind += 1\n",
    "for bn,r in raw_perband_bp_pri[0].items():\n",
    "    d = r.get_data()\n",
    "    print(bn, np.where( np.abs(d[:,-1] ) > 1e-10 )[0] )\n",
    "    ax.plot(np.arange(N) / skip,  d.T , label=bn)\n",
    "ax.plot( np.arange(N) / skip, dat_pri[0][0]/2 )    \n",
    "\n",
    "\n",
    "ax = axs[axind]; axind += 1\n",
    "d = bpcorrs_pri[0][0:5]\n",
    "ax.plot( d.T, label='bp'  )\n",
    "\n",
    "d = rbcorrs_pri[0][0:5]\n",
    "ax.plot( d.T, label='rb'  )\n",
    "ax.plot( dat_pri[0][0][::skip] *0.02, ls=':'  )\n",
    "\n",
    "wbdi = (offset_start-windowsz)//skip\n",
    "s,e = wbd_rbcorr_pri[0][:,wbdi] / skip\n",
    "ax.fill_betweenx([0,0.02],  s,e, color='yellow', alpha=0.15)\n",
    "\n",
    "wbdi = (offset_start-windowsz)//skip\n",
    "s,e = wbd_bpcorr_pri[0][:,wbdi] / skip\n",
    "ax.fill_betweenx([-0.01,0],  s,e, color='purple', alpha=0.15)"
   ]
  },
  {
   "cell_type": "code",
   "execution_count": null,
   "id": "28108633",
   "metadata": {},
   "outputs": [],
   "source": [
    "# raising\n",
    "# for i in range(len(dat_pri[0])):\n",
    "#     dat_pri[0][i] = np.arange(nbins) + 2**i * 1e-3\n",
    "    \n",
    "# for i in range(len(dat_lfp_hires_pri[0])):\n",
    "#     dat_lfp_hires_pri[0][i] = np.arange(nbins_hires) + 3**i * 1e-3"
   ]
  },
  {
   "cell_type": "code",
   "execution_count": null,
   "id": "b70cf175",
   "metadata": {},
   "outputs": [],
   "source": [
    "import gc; gc.collect()\n",
    "\n",
    "plt.close('all')"
   ]
  },
  {
   "cell_type": "code",
   "execution_count": null,
   "id": "488325ff",
   "metadata": {},
   "outputs": [],
   "source": [
    "main_side"
   ]
  },
  {
   "cell_type": "code",
   "execution_count": null,
   "id": "ab19ce41",
   "metadata": {},
   "outputs": [],
   "source": [
    "roi_labels['all_raw'][60]"
   ]
  },
  {
   "cell_type": "code",
   "execution_count": null,
   "id": "e38c0835",
   "metadata": {},
   "outputs": [],
   "source": [
    "    for lbli in range(len(gp.areas_list_aal_my_guess)):\n",
    "        for lblj in range(lbli+1, len(gp.areas_list_aal_my_guess)):\n",
    "  \n",
    "            lab1 = gp.areas_list_aal_my_guess[lbli]\n",
    "            lab2 = gp.areas_list_aal_my_guess[lblj]\n",
    "            if exclude_CB_interactions and (lab1.find('Cerebellum') >= 0\\\n",
    "                    or lab2.find('Cerebellum') >= 0):\n",
    "                continue\n",
    "                \n",
    "            op_mainside_let = utils.getOppositeSideStr(main_side_let)\n",
    "            pc1 = roi_labels['all_raw'].index(lab1 + f'_{op_mainside_let}')\n",
    "            pc2 = roi_labels['all_raw'].index(lab2 + f'_{op_mainside_let}')\n",
    "            print(pc1,pc2,lab1,lab2)\n",
    "            #side = ?\n",
    "#             templ1 = '.?src_{}.*'.format(lab1)\n",
    "#             templ2 = '.?src_{}.*'.format(lab2)\n",
    "            #cross_types += [  (templ1 ,templ2 )  ]\n",
    "\n",
    "    "
   ]
  },
  {
   "cell_type": "code",
   "execution_count": null,
   "id": "dcede5f9",
   "metadata": {},
   "outputs": [],
   "source": [
    "tfrres.shape"
   ]
  },
  {
   "cell_type": "code",
   "execution_count": null,
   "id": "3a2a18a2",
   "metadata": {},
   "outputs": [],
   "source": [
    "len(subfeature_order)"
   ]
  },
  {
   "cell_type": "code",
   "execution_count": null,
   "id": "d1b2f4ad",
   "metadata": {},
   "outputs": [],
   "source": [
    "d.shape"
   ]
  },
  {
   "cell_type": "code",
   "execution_count": null,
   "id": "bfb34a65",
   "metadata": {},
   "outputs": [],
   "source": [
    "%matplotlib inline"
   ]
  },
  {
   "cell_type": "code",
   "execution_count": null,
   "id": "daefa75d",
   "metadata": {},
   "outputs": [],
   "source": [
    "#dd[0].shape, dd_pad[0].shape"
   ]
  },
  {
   "cell_type": "code",
   "execution_count": null,
   "id": "b5751fd1",
   "metadata": {},
   "outputs": [],
   "source": [
    "xs = np.arange(dat_pri[0].shape[1])"
   ]
  },
  {
   "cell_type": "code",
   "execution_count": null,
   "id": "32cc6803",
   "metadata": {},
   "outputs": [],
   "source": [
    "dd = ugf.Hjorth(dat_pri[0], dt=1/sfreq, windowsz=windowsz, skip=skip, pad=False)"
   ]
  },
  {
   "cell_type": "code",
   "execution_count": null,
   "id": "4791656e",
   "metadata": {},
   "outputs": [],
   "source": [
    "plt.close('all')"
   ]
  },
  {
   "cell_type": "code",
   "execution_count": null,
   "id": "b94f0b4c",
   "metadata": {},
   "outputs": [],
   "source": []
  },
  {
   "cell_type": "code",
   "execution_count": null,
   "id": "24d4aa39",
   "metadata": {},
   "outputs": [],
   "source": [
    "tst = np.zeros(windowsz+skip)\n",
    "dd = ugf.Hjorth(dat_pri[0], dt=1/sfreq, windowsz=windowsz, skip=skip, pad=False)\n",
    "dd_pad = ugf.Hjorth(dat_pri[0], dt=1/sfreq, windowsz=windowsz, skip=skip, pad=True)\n",
    "dd_pad_ri = ugf.Hjorth(dat_pri[0], dt=1/sfreq, windowsz=windowsz, skip=skip, pad=True, remove_invalid=True)"
   ]
  },
  {
   "cell_type": "code",
   "execution_count": null,
   "id": "1b4bda94",
   "metadata": {},
   "outputs": [],
   "source": [
    "for tuple_ind in range(3):\n",
    "    plt.figure(figsize=(15,4))\n",
    "    plt.plot( dd    [tuple_ind][0], label=f'no_pad {len(dd    [tuple_ind][0])}' )\n",
    "    plt.plot( dd_pad[tuple_ind][0] ,label=f'pad  {len(dd_pad    [tuple_ind][0])}', ls='--'  )\n",
    "    plt.plot( dd_pad_ri[tuple_ind][0] ,label=f'pad_ri  {len(dd_pad_ri    [tuple_ind][0])}',marker='|',lw=0,c='r' )\n",
    "    #plt.ylim(-0.01,0.1)\n",
    "    plt.legend(loc='upper right')\n",
    "    plt.title(f'tuple_ind = {tuple_ind}')"
   ]
  },
  {
   "cell_type": "code",
   "execution_count": null,
   "id": "8f0ae710",
   "metadata": {},
   "outputs": [],
   "source": [
    "\n",
    "# with decim = 1\n",
    "tfrres_t,wbd_t = utils.tfr(dat_pri[0], sfreq, freqs, n_cycles,\n",
    "                        windowsz, decim = 1,\n",
    "                        n_jobs=n_jobs_tfr, mode='valid')\n",
    "\n",
    "plt.figure()\n",
    "for chi in range(2):\n",
    "    for fi in range(27,tfrres_t.shape[1] ):\n",
    "        plt.plot( np.abs( tfrres_t[chi][fi] ) )\n",
    "        \n",
    "nb = tfrres_t[chi][fi].shape[0]\n",
    "plt.plot(dat_pri[0][0], lw=1)\n",
    "\n",
    "plt.plot(dat_pri[0][0][nbins - nb:], lw=3, ls=':')\n",
    "plt.axvline(x=nbins - nb - windowsz/2, ls=':')\n",
    "plt.axvline(x=nbins - nb + windowsz/2, ls=':')\n"
   ]
  },
  {
   "cell_type": "code",
   "execution_count": null,
   "id": "f90051a1",
   "metadata": {},
   "outputs": [],
   "source": [
    "bpow_abscds_all_reshaped.shape"
   ]
  },
  {
   "cell_type": "code",
   "execution_count": null,
   "id": "5b46a4b2",
   "metadata": {},
   "outputs": [],
   "source": [
    "csdord_strs[30:40]"
   ]
  },
  {
   "cell_type": "code",
   "execution_count": null,
   "id": "8f76323e",
   "metadata": {},
   "outputs": [],
   "source": [
    "display( anns_artif )\n"
   ]
  },
  {
   "cell_type": "code",
   "execution_count": null,
   "id": "245dd454",
   "metadata": {},
   "outputs": [],
   "source": [
    "for a in anns_artif:\n",
    "    print(a)\n"
   ]
  },
  {
   "cell_type": "code",
   "execution_count": null,
   "id": "bcab2b92",
   "metadata": {},
   "outputs": [],
   "source": [
    "cmap = plt.cm.get_cmap('tab20', 20)\n",
    "cmap(3),cmap(10),cmap(3.4),cmap(20),cmap(21)"
   ]
  },
  {
   "cell_type": "code",
   "execution_count": null,
   "id": "eab3ba15",
   "metadata": {},
   "outputs": [],
   "source": [
    "\n",
    "\n",
    "ax = plt.gca()\n",
    "shadeAnn(ax,anns_artif, 0,1 ,plot_bins = 1, sfreq=sfreq, skip=skip)\n",
    "ax.legend()"
   ]
  },
  {
   "cell_type": "code",
   "execution_count": null,
   "id": "c1beb879",
   "metadata": {},
   "outputs": [],
   "source": [
    "ax.plot( dat_pri[0][0][::skip] / 10  )"
   ]
  },
  {
   "cell_type": "code",
   "execution_count": null,
   "id": "f3424a4f",
   "metadata": {},
   "outputs": [],
   "source": []
  },
  {
   "cell_type": "code",
   "execution_count": null,
   "id": "2805dfd0",
   "metadata": {},
   "outputs": [],
   "source": [
    "wbd_H_pri[0].shape"
   ]
  },
  {
   "cell_type": "code",
   "execution_count": null,
   "id": "17bf0fe2",
   "metadata": {},
   "outputs": [],
   "source": [
    "wbd_bpcorr_pri[0].shape"
   ]
  },
  {
   "cell_type": "code",
   "execution_count": null,
   "id": "54675344",
   "metadata": {},
   "outputs": [],
   "source": [
    "rbcorrs.shape"
   ]
  },
  {
   "cell_type": "code",
   "execution_count": null,
   "id": "bd7bee2c",
   "metadata": {},
   "outputs": [],
   "source": [
    "csd_cur.shape, tfrres.shape"
   ]
  },
  {
   "cell_type": "code",
   "execution_count": null,
   "id": "a5e7f815",
   "metadata": {},
   "outputs": [],
   "source": [
    "parcel_couplings, LFP2LFP_couplings"
   ]
  },
  {
   "cell_type": "code",
   "execution_count": null,
   "id": "57b36d85",
   "metadata": {},
   "outputs": [],
   "source": [
    "parcel_couplings_t = {(4, 4): [(2, 2)] }\n",
    "#parcel_couplings_t = {}\n",
    "LFP2LFP_couplings_t = {('LFPR01', 'LFPR01'): [(0, 0)] }\n",
    "LFP2parcel_couplings_t = {}"
   ]
  },
  {
   "cell_type": "code",
   "execution_count": null,
   "id": "ded21a43",
   "metadata": {},
   "outputs": [],
   "source": [
    "        csd_cur_t, csdord_t = ugf.tfr2csd(tfrres_cur_, sfreq, returnOrder=1,\n",
    "                                        ind_pairs=None,\n",
    "                                        parcel_couplings=parcel_couplings_t,\n",
    "                                        LFP2LFP_couplings=LFP2LFP_couplings_t,\n",
    "                                        LFP2parcel_couplings=LFP2parcel_couplings_t,\n",
    "                                        oldchns=chnames_tfr,\n",
    "                                        newchns=newchns,\n",
    "                                        res_group_id=newchn_grouping_ind,\n",
    "                                        log=log_during_csd)\n"
   ]
  },
  {
   "cell_type": "code",
   "execution_count": null,
   "id": "08a65fe4",
   "metadata": {},
   "outputs": [],
   "source": [
    "dd.shape, csd_pri[0].shape"
   ]
  },
  {
   "cell_type": "markdown",
   "id": "c9317c6a",
   "metadata": {},
   "source": [
    "## CSD"
   ]
  },
  {
   "cell_type": "code",
   "execution_count": null,
   "id": "78d0ddbd",
   "metadata": {},
   "outputs": [],
   "source": [
    "freqs[:10], freqs[30:]"
   ]
  },
  {
   "cell_type": "code",
   "execution_count": null,
   "id": "2efc5c1d",
   "metadata": {},
   "outputs": [],
   "source": [
    "from plots import *\n",
    "plt.close('all')\n",
    "\n",
    "#dd = np.abs( csd_cur_t[0] )\n",
    "dd = np.abs( csd_pri[0][1] )\n",
    "\n",
    "plt.figure()\n",
    "ax = plt.gca(); axind += 1\n",
    "print(np.max(dd ), dd.shape)\n",
    "#for feati in range(30, dd.shape[0] ):\n",
    "for feati in range(8, dd.shape[0] ):\n",
    "    d = dd[feati] \n",
    "    ax.plot(  d) \n",
    "\n",
    "ax.plot( dat_pri[0][0][::skip] / 30  )\n",
    "ax.set_title('LFP higher_freq')\n",
    "    \n",
    "plt.figure()\n",
    "ax = plt.gca();\n",
    "for feati in range(8):\n",
    "    d = dd[feati] \n",
    "    ax.plot(  d) \n",
    "#         if np.max(d) > 1e-10:\n",
    "#             print(fi)\n",
    "ax.plot( dat_pri[0][0][::skip] / 10  )\n",
    "shadeAnn(ax,anns_artif, 0,0.1 ,plot_bins = 1, sfreq=sfreq, skip=skip)\n",
    "#ax.fill_betweenx([0,.01],  (offset_start-windowsz)//skip,  offset_start//skip, color='red', alpha=0.15)\n",
    "ax.set_title('LFP lower_freq')\n",
    "\n",
    "dd = np.abs( csd_LFP_HFO_pri[0][0] )\n",
    "print(csd_LFP_HFO_pri[0].shape)\n",
    "plt.figure()\n",
    "ax = plt.gca();\n",
    "for feati in range(27):\n",
    "    d = dd[feati] \n",
    "    ax.plot(  d) \n",
    "#         if np.max(d) > 1e-10:\n",
    "#             print(fi)\n",
    "ax.plot( dat_pri[0][0][::skip] / 100  )\n",
    "\n",
    "shadeAnn(ax,anns_artif, 0,0.01 ,plot_bins = 1, sfreq=sfreq, skip=skip)\n",
    "#ax.fill_betweenx([0,.01],  (offset_start-windowsz)//skip,  offset_start//skip, color='red', alpha=0.15)\n",
    "ax.set_title('HFO lower_freq')"
   ]
  },
  {
   "cell_type": "code",
   "execution_count": null,
   "id": "977c9dd2",
   "metadata": {},
   "outputs": [],
   "source": [
    "ax = plt.gca(); axind += 1\n",
    "dd = csd_pri[0]\n",
    "for chi in range(2):\n",
    "    for fi in range(30,dd.shape[1] ):\n",
    "        ax.plot( np.abs( dd[chi][fi] ) )\n",
    "        \n",
    "ax.plot( dat_pri[0][0][::skip] / 30  )\n",
    "ax.fill_betweenx([0,.15],  (offset_start-windowsz)//skip,  offset_start//skip, color='red', alpha=0.15)\n",
    "ax.set_title('csd_pri LFP higher_freq')"
   ]
  },
  {
   "cell_type": "code",
   "execution_count": null,
   "id": "796423db",
   "metadata": {},
   "outputs": [],
   "source": [
    "bpow_abscsd_pri, bpow_imagcsd, csdord_strs_pri, csdord_strs_HFO_pri,bpow_abscsd_LFP_HFO_pri  = \\\n",
    "    ugf.bandAverage( freqs,freqs_inc_HFO,csd_pri,csdord_pri,csdord_LFP_HFO_pri,\n",
    "            csd_LFP_HFO_pri, fbands,fband_names, fband_names_inc_HFO,\n",
    "            newchns, subfeature_order_lfp_hires, log_before_bandaver= log_before_bandaver )\n"
   ]
  },
  {
   "cell_type": "code",
   "execution_count": null,
   "id": "160c1f95",
   "metadata": {},
   "outputs": [],
   "source": [
    "plt.plot(freqs,n_cycles)"
   ]
  },
  {
   "cell_type": "code",
   "execution_count": null,
   "id": "f2b6fc52",
   "metadata": {},
   "outputs": [],
   "source": [
    "freqs,n_cycles, Ws, windowsz_max = utils.prepFreqs(min_freq = min_freq, max_freq = 90,\n",
    "                                                   frmults=[2*m,m,m], sfreq=sfreq )\n"
   ]
  },
  {
   "cell_type": "code",
   "execution_count": null,
   "id": "be143804",
   "metadata": {},
   "outputs": [],
   "source": [
    "freqs"
   ]
  },
  {
   "cell_type": "code",
   "execution_count": null,
   "id": "70c4b311",
   "metadata": {},
   "outputs": [],
   "source": [
    "len(Ws), len(Ws[0]),len(freqs)"
   ]
  },
  {
   "cell_type": "markdown",
   "id": "f741873d",
   "metadata": {},
   "source": [
    "### Inspect wavelets"
   ]
  },
  {
   "cell_type": "code",
   "execution_count": null,
   "id": "60c6a414",
   "metadata": {},
   "outputs": [],
   "source": [
    "for ww in Ws:\n",
    "    lens = []\n",
    "    for w in ww:\n",
    "        lens += [len(w)]\n",
    "    print( list( zip(freqs,lens) ) )\n"
   ]
  },
  {
   "cell_type": "code",
   "execution_count": null,
   "id": "7a9339c8",
   "metadata": {},
   "outputs": [],
   "source": [
    "print( 'bpow_abscsd_pri[0].shape =', bpow_abscsd_pri[0].shape )\n",
    "print( 'bpow_abscds_all_reshaped.shape =' ,bpow_abscds_all_reshaped.shape )\n",
    "print( 'bpow_abscsd_LFP_HFO_pri[0].shape = ', bpow_abscsd_LFP_HFO_pri[0].shape )\n",
    "\n",
    "# abscsd -- bandpow-averaged\n",
    "plt.figure(figsize=(15,3))\n",
    "ax = plt.gca(); axind += 1\n",
    "chi = 3\n",
    "dd = bpow_abscsd_pri[0][chi]\n",
    "#dd = bpow_abscsd_LFP_HFO_pri[0][0]\n",
    "print(dd.shape)\n",
    "#dd = bpow_abscds_all_reshaped\n",
    "for feati in range(0,dd.shape[0]):\n",
    "    d = np.abs( dd[feati] )\n",
    "    ax.plot( d, label=f'{chi}:{feati}' )\n",
    "    if np.max(d) > 1:\n",
    "        print(feati,feat_dict['con']['names'][feati])\n",
    "        \n",
    "dd1 = bpow_abscsd_LFP_HFO_pri[0][0]\n",
    "print(dd.shape)\n",
    "#dd = bpow_abscds_all_reshaped\n",
    "for feati in range(0,dd1.shape[0]):\n",
    "    d = np.abs( dd1[feati] ) \n",
    "    d = d / np.max(d) * np.max(dd)\n",
    "    ax.plot( d, label=f'{feati} HFO' )\n",
    "    if np.max(d) > 1:\n",
    "        print(feati,feat_dict['con']['names'][feati])\n",
    "\n",
    "ax.plot( dat_pri[0][0][::skip] * np.max(dd) * 1.1  , ls=':')\n",
    "ax.set_title('abscsd higher_freq')\n",
    "ax.fill_betweenx([0,np.max(dd)],  (offset_start-windowsz)//skip,  offset_start//skip, color='red', alpha=0.15)\n",
    "ax.legend()\n"
   ]
  },
  {
   "cell_type": "code",
   "execution_count": null,
   "id": "873af572",
   "metadata": {},
   "outputs": [],
   "source": []
  },
  {
   "cell_type": "code",
   "execution_count": null,
   "id": "449144d2",
   "metadata": {},
   "outputs": [],
   "source": [
    "raw_perband_flt_pri[0].keys()"
   ]
  },
  {
   "cell_type": "code",
   "execution_count": null,
   "id": "59c13c3d",
   "metadata": {},
   "outputs": [],
   "source": [
    "    raw_perband_flt_pri, raw_perband_bp_pri, chnames_perband_flt_pri, chnames_perband_bp_pri  = \\\n",
    "        ugf.bandFilter(rawnames, times_pri, main_sides_pri, side_switched_pri,\n",
    "              sfreqs, skips, dat_pri_persfreq, fband_names_inc_HFO, gv.fband_names_HFO_all,\n",
    "              fbands, n_jobs_flt, allow_CUDA, subfeature_order, subfeature_order_lfp_hires,\n",
    "              smoothen_bandpow, ann_MEGartif_prefix_to_use, artif_handling='reject')\n"
   ]
  },
  {
   "cell_type": "code",
   "execution_count": null,
   "id": "c2788efa",
   "metadata": {},
   "outputs": [],
   "source": [
    "plt.figure(figsize=(16,3))\n",
    "ax = plt.gca()\n",
    "\n",
    "for bn,r in raw_perband_flt_pri[0].items():\n",
    "    d = r.get_data()\n",
    "    print(bn, np.where( np.abs(d[:,-1] ) > 1e-10 )[0] )\n",
    "    ax.plot(d.T , label=bn)\n",
    "    \n",
    "#raw_perband_bp_pri\n",
    "\n",
    "ax.fill_betweenx([-0.6,.6],  (offset_start-windowsz),  offset_start, color='red', alpha=0.15)\n",
    "ax.plot( dat_pri[0][0] * 0.7 , ls=':' )\n",
    "#ax.legend(loc='lower left')"
   ]
  },
  {
   "cell_type": "code",
   "execution_count": null,
   "id": "00ccbc21",
   "metadata": {},
   "outputs": [],
   "source": [
    "len(dat_pri_persfreq[2])"
   ]
  },
  {
   "cell_type": "code",
   "execution_count": null,
   "id": "e2a4c045",
   "metadata": {},
   "outputs": [],
   "source": [
    "sfreqs"
   ]
  },
  {
   "cell_type": "code",
   "execution_count": null,
   "id": "f90835f4",
   "metadata": {},
   "outputs": [],
   "source": [
    "dat_pri_persfreq"
   ]
  },
  {
   "cell_type": "code",
   "execution_count": null,
   "id": "21c4ed48",
   "metadata": {},
   "outputs": [],
   "source": [
    "ax = plt.gca()\n",
    "ax.plot(dat_pri_persfreq[1][0].T)"
   ]
  },
  {
   "cell_type": "code",
   "execution_count": null,
   "id": "62fe187f",
   "metadata": {},
   "outputs": [],
   "source": [
    "main_side_let"
   ]
  },
  {
   "cell_type": "code",
   "execution_count": null,
   "id": "6cd8ee69",
   "metadata": {},
   "outputs": [],
   "source": []
  },
  {
   "cell_type": "code",
   "execution_count": null,
   "id": "49cef8fb",
   "metadata": {},
   "outputs": [],
   "source": [
    "# if artifact is in the beginning or end, filtering causes artifact"
   ]
  },
  {
   "cell_type": "code",
   "execution_count": null,
   "id": "953fe3d0",
   "metadata": {},
   "outputs": [],
   "source": [
    "# l_trans_bandwidth float | str\n",
    "\n",
    "#     Width of the transition band at the low cut-off frequency in Hz (high pass or cutoff 1 in bandpass). Can be “auto” (default) to use a multiple of l_freq:\n",
    "#     min(max(l_freq * 0.25, 2), l_freq)\n",
    "\n",
    "#     Only used for method='fir'.\n",
    "# h_trans_bandwidth float | str\n",
    "\n",
    "#     Width of the transition band at the high cut-off frequency in Hz (low pass or cutoff 2 in bandpass). Can be “auto” (default in 0.14) to use a multiple of h_freq:\n",
    "\n",
    "#     min(max(h_freq * 0.25, 2.), info['sfreq'] / 2. - h_freq)\n"
   ]
  },
  {
   "cell_type": "code",
   "execution_count": null,
   "id": "2cd147fd",
   "metadata": {},
   "outputs": [],
   "source": [
    "plt.figure(figsize=(15,3))\n",
    "r = utils.makeSimpleRaw(dat_pri_persfreq[0][0],copy=1)\n",
    "ann_ = mne.Annotations([0.2],[0.7],['BAD_R'])\n",
    "r.set_annotations(ann_)\n",
    "plt.axvline(ann_.onset[0] * sfreq)\n",
    "plt.axvline((ann_.onset[0] + ann_.duration[0]) * sfreq)\n",
    "r0 = r.copy()\n",
    "r0.filter(l_freq=13,h_freq=16, pad='symmetric', skip_by_annotation=f'BAD_R', phase='zero')\n",
    "plt.plot( r0.get_data()[0], label='>1s zero' )\n",
    "\n",
    "r1 = r.copy()\n",
    "r1.filter(l_freq=13,h_freq=16, pad='symmetric', skip_by_annotation=f'BAD_R',filter_length='1s',\n",
    "          l_trans_bandwidth=2, h_trans_bandwidth=2, phase='minimum')\n",
    "plt.plot( r1.get_data()[0], label='1s' )\n",
    "\n",
    "r2 = r.copy()\n",
    "r2.filter(l_freq=13,h_freq=16, pad='symmetric', skip_by_annotation=f'BAD_R',filter_length='2s',\n",
    "          l_trans_bandwidth=2, h_trans_bandwidth=2, phase='minimum')\n",
    "plt.plot( r2.get_data()[0], label='2s' )\n",
    "\n",
    "r3 = r.copy()\n",
    "r3.filter(l_freq=13,h_freq=16, pad='symmetric', skip_by_annotation=f'BAD_R',filter_length='2s',\n",
    "          l_trans_bandwidth=2, h_trans_bandwidth=2, phase='zero')\n",
    "plt.plot( r3.get_data()[0], label='2s' )\n",
    "\n",
    "# r2 = r.copy()\n",
    "# r2.filter(l_freq=3,h_freq=6, skip_by_annotation=f'BAD_R')\n",
    "# plt.plot( r2.get_data()[0] )\n",
    "\n",
    "plt.plot( dat_pri[0][0] * 1 , ls=':' )\n",
    "\n",
    "plt.legend()"
   ]
  },
  {
   "cell_type": "code",
   "execution_count": null,
   "id": "d761e115",
   "metadata": {},
   "outputs": [],
   "source": [
    "r1 = r.copy()\n",
    "r1.filter(l_freq=3,h_freq=6, pad='symmetric', skip_by_annotation=f'BAD_R', len)\n",
    "plt.plot( r1.get_data()[0] )"
   ]
  },
  {
   "cell_type": "code",
   "execution_count": null,
   "id": "066c1357",
   "metadata": {},
   "outputs": [],
   "source": [
    "ax = plt.gca()\n",
    "#for dd in dat_pri_persfreq:\n",
    "ax.plot(dat_pri_persfreq[0][0].T)\n"
   ]
  },
  {
   "cell_type": "code",
   "execution_count": null,
   "id": "9f378cff",
   "metadata": {},
   "outputs": [],
   "source": [
    "parcel_couplings"
   ]
  },
  {
   "cell_type": "code",
   "execution_count": null,
   "id": "65d20766",
   "metadata": {},
   "outputs": [],
   "source": [
    "parcel_couplings_t = {(4, 4): [(2, 2)]}\n",
    "parcel_couplings_t, LFP2parcel_couplings_t, LFP2LFP_couplings_t"
   ]
  },
  {
   "cell_type": "code",
   "execution_count": null,
   "id": "2baea3ce",
   "metadata": {},
   "outputs": [],
   "source": [
    "means_perband"
   ]
  },
  {
   "cell_type": "code",
   "execution_count": null,
   "id": "89599eff",
   "metadata": {},
   "outputs": [],
   "source": [
    "rbcorr_use_local_means_t = 0"
   ]
  },
  {
   "cell_type": "code",
   "execution_count": null,
   "id": "2acd073a",
   "metadata": {},
   "outputs": [],
   "source": [
    "means_perband_flt_pri[0]"
   ]
  },
  {
   "cell_type": "code",
   "execution_count": null,
   "id": "64f63d61",
   "metadata": {},
   "outputs": [],
   "source": [
    "import copy\n",
    "means_perband_t = copy.deepcopy( means_perband_flt_pri[0])\n",
    "for k in means_perband_t:\n",
    "    means_perband_t[k] = np.zeros( means_perband_t[k].shape)"
   ]
  },
  {
   "cell_type": "code",
   "execution_count": null,
   "id": "7d5370d2",
   "metadata": {},
   "outputs": [],
   "source": [
    "if 'rbcorr' in features_to_use:  #raw band corr\n",
    "    if bands_only == 'fine':\n",
    "        bandPairs = [('tremor','tremor', 'corr'),\n",
    "                    ('low_beta','low_beta', 'corr'), ('high_beta','high_beta', 'corr'),\n",
    "                    ('low_gamma','low_gamma', 'corr') , ('high_gamma','high_gamma', 'corr') ]\n",
    "    else:\n",
    "        bandPairs = [('tremor','tremor', 'corr'), ('beta','beta', 'corr'), ('gamma','gamma', 'corr') ]\n",
    "\n",
    "    rbcorrs_pri     = [0] * len(rawnames)\n",
    "    wbd_rbcorr_pri  = [0] * len(rawnames)\n",
    "    rbcor_names_pri = [0] * len(rawnames)\n",
    "    for rawind in range(len(dat_pri)):\n",
    "        fn = pre_rbcorr_fname.format(rawnames[rawind], n_channels_pri[rawind] )\n",
    "        fn = pjoin(gv.data_dir, output_subdir, fn)\n",
    "        if load_rbcorr and os.path.exists(fn):\n",
    "            print('Load rbcorr from {}'.format(fn) )\n",
    "            f = np.load(fn, allow_pickle=True)\n",
    "            bpcorrs      =f['rbcorrs'    ]\n",
    "            bpcor_names  =f['rbcor_names']\n",
    "            wbd_bpcorr   =f['wbd_rbcorr' ]\n",
    "        else:\n",
    "            print('Starting rbcorr for datset {}'.format(rawind) )\n",
    "            raw_perband =  raw_perband_flt_pri[rawind]\n",
    "            chnames_perband =  chnames_perband_flt_pri[rawind]\n",
    "            if rbcorr_use_local_means:\n",
    "                means_perband = None\n",
    "            else:\n",
    "                means_perband = means_perband_flt_pri[rawind]\n",
    "\n",
    "            rbcorrs = []\n",
    "            rbcor_names = []\n",
    "            for bp in bandPairs:\n",
    "                print('band pair ',bp)\n",
    "                rbcorrs_curbp,rbcor_names_curbp,dct_nums, wbd_rbcorr = \\\n",
    "                computeCorr(raw_perband, names=chnames_perband,\n",
    "                                        defnames=chnames_tfr,\n",
    "                                        parcel_couplings=parcel_couplings_t,\n",
    "                                        LFP2parcel_couplings=LFP2parcel_couplings_t,\n",
    "                                        LFP2LFP_couplings=LFP2LFP_couplings_t,\n",
    "                                        res_group_id=newchn_grouping_ind,\n",
    "                                        skip=skip, windowsz = windowsz,\n",
    "                                        band_pairs = [bp], n_jobs=n_jobs,\n",
    "                                        positive=0, templ='{}_.*',\n",
    "                                        roi_labels=roi_labels,\n",
    "                                        sort_keys=srcgrouping_names_sorted,\n",
    "                                        means=means_perband_t,\n",
    "                                        local_means=rbcorr_use_local_means_t, pad='pre_left')\n",
    "                assert len(rbcor_names_curbp) > 0\n",
    "                gc.collect()\n",
    "                rbcorrs     += rbcorrs_curbp\n",
    "                rbcor_names += rbcor_names_curbp\n",
    "\n",
    "            rbcorrs = np.vstack(rbcorrs)\n",
    "\n",
    "            for feati in range(len(rbcor_names) ):\n",
    "                rbcor_names[feati] = 'rb' + rbcor_names[feati]\n",
    "\n",
    "            if save_rbcorr:\n",
    "                print('Saving rbcorr ',fn)\n",
    "                #fn = pjoin(gv.data_dir, output_subdir,'{}_rbcorr.npz'.format(rawnames[rawind] ) )\n",
    "                np.savez( fn , rbcorrs=rbcorrs, rbcor_names=rbcor_names, wbd_rbcorr=wbd_rbcorr)\n",
    "                gc.collect()\n",
    "\n",
    "        rbcor_names_pri[rawind] = rbcor_names\n",
    "        rbcorrs_pri    [rawind] = rbcorrs\n",
    "        wbd_rbcorr_pri [rawind] = wbd_rbcorr\n",
    "    if do_cleanup:\n",
    "        del  raw_perband_flt_pri\n",
    "        del  rbcorrs\n",
    "    gc.collect()\n"
   ]
  },
  {
   "cell_type": "code",
   "execution_count": null,
   "id": "5646c73b",
   "metadata": {},
   "outputs": [],
   "source": [
    "plt.figure(figsize=(15,3))\n",
    "ax = plt.gca()\n",
    "d = bpcorrs_pri[0][0]\n",
    "ax.plot( d, label='bp'  )\n",
    "\n",
    "d = rbcorrs_pri[0][0]\n",
    "ax.plot( d, label='rb'  )\n",
    "\n",
    "\n",
    "\n",
    "print(bpow_abscds_all_reshaped.shape)\n",
    "d = bpow_abscds_all_reshaped[2]\n",
    "\n",
    "ax.plot( d / 5, label='abscsd'  )\n",
    "ax.fill_betweenx([0,.02],  (offset_start-windowsz)//skip,  offset_start//skip, color='red', alpha=0.15)\n",
    "\n",
    "ax.set_title('bpcorr and rbcorr')\n",
    "\n",
    "plt.plot( dat_pri[0][0][::skip] * 0.04 , ls=':' )\n",
    "ax.legend()"
   ]
  },
  {
   "cell_type": "code",
   "execution_count": null,
   "id": "be7fdbf6",
   "metadata": {},
   "outputs": [],
   "source": [
    "wbd_rbcorr"
   ]
  },
  {
   "cell_type": "code",
   "execution_count": null,
   "id": "9844b56b",
   "metadata": {},
   "outputs": [],
   "source": [
    "(offset_start-windowsz)//skip"
   ]
  },
  {
   "cell_type": "code",
   "execution_count": null,
   "id": "8315add8",
   "metadata": {},
   "outputs": [],
   "source": [
    "plt.plot( dat_pri[0][0][::skip] * 0.04 , ls=':' )"
   ]
  },
  {
   "cell_type": "code",
   "execution_count": null,
   "id": "bdc9ed7b",
   "metadata": {},
   "outputs": [],
   "source": [
    "help(r.apply_hilbert)"
   ]
  },
  {
   "cell_type": "code",
   "execution_count": null,
   "id": "5917845f",
   "metadata": {},
   "outputs": [],
   "source": [
    "help( r.filter )"
   ]
  },
  {
   "cell_type": "code",
   "execution_count": null,
   "id": "995c00c1",
   "metadata": {},
   "outputs": [],
   "source": [
    "r.ch_names"
   ]
  },
  {
   "cell_type": "code",
   "execution_count": null,
   "id": "70cc311e",
   "metadata": {},
   "outputs": [],
   "source": [
    "mne.pick_channels_regexp(subfeature_order,'msrc.*')"
   ]
  },
  {
   "cell_type": "code",
   "execution_count": null,
   "id": "47bbe936",
   "metadata": {},
   "outputs": [],
   "source": [
    "anns_artif"
   ]
  },
  {
   "cell_type": "code",
   "execution_count": null,
   "id": "dbb52ec7",
   "metadata": {},
   "outputs": [],
   "source": [
    "plt.close('all')"
   ]
  },
  {
   "cell_type": "code",
   "execution_count": null,
   "id": "ac5c1a4e",
   "metadata": {},
   "outputs": [],
   "source": [
    "plt.plot(dat_lfp_hires_pri[0].T)"
   ]
  },
  {
   "cell_type": "code",
   "execution_count": null,
   "id": "97ab0dda",
   "metadata": {},
   "outputs": [],
   "source": [
    "from plots import *\n",
    "plt.suptitle('Filtered')\n",
    "plt.figure(figsize=(15,6))\n",
    "plt.plot( dat_pri[0][0] * 0.02 , ls=':' )\n",
    "plotStepsWbd(rbcorrs_pri[0][0], wbd_rbcorr, sfreq)\n",
    "\n",
    "ax = plt.gca()\n",
    "for bn,r in raw_perband_flt_pri[0].items():\n",
    "    d = r.get_data()\n",
    "    #print(bn, np.where( np.abs(d[:,-1] ) > 1e-10 )[0] )\n",
    "    ax.plot(d.T / 30 + 0.05 , label=bn)\n",
    "\n",
    "    \n",
    "\n",
    "plt.figure(figsize=(15,6))\n",
    "plt.suptitle('Bandpower')\n",
    "plt.plot( dat_pri[0][0] * 0.02 , ls=':' )\n",
    "plotStepsWbd(bpcorrs_pri[0][0], wbd_rbcorr, sfreq)\n",
    "\n",
    "ax = plt.gca()\n",
    "for bn,r in raw_perband_bp_pri[0].items():\n",
    "    if bn != 'HFO':\n",
    "        continue\n",
    "    d = r.get_data()\n",
    "    xs =  np.arange(dat_pri[0].shape[-1] )\n",
    "    if r.info['sfreq']  > 256:\n",
    "        xs =  np.arange(len(dat_lfp_hires_pri[0].shape[-1]) / sfreq_hires * sfreq )\n",
    "    #print(bn, np.where( np.abs(d[:,-1] ) > 1e-10 )[0] )\n",
    "    ax.plot(xs,  d[:2].T / 30 + 0.05 , label=f'LFP  {bn}')\n",
    "    if d.shape[0] > 2:\n",
    "        ax.plot(xs,d[2:].T / 30 + 0.025, label=f'msrc {bn}' )\n",
    "\n",
    "ax.legend()"
   ]
  },
  {
   "cell_type": "code",
   "execution_count": null,
   "id": "16569e72",
   "metadata": {},
   "outputs": [],
   "source": [
    "d.shape"
   ]
  },
  {
   "cell_type": "code",
   "execution_count": null,
   "id": "5477caf4",
   "metadata": {},
   "outputs": [],
   "source": [
    "anns_artif"
   ]
  },
  {
   "cell_type": "code",
   "execution_count": null,
   "id": "5089d640",
   "metadata": {},
   "outputs": [],
   "source": [
    "\n",
    "\n",
    "# TODO: test subfeature_order\n",
    "res = imputeInterpArtif(dat_pri[0].T, anns_artif, subfeature_order)\n",
    "res = res.T"
   ]
  },
  {
   "cell_type": "code",
   "execution_count": null,
   "id": "e136665b",
   "metadata": {},
   "outputs": [],
   "source": [
    "r.annotations"
   ]
  },
  {
   "cell_type": "code",
   "execution_count": null,
   "id": "ae6f37df",
   "metadata": {},
   "outputs": [],
   "source": [
    "help(r.get_data)"
   ]
  },
  {
   "cell_type": "code",
   "execution_count": null,
   "id": "2bb2c3ea",
   "metadata": {},
   "outputs": [],
   "source": [
    "res.shape"
   ]
  },
  {
   "cell_type": "code",
   "execution_count": null,
   "id": "d5387226",
   "metadata": {},
   "outputs": [],
   "source": [
    "plt.figure(figsize=(15,3))\n",
    "ax = plt.gca()\n",
    "ax.plot( res[0] )\n",
    "ax.plot( res[-1] * 1.5)\n",
    "#shadeAnn(ax, anns_artif, 0, 1.5, skip=1, plot_bins=1)\n",
    "ax.legend()"
   ]
  },
  {
   "cell_type": "code",
   "execution_count": null,
   "id": "b8e66076",
   "metadata": {},
   "outputs": [],
   "source": [
    "import pandas as pd\n",
    "dat_pd_t = np.zeros( ( 30, 2))\n",
    "dat_pd_t[:,0] = np.arange(df.shape[0])\n",
    "dat_pd_t[6:10] = np.nan\n",
    "df = pd.DataFrame(dat_pd_t)\n",
    "#df_interpol = df.groupby('house')\\\n",
    "#                 .resample('D')\\\n",
    "#                 .mean()\n",
    "df_interpol = df.copy()\n",
    "df_interpol[0] = df_interpol[0].interpolate()\n",
    "#df_interpol.head(4)"
   ]
  },
  {
   "cell_type": "code",
   "execution_count": null,
   "id": "60375bfc",
   "metadata": {},
   "outputs": [],
   "source": []
  },
  {
   "cell_type": "code",
   "execution_count": null,
   "id": "a7ec3fc7",
   "metadata": {},
   "outputs": [],
   "source": [
    "df.get()"
   ]
  },
  {
   "cell_type": "code",
   "execution_count": null,
   "id": "75333ce4",
   "metadata": {},
   "outputs": [],
   "source": [
    "df.interpolate(axis=0)"
   ]
  },
  {
   "cell_type": "code",
   "execution_count": null,
   "id": "a6ff8b6b",
   "metadata": {},
   "outputs": [],
   "source": [
    "help( df.interpolate )"
   ]
  },
  {
   "cell_type": "code",
   "execution_count": null,
   "id": "903a9ce9",
   "metadata": {},
   "outputs": [],
   "source": [
    "df.shape"
   ]
  },
  {
   "cell_type": "code",
   "execution_count": null,
   "id": "5c7d5667",
   "metadata": {},
   "outputs": [],
   "source": [
    "gc.collect()"
   ]
  },
  {
   "cell_type": "code",
   "execution_count": null,
   "id": "9cac567d",
   "metadata": {},
   "outputs": [],
   "source": [
    "df.shape"
   ]
  },
  {
   "cell_type": "code",
   "execution_count": null,
   "id": "b14996dd",
   "metadata": {},
   "outputs": [],
   "source": [
    "df_interpol"
   ]
  },
  {
   "cell_type": "code",
   "execution_count": null,
   "id": "1a2557a8",
   "metadata": {},
   "outputs": [],
   "source": [
    "df[0,:] = np.arange(df.shape[0])"
   ]
  },
  {
   "cell_type": "code",
   "execution_count": null,
   "id": "1acbee8a",
   "metadata": {},
   "outputs": [],
   "source": [
    "csdord_strs"
   ]
  },
  {
   "cell_type": "code",
   "execution_count": null,
   "id": "5f880921",
   "metadata": {},
   "outputs": [],
   "source": [
    "d = bpcorrs_pri[0][0]\n",
    "plt.plot( d  )\n",
    "\n",
    "d = rbcorrs_pri[0][0]\n",
    "plt.plot( d  )\n",
    "\n"
   ]
  },
  {
   "cell_type": "code",
   "execution_count": null,
   "id": "7b45875d",
   "metadata": {},
   "outputs": [],
   "source": [
    "plt.plot(dat_for_tfr.T)"
   ]
  },
  {
   "cell_type": "code",
   "execution_count": null,
   "id": "b48aace8",
   "metadata": {},
   "outputs": [],
   "source": [
    "#help(plt.figure)"
   ]
  },
  {
   "cell_type": "code",
   "execution_count": null,
   "id": "66f248fc",
   "metadata": {},
   "outputs": [],
   "source": [
    "offset_sec"
   ]
  },
  {
   "cell_type": "code",
   "execution_count": null,
   "id": "b2679044",
   "metadata": {},
   "outputs": [],
   "source": []
  },
  {
   "cell_type": "code",
   "execution_count": null,
   "id": "8440b8dd",
   "metadata": {},
   "outputs": [],
   "source": [
    "dat_p"
   ]
  },
  {
   "cell_type": "code",
   "execution_count": null,
   "id": "a75bfbde",
   "metadata": {},
   "outputs": [],
   "source": [
    "dat_pri[0].shape"
   ]
  },
  {
   "cell_type": "code",
   "execution_count": null,
   "id": "37c063dd",
   "metadata": {},
   "outputs": [],
   "source": [
    "sfreq * "
   ]
  },
  {
   "cell_type": "code",
   "execution_count": null,
   "id": "e986f583",
   "metadata": {},
   "outputs": [],
   "source": [
    "dat_for_tfr.shape"
   ]
  },
  {
   "cell_type": "code",
   "execution_count": null,
   "id": "c1051225",
   "metadata": {},
   "outputs": [],
   "source": [
    "dat_lfp_hires_pri[0].shape"
   ]
  },
  {
   "cell_type": "code",
   "execution_count": null,
   "id": "9c419770",
   "metadata": {},
   "outputs": [],
   "source": [
    "#dat_for_tfr_t= np.zeros(dat_lfp_hires_pri[0].shape)\n",
    "dat_for_tfr_t = np.zeros( (2,sfreq_hires * 10 ) )\n",
    "offset_sec_t = 3\n",
    "offset2_sec_t = 6\n",
    "xs = np.arange(dat_for_tfr_t.shape[1] - offset_sec_t * sfreq_hires)  / sfreq_hires\n",
    "#dat_for_tfr_t[0,offset_sec_t*sfreq_hires : ] = np.sin( xs * 2 * 5* np.pi )\n",
    "dat_for_tfr_t[0,offset_sec_t*sfreq_hires : ] = 1\n",
    "#dat_for_tfr_t[0,offset2_sec_t * sfreq_hires:] = 0\n",
    "\n",
    "plt.figure(figsize=(14,3))\n",
    "plt.plot(dat_for_tfr_t.T)"
   ]
  },
  {
   "cell_type": "code",
   "execution_count": null,
   "id": "e3237d38",
   "metadata": {},
   "outputs": [],
   "source": [
    "dat_for_tfr_t.shape[1] / skip"
   ]
  },
  {
   "cell_type": "code",
   "execution_count": null,
   "id": "dba692e3",
   "metadata": {},
   "outputs": [],
   "source": [
    "# calc HFO once again just in case\n",
    "tfrres_LFP_t,wbd_HFO = utils.tfr(dat_for_tfr_t, sfreq_hires, freqs_inc_HFO, n_cycles_inc_HFO,\n",
    "                    windowsz_hires, decim = skip_hires // skip_div_TFR, n_jobs=n_jobs_tfr, mode='untouched')\n",
    "tfrres_LFP_LFO_t = tfrres_LFP_t[:,:len(freqs),:]\n",
    "tfrres_LFP_HFO_t = tfrres_LFP_t[:,len(freqs):,:]\n",
    "\n",
    "\n",
    "\n",
    "# plot LFP HFO\n",
    "fig,axs = plt.subplots(3,1,figsize=(12,6))\n",
    "ax=axs[0]\n",
    "ax.set_title('lowfreq_LFP_HFO')\n",
    "for chi in range(2):\n",
    "    for fi in range(27,tfrres_LFP_LFO_t.shape[1] ):\n",
    "        ax.plot( np.abs( tfrres_LFP_LFO_t[chi][fi] ) )\n",
    "ax.plot( dat_pri[0][0][::skip] / 8  )\n",
    "ax=axs[1]\n",
    "for chi in range(2):\n",
    "    for fi in range(27 ):\n",
    "        ax.plot( np.abs( tfrres_LFP_LFO_t[chi][fi] ) )\n",
    "ax.plot( dat_pri[0][0][::skip] *2  )\n",
    "\n",
    "ax=axs[2]\n",
    "for chi in range(2):\n",
    "    for fi in range(tfrres_LFP_HFO_t.shape[1] ):\n",
    "        ax.plot( np.abs( tfrres_LFP_HFO_t[chi][fi] ) )\n",
    "ax.plot( dat_pri[0][0][::skip] / 8  )"
   ]
  },
  {
   "cell_type": "code",
   "execution_count": null,
   "id": "bdde617b",
   "metadata": {},
   "outputs": [],
   "source": [
    "tfrres_wbd_pri[0]"
   ]
  },
  {
   "cell_type": "code",
   "execution_count": null,
   "id": "d5a5e40b",
   "metadata": {},
   "outputs": [],
   "source": [
    "d1 = act_pri[0][0]\n",
    "d2 = mob_pri[0][0]\n",
    "d3 = compl_pri[0][0]\n",
    "plt.close('all')\n",
    "plt.plot( d1 / np.max(d1)  ,label='act', marker='*' )\n",
    "plt.plot( d2 / np.max(d2), label='mob' )\n",
    "plt.plot( d3 / np.max(d3)  , label='compl' )\n",
    "\n",
    "\n",
    "plt.plot( dat_pri[0][0][::skip] *2  )\n",
    "plt.fill_betweenx([0,2],  (offset_start-windowsz)//skip,  offset_start//skip, color='red', alpha=0.15)\n",
    "plt.legend()"
   ]
  },
  {
   "cell_type": "code",
   "execution_count": null,
   "id": "ca69bb20",
   "metadata": {},
   "outputs": [],
   "source": [
    "offset_start - windowsz"
   ]
  },
  {
   "cell_type": "code",
   "execution_count": null,
   "id": "f655978d",
   "metadata": {},
   "outputs": [],
   "source": [
    "n = int(windowsz*2 + len(tt[0]) - nb - windowsz/2)\n",
    "print(n, n/windowsz )\n",
    "wbd_t[1,n]"
   ]
  },
  {
   "cell_type": "code",
   "execution_count": null,
   "id": "da397ba9",
   "metadata": {},
   "outputs": [],
   "source": [
    "np.arange( tt.shape[-1] - windowsz*4)"
   ]
  },
  {
   "cell_type": "code",
   "execution_count": null,
   "id": "54e87a6e",
   "metadata": {},
   "outputs": [],
   "source": [
    "strt = (tt.shape[-1] + windowsz -1 )//2; print(strt)\n",
    "wbd_new_st = np.arange(strt, )"
   ]
  },
  {
   "cell_type": "code",
   "execution_count": null,
   "id": "84406879",
   "metadata": {},
   "outputs": [],
   "source": [
    "# if I sartt from 1.5 *wsz, then  tfr (mode = valid) starts from 0\n",
    "# if I sartt from 1 *wsz, then  tfr (mode = untouched) starts from 0"
   ]
  },
  {
   "cell_type": "code",
   "execution_count": null,
   "id": "44108e98",
   "metadata": {},
   "outputs": [],
   "source": [
    "windowsz / decim * 2"
   ]
  },
  {
   "cell_type": "code",
   "execution_count": null,
   "id": "7c066df9",
   "metadata": {},
   "outputs": [],
   "source": [
    "np.max(tt)"
   ]
  },
  {
   "cell_type": "code",
   "execution_count": null,
   "id": "9825f6cf",
   "metadata": {},
   "outputs": [],
   "source": [
    "r = mne.time_frequency.tfr_array_morlet(tt[None,:],sfreq,freqs,n_cycles,n_jobs=1,decim=32)\n",
    "\n",
    "r.shape\n",
    "\n",
    "np.max(np.abs(r))"
   ]
  },
  {
   "cell_type": "code",
   "execution_count": null,
   "id": "9d81b2d5",
   "metadata": {},
   "outputs": [],
   "source": [
    "fr = 12 \n",
    "#m1 = 1.5\n",
    "m1 = 2; m2 = 9; m3 = 11\n",
    "tt = np.zeros((2,windowsz * m3 )  )\n",
    "sz = int(windowsz*(m2-m1) )\n",
    "tt[0,int(windowsz*m1):int(windowsz*m2)] = 1 * np.sin(fr * 2 * np.pi * np.arange( sz) / sz)\n",
    "tt[0,windowsz*m2:] = 0\n",
    "\n",
    "decim = 64\n",
    "#decim = 1\n",
    "tfrres_t,wbd_t = utils.tfr(tt, sfreq, freqs, n_cycles,\n",
    "                        windowsz, decim = decim,\n",
    "                        n_jobs=n_jobs_tfr, mode='valid')\n",
    "\n",
    "change_mode_freqi = 27\n",
    "for freqSlice in [slice(None,change_mode_freqi), slice(change_mode_freqi,None)]:\n",
    "    plt.figure(figsize=(16,4))\n",
    "\n",
    "    xs = np.arange(0,len(tt[0]),1)\n",
    "    # before around 32 slower freq use larger windows!\n",
    "    for chi in range(2):\n",
    "        for fi in np.arange(tfrres_t.shape[1]  )[freqSlice]:\n",
    "            d = tfrres_t[chi][fi]\n",
    "            plt.plot( xs[::decim][:len(d) ], 1 + 50 * np.abs( d ) )\n",
    "\n",
    "    nb = tfrres_t[chi][fi].shape[0]\n",
    "    plt.plot(xs, tt[0] , lw=1, label='orig')\n",
    "\n",
    "    #ycur = tt[0][len(tt[0]) - nb*decim:] / 2\n",
    "    #plt.plot(xs[:len(ycur)], ycur , lw=3, ls=':', label='shift len dif')\n",
    "    #plt.axvline(x=windowsz*2 + len(tt[0]) - nb - windowsz/2, ls=':')\n",
    "    #plt.axvline(x=windowsz*3 + len(tt[0]) - nb + windowsz/2, ls=':')\n",
    "    for x in np.arange(0,len(tt[0]),windowsz):\n",
    "        plt.axvline(x=x, ls=':',c='blue')\n",
    "    bi = 0\n",
    "    b0 = wbd_t[0,bi]\n",
    "    b1 = wbd_t[1,bi]\n",
    "    plt.fill_betweenx([-1,1],b0,b1, ls=':',color='red',alpha=0.2)\n",
    "    #ei = tfrres_t.shape[-1]- windowsz *2 // decim \n",
    "    ei = -1\n",
    "    e0 = wbd_t[0,ei]\n",
    "    e1 = wbd_t[1,ei]\n",
    "    plt.fill_betweenx([-1,1],e0,e1, ls=':',color='red',alpha=0.2)\n",
    "    plt.legend()\n",
    "\n",
    "\n",
    "#assert first and last window get zeros and any shifts get a bit of stuff\n",
    "#plt.xlim(800,1600)"
   ]
  },
  {
   "cell_type": "code",
   "execution_count": null,
   "id": "19ac9b7c",
   "metadata": {},
   "outputs": [],
   "source": []
  },
  {
   "cell_type": "code",
   "execution_count": null,
   "id": "ccd2f092",
   "metadata": {},
   "outputs": [],
   "source": [
    "(windowsz // decim)"
   ]
  },
  {
   "cell_type": "code",
   "execution_count": null,
   "id": "d045e8ce",
   "metadata": {},
   "outputs": [],
   "source": [
    "tt.shape"
   ]
  },
  {
   "cell_type": "code",
   "execution_count": null,
   "id": "810769ab",
   "metadata": {},
   "outputs": [],
   "source": [
    "b0,b1"
   ]
  },
  {
   "cell_type": "code",
   "execution_count": null,
   "id": "544ebe32",
   "metadata": {},
   "outputs": [],
   "source": [
    "post_start_segment"
   ]
  },
  {
   "cell_type": "code",
   "execution_count": null,
   "id": "3306fe0a",
   "metadata": {},
   "outputs": [],
   "source": [
    "len( Ws[0] ), len(Ws)"
   ]
  },
  {
   "cell_type": "code",
   "execution_count": null,
   "id": "c3b72494",
   "metadata": {},
   "outputs": [],
   "source": [
    "Ws[0][26].shape"
   ]
  },
  {
   "cell_type": "code",
   "execution_count": null,
   "id": "05d76c18",
   "metadata": {},
   "outputs": [],
   "source": [
    "ei"
   ]
  },
  {
   "cell_type": "code",
   "execution_count": null,
   "id": "3709d5cb",
   "metadata": {},
   "outputs": [],
   "source": [
    "tfrres_t.shape[-1]"
   ]
  },
  {
   "cell_type": "code",
   "execution_count": null,
   "id": "95ccf6ae",
   "metadata": {},
   "outputs": [],
   "source": [
    "wbd_t.shape"
   ]
  },
  {
   "cell_type": "code",
   "execution_count": null,
   "id": "c7dd17a0",
   "metadata": {},
   "outputs": [],
   "source": [
    "wbd_t[1]"
   ]
  },
  {
   "cell_type": "code",
   "execution_count": null,
   "id": "055627d0",
   "metadata": {},
   "outputs": [],
   "source": []
  },
  {
   "cell_type": "code",
   "execution_count": null,
   "id": "0e875926",
   "metadata": {},
   "outputs": [],
   "source": [
    "dat_for_tfr.shape, dat_pri[0].shape"
   ]
  },
  {
   "cell_type": "code",
   "execution_count": null,
   "id": "9df39c64",
   "metadata": {},
   "outputs": [],
   "source": [
    "plt.figure()\n",
    "plt.plot(dat_pri[0][0])"
   ]
  },
  {
   "cell_type": "code",
   "execution_count": null,
   "id": "379b6c26",
   "metadata": {},
   "outputs": [],
   "source": [
    "X_pri[0].shape"
   ]
  },
  {
   "cell_type": "code",
   "execution_count": null,
   "id": "c54a1b2c",
   "metadata": {},
   "outputs": [],
   "source": [
    "wbd"
   ]
  },
  {
   "cell_type": "code",
   "execution_count": null,
   "id": "9e7f9053",
   "metadata": {},
   "outputs": [],
   "source": [
    "plot_types"
   ]
  },
  {
   "cell_type": "code",
   "execution_count": null,
   "id": "8e18f199",
   "metadata": {},
   "outputs": [],
   "source": [
    "do_plot_feat_stat_scatter"
   ]
  },
  {
   "cell_type": "code",
   "execution_count": null,
   "id": "54e23a9a",
   "metadata": {},
   "outputs": [],
   "source": [
    "ivalis"
   ]
  },
  {
   "cell_type": "code",
   "execution_count": null,
   "id": "b2c9895e",
   "metadata": {},
   "outputs": [],
   "source": [
    "gv.CUDA_state"
   ]
  },
  {
   "cell_type": "code",
   "execution_count": null,
   "id": "832987b9",
   "metadata": {},
   "outputs": [],
   "source": [
    "n_jobs_flt"
   ]
  },
  {
   "cell_type": "code",
   "execution_count": null,
   "id": "2e04d976",
   "metadata": {},
   "outputs": [],
   "source": [
    "tfr_std"
   ]
  },
  {
   "cell_type": "code",
   "execution_count": null,
   "id": "eccf6573",
   "metadata": {},
   "outputs": [],
   "source": [
    "tfrres_LFP_LFO.shape"
   ]
  },
  {
   "cell_type": "code",
   "execution_count": null,
   "id": "89c3d415",
   "metadata": {},
   "outputs": [],
   "source": [
    "tfrres.shape"
   ]
  },
  {
   "cell_type": "code",
   "execution_count": null,
   "id": "682a333b",
   "metadata": {},
   "outputs": [],
   "source": [
    "len(Ws)"
   ]
  },
  {
   "cell_type": "code",
   "execution_count": null,
   "id": "3481cb5c",
   "metadata": {},
   "outputs": [],
   "source": [
    "[len(w) for w in Ws[2] ]"
   ]
  },
  {
   "cell_type": "code",
   "execution_count": null,
   "id": "7530b92e",
   "metadata": {},
   "outputs": [],
   "source": [
    "[len(w) for w in Ws[0] ]"
   ]
  },
  {
   "cell_type": "code",
   "execution_count": null,
   "id": "941e6eea",
   "metadata": {},
   "outputs": [],
   "source": [
    "# %load ~/soft/_pyenvs/obddp/lib/python3.8/site-packages/mne/time_frequency/tfr.py"
   ]
  }
 ],
 "metadata": {
  "kernelspec": {
   "display_name": "Python 3",
   "language": "python",
   "name": "python3"
  },
  "language_info": {
   "codemirror_mode": {
    "name": "ipython",
    "version": 3
   },
   "file_extension": ".py",
   "mimetype": "text/x-python",
   "name": "python",
   "nbconvert_exporter": "python",
   "pygments_lexer": "ipython3",
   "version": "3.8.10"
  }
 },
 "nbformat": 4,
 "nbformat_minor": 5
}
