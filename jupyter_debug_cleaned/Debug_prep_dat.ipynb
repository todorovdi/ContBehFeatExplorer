{
 "cells": [
  {
   "cell_type": "code",
   "execution_count": null,
   "id": "87c52e80",
   "metadata": {},
   "outputs": [],
   "source": [
    "%load_ext autoreload\n",
    "%autoreload 2\n",
    "%precision %.4f\n",
    "############################\n",
    "from jupyter_helpers.notifications import Notifications\n",
    "p = '/usr/share/sounds/gnome/default/alerts/'\n",
    "p1 = p + 'glass.ogg'; p2 = p + 'sonar.ogg';\n",
    "Notifications(success_audio=p1, time_threshold=2,\n",
    "    failure_audio=p2)  #    ,integration='GNOME')"
   ]
  },
  {
   "cell_type": "code",
   "execution_count": null,
   "id": "0f7c869f",
   "metadata": {},
   "outputs": [],
   "source": [
    "%load_ext autoreload\n",
    "%autoreload 2\n",
    "\n",
    "import globvars as gv\n",
    "gv.DEBUG_MODE=1\n",
    "from IPython import get_ipython; ipython = get_ipython()\n",
    "#Once that's done, run a magic command like this:\n",
    "#%debug\n",
    "\n",
    "mstr = ('run -i ../run/run_prep_dat.py -r S99_off_hold'\n",
    "        ' --param_file prep_dat_defparams.ini --calc_stats_multi_band 1'\n",
    "        ' --save_dat 1 --save_stats 1 --use_preloaded_raws 0 --allow_CUDA 0'\n",
    "        ' --brain_side_to_use both')\n",
    "ipython.magic(mstr)"
   ]
  },
  {
   "cell_type": "code",
   "execution_count": null,
   "id": "bc18930b",
   "metadata": {},
   "outputs": [],
   "source": [
    "new_main_body_side"
   ]
  },
  {
   "cell_type": "code",
   "execution_count": null,
   "id": "981d1a10",
   "metadata": {},
   "outputs": [],
   "source": [
    "subfeature_order_pri[0]"
   ]
  },
  {
   "cell_type": "code",
   "execution_count": null,
   "id": "8884d280",
   "metadata": {},
   "outputs": [],
   "source": [
    "dat_pri[0].shape"
   ]
  }
 ],
 "metadata": {
  "kernelspec": {
   "display_name": "Python 3",
   "language": "python",
   "name": "python3"
  },
  "language_info": {
   "codemirror_mode": {
    "name": "ipython",
    "version": 3
   },
   "file_extension": ".py",
   "mimetype": "text/x-python",
   "name": "python",
   "nbconvert_exporter": "python",
   "pygments_lexer": "ipython3",
   "version": "3.8.10"
  }
 },
 "nbformat": 4,
 "nbformat_minor": 5
}
