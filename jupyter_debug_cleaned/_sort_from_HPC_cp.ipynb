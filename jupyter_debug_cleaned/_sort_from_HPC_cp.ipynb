{
 "cells": [
  {
   "cell_type": "code",
   "execution_count": null,
   "id": "66fa908d",
   "metadata": {},
   "outputs": [],
   "source": [
    "%load_ext autoreload\n",
    "%autoreload 2\n",
    "\n",
    "import globvars as gv\n",
    "import utils\n",
    "import utils_tSNE as utsne\n",
    "import utils_preproc as upre\n",
    "\n",
    "import os\n",
    "import sys\n",
    "import mne\n",
    "import json\n",
    "import matplotlib.pyplot as plt\n",
    "import numpy as np\n",
    "import h5py\n",
    "import multiprocessing as mpr\n",
    "import matplotlib as mpl\n",
    "import time\n",
    "import gc;\n",
    "import scipy.signal as sig\n",
    "import pandas as pd \n",
    "\n",
    "import numpy as np\n",
    "import utils_postprocess_HPC as postp\n",
    "\n",
    "data_dir = gv.data_dir\n",
    "from os.path import join as pjoin"
   ]
  },
  {
   "cell_type": "code",
   "execution_count": null,
   "id": "9e4b81c5",
   "metadata": {},
   "outputs": [],
   "source": [
    "subdir = ''\n",
    "fname_full_summary = pjoin(gv.data_dir,subdir,'output_per_raw.npz')\n",
    "f = np.load(fname_full_summary,allow_pickle=True)"
   ]
  },
  {
   "cell_type": "code",
   "execution_count": null,
   "id": "0ada2140",
   "metadata": {},
   "outputs": [],
   "source": [
    "output_per_raw = f['output_per_raw']\n",
    "\n",
    "output_per_raw = output_per_raw[()]"
   ]
  },
  {
   "cell_type": "code",
   "execution_count": null,
   "id": "ec9164a3",
   "metadata": {},
   "outputs": [],
   "source": [
    "output_per_raw = output_per_raw[()]"
   ]
  },
  {
   "cell_type": "code",
   "execution_count": null,
   "id": "d55cf25d",
   "metadata": {},
   "outputs": [],
   "source": [
    "prefixes = list( sorted(output_per_raw['S01'].keys() ) )\n",
    "prefixes"
   ]
  },
  {
   "cell_type": "code",
   "execution_count": null,
   "id": "2f567cc0",
   "metadata": {},
   "outputs": [],
   "source": []
  },
  {
   "cell_type": "code",
   "execution_count": null,
   "id": "9a0f48e9",
   "metadata": {},
   "outputs": [],
   "source": []
  },
  {
   "cell_type": "code",
   "execution_count": null,
   "id": "843e23ea",
   "metadata": {},
   "outputs": [],
   "source": [
    "perf_to_use_list = []\n",
    "perf_to_use_list += [('XGB','perfs_XGB','perfs_XGB_red') ]\n",
    "perf_to_use_list += [('XGB','perfs_XGB','perfs_XGB_fs_red') ]\n",
    "perf_to_use_list += [('LDA','all_present_features','strongest_features_LDA_opinion') ]\n",
    "perf_to_use_list += [('LDA','all_present_features','strongest_features_LDA_selMinFeatSet') ]\n",
    "# these are actually XGB_selMeanFeatSet\n",
    "perf_to_use_list += [('LDA','all_present_features','strongest_features_XGB_opinion') ]\n",
    "perf_to_use_list += [('LDA','all_present_features','strongest_features_XGB_fs_opinion') ]\n",
    "\n",
    "\n",
    "all_LDA =  ['all_present_features',\n",
    "      'best_PCA-derived_features_0.6',\n",
    "      'best_PCA-derived_features_0.75',\n",
    "      'best_PCA-derived_features_0.9',\n",
    "      'strongest_features_LDA_opinion',\n",
    "      'strongest_features_LDA_selMinFeatSet',\n",
    "      'strongest_features_XGB_opinion',\n",
    "      'strongest_features_XGB_fs_opinion' ]\n",
    "\n",
    "all_XGB = ['all_present_features',\n",
    "      'strongest_features_XGB_opinion',\n",
    "      'strongest_features_XGB_opinion_nosyn',\n",
    "      'best_PCA-derived_features_0.6',\n",
    "      'best_PCA-derived_features_0.75',\n",
    "      'best_PCA-derived_features_0.9',\n",
    "      'strongest_features_XGB_fs_opinion',\n",
    "      'strongest_features_XGB_fs_opinion_nosyn']\n",
    "\n",
    "perf_to_use_list = []\n",
    "for v in all_LDA[1:]:\n",
    "    perf_to_use_list += [('LDA',all_LDA[0],v)]\n",
    "for v in all_XGB[1:]:\n",
    "    perf_to_use_list += [('XGB',all_XGB[0],v)]\n",
    "    \n",
    "    \n",
    "    \n",
    "to_show = [('allsep','merge_nothing','basic'), ('trem_vs_all','merge_all_not_trem','basic'),\n",
    "        ('trem_vs_2class','merge_movements','basic')]\n",
    "\n",
    "# warnings.simplefilter('error')\n",
    "# table_info_per_perf_type, table_per_perf_type = \\\n",
    "#     postp.prepTableInfo2(output_per_raw, prefixes=prefixes, \n",
    "#     perf_to_use_list=perf_to_use_list)\n",
    "\n",
    "#%debug\n",
    "# import warnings\n",
    "# with warnings.catch_warnings():\n",
    "#warnings.simplefilter('error')\n",
    "table_info_per_perf_type, table_per_perf_type = \\\n",
    "    postp.prepTableInfo3(output_per_raw, prefixes=prefixes, \n",
    "    perf_to_use_list=perf_to_use_list, to_show=to_show)"
   ]
  },
  {
   "cell_type": "code",
   "execution_count": null,
   "id": "39967920",
   "metadata": {},
   "outputs": [],
   "source": [
    "for perf_tuple in perf_to_use_list:\n",
    "    print(perf_tuple)\n",
    "    postp.plotTableInfos2(table_info_per_perf_type, perf_tuple=perf_tuple, \n",
    "                          output_subdir='') "
   ]
  },
  {
   "cell_type": "code",
   "execution_count": null,
   "id": "f85c67af",
   "metadata": {},
   "outputs": [],
   "source": [
    "import utils_postprocess as pp\n",
    "pp.printDict(output_per_raw,max_depth=2)"
   ]
  },
  {
   "cell_type": "code",
   "execution_count": null,
   "id": "8b801f1b",
   "metadata": {},
   "outputs": [],
   "source": [
    "prefixes"
   ]
  },
  {
   "cell_type": "code",
   "execution_count": null,
   "id": "9bb9eef3",
   "metadata": {},
   "outputs": [],
   "source": [
    "prefix = 'all'\n",
    "prefix = 'LFPrel_noself'\n",
    "prefix = 'LFPrel_noself_onlyBpcorr'\n",
    "# prefix = 'LFPrel_noself_onlyBpcorr_onlyMotorSrc'\n",
    "# prefix = 'cross_freqmod_beta,gamma:HFO'\n",
    "# prefix = 'onlyH'\n",
    "# prefix = 'modSrc'\n",
    "# prefix = 'LFPrel_noself_onlyBpcorr_onlyRestSrc'\n",
    "#for prefix in prefixes:\n",
    "#feat_inds_per_prefix = postp.plotFeatNum2Perf(output_per_raw, prefixes)\n",
    "\n",
    "perflists = ['perfs_XGB','perfs_XGB_fs', 'perfs_LDA_featsearch']\n",
    "\n",
    "prefix_list =  ['all', 'LFPrel_noself', 'LFPrel_noself_onlyBpcorr', 'onlyH']\n",
    "#prefix_list = ['LFPrel_noself_onlyRbcorr']\n",
    "#prefix_list =  [ 'LFPrel_noself', 'LFPrel_noself_onlyBpcorr', 'onlyH']\n",
    "feat_names_per_prefix = postp.plotFeatNum2Perf(output_per_raw, perflists, prefix_list,\n",
    "                                              skip_plot=1)"
   ]
  },
  {
   "cell_type": "code",
   "execution_count": null,
   "id": "b037823c",
   "metadata": {},
   "outputs": [],
   "source": [
    "feat_names_per_prefix"
   ]
  },
  {
   "cell_type": "code",
   "execution_count": null,
   "id": "463e9d95",
   "metadata": {},
   "outputs": [],
   "source": [
    "np.hstack( [np.zeros((7, 3)), np.zeros((7,1))] ).shape\n"
   ]
  },
  {
   "cell_type": "code",
   "execution_count": null,
   "id": "ff6dc5d2",
   "metadata": {},
   "outputs": [],
   "source": [
    "feat_names_per_prefix[prefix][rn][(g,it_set)].keys()"
   ]
  },
  {
   "cell_type": "code",
   "execution_count": null,
   "id": "28231891",
   "metadata": {},
   "outputs": [],
   "source": [
    "#%debug\n",
    "perflists = ['perfs_XGB','perfs_XGB_fs', 'perfs_LDA_featsearch'] [:1]\n",
    "for pt in perflists: \n",
    "    for prefix in feat_names_per_prefix.keys():\n",
    "        #pt = 'perfs_XGB'\n",
    "        featlist_per_rn={}\n",
    "        rns = list(sorted(output_per_raw.keys()))\n",
    "        rowind = 0\n",
    "        for rn in rns:\n",
    "\n",
    "            feat_names_per_pg_piset = {}\n",
    "            #for prefix,pg in output_per_raw[rn].items():\n",
    "            pg = output_per_raw[rn][prefix]\n",
    "            for g,pitset in pg.items():\n",
    "                if g == 'feature_names_filtered':\n",
    "                    continue\n",
    "                for it_set,multi_clf_output in pitset.items():\n",
    "\n",
    "                    featnames = feat_names_per_prefix[prefix][rn][(g,it_set)][pt]\n",
    "                    if featnames is None:\n",
    "                        continue\n",
    "                    postp.plotImportantFeatLocations(rn,multi_clf_output,featnames)\n",
    "                    figname = f'important_feat_headloc__{prefix}_{rn}_{g,it_set}__{pt}.pdf'\n",
    "                    plt.suptitle(f'Number of (balanced) features = {len(featnames)}')\n",
    "                    plt.savefig(pjoin(gv.dir_fig, figname ) )\n",
    "\n",
    "#                     break\n",
    "#                 break\n",
    "#             break\n",
    "#         break"
   ]
  },
  {
   "cell_type": "code",
   "execution_count": null,
   "id": "1d8878d1",
   "metadata": {},
   "outputs": [],
   "source": [
    "sind_str=rn; color_by_ftype=True; head_subj_ind='S01'\n",
    "    # featnames here are NOT nice, but it is already a subset, not full set\n",
    "\n"
   ]
  },
  {
   "cell_type": "code",
   "execution_count": null,
   "id": "0f8786d0",
   "metadata": {},
   "outputs": [],
   "source": [
    "A = [5,6,8]; inds = [0, 1, 0 ,1 ,0, 1, 2, 0,0]\n",
    "np.array(A)[inds]"
   ]
  },
  {
   "cell_type": "code",
   "execution_count": null,
   "id": "00dad8b8",
   "metadata": {},
   "outputs": [],
   "source": [
    "MI = multi_clf_output['MI_per_feati']\n",
    "plt.hist( MI )"
   ]
  },
  {
   "cell_type": "code",
   "execution_count": null,
   "id": "226206cd",
   "metadata": {},
   "outputs": [],
   "source": [
    "q = 0.8\n",
    "MIq = np.quantile(MI, q)\n",
    "print(MIq)\n",
    "np.where(MI > MIq)"
   ]
  },
  {
   "cell_type": "code",
   "execution_count": null,
   "id": "35129deb",
   "metadata": {},
   "outputs": [],
   "source": [
    "C = f['results_light']  [()]['corr_matrix']\n",
    "\n",
    "len(fip_fs)\n",
    "\n",
    "## Throw away correlated features\n",
    "\n",
    "indlist = fip_fs\n",
    "#indlist = np.arange(C.shape[0])\n",
    "C_subset = C[indlist,:][:,indlist]\n",
    "strong_correl_level = 0.85\n",
    "\n",
    "nonsyn_feat_inds = pp.getNotSyn(C_subset,strong_correl_level)\n",
    "#orig_inds = indlist[nonsyn_feat_inds]\n",
    "\n",
    "print(f'Without synonyms for corr. level = {strong_correl_level:.3f}: {len(nonsyn_feat_inds)} of {len(indlist)}' )\n",
    "plt.hist(C_subset.flatten());\n",
    "plt.pcolor(C_subset)"
   ]
  },
  {
   "cell_type": "code",
   "execution_count": null,
   "id": "ba161ca5",
   "metadata": {},
   "outputs": [],
   "source": [
    "featnames"
   ]
  },
  {
   "cell_type": "code",
   "execution_count": null,
   "id": "17ea850f",
   "metadata": {},
   "outputs": [],
   "source": [
    "\n",
    " \n",
    "r2['mod_per_ftype']"
   ]
  },
  {
   "cell_type": "code",
   "execution_count": null,
   "id": "7d801ed3",
   "metadata": {},
   "outputs": [],
   "source": [
    "None == []"
   ]
  },
  {
   "cell_type": "code",
   "execution_count": null,
   "id": "77291780",
   "metadata": {},
   "outputs": [],
   "source": [
    "# labels"
   ]
  },
  {
   "cell_type": "code",
   "execution_count": null,
   "id": "38416de2",
   "metadata": {},
   "outputs": [],
   "source": [
    "featnames"
   ]
  },
  {
   "cell_type": "code",
   "execution_count": null,
   "id": "c9e400a3",
   "metadata": {},
   "outputs": [],
   "source": []
  },
  {
   "cell_type": "code",
   "execution_count": null,
   "id": "2034bc12",
   "metadata": {},
   "outputs": [],
   "source": [
    "sizes"
   ]
  },
  {
   "cell_type": "code",
   "execution_count": null,
   "id": "d50529c3",
   "metadata": {},
   "outputs": [],
   "source": [
    "r['mod1'],r['mod2']"
   ]
  },
  {
   "cell_type": "code",
   "execution_count": null,
   "id": "a0482439",
   "metadata": {},
   "outputs": [],
   "source": [
    "r = parseFeatNames(featnames); r"
   ]
  },
  {
   "cell_type": "code",
   "execution_count": null,
   "id": "7fb9873b",
   "metadata": {},
   "outputs": [],
   "source": [
    "codes"
   ]
  },
  {
   "cell_type": "code",
   "execution_count": null,
   "id": "8598b034",
   "metadata": {},
   "outputs": [],
   "source": [
    "tuples_str"
   ]
  },
  {
   "cell_type": "code",
   "execution_count": null,
   "id": "66ef259e",
   "metadata": {},
   "outputs": [],
   "source": [
    "codes2"
   ]
  },
  {
   "cell_type": "code",
   "execution_count": null,
   "id": "1688b9c0",
   "metadata": {},
   "outputs": [],
   "source": [
    "codes_present"
   ]
  },
  {
   "cell_type": "code",
   "execution_count": null,
   "id": "1dbd3f9f",
   "metadata": {},
   "outputs": [],
   "source": [
    "# maybe I want to rename the codes so that they are from 0 to len(set(codes))\n",
    "# convert tuples to string_labels\n",
    "# maybe use '_' instead of None for faster conversion"
   ]
  },
  {
   "cell_type": "code",
   "execution_count": null,
   "id": "e5f9ed8d",
   "metadata": {},
   "outputs": [],
   "source": [
    "codes"
   ]
  },
  {
   "cell_type": "code",
   "execution_count": null,
   "id": "b0c06055",
   "metadata": {},
   "outputs": [],
   "source": [
    "r.keys()"
   ]
  },
  {
   "cell_type": "code",
   "execution_count": null,
   "id": "a4bd04d6",
   "metadata": {},
   "outputs": [],
   "source": [
    "ur = {}\n",
    "for k,item in r.items():\n",
    "    ur[k] = list( sorted( set(item) ) )\n",
    "    \n",
    "display(ur)\n",
    "# ftypes = np.sort(np.unique( r['ftype'] ) )\n",
    "# mod1 = np.sort(np.unique( r['mod1'] ) )\n",
    "# mod2 = np.sort(np.unique( r['mod2'] ) )\n",
    "# fb1 = np.sort(np.unique( r['2'] ) )\n",
    "# fb2 = np.sort(np.unique( r['mod2'] ) )"
   ]
  },
  {
   "cell_type": "code",
   "execution_count": null,
   "id": "c0c6267b",
   "metadata": {},
   "outputs": [],
   "source": []
  },
  {
   "cell_type": "code",
   "execution_count": null,
   "id": "ef036c8e",
   "metadata": {},
   "outputs": [],
   "source": []
  },
  {
   "cell_type": "code",
   "execution_count": null,
   "id": "1f345f41",
   "metadata": {},
   "outputs": [],
   "source": []
  },
  {
   "cell_type": "code",
   "execution_count": null,
   "id": "690b0451",
   "metadata": {},
   "outputs": [],
   "source": [
    "#%debug\n",
    "rname_crop = slice(0,3)\n",
    "for rn in output_per_raw:\n",
    "    for lt, it_grp, it_set in to_show:\n",
    "    #for lt in label_types:\n",
    "        info_per_pref = {}\n",
    "        # raw and label type (grouping+int_types) name goes here\n",
    "        # this will be a row name\n",
    "        row_name = '{}_{}'.format(rn[rname_crop], lt)\n",
    "        table_row = [row_name ]\n",
    "        for prefix in prefixes:\n",
    "            info_cur = {}\n",
    "            #sens,spec = res[rn].get(pref, (np.nan, np.nan))\n",
    "            r = output_per_raw[rn].get(prefix, None)\n",
    "            if (r is not None) and (it_grp not in r or it_set not in r[it_grp]):\n",
    "                r = None\n",
    "\n",
    "            if r is None:\n",
    "                print('Warning : no output for ',rn,prefix,it_grp,it_set)\n",
    "                continue\n",
    "            else:\n",
    "                lda_output = r[it_grp][it_set]\n",
    "\n",
    "            use_light_file = 1\n",
    "            if use_light_file:\n",
    "                featsel_per_method = lda_output['featsel_per_method'] \n",
    "                featnames = lda_output['feature_names_filtered']\n",
    "                class_labels_good = lda_output['class_labels_good']\n",
    "            else:                \n",
    "                f = np.load( lda_output['filename_full'], allow_pickle=True )\n",
    "                featnames =  f['feature_names_filtered_pri'][()][0]\n",
    "                print(prefix, f['Xconcat_good_cur'].shape, len(featnames) )\n",
    "                class_labels_good = f['class_labels_good']\n",
    "                \n",
    "            revdict = lda_output['revdict']\n",
    "            from sklearn import preprocessing\n",
    "            lab_enc = preprocessing.LabelEncoder()\n",
    "            # just skipped class_labels_good\n",
    "            lab_enc.fit(class_labels_good)\n",
    "            class_labels_good_for_classif = lab_enc.transform(class_labels_good)\n",
    "            class_label_ids = lab_enc.inverse_transform( np.arange( len(set(class_labels_good_for_classif)) ) )\n",
    "            class_label_names = [revdict[cli] for cli in class_label_ids]\n",
    "            \n",
    "            output_subdir = ''\n",
    "            out_name_plot = f'{rn}_{it_grp},{it_set}_{prefix}_feat_signif'\n",
    "            from matplotlib.backends.backend_pdf import PdfPages\n",
    "            mpl.use('Agg')            \n",
    "            \n",
    "            try:\n",
    "                pdf= PdfPages(pjoin(gv.dir_fig, output_subdir, out_name_plot + '.pdf' ))    \n",
    "                postp.plotFeatSignifSHAP(pdf,featsel_per_method, 'XGB_Shapley', \n",
    "                                         featnames, class_labels_good_for_classif,class_label_names,prefix);\n",
    "                pdf.close()\n",
    "            except (ValueError) as e:\n",
    "                print('__EERRRRROOORRR ', e,out_name_plot)\n",
    "            plt.close('all')\n",
    "            \n",
    "            #break\n",
    "        #break\n",
    "    #break"
   ]
  },
  {
   "cell_type": "code",
   "execution_count": null,
   "id": "6b9853d9",
   "metadata": {},
   "outputs": [],
   "source": [
    "plotFeatImpStats(feat_types_all, feat_imp_stats)"
   ]
  }
 ],
 "metadata": {
  "kernelspec": {
   "display_name": "Python 3",
   "language": "python",
   "name": "python3"
  },
  "language_info": {
   "codemirror_mode": {
    "name": "ipython",
    "version": 3
   },
   "file_extension": ".py",
   "mimetype": "text/x-python",
   "name": "python",
   "nbconvert_exporter": "python",
   "pygments_lexer": "ipython3",
   "version": "3.8.10"
  }
 },
 "nbformat": 4,
 "nbformat_minor": 5
}
