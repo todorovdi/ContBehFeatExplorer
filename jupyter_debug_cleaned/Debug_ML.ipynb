{
 "cells": [
  {
   "cell_type": "code",
   "execution_count": null,
   "id": "a3c8cf83",
   "metadata": {},
   "outputs": [],
   "source": [
    "%load_ext autoreload\n",
    "%autoreload 2\n",
    "%precision %.4f\n",
    "############################\n",
    "from jupyter_helpers.notifications import Notifications\n",
    "p = '/usr/share/sounds/gnome/default/alerts/'\n",
    "p1 = p + 'glass.ogg'; p2 = p + 'sonar.ogg';\n",
    "Notifications(success_audio=p1, time_threshold=2,\n",
    "    failure_audio=p2)  #    ,integration='GNOME')"
   ]
  },
  {
   "cell_type": "markdown",
   "id": "4a9585f9",
   "metadata": {},
   "source": [
    "# Fast 1 dataset"
   ]
  },
  {
   "cell_type": "code",
   "execution_count": null,
   "id": "12d815af",
   "metadata": {},
   "outputs": [],
   "source": [
    "# import warnings\n",
    "# #with \n",
    "# warnings.catch_warnings()\n",
    "# warnings.simplefilter('error')\n",
    "# --groupings_to_use merge_movements --int_types_to_use basic\\\n",
    "#%debug\n",
    "%run -i ../run/run_ML.py --sources_type parcel_aal --bands_type crude --src_grouping_fn 10\\\n",
    " --src_grouping 0 \\\n",
    " --prefix test \\\n",
    "--skip_XGB 0\\\n",
    "--mods LFP\\\n",
    "--LFP_related_only 1\\\n",
    "--feat_types Hjorth\\\n",
    "--parcel_group_names Cerebellum\\\n",
    "--allow_CUDA 0\\\n",
    "--subskip_fit 2 \\\n",
    "--n_splits 2 \\\n",
    "--calc_MI 0 \\\n",
    "--save_output 1\\\n",
    "--groupings_to_use merge_all_not_trem --int_types_to_use basic\\\n",
    "--input_subdir test --output_subdir test\\\n",
    "--new_main_body_side both \\\n",
    "--raw S99_off_hold --load_only 0 --show_plots 0\\\n",
    "--param_file ML_defparams.ini \\\n",
    "--featsel_method XGB_Shapley\\\n",
    "--prep_for_clf_only 0 \\\n",
    "--XGB_tune_param 0 \\\n",
    "--calc_Boruta 0 \n",
    "#--featsel_method SHAP_XGB,interpret_EBM,XGB_Shapley\n",
    "#--featsel_method interpret_EBM"
   ]
  },
  {
   "cell_type": "code",
   "execution_count": null,
   "id": "0a7055ee",
   "metadata": {},
   "outputs": [],
   "source": [
    "baseline_int_pri"
   ]
  },
  {
   "cell_type": "code",
   "execution_count": null,
   "id": "6fc5572a",
   "metadata": {},
   "outputs": [],
   "source": [
    "#dict( f['cmd'][()][0] )\n",
    "f['pars'][()]['body_side_for_baseline_int']"
   ]
  },
  {
   "cell_type": "code",
   "execution_count": null,
   "id": "a92da55d",
   "metadata": {},
   "outputs": [],
   "source": [
    "uu = [1, 1, 1, 2, 2, 2, 2, 2, 2, 2, 2, 2, 1, 1, 1, 1, 1, 1, 1, 1, 1, 1,\\\n",
    "       1, 1, 1, 1, 1, 0, 0, 0, 0, 0, 0, 1, 1, 1, 1, 1, 1, 1, 1, 1, 0, 0,\\\n",
    "       0, 0, 0, 0, 0, 0, 0, 0]"
   ]
  },
  {
   "cell_type": "code",
   "execution_count": null,
   "id": "67f38e1b",
   "metadata": {},
   "outputs": [],
   "source": [
    "import utils_tSNE as utsne\n",
    "from utils_tSNE import classSubsetInds\n",
    "csi = classSubsetInds(uu,0)\n",
    "csi[(0,1)]"
   ]
  },
  {
   "cell_type": "code",
   "execution_count": null,
   "id": "aaf0d7cb",
   "metadata": {},
   "outputs": [],
   "source": [
    "np.array(uu)[  csi[(0,1)] ]"
   ]
  },
  {
   "cell_type": "code",
   "execution_count": null,
   "id": "d24ba6ed",
   "metadata": {},
   "outputs": [],
   "source": [
    "class_labels_good_for_classif, len(class_labels_good_for_classif)"
   ]
  },
  {
   "cell_type": "code",
   "execution_count": null,
   "id": "4e8bc747",
   "metadata": {},
   "outputs": [],
   "source": [
    "class_labels_good_for_classif_nm, len(class_labels_good_for_classif_nm)"
   ]
  },
  {
   "cell_type": "code",
   "execution_count": null,
   "id": "9e9b40c9",
   "metadata": {},
   "outputs": [],
   "source": [
    "grouping"
   ]
  },
  {
   "cell_type": "code",
   "execution_count": null,
   "id": "8f946d28",
   "metadata": {},
   "outputs": [],
   "source": [
    "class_labels_good, class_labels_good_nm, len(class_labels_good), len(class_labels_good_nm)"
   ]
  },
  {
   "cell_type": "code",
   "execution_count": null,
   "id": "ecbb438b",
   "metadata": {},
   "outputs": [],
   "source": [
    "subskip_fit"
   ]
  },
  {
   "cell_type": "code",
   "execution_count": null,
   "id": "c514847c",
   "metadata": {},
   "outputs": [],
   "source": [
    "len(class_labels_good_for_classif), len(class_labels_good_for_classif_nm)"
   ]
  },
  {
   "cell_type": "code",
   "execution_count": null,
   "id": "abf8e42d",
   "metadata": {},
   "outputs": [],
   "source": [
    "class_labels, class_labels_nm"
   ]
  },
  {
   "cell_type": "code",
   "execution_count": null,
   "id": "39bd27e8",
   "metadata": {},
   "outputs": [],
   "source": [
    "# class merging works wrong. Or maybe classSubsetInds works wrong"
   ]
  },
  {
   "cell_type": "code",
   "execution_count": null,
   "id": "57b689c4",
   "metadata": {},
   "outputs": [],
   "source": [
    "side_switch_happened_pri"
   ]
  },
  {
   "cell_type": "code",
   "execution_count": null,
   "id": "f75e4045",
   "metadata": {},
   "outputs": [],
   "source": [
    "set(class_labels_good_for_classif_nm)"
   ]
  },
  {
   "cell_type": "code",
   "execution_count": null,
   "id": "34045d5b",
   "metadata": {},
   "outputs": [],
   "source": [
    "numpoints_per_class_id"
   ]
  },
  {
   "cell_type": "code",
   "execution_count": null,
   "id": "a50c1b21",
   "metadata": {},
   "outputs": [],
   "source": [
    "r0['test_indices_list']  # last is empty. Why?"
   ]
  },
  {
   "cell_type": "code",
   "execution_count": null,
   "id": "ecbdd537",
   "metadata": {},
   "outputs": [],
   "source": [
    "chnames_LFP"
   ]
  },
  {
   "cell_type": "code",
   "execution_count": null,
   "id": "4959a445",
   "metadata": {},
   "outputs": [],
   "source": [
    "feature_names_list_info"
   ]
  },
  {
   "cell_type": "markdown",
   "id": "ea06b632",
   "metadata": {
    "heading_collapsed": true
   },
   "source": [
    "# Fast 2 datasets"
   ]
  },
  {
   "cell_type": "code",
   "execution_count": null,
   "id": "34e752ac",
   "metadata": {
    "hidden": true
   },
   "outputs": [],
   "source": [
    "%load_ext autoreload\n",
    "%autoreload 2\n",
    "%precision %.4f\n",
    "#%debug\n",
    "# import warnings\n",
    "# #with \n",
    "# warnings.catch_warnings()\n",
    "# warnings.simplefilter('error')\n",
    "# --groupings_to_use merge_movements --int_types_to_use basic\\\n",
    "\n",
    "%run -i ../run/run_ML.py --sources_type parcel_aal --bands_type crude --src_grouping_fn 10\\\n",
    " --src_grouping 0 \\\n",
    " --prefix test \\\n",
    "--skip_XGB 0\\\n",
    "--mods LFP\\\n",
    "--LFP_related_only 1\\\n",
    "--feat_types rbcorr,con\\\n",
    "--parcel_group_names motor-related\\\n",
    "--allow_CUDA 0\\\n",
    "--subskip_fit 2 \\\n",
    "--n_splits 2 \\\n",
    "--calc_MI 0 \\\n",
    "--save_output 1\\\n",
    "--groupings_to_use merge_all_not_trem --int_types_to_use basic\\\n",
    "--input_subdir test --output_subdir test\\\n",
    "--raw S97_off_move,S99_off_hold --load_only 0 --show_plots 1\\\n",
    "--param_file ML_defparams.ini \\\n",
    "--featsel_method XGB_Shapley\\\n",
    "--prep_for_clf_only 0\n",
    "#--featsel_method SHAP_XGB,interpret_EBM,XGB_Shapley\n",
    "#--featsel_method interpret_EBM"
   ]
  },
  {
   "cell_type": "code",
   "execution_count": null,
   "id": "711fa1c3",
   "metadata": {
    "hidden": true
   },
   "outputs": [],
   "source": [
    "results_cur_cleaned.keys()"
   ]
  },
  {
   "cell_type": "code",
   "execution_count": null,
   "id": "861dfc4b",
   "metadata": {
    "hidden": true
   },
   "outputs": [],
   "source": [
    "pp.printSizeInfo( results_cur_cleaned )"
   ]
  },
  {
   "cell_type": "code",
   "execution_count": null,
   "id": "ff2ab68e",
   "metadata": {
    "hidden": true
   },
   "outputs": [],
   "source": [
    "d = {'fd':{'o':4,'oo':5}, 'AA':{'p':1,'pp':2}}\n",
    "subd = d['fd']\n",
    "del subd['o']\n",
    "print(d)"
   ]
  },
  {
   "cell_type": "code",
   "execution_count": null,
   "id": "10d1742e",
   "metadata": {
    "hidden": true
   },
   "outputs": [],
   "source": [
    "perfs_XGB[-1]"
   ]
  },
  {
   "cell_type": "code",
   "execution_count": null,
   "id": "6c872f80",
   "metadata": {
    "hidden": true
   },
   "outputs": [],
   "source": [
    "list(results_cur['XGB_analysis_versions'].keys() )"
   ]
  },
  {
   "cell_type": "code",
   "execution_count": null,
   "id": "805250d0",
   "metadata": {
    "hidden": true
   },
   "outputs": [],
   "source": [
    "pp.printDict(results_cur['XGB_analysis_versions'],max_depth=3, print_leaves=1)"
   ]
  },
  {
   "cell_type": "code",
   "execution_count": null,
   "id": "21fce94b",
   "metadata": {
    "hidden": true
   },
   "outputs": [],
   "source": [
    "*((12,4,5)[1:]),5"
   ]
  },
  {
   "cell_type": "code",
   "execution_count": null,
   "id": "1d42c534",
   "metadata": {
    "hidden": true
   },
   "outputs": [],
   "source": [
    "scores_per_class = utsne.getScoresPerClass(class_labels_good_for_classif, scores)"
   ]
  },
  {
   "cell_type": "code",
   "execution_count": null,
   "id": "229be652",
   "metadata": {
    "hidden": true
   },
   "outputs": [],
   "source": [
    "scores_per_class.shape"
   ]
  },
  {
   "cell_type": "code",
   "execution_count": null,
   "id": "0f9722ab",
   "metadata": {
    "hidden": true
   },
   "outputs": [],
   "source": [
    "Xconcat.shape"
   ]
  },
  {
   "cell_type": "code",
   "execution_count": null,
   "id": "a7600586",
   "metadata": {
    "hidden": true
   },
   "outputs": [],
   "source": [
    "scores[:,None,:].shape"
   ]
  },
  {
   "cell_type": "code",
   "execution_count": null,
   "id": "17267695",
   "metadata": {
    "hidden": true
   },
   "outputs": [],
   "source": [
    "scores.shape"
   ]
  },
  {
   "cell_type": "code",
   "execution_count": null,
   "id": "144eaf8e",
   "metadata": {
    "hidden": true
   },
   "outputs": [],
   "source": [
    "import pandas as pd"
   ]
  },
  {
   "cell_type": "code",
   "execution_count": null,
   "id": "afa8141c",
   "metadata": {
    "hidden": true
   },
   "outputs": [],
   "source": [
    "help(pd.DataFrame)"
   ]
  },
  {
   "cell_type": "code",
   "execution_count": null,
   "id": "8d4be32e",
   "metadata": {
    "hidden": true
   },
   "outputs": [],
   "source": [
    "df = pd.DataFrame(Xconcat_to_fit,columns=featnames_nice)\n",
    "#reviews[reviews['price'] < 100].sample(100).plot.scatter(x='price', y='points')"
   ]
  },
  {
   "cell_type": "code",
   "execution_count": null,
   "id": "9a26dd09",
   "metadata": {
    "hidden": true
   },
   "outputs": [],
   "source": [
    "%matplotlib inline"
   ]
  },
  {
   "cell_type": "markdown",
   "id": "74165204",
   "metadata": {
    "hidden": true
   },
   "source": [
    "## feat scatters"
   ]
  },
  {
   "cell_type": "code",
   "execution_count": null,
   "id": "eb5c4ae4",
   "metadata": {
    "hidden": true
   },
   "outputs": [],
   "source": [
    "df.plot.scatter(x=1,y=2)"
   ]
  },
  {
   "cell_type": "code",
   "execution_count": null,
   "id": "65427988",
   "metadata": {
    "hidden": true
   },
   "outputs": [],
   "source": [
    "import seaborn as sns\n",
    "sns.pairplot(df)"
   ]
  },
  {
   "cell_type": "code",
   "execution_count": null,
   "id": "55e69e88",
   "metadata": {
    "hidden": true
   },
   "outputs": [],
   "source": [
    "results_cur_cleaned = pp.removeLargeItems(results_cur)"
   ]
  },
  {
   "cell_type": "code",
   "execution_count": null,
   "id": "dc393e75",
   "metadata": {
    "hidden": true
   },
   "outputs": [],
   "source": [
    "warnings."
   ]
  },
  {
   "cell_type": "code",
   "execution_count": null,
   "id": "80e4d900",
   "metadata": {
    "hidden": true
   },
   "outputs": [],
   "source": [
    "savedict = {'results_cur':results_cur,\n",
    "        'label_encoder':lab_enc,\n",
    "         'Xconcat_good_cur':Xconcat_good_cur, 'class_labels_good':class_labels_good,\n",
    "        'selected_feat_inds_pri':dict(enumerate(selected_feat_inds_pri)),\n",
    "        'feature_names_filtered_pri':dict(enumerate(feature_names_pri)),\n",
    "         'featnames_nice':featnames_nice,\n",
    "          'bininds_good':bininds_concat_good,\n",
    "         'feat_info_pri':dict(enumerate(feat_info_pri)),\n",
    "        'rawtimes_pri':dict(enumerate(rawtimes_pri)),\n",
    "         'Xtimes_pri':dict(enumerate(Xtimes_pri)),\n",
    "        'wbd_pri':dict(enumerate(wbd_pri)),\n",
    "        'pcapts':pcapts, 'pcaobj':pca,\n",
    "        'X_imputed':Xconcat_imputed,\n",
    "         'cmd':dict(enumerate((opts,args) ), 'pars':pars}\n",
    "# using bininds_good and X_imputed one gets Xsubset_to_fit\n",
    "np.savez(fname_ML_full_intermed, **savedict  )\n"
   ]
  },
  {
   "cell_type": "code",
   "execution_count": null,
   "id": "c8146e12",
   "metadata": {
    "hidden": true
   },
   "outputs": [],
   "source": [
    "                    r0 = utsne.getPredPowersCV(clf_XGB_,X_cur,y_cur,\n",
    "                        class_ind_to_check_lenc, printLog=0,\n",
    "                        n_splits=n_splits, add_fitopts=add_fitopts,\n",
    "                        add_clf_creopts=add_clf_creopts,\n",
    "                        ret_clf_obj=False, seed=0)\n",
    "\n",
    "                    results_cur['XGB_analysis_versions'][XGB_version_name] = r0\n"
   ]
  },
  {
   "cell_type": "code",
   "execution_count": null,
   "id": "5b184457",
   "metadata": {
    "hidden": true
   },
   "outputs": [],
   "source": [
    "pca_derived_featinds[0].tolist()"
   ]
  },
  {
   "cell_type": "code",
   "execution_count": null,
   "id": "308d528b",
   "metadata": {
    "hidden": true
   },
   "outputs": [],
   "source": [
    "help(np.quantile)"
   ]
  },
  {
   "cell_type": "code",
   "execution_count": null,
   "id": "c36630f0",
   "metadata": {
    "hidden": true
   },
   "outputs": [],
   "source": [
    "pcapts.shape"
   ]
  },
  {
   "cell_type": "code",
   "execution_count": null,
   "id": "ee13a46a",
   "metadata": {
    "hidden": true
   },
   "outputs": [],
   "source": [
    "pca.components_.shape"
   ]
  },
  {
   "cell_type": "code",
   "execution_count": null,
   "id": "931a79a2",
   "metadata": {
    "hidden": true
   },
   "outputs": [],
   "source": [
    "np.max(pca.components_,axis=0).shape"
   ]
  },
  {
   "cell_type": "code",
   "execution_count": null,
   "id": "e176df8c",
   "metadata": {
    "hidden": true
   },
   "outputs": [],
   "source": [
    "#%debug\n",
    "results_cur_cleaned = pp.removeLargeItems(results_cur)"
   ]
  },
  {
   "cell_type": "code",
   "execution_count": null,
   "id": "adc83930",
   "metadata": {
    "hidden": true
   },
   "outputs": [],
   "source": [
    "results_cur_cleaned['lda_analysis_versions']['all_present_features']['fit_to_all_data']"
   ]
  },
  {
   "cell_type": "code",
   "execution_count": null,
   "id": "c88efcc0",
   "metadata": {
    "hidden": true
   },
   "outputs": [],
   "source": [
    "len( class_labels_good )"
   ]
  },
  {
   "cell_type": "code",
   "execution_count": null,
   "id": "1ea91cb6",
   "metadata": {
    "hidden": true
   },
   "outputs": [],
   "source": [
    "round( (len( class_labels_good ) - 1 )/ scores.shape[0] )"
   ]
  },
  {
   "cell_type": "code",
   "execution_count": null,
   "id": "875d3f78",
   "metadata": {
    "hidden": true
   },
   "outputs": [],
   "source": [
    "results_cur['perfs_XGB'][0]"
   ]
  },
  {
   "cell_type": "code",
   "execution_count": null,
   "id": "23c8e3b5",
   "metadata": {
    "hidden": true
   },
   "outputs": [],
   "source": [
    "subskip_fit"
   ]
  },
  {
   "cell_type": "code",
   "execution_count": null,
   "id": "eedc760b",
   "metadata": {
    "hidden": true
   },
   "outputs": [],
   "source": [
    "results_cur['featsel_per_method']['XGB_Shapley']"
   ]
  },
  {
   "cell_type": "code",
   "execution_count": null,
   "id": "1c42956f",
   "metadata": {
    "hidden": true
   },
   "outputs": [],
   "source": [
    "featsel_per_method"
   ]
  },
  {
   "cell_type": "code",
   "execution_count": null,
   "id": "c610af6e",
   "metadata": {
    "hidden": true
   },
   "outputs": [],
   "source": [
    "list( results_cur.keys() )"
   ]
  },
  {
   "cell_type": "code",
   "execution_count": null,
   "id": "c8aa4b01",
   "metadata": {
    "hidden": true
   },
   "outputs": [],
   "source": [
    "lda_output_pg_cur = copy.deepcopy(lda_output_pg)\n",
    "\n",
    "\n",
    "mask = np.zeros( len(Xconcat), dtype=bool )\n",
    "mask[bininds_concat_good] = 1\n",
    "bininds_good_cur = np.where( mask[sl] )[0]\n",
    "\n",
    "\n",
    "savedict =  {'pcapts' : pcapts[sl], 'pcaobj':pca,\n",
    "                    'X':X_pri[rawind], 'wbd':wbd_pri[rawind], 'bininds_good' : bininds_good_cur,\n",
    "                    'feature_names_filtered' : feature_names_pri[rawind] ,\n",
    "                    'selected_feat_inds' : selected_feat_inds_pri[rawind],\n",
    "                    'info' : PCA_info, 'feat_info' : feat_info_pri[rawind],\n",
    "                    'lda_output_pg' : lda_output_pg_cur, 'Xtimes':Xtimes_pri[rawind],\n",
    "             'argv':sys.argv,\n",
    "                    'X_imputed':Xconcat_imputed[sl] ,  'rawtimes':rawtimes_pri[rawind] \n",
    "              }\n"
   ]
  },
  {
   "cell_type": "code",
   "execution_count": null,
   "id": "028821a6",
   "metadata": {
    "hidden": true
   },
   "outputs": [],
   "source": [
    "import utils_postprocess as pp\n",
    "tsz = pp.total_size(savedict,verbose=1)"
   ]
  },
  {
   "cell_type": "code",
   "execution_count": null,
   "id": "8008c641",
   "metadata": {
    "hidden": true
   },
   "outputs": [],
   "source": [
    "for kk,item in savedict.items():\n",
    "    print(pp.total_size(item), kk  )"
   ]
  },
  {
   "cell_type": "code",
   "execution_count": null,
   "id": "6dc69975",
   "metadata": {
    "hidden": true
   },
   "outputs": [],
   "source": []
  },
  {
   "cell_type": "code",
   "execution_count": null,
   "id": "26b21f62",
   "metadata": {
    "hidden": true
   },
   "outputs": [],
   "source": [
    "tsz"
   ]
  },
  {
   "cell_type": "code",
   "execution_count": null,
   "id": "4566981e",
   "metadata": {
    "hidden": true
   },
   "outputs": [],
   "source": [
    "pp.total_size(lda_output_pg_cur)"
   ]
  },
  {
   "cell_type": "code",
   "execution_count": null,
   "id": "cc283250",
   "metadata": {
    "hidden": true
   },
   "outputs": [],
   "source": [
    "lda_output_pg.keys()"
   ]
  },
  {
   "cell_type": "code",
   "execution_count": null,
   "id": "64577ade",
   "metadata": {
    "hidden": true
   },
   "outputs": [],
   "source": [
    "#for kk,item in lda_output_pg['merge_movements']['basic']['lda_analysis_versions'].items():\n",
    "for kk,item in lda_output_pg['lda_analysis_versions'].items():\n",
    "    print(pp.total_size(item), kk  )\n",
    "    for kk2,item2 in item.items():\n",
    "        print('   ',pp.total_size(item2), kk2  )\n",
    "        for kk3,item3 in item2.items():\n",
    "            print('     ',pp.total_size(item3), kk3  )\n",
    "    "
   ]
  },
  {
   "cell_type": "code",
   "execution_count": null,
   "id": "759fd5aa",
   "metadata": {
    "hidden": true
   },
   "outputs": [],
   "source": [
    "for kk,item in lda_output_pg_cur['merge_movements']['basic'].items():\n",
    "    print(pp.total_size(item), kk  )"
   ]
  },
  {
   "cell_type": "code",
   "execution_count": null,
   "id": "456b6643",
   "metadata": {
    "hidden": true
   },
   "outputs": [],
   "source": [
    "import re;\n",
    "r = re.match('__!T(.+)T','__!TotrtBAD__T')\n",
    "r.groups()"
   ]
  },
  {
   "cell_type": "code",
   "execution_count": null,
   "id": "88b70538",
   "metadata": {
    "hidden": true
   },
   "outputs": [],
   "source": [
    "lda_output_pg_cur['merge_movements']['basic']['perfs_XGB'][0]"
   ]
  },
  {
   "cell_type": "code",
   "execution_count": null,
   "id": "aed30eb3",
   "metadata": {
    "hidden": true
   },
   "outputs": [],
   "source": [
    "for kk,item in lda_output_pg_cur['merge_movements']['basic']['perfs_XGB'][3].items():\n",
    "    print(pp.total_size(item), kk  )"
   ]
  },
  {
   "cell_type": "code",
   "execution_count": null,
   "id": "6bfdaa77",
   "metadata": {
    "hidden": true
   },
   "outputs": [],
   "source": [
    "lda_output_pg_cur['merge_movements']['basic']['perfs_XGB'][0]['fold_type_shuffled']"
   ]
  },
  {
   "cell_type": "code",
   "execution_count": null,
   "id": "ed50fdd0",
   "metadata": {
    "hidden": true
   },
   "outputs": [],
   "source": [
    "for kk,item in lda_output_pg_cur['merge_movements']['basic']['perfs_XGB'][0]['fold_type_shuffled'].items():"
   ]
  },
  {
   "cell_type": "code",
   "execution_count": null,
   "id": "f32daf4c",
   "metadata": {
    "hidden": true
   },
   "outputs": [],
   "source": [
    "results_cur"
   ]
  },
  {
   "cell_type": "code",
   "execution_count": null,
   "id": "d0d5d5d7",
   "metadata": {
    "hidden": true
   },
   "outputs": [],
   "source": [
    "import resource"
   ]
  },
  {
   "cell_type": "code",
   "execution_count": null,
   "id": "dc2f19b4",
   "metadata": {
    "hidden": true
   },
   "outputs": [],
   "source": []
  },
  {
   "cell_type": "code",
   "execution_count": null,
   "id": "1b77d922",
   "metadata": {
    "hidden": true
   },
   "outputs": [],
   "source": [
    "getrusage(resource.RUSAGE_SELF).ru_maxrss / GB"
   ]
  },
  {
   "cell_type": "code",
   "execution_count": null,
   "id": "42780d15",
   "metadata": {
    "hidden": true
   },
   "outputs": [],
   "source": [
    "help(getrusage)"
   ]
  },
  {
   "cell_type": "markdown",
   "id": "8f9b1b1d",
   "metadata": {
    "heading_collapsed": true
   },
   "source": [
    "# Fast 2"
   ]
  },
  {
   "cell_type": "code",
   "execution_count": null,
   "id": "ab8afcfd",
   "metadata": {
    "hidden": true
   },
   "outputs": [],
   "source": [
    "%load_ext autoreload\n",
    "%autoreload 2\n",
    "%precision %.4f\n",
    "#%debug\n",
    "%run -i ../run/run_ML.py --sources_type parcel_aal --bands_type crude --src_grouping_fn 10\\\n",
    " --src_grouping 0 \\\n",
    " --prefix test \\\n",
    "--skip_XGB 0\\\n",
    "--mods LFP,msrc\\\n",
    "--LFP_related_only 1\\\n",
    "--cross_couplings_only 1\\\n",
    "--feat_types rbcorr,con\\\n",
    "--parcel_group_names motor-related\\\n",
    "--allow_CUDA 0\\\n",
    "--subskip_fit 2 \\\n",
    "--n_splits 2 \\\n",
    "--calc_MI 0 \\\n",
    "--save_output 0\\\n",
    "--groupings_to_use merge_movements \\\n",
    "--int_types_to_use basic\\\n",
    "--input_subdir test --output_subdir test\\\n",
    "--raw S97_off_move,S99_off_hold --load_only 0 --show_plots 1\\\n",
    "--param_file ML_defparams.ini \\\n",
    "--featsel_method XGB_Shapley \\\n",
    "--prep_for_clf_only 0\n",
    "#--featsel_method SHAP_XGB,interpret_EBM,XGB_Shapley\n",
    "#--featsel_method interpret_EBM"
   ]
  },
  {
   "cell_type": "code",
   "execution_count": null,
   "id": "701ad9a7",
   "metadata": {
    "hidden": true
   },
   "outputs": [],
   "source": [
    "help(logreg)"
   ]
  },
  {
   "cell_type": "markdown",
   "id": "01a147d2",
   "metadata": {
    "hidden": true
   },
   "source": [
    "## sklearn"
   ]
  },
  {
   "cell_type": "code",
   "execution_count": null,
   "id": "73478ce1",
   "metadata": {
    "hidden": true
   },
   "outputs": [],
   "source": [
    "# import the class\n",
    "from sklearn.linear_model import LogisticRegression\n",
    "from sklearn.model_selection import train_test_split\n",
    "\n",
    "# instantiate the model (using the default parameters)\n",
    "logreg = LogisticRegression(max_iter = 1000)\n",
    "\n",
    "X_train,X_test,y_train,y_test=train_test_split(Xconcat_good_cur,class_labels_good,\n",
    "                                               test_size=0.25,random_state=0)\n",
    "\n",
    "# fit the model with data\n",
    "logreg.fit(X_train,y_train)\n",
    "\n",
    "#\n",
    "y_pred=logreg.predict(X_test)\n",
    "\n"
   ]
  },
  {
   "cell_type": "code",
   "execution_count": null,
   "id": "99111f38",
   "metadata": {
    "hidden": true
   },
   "outputs": [],
   "source": [
    "%matplotlib inline"
   ]
  },
  {
   "cell_type": "code",
   "execution_count": null,
   "id": "472ff905",
   "metadata": {
    "hidden": true
   },
   "outputs": [],
   "source": [
    "from sklearn import metrics\n",
    "import seaborn as sns\n",
    "import pandas as pd\n",
    "cnf_matrix = metrics.confusion_matrix(y_test, y_pred)\n",
    "\n",
    "class_names= np.unique(y_train)\n",
    "\n",
    "fig, ax = plt.subplots()\n",
    "tick_marks = np.arange(len(class_names))\n",
    "plt.xticks(tick_marks, class_names)\n",
    "plt.yticks(tick_marks, class_names)\n",
    "\n",
    "sns.heatmap(pd.DataFrame(cnf_matrix), annot=True, cmap=\"YlGnBu\" ,fmt='g')\n",
    "ax.xaxis.set_label_position(\"top\")\n",
    "plt.tight_layout()\n",
    "plt.title('Confusion matrix', y=1.1)\n",
    "plt.ylabel('Actual label')\n",
    "plt.xlabel('Predicted label')"
   ]
  },
  {
   "cell_type": "code",
   "execution_count": null,
   "id": "0ecab8dc",
   "metadata": {
    "hidden": true
   },
   "outputs": [],
   "source": [
    "print(\"Accuracy:\",metrics.accuracy_score(y_test, y_pred))\n",
    "print(\"Precision:\",metrics.precision_score(y_test, y_pred, average='macro') )\n",
    "print(\"Recall:\",metrics.recall_score(y_test, y_pred, average='macro'))"
   ]
  },
  {
   "cell_type": "code",
   "execution_count": null,
   "id": "935d4578",
   "metadata": {
    "hidden": true
   },
   "outputs": [],
   "source": [
    "#help(metrics.precision_score)"
   ]
  },
  {
   "cell_type": "code",
   "execution_count": null,
   "id": "548c550e",
   "metadata": {
    "hidden": true
   },
   "outputs": [],
   "source": [
    "from sklearn.feature_selection import RFE\n",
    "predictors = X_train\n",
    "selector = RFE(logreg, n_features_to_select = 1)\n",
    "sf = selector.fit(predictors, y_train)"
   ]
  },
  {
   "cell_type": "code",
   "execution_count": null,
   "id": "5158345a",
   "metadata": {
    "hidden": true
   },
   "outputs": [],
   "source": [
    "order = sf.ranking_"
   ]
  },
  {
   "cell_type": "code",
   "execution_count": null,
   "id": "31d71f30",
   "metadata": {
    "hidden": true
   },
   "outputs": [],
   "source": [
    "order"
   ]
  },
  {
   "cell_type": "code",
   "execution_count": null,
   "id": "771c885c",
   "metadata": {
    "hidden": true
   },
   "outputs": [],
   "source": [
    "high_to_low_MIinds"
   ]
  },
  {
   "cell_type": "code",
   "execution_count": null,
   "id": "769699ea",
   "metadata": {
    "hidden": true
   },
   "outputs": [],
   "source": [
    "import joblib"
   ]
  },
  {
   "cell_type": "code",
   "execution_count": null,
   "id": "f461acfb",
   "metadata": {
    "hidden": true
   },
   "outputs": [],
   "source": [
    "#import featlist\n",
    "from featlist import parseFeatName\n",
    "parseFeatName(featnames[0])"
   ]
  },
  {
   "cell_type": "code",
   "execution_count": null,
   "id": "e25e58f7",
   "metadata": {
    "hidden": true
   },
   "outputs": [],
   "source": [
    "#%debug\n",
    "from featlist import parseFeatName, parseFeatNames\n",
    "r = parseFeatNames(feature_names_all)"
   ]
  },
  {
   "cell_type": "code",
   "execution_count": null,
   "id": "c0bd12e8",
   "metadata": {
    "hidden": true
   },
   "outputs": [],
   "source": [
    "r"
   ]
  },
  {
   "cell_type": "code",
   "execution_count": null,
   "id": "084df3a0",
   "metadata": {
    "hidden": true
   },
   "outputs": [],
   "source": [
    "r['fb1']"
   ]
  },
  {
   "cell_type": "code",
   "execution_count": null,
   "id": "d67917ea",
   "metadata": {
    "hidden": true
   },
   "outputs": [],
   "source": [
    "r = collectFeatTypeInfo(featnames,collect_ftype_inds=1)"
   ]
  },
  {
   "cell_type": "code",
   "execution_count": null,
   "id": "c6f11582",
   "metadata": {
    "hidden": true
   },
   "outputs": [],
   "source": [
    "r['ftype']"
   ]
  },
  {
   "cell_type": "code",
   "execution_count": null,
   "id": "8070ba2f",
   "metadata": {
    "hidden": true
   },
   "outputs": [],
   "source": [
    "featnames [r['ftype_inds']['con']]"
   ]
  },
  {
   "cell_type": "code",
   "execution_count": null,
   "id": "485cc737",
   "metadata": {
    "hidden": true
   },
   "outputs": [],
   "source": [
    "X_for_heavy.shape"
   ]
  },
  {
   "cell_type": "code",
   "execution_count": null,
   "id": "56e7dcac",
   "metadata": {
    "hidden": true
   },
   "outputs": [],
   "source": [
    "feat_subset_heavy.shape"
   ]
  },
  {
   "cell_type": "code",
   "execution_count": null,
   "id": "46a51b89",
   "metadata": {
    "hidden": true
   },
   "outputs": [],
   "source": [
    "perfs_LDA_featsearch[-1]"
   ]
  },
  {
   "cell_type": "code",
   "execution_count": null,
   "id": "ecf87d66",
   "metadata": {
    "hidden": true
   },
   "outputs": [],
   "source": [
    "len(fbands_per_mod[0])"
   ]
  },
  {
   "cell_type": "code",
   "execution_count": null,
   "id": "3edf4e33",
   "metadata": {
    "hidden": true
   },
   "outputs": [],
   "source": [
    "fbands_per_mod"
   ]
  },
  {
   "cell_type": "code",
   "execution_count": null,
   "id": "51c87fa7",
   "metadata": {
    "hidden": true
   },
   "outputs": [],
   "source": [
    "%%timeit -n2 -r2\n",
    "print(1)"
   ]
  },
  {
   "cell_type": "code",
   "execution_count": null,
   "id": "dd43c4f0",
   "metadata": {
    "hidden": true
   },
   "outputs": [],
   "source": [
    "%%timeit -n2 -r2\n",
    "feature_names_list_info = utils.collectFeatTypeInfo(feature_names_all, ext_info = 1 )\n",
    "#feature_names_list_info"
   ]
  },
  {
   "cell_type": "code",
   "execution_count": null,
   "id": "a8b1c768",
   "metadata": {
    "hidden": true
   },
   "outputs": [],
   "source": [
    "feature_names_all[:100]"
   ]
  },
  {
   "cell_type": "code",
   "execution_count": null,
   "id": "cc949aaa",
   "metadata": {
    "hidden": true
   },
   "outputs": [],
   "source": [
    "%%timeit -n2 -r2\n",
    "feature_names_list_info = utils.collectFeatTypeInfo(feature_names_all)\n",
    "#feature_names_list_info"
   ]
  },
  {
   "cell_type": "code",
   "execution_count": null,
   "id": "215fdb46",
   "metadata": {
    "hidden": true
   },
   "outputs": [],
   "source": [
    "from featlist import collectFeatTypeInfo\n",
    "feature_names_list_info = collectFeatTypeInfo(feature_names_all, ext_info = 1, collect_ftype_inds= 1 )"
   ]
  },
  {
   "cell_type": "code",
   "execution_count": null,
   "id": "fda8d4e6",
   "metadata": {
    "hidden": true
   },
   "outputs": [],
   "source": [
    "feature_names_list_info['bichan_feat_info']"
   ]
  },
  {
   "cell_type": "code",
   "execution_count": null,
   "id": "91d8d915",
   "metadata": {
    "hidden": true
   },
   "outputs": [],
   "source": [
    "feature_names_all [ feature_names_list_info['ftype_inds']['rbcorr'] ]"
   ]
  },
  {
   "cell_type": "code",
   "execution_count": null,
   "id": "aac853a2",
   "metadata": {
    "hidden": true
   },
   "outputs": [],
   "source": [
    "feature_names_list_info"
   ]
  },
  {
   "cell_type": "code",
   "execution_count": null,
   "id": "d09b0b07",
   "metadata": {
    "hidden": true
   },
   "outputs": [],
   "source": [
    "from featlist import getBadInds_doubleBandFeats\n",
    "getBadInds_doubleBandFeats(feature_names_all, data_modalities, \n",
    "                           fbands_per_mod, fbands_def, 1)"
   ]
  },
  {
   "cell_type": "code",
   "execution_count": null,
   "id": "27006283",
   "metadata": {
    "hidden": true
   },
   "outputs": [],
   "source": [
    "fbands_per_mod"
   ]
  },
  {
   "cell_type": "code",
   "execution_count": null,
   "id": "fe879681",
   "metadata": {
    "hidden": true
   },
   "outputs": [],
   "source": [
    "data_modalities"
   ]
  }
 ],
 "metadata": {
  "kernelspec": {
   "display_name": "Python 3",
   "language": "python",
   "name": "python3"
  },
  "language_info": {
   "codemirror_mode": {
    "name": "ipython",
    "version": 3
   },
   "file_extension": ".py",
   "mimetype": "text/x-python",
   "name": "python",
   "nbconvert_exporter": "python",
   "pygments_lexer": "ipython3",
   "version": "3.8.10"
  }
 },
 "nbformat": 4,
 "nbformat_minor": 5
}
