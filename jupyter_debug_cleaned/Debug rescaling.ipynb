{
 "cells": [
  {
   "cell_type": "code",
   "execution_count": null,
   "id": "1324f5b8",
   "metadata": {},
   "outputs": [],
   "source": [
    "        old_labels = [['Precentral','Postcentral','RolandicOper','SuppMotor','Paracentral'],['FrontalSup'],['FrontalMid','FrontalMed'],['FrontalInf'],['ParietalSup','Precuneus'],['ParietalInf'],['TemporalSup','TemporalPoleSup'],['TemporalMid','TemporalPoleMid'],['TemporalInf','Fusiform'],['OccipitalSup','Cuneus'],['OccipitalMid'],['OccipitalInf','Calcarine','Lingual'],['Angular'],['SupraMarginal'],['Cerebellum']];\n",
    "        new_labels = [['Senorimotor'], ['FrontalSup'],['FrontalMed'], ['FrontalInf'],['ParietalSup'], ['ParietalInf'],['TemporalSup'], ['TemporalMid'] ,['TemporalInf'], ['OccipitalSup'], ['OccipitalMid'],['OccipitalInf'], ['Angular'],['SupraMarginal'],['Cerebellum']];\n"
   ]
  },
  {
   "cell_type": "code",
   "execution_count": null,
   "id": "0dbe3b1c",
   "metadata": {},
   "outputs": [],
   "source": [
    "keys = []\n",
    "for nl in new_labels:\n",
    "    lab = nl[0]\n",
    "    keys += [lab]\n",
    "print(keys)"
   ]
  },
  {
   "cell_type": "code",
   "execution_count": null,
   "id": "4a7fde39",
   "metadata": {},
   "outputs": [],
   "source": [
    "d = dict(zip(keys,old_labels))\n",
    "d"
   ]
  },
  {
   "cell_type": "code",
   "execution_count": null,
   "id": "d0aa0305",
   "metadata": {},
   "outputs": [],
   "source": [
    "%load_ext autoreload\n",
    "%autoreload 2\n",
    "\n",
    "rawnames_str=\\\n",
    "('S01_off_hold,S01_on_hold,S01_off_move,S01_on_move,'\n",
    "'S02_off_hold,S02_on_hold,S02_off_move,S02_on_move,'\n",
    "'S03_off_hold,S03_off_move,'\n",
    "'S04_off_hold,S04_on_hold,S04_off_move,S04_on_move,'\n",
    "'S05_off_hold,S05_on_hold,S05_off_move,S05_on_move,'\n",
    "'S07_off_hold,S07_on_hold,S07_off_move,S07_on_move')\n",
    "\n",
    "rawnames_str=\\\n",
    "('S01_off_hold,S01_on_hold,S01_off_move,S01_on_move,'\n",
    "'S02_off_hold,S02_on_hold,S02_off_move,S02_on_move,'\n",
    "'S03_off_hold,S03_off_move')\n",
    "\n",
    "rawnames_str=\\\n",
    "('S04_off_hold,S04_on_hold,S04_off_move,S04_on_move,'\n",
    "'S05_off_hold,S05_on_hold,S05_off_move,S05_on_move,'\n",
    "'S07_off_hold,S07_on_hold,S07_off_move,S07_on_move')\n",
    "\n",
    "\n",
    "rawnames_str = 'S05_on_move'\n",
    "print(rawnames_str)\n"
   ]
  },
  {
   "cell_type": "code",
   "execution_count": null,
   "id": "5b1a9acb",
   "metadata": {},
   "outputs": [],
   "source": [
    "from IPython import get_ipython\n",
    "ipython = get_ipython()\n",
    "#Once that's done, run a magic command like this:\n",
    "#%debug\n",
    "\n",
    "mstr = 'run ../run/run_prep_dat.py -r ' +   rawnames_str + \\\n",
    "        ' --param_file prep_dat_defparams.ini --exit_after gatherFeatStats --save_dat 0' \n",
    "ipython.magic(mstr)"
   ]
  },
  {
   "cell_type": "code",
   "execution_count": null,
   "id": "a5a9eb80",
   "metadata": {},
   "outputs": [],
   "source": [
    "#%debug\n",
    "dat_pri, dat_lfp_hires_pri, extdat_pri, anns_pri, times_pri,\\\n",
    "times_hires_pri, subfeature_order_pri, subfeature_order_lfp_hires_pri, aux_info_perraw = \\\n",
    "    ugf.collectDataFromMultiRaws(rawnames, raws_permod_both_sides, sources_type,\n",
    "                             src_file_grouping_ind, src_grouping, use_main_LFP_chan,\n",
    "                             'both', new_main_side, data_modalities,\n",
    "                             crop_start,crop_end,msrc_inds, rec_info_pri)\n"
   ]
  },
  {
   "cell_type": "code",
   "execution_count": null,
   "id": "4d5fea6b",
   "metadata": {},
   "outputs": [],
   "source": []
  },
  {
   "cell_type": "markdown",
   "id": "453beb2d",
   "metadata": {},
   "source": [
    "# Artificial dataset, check gatherFeatStats"
   ]
  },
  {
   "cell_type": "code",
   "execution_count": null,
   "id": "782daefd",
   "metadata": {},
   "outputs": [],
   "source": []
  },
  {
   "cell_type": "code",
   "execution_count": null,
   "id": "f4cb2770",
   "metadata": {},
   "outputs": [],
   "source": [
    "%load_ext autoreload\n",
    "%autoreload 2\n",
    "\n",
    "import globvars as gv\n",
    "import mne\n",
    "import matplotlib.pyplot as plt\n",
    "\n",
    "defdgen = lambda sz :np.random.uniform(low=-1,high=1, size=sz)\n",
    "\n",
    "import utils_tSNE as utsne\n",
    "main_side = 'left'\n",
    "\n",
    "sfreq = 256\n",
    "sfreq_hires = 1024\n",
    "rawnames = ['S01_off_move','S01_off_hold','S01_on_move']\n",
    "\n",
    "######################\n",
    "anndict_per_intcat_per_rawn = {}\n",
    "for rawn in rawnames:\n",
    "    anndict_per_intcat_per_rawn[rawn] = {'artif':{}, 'beh_state':[]}\n",
    "ann1 = mne.Annotations([0.24,0.8],[0.5,0.6],['notrem_L','trem_L'])\n",
    "ann15 = mne.Annotations([0.24,2.5,0.8],[0.5,0.9,0.6],['notrem_L','notrem_L','trem_L'])\n",
    "ann2 = mne.Annotations([1.24,0.0],[0.1,0.3],['notrem_L','trem_L'])\n",
    "\n",
    "i__ = 0\n",
    "anndict_per_intcat_per_rawn[rawnames[i__]]['artif']['MEG'] = mne.Annotations([0.2],[0.23],['BAD_MEGR'])\n",
    "anndict_per_intcat_per_rawn[rawnames[i__]]['artif']['LFP'] = mne.Annotations([1.2],[1.23],['BAD_LFPR'])\n",
    "anndict_per_intcat_per_rawn[rawnames[i__]]['beh_state']= ann1\n",
    "\n",
    "i__ += 1\n",
    "anndict_per_intcat_per_rawn[rawnames[i__]]['artif']['MEG'] = mne.Annotations([0.3],[0.33],['BAD_MEGR'])\n",
    "anndict_per_intcat_per_rawn[rawnames[i__]]['artif']['LFP'] = mne.Annotations([1.3],[1.33],['BAD_LFPR'])\n",
    "anndict_per_intcat_per_rawn[rawnames[i__]]['beh_state']= ann15\n",
    "\n",
    "i__ += 1\n",
    "anndict_per_intcat_per_rawn[rawnames[i__]]['artif']['MEG'] = mne.Annotations([0.4],[0.43],['BAD_MEGR'])\n",
    "anndict_per_intcat_per_rawn[rawnames[i__]]['artif']['LFP'] = mne.Annotations([1.4,3.1],[1.43,0.4],['BAD_LFPR002'])\n",
    "anndict_per_intcat_per_rawn[rawnames[i__]]['beh_state']= ann2\n",
    "\n",
    "\n",
    "########################\n",
    "#sfo_LFP = ['LFPL001','LFPL002','LFPR12']\n",
    "sfo_LFP = ['LFPL001','LFPL002', 'LFPR092']\n",
    "sfo = sfo_LFP +     ['msrcR_0_22_c1', 'msrcL_0_60_c34', 'msrcL_0_19_c1']\n",
    "#sfo += ['msrcL_0_19_c1','msrcL_0_47_c0','msrcR_0_59_c33','msrcR_0_46_c4']\n",
    "\n",
    "sfo_pri = [sfo]*len(rawnames)\n",
    "sfo_lfp_hires_pri = [sfo_LFP]*len(rawnames)\n",
    "\n",
    "datlen_s = 4\n",
    "nbins = sfreq * datlen_s\n",
    "nbins_hires = sfreq_hires * datlen_s\n",
    "noise_size = 1e-8\n",
    "dat =  defdgen( (len(sfo), nbins )) * noise_size\n",
    "dat_hires = defdgen ( (len(sfo_LFP), nbins_hires ) ) * noise_size\n",
    "\n",
    "dat_pri = [dat] * len(rawnames)\n",
    "dat_LFP_hires_pri = [dat_hires] * len(rawnames)\n",
    "\n",
    "#ss,se=2,3\n",
    "bdshiftL = 0.1\n",
    "bdshiftR = 0.3\n",
    "ss = ann1[0]['onset'] + bdshiftL\n",
    "se = ss + ann1[0]['duration'] + bdshiftR\n",
    "dati = 1\n",
    "LFPchi=2\n",
    "src_chi = len(sfo_LFP) \n",
    "src_chi2= len(sfo_LFP) + 1\n",
    "#src_chi,src_chi2 = 0,1\n",
    "\n",
    "times = np.arange( dat.shape[1] )/sfreq\n",
    "times_hires = np.arange( dat_hires.shape[1] )/sfreq_hires\n",
    "#int(ss*sfreq):int(se*sfreq)\n",
    "step = noise_size + np.heaviside(times - ss,0) * (1- np.heaviside(times - se,0) )\n",
    "step_hires = noise_size + np.heaviside(times_hires - ss,0) * (1- np.heaviside(times_hires - se,0) )\n",
    "freq, freq2 = 0.3, 0.1\n",
    "d = np.sin(times * 2 *np.pi * freq)\n",
    "d2 = np.sin(times * 2 *np.pi * freq2)\n",
    "d_hires = np.sin(times_hires * 2 *np.pi * freq)\n",
    "dat_pri[dati][LFPchi,  :] += d + step\n",
    "dat_pri[dati][src_chi, :] += (d  + step) * 0.5\n",
    "dat_pri[dati][src_chi2, :] += (d2  + step) * 1e-5\n",
    "dat_LFP_hires_pri[dati][LFPchi,:] += d_hires + step_hires\n",
    "\n",
    "\n",
    "\n",
    "dat_EMG = defdgen( (2, nbins ) )\n",
    "\n",
    "# reversed if needed\n",
    "from utils import makeSimpleRaw\n",
    "from featlist import selFeatsRegexInds\n",
    "raws_permod_both_sides2 = {}\n",
    "for rawi,rawn in enumerate(rawnames):\n",
    "    raws_permod_both_sides2[rawn] = {}\n",
    "    chis_LFP = utsne.selFeatsRegexInds(sfo_pri[rawi], 'LFP.*' )\n",
    "    dat_LFP = dat_pri[rawi][chis_LFP]\n",
    "    raws_permod_both_sides2[rawn]['LFP'] = makeSimpleRaw(dat_LFP, np.array(sfo_pri[rawi])[chis_LFP], rescale=0 )\n",
    "\n",
    "    chis_msrc = utsne.selFeatsRegexInds(sfo_pri[rawi], 'msrc.*' )\n",
    "    dat_msrc = dat_pri[rawi][chis_msrc]\n",
    "    raws_permod_both_sides2[rawn]['src'] = makeSimpleRaw(dat_msrc, \n",
    "        np.array(sfo_pri[rawi])[chis_msrc] , rescale=0)\n",
    "\n",
    "    raws_permod_both_sides2[rawn]['LFP_hires'] = makeSimpleRaw(dat_LFP_hires_pri[rawi],\n",
    "        sfo_lfp_hires_pri[rawi], sfreq=sfreq_hires, rescale=0 )\n",
    "    \n",
    "    raws_permod_both_sides2[rawn]['EMG'] = makeSimpleRaw(dat_EMG, \n",
    "        gv.EMG_per_hand[main_side], sfreq=sfreq, rescale=0)\n",
    "\n",
    "    \n",
    "plt.plot(dat_pri[dati].T)"
   ]
  },
  {
   "cell_type": "code",
   "execution_count": null,
   "id": "1c7962b0",
   "metadata": {},
   "outputs": [],
   "source": [
    "####################################\n",
    "\n",
    "gv.DEBUG_MODE=1\n",
    "from IPython import get_ipython\n",
    "ipython = get_ipython()\n",
    "#Once that's done, run a magic command like this:\n",
    "#%debug\n",
    "raws_permod_both_sides = raws_permod_both_sides2\n",
    "# rawnames_str = ','.join(rawnames)\n",
    "# mstr = 'run ../run/run_prep_dat.py -r ' +   rawnames_str + \\\n",
    "#         ' --param_file prep_dat_defparams.ini --exit_after gatherFeatStats --save_dat 0' +\\\n",
    "#         ' --use_preloaded_raws 1'\n",
    "# ipython.magic(mstr)\n",
    "\n",
    "%run -i ../run/run_prep_dat.py -r S01_off_move,S01_off_hold,S01_on_move \\\n",
    "         --param_file prep_dat_defparams.ini --exit_after gatherFeatStats --save_dat 0 \\\n",
    "         --use_preloaded_raws 1"
   ]
  },
  {
   "cell_type": "code",
   "execution_count": null,
   "id": "365d2758",
   "metadata": {},
   "outputs": [],
   "source": [
    "from plots import shadeAnn\n",
    "from plots import plotMeansPerIt\n",
    "\n",
    "ct = 'no'\n",
    "#ct = 'subj'\n",
    "#ct = 'medcond'\n",
    "#ct = 'task'\n",
    "\n",
    "nr = dat_pri[0].shape[0]\n",
    "nc = len(rawnames)\n",
    "ww = 6; hh = 3\n",
    "fig,axs = plt.subplots(nr,nc,figsize=(nc*ww,nr*hh))\n",
    "axs = axs.reshape((nr,nc))\n",
    "for rawi,rawn in enumerate(rawnames):\n",
    "    for i in range(nr):\n",
    "        ax = axs[i,rawi]\n",
    "        ax.plot(times_pri[rawi],dat_pri[rawi][i] ,c='purple',alpha=0.5)\n",
    "        ann = anndict_per_intcat_per_rawn[rawn]['beh_state']\n",
    "        \n",
    "        chn = subfeature_order_pri[rawi][i]\n",
    "        if chn.startswith('msrc'):\n",
    "            ann_artif = anndict_per_intcat_per_rawn[rawn]['artif']['MEG']\n",
    "        else:\n",
    "            ann_artif = anndict_per_intcat_per_rawn[rawn]['artif']['LFP']\n",
    "            #print(ann_artif)\n",
    "            \n",
    "        indsets = stats_per_ct[ct]['indsets']\n",
    "        iseti = np.where( [ (rawi in iset) for iset in indsets ] )[0][0]\n",
    "        means_per_it = stats_per_ct[ct]['means'][iseti]  #['notrem_L']\n",
    "            \n",
    "        #print(rawn,i)\n",
    "        mx = np.max(dat_pri[rawi][i])\n",
    "        mn = np.min(dat_pri[rawi][i])\n",
    "        ax.set_title(f'{rawn} : {chn}')\n",
    "        attrs = shadeAnn(ax,ann,0,mx,color='red',alpha=0.4, sfreq=sfreq, skip=1, plot_bins = 0,\n",
    "                 shift_by_anntype = 1, seed=1)\n",
    "        shadeAnn(ax,ann_artif,mn,0,color='red',alpha=0.5, sfreq=sfreq, skip=1, plot_bins = 0,\n",
    "                 shift_by_anntype = 1, seed=4)\n",
    "        plotMeansPerIt(ax,ann,means_per_it,i, c='red', alpha=1.)#,attrs_per_descr = attrs)\n",
    "        ax.legend(loc='upper right')\n",
    "plt.suptitle(ct)\n",
    "\n"
   ]
  },
  {
   "cell_type": "code",
   "execution_count": null,
   "id": "daab52af",
   "metadata": {},
   "outputs": [],
   "source": [
    "mne.Annotations([1.2],[1.23],['BAD_MEGR'])"
   ]
  },
  {
   "cell_type": "code",
   "execution_count": null,
   "id": "6a256e3f",
   "metadata": {},
   "outputs": [],
   "source": [
    "main_side"
   ]
  },
  {
   "cell_type": "markdown",
   "id": "169432ca",
   "metadata": {},
   "source": [
    "# check Stats in bands"
   ]
  },
  {
   "cell_type": "code",
   "execution_count": null,
   "id": "40448a9e",
   "metadata": {},
   "outputs": [],
   "source": [
    "%load_ext autoreload\n",
    "%autoreload 2\n",
    "\n",
    "from utils_postprocess import printDict\n",
    "\n",
    "import globvars as gv\n",
    "import mne\n",
    "import matplotlib.pyplot as plt\n",
    "\n",
    "defdgen = lambda sz :np.random.uniform(low=-1,high=1, size=sz)\n",
    "\n",
    "import utils_tSNE as utsne\n",
    "main_side = 'left'\n",
    "\n",
    "sfreq = 256\n",
    "sfreq_hires = 1024\n",
    "rawnames = ['S01_off_move','S01_off_hold','S01_on_move']\n",
    "\n",
    "######################\n",
    "anndict_per_intcat_per_rawn = {}\n",
    "for rawn in rawnames:\n",
    "    anndict_per_intcat_per_rawn[rawn] = {'artif':{}, 'beh_state':[]}\n",
    "ann1 = mne.Annotations([0.24,0.8],[0.5,0.6],['notrem_L','trem_L'])\n",
    "ann15 = mne.Annotations([0.24,2.5,0.8],[0.5,0.9,0.6],['notrem_L','notrem_L','trem_L'])\n",
    "ann2 = mne.Annotations([1.24,0.0,3.0],[0.1,0.3,1.2],['notrem_L','trem_L','trem_L'])\n",
    "\n",
    "i__ = 0\n",
    "anndict_per_intcat_per_rawn[rawnames[i__]]['artif']['MEG'] = mne.Annotations([0.2],[0.23],['BAD_MEGR'])\n",
    "anndict_per_intcat_per_rawn[rawnames[i__]]['artif']['LFP'] = mne.Annotations([1.2],[1.23],['BAD_LFPR'])\n",
    "anndict_per_intcat_per_rawn[rawnames[i__]]['beh_state']= ann1\n",
    "\n",
    "i__ += 1\n",
    "anndict_per_intcat_per_rawn[rawnames[i__]]['artif']['MEG'] = mne.Annotations([0.3,2],[0.33,0.32],['BAD_MEGR','BAD_MEGL'])\n",
    "anndict_per_intcat_per_rawn[rawnames[i__]]['artif']['LFP'] = mne.Annotations([1.3,3.1],[1.33,0.4],\n",
    "                                                                             ['BAD_LFPR','BAD_LFPR02'])\n",
    "# anndict_per_intcat_per_rawn[rawnames[i__]]['artif']['LFP'] = mne.Annotations([1.3],[1.33],\n",
    "#                                                                              ['BAD_LFPR'])\n",
    "\n",
    "anndict_per_intcat_per_rawn[rawnames[i__]]['beh_state']= ann15\n",
    "\n",
    "i__ += 1\n",
    "anndict_per_intcat_per_rawn[rawnames[i__]]['artif']['MEG'] = mne.Annotations([0.4],[0.43],['BAD_MEGR'])\n",
    "anndict_per_intcat_per_rawn[rawnames[i__]]['artif']['LFP'] = mne.Annotations([1.4,3.1],[1.43,0.4],\n",
    "                                                                             ['BAD_LFPR','BAD_LFPR092'])\n",
    "anndict_per_intcat_per_rawn[rawnames[i__]]['beh_state']= ann2\n",
    "\n",
    "\n",
    "########################\n",
    "#sfo_LFP = ['LFPL001','LFPL002','LFPR12']\n",
    "sfo_LFP = ['LFPL001','LFPL002', 'LFPR092']\n",
    "sfo = sfo_LFP +     ['msrcR_0_22_c1', 'msrcL_0_60_c34', 'msrcL_0_19_c1']\n",
    "#sfo += ['msrcL_0_19_c1','msrcL_0_47_c0','msrcR_0_59_c33','msrcR_0_46_c4']\n",
    "\n",
    "sfo_pri = [sfo]*len(rawnames)\n",
    "sfo_lfp_hires_pri = [sfo_LFP]*len(rawnames)\n",
    "\n",
    "datlen_s = 4\n",
    "nbins = sfreq * datlen_s\n",
    "nbins_hires = sfreq_hires * datlen_s\n",
    "noise_size = 1e-8\n",
    "dat =  defdgen( (len(sfo), nbins )) * noise_size\n",
    "dat_hires = defdgen ( (len(sfo_LFP), nbins_hires ) ) * noise_size\n",
    "\n",
    "dat_pri = [dat] * len(rawnames)\n",
    "dat_LFP_hires_pri = [dat_hires] * len(rawnames)\n",
    "\n",
    "times = np.arange( dat.shape[1] )/sfreq\n",
    "times_hires = np.arange( dat_hires.shape[1] )/sfreq_hires\n",
    "\n",
    "def stepf(ts,s,e):\n",
    "    return np.heaviside(ts - s,0) * (1- np.heaviside(ts - e,0) )\n",
    "\n",
    "###########################\n",
    "\n",
    "#ss,se=2,3\n",
    "bdshiftL = 0.1\n",
    "bdshiftR = 0.3\n",
    "ss = ann1[0]['onset'] + bdshiftL\n",
    "se = ss + ann1[0]['duration'] + bdshiftR\n",
    "dati = 1\n",
    "LFPchi=2\n",
    "src_chi = len(sfo_LFP) \n",
    "src_chi2= len(sfo_LFP) + 1\n",
    "#src_chi,src_chi2 = 0,1\n",
    "ssbad,sebad = 2,2.5\n",
    "\n",
    "#int(ss*sfreq):int(se*sfreq)\n",
    "step =       noise_size + stepf(times,ss,se)       + stepf(times,ssbad,sebad)\n",
    "step_hires = noise_size + stepf(times_hires,ss,se) + stepf(times_hires,ssbad,sebad)\n",
    "freq, freq2 = 0.3, 0.1\n",
    "d       = np.sin(times * 2 *np.pi * freq)\n",
    "d2      = np.sin(times * 2 *np.pi * freq2)\n",
    "d_hires = np.sin(times_hires * 2 *np.pi * freq)\n",
    "\n",
    "ss2,se2 = se-0.5, se+0.4\n",
    "step2       = noise_size + stepf(times,ss2,se2)\n",
    "step2_hires = noise_size + stepf(times_hires,ss2,se2)\n",
    "\n",
    "freq_higher = 20\n",
    "d_higher       = np.sin(times       * 2 *np.pi * freq_higher)\n",
    "d_higher_hires = np.sin(times_hires * 2 *np.pi * freq_higher)\n",
    "\n",
    "freq_higher2 = 46\n",
    "d_higher2       = np.sin(times       * 2 *np.pi * freq_higher2)\n",
    "d_higher2_hires = np.sin(times_hires * 2 *np.pi * freq_higher2)\n",
    "\n",
    "ss3,se3 = 2.6,3.8\n",
    "freq_higher3 = 200\n",
    "d_higher3_hires = np.sin(times_hires * 2 *np.pi * freq_higher3)\n",
    "step3_hires = noise_size + stepf(times_hires,ss3,se3)\n",
    "\n",
    "dat_pri[dati][LFPchi,  :]  += d + step * d_higher + step2 * d_higher2\n",
    "dat_pri[dati][src_chi, :]  += (d  + step * d_higher + step2 * d_higher2 ) * 0.5\n",
    "dat_pri[dati][src_chi2, :] += (d2  + step * d_higher + step2 * d_higher2 ) * 1e-5\n",
    "dat_LFP_hires_pri[dati][LFPchi,:] += d_hires + step_hires * d_higher_hires * 1e-1 +\\\n",
    "    step2_hires * d_higher2_hires * 1e-2 + step3_hires * d_higher3_hires * 5e-2\n",
    "\n",
    "plt.plot(times,dat_pri[dati].T)\n",
    "plt.figure()\n",
    "plt.plot(times_hires,dat_LFP_hires_pri[dati].T)\n",
    "\n",
    "dat_EMG = defdgen( (2, nbins ) )\n",
    "\n",
    "# reversed if needed\n",
    "from utils import makeSimpleRaw\n",
    "from featlist import selFeatsRegexInds\n",
    "raws_permod_both_sides2 = {}\n",
    "for rawi,rawn in enumerate(rawnames):\n",
    "    raws_permod_both_sides2[rawn] = {}\n",
    "    chis_LFP = utsne.selFeatsRegexInds(sfo_pri[rawi], 'LFP.*' )\n",
    "    dat_LFP = dat_pri[rawi][chis_LFP]\n",
    "    raws_permod_both_sides2[rawn]['LFP'] = makeSimpleRaw(dat_LFP, np.array(sfo_pri[rawi])[chis_LFP], rescale=0 )\n",
    "\n",
    "    chis_msrc = utsne.selFeatsRegexInds(sfo_pri[rawi], 'msrc.*' )\n",
    "    dat_msrc = dat_pri[rawi][chis_msrc]\n",
    "    raws_permod_both_sides2[rawn]['src'] = makeSimpleRaw(dat_msrc, \n",
    "        np.array(sfo_pri[rawi])[chis_msrc] , rescale=0)\n",
    "\n",
    "    raws_permod_both_sides2[rawn]['LFP_hires'] = makeSimpleRaw(dat_LFP_hires_pri[rawi],\n",
    "        sfo_lfp_hires_pri[rawi], sfreq=sfreq_hires, rescale=0 )\n",
    "    \n",
    "    raws_permod_both_sides2[rawn]['EMG'] = makeSimpleRaw(dat_EMG, \n",
    "        gv.EMG_per_hand[main_side], sfreq=sfreq, rescale=0)\n",
    "\n",
    "    "
   ]
  },
  {
   "cell_type": "code",
   "execution_count": null,
   "id": "c7c9c469",
   "metadata": {},
   "outputs": [],
   "source": [
    "####################################\n",
    "\n",
    "gv.DEBUG_MODE=1\n",
    "from IPython import get_ipython\n",
    "ipython = get_ipython()\n",
    "#Once that's done, run a magic command like this:\n",
    "#%debug\n",
    "raws_permod_both_sides = raws_permod_both_sides2\n",
    "# rawnames_str = ','.join(rawnames)\n",
    "# mstr = 'run ../run/run_prep_dat.py -r ' +   rawnames_str + \\\n",
    "#         ' --param_file prep_dat_defparams.ini --exit_after gatherFeatStats --save_dat 0' +\\\n",
    "#         ' --use_preloaded_raws 1'\n",
    "# ipython.magic(mstr)\n",
    "\n",
    "%run -i ../run/run_prep_dat.py -r S01_off_move,S01_off_hold,S01_on_move \\\n",
    "        --param_file prep_dat_defparams.ini --calc_stats_multi_band 1 --save_dat 0 \\\n",
    "        --use_preloaded_raws 1 --save_stats 0"
   ]
  },
  {
   "cell_type": "code",
   "execution_count": null,
   "id": "0a44b859",
   "metadata": {},
   "outputs": [],
   "source": [
    "list( rec_info.keys() )"
   ]
  },
  {
   "cell_type": "code",
   "execution_count": null,
   "id": "165c99b4",
   "metadata": {},
   "outputs": [],
   "source": [
    "dict(rec_info)"
   ]
  },
  {
   "cell_type": "code",
   "execution_count": null,
   "id": "7609905c",
   "metadata": {},
   "outputs": [],
   "source": [
    "rawnames_debug =  ['S95_off_move','S95_on_move','S95_off_hold','S95_on_hold']\n",
    "rawnames_debug += ['S94_off_move','S94_on_move','S94_off_hold','S94_on_hold']\n",
    "for rn in rawnames_debug:\n",
    "    full_fn = f'/home/demitau/data/{rn}_parcel_aal_grp10_src_rec_info.npz'\n",
    "    np.savez(full_fn, **rec_info)"
   ]
  },
  {
   "cell_type": "code",
   "execution_count": null,
   "id": "3e9df9ac",
   "metadata": {},
   "outputs": [],
   "source": [
    "ri = np.load(full_fn, allow_pickle=1)"
   ]
  },
  {
   "cell_type": "code",
   "execution_count": null,
   "id": "8ae92945",
   "metadata": {},
   "outputs": [],
   "source": [
    "list(ri.keys() ), list(rec_info.keys())"
   ]
  },
  {
   "cell_type": "code",
   "execution_count": null,
   "id": "93b2224f",
   "metadata": {},
   "outputs": [],
   "source": [
    "dict(ri) == dict(rec_info)"
   ]
  },
  {
   "cell_type": "code",
   "execution_count": null,
   "id": "0ca09e57",
   "metadata": {},
   "outputs": [],
   "source": [
    "utils.parseIntervalName('BAD_LFPR002')"
   ]
  },
  {
   "cell_type": "code",
   "execution_count": null,
   "id": "93191112",
   "metadata": {},
   "outputs": [],
   "source": [
    "nr"
   ]
  },
  {
   "cell_type": "markdown",
   "id": "bfcb500b",
   "metadata": {},
   "source": [
    "## raw data stats plot"
   ]
  },
  {
   "cell_type": "code",
   "execution_count": null,
   "id": "4691f8f4",
   "metadata": {},
   "outputs": [],
   "source": [
    "indsets"
   ]
  },
  {
   "cell_type": "code",
   "execution_count": null,
   "id": "e86e06de",
   "metadata": {},
   "outputs": [],
   "source": [
    "from plots import plotDataAnnStat\n",
    "from plots import shadeAnn\n",
    "from plots import plotMeansPerIt\n",
    "\n",
    "ct = 'no'\n",
    "\n",
    "indsets = stats_per_ct[ct]['indsets']\n",
    "means_per_iset = stats_per_ct[ct]['means']\n",
    "\n",
    "suptitle = ct\n",
    "\n",
    "plotDataAnnStat(rawnames,dat_pri,times_pri,subfeature_order_pri,                    \n",
    "                   None,None,None,\n",
    "                   anndict_per_intcat_per_rawn,\n",
    "                   indsets,means_per_iset,suptitle=suptitle,\n",
    "                   dat_dict=None,band=None)"
   ]
  },
  {
   "cell_type": "markdown",
   "id": "a514c9e9",
   "metadata": {},
   "source": [
    "## filtered data stats plot"
   ]
  },
  {
   "cell_type": "code",
   "execution_count": null,
   "id": "fa57d2be",
   "metadata": {},
   "outputs": [],
   "source": [
    "#printDict(stats_multiband_flt_per_ct)"
   ]
  },
  {
   "cell_type": "code",
   "execution_count": null,
   "id": "0b2a0253",
   "metadata": {},
   "outputs": [],
   "source": [
    "subfeature_order_lfp_hires_pri"
   ]
  },
  {
   "cell_type": "code",
   "execution_count": null,
   "id": "1a0de608",
   "metadata": {},
   "outputs": [],
   "source": [
    "dat_LFP_hires_pri[0].shape"
   ]
  },
  {
   "cell_type": "code",
   "execution_count": null,
   "id": "e8927c95",
   "metadata": {},
   "outputs": [],
   "source": [
    "#ct = 'no'\n",
    "#ct = 'subj'\n",
    "ct = 'medcond'\n",
    "#ct = 'task'\n",
    "\n",
    "#%debug\n",
    "\n",
    "tpl1 = (raw_perband_flt_pri,stats_multiband_flt_per_ct,'flt')\n",
    "tpl2 = (raw_perband_bp_pri, stats_multiband_bp_per_ct,'bp')\n",
    "tpls = (tpl1,tpl2)\n",
    "for dat_dict,stat_dict,dat_type in tpls:\n",
    "    for band in ['tremor','beta','gamma','HFO']:\n",
    "    #for band in ['HFO']:\n",
    "    #for band in ['beta']:\n",
    "    #band = 'gamma'\n",
    "    #band = 'beta'\n",
    "    #band = 'tremor'        \n",
    "        means_per_iset = stat_dict[ct]['means'].get(band, None)\n",
    "        indsets = stat_dict[ct]['indsets']\n",
    "        suptitle = f'combin={ct}  band={band} dat_type={dat_type}'\n",
    "        \n",
    "        if means_per_iset is None:\n",
    "            continue\n",
    "\n",
    "        plotDataAnnStat(rawnames,dat_pri,times_pri,subfeature_order_pri,  \n",
    "                           dat_lfp_hires_pri,times_hires_pri,subfeature_order_lfp_hires_pri,\n",
    "                           anndict_per_intcat_per_rawn,\n",
    "                           indsets,means_per_iset,suptitle=suptitle,\n",
    "                           dat_dict=dat_dict,band=band,legend_loc='upper left')\n",
    "\n"
   ]
  },
  {
   "cell_type": "code",
   "execution_count": null,
   "id": "f1e12227",
   "metadata": {},
   "outputs": [],
   "source": [
    "type(dat_pri_persfreq[0][0]), len(dat_pri_persfreq)"
   ]
  },
  {
   "cell_type": "markdown",
   "id": "f24ceb66",
   "metadata": {},
   "source": [
    "# Normal dataset"
   ]
  },
  {
   "cell_type": "code",
   "execution_count": null,
   "id": "5db2a5fc",
   "metadata": {},
   "outputs": [],
   "source": []
  },
  {
   "cell_type": "code",
   "execution_count": null,
   "id": "f6004e95",
   "metadata": {},
   "outputs": [],
   "source": []
  },
  {
   "cell_type": "code",
   "execution_count": null,
   "id": "90291232",
   "metadata": {},
   "outputs": [],
   "source": [
    "for ad in anndict_per_intcat_per_rawn:\n",
    "    bs = anndict_per_intcat_per_rawn[ad]['beh_state']\n",
    "    r = bs.onset[ np.where( bs.description == f'notrem_{main_side_let}' )[0] ]\n",
    "    print(r)"
   ]
  },
  {
   "cell_type": "code",
   "execution_count": null,
   "id": "c18f32a9",
   "metadata": {},
   "outputs": [],
   "source": [
    "%load_ext autoreload\n",
    "%autoreload 2\n",
    "####################################\n",
    "\n",
    "import globvars as gv\n",
    "gv.DEBUG_MODE=0\n",
    "from IPython import get_ipython\n",
    "ipython = get_ipython()\n",
    "#Once that's done, run a magic command like this:\n",
    "#%debug\n",
    "# rawnames_str = ','.join(rawnames)\n",
    "# mstr = 'run -i ../run/run_prep_dat.py -r ' +   rawnames_str + \\\n",
    "#         ' --param_file prep_dat_defparams.ini --exit_after gatherFeatStats --save_dat 0' +\\\n",
    "#         ' --use_preloaded_raws 1'\n",
    "# ipython.magic(mstr)\n",
    "#,S01_off_hold,\n",
    "\n",
    "%run -i ../run/run_prep_dat.py -r S01_off_move,S01_on_move \\\n",
    "        --param_file prep_dat_defparams.ini --calc_stats_multi_band 1 \\\n",
    "        --allow_CUDA 0\\\n",
    "        --save_dat 0 --save_stats 0 #--crop 0,40"
   ]
  },
  {
   "cell_type": "code",
   "execution_count": null,
   "id": "3924b383",
   "metadata": {},
   "outputs": [],
   "source": [
    "plt.close('all')"
   ]
  },
  {
   "cell_type": "code",
   "execution_count": null,
   "id": "44331c1d",
   "metadata": {},
   "outputs": [],
   "source": [
    "from plots import plotDataAnnStat\n",
    "from plots import shadeAnn\n",
    "from plots import plotMeansPerIt\n",
    "\n",
    "ct = 'no'\n",
    "\n",
    "indsets = stats_per_ct[ct]['indsets']\n",
    "means_per_iset = stats_per_ct[ct]['means']\n",
    "\n",
    "suptitle = ct\n",
    "\n",
    "plotDataAnnStat(rawnames,dat_pri,times_pri,subfeature_order_pri,                    \n",
    "                   None,None,None,\n",
    "                   anndict_per_intcat_per_rawn,\n",
    "                   indsets,means_per_iset,suptitle=suptitle,\n",
    "                   dat_dict=None,band=None, chis_to_show=[0,50], q_thr=0.1, legend_loc=(1,0) ) #[0,1,14,50])"
   ]
  },
  {
   "cell_type": "code",
   "execution_count": null,
   "id": "a4fe0fba",
   "metadata": {},
   "outputs": [],
   "source": [
    "#ct = 'no'\n",
    "#ct = 'subj'\n",
    "ct = 'medcond'\n",
    "#ct = 'task'\n",
    "\n",
    "#%debug\n",
    "\n",
    "tpl1 = (raw_perband_flt_pri,stats_multiband_flt_per_ct,'flt')\n",
    "tpl2 = (raw_perband_bp_pri, stats_multiband_bp_per_ct,'bp')\n",
    "tpls = (tpl1,tpl2)\n",
    "for dat_dict,stat_dict,dat_type in tpls:\n",
    "    #for band in ['tremor','beta','gamma','HFO']:\n",
    "    #for band in ['HFO']:\n",
    "    for band in ['beta']:\n",
    "    #band = 'gamma'\n",
    "    #band = 'beta'\n",
    "    #band = 'tremor'        \n",
    "        means_per_iset = stat_dict[ct]['means'].get(band, None)\n",
    "        indsets = stat_dict[ct]['indsets']\n",
    "        suptitle = f'combin={ct}  band={band} dat_type={dat_type}'\n",
    "        \n",
    "        if means_per_iset is None:\n",
    "            continue\n",
    "\n",
    "        plotDataAnnStat(rawnames,dat_pri,times_pri,subfeature_order_pri,  \n",
    "                           dat_lfp_hires_pri,times_hires_pri,subfeature_order_lfp_hires_pri,\n",
    "                           anndict_per_intcat_per_rawn,\n",
    "                           indsets,means_per_iset,suptitle=suptitle,\n",
    "                           dat_dict=dat_dict,band=band,legend_loc=(1,0),\n",
    "                           chis_to_show=[0,50,60,70], q_thr=0.1)\n",
    "\n"
   ]
  },
  {
   "cell_type": "code",
   "execution_count": null,
   "id": "d64c6981",
   "metadata": {},
   "outputs": [],
   "source": []
  },
  {
   "cell_type": "code",
   "execution_count": null,
   "id": "5887a7b5",
   "metadata": {},
   "outputs": [],
   "source": []
  },
  {
   "cell_type": "markdown",
   "id": "8d286bac",
   "metadata": {},
   "source": [
    "# Debug sub parts"
   ]
  },
  {
   "cell_type": "code",
   "execution_count": null,
   "id": "5bd05991",
   "metadata": {},
   "outputs": [],
   "source": [
    "aa + aa"
   ]
  },
  {
   "cell_type": "code",
   "execution_count": null,
   "id": "6697b084",
   "metadata": {},
   "outputs": [],
   "source": [
    "sfreqs_t"
   ]
  },
  {
   "cell_type": "code",
   "execution_count": null,
   "id": "d33255cd",
   "metadata": {},
   "outputs": [],
   "source": [
    "subfeature_order"
   ]
  },
  {
   "cell_type": "code",
   "execution_count": null,
   "id": "34fa1c37",
   "metadata": {},
   "outputs": [],
   "source": [
    "sfreqs_t = sfreqs\n",
    "dat_pri_persfreq_t = [dat_pri_persfreq[0] , dat_pri_persfreq[1]]\n",
    "subfeature_order_t = subfeature_order\n",
    "\n",
    "bns = fband_names_inc_HFO\n",
    "#bns = ['HFO']\n",
    "bns = ['beta']\n",
    "\n",
    "raw_perband_flt_pri, raw_perband_bp_pri, chnames_perband_flt_pri, chnames_perband_bp_pri  = \\\n",
    "    ugf.bandFilter(rawnames, times_pri, main_sides_pri, side_switched_pri,\n",
    "            sfreqs_t, skips, dat_pri_persfreq_t, bns, gv.fband_names_HFO_all,\n",
    "            fbands, n_jobs_flt, allow_CUDA and n_jobs == 'cuda',\n",
    "            subfeature_order_t, subfeature_order_lfp_hires,\n",
    "            smoothen_bandpow, ann_MEGartif_prefix_to_use,\n",
    "            anndict_per_intcat_per_rawn= anndict_per_intcat_per_rawn)"
   ]
  },
  {
   "cell_type": "code",
   "execution_count": null,
   "id": "9bf71327",
   "metadata": {},
   "outputs": [],
   "source": [
    "utils.parseIntervalName('BAD_MEGR')"
   ]
  },
  {
   "cell_type": "code",
   "execution_count": null,
   "id": "d19f1094",
   "metadata": {},
   "outputs": [],
   "source": [
    "sfreqs_t = sfreqs\n",
    "dat_pri_persfreq_t = [dat_pri_persfreq[0][0:1] , dat_pri_persfreq[1]]\n",
    "subfeature_order_t = ['msrcL_5_6_c0']\n",
    "\n",
    "bns = fband_names_inc_HFO\n",
    "bns = ['HFO']\n",
    "\n",
    "raw_perband_flt_pri, raw_perband_bp_pri, chnames_perband_flt_pri, chnames_perband_bp_pri  = \\\n",
    "    ugf.bandFilter(rawnames, times_pri, main_sides_pri, side_switched_pri,\n",
    "            sfreqs_t, skips, dat_pri_persfreq_t, bns, gv.fband_names_HFO_all,\n",
    "            fbands, n_jobs_flt, allow_CUDA and n_jobs == 'cuda',\n",
    "            subfeature_order_t, subfeature_order_lfp_hires,\n",
    "            smoothen_bandpow, ann_MEGartif_prefix_to_use,\n",
    "            anndict_per_intcat_per_rawn= anndict_per_intcat_per_rawn)"
   ]
  },
  {
   "cell_type": "code",
   "execution_count": null,
   "id": "2b6af8c3",
   "metadata": {},
   "outputs": [],
   "source": []
  },
  {
   "cell_type": "code",
   "execution_count": null,
   "id": "c7eb0ebf",
   "metadata": {},
   "outputs": [],
   "source": [
    "# artif_chns = [ de[4:] for de in anndict_per_intcat_per_rawn['S01_off_hold']['artif']['LFP'].description ]\n",
    "# artif_chns = [a for a in artif_chns if len(a) > 4]\n",
    "# a in  artif_chns in "
   ]
  },
  {
   "cell_type": "code",
   "execution_count": null,
   "id": "a976942d",
   "metadata": {},
   "outputs": [],
   "source": [
    "anndict_per_intcat_per_rawn['S01_off_hold']['artif']['MEG']"
   ]
  },
  {
   "cell_type": "code",
   "execution_count": null,
   "id": "b0e5ec1e",
   "metadata": {},
   "outputs": [],
   "source": [
    "for a in anndict_per_intcat_per_rawn['S01_off_hold']['artif']['LFP']:\n",
    "    print(a)\n",
    "    \n",
    "aa  =  anndict_per_intcat_per_rawn['S01_off_hold']['artif']['LFP']"
   ]
  },
  {
   "cell_type": "code",
   "execution_count": null,
   "id": "58e106ca",
   "metadata": {},
   "outputs": [],
   "source": [
    "aa.onset"
   ]
  },
  {
   "cell_type": "code",
   "execution_count": null,
   "id": "f0242a55",
   "metadata": {},
   "outputs": [],
   "source": [
    "uu = utils.getArtifForFiltering('LFPR02',aa)    \n",
    "uu.onset"
   ]
  },
  {
   "cell_type": "code",
   "execution_count": null,
   "id": "f21c5946",
   "metadata": {},
   "outputs": [],
   "source": [
    "uu = utils.getArtifForFiltering('MEGR',mne.Annotations([0],[1],['BAD_MEGR']))    \n",
    "uu.onset, uu.description"
   ]
  },
  {
   "cell_type": "code",
   "execution_count": null,
   "id": "40b9b9f0",
   "metadata": {},
   "outputs": [],
   "source": [
    "uu = utils.getArtifForFiltering('msrcL',mne.Annotations([0],[1],['BAD_MEGR']))    \n",
    "uu.onset, uu.description"
   ]
  },
  {
   "cell_type": "code",
   "execution_count": null,
   "id": "524f93ac",
   "metadata": {},
   "outputs": [],
   "source": [
    "uu = utils.getArtifForFiltering('msrcR',mne.Annotations([0],[1],['BAD_MEGR']))    \n",
    "uu.onset, uu.description"
   ]
  },
  {
   "cell_type": "code",
   "execution_count": null,
   "id": "469dc0e0",
   "metadata": {},
   "outputs": [],
   "source": [
    "aritf_anns[:]"
   ]
  },
  {
   "cell_type": "code",
   "execution_count": null,
   "id": "466fa24b",
   "metadata": {},
   "outputs": [],
   "source": [
    "for r in raw_perband_bp_pri:\n",
    "    #plt.figure()\n",
    "    plt.plot(r['HFO']._data[0])"
   ]
  },
  {
   "cell_type": "code",
   "execution_count": null,
   "id": "a4a63e01",
   "metadata": {},
   "outputs": [],
   "source": [
    "import re\n",
    "re.match('fds','fasdfsad')"
   ]
  },
  {
   "cell_type": "code",
   "execution_count": null,
   "id": "57eeeecf",
   "metadata": {},
   "outputs": [],
   "source": []
  },
  {
   "cell_type": "code",
   "execution_count": null,
   "id": "70153725",
   "metadata": {},
   "outputs": [],
   "source": [
    "#mne.annotations._annotations_starts_stops(raw, descr_list, name=<NO MEANING>, invert=True):\n",
    "# does artifact handling, returns list of starts and est WITHOUT sigments\n",
    "# start\n",
    "\n",
    "dat_t = dat_pri[0].copy()\n",
    "#raw = makeSimpleRaw(dat_t)\n",
    "raw = raw_perband_flt_pri[0]['gamma'].copy()\n",
    "\n",
    "plt.plot(times_pri[0],raw._data.T)\n",
    "#plt.ylim(-1,2)\n",
    "\n",
    "raw_h = raw.copy()\n",
    "raw_h.apply_hilbert()\n",
    "fn = np.abs\n",
    "raw_h.apply_function(fn, dtype=float);\n",
    "plt.figure()\n",
    "plt.plot(times_pri[0],raw_h._data.T)\n",
    "plt.ylim(-1,2)\n",
    "\n",
    "aritf_anns = anndict_per_intcat_per_rawn['S01_off_move']['artif']['LFP']\n",
    "\n",
    "# get good intervals annotations\n",
    "onsets, ends = mne.annotations._annotations_starts_stops(raw, aritf_anns.description.tolist(), invert=True)\n",
    "print('Filtering raw data in %d contiguous segment%s' % (len(onsets), (onsets)))\n",
    "\n",
    "max_idx = (ends - onsets).argmax()\n",
    "for si, (start, stop) in enumerate(zip(onsets, ends)):\n",
    "    # Only output filter params once (for info level), and only warn\n",
    "    # once about the length criterion (longest segment is too short)\n",
    "    dat_ref = raw._data[:, start:stop]\n",
    "    \n",
    "    subraw = makeSimpleRaw(dat_ref, copy=False)\n",
    "    subraw.apply_hilbert()\n",
    "    \n",
    "    raw._data[:, start:stop] = subraw._data.copy()\n",
    "    \n",
    "    # if resample, I need to copy\n",
    "#     r = makeSimpleRaw(dat_ref.copy())\n",
    "#     r.copy(resample)\n",
    "    \n",
    "    \n",
    "#     use_verbose = verbose if si == max_idx else 'error'\n",
    "#     mne.filter.filter_data(raw._data[:, start:stop], raw.info['sfreq'], l_freq, h_freq,\n",
    "#         picks, filter_length, l_trans_bandwidth, h_trans_bandwidth,\n",
    "#         n_jobs, method, iir_params, copy=False, phase=phase,\n",
    "#         fir_window=fir_window, fir_design=fir_design, pad=pad,\n",
    "#         verbose=use_verbose)\n",
    "\n",
    "\n",
    "fn = np.abs\n",
    "raw.apply_function(fn, dtype=float);\n",
    "\n",
    "plt.figure()\n",
    "ax = plt.gca()\n",
    "ax.plot( times,raw._data[0] )\n",
    "shadey_aftif = -np.min(raw._data)/3,-np.max(raw._data)/3\n",
    "shadeAnn(ax,aritf_anns,*shadey_aftif,color='red',alpha=0.2, sfreq=sfreq, \n",
    "         skip=1, plot_bins = 0, shift_by_anntype = 1, seed=4)\n",
    "plt.ylim(-1,2)\n"
   ]
  }
 ],
 "metadata": {
  "kernelspec": {
   "display_name": "Python 3",
   "language": "python",
   "name": "python3"
  },
  "language_info": {
   "codemirror_mode": {
    "name": "ipython",
    "version": 3
   },
   "file_extension": ".py",
   "mimetype": "text/x-python",
   "name": "python",
   "nbconvert_exporter": "python",
   "pygments_lexer": "ipython3",
   "version": "3.8.10"
  }
 },
 "nbformat": 4,
 "nbformat_minor": 5
}
