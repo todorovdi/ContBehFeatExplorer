{
 "cells": [
  {
   "cell_type": "code",
   "execution_count": null,
   "metadata": {},
   "outputs": [],
   "source": [
    "import os,sys\n",
    "import mne\n",
    "import utils  #my code\n",
    "import json\n",
    "import matplotlib.pyplot as plt\n",
    "import numpy as np\n",
    "import utils\n",
    "%load_ext autoreload\n",
    "%autoreload 2\n",
    "\n",
    "if os.environ.get('DATA_DUSS') is not None:\n",
    "    data_dir = os.path.expandvars('$DATA_DUSS')\n",
    "else:\n",
    "    data_dir = '/home/demitau/data'\n",
    "    \n",
    "\n",
    "\n",
    "rawname_ = 'S01_off_hold'\n",
    "rawname_ = 'S01_off_move'\n",
    "#rawname_ = 'S01_on_hold'\n",
    "#rawname_ = 'S01_on_move'\n",
    "\n",
    "#rawname_ = 'S02_off_hold'\n",
    "#rawname_ = 'S02_on_hold' \n",
    "#rawname_ = 'S02_off_move'  \n",
    "#rawname_ = 'S02_on_move'\n",
    "\n",
    "#rawname_ = 'S03_off_move'  \n",
    "#rawname_ = 'S03_off_hold'  \n",
    "\n",
    "rawname = rawname_ + '_resample_raw.fif'\n",
    "#rawname = rawname_ + '_resample_afterICA_raw.fif'\n",
    "fname_full = os.path.join(data_dir,rawname)\n",
    "    "
   ]
  },
  {
   "cell_type": "code",
   "execution_count": null,
   "metadata": {},
   "outputs": [],
   "source": [
    "# read file -- resampled to 256 Hz,  Electa MEG, EMG, LFP, EOG channels\n",
    "raw = mne.io.read_raw_fif(fname_full, None)"
   ]
  },
  {
   "cell_type": "code",
   "execution_count": null,
   "metadata": {},
   "outputs": [],
   "source": [
    "if 'projs' in raw.info:\n",
    "    raw.info['projs'] = []"
   ]
  },
  {
   "cell_type": "code",
   "execution_count": null,
   "metadata": {},
   "outputs": [],
   "source": [
    "import globvars as gv"
   ]
  },
  {
   "cell_type": "code",
   "execution_count": null,
   "metadata": {},
   "outputs": [],
   "source": [
    "rectconv_fname_full = os.path.join(gv.data_dir, '{}_emg_rectconv.fif'.format(rawname_) )\n",
    "rectconvraw  = mne.io.read_raw_fif(rectconv_fname_full)"
   ]
  },
  {
   "cell_type": "code",
   "execution_count": null,
   "metadata": {},
   "outputs": [],
   "source": [
    "anns_fn = rawname_ + '_anns.txt'\n",
    "anns_fn_full = os.path.join(data_dir, anns_fn)\n",
    "anns = mne.read_annotations(anns_fn_full)\n",
    "\n",
    "rectconvraw.set_annotations(anns)"
   ]
  },
  {
   "cell_type": "code",
   "execution_count": null,
   "metadata": {},
   "outputs": [],
   "source": [
    "anns_MEGartif_fn = rawname_ + '_ann_MEGartif.txt'\n",
    "anns_MEGartif_fn_full = os.path.join(data_dir, anns_MEGartif_fn)\n",
    "anns_MEGartif = mne.read_annotations(anns_MEGartif_fn_full)\n",
    "\n",
    "rectconvraw.annotations.append(anns_MEGartif.onset, anns_MEGartif.duration, anns_MEGartif.description)"
   ]
  },
  {
   "cell_type": "code",
   "execution_count": null,
   "metadata": {},
   "outputs": [],
   "source": [
    "subj,medcond,task  = utils.getParamsFromRawname(rawname_)\n",
    "sind_str = subj\n",
    "with open('subj_info.json') as info_json:\n",
    "        #raise TypeError\n",
    "\n",
    "    #json.dumps({'value': numpy.int64(42)}, default=convert)\n",
    "    gen_subj_info = json.load(info_json)"
   ]
  },
  {
   "cell_type": "code",
   "execution_count": null,
   "metadata": {},
   "outputs": [],
   "source": [
    "maintremside = gen_subj_info[subj]['tremor_side']\n",
    "print(maintremside)\n",
    "#emg_ps = utils.getEMGperHand(rectconvraw)\n",
    "emg_rot_ps = utils.getMainEMGcomp(rectconvraw)\n",
    "emg = emg_rot_ps[maintremside]\n",
    "\n",
    "megraw = raw.copy()\n",
    "megraw.load_data()\n",
    "megraw.pick_types(meg=True)"
   ]
  },
  {
   "cell_type": "code",
   "execution_count": null,
   "metadata": {},
   "outputs": [],
   "source": [
    "task_start = utils.findTaskStart(rectconvraw.annotations)\n",
    "task_offset = 5 # in sec\n",
    "megraw.crop(tmin=0, tmax = task_start - task_offset)\n",
    "emg.crop(tmin = 0, tmax = task_start - task_offset)"
   ]
  },
  {
   "cell_type": "code",
   "execution_count": null,
   "metadata": {},
   "outputs": [],
   "source": [
    "task_start - task_offset"
   ]
  },
  {
   "cell_type": "code",
   "execution_count": null,
   "metadata": {},
   "outputs": [],
   "source": [
    "from mne.decoding import CSP\n",
    "from sklearn.pipeline import make_pipeline\n",
    "from sklearn.linear_model import Ridge\n",
    "from sklearn.model_selection import KFold, cross_val_predict\n",
    "\n",
    "from mne import Epochs"
   ]
  },
  {
   "cell_type": "code",
   "execution_count": null,
   "metadata": {},
   "outputs": [],
   "source": [
    "megraw.set_annotations(emg.annotations)"
   ]
  },
  {
   "cell_type": "code",
   "execution_count": null,
   "metadata": {},
   "outputs": [],
   "source": [
    "#emg.set_annotations(megraw.annotations)"
   ]
  },
  {
   "cell_type": "code",
   "execution_count": null,
   "metadata": {},
   "outputs": [],
   "source": [
    "print( megraw.info['bads'], emg.info['bads'] )\n",
    "print(megraw.annotations, emg.annotations)"
   ]
  },
  {
   "cell_type": "code",
   "execution_count": null,
   "metadata": {},
   "outputs": [],
   "source": [
    "%matplotlib qt\n",
    "emg.plot(scalings={'eeg':'auto'});"
   ]
  },
  {
   "cell_type": "code",
   "execution_count": null,
   "metadata": {},
   "outputs": [],
   "source": [
    "assert 0 == len(emg.times) - len(megraw.times)"
   ]
  },
  {
   "cell_type": "code",
   "execution_count": null,
   "metadata": {},
   "outputs": [],
   "source": [
    "megraw.info['bads']"
   ]
  },
  {
   "cell_type": "code",
   "execution_count": null,
   "metadata": {},
   "outputs": [],
   "source": [
    "from sklearn.pipeline import Pipeline\n",
    "from sklearn.discriminant_analysis import LinearDiscriminantAnalysis\n",
    "from sklearn.model_selection import ShuffleSplit, cross_val_score\n",
    "\n",
    "from mne import Epochs, pick_types, events_from_annotations\n",
    "from mne.decoding import CSP"
   ]
  },
  {
   "cell_type": "code",
   "execution_count": null,
   "metadata": {},
   "outputs": [],
   "source": [
    "X = megraw.get_data().T"
   ]
  },
  {
   "cell_type": "code",
   "execution_count": null,
   "metadata": {},
   "outputs": [],
   "source": [
    "X.shape"
   ]
  },
  {
   "cell_type": "code",
   "execution_count": null,
   "metadata": {},
   "outputs": [],
   "source": [
    "mts_letter = gen_subj_info[subj]['tremor_side'][0].upper()\n"
   ]
  },
  {
   "cell_type": "code",
   "execution_count": null,
   "metadata": {},
   "outputs": [],
   "source": [
    "sides_hand = [mts_letter]\n",
    "int_types_basic = ['trem', 'notrem', 'hold', 'move']"
   ]
  },
  {
   "cell_type": "code",
   "execution_count": null,
   "metadata": {},
   "outputs": [],
   "source": [
    "import utils_tSNE as utsne\n",
    "sfreq = int(emg.info['sfreq'])"
   ]
  },
  {
   "cell_type": "code",
   "execution_count": null,
   "metadata": {},
   "outputs": [],
   "source": [
    "ivalis = utils.ann2ivalDict(emg.annotations)\n",
    "ivalis_tb, ivalis_tb_indarrays = utsne.getAnnBins(ivalis, emg.times, \n",
    "                                                  0, sfreq, 1, \n",
    "                                                  1, dataset_bounds=None)\n"
   ]
  },
  {
   "cell_type": "code",
   "execution_count": null,
   "metadata": {},
   "outputs": [],
   "source": [
    "int_types_L = ['trem_L', 'notrem_L', 'hold_L', 'move_L', 'undef_L', 'holdtrem_L', 'movetrem_L']\n",
    "int_types_R = ['trem_R', 'notrem_R', 'hold_R', 'move_R', 'undef_R', 'holdtrem_R', 'movetrem_R']\n",
    "class_ids = {}\n",
    "for ind, it in enumerate(int_types_L):\n",
    "    class_ids[it] = ind+1\n",
    "for ind, it in enumerate(int_types_R):\n",
    "    class_ids[it] = -ind-1\n"
   ]
  },
  {
   "cell_type": "code",
   "execution_count": null,
   "metadata": {},
   "outputs": [],
   "source": [
    "help(events_from_annotations)"
   ]
  },
  {
   "cell_type": "code",
   "execution_count": null,
   "metadata": {},
   "outputs": [],
   "source": [
    "ivalis_tb_indarrays"
   ]
  },
  {
   "cell_type": "code",
   "execution_count": null,
   "metadata": {},
   "outputs": [],
   "source": [
    "raw.annotations"
   ]
  },
  {
   "cell_type": "code",
   "execution_count": null,
   "metadata": {},
   "outputs": [],
   "source": [
    "anns"
   ]
  },
  {
   "cell_type": "code",
   "execution_count": null,
   "metadata": {},
   "outputs": [],
   "source": [
    "evt_dur_s = 1. # orig 0.25\n",
    "epoch_dur_s = 2   # orig 1.5\n",
    "decim = 1 # 8"
   ]
  },
  {
   "cell_type": "code",
   "execution_count": null,
   "metadata": {},
   "outputs": [],
   "source": [
    "raw.load_data()"
   ]
  },
  {
   "cell_type": "code",
   "execution_count": null,
   "metadata": {},
   "outputs": [],
   "source": [
    "evdict = {'notrem_{}'.format(mts_letter):1,'trem_{}'.format(mts_letter):2 }\n",
    "events, event_id = events_from_annotations(rectconvraw, event_id=evdict, chunk_duration=evt_dur_s)"
   ]
  },
  {
   "cell_type": "code",
   "execution_count": null,
   "metadata": {},
   "outputs": [],
   "source": [
    "megraw.load_data()"
   ]
  },
  {
   "cell_type": "code",
   "execution_count": null,
   "metadata": {},
   "outputs": [],
   "source": [
    "# # Build epochs as sliding windows over the continuous raw file\n",
    "# events = mne.make_fixed_length_events(megraw, id=1, duration=evt_dur_s)"
   ]
  },
  {
   "cell_type": "code",
   "execution_count": null,
   "metadata": {},
   "outputs": [],
   "source": [
    "#events"
   ]
  },
  {
   "cell_type": "code",
   "execution_count": null,
   "metadata": {},
   "outputs": [],
   "source": [
    "np.diff(events[:,0])"
   ]
  },
  {
   "cell_type": "code",
   "execution_count": null,
   "metadata": {},
   "outputs": [],
   "source": [
    "meg_epochs = Epochs(megraw, events, tmin=0., tmax=epoch_dur_s, baseline=None,\n",
    "                    detrend=0, decim=decim)"
   ]
  },
  {
   "cell_type": "code",
   "execution_count": null,
   "metadata": {},
   "outputs": [],
   "source": [
    "meg_epochs"
   ]
  },
  {
   "cell_type": "code",
   "execution_count": null,
   "metadata": {},
   "outputs": [],
   "source": [
    "meg_epochs.load_data()"
   ]
  },
  {
   "cell_type": "code",
   "execution_count": null,
   "metadata": {},
   "outputs": [],
   "source": [
    "labels = meg_epochs.events[:, -1] - 1\n",
    "len(labels)"
   ]
  },
  {
   "cell_type": "code",
   "execution_count": null,
   "metadata": {},
   "outputs": [],
   "source": [
    "all_byhand= 0\n",
    "if all_byhand:\n",
    "    defclass = 0\n",
    "    class_labels = np.repeat(defclass,len(X))\n",
    "    assert defclass == 0\n",
    "\n",
    "    old_ver = 0\n",
    "    if old_ver:\n",
    "        int_types = set()\n",
    "        for itb in int_types_basic:\n",
    "            for side in sides_hand:\n",
    "                assert len(side) == 1\n",
    "                int_types.update(['{}_{}'.format(itb,side)])\n",
    "        #int_types = ['trem_L', 'notrem_L', 'hold_L', 'move_L']\n",
    "        int_types = list(int_types)\n",
    "        #print(int_types)\n",
    "\n",
    "        classes = [k for k in ivalis_tb_indarrays.keys() if k in int_types]  #need to be ordered\n",
    "        #classes\n",
    "\n",
    "        for i,k in enumerate(classes):\n",
    "            #print(i,k)\n",
    "            for bininds in ivalis_tb_indarrays[k]:\n",
    "                #print(i,len(bininds), bininds[0], bininds[-1])\n",
    "                class_labels[ bininds ] = i + 1\n",
    "\n",
    "    for itb in int_types_basic:\n",
    "        for side in sides_hand:\n",
    "            class_name = '{}_{}'.format(itb,side)\n",
    "            if class_name not in ivalis_tb_indarrays:\n",
    "                continue\n",
    "            for bininds in ivalis_tb_indarrays[class_name]:\n",
    "                #print(i,len(bininds), bininds[0], bininds[-1])\n",
    "                class_labels[ bininds ] = class_ids[class_name]\n",
    "\n",
    "\n",
    "    class_labels_good = class_labels\n",
    "\n",
    "    rem_neut = 1\n",
    "    if rem_neut:\n",
    "        neq = class_labels_good != defclass\n",
    "        inds = np.where( neq)[0]\n",
    "        X_good = X[inds]\n",
    "        class_labels_good = class_labels_good[inds]\n",
    "    else:\n",
    "        classes = ['neut'] + classes  # will fail if run more than once\n",
    "\n",
    "    assert len(labels) == len(X_good)\n",
    "\n",
    "    labels = class_labels_good"
   ]
  },
  {
   "cell_type": "code",
   "execution_count": null,
   "metadata": {},
   "outputs": [],
   "source": [
    "help(ShuffleSplit)"
   ]
  },
  {
   "cell_type": "code",
   "execution_count": null,
   "metadata": {
    "run_control": {
     "marked": false
    }
   },
   "outputs": [],
   "source": [
    "meg_epochs_train  = meg_epochs.copy()\n",
    "meg_epochs_train.load_data()\n",
    "meg_epochs_train.crop(tmin=0,tmax=epoch_dur_s/2)"
   ]
  },
  {
   "cell_type": "code",
   "execution_count": null,
   "metadata": {
    "run_control": {
     "marked": false
    }
   },
   "outputs": [],
   "source": [
    "# Define a monte-carlo cross-validation generator (reduce variance):\n",
    "scores = []\n",
    "epochs_data = meg_epochs.get_data() #epochs.get_data()\n",
    "epochs_data_train = meg_epochs_train.get_data() #epochs_train.get_data()"
   ]
  },
  {
   "cell_type": "code",
   "execution_count": null,
   "metadata": {},
   "outputs": [],
   "source": [
    "#help(CSP)"
   ]
  },
  {
   "cell_type": "code",
   "execution_count": null,
   "metadata": {
    "run_control": {
     "marked": false
    }
   },
   "outputs": [],
   "source": [
    "cv = ShuffleSplit(10, test_size=0.2, random_state=0)\n",
    "cv_split = cv.split(epochs_data_train)\n",
    "\n",
    "# Assemble a classifier\n",
    "lda = LinearDiscriminantAnalysis()\n",
    "csp = CSP(n_components=4, reg=None, log=True, norm_trace=False)\n",
    "\n",
    "# Use scikit-learn Pipeline with cross_val_score function\n",
    "clf = Pipeline([('CSP', csp), ('LDA', lda)])"
   ]
  },
  {
   "cell_type": "code",
   "execution_count": null,
   "metadata": {},
   "outputs": [],
   "source": [
    "epochs_data.shape"
   ]
  },
  {
   "cell_type": "code",
   "execution_count": null,
   "metadata": {},
   "outputs": [],
   "source": [
    "labels.shape"
   ]
  },
  {
   "cell_type": "code",
   "execution_count": null,
   "metadata": {},
   "outputs": [],
   "source": [
    "# I need to generate fixed length events and then epochs, label them as tremor or not and then apply stuff"
   ]
  },
  {
   "cell_type": "code",
   "execution_count": null,
   "metadata": {},
   "outputs": [],
   "source": [
    "scores = cross_val_score(clf, epochs_data_train, labels,cv=cv, n_jobs=10)"
   ]
  },
  {
   "cell_type": "code",
   "execution_count": null,
   "metadata": {
    "run_control": {
     "marked": false
    }
   },
   "outputs": [],
   "source": [
    "#scores = cross_val_score(clf, epochs_data_train, labels, cv=cv, n_jobs=1)\n",
    "\n",
    "# Printing the results\n",
    "class_balance = np.mean(labels == labels[0])\n",
    "class_balance = max(class_balance, 1. - class_balance)\n",
    "print(\"Classification accuracy: %f / Chance level: %f\" % (np.mean(scores),\n",
    "                                                          class_balance))\n",
    "\n",
    "# plot CSP patterns estimated on full data for visualization\n",
    "csp.fit_transform(epochs_data, labels)"
   ]
  },
  {
   "cell_type": "code",
   "execution_count": null,
   "metadata": {
    "run_control": {
     "marked": false
    }
   },
   "outputs": [],
   "source": [
    "csp.plot_patterns(meg_epochs.info, ch_type='mag', size=1.5)"
   ]
  },
  {
   "cell_type": "code",
   "execution_count": null,
   "metadata": {},
   "outputs": [],
   "source": [
    "csp.plot_patterns(meg_epochs.info, ch_type='grad', size=1.5)"
   ]
  },
  {
   "cell_type": "markdown",
   "metadata": {},
   "source": [
    "# Over time"
   ]
  },
  {
   "cell_type": "code",
   "execution_count": null,
   "metadata": {},
   "outputs": [],
   "source": [
    "sfreq = raw.info['sfreq']\n",
    "w_length = int(sfreq * 0.5)   # running classifier: window length\n",
    "w_step = int(sfreq * 0.1)  # running classifier: window step size\n",
    "w_start = np.arange(0, epochs_data.shape[2] - w_length, w_step)\n",
    "\n",
    "scores_windows = []\n",
    "\n",
    "for train_idx, test_idx in cv_split:\n",
    "    y_train, y_test = labels[train_idx], labels[test_idx]\n",
    "\n",
    "    X_train = csp.fit_transform(epochs_data_train[train_idx], y_train)\n",
    "    X_test = csp.transform(epochs_data_train[test_idx])\n",
    "\n",
    "    # fit classifier\n",
    "    lda.fit(X_train, y_train)\n",
    "\n",
    "    # running classifier: test classifier on sliding window\n",
    "    score_this_window = []\n",
    "    for n in w_start:\n",
    "        X_test = csp.transform(epochs_data[test_idx][:, :, n:(n + w_length)])\n",
    "        score_this_window.append(lda.score(X_test, y_test))\n",
    "    scores_windows.append(score_this_window)"
   ]
  },
  {
   "cell_type": "code",
   "execution_count": null,
   "metadata": {},
   "outputs": [],
   "source": [
    "# Plot scores over time\n",
    "w_times = (w_start + w_length / 2.) / sfreq + meg_epochs.tmin\n",
    "\n",
    "plt.figure()\n",
    "plt.plot(w_times, np.mean(scores_windows, 0), label='Score')\n",
    "plt.axvline(0, linestyle='--', color='k', label='Onset')\n",
    "plt.axhline(0.5, linestyle='-', color='k', label='Chance')\n",
    "plt.xlabel('time (s)')\n",
    "plt.ylabel('classification accuracy')\n",
    "plt.title('Classification score over time')\n",
    "plt.legend(loc='lower right')\n",
    "plt.show()"
   ]
  },
  {
   "cell_type": "code",
   "execution_count": null,
   "metadata": {},
   "outputs": [],
   "source": []
  }
 ],
 "metadata": {
  "kernelspec": {
   "display_name": "Python 3",
   "language": "python",
   "name": "python3"
  },
  "language_info": {
   "codemirror_mode": {
    "name": "ipython",
    "version": 3
   },
   "file_extension": ".py",
   "mimetype": "text/x-python",
   "name": "python",
   "nbconvert_exporter": "python",
   "pygments_lexer": "ipython3",
   "version": "3.8.5"
  },
  "varInspector": {
   "cols": {
    "lenName": 16,
    "lenType": 16,
    "lenVar": 40
   },
   "kernels_config": {
    "python": {
     "delete_cmd_postfix": "",
     "delete_cmd_prefix": "del ",
     "library": "var_list.py",
     "varRefreshCmd": "print(var_dic_list())"
    },
    "r": {
     "delete_cmd_postfix": ") ",
     "delete_cmd_prefix": "rm(",
     "library": "var_list.r",
     "varRefreshCmd": "cat(var_dic_list()) "
    }
   },
   "types_to_exclude": [
    "module",
    "function",
    "builtin_function_or_method",
    "instance",
    "_Feature"
   ],
   "window_display": false
  }
 },
 "nbformat": 4,
 "nbformat_minor": 2
}
