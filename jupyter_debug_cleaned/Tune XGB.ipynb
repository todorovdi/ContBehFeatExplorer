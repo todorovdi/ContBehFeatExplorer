{
 "cells": [
  {
   "cell_type": "code",
   "execution_count": null,
   "id": "1e9c2bd2",
   "metadata": {},
   "outputs": [],
   "source": [
    "params = {\n",
    "    # Parameters that we are going to tune.\n",
    "    'max_depth':6,\n",
    "    'min_child_weight': 1,\n",
    "    'eta':.3,\n",
    "    'subsample': 1,\n",
    "    'colsample_bytree': 1,\n",
    "    # Other parameters\n",
    "    'objective':'reg:squarederror',\n",
    "}\n",
    "\n",
    "num_boost_round = 100  #Its optimal value highly depends on the other parameters, and thus it should be re-tuned each time you update a parameter."
   ]
  },
  {
   "cell_type": "code",
   "execution_count": null,
   "id": "0655ea18",
   "metadata": {},
   "outputs": [],
   "source": [
    "import xgboost as xgb\n",
    "import numpy as np\n",
    "nfeats = 3; Npts = 200\n",
    "X_train = np.zeros((Npts,nfeats),dtype=float)\n",
    "y_train = np.zeros(Npts,dtype=int)\n",
    "y_train[:Npts//2] = 1\n",
    "y_train[Npts//4:Npts//2] = 2\n",
    "X_train[:Npts//2+2,:]  = 1\n",
    "X_train[Npts//4:Npts//2,:]  = 10\n",
    "X_train += np.random.uniform(low=-1e-2,high=1e-2,size=X_train.shape)\n",
    "dtrain = xgb.DMatrix(X_train, label=y_train)"
   ]
  },
  {
   "cell_type": "code",
   "execution_count": null,
   "id": "ca04b953",
   "metadata": {},
   "outputs": [],
   "source": [
    "params['num_class'] = len ( set(y_train) )\n",
    "params['objective'] ='multi:softprob'"
   ]
  },
  {
   "cell_type": "code",
   "execution_count": null,
   "id": "c44e565a",
   "metadata": {},
   "outputs": [],
   "source": [
    "X_train"
   ]
  },
  {
   "cell_type": "code",
   "execution_count": null,
   "id": "fb9b454e",
   "metadata": {},
   "outputs": [],
   "source": [
    "#multi:softprob"
   ]
  },
  {
   "cell_type": "code",
   "execution_count": null,
   "id": "5aab5c0f",
   "metadata": {},
   "outputs": [],
   "source": [
    "cv_results = xgb.cv(\n",
    "    params,\n",
    "    dtrain,\n",
    "    num_boost_round=num_boost_round,\n",
    "    seed=44,\n",
    "    nfold=5, shuffle=True,\n",
    "    metrics={'mlogloss','merror'},\n",
    "    early_stopping_rounds=10\n",
    ")\n",
    "cv_results"
   ]
  },
  {
   "cell_type": "code",
   "execution_count": null,
   "id": "4ba107a5",
   "metadata": {},
   "outputs": [],
   "source": [
    "search_grid = {}\n",
    "search_grid['max_depth'] = np.arange(3,10,2)\n",
    "search_grid['min_child_weight'] = np.arange(3,8)\n",
    "search_grid['subsample'] = np.arange(0.5,1,0.2)\n",
    "search_grid['eta'] = np.array([.3, .2, .1, .05, .01, .005])"
   ]
  },
  {
   "cell_type": "code",
   "execution_count": null,
   "id": "ec1ce6a6",
   "metadata": {},
   "outputs": [],
   "source": [
    "#     # Parameters that we are going to tune.\n",
    "#     'max_depth':6,\n",
    "#     'min_child_weight': 1,\n",
    "#     'eta':.3,\n",
    "#     'subsample': 1,\n",
    "#     # Other parameters\n",
    "#     'objective':'reg:squarederror',"
   ]
  },
  {
   "cell_type": "code",
   "execution_count": null,
   "id": "1982e808",
   "metadata": {},
   "outputs": [],
   "source": [
    "\n",
    "\n",
    "search_grid_cur = list ( genParList(search_grid, ['max_depth','min_child_weight']) )\n",
    "list(   search_grid_cur )"
   ]
  },
  {
   "cell_type": "code",
   "execution_count": null,
   "id": "5a05c0c5",
   "metadata": {},
   "outputs": [],
   "source": [
    "list(search_grid_cur)"
   ]
  },
  {
   "cell_type": "code",
   "execution_count": null,
   "id": "82f4bd62",
   "metadata": {},
   "outputs": [],
   "source": [
    "help(xgb.cv)"
   ]
  },
  {
   "cell_type": "code",
   "execution_count": null,
   "id": "7fabea0a",
   "metadata": {},
   "outputs": [],
   "source": [
    "dtrain.__dict__.keys()"
   ]
  },
  {
   "cell_type": "code",
   "execution_count": null,
   "id": "52c1e3b1",
   "metadata": {},
   "outputs": [],
   "source": [
    "dtrain."
   ]
  },
  {
   "cell_type": "code",
   "execution_count": null,
   "id": "54617c91",
   "metadata": {},
   "outputs": [],
   "source": [
    "\n",
    "\n",
    "best_params,cv_results_best= gridSearch(dtrain, params, search_grid, \n",
    "    ['max_depth','min_child_weight'], printLog= 1, nfold=3, seed=1 )\n",
    "min_mae = cv_results_best['test-mae-mean'].min()\n",
    "boost_rounds = cv_results_best['test-mae-mean'].argmin()\n",
    "print(\"Best params: {}, MAE: {}, nbr {}\".\n",
    "      format(best_params, min_mae, boost_rounds))"
   ]
  },
  {
   "cell_type": "code",
   "execution_count": null,
   "id": "33af6ed8",
   "metadata": {},
   "outputs": [],
   "source": [
    "cv_results_best"
   ]
  },
  {
   "cell_type": "code",
   "execution_count": null,
   "id": "4c805605",
   "metadata": {},
   "outputs": [],
   "source": [
    "search_grid"
   ]
  },
  {
   "cell_type": "code",
   "execution_count": null,
   "id": "77ff61ed",
   "metadata": {},
   "outputs": [],
   "source": [
    "params_mod = dict( params.items() )"
   ]
  },
  {
   "cell_type": "code",
   "execution_count": null,
   "id": "6f26dd61",
   "metadata": {},
   "outputs": [],
   "source": [
    "params"
   ]
  },
  {
   "cell_type": "code",
   "execution_count": null,
   "id": "f6d05298",
   "metadata": {},
   "outputs": [],
   "source": [
    "params_mod['max_depth'] = 3"
   ]
  },
  {
   "cell_type": "code",
   "execution_count": null,
   "id": "833e42d7",
   "metadata": {},
   "outputs": [],
   "source": [
    "param_list_search_seq = [ ['max_depth','min_child_weight'], ['subsample', 'eta'] ]\n",
    "\n",
    "\n",
    "\n",
    "\n",
    "gridSearchSeq(params,search_grid,param_list_search_seq)"
   ]
  },
  {
   "cell_type": "code",
   "execution_count": null,
   "id": "d41776d7",
   "metadata": {},
   "outputs": [],
   "source": [
    "print(params_mod)"
   ]
  },
  {
   "cell_type": "code",
   "execution_count": null,
   "id": "f4847793",
   "metadata": {},
   "outputs": [],
   "source": [
    "import time\n",
    "s = time.time()"
   ]
  },
  {
   "cell_type": "code",
   "execution_count": null,
   "id": "28be2662",
   "metadata": {},
   "outputs": [],
   "source": [
    "time.time() - s"
   ]
  }
 ],
 "metadata": {
  "kernelspec": {
   "display_name": "Python 3",
   "language": "python",
   "name": "python3"
  },
  "language_info": {
   "codemirror_mode": {
    "name": "ipython",
    "version": 3
   },
   "file_extension": ".py",
   "mimetype": "text/x-python",
   "name": "python",
   "nbconvert_exporter": "python",
   "pygments_lexer": "ipython3",
   "version": "3.8.10"
  }
 },
 "nbformat": 4,
 "nbformat_minor": 5
}
