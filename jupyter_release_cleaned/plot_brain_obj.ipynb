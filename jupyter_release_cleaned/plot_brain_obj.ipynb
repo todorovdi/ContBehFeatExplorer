{
 "cells": [
  {
   "cell_type": "code",
   "execution_count": null,
   "metadata": {},
   "outputs": [],
   "source": [
    "%matplotlib inline\n",
    "%load_ext autoreload\n",
    "%autoreload 2"
   ]
  },
  {
   "cell_type": "code",
   "execution_count": null,
   "metadata": {},
   "outputs": [],
   "source": [
    "sind_strs = [ 'S01', 'S02', 'S03', 'S04', 'S05', 'S07' ]"
   ]
  },
  {
   "cell_type": "code",
   "execution_count": null,
   "metadata": {},
   "outputs": [],
   "source": [
    "#sind_strs = [ 'S01', 'S02', 'S03', 'S04', 'S05', 'S07' ]\n",
    "\n",
    "import globvars as gv\n",
    "from os.path import join as pjoin\n",
    "from utils import loadROILabels, loadSurfAndGrids\n",
    "# it is very important to get the right order\n",
    "roi_labels, srcgroups, source_coords = loadROILabels()\n",
    "vis_info_per_subj = loadSurfAndGrids(sind_strs,None)\n",
    "cgMNI = vis_info_per_subj['S_default']"
   ]
  },
  {
   "cell_type": "code",
   "execution_count": null,
   "metadata": {},
   "outputs": [],
   "source": [
    "from visbrain.objects import BrainObj, ColorbarObj, SceneObj, SourceObj, RoiObj"
   ]
  },
  {
   "cell_type": "code",
   "execution_count": null,
   "metadata": {},
   "outputs": [],
   "source": [
    "# TODO: make colorbar numbers corresond to data, make sure I export the right thing (now maybe I export something wrong)"
   ]
  },
  {
   "cell_type": "code",
   "execution_count": null,
   "metadata": {},
   "outputs": [],
   "source": [
    "vals_per_source_list = []\n",
    "clim = None"
   ]
  },
  {
   "cell_type": "code",
   "execution_count": null,
   "metadata": {},
   "outputs": [],
   "source": [
    "#info['color_group_labels']\n",
    "#info['impr_per_medcond_per_pgn']\n",
    "#info.keys()"
   ]
  },
  {
   "cell_type": "markdown",
   "metadata": {
    "heading_collapsed": true
   },
   "source": [
    "# plotting brain maps for merged across subj, within medcond"
   ]
  },
  {
   "cell_type": "code",
   "execution_count": null,
   "metadata": {
    "hidden": true
   },
   "outputs": [],
   "source": [
    "intensities_all_valid = []\n",
    "ttl = 'brain_map_area_strength'\n",
    "modes = ['only'];        #ttl = 'brain_map_area_strength'\n",
    "#modes = ['LFPand_only']; #ttl = 'brain_map_LFP_and_area_strength'\n",
    "for mode in  modes:  # exclude\n",
    "    for medcond in ['on', 'off']:\n",
    "        fname_full = pjoin(gv.data_dir,subdir,f'EXPORT_{ttl}_medcond={medcond}_mode={mode}.npz')\n",
    "        f = np.load(fname_full,allow_pickle=1)\n",
    "        info = f['info'][()]\n",
    "\n",
    "        print(mode,medcond)\n",
    "        intensities = info['intensities']\n",
    "        intensities_all_valid += [intensities[1:]]\n",
    "        d = dict( zip(info['brain_area_labels'], intensities) )\n",
    "        print( d['Cerebellum'] )\n",
    "        \n",
    "ddgood = np.array(intensities_all_valid)\n",
    "clim = np.min(ddgood), np.max(ddgood)\n",
    "print(clim)\n",
    "\n",
    "####################################################################\n",
    "import plots, utils\n",
    "from plots import plot3DValPerParcel\n",
    "fit_to_brain = 1\n",
    "use_common_colorbar = 0\n",
    "if not use_common_colorbar:\n",
    "    clim = None\n",
    "\n",
    "renders = []\n",
    "infos = []\n",
    "\n",
    "radius_project = 1.3    \n",
    "subdir = 'joint_noskip'\n",
    "subdir_fig = 'output'\n",
    "plot_intremed = False\n",
    "\n",
    "for mode in  modes:  # exclude\n",
    "    for medcond in ['on', 'off']:\n",
    "        fname_full = pjoin(gv.data_dir,subdir,f'EXPORT_{ttl}_medcond={medcond}_mode={mode}.npz')\n",
    "        f = np.load(fname_full,allow_pickle=1)\n",
    "        info = f['info'][()]\n",
    "        infos += [info]\n",
    "        \n",
    "        d = dict( zip(info['brain_area_labels'], info['intensities']) )        \n",
    "        #intensitites = np.array(info['intensities'][1:] ) #/100\n",
    "        intensitites = np.array(info['intensities'] ) #/100\n",
    "\n",
    "        vals_per_source = utils.dupValsWithinParcel(info['brain_area_labels'],info['srcgrp_new'], intensitites)\n",
    "        vals_per_source_list += [vals_per_source.copy()]\n",
    "#         bads = np.isnan(vals_per_source)\n",
    "#         #vals_per_source[bads ] = np.min( vals_per_source[ ~bads ]  )\n",
    "#         vals_per_source[ bads ] = 0\n",
    "        print('vals_per_source  min', np.min( vals_per_source[~np.isnan(vals_per_source) ]) )\n",
    "\n",
    "        vi = vis_info_per_subj[sind_str]\n",
    "        vi['headsurfgrid_verts'] = info['coords']\n",
    "\n",
    "        title = f'medcond={medcond.upper()}_mode={mode}_fit{fit_to_brain}'\n",
    "        val_LFP = info['impr_per_medcond_per_pgn'][medcond].get('LFP', None)\n",
    "        print(f'title={title}, CB intensity={d[\"Cerebellum\"]}, LFP={val_LFP}, clim={clim}' )\n",
    "        #continue\n",
    "        figtitle = f'medcond={medcond.upper()}'\n",
    "        #for fit_to_brain in [ 0,1]:\n",
    "        #info['srcgrp_new'], info['color_group_labels'],\n",
    "        sc = plot3DValPerParcel(vals_per_source, val_LFP, vis_info_per_subj[sind_str],\n",
    "                           figtitle, show_supp=False, radius_project=radius_project, \n",
    "                           brain_translucent=False , bgcolor='black',\n",
    "                          sources_visible = False, \n",
    "                               fit_to_brain= fit_to_brain,\n",
    "                              clim = clim, views=['left', 'right', 'bottom'], \n",
    "                                ww = 500*4 + 200, hh = 600)\n",
    "\n",
    "                \n",
    "        figfname_full= pjoin(gv.code_dir, subdir_fig, f'{title}_visbrain_rad{radius_project}.png')\n",
    "        render_result = plots.saveRenderVisBrainScene(sc,figfname_full, render_only = not plot_intremed)\n",
    "        \n",
    "        #sc,render_result = r\n",
    "        renders += [render_result]\n",
    "        \n",
    "renders_joined = np.vstack(renders)\n",
    "fig2_fname_full= pjoin(gv.code_dir, subdir_fig, f'{ttl}_{mode}_joined_visbrain_rad{radius_project}_commoncb{use_common_colorbar}.png')\n",
    "plots.array2png(renders_joined,fig2_fname_full)\n",
    "        "
   ]
  },
  {
   "cell_type": "markdown",
   "metadata": {},
   "source": [
    "# plotting brain maps for merged within medcond"
   ]
  },
  {
   "cell_type": "code",
   "execution_count": null,
   "metadata": {},
   "outputs": [],
   "source": [
    "vals_per_source_list = []\n",
    "clim = None\n",
    "#subdir = 'per_subj_per_medcond_best_LFP'\n",
    "subdir = 'per_subj_per_medcond_best_LFP_wholectx'"
   ]
  },
  {
   "cell_type": "code",
   "execution_count": null,
   "metadata": {},
   "outputs": [],
   "source": [
    "fn_full  = pjoin(gv.data_dir,subdir,'beh_states_durations.npz')\n",
    "countinfo = np.load(fn_full, allow_pickle=1)['arr_0'][()]\n",
    "\n",
    "countinfo"
   ]
  },
  {
   "cell_type": "code",
   "execution_count": null,
   "metadata": {},
   "outputs": [],
   "source": [
    "countinfo3 = {}\n",
    "countinfo4 = {}\n",
    "for k,item in countinfo.items():\n",
    "    cts = {}\n",
    "    l1,l2 = [],[]\n",
    "    for kk,ct in item['counts'].items():\n",
    "        scur = f'{ct / 32:.0f}s'\n",
    "        cts[kk.split('_')[0]] = scur\n",
    "        if kk.startswith('notrem'):\n",
    "            letter = 'Q'\n",
    "        elif kk.startswith('move'):\n",
    "            letter = 'G'\n",
    "        else:\n",
    "            letter = kk[0].upper()\n",
    "        l1 += [letter]\n",
    "        l2 += [scur]\n",
    "    baccpct = item['bacc'] * 100\n",
    "    cts['bacc'] = f'{int(baccpct)}%'\n",
    "    countinfo3[k[0]] = cts\n",
    "    countinfo4[k[0]] = f\"{','.join(l1)}={','.join(l2)}\"\n",
    "display(countinfo3)\n",
    "display(countinfo4)\n",
    "\n"
   ]
  },
  {
   "cell_type": "code",
   "execution_count": null,
   "metadata": {},
   "outputs": [],
   "source": [
    "countinfo2 = {}\n",
    "for k,item in countinfo.items():\n",
    "    countinfo2[k[0]] = item['infostr']\n",
    "countinfo2"
   ]
  },
  {
   "cell_type": "code",
   "execution_count": null,
   "metadata": {},
   "outputs": [],
   "source": [
    "import traceback\n",
    "import plots, utils\n",
    "from plots import plot3DValPerParcel\n",
    "\n",
    "info0 = None\n",
    "intensities_all_valid = []\n",
    "infos_all = {}\n",
    "#modes = ['only'];        #ttl = 'brain_map_area_strength'\n",
    "modes = ['LFPand_only']; #ttl = 'brain_map_LFP_and_area_strength'\n",
    "for sind_str in sind_strs:\n",
    "    infos_all[sind_str] = {}\n",
    "    for mode in  modes:  # exclude\n",
    "        infos_all[sind_str][mode] = {}\n",
    "        for medcond in ['on', 'off']:     \n",
    "            if medcond == 'on' and sind_str == 'S03':\n",
    "                continue\n",
    "            infos_all[sind_str][mode][medcond] = {}\n",
    "            ttl = f'brain_map_area_strength_{sind_str}_{medcond}'\n",
    "            fname_full = pjoin(gv.data_dir,subdir,f'EXPORT_{ttl}_medcond={medcond}_mode={mode}.npz')\n",
    "            f = np.load(fname_full,allow_pickle=1)\n",
    "            info = f['info'][()]  \n",
    "            \n",
    "            fname_full2 = pjoin(gv.data_dir,subdir,\\\n",
    "                   f'EXPORT_{ttl}_medcond={medcond}_mode=only.npz')\n",
    "            f2 = np.load(fname_full2,allow_pickle=1)\n",
    "            info2 = f2['info'][()]\n",
    "            \n",
    "            infos_all[sind_str][mode][medcond]['info'] = info\n",
    "            infos_all[sind_str][mode][medcond]['info_only'] = info2\n",
    "            \n",
    "            # consistency check just to calm nerves\n",
    "            for k,v in info['impr_per_medcond_per_pgn']['on'].items():\n",
    "                assert v == info['intensities'][ info['brain_area_labels'].index(k) ]\n",
    "\n",
    "            print(mode,medcond)\n",
    "            intensities = info['intensities']\n",
    "            intensities_all_valid += [intensities[1:]]\n",
    "            d = dict( zip(info['brain_area_labels'], intensities) )\n",
    "            print( d['Cerebellum'] )\n",
    "            \n",
    "            if sind_str == 'S01':\n",
    "                info0 = info\n",
    "        "
   ]
  },
  {
   "cell_type": "code",
   "execution_count": null,
   "metadata": {},
   "outputs": [],
   "source": [
    "# mc = 'on'\n",
    "# i1 = infos_all['S01']['LFPand_only'][mc]['info']['impr_per_medcond_per_pgn'][mc]\n",
    "# i2 = infos_all['S01']['LFPand_only'][mc]['info_only']['impr_per_medcond_per_pgn'][mc]\n",
    "# display(i1)\n",
    "# display(i2)"
   ]
  },
  {
   "cell_type": "code",
   "execution_count": null,
   "metadata": {},
   "outputs": [],
   "source": [
    "ddgood = np.array(intensities_all_valid)\n",
    "ddgood = ddgood[~np.isnan(ddgood)]\n",
    "clim = np.min(ddgood), np.max(ddgood)\n",
    "print(clim)\n",
    "\n",
    "####################################################################\n",
    "\n",
    "use_common_colorbar = 1\n",
    "colorbar_individ_show = 0\n",
    "if not use_common_colorbar:\n",
    "    clim = None\n",
    "    \n",
    "print('clim = ',clim)\n",
    "\n",
    "renders = []\n",
    "infos = {}\n",
    "\n",
    "fix_vis_info = True\n",
    "subdir_fig = 'output'\n",
    "#plot_intremed = False\n",
    "plot_intremed = True\n",
    "figtitle_inc_durations = False\n",
    "figtitle_inc_LFP_plus_best = False\n",
    "use_mod_sourcegrid = 1\n",
    "show_supp = 0\n",
    "fit_to_brain_def = 0\n",
    "ERRORS = []\n",
    "hhdef = 900\n",
    "wwdef = 300*4 + 200\n",
    "crop_out_def = (0,230,0,480)  #x,-y_top,-x_right,-y_bottom  # y counted top to bottom\n",
    "empty = np.zeros( (hhdef, wwdef, 4) )\n",
    "all_renders = np.zeros( (len(sind_strs) * hhdef, 2* wwdef, 4) )\n",
    "fig_fnames_full = []\n",
    "figtitles = []\n",
    "plotinfos = {}\n",
    "radius_project = 1.3\n",
    "fit_to_brain = 0\n",
    "\n",
    "for rowi,sind_str in enumerate(sind_strs):\n",
    "#for sind_str in ['S03']:\n",
    "    if not fix_vis_info:\n",
    "        if sind_str == 'S07':\n",
    "            fit_to_brain = 0\n",
    "            radius_project = 2.1\n",
    "        else:\n",
    "            fit_to_brain = fit_to_brain_def\n",
    "            radius_project = 1.3    \n",
    "    infos[sind_str] = {}\n",
    "    \n",
    "    for mode in  modes:  # exclude\n",
    "        for mmci,medcond in enumerate( ['off', 'on'] ):\n",
    "            plotinfo_cur = {}\n",
    "            plotinfos[(sind_str,medcond,mode)] = plotinfo_cur\n",
    "            if medcond == 'on' and sind_str == 'S03':\n",
    "                ww2,hh2 = wwdef,hhdef\n",
    "                x2,y2=0,0\n",
    "                if crop_out is not None:\n",
    "                    x2 += crop_out_def[0]\n",
    "                    y2 += crop_out_def[1]\n",
    "                    ww2 -= crop_out_def[2]\n",
    "                    hh2 -= crop_out_def[3]\n",
    "                render_result = empty[y2:y2+hh2,:][:,x2:x2+ww2]\n",
    "                renders += [render_result] \n",
    "                continue\n",
    "            ttl = f'brain_map_area_strength_{sind_str}_{medcond}'\n",
    "            print('Starting producing figure ',ttl)\n",
    "            fname_full = pjoin(gv.data_dir,subdir,f'EXPORT_{ttl}_medcond={medcond}_mode={mode}.npz')\n",
    "            f = np.load(fname_full,allow_pickle=1)\n",
    "            info = f['info'][()]\n",
    "            infos[sind_str][medcond] = info            \n",
    "            \n",
    "            fname_full2 = pjoin(gv.data_dir,subdir,\\\n",
    "                   f'EXPORT_{ttl}_medcond={medcond}_mode=only.npz')\n",
    "            f2 = np.load(fname_full2,allow_pickle=1)\n",
    "            info2 = f2['info'][()]\n",
    "            \n",
    "            if sind_str == 'S01':\n",
    "                info0 = info\n",
    "            \n",
    "            plotinfo_cur['fname_full'] = fname_full\n",
    "            plotinfo_cur['fname_full2'] = fname_full2\n",
    "            plotinfo_cur['info'] = info\n",
    "            plotinfo_cur['info2'] = info2\n",
    "            \n",
    "            infos[sind_str][medcond]['info2'] = info2\n",
    "\n",
    "            d = dict( zip(info['brain_area_labels'], info['intensities']) )        \n",
    "            #intensitites = np.array(info['intensities'][1:] ) #/100\n",
    "            intensitites = np.array(info['intensities'] ) #/100\n",
    "\n",
    "            try:\n",
    "                vals_per_source = utils.dupValsWithinParcel(info['brain_area_labels'],info['srcgrp_new'], intensitites)\n",
    "                vals_per_source_list += [vals_per_source.copy()]\n",
    "        #         bads = np.isnan(vals_per_source)\n",
    "        #         #vals_per_source[bads ] = np.min( vals_per_source[ ~bads ]  )\n",
    "        #         vals_per_source[ bads ] = 0\n",
    "                print('vals_per_source  min', np.min( vals_per_source[~np.isnan(vals_per_source) ]) )\n",
    "                \n",
    "                if fix_vis_info:\n",
    "                    vi = vis_info_per_subj[sind_strs[0]  ]\n",
    "                    vi = dict(vi.items() ) # copy\n",
    "                    vi['headsurfgrid_verts'] = info0['coords']\n",
    "                    vi['headsurfgrid_mod_verts'] = source_coords\n",
    "                else:\n",
    "                    vi = vis_info_per_subj[sind_str]\n",
    "                    vi = dict(vi.items() ) # copy\n",
    "                    vi['headsurfgrid_verts'] = info['coords']\n",
    "\n",
    "                title = f'{sind_str}_medcond={medcond.upper()}_mode={mode}_fit{fit_to_brain}'\n",
    "                val_LFP = info['impr_per_medcond_per_pgn'][medcond].get('LFP', None)\n",
    "                print(f'title={title}, CB intensity={d[\"Cerebellum\"]}, LFP={val_LFP}%, clim={clim}' )\n",
    "                #continue\n",
    "                LFP_val = info2['impr_per_medcond_per_pgn'][medcond]['LFP']\n",
    "                \n",
    "                plotinfo_cur['LFP_val_mode=only'] = LFP_val\n",
    "                plotinfo_cur['countinfo4'] = countinfo4[f'{sind_str}_{medcond}']\n",
    "                \n",
    "                impr_absolute = info2['impr_per_medcond_per_pgn'][medcond]\n",
    "                best_area = max(impr_absolute, key=impr_absolute.get)\n",
    "                #best = info2[best_area] #NO, it is single area W/O LFP!\n",
    "                best = np.max(intensitites[~np.isnan(intensitites)]) + LFP_val\n",
    "                #assert np.abs(best - best_) < 1e-2\n",
    "#                 figtitle = f'{sind_str} {medcond.upper()}' +\\\n",
    "#                 f',   LFP perf={LFP_val:.1f}%,  LFP+{best_area}={best:.1f}%'\n",
    "                figtitle = f'{sind_str} {medcond.upper()}' +\\\n",
    "                f',   LFP perf={LFP_val:.0f}%\\n'\n",
    "                if figtitle_inc_LFP_plus_best:\n",
    "                    figtitle += f'LFP+{best_area}={best:.0f}%'\n",
    "                #figtitle += '\\n' + countinfo2[f'{sind_str}_{medcond}']                \n",
    "                if figtitle_inc_durations:\n",
    "                    figtitle += '\\n' + plotinfo_cur['countinfo4']\n",
    "                \n",
    "                \n",
    "                plotinfo_cur['figtitle'] = figtitle\n",
    "                \n",
    "                \n",
    "                # max(my_dict, key=my_dict.get)\n",
    "                #for fit_to_brain in [ 0,1]:\n",
    "                #info['srcgrp_new'], info['color_group_labels'],\n",
    "                figtitle_on_individ_plot = figtitle #+ f',   LFP perf={LFP_val:.2f}'\n",
    "                figtitle_on_individ_plot = ''\n",
    "                \n",
    "                if show_supp:\n",
    "                    hh = None\n",
    "                else:\n",
    "                    hh = hhdef\n",
    "                #vis_info_per_subj[sind_str]\n",
    "                sc = plot3DValPerParcel(vals_per_source, val_LFP, vi,\n",
    "                                   figtitle_on_individ_plot, show_supp=show_supp, fit_supp_to_brain = fit_to_brain,\n",
    "                                        radius_project=radius_project, \n",
    "                                   brain_translucent=False , bgcolor='black',\n",
    "                                  sources_visible = False, \n",
    "                                       fit_to_brain= fit_to_brain, use_mod_sourcegrid=use_mod_sourcegrid,\n",
    "                                      clim = clim, views=['left', 'right', 'bottom'], \n",
    "                                        ww = wwdef, hh = hh, \n",
    "                                        colorbar = colorbar_individ_show)\n",
    "                \n",
    "            except AssertionError as e:                \n",
    "                #sys.exc_info()\n",
    "                ERRORS += [(ttl + '_' + mode, e, traceback.format_exc())]\n",
    "                print(str(e))\n",
    "                continue\n",
    "\n",
    "\n",
    "            figfname_full= pjoin(gv.code_dir, subdir_fig, \n",
    "                    f'{title}_visbrain_rad{radius_project}.png')\n",
    "            figfname_crp_full= pjoin(gv.code_dir, subdir_fig, \n",
    "                    f'{title}_visbrain_rad{radius_project}_crp.png')\n",
    "            fig_fnames_full += [figfname_full]\n",
    "            figtitles += [figtitle]\n",
    "            if show_supp:\n",
    "                crop_out = None\n",
    "            else:\n",
    "                crop_out = crop_out_def \n",
    "            render_result = plots.saveRenderVisBrainScene(sc,figfname_full, render_only = not plot_intremed,\n",
    "                                    crop_out = None)\n",
    "            render_result = plots.saveRenderVisBrainScene(sc,figfname_crp_full, render_only = not plot_intremed,\n",
    "                                    crop_out = crop_out)\n",
    "            \n",
    "            \n",
    "            if not show_supp:\n",
    "                all_renders[rowi * hhdef:(rowi+1) * hhdef,:,:][:, mmci * wwdef: (mmci+1) * wwdef, : ] = sc.render()\n",
    "            #sc,render_result = r\n",
    "            renders += [render_result]\n",
    "            plotinfo_cur['render_result'] = render_result\n",
    "            plotinfo_cur['figfname_full'] = figfname_full\n",
    "        \n",
    "renders_joined = np.vstack(renders)\n",
    "fig2_fname_full= pjoin(gv.code_dir, subdir_fig, \n",
    "    f'{ttl}_{mode}_joined_visbrain_rad{radius_project}_commoncb{use_common_colorbar}.png')\n",
    "plots.array2png(renders_joined,fig2_fname_full)\n",
    "\n",
    "if not show_supp:\n",
    "    fig2_fname_table_full= pjoin(gv.code_dir, subdir_fig, f'{ttl}_{mode}_joined_table_visbrain_rad{radius_project}_commoncb{use_common_colorbar}.png')\n",
    "    plots.array2png(all_renders,fig2_fname_table_full)\n",
    "    \n",
    "fname_zeros_full = pjoin(gv.code_dir,subdir_fig,'zeros.png')\n",
    "plots.array2png(render_result*0,  fname_zeros_full)"
   ]
  },
  {
   "cell_type": "markdown",
   "metadata": {},
   "source": [
    "## Gather final"
   ]
  },
  {
   "cell_type": "code",
   "execution_count": null,
   "metadata": {},
   "outputs": [],
   "source": [
    "plotinfo_cur.keys()"
   ]
  },
  {
   "cell_type": "code",
   "execution_count": null,
   "metadata": {},
   "outputs": [],
   "source": [
    "import matplotlib.pyplot as plt\n",
    "plt.rc('axes', titlesize=18)\n",
    "plt.rc('ytick', labelsize=18)\n",
    "\n",
    "tpls = []\n",
    "for rowi,sind_str in enumerate(sind_strs):\n",
    "#for sind_str in ['S03']:\n",
    "    for mode in  modes:  # exclude\n",
    "        for mmci,medcond in enumerate( ['off', 'on'] ):        \n",
    "            plotinfo_cur = plotinfos[(sind_str,medcond,mode)]\n",
    "            p = plotinfo_cur.get('figfname_full',fname_zeros_full)\n",
    "#             p = plotinfo_cur.get('render_result',None)\n",
    "#             if p is None:\n",
    "#                 p = np.zeros((100,100,4))\n",
    "            LFP_val = plotinfo_cur.get('LFP_val_mode=only',np.nan)\n",
    "            if 'figfname_full' not in plotinfo_cur:\n",
    "                ttl = ''\n",
    "            else:\n",
    "                #ttl = f'{sind_str} {medcond.upper()}; LFP perf = {LFP_val:.1f}'\n",
    "                ttl = plotinfo_cur['figtitle']\n",
    "            tpl = (p, ttl)\n",
    "            tpls += [tpl ]\n",
    "fnames,titles = zip(*tpls)\n",
    "            \n",
    "from visbrain.gui import Figure\n",
    "\n",
    "grid_dim = len(plotinfos) // 2, 2\n",
    "#figsize = (grid_dim[0] * 500, grid_dim[1] * 500)\n",
    "figsize = (grid_dim[1] * 5, grid_dim[0] * 4 - 7)\n",
    "\n",
    "subspace = {'wspace': 0.1, 'left': 0., 'wspace':0.15, 'hspace':0.05}\n",
    "f = Figure(fnames, titles=titles, figtitle='Performances per subject', \n",
    "           grid=grid_dim, ax_bgcolor='black',\n",
    "           y=1., fig_bgcolor='black', figsize=figsize,\n",
    "           text_color='white', subspace=subspace, autoresize=1, autocrop=1)\n",
    "\n",
    "clim = np.round( np.array( clim ), 1 )\n",
    "ticks = [clim[0], 0., clim[1] ]\n",
    "#ticks = [clim[0], 0, np.round(clim[1],1) ]\n",
    "f.shared_colorbar(clim=clim, cmap='plasma', fz_title=15,\n",
    "                  under='olive', over='firebrick', position='right',\n",
    "                  title='Performance increase, compared to LFP alone', \n",
    "                  fz_ticks=15, pltmargin=.05,\n",
    "                  figmargin=.1, ticks=ticks, ycb=15)\n",
    "\n",
    "figname = 'Brains_for_pub.png'\n",
    "figname_full = pjoin(gv.code_dir,subdir_fig,figname)\n",
    "f.save(figname_full, dpi=300);\n",
    "#f.close()\n",
    "#plt.close()"
   ]
  },
  {
   "cell_type": "code",
   "execution_count": null,
   "metadata": {},
   "outputs": [],
   "source": [
    "sc.canvas.size"
   ]
  },
  {
   "cell_type": "code",
   "execution_count": null,
   "metadata": {},
   "outputs": [],
   "source": [
    "renders_joined = np.vstack(renders)\n",
    "sstr = ','.join(sind_strs)\n",
    "fig2_fname_full= pjoin(gv.code_dir, subdir_fig, f'{sstr}_{mode}_joined_visbrain_rad{radius_project}_commoncb{use_common_colorbar}.png')\n",
    "plots.array2png(renders_joined,fig2_fname_full)"
   ]
  },
  {
   "cell_type": "code",
   "execution_count": null,
   "metadata": {},
   "outputs": [],
   "source": []
  },
  {
   "cell_type": "code",
   "execution_count": null,
   "metadata": {},
   "outputs": [],
   "source": [
    "EXPORT_brain_map_LFP_and_area_strength_medcond=on_mode=only.npz\n",
    "EXPORT_brain_map_LFP_and_area_strength_medcond=on_mode=LFPand_only.npz"
   ]
  },
  {
   "cell_type": "code",
   "execution_count": null,
   "metadata": {},
   "outputs": [],
   "source": [
    "#infos"
   ]
  },
  {
   "cell_type": "code",
   "execution_count": null,
   "metadata": {},
   "outputs": [],
   "source": []
  },
  {
   "cell_type": "markdown",
   "metadata": {},
   "source": [
    "## Create duration table"
   ]
  },
  {
   "cell_type": "code",
   "execution_count": null,
   "metadata": {},
   "outputs": [],
   "source": [
    "\n",
    "subjs = sorted(set([a.split('_')[0] for a in countinfo3.keys()] ) )\n",
    "medconds = sorted(set([a.split('_')[1] for a in countinfo3.keys()] ) )\n",
    "bstates = list( list(countinfo3.values() )[0].keys()  )  # fixed order\n",
    "\n",
    "lines = []\n",
    "line = 'subj,'\n",
    "for mc in medconds:\n",
    "    for bc in bstates:\n",
    "        line += f'{mc.upper()}_{bc},'\n",
    "lines += [line+ '\\n']\n",
    "for s in subjs:\n",
    "    line = f'{s},'\n",
    "    for mc in medconds:\n",
    "        rn = f'{s}_{mc}'\n",
    "        d = countinfo3.get(rn,None)        \n",
    "        for bc in bstates:            \n",
    "            if d is None:\n",
    "                v = ''\n",
    "            else:\n",
    "                v = d[bc]#[:-1]\n",
    "            line +=  f'{v},'\n",
    "    lines += [line + '\\n']\n",
    "\n",
    "display(lines)\n",
    "sd = pjoin(gv.dir_fig,subdir)\n",
    "if not os.path.exists(sd):\n",
    "    os.makedirs(sd)\n",
    "durtable_fn = pjoin(sd,'duration_table.csv')\n",
    "with open(durtable_fn,'w') as f:\n",
    "    f.writelines(lines)\n",
    "    "
   ]
  },
  {
   "cell_type": "code",
   "execution_count": null,
   "metadata": {},
   "outputs": [],
   "source": [
    "info['brain_area_labels']"
   ]
  },
  {
   "cell_type": "code",
   "execution_count": null,
   "metadata": {},
   "outputs": [],
   "source": [
    "vals_per_source = utils.dupValsWithinParcel(info['brain_area_labels'],info['srcgrp_new'], intensitites)\n",
    "cb_inds = np.where( info['srcgrp_new'] == info['brain_area_labels'].index('Cerebellum') )[0]\n",
    "cb_vals = vals_per_source[cb_inds]\n",
    "cb_vals"
   ]
  },
  {
   "cell_type": "code",
   "execution_count": null,
   "metadata": {},
   "outputs": [],
   "source": [
    "for vv in vals_per_source_list[-2:]:\n",
    "    ar = vv[~np.isnan(vv)]\n",
    "    a = np.min(  ar)\n",
    "    aa = np.max(  ar)\n",
    "    cb_vals = vv[cb_inds]\n",
    "    print(a,aa, cb_vals, np.max(ar))"
   ]
  },
  {
   "cell_type": "code",
   "execution_count": null,
   "metadata": {},
   "outputs": [],
   "source": [
    "renders_joined = np.vstack(renders)  # vertically,  hstack would be horizontally\n",
    "fig2_fname_full= pjoin(gv.code_dir, subdir_fig, f'joined_visbrain_rad{radius_project}.png')\n",
    "plots.array2png(renders_joined,fig2_fname_full)\n"
   ]
  },
  {
   "cell_type": "code",
   "execution_count": null,
   "metadata": {},
   "outputs": [],
   "source": [
    "from visbrain.objects import SceneObj, BrainObj, SourceObj, RoiObj\n",
    "\n",
    "\n",
    "tris = vi['headsurf_tris']\n",
    "verts =  vi['headsurf_verts'] * 10 #- 1.\n",
    "\n",
    "tc = True\n",
    "b_obj = BrainObj(f'brainsurf', translucent=tc, vertices=verts,\n",
    "                    faces=tris,  hemisphere='both')\n",
    "\n",
    "\n",
    "roi_aal = RoiObj('aal')\n",
    "idx_th = roi_aal.where_is('Thalamus (L)')\n",
    "r = roi_aal.select_roi(select=idx_th)\n",
    "\n",
    "mean_v = np.mean(roi_aal.vertices, axis=0)\n",
    "xyz = mean_v[None,:]\n",
    "radius_supp = 2\n",
    "RADINFO = dict(radius_min=radius_supp, radius_max = radius_supp)\n",
    "s_obj  = SourceObj ('mysrc', xyz, data=[1.], cmap='inferno', **RADINFO)\n",
    "\n",
    "s_obj.project_sources(roi_aal, cmap='plasma', radius = 20, clim=(-1,1))\n",
    "#, clim=(-1., 1.), vmin=-.5, vmax=.7, under='gray', over='red', radius = 5\n",
    "\n",
    "sc = SceneObj(bgcolor='white', size=(1500, 500))\n",
    "sc.add_to_subplot(b_obj, rotate='left', zoom=2)\n",
    "sc.add_to_subplot(roi_aal, rotate='left')\n",
    "sc.add_to_subplot(s_obj, rotate='left')\n",
    "\n",
    "\n",
    "sc.preview()"
   ]
  },
  {
   "cell_type": "code",
   "execution_count": null,
   "metadata": {},
   "outputs": [],
   "source": [
    "help(sc.preview)"
   ]
  },
  {
   "cell_type": "code",
   "execution_count": null,
   "metadata": {},
   "outputs": [],
   "source": [
    "import matplotlib.pyplot as plt\n",
    "plt.hist(  roi_aal.vertices[:,0] )"
   ]
  },
  {
   "cell_type": "code",
   "execution_count": null,
   "metadata": {},
   "outputs": [],
   "source": [
    "lvls = [7, 12, 20, 36, 64, 122]\n",
    "lvl = lvls[5]; print(lvl)"
   ]
  },
  {
   "cell_type": "code",
   "execution_count": null,
   "metadata": {},
   "outputs": [],
   "source": [
    "roi_dmn = RoiObj(f'mist_{lvl}')\n",
    "lbls2 = roi_dmn.get_labels()"
   ]
  },
  {
   "cell_type": "code",
   "execution_count": null,
   "metadata": {},
   "outputs": [],
   "source": [
    "lbls2.columns"
   ]
  },
  {
   "cell_type": "code",
   "execution_count": null,
   "metadata": {},
   "outputs": [],
   "source": [
    "for l in list(lbls2[f'name_{lvl}']):\n",
    "    if l.lower().find('thal') >= 0:\n",
    "        print(l)"
   ]
  },
  {
   "cell_type": "code",
   "execution_count": null,
   "metadata": {},
   "outputs": [],
   "source": [
    "#idx_th"
   ]
  },
  {
   "cell_type": "code",
   "execution_count": null,
   "metadata": {},
   "outputs": [],
   "source": [
    "idx_th = roi_dmn.where_is('Thalamus ventral')\n",
    "roi_dmn.select_roi(select=idx_th)\n",
    "plt.hist(  roi_dmn.vertices[:,0] )"
   ]
  },
  {
   "cell_type": "code",
   "execution_count": null,
   "metadata": {},
   "outputs": [],
   "source": [
    "list( lbls2[f'name_{lvl}'] )"
   ]
  },
  {
   "cell_type": "code",
   "execution_count": null,
   "metadata": {},
   "outputs": [],
   "source": [
    "help(roi_aal.select_roi)"
   ]
  },
  {
   "cell_type": "code",
   "execution_count": null,
   "metadata": {},
   "outputs": [],
   "source": [
    "lbls = roi_aal.get_labels()"
   ]
  },
  {
   "cell_type": "code",
   "execution_count": null,
   "metadata": {},
   "outputs": [],
   "source": [
    "list( lbls.aal )"
   ]
  },
  {
   "cell_type": "code",
   "execution_count": null,
   "metadata": {},
   "outputs": [],
   "source": [
    "roi_aal.where_is"
   ]
  },
  {
   "cell_type": "code",
   "execution_count": null,
   "metadata": {},
   "outputs": [],
   "source": [
    "roi_to_find1('brodmann')                      # Switch to Brodmann\n",
    "idx_ba6 = roi_to_find1.where_is('BA6')        # Find only BA6\n",
    "print(ref_brod.loc[idx_ba6])"
   ]
  },
  {
   "cell_type": "code",
   "execution_count": null,
   "metadata": {},
   "outputs": [],
   "source": []
  },
  {
   "cell_type": "code",
   "execution_count": null,
   "metadata": {},
   "outputs": [],
   "source": []
  },
  {
   "cell_type": "code",
   "execution_count": null,
   "metadata": {},
   "outputs": [],
   "source": []
  },
  {
   "cell_type": "code",
   "execution_count": null,
   "metadata": {},
   "outputs": [],
   "source": [
    "import imageio\n",
    "from skimage.io import imsave\n",
    "import numpy as np\n",
    "import imageio"
   ]
  },
  {
   "cell_type": "code",
   "execution_count": null,
   "metadata": {},
   "outputs": [],
   "source": [
    "import cv2"
   ]
  },
  {
   "cell_type": "code",
   "execution_count": null,
   "metadata": {},
   "outputs": [],
   "source": [
    "im = np.flip(sc.render(),axis=0)\n",
    "\n",
    "#import scipy.misc\n",
    "figname_full =  pjoin(gv.code_dir,'output','test.png')\n",
    "\n",
    "\n",
    "imageio.imwrite(figname_full, im )\n",
    "\n",
    "#imsave(figname_full, im )\n",
    "#cv2.imwrite(figname_full, im )\n"
   ]
  },
  {
   "cell_type": "code",
   "execution_count": null,
   "metadata": {},
   "outputs": [],
   "source": [
    "help(sc.render)"
   ]
  },
  {
   "cell_type": "code",
   "execution_count": null,
   "metadata": {},
   "outputs": [],
   "source": [
    "from mpl_render import RenderingImShow\n",
    "help(RenderingImShow)"
   ]
  },
  {
   "cell_type": "code",
   "execution_count": null,
   "metadata": {},
   "outputs": [],
   "source": [
    "vals_per_source"
   ]
  },
  {
   "cell_type": "code",
   "execution_count": null,
   "metadata": {},
   "outputs": [],
   "source": [
    "info"
   ]
  },
  {
   "cell_type": "code",
   "execution_count": null,
   "metadata": {},
   "outputs": [],
   "source": [
    "#srcgroups % 2\n",
    "srcgroups"
   ]
  },
  {
   "cell_type": "code",
   "execution_count": null,
   "metadata": {},
   "outputs": [],
   "source": [
    "roi_labels"
   ]
  },
  {
   "cell_type": "code",
   "execution_count": null,
   "metadata": {},
   "outputs": [],
   "source": [
    "((583, 3), (583,))"
   ]
  },
  {
   "cell_type": "code",
   "execution_count": null,
   "metadata": {},
   "outputs": [],
   "source": [
    "#vi['headsurfgrid_verts'].shape"
   ]
  },
  {
   "cell_type": "markdown",
   "metadata": {},
   "source": [
    "\n",
    "Brain object (BrainObj) : complete tutorial\n",
    "===========================================\n",
    "\n",
    "This example illustrate the main functionalities and inputs of the brain\n",
    "object i.e :\n",
    "\n",
    "  * Use included MNI brain template\n",
    "  * Select the hemisphere ('both', 'left', 'right')\n",
    "  * Use a translucent or opaque brain\n",
    "  * Project source's activity on the surface of the brain\n",
    "  * Parcellize the brain and send data to selected parcellates\n",
    "  * Add fMRI activation and MEG inverse solution\n",
    "\n",
    "Data for fMRI activations and MEG inverse solutoin comes from the PySurfer\n",
    "software (https://github.com/nipy/PySurfer/). Parcellation file comes from\n",
    "MNE-Python (https://github.com/mne-tools/mne-python).\n",
    "\n"
   ]
  },
  {
   "cell_type": "code",
   "execution_count": null,
   "metadata": {},
   "outputs": [],
   "source": [
    "import numpy as np\n",
    "\n",
    "from visbrain.objects import BrainObj, ColorbarObj, SceneObj, SourceObj\n",
    "from visbrain.io import download_file, read_stc"
   ]
  },
  {
   "cell_type": "markdown",
   "metadata": {},
   "source": [
    "Scene creation\n",
    "##############################################################################\n",
    " The SceneObj is Matplotlib subplot like in which, you can add visbrain's\n",
    " objects. We first create the scene with a black background, a fixed size\n",
    "\n"
   ]
  },
  {
   "cell_type": "code",
   "execution_count": null,
   "metadata": {},
   "outputs": [],
   "source": [
    "# Scene creation\n",
    "sc = SceneObj(bgcolor='black', size=(1400, 1000))\n",
    "# Colorbar default arguments. See `visbrain.objects.ColorbarObj`\n",
    "CBAR_STATE = dict(cbtxtsz=12, txtsz=10., width=.1, cbtxtsh=3.,\n",
    "                  rect=(-.3, -2., 1., 4.))\n",
    "KW = dict(title_size=14., zoom=1.2)"
   ]
  },
  {
   "cell_type": "markdown",
   "metadata": {},
   "source": [
    "<div class=\"alert alert-info\"><h4>Note</h4><p>The BrainObj can interact with sources (SourceObj). For example, if the\n",
    "    source object represent intracranial data (e.g iEEG) those sources can\n",
    "    be projected on the surface of the brain. This is an important feature\n",
    "    because intracranial implantations is usually subject dependant and the\n",
    "    projection is a good way to plot results across subjects. To illustrate\n",
    "    this feature, we provide a set of intracranial MNI coordinates.</p></div>\n",
    "\n"
   ]
  },
  {
   "cell_type": "code",
   "execution_count": null,
   "metadata": {},
   "outputs": [],
   "source": [
    "# Download iEEG coordinates and define some random data\n",
    "mat = np.load(download_file('xyz_sample.npz', astype='example_data'))\n",
    "xyz, subjects = mat['xyz'], mat['subjects']\n",
    "data = np.random.rand(xyz.shape[0])"
   ]
  },
  {
   "cell_type": "code",
   "execution_count": null,
   "metadata": {},
   "outputs": [],
   "source": [
    "xyz.shape, data.shape"
   ]
  },
  {
   "cell_type": "markdown",
   "metadata": {},
   "source": [
    "Basic brain using MNI template\n",
    "##############################################################################\n",
    " By default, Visbrain include several MNI brain templates (B1, B3, B3,\n",
    " inflated, white and shere).\n",
    "\n"
   ]
  },
  {
   "cell_type": "code",
   "execution_count": null,
   "metadata": {},
   "outputs": [],
   "source": [
    "# Translucent inflated BrainObj with both hemispheres displayed\n",
    "b_obj_fs = BrainObj('inflated', translucent=True, hemisphere='both')\n",
    "# Add the brain to the scene. Note that `row_span` means that the plot will\n",
    "# occupy two rows (row 0 and 1)\n",
    "sc.add_to_subplot(b_obj_fs, row=0, col=0, row_span=2,\n",
    "                  title='Translucent inflated brain template', **KW)"
   ]
  },
  {
   "cell_type": "markdown",
   "metadata": {},
   "source": [
    "Select the left or the right hemisphere\n",
    "##############################################################################\n",
    " You can use the `hemisphere` input to select either the 'left', 'right' or\n",
    " 'both' hemispheres.\n",
    "\n"
   ]
  },
  {
   "cell_type": "code",
   "execution_count": null,
   "metadata": {},
   "outputs": [],
   "source": [
    "# Opaque left hemispehre of the white matter\n",
    "b_obj_lw = BrainObj('white', hemisphere='left', translucent=False)\n",
    "sc.add_to_subplot(b_obj_lw, row=0, col=1, rotate='right',\n",
    "                  title='Left hemisphere', **KW)"
   ]
  },
  {
   "cell_type": "markdown",
   "metadata": {},
   "source": [
    "Projection iEEG data on the surface of the brain\n",
    "##############################################################################\n",
    " As explain above, we define a source object and project the source's activity\n",
    " on the surface of the brain\n",
    "\n"
   ]
  },
  {
   "cell_type": "code",
   "execution_count": null,
   "metadata": {},
   "outputs": [],
   "source": [
    "xyz.shape,  data.shape"
   ]
  },
  {
   "cell_type": "code",
   "execution_count": null,
   "metadata": {},
   "outputs": [],
   "source": [
    "# First, define a brain object used for the projection\n",
    "b_obj_proj = BrainObj('B3', hemisphere='both', translucent=False)\n",
    "# Define the source object\n",
    "s_obj = SourceObj('iEEG', xyz, data=data, cmap='inferno')\n",
    "# Just for fun, color sources according to the data :)\n",
    "s_obj.color_sources(data=data)\n",
    "# Project source's activity\n",
    "s_obj.project_sources(b_obj_proj, cmap='plasma')\n",
    "# Finally, add the source and brain objects to the subplot\n",
    "sc.add_to_subplot(s_obj, row=0, col=2, title='Project iEEG data', **KW)\n",
    "sc.add_to_subplot(b_obj_proj, row=0, col=2, rotate='left', use_this_cam=True)\n",
    "# Finally, add the colorbar :\n",
    "cb_proj = ColorbarObj(s_obj, cblabel='Projection of niEEG data', **CBAR_STATE)\n",
    "sc.add_to_subplot(cb_proj, row=0, col=3, width_max=200)"
   ]
  },
  {
   "cell_type": "markdown",
   "metadata": {},
   "source": [
    "<div class=\"alert alert-info\"><h4>Note</h4><p>Here, we used s_obj.project_sources(b_obj) to project source's activity\n",
    "    on the surface. We could also have used to b_obj.project_sources(s_obj)</p></div>\n",
    "\n"
   ]
  },
  {
   "cell_type": "markdown",
   "metadata": {},
   "source": [
    "Parcellize the brain\n",
    "##############################################################################\n",
    " Here, we parcellize the brain (using all parcellated included in the file).\n",
    " Note that those parcellates files comes from MNE-python.\n",
    "\n"
   ]
  },
  {
   "cell_type": "code",
   "execution_count": null,
   "metadata": {},
   "outputs": [],
   "source": [
    "# Download the annotation file of the left hemisphere lh.aparc.a2009s.annot\n",
    "path_to_file1 = download_file('lh.aparc.a2009s.annot', astype='example_data')\n",
    "# Define the brain object (now you should know how to do it)\n",
    "b_obj_parl = BrainObj('inflated', hemisphere='left', translucent=False)\n",
    "# Print parcellates included in the file\n",
    "# print(b_obj_parl.get_parcellates(path_to_file1))\n",
    "# Finally, parcellize the brain and add the brain to the scene\n",
    "b_obj_parl.parcellize(path_to_file1)\n",
    "sc.add_to_subplot(b_obj_parl, row=1, col=1, rotate='left',\n",
    "                  title='Parcellize using the Desikan Atlas', **KW)"
   ]
  },
  {
   "cell_type": "markdown",
   "metadata": {},
   "source": [
    "<div class=\"alert alert-info\"><h4>Note</h4><p>Those annotations files from MNE-python are only compatibles with the\n",
    "    inflated, white and sphere templates</p></div>\n",
    "\n"
   ]
  },
  {
   "cell_type": "markdown",
   "metadata": {},
   "source": [
    "Send data to parcellates\n",
    "##############################################################################\n",
    " Again, we download an annotation file, but this time for the right hemisphere\n",
    " The difference with the example above, is that this time we send some data\n",
    " to some specific parcellates\n",
    "\n"
   ]
  },
  {
   "cell_type": "code",
   "execution_count": null,
   "metadata": {},
   "outputs": [],
   "source": [
    "# Download the annotation file of the right hemisphere rh.aparc.annot\n",
    "path_to_file2 = download_file('rh.aparc.annot', astype='example_data')\n",
    "# Define the brain object (again... I know, this is redundant)\n",
    "b_obj_parr = BrainObj('inflated', hemisphere='right', translucent=False)\n",
    "# Print parcellates included in the file\n",
    "# print(b_obj_parr.get_parcellates(path_to_file2))\n",
    "# From the list of printed parcellates, we only select a few of them\n",
    "select_par = ['paracentral', 'precentral', 'fusiform', 'postcentral',\n",
    "              'superiorparietal', 'superiortemporal', 'inferiorparietal',\n",
    "              'inferiortemporal']\n",
    "# Now we define some data for each parcellates (one value per pacellate)\n",
    "data_par = [10., .1, 5., 7., 11., 8., 4., 6.]\n",
    "# Parcellize the brain with the selected parcellates. The data range is\n",
    "# between [.1, 11.]. Then, we use `vmin` and `vmax` to specify that we want\n",
    "# every parcellates under vmin to be gray and every parcellates over vmax\n",
    "# darkred\n",
    "b_obj_parr.parcellize(path_to_file2, select=select_par, hemisphere='right',\n",
    "                      cmap='viridis', data=data_par, clim=[.1, 11.], vmin=1.,\n",
    "                      vmax=10, under='gray', over='darkred')\n",
    "# Add the brain object to the scene\n",
    "sc.add_to_subplot(b_obj_parr, row=1, col=2, rotate='right',\n",
    "                  title='Send data to Desikan-Killiany parcellates', **KW)\n",
    "# Get the colorbar of the brain object and add it to the scene\n",
    "cb_parr = ColorbarObj(b_obj_parr, cblabel='Data to parcellates', **CBAR_STATE)\n",
    "sc.add_to_subplot(cb_parr, row=1, col=3, width_max=200)"
   ]
  },
  {
   "cell_type": "markdown",
   "metadata": {},
   "source": [
    "Custom brain template\n",
    "##############################################################################\n",
    " All of the examples above use MNI brain templates that are included inside\n",
    " visbrain. But you can define your own brain template using vertices and faces\n",
    "\n"
   ]
  },
  {
   "cell_type": "code",
   "execution_count": null,
   "metadata": {},
   "outputs": [],
   "source": [
    "# Download the vertices, faces and normals\n",
    "mat = np.load(download_file('Custom.npz', astype='example_data'))\n",
    "vert, faces, norms = mat['vertices'], mat['faces'], mat['normals']\n",
    "# By default, vertices are in millimeters so we multiply by 1000.\n",
    "vert *= 1000.\n",
    "# If your template represent a brain with both hemispheres, you can use the\n",
    "# `lr_index` to specify which vertices belong to the left or the right\n",
    "# hemisphere. Basically, `lr_index` is a boolean vector of shape (n_vertices,)\n",
    "# where True reflect locatino of the left hemisphere and False, the right\n",
    "# hemisphere\n",
    "lr_index = vert[0, :] <= 0.\n",
    "# Create the brain object and add it to the scene (this time it's a bit\n",
    "# different)\n",
    "b_obj_custom = BrainObj('Custom', vertices=vert, faces=faces,\n",
    "                        normals=norms, translucent=False)\n",
    "sc.add_to_subplot(b_obj_custom, row=2, col=0, title='Use a custom template',\n",
    "                  rotate='left', **KW)"
   ]
  },
  {
   "cell_type": "markdown",
   "metadata": {},
   "source": [
    "<div class=\"alert alert-info\"><h4>Note</h4><p>If you doesn't have the normals, it's not a big deal because if no\n",
    "    normals are provided, normals are going to be computed but it's a bit\n",
    "    slower. Then, you can save your template using `BrainObj.save`. This can\n",
    "    be convenient to reload your template later.</p></div>\n",
    "\n"
   ]
  },
  {
   "cell_type": "markdown",
   "metadata": {},
   "source": [
    "fMRI activation\n",
    "##############################################################################\n",
    " Add fMRI activations (included in a nii.gz file) to the surface. The provided\n",
    " file comes from MNE-python\n",
    "\n"
   ]
  },
  {
   "cell_type": "code",
   "execution_count": null,
   "metadata": {},
   "outputs": [],
   "source": [
    "# Download the lh.sig.nii.gz file\n",
    "file = download_file('lh.sig.nii.gz', astype='example_data')\n",
    "# Define the [...] you know\n",
    "b_obj_fmri = BrainObj('inflated', translucent=False, sulcus=True)\n",
    "# Add fMRI activation and hide every activation that is under 5.\n",
    "b_obj_fmri.add_activation(file=file, clim=(5., 20.), hide_under=5,\n",
    "                          cmap='viridis', hemisphere='left')\n",
    "sc.add_to_subplot(b_obj_fmri, row=2, col=1, title='Add fMRI activation',\n",
    "                  rotate='left', **KW)"
   ]
  },
  {
   "cell_type": "markdown",
   "metadata": {},
   "source": [
    "MEG inverse solution\n",
    "##############################################################################\n",
    " Finally, plot MEG inverse solution. The provided file comes from MNE-python\n",
    "\n"
   ]
  },
  {
   "cell_type": "code",
   "execution_count": null,
   "metadata": {},
   "outputs": [],
   "source": [
    "# Dowload meg_source_estimate-rh.stc file and load the data\n",
    "file = read_stc(download_file('meg_source_estimate-rh.stc',\n",
    "                              astype='example_data'))\n",
    "# Get the data of index 2 and the vertices\n",
    "data = file['data'][:, 2]\n",
    "vertices = file['vertices']"
   ]
  },
  {
   "cell_type": "code",
   "execution_count": null,
   "metadata": {},
   "outputs": [],
   "source": [
    "data.shape"
   ]
  },
  {
   "cell_type": "code",
   "execution_count": null,
   "metadata": {},
   "outputs": [],
   "source": [
    "# Dowload meg_source_estimate-rh.stc file and load the data\n",
    "file = read_stc(download_file('meg_source_estimate-rh.stc',\n",
    "                              astype='example_data'))\n",
    "# Get the data of index 2 and the vertices\n",
    "data = file['data'][:, 2]\n",
    "vertices = file['vertices']\n",
    "# You know...\n",
    "b_obj_meg = BrainObj('inflated', translucent=False, hemisphere='right',\n",
    "                     sulcus=True)\n",
    "# Add MEG data to the surface and hide every values under 5.\n",
    "b_obj_meg.add_activation(data=data, vertices=vertices, hemisphere='right',\n",
    "                         smoothing_steps=21, clim=(5., 17.), hide_under=5.,\n",
    "                         cmap='plasma')\n",
    "# Add the brain and the colorbar object to the scene\n",
    "sc.add_to_subplot(b_obj_meg, row=2, col=2, title='MEG inverse solution',\n",
    "                  rotate='right', **KW)\n",
    "cb_parr = ColorbarObj(b_obj_meg, cblabel='MEG data', **CBAR_STATE)\n",
    "sc.add_to_subplot(cb_parr, row=2, col=3, width_max=200)"
   ]
  },
  {
   "cell_type": "markdown",
   "metadata": {},
   "source": [
    "\"Fun\" stuff\n",
    "##############################################################################\n",
    " You can link 3D rotations of subplots which means that if you rotate one\n",
    " brain, the other linked object inherit from the same rotations. Finally, you\n",
    " can take a screenshot of the scene, without the need to open the window.\n",
    " This can be particulary convenient when scenes are included inside loops to\n",
    " automatize figure generation.\n",
    "\n"
   ]
  },
  {
   "cell_type": "code",
   "execution_count": null,
   "metadata": {},
   "outputs": [],
   "source": [
    "%pwd"
   ]
  },
  {
   "cell_type": "code",
   "execution_count": null,
   "metadata": {},
   "outputs": [],
   "source": [
    "CONFIG['MPL_RENDER']"
   ]
  },
  {
   "cell_type": "code",
   "execution_count": null,
   "metadata": {},
   "outputs": [],
   "source": [
    "# Link the rotation of subplots (row=0, col=1) and (row=1, col=2)\n",
    "# sc.link((0, 1), (1, 2))\n",
    "# Screenshot of the scene\n",
    "# sc.screenshot('ex_brain_obj.png', transparent=True)\n",
    "\n",
    "sc.preview()\n",
    "#/home/demitau/osccode/data_proc/\n",
    "#sc.screenshot(saveas='/home/demitau/visbrain.png', print_size=(5, 5))"
   ]
  },
  {
   "cell_type": "code",
   "execution_count": null,
   "metadata": {},
   "outputs": [],
   "source": []
  },
  {
   "cell_type": "code",
   "execution_count": null,
   "metadata": {},
   "outputs": [],
   "source": [
    "#help(fig.savefig)\n",
    "#    fig.savefig(\"/home/demitau/osccode/data_proc/output/visbrain.png\", dpi=300)\n"
   ]
  },
  {
   "cell_type": "code",
   "execution_count": null,
   "metadata": {},
   "outputs": [],
   "source": [
    "help(RenderingImShow)"
   ]
  },
  {
   "cell_type": "code",
   "execution_count": null,
   "metadata": {},
   "outputs": [],
   "source": [
    "help(sc)"
   ]
  },
  {
   "cell_type": "code",
   "execution_count": null,
   "metadata": {},
   "outputs": [],
   "source": [
    "import numpy as np\n",
    "from visbrain.objects import SourceObj  # Import a source object\n",
    "\n",
    "# Define 100 random 3D (x, y, z) coordinates :\n",
    "xyz = np.random.rand(100, 3)\n",
    "\n",
    "# Define a source object :\n",
    "s_obj = SourceObj('obj_name', xyz, color='green', symbol='square',\n",
    "                  edge_color='white')\n",
    "\n",
    "# Object preview with a black background:\n",
    "s_obj.preview(bgcolor='black')"
   ]
  },
  {
   "cell_type": "code",
   "execution_count": null,
   "metadata": {},
   "outputs": [],
   "source": [
    "import numpy as np\n",
    "from visbrain.objects import BrainObj, SceneObj, SourceObj\n",
    "\n",
    "# Define a source and a brain objects :\n",
    "b_obj_1 = BrainObj('white', translucent=False)\n",
    "b_obj_2 = BrainObj('B1')\n",
    "s_obj = SourceObj('my_sources', 50 * np.random.uniform(-1, 1, (100, 3)))\n",
    "\n",
    "# Define a scene with a black background:\n",
    "sc = SceneObj(bgcolor='black')\n",
    "\n",
    "# Add the first brain object to the scene :\n",
    "sc.add_to_subplot(b_obj_1, row=0, col=0)\n",
    "\n",
    "# Add the source and the first brain object to same subplot :\n",
    "sc.add_to_subplot(b_obj_2, row=0, col=1)\n",
    "sc.add_to_subplot(s_obj, row=0, col=1)\n",
    "\n",
    "# Finally, display the scene :\n",
    "sc.preview()"
   ]
  }
 ],
 "metadata": {
  "kernelspec": {
   "display_name": "Python 3",
   "language": "python",
   "name": "python3"
  },
  "language_info": {
   "codemirror_mode": {
    "name": "ipython",
    "version": 3
   },
   "file_extension": ".py",
   "mimetype": "text/x-python",
   "name": "python",
   "nbconvert_exporter": "python",
   "pygments_lexer": "ipython3",
   "version": "3.8.10"
  }
 },
 "nbformat": 4,
 "nbformat_minor": 1
}
