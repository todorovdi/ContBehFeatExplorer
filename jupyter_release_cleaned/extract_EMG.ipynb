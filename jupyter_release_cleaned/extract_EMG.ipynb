{
 "cells": [
  {
   "cell_type": "code",
   "execution_count": null,
   "id": "3652c06a",
   "metadata": {},
   "outputs": [],
   "source": [
    "import json\n",
    "with open('../subj_corresp.json', 'r') as f:\n",
    "  subj_corresp = json.load(f)"
   ]
  },
  {
   "cell_type": "code",
   "execution_count": null,
   "id": "66fd3122",
   "metadata": {},
   "outputs": [],
   "source": [
    "import json\n",
    "with open('../from_Hilbert/entries_full.json', 'r') as f:\n",
    "  entries_full = json.load(f)\n",
    "\n",
    "import json\n",
    "with open('../from_Hilbert/entries_trem_info.json', 'r') as f:\n",
    "  entries_trem_info = json.load(f)\n",
    "\n",
    "new_IDs_with_trem = []\n",
    "oldnames_with_trem = []\n",
    "for key,en in entries_trem_info.items():\n",
    "    istrem = en['rest tremor left med off'] or en['rest tremor right med off    ']\n",
    "    if istrem:\n",
    "        new_IDs_with_trem += [entries_full[key]['new_ID']]\n",
    "        oldnames_with_trem += [key]\n"
   ]
  },
  {
   "cell_type": "code",
   "execution_count": null,
   "id": "13c4400d",
   "metadata": {},
   "outputs": [],
   "source": [
    "rawdir = '/home/demitau/hhuc_gpfs/project/todorov/ai200/rawdata_copy'\n",
    "data_dir_input = rawdir"
   ]
  },
  {
   "cell_type": "code",
   "execution_count": null,
   "id": "785ce9c3",
   "metadata": {},
   "outputs": [],
   "source": [
    "len(new_IDs_with_trem)"
   ]
  },
  {
   "cell_type": "code",
   "execution_count": null,
   "id": "e6f6cd71",
   "metadata": {},
   "outputs": [],
   "source": []
  },
  {
   "cell_type": "code",
   "execution_count": null,
   "id": "160199c4",
   "metadata": {},
   "outputs": [],
   "source": [
    "inds = np.arange(40)  # 242 Gb\n",
    "inds = np.arange(40,48)  #75\n",
    "inds = np.arange(0,48)  #75\n",
    "new_IDs_to_to_process=list(sorted(new_IDs_with_trem)) \n",
    "new_IDs_to_to_process = np.array(new_IDs_to_to_process)[ inds]\n",
    "#\n",
    "new_IDs_to_to_process = ['S014']\n",
    "fnames_all = list(os.listdir(rawdir))\n",
    "fnames_per_new_ID = {}\n",
    "info_times = {}\n",
    "\n",
    "fname_full_list = []\n",
    "fname_list = []\n",
    "ERROR=False\n",
    "#for new_ID in patients_ids:\n",
    "for new_ID in new_IDs_to_to_process:\n",
    "#for oldname,d in entries_full.items():\n",
    "    fnames = [ fn for fn in fnames_all if fn.startswith(new_ID) ]\n",
    "    print(f'for new_ID={new_ID} found {len(fnames)} filenames')\n",
    "    if len(fnames):\n",
    "        fnames_per_new_ID[new_ID] = fnames\n",
    "        print(fnames)\n",
    "    else:\n",
    "        continue\n",
    "\n",
    "    info_times[new_ID] = {}\n",
    "\n",
    "    for fname in fnames:\n",
    "        fname_full = os.path.join(data_dir_input,fname)        \n",
    "        if not os.path.exists(fname_full):\n",
    "            print('Warning: path does not exist!, skip! {}'.format(fname_full))\n",
    "            continue\n",
    "        \n",
    "        fname_list += [fname]\n",
    "        fname_full_list += [fname_full]\n",
    "\n",
    "total_size = 0\n",
    "for fname_full in fname_full_list:\n",
    "    st = os.stat(fname_full)\n",
    "    # in GB\n",
    "    sz = st.st_size / (1024  * 1024 * 1024)\n",
    "    total_size += sz\n",
    "print(total_size)"
   ]
  },
  {
   "cell_type": "code",
   "execution_count": null,
   "id": "0905e992",
   "metadata": {},
   "outputs": [],
   "source": []
  },
  {
   "cell_type": "code",
   "execution_count": null,
   "id": "94fb35e1",
   "metadata": {},
   "outputs": [],
   "source": [
    "data_dir_input"
   ]
  },
  {
   "cell_type": "code",
   "execution_count": null,
   "id": "2a15d427",
   "metadata": {},
   "outputs": [],
   "source": [
    "#remote_dir_ssh = 'hhuc:rawdata_copy'\n",
    "remote_dir_ssh = f'hhuc:/home/todorov/rawdata'\n",
    "import shutil\n",
    "s = f'rsync -rtvzn --progress '\n",
    "#s += f'{data_dir_input}' + r'/{'\n",
    "s += f' --partial --append-verify {remote_dir_ssh}' + r'/{'\n",
    "for fn in fname_list:    \n",
    "    s += fn + ','\n",
    "#dest = ' /home/demitau/data/raws_from_Hilbert'\n",
    "#dest = ' /media/demitau/85121478-c7b6-4d0b-a865-d2885e75bc28/raws_from_Hilbert/'\n",
    "dest = r' $DEST'\n",
    "s = s[:-1] + r'}' + dest\n",
    "#    shutil.copyfile(src, dst)    \n",
    "#shutil.copyfile(src, dst)\n",
    "print(s)"
   ]
  },
  {
   "cell_type": "code",
   "execution_count": null,
   "id": "a26c6f3f",
   "metadata": {},
   "outputs": [],
   "source": [
    "terminator -e \"until ssh jusuf_3 -t 'tmux a -t stat'; do sleep 1; done;\"\n",
    "\n"
   ]
  },
  {
   "cell_type": "code",
   "execution_count": null,
   "id": "f6eb4fe3",
   "metadata": {},
   "outputs": [],
   "source": [
    "#!jt -t chesterish"
   ]
  },
  {
   "cell_type": "code",
   "execution_count": null,
   "id": "82ca3146",
   "metadata": {},
   "outputs": [],
   "source": [
    "from jupyterthemes import get_themes\n",
    "import jupyterthemes as jt\n",
    "from jupyterthemes.stylefx import set_nb_theme\n",
    "set_nb_theme('onedork') # chesterish, monokai"
   ]
  },
  {
   "cell_type": "code",
   "execution_count": null,
   "id": "6435732f",
   "metadata": {},
   "outputs": [],
   "source": [
    "entries_trem_info"
   ]
  },
  {
   "cell_type": "code",
   "execution_count": null,
   "id": "7a49c6d6",
   "metadata": {},
   "outputs": [],
   "source": [
    "skip_existing_EMG = False\n",
    "rectconv_filter_again = False\n",
    "#14\n",
    "#S037_PD\n",
    "from os.path import join as pjoin\n",
    "import utils_preprocess as upre\n",
    "# TODO: put right data directories\n",
    "data_dir_input = ''\n",
    "data_dir_output = ''\n",
    "rawname = 'S037_PD'\n",
    "for rawname_ in rawnames:\n",
    "\n",
    "#for subjind in subjinds:\n",
    "#    sis = '{:02d}'.format(subjind)\n",
    "#    for medstate in medstates:\n",
    "#        for task in tasks:\n",
    "\n",
    "    #fnames_noext = ['S{}_off_{}'.format(sis,task), 'S{}_on_{}'.format(sis,task)]\n",
    "    #fnames_noext = ['S01_off_hold', 'S01_on_hold']\n",
    "    #fnames_noext = ['S01_off_move', 'S01_on_move']\n",
    "    #fnames_noext = ['S02_off_move', 'S02_on_move']\n",
    "    #fname_noext = 'S{}_{}_{}'.format(sis,medstate,task)\n",
    "\n",
    "    fname_noext = rawname_\n",
    "    fname = fname_noext + '.mat'\n",
    "    print('Reading {}'.format(fname) )\n",
    "\n",
    "    addStr = ''\n",
    "    print('--- Starting reading big 2kHz file!')\n",
    "    fname_full = os.path.join(data_dir_input,fname)\n",
    "\n",
    "    if not os.path.exists(fname_full):\n",
    "        print('Warning: path does not exist!, skip! {}'.format(fname_full))\n",
    "        continue\n",
    "\n",
    "    f = upre.read_raw_fieldtrip(fname_full, None)\n",
    "    rectconvraw = upre.extractEMGData(f,fname_noext, skip_if_exist = skip_existing_EMG, \n",
    "                        save_dir = data_dir_output)  #saves emg_rectconv\n",
    "\n",
    "#     mod_info, infos = upre.readInfo(fname_noext, f)\n",
    "#     f.info = mod_info\n",
    "\n",
    "#     raw_lfp = upre.saveLFP(fname_noext, skip_if_exist =\n",
    "#                            skip_existing_LFP,sfreq=freqResample, raw_FT=f,n_jobs=n_jobs)\n",
    "#     raw_lfp_highres = upre.saveLFP(fname_noext, skip_if_exist =\n",
    "#                                    skip_existing_LFP,sfreq=freqResample_high,\n",
    "#                                    raw_FT=f,n_jobs=n_jobs )\n",
    "\n",
    "    rectconvraw.apply_function( lambda x: x / np.quantile(x,0.75) )\n",
    "    hilbraw = rectconvraw.copy()\n",
    "    if rectconv_filter_again:\n",
    "        hilbraw.filter(l_freq=2,h_freq=10)\n",
    "    hilbraw.apply_hilbert()\n",
    "\n",
    "    # smoothness of hilb_freq depends heavilly on the band we use for filtering hilbraw\n",
    "    hilb_amp = hilbraw.copy()\n",
    "    hilb_amp.apply_function(np.abs)\n",
    "    \n",
    "    rectconv_env_fname_full = os.path.join(data_dir_output, '{}_emg_rectconv_envelope.fif'.format(rawname_) )\n",
    "    if not (skip_existing_EMG and os.path.exists(rectconv_env_fname_full) ):\n",
    "        print('EMG hilbert amp raw saved to ',rectconv_env_fname_full)\n",
    "        hilb_amp.save(rectconv_env_fname_full, overwrite=1)"
   ]
  },
  {
   "cell_type": "code",
   "execution_count": null,
   "id": "ccccae48",
   "metadata": {},
   "outputs": [],
   "source": []
  }
 ],
 "metadata": {
  "kernelspec": {
   "display_name": "Python 3",
   "language": "python",
   "name": "python3"
  },
  "language_info": {
   "codemirror_mode": {
    "name": "ipython",
    "version": 3
   },
   "file_extension": ".py",
   "mimetype": "text/x-python",
   "name": "python",
   "nbconvert_exporter": "python",
   "pygments_lexer": "ipython3",
   "version": "3.8.10"
  }
 },
 "nbformat": 4,
 "nbformat_minor": 5
}
