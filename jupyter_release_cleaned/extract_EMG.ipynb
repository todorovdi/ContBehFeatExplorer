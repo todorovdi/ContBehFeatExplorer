{
 "cells": [
  {
   "cell_type": "code",
   "execution_count": null,
   "id": "f6eb4fe3",
   "metadata": {},
   "outputs": [],
   "source": [
    "#!jt -t chesterish"
   ]
  },
  {
   "cell_type": "code",
   "execution_count": null,
   "id": "82ca3146",
   "metadata": {},
   "outputs": [],
   "source": [
    "from jupyterthemes import get_themes\n",
    "import jupyterthemes as jt\n",
    "from jupyterthemes.stylefx import set_nb_theme\n",
    "set_nb_theme('onedork') # chesterish, monokai"
   ]
  },
  {
   "cell_type": "code",
   "execution_count": null,
   "id": "6435732f",
   "metadata": {},
   "outputs": [],
   "source": [
    "entries_trem_info"
   ]
  },
  {
   "cell_type": "code",
   "execution_count": null,
   "id": "7a49c6d6",
   "metadata": {},
   "outputs": [],
   "source": [
    "skip_existing_EMG = False\n",
    "rectconv_filter_again = False\n",
    "#14\n",
    "#S037_PD\n",
    "from os.path import join as pjoin\n",
    "import utils_preprocess as upre\n",
    "# TODO: put right data directories\n",
    "data_dir_input = ''\n",
    "data_dir_output = ''\n",
    "rawname = 'S037_PD'\n",
    "for rawname_ in rawnames:\n",
    "\n",
    "#for subjind in subjinds:\n",
    "#    sis = '{:02d}'.format(subjind)\n",
    "#    for medstate in medstates:\n",
    "#        for task in tasks:\n",
    "\n",
    "    #fnames_noext = ['S{}_off_{}'.format(sis,task), 'S{}_on_{}'.format(sis,task)]\n",
    "    #fnames_noext = ['S01_off_hold', 'S01_on_hold']\n",
    "    #fnames_noext = ['S01_off_move', 'S01_on_move']\n",
    "    #fnames_noext = ['S02_off_move', 'S02_on_move']\n",
    "    #fname_noext = 'S{}_{}_{}'.format(sis,medstate,task)\n",
    "\n",
    "    fname_noext = rawname_\n",
    "    fname = fname_noext + '.mat'\n",
    "    print('Reading {}'.format(fname) )\n",
    "\n",
    "    addStr = ''\n",
    "    print('--- Starting reading big 2kHz file!')\n",
    "    fname_full = os.path.join(data_dir_input,fname)\n",
    "\n",
    "    if not os.path.exists(fname_full):\n",
    "        print('Warning: path does not exist!, skip! {}'.format(fname_full))\n",
    "        continue\n",
    "\n",
    "    f = upre.read_raw_fieldtrip(fname_full, None)\n",
    "    rectconvraw = upre.extractEMGData(f,fname_noext, skip_if_exist = skip_existing_EMG, \n",
    "                        save_dir = data_dir_output)  #saves emg_rectconv\n",
    "\n",
    "#     mod_info, infos = upre.readInfo(fname_noext, f)\n",
    "#     f.info = mod_info\n",
    "\n",
    "#     raw_lfp = upre.saveLFP(fname_noext, skip_if_exist =\n",
    "#                            skip_existing_LFP,sfreq=freqResample, raw_FT=f,n_jobs=n_jobs)\n",
    "#     raw_lfp_highres = upre.saveLFP(fname_noext, skip_if_exist =\n",
    "#                                    skip_existing_LFP,sfreq=freqResample_high,\n",
    "#                                    raw_FT=f,n_jobs=n_jobs )\n",
    "\n",
    "    rectconvraw.apply_function( lambda x: x / np.quantile(x,0.75) )\n",
    "    hilbraw = rectconvraw.copy()\n",
    "    if rectconv_filter_again:\n",
    "        hilbraw.filter(l_freq=2,h_freq=10)\n",
    "    hilbraw.apply_hilbert()\n",
    "\n",
    "    # smoothness of hilb_freq depends heavilly on the band we use for filtering hilbraw\n",
    "    hilb_amp = hilbraw.copy()\n",
    "    hilb_amp.apply_function(np.abs)\n",
    "    \n",
    "    rectconv_env_fname_full = os.path.join(data_dir_output, '{}_emg_rectconv_envelope.fif'.format(rawname_) )\n",
    "    if not (skip_existing_EMG and os.path.exists(rectconv_env_fname_full) ):\n",
    "        print('EMG hilbert amp raw saved to ',rectconv_env_fname_full)\n",
    "        hilb_amp.save(rectconv_env_fname_full, overwrite=1)"
   ]
  },
  {
   "cell_type": "code",
   "execution_count": null,
   "id": "ccccae48",
   "metadata": {},
   "outputs": [],
   "source": []
  }
 ],
 "metadata": {
  "kernelspec": {
   "display_name": "Python 3",
   "language": "python",
   "name": "python3"
  },
  "language_info": {
   "codemirror_mode": {
    "name": "ipython",
    "version": 3
   },
   "file_extension": ".py",
   "mimetype": "text/x-python",
   "name": "python",
   "nbconvert_exporter": "python",
   "pygments_lexer": "ipython3",
   "version": "3.8.10"
  }
 },
 "nbformat": 4,
 "nbformat_minor": 5
}
