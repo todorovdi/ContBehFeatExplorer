{
 "cells": [
  {
   "cell_type": "code",
   "execution_count": null,
   "metadata": {},
   "outputs": [],
   "source": [
    "%load_ext autoreload\n",
    "%autoreload 2\n",
    "\n",
    "\n",
    "import os,sys\n",
    "import mne\n",
    "import utils  #my code\n",
    "import json\n",
    "import matplotlib.pyplot as plt\n",
    "import numpy as np\n",
    "import h5py\n",
    "from copy import deepcopy\n",
    "from os.path import join as pjoin\n",
    "\n",
    "\n",
    "if os.environ.get('DATA_DUSS') is not None:\n",
    "    data_dir = os.path.expandvars('$DATA_DUSS')\n",
    "else:\n",
    "    data_dir = '/home/demitau/data'\n",
    "    \n",
    "#EMG_dir = data_dir\n",
    "EMG_dir = pjoin(data_dir, 'EMG')\n",
    "rawname_ = 'S001_OFF_01'\n",
    "\n",
    "#rawname_ = 'S99_off_move'\n",
    "    \n",
    "#rawname_ = 'S01_off_hold'\n",
    "#rawname_ = 'S01_off_move'\n",
    "#rawname_ = 'S01_on_hold'\n",
    "#rawname_ = 'S01_on_move'\n",
    "\n",
    "rawname_ = 'S02_off_hold'\n",
    "#rawname_ = 'S02_off_move'\n",
    "#rawname_ = 'S02_on_hold'\n",
    "#rawname_ = 'S02_on_move'\n",
    "\n",
    "#rawname_ = 'S03_off_hold'\n",
    "#rawname_ = 'S03_off_move'\n",
    "\n",
    "#rawname_ = 'S04_off_hold'\n",
    "#rawname_ = 'S04_off_move'\n",
    "#rawname_ = 'S04_on_hold'\n",
    "#rawname_ = 'S04_on_move'\n",
    "\n",
    "# rawname_ = 'S05_off_hold'\n",
    "# rawname_ = 'S05_off_move'\n",
    "# rawname_ = 'S05_on_hold'\n",
    "# rawname_ = 'S05_on_move'\n",
    "\n",
    "# rawname_ = 'S06_off_hold'\n",
    "# rawname_ = 'S06_off_move'\n",
    "# rawname_ = 'S06_on_hold'\n",
    "# rawname_ = 'S06_on_move'\n",
    "\n",
    "# rawname_ = 'S07_off_hold'\n",
    "# rawname_ = 'S07_off_move'\n",
    "# rawname_ = 'S07_on_hold'\n",
    "# rawname_ = 'S07_on_move'\n",
    "\n",
    "# rawname_ = 'S08_off_rest'\n",
    "# rawname_ = 'S08_on_rest'\n",
    "\n",
    "#rawname_ = 'S09_off_rest'\n",
    "\n",
    "# rawname_ = 'S10_off_rest'\n",
    "# rawname_ = 'S10_off_move'\n",
    "import globvars as gv\n",
    "raw,raw_rectconv,raw_env = None,None,None\n",
    "\n",
    "rawname = rawname_ + '_resample_raw.fif'\n",
    "rawname_rectconv = rawname_ + '_emg_rectconv.fif'\n",
    "fname_full = os.path.join(gv.data_dir,rawname)\n",
    "fname_rectconv_full = os.path.join(gv.data_dir,rawname_rectconv)\n",
    "print(fname_rectconv_full)\n",
    "if os.path.exists(fname_rectconv_full): \n",
    "    rectconvraw = mne.io.read_raw_fif(fname_rectconv_full, None)\n",
    "    sfreq = int(rectconvraw.info['sfreq'])\n",
    "elif os.path.exists(fname_full):\n",
    "    # read file -- resampled to 256 Hz,  Electa MEG, EMG, LFP, EOG channels\n",
    "    raw = mne.io.read_raw_fif(fname_full, None)\n",
    "    sfreq = int(raw.info['sfreq'])\n",
    "else:\n",
    "    rawname_rectconv = rawname_ + '_anon_emg_rectconv.fif'\n",
    "    fname_rectconv_full = os.path.join(EMG_dir,rawname_rectconv)\n",
    "    rectconvraw = mne.io.read_raw_fif(fname_rectconv_full, None)\n",
    "    \n",
    "    rawname_env = rawname_ + '_anon_emg_rectconv_envelope.fif'\n",
    "    fname_env_full = os.path.join(EMG_dir,rawname_env)\n",
    "    raw_env = mne.io.read_raw_fif(fname_env_full, None)\n",
    "    \n",
    "    sfreq = int(rectconvraw.info['sfreq'])"
   ]
  },
  {
   "cell_type": "code",
   "execution_count": null,
   "metadata": {},
   "outputs": [],
   "source": [
    "%matplotlib qt"
   ]
  },
  {
   "cell_type": "code",
   "execution_count": null,
   "metadata": {},
   "outputs": [],
   "source": [
    "%matplotlib qt\n",
    "raw_rectconv.plot(duration=25);"
   ]
  },
  {
   "cell_type": "code",
   "execution_count": null,
   "metadata": {},
   "outputs": [],
   "source": [
    "# ax = plt.gca()\n",
    "# ax.plot([1,2,3],[3,43,1])\n",
    "# ax.plot([1,2,3],[5,3,34])\n",
    "# print(ax.get_yticks() )\n",
    "# print(ax.get_yticklabels()) \n",
    "# ax.set_yticklabels( len(ax.get_yticks()) * ['f'])"
   ]
  },
  {
   "cell_type": "code",
   "execution_count": null,
   "metadata": {},
   "outputs": [],
   "source": [
    "HHUC_files_format = True\n",
    "try:\n",
    "    int( rawname_.split('_')[-1] )\n",
    "except ValueError as e:\n",
    "    print(str(e))\n",
    "    HHUC_files_format = False\n",
    "\n",
    "badchlist = None\n",
    "maintremside = None\n",
    "gen_subj_info = None\n",
    "if not HHUC_files_format:\n",
    "    # get info about bad MEG channels (from separate file)\n",
    "    with open(pjoin(gv.code_dir,'subj_info.json') ) as info_json:\n",
    "            #raise TypeError\n",
    "\n",
    "        #json.dumps({'value': numpy.int64(42)}, default=convert)\n",
    "        gen_subj_info = json.load(info_json)\n",
    "\n",
    "    subj,medcond,task  = utils.getParamsFromRawname(rawname_)\n",
    "    subj_num = int(subj[1:])\n",
    "    if subj_num < 8:\n",
    "        badchlist = gen_subj_info[subj]['bad_channels'][medcond][task]\n",
    "    else:\n",
    "        badchlist = gen_subj_info[subj]['bad_channels'][medcond]['hold']\n",
    "        \n",
    "    tremfreq = gen_subj_info[subj]['tremfreq']\n",
    "    print('tremfreq = ',tremfreq)\n",
    "        \n",
    "    if raw is not None:\n",
    "        raw.info['bads'] = badchlist\n",
    "        print('bad channels are ',badchlist)\n",
    "\n",
    "\n",
    "        skip_if_exist = 1\n",
    "\n",
    "        import utils_preproc as upre\n",
    "        tremfreq_for_preproc = tremfreq\n",
    "        tremfreq_for_preproc = 10\n",
    "        rectconvraw = upre.extractEMGData(raw, rawname_ = rawname_, \n",
    "                                          tremfreq=tremfreq_for_preproc, \n",
    "                                          skip_if_exist=skip_if_exist)\n",
    "    else:\n",
    "        sub_bads = [ chn for chn in badchlist if chn in rectconvraw.ch_names]\n",
    "        rectconvraw.info['bads'] = sub_bads\n",
    "\n",
    "\n",
    "    import gc; gc.collect()\n",
    "else:\n",
    "    rectconvraw = raw_rectconv\n",
    "\n",
    "rectconvraw_perside = utils.getEMGperHand(rectconvraw)\n",
    "if raw_env is not None:\n",
    "    rectconvraw_env_perside = utils.getEMGperHand(raw_env)\n",
    "\n",
    "if not rectconvraw.ch_names[0].endswith('_old'):\n",
    "    rename_dict = dict( [(chn,chn+'_old') for chn in rectconvraw.ch_names] )\n",
    "    rectconvraw.rename_channels(rename_dict)\n",
    "print(rectconvraw.ch_names)\n",
    "\n",
    "\n",
    "\n",
    "if gen_subj_info is not None:\n",
    "    maintremside = gen_subj_info[subj]['tremor_side']\n",
    "    nonmaintremside = utils.getOppositeSideStr(maintremside)\n",
    "    mts_letter = maintremside[0].upper()\n",
    "    ots_letter = utils.getOppositeSideStr(mts_letter)\n",
    "    mts_trem_str = 'trem_{}'.format(mts_letter)\n",
    "    mts_notrem_str = 'notrem_{}'.format(mts_letter)\n",
    "    mts_task_str = '{}_{}'.format(task,mts_letter)\n",
    "    ots_task_str = '{}_{}'.format(task,ots_letter)"
   ]
  },
  {
   "cell_type": "code",
   "execution_count": null,
   "metadata": {},
   "outputs": [],
   "source": [
    "HHUC_files_format"
   ]
  },
  {
   "cell_type": "markdown",
   "metadata": {},
   "source": [
    "## Collect info_times, save to one files and look at errors (exports from Hilbert)"
   ]
  },
  {
   "cell_type": "code",
   "execution_count": null,
   "metadata": {},
   "outputs": [],
   "source": [
    "import subprocess as sp\n",
    "c = 'ls /home/demitau/data/EMG/info_times_*.json'\n",
    "out = sp.getoutput(c)\n",
    "ss = '/home/demitau/data/EMG/'\n",
    "fns = [fn[len(ss): ] for fn in out.split('\\n') ]\n",
    "import json\n",
    "\n",
    "d = {}\n",
    "for fn in fns:\n",
    "    with(open(pjoin(ss,fn), 'r')) as f:\n",
    "        jcur = json.load(f)\n",
    "        d.update(jcur)\n",
    "\n",
    "fn_full = pjoin(ss,'Info_times_all_with_trem.json')\n",
    "with(open(fn_full, 'w')) as f:\n",
    "    json.dump(d,f)\n",
    "\n",
    "r = sp.getoutput(f'python -m json.tool  {fn_full}')\n",
    "#rr = r.replace('\\\\n','\\n')  # it breaks json:w\n",
    "\n",
    "with(open(fn_full, 'w')) as f:\n",
    "    f.write(r)\n",
    "\n",
    "for k,s in d.items():\n",
    "    for fn,subd in s.items():\n",
    "        if 'ERROR' in subd:\n",
    "            print(k,fn,subd['ERROR'][0])\n",
    "            print(subd['ERROR'][1] )"
   ]
  },
  {
   "cell_type": "code",
   "execution_count": null,
   "metadata": {},
   "outputs": [],
   "source": [
    "rectconvraw_perside['left'].plot(duration=60,scalings='auto')"
   ]
  },
  {
   "cell_type": "code",
   "execution_count": null,
   "metadata": {},
   "outputs": [],
   "source": [
    "rectconvraw_env_perside['left'].plot(duration=60,scalings='auto')"
   ]
  },
  {
   "cell_type": "code",
   "execution_count": null,
   "metadata": {},
   "outputs": [],
   "source": [
    "rectconvraw_perside['left'].plot_psd(fmax=10)\n",
    "help (rectconvraw_perside['left'].plot_psd)"
   ]
  },
  {
   "cell_type": "markdown",
   "metadata": {},
   "source": [
    "# Read and convert labels"
   ]
  },
  {
   "cell_type": "code",
   "execution_count": null,
   "metadata": {},
   "outputs": [],
   "source": [
    "rawname_"
   ]
  },
  {
   "cell_type": "code",
   "execution_count": null,
   "metadata": {},
   "outputs": [],
   "source": [
    "pwd"
   ]
  },
  {
   "cell_type": "code",
   "execution_count": null,
   "metadata": {},
   "outputs": [],
   "source": [
    "#%debug\n",
    "# for current raw\n",
    "\n",
    "print(rawname_,'Main trem side ' ,maintremside,mts_letter)\n",
    "\n",
    "anns_cnv, ivalis_perside = utils.intervalJSON2Anns(rawname_)\n",
    "anns_cnv_Jan, ivalis_perside_Jan = utils.intervalJSON2Anns(rawname_, \n",
    "                                                           use_new_intervals=0)"
   ]
  },
  {
   "cell_type": "markdown",
   "metadata": {},
   "source": [
    "## Load anns if they are there"
   ]
  },
  {
   "cell_type": "code",
   "execution_count": null,
   "metadata": {},
   "outputs": [],
   "source": [
    "tremfreq"
   ]
  },
  {
   "cell_type": "code",
   "execution_count": null,
   "metadata": {},
   "outputs": [],
   "source": [
    "anns_fn = rawname_ + '_anns.txt'\n",
    "anns_fn_full = os.path.join(data_dir, anns_fn)\n",
    "if os.path.exists(anns_fn_full):\n",
    "    anns = mne.read_annotations(anns_fn_full)\n",
    "    #raw.set_annotations(anns)\n",
    "    anns_descr_to_remove = ['endseg', 'initseg', 'middle', 'incPost' ]\n",
    "    anns_upd = utils.removeAnnsByDescr(anns, anns_descr_to_remove)\n",
    "\n",
    "    anns_upd = utils.renameAnnDescr(anns, {'mvt':'hold', 'no_tremor':'notrem'})\n",
    "else:\n",
    "    print(anns_fn_full, ' does not exist')\n",
    "    anns_upd = None\n",
    "\n",
    "\n",
    "\n",
    "ann_dict = {'Jan':anns_cnv_Jan, 'prev_me':anns_cnv, 'new_me':anns_upd}\n",
    "\n",
    "print('! {} Main trem side is {}, tremfreq={}\\n'.format(rawname_, mts_letter,tremfreq) )\n",
    "\n",
    "ann_len_dict = {}\n",
    "meaningful_totlens = {}\n",
    "for ann_name in ann_dict:\n",
    "    print('{} interval lengths'.format(ann_name))\n",
    "    #display(anns_cnv_Jan.description)\n",
    "    anns = ann_dict[ann_name]\n",
    "    if anns is None:\n",
    "        continue\n",
    "    \n",
    "    if raw is not None:\n",
    "        times = raw.times\n",
    "    else:\n",
    "        times = rectconvraw.times\n",
    "    lens = utils.getIntervalsTotalLens(anns, True, times=times)\n",
    "    display(lens  )\n",
    "    #lens_cnv_Jan = utils.getIntervalsTotalLens(anns_cnv_Jan, True, times=raw.times)\n",
    "    #display(lens_cnv_Jan  )\n",
    "    if mts_trem_str not in anns.description:\n",
    "        print('!! There is no tremor, accdording to {}'.format(ann_name))\n",
    "        \n",
    "    meaningul_label_totlen = lens.get(mts_trem_str,0) + lens.get(mts_task_str,0)\n",
    "    meaningful_totlens[ann_name] = meaningul_label_totlen\n",
    "    if meaningul_label_totlen < 10:\n",
    "        print('Too few meaningful labels {}'.format(ann_name))\n",
    "        \n",
    "    for it in lens:\n",
    "        if it.find(mts_task_str) < 0 and it.find(ots_task_str) >= 0:\n",
    "            print('{} has task {} which is opposite side to tremor {}'.format(\n",
    "                ann_name, ots_task_str, mts_task_str) )\n",
    "        assert not( it.find(mts_task_str) >= 0 and it.find(ots_task_str) >= 0),\\\n",
    "            'task marked on both sides :('\n",
    "            \n",
    "        \n",
    "    print('\\n')\n",
    "# print('\\nmy prev interval lengths')\n",
    "# lens_cnv = utils.getIntervalsTotalLens(anns_cnv, True, times=raw.times) \n",
    "# display(lens_cnv )\n",
    "# #display(anns_cnv.description)\n",
    "# if mts_trem_str not in anns_cnv.description:\n",
    "#     print('!! There is no tremor, accdording to prev me')"
   ]
  },
  {
   "cell_type": "code",
   "execution_count": null,
   "metadata": {},
   "outputs": [],
   "source": [
    "meaningful_totlens"
   ]
  },
  {
   "cell_type": "code",
   "execution_count": null,
   "metadata": {},
   "outputs": [],
   "source": [
    "use_old_anns = 0\n",
    "if meaningful_totlens.get('new_me',100) + meaningful_totlens['prev_me'] < 10:\n",
    "    use_old_anns = 1\n",
    "    print('Maybe we should use old anns')"
   ]
  },
  {
   "cell_type": "code",
   "execution_count": null,
   "metadata": {},
   "outputs": [],
   "source": [
    "# note than maintremside should correspond to the rawname!\n",
    "#artif_anns = utils.artif2ann(artif.get(rawname_,{}) ,artif_nms.get(rawname_,{}), maintremside)\n",
    "#artif_anns"
   ]
  },
  {
   "cell_type": "code",
   "execution_count": null,
   "metadata": {},
   "outputs": [],
   "source": [
    "anns_cnv.description"
   ]
  },
  {
   "cell_type": "code",
   "execution_count": null,
   "metadata": {},
   "outputs": [],
   "source": [
    "anns_descr_to_remove = ['endseg', 'initseg', 'middle', 'incPost', 'incPre' ]\n",
    "anns_cnv = utils.removeAnnsByDescr(anns_cnv, anns_descr_to_remove)"
   ]
  },
  {
   "cell_type": "code",
   "execution_count": null,
   "metadata": {},
   "outputs": [],
   "source": [
    "anns_cnv = utils.renameAnnDescr(anns_cnv, {'mvt':'hold', 'no_tremor':'notrem', 'unk_activity_full':'undef',\n",
    "                                           'middle_full':'trem'})"
   ]
  },
  {
   "cell_type": "code",
   "execution_count": null,
   "metadata": {},
   "outputs": [],
   "source": [
    "anns_cnv"
   ]
  },
  {
   "cell_type": "markdown",
   "metadata": {},
   "source": [
    " ## Observe converted anns"
   ]
  },
  {
   "cell_type": "code",
   "execution_count": null,
   "metadata": {},
   "outputs": [],
   "source": [
    "print('! Main trem side is {}\\n'.format(mts_letter) )"
   ]
  },
  {
   "cell_type": "code",
   "execution_count": null,
   "metadata": {},
   "outputs": [],
   "source": [
    "rcr_oldann = rectconvraw.copy()\n",
    "rcr_oldann.set_annotations(anns_cnv)\n",
    "rcr_oldann_perside = utils.getEMGperHand(rcr_oldann)\n",
    "\n",
    "%matplotlib qt\n",
    "rcr_oldann_perside['right'].plot(duration=50);"
   ]
  },
  {
   "cell_type": "code",
   "execution_count": null,
   "metadata": {},
   "outputs": [],
   "source": [
    "rcr_oldann_perside['left'].plot(duration=10);"
   ]
  },
  {
   "cell_type": "code",
   "execution_count": null,
   "metadata": {},
   "outputs": [],
   "source": [
    "rcr_oldann_perside['right'].plot(duration=50);"
   ]
  },
  {
   "cell_type": "code",
   "execution_count": null,
   "metadata": {},
   "outputs": [],
   "source": [
    "# WARNING!! This will overwrite the annotation file!\n",
    "if use_old_anns:\n",
    "    anns_fn = rawname_ + '_anns.txt'  # not csv!, otherwise origtime is under and then everything is bad when read\n",
    "    anns_fn_full = os.path.join(data_dir, anns_fn)\n",
    "    print('Saving prev me anns to ',anns_fn_full)\n",
    "    anns_cnv.save(anns_fn_full)"
   ]
  },
  {
   "cell_type": "markdown",
   "metadata": {},
   "source": [
    "## Set annotations"
   ]
  },
  {
   "cell_type": "code",
   "execution_count": null,
   "metadata": {},
   "outputs": [],
   "source": [
    "print( mts_letter )\n",
    "%matplotlib qt"
   ]
  },
  {
   "cell_type": "code",
   "execution_count": null,
   "metadata": {},
   "outputs": [],
   "source": [
    "adjustment_only = 1\n",
    "if adjustment_only:\n",
    "    rectconvraw.set_annotations(anns_upd)\n",
    "    rectconvraw_perside = utils.getEMGperHand(rectconvraw)"
   ]
  },
  {
   "cell_type": "code",
   "execution_count": null,
   "metadata": {},
   "outputs": [],
   "source": []
  },
  {
   "cell_type": "code",
   "execution_count": null,
   "metadata": {},
   "outputs": [],
   "source": [
    "%matplotlib qt"
   ]
  },
  {
   "cell_type": "code",
   "execution_count": null,
   "metadata": {
    "run_control": {
     "marked": false
    }
   },
   "outputs": [],
   "source": [
    "if adjustment_only:\n",
    "    dur = 25\n",
    "    rectconvraw_perside['left'].plot(duration=dur, scalings='auto');"
   ]
  },
  {
   "cell_type": "code",
   "execution_count": null,
   "metadata": {},
   "outputs": [],
   "source": [
    "#help(%matplotlib )"
   ]
  },
  {
   "cell_type": "code",
   "execution_count": null,
   "metadata": {},
   "outputs": [],
   "source": [
    "%matplotlib qt"
   ]
  },
  {
   "cell_type": "code",
   "execution_count": null,
   "metadata": {},
   "outputs": [],
   "source": [
    "#start = 443; dur = 20\n",
    "start = 129; dur = 35\n",
    "rectconvraw_perside['left'].plot(duration=dur, scalings=3e-4, start=start );\n",
    "plt.savefig(pjoin(gv.code_dir,'output',f'{rawname_}_{start}:{dur}.svg')  )"
   ]
  },
  {
   "cell_type": "code",
   "execution_count": null,
   "metadata": {},
   "outputs": [],
   "source": [
    "if adjustment_only:\n",
    "    rectconvraw_perside['right'].plot(duration=50);"
   ]
  },
  {
   "cell_type": "code",
   "execution_count": null,
   "metadata": {},
   "outputs": [],
   "source": [
    "if adjustment_only:\n",
    "    anns_fn = rawname_ + '_anns.txt'  # not csv!, otherwise origtime is under and then everything is bad when read\n",
    "    anns_fn_full = os.path.join(data_dir, anns_fn)\n",
    "    print('Saving prev me anns to ',anns_fn_full)\n",
    "    raw.annotations.save(anns_fn_full)"
   ]
  },
  {
   "cell_type": "code",
   "execution_count": null,
   "metadata": {},
   "outputs": [],
   "source": [
    "# chis = mne.pick_channels_regexp(raw.ch_names, 'EMG.*old')\n",
    "# restr_names = np.array( raw.ch_names )[chis]\n",
    "\n",
    "# raw.info['bads'] = []\n",
    "\n",
    "\n",
    "\n",
    "# emgonly = raw.copy()\n",
    "# emgonly.load_data()\n",
    "# emgonly.pick_channels(restr_names.tolist())\n",
    "# emgonly_unfilt = emgonly.copy()\n",
    "# print(emgonly.ch_names)\n",
    "# #help(emgonly.filter)\n",
    "\n",
    "# y = {}\n",
    "# for chname in emgonly.ch_names:\n",
    "#     y[chname] = 'eeg'\n",
    "# emgonly.set_channel_types(y)\n",
    "\n",
    "# emgonly.filter(l_freq=10, h_freq=None, picks='all')\n",
    "\n",
    "# maxtremfreq = 9\n",
    "# windowsz = int( sfreq / maxtremfreq ) \n",
    "# print( 'wind size is {} s = {} bins'.format(windowsz/emgonly.info['sfreq'], windowsz ))\n",
    "\n",
    "# rectconvraw = emgonly.copy()\n",
    "# #hilbraw.plot(duration=2)\n",
    "\n",
    "# rectconvraw.apply_function( np.abs)\n",
    "# rectconvraw.apply_function( lambda x: np.convolve(x,  np.ones(windowsz),  mode='same') )\n",
    "# #rectconvraw.apply_function( lambda x: x / np.quantile(x,0.75) )\n",
    "\n",
    "# rectconvraw.apply_function( lambda x: x / 100 ) # 100 is just empirical so that I don't have to scale the plot "
   ]
  },
  {
   "cell_type": "code",
   "execution_count": null,
   "metadata": {},
   "outputs": [],
   "source": []
  },
  {
   "cell_type": "markdown",
   "metadata": {
    "heading_collapsed": true
   },
   "source": [
    "# Detect tremor from scratch"
   ]
  },
  {
   "cell_type": "code",
   "execution_count": null,
   "metadata": {
    "hidden": true
   },
   "outputs": [],
   "source": [
    "import globvars as gv\n",
    "gv.EMG_per_hand\n",
    "\n",
    "if badchlist is not None:\n",
    "    tt = [s.find('EMG') >= 0  for s in badchlist ]\n",
    "    if sum( tt ) > 0:\n",
    "        print('There are bad EMG channels {}'.format(np.where(tt)[0]))\n",
    "\n",
    "print(rawname_, 'maintremside ',maintremside)\n",
    "import utils_preproc as upre\n",
    "#EMG_per_hand = {'right':['EMG061_old', 'EMG062_old'], 'left':['EMG063_old', 'EMG064_old' ] }\n",
    "EMG_per_hand = gv.EMG_per_hand\n",
    "\n",
    "# rectconvraw_perside = {} \n",
    "# for side in EMG_per_hand:\n",
    "#     chns = EMG_per_hand[side]\n",
    "#     tmp = rectconvraw.copy()\n",
    "#     tmp.pick_channels(chns)\n",
    "    \n",
    "#     rectconvraw_perside[side] = tmp\n",
    "    \n",
    "# for side in EMG_per_hand:    \n",
    "#     badstr = '_'+utils.getOppositeSideStr(side[0].upper())\n",
    "#     print(badstr)\n",
    "#     anns_upd = utils.removeAnnsByDescr(rectconvraw_perside[side].annotations, [badstr])\n",
    "#     rectconvraw_perside[side].set_annotations(anns_upd)\n",
    "    \n",
    "#     #rectconvraw_perside[side] = tmp"
   ]
  },
  {
   "cell_type": "code",
   "execution_count": null,
   "metadata": {
    "hidden": true
   },
   "outputs": [],
   "source": [
    "%matplotlib qt"
   ]
  },
  {
   "cell_type": "code",
   "execution_count": null,
   "metadata": {
    "hidden": true
   },
   "outputs": [],
   "source": [
    "#rectconvraw_perside['left'].plot();"
   ]
  },
  {
   "cell_type": "code",
   "execution_count": null,
   "metadata": {
    "hidden": true
   },
   "outputs": [],
   "source": [
    "#rectconvraw_perside['right'].plot();"
   ]
  },
  {
   "cell_type": "code",
   "execution_count": null,
   "metadata": {
    "hidden": true,
    "run_control": {
     "marked": false
    }
   },
   "outputs": [],
   "source": [
    "#badchlist"
   ]
  },
  {
   "cell_type": "markdown",
   "metadata": {},
   "source": [
    "# Automatic"
   ]
  },
  {
   "cell_type": "code",
   "execution_count": null,
   "metadata": {},
   "outputs": [],
   "source": [
    "windowsz2 = int( 0.5 * sfreq )\n",
    "print('{} maintremside = {}, tremfreq = {}'.format(rawname_,maintremside, tremfreq) )"
   ]
  },
  {
   "cell_type": "markdown",
   "metadata": {},
   "source": [
    "### Select here which side we want to label "
   ]
  },
  {
   "cell_type": "code",
   "execution_count": null,
   "metadata": {},
   "outputs": [],
   "source": [
    "%matplotlib qt\n",
    "use_maintremside = 0\n",
    "\n",
    "if maintremside is not None:\n",
    "    if use_maintremside:\n",
    "        curside = maintremside\n",
    "    else:\n",
    "        curside = utils.getOppositeSideStr(maintremside)\n",
    "    print('Working with maintremside ', curside == maintremside)\n",
    "else:\n",
    "    curside = 'right'\n",
    "\n",
    "curraw = rectconvraw_perside[curside]\n",
    "if raw is None:\n",
    "    curraw_env = rectconvraw_env_perside[curside]\n",
    "else:\n",
    "    curraw_env = None"
   ]
  },
  {
   "cell_type": "markdown",
   "metadata": {},
   "source": [
    "### Find quiet intervals automatic"
   ]
  },
  {
   "cell_type": "code",
   "execution_count": null,
   "metadata": {},
   "outputs": [],
   "source": [
    "#plt.plot(rectconvraw.times,good)\n",
    "#plt.axhline(qs[0])"
   ]
  },
  {
   "cell_type": "code",
   "execution_count": null,
   "metadata": {},
   "outputs": [],
   "source": [
    "print(curraw.get_data().shape)\n",
    "\n",
    "qval = 0.4\n",
    "curdat = curraw.get_data()\n",
    "qs = np.quantile( curraw.get_data(), qval, axis=1)[:,None]\n",
    "\n",
    "good = np.prod( curdat <= qs, axis=0 )\n",
    "print(np.sum(good))\n",
    "\n",
    "good = good.astype(int)\n",
    "\n",
    "cvl,pairs = utils.getIntervals(None, thr=0.1, cvl = good, extFactorR=-1.3,\n",
    "                               extFactorL=-1.3, percentthr=0.8, \n",
    "                               minlen= 2 * sfreq, inc=1, min_dist_between= sfreq//2)\n",
    "print('found {} intervals'.format(len(pairs)))\n",
    "\n",
    "#---\n",
    "\n",
    "newann = mne.Annotations([],[],[])\n",
    "for stbin,endbin in pairs:\n",
    "    curside_letter = curside[0].upper()\n",
    "    descr = 'notrem_{}'.format(curside_letter)\n",
    "    arg = {'onset':stbin/sfreq, 'duration':(endbin-stbin)/sfreq, 'description':descr}\n",
    "    newann.append(**arg)\n",
    "    \n",
    "curraw.set_annotations(newann);\n",
    "if curraw_env is not None:\n",
    "    curraw_env.set_annotations(newann);"
   ]
  },
  {
   "cell_type": "code",
   "execution_count": null,
   "metadata": {},
   "outputs": [],
   "source": [
    "#pairs = []"
   ]
  },
  {
   "cell_type": "markdown",
   "metadata": {},
   "source": [
    "### Mark no tremor"
   ]
  },
  {
   "cell_type": "code",
   "execution_count": null,
   "metadata": {},
   "outputs": [],
   "source": [
    "#help(curraw.plot)"
   ]
  },
  {
   "cell_type": "code",
   "execution_count": null,
   "metadata": {},
   "outputs": [],
   "source": [
    "rawname_"
   ]
  },
  {
   "cell_type": "code",
   "execution_count": null,
   "metadata": {},
   "outputs": [],
   "source": [
    "# they have to be in separate cells \n",
    "# because I may want to call plot sveral time to adjust annotations\n",
    "curraw.plot(duration=60, scalings='auto');"
   ]
  },
  {
   "cell_type": "code",
   "execution_count": null,
   "metadata": {},
   "outputs": [],
   "source": []
  },
  {
   "cell_type": "code",
   "execution_count": null,
   "metadata": {},
   "outputs": [],
   "source": [
    "curraw_env.plot(duration=60, scalings='auto');"
   ]
  },
  {
   "cell_type": "code",
   "execution_count": null,
   "metadata": {},
   "outputs": [],
   "source": [
    "deflabel = 'trem'\n",
    "#deflabel = 'undef'\n",
    "#deflabel = 'move'\n",
    "task_wrong_side = 1\n",
    "\n",
    "#### If we want to take 'notrem' from existing\n",
    "use_exiting_notrem = 0\n",
    "if use_exiting_notrem:\n",
    "    ivalis = utils.ann2ivalDict(curraw.annotations)\n",
    "    notrems = ivalis['notrem_{}'.format(curside[0].upper())]\n",
    "else:\n",
    "    anns = curraw.annotations\n",
    "    notrems = [ (ann['onset'],ann['onset']+ann['duration'],'notrem_{}'.format(curside_letter)) for ann in anns]\n",
    "    \n",
    "# ---    \n",
    "\n",
    "m, m0 = utils.getIntervalMaxs(curraw,notrems)\n",
    "curraw_thr = curraw.copy()\n",
    "\n",
    "rn = [(chn,chn + '_thr') for chn in curraw_thr.ch_names]\n",
    "curraw_thr.rename_channels( dict(rn) )\n",
    "print( curraw_thr.ch_names )\n",
    "\n",
    "# convert data to its mask\n",
    "curraw_thr.apply_function(lambda x:  np.heaviside(x - m[:,None] , 0)/100000 , \n",
    "                          channel_wise=0 )\n",
    "#find_events(raw, consecutive=True, \n",
    "#...                   output='step')   # stime channel should be discerete\n",
    "curraw_thr_display = curraw_thr.copy()\n",
    "curraw_thr_display.add_channels([curraw])\n",
    "#----------   create smoothed mask\n",
    "curraw_thr_mav = curraw_thr.copy()\n",
    "\n",
    "rn = [(chn,chn+'2') for chn in curraw_thr.ch_names]\n",
    "curraw_thr_mav.rename_channels( dict(rn) )\n",
    "print( curraw_thr_mav.ch_names )\n",
    "curraw_thr_mav.apply_function( lambda x : np.convolve(x, np.ones(windowsz2), mode='same'))\n",
    "\n",
    "# stats of the smoothened mask\n",
    "m,m0 = utils.getIntervalMaxs(curraw_thr_mav, notrems)\n",
    "print(m)\n",
    "#-------\n",
    "\n",
    "curraw_thr_mav.apply_function(lambda x:  np.heaviside(x - m[:,None] , 0)/100000 ,\n",
    "                              channel_wise=0 )\n",
    "#find_events(raw, consecutive=True, \n",
    "#...                   output='step')   # stime channel should be discerete\n",
    "tmp = curraw_thr_mav.copy()\n",
    "tmp.add_channels([curraw])\n",
    "\n",
    "# prduct across (the two) channels\n",
    "resd = np.prod(curraw_thr_mav.get_data(), axis=0)[None,:] #* 100000\n",
    "resd /= np.max(resd)\n",
    "print(np.max(resd))\n",
    "# mask and smoothened \n",
    "resd = np.vstack( [ tmp.get_data(), resd])\n",
    "#---------\n",
    "\n",
    "newchn = 'EMG{}_thr2mav'.format(curside[0].upper() )\n",
    "#newchn = 'STI'\n",
    "\n",
    "info = mne.create_info(\n",
    "    ch_names=tmp.ch_names + [newchn],\n",
    "    ch_types=['eeg']*4 + ['stim'] ,\n",
    "    sfreq= sfreq )\n",
    "\n",
    "newr = mne.io.RawArray(resd,info)\n",
    "newr.ch_names\n",
    "\n",
    "curraw_thr_mav_display = newr\n",
    "curraw_thr_mav_display.set_annotations(curraw_thr_mav.annotations)\n",
    "#----------\n",
    "\n",
    "# evts = mne.find_events(curraw_thr_mav_display, stim_channel=[newchn], output='step',\n",
    "#                        consecutive=True, min_duration=3,shortest_event = 2)\n",
    "\n",
    "tt,ts = curraw_thr_mav_display['stim']\n",
    "cvl,pairs = utils.getIntervals(None, thr=0.1, cvl = tt[0], extFactorR=0,extFactorL=0, percentthr=0.8, \n",
    "                               minlen= 1 * sfreq, inc=1, min_dist_between= sfreq//2)\n",
    "print('found {} intervals'.format(len(pairs)))\n",
    "\n",
    "print('intervals (bin pairs) = ',pairs)\n",
    "\n",
    "#----------\n",
    "newann = mne.Annotations([],[],[])\n",
    "for stbin,endbin in pairs:\n",
    "    curside_letter = curside[0].upper()\n",
    "    if stbin / sfreq <= 300 or ( task_wrong_side ):\n",
    "        descr = '{}_{}'.format(deflabel,curside_letter)\n",
    "        #print('fdff', stbin/sfreq)\n",
    "    else:\n",
    "        descr = '{}_{}'.format(task,curside_letter)\n",
    "        #print('fd')\n",
    "    arg = {'onset':stbin/sfreq, 'duration':(endbin-stbin)/sfreq, 'description':descr}\n",
    "    newann.append(**arg)\n",
    "\n",
    "#adding notrems\n",
    "for st,end,descr in notrems:\n",
    "    curside_letter = curside[0].upper()\n",
    "    arg = {'onset':st, 'duration':(end-st), 'description':descr}\n",
    "    newann.append(**arg)\n",
    "\n",
    "newann.description"
   ]
  },
  {
   "cell_type": "code",
   "execution_count": null,
   "metadata": {},
   "outputs": [],
   "source": [
    "print( maintremside, curside )\n",
    "print(badchlist)"
   ]
  },
  {
   "cell_type": "markdown",
   "metadata": {},
   "source": [
    "### set found anns to the raw"
   ]
  },
  {
   "cell_type": "code",
   "execution_count": null,
   "metadata": {},
   "outputs": [],
   "source": [
    "# set found anns to the raw\n",
    "nontrem_ann = mne.Annotations([],[],[])\n",
    "curraw_thr_mav_display.set_annotations( newann + nontrem_ann)"
   ]
  },
  {
   "cell_type": "code",
   "execution_count": null,
   "metadata": {},
   "outputs": [],
   "source": [
    "look_raw_emg = 0\n",
    "if look_raw_emg:\n",
    "    chis = mne.pick_channels_regexp(raw.ch_names, 'EMG.*old')\n",
    "    restr_names = np.array( raw.ch_names )[chis]\n",
    "\n",
    "    emgonly = raw.copy()\n",
    "    emgonly.info['bads'] = []\n",
    "    emgonly.load_data()\n",
    "    emgonly.pick_channels(restr_names.tolist())\n",
    "    emgonly_unfilt = emgonly.copy()\n",
    "    print(emgonly.ch_names)\n",
    "    #help(emgonly.filter)\n",
    "\n",
    "    y = {}\n",
    "    for chname in emgonly.ch_names:\n",
    "        y[chname] = 'eeg'\n",
    "    emgonly.set_channel_types(y)\n",
    "    emgonly.set_annotations(curraw_thr_mav_display.annotations)\n",
    "    #emgonly.filter(l_freq=10, h_freq=None, picks='all')\n",
    "    emgonly.plot(duration=50);"
   ]
  },
  {
   "cell_type": "code",
   "execution_count": null,
   "metadata": {},
   "outputs": [],
   "source": [
    "#curraw_thr_mav_display.set_annotations(emgonly.annotations)"
   ]
  },
  {
   "cell_type": "code",
   "execution_count": null,
   "metadata": {},
   "outputs": [],
   "source": [
    "# Refine automatically set annotations\n",
    "curraw_thr_mav_display.plot(duration=50);  #, events=evts)"
   ]
  },
  {
   "cell_type": "code",
   "execution_count": null,
   "metadata": {},
   "outputs": [],
   "source": [
    "remove_BAD = 1\n",
    "if remove_BAD:\n",
    "    badstr = 'BAD_'#+utils.getOppositeSideStr(letter)\n",
    "    print(badstr)\n",
    "    anns_nobad = utils.removeAnnsByDescr(curraw_thr_mav_display.annotations, [badstr])\n",
    "    curraw_thr_mav_display.set_annotations(anns_nobad)"
   ]
  },
  {
   "cell_type": "code",
   "execution_count": null,
   "metadata": {},
   "outputs": [],
   "source": [
    "rectconvraw_perside2 = utils.getEMGperHand(rectconvraw)\n",
    "for side in ['left', 'right']:\n",
    "    rectconvraw_perside2[side].set_annotations( rectconvraw_perside[side].annotations )"
   ]
  },
  {
   "cell_type": "code",
   "execution_count": null,
   "metadata": {},
   "outputs": [],
   "source": [
    "rectconvraw_perside2['left'].plot(duration=50);"
   ]
  },
  {
   "cell_type": "code",
   "execution_count": null,
   "metadata": {},
   "outputs": [],
   "source": [
    "rectconvraw_perside2['right'].plot(duration=50);"
   ]
  },
  {
   "cell_type": "code",
   "execution_count": null,
   "metadata": {},
   "outputs": [],
   "source": [
    "rectconvraw_perside = rectconvraw_perside2"
   ]
  },
  {
   "cell_type": "code",
   "execution_count": null,
   "metadata": {},
   "outputs": [],
   "source": [
    "print('Main tremsdie = {},\\nCurrent side =  {}'.format(maintremside, curside ))"
   ]
  },
  {
   "cell_type": "markdown",
   "metadata": {},
   "source": [
    "### Set resulting annotations to the object"
   ]
  },
  {
   "cell_type": "code",
   "execution_count": null,
   "metadata": {},
   "outputs": [],
   "source": [
    "print('Main tremsdie = {},\\nCurrent side =  {}'.format(maintremside, curside ))\n",
    "\n",
    "rectconvraw_perside[curside].set_annotations( curraw_thr_mav_display.annotations )"
   ]
  },
  {
   "cell_type": "code",
   "execution_count": null,
   "metadata": {},
   "outputs": [],
   "source": [
    "# To check which sides are set already\n",
    "for side in rectconvraw_perside:\n",
    "    print(side,rectconvraw_perside[side].annotations)"
   ]
  },
  {
   "cell_type": "code",
   "execution_count": null,
   "metadata": {},
   "outputs": [],
   "source": [
    "#curraw_thr_mav_display.annotations.description"
   ]
  },
  {
   "cell_type": "code",
   "execution_count": null,
   "metadata": {},
   "outputs": [],
   "source": [
    "#curraw_thr_mav_display.set_annotations(anns_upd)"
   ]
  },
  {
   "cell_type": "code",
   "execution_count": null,
   "metadata": {},
   "outputs": [],
   "source": [
    "#evts\n",
    "#anns0 = mne.annotations_from_events(evts, sfreq=sfreq)\n",
    "#anns0.duration"
   ]
  },
  {
   "cell_type": "code",
   "execution_count": null,
   "metadata": {},
   "outputs": [],
   "source": [
    "#mne.find_events(curraw_thr_mav_display)"
   ]
  },
  {
   "cell_type": "code",
   "execution_count": null,
   "metadata": {},
   "outputs": [],
   "source": [
    "rectconvraw_perside['right'].plot(duration=50);"
   ]
  },
  {
   "cell_type": "code",
   "execution_count": null,
   "metadata": {},
   "outputs": [],
   "source": [
    "rectconvraw_perside['left'].plot(duration=50);"
   ]
  },
  {
   "cell_type": "markdown",
   "metadata": {},
   "source": [
    "### clear anns from other side to avoid confusion"
   ]
  },
  {
   "cell_type": "code",
   "execution_count": null,
   "metadata": {},
   "outputs": [],
   "source": [
    "#utils.renameAnnDescr(rectconvraw_perside['right'].annotations, {'BAD_':'undef_R'} )"
   ]
  },
  {
   "cell_type": "code",
   "execution_count": null,
   "metadata": {},
   "outputs": [],
   "source": [
    "#a = utils.renameAnnDescr(rectconvraw_perside['right'].annotations, {'BAD_':'undef_R'} )\n",
    "# rectconvraw_perside['right'].set_annotations(a)"
   ]
  },
  {
   "cell_type": "code",
   "execution_count": null,
   "metadata": {},
   "outputs": [],
   "source": [
    "#curside = utils.getOppositeSideStr(maintremside )\n",
    "# curside = 'right'\n",
    "# letter = curside[0].upper() \n",
    "# badstr = 'BAD_'#+utils.getOppositeSideStr(letter)\n",
    "# print(badstr)\n",
    "# anns_upd = utils.removeAnnsByDescr(rectconvraw_perside[curside].annotations, [badstr])"
   ]
  },
  {
   "cell_type": "code",
   "execution_count": null,
   "metadata": {},
   "outputs": [],
   "source": [
    "#rectconvraw_perside[curside].set_annotations(anns_upd)"
   ]
  },
  {
   "cell_type": "code",
   "execution_count": null,
   "metadata": {},
   "outputs": [],
   "source": [
    "#%matplotlib qt\n",
    "#rectconvraw_perside[curside].plot(duration=40)"
   ]
  },
  {
   "cell_type": "markdown",
   "metadata": {},
   "source": [
    "## Merge two sides in one raw"
   ]
  },
  {
   "cell_type": "code",
   "execution_count": null,
   "metadata": {},
   "outputs": [],
   "source": [
    "print(rawname_, maintremside, '\\n')\n",
    "\n",
    "#a = utils.renameAnnDescr(rectconvraw_perside['left'].annotations, {'notrem_R':'notrem_L', 'hold_R':'hold_L'})\n",
    "#rectconvraw_perside['left'].set_annotations(a)\n",
    "\n",
    "for side in rectconvraw_perside:    \n",
    "    print(side, rectconvraw_perside[side].annotations.description )"
   ]
  },
  {
   "cell_type": "code",
   "execution_count": null,
   "metadata": {},
   "outputs": [],
   "source": [
    "# merge\n",
    "rectconvraw_upd = rectconvraw_perside['left'].copy()\n",
    "rectconvraw_upd.add_channels([rectconvraw_perside['right']])\n",
    "rectconvraw_upd.set_annotations( rectconvraw_perside['left'].annotations + rectconvraw_perside['right'].annotations )\n",
    "rectconvraw_upd.annotations.description"
   ]
  },
  {
   "cell_type": "markdown",
   "metadata": {},
   "source": [
    "# Check that everything is ok"
   ]
  },
  {
   "cell_type": "code",
   "execution_count": null,
   "metadata": {},
   "outputs": [],
   "source": [
    "rectconvraw_upd.plot();"
   ]
  },
  {
   "cell_type": "markdown",
   "metadata": {},
   "source": [
    "# Save"
   ]
  },
  {
   "cell_type": "code",
   "execution_count": null,
   "metadata": {},
   "outputs": [],
   "source": [
    "anns = rectconvraw_upd.annotations\n",
    "\n",
    "anns_fn = rawname_ + '_anns.txt'  # not csv!, otherwise origtime is under and then everything is bad when read\n",
    "anns_fn_full = os.path.join(data_dir, anns_fn)\n",
    "print(anns_fn_full)\n",
    "anns.save(anns_fn_full)"
   ]
  },
  {
   "cell_type": "code",
   "execution_count": null,
   "metadata": {},
   "outputs": [],
   "source": []
  },
  {
   "cell_type": "code",
   "execution_count": null,
   "metadata": {},
   "outputs": [],
   "source": [
    "# descrs_upd = anns.description   # note that annotation can be more than 12 sym long!\n",
    "# for i,descr in enumerate(descrs_upd):\n",
    "#     #if descr != 'mvt_L' and descr != 'other_muscle':\n",
    "#     #    descrs_upd[i] += '_L'\n",
    "#     print(i,descrs_upd)\n",
    "#     if descr == 'no_tremor_L':\n",
    "#         descrs_upd[i] = 'trem_L'\n",
    "#         print(descrs_upd[i])\n",
    "#         descr+= '_R'"
   ]
  },
  {
   "cell_type": "code",
   "execution_count": null,
   "metadata": {},
   "outputs": [],
   "source": []
  }
 ],
 "metadata": {
  "kernelspec": {
   "display_name": "conda_oscbagdis",
   "language": "python",
   "name": "conda_oscbagdis"
  },
  "language_info": {
   "codemirror_mode": {
    "name": "ipython",
    "version": 3
   },
   "file_extension": ".py",
   "mimetype": "text/x-python",
   "name": "python",
   "nbconvert_exporter": "python",
   "pygments_lexer": "ipython3",
   "version": "3.8.15"
  },
  "varInspector": {
   "cols": {
    "lenName": 16,
    "lenType": 16,
    "lenVar": 40
   },
   "kernels_config": {
    "python": {
     "delete_cmd_postfix": "",
     "delete_cmd_prefix": "del ",
     "library": "var_list.py",
     "varRefreshCmd": "print(var_dic_list())"
    },
    "r": {
     "delete_cmd_postfix": ") ",
     "delete_cmd_prefix": "rm(",
     "library": "var_list.r",
     "varRefreshCmd": "cat(var_dic_list()) "
    }
   },
   "types_to_exclude": [
    "module",
    "function",
    "builtin_function_or_method",
    "instance",
    "_Feature"
   ],
   "window_display": false
  }
 },
 "nbformat": 4,
 "nbformat_minor": 2
}
