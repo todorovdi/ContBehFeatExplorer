{
 "cells": [
  {
   "cell_type": "code",
   "execution_count": null,
   "metadata": {},
   "outputs": [],
   "source": [
    "%load_ext autoreload\n",
    "%autoreload 2\n",
    "\n",
    "import os,sys\n",
    "\n",
    "code_dir = os.path.expandvars('$OSCBAGDIS_DATAPROC_CODE')\n",
    "sys.path.append(code_dir)\n",
    "\n",
    "import mne\n",
    "import utils  #my code\n",
    "import json\n",
    "import matplotlib.pyplot as plt\n",
    "import numpy as np\n",
    "import h5py\n",
    "import utils_preproc as upre\n",
    "import gc; gc.collect()\n",
    "\n",
    "subdir = ''\n",
    "if os.environ.get('DATA_DUSS') is not None:\n",
    "    data_dir_input = os.path.expandvars('$DATA_DUSS')   + subdir\n",
    "    data_dir_output = os.path.expandvars('$DATA_DUSS')\n",
    "else:\n",
    "    data_dir_input = '/home/demitau/data'   + subdir\n",
    "    data_dir_output = '/home/demitau/data' \n",
    "    \n",
    "\n",
    "read_resampled = 1\n",
    "\n",
    "    \n",
    "subjinds = np.arange(1,11)\n",
    "subjinds = [1,2,3,4]\n",
    "subjinds = [1,2,4,5,7]\n",
    "subjinds = [1,2]\n",
    "tasks = ['hold' , 'move', 'rest']\n",
    "medstates = ['off','on']\n",
    "\n",
    "\n",
    "fnames_noext = []\n",
    "for subjind in subjinds:\n",
    "    sis = '{:02d}'.format(subjind)\n",
    "    for medstate in medstates:\n",
    "        for task in tasks:\n",
    "            addStr = ''\n",
    "\n",
    "        #fnames_noext = ['S{}_off_{}'.format(sis,task), 'S{}_on_{}'.format(sis,task)]\n",
    "        #fnames_noext = ['S01_off_hold', 'S01_on_hold']\n",
    "        #fnames_noext = ['S01_off_move', 'S01_on_move']\n",
    "        #fnames_noext = ['S02_off_move', 'S02_on_move']\n",
    "            fname_noext = 'S{}_{}_{}'.format(sis,medstate,task)\n",
    "            #addStr += '_resample'\n",
    "            addStr += '_resample_notch_highpass'\n",
    "\n",
    "            \n",
    "#             fname = fname_noext + '.mat'\n",
    "#             print('Reading {}'.format(fname) )\n",
    "\n",
    "\n",
    "            if read_resampled:\n",
    "                fname_full = os.path.join(data_dir_output,fname_noext + addStr + '_raw.fif')\n",
    "            else:\n",
    "                fname_full = os.path.join(data_dir_input,fname)\n",
    "            \n",
    "            #print(fname_full)\n",
    "            if os.path.exists(fname_full):\n",
    "                fnames_noext += [fname_noext]\n",
    "                \n",
    "#                 print('Warning: path does not exist!, skip! {}'.format(fname_full))\n",
    "#                 continue\n",
    "\n",
    "\n",
    "\n",
    "#rawname = rawname_ + '_resample_raw.fif'\n",
    "#fname_full = os.path.join(data_dir,rawname)\n",
    "    \n",
    "# read file -- resampled to 256 Hz,  Electa MEG, EMG, LFP, EOG channels\n",
    "#raw = mne.io.read_raw_fif(fname_full, None)\n",
    "\n",
    "print (fnames_noext)"
   ]
  },
  {
   "cell_type": "code",
   "execution_count": null,
   "metadata": {},
   "outputs": [],
   "source": [
    "highpass = None\n",
    "#highpass = 2"
   ]
  },
  {
   "cell_type": "markdown",
   "metadata": {},
   "source": [
    "## Reading subraws"
   ]
  },
  {
   "cell_type": "code",
   "execution_count": null,
   "metadata": {},
   "outputs": [],
   "source": [
    "# modalities = ['EMG','LFP']\n",
    "# mod_picks = ['EMG.*old', 'LFP.*']\n",
    "\n",
    "# subraws = {}\n",
    "# for mod, picks in zip(modalities, mod_picks):\n",
    "#     subraws[mod] = []\n",
    "    \n",
    "# for rawname_naked in fnames_noext: \n",
    "#     raw = uprep.getRaw(rawname_naked)\n",
    "#     raw.load_data()\n",
    "#     for mod, picks in zip(modalities, mod_picks):\n",
    "#         subraw = uprep.getSubRaw(rawname_naked, raw = raw, picks = picks)\n",
    "#         if highpass is not None:\n",
    "#             subraw.filter(l_freq=2, h_freq=None, picks='all')\n",
    "#         if subraw is not None:\n",
    "#             subraws[mod] += [subraw]\n",
    "\n",
    "# gc.collect()"
   ]
  },
  {
   "cell_type": "code",
   "execution_count": null,
   "metadata": {},
   "outputs": [],
   "source": [
    "print('highpass=',highpass)"
   ]
  },
  {
   "cell_type": "code",
   "execution_count": null,
   "metadata": {},
   "outputs": [],
   "source": [
    "fnames_noext"
   ]
  },
  {
   "cell_type": "code",
   "execution_count": null,
   "metadata": {},
   "outputs": [],
   "source": [
    "import utils_preproc as upre\n",
    "\n",
    "#modalities = ['EMG','LFP','MEG'] #,'src']\n",
    "modalities = ['src'] #,'src']\n",
    "rawnames = fnames_noext\n",
    "raws_permod_both_sides = upre.loadRaws(rawnames,modalities, 'parcel_aal', \n",
    "                                       'parcel_ICA', 10, use_saved=False,\n",
    "                                      highpass_lfreq=highpass)\n",
    "\n",
    "gc.collect()"
   ]
  },
  {
   "cell_type": "code",
   "execution_count": null,
   "metadata": {},
   "outputs": [],
   "source": [
    "# check channel counts agree\n",
    "for mod in modalities:   \n",
    "    n_channels_all = [ len(raws_permod_both_sides[rn][mod].ch_names) for rn in rawnames ] \n",
    "    unch =  np.unique(n_channels_all)\n",
    "    assert len(unch ) == 1, unch\n"
   ]
  },
  {
   "cell_type": "code",
   "execution_count": null,
   "metadata": {},
   "outputs": [],
   "source": [
    "sources_type = 'parcel_aal'\n",
    "src_file_grouping_ind = 10\n",
    "src_grouping = 0"
   ]
  },
  {
   "cell_type": "code",
   "execution_count": null,
   "metadata": {},
   "outputs": [],
   "source": [
    "src_rec_info_fn = '{}_{}_grp{}_src_rec_info'.format(rawname_,sources_type,src_file_grouping_ind)\n",
    "src_rec_info_fn_full = os.path.join(gv.data_dir, src_rec_info_fn + '.npz')\n",
    "rec_info = np.load(src_rec_info_fn_full, allow_pickle=True)\n",
    "\n",
    "roi_labels = rec_info['label_groups_dict'][()]      # dict of (orderd) lists\n",
    "srcgrouping_names_sorted = rec_info['srcgroups_key_order'][()]  # order of grouping names\n",
    "assert set(roi_labels.keys() ) == set(srcgrouping_names_sorted )\n",
    "assert len(roi_labels) == 1, 'several groupings in single run -- not implmemented'\n",
    "# assuming we have only one grouping present\n",
    "roi_labels_cur = roi_labels[srcgrouping_names_sorted[src_grouping ]  ]\n"
   ]
  },
  {
   "cell_type": "code",
   "execution_count": null,
   "metadata": {},
   "outputs": [],
   "source": [
    "# rescale LFP recordings at oen of the sides only according to the rest scale\n",
    "if 'LFP' in modalities:\n",
    "    upre.rescaleRaws(raws_permod_both_sides, mod='LFP')\n",
    "if 'src' in modalities:\n",
    "    upre.rescaleRaws(raws_permod_both_sides, mod='src',combine_within_medcond=True,\n",
    "                    roi_labels=roi_labels, srcgrouping_names_sorted=srcgrouping_names_sorted)"
   ]
  },
  {
   "cell_type": "code",
   "execution_count": null,
   "metadata": {},
   "outputs": [],
   "source": [
    "meg_chns = raws_permod_both_sides['S01_off_hold']['MEG'].ch_names\n",
    "nmegs_to_show = 10\n",
    "meg_chis = np.random.choice(len(meg_chns),nmegs_to_show)"
   ]
  },
  {
   "cell_type": "code",
   "execution_count": null,
   "metadata": {},
   "outputs": [],
   "source": [
    "src_chns = raws_permod_both_sides['S01_off_hold']['src'].ch_names\n",
    "nsrcs_to_show = 10\n",
    "src_chis = np.random.choice(len(src_chns),nsrcs_to_show)"
   ]
  },
  {
   "cell_type": "code",
   "execution_count": null,
   "metadata": {},
   "outputs": [],
   "source": [
    "vals = np.linspace(0,1, 15)\n",
    "np.random.shuffle(vals)\n",
    "cmap = plt.cm.colors.ListedColormap(plt.cm.jet(vals))"
   ]
  },
  {
   "cell_type": "markdown",
   "metadata": {},
   "source": [
    "# Over intervals"
   ]
  },
  {
   "cell_type": "code",
   "execution_count": null,
   "metadata": {},
   "outputs": [],
   "source": [
    "int_types_templ = ['trem_{}', 'notrem_{}', 'hold_{}', 'move_{}']"
   ]
  },
  {
   "cell_type": "code",
   "execution_count": null,
   "metadata": {},
   "outputs": [],
   "source": [
    "import globvars as gv\n",
    "\n",
    "sfreq = raws_permod_both_sides[rawnames[0]][modalities[0]].info['sfreq']\n",
    "import utils_tSNE as utsne\n",
    "print(sfreq)"
   ]
  },
  {
   "cell_type": "code",
   "execution_count": null,
   "metadata": {},
   "outputs": [],
   "source": []
  },
  {
   "cell_type": "markdown",
   "metadata": {},
   "source": [
    "## Collect stats"
   ]
  },
  {
   "cell_type": "code",
   "execution_count": null,
   "metadata": {},
   "outputs": [],
   "source": [
    "#%debug\n",
    "#side_to_use = 'main_trem'\n",
    "side_to_use =  'main_move'\n",
    "qmult = 1.15  # how much to multiply the qunatile span\n",
    "qch_hist_xshift = 0.1\n",
    "\n",
    "xshifts_rel_perint_permod = {}  # set shifts for displaying so that histograms don't interesect\n",
    "dat_permod_perraw_perint = {}\n",
    "for mod in modalities:\n",
    "    dat_permod_perraw_perint[mod] = {}\n",
    "    xshifts_rel_perint = {}\n",
    "    \n",
    "    \n",
    "    n_channels_all = [ len(raws_permod_both_sides[rn][mod].ch_names) for rn in rawnames ] \n",
    "    nmn,nmx = np.min(n_channels_all), np.max(n_channels_all)\n",
    "    assert nmn==nmx, (nmn,nmx)\n",
    "    n_channels = n_channels_all[0]\n",
    "    for int_type in int_types_templ:\n",
    "        xshifts_rel = [0]*n_channels\n",
    "        xshifts_rel_perint[int_type] = xshifts_rel\n",
    "\n",
    "    # first gather info \n",
    "    for i in range(len(fnames_noext)):\n",
    "        rawind = i\n",
    "        rawname_ = fnames_noext[rawind]\n",
    "        dat_permod_perraw_perint[mod][rawname_] = {}\n",
    "        subj,medcond,task  = utils.getParamsFromRawname(rawname_)\n",
    "        #raw = subraws[mod ][rawind]\n",
    "        raw = raws_permod_both_sides[rawname_][mod]\n",
    "        \n",
    "        #fname_full_LFPartif = os.path.join(gv.data_dir, '{}_ann_LFPartif.txt'.format(rawname_) )\n",
    "        #anns_LFP_artif = mne.read_annotations(fname_full_LFPartif)\n",
    "        \n",
    "        anns_mvt, anns_artif_pri, times2, dataset_bounds = \\\n",
    "        utsne.concatAnns([rawname_],[raw.times] )\n",
    "        ivalis_mvt = utils.ann2ivalDict(anns_mvt)\n",
    "        ivalis_mvt_tb, ivalis_mvt_tb_indarrays = utsne.getAnnBins(ivalis_mvt, raw.times,\n",
    "                                                                    0, sfreq, 1, 1, \n",
    "                                                                      dataset_bounds)\n",
    "        ivalis_mvt_tb_indarrays_merged = utsne.mergeAnnBinArrays(ivalis_mvt_tb_indarrays)\n",
    "\n",
    "        \n",
    "        if mod == 'LFP':\n",
    "            prefixes = ['_ann_LFPartif']\n",
    "        elif mod in ['MEG','src']:\n",
    "            prefixes = ['_ann_MEGartif']\n",
    "        anns_artif, anns_artif_pri, times2, dataset_bounds = \\\n",
    "        utsne.concatAnns([rawname_],[raw.times],prefixes )\n",
    "        ivalis_artif = utils.ann2ivalDict(anns_artif)\n",
    "        ivalis_artif_tb, ivalis_artif_tb_indarrays = utsne.getAnnBins(ivalis_artif, raw.times,\n",
    "                                                                    0, sfreq, 1, 1, \n",
    "                                                                      dataset_bounds)\n",
    "        ivalis_artif_tb_indarrays_merged = utsne.mergeAnnBinArrays(ivalis_artif_tb_indarrays)\n",
    "        \n",
    "\n",
    "        for j in range(len(int_types_templ)):\n",
    "            if mod == 'MEG':\n",
    "                chdata,times = raw[meg_chis,:]\n",
    "                chnames = np.array(raw.ch_names)[meg_chis]\n",
    "            elif mod == 'src':\n",
    "                chdata,times = raw[src_chis,:]\n",
    "                chnames = np.array(raw.ch_names)[src_chis]\n",
    "            else:\n",
    "                chdata = raw.get_data()\n",
    "                chnames = raw.ch_names\n",
    "                    \n",
    "            side = None\n",
    "            if side_to_use == 'main_trem':\n",
    "                side = gv.gen_subj_info[subj]['tremor_side']                \n",
    "            elif side_to_use == 'main_move':\n",
    "                side = gv.gen_subj_info[subj].get('move_side',None)\n",
    "            if side is None:\n",
    "                print('{}: {} is None'.format(rawname_, side_to_use))\n",
    "            side_letter = side[0].upper()\n",
    "            \n",
    "            itcur = int_types_templ[j]\n",
    "            int_type_cur = itcur.format(side_letter)\n",
    "\n",
    "            ivalbins = ivalis_mvt_tb_indarrays_merged.get(int_type_cur, None )\n",
    "            if ivalbins is None:\n",
    "                continue\n",
    "            mask = np.zeros(chdata.shape[1], dtype=bool)\n",
    "            mask[ivalbins] = True\n",
    "            dat_permod_perraw_perint[mod][rawname_][itcur] = [0]*len(chnames) #chds\n",
    "                \n",
    "            for chni,chn in enumerate(chnames):\n",
    "                artif_bins_cur = ivalis_artif_tb_indarrays_merged.get('BAD_{}'.format(chn),[])\n",
    "                mbefore = np.sum(mask)\n",
    "                mask[artif_bins_cur] = False\n",
    "                mafter = np.sum(mask)\n",
    "                ndiscard = mbefore - mafter\n",
    "                if ndiscard > 0:\n",
    "                    print('{}:{} in {} {} artifact bins (={:5.2f}s) discarded'.\\\n",
    "                          format(rawname_,chn,int_type_cur,ndiscard,ndiscard/sfreq))\n",
    "                chd = chdata[chni,mask] # noe that it is not modified\n",
    "                \n",
    "                dat_permod_perraw_perint[mod][rawname_][itcur][chni] = chd\n",
    "                \n",
    "                #if chd.size < 10:                       \n",
    "                #chd = chdata[0,sl]\n",
    "                r = np.quantile(chd,1-qch_hist_xshift)- np.quantile(chd,qch_hist_xshift)\n",
    "                xshift = r * qmult \n",
    "                xshifts_rel_perint[itcur][chni] = max(xshifts_rel_perint[itcur][chni], xshift)\n",
    "    xshifts_rel_perint_permod[mod] = xshifts_rel_perint\n",
    "print('\\nStats gather finished')"
   ]
  },
  {
   "cell_type": "markdown",
   "metadata": {},
   "source": [
    "# Plot everything (takes time)"
   ]
  },
  {
   "cell_type": "code",
   "execution_count": null,
   "metadata": {},
   "outputs": [],
   "source": [
    "rawnames_to_show = fnames_noext\n",
    "\n",
    "#timerange = 0,100\n",
    "#timerange = None\n",
    "nr = len(rawnames_to_show); \n",
    "nc = len(int_types_templ)\n",
    "#nr =2\n",
    "ww = 10; hh = 3\n",
    "nbins_hist = 100\n",
    "\n",
    "qsh = 5e-2  # what will be used for limits computations\n",
    "qsh_disp = 5e-3 # what will be given to hist function\n",
    "\n",
    "subjindlist_str = ','.join(map(str,subjinds) )\n",
    "for mod in modalities:\n",
    "    fig,axs = plt.subplots(nrows=nr, ncols=nc, figsize= (nc*ww,nr*hh), sharex='col')\n",
    "    plt.subplots_adjust(left=0.03,right=0.99, bottom=0.02,top=0.97)\n",
    "    mns = nc*[np.inf]\n",
    "    mxs = nc*[-np.inf]\n",
    "    \n",
    "    for i,rawname_ in enumerate(rawnames_to_show):\n",
    "        rawind = i\n",
    "        rawname_ = rawnames_to_show[rawind]\n",
    "        raw = raws_permod_both_sides[rawname_][mod ]\n",
    "        for j in range(nc):     \n",
    "            ax = axs[i,j]\n",
    "            itcur = int_types_templ[j]\n",
    "            \n",
    "            # it will be reset later if interval is indeed found\n",
    "            ax.set_title('{} {} interval_type={}, 0s'.\\\n",
    "                         format(fnames_noext[rawind], mod, itcur) )\n",
    "\n",
    "            \n",
    "            chds = dat_permod_perraw_perint[mod][rawname_].get(itcur,None)\n",
    "            if chds is None:\n",
    "                continue\n",
    "            if mod == 'MEG':\n",
    "                chnames = np.array(raw.ch_names)[meg_chis]\n",
    "            elif mod == 'src':\n",
    "                chnames = np.array(raw.ch_names)[src_chis]\n",
    "            else:\n",
    "                chnames = raw.ch_names\n",
    "            for chni,chn in enumerate(chnames):\n",
    "                chdata, times = raw[chn]\n",
    "                clr = cmap(vals[chni ])\n",
    "\n",
    "                chd = chds[chni]\n",
    "\n",
    "                # sum shifts over all prev channel indices\n",
    "                xshift = np.sum( xshifts_rel_perint_permod[mod][itcur][:chni] )\n",
    "                chd2 = chd + xshift\n",
    "                if chd2.size == 0:\n",
    "                    print('fdf')\n",
    "                    continue\n",
    "\n",
    "                q0 = np.quantile(chd2,qsh)\n",
    "                q1 = np.quantile(chd2,1-qsh)\n",
    "                q0_disp = np.quantile(chd2,qsh_disp)\n",
    "                q1_disp = np.quantile(chd2,1-qsh_disp)\n",
    "\n",
    "                ax.hist(chd2, bins=nbins_hist, label=chn, alpha = 0.5, \n",
    "                        range=(q0_disp,q1_disp), color=clr )\n",
    "                ax.axvline(x=np.mean(chd2), c=clr, ls=':')\n",
    "\n",
    "                mns[j] = min(mns[j], q0)\n",
    "                mxs[j] = max(mxs[j], q1)\n",
    "                \n",
    "#                 if chn == 'LFPL12':\n",
    "#                     print(mod,rawname_,itcur,'LFPL12',np.min(chd2),np.max(chd2))\n",
    "\n",
    "                #print('{} shift {}  q = {},{}'.format(chn,xshift,q0,q1) )\n",
    "\n",
    "\n",
    "            ax.legend(loc='upper left')\n",
    "            ax.grid()\n",
    "            ax.set_title('{} {} interval_type={}, {:.2f}s'.\n",
    "                         format(fnames_noext[rawind], mod, itcur, len(chd2)/raw.info['sfreq'] ) )\n",
    "\n",
    "        print('  {} of {} finished'.format(mod, rawname_))\n",
    "    for i in range(nr):\n",
    "        for j in range(nc):    \n",
    "            if not np.any( np.isinf([mns[j], mxs[j] ] ) ):\n",
    "                axs[i,j].set_xlim(mns[j],mxs[j])\n",
    "\n",
    "    plt.savefig('{}_stat_across_subj_highpass{}_{}.pdf'.format(subjindlist_str,highpass,mod))\n",
    "    plt.close()\n",
    "    print('{} finished'.format(mod))"
   ]
  },
  {
   "cell_type": "code",
   "execution_count": null,
   "metadata": {},
   "outputs": [],
   "source": []
  },
  {
   "cell_type": "code",
   "execution_count": null,
   "metadata": {},
   "outputs": [],
   "source": []
  },
  {
   "cell_type": "code",
   "execution_count": null,
   "metadata": {},
   "outputs": [],
   "source": []
  },
  {
   "cell_type": "code",
   "execution_count": null,
   "metadata": {},
   "outputs": [],
   "source": []
  },
  {
   "cell_type": "code",
   "execution_count": null,
   "metadata": {},
   "outputs": [],
   "source": [
    "if highpass == 2:\n",
    "    szEMG = 5e-4\n",
    "    szLFP = 1e-5\n",
    "    defrange_permod = {'EMG':(-szEMG,szEMG), 'LFP':(-szLFP,szLFP) } # for 1 Hz fitlered data\n",
    "else:\n",
    "    rangeEMG = (0.00022087509714765474, 0.003293280061916448)\n",
    "    rangeLFP = (-0.00016875398068805225, 0.0019851821198426474)\n",
    "    defrange_permod = {'EMG':rangeEMG, 'LFP':rangeLFP}"
   ]
  },
  {
   "cell_type": "code",
   "execution_count": null,
   "metadata": {},
   "outputs": [],
   "source": [
    "defrange_permod"
   ]
  },
  {
   "cell_type": "code",
   "execution_count": null,
   "metadata": {},
   "outputs": [],
   "source": [
    "#defrange  = None"
   ]
  },
  {
   "cell_type": "code",
   "execution_count": null,
   "metadata": {},
   "outputs": [],
   "source": [
    "#pp = ax.get_children()[0]"
   ]
  },
  {
   "cell_type": "code",
   "execution_count": null,
   "metadata": {},
   "outputs": [],
   "source": []
  },
  {
   "cell_type": "code",
   "execution_count": null,
   "metadata": {},
   "outputs": [],
   "source": [
    "cmap(vals[0])"
   ]
  },
  {
   "cell_type": "code",
   "execution_count": null,
   "metadata": {},
   "outputs": [],
   "source": [
    "xshifts_rel_permod"
   ]
  },
  {
   "cell_type": "code",
   "execution_count": null,
   "metadata": {},
   "outputs": [],
   "source": [
    "#timerange = 0,100\n",
    "#timerange = None\n",
    "nr = len(fnames_noext); nc=len(modalities)\n",
    "#nr =2\n",
    "ww = 10; hh = 3\n",
    "fig,axs = plt.subplots(nrows=nr, ncols=nc, figsize= (nc*ww,nr*hh), sharex='col')\n",
    "mns = nc*[np.inf]\n",
    "mxs = nc*[-np.inf]\n",
    "\n",
    "qsh = 5e-2\n",
    "qmult = 1.15\n",
    "\n",
    "xshifts_rel_permod = {}\n",
    "for mod in modalities:\n",
    "    n_channels = len( subraws[mod ][0].ch_names )\n",
    "    xshifts_rel = [0]*n_channels\n",
    "    xshifts_rel_permod[mod] = xshifts_rel\n",
    "\n",
    "#xshifts0 = 0 * [nc]\n",
    "    \n",
    "# first gather info \n",
    "for i in range(nr):\n",
    "    for j in range(nc):\n",
    "        ax = axs[i,j]\n",
    "        mod = modalities[j]\n",
    "        raw = subraws[mod ][i]\n",
    "        \n",
    "        n_channels = len(raw.ch_names)\n",
    "        for chni,chn in enumerate(raw.ch_names):\n",
    "            chdata, times = raw[chn]\n",
    "            if timerange is not None:\n",
    "                sl = slice(i0,i1)\n",
    "            else:\n",
    "                sl = slice(None)\n",
    "            chd = chdata[0,sl]\n",
    "            xshift = ( np.quantile(chd,0.9)- np.quantile(chd,0.1) ) * qmult \n",
    "            \n",
    "            xshifts_rel_permod[mod][chni] = max(xshifts_rel_permod[mod][chni], xshift)\n",
    "        \n",
    "for i in range(nr):\n",
    "    for j in range(nc):     \n",
    "        ax = axs[i,j]\n",
    "        mod = modalities[j]\n",
    "        raw = subraws[mod ][i]\n",
    "        \n",
    "        for chni,chn in enumerate(raw.ch_names):\n",
    "            chdata, times = raw[chn]\n",
    "            clr = cmap(vals[chni ])\n",
    "            \n",
    "            if timerange is not None:\n",
    "                sl = slice(i0,i1)\n",
    "            else:\n",
    "                sl = slice(None)\n",
    "            chd = chdata[0,sl]\n",
    "            \n",
    "            xshift = np.sum( xshifts_rel_permod[mod][:chni] )\n",
    "            chd2 = chd + xshift\n",
    "#             if defrange_permod[mod] is not None:\n",
    "#                 rngshift = defrange_permod[mod] + xshift\n",
    "#             else:\n",
    "#                 rngshift = None\n",
    "            \n",
    "            q0 = np.quantile(chd2,qsh)\n",
    "            q1 = np.quantile(chd2,1-qsh)\n",
    "#             q0_ = q0 - np.abs(q0) * 2\n",
    "#             q1_ = q1 + np.abs(q1) * 2\n",
    "            q0_ = np.quantile(chd2,1e-2)\n",
    "            q1_ = np.quantile(chd2,1-1e-2)\n",
    "            \n",
    "            ax.hist(chd2, bins=200, label=chn, alpha = 0.5, range=(q0_,q1_), color=clr )\n",
    "            ax.axvline(x=np.mean(chd2), c=clr, ls=':')\n",
    "\n",
    "            mns[j] = min(mns[j], q0)\n",
    "            mxs[j] = max(mxs[j], q1)\n",
    "            \n",
    "            #print('{} shift {}  q = {},{}'.format(chn,xshift,q0,q1) )\n",
    "            \n",
    "            \n",
    "        ax.legend(loc='upper left')\n",
    "        ax.grid()\n",
    "        ax.set_title('{}_{}_time={}'.format(fnames_noext[i], mod, timerange ) )\n",
    "        \n",
    "for i in range(nr):\n",
    "    for j in range(nc):    \n",
    "        axs[i,j].set_xlim(mns[j],mxs[j])\n",
    "    \n",
    "plt.savefig('across_subj_highpass{}.pdf'.format(highpass))"
   ]
  },
  {
   "cell_type": "code",
   "execution_count": null,
   "metadata": {},
   "outputs": [],
   "source": [
    "defrange_permod[mod] "
   ]
  },
  {
   "cell_type": "code",
   "execution_count": null,
   "metadata": {},
   "outputs": [],
   "source": [
    "mns,mxs"
   ]
  },
  {
   "cell_type": "code",
   "execution_count": null,
   "metadata": {},
   "outputs": [],
   "source": [
    "mns[1]*2, mxs[1]*2"
   ]
  },
  {
   "cell_type": "code",
   "execution_count": null,
   "metadata": {},
   "outputs": [],
   "source": [
    "#help(plt.hist)"
   ]
  },
  {
   "cell_type": "code",
   "execution_count": null,
   "metadata": {},
   "outputs": [],
   "source": [
    "np.quantile(chdata,0.98)"
   ]
  },
  {
   "cell_type": "code",
   "execution_count": null,
   "metadata": {},
   "outputs": [],
   "source": [
    "int_types = ['trem_L', 'notrem_L', 'hold_L', 'move_L']"
   ]
  },
  {
   "cell_type": "code",
   "execution_count": null,
   "metadata": {},
   "outputs": [],
   "source": []
  },
  {
   "cell_type": "code",
   "execution_count": null,
   "metadata": {},
   "outputs": [],
   "source": [
    "fnames_noext"
   ]
  },
  {
   "cell_type": "code",
   "execution_count": null,
   "metadata": {},
   "outputs": [],
   "source": [
    "ivalis_per_raw = {}\n",
    "for fn in fnames_noext:\n",
    "    ivalis = {'entire':[ times[0], times[-1], 'entire' ]}\n",
    "    anns_fn = fn + '_anns.txt'\n",
    "    anns_fn_full = os.path.join(data_dir, anns_fn)\n",
    "    if os.path.exists(anns_fn_full):\n",
    "        anns = mne.read_annotations(anns_fn_full)\n",
    "        ivalis_ = utils.ann2ivalDict(anns)\n",
    "        ivalis.update(ivalis_)\n",
    "    ivalis_per_raw[fn] = ivalis"
   ]
  },
  {
   "cell_type": "code",
   "execution_count": null,
   "metadata": {},
   "outputs": [],
   "source": [
    "for subj in gv.gen_subj_info:\n",
    "    info = gv.gen_subj_info[subj]\n",
    "    ts = info.get('tremor_side','UNDEF')\n",
    "    ms = info.get('move_side','UNDEF')\n",
    "    s = ''\n",
    "    if ts != ms:\n",
    "        s = '----'\n",
    "    print(s,subj,ts,ms)"
   ]
  },
  {
   "cell_type": "code",
   "execution_count": null,
   "metadata": {},
   "outputs": [],
   "source": [
    "gv.gen_subj_info['S04']['tremor_side'], gv.gen_subj_info['S04']['move_side']"
   ]
  },
  {
   "cell_type": "code",
   "execution_count": null,
   "metadata": {},
   "outputs": [],
   "source": [
    "maintremside"
   ]
  },
  {
   "cell_type": "code",
   "execution_count": null,
   "metadata": {},
   "outputs": [],
   "source": [
    "raw.info['sfreq']"
   ]
  },
  {
   "cell_type": "code",
   "execution_count": null,
   "metadata": {},
   "outputs": [],
   "source": [
    "import globvars as gv\n",
    "data_dir = gv.data_dir"
   ]
  },
  {
   "cell_type": "code",
   "execution_count": null,
   "metadata": {},
   "outputs": [],
   "source": [
    "chd.shape"
   ]
  },
  {
   "cell_type": "code",
   "execution_count": null,
   "metadata": {},
   "outputs": [],
   "source": [
    "#%debug\n",
    "\n",
    "\n",
    "mn_permod = {}\n",
    "mx_permod = {}\n",
    "for mod in modalities:\n",
    "    mn,mx = np.inf, -np.inf\n",
    "    mn_permod[mod ] = mn\n",
    "    mx_permod[mod ] = mx\n",
    "\n",
    "subjinds_toshow = [1]\n",
    "for subji in subjinds_toshow:  #subjinds:\n",
    "    dessubj = 'S{:02d}'.format(subji)\n",
    "        \n",
    "    inds = []\n",
    "    for ii in range(len(fnames_noext)):\n",
    "        rawn = fnames_noext[ii]\n",
    "        sind_str,medcond,task = utils.getParamsFromRawname(rawn)\n",
    "        #print(sind_str)\n",
    "        if sind_str == dessubj:\n",
    "            inds += [ii]\n",
    "    \n",
    "    nr = len(inds); nc=len(modalities)*len(int_types)\n",
    "    ww = 10; hh = 3\n",
    "    fig,axs = plt.subplots(nrows=nr, ncols=nc, figsize= (nc*ww,nr*hh), sharex='col')\n",
    "    plt.subplots_adjust(left=0.02,right=0.99)\n",
    "    rowind = 0\n",
    "\n",
    "    xshifts = []\n",
    "    for j in range(nc):\n",
    "        modind = j // len(int_types)\n",
    "        \n",
    "        mod = modalities[modind]\n",
    "            \n",
    "        for i in range(nr):\n",
    "            ax = axs[i,j]\n",
    "            \n",
    "            fn = fnames_noext[inds[i]]\n",
    "            raw = subraws[mod ][inds[i]]\n",
    "#             print(i,j,fn)\n",
    "#             continue\n",
    "            \n",
    "            ivalis = {'entire':[ times[0], times[-1], 'entire' ]}\n",
    "            anns_fn = fn + '_anns.txt'\n",
    "            anns_fn_full = os.path.join(data_dir, anns_fn)\n",
    "            if os.path.exists(anns_fn_full):\n",
    "                anns = mne.read_annotations(anns_fn_full)\n",
    "                ivalis_ = utils.ann2ivalDict(anns)\n",
    "                ivalis.update(ivalis_)\n",
    "\n",
    "\n",
    "            int_type_cur = int_types[ j % len(int_types)  ]\n",
    "            #for int_type_cur in int_types:\n",
    "            for chni,chn in enumerate(raw.ch_names):\n",
    "                chdata, times = raw[chn]\n",
    "\n",
    "                #int_type_cur\n",
    "                chds = []\n",
    "                intervals = ivalis.get(int_type_cur, [None] )\n",
    "                for timerange in intervals:\n",
    "                    if timerange is not None:\n",
    "                        i0, i1 = raw.time_as_index([timerange[0],timerange[1]])\n",
    "                        sl = slice(i0,i1)\n",
    "                    else:\n",
    "                        print('{} Wrong interval type {}'.format(rawname_,int_type_cur) )\n",
    "                        sl = np.arange( 2)\n",
    "                    chd_ = chdata[0,sl]\n",
    "                    chds += [chd_]\n",
    "                chd = np.hstack(chds)\n",
    "                if chd.size > 10:\n",
    "                    xshift = np.quantile(chd,0.9)\n",
    "                    chd2 = chd+xshift\n",
    "                    \n",
    "                    mn_,mx_ = np.quantile(chd2,qsh),  np.quantile(chd2,1-qsh)\n",
    "                    mn_permod[mod ] = min( mn_permod[mod ], mn_ )\n",
    "                    mx_permod[mod ] = max( mx_permod[mod ], mx_ )                \n",
    "                    \n",
    "                    clr = cmap(vals[chni ])\n",
    "                    ax.hist(chd2, bins=50, label=chn, alpha = 0.6, range = defrange_permod[mod], color=clr)\n",
    "                    ax.axvline(x=xshift + np.mean(chd), c=clr, ls=':')\n",
    "\n",
    "                    print('{},{}; int_type={} min={:.3f}, max={:.3f}'.format(chn,int_type_cur,int_type_cur,mn_*10000,mx_*10000) )\n",
    "            \n",
    "            ax.legend(loc='upper left')\n",
    "            ax.grid()\n",
    "            if timerange is None:\n",
    "                timerange = [-1,-1]\n",
    "            ax.set_title('{}_{}_(last)time={:.2f},{:.2f}_totlen={:.2f}'.format(fn, int_type_cur, timerange[0],timerange[1], chd.size / raw.info['sfreq']  ) )\n",
    "            \n",
    "    for i in range(nr):\n",
    "        for j in range(nc):\n",
    "            modind = j // len(int_types)\n",
    "            mod = modalities[modind]\n",
    "            mn = mn_permod[mod ]\n",
    "            mx = mx_permod[mod ]\n",
    "            if not (np.isinf(mn) or np.isinf(mx) ):\n",
    "                axs[i,j].set_xlim(mn,mx)\n",
    "\n",
    "    plt.savefig('{}_highpass{}_stats_across_cond_tasks.pdf'.format(dessubj, highpass))\n",
    "    plt.close()"
   ]
  },
  {
   "cell_type": "code",
   "execution_count": null,
   "metadata": {},
   "outputs": [],
   "source": [
    "help(plt.hist)"
   ]
  },
  {
   "cell_type": "code",
   "execution_count": null,
   "metadata": {},
   "outputs": [],
   "source": [
    "fnames_noext"
   ]
  },
  {
   "cell_type": "code",
   "execution_count": null,
   "metadata": {},
   "outputs": [],
   "source": [
    "mn_permod"
   ]
  },
  {
   "cell_type": "code",
   "execution_count": null,
   "metadata": {},
   "outputs": [],
   "source": [
    "mx_permod"
   ]
  },
  {
   "cell_type": "code",
   "execution_count": null,
   "metadata": {},
   "outputs": [],
   "source": [
    "ivalis"
   ]
  },
  {
   "cell_type": "code",
   "execution_count": null,
   "metadata": {},
   "outputs": [],
   "source": [
    "inds"
   ]
  },
  {
   "cell_type": "code",
   "execution_count": null,
   "metadata": {},
   "outputs": [],
   "source": [
    "inds"
   ]
  },
  {
   "cell_type": "code",
   "execution_count": null,
   "metadata": {},
   "outputs": [],
   "source": [
    "print(inds)"
   ]
  },
  {
   "cell_type": "code",
   "execution_count": null,
   "metadata": {},
   "outputs": [],
   "source": [
    "help(plt.hist)"
   ]
  },
  {
   "cell_type": "code",
   "execution_count": null,
   "metadata": {},
   "outputs": [],
   "source": []
  }
 ],
 "metadata": {
  "kernelspec": {
   "display_name": "Python 3",
   "language": "python",
   "name": "python3"
  },
  "language_info": {
   "codemirror_mode": {
    "name": "ipython",
    "version": 3
   },
   "file_extension": ".py",
   "mimetype": "text/x-python",
   "name": "python",
   "nbconvert_exporter": "python",
   "pygments_lexer": "ipython3",
   "version": "3.8.5"
  },
  "varInspector": {
   "cols": {
    "lenName": 16,
    "lenType": 16,
    "lenVar": 40
   },
   "kernels_config": {
    "python": {
     "delete_cmd_postfix": "",
     "delete_cmd_prefix": "del ",
     "library": "var_list.py",
     "varRefreshCmd": "print(var_dic_list())"
    },
    "r": {
     "delete_cmd_postfix": ") ",
     "delete_cmd_prefix": "rm(",
     "library": "var_list.r",
     "varRefreshCmd": "cat(var_dic_list()) "
    }
   },
   "types_to_exclude": [
    "module",
    "function",
    "builtin_function_or_method",
    "instance",
    "_Feature"
   ],
   "window_display": false
  }
 },
 "nbformat": 4,
 "nbformat_minor": 2
}
