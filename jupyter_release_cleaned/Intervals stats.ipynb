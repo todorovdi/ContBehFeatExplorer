{
 "cells": [
  {
   "cell_type": "code",
   "execution_count": null,
   "metadata": {},
   "outputs": [],
   "source": [
    "%load_ext autoreload\n",
    "%autoreload 2"
   ]
  },
  {
   "cell_type": "code",
   "execution_count": null,
   "metadata": {},
   "outputs": [],
   "source": [
    "import globvars as gv\n",
    "import os\n",
    "import mne,utils"
   ]
  },
  {
   "cell_type": "code",
   "execution_count": null,
   "metadata": {},
   "outputs": [],
   "source": [
    "#anns_cnv, ivalis_perside = utils.intervalJSON2Anns(rawname_)"
   ]
  },
  {
   "cell_type": "code",
   "execution_count": null,
   "metadata": {},
   "outputs": [],
   "source": []
  },
  {
   "cell_type": "code",
   "execution_count": null,
   "metadata": {},
   "outputs": [],
   "source": [
    "from globvars import gp"
   ]
  },
  {
   "cell_type": "code",
   "execution_count": null,
   "metadata": {},
   "outputs": [],
   "source": [
    "#gv.gen_subj_info\n",
    "import json"
   ]
  },
  {
   "cell_type": "code",
   "execution_count": null,
   "metadata": {},
   "outputs": [],
   "source": [
    "import utils_preproc as upre"
   ]
  },
  {
   "cell_type": "code",
   "execution_count": null,
   "metadata": {},
   "outputs": [],
   "source": [
    "\n",
    "    # print('\\nmy prev interval lengths')\n",
    "    # lens_cnv = utils.getIntervalsTotalLens(anns_cnv, True, times=raw.times) \n",
    "    # display(lens_cnv )\n",
    "    # #display(anns_cnv.description)\n",
    "    # if mts_trem_str not in anns_cnv.description:\n",
    "    #     print('!! There is no tremor, accdording to prev me')\n",
    "rawname_ = 'S01_off_hold'\n",
    "aritfs = ['_ann_MEGartif_flt', '_ann_MEGartif']\n",
    "\n",
    "lens, ann_dict = upre.getIntervalInfoFromRawname(rawname_, ann_MEGartif_prefix_to_use=aritfs);#,interval=(150,250));\n",
    "lens_short = upre.getIntervalInfoFromRawname(rawname_,crop=(170,220), ann_MEGartif_prefix_to_use=aritfs);"
   ]
  },
  {
   "cell_type": "code",
   "execution_count": null,
   "metadata": {},
   "outputs": [],
   "source": []
  },
  {
   "cell_type": "code",
   "execution_count": null,
   "metadata": {},
   "outputs": [],
   "source": [
    "sfreq = 1/256\n",
    "sfreq"
   ]
  },
  {
   "cell_type": "code",
   "execution_count": null,
   "metadata": {},
   "outputs": [],
   "source": []
  },
  {
   "cell_type": "code",
   "execution_count": null,
   "metadata": {},
   "outputs": [],
   "source": [
    "df.query('type == \"artif\"')"
   ]
  },
  {
   "cell_type": "code",
   "execution_count": null,
   "metadata": {},
   "outputs": [],
   "source": [
    "list(sorted(lens.keys()))[0].find('_L')"
   ]
  },
  {
   "cell_type": "code",
   "execution_count": null,
   "metadata": {},
   "outputs": [],
   "source": [
    "rawnames = []\n",
    "rawnames +=  ['S06_off_hold', 'S06_off_move'] + ['S06_on_hold', 'S06_on_move'] \n",
    "rawnames +=  ['S07_off_hold', 'S07_off_move'] + ['S07_on_hold', 'S07_on_move'] \n",
    "rawnames +=  ['S08_off_rest', 'S08_on_rest'] "
   ]
  },
  {
   "cell_type": "code",
   "execution_count": null,
   "metadata": {},
   "outputs": [],
   "source": [
    "%load_ext autoreload\n",
    "%autoreload 2"
   ]
  },
  {
   "cell_type": "code",
   "execution_count": null,
   "metadata": {},
   "outputs": [],
   "source": [
    "upre.getRawnameListStructure(rawnames)"
   ]
  },
  {
   "cell_type": "code",
   "execution_count": null,
   "metadata": {},
   "outputs": [],
   "source": [
    "rawnames =   ['S01_off_hold', 'S01_off_move'] + ['S01_on_hold', 'S01_on_move']\n",
    "rawnames +=  ['S02_off_hold', 'S02_off_move'] + ['S02_on_hold', 'S02_on_move'] \n",
    "rawnames +=  ['S03_off_hold', 'S03_off_move']\n",
    "rawnames +=  ['S04_off_hold', 'S04_off_move'] + ['S04_on_hold', 'S04_on_move'] \n",
    "rawnames +=  ['S05_off_hold', 'S05_off_move'] + ['S05_on_hold', 'S05_on_move'] \n",
    "rawnames +=  ['S06_off_hold', 'S06_off_move'] + ['S06_on_hold', 'S06_on_move'] \n",
    "rawnames +=  ['S07_off_hold', 'S07_off_move'] + ['S07_on_hold', 'S07_on_move'] \n",
    "rawnames +=  ['S08_off_rest', 'S08_on_rest'] \n",
    "rawnames +=  ['S09_off_rest'] \n",
    "rawnames +=  ['S10_off_rest', 'S10_off_move']\n",
    "\n",
    "assert 31 == len(rawnames)"
   ]
  },
  {
   "cell_type": "code",
   "execution_count": null,
   "metadata": {},
   "outputs": [],
   "source": []
  },
  {
   "cell_type": "code",
   "execution_count": null,
   "metadata": {},
   "outputs": [],
   "source": [
    "%%capture cap"
   ]
  },
  {
   "cell_type": "code",
   "execution_count": null,
   "metadata": {},
   "outputs": [],
   "source": [
    "for rawname_ in rawnames:\n",
    "    try:\n",
    "        upre.getGenIntervalInfoFromRawname(rawname_);\n",
    "    except FileNotFoundError as fnfe:\n",
    "        print(fnfe)\n",
    "        \n",
    "with open('interval_stats_output.txt', 'w') as f:\n",
    "    f.write(cap.stdout)\n",
    "\n",
    "        "
   ]
  },
  {
   "cell_type": "code",
   "execution_count": null,
   "metadata": {},
   "outputs": [],
   "source": []
  },
  {
   "cell_type": "code",
   "execution_count": null,
   "metadata": {},
   "outputs": [],
   "source": []
  },
  {
   "cell_type": "code",
   "execution_count": null,
   "metadata": {},
   "outputs": [],
   "source": [
    "rawnames =   ['S01_off_hold', 'S01_off_move'] + ['S01_on_hold', 'S01_on_move']\n",
    "rawnames +=  ['S02_off_hold', 'S02_off_move'] + ['S02_on_hold', 'S02_on_move'] \n",
    "rawnames +=  ['S03_off_hold', 'S03_off_move']\n",
    "rawnames +=  ['S04_off_hold', 'S04_off_move'] + ['S04_on_hold', 'S04_on_move'] \n",
    "rawnames +=  ['S05_off_hold', 'S05_off_move'] + ['S05_on_hold', 'S05_on_move'] \n",
    "#rawnames +=  ['S06_off_hold', 'S06_off_move'] + ['S06_on_hold', 'S06_on_move'] \n",
    "rawnames +=  ['S07_off_hold', 'S07_off_move'] + ['S07_on_hold', 'S07_on_move'] \n",
    "#rawnames +=  ['S08_off_rest', 'S08_on_rest'] \n",
    "#rawnames +=  ['S09_off_rest'] \n",
    "#rawnames +=  ['S10_off_rest', 'S10_off_move']\n",
    "\n",
    "len(rawnames)"
   ]
  },
  {
   "cell_type": "code",
   "execution_count": null,
   "metadata": {},
   "outputs": [],
   "source": [
    "dfs = []\n",
    "for rawname_ in rawnames:\n",
    "    aritfs = ['_ann_MEGartif_flt', '_ann_MEGartif']\n",
    "\n",
    "    lens, ann_dict = upre.getIntervalInfoFromRawname(rawname_, \n",
    "        ann_MEGartif_prefix_to_use=aritfs);#,interval=(150,250));\n",
    "    \n",
    "    \n",
    "    \n",
    "    tmin,tmax = 0,-1\n",
    "    for anntype,anns in ann_dict.items():\n",
    "        print(anntype,anns)\n",
    "        tmin = min( tmin, np.min(anns.onset) )\n",
    "        tmax = max(tmax, np.max(anns.onset + anns.duration))\n",
    "    tmin,tmax\n",
    "    # create bins, set them for anns, remove artif outside anns, calc lens\n",
    "    \n",
    "    subj = rawname_.split('_')[0]\n",
    "    maintremside = gv.gen_subj_info[subj]['tremor_side']\n",
    "    move_side = gv.gen_subj_info[subj].get('move_side','UNDEF')\n",
    "    tremfreq = gv.gen_subj_info[subj]['tremfreq']\n",
    "\n",
    "\n",
    "    import pandas as pd\n",
    "\n",
    "    \n",
    "    nbins = np.ceil(tmax / sfreq).astype(int); print(nbins)\n",
    "    df = pd.DataFrame({'bin':np.arange(nbins), 'type':['_']*nbins })\n",
    "    df['rawname'] = rawname_\n",
    "    df['side'] = '_'\n",
    "    df['move_sidelet'] = move_side[0].upper()\n",
    "    df['subj'] = subj\n",
    "    df['sidelet'] = '_'\n",
    "    df['medcond'] = rawname_.split('_')[1]\n",
    "    df['task'] = rawname_.split('_')[2]\n",
    "    for anntype,anns in ann_dict.items():\n",
    "        for an in anns:\n",
    "            #print(anntype,an)\n",
    "            inds = df.query(f'bin >= {an[\"onset\"]} and bin < {an[\"onset\"] + an[\"duration\"]}').index\n",
    "            df.loc[inds, 'type'] = anntype\n",
    "            df.loc[inds, an[\"description\"]] = True\n",
    "            df.loc[inds, 'sidelet'] = an[\"description\"].split('_')[-1]\n",
    "    dfs += [df]\n",
    "\n",
    "df2 = pd.concat(dfs)"
   ]
  },
  {
   "cell_type": "code",
   "execution_count": null,
   "metadata": {},
   "outputs": [],
   "source": [
    "df2 = pd.concat(dfs)"
   ]
  },
  {
   "cell_type": "code",
   "execution_count": null,
   "metadata": {},
   "outputs": [],
   "source": [
    "# todo rename o \n",
    "df2"
   ]
  },
  {
   "cell_type": "code",
   "execution_count": null,
   "metadata": {},
   "outputs": [],
   "source": []
  },
  {
   "cell_type": "code",
   "execution_count": null,
   "metadata": {},
   "outputs": [],
   "source": []
  }
 ],
 "metadata": {
  "kernelspec": {
   "display_name": "conda_oscbagdis",
   "language": "python",
   "name": "conda_oscbagdis"
  },
  "language_info": {
   "codemirror_mode": {
    "name": "ipython",
    "version": 3
   },
   "file_extension": ".py",
   "mimetype": "text/x-python",
   "name": "python",
   "nbconvert_exporter": "python",
   "pygments_lexer": "ipython3",
   "version": "3.8.15"
  },
  "varInspector": {
   "cols": {
    "lenName": 16,
    "lenType": 16,
    "lenVar": 40
   },
   "kernels_config": {
    "python": {
     "delete_cmd_postfix": "",
     "delete_cmd_prefix": "del ",
     "library": "var_list.py",
     "varRefreshCmd": "print(var_dic_list())"
    },
    "r": {
     "delete_cmd_postfix": ") ",
     "delete_cmd_prefix": "rm(",
     "library": "var_list.r",
     "varRefreshCmd": "cat(var_dic_list()) "
    }
   },
   "types_to_exclude": [
    "module",
    "function",
    "builtin_function_or_method",
    "instance",
    "_Feature"
   ],
   "window_display": false
  }
 },
 "nbformat": 4,
 "nbformat_minor": 2
}
