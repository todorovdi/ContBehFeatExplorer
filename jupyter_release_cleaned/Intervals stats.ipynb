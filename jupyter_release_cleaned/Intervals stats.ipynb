{
 "cells": [
  {
   "cell_type": "code",
   "execution_count": null,
   "metadata": {},
   "outputs": [],
   "source": [
    "%load_ext autoreload\n",
    "%autoreload 2"
   ]
  },
  {
   "cell_type": "code",
   "execution_count": null,
   "metadata": {},
   "outputs": [],
   "source": [
    "import globvars as gv\n",
    "import os\n",
    "import mne,utils"
   ]
  },
  {
   "cell_type": "code",
   "execution_count": null,
   "metadata": {},
   "outputs": [],
   "source": [
    "#anns_cnv, ivalis_perside = utils.intervalJSON2Anns(rawname_)"
   ]
  },
  {
   "cell_type": "code",
   "execution_count": null,
   "metadata": {},
   "outputs": [],
   "source": []
  },
  {
   "cell_type": "code",
   "execution_count": null,
   "metadata": {},
   "outputs": [],
   "source": [
    "from globvars import gp"
   ]
  },
  {
   "cell_type": "code",
   "execution_count": null,
   "metadata": {},
   "outputs": [],
   "source": [
    "#gv.gen_subj_info\n",
    "import json"
   ]
  },
  {
   "cell_type": "code",
   "execution_count": null,
   "metadata": {},
   "outputs": [],
   "source": [
    "import utils_preproc as upre"
   ]
  },
  {
   "cell_type": "code",
   "execution_count": null,
   "metadata": {},
   "outputs": [],
   "source": [
    "\n",
    "    # print('\\nmy prev interval lengths')\n",
    "    # lens_cnv = utils.getIntervalsTotalLens(anns_cnv, True, times=raw.times) \n",
    "    # display(lens_cnv )\n",
    "    # #display(anns_cnv.description)\n",
    "    # if mts_trem_str not in anns_cnv.description:\n",
    "    #     print('!! There is no tremor, accdording to prev me')\n",
    "rawname_ = 'S01_off_hold'\n",
    "lens = upre.getGenIntervalInfoFromRawname(rawname_);#,interval=(150,250));\n",
    "lens_short = upre.getGenIntervalInfoFromRawname(rawname_,interval=(170,220));"
   ]
  },
  {
   "cell_type": "code",
   "execution_count": null,
   "metadata": {},
   "outputs": [],
   "source": [
    "list(sorted(lens.keys()))[0].find('_L')"
   ]
  },
  {
   "cell_type": "code",
   "execution_count": null,
   "metadata": {},
   "outputs": [],
   "source": [
    "rawnames = []\n",
    "rawnames +=  ['S06_off_hold', 'S06_off_move'] + ['S06_on_hold', 'S06_on_move'] \n",
    "rawnames +=  ['S07_off_hold', 'S07_off_move'] + ['S07_on_hold', 'S07_on_move'] \n",
    "rawnames +=  ['S08_off_rest', 'S08_on_rest'] "
   ]
  },
  {
   "cell_type": "code",
   "execution_count": null,
   "metadata": {},
   "outputs": [],
   "source": [
    "%load_ext autoreload\n",
    "%autoreload 2"
   ]
  },
  {
   "cell_type": "code",
   "execution_count": null,
   "metadata": {},
   "outputs": [],
   "source": [
    "upre.getRawnameListStructure(rawnames)"
   ]
  },
  {
   "cell_type": "code",
   "execution_count": null,
   "metadata": {},
   "outputs": [],
   "source": [
    "rawnames =   ['S01_off_hold', 'S01_off_move'] + ['S01_on_hold', 'S01_on_move']\n",
    "rawnames +=  ['S02_off_hold', 'S02_off_move'] + ['S02_on_hold', 'S02_on_move'] \n",
    "rawnames +=  ['S03_off_hold', 'S03_off_move']\n",
    "rawnames +=  ['S04_off_hold', 'S04_off_move'] + ['S04_on_hold', 'S04_on_move'] \n",
    "rawnames +=  ['S05_off_hold', 'S05_off_move'] + ['S05_on_hold', 'S05_on_move'] \n",
    "rawnames +=  ['S06_off_hold', 'S06_off_move'] + ['S06_on_hold', 'S06_on_move'] \n",
    "rawnames +=  ['S07_off_hold', 'S07_off_move'] + ['S07_on_hold', 'S07_on_move'] \n",
    "rawnames +=  ['S08_off_rest', 'S08_on_rest'] \n",
    "rawnames +=  ['S09_off_rest'] \n",
    "rawnames +=  ['S10_off_rest', 'S10_off_move']\n",
    "\n",
    "assert 31 == len(rawnames)"
   ]
  },
  {
   "cell_type": "code",
   "execution_count": null,
   "metadata": {},
   "outputs": [],
   "source": []
  },
  {
   "cell_type": "code",
   "execution_count": null,
   "metadata": {},
   "outputs": [],
   "source": [
    "%%capture cap"
   ]
  },
  {
   "cell_type": "code",
   "execution_count": null,
   "metadata": {},
   "outputs": [],
   "source": [
    "for rawname_ in rawnames:\n",
    "    try:\n",
    "        upre.getGenIntervalInfoFromRawname(rawname_);\n",
    "    except FileNotFoundError as fnfe:\n",
    "        print(fnfe)\n",
    "        \n",
    "with open('interval_stats_output.txt', 'w') as f:\n",
    "    f.write(cap.stdout)\n",
    "\n",
    "        "
   ]
  }
 ],
 "metadata": {
  "kernelspec": {
   "display_name": "Python 3",
   "language": "python",
   "name": "python3"
  },
  "language_info": {
   "codemirror_mode": {
    "name": "ipython",
    "version": 3
   },
   "file_extension": ".py",
   "mimetype": "text/x-python",
   "name": "python",
   "nbconvert_exporter": "python",
   "pygments_lexer": "ipython3",
   "version": "3.6.9"
  },
  "varInspector": {
   "cols": {
    "lenName": 16,
    "lenType": 16,
    "lenVar": 40
   },
   "kernels_config": {
    "python": {
     "delete_cmd_postfix": "",
     "delete_cmd_prefix": "del ",
     "library": "var_list.py",
     "varRefreshCmd": "print(var_dic_list())"
    },
    "r": {
     "delete_cmd_postfix": ") ",
     "delete_cmd_prefix": "rm(",
     "library": "var_list.r",
     "varRefreshCmd": "cat(var_dic_list()) "
    }
   },
   "types_to_exclude": [
    "module",
    "function",
    "builtin_function_or_method",
    "instance",
    "_Feature"
   ],
   "window_display": false
  }
 },
 "nbformat": 4,
 "nbformat_minor": 2
}
