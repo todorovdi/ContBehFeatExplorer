{
 "cells": [
  {
   "cell_type": "code",
   "execution_count": null,
   "metadata": {},
   "outputs": [],
   "source": [
    "# cleanup\n",
    "# for a give rawname\n",
    "# remove \n",
    "# DONT REMOVE any annotations\n",
    "# remove srcds, pcica, features.  \n",
    "# don't remove PCAs and tSNEs because they may contain info from other"
   ]
  },
  {
   "cell_type": "code",
   "execution_count": null,
   "metadata": {},
   "outputs": [],
   "source": [
    "import os \n",
    "import globvars as gv\n"
   ]
  },
  {
   "cell_type": "code",
   "execution_count": null,
   "metadata": {},
   "outputs": [],
   "source": [
    "rn_to_cleanup = 'S01_off_hold'"
   ]
  },
  {
   "cell_type": "code",
   "execution_count": null,
   "metadata": {},
   "outputs": [],
   "source": [
    "fnames = os.listdir(gv.data_dir)\n",
    "for fn in fnames:\n",
    "    if fn.find(rn_to_cleanup) >= 0:\n",
    "        print(fn)"
   ]
  },
  {
   "cell_type": "code",
   "execution_count": null,
   "metadata": {},
   "outputs": [],
   "source": [
    "import re"
   ]
  },
  {
   "cell_type": "code",
   "execution_count": null,
   "metadata": {},
   "outputs": [],
   "source": [
    "templs_to_remove = ['srcd_{}.*.mat', '{}_src_rec_info.*.npz', \n",
    "                    '{}_.*_raw.fif', '{}_LFP.*.fif',\n",
    "                   '{}_.*-ica.fif.gz', 'pcica_srcd_{}.*.fif', '{}_tfr_.*.npz']\n",
    "templs_to_remove += ['{}_\\w*_PCA.*.npz' ]\n",
    "fns_to_kill = []\n",
    "for fn in fnames:\n",
    "    for templ in templs_to_remove:\n",
    "        r =  re.match(templ.format(rn_to_cleanup),fn)\n",
    "        if r is not None:\n",
    "            fns_to_kill += [fn]\n",
    "        \n",
    "list(sorted(set(fns_to_kill)))\n",
    "display(fns_to_kill)"
   ]
  },
  {
   "cell_type": "code",
   "execution_count": null,
   "metadata": {},
   "outputs": [],
   "source": []
  },
  {
   "cell_type": "code",
   "execution_count": null,
   "metadata": {},
   "outputs": [],
   "source": []
  },
  {
   "cell_type": "code",
   "execution_count": null,
   "metadata": {},
   "outputs": [],
   "source": []
  },
  {
   "cell_type": "code",
   "execution_count": null,
   "metadata": {},
   "outputs": [],
   "source": [
    "for fn in fns_to_kill:\n",
    "    fn_full = os.path.join(data_dir, fn)\n",
    "    os.remove(fn_full)"
   ]
  }
 ],
 "metadata": {
  "kernelspec": {
   "display_name": "Python 3",
   "language": "python",
   "name": "python3"
  },
  "language_info": {
   "codemirror_mode": {
    "name": "ipython",
    "version": 3
   },
   "file_extension": ".py",
   "mimetype": "text/x-python",
   "name": "python",
   "nbconvert_exporter": "python",
   "pygments_lexer": "ipython3",
   "version": "3.6.9"
  }
 },
 "nbformat": 4,
 "nbformat_minor": 2
}
