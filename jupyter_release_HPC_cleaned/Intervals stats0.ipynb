{
 "cells": [
  {
   "cell_type": "code",
   "execution_count": null,
   "metadata": {},
   "outputs": [],
   "source": [
    "%load_ext autoreload\n",
    "%autoreload 2"
   ]
  },
  {
   "cell_type": "code",
   "execution_count": null,
   "metadata": {},
   "outputs": [],
   "source": [
    "import globvars as gv\n",
    "import os\n",
    "import mne,utils"
   ]
  },
  {
   "cell_type": "code",
   "execution_count": null,
   "metadata": {},
   "outputs": [],
   "source": [
    "#anns_cnv, ivalis_perside = utils.intervalJSON2Anns(rawname_)"
   ]
  },
  {
   "cell_type": "code",
   "execution_count": null,
   "metadata": {},
   "outputs": [],
   "source": []
  },
  {
   "cell_type": "code",
   "execution_count": null,
   "metadata": {},
   "outputs": [],
   "source": [
    "from globvars import gp"
   ]
  },
  {
   "cell_type": "code",
   "execution_count": null,
   "metadata": {},
   "outputs": [],
   "source": [
    "#gv.gen_subj_info\n",
    "import json"
   ]
  },
  {
   "cell_type": "code",
   "execution_count": null,
   "metadata": {},
   "outputs": [],
   "source": [
    "import utils_preproc as upre"
   ]
  },
  {
   "cell_type": "code",
   "execution_count": null,
   "metadata": {},
   "outputs": [],
   "source": [
    "\n",
    "    # print('\\nmy prev interval lengths')\n",
    "    # lens_cnv = utils.getIntervalsTotalLens(anns_cnv, True, times=raw.times) \n",
    "    # display(lens_cnv )\n",
    "    # #display(anns_cnv.description)\n",
    "    # if mts_trem_str not in anns_cnv.description:\n",
    "    #     print('!! There is no tremor, accdording to prev me')\n",
    "rawname_ = 'S01_off_hold'\n",
    "aritfs = ['_ann_MEGartif_flt', '_ann_MEGartif']\n",
    "\n",
    "lens, ann_dict = upre.getIntervalInfoFromRawname(rawname_, ann_MEGartif_prefix_to_use=aritfs);#,interval=(150,250));\n",
    "lens_short = upre.getIntervalInfoFromRawname(rawname_,crop=(170,220), ann_MEGartif_prefix_to_use=aritfs);"
   ]
  },
  {
   "cell_type": "code",
   "execution_count": null,
   "metadata": {},
   "outputs": [],
   "source": [
    "sfreq = 1/256\n",
    "sfreq"
   ]
  },
  {
   "cell_type": "code",
   "execution_count": null,
   "metadata": {},
   "outputs": [],
   "source": [
    "#df.query('type == \"artif\"')"
   ]
  },
  {
   "cell_type": "code",
   "execution_count": null,
   "metadata": {},
   "outputs": [],
   "source": [
    "list(sorted(lens.keys()))[0].find('_L')"
   ]
  },
  {
   "cell_type": "code",
   "execution_count": null,
   "metadata": {},
   "outputs": [],
   "source": [
    "rawnames = []\n",
    "rawnames +=  ['S06_off_hold', 'S06_off_move'] + ['S06_on_hold', 'S06_on_move'] \n",
    "rawnames +=  ['S07_off_hold', 'S07_off_move'] + ['S07_on_hold', 'S07_on_move'] \n",
    "rawnames +=  ['S08_off_rest', 'S08_on_rest'] "
   ]
  },
  {
   "cell_type": "code",
   "execution_count": null,
   "metadata": {},
   "outputs": [],
   "source": [
    "%load_ext autoreload\n",
    "%autoreload 2"
   ]
  },
  {
   "cell_type": "code",
   "execution_count": null,
   "metadata": {},
   "outputs": [],
   "source": [
    "upre.getRawnameListStructure(rawnames)"
   ]
  },
  {
   "cell_type": "code",
   "execution_count": null,
   "metadata": {},
   "outputs": [],
   "source": [
    "rawnames =   ['S01_off_hold', 'S01_off_move'] + ['S01_on_hold', 'S01_on_move']\n",
    "rawnames +=  ['S02_off_hold', 'S02_off_move'] + ['S02_on_hold', 'S02_on_move'] \n",
    "rawnames +=  ['S03_off_hold', 'S03_off_move']\n",
    "rawnames +=  ['S04_off_hold', 'S04_off_move'] + ['S04_on_hold', 'S04_on_move'] \n",
    "rawnames +=  ['S05_off_hold', 'S05_off_move'] + ['S05_on_hold', 'S05_on_move'] \n",
    "rawnames +=  ['S06_off_hold', 'S06_off_move'] + ['S06_on_hold', 'S06_on_move'] \n",
    "rawnames +=  ['S07_off_hold', 'S07_off_move'] + ['S07_on_hold', 'S07_on_move'] \n",
    "rawnames +=  ['S08_off_rest', 'S08_on_rest'] \n",
    "rawnames +=  ['S09_off_rest'] \n",
    "rawnames +=  ['S10_off_rest', 'S10_off_move']\n",
    "\n",
    "assert 31 == len(rawnames)"
   ]
  },
  {
   "cell_type": "code",
   "execution_count": null,
   "metadata": {},
   "outputs": [],
   "source": []
  },
  {
   "cell_type": "code",
   "execution_count": null,
   "metadata": {},
   "outputs": [],
   "source": [
    "%%capture cap"
   ]
  },
  {
   "cell_type": "code",
   "execution_count": null,
   "metadata": {},
   "outputs": [],
   "source": [
    "for rawname_ in rawnames:\n",
    "    try:\n",
    "        upre.getGenIntervalInfoFromRawname(rawname_);\n",
    "    except FileNotFoundError as fnfe:\n",
    "        print(fnfe)\n",
    "        \n",
    "with open('interval_stats_output.txt', 'w') as f:\n",
    "    f.write(cap.stdout)\n",
    "\n",
    "        "
   ]
  },
  {
   "cell_type": "code",
   "execution_count": null,
   "metadata": {},
   "outputs": [],
   "source": []
  },
  {
   "cell_type": "markdown",
   "metadata": {},
   "source": [
    "# good rawnames"
   ]
  },
  {
   "cell_type": "code",
   "execution_count": null,
   "metadata": {},
   "outputs": [],
   "source": [
    "sfreq = 256"
   ]
  },
  {
   "cell_type": "code",
   "execution_count": null,
   "metadata": {},
   "outputs": [],
   "source": [
    "rawnames =   ['S01_off_hold', 'S01_off_move'] + ['S01_on_hold', 'S01_on_move']\n",
    "rawnames +=  ['S02_off_hold', 'S02_off_move'] + ['S02_on_hold', 'S02_on_move'] \n",
    "rawnames +=  ['S03_off_hold', 'S03_off_move']\n",
    "rawnames +=  ['S04_off_hold', 'S04_off_move'] + ['S04_on_hold', 'S04_on_move'] \n",
    "rawnames +=  ['S05_off_hold', 'S05_off_move'] + ['S05_on_hold', 'S05_on_move'] \n",
    "#rawnames +=  ['S06_off_hold', 'S06_off_move'] + ['S06_on_hold', 'S06_on_move'] \n",
    "rawnames +=  ['S07_off_hold', 'S07_off_move'] + ['S07_on_hold', 'S07_on_move'] \n",
    "#rawnames +=  ['S08_off_rest', 'S08_on_rest'] \n",
    "#rawnames +=  ['S09_off_rest'] \n",
    "#rawnames +=  ['S10_off_rest', 'S10_off_move']\n",
    "from globvars import gp\n",
    "len(rawnames)\n"
   ]
  },
  {
   "cell_type": "code",
   "execution_count": null,
   "metadata": {},
   "outputs": [],
   "source": [
    "dfs = []\n",
    "for rawname_ in rawnames:\n",
    "    # from srun_resave_resample.sh, needed to add '_ann_' prefix\n",
    "    artifs = '_ann_MEGartif,_ann_MEGartif_muscle,_ann_MEGartif_ICA'.split(',')\n",
    "    #aritfs = ['MEGartif_muscle', '_ann_MEGartif_flt', '_ann_MEGartif', '_ann_MEGartif_ICA']\n",
    "\n",
    "    lens, ann_dict = upre.getIntervalInfoFromRawname(rawname_, \n",
    "        ann_MEGartif_prefix_to_use=artifs);#,interval=(150,250));    \n",
    "    \n",
    "    tmin,tmax = 0,-1\n",
    "    for anntype,anns in ann_dict.items():\n",
    "        print(anntype,anns)\n",
    "        tmin = min( tmin, np.min(anns.onset) )\n",
    "        tmax = max(tmax, np.max(anns.onset + anns.duration))\n",
    "    print( tmin,tmax )\n",
    "    # create bins, set them for anns, remove artif outside anns, calc lens\n",
    "    \n",
    "    subj = rawname_.split('_')[0]\n",
    "    maintremside = gv.gen_subj_info[subj]['tremor_side']\n",
    "    move_side = gv.gen_subj_info[subj].get('move_side','UNDEF')\n",
    "    tremfreq = gv.gen_subj_info[subj]['tremfreq']\n",
    "\n",
    "    import pandas as pd    \n",
    "    nbins = np.ceil(tmax * sfreq).astype(int); print('nbins = ',nbins)\n",
    "    df = pd.DataFrame({'bin':np.arange(nbins), 'type':['_']*nbins })\n",
    "    df['rawname'] = rawname_\n",
    "    df = df.set_index(['rawname','bin'])\n",
    "    #df['side'] = '_'\n",
    "    df['move_sidelet'] = move_side[0].upper()\n",
    "    df['subject'] = subj\n",
    "    #df['sidelet'] = '_'\n",
    "    df['medcond'] = rawname_.split('_')[1]\n",
    "    task = rawname_.split('_')[2]\n",
    "    df['task'] = task\n",
    "    for it in gp.int_types_basic_sided:\n",
    "        df[it] = False\n",
    "    for anntype,anns in ann_dict.items():\n",
    "        for an in anns:\n",
    "            #print(anntype,an)\n",
    "            end = an[\"onset\"] + an[\"duration\"]\n",
    "            end = end * sfreq\n",
    "            inds = df.query(f'bin >= {an[\"onset\"] * sfreq} and bin < {end}').index\n",
    "            #df.loc[inds, 'type'] = anntype\n",
    "            desc = an[\"description\"]\n",
    "            df.loc[inds, desc] = True\n",
    "            \n",
    "            if desc.startswith(task):\n",
    "                if desc[-1] == move_side[0].upper():\n",
    "                    df.loc[inds, f'{task}_moveside'] = True\n",
    "                else:\n",
    "                    df.loc[inds, f'{task}_moveopside'] = True\n",
    "            #df.loc[inds, 'sidelet'] = an[\"description\"].split('_')[-1]\n",
    "    dfs += [df]\n",
    "\n",
    "df2 = pd.concat(dfs)"
   ]
  },
  {
   "cell_type": "code",
   "execution_count": null,
   "metadata": {},
   "outputs": [],
   "source": [
    "df2.columns"
   ]
  },
  {
   "cell_type": "code",
   "execution_count": null,
   "metadata": {},
   "outputs": [],
   "source": [
    "# decorate\n",
    "for col in ['move_moveside', 'move_moveopside']:\n",
    "    df2.loc[ df2[col].isna(), col ] = False\n",
    "    df2[col] = df2[col].astype(bool)\n",
    "    \n",
    "# todo rename o \n",
    "for behstate in ['trem','notrem']:\n",
    "    df2[f'{behstate}_moveside'] = False\n",
    "    c = (df2['move_sidelet'] == 'R') & df2[f'{behstate}_R']\n",
    "    df2.loc[c,f'{behstate}_moveside'] = True\n",
    "    c = (df2['move_sidelet'] == 'L') & df2[f'{behstate}_L']\n",
    "    df2.loc[c,f'{behstate}_moveside'] = True\n",
    "\n",
    "    df2[f'{behstate}_moveopside'] = False\n",
    "    c = (df2['move_sidelet'] == 'L') & df2[f'{behstate}_R']\n",
    "    df2.loc[c,f'{behstate}_moveopside'] = True\n",
    "    c = (df2['move_sidelet'] == 'R') & df2[f'{behstate}_L']\n",
    "    df2.loc[c,f'{behstate}_moveopside'] = True\n",
    "\n",
    "df2['trem_moveopside_during_move'] = df2['trem_moveopside'] & df2['move_moveside']\n",
    "df2['trem_moveopside_during_hold'] = df2['trem_moveopside'] & df2['hold_moveside']\n",
    "for behstate in ['trem','notrem','move','hold']:\n",
    "    df2[f'{behstate}_bothsides'] = df2[f'{behstate}_R'] & df2[f'{behstate}_L']\n",
    "#df2['notrem_bothsides'] = df2['notrem_R'] & df2['notrem_L']\n",
    "\n",
    "artif_cols = [col for col in df2.columns if col.startswith('BAD')]\n",
    "print('artif_cols =',artif_cols)\n",
    "df2['some_artif'] = df2[artif_cols[0]]\n",
    "for col in artif_cols[1:]:\n",
    "    df2['some_artif'] |= df2[col]    "
   ]
  },
  {
   "cell_type": "code",
   "execution_count": null,
   "metadata": {},
   "outputs": [],
   "source": [
    "weird_states = 'movetrem_L, holdtrem_L, movetrem_R, holdtrem_R, undef_L, undef_R, subtrem_L, subtrem_R'.split(', ')\n",
    "df2['some_weird_state_moveside'] = False\n",
    "for col in weird_states:\n",
    "    if col not in df2:\n",
    "        print('skip due to nonpresent ',col)\n",
    "        continue\n",
    "    c = df2['move_sidelet'] == col[-1]\n",
    "    c = c & (~df2[col].isna())\n",
    "    df2.loc[c, 'some_weird_state_moveside'] |= df2.loc[c, col]\n",
    "    \n",
    "# set types\n",
    "for artif_col in artif_cols + ['some_artif','some_weird_state_moveside']:\n",
    "    df2.loc[ df2[artif_col].isna(), artif_col] = False\n",
    "    df2[artif_col] = df2[artif_col].astype(bool)\n",
    "    \n",
    "grp0 = df2.groupby(['subject','medcond'])"
   ]
  },
  {
   "cell_type": "code",
   "execution_count": null,
   "metadata": {},
   "outputs": [],
   "source": [
    "df2.columns"
   ]
  },
  {
   "cell_type": "code",
   "execution_count": null,
   "metadata": {},
   "outputs": [],
   "source": [
    "print('Proportion of diff artifacts (pct)')\n",
    "dfr.div( grp0.size(), axis=0 ) * 100  # just dfr/grp.size() does not work"
   ]
  },
  {
   "cell_type": "code",
   "execution_count": null,
   "metadata": {},
   "outputs": [],
   "source": [
    "# length of diff artif in seconds\n",
    "dfr = df2.groupby(['subject','medcond'])[artif_cols + ['some_artif','some_weird_state_moveside']].sum() / sfreq\n",
    "display(dfr)"
   ]
  },
  {
   "cell_type": "code",
   "execution_count": null,
   "metadata": {},
   "outputs": [],
   "source": [
    "for behstate in ['trem','move','notrem']:\n",
    "    print(f'{behstate} duration (espciall move both sides together)')\n",
    "    dfr = grp0[[f'{behstate}_moveside', f'{behstate}_moveopside',f'{behstate}_bothsides']].sum() / sfreq\n",
    "    display(dfr)"
   ]
  },
  {
   "cell_type": "code",
   "execution_count": null,
   "metadata": {},
   "outputs": [],
   "source": [
    "# for all points (inc unlabeled and artifacted)\n",
    "def f(dftmp):\n",
    "    return dftmp[['trem_moveside','trem_moveopside','trem_bothsides',\n",
    "                  'move_moveside','trem_moveopside_during_move',\n",
    "                 'hold_moveside', 'trem_moveopside_during_hold']].astype(float).sum() / sfreq\n",
    "dfr = grp0.apply(f)\n",
    "dfr['trem_bothsides_ratio'] = dfr['trem_bothsides'] / dfr['trem_moveside']\n",
    "display(dfr)\n",
    "dfr.reset_index().groupby('medcond')['trem_bothsides_ratio'].describe() * 100"
   ]
  },
  {
   "cell_type": "code",
   "execution_count": null,
   "metadata": {},
   "outputs": [],
   "source": [
    "# duration per dataset\n",
    "df2.groupby(['subject','medcond','task']).size() / sfreq"
   ]
  },
  {
   "cell_type": "code",
   "execution_count": null,
   "metadata": {},
   "outputs": [],
   "source": [
    "# duration per medcond\n",
    "grp0.size() / sfreq"
   ]
  },
  {
   "cell_type": "markdown",
   "metadata": {},
   "source": [
    "# Tremor stats for non-artif points"
   ]
  },
  {
   "cell_type": "code",
   "execution_count": null,
   "metadata": {},
   "outputs": [],
   "source": [
    "df2_.columns"
   ]
  },
  {
   "cell_type": "code",
   "execution_count": null,
   "metadata": {},
   "outputs": [],
   "source": [
    "# for non-artif points\n",
    "df2_ = df2.query('(not some_artif) and (not some_weird_state_moveside)')\n",
    "print('Nonartif len {}, all len {}'.format(len(df2_), len(df2)) )\n",
    "prop_nonartif = df2_.groupby(['subject','medcond']).size() / grp0.size()\n",
    "print('Porportion nonartif')\n",
    "display(prop_nonartif)"
   ]
  },
  {
   "cell_type": "code",
   "execution_count": null,
   "metadata": {},
   "outputs": [],
   "source": [
    "# All beh states (no artif and wierd states)\n",
    "def f(dftmp):\n",
    "    return dftmp[['trem_moveside','notrem_moveside', 'hold_moveside','move_moveside']].astype(float).sum() / sfreq\n",
    "dfr = df2_.groupby(['subject','medcond']).apply(f)\n",
    "\n",
    "# Step 1: Reset index\n",
    "dfr = dfr.reset_index()\n",
    "# Step 2: Pivot dataframe\n",
    "dfr = dfr.pivot(index='subject', columns='medcond')\n",
    "# Step 3: Swap levels of columns\n",
    "#dfr.columns = dfr.columns.swaplevel(0, 1)\n",
    "# Step 4: Join levels of columns with underscore\n",
    "dfr.columns = dfr.columns.map('_'.join).str.replace('moveside_','')\n",
    "\n",
    "mask = dfr.columns.str.endswith('_off')\n",
    "# Select 'off' and 'on' columns using mask\n",
    "dfr_off = dfr.loc[:, mask]\n",
    "dfr_on = dfr.loc[:, ~mask]\n",
    "# Concatenate 'off' and 'on' columns\n",
    "dfr = pd.concat([dfr_off, dfr_on], axis=1)\n",
    "\n",
    "# Print new dataframe\n",
    "display(dfr)\n",
    "#print('trem_bothsides_ratio (%): Mean over subjects within medcond')\n",
    "#descr = dfr.reset_index().groupby('medcond')['trem_bothsides_ratio'].describe() * 100\n",
    "#display(descr)\n",
    "dfr.describe().loc[['mean','std']] "
   ]
  },
  {
   "cell_type": "code",
   "execution_count": null,
   "metadata": {},
   "outputs": [],
   "source": [
    "# Tremor on move side only (no artif and wierd states)\n",
    "def f(dftmp):\n",
    "    return dftmp[['trem_moveside']].astype(float).sum() \n",
    "dfr = df2_.query('trem_moveside and ~trem_moveopside').groupby(['subject','medcond']).apply(f)\n",
    "dfr = dfr.div( df2_.groupby(['subject','medcond'])['trem_moveside'].sum(), 0 ) * 100\n",
    "#dfr['trem_only_moveside'] = dfr['trem_moveside'] / dfr['trem_moveside']\n",
    "\n",
    "# Step 1: Reset index\n",
    "dfr = dfr.reset_index()\n",
    "# Step 2: Pivot dataframe\n",
    "dfr = dfr.pivot(index='subject', columns='medcond')\n",
    "# Step 3: Swap levels of columns\n",
    "#dfr.columns = dfr.columns.swaplevel(0, 1)\n",
    "# Step 4: Join levels of columns with underscore\n",
    "dfr.columns = dfr.columns.map('_'.join).str.replace('moveside_','')\n",
    "\n",
    "mask = dfr.columns.str.endswith('_off')\n",
    "# Select 'off' and 'on' columns using mask\n",
    "dfr_off = dfr.loc[:, mask]\n",
    "dfr_on = dfr.loc[:, ~mask]\n",
    "# Concatenate 'off' and 'on' columns\n",
    "dfr = pd.concat([dfr_off, dfr_on], axis=1)\n",
    "\n",
    "# Print new dataframe\n",
    "display(dfr)\n",
    "#print('trem_bothsides_ratio (%): Mean over subjects within medcond')\n",
    "#descr = dfr.reset_index().groupby('medcond')['trem_bothsides_ratio'].describe() * 100\n",
    "#display(descr)\n",
    "descr = dfr.describe().loc[['mean','std']] \n",
    "display(descr)\n",
    "\n",
    "means = descr.loc['mean']\n",
    "stds = descr.loc['std']\n",
    "s = ('If selecting epochs where tremor appeared exclusively on the movement-performing hand then: '\n",
    "    'the average percentage with respect to the total move hand side tremor was ')\n",
    "s += '{:.0f}% (std = {:.0f}%) in OFF condition'.format(means['trem_off'],stds['trem_off'] )  \n",
    "s += ' and '\n",
    "s += '{:.0f}% (std = {:.0f}%) in ON condition'.format(means['trem_on'],stds['trem_on'])  \n",
    "s+='.'\n",
    "print(s)"
   ]
  },
  {
   "cell_type": "code",
   "execution_count": null,
   "metadata": {},
   "outputs": [],
   "source": []
  },
  {
   "cell_type": "code",
   "execution_count": null,
   "metadata": {},
   "outputs": [],
   "source": [
    "descr"
   ]
  },
  {
   "cell_type": "code",
   "execution_count": null,
   "metadata": {},
   "outputs": [],
   "source": [
    "#proportion of doubleside tremor (no artif and wierd states)\n",
    "def f(dftmp):\n",
    "    return dftmp[['trem_moveside','trem_moveopside','trem_bothsides']].astype(float).sum() / sfreq\n",
    "dfr = df2_.groupby(['subject','medcond']).apply(f)\n",
    "dfr['trem_bothsides_ratio'] = dfr['trem_bothsides'] / dfr['trem_moveside']\n",
    "display(dfr)\n",
    "print('trem_bothsides_ratio (%): Mean over subjects within medcond')\n",
    "descr = dfr.reset_index().groupby('medcond')['trem_bothsides_ratio'].describe() * 100\n",
    "display(descr)"
   ]
  },
  {
   "cell_type": "markdown",
   "metadata": {},
   "source": [
    "### to put in manuscript"
   ]
  },
  {
   "cell_type": "code",
   "execution_count": null,
   "metadata": {},
   "outputs": [],
   "source": [
    "means = descr.to_dict()['mean']\n",
    "stds = descr.to_dict()['std']\n",
    "s = ('In our data tremor appeared on both sides of the hand simultaneosuly rather frequently: '\n",
    "    'the average percentage of bimanual tremor with respect to the move hand side tremor was ')\n",
    "s += '{:.0f}% (std = {:.0f}%) in OFF condition'.format(means['off'],stds['off'] )  \n",
    "s += ' and '\n",
    "s += '{:.0f}% (std = {:.0f}%) in ON condition'.format(means['on'],stds['on'])  \n",
    "s+='.'\n",
    "print(s)\n"
   ]
  }
 ],
 "metadata": {
  "kernelspec": {
   "display_name": "cobd2",
   "language": "python",
   "name": "cobd2"
  },
  "language_info": {
   "codemirror_mode": {
    "name": "ipython",
    "version": 3
   },
   "file_extension": ".py",
   "mimetype": "text/x-python",
   "name": "python",
   "nbconvert_exporter": "python",
   "pygments_lexer": "ipython3",
   "version": "3.8.15"
  },
  "varInspector": {
   "cols": {
    "lenName": 16,
    "lenType": 16,
    "lenVar": 40
   },
   "kernels_config": {
    "python": {
     "delete_cmd_postfix": "",
     "delete_cmd_prefix": "del ",
     "library": "var_list.py",
     "varRefreshCmd": "print(var_dic_list())"
    },
    "r": {
     "delete_cmd_postfix": ") ",
     "delete_cmd_prefix": "rm(",
     "library": "var_list.r",
     "varRefreshCmd": "cat(var_dic_list()) "
    }
   },
   "types_to_exclude": [
    "module",
    "function",
    "builtin_function_or_method",
    "instance",
    "_Feature"
   ],
   "window_display": false
  }
 },
 "nbformat": 4,
 "nbformat_minor": 2
}
