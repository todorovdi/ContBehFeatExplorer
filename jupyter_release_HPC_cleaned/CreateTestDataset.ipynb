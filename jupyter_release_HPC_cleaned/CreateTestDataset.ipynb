{
 "cells": [
  {
   "cell_type": "code",
   "execution_count": null,
   "metadata": {},
   "outputs": [],
   "source": [
    "%load_ext autoreload\n",
    "%autoreload 2\n",
    "\n",
    "import os\n",
    "import mne\n",
    "from mne.preprocessing import ICA\n",
    "import multiprocessing as mpr\n",
    "import numpy as np\n",
    "import utils\n",
    "import json\n",
    "import matplotlib.pyplot as plt\n",
    "\n",
    "import utils_preproc as upre\n",
    "import matplotlib as mpl\n",
    "import globvars as gv\n",
    "\n",
    "import utils\n",
    "import utils_test"
   ]
  },
  {
   "cell_type": "code",
   "execution_count": null,
   "metadata": {},
   "outputs": [],
   "source": [
    "from os.path import join as pjoin"
   ]
  },
  {
   "cell_type": "code",
   "execution_count": null,
   "metadata": {},
   "outputs": [],
   "source": []
  },
  {
   "cell_type": "code",
   "execution_count": null,
   "metadata": {},
   "outputs": [],
   "source": [
    "rawname_ = 'S01_off_move'\n",
    "fname_noext_def = rawname_ + '_resample_raw'\n",
    "fname_noext_def = rawname_ + '_resample_notch_highpass_raw'"
   ]
  },
  {
   "cell_type": "code",
   "execution_count": null,
   "metadata": {},
   "outputs": [],
   "source": [
    "fname_def = pjoin(gv.data_dir,fname_noext_def + '.fif')\n",
    "f = mne.io.read_raw_fif(fname_def, None)\n",
    "mod_info, infos = upre.readInfo(rawname_, f)\n",
    "f.info = mod_info"
   ]
  },
  {
   "cell_type": "code",
   "execution_count": null,
   "metadata": {},
   "outputs": [],
   "source": [
    "f.ch_names"
   ]
  },
  {
   "cell_type": "markdown",
   "metadata": {},
   "source": [
    "### Info"
   ]
  },
  {
   "cell_type": "code",
   "execution_count": null,
   "metadata": {},
   "outputs": [],
   "source": [
    "from globvars import gp\n",
    "\n",
    "info_fname = 'definfo.npz'\n",
    "#np.savez(info_fname, mod_info)\n",
    "\n",
    "fi = np.load(info_fname,allow_pickle=1)\n",
    "\n",
    "info = fi['arr_0'][()]"
   ]
  },
  {
   "cell_type": "markdown",
   "metadata": {},
   "source": [
    "# Gather stats from exiting"
   ]
  },
  {
   "cell_type": "code",
   "execution_count": null,
   "metadata": {},
   "outputs": [],
   "source": [
    "import utils_tSNE as utsne"
   ]
  },
  {
   "cell_type": "code",
   "execution_count": null,
   "metadata": {},
   "outputs": [],
   "source": [
    "f['EMG062_old'][0].shape"
   ]
  },
  {
   "cell_type": "code",
   "execution_count": null,
   "metadata": {},
   "outputs": [],
   "source": []
  },
  {
   "cell_type": "code",
   "execution_count": null,
   "metadata": {},
   "outputs": [],
   "source": [
    "emgdat = f['EMG062_old'][0][0]\n",
    "lfpdat = f['LFPL01'][0][0]\n",
    "#Memgdat\n",
    "\n",
    "emg_mean,emg_std = np.mean(emgdat), np.std(emgdat)\n",
    "lfp_mean,lfp_std = np.mean(lfpdat), np.std(lfpdat)\n",
    "\n",
    "emg_mean, emg_std, mn,mx = utsne.robustMean(emgdat,  ret_aux=1,\n",
    "                                     ret_std=True, q = .05)\n",
    "lfp_mean, lfp_std, mn,mx = utsne.robustMean(lfpdat,  ret_aux=1,\n",
    "                                     ret_std=True, q = .05)\n",
    "\n",
    "\n",
    "\n",
    "\n",
    "info = f.info\n",
    "meg_chis = mne.pick_channels_regexp(info.ch_names,'MEG.*')\n",
    "\n",
    "print(len(meg_chis))\n",
    "\n",
    "#for chi in meg_chis:\n",
    "megdat = f[meg_chis][0]\n",
    "# meg_means, mn,mx = utsne.robustMean(megdat, axis=1, per_dim =1, ret_aux=1, q = .05)\n",
    "# meg_vars, _,_ = utsne.robustMean((megdat - meg_means[:,None])**2, axis=1, per_dim =1, \n",
    "#                             ret_aux=1, q = .05)\n",
    "# meg_stds = np.sqrt(meg_vars)\n",
    "\n",
    "meg_means, meg_stds, mn,mx = utsne.robustMean(megdat, axis=1, per_dim =1, ret_aux=1,\n",
    "                                     ret_std=True, q = .05)\n",
    "#meg_means,meg_stds = np.mean(megdat,axis=1), np.std(megdat,axis=1)\n",
    "meg_std = np.mean(meg_stds)\n",
    "meg_mean = np.mean(meg_means)\n",
    "\n",
    "print(meg_mean, meg_std)"
   ]
  },
  {
   "cell_type": "code",
   "execution_count": null,
   "metadata": {},
   "outputs": [],
   "source": [
    "\n"
   ]
  },
  {
   "cell_type": "code",
   "execution_count": null,
   "metadata": {},
   "outputs": [],
   "source": [
    "plt.plot(lfpdat)"
   ]
  },
  {
   "cell_type": "code",
   "execution_count": null,
   "metadata": {},
   "outputs": [],
   "source": [
    "plt.plot(emgdat)"
   ]
  },
  {
   "cell_type": "code",
   "execution_count": null,
   "metadata": {},
   "outputs": [],
   "source": [
    "plt.hist(meg_means)"
   ]
  },
  {
   "cell_type": "code",
   "execution_count": null,
   "metadata": {},
   "outputs": [],
   "source": [
    "plt.hist(meg_stds)"
   ]
  },
  {
   "cell_type": "markdown",
   "metadata": {},
   "source": [
    "# Set params"
   ]
  },
  {
   "cell_type": "code",
   "execution_count": null,
   "metadata": {},
   "outputs": [],
   "source": [
    "trem_side = 'left'  # this is by default\n",
    "sind_str_new = 'S99'"
   ]
  },
  {
   "cell_type": "code",
   "execution_count": null,
   "metadata": {},
   "outputs": [],
   "source": [
    "trem_side = 'right'\n",
    "sind_str_new = 'S97'"
   ]
  },
  {
   "cell_type": "code",
   "execution_count": null,
   "metadata": {},
   "outputs": [],
   "source": [
    "emg_chnames_with_tremor = gv.EMG_per_hand[trem_side]\n",
    "emg_chis = mne.pick_channels_regexp(info.ch_names,'EMG.*_old')\n",
    "lfp_chis = mne.pick_channels_regexp(info.ch_names,'LFP.*')\n",
    "\n",
    "glob_indices_emg = [info.ch_names.index(chn) for chn in emg_chnames_with_tremor]\n",
    "\n",
    "tremsidelet = trem_side[0].upper()\n",
    "opsidelet = utils.getOppositeSideStr(tremsidelet)\n",
    "glob_index_lfp = [chi for chii,chi in enumerate(lfp_chis) if \\\n",
    "              info.ch_names[chi].startswith('LFP{}'.format(opsidelet)) ][0]"
   ]
  },
  {
   "cell_type": "code",
   "execution_count": null,
   "metadata": {},
   "outputs": [],
   "source": [
    "task = None"
   ]
  },
  {
   "cell_type": "code",
   "execution_count": null,
   "metadata": {},
   "outputs": [],
   "source": [
    "total_duration = 33 #in sec\n",
    "sfreq = int(info['sfreq'])\n",
    "sfreq_high = 1024\n",
    "\n",
    "trem_intervals = [(10,20), (28,32)]\n",
    "#trem_start, trem_end = 10,20\n",
    "trem_start_trans = 3\n",
    "trem_end_trans = 3\n",
    "\n",
    "# EMG\n",
    "trem_hifreq = 100\n",
    "trem_lowfreq = 6\n",
    "\n",
    "emg_chis_to_have_tremor = [emg_chis.index(glob_index_emg) for glob_index_emg in glob_indices_emg]   #among EMG channels\n",
    "\n",
    "#LFP\n",
    "trem_burst_lfp_freq = 70\n",
    "artfiacts_intervals_LFP = [(6.5,6.7,0), (9,9.2,0), (12,12.1,1)]\n",
    "lfp_chi_to_have_tremor = lfp_chis.index(glob_index_lfp)\n",
    "\n",
    "#MEG\n",
    "roi_labels_with_tremor = ['Supp_Motor_Area_{}'.format(opsidelet), \n",
    "                          'Cerebellum_{}'.format(tremsidelet)]\n",
    "trem_burst_meg_freq = 40\n",
    "artfiacts_intervals_MEG = [(6.4,6.6,0), (7,8,0), (14.5,15,1)]\n",
    "#artfiacts_intervals_MEG = []\n",
    "do_gen_MEG_data = False;"
   ]
  },
  {
   "cell_type": "code",
   "execution_count": null,
   "metadata": {},
   "outputs": [],
   "source": [
    "10 * 256 /32"
   ]
  },
  {
   "cell_type": "code",
   "execution_count": null,
   "metadata": {},
   "outputs": [],
   "source": [
    "tremsidelet"
   ]
  },
  {
   "cell_type": "code",
   "execution_count": null,
   "metadata": {},
   "outputs": [],
   "source": [
    "\n",
    "\n",
    "trem_burst_lfp_freq\n",
    "it_LFP = 'BAD_LFP{}'.format(opsidelet)\n",
    "it_LFP_otherside = 'BAD_LFP{}'.format(tremsidelet)\n",
    "it_MEG = 'BAD_MEG{}'.format(opsidelet)\n",
    "it_notrem = 'notrem_{}'.format(tremsidelet)\n",
    "it_trem = 'trem_{}'.format(tremsidelet)\n",
    "it_trem_otherside = 'trem_{}'.format(opsidelet)\n",
    "it_notrem_otherside = 'notrem_{}'.format(opsidelet)\n",
    "it_move = 'move_{}'.format(tremsidelet)\n",
    "\n",
    "move_intervals = [(3,6)]  # I dont' simulate it, just to test processing of intervals\n",
    "notrem_intervals = [(0,3),(6,17),(23,26)]\n",
    "\n",
    "onset = []\n",
    "dur = []\n",
    "its = []\n",
    "for ait in artfiacts_intervals_MEG:\n",
    "    onset += [ait[0]]\n",
    "    dur += [ait[1] -ait[0]]\n",
    "    its += [it_MEG]\n",
    "MEGartif = mne.Annotations(onset,dur,its)\n",
    "\n",
    "\n",
    "onset = []\n",
    "dur = []\n",
    "its = []\n",
    "its_otherside = []\n",
    "for ait in artfiacts_intervals_LFP:\n",
    "    onset += [ait[0]]\n",
    "    dur += [ait[1] - ait[0]]\n",
    "    its += [it_LFP]\n",
    "    its_otherside += [it_LFP_otherside]\n",
    "LFPartif = mne.Annotations(onset,dur,its) + mne.Annotations(onset,dur,its_otherside)\n",
    "\n",
    "#print(fn)\n",
    "\n",
    "onset = []\n",
    "dur = []\n",
    "its = []\n",
    "for ait in trem_intervals:\n",
    "    onset += [ait[0]]\n",
    "    dur += [ait[1]-ait[0]]\n",
    "    its += [it_trem]\n",
    "for ait in notrem_intervals:\n",
    "    onset += [ait[0]]\n",
    "    dur += [ait[1]-ait[0]]\n",
    "    its += [it_notrem]\n",
    "onset += [25]\n",
    "dur += [4]\n",
    "its += [it_notrem_otherside]\n",
    "sh = 4\n",
    "sh2 = 1.3\n",
    "for ait in trem_intervals[ 0:1]:\n",
    "    onset += [ait[0] + sh]\n",
    "    dur += [ait[1] - ait[0] - sh2]\n",
    "    its += [it_trem_otherside]\n",
    "for ait in move_intervals:\n",
    "    onset += [ait[0]]\n",
    "    dur += [ait[1] - ait[0]]\n",
    "    its += [it_move]\n",
    "\n",
    "mvt = mne.Annotations(onset,dur,its) \n",
    "\n",
    "\n",
    "do_save_anns = True\n",
    "\n",
    "pre_rns = ['{}_off_hold', '{}_off_move', '{}_on_move', '{}_on_hold']\n",
    "for pre_rn in pre_rns:\n",
    "    rn = pre_rn.format(sind_str_new)\n",
    "    fn = pjoin(gv.data_dir,rn + '_ann_LFPartif.txt')\n",
    "    if do_save_anns:\n",
    "        LFPartif.save(fn)\n",
    "\n",
    "    fn = pjoin(gv.data_dir,rn + '_ann_MEGartif.txt')\n",
    "    if do_save_anns:\n",
    "        MEGartif.save(fn)\n",
    "\n",
    "    fn = pjoin(gv.data_dir,rn + '_anns.txt')\n",
    "    if do_save_anns:\n",
    "        mvt.save(fn)\n",
    "    print('Saved anns {} for {}'.format(do_save_anns,rn) )\n",
    "    \n",
    "rawname_new = pre_rns[1].format(sind_str_new)"
   ]
  },
  {
   "cell_type": "code",
   "execution_count": null,
   "metadata": {},
   "outputs": [],
   "source": [
    "mvt.description, mvt.duration"
   ]
  },
  {
   "cell_type": "code",
   "execution_count": null,
   "metadata": {},
   "outputs": [],
   "source": [
    "rawname_new"
   ]
  },
  {
   "cell_type": "code",
   "execution_count": null,
   "metadata": {},
   "outputs": [],
   "source": [
    "fn"
   ]
  },
  {
   "cell_type": "code",
   "execution_count": null,
   "metadata": {},
   "outputs": [],
   "source": [
    "pre_rn.format(sind_str)"
   ]
  },
  {
   "cell_type": "code",
   "execution_count": null,
   "metadata": {},
   "outputs": [],
   "source": [
    "rn"
   ]
  },
  {
   "cell_type": "code",
   "execution_count": null,
   "metadata": {},
   "outputs": [],
   "source": [
    "sind_str"
   ]
  },
  {
   "cell_type": "code",
   "execution_count": null,
   "metadata": {},
   "outputs": [],
   "source": [
    "mvt"
   ]
  },
  {
   "cell_type": "code",
   "execution_count": null,
   "metadata": {},
   "outputs": [],
   "source": [
    "line_noise_freq = 50\n",
    "line_noise_harmonics = np.arange(line_noise_freq, sfreq//2, line_noise_freq)\n",
    "line_noise_harmonics_hires = np.arange(line_noise_freq, sfreq_high//2, line_noise_freq)\n",
    "SNR_line_noise = 3\n",
    "std2noise_size_mult = {'LFP': 0.1, 'EMG':0.1, 'MEG':0.1}\n",
    "line_noise_scale_decay = 0.5"
   ]
  },
  {
   "cell_type": "code",
   "execution_count": null,
   "metadata": {},
   "outputs": [],
   "source": [
    "times = np.arange(total_duration * sfreq) / sfreq\n",
    "times_hires = np.arange(total_duration * sfreq_high) / sfreq_high\n"
   ]
  },
  {
   "cell_type": "code",
   "execution_count": null,
   "metadata": {},
   "outputs": [],
   "source": [
    "#print(trem_side,  info.ch_names[glob_index_emg], info.ch_names[glob_index_lfp])"
   ]
  },
  {
   "cell_type": "code",
   "execution_count": null,
   "metadata": {},
   "outputs": [],
   "source": [
    "# emg_mean,emg_std = (0.0006595533493318836, 1.7004551716638424e-05)  # from S01_off_move\n",
    "# lfp_mean,lfp_std = (1.802609245871129e-05, 6.75905740440924e-06)\n",
    "## does not make sense meg_mean, meg_std = (2.0509702638406777e-13, 3.328465797177012e-11)"
   ]
  },
  {
   "cell_type": "code",
   "execution_count": null,
   "metadata": {},
   "outputs": [],
   "source": [
    "random_seed = 0\n",
    "np.random.seed(random_seed)"
   ]
  },
  {
   "cell_type": "code",
   "execution_count": null,
   "metadata": {},
   "outputs": [],
   "source": [
    "supp_info = {'random_seed': random_seed, 'trem_intervals':trem_intervals,\n",
    "            'trem_start_trans':trem_start_trans, 'trem_end_trans':trem_end_trans,\n",
    "            'trem_hifreq':trem_hifreq, 'trem_lowfreq':trem_lowfreq}"
   ]
  },
  {
   "cell_type": "code",
   "execution_count": null,
   "metadata": {},
   "outputs": [],
   "source": [
    "supp_info['emg_chis_to_have_tremor'] = emg_chis_to_have_tremor\n",
    "supp_info['trem_burst_lfp_freq'] = trem_burst_lfp_freq\n",
    "supp_info['artfiacts_intervals_LFP'] = artfiacts_intervals_LFP\n",
    "supp_info['lfp_chi_to_have_tremor'] = lfp_chi_to_have_tremor\n",
    "supp_info['roi_labels_with_tremor'] = roi_labels_with_tremor\n",
    "supp_info['trem_burst_meg_freq'] = trem_burst_meg_freq\n",
    "supp_info['artfiacts_intervals_MEG'] = artfiacts_intervals_MEG\n",
    "supp_info['meg_mean'] = meg_mean\n",
    "supp_info['meg_std'] = meg_std\n",
    "supp_info['meg_means'] = meg_means\n",
    "supp_info['meg_stds'] = meg_stds\n",
    "supp_info['lfp_mean'] = lfp_mean\n",
    "supp_info['lfp_std'] = lfp_std\n",
    "supp_info['emg_mean'] = emg_mean\n",
    "supp_info['emg_std'] = emg_std\n",
    "supp_info['trem_side'] = trem_side\n",
    "supp_info['total_duration'] = total_duration\n",
    "supp_info['sfreq'] = sfreq\n",
    "supp_info['sfreq_high'] = sfreq_high\n",
    "\n",
    "supp_info['rawname_base'] = rawname_\n",
    "if task is None:\n",
    "    supp_info['task_present'] = ''  #needed for correct saving to .mat file\n",
    "else:\n",
    "    supp_info['task_present'] = task"
   ]
  },
  {
   "cell_type": "markdown",
   "metadata": {},
   "source": [
    "# generate EMG data"
   ]
  },
  {
   "cell_type": "code",
   "execution_count": null,
   "metadata": {},
   "outputs": [],
   "source": [
    "#200 hz sine modulated"
   ]
  },
  {
   "cell_type": "code",
   "execution_count": null,
   "metadata": {},
   "outputs": [],
   "source": [
    "tremor_intensity = np.zeros( len(times) )\n",
    "tremor_intensity_hires = np.zeros( len(times_hires) )\n",
    "for trem_start, trem_end in trem_intervals:\n",
    "    tremor_intensity[trem_start*sfreq:trem_end*sfreq] += 1\n",
    "    tremor_intensity[(trem_start - trem_start_trans)*sfreq: trem_start*sfreq] += \\\n",
    "        np.linspace(0,1,trem_start_trans*sfreq)  \n",
    "    sl = slice(trem_end*sfreq, (trem_end + trem_end_trans)*sfreq)\n",
    "    tremor_intensity[sl] += \\\n",
    "        np.linspace(1,0,min(trem_end_trans*sfreq,len(times)-trem_end*sfreq)  )\n",
    "    \n",
    "    tremor_intensity_hires[trem_start*sfreq_high:trem_end*sfreq_high] += 1\n",
    "    tremor_intensity_hires[(trem_start - trem_start_trans)*sfreq_high: trem_start*sfreq_high] += \\\n",
    "        np.linspace(0,1,trem_start_trans*sfreq_high)  \n",
    "    sl = slice(trem_end*sfreq_high, (trem_end + trem_end_trans)*sfreq_high)\n",
    "    tremor_intensity_hires[sl] += \\\n",
    "        np.linspace(1,0,min(trem_end_trans*sfreq_high,len(times_hires)-trem_end*sfreq_high)  ) \n",
    "\n",
    "supp_info['tremor_intensity'] = tremor_intensity\n",
    "plt.plot(times,tremor_intensity); plt.show()\n",
    "plt.plot(times_hires,tremor_intensity_hires)"
   ]
  },
  {
   "cell_type": "code",
   "execution_count": null,
   "metadata": {},
   "outputs": [],
   "source": []
  },
  {
   "cell_type": "code",
   "execution_count": null,
   "metadata": {},
   "outputs": [],
   "source": [
    "emg_low, emg_high = emg_mean - emg_std, emg_mean + emg_std\n",
    "emg_noise_mult = (emg_high - emg_low) * std2noise_size_mult['EMG']\n",
    "EMG_noise  = np.random.uniform(low = -1, high = 1, size=len(times))\n",
    "EMG_noise2 = np.random.uniform(low = -1, high = 1, size=len(times))\n",
    "\n",
    "\n",
    "trem_signal_hifreq = np.sin(2*np.pi * trem_hifreq * times)\n",
    "trem_signal_modulation = np.sin(2*np.pi * trem_lowfreq * times)\n",
    "EMG_signal = emg_mean + (emg_high - emg_low)* trem_signal_modulation * trem_signal_hifreq * tremor_intensity \n",
    "EMG_signal2 = EMG_signal[:]\n",
    "#EMG_signal  +=  EMG_noise * emg_noise_mult\n",
    "#EMG_signal2 +=  EMG_noise2 * emg_noise_mult * 0.7\n",
    "\n",
    "EMG_signals = [EMG_signal,EMG_signal2 ]"
   ]
  },
  {
   "cell_type": "code",
   "execution_count": null,
   "metadata": {},
   "outputs": [],
   "source": [
    "nemgs = len(emg_chis)\n",
    "emg_data = np.random.uniform(low = -1, high = 1, size=(nemgs,len(times)) )\n",
    "emg_data *= emg_noise_mult\n",
    "emg_data += emg_mean\n",
    "\n",
    "for ii,emg_chi_to_have_tremor in enumerate(emg_chis_to_have_tremor):\n",
    "    emg_data[emg_chi_to_have_tremor] += EMG_signals[ii]\n",
    "print(nemgs,emg_data.shape)\n",
    "\n",
    "for emg_chi_to_have_tremor in emg_chis_to_have_tremor:\n",
    "    plt.figure(figsize=(20,3))\n",
    "    plt.plot(times,emg_data[emg_chi_to_have_tremor])\n",
    "    # plt.xlim(7,9)\n",
    "    plt.title(info.ch_names[emg_chis[emg_chi_to_have_tremor]] )\n",
    "    plt.xlim(5,13)\n",
    "    plt.show()"
   ]
  },
  {
   "cell_type": "code",
   "execution_count": null,
   "metadata": {},
   "outputs": [],
   "source": [
    "EMG_signals[0] - EMG_signals[1]"
   ]
  },
  {
   "cell_type": "markdown",
   "metadata": {},
   "source": [
    "# generate LFP data"
   ]
  },
  {
   "cell_type": "code",
   "execution_count": null,
   "metadata": {},
   "outputs": [],
   "source": [
    "lfp_low, lfp_high = lfp_mean - lfp_std, lfp_mean + lfp_std\n",
    "lfp_noise_mult = (lfp_high - lfp_low) * std2noise_size_mult['LFP']\n",
    "line_noise_ampl_LFP = lfp_noise_mult * SNR_line_noise\n",
    "\n",
    "# let us have 70 Hz osc during tremor\n",
    "\n",
    "trem_burst_lfp = np.sin(2*np.pi * trem_burst_lfp_freq * times)\n",
    "LFP_signal = lfp_mean + (lfp_high - lfp_low)* trem_burst_lfp * tremor_intensity \n",
    "\n",
    "# add two artifacts \n",
    "for ai in artfiacts_intervals_LFP:\n",
    "    start,end,at = ai\n",
    "    start_bin,end_bin = int(start*sfreq), int(end*sfreq)\n",
    "    if at == 0:\n",
    "        art_signal = np.random.uniform(low = -1, high = 1, size=end_bin-start_bin) \\\n",
    "            * (lfp_high - lfp_low) * 4\n",
    "    elif at == 1:\n",
    "        art_signal = (lfp_high - lfp_low) * 4\n",
    "\n",
    "    LFP_signal[start_bin:end_bin] += art_signal"
   ]
  },
  {
   "cell_type": "code",
   "execution_count": null,
   "metadata": {},
   "outputs": [],
   "source": [
    "nlfps = len(lfp_chis)\n",
    "lfp_data = np.random.uniform(low = -1, high = 1, size=(nlfps,len(times)) )\n",
    "lfp_data *= lfp_noise_mult\n",
    "lfp_data += lfp_mean\n",
    "\n",
    "line_noise_scale = 1\n",
    "for lnhi,lnh in enumerate(line_noise_harmonics):\n",
    "    lfp_data += line_noise_scale * \\\n",
    "        line_noise_ampl_LFP * np.sin(2*np.pi * lnh * times) [None,:]\n",
    "    line_noise_scale *= line_noise_scale_decay\n",
    "\n",
    "lfp_data[lfp_chi_to_have_tremor] += LFP_signal # make the last one\n",
    "print(info.ch_names[lfp_chis[lfp_chi_to_have_tremor] ] )\n",
    "\n",
    "plt.figure(figsize=(20,3))\n",
    "plt.plot(times,lfp_data[lfp_chi_to_have_tremor])\n",
    "plt.show()"
   ]
  },
  {
   "cell_type": "code",
   "execution_count": null,
   "metadata": {},
   "outputs": [],
   "source": [
    "#utils.getChannelSide(rawname_,emg_chis[0])"
   ]
  },
  {
   "cell_type": "code",
   "execution_count": null,
   "metadata": {},
   "outputs": [],
   "source": [
    "lfp_data.shape"
   ]
  },
  {
   "cell_type": "markdown",
   "metadata": {},
   "source": [
    "# Generate HFO LFP data"
   ]
  },
  {
   "cell_type": "code",
   "execution_count": null,
   "metadata": {},
   "outputs": [],
   "source": []
  },
  {
   "cell_type": "code",
   "execution_count": null,
   "metadata": {},
   "outputs": [],
   "source": [
    "lfp_low, lfp_high = lfp_mean - lfp_std, lfp_mean + lfp_std\n",
    "lfp_noise_mult = (lfp_high - lfp_low) * std2noise_size_mult['LFP']\n",
    "line_noise_ampl_LFP = lfp_noise_mult * SNR_line_noise\n",
    "\n",
    "# let us have 70 Hz osc during tremor\n",
    "\n",
    "trem_burst_lfp_hires = np.sin(2*np.pi * trem_burst_lfp_freq * times_hires)\n",
    "LFP_signal_hires = lfp_mean + (lfp_high - lfp_low)* trem_burst_lfp_hires * \\\n",
    "tremor_intensity_hires\n",
    "\n",
    "# add two artifacts \n",
    "for ai in artfiacts_intervals_LFP:\n",
    "    start,end,at = ai\n",
    "    start_bin,end_bin = int(start*sfreq_high), int(end*sfreq_high)\n",
    "    if at == 0:\n",
    "        art_signal = np.random.uniform(low = -1, high = 1, size=end_bin-start_bin) \\\n",
    "            * (lfp_high - lfp_low) * 4\n",
    "    elif at == 1:\n",
    "        art_signal = (lfp_high - lfp_low) * 4\n",
    "\n",
    "    LFP_signal_hires[start_bin:end_bin] += art_signal"
   ]
  },
  {
   "cell_type": "code",
   "execution_count": null,
   "metadata": {},
   "outputs": [],
   "source": [
    "nlfps = len(lfp_chis)\n",
    "lfp_data_hires = np.random.uniform(low = -1, high = 1, size=(nlfps,len(times_hires)) )\n",
    "lfp_data_hires *= lfp_noise_mult\n",
    "lfp_data_hires += lfp_mean\n",
    "\n",
    "line_noise_scale = 1\n",
    "for lnhi,lnh in enumerate(line_noise_harmonics_hires):\n",
    "    lfp_data_hires += line_noise_scale * \\\n",
    "        line_noise_ampl_LFP * np.sin(2*np.pi * lnh * times_hires) [None,:]\n",
    "    line_noise_scale *= line_noise_scale_decay\n",
    "\n",
    "lfp_data_hires[lfp_chi_to_have_tremor] += LFP_signal_hires # make the last one\n",
    "print(info.ch_names[lfp_chis[lfp_chi_to_have_tremor] ] )\n",
    "\n",
    "plt.figure(figsize=(20,3))\n",
    "plt.plot(times_hires,lfp_data_hires[lfp_chi_to_have_tremor])\n",
    "plt.show()"
   ]
  },
  {
   "cell_type": "markdown",
   "metadata": {},
   "source": [
    "# generate MEG data"
   ]
  },
  {
   "cell_type": "markdown",
   "metadata": {},
   "source": [
    "## Load coords"
   ]
  },
  {
   "cell_type": "code",
   "execution_count": null,
   "metadata": {},
   "outputs": [],
   "source": [
    "sind_str,mod,task = utils.getParamsFromRawname(rawname_)\n",
    "\n",
    "sources_type='parcel_aal'\n",
    "src_file_grouping_ind = 10\n",
    "src_rec_info_fn = '{}_{}_grp{}_src_rec_info'.format(rawname_,\n",
    "                                                    sources_type,src_file_grouping_ind)\n",
    "src_rec_info_fn_full = os.path.join(gv.data_dir, src_rec_info_fn + '.npz')\n",
    "rec_info = np.load(src_rec_info_fn_full, allow_pickle=True)\n",
    "\n",
    "\n",
    "print( list(rec_info.keys()) )\n",
    "\n",
    "labels_dict = rec_info['label_groups_dict'][()]\n",
    "srcgroups_dict = rec_info['srcgroups_dict'][()]\n",
    "coords = rec_info['coords_Jan_actual'][()]\n",
    "\n",
    "print( labels_dict.keys() )\n",
    "\n",
    "sgdn = 'all_raw'"
   ]
  },
  {
   "cell_type": "code",
   "execution_count": null,
   "metadata": {},
   "outputs": [],
   "source": [
    "chan_info"
   ]
  },
  {
   "cell_type": "code",
   "execution_count": null,
   "metadata": {},
   "outputs": [],
   "source": [
    "#3012 (FIFFV_COIL_VV_PLANAR_T1)\n",
    "#2000 (FIFFV_COIL_POINT_MAGNETOMETER)"
   ]
  },
  {
   "cell_type": "code",
   "execution_count": null,
   "metadata": {},
   "outputs": [],
   "source": [
    "chlocs = []\n",
    "sensor_types = []\n",
    "for si in range(len(meg_chis)):\n",
    "    chi = meg_chis[si]\n",
    "    chan_info = f.info['chs'][chi]\n",
    "    chan_loc = chan_info['loc'][:3]\n",
    "    chlocs += [chan_loc]\n",
    "    #sensor_types += [chan_info['coil_type']._name]\n",
    "    sensor_types += [int(chan_info['coil_type']) ]\n",
    "    print(chan_info['coil_type'])\n",
    "chlocs = np.vstack(chlocs)"
   ]
  },
  {
   "cell_type": "code",
   "execution_count": null,
   "metadata": {},
   "outputs": [],
   "source": []
  },
  {
   "cell_type": "code",
   "execution_count": null,
   "metadata": {},
   "outputs": [],
   "source": [
    "assert fname_noext_def.endswith('resample_raw'), fname_noext_def"
   ]
  },
  {
   "cell_type": "markdown",
   "metadata": {},
   "source": [
    "## Put coherent info in sensors corresponding to different roi"
   ]
  },
  {
   "cell_type": "code",
   "execution_count": null,
   "metadata": {},
   "outputs": [],
   "source": [
    "#lbls = [ 'Cerebellum_R']\n",
    "# we get indices of sensor as they were presented in chlocs, i.e. in the order of meg_chis\n",
    "roi_sensors = utils_test.getSensorsFromRoiLabels(roi_labels_with_tremor, \n",
    "                                                 coords, chlocs*100, \n",
    "                                                 labels_dict[sgdn], \n",
    "                                                 srcgroups_dict[sgdn] )\n",
    "display(roi_sensors)\n",
    "supp_info['roi_sensors'] = roi_sensors"
   ]
  },
  {
   "cell_type": "markdown",
   "metadata": {},
   "source": [
    "### Gen data"
   ]
  },
  {
   "cell_type": "code",
   "execution_count": null,
   "metadata": {},
   "outputs": [],
   "source": [
    "meg_noise_mults.shape, line_noise_ampl_MEGs.shape"
   ]
  },
  {
   "cell_type": "code",
   "execution_count": null,
   "metadata": {},
   "outputs": [],
   "source": [
    "meg_means.shape"
   ]
  },
  {
   "cell_type": "code",
   "execution_count": null,
   "metadata": {},
   "outputs": [],
   "source": [
    "nmegs = len(meg_chis)\n",
    "meg_noise_mults = 2*meg_stds * std2noise_size_mult['MEG']\n",
    "meg_data = np.random.uniform(low = -1, high = 1, size=(nmegs,len(times)) )\n",
    "#meg_data *= meg_noise_mult\n",
    "meg_data *= meg_noise_mults[:,None]\n",
    "meg_data += meg_means[:,None]\n",
    "\n",
    "line_noise_ampl_MEGs = meg_noise_mults * SNR_line_noise\n",
    "\n",
    "line_noise_scale = 1\n",
    "for lnhi,lnh in enumerate(line_noise_harmonics):\n",
    "    meg_data += line_noise_scale * \\\n",
    "        line_noise_ampl_MEGs[:,None] * np.sin(2*np.pi * lnh * times)  [None,:]\n",
    "    line_noise_scale *= line_noise_scale_decay\n",
    "\n",
    "intensities = np.random.uniform(low=0.7,high=1, size= len(roi_sensors) )\n",
    "\n",
    "for rli,roi_label in enumerate(roi_sensors.keys()):\n",
    "    #meg_chis_inds = [0,20]\n",
    "    meg_chis_inds = roi_sensors[roi_label]\n",
    "    print(roi_label,meg_chis_inds)\n",
    "    for chi_ind in meg_chis_inds:\n",
    "        # chi_ind -- index of an element in meg_chis list (i.e. index of an index)\n",
    "        trem_burst_meg = np.sin(2*np.pi * trem_burst_meg_freq * times)\n",
    "        src_intensity =  intensities[rli]\n",
    "        meg_data[chi_ind] += 2*meg_std* trem_burst_meg * tremor_intensity * src_intensity"
   ]
  },
  {
   "cell_type": "code",
   "execution_count": null,
   "metadata": {},
   "outputs": [],
   "source": [
    "artfiacts_intervals_MEG"
   ]
  },
  {
   "cell_type": "code",
   "execution_count": null,
   "metadata": {},
   "outputs": [],
   "source": [
    "# add artifacts to all sensors\n",
    "for ai in artfiacts_intervals_MEG:\n",
    "    start,end,at = ai\n",
    "    start_bin,end_bin = int(start*sfreq), int(end*sfreq)\n",
    "    sz = (nmegs,end_bin-start_bin)\n",
    "    if at == 0:\n",
    "        art_signal = np.random.uniform(low = -1, high = 1, size=sz) \\\n",
    "            * 2*meg_stds[:,None] * 4\n",
    "    elif at == 1:\n",
    "        art_signal = 2*meg_stds[:,None] * 4 * np.ones(sz)\n",
    "\n",
    "    meg_data[:,start_bin:end_bin] += art_signal"
   ]
  },
  {
   "cell_type": "code",
   "execution_count": null,
   "metadata": {},
   "outputs": [],
   "source": [
    "meg_chis"
   ]
  },
  {
   "cell_type": "code",
   "execution_count": null,
   "metadata": {},
   "outputs": [],
   "source": [
    "meg_chis_inds, np.array(f.ch_names)[meg_chis][meg_chis_inds] "
   ]
  },
  {
   "cell_type": "code",
   "execution_count": null,
   "metadata": {},
   "outputs": [],
   "source": [
    "len(sens_types)"
   ]
  },
  {
   "cell_type": "code",
   "execution_count": null,
   "metadata": {},
   "outputs": [],
   "source": [
    "roi_sensors"
   ]
  },
  {
   "cell_type": "code",
   "execution_count": null,
   "metadata": {},
   "outputs": [],
   "source": [
    "sens_types = list( set(sensor_types) )\n",
    "#fig,axs = plt.subplots(nrows=len(sens_types))\n",
    "#for sti,st in enumerate(sens_types):\n",
    "for chi_ind in list(roi_sensors[roi_labels_with_tremor[1]]):\n",
    "    \n",
    "    chi = meg_chis[chi_ind]\n",
    "    chan_info = f.info['chs'][chi]\n",
    "    \n",
    "    #t = chan_info['coil_type']._name\n",
    "    t = chan_info['coil_type']\n",
    "    print(t)\n",
    "    sti = sens_types.index( t )\n",
    "    #print(chan_info['coil_type'])\n",
    "    #ax = axs[sti]\n",
    "    ax = plt.gca()\n",
    "    d = meg_data[chi_ind]\n",
    "    me = np.mean(d)\n",
    "    ax.plot(times,d-me)"
   ]
  },
  {
   "cell_type": "code",
   "execution_count": null,
   "metadata": {},
   "outputs": [],
   "source": [
    "plt.plot(times,meg_data[0])"
   ]
  },
  {
   "cell_type": "code",
   "execution_count": null,
   "metadata": {},
   "outputs": [],
   "source": [
    "#f.ch_names"
   ]
  },
  {
   "cell_type": "code",
   "execution_count": null,
   "metadata": {},
   "outputs": [],
   "source": [
    "print(len(meg_chis), meg_data.shape)\n",
    "print(len(lfp_chis), lfp_data.shape)\n",
    "print(len(emg_chis), emg_data.shape)"
   ]
  },
  {
   "cell_type": "code",
   "execution_count": null,
   "metadata": {},
   "outputs": [],
   "source": []
  },
  {
   "cell_type": "markdown",
   "metadata": {},
   "source": [
    "# Save result"
   ]
  },
  {
   "cell_type": "code",
   "execution_count": null,
   "metadata": {},
   "outputs": [],
   "source": [
    "do_gen_MEG_data = 1"
   ]
  },
  {
   "cell_type": "code",
   "execution_count": null,
   "metadata": {},
   "outputs": [],
   "source": [
    "new_chis = [];\n",
    "if do_gen_MEG_data:\n",
    "    new_chis = meg_chis\n",
    "new_chis = new_chis + lfp_chis + emg_chis\n",
    "new_chnames = np.array(f.ch_names)[new_chis].tolist()\n",
    "\n",
    "print( len(new_chis), len(new_chnames) )\n",
    "\n",
    "new_chtypes = len(new_chis)*[0]\n",
    "for chii,chi in enumerate(new_chis):\n",
    "    new_chtypes[chii] = mne.channel_type(info,chi)\n",
    "\n",
    "if do_gen_MEG_data:\n",
    "    dd = [meg_data, lfp_data, emg_data]\n",
    "else:\n",
    "    dd = [lfp_data, emg_data]\n",
    "new_data = np.vstack(dd)\n",
    "print(new_data.shape)\n",
    "\n",
    "#new_chtypes\n",
    "\n",
    "#new_chnames\n",
    "\n",
    "new_info = mne.create_info(\n",
    "    ch_names=new_chnames,\n",
    "    ch_types=new_chtypes,\n",
    "    sfreq=sfreq)\n",
    "\n",
    "custom_raw_cur = mne.io.RawArray(new_data, new_info)"
   ]
  },
  {
   "cell_type": "markdown",
   "metadata": {},
   "source": [
    "## high freq LFP"
   ]
  },
  {
   "cell_type": "code",
   "execution_count": null,
   "metadata": {},
   "outputs": [],
   "source": [
    "new_chis_hires = lfp_chis\n",
    "new_chnames_hires = np.array(f.ch_names)[new_chis_hires].tolist()\n",
    "\n",
    "new_chtypes_hires = len(new_chis_hires)*[0]\n",
    "for chii,chi in enumerate(new_chis_hires):\n",
    "    new_chtypes_hires[chii] = mne.channel_type(info,chi)\n",
    "\n",
    "new_data_hires = np.vstack([lfp_data_hires])\n",
    "print(new_data_hires.shape)\n",
    "\n",
    "#new_chtypes\n",
    "\n",
    "#new_chnames\n",
    "\n",
    "new_info_hires = mne.create_info(\n",
    "    ch_names=new_chnames_hires,\n",
    "    ch_types=new_chtypes_hires,\n",
    "    sfreq=sfreq_high)\n",
    "\n",
    "custom_raw_cur_hires = mne.io.RawArray(new_data_hires, new_info_hires)"
   ]
  },
  {
   "cell_type": "markdown",
   "metadata": {},
   "source": [
    "### set coorect sensor locations (necessary for artifact finding)"
   ]
  },
  {
   "cell_type": "code",
   "execution_count": null,
   "metadata": {},
   "outputs": [],
   "source": [
    "for chi,chn in enumerate(custom_raw_cur.ch_names):\n",
    "    chi_orig = f.ch_names.index(chn)\n",
    "    custom_raw_cur.info['chs'][chi] = f.info['chs'][chi_orig]\n",
    "    \n",
    "for chi,chn in enumerate(custom_raw_cur_hires.ch_names):\n",
    "    chi_orig = f.ch_names.index(chn)\n",
    "    custom_raw_cur_hires.info['chs'][chi] = f.info['chs'][chi_orig]"
   ]
  },
  {
   "cell_type": "markdown",
   "metadata": {},
   "source": [
    "# Some parts of resave.py"
   ]
  },
  {
   "cell_type": "code",
   "execution_count": null,
   "metadata": {},
   "outputs": [],
   "source": [
    "#rawname_new = 'S99_off_move'"
   ]
  },
  {
   "cell_type": "markdown",
   "metadata": {},
   "source": [
    "## save highres LFP"
   ]
  },
  {
   "cell_type": "code",
   "execution_count": null,
   "metadata": {},
   "outputs": [],
   "source": [
    "fname_noext_new_hires = rawname_new + '_LFP_1kHz.fif'\n",
    "fname_new_hires = pjoin(gv.data_dir,fname_noext_new_hires)\n",
    "custom_raw_cur_hires.save(fname_new_hires, overwrite=True)"
   ]
  },
  {
   "cell_type": "markdown",
   "metadata": {},
   "source": [
    "### save lowres LFP and EMG"
   ]
  },
  {
   "cell_type": "code",
   "execution_count": null,
   "metadata": {},
   "outputs": [],
   "source": [
    "import importlib as il\n",
    "il.reload(upre)"
   ]
  },
  {
   "cell_type": "code",
   "execution_count": null,
   "metadata": {},
   "outputs": [],
   "source": [
    "#%debug\n",
    "upre.saveLFP(rawname_new, skip_if_exist = 0,sfreq=sfreq, raw_resampled=custom_raw_cur)\n",
    "upre.extractEMGData(custom_raw_cur,rawname_new, skip_if_exist = 0)  "
   ]
  },
  {
   "cell_type": "code",
   "execution_count": null,
   "metadata": {},
   "outputs": [],
   "source": [
    "rr = upre.getSubRaw(None,'LFP.*',raw=custom_raw_cur)"
   ]
  },
  {
   "cell_type": "code",
   "execution_count": null,
   "metadata": {},
   "outputs": [],
   "source": []
  },
  {
   "cell_type": "code",
   "execution_count": null,
   "metadata": {},
   "outputs": [],
   "source": [
    "len(rr.ch_names)"
   ]
  },
  {
   "cell_type": "code",
   "execution_count": null,
   "metadata": {},
   "outputs": [],
   "source": [
    "custom_raw_cur.ch_names"
   ]
  },
  {
   "cell_type": "code",
   "execution_count": null,
   "metadata": {},
   "outputs": [],
   "source": [
    "mne.pick_channels_regexp(custom_raw_cur.ch_names, 'LFP.*' )"
   ]
  },
  {
   "cell_type": "code",
   "execution_count": null,
   "metadata": {},
   "outputs": [],
   "source": [
    "# I don't want to call resave.py directly because \n",
    "# it would require saving in FieldTrip format"
   ]
  },
  {
   "cell_type": "code",
   "execution_count": null,
   "metadata": {},
   "outputs": [],
   "source": [
    "custom_raw_cur_notched = custom_raw_cur.copy()\n",
    "custom_raw_cur_notched.notch_filter(line_noise_harmonics, n_jobs=6)\n",
    "                                   #filter_length=sfreq, trans_bandwidth=1, \n",
    "                                   #notch_widths=1)"
   ]
  },
  {
   "cell_type": "code",
   "execution_count": null,
   "metadata": {},
   "outputs": [],
   "source": [
    "#custom_raw_cur_notched.ch_names"
   ]
  },
  {
   "cell_type": "code",
   "execution_count": null,
   "metadata": {},
   "outputs": [],
   "source": [
    "help(filt_raw.filter)"
   ]
  },
  {
   "cell_type": "code",
   "execution_count": null,
   "metadata": {},
   "outputs": [],
   "source": [
    "help(np.pad)"
   ]
  },
  {
   "cell_type": "code",
   "execution_count": null,
   "metadata": {},
   "outputs": [],
   "source": [
    "#%debug\n",
    "MEG_artif_thr_mult = 2.5\n",
    "MEG_thr_use_mean = 1\n",
    "filt_raw = custom_raw_cur_notched.copy()\n",
    "#filt_raw = custom_raw_cur.copy()\n",
    "filt_raw.load_data().filter(l_freq=1., h_freq=None, pad='symmetric')"
   ]
  },
  {
   "cell_type": "code",
   "execution_count": null,
   "metadata": {},
   "outputs": [],
   "source": [
    "custom_raw_cur"
   ]
  },
  {
   "cell_type": "code",
   "execution_count": null,
   "metadata": {},
   "outputs": [],
   "source": []
  },
  {
   "cell_type": "code",
   "execution_count": null,
   "metadata": {},
   "outputs": [],
   "source": [
    "#############################  Plot\n",
    "anns, cvl_per_side = utils.findRawArtifacts(custom_raw_cur , \n",
    "                        thr_mult = MEG_artif_thr_mult,\n",
    "    thr_use_mean = MEG_thr_use_mean)\n",
    "filt_raw.set_annotations(anns)\n",
    "\n",
    "filt_raw.annotations.save(os.path.join(gv.data_dir, \n",
    "                                       '{}_ann_MEGartif.txt'.format(rawname_new) ) )\n",
    "print('Artif found ',anns)\n",
    "\n",
    "\n",
    "#custom_raw_cur.filter(l_freq=1.,h_freq=None)"
   ]
  },
  {
   "cell_type": "code",
   "execution_count": null,
   "metadata": {},
   "outputs": [],
   "source": [
    "help(filt_raw.plot)"
   ]
  },
  {
   "cell_type": "code",
   "execution_count": null,
   "metadata": {},
   "outputs": [],
   "source": [
    "%matplotlib qt\n",
    "filt_raw.plot(scalings='auto');"
   ]
  },
  {
   "cell_type": "markdown",
   "metadata": {},
   "source": [
    "### 3D plots"
   ]
  },
  {
   "cell_type": "code",
   "execution_count": null,
   "metadata": {},
   "outputs": [],
   "source": [
    "import mayavi.mlab as mam\n",
    "\n",
    "meg_only = custom_raw_cur.copy()\n",
    "meg_only.pick_types(meg=True)\n",
    "\n",
    "res,res_inds = utils.collectChnamesBySide(meg_only.info)\n",
    "\n",
    "meg_chis = mne.pick_channels_regexp(meg_only.ch_names,'MEG.*')\n",
    "\n",
    "chlocs = []\n",
    "for si in range(len(meg_chis)):\n",
    "    chi = meg_chis[si]\n",
    "    chan_info = meg_only.info['chs'][chi]\n",
    "    chan_loc = chan_info['loc'][:3]\n",
    "    chlocs += [chan_loc]\n",
    "chlocs = np.vstack(chlocs)\n",
    "\n",
    "sensors_inds = []\n",
    "src_inds = []\n",
    "sides = ['left']\n",
    "for roi_label in sides:\n",
    "    sensors_inds +=  list(res_inds[roi_label] ) \n",
    "    \n",
    "\n",
    "x,y,z = chlocs.T * 100\n",
    "mam.points3d(x,y,z, scale_factor=0.3, color=(0.1,0.1,0.1))#, color = tuple(clrs[grpi]) )\n",
    "\n",
    "x,y,z = chlocs[sensors_inds].T * 100\n",
    "mam.points3d(x,y,z, scale_factor=0.5)#, color = tuple(clrs[grpi]) )\n",
    "\n",
    "sensors_inds = []\n",
    "for roi_label in roi_sensors:    \n",
    "    src_inds += list(np.where(srcgroups_dict[sgdn] == labels_dict[sgdn].index(roi_label))[0])\n",
    "    sensors_inds +=  list(roi_sensors[roi_label] ) \n",
    "    \n",
    "x,y,z = chlocs[sensors_inds].T * 100\n",
    "mam.points3d(x,y,z, scale_factor=0.7, color=(1,0,0))#, color = tuple(clrs[grpi]) )\n",
    "\n",
    "x,y,z = coords[src_inds].T \n",
    "mam.points3d(x,y,z, scale_factor=0.5, color=(1,1,0))#, color = tuple(clrs[grpi]) )\n"
   ]
  },
  {
   "cell_type": "code",
   "execution_count": null,
   "metadata": {},
   "outputs": [],
   "source": [
    "mam.show()"
   ]
  },
  {
   "cell_type": "code",
   "execution_count": null,
   "metadata": {},
   "outputs": [],
   "source": [
    "#mam.show()\n",
    "mam.close()"
   ]
  },
  {
   "cell_type": "markdown",
   "metadata": {},
   "source": [
    "## Final check"
   ]
  },
  {
   "cell_type": "code",
   "execution_count": null,
   "metadata": {},
   "outputs": [],
   "source": [
    "save_filt = 0\n",
    "if save_filt:\n",
    "    raw_to_save = filt_raw\n",
    "else:\n",
    "    raw_to_save = custom_raw_cur"
   ]
  },
  {
   "cell_type": "code",
   "execution_count": null,
   "metadata": {},
   "outputs": [],
   "source": [
    "%matplotlib inline"
   ]
  },
  {
   "cell_type": "code",
   "execution_count": null,
   "metadata": {},
   "outputs": [],
   "source": [
    "chns =  [emg_chnames_with_tremor[0],  info.ch_names[glob_index_lfp], \n",
    "         info.ch_names[ meg_chis[ roi_sensors[roi_labels_with_tremor[0]][0] ] ] ]\n",
    "for chn in chns:\n",
    "    dat = raw_to_save[chn][0][0]\n",
    "    plt.plot(times,dat)\n",
    "    plt.title(chn)\n",
    "    plt.show()"
   ]
  },
  {
   "cell_type": "code",
   "execution_count": null,
   "metadata": {},
   "outputs": [],
   "source": [
    "#save raw\n",
    "if save_filt:\n",
    "    fname_noext_new = rawname_new + '_resample_notch_highpass_raw.fif'\n",
    "else:\n",
    "    fname_noext_new = rawname_new + '_resample_raw.fif'\n",
    "fname_new = pjoin(gv.data_dir,fname_noext_new)\n",
    "raw_to_save.save(fname_new, overwrite=True)"
   ]
  },
  {
   "cell_type": "code",
   "execution_count": null,
   "metadata": {},
   "outputs": [],
   "source": [
    "# Save supp test file info\n",
    "supp_info_fname_noext = rawname_new + '_supp_info'\n",
    "supp_info_fname = supp_info_fname_noext + '.npz'\n",
    "supp_info_fname_full = pjoin(gv.data_dir,supp_info_fname)\n",
    "np.savez(supp_info_fname_full,supp_info=supp_info)\n",
    "\n",
    "import scipy.io as sio\n",
    "sio.savemat(pjoin(gv.data_dir,supp_info_fname_noext + '.mat'), supp_info)"
   ]
  },
  {
   "cell_type": "code",
   "execution_count": null,
   "metadata": {},
   "outputs": [],
   "source": [
    "supp_info.keys()"
   ]
  },
  {
   "cell_type": "code",
   "execution_count": null,
   "metadata": {},
   "outputs": [],
   "source": [
    "supp_info"
   ]
  },
  {
   "cell_type": "code",
   "execution_count": null,
   "metadata": {},
   "outputs": [],
   "source": [
    "supp_info['artfiacts_intervals_LFP']"
   ]
  },
  {
   "cell_type": "code",
   "execution_count": null,
   "metadata": {},
   "outputs": [],
   "source": [
    "anns_artif_LFP = utils.intervals2anns(supp_info['artfiacts_intervals_LFP'],'BAD_LFP{}'.format(opsidelet))"
   ]
  },
  {
   "cell_type": "code",
   "execution_count": null,
   "metadata": {},
   "outputs": [],
   "source": [
    "anns_artif_LFP.save(pjoin(gv.data_dir,'{}_ann_LFPartif.txt'.format(rawname_new)))"
   ]
  },
  {
   "cell_type": "code",
   "execution_count": null,
   "metadata": {},
   "outputs": [],
   "source": [
    "%run -i run_collect_artifacts.py -r S97_off_move --min_dur 5"
   ]
  },
  {
   "cell_type": "code",
   "execution_count": null,
   "metadata": {},
   "outputs": [],
   "source": [
    "ann_list"
   ]
  },
  {
   "cell_type": "code",
   "execution_count": null,
   "metadata": {},
   "outputs": [],
   "source": [
    "%load_ext autoreload\n",
    "%autoreload 2"
   ]
  },
  {
   "cell_type": "code",
   "execution_count": null,
   "metadata": {},
   "outputs": [],
   "source": [
    "%run -i run_process_FTsources.py -r S97_off_move --groupings all_raw --alg_type all_sources"
   ]
  },
  {
   "cell_type": "code",
   "execution_count": null,
   "metadata": {},
   "outputs": [],
   "source": [
    "ivalis_artif_tb_indarrays_merged"
   ]
  },
  {
   "cell_type": "code",
   "execution_count": null,
   "metadata": {},
   "outputs": [],
   "source": []
  }
 ],
 "metadata": {
  "kernelspec": {
   "display_name": "Python 3",
   "language": "python",
   "name": "python3"
  },
  "language_info": {
   "codemirror_mode": {
    "name": "ipython",
    "version": 3
   },
   "file_extension": ".py",
   "mimetype": "text/x-python",
   "name": "python",
   "nbconvert_exporter": "python",
   "pygments_lexer": "ipython3",
   "version": "3.6.9"
  },
  "varInspector": {
   "cols": {
    "lenName": 16,
    "lenType": 16,
    "lenVar": 40
   },
   "kernels_config": {
    "python": {
     "delete_cmd_postfix": "",
     "delete_cmd_prefix": "del ",
     "library": "var_list.py",
     "varRefreshCmd": "print(var_dic_list())"
    },
    "r": {
     "delete_cmd_postfix": ") ",
     "delete_cmd_prefix": "rm(",
     "library": "var_list.r",
     "varRefreshCmd": "cat(var_dic_list()) "
    }
   },
   "types_to_exclude": [
    "module",
    "function",
    "builtin_function_or_method",
    "instance",
    "_Feature"
   ],
   "window_display": false
  }
 },
 "nbformat": 4,
 "nbformat_minor": 2
}
