{
 "cells": [
  {
   "cell_type": "code",
   "execution_count": null,
   "id": "ade3991a",
   "metadata": {},
   "outputs": [],
   "source": [
    "'error: *** job 232422 CANCELLED DUE TO TIME LIMIT ***'.find('CANCELLED DUE TO TIME LIMIT')\n"
   ]
  },
  {
   "cell_type": "code",
   "execution_count": null,
   "id": "7026692b",
   "metadata": {},
   "outputs": [],
   "source": [
    "aa = np.arange(40)"
   ]
  },
  {
   "cell_type": "code",
   "execution_count": null,
   "id": "6f2e479f",
   "metadata": {},
   "outputs": [],
   "source": [
    "list(aa) [10:None][::-1]"
   ]
  },
  {
   "cell_type": "code",
   "execution_count": null,
   "id": "4693c243",
   "metadata": {},
   "outputs": [],
   "source": [
    "for a in aa[None:-5:-1]:  # last (5-1)\n",
    "    print(a)"
   ]
  },
  {
   "cell_type": "code",
   "execution_count": null,
   "id": "bbb90bd4",
   "metadata": {},
   "outputs": [],
   "source": [
    "for a in aa[-5:None:-1]:  # from minus five to beginning\n",
    "    print(a)"
   ]
  },
  {
   "cell_type": "code",
   "execution_count": null,
   "id": "08b8ae13",
   "metadata": {},
   "outputs": [],
   "source": [
    "for a in aa[5:None:-1]:  # from five to beginning\n",
    "    print(a)"
   ]
  },
  {
   "cell_type": "code",
   "execution_count": null,
   "id": "59ff0c30",
   "metadata": {},
   "outputs": [],
   "source": [
    "for a in aa[None:5:-1]:  # from end to five\n",
    "    print(a)"
   ]
  },
  {
   "cell_type": "code",
   "execution_count": null,
   "id": "c7208b77",
   "metadata": {},
   "outputs": [],
   "source": [
    "%load_ext autoreload\n",
    "%autoreload 2\n",
    "%precision %.4f\n",
    "import numpy as np\n",
    "np.set_printoptions(precision=4, suppress=1)\n",
    "import utils_postprocess_HPC as postp\n",
    "\n",
    "from IPython import get_ipython; ipython = get_ipython()\n",
    "\n",
    "from jupyter_helpers.notifications import Notifications\n",
    "p = '/usr/share/sounds/gnome/default/alerts/'\n",
    "sound_file = '../beep-06.mp3'; sound_file_err = '../glitch-in-the-matrix-600.mp3'\n",
    "#p1 = p + 'glass.ogg'; p2 = p + 'sonar.ogg';\n",
    "p1 = sound_file; p2 = sound_file_err\n",
    "Notifications(success_audio=p1, time_threshold=2,\n",
    "    failure_audio=p2)  #    ,integration='GNOME')"
   ]
  },
  {
   "cell_type": "code",
   "execution_count": null,
   "id": "0675ec78",
   "metadata": {},
   "outputs": [],
   "source": [
    "stuff_per_age = {}\n",
    "exit_after_str ='corr_matrix' "
   ]
  },
  {
   "cell_type": "code",
   "execution_count": null,
   "id": "2739973d",
   "metadata": {},
   "outputs": [],
   "source": [
    "#X_pri\n",
    "uncommon = {}\n",
    "uncommon['old'] = (' --brain_side_to_use both --LFP_side_to_use right  --prefix onlyH_testLL --param_file ML_medcondsep_one_LFP_HPC.ini'\n",
    "' --use_featfname_old_regex 1')\n",
    "uncommon['new'] = (' --brain_side_to_use right_exCB --LFP_side_to_use right  --prefix onlyH_test --param_file ML_medcondsep_one_LFP_wholectx_HPC.ini')\n",
    "\n",
    "mstr_common = ('%run -i ../run/run_ML.py -r S04_off_hold,S04_off_move'\n",
    "' --feat_types H_act  --bestLFP_disjoint 1 '\n",
    "' --groupings_to_use merge_nothing --int_types_to_use basic '\n",
    "' --runCID 0  --subskip_fit 1 --output_subdir test --n_jobs 1 --do_cleanup 0') \n"
   ]
  },
  {
   "cell_type": "code",
   "execution_count": null,
   "id": "3654965b",
   "metadata": {},
   "outputs": [],
   "source": [
    "# H_act,H_mob,H_compl\n",
    "for age in uncommon:\n",
    "    mstr0 = mstr_common + uncommon[age]\n",
    "    mstr0 += f' --exit_after {exit_after_str}' \n",
    "    print(mstr0)\n",
    "    ipython.magic(mstr0)\n",
    "\n",
    "    dd = {}\n",
    "    dd['feature_names_pri'] = feature_names_pri\n",
    "    dd['X_pri'] = X_pri\n",
    "    dd['results_cur'] = results_cur\n",
    "    dd['Xsubset_to_fit'] = Xsubset_to_fit\n",
    "    dd['Xconcat_good_cur'] = Xconcat_good_cur\n",
    "    stuff_per_age[age] = dd\n",
    "########################\n",
    "# mstr0 = ('%run -i ../run/run_ML.py -r S04_off_hold,S04_off_move'\n",
    "# ' --feat_types H_act  --bestLFP_disjoint 1'\n",
    "# ' --groupings_to_use merge_nothing --int_types_to_use basic'\n",
    "# ' --runCID 0  --subskip_fit 1 --output_subdir test --n_jobs 1 --do_cleanup 0') \n",
    "# mstr0 += f' --exit_after {exit_after_str}' \n",
    "# print(mstr0)\n",
    "# ipython.magic(mstr0)\n",
    "\n",
    "# dd = {}\n",
    "# dd['feature_names_pri'] = feature_names_pri\n",
    "# dd['X_pri'] = X_pri\n",
    "# dd['results_cur'] = results_cur\n",
    "# dd['Xsubset_to_fit'] = Xsubset_to_fit\n",
    "# dd['Xconcat_good_cur'] = Xconcat_good_cur\n",
    "# stuff_per_age['old'] = dd"
   ]
  },
  {
   "cell_type": "code",
   "execution_count": null,
   "id": "1e2c3f99",
   "metadata": {},
   "outputs": [],
   "source": [
    "sum(XGB_param_list_search_seq, [])"
   ]
  },
  {
   "cell_type": "code",
   "execution_count": null,
   "id": "39377dd9",
   "metadata": {},
   "outputs": [],
   "source": [
    "XGB_param_list_search_seq2 = [ sum(XGB_param_list_search_seq, []) ]\n",
    "print(XGB_param_list_search_seq,XGB_param_list_search_seq2)"
   ]
  },
  {
   "cell_type": "code",
   "execution_count": null,
   "id": "63743a36",
   "metadata": {},
   "outputs": [],
   "source": [
    "r = utsne.genParList(XGB_params_search_grid,sum(XGB_param_list_search_seq, [])  )"
   ]
  },
  {
   "cell_type": "code",
   "execution_count": null,
   "id": "2758f28a",
   "metadata": {},
   "outputs": [],
   "source": [
    "#np.prod( [len(v) for v in XGB_params_search_grid.values()] )"
   ]
  },
  {
   "cell_type": "code",
   "execution_count": null,
   "id": "9df4bc8b",
   "metadata": {},
   "outputs": [],
   "source": [
    "#len(list(r) )"
   ]
  },
  {
   "cell_type": "code",
   "execution_count": null,
   "id": "f0dd3a78",
   "metadata": {},
   "outputs": [],
   "source": [
    "#stuff_per_age['old']"
   ]
  },
  {
   "cell_type": "code",
   "execution_count": null,
   "id": "c529866f",
   "metadata": {},
   "outputs": [],
   "source": [
    "for t,v in stuff_per_age.items():\n",
    "    #print( t, type(v) )\n",
    "    l = len( v['feature_names_pri'][0] )\n",
    "    ll = len( v['results_cur']['class_labels_good_for_classif'] )\n",
    "    print(f'{t}  {l}  {ll}')"
   ]
  },
  {
   "cell_type": "code",
   "execution_count": null,
   "id": "fbf1d07c",
   "metadata": {},
   "outputs": [],
   "source": [
    "#set(stuff_per_age['new'] ['feature_names_pri'][0] ) ^ set(stuff_per_age['old'] ['feature_names_pri'][0] )\n",
    "#tuple(stuff_per_age['new'] ['feature_names_pri'][0] ) == tuple(stuff_per_age['old'] ['feature_names_pri'][0] )\n",
    "# new has one window more than old\n",
    "print( stuff_per_age['new']['X_pri'][0].shape,  stuff_per_age['old']['X_pri'][0].shape )\n",
    "print( stuff_per_age['new']['X_pri'][1].shape,  stuff_per_age['old']['X_pri'][1].shape )\n",
    "# skip_last gives good agreement of numbers (not skip_zero), so last element in new should not be there\n",
    "skip_last = np.max( np.abs( stuff_per_age['new']['X_pri'][0][0:-1] - stuff_per_age['old']['X_pri'][0] ))\n",
    "skip_zero = np.max( np.abs( stuff_per_age['new']['X_pri'][0][1:] - stuff_per_age['old']['X_pri'][0] ))\n",
    "print(f'skip_zero={skip_zero}, skip_last={skip_last}')"
   ]
  },
  {
   "cell_type": "code",
   "execution_count": null,
   "id": "e933b2e9",
   "metadata": {},
   "outputs": [],
   "source": [
    "# class labels agree\n",
    "m = stuff_per_age['old']['results_cur']['class_labels_good_for_classif'] == stuff_per_age['new']['results_cur']['class_labels_good_for_classif']\n",
    "sum(~m)"
   ]
  },
  {
   "cell_type": "code",
   "execution_count": null,
   "id": "67cdb9ba",
   "metadata": {},
   "outputs": [],
   "source": [
    "# suspicious\n",
    "np.max( np.abs( stuff_per_age['new']['results_cur']['corr_matrix'] - stuff_per_age['old']['results_cur']['corr_matrix'] ) )"
   ]
  },
  {
   "cell_type": "code",
   "execution_count": null,
   "id": "bed9e288",
   "metadata": {},
   "outputs": [],
   "source": [
    "# different by one windows again\n",
    "print( stuff_per_age['new']['Xsubset_to_fit'].shape,  stuff_per_age['old']['Xsubset_to_fit'].shape )\n",
    "# but here the windows are same again\n",
    "print( stuff_per_age['new']['Xconcat_good_cur'].shape,  stuff_per_age['old']['Xconcat_good_cur'].shape )"
   ]
  },
  {
   "cell_type": "code",
   "execution_count": null,
   "id": "1ab308cf",
   "metadata": {},
   "outputs": [],
   "source": [
    "# good agreement even after rescaling\n",
    "print( np.max( np.abs( stuff_per_age['new']['Xconcat_good_cur'] -  stuff_per_age['old']['Xconcat_good_cur'] ) ) )"
   ]
  },
  {
   "cell_type": "code",
   "execution_count": null,
   "id": "0eee35a4",
   "metadata": {},
   "outputs": [],
   "source": [
    "len(stuff_per_age['old']['results_cur']['class_labels_good_for_classif'])"
   ]
  },
  {
   "cell_type": "code",
   "execution_count": null,
   "id": "1110b19a",
   "metadata": {},
   "outputs": [],
   "source": []
  },
  {
   "cell_type": "code",
   "execution_count": null,
   "id": "4b1a169d",
   "metadata": {},
   "outputs": [],
   "source": [
    "# TODO: I can try to compare stats and intervals\n",
    "# TODO: I can try to run full run_ML with old and compare with new\n",
    "# TODO: do I really have to reascale feats??"
   ]
  },
  {
   "cell_type": "code",
   "execution_count": null,
   "id": "968a5a74",
   "metadata": {},
   "outputs": [],
   "source": [
    "#rescale_feats"
   ]
  }
 ],
 "metadata": {
  "kernelspec": {
   "display_name": "Python 3",
   "language": "python",
   "name": "python3"
  },
  "language_info": {
   "codemirror_mode": {
    "name": "ipython",
    "version": 3
   },
   "file_extension": ".py",
   "mimetype": "text/x-python",
   "name": "python",
   "nbconvert_exporter": "python",
   "pygments_lexer": "ipython3",
   "version": "3.9.6"
  }
 },
 "nbformat": 4,
 "nbformat_minor": 5
}
