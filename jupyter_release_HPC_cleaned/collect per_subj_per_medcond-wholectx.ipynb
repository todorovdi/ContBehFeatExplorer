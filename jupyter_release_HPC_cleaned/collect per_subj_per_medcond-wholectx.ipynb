{
 "cells": [
  {
   "cell_type": "code",
   "execution_count": null,
   "id": "8ac9df56",
   "metadata": {
    "code_folding": []
   },
   "outputs": [],
   "source": [
    "%load_ext autoreload\n",
    "%autoreload 2\n",
    "\n",
    "import os, sys, mne, json, h5py, pymatreader, re, time, gc;\n",
    "import globvars as gv\n",
    "import utils\n",
    "import utils_tSNE as utsne\n",
    "import utils_preproc as upre\n",
    "import matplotlib.pyplot as plt\n",
    "import numpy as np\n",
    "import multiprocessing as mpr\n",
    "import matplotlib as mpl\n",
    "import scipy.signal as sig\n",
    "import pandas as pd \n",
    "import utils_postprocess_HPC as postp\n",
    "\n",
    "data_dir = gv.data_dir\n",
    "from os.path import join as pjoin\n",
    "\n",
    "from dateutil import parser\n",
    "from utils_postprocess_HPC import collectCalcResults\n",
    "\n",
    "light_only = 1\n",
    "\n",
    "# 30 jan was for the first submitted manuscript\n",
    "start_time = parser.parse(\"30 jan 2023 00:05:00\")\n",
    "\n",
    "#end_time = parser.parse(\"30 Oct 2021 21:21:45\")\n",
    "#end_time = parser.parse(\"30 Oct 2029 21:21:45\")\n",
    "end_time = parser.parse(\"15 June 2023 21:21:45\")\n",
    "\n",
    "\n",
    "pairs = []\n",
    "#pairs += [('covmat_entire','per_subj_per_medcond_best_LFP_wholectx_oversample_LFP256_covmat_entire')]\n",
    "pairs += [('covmat_rest',  'per_subj_per_medcond_best_LFP_wholectx_oversample_LFP256_covmat_rest')]\n",
    "pairs += [('SSS_covmat_rest',  'per_subj_per_medcond_best_LFP_wholectx_oversample_LFP256_SSS_covmat_rest')]\n",
    "\n",
    "#per_subj_per_medcond_best_LFP_wholectx_oversample_LFP256_covmat_rest_noscaling\n",
    "# pairs += [('covmat_entire_noscale',\n",
    "#             'per_subj_per_medcond_best_LFP_wholectx_oversample_LFP256_covmat_entire_noscaling')]\n",
    "# pairs += [('covmat_rest_noscale',  \n",
    "#             'per_subj_per_medcond_best_LFP_wholectx_oversample_LFP256_covmat_rest_noscaling')]"
   ]
  },
  {
   "cell_type": "code",
   "execution_count": null,
   "id": "9e24d6dc",
   "metadata": {},
   "outputs": [],
   "source": [
    "copied_to_scratch = False"
   ]
  },
  {
   "cell_type": "code",
   "execution_count": null,
   "id": "218ee6ca",
   "metadata": {},
   "outputs": [],
   "source": [
    "#copied_to_scratch = True"
   ]
  },
  {
   "cell_type": "markdown",
   "id": "42f02676",
   "metadata": {},
   "source": [
    "# copy to scratch"
   ]
  },
  {
   "cell_type": "code",
   "execution_count": null,
   "id": "ddbe9150",
   "metadata": {},
   "outputs": [],
   "source": [
    "gv.data_dir_tmp,subdir_cur"
   ]
  },
  {
   "cell_type": "code",
   "execution_count": null,
   "id": "ef250539",
   "metadata": {},
   "outputs": [],
   "source": [
    "gv.data_dir_tmp"
   ]
  },
  {
   "cell_type": "code",
   "execution_count": null,
   "id": "df563985",
   "metadata": {},
   "outputs": [],
   "source": [
    "pjoin(gv.data_dir_tmp,subdir_cur)"
   ]
  },
  {
   "cell_type": "code",
   "execution_count": null,
   "id": "f65d692b",
   "metadata": {},
   "outputs": [],
   "source": [
    "import shutil\n",
    "scratch_copy = True\n",
    "copied_to_scratch = False\n",
    "if scratch_copy:\n",
    "    for pptype,subdir_cur in pairs:\n",
    "        print(pptype,subdir_cur)\n",
    "        import subprocess as sp\n",
    "        if not os.path.exists(pjoin(gv.data_dir_tmp,subdir_cur)):\n",
    "            os.makedirs(pjoin(gv.data_dir_tmp,subdir_cur))\n",
    "        #out = sp.getoutput(f'cp -r {pjoin(gv.data_dir,subdir_cur)}/_!_* {pjoin(gv.data_dir_tmp,subdir_cur)}')\n",
    "        \n",
    "        s = f'rsync -tv {pjoin(gv.data_dir,subdir_cur)}/_!_* {pjoin(gv.data_dir_tmp,subdir_cur)}/'\n",
    "        #print(s)\n",
    "        out = sp.getoutput(s)\n",
    "        #shutil.copytree(pjoin(gv.data_dir,subdir_cur), \n",
    "        #                pjoin(gv.data_dir_tmp,subdir_cur) )\n",
    "        print(out)\n",
    "    copied_to_scratch = True\n",
    "else:\n",
    "    print('Skipping scratch copy')"
   ]
  },
  {
   "cell_type": "code",
   "execution_count": null,
   "id": "a49f2b59",
   "metadata": {},
   "outputs": [],
   "source": [
    "perf_to_use_list = [('XGB','all_present_features', f'best_PCA-derived_features_0.99')]\n",
    "to_show = []\n",
    "to_show += [('allsep','merge_nothing','basic') ]\n",
    "to_show += [('trem_vs_2class','merge_movements','basic')]\n",
    "to_show += [('trem_vs_all','merge_all_not_trem','basic')]\n",
    "to_show += [('trem_vs_quiet','merge_nothing','trem_vs_quiet') ]"
   ]
  },
  {
   "cell_type": "code",
   "execution_count": null,
   "id": "f62065e5",
   "metadata": {},
   "outputs": [],
   "source": [
    "end_time = parser.parse(\"15 June 2023 21:21:45\")"
   ]
  },
  {
   "cell_type": "code",
   "execution_count": null,
   "id": "5a9f51e9",
   "metadata": {},
   "outputs": [],
   "source": [
    "#test\n",
    "from utils_postprocess_HPC import prepTableInfo3\n",
    "copied_to_scratch = True\n",
    "use_tmpdir_to_load = copied_to_scratch\n",
    "use_tmpdir_to_load = copied_to_scratch\n",
    "prefs_test = ['onlyH_act_subskip8@both-copy_from_search_LFP']\n",
    "dftest, table_info_per_perf_type, table_per_perf_type = \\\n",
    "    prepTableInfo3(opr, prefixes=prefs_test, \n",
    "    perf_to_use_list=perf_to_use_list, to_show=to_show, return_df = True,\n",
    "    use_tmpdir_to_load = use_tmpdir_to_load)"
   ]
  },
  {
   "cell_type": "code",
   "execution_count": null,
   "id": "6a1a8eb6",
   "metadata": {},
   "outputs": [],
   "source": [
    "import gc; gc.collect()"
   ]
  },
  {
   "cell_type": "code",
   "execution_count": null,
   "id": "ff6dd76e",
   "metadata": {},
   "outputs": [],
   "source": [
    "out"
   ]
  },
  {
   "cell_type": "markdown",
   "id": "128cf0e9",
   "metadata": {},
   "source": [
    "# Load"
   ]
  },
  {
   "cell_type": "code",
   "execution_count": null,
   "id": "ddb6396c",
   "metadata": {
    "code_folding": []
   },
   "outputs": [],
   "source": [
    "use_tmpdir_to_load = copied_to_scratch\n",
    "pptype2res = {}\n",
    "for pptype,subdir_cur in pairs:\n",
    "    print(pptype,subdir_cur)\n",
    "    output_per_raw_cur  = collectCalcResults(subdir_cur, start_time =start_time,\n",
    "                end_time=end_time,\n",
    "                use_tmpdir_to_load = use_tmpdir_to_load)\n",
    "    pptype2res[pptype]  = output_per_raw_cur\n",
    "    \n",
    "opr = output_per_raw_cur\n",
    "from utils_postprocess import  multiLevelDict2TupleList\n",
    "outputs_grouped_tpll = multiLevelDict2TupleList(opr,4,3)\n",
    "outputs_grouped_tpll[0][:-1]\n",
    "dfunproc = pd.DataFrame(outputs_grouped_tpll, \n",
    "    columns = ['rawname','prefix','grouping','interval_set','mcf'] )\n",
    "prefixes = list( dfunproc['prefix'].unique() )"
   ]
  },
  {
   "cell_type": "code",
   "execution_count": null,
   "id": "4fa81ab5",
   "metadata": {},
   "outputs": [],
   "source": [
    "dfunproc.iloc[100]['mcf'].keys()"
   ]
  },
  {
   "cell_type": "code",
   "execution_count": null,
   "id": "c6efa6ce",
   "metadata": {},
   "outputs": [],
   "source": [
    "'mcf' in dfunproc.iloc[100]"
   ]
  },
  {
   "cell_type": "code",
   "execution_count": null,
   "id": "72e93361",
   "metadata": {},
   "outputs": [],
   "source": [
    "dfunproc['_mtime'] = dfunproc.apply(lambda x: x['mcf']['mod_time_datetime'] if 'mcf' in x else None,1 )"
   ]
  },
  {
   "cell_type": "code",
   "execution_count": null,
   "id": "0c60a3ae",
   "metadata": {},
   "outputs": [],
   "source": []
  },
  {
   "cell_type": "code",
   "execution_count": null,
   "id": "5140e5af",
   "metadata": {},
   "outputs": [],
   "source": [
    "dfunproc['_mtime'].max()"
   ]
  },
  {
   "cell_type": "code",
   "execution_count": null,
   "id": "19a2b420",
   "metadata": {},
   "outputs": [],
   "source": [
    "list (sorted( prefixes ))"
   ]
  },
  {
   "cell_type": "markdown",
   "id": "9370b19f",
   "metadata": {
    "heading_collapsed": true
   },
   "source": [
    "### dbg"
   ]
  },
  {
   "cell_type": "code",
   "execution_count": null,
   "id": "3a8a90c1",
   "metadata": {
    "hidden": true
   },
   "outputs": [],
   "source": [
    "from utils_postprocess_HPC import getMocFromRow\n",
    "rcd = dfunproc.to_dict(orient='records')[0]\n",
    "#getMocFromRow(rcd, opr)#['pars']"
   ]
  },
  {
   "cell_type": "code",
   "execution_count": null,
   "id": "5b8bfdd7",
   "metadata": {
    "hidden": true
   },
   "outputs": [],
   "source": [
    "if not nloaded:\n",
    "    print('Nothing is loaded :(')\n",
    "# load large file with gathered\n",
    "import utils_postprocess as pp\n",
    "load_precollected = 0\n",
    "if load_precollected:\n",
    "    output_per_raw = np.load(pjoin(gv.data_dir,subdir,'gathered.npz'),allow_pickle=1)\n",
    "    output_per_raw = output_per_raw['output_per_raw'][()]\n",
    "    print('len(output_per_raw) =', len(output_per_raw))\n",
    "    tpll = pp.multiLevelDict2TupleList(output_per_raw,4,3)\n",
    "\n",
    "    z0 = [tpl[:-1] for tpl in tpll]\n",
    "    #rns_ord, prefs_ord, grp_ord, it_ord = list (zip(*z0  ) )\n",
    "    tpll_reshaped = np.array( list (zip(*z0  ) ) )"
   ]
  },
  {
   "cell_type": "markdown",
   "id": "08fb7b72",
   "metadata": {},
   "source": [
    "### prepare table info (long)"
   ]
  },
  {
   "cell_type": "code",
   "execution_count": null,
   "id": "5b634567",
   "metadata": {
    "code_folding": [
     9,
     20
    ]
   },
   "outputs": [],
   "source": [
    "#%debug\n",
    "# mult_clf_output = tpll[0][-1]\n",
    "# all_thrs = mult_clf_output['feat_variance_q_thr'][-1:]\n",
    "# #thr0,thr1,thr2='0.87','0.92','0.99'\n",
    "# all_LDA =  []\n",
    "# all_XGB = ['all_present_features'] #,'after_VF_threshold']\n",
    "# for thr_cur in all_thrs:\n",
    "#     all_XGB += [ f'best_PCA-derived_features_{thr_cur}']\n",
    "\n",
    "# perf_to_use_list = []\n",
    "# for v in all_XGB[1:]:\n",
    "#     perf_to_use_list += [('XGB',all_XGB[0],v,'across_medcond')]\n",
    "    #perf_to_use_list += [('XGB',all_XGB[0],v,'across_subj')]\n",
    "    \n",
    "#perf_to_use_list = [('XGB',all_XGB[0], f'best_PCA-derived_features_{all_thrs[-1]}','across_subj')]\n",
    "#perf_to_use_list = [('XGB','all_present_features', f'best_PCA-derived_features_0.99')]\n",
    "perf_to_use_list = [('XGB','all_present_features', None)]\n",
    "\n",
    "###########################################\n",
    "display(perf_to_use_list)\n",
    "\n",
    "# to_show = [('allsep','merge_nothing','basic'), ('trem_vs_all','merge_all_not_trem','basic'),\n",
    "#         ('trem_vs_2class','merge_movements','basic')]\n",
    "#to_show = [('trem_vs_mvt','merge_movements','trem_vs_hold&move'),\n",
    "#           ('trem_vs_all','merge_all_not_trem','basic') ]\n",
    "#             ('trem_vs_2class','merge_movements','basic'),\n",
    "#to_show = [('trem_vs_all','merge_all_not_trem','basic') ]\n",
    "to_show = []\n",
    "to_show += [('allsep','merge_nothing','basic') ]\n",
    "to_show += [('trem_vs_2class','merge_movements','basic')]\n",
    "to_show += [('trem_vs_all','merge_all_not_trem','basic')]\n",
    "to_show += [('trem_vs_quiet','merge_nothing','trem_vs_quiet') ]\n",
    "# to_show += [('trem_vs_quiet','merge_all_not_trem','trem_vs_quiet')00 ]\n",
    "#             ('trem_vs_2class','merge_movements','basic'),\n",
    "from utils_postprocess import  multiLevelDict2TupleList\n",
    "\n",
    "#prefixes = [\"onlyH_act_only21\"]\n",
    "\n",
    "use_tmpdir_to_load = copied_to_scratch\n",
    "\n",
    "dfs = []\n",
    "for pptype,opr in pptype2res.items():\n",
    "    outputs_grouped_tpll = multiLevelDict2TupleList(opr,4,3)\n",
    "    outputs_grouped_tpll[0][:-1]\n",
    "    dfunproc = pd.DataFrame(outputs_grouped_tpll, \n",
    "        columns = ['rawname','prefix','grouping','interval_set','mcf'] )\n",
    "    prefixes = list( dfunproc['prefix'].unique() )\n",
    "\n",
    "    # warnings.simplefilter('error')\n",
    "    dftmp, table_info_per_perf_type, table_per_perf_type = \\\n",
    "        postp.prepTableInfo3(opr, prefixes=prefixes, \n",
    "        perf_to_use_list=perf_to_use_list, to_show=to_show, return_df = True,\n",
    "        use_tmpdir_to_load = use_tmpdir_to_load)\n",
    "    gc.collect()\n",
    "    dftmp['pptype'] = pptype\n",
    "    \n",
    "    dfs += [dftmp]\n",
    "\n",
    "#df_all = df\n",
    "df_noext = pd.concat(dfs, ignore_index=True)\n",
    "import gc; gc.collect()"
   ]
  },
  {
   "cell_type": "markdown",
   "id": "6313e17a",
   "metadata": {},
   "source": [
    "## make and extendeding tables"
   ]
  },
  {
   "cell_type": "code",
   "execution_count": null,
   "id": "bf5a5a1f",
   "metadata": {},
   "outputs": [],
   "source": [
    "pptypes_str = ','.join( pptype2res.keys() )\n",
    "pptypes_str"
   ]
  },
  {
   "cell_type": "code",
   "execution_count": null,
   "id": "656cf073",
   "metadata": {},
   "outputs": [],
   "source": [
    "fnf = pjoin(gv.data_dir,subdir_res,'df_collected_medcondsep_rest&entire_prescale,scale=medcond.pkl')"
   ]
  },
  {
   "cell_type": "code",
   "execution_count": null,
   "id": "916a6d45",
   "metadata": {},
   "outputs": [],
   "source": [
    "df_noext = pd.concat(dfs, ignore_index=True)\n",
    "\n",
    "read_saved = False\n",
    "save = True\n",
    "\n",
    "####################\n",
    "import globvars as gv\n",
    "subdir_res = 'collected'\n",
    "#fnf = pjoin(gv.data_dir,subdir_res,'df_collected_medcondsep_rest&entire_prescale,scale=medcond.pkl')\n",
    "#fnf = pjoin(gv.data_dir,subdir_res,'df_collected_medcondsep_rest&entire_noscaling=medcond.pkl')\n",
    "#print(fnf)\n",
    "#if read_saved:\n",
    "    #df_noext = pd.read_pickle(fnf)\n",
    "if save:\n",
    "    #df_noext.to_pickle(fnf)\n",
    "    \n",
    "    temp_dir = pjoin( os.path.expandvars('$SCRATCH') , 'OSCBAGDIS', 'collected' )\n",
    "    for ppt,opr in pptype2res.items():\n",
    "        fn = f'{ppt}_output_per_raw.npz'\n",
    "        fnf = pjoin(temp_dir, fn)\n",
    "        print(fnf)\n",
    "        np.savez(fnf, opr)\n",
    "################"
   ]
  },
  {
   "cell_type": "code",
   "execution_count": null,
   "id": "114967bc",
   "metadata": {},
   "outputs": [],
   "source": [
    "dfs2 = []\n",
    "#%debug\n",
    "for dfc in dfs:\n",
    "    #%debug\n",
    "    from utils_postprocess_HPC import extendDf\n",
    "    ppt = dfc['pptype']._values[0]\n",
    "    #print(ppt)\n",
    "    opr = pptype2res[ppt]\n",
    "    dfs2 += [extendDf(dfc, opr)]\n",
    "df = pd.concat(dfs2, ignore_index=True)\n",
    "import gc; gc.collect()"
   ]
  },
  {
   "cell_type": "code",
   "execution_count": null,
   "id": "34b0dcce",
   "metadata": {},
   "outputs": [],
   "source": []
  },
  {
   "cell_type": "code",
   "execution_count": null,
   "id": "5652000f",
   "metadata": {},
   "outputs": [],
   "source": [
    "ppr?"
   ]
  },
  {
   "cell_type": "code",
   "execution_count": null,
   "id": "e49d3ca4",
   "metadata": {},
   "outputs": [],
   "source": [
    "from pprint import pprint as ppr\n",
    "ppr(opr, depth=1, compact=1)"
   ]
  },
  {
   "cell_type": "code",
   "execution_count": null,
   "id": "172c3bae",
   "metadata": {},
   "outputs": [],
   "source": [
    "#df = extendDf( dfs[0], pptype2res['covmat_entire'] )"
   ]
  },
  {
   "cell_type": "code",
   "execution_count": null,
   "id": "55efcf2c",
   "metadata": {},
   "outputs": [],
   "source": [
    "df = extendDf( dfs[1], pptype2res['covmat_rest'] )"
   ]
  },
  {
   "cell_type": "code",
   "execution_count": null,
   "id": "3c0bcf62",
   "metadata": {},
   "outputs": [],
   "source": [
    "dfc[['pptype','prefix', 'modtime']]"
   ]
  },
  {
   "cell_type": "code",
   "execution_count": null,
   "id": "6aeb9262",
   "metadata": {},
   "outputs": [],
   "source": [
    "r = 'S07_on merge_nothing basic covmat_entire onlyH_compl_subskip8right_onlyCB-copy_from_search_LFP'.split()\n",
    "rn,g,it,ppt,pref = r"
   ]
  },
  {
   "cell_type": "code",
   "execution_count": null,
   "id": "7e8cb00d",
   "metadata": {},
   "outputs": [],
   "source": [
    "opr[rn].keys()\n",
    "#[pref].keys()"
   ]
  },
  {
   "cell_type": "code",
   "execution_count": null,
   "id": "b92317cf",
   "metadata": {},
   "outputs": [],
   "source": [
    "prefixes"
   ]
  },
  {
   "cell_type": "code",
   "execution_count": null,
   "id": "c3c8acb8",
   "metadata": {},
   "outputs": [],
   "source": [
    "dfc['prefix'].str.contains('@').any()"
   ]
  },
  {
   "cell_type": "code",
   "execution_count": null,
   "id": "7399a143",
   "metadata": {},
   "outputs": [],
   "source": [
    "#lbd(df.to_dict('records')[0])"
   ]
  },
  {
   "cell_type": "code",
   "execution_count": null,
   "id": "fc376eee",
   "metadata": {},
   "outputs": [],
   "source": [
    "df_all = df"
   ]
  },
  {
   "cell_type": "markdown",
   "id": "7e758951",
   "metadata": {},
   "source": [
    "# Compare main stats with other feature sets"
   ]
  },
  {
   "cell_type": "markdown",
   "id": "fa13cb8d",
   "metadata": {},
   "source": [
    "#### Create sub df"
   ]
  },
  {
   "cell_type": "code",
   "execution_count": null,
   "id": "2246d3fd",
   "metadata": {},
   "outputs": [],
   "source": [
    "df.columns"
   ]
  },
  {
   "cell_type": "code",
   "execution_count": null,
   "id": "892e9387",
   "metadata": {},
   "outputs": [],
   "source": [
    "### add LFP_side_to_use (in prev version was not put during extension of df)"
   ]
  },
  {
   "cell_type": "code",
   "execution_count": null,
   "id": "f2022e79",
   "metadata": {},
   "outputs": [],
   "source": [
    "#df['LFP_side_to_use']"
   ]
  },
  {
   "cell_type": "code",
   "execution_count": null,
   "id": "b98777eb",
   "metadata": {},
   "outputs": [],
   "source": [
    "from utils_postprocess_HPC import getMocFromRow, getMocFromRowMultiOPR\n",
    "\n",
    "def lbd(row):\n",
    "    moc = getMocFromRowMultiOPR(row,pptype2res)\n",
    "    if moc is None:\n",
    "        return None\n",
    "#     pars = moc['pars']\n",
    "#     s = f' ../run/run_ML.py'\n",
    "#     for p,v in pars.items():\n",
    "#         if p in ['iniAdd', 'search_best_LFP', 'code_ver' ]:\n",
    "#             continue  \n",
    "#         s += f' --{p} {v}'        \n",
    "#     s += ' --exit_after artif_processed'\n",
    "\n",
    "    s = moc['LFP_side_to_use_final']\n",
    "    return s\n",
    "\n",
    "#df['runs'] = df.apply(lbd,1)\n",
    "#df['runs']\n",
    "\n",
    "df['LFP_side_to_use'] = df.apply(lbd,1)\n",
    "df['LFP_side_to_use']"
   ]
  },
  {
   "cell_type": "markdown",
   "id": "73610ea5",
   "metadata": {
    "heading_collapsed": true
   },
   "source": [
    "#### Check number of pts stability"
   ]
  },
  {
   "cell_type": "code",
   "execution_count": null,
   "id": "94799267",
   "metadata": {
    "hidden": true
   },
   "outputs": [],
   "source": [
    "#df"
   ]
  },
  {
   "cell_type": "code",
   "execution_count": null,
   "id": "842a4279",
   "metadata": {
    "hidden": true
   },
   "outputs": [],
   "source": [
    "df0 = df[ df['prefix'].str.startswith('onlyH_act_only1')  ]\n",
    "#df0"
   ]
  },
  {
   "cell_type": "code",
   "execution_count": null,
   "id": "32002a34",
   "metadata": {
    "hidden": true
   },
   "outputs": [],
   "source": [
    "# n = 5\n",
    "# for rowi, row in df0.iterrows():\n",
    "#     from IPython import get_ipython; ipython = get_ipython()\n",
    "#     ipython.run_line_magic('run', row['runs'] )\n",
    "#     df0.loc[rowi, 'LFP_side_to_use'] = LFP_side_to_use\n",
    "# #     n -= 1\n",
    "# #     if n == 0:\n",
    "# #         break"
   ]
  },
  {
   "cell_type": "code",
   "execution_count": null,
   "id": "9ab9081a",
   "metadata": {
    "hidden": true
   },
   "outputs": [],
   "source": [
    "df0['LFP_side_to_use'].nunique()"
   ]
  },
  {
   "cell_type": "code",
   "execution_count": null,
   "id": "f168a7c4",
   "metadata": {
    "hidden": true
   },
   "outputs": [],
   "source": [
    "grprn = df0.groupby( by=['pptype', 'rawname', 'interval_set','LFP_side_to_use'] )\n",
    "grprnstd = grprn.std()\n",
    "#grprnmn = grprn.mean()\n",
    "display( grprn.size() )\n",
    "# we would like to see zeros here\n",
    "grprnstd['numpts']"
   ]
  },
  {
   "cell_type": "code",
   "execution_count": null,
   "id": "580b082a",
   "metadata": {
    "hidden": true
   },
   "outputs": [],
   "source": [
    "#opr['S01_off'][]\n",
    "from utils_postprocess_HPC import multiLevelDict2TupleList\n",
    "tpll = multiLevelDict2TupleList(opr,4,3)\n",
    "tpll[0][-1]['pars']['best_LFP_info_file']"
   ]
  },
  {
   "cell_type": "markdown",
   "id": "2c9c74bb",
   "metadata": {},
   "source": [
    "#### see basic numbers"
   ]
  },
  {
   "cell_type": "code",
   "execution_count": null,
   "id": "1b4c6807",
   "metadata": {},
   "outputs": [],
   "source": [
    "df['prefix_templ']"
   ]
  },
  {
   "cell_type": "code",
   "execution_count": null,
   "id": "51a1345f",
   "metadata": {},
   "outputs": [],
   "source": [
    "use_prefix = False\n",
    "#dfsub = df[['rawname','prefix','prefix_templ', 'num','numpts','bacc','bacc_shuffled']]\n",
    "dfsub = df[['rawname','grouping','interval_set','pptype',\n",
    "            'prefix','prefix_templ', 'num','numpts','bacc','bacc_shuffled','sens','spec',\n",
    "           'tremor_det_perf']]\n",
    "\n",
    "prefs_to_compare = ['onlyH_subskip8','onlyH_act_subskip8','onlyH_mob_subskip8','onlyH_compl_subskip8','allb_beta_noH_subskip8','allb_gamma_noH_subskip8','allb_tremor_noH_subskip8',\n",
    "        'LFPrel_noself_subskip8','modSrc_self_subskip8','modSrc_subskip8','modLFP_subskip8']\n",
    "\n",
    "if use_prefix:\n",
    "    prefs_to_compare = ['onlyH_subskip8','onlyH_act_subskip8',\n",
    "                        'onlyH_mob_subskip8','onlyH_compl_subskip8']\n",
    "    prefix_role = 'prefix'\n",
    "else:\n",
    "    #pref_templs_to_compare = ['onlyH_subskip8%%','onlyH_act_subskip8%%',\n",
    "    #                    'onlyH_mob_subskip8%%','onlyH_compl_subskip8%%',\n",
    "    #                         'onlyH_modLFP_subskip8%%']\n",
    "    pref_templs_to_compare = ['onlyH_subskip8@B-B','onlyH_act_subskip8@B-B',\n",
    "                        'onlyH_mob_subskip8@B-B','onlyH_compl_subskip8@B-B',\n",
    "                             'onlyH_modLFP_subskip8@B-B']\n",
    "    prefix_role = 'prefix_templ'\n",
    "\n",
    "dfsub2 = dfsub[ dfsub[prefix_role].isin(pref_templs_to_compare) ]\n",
    "\n",
    "#dfsub2 = dfsub2[ (dfsub2['grouping'] == grp) & (dfsub2['interval_set'] == it) ]\n",
    "grp =  dfsub2.groupby( by=['pptype', prefix_role,'grouping','interval_set'] )\n",
    "\n",
    "cts = set( list( grp.count()['rawname'] ) ) \n",
    "assert tuple( cts)  == tuple([11]), cts\n",
    "\n",
    "\n",
    "#print ( len( dfsub2.groupby('prefix') ) )\n",
    "dfmn = grp.mean().reset_index()\n",
    "dfstd = grp.std().reset_index()\n",
    "\n",
    "rename_dict = dict( zip( list( dfstd.columns), [col + '_std' for col in  dfstd.columns  ] ) )\n",
    "del rename_dict[prefix_role]\n",
    "del rename_dict['grouping']\n",
    "del rename_dict['interval_set']\n",
    "del rename_dict['pptype']\n",
    "dfstd = dfstd.rename(columns=rename_dict)\n",
    "\n",
    "rename_dict = dict( zip( list( dfmn.columns), [col + '_mean' for col in  dfmn.columns  ] ) )\n",
    "del rename_dict[prefix_role]\n",
    "del rename_dict['grouping']\n",
    "del rename_dict['interval_set']\n",
    "del rename_dict['pptype']\n",
    "dfmn = dfmn.rename(columns=rename_dict)\n",
    "\n",
    "dfstat = dfmn\n",
    "for col in dfstd.columns:\n",
    "    if col in ['prefix_templ','prefix','num_std','grouping','interval_set']:\n",
    "        continue\n",
    "    print(col)\n",
    "    dfstat[col] = dfstd[col]\n",
    "cols_desired = ['pptype',prefix_role, 'grouping','interval_set','bacc_mean','bacc_std',\n",
    "                      'tremor_det_perf_mean','tremor_det_perf_std', 'num_mean']\n",
    "dfstat_short = dfstat[cols_desired]\n",
    "\n",
    "display( dfstat_short )"
   ]
  },
  {
   "cell_type": "code",
   "execution_count": null,
   "id": "f4b3b1b6",
   "metadata": {},
   "outputs": [],
   "source": [
    "dfstat_short.query('grouping == \"merge_nothing\" and interval_set == \"basic\"')"
   ]
  },
  {
   "cell_type": "code",
   "execution_count": null,
   "id": "97936853",
   "metadata": {},
   "outputs": [],
   "source": []
  }
 ],
 "metadata": {
  "kernelspec": {
   "display_name": "cobd",
   "language": "python",
   "name": "cobd"
  },
  "language_info": {
   "codemirror_mode": {
    "name": "ipython",
    "version": 3
   },
   "file_extension": ".py",
   "mimetype": "text/x-python",
   "name": "python",
   "nbconvert_exporter": "python",
   "pygments_lexer": "ipython3",
   "version": "3.8.15"
  }
 },
 "nbformat": 4,
 "nbformat_minor": 5
}
