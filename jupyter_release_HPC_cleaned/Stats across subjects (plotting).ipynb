{
 "cells": [
  {
   "cell_type": "code",
   "execution_count": null,
   "metadata": {},
   "outputs": [],
   "source": [
    "%load_ext autoreload\n",
    "%autoreload 2\n",
    "\n",
    "import os,sys\n",
    "\n",
    "code_dir = os.path.expandvars('$OSCBAGDIS_DATAPROC_CODE')\n",
    "sys.path.append(code_dir)\n",
    "\n",
    "import mne\n",
    "import utils  #my code\n",
    "import json\n",
    "import matplotlib.pyplot as plt\n",
    "import numpy as np\n",
    "import h5py\n",
    "import utils_preproc as upre\n",
    "import gc; gc.collect()\n",
    "import globvars as gv"
   ]
  },
  {
   "cell_type": "code",
   "execution_count": null,
   "metadata": {},
   "outputs": [],
   "source": []
  },
  {
   "cell_type": "code",
   "execution_count": null,
   "metadata": {},
   "outputs": [],
   "source": [
    "python3 run_prep_dat.py --param_file prep_dat_defparams.ini $INPUT_SUBDIR_STR\n"
   ]
  },
  {
   "cell_type": "code",
   "execution_count": null,
   "metadata": {},
   "outputs": [],
   "source": [
    "mstr"
   ]
  },
  {
   "cell_type": "code",
   "execution_count": null,
   "metadata": {},
   "outputs": [],
   "source": []
  },
  {
   "cell_type": "code",
   "execution_count": null,
   "metadata": {},
   "outputs": [],
   "source": [
    "from os.path import join as pjoin\n",
    "subdir = ''\n",
    "data_dir = pjoin(gv.data_dir,subdir)\n",
    "\n",
    "# if os.environ.get('DATA_DUSS') is not None:\n",
    "#     data_dir_input = os.path.expandvars('$DATA_DUSS')   + subdir\n",
    "#     data_dir_output = os.path.expandvars('$DATA_DUSS')\n",
    "# else:\n",
    "#     data_dir_input = '/home/demitau/data'   + subdir\n",
    "#     data_dir_output = '/home/demitau/data' \n",
    "    \n",
    "\n",
    "read_resampled = 1\n",
    "\n",
    "    \n",
    "subjinds = np.arange(1,11)\n",
    "subjinds = [1,2,3,4]\n",
    "subjinds = [1,2,3,4,5,7]\n",
    "#subjinds = [1,3]\n",
    "tasks = ['hold' , 'move', 'rest']\n",
    "medstates = ['off','on']\n",
    "\n",
    "\n",
    "fnames_noext = []\n",
    "for subjind in subjinds:\n",
    "    sis = '{:02d}'.format(subjind)\n",
    "    for medstate in medstates:\n",
    "        for task in tasks:\n",
    "            addStr = ''\n",
    "\n",
    "        #fnames_noext = ['S{}_off_{}'.format(sis,task), 'S{}_on_{}'.format(sis,task)]\n",
    "        #fnames_noext = ['S01_off_hold', 'S01_on_hold']\n",
    "        #fnames_noext = ['S01_off_move', 'S01_on_move']\n",
    "        #fnames_noext = ['S02_off_move', 'S02_on_move']\n",
    "            fname_noext = 'S{}_{}_{}'.format(sis,medstate,task)\n",
    "            #addStr += '_resample'\n",
    "            addStr += '_resample_notch_highpass'\n",
    "\n",
    "            \n",
    "#             fname = fname_noext + '.mat'\n",
    "#             print('Reading {}'.format(fname) )\n",
    "\n",
    "\n",
    "            if read_resampled:\n",
    "                fname_full = os.path.join(data_dir,fname_noext + addStr + '_raw.fif')\n",
    "            else:\n",
    "                fname_full = os.path.join(data_dir,fname)\n",
    "            \n",
    "            #print(fname_full)\n",
    "            if os.path.exists(fname_full):\n",
    "                fnames_noext += [fname_noext]\n",
    "                \n",
    "#                 print('Warning: path does not exist!, skip! {}'.format(fname_full))\n",
    "#                 continue\n",
    "\n",
    "\n",
    "\n",
    "#rawname = rawname_ + '_resample_raw.fif'\n",
    "#fname_full = os.path.join(data_dir,rawname)\n",
    "    \n",
    "# read file -- resampled to 256 Hz,  Electa MEG, EMG, LFP, EOG channels\n",
    "#raw = mne.io.read_raw_fif(fname_full, None)\n",
    "\n",
    "print (fnames_noext)"
   ]
  },
  {
   "cell_type": "code",
   "execution_count": null,
   "metadata": {},
   "outputs": [],
   "source": [
    "%load_ext autoreload\n",
    "%autoreload 2\n",
    "\n",
    "rawnames_str=\\\n",
    "('S01_off_hold,S01_on_hold,S01_off_move,S01_on_move,'\n",
    "'S02_off_hold,S02_on_hold,S02_off_move,S02_on_move,'\n",
    "'S03_off_hold,S03_off_move,'\n",
    "'S04_off_hold,S04_on_hold,S04_off_move,S04_on_move,'\n",
    "'S05_off_hold,S05_on_hold,S05_off_move,S05_on_move,'\n",
    "'S07_off_hold,S07_on_hold,S07_off_move,S07_on_move')\n",
    "\n",
    "rawnames_str=\\\n",
    "('S01_off_hold,S01_on_hold,S01_off_move,S01_on_move,'\n",
    "'S02_off_hold,S02_on_hold,S02_off_move,S02_on_move,'\n",
    "'S03_off_hold,S03_off_move')\n",
    "\n",
    "rawnames_str=\\\n",
    "('S04_off_hold,S04_on_hold,S04_off_move,S04_on_move,'\n",
    "'S05_off_hold,S05_on_hold,S05_off_move,S05_on_move,'\n",
    "'S07_off_hold,S07_on_hold,S07_off_move,S07_on_move')\n",
    "\n",
    "\n",
    "rawnames_str = 'S05_on_move'\n",
    "print(rawnames_str)\n"
   ]
  },
  {
   "cell_type": "code",
   "execution_count": null,
   "metadata": {},
   "outputs": [],
   "source": [
    "from IPython import get_ipython\n",
    "ipython = get_ipython()\n",
    "#Once that's done, run a magic command like this:\n",
    "#%debug\n",
    "\n",
    "mstr = 'run ../run/run_prep_dat.py -r ' +   rawnames_str + \\\n",
    "        ' --param_file prep_dat_defparams.ini --exit_after gatherFeatStats --save_dat 0' \n",
    "ipython.magic(mstr)"
   ]
  },
  {
   "cell_type": "code",
   "execution_count": null,
   "metadata": {},
   "outputs": [],
   "source": [
    "raws_permod_both_sides['S05_on_move']['LFP'].ch_names"
   ]
  },
  {
   "cell_type": "code",
   "execution_count": null,
   "metadata": {},
   "outputs": [],
   "source": [
    "raws_permod_both_sides"
   ]
  },
  {
   "cell_type": "code",
   "execution_count": null,
   "metadata": {},
   "outputs": [],
   "source": [
    "#%debug\n",
    "dat_pri, dat_lfp_hires_pri, extdat_pri, anns_pri, times_pri,\\\n",
    "times_hires_pri, subfeature_order_pri, subfeature_order_lfp_hires_pri, aux_info_perraw = \\\n",
    "    ugf.collectDataFromMultiRaws(rawnames, raws_permod_both_sides, sources_type,\n",
    "                             src_file_grouping_ind, src_grouping, use_main_LFP_chan,\n",
    "                             'both', new_main_side, data_modalities,\n",
    "                             crop_start,crop_end,msrc_inds, rec_info_pri)\n"
   ]
  },
  {
   "cell_type": "code",
   "execution_count": null,
   "metadata": {},
   "outputs": [],
   "source": [
    "subfeature_order_lfp_hires_pri"
   ]
  },
  {
   "cell_type": "code",
   "execution_count": null,
   "metadata": {},
   "outputs": [],
   "source": [
    "# reversed if needed\n",
    "from utils import makeSimpleRaw\n",
    "from featlist import selFeatsRegexInds\n",
    "raws_permod_both_sides2 = {}\n",
    "for rawi,rawn in enumerate(rawnames):\n",
    "    raws_permod_both_sides2[rawn] = {}\n",
    "    chis_LFP = utsne.selFeatsRegexInds(subfeature_order_pri[rawi], 'LFP.*' )\n",
    "    dat_LFP = dat_pri[rawi][chis_LFP]\n",
    "    raws_permod_both_sides2[rawn]['LFP'] = makeSimpleRaw(dat_LFP, np.array(subfeature_order_pri[rawi])[chis_LFP], rescale=0 )\n",
    "\n",
    "    chis_msrc = utsne.selFeatsRegexInds(subfeature_order_pri[rawi], 'msrc.*' )\n",
    "    dat_msrc = dat_pri[rawi][chis_msrc]\n",
    "    raws_permod_both_sides2[rawn]['src'] = makeSimpleRaw(dat_msrc, \n",
    "                                                         np.array(subfeature_order_pri[rawi])[chis_msrc] , rescale=0)\n",
    "\n",
    "    raws_permod_both_sides2[rawn]['LFP_hires'] = \\\n",
    "        makeSimpleRaw(dat_lfp_hires_pri[rawi],\n",
    "                      subfeature_order_lfp_hires_pri[rawi], sfreq=sfreq_hires, rescale=0 )\n"
   ]
  },
  {
   "cell_type": "code",
   "execution_count": null,
   "metadata": {},
   "outputs": [],
   "source": [
    "raws_permod_both_sides['S05_on_move']['LFP'].ch_names"
   ]
  },
  {
   "cell_type": "code",
   "execution_count": null,
   "metadata": {},
   "outputs": [],
   "source": [
    "raws_permod_both_sides2['S05_on_move']['LFP'].ch_names"
   ]
  },
  {
   "cell_type": "code",
   "execution_count": null,
   "metadata": {},
   "outputs": [],
   "source": [
    "raws_permod_both_sides['S05_on_move']['LFP']['LFPR01'][0]"
   ]
  },
  {
   "cell_type": "code",
   "execution_count": null,
   "metadata": {},
   "outputs": [],
   "source": [
    "raws_permod_both_sides2['S05_on_move']['LFP']['LFPL01'][0]"
   ]
  },
  {
   "cell_type": "code",
   "execution_count": null,
   "metadata": {},
   "outputs": [],
   "source": [
    "extdat_pri[0].shape"
   ]
  },
  {
   "cell_type": "code",
   "execution_count": null,
   "metadata": {},
   "outputs": [],
   "source": [
    "raws_permod_both_sides2['S05_on_move'].keys()"
   ]
  },
  {
   "cell_type": "code",
   "execution_count": null,
   "metadata": {},
   "outputs": [],
   "source": [
    "raws_permod_both_sides['S05_on_move'].keys()"
   ]
  },
  {
   "cell_type": "markdown",
   "metadata": {
    "heading_collapsed": true
   },
   "source": [
    "## Collect stats"
   ]
  },
  {
   "cell_type": "code",
   "execution_count": null,
   "metadata": {
    "hidden": true
   },
   "outputs": [],
   "source": [
    "fnames_noext = list(sorted(raws_permod_both_sides.keys() ) )"
   ]
  },
  {
   "cell_type": "code",
   "execution_count": null,
   "metadata": {
    "hidden": true
   },
   "outputs": [],
   "source": [
    "modalities = ['LFP', 'src']\n",
    "print(modalities)\n",
    "\n",
    "int_types_templ = ['trem_{}', 'notrem_{}', 'hold_{}', 'move_{}']"
   ]
  },
  {
   "cell_type": "code",
   "execution_count": null,
   "metadata": {
    "hidden": true
   },
   "outputs": [],
   "source": [
    "rn0 = list(raws_permod_both_sides.keys())[0]\n",
    "src_chns = raws_permod_both_sides[rn0]['src'].ch_names\n",
    "nsrcs_to_show = 10\n",
    "src_chis = np.random.choice(len(src_chns),nsrcs_to_show)"
   ]
  },
  {
   "cell_type": "code",
   "execution_count": null,
   "metadata": {
    "hidden": true
   },
   "outputs": [],
   "source": [
    "postp.printDict(raws_permod_both_sides,max_depth=1)"
   ]
  },
  {
   "cell_type": "code",
   "execution_count": null,
   "metadata": {
    "hidden": true
   },
   "outputs": [],
   "source": [
    "aux_info_perraw"
   ]
  },
  {
   "cell_type": "code",
   "execution_count": null,
   "metadata": {
    "hidden": true
   },
   "outputs": [],
   "source": [
    "dat_permod_perraw_perint, xshifts_rel_perint_permod = \\\n",
    "    upre.collecInfoForPlotHistAcrossDatasets(raws_permod_both_sides2, aux_info_perraw=aux_info_perraw,\n",
    "    fnames_noext = None, side_to_use =  'main_move',int_types_templ=int_types_templ,\n",
    "                                            modalities=modalities)\n"
   ]
  },
  {
   "cell_type": "code",
   "execution_count": null,
   "metadata": {
    "hidden": true
   },
   "outputs": [],
   "source": [
    "dat_permod_perraw_perint.keys()"
   ]
  },
  {
   "cell_type": "markdown",
   "metadata": {},
   "source": [
    "# Plot everything (takes time)"
   ]
  },
  {
   "cell_type": "markdown",
   "metadata": {},
   "source": [
    "without rescaling, without artifact removal"
   ]
  },
  {
   "cell_type": "code",
   "execution_count": null,
   "metadata": {},
   "outputs": [],
   "source": [
    "postp.printDict(dat_permod_perraw_perint)"
   ]
  },
  {
   "cell_type": "code",
   "execution_count": null,
   "metadata": {},
   "outputs": [],
   "source": [
    "subfeature_order_pri[0][::90]"
   ]
  },
  {
   "cell_type": "code",
   "execution_count": null,
   "metadata": {},
   "outputs": [],
   "source": [
    "stats_per_indset[0].keys()"
   ]
  },
  {
   "cell_type": "code",
   "execution_count": null,
   "metadata": {},
   "outputs": [],
   "source": [
    "main_side_let = utils.getMainSide(fnames_noext[0])\n",
    "int_types_to_gather_stats = [templ.format(main_side_let) for templ in int_types_templ]\n",
    "print(int_types_to_gather_stats)"
   ]
  },
  {
   "cell_type": "code",
   "execution_count": null,
   "metadata": {},
   "outputs": [],
   "source": [
    "baseline_int"
   ]
  },
  {
   "cell_type": "code",
   "execution_count": null,
   "metadata": {},
   "outputs": [],
   "source": [
    "import utils_postprocess as postp\n",
    "postp.printDict(raws_permod_both_sides,max_depth=1)"
   ]
  },
  {
   "cell_type": "code",
   "execution_count": null,
   "metadata": {},
   "outputs": [],
   "source": [
    "indsets, means, stds = \\\n",
    "    upre.gatherFeatStats(rawnames, dat_T_pri, subfeature_order_pri, None, sfreq, times_pri,\n",
    "            int_types_to_gather_stats, side_rev_pri = side_switched_pri,\n",
    "            combine_within = combine_type, minlen_bins = 5*sfreq,\n",
    "                    artif_handling=artif_handling, printLog=1, require_all_intervals_present = 0)"
   ]
  },
  {
   "cell_type": "code",
   "execution_count": null,
   "metadata": {},
   "outputs": [],
   "source": [
    "highpass = None\n",
    "\n",
    "#%debug\n",
    "upre.plotHistAcrossDatasets(raws_permod_both_sides, dat_permod_perraw_perint, xshifts_rel_perint_permod,\n",
    "                           src_chis, aux_info_perraw, highpass_used = highpass, \n",
    "                            stat_per_int=stats_per_indset[0],qsh_disp=1e-3)"
   ]
  },
  {
   "cell_type": "code",
   "execution_count": null,
   "metadata": {},
   "outputs": [],
   "source": [
    "highpass = None\n",
    "\n",
    "#%debug\n",
    "upre.plotHistAcrossDatasets(raws_permod_both_sides, dat_permod_perraw_perint, xshifts_rel_perint_permod,\n",
    "                           src_chis, aux_info_perraw, highpass_used = highpass,\n",
    "                           stat_per_int=None,qsh_disp=1e-3)"
   ]
  },
  {
   "cell_type": "code",
   "execution_count": null,
   "metadata": {},
   "outputs": [],
   "source": [
    "dat_pri[0].shape"
   ]
  },
  {
   "cell_type": "code",
   "execution_count": null,
   "metadata": {},
   "outputs": [],
   "source": [
    "subfeature_order[0]"
   ]
  },
  {
   "cell_type": "code",
   "execution_count": null,
   "metadata": {},
   "outputs": [],
   "source": [
    "help(utsne.selFeatsRegexInds)"
   ]
  },
  {
   "cell_type": "code",
   "execution_count": null,
   "metadata": {},
   "outputs": [],
   "source": []
  },
  {
   "cell_type": "code",
   "execution_count": null,
   "metadata": {},
   "outputs": [],
   "source": [
    "means[0].keys()"
   ]
  },
  {
   "cell_type": "code",
   "execution_count": null,
   "metadata": {},
   "outputs": [],
   "source": [
    "gv.DEBUG_MODE=1"
   ]
  },
  {
   "cell_type": "code",
   "execution_count": null,
   "metadata": {},
   "outputs": [],
   "source": [
    "baseline_int"
   ]
  },
  {
   "cell_type": "code",
   "execution_count": null,
   "metadata": {},
   "outputs": [],
   "source": []
  },
  {
   "cell_type": "code",
   "execution_count": null,
   "metadata": {},
   "outputs": [],
   "source": []
  },
  {
   "cell_type": "code",
   "execution_count": null,
   "metadata": {},
   "outputs": [],
   "source": [
    "import utils_postprocess as postp"
   ]
  },
  {
   "cell_type": "code",
   "execution_count": null,
   "metadata": {},
   "outputs": [],
   "source": [
    "means[0].keys()"
   ]
  },
  {
   "cell_type": "code",
   "execution_count": null,
   "metadata": {},
   "outputs": [],
   "source": [
    "postp.printDict(means, print_leaves=0)"
   ]
  },
  {
   "cell_type": "code",
   "execution_count": null,
   "metadata": {},
   "outputs": [],
   "source": [
    "np.quantile(np.zeros((2,50)), 0.5, axis=1)"
   ]
  },
  {
   "cell_type": "code",
   "execution_count": null,
   "metadata": {},
   "outputs": [],
   "source": [
    "ipdb> bindict_per_rawn['S05_on_move']['beh_state'].keys()\n",
    "dict_keys(['notrem_L', 'trem_R', 'move_L', 'undef_R', 'notrem_R', 'undef_L'])"
   ]
  },
  {
   "cell_type": "code",
   "execution_count": null,
   "metadata": {},
   "outputs": [],
   "source": [
    "fname_full"
   ]
  },
  {
   "cell_type": "code",
   "execution_count": null,
   "metadata": {},
   "outputs": [],
   "source": [
    "highpass = None\n",
    "#highpass = 2"
   ]
  },
  {
   "cell_type": "markdown",
   "metadata": {},
   "source": [
    "## On as subset"
   ]
  },
  {
   "cell_type": "code",
   "execution_count": null,
   "metadata": {},
   "outputs": [],
   "source": [
    "#chis = utsne.selFeatsRegexInds(subfeature_order, 'LFPL*')\n",
    "chis = utsne.selFeatsRegexInds(subfeature_order, 'LFP*')\n",
    "\n",
    "subfeature_order2_pri = [ np.array(sfo)[chis] for sfo in subfeature_order_pri]\n",
    "dat2_T_pri = [dat[chis].T for dat in dat_pri]\n",
    "\n",
    "indsets, means, stds, stat_per_indset = \\\n",
    "        upre.gatherFeatStats(rawnames, dat2_T_pri, subfeature_order2_pri, None, sfreq, times_pri,\n",
    "                int_types_to_gather_stats, side_rev_pri = side_switched_pri,\n",
    "                combine_within = combine_type, minlen_bins = 5*sfreq,\n",
    "                        artif_handling=artif_handling, printLog=1, require_all_intervals_present = 0)\n",
    "\n",
    "    "
   ]
  },
  {
   "cell_type": "code",
   "execution_count": null,
   "metadata": {},
   "outputs": [],
   "source": [
    "#stat_per_indset[0]"
   ]
  },
  {
   "cell_type": "code",
   "execution_count": null,
   "metadata": {},
   "outputs": [],
   "source": [
    "display(means)\n",
    "\n",
    "raws_permod_both_sides2 = {'S05_on_move':{}}\n",
    "rcur = raws_permod_both_sides['S05_on_move']['LFP'] \n",
    "rcur2 = rcur.copy()\n",
    "\n",
    "rcur2.pick_channels(subfeature_order2_pri[0])\n",
    "\n",
    "raws_permod_both_sides2['S05_on_move']['LFP'] = rcur2\n",
    "\n",
    "#postp.printDict(raws_permod_both_sides,max_depth=1)\n",
    "\n",
    "display(xshifts_rel_perint_permod)\n",
    "\n",
    "print( len( dat_permod_perraw_perint['LFP']['S05_on_move']['notrem_{}'] ) )\n",
    "\n",
    "dat_permod_perraw_perint, xshifts_rel_perint_permod = \\\n",
    "    upre.collecInfoForPlotHistAcrossDatasets(raws_permod_both_sides2, aux_info_perraw=aux_info_perraw,\n",
    "    fnames_noext = None, side_to_use =  'main_move',int_types_templ=int_types_templ,\n",
    "                                            modalities=['LFP'])\n"
   ]
  },
  {
   "cell_type": "code",
   "execution_count": null,
   "metadata": {},
   "outputs": [],
   "source": [
    "highpass = None\n",
    "#%debug\n",
    "upre.plotHistAcrossDatasets(raws_permod_both_sides2, dat_permod_perraw_perint, xshifts_rel_perint_permod,\n",
    "                           src_chis, aux_info_perraw, highpass_used = highpass,\n",
    "                           qsh_disp=1e-3, modalities=['LFP'])\n",
    "upre.plotHistAcrossDatasets(raws_permod_both_sides2, dat_permod_perraw_perint, xshifts_rel_perint_permod,\n",
    "                           src_chis, aux_info_perraw, highpass_used = highpass, \n",
    "                           stat_per_int = stat_per_indset[0], qsh_disp=1e-3, modalities=['LFP'])"
   ]
  },
  {
   "cell_type": "code",
   "execution_count": null,
   "metadata": {},
   "outputs": [],
   "source": [
    "#dat_reduced = dat_pri[0][chis]\n",
    "#chis = utsne.selFeatsRegexInds(subfeature_order, 'LFPL*')"
   ]
  },
  {
   "cell_type": "markdown",
   "metadata": {},
   "source": [
    "## Test"
   ]
  },
  {
   "cell_type": "code",
   "execution_count": null,
   "metadata": {},
   "outputs": [],
   "source": [
    "rawnames"
   ]
  },
  {
   "cell_type": "code",
   "execution_count": null,
   "metadata": {},
   "outputs": [],
   "source": []
  },
  {
   "cell_type": "code",
   "execution_count": null,
   "metadata": {},
   "outputs": [],
   "source": [
    "dat_t = np.random.uniform(low=-1,high=1,size=(2,300))\n",
    "nbins_artif = 40\n",
    "dat_artif_t = np.random.uniform(low=10,high=40,size=(2,nbins_artif))\n",
    "dat_t[:,:nbins_artif] = dat_artif_t"
   ]
  },
  {
   "cell_type": "code",
   "execution_count": null,
   "metadata": {},
   "outputs": [],
   "source": [
    "print( dat_t[:,0:bins_t[-1]].shape )\n",
    "dat_t[0,:4] = 1e4"
   ]
  },
  {
   "cell_type": "code",
   "execution_count": null,
   "metadata": {},
   "outputs": [],
   "source": [
    "combine_type"
   ]
  },
  {
   "cell_type": "code",
   "execution_count": null,
   "metadata": {},
   "outputs": [],
   "source": []
  },
  {
   "cell_type": "code",
   "execution_count": null,
   "metadata": {},
   "outputs": [],
   "source": []
  },
  {
   "cell_type": "code",
   "execution_count": null,
   "metadata": {},
   "outputs": [],
   "source": [
    "dat_t_T_pri = [dat_t.T]\n",
    "sfo_t = ['LFPL01', 'LFPR22']\n",
    "times_t_pri = [np.arange(dat_t.shape[-1])/sfreq]\n",
    "rawnames_t = ['S05_on_move']\n",
    "bins_t = np.arange(0,int(0.5*sfreq) )\n",
    "bindict_per_rawn_t = {rawnames_t[0]:{'artif':{'LFP':{'BAD_LFPL01':np.arange(nbins_artif)}, 'msrc':{}}, \n",
    "    'beh_state':{'notrem_R':bins_t } }   }\n",
    "\n",
    "display(dat_t.mean(axis=-1))\n",
    "display(utsne.robustMean(dat_t, axis=-1, per_dim = 1 ) )\n",
    "\n",
    "display('naive interval',dat_t[:,0:bins_t[-1]+1].mean(axis=-1))\n",
    "display('robust interval',utsne.robustMean(dat_t[:,0:bins_t[-1]+1], axis=-1, per_dim = 1 ) )\n",
    "\n",
    "display('naive interval noartif',dat_t[:,nbins_artif:bins_t[-1]+1].mean(axis=-1))\n",
    "display('robust interval noartif',utsne.robustMean(dat_t[:,nbins_artif:bins_t[-1]+1], axis=-1, per_dim = 1 ) )\n",
    "\n",
    "int_types_to_gather_stats_t = ['notrem_R']\n",
    "\n",
    "#%debug\n",
    "combine_type = 'no'\n",
    "side_switched_pri_t = [True]\n",
    "artif_handling = 'reject'\n",
    "indsets, means, stds = \\\n",
    "        upre.gatherFeatStats(rawnames, dat_t_T_pri, sfo_t, None, sfreq, times_t_pri,\n",
    "                int_types_to_gather_stats_t, side_rev_pri = side_switched_pri_t,\n",
    "                combine_within = combine_type, minlen_bins = 5,\n",
    "                        artif_handling=artif_handling, printLog=1, require_all_intervals_present = 0,\n",
    "                            bindict_per_rawn = bindict_per_rawn_t)\n",
    "\n",
    "\n",
    "\n",
    "\n",
    "display ( indsets)\n",
    "display('means', means, 'std',stds )\n",
    "\n",
    "#########################\n",
    "\n",
    "assert indsets == [[0]]\n",
    "\n",
    "# total mean \n",
    "assert dat_t.mean(axis=-1)[0] > means[0]['notrem_R'][0]\n",
    "# naive interval mean\n",
    "assert dat_t[:,0:bins_t[-1]+1].mean(axis=-1)[0] >  means[0]['notrem_R'][0]\n",
    "\n",
    "assert utsne.robustMean(dat_t[:,nbins_artif:bins_t[-1]+1], axis=-1, per_dim = 1)[0]  == means[0]['notrem_R'][0]"
   ]
  },
  {
   "cell_type": "markdown",
   "metadata": {},
   "source": [
    "## Reading subraws"
   ]
  },
  {
   "cell_type": "code",
   "execution_count": null,
   "metadata": {},
   "outputs": [],
   "source": [
    "# modalities = ['EMG','LFP']\n",
    "# mod_picks = ['EMG.*old', 'LFP.*']\n",
    "\n",
    "# subraws = {}\n",
    "# for mod, picks in zip(modalities, mod_picks):\n",
    "#     subraws[mod] = []\n",
    "    \n",
    "# for rawname_naked in fnames_noext: \n",
    "#     raw = uprep.getRaw(rawname_naked)\n",
    "#     raw.load_data()\n",
    "#     for mod, picks in zip(modalities, mod_picks):\n",
    "#         subraw = uprep.getSubRaw(rawname_naked, raw = raw, picks = picks)\n",
    "#         if highpass is not None:\n",
    "#             subraw.filter(l_freq=2, h_freq=None, picks='all')\n",
    "#         if subraw is not None:\n",
    "#             subraws[mod] += [subraw]\n",
    "\n",
    "# gc.collect()"
   ]
  },
  {
   "cell_type": "code",
   "execution_count": null,
   "metadata": {},
   "outputs": [],
   "source": [
    "print('highpass=',highpass)"
   ]
  },
  {
   "cell_type": "code",
   "execution_count": null,
   "metadata": {},
   "outputs": [],
   "source": [
    "fnames_noext"
   ]
  },
  {
   "cell_type": "code",
   "execution_count": null,
   "metadata": {},
   "outputs": [],
   "source": [
    "import utils_preproc as upre\n",
    "\n",
    "#modalities = ['EMG','LFP','MEG'] #,'msrc']\n",
    "modalities = ['msrc'] #,'msrc']\n",
    "rawnames = fnames_noext\n",
    "raws_permod_both_sides = upre.loadRaws(rawnames,modalities, 'parcel_aal', \n",
    "                                       'parcel_ICA', 10, use_saved=False,\n",
    "                                      highpass_lfreq=highpass)\n",
    "\n",
    "gc.collect()"
   ]
  },
  {
   "cell_type": "code",
   "execution_count": null,
   "metadata": {},
   "outputs": [],
   "source": [
    "# check channel counts agree\n",
    "for mod in modalities:   \n",
    "    n_channels_all = [ len(raws_permod_both_sides[rn][mod].ch_names) for rn in rawnames ] \n",
    "    unch =  np.unique(n_channels_all)\n",
    "    assert len(unch ) == 1, unch\n"
   ]
  },
  {
   "cell_type": "code",
   "execution_count": null,
   "metadata": {},
   "outputs": [],
   "source": [
    "sources_type = 'parcel_aal'\n",
    "src_file_grouping_ind = 10\n",
    "src_grouping = 0"
   ]
  },
  {
   "cell_type": "code",
   "execution_count": null,
   "metadata": {},
   "outputs": [],
   "source": [
    "src_rec_info_fn = '{}_{}_grp{}_src_rec_info'.format(rawname_,sources_type,src_file_grouping_ind)\n",
    "src_rec_info_fn_full = os.path.join(gv.data_dir, src_rec_info_fn + '.npz')\n",
    "rec_info = np.load(src_rec_info_fn_full, allow_pickle=True)\n",
    "\n",
    "roi_labels = rec_info['label_groups_dict'][()]      # dict of (orderd) lists\n",
    "srcgrouping_names_sorted = rec_info['srcgroups_key_order'][()]  # order of grouping names\n",
    "assert set(roi_labels.keys() ) == set(srcgrouping_names_sorted )\n",
    "assert len(roi_labels) == 1, 'several groupings in single run -- not implmemented'\n",
    "# assuming we have only one grouping present\n",
    "roi_labels_cur = roi_labels[srcgrouping_names_sorted[src_grouping ]  ]\n"
   ]
  },
  {
   "cell_type": "code",
   "execution_count": null,
   "metadata": {},
   "outputs": [],
   "source": [
    "# rescale LFP recordings at oen of the sides only according to the rest scale\n",
    "if 'LFP' in modalities:\n",
    "    upre.rescaleRaws(raws_permod_both_sides, mod='LFP')\n",
    "if 'src' in modalities:\n",
    "    upre.rescaleRaws(raws_permod_both_sides, mod='src',combine_within_medcond=True,\n",
    "                    roi_labels=roi_labels, srcgrouping_names_sorted=srcgrouping_names_sorted)"
   ]
  },
  {
   "cell_type": "code",
   "execution_count": null,
   "metadata": {},
   "outputs": [],
   "source": [
    "meg_chns = raws_permod_both_sides['S01_off_hold']['MEG'].ch_names\n",
    "nmegs_to_show = 10\n",
    "meg_chis = np.random.choice(len(meg_chns),nmegs_to_show)"
   ]
  },
  {
   "cell_type": "code",
   "execution_count": null,
   "metadata": {},
   "outputs": [],
   "source": [
    "src_chns = raws_permod_both_sides['S01_off_hold']['src'].ch_names\n",
    "nsrcs_to_show = 10\n",
    "src_chis = np.random.choice(len(src_chns),nsrcs_to_show)"
   ]
  },
  {
   "cell_type": "code",
   "execution_count": null,
   "metadata": {},
   "outputs": [],
   "source": [
    "vals = np.linspace(0,1, 15)\n",
    "np.random.shuffle(vals)\n",
    "cmap = plt.cm.colors.ListedColormap(plt.cm.jet(vals))"
   ]
  },
  {
   "cell_type": "markdown",
   "metadata": {},
   "source": [
    "# Over intervals"
   ]
  },
  {
   "cell_type": "code",
   "execution_count": null,
   "metadata": {},
   "outputs": [],
   "source": [
    "data_modalities"
   ]
  },
  {
   "cell_type": "code",
   "execution_count": null,
   "metadata": {},
   "outputs": [],
   "source": [
    "modalities = ['LFP', 'src']\n",
    "print(modalities)\n",
    "\n",
    "int_types_templ = ['trem_{}', 'notrem_{}', 'hold_{}', 'move_{}']"
   ]
  },
  {
   "cell_type": "code",
   "execution_count": null,
   "metadata": {},
   "outputs": [],
   "source": [
    "import globvars as gv\n",
    "\n",
    "sfreq = raws_permod_both_sides[rawnames[0]][modalities[0]].info['sfreq']\n",
    "import utils_tSNE as utsne\n",
    "print(sfreq)"
   ]
  },
  {
   "cell_type": "code",
   "execution_count": null,
   "metadata": {},
   "outputs": [],
   "source": []
  },
  {
   "cell_type": "code",
   "execution_count": null,
   "metadata": {},
   "outputs": [],
   "source": []
  },
  {
   "cell_type": "code",
   "execution_count": null,
   "metadata": {},
   "outputs": [],
   "source": []
  },
  {
   "cell_type": "code",
   "execution_count": null,
   "metadata": {},
   "outputs": [],
   "source": []
  },
  {
   "cell_type": "code",
   "execution_count": null,
   "metadata": {},
   "outputs": [],
   "source": []
  },
  {
   "cell_type": "code",
   "execution_count": null,
   "metadata": {},
   "outputs": [],
   "source": [
    "if highpass == 2:\n",
    "    szEMG = 5e-4\n",
    "    szLFP = 1e-5\n",
    "    defrange_permod = {'EMG':(-szEMG,szEMG), 'LFP':(-szLFP,szLFP) } # for 1 Hz fitlered data\n",
    "else:\n",
    "    rangeEMG = (0.00022087509714765474, 0.003293280061916448)\n",
    "    rangeLFP = (-0.00016875398068805225, 0.0019851821198426474)\n",
    "    defrange_permod = {'EMG':rangeEMG, 'LFP':rangeLFP}"
   ]
  },
  {
   "cell_type": "code",
   "execution_count": null,
   "metadata": {},
   "outputs": [],
   "source": [
    "defrange_permod"
   ]
  },
  {
   "cell_type": "code",
   "execution_count": null,
   "metadata": {},
   "outputs": [],
   "source": [
    "#defrange  = None"
   ]
  },
  {
   "cell_type": "code",
   "execution_count": null,
   "metadata": {},
   "outputs": [],
   "source": [
    "#pp = ax.get_children()[0]"
   ]
  },
  {
   "cell_type": "code",
   "execution_count": null,
   "metadata": {},
   "outputs": [],
   "source": []
  },
  {
   "cell_type": "code",
   "execution_count": null,
   "metadata": {},
   "outputs": [],
   "source": [
    "cmap(vals[0])"
   ]
  },
  {
   "cell_type": "code",
   "execution_count": null,
   "metadata": {},
   "outputs": [],
   "source": [
    "xshifts_rel_permod"
   ]
  },
  {
   "cell_type": "code",
   "execution_count": null,
   "metadata": {},
   "outputs": [],
   "source": [
    "#timerange = 0,100\n",
    "#timerange = None\n",
    "nr = len(fnames_noext); nc=len(modalities)\n",
    "#nr =2\n",
    "ww = 10; hh = 3\n",
    "fig,axs = plt.subplots(nrows=nr, ncols=nc, figsize= (nc*ww,nr*hh), sharex='col')\n",
    "mns = nc*[np.inf]\n",
    "mxs = nc*[-np.inf]\n",
    "\n",
    "qsh = 5e-2\n",
    "qmult = 1.15\n",
    "\n",
    "xshifts_rel_permod = {}\n",
    "for mod in modalities:\n",
    "    n_channels = len( subraws[mod ][0].ch_names )\n",
    "    xshifts_rel = [0]*n_channels\n",
    "    xshifts_rel_permod[mod] = xshifts_rel\n",
    "\n",
    "#xshifts0 = 0 * [nc]\n",
    "    \n",
    "# first gather info \n",
    "for i in range(nr):\n",
    "    for j in range(nc):\n",
    "        ax = axs[i,j]\n",
    "        mod = modalities[j]\n",
    "        raw = subraws[mod ][i]\n",
    "        \n",
    "        n_channels = len(raw.ch_names)\n",
    "        for chni,chn in enumerate(raw.ch_names):\n",
    "            chdata, times = raw[chn]\n",
    "            if timerange is not None:\n",
    "                sl = slice(i0,i1)\n",
    "            else:\n",
    "                sl = slice(None)\n",
    "            chd = chdata[0,sl]\n",
    "            xshift = ( np.quantile(chd,0.9)- np.quantile(chd,0.1) ) * qmult \n",
    "            \n",
    "            xshifts_rel_permod[mod][chni] = max(xshifts_rel_permod[mod][chni], xshift)\n",
    "        \n",
    "for i in range(nr):\n",
    "    for j in range(nc):     \n",
    "        ax = axs[i,j]\n",
    "        mod = modalities[j]\n",
    "        raw = subraws[mod ][i]\n",
    "        \n",
    "        for chni,chn in enumerate(raw.ch_names):\n",
    "            chdata, times = raw[chn]\n",
    "            clr = cmap(vals[chni ])\n",
    "            \n",
    "            if timerange is not None:\n",
    "                sl = slice(i0,i1)\n",
    "            else:\n",
    "                sl = slice(None)\n",
    "            chd = chdata[0,sl]\n",
    "            \n",
    "            xshift = np.sum( xshifts_rel_permod[mod][:chni] )\n",
    "            chd2 = chd + xshift\n",
    "#             if defrange_permod[mod] is not None:\n",
    "#                 rngshift = defrange_permod[mod] + xshift\n",
    "#             else:\n",
    "#                 rngshift = None\n",
    "            \n",
    "            q0 = np.quantile(chd2,qsh)\n",
    "            q1 = np.quantile(chd2,1-qsh)\n",
    "#             q0_ = q0 - np.abs(q0) * 2\n",
    "#             q1_ = q1 + np.abs(q1) * 2\n",
    "            q0_ = np.quantile(chd2,1e-2)\n",
    "            q1_ = np.quantile(chd2,1-1e-2)\n",
    "            \n",
    "            ax.hist(chd2, bins=200, label=chn, alpha = 0.5, range=(q0_,q1_), color=clr )\n",
    "            ax.axvline(x=np.mean(chd2), c=clr, ls=':')\n",
    "\n",
    "            mns[j] = min(mns[j], q0)\n",
    "            mxs[j] = max(mxs[j], q1)\n",
    "            \n",
    "            #print('{} shift {}  q = {},{}'.format(chn,xshift,q0,q1) )\n",
    "            \n",
    "            \n",
    "        ax.legend(loc='upper left')\n",
    "        ax.grid()\n",
    "        ax.set_title('{}_{}_time={}'.format(fnames_noext[i], mod, timerange ) )\n",
    "        \n",
    "for i in range(nr):\n",
    "    for j in range(nc):    \n",
    "        axs[i,j].set_xlim(mns[j],mxs[j])\n",
    "    \n",
    "plt.savefig('across_subj_highpass{}.pdf'.format(highpass))"
   ]
  },
  {
   "cell_type": "code",
   "execution_count": null,
   "metadata": {},
   "outputs": [],
   "source": [
    "defrange_permod[mod] "
   ]
  },
  {
   "cell_type": "code",
   "execution_count": null,
   "metadata": {},
   "outputs": [],
   "source": [
    "mns,mxs"
   ]
  },
  {
   "cell_type": "code",
   "execution_count": null,
   "metadata": {},
   "outputs": [],
   "source": [
    "mns[1]*2, mxs[1]*2"
   ]
  },
  {
   "cell_type": "code",
   "execution_count": null,
   "metadata": {},
   "outputs": [],
   "source": [
    "#help(plt.hist)"
   ]
  },
  {
   "cell_type": "code",
   "execution_count": null,
   "metadata": {},
   "outputs": [],
   "source": [
    "np.quantile(chdata,0.98)"
   ]
  },
  {
   "cell_type": "code",
   "execution_count": null,
   "metadata": {},
   "outputs": [],
   "source": [
    "int_types = ['trem_L', 'notrem_L', 'hold_L', 'move_L']"
   ]
  },
  {
   "cell_type": "code",
   "execution_count": null,
   "metadata": {},
   "outputs": [],
   "source": []
  },
  {
   "cell_type": "code",
   "execution_count": null,
   "metadata": {},
   "outputs": [],
   "source": [
    "fnames_noext"
   ]
  },
  {
   "cell_type": "code",
   "execution_count": null,
   "metadata": {},
   "outputs": [],
   "source": [
    "ivalis_per_raw = {}\n",
    "for fn in fnames_noext:\n",
    "    ivalis = {'entire':[ times[0], times[-1], 'entire' ]}\n",
    "    anns_fn = fn + '_anns.txt'\n",
    "    anns_fn_full = os.path.join(data_dir, anns_fn)\n",
    "    if os.path.exists(anns_fn_full):\n",
    "        anns = mne.read_annotations(anns_fn_full)\n",
    "        ivalis_ = utils.ann2ivalDict(anns)\n",
    "        ivalis.update(ivalis_)\n",
    "    ivalis_per_raw[fn] = ivalis"
   ]
  },
  {
   "cell_type": "code",
   "execution_count": null,
   "metadata": {},
   "outputs": [],
   "source": [
    "for subj in gv.gen_subj_info:\n",
    "    info = gv.gen_subj_info[subj]\n",
    "    ts = info.get('tremor_side','UNDEF')\n",
    "    ms = info.get('move_side','UNDEF')\n",
    "    s = ''\n",
    "    if ts != ms:\n",
    "        s = '----'\n",
    "    print(s,subj,ts,ms)"
   ]
  },
  {
   "cell_type": "code",
   "execution_count": null,
   "metadata": {},
   "outputs": [],
   "source": [
    "gv.gen_subj_info['S04']['tremor_side'], gv.gen_subj_info['S04']['move_side']"
   ]
  },
  {
   "cell_type": "code",
   "execution_count": null,
   "metadata": {},
   "outputs": [],
   "source": [
    "maintremside"
   ]
  },
  {
   "cell_type": "code",
   "execution_count": null,
   "metadata": {},
   "outputs": [],
   "source": [
    "raw.info['sfreq']"
   ]
  },
  {
   "cell_type": "code",
   "execution_count": null,
   "metadata": {},
   "outputs": [],
   "source": [
    "import globvars as gv\n",
    "data_dir = gv.data_dir"
   ]
  },
  {
   "cell_type": "code",
   "execution_count": null,
   "metadata": {},
   "outputs": [],
   "source": [
    "chd.shape"
   ]
  },
  {
   "cell_type": "code",
   "execution_count": null,
   "metadata": {},
   "outputs": [],
   "source": [
    "#%debug\n",
    "\n",
    "\n",
    "mn_permod = {}\n",
    "mx_permod = {}\n",
    "for mod in modalities:\n",
    "    mn,mx = np.inf, -np.inf\n",
    "    mn_permod[mod ] = mn\n",
    "    mx_permod[mod ] = mx\n",
    "\n",
    "subjinds_toshow = [1]\n",
    "for subji in subjinds_toshow:  #subjinds:\n",
    "    dessubj = 'S{:02d}'.format(subji)\n",
    "        \n",
    "    inds = []\n",
    "    for ii in range(len(fnames_noext)):\n",
    "        rawn = fnames_noext[ii]\n",
    "        sind_str,medcond,task = utils.getParamsFromRawname(rawn)\n",
    "        #print(sind_str)\n",
    "        if sind_str == dessubj:\n",
    "            inds += [ii]\n",
    "    \n",
    "    nr = len(inds); nc=len(modalities)*len(int_types)\n",
    "    ww = 10; hh = 3\n",
    "    fig,axs = plt.subplots(nrows=nr, ncols=nc, figsize= (nc*ww,nr*hh), sharex='col')\n",
    "    plt.subplots_adjust(left=0.02,right=0.99)\n",
    "    rowind = 0\n",
    "\n",
    "    xshifts = []\n",
    "    for j in range(nc):\n",
    "        modind = j // len(int_types)\n",
    "        \n",
    "        mod = modalities[modind]\n",
    "            \n",
    "        for i in range(nr):\n",
    "            ax = axs[i,j]\n",
    "            \n",
    "            fn = fnames_noext[inds[i]]\n",
    "            raw = subraws[mod ][inds[i]]\n",
    "#             print(i,j,fn)\n",
    "#             continue\n",
    "            \n",
    "            ivalis = {'entire':[ times[0], times[-1], 'entire' ]}\n",
    "            anns_fn = fn + '_anns.txt'\n",
    "            anns_fn_full = os.path.join(data_dir, anns_fn)\n",
    "            if os.path.exists(anns_fn_full):\n",
    "                anns = mne.read_annotations(anns_fn_full)\n",
    "                ivalis_ = utils.ann2ivalDict(anns)\n",
    "                ivalis.update(ivalis_)\n",
    "\n",
    "\n",
    "            int_type_cur = int_types[ j % len(int_types)  ]\n",
    "            #for int_type_cur in int_types:\n",
    "            for chni,chn in enumerate(raw.ch_names):\n",
    "                chdata, times = raw[chn]\n",
    "\n",
    "                #int_type_cur\n",
    "                chds = []\n",
    "                intervals = ivalis.get(int_type_cur, [None] )\n",
    "                for timerange in intervals:\n",
    "                    if timerange is not None:\n",
    "                        i0, i1 = raw.time_as_index([timerange[0],timerange[1]])\n",
    "                        sl = slice(i0,i1)\n",
    "                    else:\n",
    "                        print('{} Wrong interval type {}'.format(rawname_,int_type_cur) )\n",
    "                        sl = np.arange( 2)\n",
    "                    chd_ = chdata[0,sl]\n",
    "                    chds += [chd_]\n",
    "                chd = np.hstack(chds)\n",
    "                if chd.size > 10:\n",
    "                    xshift = np.quantile(chd,0.9)\n",
    "                    chd2 = chd+xshift\n",
    "                    \n",
    "                    mn_,mx_ = np.quantile(chd2,qsh),  np.quantile(chd2,1-qsh)\n",
    "                    mn_permod[mod ] = min( mn_permod[mod ], mn_ )\n",
    "                    mx_permod[mod ] = max( mx_permod[mod ], mx_ )                \n",
    "                    \n",
    "                    clr = cmap(vals[chni ])\n",
    "                    ax.hist(chd2, bins=50, label=chn, alpha = 0.6, range = defrange_permod[mod], color=clr)\n",
    "                    ax.axvline(x=xshift + np.mean(chd), c=clr, ls=':')\n",
    "\n",
    "                    print('{},{}; int_type={} min={:.3f}, max={:.3f}'.format(chn,int_type_cur,int_type_cur,mn_*10000,mx_*10000) )\n",
    "            \n",
    "            ax.legend(loc='upper left')\n",
    "            ax.grid()\n",
    "            if timerange is None:\n",
    "                timerange = [-1,-1]\n",
    "            ax.set_title('{}_{}_(last)time={:.2f},{:.2f}_totlen={:.2f}'.format(fn, int_type_cur, timerange[0],timerange[1], chd.size / raw.info['sfreq']  ) )\n",
    "            \n",
    "    for i in range(nr):\n",
    "        for j in range(nc):\n",
    "            modind = j // len(int_types)\n",
    "            mod = modalities[modind]\n",
    "            mn = mn_permod[mod ]\n",
    "            mx = mx_permod[mod ]\n",
    "            if not (np.isinf(mn) or np.isinf(mx) ):\n",
    "                axs[i,j].set_xlim(mn,mx)\n",
    "\n",
    "    plt.savefig('{}_highpass{}_stats_across_cond_tasks.pdf'.format(dessubj, highpass))\n",
    "    plt.close()"
   ]
  },
  {
   "cell_type": "code",
   "execution_count": null,
   "metadata": {},
   "outputs": [],
   "source": [
    "help(plt.hist)"
   ]
  },
  {
   "cell_type": "code",
   "execution_count": null,
   "metadata": {},
   "outputs": [],
   "source": [
    "fnames_noext"
   ]
  },
  {
   "cell_type": "code",
   "execution_count": null,
   "metadata": {},
   "outputs": [],
   "source": [
    "mn_permod"
   ]
  },
  {
   "cell_type": "code",
   "execution_count": null,
   "metadata": {},
   "outputs": [],
   "source": [
    "mx_permod"
   ]
  },
  {
   "cell_type": "code",
   "execution_count": null,
   "metadata": {},
   "outputs": [],
   "source": [
    "ivalis"
   ]
  },
  {
   "cell_type": "code",
   "execution_count": null,
   "metadata": {},
   "outputs": [],
   "source": [
    "inds"
   ]
  },
  {
   "cell_type": "code",
   "execution_count": null,
   "metadata": {},
   "outputs": [],
   "source": [
    "inds"
   ]
  },
  {
   "cell_type": "code",
   "execution_count": null,
   "metadata": {},
   "outputs": [],
   "source": [
    "print(inds)"
   ]
  },
  {
   "cell_type": "code",
   "execution_count": null,
   "metadata": {},
   "outputs": [],
   "source": [
    "help(plt.hist)"
   ]
  },
  {
   "cell_type": "code",
   "execution_count": null,
   "metadata": {},
   "outputs": [],
   "source": []
  }
 ],
 "metadata": {
  "kernelspec": {
   "display_name": "obddp_interactive",
   "language": "python",
   "name": "obddp_interactive"
  },
  "language_info": {
   "codemirror_mode": {
    "name": "ipython",
    "version": 3
   },
   "file_extension": ".py",
   "mimetype": "text/x-python",
   "name": "python",
   "nbconvert_exporter": "python",
   "pygments_lexer": "ipython3",
   "version": "3.9.6"
  },
  "varInspector": {
   "cols": {
    "lenName": 16,
    "lenType": 16,
    "lenVar": 40
   },
   "kernels_config": {
    "python": {
     "delete_cmd_postfix": "",
     "delete_cmd_prefix": "del ",
     "library": "var_list.py",
     "varRefreshCmd": "print(var_dic_list())"
    },
    "r": {
     "delete_cmd_postfix": ") ",
     "delete_cmd_prefix": "rm(",
     "library": "var_list.r",
     "varRefreshCmd": "cat(var_dic_list()) "
    }
   },
   "types_to_exclude": [
    "module",
    "function",
    "builtin_function_or_method",
    "instance",
    "_Feature"
   ],
   "window_display": false
  }
 },
 "nbformat": 4,
 "nbformat_minor": 2
}
