{
 "cells": [
  {
   "cell_type": "code",
   "execution_count": null,
   "metadata": {},
   "outputs": [],
   "source": [
    "%load_ext autoreload\n",
    "%autoreload 2"
   ]
  },
  {
   "cell_type": "code",
   "execution_count": null,
   "metadata": {},
   "outputs": [],
   "source": [
    "import os,sys\n",
    "import mne\n",
    "import utils  #my code\n",
    "import json\n",
    "import matplotlib.pyplot as plt\n",
    "import numpy as np\n",
    "import h5py\n",
    "import multiprocessing as mpr\n",
    "import matplotlib as mpl\n",
    "import time\n",
    "import gc;\n",
    "import scipy.signal as sig\n",
    "\n",
    "import numpy as np\n",
    "from sklearn.preprocessing import RobustScaler\n",
    "from sklearn.manifold import TSNE\n",
    "from sklearn.decomposition import PCA\n",
    "\n",
    "import utils_tSNE as utsne\n",
    "\n",
    "from matplotlib.backends.backend_pdf import PdfPages\n",
    "import utils_preproc as upre\n",
    "\n",
    "#mpl.use('Agg')\n",
    "\n",
    "############################\n",
    "\n",
    "if os.environ.get('DATA_DUSS') is not None:\n",
    "    data_dir = os.path.expandvars('$DATA_DUSS')\n",
    "else:\n",
    "    data_dir = '/home/demitau/data'\n",
    "\n",
    "\n",
    "rawname_= 'S01_off_hold'"
   ]
  },
  {
   "cell_type": "code",
   "execution_count": null,
   "metadata": {},
   "outputs": [],
   "source": [
    "src_fname_noext = 'srcd_{}_HirschPt2011'.format(rawname_)\n",
    "\n",
    "rawname_LFPonly = rawname_ + '_LFPonly'+ '.fif'\n",
    "rawname_LFPonly_full = os.path.join( data_dir, rawname_LFPonly )\n",
    "raw_lfponly = mne.io.read_raw_fif(rawname_LFPonly_full, None)\n",
    "# if use_lfp_HFO:\n",
    "#     raw_lfp_highres = upre.saveLFP_nonresampled(rawname_, skip_if_exist = 1)\n",
    "#     if raw_lfp_highres is None:\n",
    "#         lfp_fname_full = os.path.join(data_dir, '{}_LFP_1kHz.fif'.format(rawname_) )\n",
    "#         raw_lfp_highres = mne.io.read_raw_fif(lfp_fname_full)\n",
    "\n",
    "#     sfreq_highres = raw_lfp_highres.info['sfreq']\n",
    "#     sfreq_highres = int(sfreq_highres)\n",
    "\n",
    "newsrc_fname_full = os.path.join( data_dir, 'av_' + src_fname_noext + '.fif' )\n",
    "raw_srconly =  mne.io.read_raw_fif(newsrc_fname_full, None)\n",
    "\n",
    "\n"
   ]
  },
  {
   "cell_type": "code",
   "execution_count": null,
   "metadata": {},
   "outputs": [],
   "source": [
    "raw_lfponly.load_data()\n",
    "raw_srconly.load_data()"
   ]
  },
  {
   "cell_type": "code",
   "execution_count": null,
   "metadata": {},
   "outputs": [],
   "source": [
    "fbands = {'tremor': [3,10], 'low_beta':[11,22], 'high_beta':[22,30],\n",
    "           'low_gamma':[30,60], 'high_gamma':[60,90],\n",
    "          'HFO1':[91,200], 'HFO2':[200,300], 'HFO3':[300,400],\n",
    "          'beta':[15,30],   'gamma':[30,100], 'HFO':[91,400]}\n",
    "\n"
   ]
  },
  {
   "cell_type": "code",
   "execution_count": null,
   "metadata": {},
   "outputs": [],
   "source": [
    "gc.collect()"
   ]
  },
  {
   "cell_type": "code",
   "execution_count": null,
   "metadata": {},
   "outputs": [],
   "source": [
    "bandPairs = [('tremor','tremor', 'corr'),\n",
    "             ('low_beta','low_beta', 'corr'), ('high_beta','high_beta', 'corr'),\n",
    "             ('low_gamma','low_gamma', 'corr') , ('high_gamma','high_gamma', 'corr') ]\n",
    "\n",
    "for bp in bandPairs:\n",
    "#     fbname0 = 'tremor'\n",
    "#     fbname1 = 'low_beta'\n",
    "    fbname0,fbname1,_ = bp\n",
    "    fband0 = fbands[fbname0]\n",
    "    fband1 = fbands[fbname1]\n",
    "\n",
    "    lfp_bp = raw_lfponly.copy()\n",
    "    lfp_bp.filter(l_freq=fband0[0],h_freq=fband0[1])\n",
    "\n",
    "    src_bp = raw_srconly.copy()\n",
    "    src_bp.filter(l_freq=fband1[0], h_freq=fband1[1])\n",
    "    \n",
    "    plotCorrelationsAllChannelParis(lfp_bp,src_bp,fbname0,fbname1)"
   ]
  },
  {
   "cell_type": "code",
   "execution_count": null,
   "metadata": {},
   "outputs": [],
   "source": [
    "# from scipy.ndimage.interpolation import shift\n",
    "# shift(np.arange(10), 4, mode='nearest')"
   ]
  },
  {
   "cell_type": "code",
   "execution_count": null,
   "metadata": {},
   "outputs": [],
   "source": [
    "def getNormData(dat0, q = 0.05):\n",
    "    assert q >= 0\n",
    "    if q < 1e-10:\n",
    "        low0 = np.min(dat0)\n",
    "        high0 = np.max(dat0)\n",
    "        me0 = np.mean(dat0)\n",
    "    else:\n",
    "        low0,high0 = np.percentile(dat0, [100*q,100*(1-q)] )\n",
    "        me0 = np.mean( dat0 [(dat0 >= low0) * (dat0 <= high0) ]  )\n",
    "    return me0, low0, high0"
   ]
  },
  {
   "cell_type": "code",
   "execution_count": null,
   "metadata": {},
   "outputs": [],
   "source": [
    "sfreq = 256"
   ]
  },
  {
   "cell_type": "code",
   "execution_count": null,
   "metadata": {},
   "outputs": [],
   "source": [
    "sfreq = int(raw_lfponly.info['sfreq'] )\n"
   ]
  },
  {
   "cell_type": "code",
   "execution_count": null,
   "metadata": {},
   "outputs": [],
   "source": [
    "# td1 = np.random.uniform(size=40*1000)\n",
    "# td2 = np.random.uniform(size=40*1000)\n",
    "# chdata0 = td1\n",
    "# chdata1 = td2"
   ]
  },
  {
   "cell_type": "code",
   "execution_count": null,
   "metadata": {},
   "outputs": [],
   "source": [
    "def getCorrelFun(dat0,dat1, timebin, windowsz, lags, normdata=None):\n",
    "#     assert timebin - min(lags) > 0\n",
    "#     assert timebin + max(lags) < len(dat0)\n",
    "    #assert np.max(np.abs(lags)) < windowsz//2\n",
    "    res = []\n",
    "    if normdata is None:\n",
    "        normdata = {}\n",
    "        me0, low0 ,high0 = getNormData(dat0)\n",
    "        me1, low1 ,high1 = getNormData(dat1)\n",
    "        normdata['me0'] = me0\n",
    "        normdata['me1'] = me1\n",
    "        normdata['range0'] = (high0-low0)\n",
    "        normdata['range1'] = (high1-low1)\n",
    "    for nbins_lag in lags:\n",
    "        if (timebin + nbins_lag - windowsz//2 < 0) or (timebin + nbins_lag + windowsz//2 >= len(dat0 ) ):\n",
    "            r = np.nan\n",
    "            res += [r]\n",
    "            continue \n",
    "        #print(timebin - windowsz//2, timebin + windowsz//2)\n",
    "        subdat0 = dat0[timebin - windowsz//2: timebin + windowsz//2] \n",
    "        subdat1 = dat1[timebin + nbins_lag - windowsz//2: timebin + nbins_lag + windowsz//2] \n",
    "        \n",
    "        if isinstance(normdata, str) and normdata == 'loc':\n",
    "            normdata_loc = {}\n",
    "            me0, low0 ,high0 = getNormData(subdat0)\n",
    "            me1, low1 ,high1 = getNormData(subdat1)\n",
    "            normdata_loc['me0'] = me0\n",
    "            normdata_loc['me1'] = me1\n",
    "            normdata_loc['range0'] = (high0-low0)\n",
    "            normdata_loc['range1'] = (high1-low1)\n",
    "            \n",
    "            normdata_cur = normdata_loc\n",
    "        else:\n",
    "            normdata_cur = normdata\n",
    "            \n",
    "        #subdat1 - normdata_cur['me1']  -- this would spoil oroignal data\n",
    "        \n",
    "        #shifted = shift(dat1, nbins_lag, mode='nearest')\n",
    "        r = np.correlate( subdat0 - normdata_cur['me0'], subdat1 - normdata_cur['me1'] ) / windowsz\n",
    "        #r = subdat0 * subdat1 \n",
    "        norm_mult = ( normdata_cur['range0'] *normdata_cur['range1'] )\n",
    "        #print(norm_mult)\n",
    "        r /= norm_mult\n",
    "        \n",
    "        res += [r]\n",
    "        \n",
    "    return np.array(res)\n",
    "\n",
    "#r = getCorrelFun(chdata0,chdata1, 1000, windowsz, lags, normdata=normdata)\n",
    "#r"
   ]
  },
  {
   "cell_type": "code",
   "execution_count": null,
   "metadata": {},
   "outputs": [],
   "source": [
    "def plotCorrelationsAllChannelParis(lfp_bp,src_bp, fbname0,fbname1):\n",
    "    chis = mne.pick_channels_regexp(src_bp.ch_names, 'msrcR*_allf.*')\n",
    "    chns_src = [src_bp.ch_names[ind] for ind in chis]\n",
    "    chis = mne.pick_channels_regexp(lfp_bp.ch_names, 'LFPR.*')\n",
    "    chns_lfp = [lfp_bp.ch_names[ind] for ind in chis]\n",
    "    chns_all = chns_src + chns_lfp\n",
    "\n",
    "    chn_pairs = []\n",
    "    for chn0 in chns_all:\n",
    "        for chn1 in chns_all:\n",
    "            if chn0.find('LFP') >=0  and chn1.find('LFP') >= 0:\n",
    "                continue\n",
    "            chn_pairs += [(chn0,chn1)]\n",
    "\n",
    "    anns_fn = rawname_ + '_anns.txt'\n",
    "    anns_fn_full = os.path.join(data_dir, anns_fn)\n",
    "    anns = mne.read_annotations(anns_fn_full)\n",
    "\n",
    "    lims = (-0.1,0.1)\n",
    "    \n",
    "    diam = 2*sfreq\n",
    "    step = sfreq / 8\n",
    "    step = sfreq / 16\n",
    "    lags = np.arange(-diam,diam,step, dtype=int)\n",
    "    windowsz = sfreq * 4\n",
    "\n",
    "    #tbins = np.arange(0,300,windowsz/sfreq, dtype=int)*sfreq\n",
    "    tbins = np.arange(0,raw_lfponly.times[-1]-np.max(lags)/sfreq,windowsz/sfreq, dtype=int)*sfreq\n",
    "\n",
    "\n",
    "    N = len(chn_pairs)\n",
    "\n",
    "    nr = N; nc=1\n",
    "    hh = 3; ww = 20\n",
    "    fig,axs = plt.subplots(nr,nc,figsize=(nc*ww,nr*hh), sharex='col')\n",
    "    plt.subplots_adjust(bottom=0.01,top =0.98, left=0.04, right=0.99)\n",
    "\n",
    "    for i in range(nr):\n",
    "        ax = axs[i]; \n",
    "        p = chn_pairs[i]\n",
    "        chn0, chn1 = p\n",
    "\n",
    "        plotCrossCorr(ax,lfp_bp, src_bp, chn0,chn1, tbins, lags, windowsz, lims = lims)\n",
    "\n",
    "        for di in range(len(anns)):\n",
    "            ann_cur = anns[di]\n",
    "            if ann_cur['description'] in ['trem_L', 'hold_L', 'notrem_L']:\n",
    "                ax.axvline(ann_cur['onset'], ls=':', c='r')\n",
    "                ax.axvline(ann_cur['onset']+ann_cur['duration'], ls=':', c='r')\n",
    "            ax.set_xlim(tbins[0]/sfreq,tbins[-1]/sfreq)\n",
    "\n",
    "\n",
    "    figtitle = '{} vs {}'.format(fbname0,fbname1)\n",
    "    plt.suptitle(figtitle, size=28)\n",
    "    plt.savefig('{}__{}_cross_correl.png'.format(rawname_,figtitle))"
   ]
  },
  {
   "cell_type": "code",
   "execution_count": null,
   "metadata": {},
   "outputs": [],
   "source": [
    "def plotCrossCorr(ax, lfp_bp, src_bp, chn0,chn1, tbins, lags, windowsz, \n",
    "                  q=2e-2, lims=(-0.15,0.15), printLog=0, cmap='bwr'):\n",
    "    #chn1 = 'msrcR_allf_2'\n",
    "    #chn1 = 'msrcR_allf_0'\n",
    "    chns = [chn0 ,chn1]\n",
    "\n",
    "    chdatas = []\n",
    "    for chn in chns:\n",
    "        if chn.find('LFP') >= 0:\n",
    "        #src_chname = 'msrcR_allf_0'\n",
    "        #lfp_chname = 'LFPR01'\n",
    "            chdata,times = lfp_bp[chn]\n",
    "        else:\n",
    "            chdata,times = src_bp[chn]\n",
    "        chdatas += [chdata[0]]\n",
    "\n",
    "    chdata0, chdata1 = chdatas\n",
    "\n",
    "\n",
    "    normdata = {}\n",
    "    me0, low0 ,high0 = getNormData(chdata0, q =q)\n",
    "    me1, low1 ,high1 = getNormData(chdata1, q=q)\n",
    "    normdata['me0'] = me0\n",
    "    normdata['me1'] = me1\n",
    "    normdata['range0'] = (high0-low0)\n",
    "    normdata['range1'] = (high1-low1)\n",
    "\n",
    "    if printLog:\n",
    "        print(normdata)\n",
    "    \n",
    "    rs = []\n",
    "    for i,timebin in enumerate(tbins):\n",
    "        #r = getCorrelFun(chdata0,chdata1, timebin, windowsz, lags, normdata='loc')\n",
    "        r = getCorrelFun(chdata0,chdata1, timebin, windowsz, lags, normdata=normdata)\n",
    "        #r = getCorrelFun(td1,td2, timebin, windowsz, lags, normdata='loc')\n",
    "\n",
    "        rs += [r.T]\n",
    "    rs = np.vstack(rs)\n",
    "\n",
    "    import matplotlib.colors as mcolors\n",
    "    norm = mcolors.Normalize(vmin=lims[0], vmax = lims[1])\n",
    "\n",
    "\n",
    "    ax.pcolor(tbins/sfreq,lags/sfreq, rs.T, norm=norm, cmap=cmap)\n",
    "    ax.set_ylabel('lag, [s]')\n",
    "    ax.set_xlabel('time, [s]')\n",
    "    ax.set_title('{} vs {}'.format(chns[0],chns[1]))\n",
    "    \n",
    "    return tbins,lags,rs"
   ]
  },
  {
   "cell_type": "code",
   "execution_count": null,
   "metadata": {
    "run_control": {
     "marked": false
    }
   },
   "outputs": [],
   "source": []
  },
  {
   "cell_type": "code",
   "execution_count": null,
   "metadata": {},
   "outputs": [],
   "source": [
    "chn0 = 'msrcR_allf_0'\n",
    "chn1 = 'LFPR01'\n",
    "plt.figure(figsize=(17,5))\n",
    "ax = plt.gca()\n",
    "plotCrossCorr(ax,chn0,chn1)"
   ]
  },
  {
   "cell_type": "code",
   "execution_count": null,
   "metadata": {},
   "outputs": [],
   "source": [
    "chn0 = 'msrcR_allf_0'\n",
    "chn1 = 'msrcR_allf_2'\n",
    "plt.figure(figsize=(17,5))\n",
    "ax = plt.gca()\n",
    "plotCrossCorr(ax,chn0,chn1)"
   ]
  },
  {
   "cell_type": "code",
   "execution_count": null,
   "metadata": {},
   "outputs": [],
   "source": [
    "lfp_bp.ch_names"
   ]
  },
  {
   "cell_type": "code",
   "execution_count": null,
   "metadata": {},
   "outputs": [],
   "source": [
    "chdata0 = lfp_bp['LFPR12'][0][0]\n",
    "chdata1 = lfp_bp['LFPR23'][0][0]"
   ]
  },
  {
   "cell_type": "code",
   "execution_count": null,
   "metadata": {},
   "outputs": [],
   "source": [
    "diam = 2*sfreq\n",
    "step = sfreq / 8\n",
    "step = sfreq / 16\n",
    "lags = np.arange(-diam,diam,step, dtype=int)\n",
    "windowsz = sfreq * 4"
   ]
  },
  {
   "cell_type": "code",
   "execution_count": null,
   "metadata": {
    "run_control": {
     "marked": false
    }
   },
   "outputs": [],
   "source": [
    "tbins = np.arange(20,30,2, dtype=int)*sfreq\n",
    "#%debug\n",
    "nr = len(tbins); nc=1\n",
    "hh = 3; ww = 10\n",
    "fig,axs = plt.subplots(nr,nc,figsize=(nc*ww,nr*hh))\n",
    "\n",
    "ylims=(-0.15,0.15)\n",
    "rs = []\n",
    "for i,timebin in enumerate(tbins):\n",
    "    #r = getCorrelFun(chdata0,chdata1, timebin, windowsz, lags, normdata='loc')\n",
    "    r = getCorrelFun(chdata0,chdata1, timebin, windowsz, lags, normdata=None)\n",
    "    #r = getCorrelFun(td1,td2, timebin, windowsz, lags, normdata='loc')\n",
    "    ax = axs[i]\n",
    "    ax.plot(lags/sfreq,r)\n",
    "    ax.axhline(0,ls=':')\n",
    "    ax.set_title('time = {:.1f}'.format(timebin/sfreq)  )\n",
    "    ax.set_ylim(ylims)"
   ]
  },
  {
   "cell_type": "code",
   "execution_count": null,
   "metadata": {},
   "outputs": [],
   "source": [
    "r"
   ]
  },
  {
   "cell_type": "code",
   "execution_count": null,
   "metadata": {},
   "outputs": [],
   "source": [
    "import gc; gc.collect()"
   ]
  },
  {
   "cell_type": "code",
   "execution_count": null,
   "metadata": {},
   "outputs": [],
   "source": [
    "plt.close('all')"
   ]
  },
  {
   "cell_type": "code",
   "execution_count": null,
   "metadata": {},
   "outputs": [],
   "source": []
  }
 ],
 "metadata": {
  "kernelspec": {
   "display_name": "Python 3",
   "language": "python",
   "name": "python3"
  },
  "language_info": {
   "codemirror_mode": {
    "name": "ipython",
    "version": 3
   },
   "file_extension": ".py",
   "mimetype": "text/x-python",
   "name": "python",
   "nbconvert_exporter": "python",
   "pygments_lexer": "ipython3",
   "version": "3.6.9"
  },
  "varInspector": {
   "cols": {
    "lenName": 16,
    "lenType": 16,
    "lenVar": 40
   },
   "kernels_config": {
    "python": {
     "delete_cmd_postfix": "",
     "delete_cmd_prefix": "del ",
     "library": "var_list.py",
     "varRefreshCmd": "print(var_dic_list())"
    },
    "r": {
     "delete_cmd_postfix": ") ",
     "delete_cmd_prefix": "rm(",
     "library": "var_list.r",
     "varRefreshCmd": "cat(var_dic_list()) "
    }
   },
   "types_to_exclude": [
    "module",
    "function",
    "builtin_function_or_method",
    "instance",
    "_Feature"
   ],
   "window_display": false
  }
 },
 "nbformat": 4,
 "nbformat_minor": 2
}
