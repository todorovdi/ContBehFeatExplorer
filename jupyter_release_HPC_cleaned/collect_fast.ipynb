{
 "cells": [
  {
   "cell_type": "code",
   "execution_count": null,
   "id": "31a03545",
   "metadata": {},
   "outputs": [],
   "source": [
    "%load_ext autoreload\n",
    "%autoreload 2\n",
    "\n",
    "from jupyter_helpers.notifications import Notifications\n",
    "p = '/usr/share/sounds/gnome/default/alerts/'\n",
    "sound_file = '../beep-06.mp3'\n",
    "#p1 = p + 'glass.ogg'; p2 = p + 'sonar.ogg';\n",
    "p1 = sound_file; p2 = p1\n",
    "Notifications(success_audio=p1, time_threshold=2,\n",
    "    failure_audio=p2)  #    ,integration='GNOME')\n",
    "\n",
    "from utils_postprocess_HPC import loadCalcOutput\n",
    "from utils_postprocess_HPC import plotCalcOutput"
   ]
  },
  {
   "cell_type": "code",
   "execution_count": null,
   "id": "fd90c76c",
   "metadata": {},
   "outputs": [],
   "source": [
    "# fsd"
   ]
  },
  {
   "cell_type": "code",
   "execution_count": null,
   "id": "f950bee7",
   "metadata": {},
   "outputs": [],
   "source": [
    "subdir = 'per_subj_per_medcond_best_LFP_wholectx_subskip4'\n",
    "output_per_raw = loadCalcOutput(subdir)\n",
    "plotCalcOutput(subdir, output_per_raw)"
   ]
  },
  {
   "cell_type": "code",
   "execution_count": null,
   "id": "98ebde2a",
   "metadata": {},
   "outputs": [],
   "source": []
  },
  {
   "cell_type": "code",
   "execution_count": null,
   "id": "6a045d08",
   "metadata": {},
   "outputs": [],
   "source": [
    "subdir = 'per_subj_per_medcond_best_LFP_wholectx_subskip1'\n",
    "output_per_raw = loadCalcOutput(subdir)"
   ]
  },
  {
   "cell_type": "code",
   "execution_count": null,
   "id": "da6442db",
   "metadata": {},
   "outputs": [],
   "source": [
    "plotCalcOutput(subdir, output_per_raw)"
   ]
  },
  {
   "cell_type": "code",
   "execution_count": null,
   "id": "47fea7cf",
   "metadata": {},
   "outputs": [],
   "source": []
  }
 ],
 "metadata": {
  "kernelspec": {
   "display_name": "Python 3",
   "language": "python",
   "name": "python3"
  },
  "language_info": {
   "codemirror_mode": {
    "name": "ipython",
    "version": 3
   },
   "file_extension": ".py",
   "mimetype": "text/x-python",
   "name": "python",
   "nbconvert_exporter": "python",
   "pygments_lexer": "ipython3",
   "version": "3.9.6"
  }
 },
 "nbformat": 4,
 "nbformat_minor": 5
}
