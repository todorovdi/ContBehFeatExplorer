{
 "cells": [
  {
   "cell_type": "code",
   "execution_count": null,
   "id": "1147db7d",
   "metadata": {},
   "outputs": [],
   "source": [
    "# in this file we load collected\n",
    "%load_ext autoreload\n",
    "%autoreload 2\n",
    "\n",
    "import os, sys, mne, json, h5py, pymatreader, re, time, gc;\n",
    "import globvars as gv\n",
    "import utils\n",
    "import utils_tSNE as utsne\n",
    "import utils_preproc as upre\n",
    "import matplotlib.pyplot as plt\n",
    "import numpy as np\n",
    "import multiprocessing as mpr\n",
    "import matplotlib as mpl\n",
    "import scipy.signal as sig\n",
    "import pandas as pd \n",
    "import utils_postprocess_HPC as postp\n",
    "\n",
    "data_dir = gv.data_dir\n",
    "from os.path import join as pjoin\n",
    "\n",
    "from dateutil import parser\n",
    "from utils_postprocess_HPC import collectCalcResults\n",
    "\n",
    "from utils_postprocess_HPC import getMocFromRow, getMocFromRowMultiOPR\n",
    "\n",
    "from pprint import pprint as ppr"
   ]
  },
  {
   "cell_type": "code",
   "execution_count": null,
   "id": "23861d8a",
   "metadata": {},
   "outputs": [],
   "source": [
    "subdir = 'for_Alfons' # for output\n",
    "\n",
    "subdir_res = 'collected'\n",
    "temp_dir = pjoin( os.path.expandvars('$SCRATCH') , 'OSCBAGDIS', subdir_res )\n",
    "#pjoin(gv.data_dir_tmp, 'collected')\n",
    "\n",
    "read_saved = True\n",
    "save       = False\n",
    "\n",
    "#pptypes_to_load = ['covmat_entire', 'covmat_rest']\n",
    "#pptypes_to_load = [ 'covmat_rest']\n",
    "pptypes_to_load = [ 'SSS_covmat_rest']\n",
    "#pptypes_to_load = [ 'covmat_rest', 'SSS_covmat_rest', 'covmat_entire']\n",
    "\n",
    "####################\n",
    "import globvars as gv\n",
    "if read_saved:\n",
    "    pptype2res = {}\n",
    "    #df = pd.read_pickle(fnf)\n",
    "    \n",
    "    for ppt in pptypes_to_load:\n",
    "        fn = f'{ppt}_output_per_raw.npz'\n",
    "        fnf = pjoin(temp_dir, fn)\n",
    "        #print(fnf)\n",
    "        f = np.load(fnf, allow_pickle=1)\n",
    "        pptype2res[ppt] = f['arr_0'][()]\n",
    "        del f\n",
    "    import gc; gc.collect()\n",
    "elif save:\n",
    "    df.to_pickle(fnf)\n",
    "################"
   ]
  },
  {
   "cell_type": "code",
   "execution_count": null,
   "id": "4c00e4db",
   "metadata": {},
   "outputs": [],
   "source": [
    "# we use loaded data so it should be fast\n",
    "use_tmpdir_to_load = True\n",
    "perf_to_use_list = [('XGB','all_present_features', f'best_PCA-derived_features_0.99')]\n",
    "to_show = []\n",
    "to_show += [('allsep','merge_nothing','basic') ]\n",
    "from utils_postprocess import  multiLevelDict2TupleList\n",
    "\n",
    "dfs = []\n",
    "for pptype,opr in pptype2res.items():\n",
    "    outputs_grouped_tpll = multiLevelDict2TupleList(opr,4,3)\n",
    "    outputs_grouped_tpll[0][:-1]\n",
    "    dfunproc = pd.DataFrame(outputs_grouped_tpll, \n",
    "        columns = ['rawname','prefix','grouping','interval_set','mcf'] )\n",
    "    prefixes = list( dfunproc['prefix'].unique() )\n",
    "\n",
    "    # warnings.simplefilter('error')\n",
    "    dftmp, table_info_per_perf_type, table_per_perf_type = \\\n",
    "        postp.prepTableInfo3(opr, prefixes=prefixes, \n",
    "        perf_to_use_list=perf_to_use_list, to_show=to_show, return_df = True,\n",
    "        use_tmpdir_to_load = use_tmpdir_to_load)\n",
    "    gc.collect()\n",
    "    dftmp['pptype'] = pptype\n",
    "    \n",
    "    dfs += [dftmp]\n",
    "\n",
    "df_noext = pd.concat(dfs, ignore_index=True)\n",
    "import gc; gc.collect()"
   ]
  },
  {
   "cell_type": "markdown",
   "id": "439de097",
   "metadata": {
    "heading_collapsed": true
   },
   "source": [
    "### load directly"
   ]
  },
  {
   "cell_type": "code",
   "execution_count": null,
   "id": "0566571d",
   "metadata": {
    "hidden": true
   },
   "outputs": [],
   "source": [
    "prefs = df_noext.query(\"prefix.str.contains('onlyH_act_su') | prefix.str.contains('onlyH_act_modLFP_su')\")['prefix'].unique()\n",
    "prefixes_to_collect = prefs"
   ]
  },
  {
   "cell_type": "code",
   "execution_count": null,
   "id": "f3f17c99",
   "metadata": {
    "hidden": true
   },
   "outputs": [],
   "source": [
    "from utils_postprocess_HPC import listComputedData\n",
    "start_time = parser.parse(\"30 Oct 2019 21:21:45\")  \n",
    "end_time = parser.parse(\"30 Oct 2049 21:21:45\")  \n",
    "subdir_cur = 'per_subj_per_medcond_best_LFP_wholectx_oversample_LFP256_covmat_entire'\n",
    "r = listComputedData(subdir_cur,None,start_time, end_time, use_main_LFP_chan=1)\n",
    "r\n",
    "\n",
    "# prefixes_to_collect = ['onlyH_act_modLFP_subskip8@both-copy_from_search_LFP',\n",
    "#   'onlyH_act_modLFP_subskip8@left_exCB-copy_from_search_LFP',\n",
    "#   'onlyH_act_modLFP_subskip8@right_exCB-copy_from_search_LFP',,\n",
    "#   'onlyH_act_subskip8@both-copy_from_search_LFP',\n",
    "#   'onlyH_act_subskip8@both_onlyCB-copy_from_search_LFP',\n",
    "#   'onlyH_act_subskip8@left_exCB-copy_from_search_LFP',\n",
    "#   'onlyH_act_subskip8@left_onlyCB-copy_from_search_LFP',\n",
    "#   'onlyH_act_subskip8@right_exCB-copy_from_search_LFP',\n",
    "#   'onlyH_act_subskip8@right_onlyCB-copy_from_search_LFP',\n",
    "#   'onlyH_act_subskip8both-copy_from_search_LFP',\n",
    "#   'onlyH_act_subskip8both_onlyCB-copy_from_search_LFP',\n",
    "#   'onlyH_act_subskip8left_exCB-copy_from_search_LFP',\n",
    "#   'onlyH_act_subskip8left_onlyCB-copy_from_search_LFP',\n",
    "#   'onlyH_act_subskip8right_exCB-copy_from_search_LFP',\n",
    "#   'onlyH_act_subskip8right_onlyCB-copy_from_search_LFP']\n",
    "\n",
    "pairs = []\n",
    "#pairs += [('covmat_entire','per_subj_per_medcond_best_LFP_wholectx_oversample_LFP256_covmat_entire')]\n",
    "pairs += [('covmat_rest',  'per_subj_per_medcond_best_LFP_wholectx_oversample_LFP256_covmat_rest')]\n",
    "pairs += [('SSS_covmat_rest',  'per_subj_per_medcond_best_LFP_wholectx_oversample_LFP256_SSS_covmat_rest')]\n",
    "\n",
    "use_tmpdir_to_load\n",
    "\n",
    "\n",
    "#prefixes_to_collect   = ['']\n",
    "groupings_to_collect  = ['merge_nothing']\n",
    "isets_to_collect      = ['basic']\n",
    "\n",
    "use_tmpdir_to_load = 1\n",
    "pptype2res = {}\n",
    "for pptype,subdir_cur in pairs:\n",
    "    print(pptype,subdir_cur)\n",
    "    \n",
    "    sources_type = 'parcel_aal'  # or ''\n",
    "    #groupings_to_collect = ['merge_nothing']; interval_sets_to_collect = ['basic']\n",
    "    groupings_to_collect = None; isets_to_collect = None\n",
    "    prefixes_to_collect = None # = prefixes\n",
    "    r = postp.collectPerformanceInfo3(None,prefixes_to_collect,\n",
    "            interval_groupings=groupings_to_collect,\n",
    "            interval_sets =  isets_to_collect,\n",
    "            nraws_used='[0-9]+', sources_type = sources_type,\n",
    "            printFilenames=1, ndays_before=None,\n",
    "            use_main_LFP_chan=1, remove_large_items = 1,                \n",
    "            list_only=0, allow_multi_fn_same_prefix=0,\n",
    "            use_light_files = 1, rawname_regex_full=0,\n",
    "            subdir=subdir_cur,\n",
    "            start_time=start_time,\n",
    "            end_time=end_time, load=1, use_tmpdir_to_load=use_tmpdir_to_load)\n",
    "    \n",
    "    pptype2res[pptype]  = output_per_raw_cur"
   ]
  },
  {
   "cell_type": "code",
   "execution_count": null,
   "id": "23d8ec5d",
   "metadata": {
    "hidden": true
   },
   "outputs": [],
   "source": [
    "import gc; gc.collect()"
   ]
  },
  {
   "cell_type": "markdown",
   "id": "1dc1d083",
   "metadata": {},
   "source": [
    "# print tables"
   ]
  },
  {
   "cell_type": "code",
   "execution_count": null,
   "id": "03f2a532",
   "metadata": {},
   "outputs": [],
   "source": [
    "d = {'covmat_entire': pptype2res['covmat_entire']}\n",
    "#%debug\n",
    "dftmp = extendDfMultiOPR(df_noext,d)"
   ]
  },
  {
   "cell_type": "code",
   "execution_count": null,
   "id": "97efa939",
   "metadata": {},
   "outputs": [],
   "source": [
    "#from utils_postprocess_HPC import extendDF\n",
    "from utils_postprocess_HPC import extendDfMultiOPR\n",
    "#%debug\n",
    "df2 = extendDfMultiOPR(df_noext,pptype2res)\n",
    "df = df2"
   ]
  },
  {
   "cell_type": "code",
   "execution_count": null,
   "id": "2b48d609",
   "metadata": {},
   "outputs": [],
   "source": [
    "df_all = df"
   ]
  },
  {
   "cell_type": "code",
   "execution_count": null,
   "id": "78581a54",
   "metadata": {},
   "outputs": [],
   "source": [
    "from globvars import gp\n",
    "cols_pctpts = []\n",
    "for it in gp.int_types_basic:\n",
    "    cols_pctpts += [f'numpts_{it}']\n",
    "cols_pctpts"
   ]
  },
  {
   "cell_type": "code",
   "execution_count": null,
   "id": "bc19072b",
   "metadata": {},
   "outputs": [],
   "source": []
  },
  {
   "cell_type": "code",
   "execution_count": null,
   "id": "f2794dee",
   "metadata": {},
   "outputs": [],
   "source": [
    "#prefix_cur_table0 = 'onlyH_act_modLFP'\n",
    "prefix_cur_table0 = 'onlyH_act'\n",
    "prefix_cur_table1 = 'onlyH_mob'\n",
    "prefix_cur_table2 = 'onlyH_compl'\n",
    "prefix_cur_table = 'onlyH'\n",
    "prefl = [f'{prefix_cur_table0}_subskip8@B-B',\n",
    "         f'{prefix_cur_table1}_subskip8@B-B',\n",
    "         f'{prefix_cur_table2}_subskip8@B-B',\n",
    "         f'{prefix_cur_table}_subskip8@B-B']\n",
    "df_all_sub = df_all.query(f'prefix_templ in {prefl} and '\n",
    "    'grouping == \"merge_nothing\" and interval_set == \"basic\"')#.copy()\n",
    "\n",
    "#'rawname'\n",
    "srt = df_all_sub.sort_values(by=['medcond','subject','prefix_templ','pptype'])\n",
    "r = srt[['pptype','prefix_templ', 'subject', 'medcond','bacc']  + \\\n",
    "      [ 'mainLFPside', 'mainLFPside_templ']].copy()\n",
    "#'numpts',\n",
    "r['prefix_templ'] = r['prefix_templ'].str.replace('_subskip8@B-B','')\n",
    "r['prefix_templ'] = r['prefix_templ'].replace({'onlyH':'all 3 Hjorth params'})\n",
    "display(r)\n",
    "rr = r.groupby(['prefix_templ','medcond'])\n",
    "#rr = r.groupby(['prefix_templ'])\n",
    "print('mean = ') \n",
    "display( rr.mean(numeric_only=1) )\n",
    "print('std = ')\n",
    "display( rr.std(numeric_only=1) )"
   ]
  },
  {
   "cell_type": "code",
   "execution_count": null,
   "id": "d16e17ff",
   "metadata": {},
   "outputs": [],
   "source": [
    "#prefix_cur_table = 'onlyH_act_modLFP'\n",
    "#prefl = [f'{prefix_cur_table}_subskip8@B-B']\n",
    "df_all_sub = df_all.query(f'grouping == \"merge_nothing\" and interval_set == \"basic\" and rawname == \"S01_off\"'\n",
    "                         ' and prefix.str.contains(\"LFPand\") and medcond == \"off\"').copy()\n",
    "\n",
    "#'rawname'\n",
    "srt = df_all_sub.sort_values(by=['parcel_group_names','pptype'])\n",
    "r = srt[['pptype','prefix_templ', 'subject', 'medcond','bacc']  + \\\n",
    "      ['numpts2', 'num', 'mainLFPside', 'mainLFPside_templ', 'parcel_group_names']]\n",
    "\n",
    "display(r)\n",
    "# rr = r.groupby(['prefix_templ','medcond'])\n",
    "# #rr = r.groupby(['prefix_templ'])\n",
    "# print('mean = ') \n",
    "# display( rr.mean(numeric_only=1) )\n",
    "# print('std = ')\n",
    "# display( rr.std(numeric_only=1) )"
   ]
  },
  {
   "cell_type": "code",
   "execution_count": null,
   "id": "def75590",
   "metadata": {},
   "outputs": [],
   "source": []
  }
 ],
 "metadata": {
  "kernelspec": {
   "display_name": "cobd",
   "language": "python",
   "name": "cobd"
  },
  "language_info": {
   "codemirror_mode": {
    "name": "ipython",
    "version": 3
   },
   "file_extension": ".py",
   "mimetype": "text/x-python",
   "name": "python",
   "nbconvert_exporter": "python",
   "pygments_lexer": "ipython3",
   "version": "3.8.15"
  }
 },
 "nbformat": 4,
 "nbformat_minor": 5
}
