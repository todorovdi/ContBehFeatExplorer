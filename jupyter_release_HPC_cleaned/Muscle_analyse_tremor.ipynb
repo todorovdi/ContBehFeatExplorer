{
 "cells": [
  {
   "cell_type": "code",
   "execution_count": null,
   "metadata": {},
   "outputs": [],
   "source": []
  },
  {
   "cell_type": "code",
   "execution_count": null,
   "metadata": {},
   "outputs": [],
   "source": [
    "import os,sys\n",
    "import mne\n",
    "import utils  #my code\n",
    "import json\n",
    "import matplotlib.pyplot as plt\n",
    "import numpy as np\n",
    "import h5py\n",
    "%load_ext autoreload\n",
    "%autoreload 2\n",
    "\n",
    "if os.environ.get('DATA_DUSS') is not None:\n",
    "    data_dir = os.path.expandvars('$DATA_DUSS')\n",
    "else:\n",
    "    data_dir = '/home/demitau/data'\n",
    "    \n",
    "\n",
    "\n",
    "rawname_ = 'S01_off_hold'\n",
    "rawname_ = 'S01_on_hold'\n",
    "rawname_ = 'S01_on_move'\n",
    "\n",
    "#rawname_ = 'S02_off_hold'\n",
    "\n",
    "rawname = rawname_ + '_resample_raw.fif'\n",
    "fname_full = os.path.join(data_dir,rawname)\n",
    "    \n",
    "# read file -- resampled to 256 Hz,  Electa MEG, EMG, LFP, EOG channels\n",
    "raw = mne.io.read_raw_fif(fname_full, None)"
   ]
  },
  {
   "cell_type": "code",
   "execution_count": null,
   "metadata": {},
   "outputs": [],
   "source": [
    "reconst_name = rawname_ + '_resample_raw.fif'\n",
    "reconst_fname_full = os.path.join(data_dir,reconst_name)\n",
    "raw = mne.io.read_raw_fif(reconst_fname_full, None)"
   ]
  },
  {
   "cell_type": "code",
   "execution_count": null,
   "metadata": {},
   "outputs": [],
   "source": [
    "emgonly = raw.copy()"
   ]
  },
  {
   "cell_type": "code",
   "execution_count": null,
   "metadata": {},
   "outputs": [],
   "source": [
    "help(emgonly.pick_channels)"
   ]
  },
  {
   "cell_type": "code",
   "execution_count": null,
   "metadata": {},
   "outputs": [],
   "source": [
    "emgonly.load_data()"
   ]
  },
  {
   "cell_type": "code",
   "execution_count": null,
   "metadata": {},
   "outputs": [],
   "source": [
    "#tp for tp in emgonly.get_channel_types() if tp == 'emg'"
   ]
  },
  {
   "cell_type": "code",
   "execution_count": null,
   "metadata": {},
   "outputs": [],
   "source": [
    "chis = mne.pick_channels_regexp(emgonly.ch_names, 'EMG.*old')"
   ]
  },
  {
   "cell_type": "code",
   "execution_count": null,
   "metadata": {},
   "outputs": [],
   "source": [
    "chis"
   ]
  },
  {
   "cell_type": "code",
   "execution_count": null,
   "metadata": {},
   "outputs": [],
   "source": [
    "restr_names = np.array( emgonly.ch_names )[chis]\n",
    "restr_names = restr_names.tolist()\n",
    "\n",
    "#help(emgonly.pick_channels)"
   ]
  },
  {
   "cell_type": "code",
   "execution_count": null,
   "metadata": {},
   "outputs": [],
   "source": [
    "emgonly.pick_channels(restr_names)"
   ]
  },
  {
   "cell_type": "code",
   "execution_count": null,
   "metadata": {},
   "outputs": [],
   "source": [
    "chdata,times = emgonly[emgonly.ch_names]"
   ]
  },
  {
   "cell_type": "code",
   "execution_count": null,
   "metadata": {},
   "outputs": [],
   "source": [
    "dat0 = chdata[0]"
   ]
  },
  {
   "cell_type": "code",
   "execution_count": null,
   "metadata": {},
   "outputs": [],
   "source": [
    "help(emgonly.plot_psd)"
   ]
  },
  {
   "cell_type": "code",
   "execution_count": null,
   "metadata": {},
   "outputs": [],
   "source": [
    "emgonly.ch_names"
   ]
  },
  {
   "cell_type": "code",
   "execution_count": null,
   "metadata": {},
   "outputs": [],
   "source": [
    "emgonly[chname]"
   ]
  },
  {
   "cell_type": "code",
   "execution_count": null,
   "metadata": {},
   "outputs": [],
   "source": [
    "for chname in emgonly.ch_names:\n",
    "    chd, times = emgonly[chname]\n",
    "    psd, freq = plt.psd( chd[0] , Fs= emgonly.info['sfreq'], label=chname)\n",
    "plt.legend()"
   ]
  },
  {
   "cell_type": "code",
   "execution_count": null,
   "metadata": {},
   "outputs": [],
   "source": [
    "help(emgonly.plot_psd)"
   ]
  },
  {
   "cell_type": "code",
   "execution_count": null,
   "metadata": {},
   "outputs": [],
   "source": [
    "y = {}\n",
    "for chname in emgonly.ch_names:\n",
    "    y[chname] = 'eeg'\n",
    "emgonly.set_channel_types(y)"
   ]
  },
  {
   "cell_type": "code",
   "execution_count": null,
   "metadata": {},
   "outputs": [],
   "source": [
    "emgonly.plot_psd(color=['r']*4, fmax=40);"
   ]
  },
  {
   "cell_type": "code",
   "execution_count": null,
   "metadata": {},
   "outputs": [],
   "source": []
  },
  {
   "cell_type": "code",
   "execution_count": null,
   "metadata": {},
   "outputs": [],
   "source": [
    "help(emgonly.filter)"
   ]
  },
  {
   "cell_type": "code",
   "execution_count": null,
   "metadata": {},
   "outputs": [],
   "source": [
    "emgonly.filter(l_freq=10, h_freq=None)"
   ]
  },
  {
   "cell_type": "code",
   "execution_count": null,
   "metadata": {},
   "outputs": [],
   "source": [
    "for i in range(chdata.shape[0]):\n",
    "    plt.hist( chdata[i], bins=100 , alpha=0.7, label=emgonly.ch_names[i])\n",
    "plt.legend()"
   ]
  },
  {
   "cell_type": "code",
   "execution_count": null,
   "metadata": {},
   "outputs": [],
   "source": [
    "for i in [1]:\n",
    "    plt.hist( chdata[i], bins=100 , alpha=0.7, label=emgonly.ch_names[i])\n",
    "plt.legend()"
   ]
  },
  {
   "cell_type": "code",
   "execution_count": null,
   "metadata": {},
   "outputs": [],
   "source": [
    "rect = np.abs( emgonly.get_data() )"
   ]
  },
  {
   "cell_type": "code",
   "execution_count": null,
   "metadata": {},
   "outputs": [],
   "source": [
    "sh = 3e-4\n",
    "for i in range(rect.shape[0]):\n",
    "    plt.plot( times, sh*i+ rect[i], alpha = 0.7, label=emgonly.ch_names[i] )\n",
    "    \n",
    "plt.legend()"
   ]
  },
  {
   "cell_type": "code",
   "execution_count": null,
   "metadata": {},
   "outputs": [],
   "source": [
    "t0,t1 = emgonly.time_as_index([195,210])"
   ]
  },
  {
   "cell_type": "code",
   "execution_count": null,
   "metadata": {},
   "outputs": [],
   "source": [
    "sh = 3e-4\n",
    "for i in range(rect.shape[0]):\n",
    "    plt.plot( times[t0:t1], sh*i+ rect[i][t0:t1], alpha = 0.7, label=emgonly.ch_names[i] )\n",
    "    \n",
    "plt.legend()"
   ]
  },
  {
   "cell_type": "code",
   "execution_count": null,
   "metadata": {},
   "outputs": [],
   "source": [
    "maxtremfreq = 9\n",
    "windowsz = int( emgonly.info['sfreq'] / maxtremfreq ) \n",
    "print( 'wind size is {} s = {} bins'.format(windowsz/emgonly.info['sfreq'], windowsz ))"
   ]
  },
  {
   "cell_type": "markdown",
   "metadata": {},
   "source": [
    "# Smooth rectified"
   ]
  },
  {
   "cell_type": "code",
   "execution_count": null,
   "metadata": {},
   "outputs": [],
   "source": [
    "sh = 6e-4\n",
    "plt.figure(figsize=(14,4))\n",
    "for i in range(rect.shape[0]):\n",
    "    datcur = rect[i]\n",
    "    datcur = np.convolve(datcur, np.ones(windowsz),  mode='same')\n",
    "    ax = plt.subplot(1,2,1)\n",
    "    ax.plot( times[t0:t1], sh*i+ datcur[t0:t1], alpha = 0.7, label=emgonly.ch_names[i] )\n",
    "    ax.legend()\n",
    "    \n",
    "    ax = plt.subplot(1,2,2)\n",
    "    ax.psd(datcur, Fs=emgonly.info['sfreq'], label=emgonly.ch_names[i])\n",
    "    ax.set_xlim(0,20)\n",
    "    \n",
    "    ax.legend()"
   ]
  },
  {
   "cell_type": "code",
   "execution_count": null,
   "metadata": {},
   "outputs": [],
   "source": [
    "b,a"
   ]
  },
  {
   "cell_type": "code",
   "execution_count": null,
   "metadata": {},
   "outputs": [],
   "source": [
    "help( mne.filter.filter_data )"
   ]
  },
  {
   "cell_type": "code",
   "execution_count": null,
   "metadata": {},
   "outputs": [],
   "source": [
    "sfreq = int( emgonly.info['sfreq'] )"
   ]
  },
  {
   "cell_type": "markdown",
   "metadata": {},
   "source": [
    "# highpass smoothened rectification"
   ]
  },
  {
   "cell_type": "code",
   "execution_count": null,
   "metadata": {},
   "outputs": [],
   "source": [
    "sh = 6e-4\n",
    "plt.figure(figsize=(14,4))\n",
    "for i in range(rect.shape[0]):\n",
    "    datcur = rect[i]\n",
    "    datcur = np.convolve(datcur,  np.ones(windowsz),  mode='same')\n",
    "    datcur = mne.filter.filter_data(datcur, sfreq, 3,10 ,verbose=0)\n",
    "    ax = plt.subplot(1,2,1)\n",
    "    ax.plot( times[t0:t1], sh*i+ datcur[t0:t1], alpha = 0.7, label=emgonly.ch_names[i] )\n",
    "    ax.legend()\n",
    "    \n",
    "    ax = plt.subplot(1,2,2)\n",
    "    ax.psd(datcur, Fs=emgonly.info['sfreq'], label=emgonly.ch_names[i])\n",
    "    ax.set_xlim(0,20)\n",
    "    \n",
    "    ax.legend()"
   ]
  },
  {
   "cell_type": "code",
   "execution_count": null,
   "metadata": {},
   "outputs": [],
   "source": [
    "datcur.real"
   ]
  },
  {
   "cell_type": "code",
   "execution_count": null,
   "metadata": {},
   "outputs": [],
   "source": [
    "datcur.imag"
   ]
  },
  {
   "cell_type": "code",
   "execution_count": null,
   "metadata": {},
   "outputs": [],
   "source": [
    "phase"
   ]
  },
  {
   "cell_type": "markdown",
   "metadata": {},
   "source": [
    "# extract amplitude and phase"
   ]
  },
  {
   "cell_type": "code",
   "execution_count": null,
   "metadata": {},
   "outputs": [],
   "source": [
    "#help(plt.hist)"
   ]
  },
  {
   "cell_type": "code",
   "execution_count": null,
   "metadata": {},
   "outputs": [],
   "source": [
    "axs_.shape"
   ]
  },
  {
   "cell_type": "code",
   "execution_count": null,
   "metadata": {},
   "outputs": [],
   "source": [
    "import scipy.signal as sig"
   ]
  },
  {
   "cell_type": "code",
   "execution_count": null,
   "metadata": {},
   "outputs": [],
   "source": [
    "%matplotlib qt\n",
    "sh = 6e-4\n",
    "nr = 4\n",
    "nc = 2\n",
    "fig,axs = plt.subplots(nrows=nr,ncols=nc, figsize=(16,14)) \n",
    "axs_ = axs.T.reshape(axs.size)\n",
    "alpha = 0.5\n",
    "for i in range(rect.shape[0]):\n",
    "    datcur = rect[i]\n",
    "    datcur = np.convolve(datcur,  np.ones(windowsz),  mode='same')\n",
    "    datcur = mne.filter.filter_data(datcur, sfreq, 3,10 ,verbose=0)\n",
    "    #datcur = mne.filter.filter_data(datcur, sfreq, 3,10 ,verbose=0)\n",
    "    datcur = sig.hilbert(datcur)\n",
    "    ang = np.angle(datcur)\n",
    "    instphase = np.unwrap(ang)\n",
    "    instfreq = (np.diff(instphase) / (2.0*np.pi) * sfreq)\n",
    "    instampl = np.abs(datcur)\n",
    "    \n",
    "    ii = 0\n",
    "    ax = axs[ii,0]; \n",
    "    ax.plot( times[t0:t1], sh*i+ datcur.real[t0:t1], alpha = alpha, label=emgonly.ch_names[i] )\n",
    "    ax.set_title('Hilbert real')\n",
    "    ax.axhline(y=sh*i, ls=':')\n",
    "    ax.legend()\n",
    "    \n",
    "    ax = axs[ii,1]; \n",
    "    ax.hist( datcur.real, bins=100 , alpha=alpha, label=emgonly.ch_names[i])\n",
    "    \n",
    "    ii+=1\n",
    "    ax = axs[ii,0]; \n",
    "    ax.plot( times[t0:t1], sh*i+ ang[t0:t1], alpha = alpha, label=emgonly.ch_names[i] )\n",
    "    #ax.axhline(y=sh*i, ls=':')\n",
    "    ax.set_title('Hilbert phase')\n",
    "    \n",
    "    ax = axs[ii,1]; \n",
    "    ax.hist( instphase, bins=100 , alpha=alpha, label=emgonly.ch_names[i])\n",
    "    \n",
    "    ii+=1\n",
    "    ax = axs[ii,0]; \n",
    "    shfreq = 0\n",
    "    #shfreq = 40\n",
    "    ax.plot( times[t0:t1], shfreq*i+ instfreq[t0:t1], alpha = alpha, label=emgonly.ch_names[i] )\n",
    "    ax.axhline(y=shfreq*i, ls=':')\n",
    "    ax.set_title('Hilbert freq')\n",
    "    ax.set_ylim(-10,10)\n",
    "    \n",
    "    ax = axs[ii,1]; ii+=1\n",
    "    ax.hist( instfreq, bins=100 , range=(-10,10), alpha=alpha, label=emgonly.ch_names[i])\n",
    "    #ax.set_xlim(-10,10)\n",
    "    \n",
    "    \n",
    "    ax = axs[ii,0]; \n",
    "    ax.plot( times[t0:t1], sh*i+ instampl[t0:t1], alpha = alpha, label=emgonly.ch_names[i] )\n",
    "    ax.axhline(y=sh*i, ls=':')\n",
    "    ax.set_title('Hilbert abs')\n",
    "    \n",
    "    ax = axs[ii,1]; ii+=1\n",
    "    ax.hist( instampl, bins=100 , alpha=alpha, label=emgonly.ch_names[i])\n",
    "    \n",
    "    ax.legend()\n"
   ]
  },
  {
   "cell_type": "code",
   "execution_count": null,
   "metadata": {},
   "outputs": [],
   "source": [
    "for i in range(chdata.shape[0]):\n",
    "    plt.hist( chdata[i], bins=100 , alpha=0.7, label=emgonly.ch_names[i])\n",
    "plt.legend()"
   ]
  },
  {
   "cell_type": "code",
   "execution_count": null,
   "metadata": {},
   "outputs": [],
   "source": [
    "# high passed filtered\n",
    "rectconvraw = emgonly.copy()\n",
    "#hilbraw.plot(duration=2)\n",
    "\n",
    "rectconvraw.apply_function( np.abs)\n",
    "rectconvraw.apply_function( lambda x: np.convolve(x,  np.ones(windowsz),  mode='same') )\n",
    "rectconvraw.apply_function( lambda x: x / np.quantile(x,0.75) )\n",
    "hilbraw = rectconvraw.copy()\n",
    "hilbraw.filter(l_freq=2,h_freq=10)\n",
    "hilbraw.apply_hilbert()\n",
    "\n",
    "# smoothness of hilb_freq depends heavilly on the band we use for filtering hilbraw\n",
    "hilb_amp = hilbraw.copy()\n",
    "hilb_amp.apply_function(np.abs)\n",
    "\n",
    "hilb_phase = hilbraw.copy()\n",
    "hilb_phase.apply_function(np.angle)\n",
    "#hilb_phase.apply_function( lambda x: x.real)\n",
    "\n",
    "hilb_freq = hilb_phase.copy()\n",
    "hilb_freq.apply_function(lambda x: (np.diff(np.unwrap(x.real),prepend=[0]) / (2.0*np.pi) * sfreq))"
   ]
  },
  {
   "cell_type": "code",
   "execution_count": null,
   "metadata": {},
   "outputs": [],
   "source": [
    "rectconv_fname_full = os.path.join(data_dir, '{}_emg_rectconv.fif'.format(rawname_) )\n",
    "rectconvraw.save(rectconv_fname_full, overwrite=1)"
   ]
  },
  {
   "cell_type": "code",
   "execution_count": null,
   "metadata": {},
   "outputs": [],
   "source": [
    "d = {}\n",
    "for chn in hilb_freq.ch_names:\n",
    "    d[chn]='emg'\n",
    "hilb_freq.set_channel_types(d)"
   ]
  },
  {
   "cell_type": "code",
   "execution_count": null,
   "metadata": {},
   "outputs": [],
   "source": [
    "hilb_freq.info['chs']"
   ]
  },
  {
   "cell_type": "code",
   "execution_count": null,
   "metadata": {},
   "outputs": [],
   "source": [
    "hilb_freq.info"
   ]
  },
  {
   "cell_type": "code",
   "execution_count": null,
   "metadata": {},
   "outputs": [],
   "source": [
    "hilb_phase.get_data()"
   ]
  },
  {
   "cell_type": "code",
   "execution_count": null,
   "metadata": {},
   "outputs": [],
   "source": [
    "phd.shape"
   ]
  },
  {
   "cell_type": "code",
   "execution_count": null,
   "metadata": {},
   "outputs": [],
   "source": [
    "phd,tms = hilb_freq[:]\n",
    "plt.plot(tms,phd[0].real)\n",
    "plt.xlim(300,400)\n",
    "plt.ylim(1,10)"
   ]
  },
  {
   "cell_type": "code",
   "execution_count": null,
   "metadata": {},
   "outputs": [],
   "source": [
    "phd,tms = hilb_phase[:]\n",
    "plt.plot(tms,phd[0].real)\n",
    "plt.xlim(0,5)"
   ]
  },
  {
   "cell_type": "code",
   "execution_count": null,
   "metadata": {},
   "outputs": [],
   "source": [
    "phd[0]"
   ]
  },
  {
   "cell_type": "code",
   "execution_count": null,
   "metadata": {},
   "outputs": [],
   "source": [
    "phd,tms = hilb_amp[:]\n",
    "plt.plot(tms,phd.T.real)\n",
    "plt.xlim(300,None)\n",
    "#plt.ylim(1,10)"
   ]
  },
  {
   "cell_type": "code",
   "execution_count": null,
   "metadata": {},
   "outputs": [],
   "source": [
    "%matplotlib inline\n",
    "plt.figure(figsize=(12,10))\n",
    "phd,tms = hilb_freq[:]\n",
    "ax = plt.subplot(2,2,1)\n",
    "ax.plot(tms,phd.T.real)\n",
    "ax.set_xlim(300,370)\n",
    "ax.set_ylim(0,10)\n",
    "\n",
    "ax = plt.subplot(2,2,2)\n",
    "ax.plot(tms,phd.T.real)\n",
    "ax.set_xlim(180,220)\n",
    "ax.set_ylim(0,10)\n",
    "\n",
    "\n",
    "#plt.ylim(1,10)"
   ]
  },
  {
   "cell_type": "code",
   "execution_count": null,
   "metadata": {},
   "outputs": [],
   "source": [
    "%matplotlib inline\n",
    "plt.figure(figsize=(12,10))\n",
    "phd,tms = rectconvraw[:]\n",
    "ax = plt.subplot(2,2,1)\n",
    "ax.plot(tms,phd.T.real)\n",
    "ax.set_xlim(300,370)\n",
    "\n",
    "ax = plt.subplot(2,2,2)\n",
    "ax.plot(tms,phd.T.real)\n",
    "ax.set_xlim(180,220)\n",
    "\n",
    "phd,tms = hilb_amp[:]\n",
    "ax = plt.subplot(2,2,3)\n",
    "ax.plot(tms,phd.T.real)\n",
    "ax.set_xlim(300,370)\n",
    "\n",
    "ax = plt.subplot(2,2,4)\n",
    "ax.plot(tms,phd.T.real)\n",
    "ax.set_xlim(180,220)\n",
    "\n",
    "\n",
    "#plt.ylim(1,10)"
   ]
  },
  {
   "cell_type": "code",
   "execution_count": null,
   "metadata": {},
   "outputs": [],
   "source": [
    "hilb_freq.plot(duration=2)"
   ]
  },
  {
   "cell_type": "code",
   "execution_count": null,
   "metadata": {},
   "outputs": [],
   "source": [
    "hilb_phase.plot(duration=2)"
   ]
  },
  {
   "cell_type": "code",
   "execution_count": null,
   "metadata": {},
   "outputs": [],
   "source": [
    "hilb_amp.plot(duration=2)"
   ]
  },
  {
   "cell_type": "code",
   "execution_count": null,
   "metadata": {},
   "outputs": [],
   "source": [
    "import scipy.signal as sig"
   ]
  },
  {
   "cell_type": "code",
   "execution_count": null,
   "metadata": {},
   "outputs": [],
   "source": [
    "sig.hilbert"
   ]
  },
  {
   "cell_type": "code",
   "execution_count": null,
   "metadata": {},
   "outputs": [],
   "source": [
    "help(sig.butter)"
   ]
  },
  {
   "cell_type": "code",
   "execution_count": null,
   "metadata": {},
   "outputs": [],
   "source": [
    "help(sig.hilbert)"
   ]
  },
  {
   "cell_type": "code",
   "execution_count": null,
   "metadata": {},
   "outputs": [],
   "source": [
    "help(sig.hilbert2)"
   ]
  },
  {
   "cell_type": "code",
   "execution_count": null,
   "metadata": {},
   "outputs": [],
   "source": [
    "sig.hilbert2(np.ones(20))"
   ]
  },
  {
   "cell_type": "code",
   "execution_count": null,
   "metadata": {},
   "outputs": [],
   "source": []
  }
 ],
 "metadata": {
  "kernelspec": {
   "display_name": "Python 3",
   "language": "python",
   "name": "python3"
  },
  "language_info": {
   "codemirror_mode": {
    "name": "ipython",
    "version": 3
   },
   "file_extension": ".py",
   "mimetype": "text/x-python",
   "name": "python",
   "nbconvert_exporter": "python",
   "pygments_lexer": "ipython3",
   "version": "3.6.9"
  },
  "varInspector": {
   "cols": {
    "lenName": 16,
    "lenType": 16,
    "lenVar": 40
   },
   "kernels_config": {
    "python": {
     "delete_cmd_postfix": "",
     "delete_cmd_prefix": "del ",
     "library": "var_list.py",
     "varRefreshCmd": "print(var_dic_list())"
    },
    "r": {
     "delete_cmd_postfix": ") ",
     "delete_cmd_prefix": "rm(",
     "library": "var_list.r",
     "varRefreshCmd": "cat(var_dic_list()) "
    }
   },
   "types_to_exclude": [
    "module",
    "function",
    "builtin_function_or_method",
    "instance",
    "_Feature"
   ],
   "window_display": false
  }
 },
 "nbformat": 4,
 "nbformat_minor": 2
}
