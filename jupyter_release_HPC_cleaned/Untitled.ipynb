{
 "cells": [
  {
   "cell_type": "code",
   "execution_count": null,
   "id": "90ab9823-1bb0-4fd0-af67-353bbe21364a",
   "metadata": {},
   "outputs": [],
   "source": [
    "pwd"
   ]
  },
  {
   "cell_type": "markdown",
   "id": "bc038cc6",
   "metadata": {},
   "source": [
    "# fds"
   ]
  },
  {
   "cell_type": "code",
   "execution_count": null,
   "id": "94df1bf5",
   "metadata": {},
   "outputs": [],
   "source": [
    "import numpy"
   ]
  }
 ],
 "metadata": {
  "kernelspec": {
   "display_name": "cobd",
   "language": "python",
   "name": "cobd"
  },
  "language_info": {
   "codemirror_mode": {
    "name": "ipython",
    "version": 3
   },
   "file_extension": ".py",
   "mimetype": "text/x-python",
   "name": "python",
   "nbconvert_exporter": "python",
   "pygments_lexer": "ipython3",
   "version": "3.8.15"
  }
 },
 "nbformat": 4,
 "nbformat_minor": 5
}
