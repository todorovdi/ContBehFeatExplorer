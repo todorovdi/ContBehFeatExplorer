{
 "cells": [
  {
   "cell_type": "code",
   "execution_count": null,
   "id": "444beac2",
   "metadata": {},
   "outputs": [],
   "source": [
    "%load_ext autoreload\n",
    "%autoreload 2"
   ]
  },
  {
   "cell_type": "code",
   "execution_count": null,
   "id": "2715f1f8",
   "metadata": {},
   "outputs": [],
   "source": [
    "%load_ext autoreload\n",
    "%autoreload 2\n",
    "\n",
    "from IPython.display import Audio\n",
    "sound_file = '../beep-06.mp3'\n",
    "\n",
    "import globvars as gv\n",
    "import utils\n",
    "import utils_tSNE as utsne\n",
    "import utils_preproc as upre\n",
    "\n",
    "import os\n",
    "import sys\n",
    "import mne\n",
    "import json\n",
    "import matplotlib.pyplot as plt\n",
    "import numpy as np\n",
    "import h5py\n",
    "import multiprocessing as mpr\n",
    "import matplotlib as mpl\n",
    "import time\n",
    "import gc;\n",
    "import scipy.signal as sig\n",
    "import pandas as pd \n",
    "\n",
    "import numpy as np\n",
    "import utils_postprocess_HPC as postp\n",
    "import pymatreader\n",
    "import re\n",
    "\n",
    "data_dir = gv.data_dir\n",
    "from os.path import join as pjoin\n",
    "\n",
    "light_only = 1\n",
    "#light_only = 0\n",
    "ndaysBefore = None\n",
    "\n",
    "from dateutil import parser\n",
    "# start_time = parser.parse(\"6 Sept 2021 19:05:15\")\n",
    "#start_time = parser.parse(\"22 Sept 2021 00:36:00\")\n",
    "start_time = parser.parse(\"10 Nov 2021 00:05:15\")\n",
    "end_time = parser.parse(\"14 Oct 2022 21:21:45\")\n",
    "\n",
    "ndaysBefore = None\n",
    "#subdir = 'nointerp'\n",
    "#subdir = 'nofeatsel'\n",
    "subdir = 'joint2_noskip'\n",
    "lookup_dir = pjoin(gv.data_dir,subdir)\n",
    "recent = postp.listRecent(days=ndaysBefore, lookup_dir= lookup_dir,\n",
    "                          start_time=start_time,\n",
    "                                   end_time=end_time)\n",
    "\n",
    "rawname_regex = '([S0-9,]+)'\n",
    "#rawname_regex = '([S0-9]+_[a-z]+)'\n",
    "re1 = re.compile('_\\!_'+rawname_regex+'_.*')\n",
    "re2 = re.compile('_'+rawname_regex+'_.*')\n",
    "print(len(recent))\n",
    "rawnames = []\n",
    "for lf in recent:\n",
    "    st = 0\n",
    "    if light_only:\n",
    "        if not lf.startswith('_!'):\n",
    "            continue\n",
    "    if light_only:\n",
    "        r = re.match(re1,lf)\n",
    "    else:\n",
    "        r = re.match(re2,lf)\n",
    "    if r is None:\n",
    "        print('None',lf)\n",
    "        continue\n",
    "    cr = r.groups()[0]\n",
    "    if len(cr) < 8:\n",
    "        print(lf)\n",
    "        continue\n",
    "    rawnames += [ cr ]\n",
    "rawnames = list(sorted(set(rawnames)))\n",
    "print(rawnames)\n",
    "\n",
    "import utils_postprocess_HPC as postp\n",
    "prefixes = postp.listRecentPrefixes(days = ndaysBefore, light_only=light_only, \n",
    "                                    lookup_dir= lookup_dir, \n",
    "                                    custom_rawname_regex = rawname_regex, \n",
    "                                    start_time=start_time,\n",
    "                                   end_time=end_time)\n",
    "display(prefixes)"
   ]
  },
  {
   "cell_type": "code",
   "execution_count": null,
   "id": "cd157df3",
   "metadata": {},
   "outputs": [],
   "source": [
    "#TODO save orig filename so that it is easier to find"
   ]
  },
  {
   "cell_type": "code",
   "execution_count": null,
   "id": "ac487da8",
   "metadata": {},
   "outputs": [],
   "source": [
    "subdir"
   ]
  },
  {
   "cell_type": "code",
   "execution_count": null,
   "id": "743f4f19",
   "metadata": {},
   "outputs": [],
   "source": [
    "rawnames"
   ]
  },
  {
   "cell_type": "code",
   "execution_count": null,
   "id": "3026c684",
   "metadata": {},
   "outputs": [],
   "source": [
    "# #label_types = ['allsep', 'trem_vs_all', 'trem_vs_quiet']\n",
    "# #label_types = ['allsep']\n",
    "\n",
    "# nraws_used_PCA = 2\n",
    "\n",
    "# set_explicit_nraws_used_PCA = 1\n",
    "# set_explicit_n_feats_PCA = 0\n",
    "# set_explicit_dim_PCA = 0\n",
    "\n",
    "# try:\n",
    "#     print(output_per_raw.keys() )\n",
    "# except (NameError,AttributeError) as e:\n",
    "#     output_per_raw = None\n",
    "    \n",
    "#subdir='SSS'\n",
    "#%debug\n",
    "sources_type = 'parcel_aal'  # or ''\n",
    "#subdir =''\n",
    "r = postp.collectPerformanceInfo3(None,prefixes, nraws_used='[0-9]{2,4}',                                                                                                    \n",
    "                                          sources_type = sources_type, \n",
    "                                           printFilenames=1,                                 \n",
    "                                            ndays_before=ndaysBefore,\n",
    "                                            use_main_LFP_chan=1,\n",
    "                                             subdir=subdir, remove_large_items = 1,\n",
    "                                 list_only=0, allow_multi_fn_same_prefix=0,\n",
    "                                 use_light_files = light_only, rawname_regex_full=1,\n",
    "                                 start_time=start_time,\n",
    "                                   end_time=end_time)\n",
    "#nraws_used='(10,12,20,24)'\n",
    "#output_per_raw,Ximp_per_raw,gis_per_raw = r\n",
    "output_per_raw,_,_ = r\n",
    "print('len(output_per_raw) =', len(output_per_raw))\n",
    "import gc; gc.collect()"
   ]
  },
  {
   "cell_type": "code",
   "execution_count": null,
   "id": "dd97af0d",
   "metadata": {},
   "outputs": [],
   "source": [
    "tpll = pp.multiLevelDict2TupleList(output_per_raw,4,3)\n",
    "#[ tpl[:-1] for tpl in tpll]\n",
    "set( [ tpl[-3:-1] for tpl in tpll] )"
   ]
  },
  {
   "cell_type": "code",
   "execution_count": null,
   "id": "5b634567",
   "metadata": {},
   "outputs": [],
   "source": [
    "import utils_postprocess as pp\n",
    "tpll = pp.multiLevelDict2TupleList(output_per_raw,4,3)\n",
    "#tpll [0][:4]  \n",
    "\n",
    "mult_clf_output = tpll[0][-1]\n",
    "all_thrs = mult_clf_output['feat_variance_q_thr'][-3:]\n",
    "#thr0,thr1,thr2='0.6','0.75','0.9'\n",
    "thr0,thr1,thr2='0.87','0.92','0.99'\n",
    "\n",
    "all_LDA =  []\n",
    "all_XGB = ['all_present_features','after_VF_threshold']\n",
    "\n",
    "for thr_cur in all_thrs:\n",
    "    all_XGB += [ f'best_PCA-derived_features_{thr_cur}']\n",
    "\n",
    "perf_to_use_list = []\n",
    "if len(all_LDA):\n",
    "    for v in all_LDA[1:]:\n",
    "        perf_to_use_list += [('LDA',all_LDA[0],v)]\n",
    "for v in all_XGB[1:]:\n",
    "    perf_to_use_list += [('XGB',all_XGB[0],v,'across_subj')]\n",
    "for v in all_XGB[1:]:\n",
    "    perf_to_use_list += [('XGB',all_XGB[0],v,'across_medcond')]\n",
    "for v in all_XGB[1:]:\n",
    "    perf_to_use_list += [('XGB',all_XGB[0],v,'across_subj,medcond')]    \n",
    "\n",
    "###########################################\n",
    "display(perf_to_use_list)\n",
    "\n",
    "# to_show = [('allsep','merge_nothing','basic'), ('trem_vs_all','merge_all_not_trem','basic'),\n",
    "#         ('trem_vs_2class','merge_movements','basic')]\n",
    "to_show = [('trem_vs_mvt','merge_movements','trem_vs_hold&move'),\n",
    "            ('trem_vs_2class','merge_movements','basic') ]\n",
    "to_show += [('trem_vs_all','merge_movements', 'trem_vs_hold&move')]\n",
    "          #('trem_vs_quiet','merge_nothing','trem_vs_quiet') ]\n",
    "#          ('allsep','merge_nothing','basic')]\n",
    "to_show = [('allsep','merge_nothing','basic')]\n",
    "\n",
    "\n",
    "# warnings.simplefilter('error')\n",
    "# table_info_per_perf_type, table_per_perf_type = \\\n",
    "#     postp.prepTableInfo2(output_per_raw, prefixes=prefixes, \n",
    "#     perf_to_use_list=perf_to_use_list)\n",
    "\n",
    "#%debug\n",
    "# import warnings\n",
    "# with warnings.catch_warnings():\n",
    "#warnings.simplefilter('error')\n",
    "table_info_per_perf_type, table_per_perf_type = \\\n",
    "    postp.prepTableInfo3(output_per_raw, prefixes=prefixes, \n",
    "    perf_to_use_list=perf_to_use_list, to_show=to_show)"
   ]
  },
  {
   "cell_type": "code",
   "execution_count": null,
   "id": "ace1972a",
   "metadata": {},
   "outputs": [],
   "source": [
    "from utils_postprocess_HPC import printOutputInfo\n",
    "printOutputInfo(output_per_raw)"
   ]
  },
  {
   "cell_type": "code",
   "execution_count": null,
   "id": "58b90de4",
   "metadata": {},
   "outputs": [],
   "source": [
    "mco = tpll[0][-1]\n",
    "from utils_postprocess_HPC import computeImprovementsPerParcelGroup,plotTableInfoBrain\n",
    "from utils_postprocess_HPC import filterOutputs\n",
    "\n",
    "prefs = [pref for pref in prefixes if pref.startswith('onlyH_act_only') ]\n",
    "prefs += [pref for pref in prefixes if pref.startswith('onlyH_act_exclude')]\n",
    "prefs += ['onlyH_act']\n",
    "outputs_filtered = postp.filterOutputs(output_per_raw,prefs=prefs, grps = ['merge_nothing'] )\n",
    "\n",
    "for mode in ['only','exclude']:\n",
    "    #%debug\n",
    "    impr_wrt_base_per_medcond_per_pgn, impr_per_medcond_per_pgn, impr_wrtLFP_per_medcond_per_pgn, perfs_aver_per_medcond =\\\n",
    "        computeImprovementsPerParcelGroup(outputs_filtered, 'onlyH_act', mode = mode, inv_exclude = True)\n",
    "#        return impr_wrt_base_per_medcond_per_pgn, impr_per_medcond_per_pgn, impr_wrtLFP_per_medcond_per_pgn, perfs_aver_per_medcond\n",
    "\n",
    "    for medcond in impr_per_medcond_per_pgn.keys():\n",
    "        axs,crlb = plotTableInfoBrain(impr_wrt_base_per_medcond_per_pgn , medcond, mco, \n",
    "                           head_subj_ind=None, mode=mode, subdir=subdir)\n",
    "        \n",
    "        \n",
    "        plt.close()\n",
    "        #break\n",
    "    #break"
   ]
  },
  {
   "cell_type": "code",
   "execution_count": null,
   "id": "ae34c16c",
   "metadata": {},
   "outputs": [],
   "source": [
    "#perf_tuple = perf_to_use_list[0]\n",
    "#%debug\n",
    "#for perf_tuple in perf_to_use_list[:1]:\n",
    "for perf_tuple in perf_to_use_list:\n",
    "    print(perf_tuple)\n",
    "    postp.plotTableInfos2(table_info_per_perf_type, perf_tuple=perf_tuple, \n",
    "                          output_subdir=subdir) \n",
    "    plt.close()\n",
    "    import gc;gc.collect()\n",
    "    #break\n",
    "#postp.plotTableInfos2(table_info_per_perf_type, perf_kind='LDA', keys = None, output_subdir=''): "
   ]
  },
  {
   "cell_type": "code",
   "execution_count": null,
   "id": "6ac453a2",
   "metadata": {},
   "outputs": [],
   "source": [
    "#perf_to_use_list"
   ]
  },
  {
   "cell_type": "code",
   "execution_count": null,
   "id": "f531210e",
   "metadata": {},
   "outputs": [],
   "source": [
    "perf_to_use_list"
   ]
  },
  {
   "cell_type": "code",
   "execution_count": null,
   "id": "a1f63e2a",
   "metadata": {},
   "outputs": [],
   "source": [
    "####################################### plot table infos\n",
    "#perf_tuple = perf_to_use_list[0]\n",
    "#%debug\n",
    "#for perf_tuple in perf_to_use_list[:1]:\n",
    "for perf_tuple in perf_to_use_list:\n",
    "    print(perf_tuple)\n",
    "    postp.plotTableInfos2(table_info_per_perf_type, perf_tuple=perf_tuple, \n",
    "                          output_subdir=subdir,use_recalc_perf=False, \n",
    "                          prefixes_sorted=prefixes, crop_rawname=slice(-3,None)) \n",
    "    plt.close()\n",
    "    import gc;gc.collect()\n",
    "    #break\n",
    "#postp.plotTableInfos2(table_info_per_perf_type, perf_kind='LDA', keys = None, output_subdir=''): \n",
    "\n",
    "###########################################################\n",
    "## load labels (not important where from exactly)\n",
    "rncur = 'S01_off_hold'\n",
    "sind_str,mc,tk  = utils.getParamsFromRawname(rncur)\n",
    "sources_type='parcel_aal'\n",
    "src_file_grouping_ind = 10\n",
    "src_rec_info_fn = '{}_{}_grp{}_src_rec_info'.format(rncur,\n",
    "                                                    sources_type,src_file_grouping_ind)\n",
    "src_rec_info_fn_full = os.path.join(gv.data_dir, src_rec_info_fn + '.npz')\n",
    "rec_info = np.load(src_rec_info_fn_full, allow_pickle=True)\n",
    "print( list(rec_info.keys()) )\n",
    "\n",
    "labels_dict = rec_info['label_groups_dict'][()]"
   ]
  },
  {
   "cell_type": "code",
   "execution_count": null,
   "id": "41f0f04d",
   "metadata": {},
   "outputs": [],
   "source": [
    "prefixes"
   ]
  },
  {
   "cell_type": "code",
   "execution_count": null,
   "id": "53515787",
   "metadata": {},
   "outputs": [],
   "source": [
    "tpll = pp.multiLevelDict2TupleList(output_per_raw,4,3)\n",
    "[ tpl[:-1] for tpl in tpll]\n",
    "#set( [ tpl[-3:-1] for tpl in tpll] )"
   ]
  },
  {
   "cell_type": "code",
   "execution_count": null,
   "id": "5d760dc1",
   "metadata": {},
   "outputs": [],
   "source": []
  },
  {
   "cell_type": "markdown",
   "id": "f1384ceb",
   "metadata": {},
   "source": [
    "# Main feature signif plots"
   ]
  },
  {
   "cell_type": "code",
   "execution_count": null,
   "id": "9ac4a341",
   "metadata": {},
   "outputs": [],
   "source": [
    "prefixes"
   ]
  },
  {
   "cell_type": "code",
   "execution_count": null,
   "id": "2506efbd",
   "metadata": {},
   "outputs": [],
   "source": [
    "prefixes_to_use"
   ]
  },
  {
   "cell_type": "code",
   "execution_count": null,
   "id": "b3d374ae",
   "metadata": {},
   "outputs": [],
   "source": [
    "import utils_postprocess as pp\n",
    "from utils_postprocess_HPC import loadFullScores \n",
    "from matplotlib.lines import Line2D\n",
    "\n",
    "\n",
    "#%debug\n",
    "hh_ = None\n",
    "#for prefix_cur in list(sorted( set(prefixes) - set(['all']) )):\n",
    "#for prefix_cur in ['cross_freqmod_beta,gamma:HFO']:\n",
    "#for prefix_cur in [ 'LFPrel_noself']:\n",
    "#for prefix_cur in [ 'onlyH']:\n",
    "#for prefix_cur in [ 'LFPrel_noself_onlyCon']:\n",
    "#for prefix_cur in [ 'allb_beta', 'onlyH']:\n",
    "#for prefix_cur in [  'allb_beta', 'allb_tremor', 'allb_gamma', 'onlyH']:\n",
    "#for prefix_cur in [ 'LFPrel_noself_onlyRbcorr', 'LFPrel_noself_onlyCon', 'modSrc_self',  'onlyCBSrc', 'onlyMotorSrc']:\n",
    "#for prefix_cur in [ 'LFPrel_noself_onlyBpcorr', 'LFPrel_noself']:\n",
    "#for prefix_cur in [ 'all']:\n",
    "#for tpl_ in [('onlyH',10), ('LFPrel_noself',25)]:\n",
    "#for tpl_ in [('LFPrel_noself_onlyRbcorr',15)]:\n",
    "#for tpl_ in [ ('allb_beta',15),  ('allb_gamma',15), ('allb_tremor',15) ]:\n",
    "#for tpl_ in [ ('LFPrel_noself_onlyBpcorr',25)]:    \n",
    "#for prefix_cur in [ 'onlyH', 'LFPrel_noself', 'allb_beta']:\n",
    "#for prefix_cur in prefixes:\n",
    "\n",
    "pref_hh_tuples = [ ('all',40)]\n",
    "pref_hh_tuples = [('LFPrel_noself',35) ]\n",
    "pref_hh_tuples = [ ('onlyH',10)]\n",
    "\n",
    "subdir_short = 'joint2_noskip'\n",
    "grpit_tpl = 'merge_movements','basic'\n",
    "\n",
    "grpit_tpl = 'merge_movements','trem_vs_hold&move'\n",
    "\n",
    "\n",
    "\n",
    "\n",
    "from IPython import get_ipython; ipython = get_ipython()\n",
    "runstr_ = '%run -i ../run/_subrun_plot_imp_HPC.py'\n",
    "ipython.magic(runstr_)"
   ]
  },
  {
   "cell_type": "code",
   "execution_count": null,
   "id": "1fe897e8",
   "metadata": {},
   "outputs": [],
   "source": [
    "import utils_postprocess as pp\n",
    "from utils_postprocess_HPC import loadFullScores \n",
    "from matplotlib.lines import Line2D\n",
    "collect_SHAP_outs = []\n",
    "\n",
    "#%debug\n",
    "hh_ = None\n",
    "#for prefix_cur in list(sorted( set(prefixes) - set(['all']) )):\n",
    "#for prefix_cur in ['cross_freqmod_beta,gamma:HFO']:\n",
    "#for prefix_cur in [ 'LFPrel_noself']:\n",
    "#for tpl_ in [ ('onlyH',10)]:\n",
    "#for prefix_cur in [ 'LFPrel_noself_onlyCon']:\n",
    "#for prefix_cur in [ 'allb_beta', 'onlyH']:\n",
    "#for prefix_cur in [  'allb_beta', 'allb_tremor', 'allb_gamma', 'onlyH']:\n",
    "#for tpl_ in [ 'LFPrel_noself_onlyRbcorr', 'LFPrel_noself_onlyCon', 'modSrc_self',  'onlyCBSrc', 'onlyMotorSrc']:\n",
    "#for prefix_cur in [ 'LFPrel_noself_onlyBpcorr', 'LFPrel_noself']:\n",
    "#for prefix_cur in [ 'all']:\n",
    "#for tpl_ in [('LFPrel_noself',25), ('onlyH',10)]:\n",
    "for tpl_ in [ ('LFPrel_noself_onlyRbcorr',15)]:\n",
    "#for tpl_ in [ ('allb_beta',15)]:\n",
    "#for prefix_cur in [  ('allb_gamma',15), ('allb_tremor',15) ]:\n",
    "#for tpl_ in [ ('allb_beta',15),  ('allb_gamma',15), ('allb_tremor',15) ]:\n",
    "#for tpl_ in [('LFPrel_noself_onlyBpcorr',25)]:\n",
    "#for prefix_cur in [ 'onlyH', 'LFPrel_noself', 'allb_beta']:\n",
    "#for prefix_cur in prefixes:\n",
    "#for tpl_ in [ ('LFPrel_noself_onlyBpcorr',25)]:\n",
    "    if isinstance(tpl_,str):\n",
    "        prefix_cur = tpl_\n",
    "    else:\n",
    "        prefix_cur,hh_ = tpl_\n",
    "        \n",
    "    prefixes_to_use = [prefix_cur]\n",
    "\n",
    "#     outputs_grouped = pp.groupOutputs(output_per_raw, prefixes_to_use,\n",
    "#                                       ['merge_movements'],['trem_vs_hold&move'])\n",
    "    outputs_grouped = pp.groupOutputs(output_per_raw, prefixes_to_use,\n",
    "                                      ['merge_movements'],['basic'])\n",
    "#     outputs_grouped = pp.groupOutputs(output_per_raw, prefixes_to_use,\n",
    "#                                       ['merge_nothing'],['trem_vs_quiet'])\n",
    "    if not len(outputs_grouped):\n",
    "        continue\n",
    "    postp.loadFullScores(outputs_grouped)\n",
    "    #pp.printDict(outputs_grouped,1,print_leaves=1)\n",
    "\n",
    "\n",
    "    use_light_file = 1\n",
    "    perf_thr = 0.7\n",
    "\n",
    "    rname_crop = slice(0,3)\n",
    "\n",
    "    #(prefix,grp,int_type), output = u\n",
    "    print(f'-- {prefix_cur}: Starting plotting for {len(outputs_grouped)} grouped outputs')\n",
    "    info_cur = {}\n",
    "    #sens,spec = res[rn].get(pref, (np.nan, np.nan))\n",
    "    (prefix,grp,int_type), mult_clf_output = list(outputs_grouped.values())[0]\n",
    "\n",
    "    output_subdir = ''\n",
    "    rnstr = ';'.join( list( outputs_grouped.values() )[0][0] )\n",
    "    out_name_plot = f'{\",\".join((prefix,grp,int_type) ) }_feat_signif'        \n",
    "    #chnames_LFP = ['LFPR01', 'LFPR12', 'LFPR23']\n",
    "\n",
    "    str_to_put_ = ''\n",
    "    #     pvec = mult_clf_output['XGB_analysis_versions']['all_present_features']['perf_dict']['perf_aver']\n",
    "    #     sens,spec,F1 = pvec\n",
    "    #     str_to_put_ =  '{:.0f}%,{:.0f}%,{:.0f}%'.format(100*pvec[0],100*pvec[1],100*pvec[2])\n",
    "    #     if min(sens,spec) < perf_thr:\n",
    "    #         print('  Skipping due to low perf ',str_to_put_)\n",
    "    #         continue\n",
    "    #hh = int( 20 * len(featnames) / 270  ), \n",
    "    #%debug\n",
    "    merge_Hjorth = prefix_cur != 'onlyH'\n",
    "    merge_Hjorth = False\n",
    "    \n",
    "    Hjorth_diff_color = (prefix_cur == 'onlyH') and not merge_Hjorth\n",
    "    Hjorth_diff_color = not merge_Hjorth\n",
    "    \n",
    "    use_same_ax = True\n",
    "    #clear_yticks_for_middle_axes = False\n",
    "    clear_yticks_for_middle_axes = True\n",
    "    separate_by_band = 1\n",
    "    \n",
    "    if hh_ is None:\n",
    "        hh = 12\n",
    "        if prefix_cur == 'onlyH':\n",
    "            if merge_Hjorth:\n",
    "                hh = 5\n",
    "            else:\n",
    "                hh = 9\n",
    "        if prefix_cur == 'LFPrel_noself_onlyBpcorr':\n",
    "            hh = 9\n",
    "        if prefix_cur == 'LFPrel_noself_onlyRbcorr':\n",
    "            hh = 7\n",
    "            if modSrc_self:\n",
    "                hh = 12\n",
    "        if prefix_cur == 'all':\n",
    "            hh = 18\n",
    "            if modSrc_self:\n",
    "                hh = 25\n",
    "    else:\n",
    "        hh = hh_\n",
    "    #outputs_grouped   # \n",
    "    #(prefix,grp,int_type), mult_clf_output = output_list[0]\n",
    "    #%debug\n",
    "    markers_mean = ['o','*']\n",
    "    markers_max = ['x','+']\n",
    "    from matplotlib.backends.backend_pdf import PdfPages\n",
    "    subdir_short = 'joint2_noskip'\n",
    "    figfname_full = pjoin(gv.dir_fig, subdir_short, out_name_plot + '.pdf')\n",
    "    figfname_full = figfname_full.replace('&','_AND_')\n",
    "    pdf= PdfPages(figfname_full )        \n",
    "    axs = None\n",
    "    legend_elements = []\n",
    "    for i,og in enumerate(outputs_grouped.items() ):\n",
    "        rn = og[0][0]\n",
    "        (prefix,grp,int_type), mult_clf_output = og[1]\n",
    "        ogg = dict( [og] )\n",
    "        if not use_same_ax:\n",
    "            axs = None\n",
    "        axs, collect_SHAP_outs_cur = postp.plotFeatSignifSHAP_list(pdf=None,\n",
    "                                 outputs_grouped=ogg, fshs='XGB_Shapley',                                  \n",
    "                                 figname_prefix=prefix, roi_labels=labels_dict['all_raw'],\n",
    "                                 body_side='left', chnames_LFP=None, \n",
    "                                 hh = hh, ww = 7,\n",
    "                                 tickfontsize = 10, markersize=8,\n",
    "                                 suptitle = str_to_put_, use_best_LFP=False,\n",
    "                                 suptitle_fontsize=20, show_bias=1, show_max = True, \n",
    "                                 show_std = False, average_over_subjects = True,\n",
    "                                 merge_Hjorth = merge_Hjorth,alpha=0.8, \n",
    "                                      use_full_scores=True, show_abs_plots=1, reconstruct_from_VIF=1,\n",
    "                                    marker_mean=markers_mean[i] ,marker_max = markers_max[i],\n",
    "                                    Hjorth_diff_color = Hjorth_diff_color,\n",
    "                                    axs=axs, grand_average_per_feat_type=0,\n",
    "                                        separate_by_band=separate_by_band);     \n",
    "        legend_alpha = 0.25\n",
    "        legend_elements += [Line2D([0], [0], marker=markers_mean[i], color='orange', lw=0, \n",
    "                               label=f'mean {rn[-3:]}', markerfacecolor='orange', markersize=15,alpha=legend_alpha) ]\n",
    "        legend_elements += [Line2D([0], [0], marker=markers_max[i], color='orange', lw=0,\n",
    "                               label=f'max {rn[-3:]}', markerfacecolor='orange', markersize=15,alpha=legend_alpha) ]\n",
    "    \n",
    "        if not use_same_ax:\n",
    "            pdf.savefig();    plt.close()       \n",
    "            axs[0,0].set_title(axs[0,0].get_title() + f' {rn[:-3]}')\n",
    "            \n",
    "            if clear_yticks_for_middle_axes:\n",
    "                for i in range(len(axs) ):\n",
    "                    for j in range( 1,4 ):\n",
    "                        axs[i,j].set_yticklabels([])\n",
    "                        #axs[i,j].set_yticks([])\n",
    "                    for j in range(4):    \n",
    "                        axs[i,j].grid()\n",
    "        collect_SHAP_outs += collect_SHAP_outs_cur    \n",
    "    \n",
    "    if use_same_ax:        \n",
    "        axs[0,0].set_title( str(axs[0,0].get_title() ) + f' {rn[:-3]}*')\n",
    "        axs[0,1].legend(handles= legend_elements, loc='lower right')\n",
    "        \n",
    "        if clear_yticks_for_middle_axes:\n",
    "            for i in range(len(axs) ):\n",
    "                for j in range (1,4):\n",
    "                    axs[i,j].set_yticklabels([])\n",
    "                    #axs[i,j].set_yticks([])\n",
    "                for j in range (4):    \n",
    "                    axs[i,j].grid()\n",
    "            \n",
    "        plt.tight_layout()\n",
    "        pdf.savefig();    plt.close()       \n",
    "            \n",
    "    cax,clrb = postp.plotConfmats(outputs_grouped, best_LFP=0, ww=9,hh=9)\n",
    "    kind = ';'.join( list( outputs_grouped.values() )[0][0] )\n",
    "    figname = ','.join( [k[0] for k in outputs_grouped.keys()] ) + f'_confmats_{kind}.pdf'\n",
    "    kind = ';  '.join( list( outputs_grouped.values() )[0][0] )\n",
    "    plt.suptitle(kind)\n",
    "    pdf.savefig();    plt.close();    pdf.close()\n",
    "    print('saved to ',figname)\n",
    "\n",
    "#             break+\n",
    "#         break\n",
    "#     break"
   ]
  },
  {
   "cell_type": "code",
   "execution_count": null,
   "id": "ddc135e9",
   "metadata": {},
   "outputs": [],
   "source": [
    "subdir"
   ]
  },
  {
   "cell_type": "code",
   "execution_count": null,
   "id": "e4b7b170",
   "metadata": {},
   "outputs": [],
   "source": [
    "#subdir = 'per_subj_best_LFP'\n",
    "\n",
    "pref_hh_tuples = [ ('all',40)]\n",
    "\n",
    "pref_hh_tuples = [ ('onlyH',10)]\n",
    "EBM_feat_subsets = ['VIFsel']\n",
    "#EBM_feat_subsets = ['all']\n",
    "\n",
    "\n",
    "#subdir_short = 'joint_noskip'\n",
    "grpit_tpl = 'merge_movements','basic'\n",
    "\n",
    "#%debug\n",
    "from IPython import get_ipython; ipython = get_ipython()\n",
    "runstr_ = '%run -i ../run/_subrun_plot_imp_EBM_HPC.py'\n",
    "ipython.magic(runstr_)"
   ]
  },
  {
   "cell_type": "code",
   "execution_count": null,
   "id": "62eee3ea",
   "metadata": {},
   "outputs": [],
   "source": [
    "len(outputs_grouped)"
   ]
  },
  {
   "cell_type": "code",
   "execution_count": null,
   "id": "f2fbbd80",
   "metadata": {},
   "outputs": [],
   "source": [
    "dd = 'bias/6.1694/2.4873'\n",
    "np.sum( np.array(list(dd)) == '/' ) \n"
   ]
  },
  {
   "cell_type": "code",
   "execution_count": null,
   "id": "42e75ba6",
   "metadata": {},
   "outputs": [],
   "source": [
    "import gc;gc.collect()"
   ]
  },
  {
   "cell_type": "code",
   "execution_count": null,
   "id": "65e75f38",
   "metadata": {},
   "outputs": [],
   "source": [
    "common = set(mult_clf_output['VIF_truncation']['colinds_bad_VIFsel'])\n",
    "#print(common)\n",
    "for i,og in enumerate(outputs_grouped.items() ):\n",
    "    rn = og[0][0]\n",
    "    (prefix,grp,int_type), mult_clf_output = og[1]\n",
    "    VIFtr = mult_clf_output['VIF_truncation']\n",
    "    badinds = VIFtr['colinds_bad_VIFsel']\n",
    "    print(len(badinds), badinds)\n",
    "    common = common & set(badinds)\n",
    "    \n",
    "print(len(common),sorted(common,reverse=1) )"
   ]
  },
  {
   "cell_type": "code",
   "execution_count": null,
   "id": "902cd839",
   "metadata": {},
   "outputs": [],
   "source": [
    "d[(rn,prefix,grp,it)]"
   ]
  },
  {
   "cell_type": "code",
   "execution_count": null,
   "id": "b9e2a71d",
   "metadata": {},
   "outputs": [],
   "source": [
    "VIFtr.keys()"
   ]
  },
  {
   "cell_type": "code",
   "execution_count": null,
   "id": "e9ea4da0",
   "metadata": {},
   "outputs": [],
   "source": [
    "VIFtr['VIFsel_linreg_objs'][0].__dict__.keys()"
   ]
  },
  {
   "cell_type": "code",
   "execution_count": null,
   "id": "06362ec3",
   "metadata": {},
   "outputs": [],
   "source": [
    "d = {}\n",
    "for rn,prefix,grp,it,mult_clf_output in tpll:\n",
    "    VIFtr = mult_clf_output['VIF_truncation']\n",
    "    dd = dict( VIFtr.items() )\n",
    "    #del dd['VIFsel_linreg_objs']\n",
    "    #dd[]\n",
    "    #VIFtr['VIFsel_linreg_objs'][0]\n",
    "    d[(rn,prefix,grp,it)] = dd\n",
    "#('S01,S02,S04,S05,S07_off', 'allb_beta', 'merge_movements', 'basic')\n",
    "VIF_info_fname = pjoin(gv.data_dir,subdir_short,'VIF_info.npz')\n",
    "print(VIF_info_fname)\n",
    "np.savez(VIF_info_fname,VIF_info = d)"
   ]
  },
  {
   "cell_type": "code",
   "execution_count": null,
   "id": "95a28302",
   "metadata": {},
   "outputs": [],
   "source": []
  },
  {
   "cell_type": "code",
   "execution_count": null,
   "id": "fe7dfe68",
   "metadata": {},
   "outputs": [],
   "source": [
    "# (rn_,prefix,grp,int_type,fsh,featnames_nice,label_str,\\\n",
    "#      scores_pre_class_curlab, feat_imp_stats ) = collect_SHAP_outs[0]\n",
    "\n",
    "\n",
    "runMLvars_pso = []\n",
    "for cso in collect_SHAP_outs:\n",
    "    (rn_,prefix,grp,int_type,fsh,featnames_nice,label_str,\\\n",
    "         scores_pre_class_curlab, feat_imp_stats ) = cso \n",
    "    \n",
    "    mult_clf_output = output_per_raw[rn_][prefix][grp][int_type]\n",
    "    #assert (prefix,grp,int_type) == (prefix_,grp_,int_type_)    \n",
    "    cmd = mult_clf_output['cmd']\n",
    "    print(cmd[0])\n",
    "\n",
    "    ####################\n",
    "\n",
    "    s = '%run -i ../run/run_ML.py '\n",
    "    for a,b in cmd[0]:\n",
    "        s += f'{a} {b} '\n",
    "    print(s)\n",
    "    from IPython import get_ipython; ipython = get_ipython()\n",
    "\n",
    "    #%run -i ../run/run_ML.py -r S01_on_hold,S01_on_move,S02_on_hold,S02_on_move,S04_on_hold,S04_on_move,S05_on_hold,S05_on_move,S07_on_hold,S07_on_move --param_file ML_joint_one_LFP_HPC.ini --groupings_to_use merge_movements --int_types_to_use basic --feat_types H_act,H_mob,H_compl --prefix onlyH --SLURM_job_id 114703_22 --calc_MI 0\n",
    "\n",
    "    ipython.magic(s + ' --exit_after artif_processed --show_plots 0 --do_cleanup 0')\n",
    "    anndict_per_intcat_per_rawn_out = anndict_per_intcat_per_rawn\n",
    "\n",
    "    runMLvars = {}\n",
    "    runMLvars['featnames_nice'] = featnames_nice\n",
    "    runMLvars['featnames'] = featnames\n",
    "    runMLvars['X_pri'] = X_pri\n",
    "    runMLvars['rawnames'] = rawnames\n",
    "    runMLvars['Xtimes_pri'] = Xtimes_pri\n",
    "    runMLvars['wbd_pri'] = wbd_pri\n",
    "    runMLvars['anndict_per_intcat_per_rawn'] = anndict_per_intcat_per_rawn\n",
    "    runMLvars['new_main_side_pri'] = new_main_side_pri\n",
    "    runMLvars['roi_labels'] = roi_labels\n",
    "    runMLvars['srcgrouping_names_sorted'] = srcgrouping_names_sorted\n",
    "    runMLvars['rawtimes_pri'] = rawtimes_pri\n",
    "    \n",
    "    runMLvars_pso += [runMLvars]\n",
    "\n",
    "    rng = slice(0,10)\n",
    "    \n",
    "    # TODO: right now these are not correct scores (perhaps) because of the way they are averaged\n",
    "    featis = np.argsort(np.abs(scores_pre_class_curlab) )\n",
    "    featis = featis[::-1]\n",
    "    featis = featis[rng] #np.random.randint( len(featnames),size=20)\n",
    "\n",
    "    # anns, anns_pri, times_concat, dataset_bounds, wbd_merged = utsne.concatAnns(rawnames,\n",
    "    #                                                           rawtimes_pri, crop=(crop_start,crop_end),\n",
    "    #                                                           side_rev_pri = side_switch_happened_pri,\n",
    "    #                                                          wbd_pri = wbd_pri, sfreq=sfreq, ret_wbd_merged=1)\n",
    "    # print('times_concat end {} wbd end {}'.format(times_concat[-1] * sfreq, wbd_merged[1,-1] ) )\n",
    "\n",
    "    # ivalis = utils.ann2ivalDict(anns)\n",
    "    # ivalis_tb_indarrays_merged = \\\n",
    "    #     utils.getWindowIndicesFromIntervals(wbd_merged,ivalis,\n",
    "    #                                         sfreq,ret_type='bins_contig',\n",
    "    #                                         ret_indices_type = 'window_inds',\n",
    "    #                                         nbins_total=nbins_total )\n",
    "\n",
    "    # anndict_per_intcat = f['anndict_per_intcat'][()]\n",
    "    # anndict_per_intcat_per_rawn[rawn] = anndict_per_intcat\n",
    "    # bindict_per_rawn[rawn] = upre.markedIntervals2Bins(anndict_per_intcat,\n",
    "    #                                                    rawtimes,sfreq,wbd=wbd)\n",
    "    xlim = (-4,8)\n",
    "    #xlim = None\n",
    "    figname = 'hists_'+ f'{(rn_,prefix,grp,int_type,label_str,fsh)}_rng={rng}.pdf'\n",
    "    print('start plotting ',figname)\n",
    "    postp.plotFeatHists(rawnames,featnames_nice,featis,X_pri,Xconcat, bindict_per_rawn,\n",
    "                      ivalis_tb_indarrays_merged, xlim_common = xlim,nbins=25, savefig = 0)\n",
    "    \n",
    "    \n",
    "    plt.savefig(pjoin(gv.dir_fig, subdir_short, figname))\n",
    "    plt.close()\n"
   ]
  },
  {
   "cell_type": "code",
   "execution_count": null,
   "id": "390824a7",
   "metadata": {},
   "outputs": [],
   "source": [
    "import gc; gc.collect()"
   ]
  },
  {
   "cell_type": "code",
   "execution_count": null,
   "id": "be68bf28",
   "metadata": {},
   "outputs": [],
   "source": [
    "(prefix_,grp_,int_type_)"
   ]
  },
  {
   "cell_type": "markdown",
   "id": "95306301",
   "metadata": {},
   "source": [
    "## get info from run_genfeats (for a fixed rn_)"
   ]
  },
  {
   "cell_type": "code",
   "execution_count": null,
   "id": "b3040ac8",
   "metadata": {},
   "outputs": [],
   "source": [
    "mainLFPchan_per_rawn = {}\n",
    "for runMLvars in runMLvars_pso:\n",
    "    for rawn in runMLvars['rawnames']:\n",
    "        subj,medcond,task  = utils.getParamsFromRawname(rawn)\n",
    "        mainLFPchan_cur = best_LFP_info[subj][f'{best_LFP_prefix},merge_movements,basic']['best_LFP']\n",
    "        #print(rawn,subj,mainLFPchan_cur)\n",
    "        mainLFPchan_per_rawn[rawn] = mainLFPchan_cur"
   ]
  },
  {
   "cell_type": "code",
   "execution_count": null,
   "id": "70d1f826",
   "metadata": {},
   "outputs": [],
   "source": [
    "\n",
    "\n",
    "\n",
    "rns = list(output_per_raw.keys() )\n",
    "genfeat_info_per_rn = {}\n",
    "for rn_to_plot in rns:\n",
    "    mult_clf_output = output_per_raw[rn_][prefix_][grp][int_type]\n",
    "    ML_info = mult_clf_output['info']\n",
    "    fn_feat = ML_info['fname_feat_full_pri']\n",
    "\n",
    "    dat_out_pri = []\n",
    "    dat_lfp_hires_out_pri = []\n",
    "    times_hires_out_pri = []\n",
    "    times_out_pri = []\n",
    "    subfeature_order_out_pri = []\n",
    "    subfeature_order_lfp_hires_out_pri = []\n",
    "    extdat_out_pri = []\n",
    "    rawnames_out = []\n",
    "    emgdat_pri = []\n",
    "    \n",
    "    for i,fn_feat_cur in enumerate(fn_feat):\n",
    "        ffeat = np.load(fn_feat_cur, allow_pickle=True )\n",
    "        ss = ' '.join([' '.join(list(tpl)) for tpl in  ffeat['cmd'][0]] )\n",
    "        s = '%run -i ../run/run_genfeats.py ' + ss + ' --exit_after prescale_data'\n",
    "        print(s)\n",
    "        ipython.magic(s)\n",
    "\n",
    "        dat_out_pri              += dat_pri\n",
    "        dat_lfp_hires_out_pri    += dat_lfp_hires_pri\n",
    "        times_hires_out_pri      += times_hires_pri\n",
    "        times_out_pri            += times_pri\n",
    "        subfeature_order_out_pri += subfeature_order_pri\n",
    "        subfeature_order_lfp_hires_out_pri += subfeature_order_lfp_hires_pri\n",
    "        extdat_out_pri           += extdat_pri\n",
    "    \n",
    "    import re\n",
    "    for fn in fn_feat:\n",
    "        r = re.match('.*(S[0-9]+_[a-z]+_[a-z]+)_.*',fn).groups()[0]\n",
    "        #rint(r)\n",
    "        rawnames_out += [r]\n",
    "\n",
    "\n",
    "    emgraw_pri = []\n",
    "    for rawi,rawn in enumerate(ML_info['rawnames']):\n",
    "        emgraw = mne.io.read_raw_fif ( pjoin(gv.data_dir,rawn + '_emg_rectconv.fif') )\n",
    "        chns_cur = gv.EMG_per_hand[main_side_pri[rawi]]\n",
    "        emgraw.pick_channels(chns_cur)\n",
    "        emgraw.resample(256)\n",
    "        #emgraw_pri += [emgraw]\n",
    "        emgdat_pri += [emgraw.get_data()]\n",
    "        assert emgdat_pri[-1].shape[1] == len(times_out_pri[rawi])\n",
    "\n",
    "    from featlist import replaceMEGsrcChnamesParams\n",
    "    subfeature_order_newsrcgrp_pri = ML_info.get('chnames_newsrcgrp_pri')\n",
    "    if subfeature_order_newsrcgrp_pri is None:\n",
    "        subfeature_order_newsrcgrp_pri = [0] * len(rawnames_out)\n",
    "        for rawi in range(len(runMLvars['rawnames'])):\n",
    "            subfeature_order_newsrcgrp_pri[rawi] = \\\n",
    "                replaceMEGsrcChnamesParams(subfeature_order_out_pri[rawi], 0,9, '.*', 0)\n",
    "            \n",
    "            \n",
    "    d = {}\n",
    "    d['dat_out_pri'] = dat_out_pri\n",
    "    d['dat_lfp_hires_out_pri'] = dat_lfp_hires_out_pri\n",
    "    d['times_hires_out_pri'] = times_hires_out_pri\n",
    "    d['times_out_pri'] = times_out_pri\n",
    "    d['subfeature_order_out_pri'] = subfeature_order_out_pri\n",
    "    d['subfeature_order_lfp_hires_out_pri'] = subfeature_order_lfp_hires_out_pri\n",
    "    d['extdat_out_pri'] = extdat_out_pri\n",
    "    d['rawnames_out'] = rawnames_out\n",
    "    d['emgdat_pri'] = emgdat_pri\n",
    "    d['subfeature_order_newsrcgrp_pri'] = subfeature_order_newsrcgrp_pri\n",
    "    genfeat_info_per_rn[rn_to_plot] = d\n",
    "\n",
    "# best_LFP_info_fname = pjoin(gv.data_dir, 'best_LFP_info.json')\n",
    "# with open(best_LFP_info_fname, 'r') as f:\n",
    "#     best_LFP_info = json.load(f)\n",
    "\n",
    "\n",
    "\n",
    "display(mainLFPchan_per_rawn)"
   ]
  },
  {
   "cell_type": "code",
   "execution_count": null,
   "id": "13abf360",
   "metadata": {},
   "outputs": [],
   "source": [
    "rn_,prefix,grp,int_type,fsh,featnames_nice_VIF,label_str,\\\n",
    "         scores_pre_class_curlab, feat_imp_stats"
   ]
  },
  {
   "cell_type": "code",
   "execution_count": null,
   "id": "4a271bd9",
   "metadata": {},
   "outputs": [],
   "source": [
    "# plot time traces\n",
    "\n",
    "for collect_SHAP_outs_ind in range(len(collect_SHAP_outs)):\n",
    "    #collect_SHAP_outs_ind = 0\n",
    "    (rn_,prefix,grp,int_type,fsh,featnames_nice_VIF,label_str,\\\n",
    "         scores_pre_class_curlab, feat_imp_stats ) = collect_SHAP_outs[collect_SHAP_outs_ind]\n",
    "    print(rn_)\n",
    "    \n",
    "    runMLvars = runMLvars_pso[collect_SHAP_outs_ind]\n",
    "    d = genfeat_info_per_rn[rn_]\n",
    "    \n",
    "#     ##########################  just for now to avoid recalc of genfeats\n",
    "#     if rn_.endswith('_off'):\n",
    "#         continue\n",
    "#     ###########################    \n",
    "        \n",
    "    featis = np.argsort(np.abs(scores_pre_class_curlab) )\n",
    "    featis = featis[::-1]\n",
    "    \n",
    "    mult_clf_output = output_per_raw[rn_][prefix][grp][int_type]\n",
    "    VIF_truncation = mult_clf_output['VIF_truncation']\n",
    "    colinds_good_VIFsel = VIF_truncation['colinds_good_VIFsel']\n",
    "    featnames_VIFsel = runMLvars['featnames'][colinds_good_VIFsel]\n",
    "    featnames_best_LFP = runMLvars['featnames']\n",
    "\n",
    "    from globvars import gp\n",
    "    beh_states_to_shade = [f'{it}_{main_side_let}' for it in gp.int_types_basic]\n",
    "\n",
    "    # TODO: right now these are not correct scores (perhaps) because of the way they are averaged\n",
    "    #%debug\n",
    "    rng = slice(0,8)\n",
    "    #rng = slice(0,2)\n",
    "    rng_feats = slice(0,2)\n",
    "    #rng_feats = slice(0,1)\n",
    "    from plots import plotFeatsAndRelDat\n",
    "    \n",
    "    axs = plotFeatsAndRelDat(runMLvars['rawnames'][rng], \n",
    "                             featnames_VIFsel[featis[rng_feats]], d['dat_out_pri'],\n",
    "                       d['subfeature_order_out_pri'],\n",
    "                    runMLvars['X_pri'],[featnames_best_LFP]*len(d['rawnames_out']),\n",
    "                    d['times_out_pri'],\n",
    "                    runMLvars['Xtimes_pri'],\n",
    "                    d['subfeature_order_newsrcgrp_pri'], runMLvars['wbd_pri'],\n",
    "                    dat_hires_pri=d['dat_lfp_hires_out_pri'],\n",
    "                    chnames_all_hires_pri = d['subfeature_order_lfp_hires_out_pri'],\n",
    "                    times_hires_pri=d['times_hires_out_pri'],\n",
    "                    anndict_per_intcat_per_rawn=runMLvars['anndict_per_intcat_per_rawn'], \n",
    "                    sfreq=sfreq, mainLFP_per_rawn = mainLFPchan_per_rawn,\n",
    "                    roi_labels=roi_labels, srcgrouping_names_sorted=['all_raw']*10,\n",
    "                            main_side_let = main_side_let, ww=6,hh=3,\n",
    "                            beh_states_to_shade = beh_states_to_shade, \n",
    "                             extdat_pri=d['emgdat_pri'])\n",
    "\n",
    "    plt.tight_layout()\n",
    "    plt.savefig(pjoin(gv.dir_fig,'joint',f'good_feats_dyn_{(rn_,prefix,grp,int_type,label_str,fsh)}_{rng}.pdf'))\n",
    "    plt.close()"
   ]
  },
  {
   "cell_type": "code",
   "execution_count": null,
   "id": "362bb5c4",
   "metadata": {},
   "outputs": [],
   "source": [
    "len(collect_SHAP_outs)"
   ]
  },
  {
   "cell_type": "code",
   "execution_count": null,
   "id": "08947c38",
   "metadata": {},
   "outputs": [],
   "source": []
  },
  {
   "cell_type": "code",
   "execution_count": null,
   "id": "6f3cd7ca",
   "metadata": {},
   "outputs": [],
   "source": []
  },
  {
   "cell_type": "markdown",
   "id": "5692bdd3",
   "metadata": {},
   "source": [
    "# interpretML"
   ]
  },
  {
   "cell_type": "code",
   "execution_count": null,
   "id": "754cf802",
   "metadata": {},
   "outputs": [],
   "source": [
    "#for prefix_cur in prefixes:\n",
    "#for prefix_cur in prefixes[:3]:\n",
    "#for prefix_cur in prefixes:\n",
    "for prefix in ['onlyMotorSrc']:\n",
    "    prefixes_to_use = [prefix_cur]\n",
    "\n",
    "    outputs_grouped = pp.groupOutputs(output_per_raw, prefixes_to_use,\n",
    "                                      ['merge_movements'],['trem_vs_hold&move'])\n",
    "    print('      ',prefix_cur)\n",
    "    for og in outputs_grouped.items():\n",
    "        rn = og[0]\n",
    "        (prefix,grp,int_type), mult_clf_output = og[1]\n",
    "        assert prefix == prefix_cur\n",
    "    \n",
    "        filename_fullsize = mult_clf_output['filename_full']\n",
    "        from pathlib import Path\n",
    "        pfsz = Path(filename_fullsize)\n",
    "        filename_fullsize = pjoin(pfsz.parents[0], pfsz.name[2:])\n",
    "        #    finfo = os.stat( filename_fullsize )\n",
    "        #    print(finfo.st_size / (1024**2))\n",
    "        f = np.load(filename_fullsize,allow_pickle=True)\n",
    "\n",
    "        results_cur =  f['results_cur'][()]\n",
    "\n",
    "        #results_cur.keys()\n",
    "\n",
    "        EBM = results_cur['featsel_per_method']['interpret_EBM']        \n",
    "        #scores\n",
    "\n",
    "        clf_dict = EBM['info_per_cp'][('trem_L', 'hold_L&move_L')]\n",
    "        scores = clf_dict['scores']; \n",
    "        #print(len(results_cur['feature_names_filtered']), len(EBM['feature_indices_used']) )\n",
    "        #print('len(scores) = ',len(scores) )\n",
    "        explainer = clf_dict['explainer']\n",
    "        \n",
    "        print((rn,grp,int_type), utsne.sprintfPerfs(clf_dict['perf'] ) )\n",
    "\n",
    "        del f\n",
    "        del results_cur\n",
    "        gc.collect()"
   ]
  },
  {
   "cell_type": "code",
   "execution_count": null,
   "id": "b9fac607",
   "metadata": {},
   "outputs": [],
   "source": [
    "#       LFPrel_noself\n",
    "# (('S01,S02,S04,S05,S07_on',), 'merge_movements', 'trem_vs_hold&move') 63.70%,97.30%,73.97%\n",
    "# (('S01,S02,S04,S05,S07_off',), 'merge_movements', 'trem_vs_hold&move') 54.75%,93.76%,65.06%\n",
    "#        LFPrel_noself_onlyBpcorr\n",
    "# (('S01,S02,S04,S05,S07_on',), 'merge_movements', 'trem_vs_hold&move') 53.09%,96.59%,64.78%\n",
    "# (('S01,S02,S04,S05,S07_off',), 'merge_movements', 'trem_vs_hold&move') 49.71%,93.22%,60.30%\n",
    "#        LFPrel_noself_onlyCon\n",
    "# (('S01,S02,S04,S05,S07_on',), 'merge_movements', 'trem_vs_hold&move') 42.19%,94.97%,53.35%\n",
    "# (('S01,S02,S04,S05,S07_off',), 'merge_movements', 'trem_vs_hold&move') 30.51%,92.18%,41.29%\n",
    "#        LFPrel_noself_onlyRbcorr\n",
    "# (('S01,S02,S04,S05,S07_on',), 'merge_movements', 'trem_vs_hold&move') 48.94%,97.15%,62.01%\n",
    "# (('S01,S02,S04,S05,S07_off',), 'merge_movements', 'trem_vs_hold&move') 35.56%,92.61%,46.82%\n",
    "#        allb_beta\n",
    "# (('S01,S02,S04,S05,S07_on',), 'merge_movements', 'trem_vs_hold&move') 64.64%,95.34%,72.04%\n",
    "# (('S01,S02,S04,S05,S07_off',), 'merge_movements', 'trem_vs_hold&move') 55.94%,90.69%,63.34%\n",
    "#        cross_freqmod_beta,gamma:HFO\n",
    "# (('S01,S02,S04,S05,S07_on',), 'merge_movements', 'trem_vs_hold&move') 18.93%,97.11%,29.55%\n",
    "# (('S01,S02,S04,S05,S07_off',), 'merge_movements', 'trem_vs_hold&move') 26.17%,94.16%,37.62%\n",
    "#        cross_freqmod_tremor,beta:HFO\n",
    "# (('S01,S02,S04,S05,S07_on',), 'merge_movements', 'trem_vs_hold&move') 40.86%,95.38%,52.56%\n",
    "# (('S01,S02,S04,S05,S07_off',), 'merge_movements', 'trem_vs_hold&move') 35.36%,92.31%,46.41%\n",
    "#        cross_freqmod_tremor,gamma:beta\n",
    "# (('S01,S02,S04,S05,S07_on',), 'merge_movements', 'trem_vs_hold&move') 39.69%,96.07%,52.15%\n",
    "# (('S01,S02,S04,S05,S07_off',), 'merge_movements', 'trem_vs_hold&move') 27.67%,94.66%,39.64%\n",
    "#        modLFP\n",
    "# (('S01,S02,S04,S05,S07_on',), 'merge_movements', 'trem_vs_hold&move') 35.31%,95.57%,47.26%\n",
    "# (('S01,S02,S04,S05,S07_off',), 'merge_movements', 'trem_vs_hold&move') 4.50%,98.84%,8.41%\n",
    "#        modSrc\n",
    "# (('S01,S02,S04,S05,S07_on',), 'merge_movements', 'trem_vs_hold&move') 72.72%,97.23%,80.13%\n",
    "# (('S01,S02,S04,S05,S07_off',), 'merge_movements', 'trem_vs_hold&move') 62.01%,93.29%,70.18%\n",
    "#        modSrc_self\n",
    "# (('S01,S02,S04,S05,S07_on',), 'merge_movements', 'trem_vs_hold&move') 63.11%,95.55%,71.22%\n",
    "# (('S01,S02,S04,S05,S07_off',), 'merge_movements', 'trem_vs_hold&move') 55.49%,90.39%,62.74%\n",
    "#        onlyCBSrc\n",
    "# (('S01,S02,S04,S05,S07_on',), 'merge_movements', 'trem_vs_hold&move') 53.38%,95.51%,63.69%\n",
    "# (('S01,S02,S04,S05,S07_off',), 'merge_movements', 'trem_vs_hold&move') 22.85%,94.62%,33.94%\n",
    "#        onlyH\n",
    "# (('S01,S02,S04,S05,S07_on',), 'merge_movements', 'trem_vs_hold&move') 62.04%,95.14%,69.86%\n",
    "# (('S01,S02,S04,S05,S07_off',), 'merge_movements', 'trem_vs_hold&move') 51.43%,91.03%,60.01%\n",
    "#        onlyMotorSrc\n",
    "# (('S01,S02,S04,S05,S07_on',), 'merge_movements', 'trem_vs_hold&move') 74.52%,97.34%,81.46%\n",
    "# (('S01,S02,S04,S05,S07_off',), 'merge_movements', 'trem_vs_hold&move') 63.63%,94.94%,72.74%\n",
    "#        onlyRestSrc\n",
    "# (('S01,S02,S04,S05,S07_on',), 'merge_movements', 'trem_vs_hold&move') 66.35%,96.35%,74.51%\n",
    "# (('S01,S02,S04,S05,S07_off',), 'merge_movements', 'trem_vs_hold&move') 60.19%,92.75%,68.41%"
   ]
  },
  {
   "cell_type": "code",
   "execution_count": null,
   "id": "503542ba",
   "metadata": {},
   "outputs": [],
   "source": [
    "(rn_,prefix,grp,int_type,fsh,featnames_nice,label_str,\\\n",
    "     scores_pre_class_curlab, feat_imp_stats ) = collect_SHAP_outs[0]\n",
    "\n",
    "print(rn_,prefix,grp,int_type)\n",
    "mult_clf_output = output_per_raw[rn_][prefix][grp][int_type]"
   ]
  },
  {
   "cell_type": "code",
   "execution_count": null,
   "id": "83a234e3",
   "metadata": {},
   "outputs": [],
   "source": [
    "mult_clf_output = output_per_raw['S01,S02,S04,S05,S07_off']['onlyH'][grp][int_type]"
   ]
  },
  {
   "cell_type": "code",
   "execution_count": null,
   "id": "f780228a",
   "metadata": {},
   "outputs": [],
   "source": [
    "mult_clf_output = output_per_raw['S01,S02,S04,S05,S07_on']['onlyMotorSrc'][grp][int_type]"
   ]
  },
  {
   "cell_type": "code",
   "execution_count": null,
   "id": "a5994971",
   "metadata": {},
   "outputs": [],
   "source": [
    "print(range(0,6))"
   ]
  },
  {
   "cell_type": "code",
   "execution_count": null,
   "id": "66f23a0a",
   "metadata": {},
   "outputs": [],
   "source": [
    "[4  for d in [4,5] if d in [4,5]]"
   ]
  },
  {
   "cell_type": "code",
   "execution_count": null,
   "id": "1b181737",
   "metadata": {},
   "outputs": [],
   "source": [
    "help(plotFeatsAndRelDat)"
   ]
  },
  {
   "cell_type": "code",
   "execution_count": null,
   "id": "b2d841e7",
   "metadata": {},
   "outputs": [],
   "source": [
    "del plotFeatsAndRelDat"
   ]
  },
  {
   "cell_type": "code",
   "execution_count": null,
   "id": "9b72fa07",
   "metadata": {},
   "outputs": [],
   "source": [
    "import plots\n",
    "import importlib as il; il.reload(plots)"
   ]
  },
  {
   "cell_type": "code",
   "execution_count": null,
   "id": "f99dea57",
   "metadata": {},
   "outputs": [],
   "source": [
    "runMLvars['wbd_pri'][0]"
   ]
  },
  {
   "cell_type": "code",
   "execution_count": null,
   "id": "a9706544",
   "metadata": {},
   "outputs": [],
   "source": []
  },
  {
   "cell_type": "code",
   "execution_count": null,
   "id": "14ac0326",
   "metadata": {},
   "outputs": [],
   "source": [
    "extdat_out_pri[0].shape"
   ]
  },
  {
   "cell_type": "code",
   "execution_count": null,
   "id": "237b6517",
   "metadata": {},
   "outputs": [],
   "source": [
    "from globvars import gp\n",
    "beh_states_to_shade = [f'{it}_{main_side_let}' for it in gp.int_types_basic]\n",
    "\n",
    "# TODO: right now these are not correct scores (perhaps) because of the way they are averaged\n",
    "#%debug\n",
    "rng = slice(0,8)\n",
    "#rng = slice(0,2)\n",
    "rng_feats = slice(0,2)\n",
    "#rng_feats = slice(0,1)\n",
    "from plots import plotFeatsAndRelDat\n",
    "axs = plotFeatsAndRelDat(runMLvars['rawnames'][rng], \n",
    "                         featnames_VIFsel[featis[rng_feats]], dat_out_pri,\n",
    "                   subfeature_order_out_pri,\n",
    "                runMLvars['X_pri'],[featnames_best_LFP]*len(rawnames_out),\n",
    "                times_out_pri,\n",
    "                runMLvars['Xtimes_pri'],\n",
    "                subfeature_order_newsrcgrp_pri, runMLvars['wbd_pri'],\n",
    "                dat_hires_pri=dat_lfp_hires_out_pri,\n",
    "                chnames_all_hires_pri = subfeature_order_lfp_hires_out_pri,\n",
    "                times_hires_pri=times_hires_out_pri,\n",
    "                anndict_per_intcat_per_rawn=runMLvars['anndict_per_intcat_per_rawn'], \n",
    "                sfreq=sfreq, mainLFP_per_rawn = mainLFPchan_per_rawn,\n",
    "                roi_labels=roi_labels, srcgrouping_names_sorted=['all_raw']*10,\n",
    "                        main_side_let = main_side_let, ww=6,hh=3,\n",
    "                        beh_states_to_shade = beh_states_to_shade, \n",
    "                         extdat_pri=emgdat_pri)\n",
    "\n",
    "plt.tight_layout()\n",
    "plt.savefig(pjoin(gv.dir_fig,'joint',f'good_feats_dyn_{(rn_,prefix,grp,int_type,fsh)}_{rng}.pdf'))\n",
    "plt.close()"
   ]
  },
  {
   "cell_type": "code",
   "execution_count": null,
   "id": "554e908a",
   "metadata": {},
   "outputs": [],
   "source": [
    "best_feat_name"
   ]
  },
  {
   "cell_type": "code",
   "execution_count": null,
   "id": "12772a7e",
   "metadata": {},
   "outputs": [],
   "source": [
    "print( utsne.sprintfPerfs(clf_dict['perf'] ) )\n",
    "print( clf_dict['confmat_normalized'] )"
   ]
  },
  {
   "cell_type": "code",
   "execution_count": null,
   "id": "4271e0fa",
   "metadata": {},
   "outputs": [],
   "source": [
    "np.argmax(scores)"
   ]
  },
  {
   "cell_type": "code",
   "execution_count": null,
   "id": "e347e2aa",
   "metadata": {},
   "outputs": [],
   "source": [
    "assert len( explainer.feature_names ) == len(scores)\n",
    "best_feat_name = explainer.feature_names [ np.argmax(scores)]\n",
    "print(best_feat_name)\n",
    "sortinds = np.argsort(scores)\n",
    "last_ind = np.where([ explainer.feature_names[ind].find(' x ') < 0 \\\n",
    "                     for ind in  sortinds])[0][-1]\n",
    "last_ind = sortinds[last_ind]\n",
    "best_feat_name_no_int = explainer.feature_names[last_ind]\n",
    "print(best_feat_name_no_int)"
   ]
  },
  {
   "cell_type": "code",
   "execution_count": null,
   "id": "d7983d5c",
   "metadata": {},
   "outputs": [],
   "source": [
    "sortinds[-1]"
   ]
  },
  {
   "cell_type": "code",
   "execution_count": null,
   "id": "36c0458d",
   "metadata": {},
   "outputs": [],
   "source": [
    " len(scores), last_ind"
   ]
  },
  {
   "cell_type": "code",
   "execution_count": null,
   "id": "8b64bdce",
   "metadata": {},
   "outputs": [],
   "source": [
    "explainer.feature_names[last_ind], m[last_ind], best_feat_name_no_int.find(' x ')"
   ]
  },
  {
   "cell_type": "code",
   "execution_count": null,
   "id": "7263e1b9",
   "metadata": {},
   "outputs": [],
   "source": [
    "np.where(m)[0][-1]"
   ]
  },
  {
   "cell_type": "code",
   "execution_count": null,
   "id": "9d986d97",
   "metadata": {},
   "outputs": [],
   "source": []
  },
  {
   "cell_type": "code",
   "execution_count": null,
   "id": "87216f81",
   "metadata": {},
   "outputs": [],
   "source": [
    "m = [ explainer.feature_names[ind].find(' x ') < 0 \\\n",
    "                     for ind in np.argsort(scores) ]\n",
    "print(m[344])"
   ]
  },
  {
   "cell_type": "code",
   "execution_count": null,
   "id": "cf377f4d",
   "metadata": {},
   "outputs": [],
   "source": []
  },
  {
   "cell_type": "code",
   "execution_count": null,
   "id": "96dbf8e6",
   "metadata": {},
   "outputs": [],
   "source": [
    "print( explainer.__dict__.keys() )\n",
    "# print( explainer.explanation_type, explainer.name, \n",
    "#      explainer.selector, explainer.feature_types)"
   ]
  },
  {
   "cell_type": "code",
   "execution_count": null,
   "id": "fc80c9ea",
   "metadata": {},
   "outputs": [],
   "source": [
    "from interpret import preserve\n",
    "preserve(explainer, best_feat_name_no_int)"
   ]
  },
  {
   "cell_type": "code",
   "execution_count": null,
   "id": "f41232ff",
   "metadata": {},
   "outputs": [],
   "source": [
    "preserve(explainer, best_feat_name)"
   ]
  },
  {
   "cell_type": "code",
   "execution_count": null,
   "id": "437ebd5d",
   "metadata": {},
   "outputs": [],
   "source": [
    "explainer.visualize()"
   ]
  },
  {
   "cell_type": "code",
   "execution_count": null,
   "id": "9f95b7ff",
   "metadata": {},
   "outputs": [],
   "source": [
    "# from interpret import show\n",
    "# show(explainer)  # does not work if open saved"
   ]
  },
  {
   "cell_type": "code",
   "execution_count": null,
   "id": "d0f5b5ff",
   "metadata": {},
   "outputs": [],
   "source": [
    "# Trying to get a better distr fit for Hjorth (no success)"
   ]
  },
  {
   "cell_type": "code",
   "execution_count": null,
   "id": "b99d15bd",
   "metadata": {},
   "outputs": [],
   "source": [
    "len(featnames_nice), len(featnames_VIFsel)"
   ]
  },
  {
   "cell_type": "code",
   "execution_count": null,
   "id": "9fb15bde",
   "metadata": {},
   "outputs": [],
   "source": [
    "np.array(featnames_nice)[featis[-2:]]"
   ]
  },
  {
   "cell_type": "code",
   "execution_count": null,
   "id": "757360cb",
   "metadata": {},
   "outputs": [],
   "source": [
    "featnames[featis[-2:]]"
   ]
  },
  {
   "cell_type": "code",
   "execution_count": null,
   "id": "62dddd60",
   "metadata": {},
   "outputs": [],
   "source": [
    "roi_labels['all_raw'][30]"
   ]
  },
  {
   "cell_type": "code",
   "execution_count": null,
   "id": "85e44c69",
   "metadata": {},
   "outputs": [],
   "source": [
    "len(featnames_nice), len(featnames)"
   ]
  },
  {
   "cell_type": "code",
   "execution_count": null,
   "id": "589e9707",
   "metadata": {},
   "outputs": [],
   "source": [
    "featnames_nice[-5:], featnames[-5:]"
   ]
  },
  {
   "cell_type": "code",
   "execution_count": null,
   "id": "dce35cff",
   "metadata": {},
   "outputs": [],
   "source": [
    "pjoin(subdir,'good_feats_dyn.pdf')"
   ]
  },
  {
   "cell_type": "code",
   "execution_count": null,
   "id": "761d5eae",
   "metadata": {},
   "outputs": [],
   "source": [
    "# from plots import plotFeatsWithEverything\n",
    "# #%debug\n",
    "# plotFeatsWithEverything(dat_pri, rawtimes_pri, X_pri, \n",
    "#                             Xtimes_pri, dat_lfp_hires_pri, times_hires_pri,\n",
    "#                             rawnames,\n",
    "#                             subfeature_order_pri, subfeature_order_newsrcgrp_pri,\n",
    "#                             subfeature_order_lfp_hires_pri,\n",
    "#                             anndict_per_intcat_per_rawn,\n",
    "#                             featnames, wbd_pri,\n",
    "#                             sfreq, raw_perband_flt_pri, raw_perband_bp_pri,\n",
    "#                             scale_data_combine_type,\n",
    "#                             stats_multiband_flt, stats_multiband_bp,\n",
    "#                             test_plots_descr, special_chns,\n",
    "#                            fband_names_inc_HFO )"
   ]
  },
  {
   "cell_type": "code",
   "execution_count": null,
   "id": "12481001",
   "metadata": {},
   "outputs": [],
   "source": []
  },
  {
   "cell_type": "code",
   "execution_count": null,
   "id": "24da4f76",
   "metadata": {},
   "outputs": [],
   "source": []
  },
  {
   "cell_type": "code",
   "execution_count": null,
   "id": "67204c2e",
   "metadata": {},
   "outputs": [],
   "source": [
    "np.min(Xconcat), np.max(Xconcat_to_fit)"
   ]
  },
  {
   "cell_type": "code",
   "execution_count": null,
   "id": "b86916c2",
   "metadata": {},
   "outputs": [],
   "source": [
    "dd0 = Xconcat[:,featis[0]]\n",
    "#dd = dd[ dd< np.quantile(dd,0.95)]\n",
    "dd = np.exp(dd0) \n",
    "#dd = 1/dd\n",
    "dd = np.log( dd - np.min(dd) *.99 )\n",
    "#dd = dd[ dd< np.quantile(dd,0.99)]\n",
    "plt.hist(dd,bins=250,alpha=0.5,label='new');\n",
    "\n",
    "plt.hist(dd0,bins=250,alpha=0.5,label='old');\n",
    "plt.legend(loc='upper right')"
   ]
  },
  {
   "cell_type": "code",
   "execution_count": null,
   "id": "938410b1",
   "metadata": {},
   "outputs": [],
   "source": [
    "plt.hist(dd0,bins=250)"
   ]
  },
  {
   "cell_type": "code",
   "execution_count": null,
   "id": "a05718f5",
   "metadata": {},
   "outputs": [],
   "source": [
    "np.min(dd)"
   ]
  },
  {
   "cell_type": "code",
   "execution_count": null,
   "id": "9559a356",
   "metadata": {},
   "outputs": [],
   "source": [
    "h"
   ]
  },
  {
   "cell_type": "code",
   "execution_count": null,
   "id": "d9ce144f",
   "metadata": {},
   "outputs": [],
   "source": [
    "help(dist.pdf)"
   ]
  },
  {
   "cell_type": "code",
   "execution_count": null,
   "id": "da2f466d",
   "metadata": {},
   "outputs": [],
   "source": [
    "f"
   ]
  },
  {
   "cell_type": "code",
   "execution_count": null,
   "id": "87c3cdce",
   "metadata": {},
   "outputs": [],
   "source": [
    "import scipy.stats\n",
    "qm = np.quantile(dd,0.99)\n",
    "y = dd [ dd < qm]\n",
    "#y = np.exp(y)\n",
    "size = len(y)\n",
    "x = np.arange(np.min(y),np.max(y),0.5)\n",
    "#y = 0.01 -np.min(dd) + dd\n",
    "#x = np.arange(0.01,55,0.5)\n",
    "#y = scipy.int_(np.round_(scipy.stats.vonmises.rvs(5,size=size)*47))\n",
    "h = plt.hist(y, bins=x)\n",
    "binh,binloc,barcont = h\n",
    "\n",
    "# beta, rayleigh look ok\n",
    "#ten best\n",
    "# dist_names = ['cauchy',\n",
    "#  'dweibull',\n",
    "#  'foldcauchy',\n",
    "#  'dgamma',\n",
    "#  't',\n",
    "#  'tukeylambda',\n",
    "#  'fisk',\n",
    "#  'weibull_min', 'erlang']\n",
    "\n",
    "#'loglaplace',\n",
    " \n",
    "dist_names = ['alpha', 'cauchy',  'dgamma', 'dweibull', 'erlang', 'exponweib',\n",
    "              'genlogistic',  'foldcauchy',  'genextreme']\n",
    "#  'fisk',  'fatiguelife',  'gumbel_r',  'gengamma','invweibull',\n",
    "#  'invgamma',  'mielke',  'powerlognorm',  'nct',\n",
    "#  'johnsonsu',  'lognorm',  'invgauss',  'loglaplace',\n",
    "#  'recipinvgauss',  'pearson3',  'laplace', 't',  'tukeylambda',\n",
    "#  'hypsecant',  'weibull_min',  'logistic',  'kstwobign',\n",
    "#               'nakagami',  'rayleigh',  'rice',  'maxwell']\n",
    "dist_names = ['beta']\n",
    "dist_names = ['levy_stable']\n",
    "\n",
    "do_plot = 1\n",
    "d_per_name = {}\n",
    "pdf_fit_per_name = {}\n",
    "\n",
    "for dist_name in dist_names:\n",
    "    dist = getattr(scipy.stats, dist_name)\n",
    "    params = dist.fit(y)\n",
    "    arg = params[:-2]\n",
    "    loc = params[-2]\n",
    "    scale = params[-1]\n",
    "    if arg:\n",
    "        pdf_fitted = dist.pdf(binloc, *arg, loc=loc, scale=scale) * size\n",
    "    else:\n",
    "        pdf_fitted = dist.pdf(binloc, loc=loc, scale=scale) * size\n",
    "    if do_plot and np.max(pdf_fitted) < np.max(binh) * 3:\n",
    "        plt.plot(binloc, pdf_fitted, label=dist_name)\n",
    "    plt.xlim(-6,20)\n",
    "    pdf_fit_per_name[dist_name] = pdf_fitted\n",
    "    \n",
    "    discrep = np.sum(np.abs( binh-pdf_fitted[:-1] ) ) / len(binh)\n",
    "    d_per_name[dist_name] = discrep\n",
    "plt.legend(loc='upper right')\n",
    "plt.show()"
   ]
  },
  {
   "cell_type": "code",
   "execution_count": null,
   "id": "e5b6d8c7",
   "metadata": {},
   "outputs": [],
   "source": [
    "arg"
   ]
  },
  {
   "cell_type": "code",
   "execution_count": null,
   "id": "fb42ff72",
   "metadata": {},
   "outputs": [],
   "source": [
    "help(sorted)"
   ]
  },
  {
   "cell_type": "code",
   "execution_count": null,
   "id": "11a9d2f1",
   "metadata": {},
   "outputs": [],
   "source": [
    "stl = sorted( list( d_per_name.items() ), key = lambda x: x[1] )\n",
    "stl_ext = [ (dn,v,pdf_fit_per_name[dn][0]) for  (dn, v) in stl]\n",
    "display(stl_ext)"
   ]
  },
  {
   "cell_type": "code",
   "execution_count": null,
   "id": "98137e2d",
   "metadata": {},
   "outputs": [],
   "source": [
    "list( set( ['exponpow', 'f', 'fatiguelife', 'fisk', 'foldcauchy', 'foldnorm', \n",
    "               'frechet_r', 'frechet_l', 'genlogistic', 'genpareto', 'genexpon', \n",
    "               'genextreme', 'gausshyper', 'gamma', 'gengamma', 'genhalflogistic', \n",
    "               'gilbrat', 'gompertz', 'gumbel_r', 'gumbel_l', 'halfcauchy'] ) - \\\n",
    "set( ['frechet_r',\n",
    " 'genhalflogistic',\n",
    " 'foldnorm',\n",
    " 'gilbrat',\n",
    " 'gompertz',\n",
    " 'genpareto',\n",
    " 'genexpon',\n",
    " 'halfcauchy',\n",
    " 'exponpow',\n",
    " 'gamma',\n",
    " 'frechet_l',\n",
    " 'f',\n",
    " 'gausshyper',\n",
    " 'gumbel_l'] ) )"
   ]
  },
  {
   "cell_type": "code",
   "execution_count": null,
   "id": "e2b223f9",
   "metadata": {},
   "outputs": [],
   "source": [
    "list(list(zip(*stl))[0])[:10]"
   ]
  },
  {
   "cell_type": "code",
   "execution_count": null,
   "id": "ab13977b",
   "metadata": {},
   "outputs": [],
   "source": [
    "list(list(zip(*stl))[0])[-14:]"
   ]
  },
  {
   "cell_type": "code",
   "execution_count": null,
   "id": "1939a488",
   "metadata": {},
   "outputs": [],
   "source": [
    "list(list(zip(*stl))[0])[-10:]"
   ]
  },
  {
   "cell_type": "code",
   "execution_count": null,
   "id": "6200d0ee",
   "metadata": {},
   "outputs": [],
   "source": [
    "len(binh), len(pdf_fitted)"
   ]
  },
  {
   "cell_type": "code",
   "execution_count": null,
   "id": "40aca920",
   "metadata": {},
   "outputs": [],
   "source": []
  },
  {
   "cell_type": "code",
   "execution_count": null,
   "id": "4f398bbf",
   "metadata": {},
   "outputs": [],
   "source": [
    "plt.plot(binh)\n",
    "plt.plot(pdf_fitted[:-1])"
   ]
  },
  {
   "cell_type": "code",
   "execution_count": null,
   "id": "378c2c10",
   "metadata": {},
   "outputs": [],
   "source": []
  },
  {
   "cell_type": "code",
   "execution_count": null,
   "id": "eb754d9c",
   "metadata": {},
   "outputs": [],
   "source": [
    "help(plt.subplots_adjust)"
   ]
  }
 ],
 "metadata": {
  "kernelspec": {
   "display_name": "Python 3",
   "language": "python",
   "name": "python3"
  },
  "language_info": {
   "codemirror_mode": {
    "name": "ipython",
    "version": 3
   },
   "file_extension": ".py",
   "mimetype": "text/x-python",
   "name": "python",
   "nbconvert_exporter": "python",
   "pygments_lexer": "ipython3",
   "version": "3.9.6"
  }
 },
 "nbformat": 4,
 "nbformat_minor": 5
}
