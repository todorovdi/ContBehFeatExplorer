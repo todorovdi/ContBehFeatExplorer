{
 "cells": [
  {
   "cell_type": "code",
   "execution_count": null,
   "id": "444beac2",
   "metadata": {},
   "outputs": [],
   "source": [
    "%load_ext autoreload\n",
    "%autoreload 2"
   ]
  },
  {
   "cell_type": "code",
   "execution_count": null,
   "id": "2715f1f8",
   "metadata": {},
   "outputs": [],
   "source": [
    "%load_ext autoreload\n",
    "%autoreload 2\n",
    "\n",
    "from IPython.display import Audio\n",
    "sound_file = '../beep-06.mp3'\n",
    "\n",
    "import globvars as gv\n",
    "import utils\n",
    "import utils_tSNE as utsne\n",
    "import utils_preproc as upre\n",
    "\n",
    "import os\n",
    "import sys\n",
    "import mne\n",
    "import json\n",
    "import matplotlib.pyplot as plt\n",
    "import numpy as np\n",
    "import h5py\n",
    "import multiprocessing as mpr\n",
    "import matplotlib as mpl\n",
    "import time\n",
    "import gc;\n",
    "import scipy.signal as sig\n",
    "import pandas as pd \n",
    "\n",
    "import numpy as np\n",
    "import utils_postprocess_HPC as postp\n",
    "import pymatreader\n",
    "import re\n",
    "\n",
    "data_dir = gv.data_dir\n",
    "from os.path import join as pjoin\n",
    "\n",
    "light_only = 1\n",
    "#light_only = 0\n",
    "ndaysBefore = None\n",
    "\n",
    "from dateutil import parser\n",
    "# start_time = parser.parse(\"6 Sept 2021 19:05:15\")\n",
    "# end_time = parser.parse(\"8 Sept 2021 21:21:45\")\n",
    "start_time = parser.parse(\"19 Sept 2021 01:00:15\")\n",
    "#start_time = parser.parse(\"9 Nov 2021 01:00:15\")\n",
    "#start_time = parser.parse(\"26 Nov 2021 01:00:15\")\n",
    "start_time = parser.parse(\"29 Nov 2021 01:21:45\")\n",
    "#start_time = parser.parse(\"12 Dec 2021 01:21:45\")\n",
    "end_time = parser.parse(\"30 Oct 2025 21:21:45\")\n",
    "#end_time = parser.parse(\"13 Dec 2021 11:00:00\")\n",
    "\n",
    "ndaysBefore = None\n",
    "#subdir = 'nointerp'\n",
    "#subdir = 'nofeatsel'\n",
    "subdir = 'joint_noskip'\n",
    "lookup_dir = pjoin(gv.data_dir,subdir)\n",
    "recent = postp.listRecent(days=ndaysBefore, lookup_dir= lookup_dir,\n",
    "                          start_time=start_time,\n",
    "                                   end_time=end_time)\n",
    "print(len(recent))\n",
    "rawnames = []\n",
    "for lf in recent:\n",
    "    st = 0\n",
    "    if light_only:\n",
    "        if not lf.startswith('_!'):\n",
    "            continue\n",
    "    rawname_regex = '([S0-9,]+_(on|off){1,2})'\n",
    "    if light_only:\n",
    "        r = re.match('_\\!_'+rawname_regex+'_.*',lf)\n",
    "    else:\n",
    "        r = re.match('_'+rawname_regex+'_.*',lf)\n",
    "    if r is None:\n",
    "        print(lf)\n",
    "        continue\n",
    "    cr = r.groups()[0]\n",
    "    if len(cr) < 8:\n",
    "        print(lf)\n",
    "        continue\n",
    "    rawnames += [ cr ]\n",
    "rawnames = list(sorted(set(rawnames)))\n",
    "print(rawnames)\n",
    "\n",
    "import utils_postprocess_HPC as postp\n",
    "prefixes = postp.listRecentPrefixes(days = ndaysBefore, light_only=light_only, \n",
    "                                    lookup_dir= lookup_dir, \n",
    "                                    custom_rawname_regex = rawname_regex, \n",
    "                                    start_time=start_time,\n",
    "                                   end_time=end_time)\n",
    "display(prefixes)"
   ]
  },
  {
   "cell_type": "code",
   "execution_count": null,
   "id": "87f5f9b6",
   "metadata": {},
   "outputs": [],
   "source": [
    "preloaded = None\n",
    "from utils_postprocess_HPC import checkPrefixCollectionConsistencty\n",
    "\n",
    "grouping_to_check= 'merge_nothing'\n",
    "it_to_check = 'basic'\n",
    "\n",
    "r = checkPrefixCollectionConsistencty(subdir,prefixes,start_time, end_time,  \n",
    "                                      grouping_to_check, it_to_check,\n",
    "                                      use_main_LFP_chan=1, light_only=1, \n",
    "                                     prefixes_ignore  = None, preloaded=preloaded)\n",
    "missing, preloaded = r\n",
    "print(missing)\n",
    "import gc; gc.collect()"
   ]
  },
  {
   "cell_type": "code",
   "execution_count": null,
   "id": "62108d6f",
   "metadata": {},
   "outputs": [],
   "source": [
    "#prefixes = ['onlyH_act'] #, 'onlyH', 'modLFP', 'modSrc_self']"
   ]
  },
  {
   "cell_type": "code",
   "execution_count": null,
   "id": "e62cbf6c",
   "metadata": {},
   "outputs": [],
   "source": [
    "# prefixes =['LFPrel_noself',\n",
    "#  'LFPrel_noself_onlyBpcorr',\n",
    "#  'LFPrel_noself_onlyCon',\n",
    "#  'LFPrel_noself_onlyRbcorr',\n",
    "#  'allb_beta_noH',\n",
    "#  'allb_gamma_noH',\n",
    "#  'allb_tremor_noH',\n",
    "#  'modLFP',\n",
    "#  'modSrc_self',\n",
    "#  'onlyH',\n",
    "#  'onlyH_act']"
   ]
  },
  {
   "cell_type": "code",
   "execution_count": null,
   "id": "3e995afc",
   "metadata": {},
   "outputs": [],
   "source": [
    "prefixes_all = prefixes"
   ]
  },
  {
   "cell_type": "code",
   "execution_count": null,
   "id": "cd766502",
   "metadata": {},
   "outputs": [],
   "source": [
    "#prefixes = ['modSrc']"
   ]
  },
  {
   "cell_type": "code",
   "execution_count": null,
   "id": "0a7110a3",
   "metadata": {},
   "outputs": [],
   "source": [
    "display(prefixes)"
   ]
  },
  {
   "cell_type": "code",
   "execution_count": null,
   "id": "41954856",
   "metadata": {},
   "outputs": [],
   "source": [
    "# prefixes = [ 'onlyH',\n",
    "#  'onlyH_noCB',\n",
    "#  'onlyH_noFrontalMed',\n",
    "#  'onlyH_noFrontalSup',\n",
    "#  'onlyH_noLFP',\n",
    "#  'onlyH_noOccipitalMid',\n",
    "#  'onlyH_noSensorimotor',\n",
    "#  'onlyH_noTemporalMid',\n",
    "#  'onlyMotorSrc',\n",
    "#  'onlyRestSrc']"
   ]
  },
  {
   "cell_type": "code",
   "execution_count": null,
   "id": "4d1a5e3d",
   "metadata": {},
   "outputs": [],
   "source": [
    "# prefixes = [ 'LFPrel_noself_onlyCon',\n",
    "#  'LFPrel_noself_onlyRbcorr',\n",
    "#  'modLFP',\n",
    "#  'modSrc_self',\n",
    "#  'onlyCBSrc',\n",
    "#  'onlyH']"
   ]
  },
  {
   "cell_type": "code",
   "execution_count": null,
   "id": "cd157df3",
   "metadata": {},
   "outputs": [],
   "source": [
    "#TODO save orig filename so that it is easier to find"
   ]
  },
  {
   "cell_type": "code",
   "execution_count": null,
   "id": "468ced54",
   "metadata": {},
   "outputs": [],
   "source": [
    "subdir"
   ]
  },
  {
   "cell_type": "code",
   "execution_count": null,
   "id": "743f4f19",
   "metadata": {},
   "outputs": [],
   "source": [
    "rawnames"
   ]
  },
  {
   "cell_type": "code",
   "execution_count": null,
   "id": "b6a14c03",
   "metadata": {},
   "outputs": [],
   "source": [
    "pwd"
   ]
  },
  {
   "cell_type": "code",
   "execution_count": null,
   "id": "3026c684",
   "metadata": {},
   "outputs": [],
   "source": [
    "# #label_types = ['allsep', 'trem_vs_all', 'trem_vs_quiet']\n",
    "# #label_types = ['allsep']\n",
    "\n",
    "# nraws_used_PCA = 2\n",
    "\n",
    "# set_explicit_nraws_used_PCA = 1\n",
    "# set_explicit_n_feats_PCA = 0\n",
    "# set_explicit_dim_PCA = 0\n",
    "\n",
    "# try:\n",
    "#     print(output_per_raw.keys() )\n",
    "# except (NameError,AttributeError) as e:\n",
    "#     output_per_raw = None\n",
    "labels_dict = utils.loadLabelsDict()\n",
    "    \n",
    "#subdir='SSS'\n",
    "#%debug\n",
    "sources_type = 'parcel_aal'  # or ''\n",
    "#subdir =''\n",
    "r = postp.collectPerformanceInfo3(None,prefixes, nraws_used='[0-9]{2,4}',                                                                                                    \n",
    "                                          sources_type = sources_type, \n",
    "                                           printFilenames=1,                                 \n",
    "                                            ndays_before=ndaysBefore,\n",
    "                                            use_main_LFP_chan=1,\n",
    "                                             subdir=subdir, remove_large_items = 1,\n",
    "                                 list_only=0, allow_multi_fn_same_prefix=0,\n",
    "                                 use_light_files = light_only, rawname_regex_full=1,\n",
    "                                  lighter_light = 0,\n",
    "                                 start_time=start_time,\n",
    "                                   end_time=end_time)\n",
    "#nraws_used='(10,12,20,24)'\n",
    "#output_per_raw,Ximp_per_raw,gis_per_raw = r\n",
    "output_per_raw,_,_ = r\n",
    "print('len(output_per_raw) =', len(output_per_raw))\n",
    "import gc; gc.collect()\n",
    "\n",
    "np.savez(pjoin(gv.data_dir,subdir,'gathered.npz'), output_per_raw=output_per_raw )\n",
    "\n",
    "Audio(filename=sound_file, autoplay=True)\n",
    "\n",
    "import utils_postprocess as pp\n",
    "tpll = pp.multiLevelDict2TupleList(output_per_raw,4,3)"
   ]
  },
  {
   "cell_type": "code",
   "execution_count": null,
   "id": "56cd5cb0",
   "metadata": {},
   "outputs": [],
   "source": [
    "z0 = [tpl[:-1] for tpl in tpll]\n",
    "#rns_ord, prefs_ord, grp_ord, it_ord = list (zip(*z0  ) )\n",
    "tpll_reshaped = np.array( list (zip(*z0  ) ) )"
   ]
  },
  {
   "cell_type": "code",
   "execution_count": null,
   "id": "51929b57",
   "metadata": {},
   "outputs": [],
   "source": [
    "from utils_postprocess_HPC import checkTupleListTableCompleteness\n",
    "b,missing = checkTupleListTableCompleteness(tpll_reshaped)\n",
    "\n",
    "outputs_filtered = postp.filterOutputs(output_per_raw, rns=rawnames , \n",
    "                    prefs=prefixes, grps = ['merge_nothing'] )\n",
    "b,missing =  checkTupleListTableCompleteness(outputs_filtered)\n",
    "print(missing)"
   ]
  },
  {
   "cell_type": "markdown",
   "id": "a5992f5d",
   "metadata": {},
   "source": [
    "# Plot confmat info"
   ]
  },
  {
   "cell_type": "code",
   "execution_count": null,
   "id": "c0cec3b0",
   "metadata": {},
   "outputs": [],
   "source": [
    "revdict_lenc"
   ]
  },
  {
   "cell_type": "code",
   "execution_count": null,
   "id": "24d16d53",
   "metadata": {},
   "outputs": [],
   "source": [
    "revdict_user = {'trem_L':0, 'notrem_L':1, 'hold_L':2, 'move_L':3}"
   ]
  },
  {
   "cell_type": "code",
   "execution_count": null,
   "id": "85fd9aea",
   "metadata": {},
   "outputs": [],
   "source": [
    "from utils_postprocess_HPC import confinfo_from_EBM,confinfo_from_XGB\n",
    "#rr = confinfo_from_EBM(tpll[:2])\n",
    "inds = np.where( np.array(tpll_reshaped[1] ) == 'onlyH_act' )[0]\n",
    "rr = confinfo_from_XGB( [tpll[ind] for ind in inds ] )\n",
    "\n",
    "Ms_full, matnames, matdicts, colnames, revdict_lenc, main_colind = rr\n",
    "print(matnames)\n",
    "\n",
    "#from matplotlib import rc,rcParams\n",
    "\n",
    "# activate latex text rendering\n",
    "# rc('text', usetex=False)\n",
    "# #rc('axes', linewidth=2)\n",
    "rc('font', weight='normal')\n",
    "#rcParams['text.latex.preamble'] = [r'\\usepackage{sfmath} \\boldmath']\n",
    "# extract from small confmats\n",
    "#Ms = [np.eye(3), np.eye(3)*0.5]\n",
    "#colnames = ['A', 'B', 'C']\n",
    "#matnames = ['mat1', 'mat2']\n",
    "#main_colind = 1\n",
    "#def confmat2bar(M,colnames):\n",
    "# 1 vs every separately\n",
    "nr = 1   #len(matnames)\n",
    "    #nr = dat_pri[0].shape[0]\n",
    "#nc = len(parcel_names)\n",
    "nc = 1\n",
    "#fig,axs = plt.subplots(nr,nc,figsize=(nc*ww,nr*hh))\n",
    "#axs = axs.reshape((nr,nc))\n",
    "plt.figure(figsize=(20,4))\n",
    "ax = plt.gca()\n",
    "\n",
    "Nbars = 0\n",
    "show_merged = 1;   Nbars += 4\n",
    "show_diag = 1;     Nbars += 3\n",
    "show_off_diag = 1; Nbars += 3 * 2\n",
    "\n",
    "\n",
    "Mfull_per_matname = {}\n",
    "\n",
    "for Mi,matname in enumerate(matnames):\n",
    "    Mfull = np.ones((4,4)) * np.nan\n",
    "    Mfull_per_matname[matname] = Mfull\n",
    "    \n",
    "    M = Ms_full[Mi]\n",
    "    assert len(colnames) == len(M)\n",
    "    barheights = [0.] * Nbars\n",
    "    barnames = len(barheights) * ['']\n",
    "    ind = 0\n",
    "    \n",
    "    tremind = revdict_user['trem_L']\n",
    "    Mfull[tremind,tremind] = M[main_colind, main_colind]\n",
    "    \n",
    "    if show_merged:\n",
    "        barheights[ind] = M[main_colind, main_colind] * 100\n",
    "        barnames[ind] =   f'{colnames[main_colind]}\\n{colnames[main_colind]}'\n",
    "        ind += 1\n",
    "        barheights[ind] = M[main_colind+1, main_colind+1]  * 100\n",
    "        barnames[ind] =   f'{colnames[main_colind+1]}\\n{colnames[main_colind+1]}'\n",
    "        ind += 1\n",
    "\n",
    "        barheights[ind] = M[main_colind+1, main_colind] * 100\n",
    "        barnames[ind] =   f'{colnames[main_colind+1]}\\n{colnames[main_colind]}'\n",
    "        ind += 1\n",
    "        barheights[ind] = M[main_colind, main_colind+1]  * 100\n",
    "        barnames[ind] =   f'{colnames[main_colind]}\\n{colnames[main_colind+1]}'\n",
    "        ind += 1\n",
    "\n",
    "    #ax = axs[0,0]    \n",
    "\n",
    "\n",
    "    Mdict = matdicts[Mi]\n",
    "    for (c1,c2),perf_dict_cur_cp in Mdict.items():\n",
    "        M = perf_dict_cur_cp['confmat_aver']\n",
    "        #print(,M)\n",
    "        print(matname,c1,c2,M)\n",
    "        assert c1[:4] == 'trem'\n",
    "        c2ind = revdict_user[c2]\n",
    "        Mfull[tremind,c2ind] = M[0, 1]\n",
    "        if show_diag:\n",
    "            barheights[ind] = M[0, 0] * 100\n",
    "            barnames[ind] =   f'{c1}\\n{c1}\\nw_{c2}'\n",
    "            ind += 1\n",
    "        if show_off_diag:\n",
    "            barheights[ind] = M[0, 1] * 100\n",
    "            barnames[ind] =   f'{c1}\\n!{c1}\\nw_{c2}'\n",
    "            ind += 1\n",
    "            \n",
    "            barheights[ind] = M[1, 0] * 100\n",
    "            barnames[ind] =   f'!{c1}\\n{c1}\\nw_{c2}'\n",
    "            ind += 1\n",
    "        \n",
    "\n",
    "    print(barheights )\n",
    "    ax.bar(barnames,barheights,label=matnames[Mi], alpha=0.7)\n",
    "# for Mi,M in enumerate(Ms):\n",
    "#     barnames = [''] * len(colnames)\n",
    "#     barheights = [0.]*len(colnames)\n",
    "#     for cni,colname in enumerate(colnames):\n",
    "#         barnames[cni] =   f'True:{colnames[main_colind]}\\nPred:{colname}' \n",
    "#         barheights[cni] = M[main_colind, cni]\n",
    "\n",
    "#     ax.bar(barnames,barheights,label=matnames[Mi])\n",
    "\n",
    "ax.legend()\n",
    "ax.set_ylim(0,100)\n",
    "ax.set_title('True <label1>\\n Pred <label2>')\n",
    "# for pind, parcel_name in enumerate(parcel_names):\n",
    "#     perf_cur = \n",
    "#     barheights += [ perf_cur ]\n",
    "\n",
    "figfname_full = pjoin(gv.dir_fig,subdir, 'barplot_confmat.pdf')\n",
    "plt.savefig(figfname_full)\n",
    "print('saved to ',figfname_full)"
   ]
  },
  {
   "cell_type": "code",
   "execution_count": null,
   "id": "deb856a3",
   "metadata": {},
   "outputs": [],
   "source": [
    "output_per_raw['S01,S02,S04,S05,S07_on']['onlyH_act_LFPand_exclude14'].keys()"
   ]
  },
  {
   "cell_type": "code",
   "execution_count": null,
   "id": "f41233b1",
   "metadata": {},
   "outputs": [],
   "source": [
    "k,v = zip(* list(revdict_user.items()) )\n",
    "\n",
    "dirdict_user = dict(zip(v, [kk[:-2] for kk in k ])  )\n",
    "dirdict_user\n",
    "\n",
    "dirdict_user[revdict_user['notrem_L']] = 'quiet'\n",
    "\n",
    "plt.figure(figsize=(4,4))\n",
    "ax = plt.gca()\n",
    "for Mi,matname in enumerate(matnames):\n",
    "    barnames = []\n",
    "    barheights = []\n",
    "    Mfull = Mfull_per_matname[matname]\n",
    "    for k in sorted(dirdict_user.keys()):\n",
    "        barnames += [ dirdict_user[k] ]\n",
    "        barheights += [Mfull[0,k] * 100 ]\n",
    "    ax.bar(barnames,barheights,label=matname, alpha=0.7)\n",
    "ax.set_title('Tremor predicted as')\n",
    "ax.set_ylabel('% of occurence')\n",
    "ax.set_xlabel('behavioral state')\n",
    "ax.legend()\n",
    "\n",
    "figfname_full = pjoin(gv.dir_fig,subdir, 'barplot_confmat_small.pdf')\n",
    "plt.savefig(figfname_full)\n",
    "print('saved to ',figfname_full)"
   ]
  },
  {
   "cell_type": "code",
   "execution_count": null,
   "id": "bebc6e1e",
   "metadata": {},
   "outputs": [],
   "source": [
    "figfname_full"
   ]
  },
  {
   "cell_type": "code",
   "execution_count": null,
   "id": "e0ef5cb0",
   "metadata": {},
   "outputs": [],
   "source": [
    "# extract from full confmat\n",
    "#Ms = [np.eye(3), np.eye(3)*0.5]\n",
    "#colnames = ['A', 'B', 'C']\n",
    "#matnames = ['mat1', 'mat2']\n",
    "#main_colind = 1\n",
    "#def confmat2bar(M,colnames):\n",
    "# 1 vs every separately\n",
    "\n",
    "assert len(colnames) == len(Ms[0])\n",
    "nr = 1   #len(matnames)\n",
    "    #nr = dat_pri[0].shape[0]\n",
    "#nc = len(parcel_names)\n",
    "nc = 1\n",
    "#fig,axs = plt.subplots(nr,nc,figsize=(nc*ww,nr*hh))\n",
    "#axs = axs.reshape((nr,nc))\n",
    "\n",
    "\n",
    "#ax = axs[0,0]\n",
    "ax = plt.gca()\n",
    "\n",
    "for Mi,M in enumerate(Ms):\n",
    "    barnames = [''] * len(colnames)\n",
    "    barheights = [0.]*len(colnames)\n",
    "    for cni,colname in enumerate(colnames):\n",
    "        barnames[cni] =   f'True:{colnames[main_colind]}\\nPred:{colname}' \n",
    "        barheights[cni] = M[main_colind, cni]\n",
    "\n",
    "    ax.bar(barnames,barheights,label=matnames[Mi])\n",
    "\n",
    "ax.legend()\n",
    "ax.set_ylim(0,1)\n",
    "# for pind, parcel_name in enumerate(parcel_names):\n",
    "#     perf_cur = \n",
    "#     barheights += [ perf_cur ]\n",
    "\n",
    "\n",
    "#plt.bar()"
   ]
  },
  {
   "cell_type": "markdown",
   "id": "0b524edf",
   "metadata": {},
   "source": [
    "### Full confmat (unmerged)"
   ]
  },
  {
   "cell_type": "code",
   "execution_count": null,
   "id": "01ef8358",
   "metadata": {},
   "outputs": [],
   "source": [
    "from utils_postprocess_HPC import filterOutputs\n",
    "outputs_filtered = postp.filterOutputs(output_per_raw,prefs=['onlyH_act'], grps=['merge_nothing'])"
   ]
  },
  {
   "cell_type": "code",
   "execution_count": null,
   "id": "b384fea6",
   "metadata": {},
   "outputs": [],
   "source": [
    "outputs_filtered['S01,S02,S04,S05,S07_on']['onlyH_act']['merge_nothing']['basic'].keys()"
   ]
  },
  {
   "cell_type": "code",
   "execution_count": null,
   "id": "3dbfea10",
   "metadata": {},
   "outputs": [],
   "source": [
    "outputs_filtered['S01,S02,S04,S05,S07_on']['']"
   ]
  },
  {
   "cell_type": "code",
   "execution_count": null,
   "id": "ae110c71",
   "metadata": {},
   "outputs": [],
   "source": [
    "printOutputInfo(  outputs_filtered, 'prefix,grouping')"
   ]
  },
  {
   "cell_type": "markdown",
   "id": "bef33ef7",
   "metadata": {},
   "source": [
    "# plot confusion matrices"
   ]
  },
  {
   "cell_type": "code",
   "execution_count": null,
   "id": "baadba4c",
   "metadata": {},
   "outputs": [],
   "source": [
    "help(np.linspace)"
   ]
  },
  {
   "cell_type": "code",
   "execution_count": null,
   "id": "ebba9f09",
   "metadata": {},
   "outputs": [],
   "source": [
    "np.linspace(0,0.3,3)"
   ]
  },
  {
   "cell_type": "markdown",
   "id": "a26280a5",
   "metadata": {},
   "source": [
    "# Confmats "
   ]
  },
  {
   "cell_type": "code",
   "execution_count": null,
   "id": "22883d5c",
   "metadata": {},
   "outputs": [],
   "source": [
    "#%debug\n",
    "plt.rcParams.update({'font.size': 15})\n",
    "postp.plotConfmats(outputs_filtered, ww = 5, hh =5, keep_beh_state_sides=0, labelpad_cbar=140)"
   ]
  },
  {
   "cell_type": "code",
   "execution_count": null,
   "id": "24909b45",
   "metadata": {},
   "outputs": [],
   "source": []
  },
  {
   "cell_type": "code",
   "execution_count": null,
   "id": "878be0a8",
   "metadata": {},
   "outputs": [],
   "source": [
    "[tpl[:-1] for tpl in tpll_filtered]"
   ]
  },
  {
   "cell_type": "code",
   "execution_count": null,
   "id": "ba662570",
   "metadata": {},
   "outputs": [],
   "source": [
    "tpll_filtered = pp.multiLevelDict2TupleList(outputs_filtered,4,3) "
   ]
  },
  {
   "cell_type": "code",
   "execution_count": null,
   "id": "ae490c56",
   "metadata": {},
   "outputs": [],
   "source": [
    "postp.plotConfmats()"
   ]
  },
  {
   "cell_type": "code",
   "execution_count": null,
   "id": "b10cb2e6",
   "metadata": {},
   "outputs": [],
   "source": [
    "#Mfull_per_matname"
   ]
  },
  {
   "cell_type": "code",
   "execution_count": null,
   "id": "f7d8502f",
   "metadata": {},
   "outputs": [],
   "source": [
    "pp.printSizeInfo(r)"
   ]
  },
  {
   "cell_type": "code",
   "execution_count": null,
   "id": "5150f734",
   "metadata": {},
   "outputs": [],
   "source": [
    "r['perf_per_cp']"
   ]
  },
  {
   "cell_type": "code",
   "execution_count": null,
   "id": "bf2558ff",
   "metadata": {},
   "outputs": [],
   "source": [
    "r['hyperopt_trials'].__dict__.keys()"
   ]
  },
  {
   "cell_type": "code",
   "execution_count": null,
   "id": "dd87ef28",
   "metadata": {},
   "outputs": [],
   "source": [
    "trials = r['hyperopt_trials']"
   ]
  },
  {
   "cell_type": "code",
   "execution_count": null,
   "id": "5d572bc0",
   "metadata": {},
   "outputs": [],
   "source": [
    "trials.losses"
   ]
  },
  {
   "cell_type": "code",
   "execution_count": null,
   "id": "3f2f7980",
   "metadata": {},
   "outputs": [],
   "source": [
    "a = {'K1':1, 'K2':2}\n",
    "a.update({'K1':10, 'K3':3})\n",
    "print(a)"
   ]
  },
  {
   "cell_type": "code",
   "execution_count": null,
   "id": "240d322f",
   "metadata": {},
   "outputs": [],
   "source": [
    "trial_ind = np.argmin( trials.losses() )\n",
    "best_detailed = trials.results[ trial_ind ]['effparams']\n",
    "best_detailed"
   ]
  },
  {
   "cell_type": "markdown",
   "id": "00375ec6",
   "metadata": {},
   "source": [
    "# Brain maps"
   ]
  },
  {
   "cell_type": "code",
   "execution_count": null,
   "id": "e3a19bb7",
   "metadata": {},
   "outputs": [],
   "source": [
    "pref_LFPand"
   ]
  },
  {
   "cell_type": "code",
   "execution_count": null,
   "id": "811a94dd",
   "metadata": {},
   "outputs": [],
   "source": []
  },
  {
   "cell_type": "code",
   "execution_count": null,
   "id": "79c8bb05",
   "metadata": {},
   "outputs": [],
   "source": [
    "prefs"
   ]
  },
  {
   "cell_type": "code",
   "execution_count": null,
   "id": "3df7abbd",
   "metadata": {},
   "outputs": [],
   "source": [
    "outputs_filtered.keys()"
   ]
  },
  {
   "cell_type": "code",
   "execution_count": null,
   "id": "87a3fa1a",
   "metadata": {},
   "outputs": [],
   "source": [
    "mco = tpll[0][-1]\n",
    "from utils_postprocess_HPC import computeImprovementsPerParcelGroup,plotTableInfoBrain\n",
    "from utils_postprocess_HPC import filterOutputs\n",
    "\n",
    "prefs = [pref for pref in prefixes if pref.startswith('onlyH_act_only') ]\n",
    "prefs += [pref for pref in prefixes if pref.startswith('onlyH_act_exclude')]\n",
    "prefs += ['onlyH_act']\n",
    "outputs_filtered = postp.filterOutputs(output_per_raw,prefs=prefs, grps = ['merge_nothing'] )\n",
    "\n",
    "infos = []\n",
    "for mode in ['only','exclude']:\n",
    "    #%debug\n",
    "    impr_wrt_base_per_medcond_per_pgn, impr_per_medcond_per_pgn, impr_wrtLFP_per_medcond_per_pgn, perfs_aver_per_medcond =\\\n",
    "        computeImprovementsPerParcelGroup(outputs_filtered, 'onlyH_act', mode = mode, inv_exclude = True)\n",
    "#        return impr_wrt_base_per_medcond_per_pgn, impr_per_medcond_per_pgn, impr_wrtLFP_per_medcond_per_pgn, perfs_aver_per_medcond\n",
    "\n",
    "    for medcond in impr_per_medcond_per_pgn.keys():\n",
    "        axs,crlb, info = plotTableInfoBrain(impr_wrt_base_per_medcond_per_pgn , medcond, mco, \n",
    "                           head_subj_ind=None, mode=mode, subdir=subdir)\n",
    "        infos += [(mode,medcond,info)]\n",
    "        \n",
    "        \n",
    "        plt.close()\n",
    "        #break\n",
    "    #break"
   ]
  },
  {
   "cell_type": "code",
   "execution_count": null,
   "id": "f1e6e5e9",
   "metadata": {},
   "outputs": [],
   "source": [
    "infoinds = [0,1]\n",
    "for ind in infoinds:\n",
    "    info_ = infos[ind]\n",
    "    print(info_[:2])\n",
    "    info = info_[2]\n",
    "    d = dict( zip(info['brain_area_labels'], info['intensities']) )\n",
    "    print( d['Cerebellum'] )\n",
    "    \n",
    "    "
   ]
  },
  {
   "cell_type": "code",
   "execution_count": null,
   "id": "dcb8a842",
   "metadata": {},
   "outputs": [],
   "source": [
    "info.keys()"
   ]
  },
  {
   "cell_type": "markdown",
   "id": "99e668cc",
   "metadata": {},
   "source": [
    "# Improvement compared to LFP"
   ]
  },
  {
   "cell_type": "code",
   "execution_count": null,
   "id": "5d6a446c",
   "metadata": {},
   "outputs": [],
   "source": [
    "mco = tpll[0][-1]\n",
    "pref_LFPand = [pref for pref in prefixes if pref.startswith('onlyH_act_LFPand_') ]\n",
    "pref_LFPand += ['onlyH_act', 'modLFP']\n",
    "outputs_filtered = postp.filterOutputs(output_per_raw,prefs=pref_LFPand, grps = ['merge_nothing'])\n",
    "\n",
    "from utils_postprocess_HPC import computeImprovementsPerParcelGroup,plotTableInfoBrain\n",
    "for mode in ['LFPand_only','LFPand_exclude']:\n",
    "    #%debug\n",
    "    impr_wrt_base_per_medcond_per_pgn, impr_per_medcond_per_pgn, impr_wrtLFP_per_medcond_per_pgn, perfs_aver_per_medcond =\\\n",
    "        computeImprovementsPerParcelGroup(outputs_filtered, 'onlyH_act', 'modLFP',\n",
    "                                          mode = mode, inv_exclude = True)\n",
    "#        return impr_wrt_base_per_medcond_per_pgn, impr_per_medcond_per_pgn, impr_wrtLFP_per_medcond_per_pgn, perfs_aver_per_medcond\n",
    "\n",
    "    for medcond in impr_per_medcond_per_pgn.keys():\n",
    "        axs,crlb, info = plotTableInfoBrain(impr_wrt_base_per_medcond_per_pgn , medcond, mco, \n",
    "                        head_subj_ind=None, mode=mode, subdir=subdir)\n",
    "        \n",
    "        \n",
    "        plt.close()\n",
    "        #break\n",
    "    #break"
   ]
  },
  {
   "cell_type": "code",
   "execution_count": null,
   "id": "9daa3b03",
   "metadata": {},
   "outputs": [],
   "source": [
    "list( zip(*a) )"
   ]
  },
  {
   "cell_type": "code",
   "execution_count": null,
   "id": "6306db27",
   "metadata": {},
   "outputs": [],
   "source": [
    "a = [ tpl[1:-2] for tpl in tpll ]\n",
    "prefs,groups = list(zip(*a) )\n",
    "inds = np.where( np.array(groups) == 'merge_nothing')[0]\n",
    "inds = np.where( np.array(groups) == 'merge_all_not_trem')[0]\n",
    "sorted( np.array(prefs)[inds], key = lambda x:x[0] )"
   ]
  },
  {
   "cell_type": "code",
   "execution_count": null,
   "id": "b96e3c0e",
   "metadata": {},
   "outputs": [],
   "source": [
    "tpll = pp.multiLevelDict2TupleList(output_per_raw,4,3, prefix_sort = prefixes)\n",
    "from utils_postprocess_HPC import printOutputInfo\n",
    "printOutputInfo(output_per_raw, 'grouping', sort_dict = {'prefix':prefixes} )\n",
    "printOutputInfo(output_per_raw, 'prefix',  sort_dict = {'prefix':prefixes} )"
   ]
  },
  {
   "cell_type": "markdown",
   "id": "4e0b2ef2",
   "metadata": {},
   "source": [
    "# Plot performances"
   ]
  },
  {
   "cell_type": "code",
   "execution_count": null,
   "id": "3e6bae7a",
   "metadata": {},
   "outputs": [],
   "source": [
    "prefixes_desired = ['LFPrel_noself',\n",
    " 'allb_beta_noH',\n",
    " 'allb_gamma_noH',\n",
    " 'allb_tremor_noH',\n",
    " 'modLFP',\n",
    " 'modSrc',\n",
    " 'modSrc_self',\n",
    " 'onlyH',\n",
    " 'onlyH_act',\n",
    " 'onlyH_act_LFPand_only0',\n",
    " 'onlyH_act_LFPand_only1',\n",
    " 'onlyH_act_LFPand_only10',\n",
    " 'onlyH_act_LFPand_only11',\n",
    " 'onlyH_act_LFPand_only12',\n",
    " 'onlyH_act_LFPand_only13',\n",
    " 'onlyH_act_LFPand_only14',\n",
    " 'onlyH_act_LFPand_only2',\n",
    " 'onlyH_act_LFPand_only3',\n",
    " 'onlyH_act_LFPand_only4',\n",
    " 'onlyH_act_LFPand_only5',\n",
    " 'onlyH_act_LFPand_only6',\n",
    " 'onlyH_act_LFPand_only7',\n",
    " 'onlyH_act_LFPand_only8',\n",
    " 'onlyH_act_LFPand_only9',\n",
    " 'onlyH_act_only0',\n",
    " 'onlyH_act_only1',\n",
    " 'onlyH_act_only10',\n",
    " 'onlyH_act_only11',\n",
    " 'onlyH_act_only12',\n",
    " 'onlyH_act_only13',\n",
    " 'onlyH_act_only14',\n",
    " 'onlyH_act_only15',\n",
    " 'onlyH_act_only2',\n",
    " 'onlyH_act_only3',\n",
    " 'onlyH_act_only4',\n",
    " 'onlyH_act_only5',\n",
    " 'onlyH_act_only6',\n",
    " 'onlyH_act_only7',\n",
    " 'onlyH_act_only8',\n",
    " 'onlyH_act_only9']"
   ]
  },
  {
   "cell_type": "code",
   "execution_count": null,
   "id": "93882517",
   "metadata": {},
   "outputs": [],
   "source": [
    "outputs_filtered_desired = postp.filterOutputs(output_per_raw, rns=rawnames , \n",
    "                    prefs=prefixes_desired, grps = ['merge_nothing'] )"
   ]
  },
  {
   "cell_type": "code",
   "execution_count": null,
   "id": "61e90d36",
   "metadata": {},
   "outputs": [],
   "source": [
    "import utils_postprocess as pp\n",
    "tpll = pp.multiLevelDict2TupleList(outputs_filtered_desired,4,3, \n",
    "                                   prefix_sort = prefixes_desired)\n",
    "#tpll [0][:4]  \n",
    "\n",
    "mult_clf_output = tpll[0][-1]\n",
    "all_thrs = mult_clf_output['feat_variance_q_thr'][-3:]\n",
    "#thr0,thr1,thr2='0.6','0.75','0.9'\n",
    "thr0,thr1,thr2='0.87','0.92','0.99'\n",
    "\n",
    "all_thrs = mult_clf_output['feat_variance_q_thr'][-1:]\n",
    "\n",
    "\n",
    "all_LDA =  []\n",
    "all_XGB = ['all_present_features','after_VF_threshold']\n",
    "all_XGB += ['all_present_features','interpret_EBM']\n",
    "#all_XGB += ['all_present_features','interpret_DPEBM']\n",
    "\n",
    "for thr_cur in all_thrs:\n",
    "    all_XGB += [ f'best_PCA-derived_features_{thr_cur}']\n",
    "\n",
    "perf_to_use_list = []\n",
    "if len(all_LDA):\n",
    "    for v in all_LDA[1:]:\n",
    "        perf_to_use_list += [('LDA',all_LDA[0],v)]\n",
    "for v in all_XGB[1:]:\n",
    "    perf_to_use_list += [('XGB',all_XGB[0],v,'across_subj')]\n",
    "\n",
    "perf_to_use_list += [('XGB','all_present_features',None,None)]\n",
    "###########################################\n",
    "display(perf_to_use_list)\n",
    "\n",
    "# to_show = [('allsep','merge_nothing','basic'), ('trem_vs_all','merge_all_not_trem','basic'),\n",
    "#         ('trem_vs_2class','merge_movements','basic')]\n",
    "#to_show = [('trem_vs_mvt','merge_movements','trem_vs_hold&move'), \n",
    "#           ('trem_vs_all','merge_all_not_trem','basic') ]\n",
    "#to_show = [('trem_vs_all','merge_all_not_trem','basic') ]\n",
    "to_show = [('trem_vs_all','merge_nothing','basic') ]\n",
    "\n",
    "#             ('trem_vs_2class','merge_movements','basic'),\n",
    "#           ('trem_vs_quiet','merge_nothing','trem_vs_quiet') ]\n",
    "#          ('allsep','merge_nothing','basic')]\n",
    "\n",
    "\n",
    "\n",
    "# warnings.simplefilter('error')\n",
    "# table_info_per_perf_type, table_per_perf_type = \\\n",
    "#     postp.prepTableInfo2(output_per_raw, prefixes=prefixes, \n",
    "#     perf_to_use_list=perf_to_use_list)\n",
    "\n",
    "#%debug\n",
    "# import warnings\n",
    "# with warnings.catch_warnings():\n",
    "#warnings.simplefilter('error')\n",
    "table_info_per_perf_type, table_per_perf_type = \\\n",
    "    postp.prepTableInfo3(outputs_filtered_desired, prefixes=prefixes, \n",
    "    perf_to_use_list=perf_to_use_list, to_show=to_show)"
   ]
  },
  {
   "cell_type": "code",
   "execution_count": null,
   "id": "daf57836",
   "metadata": {},
   "outputs": [],
   "source": [
    "perf_to_use_list"
   ]
  },
  {
   "cell_type": "code",
   "execution_count": null,
   "id": "3d5fd1be",
   "metadata": {},
   "outputs": [],
   "source": [
    "#perf_tuple = perf_to_use_list[0]\n",
    "#%debug\n",
    "#for perf_tuple in perf_to_use_list[:1]:\n",
    "for perf_tuple in perf_to_use_list:\n",
    "    print(perf_tuple)\n",
    "    postp.plotTableInfos2(table_info_per_perf_type, perf_tuple=perf_tuple, \n",
    "                          output_subdir=subdir,use_recalc_perf=False, \n",
    "                          prefixes_sorted=prefixes_desired, \n",
    "                          crop_rawname=slice(-3,None), set_nice_names = True) \n",
    "    plt.close()\n",
    "    import gc;gc.collect()\n",
    "    #break\n",
    "#postp.plotTableInfos2(table_info_per_perf_type, perf_kind='LDA', keys = None, output_subdir=''): "
   ]
  },
  {
   "cell_type": "code",
   "execution_count": null,
   "id": "be77ef46",
   "metadata": {},
   "outputs": [],
   "source": [
    "#mult_clf_output\n",
    "postp.accessMultiLevelDict(output_per_raw,f'{rawnames[0]}/{prefixes[0]}/merge_all_not_trem/basic') . keys()"
   ]
  },
  {
   "cell_type": "code",
   "execution_count": null,
   "id": "9f3a26c2",
   "metadata": {},
   "outputs": [],
   "source": [
    "perf_to_use_list"
   ]
  },
  {
   "cell_type": "code",
   "execution_count": null,
   "id": "fcbae4e1",
   "metadata": {},
   "outputs": [],
   "source": [
    "# hack to get correct prefixes even for buggy runstrings\n",
    "\n",
    "from utils_postprocess_HPC import loadRunCorresp\n",
    "corresp = loadRunCorresp(tpll[-1][-1])[0]\n",
    "pref_cand = [prefix for prefix in corresp.keys() if (corresp[prefix][1] == 'LFP' and \\\n",
    "                                                   (prefix.find('exclude') >= 0 or prefix.find('only') >= 0) ) ]\n",
    "print(pref_cand)\n",
    "#assert len(exclLFP) == 1\n",
    "good_prefs_permod = {'msrc':[], 'LFP':[]}\n",
    "good_prefs_cortex_only = []\n",
    "for pref in pref_cand:\n",
    "    #output_per_raw[rawnames[0]][exclLFP[0]]['merge_all_not_trem']['basic']['cmd']\n",
    "    cmd = output_per_raw[rawnames[0]][pref]['merge_all_not_trem']['basic']['cmd']\n",
    "    for mod in good_prefs_permod.keys():\n",
    "        d = dict(cmd[0])\n",
    "        if d['--mods'] == mod:\n",
    "            good_prefs_permod[mod] += [pref]\n",
    "        print(pref, d['--mods'], )\n",
    "\n",
    "for mod in good_prefs_permod:\n",
    "    assert len(good_prefs_permod[mod]) == 1, good_prefs_permod\n",
    "\n",
    "    \n",
    "for mod in good_prefs_permod:\n",
    "    good_pref = good_prefs_permod[mod][0]\n",
    "    print(mod,good_pref)\n",
    "    cmd = output_per_raw[rawnames[0]][good_pref]['merge_all_not_trem']['basic']['cmd']\n",
    "    display( dict(cmd[0]) )"
   ]
  },
  {
   "cell_type": "code",
   "execution_count": null,
   "id": "974df44f",
   "metadata": {},
   "outputs": [],
   "source": [
    "cmd = output_per_raw[rawnames[0]]['onlyH_act']['merge_all_not_trem']['basic']['cmd']\n",
    "display( dict(cmd[0]) )"
   ]
  },
  {
   "cell_type": "markdown",
   "id": "7252f49e",
   "metadata": {},
   "source": [
    "# Main feat subsets compare"
   ]
  },
  {
   "cell_type": "code",
   "execution_count": null,
   "id": "6bf5c955",
   "metadata": {},
   "outputs": [],
   "source": [
    "plotname_pref = 'largefeatsets'\n",
    "prefix2final_name = None\n",
    "prefix2final_name = {'onlyH' : 'Hjorth parameters: LFP + cortex', \n",
    "                      'onlyH_act':'Hjorth activity: LFP + cortex',\n",
    "                    'allb_beta_noH':'beta band-related, w/o Hjorth',\n",
    "                    'allb_gamma_noH':'gamma band-related, w/o Hjorth' }\n",
    "#%debug\n",
    "#TODO: disp numbers\n",
    "defsp = 'special:min(sens,spec)'\n",
    "score = defsp\n",
    "score = 'bacc'\n",
    "prefixes_final = list( prefix2final_name.keys() )\n",
    "#prefixes_final = prefixes_desired\n",
    "#prefixes_final = ['modLFP','modSrc_self','onlyH_act']\n",
    "#for perf_tuple in [('XGB', 'all_present_features', 'interpret_EBM', 'across_subj')]:\n",
    "#for perf_tuple in [('XGB', 'all_present_features', 'interpret_EBM', 'across_subj')]:\n",
    "for perf_tuple in [('XGB', 'all_present_features', None, None)]:    \n",
    "    print(perf_tuple)\n",
    "    axs = postp.plotTableInfos_onlyBar(table_info_per_perf_type, perf_tuple=perf_tuple, \n",
    "                          output_subdir=subdir,use_recalc_perf=False, \n",
    "                          prefixes_sorted=prefixes_final, prefix2final_name=prefix2final_name,\n",
    "                                 crop_rawname='last', score= score, \n",
    "                                      show_add_info='num', ww=6, hh=2) \n",
    "    axs[0,0].set_xlabel('')\n",
    "    \n",
    "    \n",
    "#plt.title(plt.title())\n",
    "scstr = ''\n",
    "if score != defsp:\n",
    "    scstr = score\n",
    "fn_full = pjoin(gv.dir_fig,subdir,f'bars_perf_dif_subsets_{plotname_pref}_{scstr}.pdf')\n",
    "plt.savefig(fn_full)"
   ]
  },
  {
   "cell_type": "markdown",
   "id": "71654f4b",
   "metadata": {},
   "source": [
    "# LFP vs cortex compare bars"
   ]
  },
  {
   "cell_type": "code",
   "execution_count": null,
   "id": "589375cb",
   "metadata": {},
   "outputs": [],
   "source": [
    "good_prefs_permod = {'msrc': ['onlyH_act_exclude15'], 'LFP': ['onlyH_act_only15']}"
   ]
  },
  {
   "cell_type": "code",
   "execution_count": null,
   "id": "d4d4a2a4",
   "metadata": {},
   "outputs": [],
   "source": [
    "plotname_pref = 'noLFP'\n",
    "prefix2final_name = {good_prefs_permod['LFP'][0]:'LFP', \n",
    "                     good_prefs_permod['msrc'][0]:'cortex', \n",
    "                     'onlyH_act':'LFP + cortex'}\n",
    "#%debug\n",
    "defsp = 'special:min(sens,spec)'\n",
    "score = defsp\n",
    "score = 'bacc'\n",
    "prefixes_final = list( prefix2final_name.keys() )\n",
    "#prefixes_final = ['modLFP','modSrc_self','onlyH_act']\n",
    "#for perf_tuple in [('XGB', 'all_present_features', 'interpret_EBM', 'across_subj')]:\n",
    "#for perf_tuple in [('XGB', 'all_present_features', 'interpret_EBM', 'across_subj')]:\n",
    "for perf_tuple in [('XGB', 'all_present_features', None, None)]:    \n",
    "    print(perf_tuple)\n",
    "    axs = postp.plotTableInfos_onlyBar(table_info_per_perf_type, perf_tuple=perf_tuple, \n",
    "                          output_subdir=subdir,use_recalc_perf=False, \n",
    "                          prefixes_sorted=prefixes_final, prefix2final_name=prefix2final_name,\n",
    "                                 crop_rawname='last', score= score) \n",
    "    axs[0,0].set_xlabel('')\n",
    "    \n",
    "    \n",
    "#plt.title(plt.title())\n",
    "scstr = ''\n",
    "if score != defsp:\n",
    "    scstr = score\n",
    "fn_full = pjoin(gv.dir_fig,subdir,f'bars_perf_dif_subsets_{plotname_pref}_{scstr}.pdf')\n",
    "plt.savefig(fn_full)"
   ]
  },
  {
   "cell_type": "code",
   "execution_count": null,
   "id": "c168d617",
   "metadata": {},
   "outputs": [],
   "source": [
    "subdir"
   ]
  },
  {
   "cell_type": "code",
   "execution_count": null,
   "id": "991e5c24",
   "metadata": {},
   "outputs": [],
   "source": []
  },
  {
   "cell_type": "code",
   "execution_count": null,
   "id": "662d93af",
   "metadata": {},
   "outputs": [],
   "source": []
  },
  {
   "cell_type": "code",
   "execution_count": null,
   "id": "41f0f04d",
   "metadata": {},
   "outputs": [],
   "source": [
    "prefixes"
   ]
  },
  {
   "cell_type": "code",
   "execution_count": null,
   "id": "60be93c7",
   "metadata": {},
   "outputs": [],
   "source": [
    "tpll = pp.multiLevelDict2TupleList(output_per_raw,4,3)\n",
    "[ (ii,tpl[:-1], len(tpll[ii][-1]['feature_names_filtered']) ) for ii,tpl in enumerate(tpll ) ]"
   ]
  },
  {
   "cell_type": "code",
   "execution_count": null,
   "id": "42336f27",
   "metadata": {},
   "outputs": [],
   "source": []
  },
  {
   "cell_type": "code",
   "execution_count": null,
   "id": "b086a297",
   "metadata": {},
   "outputs": [],
   "source": [
    "ii = 25\n",
    "print(tpll[ii][:-1])\n",
    "len(tpll[ii][-1]['feature_names_filtered'])"
   ]
  },
  {
   "cell_type": "code",
   "execution_count": null,
   "id": "8abd08d3",
   "metadata": {},
   "outputs": [],
   "source": [
    "len(tpll[ii][-1]['featnames_for_fit'])"
   ]
  },
  {
   "cell_type": "code",
   "execution_count": null,
   "id": "efa3cfc7",
   "metadata": {},
   "outputs": [],
   "source": [
    "tpll[ii][-1]['cmd']"
   ]
  },
  {
   "cell_type": "code",
   "execution_count": null,
   "id": "791f4e49",
   "metadata": {},
   "outputs": [],
   "source": []
  },
  {
   "cell_type": "code",
   "execution_count": null,
   "id": "0c3da76d",
   "metadata": {},
   "outputs": [],
   "source": [
    "tpll[ii][-1].keys()"
   ]
  },
  {
   "cell_type": "markdown",
   "id": "ba12d575",
   "metadata": {},
   "source": [
    "# Main feature signif plots"
   ]
  },
  {
   "cell_type": "markdown",
   "id": "e9f850e7",
   "metadata": {},
   "source": [
    "## XGB"
   ]
  },
  {
   "cell_type": "code",
   "execution_count": null,
   "id": "88012a5d",
   "metadata": {},
   "outputs": [],
   "source": [
    "prefixes"
   ]
  },
  {
   "cell_type": "code",
   "execution_count": null,
   "id": "1fe897e8",
   "metadata": {},
   "outputs": [],
   "source": [
    "import utils_postprocess as pp\n",
    "from utils_postprocess_HPC import loadFullScores \n",
    "from matplotlib.lines import Line2D\n",
    "\n",
    "\n",
    "#%debug\n",
    "hh_ = None\n",
    "#for prefix_cur in list(sorted( set(prefixes) - set(['all']) )):\n",
    "#for prefix_cur in ['cross_freqmod_beta,gamma:HFO']:\n",
    "#for prefix_cur in [ 'LFPrel_noself']:\n",
    "#for prefix_cur in [ 'onlyH']:\n",
    "#for prefix_cur in [ 'LFPrel_noself_onlyCon']:\n",
    "#for prefix_cur in [ 'allb_beta', 'onlyH']:\n",
    "#for prefix_cur in [  'allb_beta', 'allb_tremor', 'allb_gamma', 'onlyH']:\n",
    "#for prefix_cur in [ 'LFPrel_noself_onlyRbcorr', 'LFPrel_noself_onlyCon', 'modSrc_self',  'onlyCBSrc', 'onlyMotorSrc']:\n",
    "#for prefix_cur in [ 'LFPrel_noself_onlyBpcorr', 'LFPrel_noself']:\n",
    "#for prefix_cur in [ 'all']:\n",
    "#for tpl_ in [('onlyH',10), ('LFPrel_noself',25)]:\n",
    "#for tpl_ in [('LFPrel_noself_onlyRbcorr',15)]:\n",
    "#for tpl_ in [ ('allb_beta',15),  ('allb_gamma',15), ('allb_tremor',15) ]:\n",
    "#for tpl_ in [ ('LFPrel_noself_onlyBpcorr',25)]:    \n",
    "#for prefix_cur in [ 'onlyH', 'LFPrel_noself', 'allb_beta']:\n",
    "#for prefix_cur in prefixes:\n",
    "\n",
    "pref_hh_tuples = [ ('all',40)]\n",
    "pref_hh_tuples = [ ('onlyH',10)]\n",
    "pref_hh_tuples = [('LFPrel_noself',35) ]\n",
    "\n",
    "pref_hh_tuples = [ ('onlyH_act',40)]\n",
    "feat_subset_name = 'all'\n",
    "\n",
    "subdir_short = 'joint_noskip'\n",
    "grpit_tpl = 'merge_movements','trem_vs_hold&move'\n",
    "#grpit_tpl = 'merge_movements','basic'\n",
    "\n",
    "#subdir_short = 'joint2_noskip'\n",
    "\n",
    "from IPython import get_ipython; ipython = get_ipython()\n",
    "runstr_ = '%run -i ../run/_subrun_plot_imp_HPC.py'\n",
    "ipython.magic(runstr_)\n",
    "#             break+\n",
    "#         break\n",
    "#     break\n"
   ]
  },
  {
   "cell_type": "markdown",
   "id": "221d784a",
   "metadata": {},
   "source": [
    "# EBM"
   ]
  },
  {
   "cell_type": "code",
   "execution_count": null,
   "id": "a76b5721",
   "metadata": {},
   "outputs": [],
   "source": [
    "prefixes"
   ]
  },
  {
   "cell_type": "code",
   "execution_count": null,
   "id": "232dc4f1",
   "metadata": {},
   "outputs": [],
   "source": [
    "aa = [   'onlyH',\n",
    " 'onlyH_act',\n",
    " 'onlyH_act_CB',\n",
    " 'onlyH_act_CByFS',\n",
    " 'onlyH_act_CByFSyPS',\n",
    " 'onlyH_act_CByFSyPSyPI',\n",
    " 'onlyH_act_CByFSyPSyPIyFM',\n",
    " 'onlyH_act_CBySM',\n",
    " 'onlyH_act_noCB',\n",
    " 'onlyH_act_noCBnoFS',\n",
    " 'onlyH_act_noCBnoFSnoPS',\n",
    " 'onlyH_act_noCBnoFSnoPSnoPI',\n",
    " 'onlyH_act_noCBnoFSnoPSnoPInoFM',\n",
    " 'onlyH_act_noCBnoFSnoPSnoPInoFMnoOI',\n",
    " 'onlyH_act_noCBnoFSnoPSnoPInoFMnoOInoOM',\n",
    " 'onlyH_act_noCBnoFSnoPSnoPInoFMnoOInoOMnoA',\n",
    " 'onlyH_act_noCBnoFSnoPSnoPInoFMnoOInoOMnoAnoTI',\n",
    " 'onlyH_act_noCBnoFSnoPSnoPInoFMnoOInoOMnoAnoTInoSM',\n",
    " 'onlyH_act_noCBnoFSnoPSnoPInoFMnoOInoOMnoAnoTInoSMnoTS',\n",
    " 'onlyH_act_noCBnoFSnoPSnoPInoFMnoOInoOMnoAnoTInoSMnoTSnoFI',\n",
    " 'onlyH_act_noFrontalMed',\n",
    " 'onlyH_act_noFrontalSup',\n",
    " 'onlyH_act_noLFP',\n",
    " 'onlyH_act_noOccipitalMid',\n",
    " 'onlyH_act_noParietalSup',\n",
    " 'onlyH_act_noSensorimotor',\n",
    " 'onlyH_act_noTemporalMid',   ]"
   ]
  },
  {
   "cell_type": "code",
   "execution_count": null,
   "id": "67167266",
   "metadata": {},
   "outputs": [],
   "source": [
    "aa = [ \n",
    " 'allb_beta_noH',\n",
    " 'allb_gamma_noH',\n",
    " 'allb_tremor_noH']"
   ]
  },
  {
   "cell_type": "code",
   "execution_count": null,
   "id": "587067d5",
   "metadata": {},
   "outputs": [],
   "source": []
  },
  {
   "cell_type": "code",
   "execution_count": null,
   "id": "1734466c",
   "metadata": {},
   "outputs": [],
   "source": [
    "[tpl[2:-1] for tpl in tpll]"
   ]
  },
  {
   "cell_type": "code",
   "execution_count": null,
   "id": "5a047511",
   "metadata": {},
   "outputs": [],
   "source": [
    "subdir"
   ]
  },
  {
   "cell_type": "code",
   "execution_count": null,
   "id": "12d8b27d",
   "metadata": {},
   "outputs": [],
   "source": [
    "#subdir = 'joint_noskip'\n",
    "subdir_short = subdir\n",
    "\n",
    "pref_hh_tuples = [ ('all',40)]\n",
    "EBM_feat_subsets = ['VIFsel']\n",
    "\n",
    "pref_hh_tuples = [ ('onlyH_act_SMyOIyFSyFIyTM', 5), ('onlyH',20), ('onlyH_act',20), ('LFPrel_noself',40)]\n",
    "pref_hh_tuples = [ ('onlyH_act_SMyOIyFSyFIyTM', 5)]\n",
    "pref_hh_tuples = [ ('LFPrel_noself',40) ]\n",
    "# pref_hh_tuples = [ ('onlyH_act_noCB',20)]\n",
    "# pref_hh_tuples = [ ('onlyH_act_noCBnoFS',20)]\n",
    "# pref_hh_tuples =  [(a,10) for a in aa]\n",
    "#pref_hh_tuples =  [(a,40) for a in aa]\n",
    "##pref_hh_tuples = [ ('modSrc',50)]\n",
    "pref_hh_tuples = [ ('onlyH_act',5)]\n",
    "#pref_hh_tuples = [ ('onlyH',10)]\n",
    "#onlyH_act_noCBnoFS\n",
    "# pref_hh_tuples = [ ('onlyH_act_noFrontalSup',20)]\n",
    "# pref_hh_tuples = [ ('onlyH_act_noCBnoFSnoPSnoPI',20)]\n",
    "\n",
    "EBM_feat_subsets = ['all']\n",
    "\n",
    "\n",
    "#subdir_short = 'joint_noskip'\n",
    "#grpit_tpl = 'merge_movements','basic'\n",
    "grpit_tpl = 'merge_movements','trem_vs_hold&move'\n",
    "grpit_tpl = 'merge_all_not_trem','basic'\n",
    "\n",
    "import gc; gc.collect()\n",
    "#%debug\n",
    "from IPython import get_ipython; ipython = get_ipython()\n",
    "runstr_ = '%run -i ../run/_subrun_plot_imp_EBM_HPC.py'\n",
    "ipython.magic(runstr_)"
   ]
  },
  {
   "cell_type": "code",
   "execution_count": null,
   "id": "97140c46",
   "metadata": {},
   "outputs": [],
   "source": [
    "prefixes"
   ]
  },
  {
   "cell_type": "code",
   "execution_count": null,
   "id": "9567a7a3",
   "metadata": {},
   "outputs": [],
   "source": [
    "from datetime import datetime\n",
    "fname = mult_clf_output['filename_full']\n",
    "mtime = os.stat(  fname).st_mtime\n",
    "datetime.fromtimestamp(mtime)"
   ]
  },
  {
   "cell_type": "code",
   "execution_count": null,
   "id": "15607e04",
   "metadata": {},
   "outputs": [],
   "source": [
    "fname"
   ]
  },
  {
   "cell_type": "code",
   "execution_count": null,
   "id": "6cceabad",
   "metadata": {},
   "outputs": [],
   "source": [
    "mult_clf_output['cmd']"
   ]
  },
  {
   "cell_type": "code",
   "execution_count": null,
   "id": "9987a15f",
   "metadata": {},
   "outputs": [],
   "source": [
    "mult_clf_output_clf_output_clf_output_clf_output     "
   ]
  },
  {
   "cell_type": "code",
   "execution_count": null,
   "id": "1da90090",
   "metadata": {},
   "outputs": [],
   "source": [
    "d = ['Cerebellum','ParietalSup','FrontalSup', 'ParietalInf','Angular', 'OccipitalInf', 'FrontalMed']\n",
    "labels_dict['all_raw']"
   ]
  },
  {
   "cell_type": "code",
   "execution_count": null,
   "id": "90b30247",
   "metadata": {},
   "outputs": [],
   "source": [
    "clf_dict = mult_clf_output['featsel_per_method']['interpret_EBM']['all']\n",
    "print(clf_dict.keys())\n",
    "\n",
    "from interpret import preserve\n",
    "explainer = clf_dict['explainer']\n",
    "scores = clf_dict['scores']"
   ]
  },
  {
   "cell_type": "code",
   "execution_count": null,
   "id": "e71e7995",
   "metadata": {},
   "outputs": [],
   "source": [
    "clf_dict['explainer_loc'].data()"
   ]
  },
  {
   "cell_type": "code",
   "execution_count": null,
   "id": "311c2a38",
   "metadata": {},
   "outputs": [],
   "source": [
    "clf_dict['ebm_mergedobj']"
   ]
  },
  {
   "cell_type": "code",
   "execution_count": null,
   "id": "faa63696",
   "metadata": {},
   "outputs": [],
   "source": [
    "sc_noi, fns_noi, _,_ = postp.splitScoresEBM(scores,explainer.feature_names)"
   ]
  },
  {
   "cell_type": "code",
   "execution_count": null,
   "id": "e2eaead6",
   "metadata": {},
   "outputs": [],
   "source": [
    "sc_noi"
   ]
  },
  {
   "cell_type": "code",
   "execution_count": null,
   "id": "d6b8c355",
   "metadata": {},
   "outputs": [],
   "source": [
    "fn_to_observe = fns_noi[-1]\n",
    "print(fn_to_observe)\n",
    "preserve(explainer, fn_to_observe)"
   ]
  },
  {
   "cell_type": "code",
   "execution_count": null,
   "id": "bc778e38",
   "metadata": {},
   "outputs": [],
   "source": [
    "mult_clf_output['feature_names_filtered']"
   ]
  },
  {
   "cell_type": "code",
   "execution_count": null,
   "id": "9ee4e0ae",
   "metadata": {},
   "outputs": [],
   "source": [
    "dd = 'bias/6.1694/2.4873'\n",
    "np.sum( np.array(list(dd)) == '/' ) \n"
   ]
  },
  {
   "cell_type": "code",
   "execution_count": null,
   "id": "5092836f",
   "metadata": {},
   "outputs": [],
   "source": [
    "import gc;gc.collect()"
   ]
  },
  {
   "cell_type": "code",
   "execution_count": null,
   "id": "1d7d216c",
   "metadata": {},
   "outputs": [],
   "source": [
    "common = set(mult_clf_output['VIF_truncation']['colinds_bad_VIFsel'])\n",
    "#print(common)\n",
    "for i,og in enumerate(outputs_grouped.items() ):\n",
    "    rn = og[0][0]\n",
    "    (prefix,grp,int_type), mult_clf_output = og[1]\n",
    "    VIFtr = mult_clf_output['VIF_truncation']\n",
    "    badinds = VIFtr['colinds_bad_VIFsel']\n",
    "    print(len(badinds), badinds)\n",
    "    common = common & set(badinds)\n",
    "    \n",
    "print(len(common),sorted(common,reverse=1) )"
   ]
  },
  {
   "cell_type": "code",
   "execution_count": null,
   "id": "0283524b",
   "metadata": {},
   "outputs": [],
   "source": [
    "d[(rn,prefix,grp,it)]"
   ]
  },
  {
   "cell_type": "code",
   "execution_count": null,
   "id": "c066b9e4",
   "metadata": {},
   "outputs": [],
   "source": [
    "VIFtr.keys()"
   ]
  },
  {
   "cell_type": "code",
   "execution_count": null,
   "id": "0ffa8120",
   "metadata": {},
   "outputs": [],
   "source": [
    "VIFtr['VIFsel_linreg_objs'][0].__dict__.keys()"
   ]
  },
  {
   "cell_type": "code",
   "execution_count": null,
   "id": "3c9be401",
   "metadata": {},
   "outputs": [],
   "source": [
    "d = {}\n",
    "for rn,prefix,grp,it,mult_clf_output in tpll:\n",
    "    VIFtr = mult_clf_output['VIF_truncation']\n",
    "    dd = dict( VIFtr.items() )\n",
    "    #del dd['VIFsel_linreg_objs']\n",
    "    #dd[]\n",
    "    #VIFtr['VIFsel_linreg_objs'][0]\n",
    "    d[(rn,prefix,grp,it)] = dd\n",
    "#('S01,S02,S04,S05,S07_off', 'allb_beta', 'merge_movements', 'basic')\n",
    "VIF_info_fname = pjoin(gv.data_dir,subdir_short,'VIF_info.npz')\n",
    "print(VIF_info_fname)\n",
    "np.savez(VIF_info_fname,VIF_info = d)"
   ]
  },
  {
   "cell_type": "code",
   "execution_count": null,
   "id": "be4c82c5",
   "metadata": {},
   "outputs": [],
   "source": []
  },
  {
   "cell_type": "code",
   "execution_count": null,
   "id": "fe7dfe68",
   "metadata": {},
   "outputs": [],
   "source": [
    "# (rn_,prefix,grp,int_type,fsh,featnames_nice,label_str,\\\n",
    "#      scores_pre_class_curlab, feat_imp_stats ) = collect_SHAP_outs[0]\n",
    "\n",
    "\n",
    "runMLvars_pso = []\n",
    "for cso in collect_SHAP_outs:\n",
    "    (rn_,prefix,grp,int_type,fsh,featnames_nice,label_str,\\\n",
    "         scores_pre_class_curlab, feat_imp_stats ) = cso \n",
    "    \n",
    "    mult_clf_output = output_per_raw[rn_][prefix][grp][int_type]\n",
    "    #assert (prefix,grp,int_type) == (prefix_,grp_,int_type_)    \n",
    "    cmd = mult_clf_output['cmd']\n",
    "    print(cmd[0])\n",
    "\n",
    "    ####################\n",
    "\n",
    "    s = '%run -i ../run/run_ML.py '\n",
    "    for a,b in cmd[0]:\n",
    "        s += f'{a} {b} '\n",
    "    print(s)\n",
    "    from IPython import get_ipython; ipython = get_ipython()\n",
    "\n",
    "    #%run -i ../run/run_ML.py -r S01_on_hold,S01_on_move,S02_on_hold,S02_on_move,S04_on_hold,S04_on_move,S05_on_hold,S05_on_move,S07_on_hold,S07_on_move --param_file ML_joint_one_LFP_HPC.ini --groupings_to_use merge_movements --int_types_to_use basic --feat_types H_act,H_mob,H_compl --prefix onlyH --SLURM_job_id 114703_22 --calc_MI 0\n",
    "\n",
    "    ipython.magic(s + ' --exit_after artif_processed --show_plots 0 --do_cleanup 0')\n",
    "    anndict_per_intcat_per_rawn_out = anndict_per_intcat_per_rawn\n",
    "\n",
    "    runMLvars = {}\n",
    "    runMLvars['featnames_nice'] = featnames_nice\n",
    "    runMLvars['featnames'] = featnames\n",
    "    runMLvars['X_pri'] = X_pri\n",
    "    runMLvars['rawnames'] = rawnames\n",
    "    runMLvars['Xtimes_pri'] = Xtimes_pri\n",
    "    runMLvars['wbd_pri'] = wbd_pri\n",
    "    runMLvars['anndict_per_intcat_per_rawn'] = anndict_per_intcat_per_rawn\n",
    "    runMLvars['new_main_side_pri'] = new_main_side_pri\n",
    "    runMLvars['roi_labels'] = roi_labels\n",
    "    runMLvars['srcgrouping_names_sorted'] = srcgrouping_names_sorted\n",
    "    runMLvars['rawtimes_pri'] = rawtimes_pri\n",
    "    \n",
    "    runMLvars_pso += [runMLvars]\n",
    "\n",
    "    rng = slice(0,10)\n",
    "    \n",
    "    # TODO: right now these are not correct scores (perhaps) because of the way they are averaged\n",
    "    featis = np.argsort(np.abs(scores_pre_class_curlab) )\n",
    "    featis = featis[::-1]\n",
    "    featis = featis[rng] #np.random.randint( len(featnames),size=20)\n",
    "\n",
    "    # anns, anns_pri, times_concat, dataset_bounds, wbd_merged = utsne.concatAnns(rawnames,\n",
    "    #                                                           rawtimes_pri, crop=(crop_start,crop_end),\n",
    "    #                                                           side_rev_pri = side_switch_happened_pri,\n",
    "    #                                                          wbd_pri = wbd_pri, sfreq=sfreq, ret_wbd_merged=1)\n",
    "    # print('times_concat end {} wbd end {}'.format(times_concat[-1] * sfreq, wbd_merged[1,-1] ) )\n",
    "\n",
    "    # ivalis = utils.ann2ivalDict(anns)\n",
    "    # ivalis_tb_indarrays_merged = \\\n",
    "    #     utils.getWindowIndicesFromIntervals(wbd_merged,ivalis,\n",
    "    #                                         sfreq,ret_type='bins_contig',\n",
    "    #                                         ret_indices_type = 'window_inds',\n",
    "    #                                         nbins_total=nbins_total )\n",
    "\n",
    "    # anndict_per_intcat = f['anndict_per_intcat'][()]\n",
    "    # anndict_per_intcat_per_rawn[rawn] = anndict_per_intcat\n",
    "    # bindict_per_rawn[rawn] = upre.markedIntervals2Bins(anndict_per_intcat,\n",
    "    #                                                    rawtimes,sfreq,wbd=wbd)\n",
    "    xlim = (-4,8)\n",
    "    #xlim = None\n",
    "    figname = 'hists_'+ f'{(rn_,prefix,grp,int_type,label_str,fsh)}_rng={rng}.pdf'\n",
    "    print('start plotting ',figname)\n",
    "    postp.plotFeatHists(rawnames,featnames_nice,featis,X_pri,Xconcat, bindict_per_rawn,\n",
    "                      ivalis_tb_indarrays_merged, xlim_common = xlim,nbins=25, savefig = 0)\n",
    "    \n",
    "    \n",
    "    plt.savefig(pjoin(gv.dir_fig, subdir_short, figname))\n",
    "    plt.close()\n"
   ]
  },
  {
   "cell_type": "code",
   "execution_count": null,
   "id": "390824a7",
   "metadata": {},
   "outputs": [],
   "source": [
    "import gc; gc.collect()"
   ]
  },
  {
   "cell_type": "code",
   "execution_count": null,
   "id": "be68bf28",
   "metadata": {},
   "outputs": [],
   "source": [
    "(prefix_,grp_,int_type_)"
   ]
  },
  {
   "cell_type": "markdown",
   "id": "95306301",
   "metadata": {},
   "source": [
    "## get info from run_genfeats (for a fixed rn_)"
   ]
  },
  {
   "cell_type": "code",
   "execution_count": null,
   "id": "b3040ac8",
   "metadata": {},
   "outputs": [],
   "source": [
    "mainLFPchan_per_rawn = {}\n",
    "for runMLvars in runMLvars_pso:\n",
    "    for rawn in runMLvars['rawnames']:\n",
    "        subj,medcond,task  = utils.getParamsFromRawname(rawn)\n",
    "        mainLFPchan_cur = best_LFP_info[subj][f'{best_LFP_prefix},merge_movements,basic']['best_LFP']\n",
    "        #print(rawn,subj,mainLFPchan_cur)\n",
    "        mainLFPchan_per_rawn[rawn] = mainLFPchan_cur"
   ]
  },
  {
   "cell_type": "code",
   "execution_count": null,
   "id": "70d1f826",
   "metadata": {},
   "outputs": [],
   "source": [
    "\n",
    "\n",
    "\n",
    "rns = list(output_per_raw.keys() )\n",
    "genfeat_info_per_rn = {}\n",
    "for rn_to_plot in rns:\n",
    "    mult_clf_output = output_per_raw[rn_][prefix_][grp][int_type]\n",
    "    ML_info = mult_clf_output['info']\n",
    "    fn_feat = ML_info['fname_feat_full_pri']\n",
    "\n",
    "    dat_out_pri = []\n",
    "    dat_lfp_hires_out_pri = []\n",
    "    times_hires_out_pri = []\n",
    "    times_out_pri = []\n",
    "    subfeature_order_out_pri = []\n",
    "    subfeature_order_lfp_hires_out_pri = []\n",
    "    extdat_out_pri = []\n",
    "    rawnames_out = []\n",
    "    emgdat_pri = []\n",
    "    \n",
    "    for i,fn_feat_cur in enumerate(fn_feat):\n",
    "        ffeat = np.load(fn_feat_cur, allow_pickle=True )\n",
    "        ss = ' '.join([' '.join(list(tpl)) for tpl in  ffeat['cmd'][0]] )\n",
    "        s = '%run -i ../run/run_genfeats.py ' + ss + ' --exit_after prescale_data'\n",
    "        print(s)\n",
    "        ipython.magic(s)\n",
    "\n",
    "        dat_out_pri              += dat_pri\n",
    "        dat_lfp_hires_out_pri    += dat_lfp_hires_pri\n",
    "        times_hires_out_pri      += times_hires_pri\n",
    "        times_out_pri            += times_pri\n",
    "        subfeature_order_out_pri += subfeature_order_pri\n",
    "        subfeature_order_lfp_hires_out_pri += subfeature_order_lfp_hires_pri\n",
    "        extdat_out_pri           += extdat_pri\n",
    "    \n",
    "    import re\n",
    "    for fn in fn_feat:\n",
    "        r = re.match('.*(S[0-9]+_[a-z]+_[a-z]+)_.*',fn).groups()[0]\n",
    "        #rint(r)\n",
    "        rawnames_out += [r]\n",
    "\n",
    "\n",
    "    emgraw_pri = []\n",
    "    for rawi,rawn in enumerate(ML_info['rawnames']):\n",
    "        emgraw = mne.io.read_raw_fif ( pjoin(gv.data_dir,rawn + '_emg_rectconv.fif') )\n",
    "        chns_cur = gv.EMG_per_hand[main_side_pri[rawi]]\n",
    "        emgraw.pick_channels(chns_cur)\n",
    "        emgraw.resample(256)\n",
    "        #emgraw_pri += [emgraw]\n",
    "        emgdat_pri += [emgraw.get_data()]\n",
    "        assert emgdat_pri[-1].shape[1] == len(times_out_pri[rawi])\n",
    "\n",
    "    from featlist import replaceMEGsrcChnamesParams\n",
    "    subfeature_order_newsrcgrp_pri = ML_info.get('chnames_newsrcgrp_pri')\n",
    "    if subfeature_order_newsrcgrp_pri is None:\n",
    "        subfeature_order_newsrcgrp_pri = [0] * len(rawnames_out)\n",
    "        for rawi in range(len(runMLvars['rawnames'])):\n",
    "            subfeature_order_newsrcgrp_pri[rawi] = \\\n",
    "                replaceMEGsrcChnamesParams(subfeature_order_out_pri[rawi], 0,9, '.*', 0)\n",
    "            \n",
    "            \n",
    "    d = {}\n",
    "    d['dat_out_pri'] = dat_out_pri\n",
    "    d['dat_lfp_hires_out_pri'] = dat_lfp_hires_out_pri\n",
    "    d['times_hires_out_pri'] = times_hires_out_pri\n",
    "    d['times_out_pri'] = times_out_pri\n",
    "    d['subfeature_order_out_pri'] = subfeature_order_out_pri\n",
    "    d['subfeature_order_lfp_hires_out_pri'] = subfeature_order_lfp_hires_out_pri\n",
    "    d['extdat_out_pri'] = extdat_out_pri\n",
    "    d['rawnames_out'] = rawnames_out\n",
    "    d['emgdat_pri'] = emgdat_pri\n",
    "    d['subfeature_order_newsrcgrp_pri'] = subfeature_order_newsrcgrp_pri\n",
    "    genfeat_info_per_rn[rn_to_plot] = d\n",
    "\n",
    "# best_LFP_info_fname = pjoin(gv.data_dir, 'best_LFP_info.json')\n",
    "# with open(best_LFP_info_fname, 'r') as f:\n",
    "#     best_LFP_info = json.load(f)\n",
    "\n",
    "\n",
    "\n",
    "display(mainLFPchan_per_rawn)"
   ]
  },
  {
   "cell_type": "code",
   "execution_count": null,
   "id": "13abf360",
   "metadata": {},
   "outputs": [],
   "source": [
    "rn_,prefix,grp,int_type,fsh,featnames_nice_VIF,label_str,\\\n",
    "         scores_pre_class_curlab, feat_imp_stats"
   ]
  },
  {
   "cell_type": "code",
   "execution_count": null,
   "id": "4a271bd9",
   "metadata": {},
   "outputs": [],
   "source": [
    "# plot time traces\n",
    "\n",
    "for collect_SHAP_outs_ind in range(len(collect_SHAP_outs)):\n",
    "    #collect_SHAP_outs_ind = 0\n",
    "    (rn_,prefix,grp,int_type,fsh,featnames_nice_VIF,label_str,\\\n",
    "         scores_pre_class_curlab, feat_imp_stats ) = collect_SHAP_outs[collect_SHAP_outs_ind]\n",
    "    print(rn_)\n",
    "    \n",
    "    runMLvars = runMLvars_pso[collect_SHAP_outs_ind]\n",
    "    d = genfeat_info_per_rn[rn_]\n",
    "    \n",
    "#     ##########################  just for now to avoid recalc of genfeats\n",
    "#     if rn_.endswith('_off'):\n",
    "#         continue\n",
    "#     ###########################    \n",
    "        \n",
    "    featis = np.argsort(np.abs(scores_pre_class_curlab) )\n",
    "    featis = featis[::-1]\n",
    "    \n",
    "    mult_clf_output = output_per_raw[rn_][prefix][grp][int_type]\n",
    "    VIF_truncation = mult_clf_output['VIF_truncation']\n",
    "    colinds_good_VIFsel = VIF_truncation['colinds_good_VIFsel']\n",
    "    featnames_VIFsel = runMLvars['featnames'][colinds_good_VIFsel]\n",
    "    featnames_best_LFP = runMLvars['featnames']\n",
    "\n",
    "    from globvars import gp\n",
    "    beh_states_to_shade = [f'{it}_{main_side_let}' for it in gp.int_types_basic]\n",
    "\n",
    "    # TODO: right now these are not correct scores (perhaps) because of the way they are averaged\n",
    "    #%debug\n",
    "    rng = slice(0,8)\n",
    "    #rng = slice(0,2)\n",
    "    rng_feats = slice(0,2)\n",
    "    #rng_feats = slice(0,1)\n",
    "    from plots import plotFeatsAndRelDat\n",
    "    \n",
    "    axs = plotFeatsAndRelDat(runMLvars['rawnames'][rng], \n",
    "                             featnames_VIFsel[featis[rng_feats]], d['dat_out_pri'],\n",
    "                       d['subfeature_order_out_pri'],\n",
    "                    runMLvars['X_pri'],[featnames_best_LFP]*len(d['rawnames_out']),\n",
    "                    d['times_out_pri'],\n",
    "                    runMLvars['Xtimes_pri'],\n",
    "                    d['subfeature_order_newsrcgrp_pri'], runMLvars['wbd_pri'],\n",
    "                    dat_hires_pri=d['dat_lfp_hires_out_pri'],\n",
    "                    chnames_all_hires_pri = d['subfeature_order_lfp_hires_out_pri'],\n",
    "                    times_hires_pri=d['times_hires_out_pri'],\n",
    "                    anndict_per_intcat_per_rawn=runMLvars['anndict_per_intcat_per_rawn'], \n",
    "                    sfreq=sfreq, mainLFP_per_rawn = mainLFPchan_per_rawn,\n",
    "                    roi_labels=roi_labels, srcgrouping_names_sorted=['all_raw']*10,\n",
    "                            main_side_let = main_side_let, ww=6,hh=3,\n",
    "                            beh_states_to_shade = beh_states_to_shade, \n",
    "                             extdat_pri=d['emgdat_pri'])\n",
    "\n",
    "    plt.tight_layout()\n",
    "    plt.savefig(pjoin(gv.dir_fig,'joint',f'good_feats_dyn_{(rn_,prefix,grp,int_type,label_str,fsh)}_{rng}.pdf'))\n",
    "    plt.close()"
   ]
  },
  {
   "cell_type": "code",
   "execution_count": null,
   "id": "362bb5c4",
   "metadata": {},
   "outputs": [],
   "source": [
    "len(collect_SHAP_outs)"
   ]
  },
  {
   "cell_type": "code",
   "execution_count": null,
   "id": "08947c38",
   "metadata": {},
   "outputs": [],
   "source": []
  },
  {
   "cell_type": "code",
   "execution_count": null,
   "id": "6f3cd7ca",
   "metadata": {},
   "outputs": [],
   "source": []
  },
  {
   "cell_type": "markdown",
   "id": "5692bdd3",
   "metadata": {},
   "source": [
    "# interpretML"
   ]
  },
  {
   "cell_type": "code",
   "execution_count": null,
   "id": "754cf802",
   "metadata": {},
   "outputs": [],
   "source": [
    "#for prefix_cur in prefixes:\n",
    "#for prefix_cur in prefixes[:3]:\n",
    "#for prefix_cur in prefixes:\n",
    "for prefix in ['onlyMotorSrc']:\n",
    "    prefixes_to_use = [prefix_cur]\n",
    "\n",
    "    outputs_grouped = pp.groupOutputs(output_per_raw, prefixes_to_use,\n",
    "                                      ['merge_movements'],['trem_vs_hold&move'])\n",
    "    print('      ',prefix_cur)\n",
    "    for og in outputs_grouped.items():\n",
    "        rn = og[0]\n",
    "        (prefix,grp,int_type), mult_clf_output = og[1]\n",
    "        assert prefix == prefix_cur\n",
    "    \n",
    "        filename_fullsize = mult_clf_output['filename_full']\n",
    "        from pathlib import Path\n",
    "        pfsz = Path(filename_fullsize)\n",
    "        filename_fullsize = pjoin(pfsz.parents[0], pfsz.name[2:])\n",
    "        #    finfo = os.stat( filename_fullsize )\n",
    "        #    print(finfo.st_size / (1024**2))\n",
    "        f = np.load(filename_fullsize,allow_pickle=True)\n",
    "\n",
    "        results_cur =  f['results_cur'][()]\n",
    "\n",
    "        #results_cur.keys()\n",
    "\n",
    "        EBM = results_cur['featsel_per_method']['interpret_EBM']        \n",
    "        #scores\n",
    "\n",
    "        clf_dict = EBM['info_per_cp'][('trem_L', 'hold_L&move_L')]\n",
    "        scores = clf_dict['scores']; \n",
    "        #print(len(results_cur['feature_names_filtered']), len(EBM['feature_indices_used']) )\n",
    "        #print('len(scores) = ',len(scores) )\n",
    "        explainer = clf_dict['explainer']\n",
    "        \n",
    "        print((rn,grp,int_type), utsne.sprintfPerfs(clf_dict['perf'] ) )\n",
    "\n",
    "        del f\n",
    "        del results_cur\n",
    "        gc.collect()"
   ]
  },
  {
   "cell_type": "code",
   "execution_count": null,
   "id": "b9fac607",
   "metadata": {},
   "outputs": [],
   "source": [
    "#       LFPrel_noself\n",
    "# (('S01,S02,S04,S05,S07_on',), 'merge_movements', 'trem_vs_hold&move') 63.70%,97.30%,73.97%\n",
    "# (('S01,S02,S04,S05,S07_off',), 'merge_movements', 'trem_vs_hold&move') 54.75%,93.76%,65.06%\n",
    "#        LFPrel_noself_onlyBpcorr\n",
    "# (('S01,S02,S04,S05,S07_on',), 'merge_movements', 'trem_vs_hold&move') 53.09%,96.59%,64.78%\n",
    "# (('S01,S02,S04,S05,S07_off',), 'merge_movements', 'trem_vs_hold&move') 49.71%,93.22%,60.30%\n",
    "#        LFPrel_noself_onlyCon\n",
    "# (('S01,S02,S04,S05,S07_on',), 'merge_movements', 'trem_vs_hold&move') 42.19%,94.97%,53.35%\n",
    "# (('S01,S02,S04,S05,S07_off',), 'merge_movements', 'trem_vs_hold&move') 30.51%,92.18%,41.29%\n",
    "#        LFPrel_noself_onlyRbcorr\n",
    "# (('S01,S02,S04,S05,S07_on',), 'merge_movements', 'trem_vs_hold&move') 48.94%,97.15%,62.01%\n",
    "# (('S01,S02,S04,S05,S07_off',), 'merge_movements', 'trem_vs_hold&move') 35.56%,92.61%,46.82%\n",
    "#        allb_beta\n",
    "# (('S01,S02,S04,S05,S07_on',), 'merge_movements', 'trem_vs_hold&move') 64.64%,95.34%,72.04%\n",
    "# (('S01,S02,S04,S05,S07_off',), 'merge_movements', 'trem_vs_hold&move') 55.94%,90.69%,63.34%\n",
    "#        cross_freqmod_beta,gamma:HFO\n",
    "# (('S01,S02,S04,S05,S07_on',), 'merge_movements', 'trem_vs_hold&move') 18.93%,97.11%,29.55%\n",
    "# (('S01,S02,S04,S05,S07_off',), 'merge_movements', 'trem_vs_hold&move') 26.17%,94.16%,37.62%\n",
    "#        cross_freqmod_tremor,beta:HFO\n",
    "# (('S01,S02,S04,S05,S07_on',), 'merge_movements', 'trem_vs_hold&move') 40.86%,95.38%,52.56%\n",
    "# (('S01,S02,S04,S05,S07_off',), 'merge_movements', 'trem_vs_hold&move') 35.36%,92.31%,46.41%\n",
    "#        cross_freqmod_tremor,gamma:beta\n",
    "# (('S01,S02,S04,S05,S07_on',), 'merge_movements', 'trem_vs_hold&move') 39.69%,96.07%,52.15%\n",
    "# (('S01,S02,S04,S05,S07_off',), 'merge_movements', 'trem_vs_hold&move') 27.67%,94.66%,39.64%\n",
    "#        modLFP\n",
    "# (('S01,S02,S04,S05,S07_on',), 'merge_movements', 'trem_vs_hold&move') 35.31%,95.57%,47.26%\n",
    "# (('S01,S02,S04,S05,S07_off',), 'merge_movements', 'trem_vs_hold&move') 4.50%,98.84%,8.41%\n",
    "#        modSrc\n",
    "# (('S01,S02,S04,S05,S07_on',), 'merge_movements', 'trem_vs_hold&move') 72.72%,97.23%,80.13%\n",
    "# (('S01,S02,S04,S05,S07_off',), 'merge_movements', 'trem_vs_hold&move') 62.01%,93.29%,70.18%\n",
    "#        modSrc_self\n",
    "# (('S01,S02,S04,S05,S07_on',), 'merge_movements', 'trem_vs_hold&move') 63.11%,95.55%,71.22%\n",
    "# (('S01,S02,S04,S05,S07_off',), 'merge_movements', 'trem_vs_hold&move') 55.49%,90.39%,62.74%\n",
    "#        onlyCBSrc\n",
    "# (('S01,S02,S04,S05,S07_on',), 'merge_movements', 'trem_vs_hold&move') 53.38%,95.51%,63.69%\n",
    "# (('S01,S02,S04,S05,S07_off',), 'merge_movements', 'trem_vs_hold&move') 22.85%,94.62%,33.94%\n",
    "#        onlyH\n",
    "# (('S01,S02,S04,S05,S07_on',), 'merge_movements', 'trem_vs_hold&move') 62.04%,95.14%,69.86%\n",
    "# (('S01,S02,S04,S05,S07_off',), 'merge_movements', 'trem_vs_hold&move') 51.43%,91.03%,60.01%\n",
    "#        onlyMotorSrc\n",
    "# (('S01,S02,S04,S05,S07_on',), 'merge_movements', 'trem_vs_hold&move') 74.52%,97.34%,81.46%\n",
    "# (('S01,S02,S04,S05,S07_off',), 'merge_movements', 'trem_vs_hold&move') 63.63%,94.94%,72.74%\n",
    "#        onlyRestSrc\n",
    "# (('S01,S02,S04,S05,S07_on',), 'merge_movements', 'trem_vs_hold&move') 66.35%,96.35%,74.51%\n",
    "# (('S01,S02,S04,S05,S07_off',), 'merge_movements', 'trem_vs_hold&move') 60.19%,92.75%,68.41%"
   ]
  },
  {
   "cell_type": "code",
   "execution_count": null,
   "id": "503542ba",
   "metadata": {},
   "outputs": [],
   "source": [
    "(rn_,prefix,grp,int_type,fsh,featnames_nice,label_str,\\\n",
    "     scores_pre_class_curlab, feat_imp_stats ) = collect_SHAP_outs[0]\n",
    "\n",
    "print(rn_,prefix,grp,int_type)\n",
    "mult_clf_output = output_per_raw[rn_][prefix][grp][int_type]"
   ]
  },
  {
   "cell_type": "code",
   "execution_count": null,
   "id": "83a234e3",
   "metadata": {},
   "outputs": [],
   "source": [
    "mult_clf_output = output_per_raw['S01,S02,S04,S05,S07_off']['onlyH'][grp][int_type]"
   ]
  },
  {
   "cell_type": "code",
   "execution_count": null,
   "id": "f780228a",
   "metadata": {},
   "outputs": [],
   "source": [
    "mult_clf_output = output_per_raw['S01,S02,S04,S05,S07_on']['onlyMotorSrc'][grp][int_type]"
   ]
  },
  {
   "cell_type": "code",
   "execution_count": null,
   "id": "a5994971",
   "metadata": {},
   "outputs": [],
   "source": [
    "print(range(0,6))"
   ]
  },
  {
   "cell_type": "code",
   "execution_count": null,
   "id": "66f23a0a",
   "metadata": {},
   "outputs": [],
   "source": [
    "[4  for d in [4,5] if d in [4,5]]"
   ]
  },
  {
   "cell_type": "code",
   "execution_count": null,
   "id": "1b181737",
   "metadata": {},
   "outputs": [],
   "source": [
    "help(plotFeatsAndRelDat)"
   ]
  },
  {
   "cell_type": "code",
   "execution_count": null,
   "id": "c1df94a7",
   "metadata": {},
   "outputs": [],
   "source": [
    "srcgroups_dict.keys()"
   ]
  },
  {
   "cell_type": "code",
   "execution_count": null,
   "id": "b7134974",
   "metadata": {},
   "outputs": [],
   "source": [
    "srcCoords_fn = sind_str + '_modcoord_parcel_aal.mat'\n",
    "\n",
    "crdf = pymr.read_mat(srcCoords_fn)\n",
    "\n",
    "# here we do not have label 'unlabeled'\n",
    "labels = crdf['labels']  #indices of sources - labels_corresp_coordance\n",
    "#crdf = sio.loadmat(srcCoords_fn)\n",
    "#lbls = crdf['labels'][0]\n",
    "#labels = [  lbls[i][0] for i in range(len(lbls)) ]\n",
    "\n",
    "coords = crdf['coords_Jan_actual']\n",
    "srcgroups_ = crdf['point_ind_corresp']\n",
    "\n"
   ]
  },
  {
   "cell_type": "code",
   "execution_count": null,
   "id": "580e8bb9",
   "metadata": {},
   "outputs": [],
   "source": []
  },
  {
   "cell_type": "code",
   "execution_count": null,
   "id": "b2d841e7",
   "metadata": {},
   "outputs": [],
   "source": [
    "del plotFeatsAndRelDat"
   ]
  },
  {
   "cell_type": "code",
   "execution_count": null,
   "id": "9b72fa07",
   "metadata": {},
   "outputs": [],
   "source": [
    "import plots\n",
    "import importlib as il; il.reload(plots)"
   ]
  },
  {
   "cell_type": "code",
   "execution_count": null,
   "id": "f99dea57",
   "metadata": {},
   "outputs": [],
   "source": [
    "runMLvars['wbd_pri'][0]"
   ]
  },
  {
   "cell_type": "code",
   "execution_count": null,
   "id": "a9706544",
   "metadata": {},
   "outputs": [],
   "source": []
  },
  {
   "cell_type": "code",
   "execution_count": null,
   "id": "14ac0326",
   "metadata": {},
   "outputs": [],
   "source": [
    "extdat_out_pri[0].shape"
   ]
  },
  {
   "cell_type": "code",
   "execution_count": null,
   "id": "237b6517",
   "metadata": {},
   "outputs": [],
   "source": [
    "from globvars import gp\n",
    "beh_states_to_shade = [f'{it}_{main_side_let}' for it in gp.int_types_basic]\n",
    "\n",
    "# TODO: right now these are not correct scores (perhaps) because of the way they are averaged\n",
    "#%debug\n",
    "rng = slice(0,8)\n",
    "#rng = slice(0,2)\n",
    "rng_feats = slice(0,2)\n",
    "#rng_feats = slice(0,1)\n",
    "from plots import plotFeatsAndRelDat\n",
    "axs = plotFeatsAndRelDat(runMLvars['rawnames'][rng], \n",
    "                         featnames_VIFsel[featis[rng_feats]], dat_out_pri,\n",
    "                   subfeature_order_out_pri,\n",
    "                runMLvars['X_pri'],[featnames_best_LFP]*len(rawnames_out),\n",
    "                times_out_pri,\n",
    "                runMLvars['Xtimes_pri'],\n",
    "                subfeature_order_newsrcgrp_pri, runMLvars['wbd_pri'],\n",
    "                dat_hires_pri=dat_lfp_hires_out_pri,\n",
    "                chnames_all_hires_pri = subfeature_order_lfp_hires_out_pri,\n",
    "                times_hires_pri=times_hires_out_pri,\n",
    "                anndict_per_intcat_per_rawn=runMLvars['anndict_per_intcat_per_rawn'], \n",
    "                sfreq=sfreq, mainLFP_per_rawn = mainLFPchan_per_rawn,\n",
    "                roi_labels=roi_labels, srcgrouping_names_sorted=['all_raw']*10,\n",
    "                        main_side_let = main_side_let, ww=6,hh=3,\n",
    "                        beh_states_to_shade = beh_states_to_shade, \n",
    "                         extdat_pri=emgdat_pri)\n",
    "\n",
    "plt.tight_layout()\n",
    "plt.savefig(pjoin(gv.dir_fig,'joint',f'good_feats_dyn_{(rn_,prefix,grp,int_type,fsh)}_{rng}.pdf'))\n",
    "plt.close()"
   ]
  },
  {
   "cell_type": "code",
   "execution_count": null,
   "id": "554e908a",
   "metadata": {},
   "outputs": [],
   "source": [
    "best_feat_name"
   ]
  },
  {
   "cell_type": "code",
   "execution_count": null,
   "id": "12772a7e",
   "metadata": {},
   "outputs": [],
   "source": [
    "print( utsne.sprintfPerfs(clf_dict['perf'] ) )\n",
    "print( clf_dict['confmat_normalized'] )"
   ]
  },
  {
   "cell_type": "code",
   "execution_count": null,
   "id": "4271e0fa",
   "metadata": {},
   "outputs": [],
   "source": [
    "np.argmax(scores)"
   ]
  },
  {
   "cell_type": "code",
   "execution_count": null,
   "id": "e347e2aa",
   "metadata": {},
   "outputs": [],
   "source": [
    "assert len( explainer.feature_names ) == len(scores)\n",
    "best_feat_name = explainer.feature_names [ np.argmax(scores)]\n",
    "print(best_feat_name)\n",
    "sortinds = np.argsort(scores)\n",
    "last_ind = np.where([ explainer.feature_names[ind].find(' x ') < 0 \\\n",
    "                     for ind in  sortinds])[0][-1]\n",
    "last_ind = sortinds[last_ind]\n",
    "best_feat_name_no_int = explainer.feature_names[last_ind]\n",
    "print(best_feat_name_no_int)"
   ]
  },
  {
   "cell_type": "code",
   "execution_count": null,
   "id": "d7983d5c",
   "metadata": {},
   "outputs": [],
   "source": [
    "sortinds[-1]"
   ]
  },
  {
   "cell_type": "code",
   "execution_count": null,
   "id": "36c0458d",
   "metadata": {},
   "outputs": [],
   "source": [
    " len(scores), last_ind"
   ]
  },
  {
   "cell_type": "code",
   "execution_count": null,
   "id": "8b64bdce",
   "metadata": {},
   "outputs": [],
   "source": [
    "explainer.feature_names[last_ind], m[last_ind], best_feat_name_no_int.find(' x ')"
   ]
  },
  {
   "cell_type": "code",
   "execution_count": null,
   "id": "7263e1b9",
   "metadata": {},
   "outputs": [],
   "source": [
    "np.where(m)[0][-1]"
   ]
  },
  {
   "cell_type": "code",
   "execution_count": null,
   "id": "9d986d97",
   "metadata": {},
   "outputs": [],
   "source": []
  },
  {
   "cell_type": "code",
   "execution_count": null,
   "id": "87216f81",
   "metadata": {},
   "outputs": [],
   "source": [
    "m = [ explainer.feature_names[ind].find(' x ') < 0 \\\n",
    "                     for ind in np.argsort(scores) ]\n",
    "print(m[344])"
   ]
  },
  {
   "cell_type": "code",
   "execution_count": null,
   "id": "cf377f4d",
   "metadata": {},
   "outputs": [],
   "source": []
  },
  {
   "cell_type": "code",
   "execution_count": null,
   "id": "96dbf8e6",
   "metadata": {},
   "outputs": [],
   "source": [
    "print( explainer.__dict__.keys() )\n",
    "# print( explainer.explanation_type, explainer.name, \n",
    "#      explainer.selector, explainer.feature_types)"
   ]
  },
  {
   "cell_type": "code",
   "execution_count": null,
   "id": "af29973f",
   "metadata": {},
   "outputs": [],
   "source": [
    "mult_clf_output['featsel_per_method']['interpret_EBM']['all'].keys()\n",
    "\n",
    "from interpret import preserve\n",
    "explainer = clf_dict['explainer']\n",
    "preserve(explainer, best_feat_name_no_int)"
   ]
  },
  {
   "cell_type": "code",
   "execution_count": null,
   "id": "f41232ff",
   "metadata": {},
   "outputs": [],
   "source": [
    "preserve(explainer, best_feat_name)"
   ]
  },
  {
   "cell_type": "code",
   "execution_count": null,
   "id": "437ebd5d",
   "metadata": {},
   "outputs": [],
   "source": [
    "explainer.visualize()"
   ]
  },
  {
   "cell_type": "code",
   "execution_count": null,
   "id": "9f95b7ff",
   "metadata": {},
   "outputs": [],
   "source": [
    "# from interpret import show\n",
    "# show(explainer)  # does not work if open saved"
   ]
  },
  {
   "cell_type": "code",
   "execution_count": null,
   "id": "d0f5b5ff",
   "metadata": {},
   "outputs": [],
   "source": [
    "# Trying to get a better distr fit for Hjorth (no success)"
   ]
  },
  {
   "cell_type": "code",
   "execution_count": null,
   "id": "b99d15bd",
   "metadata": {},
   "outputs": [],
   "source": [
    "len(featnames_nice), len(featnames_VIFsel)"
   ]
  },
  {
   "cell_type": "code",
   "execution_count": null,
   "id": "9fb15bde",
   "metadata": {},
   "outputs": [],
   "source": [
    "np.array(featnames_nice)[featis[-2:]]"
   ]
  },
  {
   "cell_type": "code",
   "execution_count": null,
   "id": "757360cb",
   "metadata": {},
   "outputs": [],
   "source": [
    "featnames[featis[-2:]]"
   ]
  },
  {
   "cell_type": "code",
   "execution_count": null,
   "id": "62dddd60",
   "metadata": {},
   "outputs": [],
   "source": [
    "roi_labels['all_raw'][30]"
   ]
  },
  {
   "cell_type": "code",
   "execution_count": null,
   "id": "85e44c69",
   "metadata": {},
   "outputs": [],
   "source": [
    "len(featnames_nice), len(featnames)"
   ]
  },
  {
   "cell_type": "code",
   "execution_count": null,
   "id": "589e9707",
   "metadata": {},
   "outputs": [],
   "source": [
    "featnames_nice[-5:], featnames[-5:]"
   ]
  },
  {
   "cell_type": "code",
   "execution_count": null,
   "id": "dce35cff",
   "metadata": {},
   "outputs": [],
   "source": [
    "pjoin(subdir,'good_feats_dyn.pdf')"
   ]
  },
  {
   "cell_type": "code",
   "execution_count": null,
   "id": "761d5eae",
   "metadata": {},
   "outputs": [],
   "source": [
    "# from plots import plotFeatsWithEverything\n",
    "# #%debug\n",
    "# plotFeatsWithEverything(dat_pri, rawtimes_pri, X_pri, \n",
    "#                             Xtimes_pri, dat_lfp_hires_pri, times_hires_pri,\n",
    "#                             rawnames,\n",
    "#                             subfeature_order_pri, subfeature_order_newsrcgrp_pri,\n",
    "#                             subfeature_order_lfp_hires_pri,\n",
    "#                             anndict_per_intcat_per_rawn,\n",
    "#                             featnames, wbd_pri,\n",
    "#                             sfreq, raw_perband_flt_pri, raw_perband_bp_pri,\n",
    "#                             scale_data_combine_type,\n",
    "#                             stats_multiband_flt, stats_multiband_bp,\n",
    "#                             test_plots_descr, special_chns,\n",
    "#                            fband_names_inc_HFO )"
   ]
  },
  {
   "cell_type": "code",
   "execution_count": null,
   "id": "12481001",
   "metadata": {},
   "outputs": [],
   "source": []
  },
  {
   "cell_type": "code",
   "execution_count": null,
   "id": "24da4f76",
   "metadata": {},
   "outputs": [],
   "source": []
  },
  {
   "cell_type": "code",
   "execution_count": null,
   "id": "67204c2e",
   "metadata": {},
   "outputs": [],
   "source": [
    "np.min(Xconcat), np.max(Xconcat_to_fit)"
   ]
  },
  {
   "cell_type": "code",
   "execution_count": null,
   "id": "b86916c2",
   "metadata": {},
   "outputs": [],
   "source": [
    "dd0 = Xconcat[:,featis[0]]\n",
    "#dd = dd[ dd< np.quantile(dd,0.95)]\n",
    "dd = np.exp(dd0) \n",
    "#dd = 1/dd\n",
    "dd = np.log( dd - np.min(dd) *.99 )\n",
    "#dd = dd[ dd< np.quantile(dd,0.99)]\n",
    "plt.hist(dd,bins=250,alpha=0.5,label='new');\n",
    "\n",
    "plt.hist(dd0,bins=250,alpha=0.5,label='old');\n",
    "plt.legend(loc='upper right')"
   ]
  },
  {
   "cell_type": "code",
   "execution_count": null,
   "id": "938410b1",
   "metadata": {},
   "outputs": [],
   "source": [
    "plt.hist(dd0,bins=250)"
   ]
  },
  {
   "cell_type": "code",
   "execution_count": null,
   "id": "a05718f5",
   "metadata": {},
   "outputs": [],
   "source": [
    "np.min(dd)"
   ]
  },
  {
   "cell_type": "code",
   "execution_count": null,
   "id": "9559a356",
   "metadata": {},
   "outputs": [],
   "source": [
    "h"
   ]
  },
  {
   "cell_type": "code",
   "execution_count": null,
   "id": "d9ce144f",
   "metadata": {},
   "outputs": [],
   "source": [
    "help(dist.pdf)"
   ]
  },
  {
   "cell_type": "code",
   "execution_count": null,
   "id": "da2f466d",
   "metadata": {},
   "outputs": [],
   "source": [
    "f"
   ]
  },
  {
   "cell_type": "code",
   "execution_count": null,
   "id": "87c3cdce",
   "metadata": {},
   "outputs": [],
   "source": [
    "import scipy.stats\n",
    "qm = np.quantile(dd,0.99)\n",
    "y = dd [ dd < qm]\n",
    "#y = np.exp(y)\n",
    "size = len(y)\n",
    "x = np.arange(np.min(y),np.max(y),0.5)\n",
    "#y = 0.01 -np.min(dd) + dd\n",
    "#x = np.arange(0.01,55,0.5)\n",
    "#y = scipy.int_(np.round_(scipy.stats.vonmises.rvs(5,size=size)*47))\n",
    "h = plt.hist(y, bins=x)\n",
    "binh,binloc,barcont = h\n",
    "\n",
    "# beta, rayleigh look ok\n",
    "#ten best\n",
    "# dist_names = ['cauchy',\n",
    "#  'dweibull',\n",
    "#  'foldcauchy',\n",
    "#  'dgamma',\n",
    "#  't',\n",
    "#  'tukeylambda',\n",
    "#  'fisk',\n",
    "#  'weibull_min', 'erlang']\n",
    "\n",
    "#'loglaplace',\n",
    " \n",
    "dist_names = ['alpha', 'cauchy',  'dgamma', 'dweibull', 'erlang', 'exponweib',\n",
    "              'genlogistic',  'foldcauchy',  'genextreme']\n",
    "#  'fisk',  'fatiguelife',  'gumbel_r',  'gengamma','invweibull',\n",
    "#  'invgamma',  'mielke',  'powerlognorm',  'nct',\n",
    "#  'johnsonsu',  'lognorm',  'invgauss',  'loglaplace',\n",
    "#  'recipinvgauss',  'pearson3',  'laplace', 't',  'tukeylambda',\n",
    "#  'hypsecant',  'weibull_min',  'logistic',  'kstwobign',\n",
    "#               'nakagami',  'rayleigh',  'rice',  'maxwell']\n",
    "dist_names = ['beta']\n",
    "dist_names = ['levy_stable']\n",
    "\n",
    "do_plot = 1\n",
    "d_per_name = {}\n",
    "pdf_fit_per_name = {}\n",
    "\n",
    "for dist_name in dist_names:\n",
    "    dist = getattr(scipy.stats, dist_name)\n",
    "    params = dist.fit(y)\n",
    "    arg = params[:-2]\n",
    "    loc = params[-2]\n",
    "    scale = params[-1]\n",
    "    if arg:\n",
    "        pdf_fitted = dist.pdf(binloc, *arg, loc=loc, scale=scale) * size\n",
    "    else:\n",
    "        pdf_fitted = dist.pdf(binloc, loc=loc, scale=scale) * size\n",
    "    if do_plot and np.max(pdf_fitted) < np.max(binh) * 3:\n",
    "        plt.plot(binloc, pdf_fitted, label=dist_name)\n",
    "    plt.xlim(-6,20)\n",
    "    pdf_fit_per_name[dist_name] = pdf_fitted\n",
    "    \n",
    "    discrep = np.sum(np.abs( binh-pdf_fitted[:-1] ) ) / len(binh)\n",
    "    d_per_name[dist_name] = discrep\n",
    "plt.legend(loc='upper right')\n",
    "plt.show()"
   ]
  },
  {
   "cell_type": "code",
   "execution_count": null,
   "id": "e5b6d8c7",
   "metadata": {},
   "outputs": [],
   "source": [
    "arg"
   ]
  },
  {
   "cell_type": "code",
   "execution_count": null,
   "id": "fb42ff72",
   "metadata": {},
   "outputs": [],
   "source": [
    "help(sorted)"
   ]
  },
  {
   "cell_type": "code",
   "execution_count": null,
   "id": "11a9d2f1",
   "metadata": {},
   "outputs": [],
   "source": [
    "stl = sorted( list( d_per_name.items() ), key = lambda x: x[1] )\n",
    "stl_ext = [ (dn,v,pdf_fit_per_name[dn][0]) for  (dn, v) in stl]\n",
    "display(stl_ext)"
   ]
  },
  {
   "cell_type": "code",
   "execution_count": null,
   "id": "98137e2d",
   "metadata": {},
   "outputs": [],
   "source": [
    "list( set( ['exponpow', 'f', 'fatiguelife', 'fisk', 'foldcauchy', 'foldnorm', \n",
    "               'frechet_r', 'frechet_l', 'genlogistic', 'genpareto', 'genexpon', \n",
    "               'genextreme', 'gausshyper', 'gamma', 'gengamma', 'genhalflogistic', \n",
    "               'gilbrat', 'gompertz', 'gumbel_r', 'gumbel_l', 'halfcauchy'] ) - \\\n",
    "set( ['frechet_r',\n",
    " 'genhalflogistic',\n",
    " 'foldnorm',\n",
    " 'gilbrat',\n",
    " 'gompertz',\n",
    " 'genpareto',\n",
    " 'genexpon',\n",
    " 'halfcauchy',\n",
    " 'exponpow',\n",
    " 'gamma',\n",
    " 'frechet_l',\n",
    " 'f',\n",
    " 'gausshyper',\n",
    " 'gumbel_l'] ) )"
   ]
  },
  {
   "cell_type": "code",
   "execution_count": null,
   "id": "e2b223f9",
   "metadata": {},
   "outputs": [],
   "source": [
    "list(list(zip(*stl))[0])[:10]"
   ]
  },
  {
   "cell_type": "code",
   "execution_count": null,
   "id": "ab13977b",
   "metadata": {},
   "outputs": [],
   "source": [
    "list(list(zip(*stl))[0])[-14:]"
   ]
  },
  {
   "cell_type": "code",
   "execution_count": null,
   "id": "1939a488",
   "metadata": {},
   "outputs": [],
   "source": [
    "list(list(zip(*stl))[0])[-10:]"
   ]
  },
  {
   "cell_type": "code",
   "execution_count": null,
   "id": "6200d0ee",
   "metadata": {},
   "outputs": [],
   "source": [
    "len(binh), len(pdf_fitted)"
   ]
  },
  {
   "cell_type": "code",
   "execution_count": null,
   "id": "40aca920",
   "metadata": {},
   "outputs": [],
   "source": []
  },
  {
   "cell_type": "code",
   "execution_count": null,
   "id": "4f398bbf",
   "metadata": {},
   "outputs": [],
   "source": [
    "plt.plot(binh)\n",
    "plt.plot(pdf_fitted[:-1])"
   ]
  },
  {
   "cell_type": "code",
   "execution_count": null,
   "id": "378c2c10",
   "metadata": {},
   "outputs": [],
   "source": []
  },
  {
   "cell_type": "code",
   "execution_count": null,
   "id": "eb754d9c",
   "metadata": {},
   "outputs": [],
   "source": [
    "help(plt.subplots_adjust)"
   ]
  }
 ],
 "metadata": {
  "kernelspec": {
   "display_name": "Python 3",
   "language": "python",
   "name": "python3"
  },
  "language_info": {
   "codemirror_mode": {
    "name": "ipython",
    "version": 3
   },
   "file_extension": ".py",
   "mimetype": "text/x-python",
   "name": "python",
   "nbconvert_exporter": "python",
   "pygments_lexer": "ipython3",
   "version": "3.9.6"
  }
 },
 "nbformat": 4,
 "nbformat_minor": 5
}
