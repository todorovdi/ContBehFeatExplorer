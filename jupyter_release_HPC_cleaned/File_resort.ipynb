{
 "cells": [
  {
   "cell_type": "markdown",
   "id": "372d3480",
   "metadata": {},
   "source": [
    "# ML"
   ]
  },
  {
   "cell_type": "code",
   "execution_count": null,
   "id": "06ddb516",
   "metadata": {},
   "outputs": [],
   "source": [
    "newdir = os.path.join(gv.dir_fig, 'ML' )\n",
    "if not os.path.exists(newdir):\n",
    "    os.mkdir( newdir )\n",
    "newdir_outer = newdir\n",
    "\n",
    "import shutil\n",
    "dirname_suffix = ''\n",
    "\n",
    "for rawname_ in rawnames:\n",
    "    subj,medcond,task = utils.getParamsFromRawname(rawname_)\n",
    "    for prefix in prefixes:\n",
    "    #    rawname_ = 'S04_off_move'\n",
    "\n",
    "\n",
    "        #prefix = 'all'\n",
    "        regex = '{}_{}.*{}_ML.*.pdf'.format(subj,medcond,prefix)\n",
    "        fnfound = utsne.findByPrefix(gv.dir_fig, None, prefix, regex=regex)\n",
    "        print(regex,len(fnfound))\n",
    "        if len(fnfound):\n",
    "            newdir = os.path.join(newdir_outer, '{}_{}_{}'.format(subj, medcond, dirname_suffix) )\n",
    "\n",
    "            if not os.path.exists(newdir):\n",
    "                os.mkdir( newdir )\n",
    "\n",
    "            for fn in fnfound:\n",
    "                fnfull_old = os.path.join(gv.dir_fig,fn)\n",
    "                fnfull = os.path.join(newdir,fn)\n",
    "                shutil.move(fnfull_old,fnfull)\n",
    "\n",
    "#    fnfound"
   ]
  },
  {
   "cell_type": "markdown",
   "id": "97fcfd4e",
   "metadata": {},
   "source": [
    "## Strip heavy"
   ]
  },
  {
   "cell_type": "code",
   "execution_count": null,
   "id": "c34d8614",
   "metadata": {},
   "outputs": [],
   "source": [
    "%load_ext autoreload\n",
    "%autoreload 2\n",
    "from os.path import join as pjoin\n",
    "\n",
    "from time import time\n",
    "import zipfile\n",
    "import utils_postprocess as pp\n",
    "\n",
    "import utils_postprocess_HPC as postp\n",
    "\n",
    "recent = postp.listRecent(2)\n",
    "#%debug\n",
    "\n",
    "bad = []\n",
    "for fni,fn in list( enumerate(recent) ):# [84:]:\n",
    "    if fn.startswith('_!'):\n",
    "        continue\n",
    "    fn_full = pjoin(gv.data_dir, fn)\n",
    "    try:\n",
    "        t0= time()\n",
    "        f = np.load(fn_full,allow_pickle=True )\n",
    "        res_cur = pp.extractLightInfo(f)\n",
    "        f.close()\n",
    "        del f\n",
    "        fn_new = '_!' + fn\n",
    "        fn_new_full = pjoin(gv.data_dir, fn_new)\n",
    "\n",
    "\n",
    "        gc.collect()\n",
    "        t1 = time()\n",
    "\n",
    "        np.savez(fn_new_full,results_light=res_cur)\n",
    "        oldsz = os.path.getsize(fn_full) / 1024 **3\n",
    "        newsz = os.path.getsize(fn_new_full) / 1024 **3\n",
    "        print(fn)\n",
    "        print(f'  old sz = {oldsz:.4f} Gb, new sz = {newsz:.4f} Gb, took {t1-t0:.2f}s')\n",
    "    except zipfile.BadZipFile as e:\n",
    "        print(f'{fn} is corrupted: {e}')\n",
    "        bad += [fn]\n",
    "\n",
    "#print ( pp.total_size(f) /  pp.total_size(res_cur) )"
   ]
  },
  {
   "cell_type": "markdown",
   "id": "021312b0",
   "metadata": {},
   "source": [
    "# Nonlin Proj"
   ]
  },
  {
   "cell_type": "code",
   "execution_count": null,
   "id": "e6f5efe8",
   "metadata": {},
   "outputs": [],
   "source": [
    "newdir = os.path.join(gv.dir_fig, 'tSNE-like' )\n",
    "if not os.path.exists(newdir):\n",
    "    os.mkdir( newdir )\n",
    "newdir_outer = newdir\n",
    "\n",
    "import shutil\n",
    "subskip_val = 1\n",
    "dirname_suffix = 'subskip{}'.format(subskip_val)\n",
    "\n",
    "for rawname_ in rawnames:\n",
    "    subj,medcond,task = utils.getParamsFromRawname(rawname_)\n",
    "    for prefix in prefixes:\n",
    "    #    rawname_ = 'S04_off_move'\n",
    "\n",
    "\n",
    "        #prefix = 'all'\n",
    "        regex = '{}_{}.*{}_tSNE_.*_subskip{}.pdf'.format(subj,medcond,prefix,subskip_val)\n",
    "        fnfound = utsne.findByPrefix(gv.dir_fig, None, prefix, regex=regex)\n",
    "        print(regex,len(fnfound))\n",
    "        if len(fnfound):\n",
    "            newdir = os.path.join(newdir_outer, '{}_{}_{}'.format(subj, medcond, dirname_suffix) )\n",
    "\n",
    "            if not os.path.exists(newdir):\n",
    "                os.mkdir( newdir )\n",
    "\n",
    "            for fn in fnfound:\n",
    "                fnfull_old = os.path.join(gv.dir_fig,fn)\n",
    "                fnfull = os.path.join(newdir,fn)\n",
    "                shutil.move(fnfull_old,fnfull)\n",
    "\n",
    "#    fnfound"
   ]
  },
  {
   "cell_type": "markdown",
   "id": "2d6892c2",
   "metadata": {},
   "source": [
    "# move files"
   ]
  },
  {
   "cell_type": "code",
   "execution_count": null,
   "id": "75b3fb25",
   "metadata": {},
   "outputs": [],
   "source": [
    "# %load ../helper_scripts/move_between_out_folders.py\n",
    "import os\n",
    "from datetime import datetime \n",
    "import shutil\n",
    "\n",
    "subdir_from = 'joint_noskip'\n",
    "subdir_to = 'per_subj_best_LFP'\n",
    "#subdir_from = subdir_to\n",
    "\n",
    "data_dir = os.path.expandvars('$DATA_DUSS')\n",
    "\n",
    "start_year,start_month,start_day,start_hour,start_minute = 2021,9,20,19,0\n",
    "#year,month,day,hour,minute = 2021,9,20,19,0\n",
    "\n",
    "\n",
    "dirpath = os.path.join(data_dir,subdir_from )\n",
    "#ls = os.listdir(dirpath )\n",
    "\n",
    "\n",
    "dirpath_to = os.path.join(data_dir,subdir_to)\n",
    "\n",
    "if not os.path.exists(dirpath_to):\n",
    "    print(f'create {dirpath_to}')\n",
    "    os.mkdir(dirpath_to)\n",
    "\n",
    "from pathlib import Path\n",
    "ls = sorted(Path(dirpath).iterdir(), key=os.path.getmtime)\n",
    "\n",
    "do_move = 1\n",
    "\n",
    "dates = []\n",
    "fns = []\n",
    "dirs = []\n",
    "fns_true = []\n",
    "for fn in ls:\n",
    "    #fn_full = os.path.join(data_dir,subdir_from,fn)\n",
    "    fn_full = fn\n",
    "    fn2_full = None\n",
    "    st = os.stat(fn_full)\n",
    "    dt = datetime.fromtimestamp(st.st_mtime)\n",
    "\n",
    "    s = f'{start_year}-{start_month}-{start_day} {start_hour}:{start_minute}:00'\n",
    "    dt_start = datetime.strptime(s , '%Y-%m-%d %H:%M:%S') \n",
    "\n",
    "    if dt < dt_start: #  and dt <= dt_end:\n",
    "        continue\n",
    "    #print(f'candiate {fn}, {dt}')\n",
    "    dates += [dt]\n",
    "    fns += [fn]\n",
    "\n",
    "    if os.path.isdir(fn_full):\n",
    "        dirs += [fn]\n",
    "    else:\n",
    "        fns_true += [fn]\n",
    "\n",
    "    if not fn.is_dir():\n",
    "        if fn.stem.find('_all_') >= 0:\n",
    "            print(fn.stem[:40], 'is all')\n",
    "            #continue\n",
    "\n",
    "        #newstem = fn.name\n",
    "        if fn.stem.startswith('__p') or fn.stem.startswith('_!__p'):\n",
    "            f = np.load(fn,allow_pickle=1)            \n",
    "            if fn.stem.startswith('__p'):\n",
    "                rl = f['results_cur'][()]\n",
    "                rnstr = rl['pars']['rawnames']\n",
    "                subj = rnstr[:3]\n",
    "                newstem = '_' + subj + fn.name[1:]\n",
    "            if fn.stem.startswith('_!__p'):\n",
    "                rl = f['results_light'][()]\n",
    "                rnstr = rl['pars']['rawnames']\n",
    "                subj = rnstr[:3]\n",
    "                newstem = '_!_' + subj + fn.name[3:]\n",
    "\n",
    "            fn2_full = os.path.join(dirpath_to,newstem)\n",
    "            if do_move:\n",
    "                shutil.move(fn_full, fn2_full)  \n",
    "        # well, I should only move completed.. so I may need to use indtool info, which is painful\n",
    "        #shutil.move(fn_full, fn2_full)  \n",
    "        #print(fn_full,'   ->\\n    ',fn2_full)\n",
    "        print(fn.stem[:40], newstem[:40])\n",
    "\n",
    "        #break\n",
    "\n",
    "sdts = list(sorted(dates) ) \n",
    "print( f'Earliest {dates[0] } : {fns[0]},\\n Latest {dates[-1] } {fns[-1]}')\n",
    "                                               \n"
   ]
  },
  {
   "cell_type": "code",
   "execution_count": null,
   "id": "153aa2d5",
   "metadata": {},
   "outputs": [],
   "source": [
    "import gc; gc.collect()"
   ]
  },
  {
   "cell_type": "code",
   "execution_count": null,
   "id": "87bd7e6c",
   "metadata": {},
   "outputs": [],
   "source": [
    "fn_full"
   ]
  },
  {
   "cell_type": "code",
   "execution_count": null,
   "id": "9f617170",
   "metadata": {},
   "outputs": [],
   "source": [
    "fn2_full"
   ]
  },
  {
   "cell_type": "code",
   "execution_count": null,
   "id": "e044168c",
   "metadata": {},
   "outputs": [],
   "source": []
  },
  {
   "cell_type": "code",
   "execution_count": null,
   "id": "efaffd34",
   "metadata": {},
   "outputs": [],
   "source": [
    "list"
   ]
  },
  {
   "cell_type": "code",
   "execution_count": null,
   "id": "a65c443f",
   "metadata": {},
   "outputs": [],
   "source": []
  },
  {
   "cell_type": "code",
   "execution_count": null,
   "id": "22774724",
   "metadata": {},
   "outputs": [],
   "source": [
    "list( rl.keys() )"
   ]
  },
  {
   "cell_type": "code",
   "execution_count": null,
   "id": "d190b26b",
   "metadata": {},
   "outputs": [],
   "source": [
    "list(f.keys())"
   ]
  },
  {
   "cell_type": "code",
   "execution_count": null,
   "id": "5dbfbe6b",
   "metadata": {},
   "outputs": [],
   "source": [
    "dirpath"
   ]
  },
  {
   "cell_type": "code",
   "execution_count": null,
   "id": "22f79071",
   "metadata": {},
   "outputs": [],
   "source": []
  },
  {
   "cell_type": "code",
   "execution_count": null,
   "id": "4a01ec4d",
   "metadata": {},
   "outputs": [],
   "source": [
    "help(os.m)"
   ]
  },
  {
   "cell_type": "code",
   "execution_count": null,
   "id": "9f58485d",
   "metadata": {},
   "outputs": [],
   "source": [
    "dirs[0],dirs[-1]"
   ]
  },
  {
   "cell_type": "code",
   "execution_count": null,
   "id": "152a00ec",
   "metadata": {},
   "outputs": [],
   "source": [
    "fns_true"
   ]
  }
 ],
 "metadata": {
  "kernelspec": {
   "display_name": ".pyenv",
   "language": "python",
   "name": ".pyenv"
  },
  "language_info": {
   "codemirror_mode": {
    "name": "ipython",
    "version": 3
   },
   "file_extension": ".py",
   "mimetype": "text/x-python",
   "name": "python",
   "nbconvert_exporter": "python",
   "pygments_lexer": "ipython3",
   "version": "3.8.5"
  }
 },
 "nbformat": 4,
 "nbformat_minor": 5
}
