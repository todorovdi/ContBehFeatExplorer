{
 "cells": [
  {
   "cell_type": "code",
   "execution_count": null,
   "metadata": {},
   "outputs": [],
   "source": [
    "# cleanup\n",
    "# for a give rawname\n",
    "# remove \n",
    "# DONT REMOVE any annotations\n",
    "# remove srcds, pcica, features.  \n",
    "# don't remove PCAs and tSNEs because they may contain info from other"
   ]
  },
  {
   "cell_type": "markdown",
   "metadata": {},
   "source": [
    "# just remove old"
   ]
  },
  {
   "cell_type": "code",
   "execution_count": null,
   "metadata": {},
   "outputs": [],
   "source": []
  },
  {
   "cell_type": "code",
   "execution_count": null,
   "metadata": {},
   "outputs": [],
   "source": [
    "from dateutil import parser\n",
    "import globvars as gv\n",
    "from os.path import join as pjoin\n",
    "from datetime import datetime \n",
    "\n",
    "pairs = []\n",
    "pairs += [('covmat_entire','per_subj_per_medcond_best_LFP_wholectx_oversample_LFP256_covmat_entire')]\n",
    "pairs += [('covmat_rest',  'per_subj_per_medcond_best_LFP_wholectx_oversample_LFP256_covmat_rest')]\n",
    "\n",
    "start_time = parser.parse(\"30 jan 2023 00:05:00\")\n",
    "for sn,subdir in pairs: \n",
    "    fns = os.listdir( pjoin(gv.data_dir, subdir))\n",
    "    for fn in fns:\n",
    "        fnf = pjoin(gv.data_dir, subdir, fn)\n",
    "        if os.path.isdir(fnf):\n",
    "            continue\n",
    "        mtime = os.stat(fnf).st_mtime\n",
    "        dt = datetime.fromtimestamp(mtime)\n",
    "        if dt < start_time:\n",
    "            print(dt, fn)\n",
    "            #os.remove(fnf)"
   ]
  },
  {
   "cell_type": "markdown",
   "metadata": {},
   "source": [
    "# Cleanup"
   ]
  },
  {
   "cell_type": "code",
   "execution_count": null,
   "metadata": {},
   "outputs": [],
   "source": [
    "import os \n",
    "import globvars as gv\n"
   ]
  },
  {
   "cell_type": "code",
   "execution_count": null,
   "metadata": {},
   "outputs": [],
   "source": [
    "rn_to_cleanup = 'S01_off_hold'"
   ]
  },
  {
   "cell_type": "code",
   "execution_count": null,
   "metadata": {},
   "outputs": [],
   "source": [
    "fnames = os.listdir(gv.data_dir)\n",
    "for fn in fnames:\n",
    "    if fn.find(rn_to_cleanup) >= 0:\n",
    "        print(fn)"
   ]
  },
  {
   "cell_type": "code",
   "execution_count": null,
   "metadata": {},
   "outputs": [],
   "source": [
    "import re"
   ]
  },
  {
   "cell_type": "code",
   "execution_count": null,
   "metadata": {},
   "outputs": [],
   "source": [
    "templs_to_remove = ['srcd_{}.*.mat', '{}_src_rec_info.*.npz', \n",
    "                    '{}_.*_raw.fif', '{}_LFP.*.fif',\n",
    "                   '{}_.*-ica.fif.gz', 'pcica_srcd_{}.*.fif', '{}_tfr_.*.npz']\n",
    "templs_to_remove += ['{}_\\w*_PCA.*.npz' ]\n",
    "fns_to_kill = []\n",
    "for fn in fnames:\n",
    "    for templ in templs_to_remove:\n",
    "        r =  re.match(templ.format(rn_to_cleanup),fn)\n",
    "        if r is not None:\n",
    "            fns_to_kill += [fn]\n",
    "        \n",
    "list(sorted(set(fns_to_kill)))\n",
    "display(fns_to_kill)"
   ]
  },
  {
   "cell_type": "code",
   "execution_count": null,
   "metadata": {},
   "outputs": [],
   "source": []
  },
  {
   "cell_type": "code",
   "execution_count": null,
   "metadata": {},
   "outputs": [],
   "source": []
  },
  {
   "cell_type": "code",
   "execution_count": null,
   "metadata": {},
   "outputs": [],
   "source": []
  },
  {
   "cell_type": "code",
   "execution_count": null,
   "metadata": {},
   "outputs": [],
   "source": [
    "for fn in fns_to_kill:\n",
    "    fn_full = os.path.join(data_dir, fn)\n",
    "    os.remove(fn_full)"
   ]
  },
  {
   "cell_type": "markdown",
   "metadata": {},
   "source": [
    "# Move"
   ]
  },
  {
   "cell_type": "code",
   "execution_count": null,
   "metadata": {},
   "outputs": [],
   "source": [
    "len(fnames)"
   ]
  },
  {
   "cell_type": "code",
   "execution_count": null,
   "metadata": {},
   "outputs": [],
   "source": [
    "import os \n",
    "import globvars as gv\n",
    "from datetime import datetime\n",
    "import shutil\n",
    "from dateutil import parser\n",
    "\n",
    "start_time = parser.parse(\"22 july 2022 09:00:00\")\n",
    "\n",
    "old_dir = os.path.join(gv.data_dir,'per_subj_per_medcond_best_LFP_wholectx')\n",
    "new_dir = os.path.join(gv.data_dir,'per_subj_per_medcond_best_LFP_wholectx','old')\n",
    "\n",
    "do_move = 0\n",
    "\n",
    "fnames = os.listdir(old_dir)\n",
    "tuples = []\n",
    "for fn in fnames:\n",
    "    fn_full = os.path.join(old_dir,fn)\n",
    "    \n",
    "    if os.path.isdir(fn_full):\n",
    "        continue\n",
    "    \n",
    "    mtime = os.stat(fn_full).st_mtime\n",
    "    dt = datetime.fromtimestamp(mtime)\n",
    "    \n",
    "#     cond1 = datetime.now().month == dt.month and \\\n",
    "#         datetime.now().year == dt.year and \\\n",
    "#         dt.day >= ndays\n",
    "    cond2 = dt < start_time\n",
    "    if cond2:\n",
    "        tuples += [(mtime,dt,fn_full, fn_new_full)]\n",
    "        \n",
    "        fn_new_full = os.path.join(new_dir,fn)\n",
    "        print(dt,fn_new_full)\n",
    "    #if fn.find(rn_to_cleanup) >= 0:\n",
    "    #    print(fn)"
   ]
  },
  {
   "cell_type": "code",
   "execution_count": null,
   "metadata": {},
   "outputs": [],
   "source": []
  },
  {
   "cell_type": "code",
   "execution_count": null,
   "metadata": {},
   "outputs": [],
   "source": [
    "do_move = 1\n",
    "if not do_move:\n",
    "    print('not moving')\n",
    "else:\n",
    "    print('moving')\n",
    "    if not os.path.exists(new_dir):\n",
    "        os.makedirs(new_dir)\n",
    "for (mtime,dt,fn_full,fn_new_full) in tuples:\n",
    "    if do_move:        \n",
    "        shutil.move(fn_full,fn_new_full)"
   ]
  },
  {
   "cell_type": "code",
   "execution_count": null,
   "metadata": {},
   "outputs": [],
   "source": [
    "len(tuples)"
   ]
  },
  {
   "cell_type": "code",
   "execution_count": null,
   "metadata": {},
   "outputs": [],
   "source": [
    "#from datetime import now\n"
   ]
  },
  {
   "cell_type": "code",
   "execution_count": null,
   "metadata": {},
   "outputs": [],
   "source": [
    "len(tuples)"
   ]
  },
  {
   "cell_type": "code",
   "execution_count": null,
   "metadata": {},
   "outputs": [],
   "source": []
  }
 ],
 "metadata": {
  "kernelspec": {
   "display_name": "Python 3 (ipykernel)",
   "language": "python",
   "name": "python3"
  },
  "language_info": {
   "codemirror_mode": {
    "name": "ipython",
    "version": 3
   },
   "file_extension": ".py",
   "mimetype": "text/x-python",
   "name": "python",
   "nbconvert_exporter": "python",
   "pygments_lexer": "ipython3",
   "version": "3.8.15"
  }
 },
 "nbformat": 4,
 "nbformat_minor": 2
}
