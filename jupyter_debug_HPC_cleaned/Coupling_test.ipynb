{
 "cells": [
  {
   "cell_type": "code",
   "execution_count": null,
   "metadata": {},
   "outputs": [],
   "source": [
    "%load_ext autoreload\n",
    "%autoreload 2\n",
    "#%debug\n",
    "%run -i run_genfeats.py --sources_type parcel_aal --bands crude\\\n",
    " --src_grouping_fn 10\\\n",
    " --src_grouping 0 \\\n",
    " --raw S99_off_move \\\n",
    " --feat_types con,H_act,H_mob,H_compl\\\n",
    " --Kalman_smooth 0\\\n",
    " --load_TFR 0\\\n",
    " --load_CSD 0\\\n",
    " --save_TFR 0\\\n",
    " --save_CSD 0\\\n",
    " --use_existing_TFR 0\\\n",
    "--stats_fn_prefix stats_S97,S99_3_\n",
    "# --show_plots 1\\\n",
    "# --plot_types feat_timecourse\n",
    "#--plot_types raw_timecourse\n",
    "#--plot_types raw_stats,raw_timecourse,raw_psd,feat_stats,feat_timecourse\n",
    " #--plot_only 0"
   ]
  },
  {
   "cell_type": "code",
   "execution_count": null,
   "metadata": {},
   "outputs": [],
   "source": []
  },
  {
   "cell_type": "code",
   "execution_count": null,
   "metadata": {},
   "outputs": [],
   "source": [
    "assert chnames_tfr[0][0:3] == 'LFP'\n",
    "assert np.all( [chnames_tfr[i] == subfeature_order[i] for i in range(len(chnames_tfr)) ] )"
   ]
  },
  {
   "cell_type": "code",
   "execution_count": null,
   "metadata": {},
   "outputs": [],
   "source": [
    "ind_distr, ind_distr_parcels, ind_pairs_parcelsLFP, \\\n",
    "    parcel_couplings, LFP2parcel_couplings, LFP2LFP_couplings = res_couplings\n"
   ]
  },
  {
   "cell_type": "code",
   "execution_count": null,
   "metadata": {},
   "outputs": [],
   "source": [
    "for chn_tpl,chi_tpl_list in LFP2LFP_couplings.items():\n",
    "    print(chn_tpl,chi_tpl_list)\n",
    "    for chi_tpl in chi_tpl_list:\n",
    "        print( chnames_tfr[chi_tpl[0]], chnames_tfr[chi_tpl[1]] )"
   ]
  },
  {
   "cell_type": "code",
   "execution_count": null,
   "metadata": {},
   "outputs": [],
   "source": [
    "chnames_nicened"
   ]
  },
  {
   "cell_type": "code",
   "execution_count": null,
   "metadata": {},
   "outputs": [],
   "source": [
    "for pc in LFP2parcel_couplings:\n",
    "    for (i,j) in LFP2parcel_couplings[pc]:\n",
    "        print(pc, chnames_tfr[i],chnames_tfr[j], chnames_nicened[j] )"
   ]
  },
  {
   "cell_type": "code",
   "execution_count": null,
   "metadata": {},
   "outputs": [],
   "source": [
    "_,names_src = utsne.selFeatsRegex(None, subfeature_order, ['msrc.*'])\n",
    "_,names_lfp = utsne.selFeatsRegex(None, subfeature_order, ['LFP.*'])\n",
    "chnames_tfr = list(names_src) + list(names_lfp)"
   ]
  },
  {
   "cell_type": "code",
   "execution_count": null,
   "metadata": {},
   "outputs": [],
   "source": [
    "log_during_csd, log_before_bandaver, normalize_TFR "
   ]
  },
  {
   "cell_type": "code",
   "execution_count": null,
   "metadata": {},
   "outputs": [],
   "source": [
    "log_during_csd, log_before_bandaver, normalize_TFR = False,False,True"
   ]
  },
  {
   "cell_type": "code",
   "execution_count": null,
   "metadata": {},
   "outputs": [],
   "source": [
    "tfrres_cur = tfrres_pri[0]\n",
    "\n",
    "tfrres_cur_ = tfrres_cur\n",
    "if normalize_TFR:\n",
    "    tfrres_cur_ =  (tfrres_cur - tfr_mean[:,:,None] ) / tfr_std[:,:,None]\n",
    "\n",
    "csd_cur, csdord = utils.tfr2csd(tfrres_cur_, sfreq, returnOrder=1,\n",
    "                                            ind_pairs=None,\n",
    "                                            parcel_couplings=parcel_couplings,\n",
    "                                            LFP2LFP_couplings=LFP2LFP_couplings,\n",
    "                                            LFP2parcel_couplings=LFP2parcel_couplings,\n",
    "                                            oldchns=chnames_tfr,\n",
    "                                            newchns=newchns,\n",
    "                                            res_group_id=newchn_grouping_ind,\n",
    "                                            log=log_during_csd)\n",
    "\n",
    "\n",
    "bpow_abscsd_pri, bpow_imagcsd, csdord_strs_pri, csdord_strs_HFO_pri,bpow_abscsd_LFP_HFO_pri  = \\\n",
    "    utils.bandAverage( freqs,freqs_inc_HFO,csd_pri,csdord_pri,csdord_LFP_HFO_pri,\n",
    "           csd_LFP_HFO_pri, fbands,fband_names, fband_names_inc_HFO,\n",
    "           newchns, subfeature_order_lfp_hires, log_before_bandaver= log_before_bandaver )\n"
   ]
  },
  {
   "cell_type": "code",
   "execution_count": null,
   "metadata": {},
   "outputs": [],
   "source": [
    "%matplotlib qt\n",
    "\n",
    "abscsd_all = bpow_abscsd_pri[0]\n",
    "s1,s2,s3 = abscsd_all.shape\n",
    "abscsd_all= abscsd_all.reshape((s1*s2,s3))"
   ]
  },
  {
   "cell_type": "code",
   "execution_count": null,
   "metadata": {},
   "outputs": [],
   "source": [
    "chnames_tfr"
   ]
  },
  {
   "cell_type": "code",
   "execution_count": null,
   "metadata": {},
   "outputs": [],
   "source": [
    "supp_info_fname_noext = 'S99_off_move' + '_supp_info'\n",
    "supp_info_fname = supp_info_fname_noext + '.npz'\n",
    "supp_info_fname_full = os.path.join(gv.data_dir,supp_info_fname)\n",
    "f = np.load(supp_info_fname_full,allow_pickle=1)\n",
    "supp_info = f['supp_info'][()]"
   ]
  },
  {
   "cell_type": "code",
   "execution_count": null,
   "metadata": {},
   "outputs": [],
   "source": [
    "csdord_ = csdord_pri[0]\n",
    "anns = utils.intervals2anns( [ (a,b,'trem') for a,b in supp_info['trem_intervals'] ] )\n",
    "\n",
    "abscsd = csd_pri[0]\n",
    "freqis = np.where( (freqs >= 37) * (freqs <= 43) )[0]\n",
    "freqis = np.where( (freqs >= 39) * (freqs <= 41) )[0]\n",
    "\n",
    "abscsd = bpow_abscsd_pri[0]\n",
    "#freqis = [0,1,2]\n",
    "freqis = [1,2]\n",
    "chis_sl = slice(-3,None,None)\n",
    "chis_sl = slice(50,None,None)\n",
    "chis_sl = slice(None,None,None)\n",
    "#chis = np.where( csdord_[0] == csdord_[1] )[0]\n",
    "chis = np.arange(abscsd.shape[0])\n",
    "#abscsd = abscsd[chis_sl,freqis,:] \n",
    "abscsd = abscsd[chis,:,:][:,freqis,:]\n",
    "s1,s2,s3 = abscsd.shape\n",
    "abscsd= abscsd.reshape((s1*s2,s3))\n",
    "#csdord_str_cur = csdord_strs[chis_sl]\n",
    "csdord_str_cur = list( np.array(chnames_tfr)[chis] ) * len(freqis)\n",
    "print(csdord_str_cur )\n",
    "\n",
    "# regexs = ['.*{}.*'.format(chn) for chn in newchns[chis_sl] ]\n",
    "# abscsd,csdord_str_cur = utsne.selFeatsRegex(abscsd,csdord_strs,regexs)\n",
    "# print( len(csdord_str_cur) )\n",
    "\n",
    "# regexs = ['{}_.*LFP.*LFP.*'.format('gamma')  ]\n",
    "# regexs = ['.*LFP.*LFP.*'.format('gamma')  ]\n",
    "# abscsd,csdord_str_cur = utsne.selFeatsRegex(abscsd_all,csdord_strs,regexs)\n",
    "# print( len(csdord_str_cur) )\n",
    "\n",
    "\n",
    "#abscsd = abscsd[:3:,:,:]  # some src where in raw data changes are seen\n",
    "#if we take 3 channels for test dataset after reshape 46 and 47 show intersting stuff\n",
    "\n",
    "if csdord_str_cur is not None:\n",
    "    csdord_str_cur = list(csdord_str_cur)\n",
    "r = utils.makeSimpleRaw(np.abs(abscsd), sfreq=windowsz/skip, \n",
    "                        ch_names=csdord_str_cur,l=4, force_trunc_renum= 1 )\n",
    "r.set_annotations(anns)\n",
    "r.plot(scalings='auto', duration=times_pri[0][-1]);"
   ]
  },
  {
   "cell_type": "code",
   "execution_count": null,
   "metadata": {},
   "outputs": [],
   "source": [
    "csdord_str_cur"
   ]
  },
  {
   "cell_type": "code",
   "execution_count": null,
   "metadata": {},
   "outputs": [],
   "source": [
    "help(r.plot)"
   ]
  },
  {
   "cell_type": "code",
   "execution_count": null,
   "metadata": {},
   "outputs": [],
   "source": []
  },
  {
   "cell_type": "code",
   "execution_count": null,
   "metadata": {},
   "outputs": [],
   "source": [
    "csdord_strs"
   ]
  },
  {
   "cell_type": "markdown",
   "metadata": {},
   "source": [
    "# From zero"
   ]
  },
  {
   "cell_type": "code",
   "execution_count": null,
   "metadata": {},
   "outputs": [],
   "source": [
    "cross_types"
   ]
  },
  {
   "cell_type": "code",
   "execution_count": null,
   "metadata": {},
   "outputs": [],
   "source": [
    "rl = roi_labels['all_raw']\n",
    "rl.index('Precentral_R'), rl.index('Cerebellum_L'), rl.index('Rolandic_Oper_R'),\\\n",
    "    rl.index('Supp_Motor_Area_R'), rl.index('Postcentral_R')"
   ]
  },
  {
   "cell_type": "code",
   "execution_count": null,
   "metadata": {},
   "outputs": [],
   "source": [
    "rl[4] # = 'Frontal_Sup_R' is not a motor region "
   ]
  },
  {
   "cell_type": "code",
   "execution_count": null,
   "metadata": {},
   "outputs": [],
   "source": [
    "1"
   ]
  },
  {
   "cell_type": "code",
   "execution_count": null,
   "metadata": {},
   "outputs": [],
   "source": [
    "chnames_tfr0 = ['LFPR01', 'LFPR12', \n",
    "                'msrcR_0_2_c0', 'msrcR_0_2_c6', 'msrcR_0_4_c12', \n",
    "                'msrcL_0_60_c8', 'msrcL_0_60_c13']"
   ]
  },
  {
   "cell_type": "code",
   "execution_count": null,
   "metadata": {},
   "outputs": [],
   "source": [
    "chnames_nicened0 = utils.nicenMEGsrc_chnames(chnames_tfr0, roi_labels, srcgrouping_names_sorted,\n",
    "                        prefix='msrc_')\n"
   ]
  },
  {
   "cell_type": "code",
   "execution_count": null,
   "metadata": {},
   "outputs": [],
   "source": [
    "res_couplings0 = ugf.selectIndPairs(chnames_nicened0, chnames_tfr0, cross_types, upper_diag=False,\n",
    "                        LFP2LFP_only_self=LFP2LFP_only_self, cross_within_parcel=False)\n"
   ]
  },
  {
   "cell_type": "code",
   "execution_count": null,
   "metadata": {},
   "outputs": [],
   "source": [
    "ind_distr0, ind_distr_parcels0, ind_pairs_parcelsLFP0, \\\n",
    "    parcel_couplings0, LFP2parcel_couplings0, LFP2LFP_couplings0 = res_couplings0\n"
   ]
  },
  {
   "cell_type": "code",
   "execution_count": null,
   "metadata": {},
   "outputs": [],
   "source": [
    "cpl = LFP2LFP_couplings\n",
    "for chn_tpl,chi_tpl_list in cpl.items():\n",
    "    print(chn_tpl,chi_tpl_list)\n",
    "    for chi_tpl in chi_tpl_list:\n",
    "        print( chnames_tfr[chi_tpl[0]], chnames_tfr[chi_tpl[1]] )"
   ]
  },
  {
   "cell_type": "code",
   "execution_count": null,
   "metadata": {},
   "outputs": [],
   "source": [
    "print(parcel_couplings0)"
   ]
  },
  {
   "cell_type": "code",
   "execution_count": null,
   "metadata": {},
   "outputs": [],
   "source": [
    "cpl = parcel_couplings0\n",
    "for chn_tpl,chi_tpl_list in cpl.items():\n",
    "    print(chn_tpl,chi_tpl_list)\n",
    "    for chi_tpl in chi_tpl_list:\n",
    "        s0 = chnames_tfr0[chi_tpl[0]]\n",
    "        s1 = chnames_tfr0[chi_tpl[1]]\n",
    "        sr = ''\n",
    "        if s0 == s1:\n",
    "            sr = 'self_' + sr\n",
    "        sr += '   {} {}'.format(s0,s1)\n",
    "        print(sr)"
   ]
  },
  {
   "cell_type": "code",
   "execution_count": null,
   "metadata": {},
   "outputs": [],
   "source": [
    "cpl = LFP2parcel_couplings0\n",
    "for chn_tpl,chi_tpl_list in cpl.items():\n",
    "    print(chn_tpl,chi_tpl_list)\n",
    "    for chi_tpl in chi_tpl_list:\n",
    "        s0 = chnames_tfr0[chi_tpl[0]]\n",
    "        s1 = chnames_tfr0[chi_tpl[1]]\n",
    "        sr = ''\n",
    "        if s0 == s1:\n",
    "            sr = 'self_' + sr\n",
    "        sr += '   {} {}'.format(s0,s1)\n",
    "        print(sr)"
   ]
  },
  {
   "cell_type": "code",
   "execution_count": null,
   "metadata": {},
   "outputs": [],
   "source": [
    "freqs0 = [5, 7, 20]\n",
    "n_cycles0 = freqs0\n",
    "nfreq0 = len(freqs0)\n",
    "ntimes0 = sfreq * 2\n",
    "\n",
    "chi_test0 = 0; print(chnames_tfr0[chi_test0])\n",
    "chi_test1 = 2; print(chnames_tfr0[chi_test1])\n",
    "chi_test2 = 5; print(chnames_tfr0[chi_test2])\n",
    "\n",
    "noise_sz = 1e-6\n",
    "testfreq = freqs0[1]\n",
    "ts = np.arange(ntimes0) / sfreq\n",
    "dat0 = np.zeros((len(chnames_tfr0),ntimes0))\n",
    "dat0[chi_test0] = 10 *np.sin(ts * testfreq*  2 * np.pi ) \n",
    "dat0[chi_test0] += noise_sz * np.random.uniform(low=-1,high=1,size=len(ts))\n",
    "\n",
    "dat0[chi_test1] = 20 *np.sin(ts * testfreq*  2 * np.pi ) \n",
    "dat0[chi_test1] += noise_sz * np.random.uniform(low=-1,high=1,size=len(ts))\n",
    "\n",
    "dat0[chi_test2] = 20 *np.sin(ts * testfreq*  2 * np.pi + 0.4*np.pi ) \n",
    "dat0[chi_test2] += noise_sz * np.random.uniform(low=-1,high=1,size=len(ts))\n",
    "\n",
    "tfrres_0,wbd = utils.tfr(dat0, sfreq, freqs0, n_cycles0,\n",
    "                        windowsz, decim = skip,\n",
    "                        n_jobs=n_jobs)\n"
   ]
  },
  {
   "cell_type": "code",
   "execution_count": null,
   "metadata": {},
   "outputs": [],
   "source": [
    "# LFP should couple to all, so I should get meaningul couplings for LFP to both sources\n",
    "# also LFP to itself, these sources to itself and sources to each other"
   ]
  },
  {
   "cell_type": "code",
   "execution_count": null,
   "metadata": {},
   "outputs": [],
   "source": [
    "plt.plot(ts,dat0[chi_test0])\n",
    "plt.plot(ts,dat0[chi_test1])\n",
    "plt.plot(ts,dat0[chi_test2])"
   ]
  },
  {
   "cell_type": "code",
   "execution_count": null,
   "metadata": {},
   "outputs": [],
   "source": [
    "%matplotlib inline\n",
    "ax1 = plt.subplot(2,1,1)\n",
    "ax2 = plt.subplot(2,1,2)\n",
    "chi_cur = chi_test0\n",
    "for fi,f in enumerate(freqs0):\n",
    "    ax1.plot(tfrres_0[chi_cur, fi].real, label='{}:{}'.format(fi,f ) )\n",
    "    ax2.plot(tfrres_0[chi_cur, fi].imag, label='{}:{}'.format(fi,f ) )\n",
    "ax1.legend(loc='upper right')\n",
    "ax2.legend(loc='upper right')"
   ]
  },
  {
   "cell_type": "code",
   "execution_count": null,
   "metadata": {},
   "outputs": [],
   "source": [
    "%matplotlib inline\n",
    "ax1 = plt.subplot(2,1,1)\n",
    "ax2 = plt.subplot(2,1,2)\n",
    "chi_cur = chi_test2\n",
    "for fi,f in enumerate(freqs0):\n",
    "    ax1.plot(tfrres_0[chi_cur, fi].real, label='{}:{}'.format(fi,f ) )\n",
    "    ax2.plot(tfrres_0[chi_cur, fi].imag, label='{}:{}'.format(fi,f ) )\n",
    "ax1.legend(loc='upper right')\n",
    "ax2.legend(loc='upper right')"
   ]
  },
  {
   "cell_type": "code",
   "execution_count": null,
   "metadata": {},
   "outputs": [],
   "source": [
    "# chreate new chnames\n",
    "parcels_present = []\n",
    "pp2side = {}\n",
    "for chn in chnames_tfr0:\n",
    "    if chn.startswith('LFP'):\n",
    "        continue\n",
    "    side1, gi1, parcel_ind1, si1 = utils.parseMEGsrcChnameShort(chn)\n",
    "    if parcel_ind1 in pp2side:\n",
    "        assert pp2side[parcel_ind1] == side1, 'Side inconsistency within parcel!'\n",
    "    pp2side[parcel_ind1] = side1\n",
    "    parcels_present += [parcel_ind1]\n",
    "\n",
    "pp = list(sorted(set(parcels_present)))\n",
    "aa = ['msrc{}_{}_{}_c{}'.format(pp2side[p],newchn_grouping_ind,p,0) for p in pp]\n",
    "lfpinds = utsne.selFeatsRegexInds(chnames_tfr0,'LFP.*')\n",
    "newchns0 = aa + np.array(chnames_tfr)[lfpinds].tolist()\n"
   ]
  },
  {
   "cell_type": "code",
   "execution_count": null,
   "metadata": {},
   "outputs": [],
   "source": [
    "newchns0"
   ]
  },
  {
   "cell_type": "code",
   "execution_count": null,
   "metadata": {},
   "outputs": [],
   "source": [
    "\n",
    "#tfrres_cur0 = np.zeros( (len(chnames_tfr0), nfreq0,ntimes0))\n",
    "\n",
    "\n",
    "\n"
   ]
  },
  {
   "cell_type": "code",
   "execution_count": null,
   "metadata": {},
   "outputs": [],
   "source": [
    "csd_cur0, csdord0 = ugf.tfr2csd(tfrres_0, sfreq, returnOrder=1,\n",
    "                                ind_pairs=None,\n",
    "                                parcel_couplings=parcel_couplings0,\n",
    "                                LFP2LFP_couplings=LFP2LFP_couplings0,\n",
    "                                LFP2parcel_couplings=LFP2parcel_couplings0,\n",
    "                                oldchns=chnames_tfr0,\n",
    "                                newchns=newchns0,\n",
    "                                res_group_id=newchn_grouping_ind,\n",
    "                                log=log_during_csd)\n"
   ]
  },
  {
   "cell_type": "code",
   "execution_count": null,
   "metadata": {},
   "outputs": [],
   "source": [
    "chnames_tfr0"
   ]
  },
  {
   "cell_type": "code",
   "execution_count": null,
   "metadata": {},
   "outputs": [],
   "source": [
    "print(csdord0)\n",
    "for pair_ind in range(csdord0.shape[1]):\n",
    "    i0,i1 = csdord0[:,pair_ind]\n",
    "    print( newchns0[i0], newchns0[i1] )"
   ]
  },
  {
   "cell_type": "code",
   "execution_count": null,
   "metadata": {},
   "outputs": [],
   "source": [
    "print(chnames_tfr0[chi_test0])\n",
    "print(chnames_tfr0[chi_test1])\n",
    "print(chnames_tfr0[chi_test2])\n",
    "print(testfreq)"
   ]
  },
  {
   "cell_type": "code",
   "execution_count": null,
   "metadata": {},
   "outputs": [],
   "source": [
    "#TODO: I should see bumps at freq = 7, should not I? Why are they at green curve?"
   ]
  },
  {
   "cell_type": "code",
   "execution_count": null,
   "metadata": {},
   "outputs": [],
   "source": [
    "nr = csdord.shape[1]; nc=1\n",
    "fig,axs = plt.subplots(nr,nc, figsize=(nc*10,nr*2))\n",
    "axs = axs.reshape((nr,nc))\n",
    "for i in range(nr):\n",
    "    ax = axs[i,0]\n",
    "    for fi,f in enumerate(freqs0):\n",
    "        ax.plot( np.abs( csd_cur0[i,fi] ), label='{}: {}'.format(fi,f ) )\n",
    "    ax.legend(loc='upper right')\n",
    "    i0,i1 = csdord0[:,i]\n",
    "    ax.set_title('{} vs {}'.format( newchns0[i0], newchns0[i1] ) )\n",
    "plt.tight_layout()"
   ]
  },
  {
   "cell_type": "code",
   "execution_count": null,
   "metadata": {},
   "outputs": [],
   "source": []
  }
 ],
 "metadata": {
  "kernelspec": {
   "display_name": "Python 3",
   "language": "python",
   "name": "python3"
  },
  "language_info": {
   "codemirror_mode": {
    "name": "ipython",
    "version": 3
   },
   "file_extension": ".py",
   "mimetype": "text/x-python",
   "name": "python",
   "nbconvert_exporter": "python",
   "pygments_lexer": "ipython3",
   "version": "3.6.9"
  }
 },
 "nbformat": 4,
 "nbformat_minor": 2
}
