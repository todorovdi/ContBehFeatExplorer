{
 "cells": [
  {
   "cell_type": "code",
   "execution_count": null,
   "metadata": {
    "init_cell": true
   },
   "outputs": [],
   "source": [
    "%load_ext autoreload\n",
    "%autoreload 2"
   ]
  },
  {
   "cell_type": "code",
   "execution_count": null,
   "metadata": {},
   "outputs": [],
   "source": [
    "%load_ext autoreload\n",
    "%autoreload 2\n",
    "import utils_tSNE as utsne\n",
    "import utils_preproc as upre\n",
    "\n",
    "#sys.argv"
   ]
  },
  {
   "cell_type": "code",
   "execution_count": null,
   "metadata": {},
   "outputs": [],
   "source": [
    "import re"
   ]
  },
  {
   "cell_type": "code",
   "execution_count": null,
   "metadata": {},
   "outputs": [],
   "source": [
    "re.match('fd','fxddf')"
   ]
  },
  {
   "cell_type": "code",
   "execution_count": null,
   "metadata": {},
   "outputs": [],
   "source": []
  },
  {
   "cell_type": "code",
   "execution_count": null,
   "metadata": {},
   "outputs": [],
   "source": [
    "#%debug\n",
    "%run -i run_genfeats.py -r S01_off_hold --bands crude --feat_types con,H_act,H_mob,H_compl\n",
    "#--plot_only #--plot_types=feat_timecourse\n"
   ]
  },
  {
   "cell_type": "code",
   "execution_count": null,
   "metadata": {},
   "outputs": [],
   "source": [
    "feature_names_all"
   ]
  },
  {
   "cell_type": "code",
   "execution_count": null,
   "metadata": {},
   "outputs": [],
   "source": [
    "ind_distr = utils.selectIndPairs(chnames_nicened, cross_types, upper_diag=False)\n",
    "csd, csdord = utils.tfr2csd(tfrres, sfreq, returnOrder=1, ind_pairs=ind_distr)  # csdord.shape = (2, csdsize)\n"
   ]
  },
  {
   "cell_type": "code",
   "execution_count": null,
   "metadata": {},
   "outputs": [],
   "source": [
    "csd.shape"
   ]
  },
  {
   "cell_type": "code",
   "execution_count": null,
   "metadata": {},
   "outputs": [],
   "source": [
    "'msrc_Temporal_Pole_Mid_R_c2'.find('_')"
   ]
  },
  {
   "cell_type": "code",
   "execution_count": null,
   "metadata": {},
   "outputs": [],
   "source": [
    "chnames_nicened"
   ]
  },
  {
   "cell_type": "code",
   "execution_count": null,
   "metadata": {},
   "outputs": [],
   "source": [
    "ind_distr"
   ]
  },
  {
   "cell_type": "code",
   "execution_count": null,
   "metadata": {},
   "outputs": [],
   "source": [
    "csdord"
   ]
  },
  {
   "cell_type": "code",
   "execution_count": null,
   "metadata": {},
   "outputs": [],
   "source": [
    "maintremside"
   ]
  },
  {
   "cell_type": "code",
   "execution_count": null,
   "metadata": {},
   "outputs": [],
   "source": [
    "print( len(raw_srconly.ch_names) )\n",
    "print( len([ch for ch in raw_srconly.ch_names if ch.find('R_') >= 0] ) )"
   ]
  },
  {
   "cell_type": "code",
   "execution_count": null,
   "metadata": {},
   "outputs": [],
   "source": [
    "chnames_test = ['LFPL40', 'msrcL_0_1_c0', 'msrcR_0_2_c4', 'LFPR20',  'msrcR_1_2_c5']\n",
    "roi_labels_test = {'all':['Precentral_L',\n",
    "  'Precentral_R',\n",
    "  'Frontal_Sup_L',\n",
    "  'Frontal_Sup_R',\n",
    "  'Frontal_Sup_Orb_L',\n",
    "  'Frontal_Sup_Orb_R',\n",
    "  'Frontal_Mid_L',\n",
    "  'Frontal_Mid_R'], 'some':['koppe', 'loppe', 'zoppe'] }\n",
    "sort_keys_test = ['all', 'some']\n",
    "\n",
    "res = utils.nicenMEGsrc_chnames(chnames_test, roi_labels_test, sort_keys_test, \n",
    "                          prefix='msrc_')\n",
    "desired_res = ['LFPL40',  'msrc_Precentral_R_c0',  'msrc_Frontal_Sup_L_c4',\n",
    " 'LFPR20',  'msrc_zoppe_c5']\n",
    "for chni,chn in enumerate(desired_res):\n",
    "    assert chn == res[chni]"
   ]
  },
  {
   "cell_type": "code",
   "execution_count": null,
   "metadata": {},
   "outputs": [],
   "source": [
    "ind_pairs_test = [('LFP.*','\\w?src.*'), ('.*Precentral_R.*', 'msrc_zoppe.*') ]\n",
    "ind_distr = utils.selectIndPairs(res, ind_pairs_test)\n",
    "desired_ind_distr = [[1, 2, 4], [4], [], [4], []]\n",
    "from collections import Counter\n",
    "for i,idi in enumerate(desired_ind_distr):\n",
    "    assert Counter(idi) == Counter(ind_distr[i]), i"
   ]
  },
  {
   "cell_type": "code",
   "execution_count": null,
   "metadata": {},
   "outputs": [],
   "source": [
    "tfr_test = np.ones( (len(chnames_test),4,10)) \n",
    "csd_test, order_test = utils.tfr2csd(tfr_test, 256, 1, ind_pairs = ind_distr)\n",
    "print(order_test, csd_test.shape)"
   ]
  },
  {
   "cell_type": "code",
   "execution_count": null,
   "metadata": {},
   "outputs": [],
   "source": [
    "chnames_test"
   ]
  },
  {
   "cell_type": "code",
   "execution_count": null,
   "metadata": {},
   "outputs": [],
   "source": [
    "sort_keys"
   ]
  },
  {
   "cell_type": "code",
   "execution_count": null,
   "metadata": {},
   "outputs": [],
   "source": [
    "re.match('\\w*src','src_fds_45')"
   ]
  },
  {
   "cell_type": "code",
   "execution_count": null,
   "metadata": {},
   "outputs": [],
   "source": [
    "cross_types = [ ('LFP.*','.?src.*') , ('.*src_((?!Cerebellum).)+', '.*src_Cerebellum.*') ] "
   ]
  },
  {
   "cell_type": "code",
   "execution_count": null,
   "metadata": {},
   "outputs": [],
   "source": [
    "chnames_nicened = utils.nicenMEGsrc_chnames(raw_srconly.ch_names, roi_labels, sort_keys, \n",
    "                          prefix='msrc_')\n",
    "\n",
    "ind_distr = utils.selectIndPairs(['LFPL54'] + chnames_nicened, cross_types)\n",
    "print(ind_distr[0] )\n",
    "print(ind_distr[1])"
   ]
  },
  {
   "cell_type": "code",
   "execution_count": null,
   "metadata": {},
   "outputs": [],
   "source": [
    "ind_distr"
   ]
  },
  {
   "cell_type": "code",
   "execution_count": null,
   "metadata": {},
   "outputs": [],
   "source": [
    "re.match('msrc_Precentral_L_c0')"
   ]
  },
  {
   "cell_type": "code",
   "execution_count": null,
   "metadata": {},
   "outputs": [],
   "source": [
    "chnames_nicened[0], chnames_nicened[-1]"
   ]
  },
  {
   "cell_type": "code",
   "execution_count": null,
   "metadata": {},
   "outputs": [],
   "source": [
    "print('orig ',chnames_nicened[0], chnames_nicened[-1])\n",
    "rgx = '^((?!Cerebellum).)+$'\n",
    "rgx = '.*src_((?!Cerebellum).)+'\n",
    "rgx = cross_types[1][1]\n",
    "rr = re.match(rgx,chnames_nicened[0])\n",
    "print(0,rr)\n",
    "rr = re.match(rgx,chnames_nicened[-1])\n",
    "print(-1,rr)"
   ]
  },
  {
   "cell_type": "code",
   "execution_count": null,
   "metadata": {},
   "outputs": [],
   "source": [
    "re.match(cross_types[1][0],chnames_nicened[0]), re.match(cross_types[1][0],chnames_nicened[-1])"
   ]
  },
  {
   "cell_type": "code",
   "execution_count": null,
   "metadata": {},
   "outputs": [],
   "source": [
    "re.match(cross_types[1][1],chnames_nicened[0]), re.match(cross_types[1][1],chnames_nicened[-1])"
   ]
  },
  {
   "cell_type": "code",
   "execution_count": null,
   "metadata": {},
   "outputs": [],
   "source": [
    "ind_distr"
   ]
  },
  {
   "cell_type": "code",
   "execution_count": null,
   "metadata": {},
   "outputs": [],
   "source": [
    "#%debug\n"
   ]
  },
  {
   "cell_type": "code",
   "execution_count": null,
   "metadata": {},
   "outputs": [],
   "source": [
    "raw_srconly.ch_names"
   ]
  },
  {
   "cell_type": "code",
   "execution_count": null,
   "metadata": {},
   "outputs": [],
   "source": [
    "roi_labels['all']"
   ]
  },
  {
   "cell_type": "code",
   "execution_count": null,
   "metadata": {},
   "outputs": [],
   "source": [
    "use_existing_TFR = 1\n",
    "exit_after_TFR  = 0\n",
    "#%debug\n",
    "%run -i '_run_featprep.py'"
   ]
  },
  {
   "cell_type": "code",
   "execution_count": null,
   "metadata": {},
   "outputs": [],
   "source": [
    "feature_names_all"
   ]
  },
  {
   "cell_type": "code",
   "execution_count": null,
   "metadata": {},
   "outputs": [],
   "source": [
    "#del features_to_use[-1]\n",
    "features_to_use"
   ]
  },
  {
   "cell_type": "code",
   "execution_count": null,
   "metadata": {},
   "outputs": [],
   "source": [
    "cross_types"
   ]
  },
  {
   "cell_type": "code",
   "execution_count": null,
   "metadata": {},
   "outputs": [],
   "source": [
    "import importlib as il\n",
    "il.reload(utils)"
   ]
  },
  {
   "cell_type": "code",
   "execution_count": null,
   "metadata": {},
   "outputs": [],
   "source": [
    "rbcors,rbcor_names = utsne.computeFeatOrd2(dat_flt, names=names_flt,\n",
    "                                        skip=skip, windowsz = windowsz, band_pairs = bandPairs,\n",
    "                                        n_free_cores=2, positive=0, templ='{}_.*',\n",
    "                                           roi_pairs = cross_types,\n",
    "                                           roi_labels=roi_labels, sort_keys=sort_keys,\n",
    "                                          printLog=1)\n"
   ]
  },
  {
   "cell_type": "code",
   "execution_count": null,
   "metadata": {},
   "outputs": [],
   "source": [
    "utils.getMEGsrc_chname_nice('tremor_LFPR01',roi_labels, sort_keys)"
   ]
  },
  {
   "cell_type": "code",
   "execution_count": null,
   "metadata": {},
   "outputs": [],
   "source": [
    "mne.pick_channels_regexp(raw_srconly.ch_names, 'msrc{}_all_*'.format(side)  ) "
   ]
  },
  {
   "cell_type": "code",
   "execution_count": null,
   "metadata": {},
   "outputs": [],
   "source": [
    "len(raw_srconly.ch_names)"
   ]
  },
  {
   "cell_type": "code",
   "execution_count": null,
   "metadata": {},
   "outputs": [],
   "source": [
    "#raw_srconly.ch_names"
   ]
  },
  {
   "cell_type": "code",
   "execution_count": null,
   "metadata": {},
   "outputs": [],
   "source": [
    "yy = mne.pick_channels_regexp(raw_srconly.ch_names, 'msrc{}_[0-9]+_[0-9]+_c[0-9]+'.format(side)  ) \n",
    "len(yy)"
   ]
  },
  {
   "cell_type": "code",
   "execution_count": null,
   "metadata": {},
   "outputs": [],
   "source": [
    "raws_srconly_perside['L'].ch_names"
   ]
  },
  {
   "cell_type": "code",
   "execution_count": null,
   "metadata": {},
   "outputs": [],
   "source": [
    "newsrc_fname_full"
   ]
  },
  {
   "cell_type": "code",
   "execution_count": null,
   "metadata": {},
   "outputs": [],
   "source": [
    "raws_srconly_perside['L']"
   ]
  },
  {
   "cell_type": "code",
   "execution_count": null,
   "metadata": {},
   "outputs": [],
   "source": [
    "list( rec_info.keys() )"
   ]
  },
  {
   "cell_type": "code",
   "execution_count": null,
   "metadata": {},
   "outputs": [],
   "source": [
    "#%debug\n",
    "%run -i run_genfeats.py -r S03_off_hold,S03_off_move --bands fine #--plot_only #--plot_types=feat_timecourse\n"
   ]
  },
  {
   "cell_type": "code",
   "execution_count": null,
   "metadata": {},
   "outputs": [],
   "source": [
    "#%debug\n",
    "%run -i run_genfeats.py -r S04_off_hold,S04_off_move --bands fine #--plot_only #--plot_types=feat_timecourse\n"
   ]
  },
  {
   "cell_type": "code",
   "execution_count": null,
   "metadata": {},
   "outputs": [],
   "source": []
  },
  {
   "cell_type": "code",
   "execution_count": null,
   "metadata": {},
   "outputs": [],
   "source": [
    "#%debug\n",
    "%run -i run_genfeats.py -r S04_on_hold,S04_on_move --bands fine #--plot_only #--plot_types=feat_timecourse\n"
   ]
  },
  {
   "cell_type": "code",
   "execution_count": null,
   "metadata": {},
   "outputs": [],
   "source": [
    "s = np.maximum(1e-10,s)"
   ]
  },
  {
   "cell_type": "code",
   "execution_count": null,
   "metadata": {},
   "outputs": [],
   "source": [
    "# use_existing_TFR = 1\n",
    "# %run -i _run_f"
   ]
  },
  {
   "cell_type": "markdown",
   "metadata": {},
   "source": [
    "# Plotting"
   ]
  },
  {
   "cell_type": "code",
   "execution_count": null,
   "metadata": {},
   "outputs": [],
   "source": [
    "print('Starting plotting timecourse of subsampled features' )\n",
    "\n",
    "pdf= PdfPages( os.path.join(gv.dir_fig,  '{}_feat_plots{}_side{}_LFP{}_{}_nmod{}_nfeattp{}.pdf'.format(\n",
    "    rawname_,show_plots, use_main_tremorside, use_main_LFP_chan, bands_only,\n",
    "    len(data_modalities),len(features_to_use)   )) )\n",
    "\n",
    "\n",
    "for int_name in int_names:\n",
    "    intervals = ivalis.get(int_name,[])\n",
    "    for ivi,iv in enumerate(intervals):\n",
    "        start,end,_itp = iv\n",
    "\n",
    "        print('  {} of {}'.format(ivi, len(intervals)+1))\n",
    "        # it does not make sense to plot ecg for subsampled\n",
    "        tt = utsne.plotIntervalData(X.T,feature_names_all,iv,\n",
    "                                    times = Xtimes,\n",
    "                                    plot_types=['timecourse'],\n",
    "                                    dat_ext = extdat_resampled[1:],\n",
    "                                    extend=extend)\n",
    "\n",
    "        pdf.savefig()\n",
    "        plt.close()\n"
   ]
  },
  {
   "cell_type": "code",
   "execution_count": null,
   "metadata": {},
   "outputs": [],
   "source": [
    "help(utsne.selFeatsRegexInds)"
   ]
  },
  {
   "cell_type": "code",
   "execution_count": null,
   "metadata": {},
   "outputs": [],
   "source": [
    "inds = utsne.selFeatsRegexInds(feature_names_all,['bpcorr.*','H_*'])\n",
    "\n",
    "restr_feat_names = np.array(feature_names_all)[inds]"
   ]
  },
  {
   "cell_type": "code",
   "execution_count": null,
   "metadata": {},
   "outputs": [],
   "source": [
    "feat_names_plot= restr_feat_names"
   ]
  },
  {
   "cell_type": "code",
   "execution_count": null,
   "metadata": {},
   "outputs": [],
   "source": [
    "X_plot = X[:, inds]"
   ]
  },
  {
   "cell_type": "code",
   "execution_count": null,
   "metadata": {},
   "outputs": [],
   "source": [
    "utsne.plotBasicStatsMultiCh(X_plot.T, feat_names_plot, printMeans = 0)\n",
    "plt.tight_layout()\n",
    "plt.savefig('{}_feat_stats.pdf'.format(rawname_))\n",
    "# pdf.savefig()\n",
    "# plt.close()\n"
   ]
  },
  {
   "cell_type": "code",
   "execution_count": null,
   "metadata": {},
   "outputs": [],
   "source": [
    "info = mne.create_info(feature_names_all, sfreq/skip)"
   ]
  },
  {
   "cell_type": "code",
   "execution_count": null,
   "metadata": {},
   "outputs": [],
   "source": [
    "#mne.io.RawArray"
   ]
  },
  {
   "cell_type": "markdown",
   "metadata": {},
   "source": [
    "# PCA"
   ]
  },
  {
   "cell_type": "code",
   "execution_count": null,
   "metadata": {},
   "outputs": [],
   "source": [
    "gp.groupings"
   ]
  },
  {
   "cell_type": "code",
   "execution_count": null,
   "metadata": {},
   "outputs": [],
   "source": [
    "%run -i run_PCA.py -r S01_off_hold --pcexpl 0.95 --discard 0.01 --n_feats 1581 --n_channels 107"
   ]
  },
  {
   "cell_type": "code",
   "execution_count": null,
   "metadata": {},
   "outputs": [],
   "source": [
    "pca_xgafeats = PCA(n_components=0.95)\n",
    "pca_xgafeats.fit( Xconcat_good[:,best_inds_XGB])"
   ]
  },
  {
   "cell_type": "code",
   "execution_count": null,
   "metadata": {},
   "outputs": [],
   "source": [
    "pca_xgafeats.explained_variance_ratio_"
   ]
  },
  {
   "cell_type": "code",
   "execution_count": null,
   "metadata": {},
   "outputs": [],
   "source": [
    "pca_xgafeats.n_components_, len(best_inds_XGB)"
   ]
  },
  {
   "cell_type": "code",
   "execution_count": null,
   "metadata": {},
   "outputs": [],
   "source": [
    "%run -i run_PCA.py -r S01_off_hold,S01_off_move,S01_on_hold,S01_on_move --mods msrc --prefix modSrc --pcexpl 0.95 --discard 0.01"
   ]
  },
  {
   "cell_type": "code",
   "execution_count": null,
   "metadata": {},
   "outputs": [],
   "source": [
    "%run -i run_PCA.py -r S01_off_hold,S01_off_move --mods msrc --prefix modSrc --pcexpl 0.95 --discard 0.01"
   ]
  },
  {
   "cell_type": "code",
   "execution_count": null,
   "metadata": {},
   "outputs": [],
   "source": [
    "%run -i run_PCA.py -r S01_off_hold,S01_off_move,S02_off_hold,S02_off_move --mods msrc --prefix modSrc --pcexpl 0.95 --discard 0.01"
   ]
  },
  {
   "cell_type": "code",
   "execution_count": null,
   "metadata": {},
   "outputs": [],
   "source": [
    "%run -i run_PCA.py -r S01_off_hold,S01_off_move,S02_off_hold,S02_off_move,S03_off_hold,S03_off_move --mods msrc --prefix modSrc --pcexpl 0.95 --discard 0.01"
   ]
  },
  {
   "cell_type": "code",
   "execution_count": null,
   "metadata": {},
   "outputs": [],
   "source": [
    "%run -i run_PCA.py -r S03_off_hold,S03_off_move --mod msrc --prefix all --pcexpl 0.95 --discard 0.01 --load_only 1"
   ]
  },
  {
   "cell_type": "code",
   "execution_count": null,
   "metadata": {},
   "outputs": [],
   "source": [
    "#%run -i run_PCA.py -r S07_off_hold,S07_off_move --mod msrc --prefix all --pcexpl 0.95 --discard 0.01 --load_only 1"
   ]
  },
  {
   "cell_type": "code",
   "execution_count": null,
   "metadata": {},
   "outputs": [],
   "source": [
    "utsne.plotBasicStatsMultiCh(Xconcat.T, feature_names_pri[0], printMeans = 0)\n",
    "plt.tight_layout()\n",
    "plt.savefig('{}_feat_stats.pdf'.format(rn_str))\n",
    "# pdf.savefig()\n",
    "plt.close()\n"
   ]
  },
  {
   "cell_type": "code",
   "execution_count": null,
   "metadata": {},
   "outputs": [],
   "source": [
    "skip"
   ]
  },
  {
   "cell_type": "code",
   "execution_count": null,
   "metadata": {},
   "outputs": [],
   "source": [
    "feat_raw, feat_name_conv = utils.makeRawFromFeats(Xconcat,feature_names_pri[0], skip, nedgeBins)\n",
    "\n",
    "ops_letter = utils.getOppositeSideStr(mts_letter)\n",
    "anns_mts = utils.removeOpsideAnns(anns,mts_letter)\n",
    "anns_mts.onset -= nedgeBins / sfreq  #because RawArray always starts with time = 0\n",
    "feat_raw.set_annotations(anns_mts)"
   ]
  },
  {
   "cell_type": "code",
   "execution_count": null,
   "metadata": {},
   "outputs": [],
   "source": [
    "%matplotlib qt"
   ]
  },
  {
   "cell_type": "code",
   "execution_count": null,
   "metadata": {},
   "outputs": [],
   "source": [
    "help(feat_raw.plot)"
   ]
  },
  {
   "cell_type": "code",
   "execution_count": null,
   "metadata": {},
   "outputs": [],
   "source": [
    "feat_raw.plot(n_channels = len(feat_raw.ch_names),duration = 20)"
   ]
  },
  {
   "cell_type": "code",
   "execution_count": null,
   "metadata": {},
   "outputs": [],
   "source": [
    "#utils.removeAnnsByDescr(anns,['_{}'.format(ops_letter)])"
   ]
  },
  {
   "cell_type": "code",
   "execution_count": null,
   "metadata": {},
   "outputs": [],
   "source": [
    "help( mne.io.RawArray )"
   ]
  },
  {
   "cell_type": "code",
   "execution_count": null,
   "metadata": {},
   "outputs": [],
   "source": [
    "raws"
   ]
  },
  {
   "cell_type": "code",
   "execution_count": null,
   "metadata": {},
   "outputs": [],
   "source": [
    "%run -i run_PCA.py -r S01_off_hold,S01_off_move --prefix all --pcexpl 0.95 --discard 0.01 --load_only 1"
   ]
  },
  {
   "cell_type": "code",
   "execution_count": null,
   "metadata": {},
   "outputs": [],
   "source": [
    "Xconcat_imputed.shape"
   ]
  },
  {
   "cell_type": "code",
   "execution_count": null,
   "metadata": {},
   "outputs": [],
   "source": [
    "from umap import UMAP\n",
    "from sklearn import manifold\n",
    "n_neighbors = 10\n",
    "\n",
    "import multiprocessing as mpr\n",
    "num_cores = mpr.cpu_count()\n",
    "num_cores_to_use = num_cores-2"
   ]
  },
  {
   "cell_type": "code",
   "execution_count": null,
   "metadata": {},
   "outputs": [],
   "source": [
    "reducer = UMAP(n_neighbors=n_neighbors)\n",
    "reducer_type = 'UMAP'"
   ]
  },
  {
   "cell_type": "code",
   "execution_count": null,
   "metadata": {},
   "outputs": [],
   "source": []
  },
  {
   "cell_type": "code",
   "execution_count": null,
   "metadata": {},
   "outputs": [],
   "source": [
    "reducer = manifold.MDS(2, n_jobs=num_cores_to_use, \n",
    "                       n_init=num_cores_to_use, max_iter=100)\n",
    "reducer_type = 'MDS'"
   ]
  },
  {
   "cell_type": "code",
   "execution_count": null,
   "metadata": {},
   "outputs": [],
   "source": [
    "reducer = manifold.Isomap(n_neighbors, 2, n_jobs=num_cores_to_use)\n",
    "reducer_type = 'Isomap'"
   ]
  },
  {
   "cell_type": "code",
   "execution_count": null,
   "metadata": {},
   "outputs": [],
   "source": [
    "Xconcat_imputed.shape"
   ]
  },
  {
   "cell_type": "code",
   "execution_count": null,
   "metadata": {},
   "outputs": [],
   "source": [
    "X_embedded = reducer.fit_transform(Xconcat_imputed[::4])"
   ]
  },
  {
   "cell_type": "code",
   "execution_count": null,
   "metadata": {},
   "outputs": [],
   "source": [
    "#%matplotlib qt"
   ]
  },
  {
   "cell_type": "code",
   "execution_count": null,
   "metadata": {},
   "outputs": [],
   "source": [
    "import gc; gc.collect()"
   ]
  },
  {
   "cell_type": "code",
   "execution_count": null,
   "metadata": {},
   "outputs": [],
   "source": [
    "X_embedded.shape"
   ]
  },
  {
   "cell_type": "code",
   "execution_count": null,
   "metadata": {},
   "outputs": [],
   "source": [
    "################  Prep colors\n",
    "mrk = ['<','>','o','^','v']\n",
    "mrknames = ['_pres','_posts','','_pree','_poste']\n",
    "\n",
    "tremcolor = 'r'\n",
    "notremcolor = 'g'\n",
    "movecolor = 'b'  #c,y\n",
    "holdcolor = 'purple'  #c,y\n",
    "neutcolor = 'grey'\n",
    "\n",
    "color_per_int_type = { 'trem':tremcolor, 'notrem':notremcolor, 'neut':neutcolor,\n",
    "                    'move':movecolor, 'hold':holdcolor }\n",
    "\n",
    "colors,markers =utsne.prepColorsMarkers(mts_letter, anns, Xtimes[::4],\n",
    "        nedgeBins, windowsz, sfreq, skip, mrk,mrknames, color_per_int_type )\n",
    "\n",
    "#plt.figure(figsize=(15,10))\n",
    "utsne.plotPCA(X_embedded,None, 2,feature_names_all, colors, markers,\n",
    "            mrk, mrknames, color_per_int_type, tasks,\n",
    "            pdf=None,neutcolor=neutcolor)\n",
    "plt.savefig('{}_npts{}.pdf'.format(reducer_type,len(Xtimes)))"
   ]
  },
  {
   "cell_type": "code",
   "execution_count": null,
   "metadata": {},
   "outputs": [],
   "source": [
    "int_types_ps"
   ]
  },
  {
   "cell_type": "code",
   "execution_count": null,
   "metadata": {},
   "outputs": [],
   "source": [
    "len(Xconcat_imputed)"
   ]
  },
  {
   "cell_type": "code",
   "execution_count": null,
   "metadata": {},
   "outputs": [],
   "source": [
    "len(Xconcat_good)"
   ]
  },
  {
   "cell_type": "code",
   "execution_count": null,
   "metadata": {},
   "outputs": [],
   "source": [
    "len(good_inds)"
   ]
  },
  {
   "cell_type": "code",
   "execution_count": null,
   "metadata": {},
   "outputs": [],
   "source": [
    "%run -i run_PCA.py -r S05_off_hold,S05_off_move --prefix all --pcexpl 0.95 --discard 0.01 --show_plots 1"
   ]
  },
  {
   "cell_type": "code",
   "execution_count": null,
   "metadata": {},
   "outputs": [],
   "source": [
    "%run -i run_PCA.py -r S03_off_hold,S03_off_move --prefix all --pcexpl 0.95 --discard 0.01 --show_plots 1"
   ]
  },
  {
   "cell_type": "code",
   "execution_count": null,
   "metadata": {},
   "outputs": [],
   "source": [
    "grouping"
   ]
  },
  {
   "cell_type": "code",
   "execution_count": null,
   "metadata": {},
   "outputs": [],
   "source": [
    "n_components_LDA"
   ]
  },
  {
   "cell_type": "code",
   "execution_count": null,
   "metadata": {},
   "outputs": [],
   "source": [
    "class_ind"
   ]
  },
  {
   "cell_type": "code",
   "execution_count": null,
   "metadata": {},
   "outputs": [],
   "source": [
    "%run -i run_PCA.py -r S03_off_hold,S03_off_move --prefix allBeta --fbands low_beta,high_beta --pcexpl 0.95 --discard 0.01 --show_plots 1"
   ]
  },
  {
   "cell_type": "code",
   "execution_count": null,
   "metadata": {},
   "outputs": [],
   "source": [
    "%run -i run_PCA.py -r S03_off_hold,S03_off_move --prefix allTremorBeta --fbands tremor,low_beta,high_beta --pcexpl 0.95 --discard 0.01 --show_plots 1"
   ]
  },
  {
   "cell_type": "code",
   "execution_count": null,
   "metadata": {},
   "outputs": [],
   "source": [
    "%run -i run_PCA.py -r S02_off_hold,S02_off_move --prefix allTremor --fbands tremor --pcexpl 0.95 --discard 0.01 --show_plots 1"
   ]
  },
  {
   "cell_type": "code",
   "execution_count": null,
   "metadata": {},
   "outputs": [],
   "source": [
    "(grouping_key, int_types_key, class_to_check,sens,spec, sens_red,spec_red)\n"
   ]
  },
  {
   "cell_type": "code",
   "execution_count": null,
   "metadata": {},
   "outputs": [],
   "source": [
    "Xconcat_good.shape"
   ]
  },
  {
   "cell_type": "code",
   "execution_count": null,
   "metadata": {},
   "outputs": [],
   "source": [
    "ldapts_.shape"
   ]
  },
  {
   "cell_type": "code",
   "execution_count": null,
   "metadata": {},
   "outputs": [],
   "source": [
    "len(class_labels_good)"
   ]
  },
  {
   "cell_type": "code",
   "execution_count": null,
   "metadata": {},
   "outputs": [],
   "source": [
    "%run -i run_PCA.py -r S03_off_hold,S03_off_move --prefix allTremor --fbands low_gamma,high_gamma --pcexpl 0.95 --discard 0.01 --show_plots 1"
   ]
  },
  {
   "cell_type": "code",
   "execution_count": null,
   "metadata": {},
   "outputs": [],
   "source": [
    "%run -i run_PCA.py -r S03_off_hold,S03_off_move --prefix allTremor --fbands low_gamma,high_gamma --pcexpl 0.95 --discard 0.01 --show_plots 1"
   ]
  },
  {
   "cell_type": "code",
   "execution_count": null,
   "metadata": {},
   "outputs": [],
   "source": [
    "%run -i run_PCA.py -r S03_off_hold,S03_off_move --pcexpl 0.95 --discard 0.01 --show_plots 1 --prefix modLFP --mods LFP"
   ]
  },
  {
   "cell_type": "code",
   "execution_count": null,
   "metadata": {},
   "outputs": [],
   "source": [
    "tuple(list(s) )"
   ]
  },
  {
   "cell_type": "code",
   "execution_count": null,
   "metadata": {},
   "outputs": [],
   "source": [
    "s = map( lambda x : '{:.1f}%'.format(x*100), list(r['perf'] ) + list(r['perf_red'] ) )\n",
    "s  = list(s)\n",
    "s = '{},{}  {},{}'.format(s[0],s[1],s[2],s[3])\n",
    "\n",
    "s"
   ]
  },
  {
   "cell_type": "code",
   "execution_count": null,
   "metadata": {},
   "outputs": [],
   "source": [
    "nfeats_per_comp_LDA"
   ]
  },
  {
   "cell_type": "code",
   "execution_count": null,
   "metadata": {},
   "outputs": [],
   "source": [
    "#%debug\n",
    "%run -i run_PCA.py -r S07_on_hold,S07_on_move --pcexpl 0.95 --discard 0.01 --show_plots 0 --prefix modSrc --mods msrc"
   ]
  },
  {
   "cell_type": "code",
   "execution_count": null,
   "metadata": {},
   "outputs": [],
   "source": [
    "#%debug\n",
    "%run -i run_PCA.py -r S07_off_hold,S07_off_move --pcexpl 0.95 --discard 0.01 --show_plots 0 --prefix modSrc --mods msrc"
   ]
  },
  {
   "cell_type": "code",
   "execution_count": null,
   "metadata": {},
   "outputs": [],
   "source": [
    "lst2"
   ]
  },
  {
   "cell_type": "code",
   "execution_count": null,
   "metadata": {},
   "outputs": [],
   "source": [
    "pcapts.shape"
   ]
  },
  {
   "cell_type": "code",
   "execution_count": null,
   "metadata": {},
   "outputs": [],
   "source": [
    "import umap\n",
    "n_neighbors = 20\n",
    "reducer = umap.UMAP(n_neighbors=n_neighbors)\n",
    "reducer.fit(pcapts[good_inds])\n",
    "X_embedded = reducer.transform(pcapts)"
   ]
  },
  {
   "cell_type": "code",
   "execution_count": null,
   "metadata": {},
   "outputs": [],
   "source": [
    "X_embedded = embedding"
   ]
  },
  {
   "cell_type": "code",
   "execution_count": null,
   "metadata": {},
   "outputs": [],
   "source": [
    "%matplotlib qt"
   ]
  },
  {
   "cell_type": "code",
   "execution_count": null,
   "metadata": {},
   "outputs": [],
   "source": [
    "legend_elements = utsne.prepareLegendElements(mrk,mrknames,color_per_int_type, task )\n"
   ]
  },
  {
   "cell_type": "code",
   "execution_count": null,
   "metadata": {
    "run_control": {
     "marked": false
    }
   },
   "outputs": [],
   "source": [
    "plt.figure(figsize=(15,15))\n",
    "ax = plt.gca()\n",
    "utsne.plotMultiMarker(ax,X_embedded[:,0], X_embedded[:,1], c = colors, s=10,\n",
    "                        m=markers);\n",
    "ax.legend(handles=legend_elements, loc='lower right' )"
   ]
  },
  {
   "cell_type": "code",
   "execution_count": null,
   "metadata": {},
   "outputs": [],
   "source": [
    "utsne.plotPCA(pcapts,pca, nPCAcomponents_to_plot,feature_names_all, colors, markers,\n",
    "            mrk, mrknames, color_per_int_type, tasks,\n",
    "            pdf=pdf,neutcolor=neutcolor)\n"
   ]
  },
  {
   "cell_type": "code",
   "execution_count": null,
   "metadata": {},
   "outputs": [],
   "source": [
    "len(colors)"
   ]
  },
  {
   "cell_type": "code",
   "execution_count": null,
   "metadata": {},
   "outputs": [],
   "source": [
    "pcapts.shape"
   ]
  },
  {
   "cell_type": "code",
   "execution_count": null,
   "metadata": {},
   "outputs": [],
   "source": [
    "r"
   ]
  },
  {
   "cell_type": "code",
   "execution_count": null,
   "metadata": {},
   "outputs": [],
   "source": [
    "inds = utsne.selFeatsRegexInds(feature_names_all,\n",
    "                               ['H_act_msrcR_2','bpcorr_corr_high_beta_LFPR12,high_gamma_msrcR_6'])\n",
    "restr_feat_names = np.array(feature_names_all)[inds]\n",
    "print(restr_feat_names)\n",
    "inds_toshow=  inds"
   ]
  },
  {
   "cell_type": "code",
   "execution_count": null,
   "metadata": {},
   "outputs": [],
   "source": [
    "nfeats_per_comp_LDA = 150\n",
    "\n",
    "r = utsne.getImporantCoordInds(lda.scalings_.T, \n",
    "                               nfeats_show = nfeats_per_comp_LDA, q=0.8, printLog = 1)\n",
    "\n",
    "inds_toshow, strong_inds_pc, strongest_inds_pc  = r\n",
    "for i in range(len(strongInds) ):\n",
    "    print(i, np.array(feature_names_all)[strong_inds_pc[i]] )"
   ]
  },
  {
   "cell_type": "code",
   "execution_count": null,
   "metadata": {},
   "outputs": [],
   "source": [
    "print(strongest_inds_pc)"
   ]
  },
  {
   "cell_type": "code",
   "execution_count": null,
   "metadata": {},
   "outputs": [],
   "source": [
    "inds_toshow = strongest_inds_pc"
   ]
  },
  {
   "cell_type": "code",
   "execution_count": null,
   "metadata": {},
   "outputs": [],
   "source": [
    "inds_toshow = np.hstack(strong_inds_pc)"
   ]
  },
  {
   "cell_type": "code",
   "execution_count": null,
   "metadata": {},
   "outputs": [],
   "source": [
    "np.hstack(strong_inds_pc)"
   ]
  },
  {
   "cell_type": "code",
   "execution_count": null,
   "metadata": {},
   "outputs": [],
   "source": [
    "inds_toshow"
   ]
  },
  {
   "cell_type": "code",
   "execution_count": null,
   "metadata": {},
   "outputs": [],
   "source": [
    "%matplotlib inline\n",
    "strongInds = utsne.plotPCA(X_LDA,lda, n_components_LDA,feature_names_all, colors, markers,\n",
    "            mrk, mrknames, color_per_int_type, tasks,\n",
    "            neutcolor=neutcolor, nfeats_show=6)\n",
    "for i in range(len(strongInds) ):\n",
    "    print(i, np.array(feature_names_all)[strongInds[i]] )\n",
    "#np.array(feature_names_all)[strongInds[1]]\n",
    "inds_toshow = np.hstack(strongInds)"
   ]
  },
  {
   "cell_type": "code",
   "execution_count": null,
   "metadata": {},
   "outputs": [],
   "source": [
    "print('From LDA using {} features'.format( len(inds_toshow ) ) )\n",
    "print(rawname_, feature_names_pri[0][inds_toshow])\n",
    "#--------------\n",
    "print(Xconcat_good.shape, X_LDA.shape)\n",
    "\n",
    "#inds_toshow = inds_toshow[[]]\n",
    "\n",
    "ldapts_ = Xconcat_good[:,inds_toshow]\n",
    "X_LDA_good = lda.transform(Xconcat_good)\n",
    "#ldapts_ = np.matmul(X_LDA_good , lda.scalings_.T[:,inds_toshow ] )\n",
    "\n",
    "lda_red = LinearDiscriminantAnalysis(n_components=n_components_LDA )\n",
    "lda_red.fit(ldapts_, class_labels_good)\n",
    "\n",
    "\n",
    "# sens_red,spec_red = utsne.getLDApredPower(lda_red,Xconcat_good[:,inds_toshow],\n",
    "#                                           class_labels_good, class_ind, printLog= 1)\n",
    "sens_red,spec_red = utsne.getLDApredPower(lda_red,Xconcat_imputed[:,inds_toshow],\n",
    "                                          class_labels_good, class_ind, printLog= 1)\n",
    "print('--!! LDA on training data (red feats), identifying {}: sens = {:.3f};  spec = {:.3f}'.format(class_to_check,sens_red,spec_red))"
   ]
  },
  {
   "cell_type": "code",
   "execution_count": null,
   "metadata": {},
   "outputs": [],
   "source": [
    "sens_red,spec_red = utsne.getLDApredPower(lda_red,Xconcat_imputed[:,inds_toshow],\n",
    "                                          class_labels, class_ind, printLog= 1)"
   ]
  },
  {
   "cell_type": "code",
   "execution_count": null,
   "metadata": {},
   "outputs": [],
   "source": [
    "sens,spec = utsne.getLDApredPower(lda,Xconcat_imputed, class_labels, class_ind, printLog= 1) \n"
   ]
  },
  {
   "cell_type": "code",
   "execution_count": null,
   "metadata": {},
   "outputs": [],
   "source": [
    "#inds = utsne.selFeatsRegexInds(feature_names_all,['bpcorr.*','H_*'])\n",
    "\n",
    "restr_feat_names = np.array(feature_names_all)[inds]"
   ]
  },
  {
   "cell_type": "code",
   "execution_count": null,
   "metadata": {},
   "outputs": [],
   "source": [
    "for int_name in int_names:\n",
    "    intervals = ivalis.get(int_name,[])\n",
    "    for ivi,iv in enumerate(intervals):\n",
    "        start,end,_itp = iv\n",
    "\n",
    "        print('  {} of {}'.format(ivi, len(intervals)+1))\n",
    "        # it does not make sense to plot ecg for subsampled\n",
    "        tt = utsne.plotIntervalData(X.T,feature_names_all,iv,\n",
    "                                    times = Xtimes,\n",
    "                                    plot_types=['timecourse'],\n",
    "                                    dat_ext = extdat_resampled[1:],\n",
    "                                    extend=extend)\n",
    "\n",
    "        pdf.savefig()\n",
    "        plt.close()\n"
   ]
  },
  {
   "cell_type": "code",
   "execution_count": null,
   "metadata": {},
   "outputs": [],
   "source": [
    "#plt.close()\n",
    "#pdf.close()"
   ]
  },
  {
   "cell_type": "code",
   "execution_count": null,
   "metadata": {},
   "outputs": [],
   "source": [
    "n_components_LDA"
   ]
  },
  {
   "cell_type": "code",
   "execution_count": null,
   "metadata": {},
   "outputs": [],
   "source": [
    "n_LDA_feats_toshow"
   ]
  },
  {
   "cell_type": "code",
   "execution_count": null,
   "metadata": {},
   "outputs": [],
   "source": []
  },
  {
   "cell_type": "code",
   "execution_count": null,
   "metadata": {},
   "outputs": [],
   "source": [
    "strongInds"
   ]
  },
  {
   "cell_type": "code",
   "execution_count": null,
   "metadata": {},
   "outputs": [],
   "source": []
  },
  {
   "cell_type": "code",
   "execution_count": null,
   "metadata": {},
   "outputs": [],
   "source": [
    "lda.classes_"
   ]
  },
  {
   "cell_type": "code",
   "execution_count": null,
   "metadata": {},
   "outputs": [],
   "source": [
    "revdict = {}\n",
    "# set class label for all basic interval types\n",
    "for itb in int_types_basic:\n",
    "    for side in sides_hand:\n",
    "        class_name = '{}_{}'.format(itb,side)\n",
    "        for bininds in ivalis_tb_indarrays[class_name]:\n",
    "            #print(i,len(bininds), bininds[0], bininds[-1])\n",
    "            cid = class_ids[class_name]\n",
    "            class_labels[ bininds ] = cid\n",
    "            if cid not in revdict:\n",
    "                revdict[cid] = class_name\n",
    "            elif revdict[cid].find(class_name) < 0:\n",
    "                revdict[cid] += '&{}'.format(class_name)\n"
   ]
  },
  {
   "cell_type": "code",
   "execution_count": null,
   "metadata": {},
   "outputs": [],
   "source": [
    "revdict"
   ]
  },
  {
   "cell_type": "code",
   "execution_count": null,
   "metadata": {},
   "outputs": [],
   "source": [
    "class_ids"
   ]
  },
  {
   "cell_type": "code",
   "execution_count": null,
   "metadata": {},
   "outputs": [],
   "source": [
    "num_nans"
   ]
  },
  {
   "cell_type": "code",
   "execution_count": null,
   "metadata": {},
   "outputs": [],
   "source": []
  },
  {
   "cell_type": "code",
   "execution_count": null,
   "metadata": {},
   "outputs": [],
   "source": [
    "sens = 0.558;  spec = 0.900"
   ]
  },
  {
   "cell_type": "code",
   "execution_count": null,
   "metadata": {},
   "outputs": [],
   "source": [
    "ivalis_artif_tb_indarrays_merged"
   ]
  },
  {
   "cell_type": "code",
   "execution_count": null,
   "metadata": {},
   "outputs": [],
   "source": [
    "import re\n"
   ]
  },
  {
   "cell_type": "code",
   "execution_count": null,
   "metadata": {},
   "outputs": [],
   "source": [
    "Xconcat.shape"
   ]
  },
  {
   "cell_type": "code",
   "execution_count": null,
   "metadata": {},
   "outputs": [],
   "source": [
    "utils.setArtifNaN(Xconcat, ivalis_artif_tb_indarrays_merged, feature_names_pri[0])"
   ]
  },
  {
   "cell_type": "code",
   "execution_count": null,
   "metadata": {},
   "outputs": [],
   "source": [
    "np.where(np.isnan(Xconcat) )"
   ]
  },
  {
   "cell_type": "code",
   "execution_count": null,
   "metadata": {},
   "outputs": [],
   "source": [
    "from sklearn.impute import SimpleImputer\n",
    "\n",
    "imp_mean = SimpleImputer(missing_values=np.nan, strategy='constant', fill_value=0.)\n",
    "imp_mean.fit(Xconcat)\n",
    "Xconcat_imputed = imp_mean.transform(Xconcat)"
   ]
  },
  {
   "cell_type": "code",
   "execution_count": null,
   "metadata": {},
   "outputs": [],
   "source": [
    "\n",
    "np.where(np.isnan(Xconcat_imputed) )"
   ]
  },
  {
   "cell_type": "code",
   "execution_count": null,
   "metadata": {},
   "outputs": [],
   "source": [
    "feature_names_pri[0]"
   ]
  },
  {
   "cell_type": "code",
   "execution_count": null,
   "metadata": {},
   "outputs": [],
   "source": [
    "np.array(feature_names_all)[list(inds_notsame_LFP) ]"
   ]
  },
  {
   "cell_type": "code",
   "execution_count": null,
   "metadata": {},
   "outputs": [],
   "source": [
    "feature_names_all"
   ]
  },
  {
   "cell_type": "code",
   "execution_count": null,
   "metadata": {},
   "outputs": [],
   "source": [
    "%run -i run_PCA.py -r S01_off_hold,S01_off_move --pcexpl 0.95 --discard 0.01 --show_plots 1 --prefix all"
   ]
  },
  {
   "cell_type": "code",
   "execution_count": null,
   "metadata": {},
   "outputs": [],
   "source": [
    "class_to_check = 'trem_{}'.format(mts_letter)\n",
    "class_ind = classes.index(class_to_check) + 1\n",
    "sens,spec = utsne.getLDApredPower(lda,Xconcat, class_labels, class_ind)\n",
    "print('LDA on training data, identifying {}: sens = {:.3f};  spec = {:.3f}'.format(class_to_check,sens,spec))\n"
   ]
  },
  {
   "cell_type": "code",
   "execution_count": null,
   "metadata": {},
   "outputs": [],
   "source": [
    "len(Xconcat) - len(class_labels)"
   ]
  },
  {
   "cell_type": "code",
   "execution_count": null,
   "metadata": {},
   "outputs": [],
   "source": [
    "classes"
   ]
  },
  {
   "cell_type": "code",
   "execution_count": null,
   "metadata": {},
   "outputs": [],
   "source": [
    "class_ind"
   ]
  },
  {
   "cell_type": "code",
   "execution_count": null,
   "metadata": {
    "run_control": {
     "marked": true
    }
   },
   "outputs": [],
   "source": [
    "class_labels"
   ]
  },
  {
   "cell_type": "code",
   "execution_count": null,
   "metadata": {},
   "outputs": [],
   "source": [
    "X = Xconcat\n",
    "true_ind = class_ind\n",
    "mask = class_labels == true_ind\n",
    "mask_inv = np.logical_not(mask)\n",
    "\n",
    "X_P = X[mask]\n",
    "print(len(X_P))\n",
    "r = lda.predict(X_P)\n",
    "sens = sum(r == true_ind) / len(r)\n",
    "print(r)"
   ]
  },
  {
   "cell_type": "code",
   "execution_count": null,
   "metadata": {},
   "outputs": [],
   "source": [
    "X_N = X[mask_inv]\n",
    "r = lda.predict(X_N)\n",
    "spec = sum(r != true_ind) / len(r)\n",
    "\n",
    "sens,spec"
   ]
  },
  {
   "cell_type": "code",
   "execution_count": null,
   "metadata": {},
   "outputs": [],
   "source": [
    "sum(mask)"
   ]
  },
  {
   "cell_type": "code",
   "execution_count": null,
   "metadata": {},
   "outputs": [],
   "source": [
    "sum(mask_inv)"
   ]
  },
  {
   "cell_type": "code",
   "execution_count": null,
   "metadata": {},
   "outputs": [],
   "source": [
    "%run -i run_PCA.py -r S01_off_hold,S01_off_move --pcexpl 0.95 --discard 0.01 --show_plots 1 --prefix Honly \\\n",
    "--feat_types con,H_act,H_mob,H_compl"
   ]
  },
  {
   "cell_type": "markdown",
   "metadata": {},
   "source": [
    "# tSNE"
   ]
  },
  {
   "cell_type": "code",
   "execution_count": null,
   "metadata": {},
   "outputs": [],
   "source": [
    "#%run -i run_PCA.py -r S01_on_hold,S01_on_move --prefix onlyCon --show_plots 0 --pcexpl 0.95 --discard 0.01 --feat_types con"
   ]
  },
  {
   "cell_type": "code",
   "execution_count": null,
   "metadata": {},
   "outputs": [],
   "source": [
    "#%debug\n",
    "%run -i run_tSNE.py -r S01_off_hold,S01_off_move --prefix all --nrPCA 2 --use_existing_tSNE 0 --subskip 4 \\\n",
    "--load_tSNE 1 --show_plots 1 --dim_inp_tSNE -1"
   ]
  },
  {
   "cell_type": "code",
   "execution_count": null,
   "metadata": {},
   "outputs": [],
   "source": [
    "#%debug\n",
    "%run -i run_tSNE.py -r S01_on_hold,S01_on_move --prefix all --nrPCA 2 --use_existing_tSNE 0 --subskip 4 \\\n",
    "--load_tSNE 1 --show_plots 1 --dim_inp_tSNE -1"
   ]
  },
  {
   "cell_type": "code",
   "execution_count": null,
   "metadata": {},
   "outputs": [],
   "source": [
    "%matplotlib qt"
   ]
  },
  {
   "cell_type": "code",
   "execution_count": null,
   "metadata": {},
   "outputs": [],
   "source": [
    "%matplotlib qt\n",
    "nr = len(seeds) * len(dim_red_algs )\n",
    "nc = len(perplex_values) \n",
    "ww = 8; hh=8\n",
    "fig,axs = plt.subplots(ncols =nc, nrows=nr, figsize = (nc*ww, nr*hh))\n",
    "if not isinstance(axs,np.ndarray):\n",
    "    axs = np.array([[axs]] )\n",
    "# for pi,pv in enumerate(perplex_values):\n",
    "#     for si,sv in enumerate(seeds):\n",
    "for tpl in tSNE_result:\n",
    "    #for algi in range(len(dim_red_algs)):\n",
    "    pi,si,X_embedded, seed, param, lrate, dtype, alg = tpl\n",
    "    algi = dim_red_algs.index(alg)\n",
    "    ax = axs[si + len(seeds)*algi,pi ]\n",
    "    #X_embedded = res[si][pi]\n",
    "    #ax.scatter(X_embedded[:,0], X_embedded[:,1], c = cols[colind], s=5)\n",
    "\n",
    "    utsne.plotMultiMarker(ax,X_embedded[:,0], X_embedded[:,1], c = cols[colind], s=5,\n",
    "                            m=markers)\n",
    "    ax.set_title('{} from {} param = {};\\nlrate = {}; seed = {}'.\n",
    "                 format(alg, dtype, param, lrate, seed))\n"
   ]
  },
  {
   "cell_type": "code",
   "execution_count": null,
   "metadata": {},
   "outputs": [],
   "source": [
    "np.argmin(np.arange(4))"
   ]
  },
  {
   "cell_type": "code",
   "execution_count": null,
   "metadata": {},
   "outputs": [],
   "source": [
    "%run -i run_tSNE.py -r S01_off_move --prefix onlyCon --nrPCA 2 --use_existing_tSNE 0 --subskip 4 \\\n",
    "--load_tSNE 1 --show_plots 1"
   ]
  },
  {
   "cell_type": "code",
   "execution_count": null,
   "metadata": {},
   "outputs": [],
   "source": [
    "#%debug\n",
    "%run -i run_tSNE.py -r S01_off_move --prefix onlyCon --nrPCA 2 --use_existing_tSNE 0 --subskip 4 \\\n",
    "--load_tSNE 1 --show_plots 1"
   ]
  },
  {
   "cell_type": "code",
   "execution_count": null,
   "metadata": {},
   "outputs": [],
   "source": [
    "lda_pri[0].scalings_.T.shape"
   ]
  },
  {
   "cell_type": "code",
   "execution_count": null,
   "metadata": {},
   "outputs": [],
   "source": [
    "ldapts.shape"
   ]
  },
  {
   "cell_type": "code",
   "execution_count": null,
   "metadata": {},
   "outputs": [],
   "source": [
    "y = np.matmul(ldapts , lda_pri[0].scalings_.T )\n",
    "y.shape"
   ]
  },
  {
   "cell_type": "code",
   "execution_count": null,
   "metadata": {},
   "outputs": [],
   "source": []
  },
  {
   "cell_type": "code",
   "execution_count": null,
   "metadata": {},
   "outputs": [],
   "source": [
    "#%debug\n",
    "%run -i run_tSNE.py -r S01_off_hold,S01_off_move --prefix all --nrPCA 2 --use_existing_tSNE 0 --subskip 4 \\\n",
    "--load_tSNE 0 --show_plots 1 --dim_inp_tSNE 200"
   ]
  },
  {
   "cell_type": "code",
   "execution_count": null,
   "metadata": {},
   "outputs": [],
   "source": [
    "#%debug\n",
    "%run -i run_tSNE.py -r S01_off_hold --prefix all --nrPCA 2 --use_existing_tSNE 0 --subskip 4 \\\n",
    "--load_tSNE 0 --show_plots 1"
   ]
  },
  {
   "cell_type": "code",
   "execution_count": null,
   "metadata": {},
   "outputs": [],
   "source": [
    "len(Xtimes_almost_pri)"
   ]
  },
  {
   "cell_type": "code",
   "execution_count": null,
   "metadata": {},
   "outputs": [],
   "source": [
    "for i in range(len(Xtimes_almost_pri)):\n",
    "    print( len( Xtimes_almost_pri[i] ), len( Xtimes_almost_pri[i] ) // subskip )"
   ]
  },
  {
   "cell_type": "code",
   "execution_count": null,
   "metadata": {},
   "outputs": [],
   "source": [
    "Xtimes_almost_pri[0][::subskip].shape"
   ]
  },
  {
   "cell_type": "code",
   "execution_count": null,
   "metadata": {},
   "outputs": [],
   "source": [
    "np.arange(5754)[::subskip].shape"
   ]
  },
  {
   "cell_type": "code",
   "execution_count": null,
   "metadata": {},
   "outputs": [],
   "source": [
    "np.arange(5754)[::subskip][-1]"
   ]
  },
  {
   "cell_type": "code",
   "execution_count": null,
   "metadata": {},
   "outputs": [],
   "source": [
    "5752 / 4"
   ]
  },
  {
   "cell_type": "code",
   "execution_count": null,
   "metadata": {},
   "outputs": [],
   "source": []
  },
  {
   "cell_type": "code",
   "execution_count": null,
   "metadata": {},
   "outputs": [],
   "source": [
    "5754 / subskip"
   ]
  },
  {
   "cell_type": "code",
   "execution_count": null,
   "metadata": {},
   "outputs": [],
   "source": [
    "len(Xtimes)"
   ]
  },
  {
   "cell_type": "code",
   "execution_count": null,
   "metadata": {},
   "outputs": [],
   "source": [
    "X_embedded.shape"
   ]
  },
  {
   "cell_type": "code",
   "execution_count": null,
   "metadata": {},
   "outputs": [],
   "source": [
    "len(cols[colind])"
   ]
  },
  {
   "cell_type": "code",
   "execution_count": null,
   "metadata": {},
   "outputs": [],
   "source": [
    "['-r', 'S01_off_hold,S01_off_move', '--nrPCA', '2', '--prefix', 'modLFP', '--subskip', '4', '--dim_inp_tSNE', '60', '--show_plots', '1', '--load_tSNE', '0']\n"
   ]
  },
  {
   "cell_type": "code",
   "execution_count": null,
   "metadata": {},
   "outputs": [],
   "source": [
    "#%debug\n",
    "%run -i run_tSNE.py -r S01_off_hold --n_feats_PCA 170 --dim_PCA 47 --subskip 4 --dim_inp_tSNE -1 \\\n",
    "--use_existing_tSNE 0 --load_tSNE 0 --show_plots 1"
   ]
  },
  {
   "cell_type": "code",
   "execution_count": null,
   "metadata": {},
   "outputs": [],
   "source": [
    "#%debug\n",
    "%run -i run_tSNE.py -r S01_off_hold --n_feats_PCA 170 --dim_PCA 47 --subskip 2 --dim_inp_tSNE -1 \\\n",
    "--use_existing_tSNE 0 --load_tSNE 0 --show_plots 1"
   ]
  },
  {
   "cell_type": "code",
   "execution_count": null,
   "metadata": {},
   "outputs": [],
   "source": [
    "#%debug\n",
    "%run -i run_tSNE.py -r S01_off_hold,S01_off_move --n_feats_PCA 170 --dim_PCA 47 --subskip 2 --dim_inp_tSNE -1 \\\n",
    "--use_existing_tSNE 0 --load_tSNE 0 --show_plots 1"
   ]
  },
  {
   "cell_type": "code",
   "execution_count": null,
   "metadata": {},
   "outputs": [],
   "source": [
    "#Get pairs of nfeats_pcadims\n",
    "rawname = 'S01_off_move'\n",
    "\n",
    "import fnmatch,os, re\n",
    "regex = '(.+)_(.+)_PCA_[0-9]+chs_nfeats([0-9]+)_pcadim([0-9]+).*'\n",
    "for fn in os.listdir(data_dir):\n",
    "    r = re.match(regex,fn)\n",
    "    if r is not None:\n",
    "        rawn, prefix, n_feats,PCA_dim = r.groups()\n",
    "        if prefix in ['move', 'hold', 'rest'] or rawn != rawname:\n",
    "            continue\n",
    "        #print(fn,r.groups())\n",
    "        \n",
    "        s = 'ipython3 $interactive run_tSNE.py -- -r $raws --prefix {:15} --n_feats_PCA {:3} --dim_PCA {:3} --subskip $SUBSKIP --dim_inp_tSNE $dim_inp_tSNE --show_plots $TSNE_PLOTS --load_tSNE $LOAD_TSNE'.\\\n",
    "        format(prefix,n_feats,PCA_dim)\n",
    "        print(s)\n",
    "#     if fnmatch.fnmatch(file, '*PCA*.npz'):\n",
    "#         print(file)"
   ]
  },
  {
   "cell_type": "code",
   "execution_count": null,
   "metadata": {},
   "outputs": [],
   "source": [
    "#Get pairs of nfeats_pcadims\n",
    "rawname = 'S01_off_move'\n",
    "prefix = 'onlyTD'\n",
    "\n",
    "        \n",
    "        #s = 'ipython3 $interactive run_tSNE.py -- -r $raws --prefix {:15} --n_feats_PCA {:3} --dim_PCA {:3} --subskip $SUBSKIP --dim_inp_tSNE $dim_inp_tSNE --show_plots $TSNE_PLOTS --load_tSNE $LOAD_TSNE'.\\\n",
    "        #format(prefix,n_feats,PCA_dim)\n",
    "        #print(s)\n",
    "#     if fnmatch.fnmatch(file, '*PCA*.npz'):\n",
    "#         print(file)\n",
    "fnfound = utsne.findByPrefix(data_dir, rawname, prefix)\n",
    "print(fnfound)"
   ]
  },
  {
   "cell_type": "code",
   "execution_count": null,
   "metadata": {},
   "outputs": [],
   "source": [
    "fnfound = utsne.findByPrefix(data_dir, rawname, prefix)\n",
    "fnfound"
   ]
  },
  {
   "cell_type": "code",
   "execution_count": null,
   "metadata": {},
   "outputs": [],
   "source": [
    "fn"
   ]
  },
  {
   "cell_type": "code",
   "execution_count": null,
   "metadata": {},
   "outputs": [],
   "source": [
    "r.groups()"
   ]
  },
  {
   "cell_type": "code",
   "execution_count": null,
   "metadata": {},
   "outputs": [],
   "source": [
    "subskip"
   ]
  },
  {
   "cell_type": "code",
   "execution_count": null,
   "metadata": {
    "run_control": {
     "marked": false
    }
   },
   "outputs": [],
   "source": [
    "task"
   ]
  },
  {
   "cell_type": "code",
   "execution_count": null,
   "metadata": {},
   "outputs": [],
   "source": [
    "legend_elements = utsne.prepareLegendElements(mrk,mrknames,color_per_int_type, tasks )\n"
   ]
  },
  {
   "cell_type": "code",
   "execution_count": null,
   "metadata": {},
   "outputs": [],
   "source": [
    "%matplotlib inline"
   ]
  },
  {
   "cell_type": "code",
   "execution_count": null,
   "metadata": {},
   "outputs": [],
   "source": [
    "X_embedded.shape"
   ]
  },
  {
   "cell_type": "code",
   "execution_count": null,
   "metadata": {
    "run_control": {
     "marked": false
    }
   },
   "outputs": [],
   "source": [
    "colors"
   ]
  },
  {
   "cell_type": "code",
   "execution_count": null,
   "metadata": {},
   "outputs": [],
   "source": [
    "markers"
   ]
  },
  {
   "cell_type": "code",
   "execution_count": null,
   "metadata": {},
   "outputs": [],
   "source": [
    "cc = len(X_embedded) * ['r']\n",
    "mm = cc = len(X_embedded) * ['o']"
   ]
  },
  {
   "cell_type": "code",
   "execution_count": null,
   "metadata": {},
   "outputs": [],
   "source": [
    "X_embedded"
   ]
  },
  {
   "cell_type": "code",
   "execution_count": null,
   "metadata": {},
   "outputs": [],
   "source": [
    "m"
   ]
  },
  {
   "cell_type": "code",
   "execution_count": null,
   "metadata": {},
   "outputs": [],
   "source": [
    "X_embedded.shape"
   ]
  },
  {
   "cell_type": "code",
   "execution_count": null,
   "metadata": {},
   "outputs": [],
   "source": [
    "%matplotlib inline"
   ]
  },
  {
   "cell_type": "code",
   "execution_count": null,
   "metadata": {},
   "outputs": [],
   "source": []
  },
  {
   "cell_type": "code",
   "execution_count": null,
   "metadata": {},
   "outputs": [],
   "source": [
    "ax = plt.gca()\n",
    "r = utsne.plotMultiMarker(ax,X_embedded[:,0], X_embedded[:,1], c = cols[colind], m=markers, s=5);\n",
    "ax.legend(handles=legend_elements)\n"
   ]
  },
  {
   "cell_type": "code",
   "execution_count": null,
   "metadata": {},
   "outputs": [],
   "source": [
    "#markers"
   ]
  },
  {
   "cell_type": "code",
   "execution_count": null,
   "metadata": {},
   "outputs": [],
   "source": [
    "markerset = list( set( markers ) )\n"
   ]
  },
  {
   "cell_type": "code",
   "execution_count": null,
   "metadata": {},
   "outputs": [],
   "source": [
    "markerset"
   ]
  },
  {
   "cell_type": "code",
   "execution_count": null,
   "metadata": {},
   "outputs": [],
   "source": [
    "r"
   ]
  },
  {
   "cell_type": "code",
   "execution_count": null,
   "metadata": {},
   "outputs": [],
   "source": [
    "ax.lines"
   ]
  },
  {
   "cell_type": "code",
   "execution_count": null,
   "metadata": {},
   "outputs": [],
   "source": [
    "X = Xconcat"
   ]
  },
  {
   "cell_type": "code",
   "execution_count": null,
   "metadata": {},
   "outputs": [],
   "source": [
    "np.sign( qvals_ )"
   ]
  },
  {
   "cell_type": "code",
   "execution_count": null,
   "metadata": {},
   "outputs": [],
   "source": [
    "(qvmult-1) * qvals_ * np.sign(qvals_)"
   ]
  },
  {
   "cell_type": "code",
   "execution_count": null,
   "metadata": {},
   "outputs": [],
   "source": [
    "np.diff(bad_inds)"
   ]
  },
  {
   "cell_type": "code",
   "execution_count": null,
   "metadata": {},
   "outputs": [],
   "source": [
    "np.sign(-1)"
   ]
  },
  {
   "cell_type": "code",
   "execution_count": null,
   "metadata": {},
   "outputs": [],
   "source": [
    "msrc_inds_undesired"
   ]
  },
  {
   "cell_type": "code",
   "execution_count": null,
   "metadata": {},
   "outputs": [],
   "source": [
    "bad_inds.update( [35, 5])"
   ]
  },
  {
   "cell_type": "code",
   "execution_count": null,
   "metadata": {},
   "outputs": [],
   "source": [
    "bad_inds"
   ]
  },
  {
   "cell_type": "code",
   "execution_count": null,
   "metadata": {},
   "outputs": [],
   "source": [
    "bad_inds + bad_inds"
   ]
  },
  {
   "cell_type": "code",
   "execution_count": null,
   "metadata": {},
   "outputs": [],
   "source": [
    "inds_bad_src"
   ]
  },
  {
   "cell_type": "code",
   "execution_count": null,
   "metadata": {},
   "outputs": [],
   "source": [
    "feature_names_all"
   ]
  },
  {
   "cell_type": "code",
   "execution_count": null,
   "metadata": {},
   "outputs": [],
   "source": [
    "fn = feature_names_all[0]\n",
    "fn"
   ]
  },
  {
   "cell_type": "code",
   "execution_count": null,
   "metadata": {},
   "outputs": [],
   "source": [
    "\n",
    "re.match(regex,fn).groups()"
   ]
  },
  {
   "cell_type": "code",
   "execution_count": null,
   "metadata": {},
   "outputs": [],
   "source": []
  },
  {
   "cell_type": "code",
   "execution_count": null,
   "metadata": {},
   "outputs": [],
   "source": [
    "res"
   ]
  },
  {
   "cell_type": "code",
   "execution_count": null,
   "metadata": {},
   "outputs": [],
   "source": [
    "#res = list( map(int,res) )"
   ]
  },
  {
   "cell_type": "code",
   "execution_count": null,
   "metadata": {},
   "outputs": [],
   "source": [
    "list(res)"
   ]
  },
  {
   "cell_type": "code",
   "execution_count": null,
   "metadata": {},
   "outputs": [],
   "source": [
    "chnames_src"
   ]
  },
  {
   "cell_type": "code",
   "execution_count": null,
   "metadata": {},
   "outputs": [],
   "source": [
    "use_existing_TFR = 1"
   ]
  },
  {
   "cell_type": "code",
   "execution_count": null,
   "metadata": {},
   "outputs": [],
   "source": [
    "csd.shape"
   ]
  },
  {
   "cell_type": "code",
   "execution_count": null,
   "metadata": {},
   "outputs": [],
   "source": [
    "use_lfp_HFO"
   ]
  },
  {
   "cell_type": "code",
   "execution_count": null,
   "metadata": {},
   "outputs": [],
   "source": []
  },
  {
   "cell_type": "code",
   "execution_count": null,
   "metadata": {},
   "outputs": [],
   "source": [
    "feat_dict['con']['names']"
   ]
  },
  {
   "cell_type": "code",
   "execution_count": null,
   "metadata": {},
   "outputs": [],
   "source": [
    "templ_same_LFP = r'.*:\\s(LFP.*),\\1'\n",
    "inds_same_LFP = utsne.selFeatsRegexInds( csdord_strs, [templ_same_LFP], unique=1)\n",
    "templ_all_LFP = r'.*:\\s(LFP.*),(LFP.*)'\n",
    "inds_all_LFP = utsne.selFeatsRegexInds( csdord_strs, [templ_all_LFP], unique=1)\n"
   ]
  },
  {
   "cell_type": "code",
   "execution_count": null,
   "metadata": {},
   "outputs": [],
   "source": [
    "inds_notsame_LFP = np.setdiff1d( inds_all_LFP, inds_same_LFP)\n",
    "gi = np.setdiff1d( np.arange(len(csdord_strs) ) , inds_notsame_LFP)\n"
   ]
  },
  {
   "cell_type": "code",
   "execution_count": null,
   "metadata": {},
   "outputs": [],
   "source": [
    "feature_names_all"
   ]
  },
  {
   "cell_type": "code",
   "execution_count": null,
   "metadata": {},
   "outputs": [],
   "source": [
    "feat_dict['bpcorr']['names']"
   ]
  },
  {
   "cell_type": "code",
   "execution_count": null,
   "metadata": {},
   "outputs": [],
   "source": [
    "import re"
   ]
  },
  {
   "cell_type": "code",
   "execution_count": null,
   "metadata": {},
   "outputs": [],
   "source": [
    "templ_all_LFP = r'.*:\\s(LFP.*),(LFP.*)'\n",
    "inds = []\n",
    "for namei,name in enumerate(csdord_strs):\n",
    "    for pattern in [templ_all_LFP]:\n",
    "        r = re.match(pattern, name)\n",
    "        print(pattern,name,r)\n",
    "        if r is not None:\n",
    "            inds += [namei]\n",
    "\n"
   ]
  },
  {
   "cell_type": "code",
   "execution_count": null,
   "metadata": {},
   "outputs": [],
   "source": [
    "inds_same_LFP"
   ]
  },
  {
   "cell_type": "code",
   "execution_count": null,
   "metadata": {},
   "outputs": [],
   "source": [
    "inds_notsame_LFP"
   ]
  },
  {
   "cell_type": "code",
   "execution_count": null,
   "metadata": {},
   "outputs": [],
   "source": [
    "gi"
   ]
  },
  {
   "cell_type": "code",
   "execution_count": null,
   "metadata": {},
   "outputs": [],
   "source": [
    "csdord_strs"
   ]
  },
  {
   "cell_type": "code",
   "execution_count": null,
   "metadata": {},
   "outputs": [],
   "source": [
    "np.array(csdord_strs)[inds_notsame_LFP]"
   ]
  },
  {
   "cell_type": "code",
   "execution_count": null,
   "metadata": {},
   "outputs": [],
   "source": [
    "gi.dtype"
   ]
  },
  {
   "cell_type": "code",
   "execution_count": null,
   "metadata": {},
   "outputs": [],
   "source": [
    "templ_same_LFP = r'con_{}.*:\\s(LFP.*),\\1'\n",
    "inds_same_LFP = utsne.selFeatsRegexInds(tmp, csdord_strs, [templ_same_LFP], unique=1)\n",
    "templ_all_LFP = r'con_{}.*:\\s(LFP.*),(LFP.*)'\n",
    "inds_all_LFP = utsne.selFeatsRegexInds(tmp, csdord_strs, [templ_all_LFP], unique=1)\n",
    "\n",
    "inds_notsame_LFP = np.setdiff1d( inds_all_LFP, inds_same_LFP)\n",
    "gi = np.setdiff1d( np.arange(len(csdord_strs) ) , inds_notsame_LFP)\n",
    "tmp = tmp[gi]\n",
    "\n",
    "feat_dict['con']['names'] = np.array(feat_dict['con']['names'] ) [gi].tolist()\n"
   ]
  },
  {
   "cell_type": "code",
   "execution_count": null,
   "metadata": {},
   "outputs": [],
   "source": [
    "chnames_tfr.tolist().append(subfeature_order_lfp_highres)"
   ]
  },
  {
   "cell_type": "code",
   "execution_count": null,
   "metadata": {},
   "outputs": [],
   "source": [
    "chnames_tfr"
   ]
  },
  {
   "cell_type": "code",
   "execution_count": null,
   "metadata": {},
   "outputs": [],
   "source": [
    "tfrres.shape"
   ]
  },
  {
   "cell_type": "code",
   "execution_count": null,
   "metadata": {},
   "outputs": [],
   "source": [
    "times.shape"
   ]
  },
  {
   "cell_type": "code",
   "execution_count": null,
   "metadata": {},
   "outputs": [],
   "source": [
    "X = Xfull"
   ]
  },
  {
   "cell_type": "code",
   "execution_count": null,
   "metadata": {},
   "outputs": [],
   "source": [
    "rawnames"
   ]
  },
  {
   "cell_type": "code",
   "execution_count": null,
   "metadata": {},
   "outputs": [],
   "source": [
    "Xtimes"
   ]
  },
  {
   "cell_type": "code",
   "execution_count": null,
   "metadata": {},
   "outputs": [],
   "source": []
  },
  {
   "cell_type": "code",
   "execution_count": null,
   "metadata": {},
   "outputs": [],
   "source": [
    "nedgeBins / sfreq"
   ]
  },
  {
   "cell_type": "code",
   "execution_count": null,
   "metadata": {},
   "outputs": [],
   "source": [
    "nedgeBins / skip"
   ]
  },
  {
   "cell_type": "code",
   "execution_count": null,
   "metadata": {},
   "outputs": [],
   "source": [
    "len(X)"
   ]
  },
  {
   "cell_type": "code",
   "execution_count": null,
   "metadata": {},
   "outputs": [],
   "source": [
    "times_pri[0][-1] * sfreq / skip - 12"
   ]
  },
  {
   "cell_type": "code",
   "execution_count": null,
   "metadata": {},
   "outputs": [],
   "source": [
    "times_pri[0][-1] * sfreq / skip + 24"
   ]
  },
  {
   "cell_type": "code",
   "execution_count": null,
   "metadata": {},
   "outputs": [],
   "source": [
    "times_pri[0][-1] * sfreq / skip + times_pri[1][-1] * sfreq / skip"
   ]
  },
  {
   "cell_type": "code",
   "execution_count": null,
   "metadata": {},
   "outputs": [],
   "source": [
    "X.shape[0] + 24"
   ]
  },
  {
   "cell_type": "code",
   "execution_count": null,
   "metadata": {},
   "outputs": [],
   "source": [
    "raws_srconly[0].times[-1] * sfreq / skip"
   ]
  },
  {
   "cell_type": "code",
   "execution_count": null,
   "metadata": {},
   "outputs": [],
   "source": []
  },
  {
   "cell_type": "code",
   "execution_count": null,
   "metadata": {},
   "outputs": [],
   "source": [
    "rawtimes_tot = []\n",
    "for rawind in range(len(rawnames) ):\n",
    "    rawtimes_cur = times_pri[rawind].copy()\n",
    "    if rawind > 0:\n",
    "        rawtimes_cur += len(times_pri[rawind-1] ) / sfreq\n",
    "        t = rawtimes_cur[0] + nedgeBins / sfreq\n",
    "        print(t)\n",
    "        \n",
    "    rawtimes_tot += [rawtimes_cur]"
   ]
  },
  {
   "cell_type": "code",
   "execution_count": null,
   "metadata": {},
   "outputs": [],
   "source": [
    "rawtimes_tot = np.hstack(rawtimes_tot)"
   ]
  },
  {
   "cell_type": "code",
   "execution_count": null,
   "metadata": {},
   "outputs": [],
   "source": [
    "rawtimes_tot.shape[0]/sfreq"
   ]
  },
  {
   "cell_type": "code",
   "execution_count": null,
   "metadata": {},
   "outputs": [],
   "source": [
    "times_pri[0][-1]"
   ]
  },
  {
   "cell_type": "code",
   "execution_count": null,
   "metadata": {},
   "outputs": [],
   "source": [
    "len(times_pri[0]) / sfreq"
   ]
  },
  {
   "cell_type": "code",
   "execution_count": null,
   "metadata": {},
   "outputs": [],
   "source": [
    "rawtimes_cur[-1]"
   ]
  },
  {
   "cell_type": "code",
   "execution_count": null,
   "metadata": {},
   "outputs": [],
   "source": [
    "times_pri[0][0]"
   ]
  },
  {
   "cell_type": "code",
   "execution_count": null,
   "metadata": {},
   "outputs": [],
   "source": [
    "times_pri[0][-1]"
   ]
  },
  {
   "cell_type": "code",
   "execution_count": null,
   "metadata": {},
   "outputs": [],
   "source": [
    "np.where( rawtimes_cur > times_pri[0][-1]  )[0]"
   ]
  },
  {
   "cell_type": "code",
   "execution_count": null,
   "metadata": {},
   "outputs": [],
   "source": [
    "rawtimes_cur[1728]"
   ]
  },
  {
   "cell_type": "code",
   "execution_count": null,
   "metadata": {},
   "outputs": [],
   "source": [
    "rawtimes_cur[0] * sfreq / skip"
   ]
  },
  {
   "cell_type": "code",
   "execution_count": null,
   "metadata": {},
   "outputs": [],
   "source": [
    "int(t * sfreq) // skip"
   ]
  },
  {
   "cell_type": "code",
   "execution_count": null,
   "metadata": {},
   "outputs": [],
   "source": []
  },
  {
   "cell_type": "code",
   "execution_count": null,
   "metadata": {},
   "outputs": [],
   "source": [
    "Xfull.shape"
   ]
  },
  {
   "cell_type": "code",
   "execution_count": null,
   "metadata": {},
   "outputs": [],
   "source": [
    "dat.shape"
   ]
  },
  {
   "cell_type": "code",
   "execution_count": null,
   "metadata": {},
   "outputs": [],
   "source": [
    "dat_scaled.shape"
   ]
  },
  {
   "cell_type": "code",
   "execution_count": null,
   "metadata": {},
   "outputs": [],
   "source": [
    "dat_bpow.shape"
   ]
  },
  {
   "cell_type": "code",
   "execution_count": null,
   "metadata": {},
   "outputs": [],
   "source": [
    "dat_bpow.shape[1] // skip"
   ]
  },
  {
   "cell_type": "code",
   "execution_count": null,
   "metadata": {},
   "outputs": [],
   "source": [
    "dat_flt.shape"
   ]
  },
  {
   "cell_type": "code",
   "execution_count": null,
   "metadata": {},
   "outputs": [],
   "source": [
    "len(instampl) // 256"
   ]
  },
  {
   "cell_type": "code",
   "execution_count": null,
   "metadata": {},
   "outputs": [],
   "source": [
    "rbcors.shape"
   ]
  },
  {
   "cell_type": "code",
   "execution_count": null,
   "metadata": {},
   "outputs": [],
   "source": [
    "for i in range(len(Xfull)):\n",
    "    print(Xfull[i].shape )"
   ]
  },
  {
   "cell_type": "code",
   "execution_count": null,
   "metadata": {},
   "outputs": [],
   "source": [
    "    Xfull[1].shape"
   ]
  },
  {
   "cell_type": "code",
   "execution_count": null,
   "metadata": {},
   "outputs": [],
   "source": [
    "Xfull[1]"
   ]
  },
  {
   "cell_type": "code",
   "execution_count": null,
   "metadata": {},
   "outputs": [],
   "source": [
    "len(Xfull)"
   ]
  },
  {
   "cell_type": "code",
   "execution_count": null,
   "metadata": {},
   "outputs": [],
   "source": [
    "dat.shape"
   ]
  },
  {
   "cell_type": "code",
   "execution_count": null,
   "metadata": {},
   "outputs": [],
   "source": [
    "gc.collect()"
   ]
  },
  {
   "cell_type": "code",
   "execution_count": null,
   "metadata": {},
   "outputs": [],
   "source": [
    "#plt.axes()"
   ]
  },
  {
   "cell_type": "code",
   "execution_count": null,
   "metadata": {},
   "outputs": [],
   "source": [
    "fig,axs = plt.subplots(2,2)\n",
    "ax = fig.axes[0]\n",
    "#ax.autoscale(axis='y')\n",
    "\n",
    "mn = np.inf\n",
    "mx = np.-inf\n",
    "for ax in fig.axes:\n",
    "    for line in ax.lines:\n",
    "        d = line.get_ydata()\n",
    "        mn = min(mn,d)\n",
    "        mx = max(mx,d)\n",
    "        \n",
    "for ax in fig.axes:\n",
    "    ax.set_ylim(mn,mx)"
   ]
  },
  {
   "cell_type": "code",
   "execution_count": null,
   "metadata": {},
   "outputs": [],
   "source": [
    "#help(np.convolve)"
   ]
  },
  {
   "cell_type": "code",
   "execution_count": null,
   "metadata": {},
   "outputs": [],
   "source": []
  },
  {
   "cell_type": "code",
   "execution_count": null,
   "metadata": {},
   "outputs": [],
   "source": [
    "extdat_reampled.shape"
   ]
  },
  {
   "cell_type": "code",
   "execution_count": null,
   "metadata": {},
   "outputs": [],
   "source": [
    "#%debug\n",
    "for int_name in ['notrem_L']:\n",
    "    intervals = ivalis.get(int_name,[])\n",
    "    intervals = [intervals[0]]\n",
    "    for iv in intervals:\n",
    "        start,end,_itp = iv\n",
    "\n",
    "        tt = utsne.plotIntervalData(X.T,feature_names_all,iv,\n",
    "                                    times = Xtimes,\n",
    "                                    plot_types=['timecourse'],\n",
    "                                    dat_ext = extdat_resampled,\n",
    "                                    extend=extend)\n",
    "\n",
    "fig = plt.gcf()        \n",
    "mn = np.inf\n",
    "mx = -np.inf\n",
    "for ax in fig.axes:\n",
    "    for line in ax.lines:\n",
    "        d = line.get_ydata()\n",
    "        mn = min(mn, np.max(d) )\n",
    "        mx = max(mx, np.min(d) )\n",
    "        \n",
    "# for ax in fig.axes:\n",
    "#     ax.set_ylim(mn,mx)        \n",
    "        \n",
    "\n",
    "#plt.savefig('feat_timecourse_test.png',dpi=150)\n",
    "plt.savefig('feat_timecourse_test.pdf')\n"
   ]
  },
  {
   "cell_type": "code",
   "execution_count": null,
   "metadata": {},
   "outputs": [],
   "source": [
    "plt.close('all')"
   ]
  },
  {
   "cell_type": "code",
   "execution_count": null,
   "metadata": {},
   "outputs": [],
   "source": [
    "help(plt.close)"
   ]
  },
  {
   "cell_type": "code",
   "execution_count": null,
   "metadata": {},
   "outputs": [],
   "source": [
    "115200 / 2"
   ]
  },
  {
   "cell_type": "code",
   "execution_count": null,
   "metadata": {},
   "outputs": [],
   "source": [
    "2**16"
   ]
  },
  {
   "cell_type": "code",
   "execution_count": null,
   "metadata": {},
   "outputs": [],
   "source": [
    "d"
   ]
  },
  {
   "cell_type": "code",
   "execution_count": null,
   "metadata": {},
   "outputs": [],
   "source": []
  },
  {
   "cell_type": "code",
   "execution_count": null,
   "metadata": {},
   "outputs": [],
   "source": [
    "len(feature_names_all)"
   ]
  },
  {
   "cell_type": "code",
   "execution_count": null,
   "metadata": {},
   "outputs": [],
   "source": [
    "feature_names_all"
   ]
  },
  {
   "cell_type": "code",
   "execution_count": null,
   "metadata": {},
   "outputs": [],
   "source": [
    "int_names = ['{}_{}'.format(task,mts_letter), 'trem_{}'.format(mts_letter), 'notrem_{}'.format(mts_letter)]\n"
   ]
  },
  {
   "cell_type": "code",
   "execution_count": null,
   "metadata": {},
   "outputs": [],
   "source": []
  },
  {
   "cell_type": "code",
   "execution_count": null,
   "metadata": {},
   "outputs": [],
   "source": [
    "bpow_mav_wsz"
   ]
  },
  {
   "cell_type": "code",
   "execution_count": null,
   "metadata": {},
   "outputs": [],
   "source": [
    "bpcors = np.vstack(bpcors)\n",
    "rbcors = np.vstack(rbcors)"
   ]
  },
  {
   "cell_type": "code",
   "execution_count": null,
   "metadata": {},
   "outputs": [],
   "source": [
    "feat_dict = { 'con':{'data':None, 'pct':con_scale, 'centering':center_spec_feats,\n",
    "                     'names':csdord_strs },\n",
    "             'H_act':{'data':act, 'pct':defpct, 'names':subfeature_order},\n",
    "             'H_mob':{'data':mob, 'pct':defpct, 'names':subfeature_order},\n",
    "             'H_compl':{'data':compl, 'pct':defpct, 'names':subfeature_order},\n",
    "             'rbcorr':{'data':rbcors, 'pct':defpct, 'names':rbcor_names  },\n",
    "             'rbcorr':{'data':bpcors, 'pct':defpct, 'names':bpcor_names  } }\n",
    " #'tfr':{'data':None, 'pct':con_scale, 'centering':center_spec_feats },\n",
    "\n",
    "feat_dict['con']['centering'] = True\n",
    "\n",
    "f = lambda x: x\n",
    "if spec_uselog:\n",
    "    f = lambda x: np.log(x)\n",
    "\n",
    "if bands_only == 'no':\n",
    "    tfres_ = tfrres.reshape( tfrres.size//ntimebins , ntimebins )\n",
    "    #feat_dict['tfr']['data'] = f( np.abs( tfres_) )\n",
    "    #feat_dict['con']['data'] = con.reshape( con.size//ntimebins , ntimebins )\n",
    "    feat_dict['con']['data'] = f( np.abs( csd.reshape( csd.size//ntimebins , ntimebins ) ) )\n",
    "else:\n",
    "    #feat_dict['tfr']['data'] = f( bpows.reshape( bpows.size//ntimebins , ntimebins ) )\n",
    "    tmp1 = bpow_abscsd.reshape( bpow_abscsd.size//ntimebins , ntimebins )\n",
    "    if use_lfp_HFO:\n",
    "        tmp2 = bpow_abscsd_LFP_HFO.reshape( bpow_abscsd_LFP_HFO.size//ntimebins , ntimebins )\n",
    "        tmp = np.vstack( [tmp1, tmp2])\n",
    "    else:\n",
    "        tmp = tmp1\n",
    "\n",
    "    feat_dict['con']['data'] = f( tmp )\n",
    "\n",
    "    #tmp_ord\n",
    "    csdord1 = csdord_bandwise.reshape( (tmp1.shape[0], 3) )\n",
    "    if use_lfp_HFO:\n",
    "        csdord2 = csdord_bandwise_LFP_HFO.reshape( (tmp2.shape[0], 3) )\n",
    "    #csdords = [csdord1, csdord2  ]\n",
    "    #csdord = np.vstack(csdords  )"
   ]
  },
  {
   "cell_type": "code",
   "execution_count": null,
   "metadata": {},
   "outputs": [],
   "source": [
    "#bpcor_names"
   ]
  },
  {
   "cell_type": "code",
   "execution_count": null,
   "metadata": {},
   "outputs": [],
   "source": []
  },
  {
   "cell_type": "code",
   "execution_count": null,
   "metadata": {},
   "outputs": [],
   "source": [
    "##########\n",
    "for feat_name in feat_dict:\n",
    "    if feat_name in ['rbcorr', 'bpcorr']:\n",
    "        continue\n",
    "    curfeat = feat_dict[feat_name]\n",
    "    curfeat['data'] = curfeat['data'][:,nedgeBins//skip:-nedgeBins//skip]\n",
    "    print(feat_name, curfeat['data'][0].shape)"
   ]
  },
  {
   "cell_type": "code",
   "execution_count": null,
   "metadata": {},
   "outputs": [],
   "source": [
    "#################################  Scale features\n",
    "for feat_name in feat_dict:\n",
    "    curfeat = feat_dict[feat_name]\n",
    "    inp = curfeat['data']\n",
    "    centering = curfeat.get('centering', True)\n",
    "    pct = curfeat['pct']\n",
    "    if pct is not None:\n",
    "        scaler = RobustScaler(quantile_range=pct, with_centering=centering)\n",
    "        scaler.fit(inp.T)\n",
    "        outd = scaler.transform(inp.T)\n",
    "        curfeat['data'] = outd.T\n",
    "        cnt = scaler.center_\n",
    "        scl = scaler.scale_\n",
    "        if feat_name in ['tfr', 'con']:\n",
    "            if cnt is not None:\n",
    "                cnt = np.min(cnt), np.max(cnt), np.mean(cnt), np.std(cnt)\n",
    "            if scl is not None:\n",
    "                scl = np.min(scl), np.max(scl), np.mean(scl), np.std(scl)\n",
    "        print(feat_name, curfeat['data'].shape, cnt,scl)"
   ]
  },
  {
   "cell_type": "code",
   "execution_count": null,
   "metadata": {},
   "outputs": [],
   "source": [
    "names_flt"
   ]
  },
  {
   "cell_type": "code",
   "execution_count": null,
   "metadata": {},
   "outputs": [],
   "source": [
    "if features_to_use == 'all':\n",
    "    features_to_use = feat_dict.keys()\n",
    "#features_to_use = [ 'tfr',  'H_act', 'H_mob', 'H_compl']\n",
    "if len(features_to_use) < len(feat_dict.keys() ):\n",
    "    print('  !!! Using only {} features out of {}'.format( len(features_to_use) , len(feat_dict.keys() ) ))\n",
    "\n",
    "\n",
    "##########################  Construct full feature vector\n",
    "\n",
    "Xfull = []\n",
    "feat_order = []\n",
    "feature_names_all = []\n",
    "for feat_name in features_to_use:\n",
    "    #if feat_name == 'bandcorrel':  # this we add later\n",
    "    #    continue\n",
    "    curfeat = feat_dict[feat_name]\n",
    "    cd = curfeat['data']\n",
    "    print(feat_name, cd.shape)\n",
    "    sfo = curfeat['names']\n",
    "    #if feat_name == 'con':\n",
    "    #    sfo = csdord_strs\n",
    "    #else:\n",
    "    #    sfo = chnames_tfr\n",
    "    subfeats = ['{}_{}'.format(feat_name,sf) for sf in sfo]\n",
    "    feature_names_all += subfeats\n",
    "    Xfull += [ cd]\n",
    "    feat_order += [feat_name]\n",
    "Xfull = np.vstack(Xfull).T\n",
    "print(feat_order, Xfull.shape)\n"
   ]
  },
  {
   "cell_type": "code",
   "execution_count": null,
   "metadata": {},
   "outputs": [],
   "source": [
    "%autoreload 2"
   ]
  },
  {
   "cell_type": "code",
   "execution_count": null,
   "metadata": {},
   "outputs": [],
   "source": [
    "import importlib as il\n",
    "il.reload(utsne)"
   ]
  },
  {
   "cell_type": "code",
   "execution_count": null,
   "metadata": {},
   "outputs": [],
   "source": [
    "dat_flt = np.vstack(dat_flt)"
   ]
  },
  {
   "cell_type": "code",
   "execution_count": null,
   "metadata": {},
   "outputs": [],
   "source": [
    "bandPairs = [('tremor','tremor', 'corr'), ('beta','beta', 'corr'), ('gamma','gamma', 'corr') ]\n",
    "if use_lfp_HFO:\n",
    "    bandPairs += [ ('HFO','HFO', 'corr')  ]\n",
    "\n",
    "\n",
    "rbcors,rbcor_names = utsne.computeFeatOrd2(dat_flt, Xtimes_full, names=names_flt,\n",
    "                                        skip=skip, windowsz = windowsz, band_pairs = bandPairs,\n",
    "                                        n_free_cores=2, positive=0, templ='{}_.*')\n"
   ]
  },
  {
   "cell_type": "code",
   "execution_count": null,
   "metadata": {},
   "outputs": [],
   "source": [
    "bpcor_names"
   ]
  },
  {
   "cell_type": "code",
   "execution_count": null,
   "metadata": {},
   "outputs": [],
   "source": [
    "dat_bpow = np.vstack(dat_bpow)"
   ]
  },
  {
   "cell_type": "code",
   "execution_count": null,
   "metadata": {},
   "outputs": [],
   "source": [
    "\n",
    "bandPairs = [('tremor','beta', 'corr'), ('tremor','gamma', 'corr'), ('beta','gamma', 'corr') ]\n",
    "if use_lfp_HFO:\n",
    "    bandPairs += [ ('tremor','HFO', 'corr'), ('beta','HFO', 'corr'), ('gamma','HFO', 'corr') ]\n",
    "\n",
    "    if bands_only == 'fine':\n",
    "        bandPairs += [ ('HFO1','HFO2', 'div'), ('HFO1','HFO3', 'div'), ('HFO2','HFO3', 'div') ]\n",
    "\n",
    "bpcors,bpcor_names = utsne.computeFeatOrd2(dat_bpow, Xtimes_full, names=names_bpow,\n",
    "                                        skip=skip, windowsz = windowsz,\n",
    "                                           band_pairs = bandPairs,\n",
    "                                        n_free_cores=2, positive=1, templ='{}_.*')\n"
   ]
  },
  {
   "cell_type": "code",
   "execution_count": null,
   "metadata": {},
   "outputs": [],
   "source": [
    "bpcor_names"
   ]
  },
  {
   "cell_type": "code",
   "execution_count": null,
   "metadata": {},
   "outputs": [],
   "source": [
    "fband_names"
   ]
  },
  {
   "cell_type": "code",
   "execution_count": null,
   "metadata": {},
   "outputs": [],
   "source": [
    "bpcors[9]"
   ]
  },
  {
   "cell_type": "code",
   "execution_count": null,
   "metadata": {},
   "outputs": [],
   "source": [
    "bpcor_names[0].shape"
   ]
  },
  {
   "cell_type": "code",
   "execution_count": null,
   "metadata": {},
   "outputs": [],
   "source": [
    "bpcor_names"
   ]
  },
  {
   "cell_type": "code",
   "execution_count": null,
   "metadata": {},
   "outputs": [],
   "source": [
    "nedgeBins//32"
   ]
  },
  {
   "cell_type": "code",
   "execution_count": null,
   "metadata": {},
   "outputs": [],
   "source": [
    "dat_bpow.shape"
   ]
  },
  {
   "cell_type": "code",
   "execution_count": null,
   "metadata": {},
   "outputs": [],
   "source": [
    "rbcors[0].shape"
   ]
  },
  {
   "cell_type": "code",
   "execution_count": null,
   "metadata": {},
   "outputs": [],
   "source": [
    "tfrres.shape"
   ]
  },
  {
   "cell_type": "code",
   "execution_count": null,
   "metadata": {},
   "outputs": [],
   "source": [
    "5778 - 24"
   ]
  },
  {
   "cell_type": "code",
   "execution_count": null,
   "metadata": {},
   "outputs": [],
   "source": [
    "len(rbcors)"
   ]
  },
  {
   "cell_type": "code",
   "execution_count": null,
   "metadata": {},
   "outputs": [],
   "source": [
    "len(rbcor_names)"
   ]
  },
  {
   "cell_type": "code",
   "execution_count": null,
   "metadata": {},
   "outputs": [],
   "source": [
    "%run -i run_PCA.py  --pcexpl 50"
   ]
  },
  {
   "cell_type": "code",
   "execution_count": null,
   "metadata": {},
   "outputs": [],
   "source": [
    "pcapts.shape"
   ]
  },
  {
   "cell_type": "code",
   "execution_count": null,
   "metadata": {},
   "outputs": [],
   "source": [
    "X.shape"
   ]
  },
  {
   "cell_type": "code",
   "execution_count": null,
   "metadata": {},
   "outputs": [],
   "source": [
    "fname_PCA_full"
   ]
  },
  {
   "cell_type": "code",
   "execution_count": null,
   "metadata": {},
   "outputs": [],
   "source": []
  },
  {
   "cell_type": "code",
   "execution_count": null,
   "metadata": {},
   "outputs": [],
   "source": [
    "su"
   ]
  },
  {
   "cell_type": "code",
   "execution_count": null,
   "metadata": {},
   "outputs": [],
   "source": [
    "Xtimes[::skip_feat].shape"
   ]
  },
  {
   "cell_type": "code",
   "execution_count": null,
   "metadata": {},
   "outputs": [],
   "source": [
    "subskip"
   ]
  },
  {
   "cell_type": "code",
   "execution_count": null,
   "metadata": {},
   "outputs": [],
   "source": [
    "X.shape"
   ]
  },
  {
   "cell_type": "code",
   "execution_count": null,
   "metadata": {},
   "outputs": [],
   "source": [
    "len(Xtimes)"
   ]
  },
  {
   "cell_type": "code",
   "execution_count": null,
   "metadata": {},
   "outputs": [],
   "source": [
    "skip_feat"
   ]
  },
  {
   "cell_type": "code",
   "execution_count": null,
   "metadata": {},
   "outputs": [],
   "source": [
    "nPCAcomponents_to_plot"
   ]
  },
  {
   "cell_type": "code",
   "execution_count": null,
   "metadata": {},
   "outputs": [],
   "source": [
    "XX.shape"
   ]
  },
  {
   "cell_type": "code",
   "execution_count": null,
   "metadata": {},
   "outputs": [],
   "source": [
    "pcapts.shape"
   ]
  },
  {
   "cell_type": "code",
   "execution_count": null,
   "metadata": {},
   "outputs": [],
   "source": [
    "utsne.robustMeanPos(Xfull[0])"
   ]
  },
  {
   "cell_type": "code",
   "execution_count": null,
   "metadata": {},
   "outputs": [],
   "source": [
    "utsne.robustMeanPos(Xfull[0],q=0.01)"
   ]
  },
  {
   "cell_type": "code",
   "execution_count": null,
   "metadata": {},
   "outputs": [],
   "source": [
    "utsne.robustMeanPos(Xfull[0],q=0.0)"
   ]
  },
  {
   "cell_type": "code",
   "execution_count": null,
   "metadata": {},
   "outputs": [],
   "source": [
    "import utils_tSNE as utsne"
   ]
  },
  {
   "cell_type": "code",
   "execution_count": null,
   "metadata": {},
   "outputs": [],
   "source": [
    "Xtimes_full = raw_srconly.times[nedgeBins:-nedgeBins]\n"
   ]
  },
  {
   "cell_type": "code",
   "execution_count": null,
   "metadata": {},
   "outputs": [],
   "source": [
    "windowsz//skip"
   ]
  },
  {
   "cell_type": "code",
   "execution_count": null,
   "metadata": {},
   "outputs": [],
   "source": [
    "windowsz // skip"
   ]
  },
  {
   "cell_type": "code",
   "execution_count": null,
   "metadata": {},
   "outputs": [],
   "source": [
    "skip"
   ]
  },
  {
   "cell_type": "code",
   "execution_count": null,
   "metadata": {},
   "outputs": [],
   "source": [
    "(dat<=qvmx[:,None]).shape"
   ]
  },
  {
   "cell_type": "code",
   "execution_count": null,
   "metadata": {},
   "outputs": [],
   "source": [
    "dat.shape"
   ]
  },
  {
   "cell_type": "code",
   "execution_count": null,
   "metadata": {},
   "outputs": [],
   "source": [
    "dat[dat<=qvmx[:,None]].shape"
   ]
  },
  {
   "cell_type": "code",
   "execution_count": null,
   "metadata": {},
   "outputs": [],
   "source": [
    "axis = 1\n",
    "q =0.05\n",
    "qvmx = np.quantile(dat, 1-q, axis=axis)\n",
    "np.mean(  dat[dat<=qvmx[:,None]] )\n"
   ]
  },
  {
   "cell_type": "code",
   "execution_count": null,
   "metadata": {},
   "outputs": [],
   "source": [
    "#Xfull->Xminskip"
   ]
  },
  {
   "cell_type": "code",
   "execution_count": null,
   "metadata": {},
   "outputs": [],
   "source": [
    "#%debug\n",
    "bandPairs = [('tremor','beta'), ('tremor','gamma'), ('beta','gamma') ]\n",
    "if use_lfp_HFO:\n",
    "    bandPairs += [ ('tremor','HFO'), ('beta','HFO'), ('gamma','HFO') ]\n",
    "cors,cor_names = utsne.computeFeatCorrel(Xfull, Xtimes_full[::skip], names=feature_names_all,\n",
    "                                        skip=1, windowsz = (windowsz * 2)//skip, band_pairs = bandPairs,\n",
    "                                        n_free_cores=2)"
   ]
  },
  {
   "cell_type": "code",
   "execution_count": null,
   "metadata": {},
   "outputs": [],
   "source": [
    "feature_names_all"
   ]
  },
  {
   "cell_type": "code",
   "execution_count": null,
   "metadata": {},
   "outputs": [],
   "source": [
    "len(cors)"
   ]
  },
  {
   "cell_type": "code",
   "execution_count": null,
   "metadata": {},
   "outputs": [],
   "source": [
    "cors[0].shape"
   ]
  },
  {
   "cell_type": "code",
   "execution_count": null,
   "metadata": {},
   "outputs": [],
   "source": [
    "cor_names"
   ]
  },
  {
   "cell_type": "code",
   "execution_count": null,
   "metadata": {},
   "outputs": [],
   "source": [
    "plt.plot(cors[0])"
   ]
  },
  {
   "cell_type": "code",
   "execution_count": null,
   "metadata": {},
   "outputs": [],
   "source": [
    "Xfull.shape"
   ]
  },
  {
   "cell_type": "code",
   "execution_count": null,
   "metadata": {},
   "outputs": [],
   "source": [
    "Xfull = np.vstack( [Xfull.T, np.vstack(cors)]  ).T\n",
    "feature_names_all += cor_names"
   ]
  },
  {
   "cell_type": "code",
   "execution_count": null,
   "metadata": {},
   "outputs": [],
   "source": [
    "bpows = []\n",
    "bpow_names = []\n",
    "for chi in range(len(dat_src)):\n",
    "    for fbname in fband_names:\n",
    "        fbs,fbe = fbands[fbname]\n",
    "\n",
    "        ang, instfreq, instampl = utils.getBandHilbDat(dat_scaled[chi], sfreq, fbs, fbe)\n",
    "        \n",
    "        instampl"
   ]
  },
  {
   "cell_type": "code",
   "execution_count": null,
   "metadata": {},
   "outputs": [],
   "source": [
    "help(np.cov)"
   ]
  },
  {
   "cell_type": "code",
   "execution_count": null,
   "metadata": {},
   "outputs": [],
   "source": [
    "s = slice(5,66,None)"
   ]
  },
  {
   "cell_type": "code",
   "execution_count": null,
   "metadata": {},
   "outputs": [],
   "source": [
    "s.step"
   ]
  },
  {
   "cell_type": "code",
   "execution_count": null,
   "metadata": {},
   "outputs": [],
   "source": [
    "np.cov([4,5],[4,6])"
   ]
  },
  {
   "cell_type": "code",
   "execution_count": null,
   "metadata": {},
   "outputs": [],
   "source": []
  },
  {
   "cell_type": "code",
   "execution_count": null,
   "metadata": {},
   "outputs": [],
   "source": [
    "smooth_wnd = skip\n",
    "\n",
    "%matplotlib qt\n",
    "ax  = plt.gca()\n",
    "\n",
    "ax.plot(times,instampl)\n",
    "box = np.ones(smooth_wnd)/smooth_wnd\n",
    "instampl_mav = np.convolve(instampl, box,mode='same')\n",
    "\n",
    "ax.plot(times,instampl_mav)\n",
    "ax.set_xlim(0,3)"
   ]
  },
  {
   "cell_type": "code",
   "execution_count": null,
   "metadata": {},
   "outputs": [],
   "source": [
    "import scipy\n",
    "help(scipy.linalg.norm)"
   ]
  },
  {
   "cell_type": "code",
   "execution_count": null,
   "metadata": {},
   "outputs": [],
   "source": [
    "Xfull.shape"
   ]
  },
  {
   "cell_type": "code",
   "execution_count": null,
   "metadata": {},
   "outputs": [],
   "source": [
    "cors[0].shape"
   ]
  },
  {
   "cell_type": "code",
   "execution_count": null,
   "metadata": {},
   "outputs": [],
   "source": [
    "csd.shape"
   ]
  },
  {
   "cell_type": "code",
   "execution_count": null,
   "metadata": {},
   "outputs": [],
   "source": [
    "Xfull.shape"
   ]
  },
  {
   "cell_type": "code",
   "execution_count": null,
   "metadata": {},
   "outputs": [],
   "source": [
    "Xtimes_full[::skip].shape"
   ]
  },
  {
   "cell_type": "code",
   "execution_count": null,
   "metadata": {},
   "outputs": [],
   "source": [
    "raw_srconly.times.shape[0] "
   ]
  },
  {
   "cell_type": "code",
   "execution_count": null,
   "metadata": {},
   "outputs": [],
   "source": [
    "act_"
   ]
  },
  {
   "cell_type": "code",
   "execution_count": null,
   "metadata": {},
   "outputs": [],
   "source": [
    "sfreq_highres//sfreq"
   ]
  },
  {
   "cell_type": "code",
   "execution_count": null,
   "metadata": {},
   "outputs": [],
   "source": [
    "mob.shape"
   ]
  },
  {
   "cell_type": "code",
   "execution_count": null,
   "metadata": {},
   "outputs": [],
   "source": [
    "feature_names_all"
   ]
  },
  {
   "cell_type": "code",
   "execution_count": null,
   "metadata": {},
   "outputs": [],
   "source": [
    "fname_feat_full"
   ]
  },
  {
   "cell_type": "code",
   "execution_count": null,
   "metadata": {},
   "outputs": [],
   "source": [
    "act.shape"
   ]
  },
  {
   "cell_type": "code",
   "execution_count": null,
   "metadata": {},
   "outputs": [],
   "source": [
    "skip"
   ]
  },
  {
   "cell_type": "code",
   "execution_count": null,
   "metadata": {},
   "outputs": [],
   "source": [
    "feature_names_all"
   ]
  },
  {
   "cell_type": "code",
   "execution_count": null,
   "metadata": {},
   "outputs": [],
   "source": [
    "uu = np.arange(3)\n",
    "np.vstack([uu,uu])"
   ]
  },
  {
   "cell_type": "code",
   "execution_count": null,
   "metadata": {},
   "outputs": [],
   "source": [
    "csdord.shape"
   ]
  },
  {
   "cell_type": "code",
   "execution_count": null,
   "metadata": {},
   "outputs": [],
   "source": [
    "csdord"
   ]
  },
  {
   "cell_type": "code",
   "execution_count": null,
   "metadata": {},
   "outputs": [],
   "source": [
    "csd.shape"
   ]
  },
  {
   "cell_type": "code",
   "execution_count": null,
   "metadata": {},
   "outputs": [],
   "source": [
    "csd_LFP.shape"
   ]
  },
  {
   "cell_type": "code",
   "execution_count": null,
   "metadata": {},
   "outputs": [],
   "source": [
    "freqs"
   ]
  },
  {
   "cell_type": "code",
   "execution_count": null,
   "metadata": {},
   "outputs": [],
   "source": [
    "freqs_inc_HFO"
   ]
  },
  {
   "cell_type": "code",
   "execution_count": null,
   "metadata": {},
   "outputs": [],
   "source": [
    "for dd in Xfull:\n",
    "    print(dd.shape)"
   ]
  },
  {
   "cell_type": "code",
   "execution_count": null,
   "metadata": {},
   "outputs": [],
   "source": [
    "fband_names_crude_inc_HFO"
   ]
  },
  {
   "cell_type": "code",
   "execution_count": null,
   "metadata": {},
   "outputs": [],
   "source": [
    "csdord1.shape"
   ]
  },
  {
   "cell_type": "code",
   "execution_count": null,
   "metadata": {},
   "outputs": [],
   "source": [
    "csdord.shape"
   ]
  },
  {
   "cell_type": "code",
   "execution_count": null,
   "metadata": {},
   "outputs": [],
   "source": [
    "# csdord_strs = []\n",
    "# for bandi in range( csdord_bandwise.shape[1] ):\n",
    "#     for i in range(csdord.shape[1]):\n",
    "#         k1,k2 = csdord[:,i]\n",
    "#         k1 = int(k1); k2=int(k2)\n",
    "#         s = '{}: {},{}'.format( fband_names[bandi], subfeature_order[k1] , subfeature_order[k2] )\n",
    "#         csdord_strs += [s]\n"
   ]
  },
  {
   "cell_type": "code",
   "execution_count": null,
   "metadata": {},
   "outputs": [],
   "source": [
    "csdord_cur[:,i]"
   ]
  },
  {
   "cell_type": "code",
   "execution_count": null,
   "metadata": {},
   "outputs": [],
   "source": [
    "csdord_bandwise.shape"
   ]
  },
  {
   "cell_type": "code",
   "execution_count": null,
   "metadata": {},
   "outputs": [],
   "source": [
    "csdord_bandwise_LFP.shape"
   ]
  },
  {
   "cell_type": "code",
   "execution_count": null,
   "metadata": {},
   "outputs": [],
   "source": [
    "bpow_abscsd.shape"
   ]
  },
  {
   "cell_type": "code",
   "execution_count": null,
   "metadata": {},
   "outputs": [],
   "source": [
    "bpow_abscsd_LFP.shape"
   ]
  },
  {
   "cell_type": "code",
   "execution_count": null,
   "metadata": {},
   "outputs": [],
   "source": [
    "ntimebins =  bpow_abscsd.shape[-1]"
   ]
  },
  {
   "cell_type": "code",
   "execution_count": null,
   "metadata": {},
   "outputs": [],
   "source": [
    "tmp1 = bpow_abscsd.reshape( bpow_abscsd.size//ntimebins , ntimebins )\n",
    "tmp2 = bpow_abscsd_LFP.reshape( bpow_abscsd_LFP.size//ntimebins , ntimebins )\n",
    "tmp = np.vstack( [tmp1, tmp2])"
   ]
  },
  {
   "cell_type": "code",
   "execution_count": null,
   "metadata": {},
   "outputs": [],
   "source": [
    "bpow_abscsd.shape"
   ]
  },
  {
   "cell_type": "code",
   "execution_count": null,
   "metadata": {},
   "outputs": [],
   "source": [
    "tmp1.shape"
   ]
  },
  {
   "cell_type": "code",
   "execution_count": null,
   "metadata": {},
   "outputs": [],
   "source": [
    "csdord_bandwise.shape"
   ]
  },
  {
   "cell_type": "code",
   "execution_count": null,
   "metadata": {},
   "outputs": [],
   "source": [
    "csd.shape"
   ]
  },
  {
   "cell_type": "code",
   "execution_count": null,
   "metadata": {},
   "outputs": [],
   "source": [
    "csd_LFP.shape"
   ]
  },
  {
   "cell_type": "code",
   "execution_count": null,
   "metadata": {},
   "outputs": [],
   "source": [
    "csdord_bandwise.shape"
   ]
  },
  {
   "cell_type": "code",
   "execution_count": null,
   "metadata": {},
   "outputs": [],
   "source": [
    "csdord_bandwise_LFP.shape"
   ]
  },
  {
   "cell_type": "code",
   "execution_count": null,
   "metadata": {},
   "outputs": [],
   "source": [
    "#tmp_ord\n",
    "tmp_csdord1 = csdord_bandwise.reshape( (tmp1.shape[0], 3) )\n",
    "tmp_csdord2 = csdord_bandwise_LFP.reshape( (tmp2.shape[0], 3) )\n",
    "tmp_csdord = np.vstack( [tmp_csdord1, tmp_csdord2])\n"
   ]
  },
  {
   "cell_type": "code",
   "execution_count": null,
   "metadata": {},
   "outputs": [],
   "source": [
    "tmp_csdord.shape"
   ]
  },
  {
   "cell_type": "code",
   "execution_count": null,
   "metadata": {},
   "outputs": [],
   "source": [
    "csdord_bandwise_LFP.shape"
   ]
  },
  {
   "cell_type": "code",
   "execution_count": null,
   "metadata": {},
   "outputs": [],
   "source": [
    "tmp.shape"
   ]
  },
  {
   "cell_type": "code",
   "execution_count": null,
   "metadata": {},
   "outputs": [],
   "source": [
    "tmp2.shape"
   ]
  },
  {
   "cell_type": "code",
   "execution_count": null,
   "metadata": {},
   "outputs": [],
   "source": [
    "fband_names"
   ]
  },
  {
   "cell_type": "code",
   "execution_count": null,
   "metadata": {},
   "outputs": [],
   "source": [
    "#%debug\n",
    "#exec( open('run_genfeats.py').read(), globals() )"
   ]
  },
  {
   "cell_type": "code",
   "execution_count": null,
   "metadata": {},
   "outputs": [],
   "source": [
    "#%debug\n",
    "exec( open('run_PCA.py').read(), globals() )"
   ]
  },
  {
   "cell_type": "code",
   "execution_count": null,
   "metadata": {},
   "outputs": [],
   "source": [
    "Xtimes_almost[-1] + nedgeBins//sfreq"
   ]
  },
  {
   "cell_type": "code",
   "execution_count": null,
   "metadata": {},
   "outputs": [],
   "source": [
    "#%debug\n",
    "exec( open('run_tSNE.py').read(), globals() )"
   ]
  },
  {
   "cell_type": "code",
   "execution_count": null,
   "metadata": {},
   "outputs": [],
   "source": [
    "\n",
    "skip_feat"
   ]
  },
  {
   "cell_type": "code",
   "execution_count": null,
   "metadata": {},
   "outputs": [],
   "source": [
    "subskip"
   ]
  },
  {
   "cell_type": "code",
   "execution_count": null,
   "metadata": {},
   "outputs": [],
   "source": [
    "pca[()]"
   ]
  },
  {
   "cell_type": "code",
   "execution_count": null,
   "metadata": {},
   "outputs": [],
   "source": [
    "sl"
   ]
  },
  {
   "cell_type": "code",
   "execution_count": null,
   "metadata": {},
   "outputs": [],
   "source": [
    "max_freq"
   ]
  },
  {
   "cell_type": "code",
   "execution_count": null,
   "metadata": {},
   "outputs": [],
   "source": [
    "skip"
   ]
  },
  {
   "cell_type": "code",
   "execution_count": null,
   "metadata": {},
   "outputs": [],
   "source": [
    "print(fname_tsne_full)\n",
    "print(fname_feat_full)"
   ]
  },
  {
   "cell_type": "code",
   "execution_count": null,
   "metadata": {},
   "outputs": [],
   "source": [
    "skip = r['skip']\n",
    "sfreq = r['sfreq']\n",
    "windowsz = r['windowsz']\n",
    "nedgeBins = r['nedgeBins']\n"
   ]
  },
  {
   "cell_type": "code",
   "execution_count": null,
   "metadata": {},
   "outputs": [],
   "source": [
    "a = '{}_tsne_{}chs_skip{}_wsz{}_{},{},{}.npz'.format(rawname_,n_channels, skip, windowsz, min_freq,max_freq,freq_step)\n",
    "fname_tsne_full = os.path.join( data_dir,a)\n",
    "a = '{}_feats_{}chs_skip{}_wsz{}_{},{},{}.npz'.\\\n",
    "    format(rawname_,n_channels, skip, windowsz, min_freq,max_freq,freq_step)\n",
    "fname_feat_full = os.path.join( data_dir,a)\n"
   ]
  },
  {
   "cell_type": "code",
   "execution_count": null,
   "metadata": {},
   "outputs": [],
   "source": [
    "np.savez(fname_feat_full,Xtimes=Xtimes,X=X,rawname_=rawname_,skip=skip,\n",
    "         feature_names_all = feature_names_all, sfreq=sfreq, windowsz=windowsz, nedgeBins=nedgeBins)\n"
   ]
  },
  {
   "cell_type": "code",
   "execution_count": null,
   "metadata": {},
   "outputs": [],
   "source": [
    "np.savez(fname_tsne_full, tSNE_result=tSNE_result, colors=colors,\n",
    "         markers=markers, legend_elements=legend_elements)\n"
   ]
  },
  {
   "cell_type": "code",
   "execution_count": null,
   "metadata": {},
   "outputs": [],
   "source": [
    "tremcolor = 'r'\n",
    "notremcolor = 'g'\n",
    "movecolor = 'b'  #c,y\n",
    "holdcolor = 'b'  #c,y\n",
    "neutcolor = 'grey'\n",
    "\n",
    "color_per_int_type = { 'trem':tremcolor, 'notrem':notremcolor, 'neut':neutcolor,\n",
    "                      'move':movecolor, 'hold':holdcolor }\n",
    "\n",
    "\n",
    "lgend_elements = utsne.prepareLegendElements(mrk,mrknames,color_per_int_type, task )\n"
   ]
  },
  {
   "cell_type": "code",
   "execution_count": null,
   "metadata": {},
   "outputs": [],
   "source": [
    "lfp_fname_full = os.path.join(data_dir, '{}_LFP_1kHz.fif'.format(rawname_) )\n",
    "raw_lfp_highres = mne.io.read_raw_fif(lfp_fname_full)"
   ]
  },
  {
   "cell_type": "code",
   "execution_count": null,
   "metadata": {},
   "outputs": [],
   "source": [
    "lfp_highres.ch_names"
   ]
  },
  {
   "cell_type": "code",
   "execution_count": null,
   "metadata": {},
   "outputs": [],
   "source": [
    "dat_lfp_highres = raw_lfp_highres.get_data()"
   ]
  },
  {
   "cell_type": "code",
   "execution_count": null,
   "metadata": {},
   "outputs": [],
   "source": [
    "dats_lfp_highres = []\n",
    "subfeature_order_lfp_highres = []\n",
    "for side_hand in hand_sides:\n",
    "    sd = hand_sides_all[1-hand_sides.index(side_hand) ]  #\n",
    "    curraw = raws_lfp_highres_perside[sd]\n",
    "    curdat  = curraw.get_data()\n",
    "    chnames_added = curraw.ch_names\n",
    "    subfeature_order_lfp_highres += chnames_added\n",
    "    dats_lfp_highres += [ curdat]\n",
    "\n",
    "dat_lfp_highres = np.vstack(dats_lfp_highres)\n"
   ]
  },
  {
   "cell_type": "code",
   "execution_count": null,
   "metadata": {},
   "outputs": [],
   "source": []
  },
  {
   "cell_type": "code",
   "execution_count": null,
   "metadata": {},
   "outputs": [],
   "source": [
    "# scale channel data separately\n",
    "dat_lfp_highres_scaled = np.zeros(dat_lfp_highres.shape)\n",
    "for i in range( dat_lfp_highres.shape[0] ):\n",
    "    inp = dat_lfp_highres[i][:,None]\n",
    "    scaler = RobustScaler(quantile_range=(percentileOffset,100-percentileOffset), with_centering=1)\n",
    "    scaler.fit(inp)\n",
    "    outd = scaler.transform(inp)\n",
    "    dat_lfp_highres_scaled[i,:] = outd[:,0]\n"
   ]
  },
  {
   "cell_type": "code",
   "execution_count": null,
   "metadata": {},
   "outputs": [],
   "source": [
    "d,n = utsne.selFeatsRegex(dat_scaled, subfeature_order, ['msrc.*'])"
   ]
  },
  {
   "cell_type": "markdown",
   "metadata": {},
   "source": [
    "# Band pow defintions compare"
   ]
  },
  {
   "cell_type": "code",
   "execution_count": null,
   "metadata": {},
   "outputs": [],
   "source": []
  },
  {
   "cell_type": "code",
   "execution_count": null,
   "metadata": {},
   "outputs": [],
   "source": []
  },
  {
   "cell_type": "code",
   "execution_count": null,
   "metadata": {},
   "outputs": [],
   "source": []
  },
  {
   "cell_type": "code",
   "execution_count": null,
   "metadata": {},
   "outputs": [],
   "source": []
  },
  {
   "cell_type": "markdown",
   "metadata": {},
   "source": [
    "# Coordinates "
   ]
  },
  {
   "cell_type": "code",
   "execution_count": null,
   "metadata": {},
   "outputs": [],
   "source": [
    "with open(os.path.join('.','coord_labels.json') ) as jf:\n",
    "    coord_labels = json.load(jf)\n"
   ]
  },
  {
   "cell_type": "code",
   "execution_count": null,
   "metadata": {},
   "outputs": [],
   "source": [
    "coord_labels"
   ]
  },
  {
   "cell_type": "code",
   "execution_count": null,
   "metadata": {},
   "outputs": [],
   "source": [
    "with open(os.path.join('.','coordsJan.json') ) as jf:\n",
    "    coord_labels = json.load(jf)\n"
   ]
  },
  {
   "cell_type": "code",
   "execution_count": null,
   "metadata": {},
   "outputs": [],
   "source": [
    "import scipy.io as sio\n",
    "m = sio.loadmat('coordsJan.mat')"
   ]
  },
  {
   "cell_type": "code",
   "execution_count": null,
   "metadata": {},
   "outputs": [],
   "source": [
    "m['coords']*10"
   ]
  },
  {
   "cell_type": "code",
   "execution_count": null,
   "metadata": {},
   "outputs": [],
   "source": [
    "ss = utsne.selFeatsRegex(None,feature_names_all,['bpcorr.*LFP.*,'])[1]"
   ]
  },
  {
   "cell_type": "code",
   "execution_count": null,
   "metadata": {},
   "outputs": [],
   "source": [
    "bandPairs"
   ]
  },
  {
   "cell_type": "code",
   "execution_count": null,
   "metadata": {},
   "outputs": [],
   "source": [
    "ss"
   ]
  },
  {
   "cell_type": "code",
   "execution_count": null,
   "metadata": {},
   "outputs": [],
   "source": [
    "# 0,1 -- M1 with strongest beta coh with LFP\n",
    "# 2-3 primary motor(M1),  cortico-muscular coh\n",
    "# 4-5 in premotor cortex(PMC),  cortico-muscular coh\n",
    "# 6-7 in posterior parietal cortex(PPC), cortico-muscular coh"
   ]
  },
  {
   "cell_type": "code",
   "execution_count": null,
   "metadata": {},
   "outputs": [],
   "source": [
    "# 2013: The spatial maxima of STN-cortical coherence at rest have been stud-\n",
    "# ied previously in a subset of the subjects included here (Hirschmann\n",
    "# et al., 2011). In addition, resting state coherence in PD has been investi-\n",
    "# gated in an independent study (Litvak et al., 2011). Both studies reported\n",
    "# strong beta coherence between STN and sensorimotor areas, including\n",
    "# primary motor cortex (M1). Alpha coherence was found predominantly\n",
    "# with areas in the temporal lobe, in particular with superior temporal\n",
    "# gyrus (STG). Accordingly, we chose M1 and STG as ROIs. The MNI coor-\n",
    "# dinates were ±33, -22, 57 for M1 and ±51, -20, 5 for STG (Hirschmann\n",
    "# et al., 2011). Cortico-muscular coherence was measured at the same"
   ]
  },
  {
   "cell_type": "code",
   "execution_count": null,
   "metadata": {},
   "outputs": [],
   "source": [
    "#2011 p 1163:    STG: ±51, −20, 5; PreCG: ±33, −22, 57)\n",
    "# Source level analysis revealed significant changes in cortico-mus-\n",
    "# cular but not in subthalamic nucleus-cortex coherence. One cluster\n",
    "# was found (P = 0.02; Fig. 4), which covered several motor and\n",
    "# sensory areas contralateral to tremor. By visual inspection, we\n",
    "# identified three local maxima that appeared to be distinct sources.\n",
    "# They were located in the primary motor cortex (MNI coordinates:\n",
    "# \u0006 60, 15, 50), premotor cortex (MNI coordinates: \u0006 30, 10, 70)\n",
    "# and posterior parietal cortex (MNI coordinates: \u0006 20, 75, 50)"
   ]
  },
  {
   "cell_type": "code",
   "execution_count": null,
   "metadata": {},
   "outputs": [],
   "source": [
    "cols = [colors]\n",
    "\n",
    "colind = 0\n",
    "nr = len(seeds)\n",
    "nc = len(perplex_values)\n",
    "ww = 8; hh=8\n",
    "fig,axs = plt.subplots(ncols =nc, nrows=nr, figsize = (nc*ww, nr*hh))\n",
    "if not isinstance(axs,np.ndarray):\n",
    "    axs = np.array([[axs]] )\n",
    "# for pi,pv in enumerate(perplex_values):\n",
    "#     for si,sv in enumerate(seeds):\n",
    "for tpl in r:\n",
    "    pi,si,X_embedded, seed, perplex_cur, lrate = tpl\n",
    "    ax = axs[si,pi]\n",
    "    #X_embedded = res[si][pi]\n",
    "    #ax.scatter(X_embedded[:,0], X_embedded[:,1], c = cols[colind], s=5)\n",
    "\n",
    "    utsne.plotMultiMarker(ax,X_embedded[:,0], X_embedded[:,1], c = cols[colind], s=8,\n",
    "                          m=markers)\n",
    "    ax.set_title('perplexity = {};  lrate = {}; seed = {}'.format(perplex_cur, lrate, seed))\n",
    "\n",
    "axs[0,0].legend(handles=legend_elements)\n",
    "ext = 'png'\n",
    "figname = '{}_tSNE_inpdim{}_PCAdim{}_Npts{}_hside{}_trem_minFreq={}_lrate{}.{}'.\\\n",
    "    format(rawname_,X.shape[-1], pcapts.shape[-1], X.shape[0], mts_letter, min_freq, lrate,ext)\n",
    "plt.suptitle(figname)\n",
    "plt.savefig(figname, dpi=200)\n"
   ]
  },
  {
   "cell_type": "code",
   "execution_count": null,
   "metadata": {},
   "outputs": [],
   "source": [
    "# pandas first non-Nan is window backwards\n",
    "# cwt first windowsz_bins are contaminated with edge effects, so first clean also backwards\n",
    "# so when I say tremor is between bin0 and bin1, it means  cwt and pandas with indices \n",
    "# bin0:bin0+windowsz_bins contain previous stuff"
   ]
  },
  {
   "cell_type": "code",
   "execution_count": null,
   "metadata": {},
   "outputs": [],
   "source": [
    "# mne uses mode = same\n",
    "np.convolve([1,-5],[1,1,1,1], mode='same')"
   ]
  },
  {
   "cell_type": "code",
   "execution_count": null,
   "metadata": {},
   "outputs": [],
   "source": [
    "#there is parameter decim of tfr_morlet which is the same as my skip param"
   ]
  },
  {
   "cell_type": "markdown",
   "metadata": {},
   "source": [
    "# Replot TSNE single"
   ]
  },
  {
   "cell_type": "code",
   "execution_count": null,
   "metadata": {},
   "outputs": [],
   "source": [
    "anns[0]"
   ]
  },
  {
   "cell_type": "code",
   "execution_count": null,
   "metadata": {},
   "outputs": [],
   "source": [
    "#windowsz = 256"
   ]
  },
  {
   "cell_type": "code",
   "execution_count": null,
   "metadata": {},
   "outputs": [],
   "source": [
    "windowsz/sfreq"
   ]
  },
  {
   "cell_type": "code",
   "execution_count": null,
   "metadata": {},
   "outputs": [],
   "source": [
    "annot_colors = { 'trem_{}'.format(hsfc): tremcolor  }\n",
    "annot_colors[ 'notrem_{}'.format(hsfc) ] = nontremcolor\n",
    "annot_colors[ '{}_{}'.format(task, hsfc) ] = mvtcolor\n",
    "\n",
    "colors =  np.array(  [neutcolor] * len(Xtimes) )\n",
    "\n",
    "markers = np.array( ['o'] * len(Xtimes) )  # default\n",
    "mrk = ['<','>','o','^','v']\n",
    "\n",
    "for an in anns:\n",
    "    for descr in annot_colors:\n",
    "        if an['description'] == descr:\n",
    "            col = annot_colors[descr]\n",
    "\n",
    "            start = an['onset']\n",
    "            end = start + an['duration']\n",
    "\n",
    "            timesBnds, indsBnd, sliceNames = utsne.getIntervalSurround( start,end, extend,\n",
    "                                                                 times=Xtimes)\n",
    "            #print('indBnds in color prep ',indsBnd)\n",
    "            for ii in range(len(indsBnd)-1 ):\n",
    "                #we don't want to set colors for starting / ending\n",
    "                if start <= nedgeBins/sfreq and ii in [0,1]:\n",
    "                    continue\n",
    "                if times[-1] - end <= nedgeBins/sfreq and ii in [3,4]:\n",
    "                    continue\n",
    "                #inds2 = np.where((Xtimes >= timesBnds[ii])* (Xtimes <= timesBnds[ii+1])  )[0]\n",
    "                #\n",
    "                \n",
    "                # only after window is completely contained in the interval we count it as such\n",
    "                bnd0 = min(len(Xtimes)-1, indsBnd[ii]   + 256//skip -1   )\n",
    "                bnd1 = min(len(Xtimes)-1, indsBnd[ii+1] + 256//skip -1 )\n",
    "                inds2 = slice( bnd0, bnd1 )\n",
    "                markers[inds2] = mrk[ii]\n",
    "\n",
    "                colors[inds2] = [col]\n"
   ]
  },
  {
   "cell_type": "code",
   "execution_count": null,
   "metadata": {},
   "outputs": [],
   "source": [
    "plt.figure(figsize=(ww,hh))\n",
    "for tpl in tSNE_result:\n",
    "    pi,si,X_embedded, seed, perplex_cur, lrate = tpl\n",
    "    if not(si == 1 and pi == 2):\n",
    "        continue\n",
    "    ax = plt.gca()\n",
    "    #X_embedded = res[si][pi]\n",
    "    #ax.scatter(X_embedded[:,0], X_embedded[:,1], c = cols[colind], s=5)\n",
    "\n",
    "    utsne.plotMultiMarker(ax,X_embedded[:,0], X_embedded[:,1], c = cols[colind], s=20,\n",
    "                          m=markers, alpha=0.7)\n",
    "    ax.set_title('perplexity = {};  lrate = {}; seed = {}'.format(perplex_cur, lrate, seed))\n",
    "    \n",
    "ext = 'pdf'\n",
    "figname = '{}_tSNE_inpdim{}_PCAdim{}_Npts{}_hside{}_trem_minFreq={}_lrate{}.{}'.\\\n",
    "    format(rawname_,X.shape[-1], pcapts.shape[-1], X.shape[0], mts_letter, min_freq, lrate,ext)\n",
    "\n",
    "#plt.savefig('_'+figname, dpi=400)\n",
    "#plt.savefig('_'+figname, dpi=400)"
   ]
  },
  {
   "cell_type": "code",
   "execution_count": null,
   "metadata": {},
   "outputs": [],
   "source": []
  },
  {
   "cell_type": "code",
   "execution_count": null,
   "metadata": {},
   "outputs": [],
   "source": [
    "a = '{}_feats_{}chs_skip={}_{},{},{}.npz'.format(rawname_,n_channels, skip,\n",
    "                                                 min_freq,max_freq,freq_step)\n",
    "fname_feat_full = os.path.join( data_dir,a)\n",
    "np.savez(fname_feat_full,Xtimes=Xtimes,X=X, feature_names_all=feature_names_all, extdat=extdat)\n"
   ]
  },
  {
   "cell_type": "code",
   "execution_count": null,
   "metadata": {},
   "outputs": [],
   "source": []
  },
  {
   "cell_type": "code",
   "execution_count": null,
   "metadata": {},
   "outputs": [],
   "source": [
    "utsne.selFeatsRegex(dat_scaled,)"
   ]
  },
  {
   "cell_type": "code",
   "execution_count": null,
   "metadata": {},
   "outputs": [],
   "source": []
  },
  {
   "cell_type": "code",
   "execution_count": null,
   "metadata": {},
   "outputs": [],
   "source": []
  },
  {
   "cell_type": "code",
   "execution_count": null,
   "metadata": {},
   "outputs": [],
   "source": [
    "fname_feat_full"
   ]
  },
  {
   "cell_type": "code",
   "execution_count": null,
   "metadata": {},
   "outputs": [],
   "source": [
    "np.savez(fname_tsne_full, tSNE_result=tSNE_result, markers=markers, colors=colors, Xtimes=Xtimes) "
   ]
  },
  {
   "cell_type": "code",
   "execution_count": null,
   "metadata": {},
   "outputs": [],
   "source": [
    "np.argmax(np.arange(3))"
   ]
  },
  {
   "cell_type": "code",
   "execution_count": null,
   "metadata": {},
   "outputs": [],
   "source": [
    "a,b = 278.083253, 282.20719666197186\n",
    "\n",
    "utsne.getIntervalSurround(a,b,3, times=Xtimes,verbose=1)"
   ]
  },
  {
   "cell_type": "code",
   "execution_count": null,
   "metadata": {},
   "outputs": [],
   "source": []
  },
  {
   "cell_type": "code",
   "execution_count": null,
   "metadata": {},
   "outputs": [],
   "source": [
    "Xtimes.shape"
   ]
  },
  {
   "cell_type": "code",
   "execution_count": null,
   "metadata": {},
   "outputs": [],
   "source": [
    "%matplotlib qt\n",
    "nshow = 10\n",
    "utsne.plotBasicStatsMultiCh(Xfull.T[:nshow], feature_names_all[:nshow], printMeans = 0 ,shift_std_mult=10)\n",
    "plt.tight_layout()"
   ]
  },
  {
   "cell_type": "code",
   "execution_count": null,
   "metadata": {},
   "outputs": [],
   "source": [
    "%matplotlib qt\n",
    "utsne.plotBasicStatsMultiCh(X.T[:nshow], feature_names_all[:nshow], printMeans = 0 ,shift_std_mult=10)\n",
    "plt.tight_layout()"
   ]
  },
  {
   "cell_type": "code",
   "execution_count": null,
   "metadata": {},
   "outputs": [],
   "source": []
  },
  {
   "cell_type": "code",
   "execution_count": null,
   "metadata": {},
   "outputs": [],
   "source": [
    "bandname = 'tremor'\n",
    "bandname = ''\n",
    "templ = r'con_{}.*:\\s(.*),\\1'.format(bandname)"
   ]
  },
  {
   "cell_type": "code",
   "execution_count": null,
   "metadata": {},
   "outputs": [],
   "source": [
    "%matplotlib inline\n",
    "datsel,namesel = utsne.selFeatsRegex(X.T, feature_names_all, templ)\n",
    "print(namesel)"
   ]
  },
  {
   "cell_type": "code",
   "execution_count": null,
   "metadata": {},
   "outputs": [],
   "source": [
    "len(namesel)"
   ]
  },
  {
   "cell_type": "markdown",
   "metadata": {},
   "source": [
    "# Power to power correlation"
   ]
  },
  {
   "cell_type": "code",
   "execution_count": null,
   "metadata": {},
   "outputs": [],
   "source": []
  },
  {
   "cell_type": "code",
   "execution_count": null,
   "metadata": {},
   "outputs": [],
   "source": [
    "gc.collect()"
   ]
  },
  {
   "cell_type": "code",
   "execution_count": null,
   "metadata": {},
   "outputs": [],
   "source": [
    "#cor_names"
   ]
  },
  {
   "cell_type": "code",
   "execution_count": null,
   "metadata": {},
   "outputs": [],
   "source": [
    "help(pearsonr)"
   ]
  },
  {
   "cell_type": "code",
   "execution_count": null,
   "metadata": {},
   "outputs": [],
   "source": [
    "len(cors[0])"
   ]
  },
  {
   "cell_type": "code",
   "execution_count": null,
   "metadata": {},
   "outputs": [],
   "source": [
    "plt.figure(figsize=(18,30))\n",
    "\n",
    "ax = plt.gca()\n",
    "yshift = 0\n",
    "yshifts = []\n",
    "for i in range(len(cors)):\n",
    "#for i in range(6):\n",
    "    yshifts += [yshift]\n",
    "    ax.plot(Xtimes, yshift + cors[i], label=cor_names)\n",
    "    yshift += np.std( cors[i] )*4\n",
    "    \n",
    "ax.set_yticks(yshifts)\n",
    "ax.set_yticklabels(cor_names)\n",
    "ax.plot(Xtimes, yshift + 1*extdat[1,nedgeBins:-nedgeBins:skip], label=cor_names)\n",
    "plt.tight_layout()\n",
    "plt.savefig('bandcorr.pdf')\n"
   ]
  },
  {
   "cell_type": "code",
   "execution_count": null,
   "metadata": {},
   "outputs": [],
   "source": [
    "extdat.shape"
   ]
  },
  {
   "cell_type": "code",
   "execution_count": null,
   "metadata": {},
   "outputs": [],
   "source": []
  },
  {
   "cell_type": "code",
   "execution_count": null,
   "metadata": {},
   "outputs": [],
   "source": [
    "plt.figure(figsize=(18,8))\n",
    "yshift = 0\n",
    "for i in [1,2]:\n",
    "    plt.plot(Xtimes, extdat[i,nedgeBins:-nedgeBins:skip], label=cor_names)\n",
    "    yshift += np.std( cors[i] )*4"
   ]
  },
  {
   "cell_type": "code",
   "execution_count": null,
   "metadata": {},
   "outputs": [],
   "source": [
    "len(cors)"
   ]
  },
  {
   "cell_type": "code",
   "execution_count": null,
   "metadata": {},
   "outputs": [],
   "source": [
    "len(Xtimes)"
   ]
  },
  {
   "cell_type": "code",
   "execution_count": null,
   "metadata": {},
   "outputs": [],
   "source": [
    "cors[0][1].shape"
   ]
  },
  {
   "cell_type": "code",
   "execution_count": null,
   "metadata": {},
   "outputs": [],
   "source": [
    "help(np.correlate)"
   ]
  },
  {
   "cell_type": "code",
   "execution_count": null,
   "metadata": {},
   "outputs": [],
   "source": [
    "dd = datsel[0]\n",
    "plt.hist(dd)\n",
    "plt.axvline(np.mean(dd), c='r')\n",
    "print(np.mean(dd), np.std(dd))"
   ]
  },
  {
   "cell_type": "code",
   "execution_count": null,
   "metadata": {},
   "outputs": [],
   "source": [
    "tremfreq_Jan"
   ]
  },
  {
   "cell_type": "code",
   "execution_count": null,
   "metadata": {},
   "outputs": [],
   "source": [
    "rawname_"
   ]
  },
  {
   "cell_type": "code",
   "execution_count": null,
   "metadata": {},
   "outputs": [],
   "source": [
    "templ = r'con_.*:\\s(.*),\\1'    # note that I use raw string otherwise \\1 is an escape char"
   ]
  },
  {
   "cell_type": "code",
   "execution_count": null,
   "metadata": {},
   "outputs": [],
   "source": [
    "bandname = 'tremor'\n",
    "templ = r'con_{}*:\\s(.*),\\1'.format(bandname)"
   ]
  },
  {
   "cell_type": "code",
   "execution_count": null,
   "metadata": {},
   "outputs": [],
   "source": [
    "datsel,namesel = selFeatsRegex(X.T, feature_names_all, templ)\n",
    "print(namesel)"
   ]
  },
  {
   "cell_type": "code",
   "execution_count": null,
   "metadata": {},
   "outputs": [],
   "source": [
    "%matplotlib inline\n",
    "datsel,namesel = selFeatsRegex(X.T, feature_names_all, 'con.*')\n",
    "print(namesel)\n",
    "dd = datsel[0]\n",
    "plt.hist(dd)\n",
    "plt.axvline(np.mean(dd), c='r')\n",
    "print(np.mean(dd), np.std(dd))"
   ]
  },
  {
   "cell_type": "code",
   "execution_count": null,
   "metadata": {},
   "outputs": [],
   "source": [
    "%matplotlib inline\n",
    "datsel,namesel = selFeatsRegex(X.T, feature_names_all, 'H_compl.*')\n",
    "print(namesel)\n",
    "dd = datsel[3]\n",
    "plt.hist(dd)\n",
    "plt.axvline(np.mean(dd), c='r')\n",
    "print(np.mean(dd), np.std(dd))"
   ]
  },
  {
   "cell_type": "code",
   "execution_count": null,
   "metadata": {},
   "outputs": [],
   "source": []
  },
  {
   "cell_type": "code",
   "execution_count": null,
   "metadata": {},
   "outputs": [],
   "source": [
    "datsel,namesel = selFeatsRegex(X.T, feature_names_all, 'H_act.*')\n",
    "utsne.plotBasicStatsMultiCh(datsel[:nshow], namesel[:nshow], printMeans = 0 ,shift_std_mult=10)\n",
    "plt.tight_layout()\n",
    "print(np.min(datsel,axis=1))"
   ]
  },
  {
   "cell_type": "code",
   "execution_count": null,
   "metadata": {},
   "outputs": [],
   "source": [
    "datsel,namesel = selFeatsRegex(X.T, feature_names_all, 'H_mob.*')\n",
    "utsne.plotBasicStatsMultiCh(datsel[:nshow], namesel[:nshow], printMeans = 0 ,shift_std_mult=10)\n",
    "plt.tight_layout()"
   ]
  },
  {
   "cell_type": "code",
   "execution_count": null,
   "metadata": {},
   "outputs": [],
   "source": [
    "a"
   ]
  },
  {
   "cell_type": "code",
   "execution_count": null,
   "metadata": {},
   "outputs": [],
   "source": [
    "utsne.selFeatsRegex(Xfull, feature_names_all)"
   ]
  },
  {
   "cell_type": "code",
   "execution_count": null,
   "metadata": {},
   "outputs": [],
   "source": [
    "feature_names_all[-1]"
   ]
  },
  {
   "cell_type": "code",
   "execution_count": null,
   "metadata": {},
   "outputs": [],
   "source": [
    "feature_names_all[0]"
   ]
  },
  {
   "cell_type": "code",
   "execution_count": null,
   "metadata": {},
   "outputs": [],
   "source": [
    "r = re.match(templ,feature_names_all[0])\n",
    "display(r)\n",
    "r[0]"
   ]
  },
  {
   "cell_type": "code",
   "execution_count": null,
   "metadata": {},
   "outputs": [],
   "source": [
    "r.groups()"
   ]
  },
  {
   "cell_type": "code",
   "execution_count": null,
   "metadata": {},
   "outputs": [],
   "source": []
  },
  {
   "cell_type": "code",
   "execution_count": null,
   "metadata": {},
   "outputs": [],
   "source": [
    "#def selectFeats(X)"
   ]
  },
  {
   "cell_type": "code",
   "execution_count": null,
   "metadata": {},
   "outputs": [],
   "source": [
    "task"
   ]
  },
  {
   "cell_type": "code",
   "execution_count": null,
   "metadata": {},
   "outputs": [],
   "source": [
    "ivalis"
   ]
  },
  {
   "cell_type": "code",
   "execution_count": null,
   "metadata": {},
   "outputs": [],
   "source": [
    "gen_subj_info[subj]['tremfreq']"
   ]
  },
  {
   "cell_type": "code",
   "execution_count": null,
   "metadata": {},
   "outputs": [],
   "source": [
    "tfrres"
   ]
  },
  {
   "cell_type": "code",
   "execution_count": null,
   "metadata": {},
   "outputs": [],
   "source": [
    "pcapts"
   ]
  },
  {
   "cell_type": "code",
   "execution_count": null,
   "metadata": {},
   "outputs": [],
   "source": [
    "colors"
   ]
  },
  {
   "cell_type": "code",
   "execution_count": null,
   "metadata": {},
   "outputs": [],
   "source": [
    "markers"
   ]
  },
  {
   "cell_type": "code",
   "execution_count": null,
   "metadata": {},
   "outputs": [],
   "source": [
    "%matplotlib qt\n",
    "nc = 4; nr = 1; ww = 5; hh = 4\n",
    "fig,axs = plt.subplots(nrows=nr, ncols=nc, figsize=(nc*ww,nr*hh))\n",
    "ii = 0\n",
    "while ii < nc:\n",
    "    utsne.plotMultiMarker(axs[ii], pcapts[:,0], pcapts[:,ii+1], c=colors, m = markers, alpha=0.5); ii+=1\n"
   ]
  },
  {
   "cell_type": "code",
   "execution_count": null,
   "metadata": {},
   "outputs": [],
   "source": [
    "int_names"
   ]
  },
  {
   "cell_type": "code",
   "execution_count": null,
   "metadata": {},
   "outputs": [],
   "source": [
    "have_TFR"
   ]
  },
  {
   "cell_type": "code",
   "execution_count": null,
   "metadata": {},
   "outputs": [],
   "source": [
    "ivalis"
   ]
  },
  {
   "cell_type": "code",
   "execution_count": null,
   "metadata": {},
   "outputs": [],
   "source": [
    "feature_names_all"
   ]
  },
  {
   "cell_type": "code",
   "execution_count": null,
   "metadata": {},
   "outputs": [],
   "source": [
    "have_TFR"
   ]
  },
  {
   "cell_type": "code",
   "execution_count": null,
   "metadata": {},
   "outputs": [],
   "source": [
    "np.ones(5)[slice(None)]"
   ]
  },
  {
   "cell_type": "code",
   "execution_count": null,
   "metadata": {},
   "outputs": [],
   "source": [
    "n_channels"
   ]
  },
  {
   "cell_type": "code",
   "execution_count": null,
   "metadata": {},
   "outputs": [],
   "source": [
    "tfrres.shape"
   ]
  },
  {
   "cell_type": "code",
   "execution_count": null,
   "metadata": {},
   "outputs": [],
   "source": [
    "timesBnds, indsBnd, sliceNames = utsne.getIntervalSurround( start,end, extend,\n",
    "                                                                 times=Xtimes)\n"
   ]
  },
  {
   "cell_type": "code",
   "execution_count": null,
   "metadata": {},
   "outputs": [],
   "source": [
    "bands"
   ]
  },
  {
   "cell_type": "code",
   "execution_count": null,
   "metadata": {},
   "outputs": [],
   "source": [
    "markers"
   ]
  },
  {
   "cell_type": "code",
   "execution_count": null,
   "metadata": {},
   "outputs": [],
   "source": [
    "timesBnds"
   ]
  },
  {
   "cell_type": "code",
   "execution_count": null,
   "metadata": {},
   "outputs": [],
   "source": [
    "indsBnd"
   ]
  },
  {
   "cell_type": "code",
   "execution_count": null,
   "metadata": {},
   "outputs": [],
   "source": [
    "657*2"
   ]
  },
  {
   "cell_type": "code",
   "execution_count": null,
   "metadata": {},
   "outputs": [],
   "source": [
    "len(feature_names_all)"
   ]
  },
  {
   "cell_type": "code",
   "execution_count": null,
   "metadata": {},
   "outputs": [],
   "source": [
    "n_channels"
   ]
  },
  {
   "cell_type": "code",
   "execution_count": null,
   "metadata": {},
   "outputs": [],
   "source": [
    "tfrres.shape"
   ]
  },
  {
   "cell_type": "code",
   "execution_count": null,
   "metadata": {},
   "outputs": [],
   "source": [
    "dat.shape"
   ]
  },
  {
   "cell_type": "code",
   "execution_count": null,
   "metadata": {},
   "outputs": [],
   "source": [
    "csd.shape"
   ]
  },
  {
   "cell_type": "code",
   "execution_count": null,
   "metadata": {},
   "outputs": [],
   "source": [
    "from mne.time_frequency import psd_array_multitaper as mnepsd\n",
    "psdres,freq = mnepsd(dat[0], sfreq, fmin=0, fmax=128)\n"
   ]
  },
  {
   "cell_type": "code",
   "execution_count": null,
   "metadata": {},
   "outputs": [],
   "source": [
    "psdres.shape"
   ]
  },
  {
   "cell_type": "code",
   "execution_count": null,
   "metadata": {},
   "outputs": [],
   "source": [
    "freq.shape"
   ]
  },
  {
   "cell_type": "code",
   "execution_count": null,
   "metadata": {},
   "outputs": [],
   "source": [
    "%matplotlib inline\n",
    "ax = plt.gca()\n",
    "ax.semilogy(freq,psdres)\n",
    "\n",
    "ax.semilogy(b,a)\n",
    "#ax.psd(dat[0],Fs=sfreq, c='r', alpha=0.5);"
   ]
  },
  {
   "cell_type": "code",
   "execution_count": null,
   "metadata": {},
   "outputs": [],
   "source": [
    "a"
   ]
  },
  {
   "cell_type": "code",
   "execution_count": null,
   "metadata": {},
   "outputs": [],
   "source": [
    "a,b = plt.psd(dat[0],Fs=sfreq);"
   ]
  },
  {
   "cell_type": "code",
   "execution_count": null,
   "metadata": {},
   "outputs": [],
   "source": [
    "len(freq)"
   ]
  },
  {
   "cell_type": "code",
   "execution_count": null,
   "metadata": {},
   "outputs": [],
   "source": [
    "%matplotlib inline\n",
    "if do_plot_raw_psd:\n",
    "    int_names = ['mvt_L', 'trem_L', 'no_tremor_L']\n",
    "    for int_name in int_names:\n",
    "        #nt_name = 'trem_L'\n",
    "        intervals = ivalis[int_name]\n",
    "        for iv in intervals:\n",
    "            start,end,_itp = iv\n",
    "            utsne.plotIntervalData(dat,subfeature_order,iv, raw=raw_lfponly,\n",
    "                                plot_types = ['psd'])\n",
    "            \n",
    "            break\n",
    "        break\n"
   ]
  },
  {
   "cell_type": "code",
   "execution_count": null,
   "metadata": {},
   "outputs": [],
   "source": [
    "nPCA_comp = 0.95\n",
    "\n",
    "pca = PCA(n_components=nPCA_comp)\n",
    "pca.fit(Xfull)\n",
    "\n",
    "pcapts = pca.transform(X)\n",
    "XX = pcapts\n",
    "\n",
    "print('total explained variance proportion {} with {} components'.\n",
    "      format(np.sum(pca.explained_variance_ratio_), pcapts.shape[1] ) )\n",
    "print(pca.explained_variance_ratio_[:10])\n",
    "\n",
    "##################  Plot PCA\n",
    "nc = 3; nr = 1; ww = 5; hh = 4\n",
    "fig,axs = plt.subplots(nrows=nr, ncols=nc, figsize=(nc*ww,nr*hh))\n",
    "ii = 0\n",
    "ax = axs[ii]; ax.scatter(pcapts[:,0], pcapts[:,ii+1], c=colors.tolist()); ii += 1\n",
    "ax = axs[ii]; ax.scatter(pcapts[:,0], pcapts[:,ii+1], c=colors.tolist()); ii += 1\n",
    "ax = axs[ii]; ax.scatter(pcapts[:,0], pcapts[:,ii+1], c=colors.tolist()); ii += 1\n",
    "\n",
    "#mrk = ['<','>','o','^','v']\n",
    "mrknames = ['_pres','_posts','','_pree','_poste']\n",
    "legend_elements = []\n",
    "for m,mn in zip(mrk,mrknames):\n",
    "    legel_trem = mpl.lines.Line2D([0], [0], marker=m, color='w', label='trem'+mn,\n",
    "                                markerfacecolor=tremcolor, markersize=8)\n",
    "    legel_notrem = mpl.lines.Line2D([0], [0], marker=m, color='w', label='notrem'+mn,\n",
    "                                markerfacecolor=nontremcolor, markersize=8)\n",
    "    legel_mvt = mpl.lines.Line2D([0], [0], marker=m, color='w', label='mvt'+mn,\n",
    "                                markerfacecolor=mvtcolor, markersize=8)\n",
    "\n",
    "    legend_elements += [legel_trem, legel_notrem, legel_mvt]\n",
    "\n",
    "plt.legend(handles=legend_elements)\n",
    "plt.suptitle('PCA')\n",
    "#plt.show()\n",
    "pdf.savefig()\n",
    "plt.close()\n",
    "\n",
    "\n",
    "# nr = 5\n",
    "# nc = 1\n",
    "# hh=2\n",
    "# ww = 14\n",
    "# fig,axs = plt.subplots(nrows=nr, ncols=nc, figsize=(ww*nc, hh*nr), sharex='col')\n",
    "# for i in range(nr):\n",
    "#     ax = axs[i]\n",
    "#     ax.plot( np.abs(pca.components_[i] ) )\n",
    "#     ax.set_title('(abs of) component {}, expl {:.2f} of ratio'.format(i, pca.explained_variance_ratio_[i]))\n",
    "\n",
    "#     ax.set_xticks(np.arange(pca.components_.shape[1]))\n",
    "#     ax.set_xticklabels(feature_names_all, rotation=90)\n",
    "#     ax.grid()\n",
    "\n",
    "# plt.tight_layout()\n",
    "# plt.suptitle('PCA first components info')\n",
    "# #plt.savefig('PCA_info.png')\n",
    "# pdf.savefig()\n",
    "# plt.close()\n"
   ]
  },
  {
   "cell_type": "code",
   "execution_count": null,
   "metadata": {},
   "outputs": [],
   "source": [
    "iv"
   ]
  },
  {
   "cell_type": "code",
   "execution_count": null,
   "metadata": {},
   "outputs": [],
   "source": [
    "pca.components_.shape"
   ]
  },
  {
   "cell_type": "code",
   "execution_count": null,
   "metadata": {},
   "outputs": [],
   "source": [
    "%matplotlib qt"
   ]
  },
  {
   "cell_type": "code",
   "execution_count": null,
   "metadata": {},
   "outputs": [],
   "source": [
    "pca.explained_variance_ratio_"
   ]
  },
  {
   "cell_type": "code",
   "execution_count": null,
   "metadata": {},
   "outputs": [],
   "source": [
    "nr = 4\n",
    "nc = 1\n",
    "hh=2\n",
    "ww = 14\n",
    "fig,axs = plt.subplots(nrows=nr, ncols=nc, figsize=(ww*nc, hh*nr), sharex='col')\n",
    "for i in range(nr):\n",
    "    ax = axs[i]\n",
    "    ax.plot( np.abs(pca.components_[i] ) )\n",
    "    ax.set_title('(abs of) component {}, expl {:.2f} of ratio'.format(i, pca.explained_variance_ratio_[i]))\n",
    "    \n",
    "    ax.set_xticks(np.arange(pca.components_.shape[1]))\n",
    "    ax.set_xticklabels(feature_names_all, rotation=90)\n",
    "    ax.grid()\n",
    "    \n",
    "plt.tight_layout()\n",
    "#plt.savefig('PCA_info.png')"
   ]
  },
  {
   "cell_type": "code",
   "execution_count": null,
   "metadata": {},
   "outputs": [],
   "source": [
    "import u"
   ]
  },
  {
   "cell_type": "code",
   "execution_count": null,
   "metadata": {},
   "outputs": [],
   "source": [
    "subfeature_order"
   ]
  },
  {
   "cell_type": "code",
   "execution_count": null,
   "metadata": {},
   "outputs": [],
   "source": [
    "pacres = {}"
   ]
  },
  {
   "cell_type": "code",
   "execution_count": null,
   "metadata": {},
   "outputs": [],
   "source": [
    "from tensorpac import Pac\n"
   ]
  },
  {
   "cell_type": "code",
   "execution_count": null,
   "metadata": {},
   "outputs": [],
   "source": [
    "times.shape"
   ]
  },
  {
   "cell_type": "code",
   "execution_count": null,
   "metadata": {},
   "outputs": [],
   "source": [
    "ivalis"
   ]
  },
  {
   "cell_type": "code",
   "execution_count": null,
   "metadata": {},
   "outputs": [],
   "source": []
  },
  {
   "cell_type": "code",
   "execution_count": null,
   "metadata": {},
   "outputs": [],
   "source": []
  },
  {
   "cell_type": "code",
   "execution_count": null,
   "metadata": {},
   "outputs": [],
   "source": [
    "int_types = ['trem_L', 'notrem_L', '{}_L'.format(task)]\n",
    "#ivi = 0\n",
    "#iti = 0\n",
    "chi_phase = 1\n",
    "chi_ampl = 5\n",
    "\n",
    "res = []\n",
    "for iti in range(len(int_types)):\n",
    "    int_type_cur = int_types[iti]\n",
    "    \n",
    "    for ivi,iv in enumerate(ivalis[int_type_cur]):\n",
    "        a,b,lbl = iv\n",
    "        ai,bi = raw_lfponly.time_as_index([a,b])\n",
    "\n",
    "        timebins = slice(ai,bi)\n",
    "        for pt in range(1,7):\n",
    "            p = Pac(idpac=(pt, 0, 0), f_pha=(3, 30, 1, 1), f_amp=(10, 100, 5, 5))\n",
    "            # Filter the data and extract PAC :\n",
    "            print('Starting PAC on ',iv)\n",
    "            xpac = p.filterfit(sfreq, x_pha = dat_scaled[chi_phase,timebins], \n",
    "                               x_amp = dat_scaled[chi_ampl,timebins], verbose=0)\n",
    "\n",
    "            #ps   += [p]\n",
    "            #xpacs += [xpac]\n",
    "            res +=  [(ivi,iv,p,xpac) ]\n",
    "            \n",
    "pacres[(chi_phase,chi_ampl)] = res"
   ]
  },
  {
   "cell_type": "code",
   "execution_count": null,
   "metadata": {},
   "outputs": [],
   "source": [
    "#%matplotlib qt"
   ]
  },
  {
   "cell_type": "code",
   "execution_count": null,
   "metadata": {},
   "outputs": [],
   "source": [
    "gc.collect()"
   ]
  },
  {
   "cell_type": "code",
   "execution_count": null,
   "metadata": {},
   "outputs": [],
   "source": [
    "pacres.keys()"
   ]
  },
  {
   "cell_type": "code",
   "execution_count": null,
   "metadata": {},
   "outputs": [],
   "source": [
    "mainLFPchan"
   ]
  },
  {
   "cell_type": "code",
   "execution_count": null,
   "metadata": {},
   "outputs": [],
   "source": [
    "%matplotlib inline\n",
    "\n",
    "l =len(xpacs)\n",
    "nr = len(res) // 6; nc = 6\n",
    "ww = 4; hh =3\n",
    "\n",
    "counters = [0]*6\n",
    "fig,axs = plt.subplots(nrows = nr, ncols=nc, figsize=(nc*ww, nr*hh))\n",
    "\n",
    "for ivi,iv,p,xpac in res:\n",
    "    a,b,lbl = iv\n",
    "    \n",
    "#     xpac = xpacs[i]\n",
    "#     p = ps[i]\n",
    "    pactypeind = p.idpac[0 ]-1\n",
    "    ax = axs[counters[pactypeind], pactypeind]\n",
    "    counters[pactypeind] += 1\n",
    "    plt.sca(ax)\n",
    "    # Plot your Phase-Amplitude Coupling :\n",
    "    p.comodulogram(xpac.mean(-1), title='Contour plot with 5 regions',\n",
    "                   cmap='Spectral_r', plotas='contour', ncontours=5)\n",
    "    ax.set_title( '{}_{}\\n{}'.format(lbl,ivi, p.method[:15]) )\n",
    "    \n",
    "plt.tight_layout()\n",
    "#plt.show()\n",
    "plt.savefig('{}_pac_{}->{}.pdf'.format(rawname_,subfeature_order[chi_phase],subfeature_order[chi_ampl] ))\n",
    "plt.close()"
   ]
  },
  {
   "cell_type": "code",
   "execution_count": null,
   "metadata": {},
   "outputs": [],
   "source": [
    "p.method"
   ]
  },
  {
   "cell_type": "code",
   "execution_count": null,
   "metadata": {},
   "outputs": [],
   "source": [
    "help(np.searchsorted)"
   ]
  },
  {
   "cell_type": "code",
   "execution_count": null,
   "metadata": {},
   "outputs": [],
   "source": [
    "help(np.quantile)"
   ]
  },
  {
   "cell_type": "code",
   "execution_count": null,
   "metadata": {},
   "outputs": [],
   "source": [
    "np.quantile(dat,0.25)"
   ]
  },
  {
   "cell_type": "code",
   "execution_count": null,
   "metadata": {},
   "outputs": [],
   "source": [
    "rectconv_emg_rightsize = rectconv_emg[:,nedgeBins:-nedgeBins]"
   ]
  },
  {
   "cell_type": "code",
   "execution_count": null,
   "metadata": {},
   "outputs": [],
   "source": [
    "int_type = 'trem_L'\n",
    "for ival in ivalis[int_type]:\n",
    "    #extdat = np.vstack( [Xfull.T, rectconv_emg[:,nedgeBins:-nedgeBins]] )\n",
    "    #extnames = feature_names_all + chnames_emg\n",
    "    utsne.plotEvolutionMultiCh(Xfull.T, Xtimes_full, feature_names_all, interval=ival, bnd_toshow='end',\n",
    "                     rawname=rawname_, prefix='full', dat_ext = rectconv_emg_rightsize, \n",
    "                               chan_names_ext=chnames_emg )\n"
   ]
  },
  {
   "cell_type": "code",
   "execution_count": null,
   "metadata": {},
   "outputs": [],
   "source": [
    "int_type = 'mvt_L'\n",
    "for ival in ivalis[int_type]:\n",
    "    extdat = np.vstack( [Xfull.T, rectconv_emg[:,nedgeBins:-nedgeBins]] )\n",
    "    extnames = feature_names_all + chnames_emg\n",
    "    utsne.plotEvolutionMultiCh(extdat, Xtimes_full, extnames, interval=ival, bnd_toshow='end',\n",
    "                     rawname=rawname_, prefix='full' )\n"
   ]
  },
  {
   "cell_type": "code",
   "execution_count": null,
   "metadata": {},
   "outputs": [],
   "source": [
    "utsne.plotEvolutionMultiCh(dat_ecg, times, subfeature_order + ['ecg'], interval=ivalis[int_type][0],\n",
    "                           rawname=rawname_ , prefix='raw_scaled', dat_ext = rectconv_emg, \n",
    "                               chan_names_ext=chnames_emg, bnd_toshow='end')\n"
   ]
  },
  {
   "cell_type": "code",
   "execution_count": null,
   "metadata": {},
   "outputs": [],
   "source": [
    "ivalis[int_name][0]"
   ]
  },
  {
   "cell_type": "code",
   "execution_count": null,
   "metadata": {},
   "outputs": [],
   "source": [
    "ecg -= np.mean(ecg)\n",
    "ecg = ecg / (np.quantile(ecg,0.9) - np.min(ecg))\n",
    "extdat = np.vstack( [ecg, rectconv_emg] )\n",
    "extnames = ['ecg'] + chnames_emg"
   ]
  },
  {
   "cell_type": "code",
   "execution_count": null,
   "metadata": {},
   "outputs": [],
   "source": []
  },
  {
   "cell_type": "code",
   "execution_count": null,
   "metadata": {},
   "outputs": [],
   "source": [
    "tt = utsne.plotIntervalData(dat_scaled,subfeature_order,ivalis[int_name][0], \n",
    "                            raw_lfponly, plot_types=['timecourse'], dat_ext = extdat, extend=3, ww=8,hh=4) \n",
    "plt.savefig('tc.pdf')"
   ]
  },
  {
   "cell_type": "code",
   "execution_count": null,
   "metadata": {},
   "outputs": [],
   "source": [
    "np.max(tt)"
   ]
  },
  {
   "cell_type": "code",
   "execution_count": null,
   "metadata": {},
   "outputs": [],
   "source": [
    "\n",
    "5  < np.inf"
   ]
  },
  {
   "cell_type": "code",
   "execution_count": null,
   "metadata": {},
   "outputs": [],
   "source": [
    "tt"
   ]
  },
  {
   "cell_type": "code",
   "execution_count": null,
   "metadata": {},
   "outputs": [],
   "source": [
    "%matplotlib agg"
   ]
  },
  {
   "cell_type": "code",
   "execution_count": null,
   "metadata": {},
   "outputs": [],
   "source": [
    "bandi"
   ]
  },
  {
   "cell_type": "code",
   "execution_count": null,
   "metadata": {},
   "outputs": [],
   "source": [
    "k1"
   ]
  },
  {
   "cell_type": "code",
   "execution_count": null,
   "metadata": {},
   "outputs": [],
   "source": [
    "have_TFR"
   ]
  },
  {
   "cell_type": "code",
   "execution_count": null,
   "metadata": {},
   "outputs": [],
   "source": [
    "utsne.getIntervalSurround( start,end, extend,  times=Xtimes)"
   ]
  },
  {
   "cell_type": "code",
   "execution_count": null,
   "metadata": {},
   "outputs": [],
   "source": []
  },
  {
   "cell_type": "code",
   "execution_count": null,
   "metadata": {},
   "outputs": [],
   "source": [
    "ivalis['no_tremor_L']"
   ]
  },
  {
   "cell_type": "code",
   "execution_count": null,
   "metadata": {},
   "outputs": [],
   "source": []
  },
  {
   "cell_type": "code",
   "execution_count": null,
   "metadata": {},
   "outputs": [],
   "source": [
    "utsne.plotCSD()"
   ]
  },
  {
   "cell_type": "code",
   "execution_count": null,
   "metadata": {},
   "outputs": [],
   "source": [
    "ivalis"
   ]
  },
  {
   "cell_type": "code",
   "execution_count": null,
   "metadata": {},
   "outputs": [],
   "source": [
    "ts,r, int_names = utsne.getIntervalSurround(start,end,3, raw_lfponly)"
   ]
  },
  {
   "cell_type": "code",
   "execution_count": null,
   "metadata": {},
   "outputs": [],
   "source": [
    "from collections.abc import Iterable"
   ]
  },
  {
   "cell_type": "code",
   "execution_count": null,
   "metadata": {},
   "outputs": [],
   "source": [
    "#%debug\n",
    "utils.getFullCSDMat(csd,4,slice(100,200), n_channels).shape\n"
   ]
  },
  {
   "cell_type": "code",
   "execution_count": null,
   "metadata": {},
   "outputs": [],
   "source": [
    "print('{}'.format( slice(1,3)) )"
   ]
  },
  {
   "cell_type": "code",
   "execution_count": null,
   "metadata": {},
   "outputs": [],
   "source": [
    "isinstance(np.ones(3),Iterable)"
   ]
  },
  {
   "cell_type": "code",
   "execution_count": null,
   "metadata": {},
   "outputs": [],
   "source": [
    "%matplotlib inline\n",
    "#%debug\n",
    "#r = raw_lfponly.time_as_index(\n",
    "#    [start - extend, start, start+extend, end-extend, end, end+extend])\n",
    "\n",
    "utsne.plotCSD(csd, fband_names, subfeature_order, list(r) , sfreq=sfreq, intervalMode=1, int_names=int_names)\n"
   ]
  },
  {
   "cell_type": "code",
   "execution_count": null,
   "metadata": {},
   "outputs": [],
   "source": [
    "utsne.plotCSD(csd, fband_names, subfeature_order, list(r) , sfreq=sfreq, intervalMode=0)"
   ]
  },
  {
   "cell_type": "code",
   "execution_count": null,
   "metadata": {},
   "outputs": [],
   "source": [
    "ivalis"
   ]
  },
  {
   "cell_type": "code",
   "execution_count": null,
   "metadata": {},
   "outputs": [],
   "source": [
    "mainLFPchan"
   ]
  },
  {
   "cell_type": "code",
   "execution_count": null,
   "metadata": {},
   "outputs": [],
   "source": [
    "pdf.close()"
   ]
  },
  {
   "cell_type": "code",
   "execution_count": null,
   "metadata": {},
   "outputs": [],
   "source": [
    "fname_tfr_full"
   ]
  },
  {
   "cell_type": "code",
   "execution_count": null,
   "metadata": {},
   "outputs": [],
   "source": [
    "os.path.exists(fname_tfr_full)"
   ]
  },
  {
   "cell_type": "code",
   "execution_count": null,
   "metadata": {},
   "outputs": [],
   "source": [
    "feature_names_all"
   ]
  },
  {
   "cell_type": "code",
   "execution_count": null,
   "metadata": {},
   "outputs": [],
   "source": [
    "import os,sys\n",
    "import mne\n",
    "import utils  #my code\n",
    "import json\n",
    "import matplotlib.pyplot as plt\n",
    "import numpy as np\n",
    "import h5py\n",
    "%load_ext autoreload\n",
    "%autoreload 2\n",
    "\n",
    "if os.environ.get('DATA_DUSS') is not None:\n",
    "    data_dir = os.path.expandvars('$DATA_DUSS')\n",
    "else:\n",
    "    data_dir = '/home/demitau/data'\n",
    "\n",
    "import matplotlib as mpl\n",
    "import time\n",
    "import gc; \n",
    "import scipy.signal as sig\n",
    "\n",
    "import numpy as np\n",
    "from sklearn.preprocessing import RobustScaler\n",
    "from sklearn.manifold import TSNE\n",
    "from sklearn.decomposition import PCA\n",
    "\n",
    "rawname_ = 'S01_off_hold'\n",
    "\n",
    "\n",
    "\n",
    "src_fname_noext = 'srcd_{}_HirschPt2011_test'.format(rawname_)\n",
    "rawname_LFPonly = rawname_ + '_LFPonly'+ '.fif'\n",
    "rawname_LFPonly_full = os.path.join( data_dir, rawname_LFPonly )\n",
    "raw_lfponly = mne.io.read_raw_fif(rawname_LFPonly_full, None)\n",
    "\n",
    "newsrc_fname_full = os.path.join( data_dir, 'av_' + src_fname_noext + '.fif' )\n",
    "raw_srconly =  mne.io.read_raw_fif(newsrc_fname_full, None)"
   ]
  },
  {
   "cell_type": "code",
   "execution_count": null,
   "metadata": {},
   "outputs": [],
   "source": [
    "# get info about bad MEG channels (from separate file)\n",
    "with open('subj_info.json') as info_json:\n",
    "        #raise TypeError\n",
    "\n",
    "    #json.dumps({'value': numpy.int64(42)}, default=convert)\n",
    "    gen_subj_info = json.load(info_json)\n",
    "    \n",
    "subj,medcond,task  = utils.getParamsFromRawname(rawname_)"
   ]
  },
  {
   "cell_type": "code",
   "execution_count": null,
   "metadata": {},
   "outputs": [],
   "source": [
    "mainLFPchan = gen_subj_info[subj]['lfpchan_used_in_paper']\n",
    "mainLFPchan"
   ]
  },
  {
   "cell_type": "code",
   "execution_count": null,
   "metadata": {},
   "outputs": [],
   "source": [
    "# for current raw\n",
    "maintremside = gen_subj_info[subj]['tremor_side']\n",
    "print(maintremside)"
   ]
  },
  {
   "cell_type": "markdown",
   "metadata": {},
   "source": [
    "## If I only want to use the relevant brain hand/brain sides"
   ]
  },
  {
   "cell_type": "code",
   "execution_count": null,
   "metadata": {},
   "outputs": [],
   "source": [
    "raw_lfponly.load_data()\n",
    "raw_srconly.load_data()"
   ]
  },
  {
   "cell_type": "code",
   "execution_count": null,
   "metadata": {},
   "outputs": [],
   "source": [
    "use_main_tremorside = 1  # 0 both , -1 opposite\n",
    "use_main_LFP_chan = False"
   ]
  },
  {
   "cell_type": "code",
   "execution_count": null,
   "metadata": {},
   "outputs": [],
   "source": [
    "\n",
    "\n",
    "sides = ['L', 'R']\n",
    "raws_lfp_perside = {'L': raw_lfponly.copy(), 'R': raw_lfponly.copy() }\n",
    "raws_srconly_perside = {'L': raw_srconly.copy(), 'R': raw_srconly.copy() }\n",
    "for side in sides:\n",
    "    chis = mne.pick_channels_regexp(raw_lfponly.ch_names, 'LFP{}.*'.format(side))\n",
    "    chnames_lfp = [raw_lfponly.ch_names[chi] for chi in chis]\n",
    "    if use_main_LFP_chan and mainLFPchan in chnames_lfp:\n",
    "        raws_lfp_perside[side].pick_channels(   [mainLFPchan]  )\n",
    "    else:\n",
    "        raws_lfp_perside[side].pick_channels(   chnames_lfp  )\n",
    "    print(raws_lfp_perside[side].ch_names)\n",
    "        \n",
    "\n",
    "    chis =  mne.pick_channels_regexp(raw_srconly.ch_names, 'msrc{}_all_*'.format(side)  )  \n",
    "    chnames_src = [raw_srconly.ch_names[chi] for chi in chis]\n",
    "    raws_srconly_perside[side].pick_channels(   chnames_src  )"
   ]
  },
  {
   "cell_type": "code",
   "execution_count": null,
   "metadata": {},
   "outputs": [],
   "source": [
    "raw_lfponly.ch_names"
   ]
  },
  {
   "cell_type": "code",
   "execution_count": null,
   "metadata": {},
   "outputs": [],
   "source": [
    "raws_lfp_perside['R'].ch_names"
   ]
  },
  {
   "cell_type": "code",
   "execution_count": null,
   "metadata": {},
   "outputs": [],
   "source": [
    "raws_srconly_perside['R'].ch_names"
   ]
  },
  {
   "cell_type": "code",
   "execution_count": null,
   "metadata": {},
   "outputs": [],
   "source": [
    "#raw_lfponly.crop(0,300)"
   ]
  },
  {
   "cell_type": "code",
   "execution_count": null,
   "metadata": {},
   "outputs": [],
   "source": [
    "ivalis = {}\n",
    "anns = raw_lfponly.annotations\n",
    "for i,an in enumerate(anns ):\n",
    "    descr = an['description']\n",
    "    if descr not in ivalis:\n",
    "        ivalis[descr] = []\n",
    "    tpl = an['onset'], an['onset']+ an['duration'], descr\n",
    "    ivalis[descr] += [ tpl  ]"
   ]
  },
  {
   "cell_type": "code",
   "execution_count": null,
   "metadata": {},
   "outputs": [],
   "source": []
  },
  {
   "cell_type": "code",
   "execution_count": null,
   "metadata": {},
   "outputs": [],
   "source": [
    "#bandnames = ['tremor', 'beta', 'gamma', 'allf']\n",
    "# fbands = {'tremor': [4,10],   'beta':[15,30],   'gamma':[30,100] }\n",
    "# fbands_fine = {'tremor': [4,10], 'low_beta':[15,22], 'high_beta':[22,30], \n",
    "#           'low_gamma':[30,60], 'high_gamma':[60,90],}\n",
    "fbands = {'tremor': [4,10], 'low_beta':[15,22], 'high_beta':[22,30], \n",
    "           'low_gamma':[30,60], 'high_gamma':[60,90], 'beta':[15,30],   'gamma':[30,100]}\n",
    "\n",
    "\n",
    "\n",
    "fband_names_crude = ['tremor', 'beta', 'gamma']\n",
    "fband_names_fine = ['tremor', 'low_beta', 'high_beta', 'low_gamma', 'high_gamma']\n",
    "sfreq = int(raw_lfponly.info['sfreq'])"
   ]
  },
  {
   "cell_type": "code",
   "execution_count": null,
   "metadata": {},
   "outputs": [],
   "source": [
    "#mne.filter"
   ]
  },
  {
   "cell_type": "code",
   "execution_count": null,
   "metadata": {},
   "outputs": [],
   "source": []
  },
  {
   "cell_type": "code",
   "execution_count": null,
   "metadata": {},
   "outputs": [],
   "source": [
    "def pac(dat1,bandname1,dat2, bandname2):\n",
    "    dathilb1 = hlbt(bandname1, dat1)\n",
    "    dathilb2 = hlbt(bandname2, dat2)    \n",
    "    \n",
    "    instphase1 = np.unwrap(np.angle(dathilb1))\n",
    "    instampl2 = np.abs(dathilb2)\n",
    "    \n",
    "    return np.correlate(instphase1,instampl2)"
   ]
  },
  {
   "cell_type": "code",
   "execution_count": null,
   "metadata": {},
   "outputs": [],
   "source": []
  },
  {
   "cell_type": "code",
   "execution_count": null,
   "metadata": {},
   "outputs": [],
   "source": [
    "min_freq = 3\n",
    "freq_step = 1\n",
    "freqs = np.arange(min_freq,100,freq_step)\n"
   ]
  },
  {
   "cell_type": "code",
   "execution_count": null,
   "metadata": {},
   "outputs": [],
   "source": [
    "# I want 256 window sz\n",
    "cf =  256/ ( 5/(2*np.pi) * 256  ) \n",
    "freq2cycles_mult = cf  # 1.2566370614359172\n",
    "print(cf)\n",
    "#freq2cycles_mult = 0.75"
   ]
  },
  {
   "cell_type": "markdown",
   "metadata": {},
   "source": [
    "## Concatenate data"
   ]
  },
  {
   "cell_type": "code",
   "execution_count": null,
   "metadata": {},
   "outputs": [],
   "source": [
    "raws_permod = {'lfp' : raws_lfp_perside, 'msrc' : raws_srconly_perside }"
   ]
  },
  {
   "cell_type": "code",
   "execution_count": null,
   "metadata": {},
   "outputs": [],
   "source": [
    "maintremside[0].upper()"
   ]
  },
  {
   "cell_type": "code",
   "execution_count": null,
   "metadata": {},
   "outputs": [],
   "source": [
    "raws_permod['msrc']['R'].ch_names "
   ]
  },
  {
   "cell_type": "code",
   "execution_count": null,
   "metadata": {},
   "outputs": [],
   "source": [
    "# if isinstance(use_main_tremorside,int):\n",
    "#     if use_main_tremorside == 1:\n",
    "#         side_hand = maintremside[0].capitalize()\n",
    "# #     else:\n",
    "# #         raise ValueError('notImpl')\n",
    "# elif isinstance(use_main_tremorside,str):\n",
    "#     side_hand = use_main_tremorside\n",
    "\n",
    "# if side_hand == 'L':\n",
    "#     side_brain  = 'R'\n",
    "# else:\n",
    "#     side_brain  = 'L'\n"
   ]
  },
  {
   "cell_type": "code",
   "execution_count": null,
   "metadata": {},
   "outputs": [],
   "source": [
    "use_main_tremorside"
   ]
  },
  {
   "cell_type": "code",
   "execution_count": null,
   "metadata": {},
   "outputs": [],
   "source": [
    "data_modalities = ['lfp', 'msrc']\n",
    "hand_sides_all = ['L', 'R']  # hand sides\n",
    "msrc_inds = np.arange(8,dtype=int)  #indices appearing in channel (sources) names, not channnel indices\n",
    "if use_main_tremorside:\n",
    "    hand_sides = [maintremside[0].upper() ]\n",
    "else:\n",
    "    hand_sides = hand_sides_all\n",
    "print('maintremside {}, hand_sides to construct features '.format(maintremside[0].upper()) ,hand_sides)\n",
    "\n",
    "allowd_srcis_subregex = '[{}]'.format( ','.join( map(str, msrc_inds ) ))\n",
    "subfeature_order = []\n",
    "dats = []\n",
    "for side_hand in hand_sides:\n",
    "    for mod in data_modalities:\n",
    "        sd = hand_sides_all[1-hand_sides.index(side_hand) ]  #\n",
    "        #if mod in ['src','msrc']:  No! They are both in the brain, so both contralat!\n",
    "        \n",
    "        curraw = raws_permod[mod][sd]\n",
    "        \n",
    "        if mod == 'msrc':\n",
    "            chns = curraw.ch_names\n",
    "            inds = mne.pick_channels_regexp(  chns  , 'msrc.*_{}'.format(allowd_srcis_subregex) )\n",
    "            chns_selected = list( np.array(chns)[inds]  )\n",
    "            curdat, times = curraw[chns_selected]\n",
    "            #msrc_inds\n",
    "            chnames_added = chns_selected\n",
    "        else:\n",
    "            curdat = curraw.get_data()\n",
    "            chnames_added = curraw.ch_names\n",
    "        dats += [ curdat ]\n",
    "        \n",
    "        subfeature_order += chnames_added\n",
    "        print(mod,sd)\n",
    "#dats = {'lfp': dat_lfp, 'msrc':dat_src}\n",
    "dat = np.vstack(dats)\n",
    "\n",
    "#dat = np.concatenate( (dat_lfp, dat_src), axis=0)\n",
    "dat.shape"
   ]
  },
  {
   "cell_type": "code",
   "execution_count": null,
   "metadata": {},
   "outputs": [],
   "source": [
    "subfeature_order"
   ]
  },
  {
   "cell_type": "code",
   "execution_count": null,
   "metadata": {},
   "outputs": [],
   "source": [
    "gc.collect()"
   ]
  },
  {
   "cell_type": "markdown",
   "metadata": {},
   "source": [
    "# Normalize raw data"
   ]
  },
  {
   "cell_type": "code",
   "execution_count": null,
   "metadata": {},
   "outputs": [],
   "source": [
    "# scale channel data separately\n",
    "percentileOffset = 25\n",
    "dat_scaled = np.zeros(dat.shape)\n",
    "for i in range( dat.shape[0] ):\n",
    "    inp = dat[i][:,None]\n",
    "    scaler = RobustScaler(quantile_range=(percentileOffset,100-percentileOffset), with_centering=1)\n",
    "    scaler.fit(inp)\n",
    "    outd = scaler.transform(inp)\n",
    "    dat_scaled[i,:] = outd[:,0]"
   ]
  },
  {
   "cell_type": "code",
   "execution_count": null,
   "metadata": {},
   "outputs": [],
   "source": [
    "import utils_tSNE as utsne"
   ]
  },
  {
   "cell_type": "code",
   "execution_count": null,
   "metadata": {},
   "outputs": [],
   "source": [
    "utsne.plotBasicStatsMultiCh([dat, dat_scaled], subfeature_order, printMeans=0)"
   ]
  },
  {
   "cell_type": "code",
   "execution_count": null,
   "metadata": {},
   "outputs": [],
   "source": [
    "dat_scaled.shape"
   ]
  },
  {
   "cell_type": "code",
   "execution_count": null,
   "metadata": {},
   "outputs": [],
   "source": [
    "n_channels = dat_scaled.shape[0]"
   ]
  },
  {
   "cell_type": "code",
   "execution_count": null,
   "metadata": {},
   "outputs": [],
   "source": [
    "ind300 = raw_lfponly.time_as_index([300])[0]"
   ]
  },
  {
   "cell_type": "code",
   "execution_count": null,
   "metadata": {},
   "outputs": [],
   "source": [
    "ivalis"
   ]
  },
  {
   "cell_type": "code",
   "execution_count": null,
   "metadata": {},
   "outputs": [],
   "source": [
    "int_name = 'mvt_L'\n",
    "utsne.plotIntervalData(dat,subfeature_order,ivalis[int_name][0], raw_lfponly)"
   ]
  },
  {
   "cell_type": "code",
   "execution_count": null,
   "metadata": {},
   "outputs": [],
   "source": [
    "int_name = 'mvt_L'\n",
    "#nt_name = 'trem_L'\n",
    "extend = 20\n",
    "start,end,_itp = ivalis[int_name][0]\n",
    "prestarti, starti, poststarti, preendi, endi, postendi = raw_lfponly.time_as_index( \n",
    "    [start - extend, start, start+extend, end-extend, end, end+extend]) \n",
    "end-start"
   ]
  },
  {
   "cell_type": "markdown",
   "metadata": {},
   "source": [
    "# Plot raw data"
   ]
  },
  {
   "cell_type": "code",
   "execution_count": null,
   "metadata": {},
   "outputs": [],
   "source": [
    "f = np.load( os.path.join(data_dir, '{}_ica_ecg.npz'.format(rawname_) ) )\n",
    "ecg = f['ecg']\n",
    "ecg_normalized = (ecg - np.min(ecg) )/( np.max(ecg) - np.min(ecg) )\n",
    "dat_ecg = np.concatenate( (dat_scaled,ecg_normalized), axis=0)\n",
    "utsne.plotEvolutionMultiCh(dat_ecg, times, subfeature_order + ['ecg'], interval=ivalis[int_type][0], \n",
    "                           rawname=rawname_ )"
   ]
  },
  {
   "cell_type": "markdown",
   "metadata": {},
   "source": [
    "# Run TFR"
   ]
  },
  {
   "cell_type": "code",
   "execution_count": null,
   "metadata": {},
   "outputs": [],
   "source": [
    "# compute diagonal terms\n",
    "tfrres = mne.time_frequency.tfr_array_morlet(dat_scaled[None,:], \n",
    "                                             sfreq, freqs, freqs * freq2cycles_mult, n_jobs=10)\n",
    "tfrres = tfrres[0]"
   ]
  },
  {
   "cell_type": "code",
   "execution_count": null,
   "metadata": {},
   "outputs": [],
   "source": [
    "dat_scaled.shape"
   ]
  },
  {
   "cell_type": "code",
   "execution_count": null,
   "metadata": {},
   "outputs": [],
   "source": [
    "tfrres.shape"
   ]
  },
  {
   "cell_type": "code",
   "execution_count": null,
   "metadata": {},
   "outputs": [],
   "source": [
    "gc.collect()"
   ]
  },
  {
   "cell_type": "markdown",
   "metadata": {},
   "source": [
    "## Extract freq band information"
   ]
  },
  {
   "cell_type": "code",
   "execution_count": null,
   "metadata": {},
   "outputs": [],
   "source": [
    "#bands_only = 'fine' # 'no', 'rough', 'fine'\n",
    "bands_only = 'crude'\n",
    "bands_only = 'fine'"
   ]
  },
  {
   "cell_type": "code",
   "execution_count": null,
   "metadata": {},
   "outputs": [],
   "source": [
    "# bands_only = 'fine' # 'no', 'rough', 'fine'\n",
    "# if bands_only in ['fine', 'rough']:\n",
    "#     if bands_only == 'fine':\n",
    "#         fbs = fbands_fine\n",
    "#     else:\n",
    "#         fbs = fbands\n",
    "        \n",
    "#     bpows = []\n",
    "#     for bandname in fband_names:\n",
    "#         low,high = fbs[bandname]\n",
    "#         freqi = np.where( (freqs >= low) * (freqs <= high) )[0]\n",
    "#         print('{}: aver over {} freqs '.format( bandname, len(freqi)) )\n",
    "#         bandpow = np.mean( np.abs(  tfrres[:,freqi,:])  , axis=1 )\n",
    "#         bpows += [bandpow[:,None,:]]\n",
    "        \n",
    "#     bpows = np.concatenate(bpows, axis=1)"
   ]
  },
  {
   "cell_type": "code",
   "execution_count": null,
   "metadata": {},
   "outputs": [],
   "source": [
    "#bpows.shape"
   ]
  },
  {
   "cell_type": "code",
   "execution_count": null,
   "metadata": {},
   "outputs": [],
   "source": [
    "tfrres.shape"
   ]
  },
  {
   "cell_type": "markdown",
   "metadata": {},
   "source": [
    "## Compute connectivity (CSD or coherence)"
   ]
  },
  {
   "cell_type": "code",
   "execution_count": null,
   "metadata": {},
   "outputs": [],
   "source": [
    "#coherence is == 1 unless we use larger windows\n",
    "run_coh_comp = False\n",
    "if run_coh_comp:\n",
    "    res = mne.connectivity.spectral_connectivity(dat_scaled[None,:], method='coh' , \n",
    "                                           n_jobs = 10, indices = None, sfreq = sfreq,\n",
    "                                          mode='cwt_morlet' , cwt_freqs=freqs, \n",
    "                                                 cwt_n_cycles = freqs*freq2cycles_mult )\n",
    "    con, freqs, times, n_epochs, n_tapers = res"
   ]
  },
  {
   "cell_type": "code",
   "execution_count": null,
   "metadata": {},
   "outputs": [],
   "source": [
    "csd, csdord = utils.tfr2csd(tfrres, sfreq, returnOrder=1)  # csdord.shape = (2, csdsize)"
   ]
  },
  {
   "cell_type": "code",
   "execution_count": null,
   "metadata": {},
   "outputs": [],
   "source": [
    "bands_only"
   ]
  },
  {
   "cell_type": "code",
   "execution_count": null,
   "metadata": {},
   "outputs": [],
   "source": [
    "#bands_only"
   ]
  },
  {
   "cell_type": "code",
   "execution_count": null,
   "metadata": {},
   "outputs": [],
   "source": [
    "if bands_only in ['fine', 'crude']:\n",
    "    if bands_only == 'fine':\n",
    "        fband_names = fband_names_fine\n",
    "    else:\n",
    "        fband_names = fband_names_crude\n",
    "        \n",
    "    bpow_abscsd = []\n",
    "    csdord_bandwise = []\n",
    "    for bandi,bandname in enumerate(fband_names):\n",
    "        low,high = fbands[bandname]\n",
    "        freqis = np.where( (freqs >= low) * (freqs <= high) )[0]\n",
    "        bandpow = np.mean( np.abs(  csd[:,freqis,:])  , axis=1 )\n",
    "        bpow_abscsd += [bandpow[:,None,:]]\n",
    "        \n",
    "        #csdord_bandwise += [ np.vstack( [csdord,  np.ones(28, dtype=int)[None,:]*bandi  ] )[ :,:,None] ]\n",
    "        \n",
    "    bpow_abscsd = np.concatenate(bpow_abscsd, axis=1)\n",
    "\n",
    "csdord_bandwise = []\n",
    "for bandi,bandname in enumerate(fband_names):\n",
    "    csdord_bandwise += [ np.concatenate( [csdord.T,  np.ones(csd.shape[0], dtype=int)[:,None]*bandi  ] , axis=-1) [:,None,:] ]\n",
    "\n",
    "csdord_bandwise = np.concatenate(csdord_bandwise,axis=1)\n",
    "csdord_bandwise.shape"
   ]
  },
  {
   "cell_type": "code",
   "execution_count": null,
   "metadata": {},
   "outputs": [],
   "source": [
    "if run_coh_comp:\n",
    "    freqinds_trem = np.where( (freqs >= 4) * (freqs <= 10) )[0]\n",
    "    freqinds_beta = np.where( (freqs >= 10) * (freqs <= 30) )[0]\n",
    "    freqinds_gamma = np.where( (freqs >= 30) * (freqs <= 100) )[0]\n",
    "\n",
    "    plt.figure(figsize = (15,4))\n",
    "    timebin = 7000\n",
    "    #plt.subplot(1,3,1).pcolormesh(con[:,:,freqinds_beta[fii]])\n",
    "    plt.subplot(1,3,1).pcolormesh( np.mean( con[:,:,freqinds_trem,timebin], axis=-1 )  )\n",
    "    plt.subplot(1,3,2).pcolormesh( np.mean( con[:,:,freqinds_beta,timebin], axis=-1 )  )\n",
    "    plt.subplot(1,3,3).pcolormesh( np.mean( con[:,:,freqinds_gamma,timebin], axis=-1 )  )"
   ]
  },
  {
   "cell_type": "code",
   "execution_count": null,
   "metadata": {},
   "outputs": [],
   "source": [
    "n_channels = dat.shape[0]; n_channels"
   ]
  },
  {
   "cell_type": "code",
   "execution_count": null,
   "metadata": {},
   "outputs": [],
   "source": [
    "fbs_list = fband_names  # fband_name set before\n",
    "N = len(fbs_list)\n",
    "nc = N; nr = 1\n",
    "\n",
    "fig,axs = plt.subplots(ncols = nc, nrows =nr, figsize = (18,4), sharey = 'row')\n",
    "timebin = 7000\n",
    "#freqi = 4\n",
    "\n",
    "for freqi in range(N):\n",
    "    M = utils.getFullCSDMat(csd,freqi,12000, dat.shape[0])\n",
    "    fbname = fbs_list[freqi]\n",
    "    ax = axs[freqi]\n",
    "    ax.pcolormesh( np.abs(M ) ); ax.set_title( fbname  )\n",
    "    ax.set_xticks(range(len(subfeature_order)))\n",
    "    ax.set_xticklabels(subfeature_order, rotation=90)\n",
    "    \n",
    "    ax.set_yticks(range(len(subfeature_order)))\n",
    "    ax.set_yticklabels(subfeature_order)\n",
    "\n",
    "plt.suptitle( 'abs of CSD for time = {}s'.format( timebin/ sfreq ))\n",
    "#plt.subplot(1,3,1).pcolormesh( np.mean( con[:,:,freqinds_trem,timebin], axis=-1 )  )\n",
    "#plt.subplot(1,3,2).pcolormesh( np.mean( con[:,:,freqinds_beta,timebin], axis=-1 )  )\n",
    "#plt.subplot(1,3,3).pcolormesh( np.mean( con[:,:,freqinds_gamma,timebin], axis=-1 )  )"
   ]
  },
  {
   "cell_type": "markdown",
   "metadata": {},
   "source": [
    "## Compute Hjorth parameters"
   ]
  },
  {
   "cell_type": "code",
   "execution_count": null,
   "metadata": {},
   "outputs": [],
   "source": [
    "gc.collect()"
   ]
  },
  {
   "cell_type": "code",
   "execution_count": null,
   "metadata": {},
   "outputs": [],
   "source": [
    "dat.shape"
   ]
  },
  {
   "cell_type": "code",
   "execution_count": null,
   "metadata": {},
   "outputs": [],
   "source": [
    "act,mob,compl  = utils.Hjorth(dat_scaled, 1/sfreq, windowsz=sfreq)"
   ]
  },
  {
   "cell_type": "code",
   "execution_count": null,
   "metadata": {},
   "outputs": [],
   "source": [
    "act.shape"
   ]
  },
  {
   "cell_type": "code",
   "execution_count": null,
   "metadata": {},
   "outputs": [],
   "source": [
    "plt.plot (  np.min( act[:,256:-256], axis=-1 ) ,label='min')\n",
    "plt.plot (  np.max( act[:,256:-256], axis=-1 ) ,label='max')\n",
    "plt.plot (  np.mean( act[:,256:-256], axis=-1 ) ,label='mean')\n",
    "plt.suptitle('min_max of Hjorth params')\n",
    "plt.xlabel('channel')\n",
    "plt.legend()\n",
    "plt.xticks(range(n_channels))\n",
    "\n",
    "ax=  plt.gca()\n",
    "ax.set_xticklabels(subfeature_order)"
   ]
  },
  {
   "cell_type": "code",
   "execution_count": null,
   "metadata": {},
   "outputs": [],
   "source": [
    "times = raw_lfponly.times"
   ]
  },
  {
   "cell_type": "code",
   "execution_count": null,
   "metadata": {},
   "outputs": [],
   "source": [
    "act.shape"
   ]
  },
  {
   "cell_type": "code",
   "execution_count": null,
   "metadata": {},
   "outputs": [],
   "source": [
    "fig,axs = plt.subplots(nrows=1,ncols=3, figsize = (15,4))\n",
    "axs = axs.reshape((1,3))\n",
    "\n",
    "for i in range(n_channels):\n",
    "    axs[0,0].plot(times,act[i], label= subfeature_order[i])\n",
    "    axs[0,0].set_title('activity')\n",
    "    axs[0,1].plot(times,mob[i], label= subfeature_order[i])\n",
    "    axs[0,1].set_title('mobility')\n",
    "    axs[0,2].plot(times,compl[i], label= subfeature_order[i])\n",
    "    axs[0,2].set_title('complexity')\n",
    "\n",
    "for ax in axs.reshape(axs.size):\n",
    "    ax.legend(loc='upper right')"
   ]
  },
  {
   "cell_type": "code",
   "execution_count": null,
   "metadata": {},
   "outputs": [],
   "source": [
    "gc.collect()"
   ]
  },
  {
   "cell_type": "markdown",
   "metadata": {},
   "source": [
    " # Get veature vectors"
   ]
  },
  {
   "cell_type": "code",
   "execution_count": null,
   "metadata": {},
   "outputs": [],
   "source": [
    "nedgeBins = 256\n",
    "ntimebins = tfrres.shape[-1]\n",
    "ntimebins"
   ]
  },
  {
   "cell_type": "code",
   "execution_count": null,
   "metadata": {},
   "outputs": [],
   "source": [
    "bpow_abscsd.shape"
   ]
  },
  {
   "cell_type": "code",
   "execution_count": null,
   "metadata": {},
   "outputs": [],
   "source": [
    "N"
   ]
  },
  {
   "cell_type": "code",
   "execution_count": null,
   "metadata": {},
   "outputs": [],
   "source": [
    "n_channels = dat_scaled.shape[0]\n",
    "n_channels"
   ]
  },
  {
   "cell_type": "code",
   "execution_count": null,
   "metadata": {},
   "outputs": [],
   "source": [
    "bpow_abscsd.shape"
   ]
  },
  {
   "cell_type": "code",
   "execution_count": null,
   "metadata": {},
   "outputs": [],
   "source": [
    "bpows = []\n",
    "for bandi in range(len(fband_names)):\n",
    "    bpow = np.vstack( [ utils.getCsdVals(bpow_abscsd[:,bandi,:],i,i, n_channels) for i in range (n_channels) ] )\n",
    "    bpows += [bpow[:,None,:]]\n",
    "bpows = np.concatenate( bpows, axis=1)\n",
    "bpows.shape"
   ]
  },
  {
   "cell_type": "code",
   "execution_count": null,
   "metadata": {},
   "outputs": [],
   "source": [
    "percentileOffset = 25\n",
    "defpct = (percentileOffset,100-percentileOffset)\n",
    "feat_dict = {'tfr':{'data':None, 'pct':(0,75), 'centering':False },   \n",
    "             'con':{'data':None, 'pct':(0,75), 'centering':False },   \n",
    "             'H_act':{'data':act, 'pct':defpct}, \n",
    "             'H_mob':{'data':mob, 'pct':defpct}, 'H_compl':{'data':compl, 'pct':defpct} }\n",
    "\n",
    "feat_dict['con']['centering'] = True\n",
    "             \n",
    "if bands_only == 'no':\n",
    "    tfres_ = tfrres.reshape( tfrres.size//ntimebins , ntimebins )             \n",
    "    feat_dict['tfr']['data'] = np.abs( tfres_)\n",
    "    #feat_dict['con']['data'] = con.reshape( con.size//ntimebins , ntimebins )          \n",
    "    feat_dict['con']['data'] = np.abs( csd.reshape( csd.size//ntimebins , ntimebins ) )\n",
    "else:\n",
    "    feat_dict['tfr']['data'] = bpows.reshape( bpows.size//ntimebins , ntimebins )       \n",
    "    feat_dict['con']['data'] = bpow_abscsd.reshape( bpow_abscsd.size//ntimebins , ntimebins )   \n",
    "    \n",
    "    csdord_bandwise.reshape( (feat_dict['con']['data'].shape[0], 3) )"
   ]
  },
  {
   "cell_type": "code",
   "execution_count": null,
   "metadata": {},
   "outputs": [],
   "source": [
    "compl.shape"
   ]
  },
  {
   "cell_type": "code",
   "execution_count": null,
   "metadata": {},
   "outputs": [],
   "source": [
    "\n",
    "for feat_name in feat_dict:\n",
    "    curfeat = feat_dict[feat_name]\n",
    "    curfeat['data'] = curfeat['data'][:,nedgeBins:-nedgeBins]\n",
    "    print(feat_name, curfeat['data'].shape)\n",
    "    \n",
    "    "
   ]
  },
  {
   "cell_type": "code",
   "execution_count": null,
   "metadata": {},
   "outputs": [],
   "source": []
  },
  {
   "cell_type": "markdown",
   "metadata": {},
   "source": [
    "## scale channel data separately for each feature"
   ]
  },
  {
   "cell_type": "code",
   "execution_count": null,
   "metadata": {},
   "outputs": [],
   "source": [
    "for feat_name in feat_dict:\n",
    "    curfeat = feat_dict[feat_name]\n",
    "    inp = curfeat['data']\n",
    "    centering = curfeat.get('centering', True)\n",
    "    pct = curfeat['pct']\n",
    "    if pct is not None:\n",
    "        scaler = RobustScaler(quantile_range=pct, with_centering=centering)\n",
    "        scaler.fit(inp.T)\n",
    "        outd = scaler.transform(inp.T)\n",
    "        curfeat['data'] = outd.T\n",
    "        cnt = scaler.center_\n",
    "        scl = scaler.scale_\n",
    "        if feat_name in ['tfr', 'con']:\n",
    "            if cnt is not None:\n",
    "                cnt = np.min(cnt), np.max(cnt), np.mean(cnt), np.std(cnt)\n",
    "            if scl is not None:\n",
    "                scl = np.min(scl), np.max(scl), np.mean(scl), np.std(scl)\n",
    "        print(feat_name, curfeat['data'].shape, cnt,scl)"
   ]
  },
  {
   "cell_type": "code",
   "execution_count": null,
   "metadata": {},
   "outputs": [],
   "source": []
  },
  {
   "cell_type": "code",
   "execution_count": null,
   "metadata": {},
   "outputs": [],
   "source": [
    "list( range(3,5) )"
   ]
  },
  {
   "cell_type": "code",
   "execution_count": null,
   "metadata": {},
   "outputs": [],
   "source": [
    "gc.collect()"
   ]
  },
  {
   "cell_type": "markdown",
   "metadata": {},
   "source": [
    "## Construct feature vector"
   ]
  },
  {
   "cell_type": "code",
   "execution_count": null,
   "metadata": {},
   "outputs": [],
   "source": [
    "feat_dict.keys()"
   ]
  },
  {
   "cell_type": "code",
   "execution_count": null,
   "metadata": {},
   "outputs": [],
   "source": [
    "dat_scaled.shape"
   ]
  },
  {
   "cell_type": "code",
   "execution_count": null,
   "metadata": {},
   "outputs": [],
   "source": [
    "csdord"
   ]
  },
  {
   "cell_type": "code",
   "execution_count": null,
   "metadata": {},
   "outputs": [],
   "source": []
  },
  {
   "cell_type": "code",
   "execution_count": null,
   "metadata": {},
   "outputs": [],
   "source": [
    "csdord_strs = []\n",
    "for i in range(csdord.shape[1]):\n",
    "    k1,k2 = csdord[:,i]\n",
    "    k1 = int(k1); k2=int(k2)\n",
    "    s = '{},{}'.format( subfeature_order[k1] , subfeature_order[k2] )\n",
    "    csdord_strs += [s]\n",
    "csdord_strs"
   ]
  },
  {
   "cell_type": "code",
   "execution_count": null,
   "metadata": {},
   "outputs": [],
   "source": [
    "csdord_bandwise.shape"
   ]
  },
  {
   "cell_type": "code",
   "execution_count": null,
   "metadata": {},
   "outputs": [],
   "source": [
    "csdord_strs = []\n",
    "for bandi in range( csdord_bandwise.shape[1] ):\n",
    "    for i in range(csdord.shape[1]):\n",
    "        k1,k2 = csdord[:,i]\n",
    "        k1 = int(k1); k2=int(k2)\n",
    "        s = '{}: {},{}'.format( fband_names[bandi], subfeature_order[k1] , subfeature_order[k2] )\n",
    "        csdord_strs += [s]\n",
    "csdord_strs"
   ]
  },
  {
   "cell_type": "code",
   "execution_count": null,
   "metadata": {},
   "outputs": [],
   "source": [
    "features_to_use = feat_dict.keys()\n",
    "#features_to_use = [ 'tfr',  'H_act', 'H_mob', 'H_compl']\n",
    "features_to_use = [ 'con',  'H_act', 'H_mob', 'H_compl']  #csd includes tfr in my implementation\n",
    "if len(features_to_use) < len(feat_dict.keys() ):\n",
    "    print('  !!! Using only {} features out of {}'.format( len(features_to_use) , len(feat_dict.keys() ) ))\n",
    "\n",
    "Xfull = []\n",
    "feat_order = []\n",
    "feature_names_all = []\n",
    "for feat_name in features_to_use:\n",
    "    curfeat = feat_dict[feat_name]\n",
    "    cd = curfeat['data']\n",
    "    print(feat_name, cd.shape)\n",
    "    if feat_name == 'con':\n",
    "        #print('fds')\n",
    "        sfo = csdord_strs\n",
    "    else:\n",
    "        sfo = subfeature_order\n",
    "    subfeats = ['{}_{}'.format(feat_name,sf) for sf in sfo]\n",
    "    feature_names_all += subfeats\n",
    "    Xfull += [ cd]\n",
    "    feat_order += [feat_name]\n",
    "Xfull = np.vstack(Xfull).T\n",
    "print(feat_order, Xfull.shape)"
   ]
  },
  {
   "cell_type": "code",
   "execution_count": null,
   "metadata": {},
   "outputs": [],
   "source": [
    "feature_names_all"
   ]
  },
  {
   "cell_type": "code",
   "execution_count": null,
   "metadata": {},
   "outputs": [],
   "source": [
    "Xtimes_full = raw_lfponly.times[nedgeBins:-nedgeBins]"
   ]
  },
  {
   "cell_type": "code",
   "execution_count": null,
   "metadata": {},
   "outputs": [],
   "source": [
    "feat_order"
   ]
  },
  {
   "cell_type": "code",
   "execution_count": null,
   "metadata": {},
   "outputs": [],
   "source": [
    "feature_names_all"
   ]
  },
  {
   "cell_type": "markdown",
   "metadata": {},
   "source": [
    "## Plot feature stats"
   ]
  },
  {
   "cell_type": "code",
   "execution_count": null,
   "metadata": {},
   "outputs": [],
   "source": [
    "#Xfull.shape"
   ]
  },
  {
   "cell_type": "code",
   "execution_count": null,
   "metadata": {},
   "outputs": [],
   "source": [
    "nr = Xfull.shape[1]; nc=1;  ww = 5; hh = 2\n",
    "fig,axs = plt.subplots(nrows=nr, ncols=nc, sharex='col',  figsize = (ww*nc, hh*nr))\n",
    "for ind in range(nr ):\n",
    "    #ax = axs[ind,0]\n",
    "    ax = axs[ind]\n",
    "    ax.hist(Xfull[:,ind], bins=100, alpha=0.7 )\n",
    "    m = np.mean(Xfull[:,ind]); print(m)\n",
    "    ax.axvline(x=m,c='r',ls=':')\n",
    "    ax.set_title(feature_names_all[ind])\n",
    "    \n",
    "#     ax = axs[ind,1]\n",
    "#     ax.hist(dat_scaled[ind], bins=100, alpha=0.7 )\n",
    "#     m = np.mean(dat_scaled[ind]); print(m)\n",
    "#     ax.axvline(x=m,c='r',ls=':')\n",
    "#     ax.set_title(subfeature_order[ind] + '_scaled')\n",
    "#plt.legend()"
   ]
  },
  {
   "cell_type": "markdown",
   "metadata": {},
   "source": [
    "## Plot feature evolution"
   ]
  },
  {
   "cell_type": "code",
   "execution_count": null,
   "metadata": {},
   "outputs": [],
   "source": [
    "Xtimes_full.shape"
   ]
  },
  {
   "cell_type": "code",
   "execution_count": null,
   "metadata": {},
   "outputs": [],
   "source": [
    "maintremside"
   ]
  },
  {
   "cell_type": "code",
   "execution_count": null,
   "metadata": {},
   "outputs": [],
   "source": [
    "ivalis['trem_L'] #\n",
    "#ivalis['mvt_L'] "
   ]
  },
  {
   "cell_type": "code",
   "execution_count": null,
   "metadata": {},
   "outputs": [],
   "source": [
    "raw_lfponly.annotations"
   ]
  },
  {
   "cell_type": "code",
   "execution_count": null,
   "metadata": {},
   "outputs": [],
   "source": [
    "raw_lfponly.annotations.description"
   ]
  },
  {
   "cell_type": "code",
   "execution_count": null,
   "metadata": {},
   "outputs": [],
   "source": [
    "len(feature_names_all)"
   ]
  },
  {
   "cell_type": "code",
   "execution_count": null,
   "metadata": {},
   "outputs": [],
   "source": [
    "ivalis"
   ]
  },
  {
   "cell_type": "code",
   "execution_count": null,
   "metadata": {},
   "outputs": [],
   "source": [
    "from utils_tSNE import *"
   ]
  },
  {
   "cell_type": "code",
   "execution_count": null,
   "metadata": {},
   "outputs": [],
   "source": [
    "int_type = 'mvt_L'\n",
    "plotEvolutionMultiCh(Xfull.T, Xtimes_full, feature_names_all, interval=ivalis[int_type][0] )"
   ]
  },
  {
   "cell_type": "code",
   "execution_count": null,
   "metadata": {},
   "outputs": [],
   "source": [
    "# feat_types = ['con']\n",
    "# bands = ['beta']\n",
    "# feats_toshow = feature_names_all[:20] + feature_names_all[-20:]\n",
    "# feats_toshow = feature_names_all\n",
    "\n",
    "# %matplotlib qt\n",
    "# plt.figure(figsize=(30,len(feats_toshow)))\n",
    "\n",
    "# int_bnd_toshow = 'start'\n",
    "# int_type = 'mvt_L'\n",
    "\n",
    "# #beg,end = 0,40\n",
    "# start,end,tp = ivalis[int_type][0]\n",
    "\n",
    "# extend = 10\n",
    "# if int_bnd_toshow == 'start':\n",
    "#     tv = start\n",
    "# elif int_bnd_toshow == 'end':\n",
    "#     tv = end\n",
    "# else: \n",
    "#     raise ValueError('not impl')\n",
    "# time_wnd = max(0,tv-extend), min(Xtimes_full[-1], tv+extend) \n",
    "# timinds = np.where( (Xtimes_full >= time_wnd[0])  * (Xtimes_full <= time_wnd[1])  )[0]\n",
    "# times_inwnd = Xtimes_full[timinds]\n",
    "\n",
    "# ax = plt.gca()\n",
    "# yshift = 0\n",
    "# yshifts = []\n",
    "# for fi in range(len(feats_toshow)):\n",
    "#     yshifts += [yshift]\n",
    "#     curdat = Xfull[timinds,fi]\n",
    "#     p = ax.plot( times_inwnd, curdat + yshift, alpha=0.8)\n",
    "#     ax.axhline(y=yshift, c = p[0].get_color(), ls=':')\n",
    "#     yshift += np.std(curdat) * 4\n",
    "    \n",
    "# #ax.axvline(x = start, c='r', ls=':')\n",
    "# ax.axvline(x = tv, c='r', ls=':', label='{} {}'.format(int_type,int_bnd_toshow))\n",
    "# ax.set_xlim(time_wnd)\n",
    "\n",
    "# ax.set_yticks(yshifts)\n",
    "# ax.set_yticklabels(feats_toshow)\n",
    "\n",
    "# ax.set_xlabel('time in [s], shifted by {} edgebins'.format(nedgeBins))\n",
    "\n",
    "# plt.savefig('{} feat_evol {} {} +- {}.png'.format(rawname_,int_type,int_bnd_toshow,extend))"
   ]
  },
  {
   "cell_type": "code",
   "execution_count": null,
   "metadata": {},
   "outputs": [],
   "source": [
    "#ln[0].get_color()"
   ]
  },
  {
   "cell_type": "code",
   "execution_count": null,
   "metadata": {},
   "outputs": [],
   "source": [
    "Xfull.shape"
   ]
  },
  {
   "cell_type": "code",
   "execution_count": null,
   "metadata": {},
   "outputs": [],
   "source": [
    "# vec_features can have some NaNs since pandas fills invalid indices with them\n",
    "assert np.any( np.isnan ( Xfull ) ) == False \n",
    "assert Xfull.dtype == np.dtype('float64')"
   ]
  },
  {
   "cell_type": "code",
   "execution_count": null,
   "metadata": {},
   "outputs": [],
   "source": [
    "gc.collect()"
   ]
  },
  {
   "cell_type": "code",
   "execution_count": null,
   "metadata": {},
   "outputs": [],
   "source": [
    "Xfull.shape"
   ]
  },
  {
   "cell_type": "code",
   "execution_count": null,
   "metadata": {},
   "outputs": [],
   "source": [
    "feature_names_all"
   ]
  },
  {
   "cell_type": "markdown",
   "metadata": {},
   "source": [
    "## Subsample"
   ]
  },
  {
   "cell_type": "code",
   "execution_count": null,
   "metadata": {},
   "outputs": [],
   "source": [
    "desiredNpts = 7000\n",
    "skip = ntimebins // desiredNpts\n",
    "\n",
    "skip = 256 // 2\n",
    "\n",
    "X = np.abs( Xfull[::skip] )\n",
    "\n",
    "Xtimes = raw_lfponly.times[nedgeBins:-nedgeBins:skip]\n",
    "print('Skip = {},  Xtimes number = {}'.format(skip, Xtimes.shape[0  ] ) ) "
   ]
  },
  {
   "cell_type": "markdown",
   "metadata": {},
   "source": [
    "### Plot stats for subsampled data"
   ]
  },
  {
   "cell_type": "code",
   "execution_count": null,
   "metadata": {},
   "outputs": [],
   "source": [
    "len(feature_names_all)"
   ]
  },
  {
   "cell_type": "code",
   "execution_count": null,
   "metadata": {},
   "outputs": [],
   "source": [
    "X.shape"
   ]
  },
  {
   "cell_type": "code",
   "execution_count": null,
   "metadata": {},
   "outputs": [],
   "source": [
    "del utsne"
   ]
  },
  {
   "cell_type": "code",
   "execution_count": null,
   "metadata": {},
   "outputs": [],
   "source": [
    "import utils_tSNE as utsne"
   ]
  },
  {
   "cell_type": "code",
   "execution_count": null,
   "metadata": {},
   "outputs": [],
   "source": [
    "a,b = np.histogram(np.random.uniform(0,1,size=30),bins=100)"
   ]
  },
  {
   "cell_type": "code",
   "execution_count": null,
   "metadata": {},
   "outputs": [],
   "source": [
    "plt.bar(b[:-1],a)"
   ]
  },
  {
   "cell_type": "code",
   "execution_count": null,
   "metadata": {},
   "outputs": [],
   "source": [
    "len(a)"
   ]
  },
  {
   "cell_type": "code",
   "execution_count": null,
   "metadata": {},
   "outputs": [],
   "source": [
    "len(b)"
   ]
  },
  {
   "cell_type": "code",
   "execution_count": null,
   "metadata": {},
   "outputs": [],
   "source": [
    "utsne.plotBasicStatsMultiCh([X.T], feature_names_all, printMeans=0)\n",
    "plt.savefig('fd.png',dpi=200)"
   ]
  },
  {
   "cell_type": "code",
   "execution_count": null,
   "metadata": {},
   "outputs": [],
   "source": [
    "utsne.plotEvolutionMultiCh(X.T, Xtimes, feature_names_all, interval=ivalis[int_type][0],\n",
    "                     rawname=rawname_)\n"
   ]
  },
  {
   "cell_type": "code",
   "execution_count": null,
   "metadata": {},
   "outputs": [],
   "source": [
    "nr = X.shape[1]; nc=1;  ww = 5; hh = 2\n",
    "fig,axs = plt.subplots(nrows=nr, ncols=nc, sharex='col',  figsize = (ww*nc, hh*nr))\n",
    "for ind in range(nr ):\n",
    "    #ax = axs[ind,0]\n",
    "    ax = axs[ind]\n",
    "    ax.hist(X[:,ind], bins=100, alpha=0.7 )\n",
    "    m = np.mean(X[:,ind]); #print(m)\n",
    "    ax.axvline(x=m,c='r',ls=':')\n",
    "    ax.set_title(feature_names_all[ind])\n",
    "    \n",
    "plt.savefig('subsumpled_features_stats.png')\n",
    "plt.close()\n",
    "#     ax = axs[ind,1]\n",
    "#     ax.hist(dat_scaled[ind], bins=100, alpha=0.7 )\n",
    "#     m = np.mean(dat_scaled[ind]); print(m)\n",
    "#     ax.axvline(x=m,c='r',ls=':')\n",
    "#     ax.set_title(subfeature_order[ind] + '_scaled')\n",
    "#plt.legend()"
   ]
  },
  {
   "cell_type": "markdown",
   "metadata": {},
   "source": [
    "## Prepare colors"
   ]
  },
  {
   "cell_type": "code",
   "execution_count": null,
   "metadata": {},
   "outputs": [],
   "source": [
    "extend"
   ]
  },
  {
   "cell_type": "code",
   "execution_count": null,
   "metadata": {},
   "outputs": [],
   "source": [
    "tremcolor = 'r'\n",
    "nontremcolor = 'g'\n",
    "mvtcolor = 'b'  #c,y\n",
    "\n",
    "hsfc = side_hand\n",
    "#hsfc = 'L'; print('Using not hand side (perhabs) for coloring')\n",
    "annot_colors = { 'trem_{}'.format(hsfc): tremcolor  }\n",
    "annot_colors[ 'no_tremor_{}'.format(hsfc) ] = nontremcolor\n",
    "annot_colors[ 'mvt_{}'.format(hsfc) ] = mvtcolor\n",
    "#annot_colors[ 'no_tremor_{}'.format(hand_side) ] = nontremcolor\n",
    "#annot_colors[ 'no_tremor_{}'.format(hand_side) ] = nontremcolor\n",
    "\n",
    "colors =  np.array(  [nontremcolor] * len(Xtimes) )\n",
    "\n",
    "markers = np.array( ['o'] * len(Xtimes) )\n",
    "mrk = ['<','>','o','^','v']\n",
    "\n",
    "for an in anns:\n",
    "    for descr in annot_colors:\n",
    "        if an['description'] == descr:\n",
    "            col = annot_colors[descr]\n",
    "    \n",
    "            start = an['onset']\n",
    "            end = start + an['duration']\n",
    "            inds = np.where((Xtimes >= start)* (Xtimes <= end)  )[0]\n",
    "            colors[inds] = [col]\n",
    "            \n",
    "            \n",
    "            timesBnds = [start - extend, start, start+extend, end-extend, end, end+extend]\n",
    "            indsBnd = raw_lfponly.time_as_index(timesBnds)\n",
    "            print(indsBnd)\n",
    "            for ii in range(len(indsBnd)-1 ):\n",
    "                inds2 = np.where((Xtimes >= timesBnds[ii])* (Xtimes <= timesBnds[ii+1])  )[0]\n",
    "                markers[inds2] = mrk[ii]\n",
    "                colors[inds2] = [col]\n",
    "                print(len(inds2))\n",
    "                \n",
    "                \n",
    "            #[ (times[inds[i] ], times[inds[i+1] ],sliceNames[i] ) for i in range(len(inds) -1 ) ] \n",
    "\n",
    "\n",
    "# postcolor = 'blue'\n",
    "# precolor = 'yellow'\n",
    "\n",
    "# predur = 3\n",
    "# postdur = 3\n",
    "\n",
    "# inds = np.where((Xtimes >= tremend - predur)* (Xtimes <= tremend )  )[0]\n",
    "# colors[inds] = [precolor]\n",
    "\n",
    "# inds = np.where((Xtimes >= tremend)* (Xtimes <= tremend + postdur )  )[0]\n",
    "# colors[inds] = [postcolor]"
   ]
  },
  {
   "cell_type": "code",
   "execution_count": null,
   "metadata": {},
   "outputs": [],
   "source": [
    "Xfull.shape"
   ]
  },
  {
   "cell_type": "markdown",
   "metadata": {},
   "source": [
    "## Run PCA"
   ]
  },
  {
   "cell_type": "code",
   "execution_count": null,
   "metadata": {},
   "outputs": [],
   "source": [
    "#nPCA_comp = 250\n",
    "nPCA_comp = 0.95"
   ]
  },
  {
   "cell_type": "code",
   "execution_count": null,
   "metadata": {},
   "outputs": [],
   "source": [
    "from sklearn.decomposition import PCA\n",
    "pca = PCA(n_components=nPCA_comp)\n",
    "pca.fit(Xfull)\n",
    "\n",
    "pcapts = pca.transform(X)\n",
    "\n",
    "print('total explained variance proportion {} with {} components'.\n",
    "      format(np.sum(pca.explained_variance_ratio_), pcapts.shape[1] ) )\n",
    "print(pca.explained_variance_ratio_[:10])"
   ]
  },
  {
   "cell_type": "code",
   "execution_count": null,
   "metadata": {},
   "outputs": [],
   "source": [
    "gc.collect()"
   ]
  },
  {
   "cell_type": "markdown",
   "metadata": {},
   "source": [
    "### Plot some PCA components"
   ]
  },
  {
   "cell_type": "code",
   "execution_count": null,
   "metadata": {},
   "outputs": [],
   "source": [
    "extend"
   ]
  },
  {
   "cell_type": "code",
   "execution_count": null,
   "metadata": {},
   "outputs": [],
   "source": [
    "np.where( markers == '>' )"
   ]
  },
  {
   "cell_type": "code",
   "execution_count": null,
   "metadata": {},
   "outputs": [],
   "source": [
    "def plotMultiMarker(ax,dat1, dat2, c, m, alpha=None):\n",
    "    for curm in list( set( markers ) ):\n",
    "        inds = np.where(m==curm)[0]\n",
    "        if len(inds):\n",
    "            #print(inds)\n",
    "            ax.scatter(dat1[inds],dat2[inds],c=c[inds],marker=curm,alpha=alpha)"
   ]
  },
  {
   "cell_type": "code",
   "execution_count": null,
   "metadata": {},
   "outputs": [],
   "source": []
  },
  {
   "cell_type": "code",
   "execution_count": null,
   "metadata": {},
   "outputs": [],
   "source": [
    "nc = 3; nr = 1; ww = 5; hh = 4\n",
    "fig,axs = plt.subplots(nrows=nr, ncols=nc, figsize=(nc*ww,nr*hh))\n",
    "ii = 0\n",
    "ax = axs[ii]; plotMultiMarker(ax, pcapts[:,0], pcapts[:,ii+1], c=colors, m = markers, alpha=0.5); ii+=1\n",
    "#ax.scatter(pcapts[:,0], pcapts[:,ii+1], c=colors.tolist()); ii += 1\n",
    "ax = axs[ii]; plotMultiMarker(ax, pcapts[:,0], pcapts[:,ii+1], c=colors, m = markers, alpha=0.5); ii+=1\n",
    "ax = axs[ii]; plotMultiMarker(ax, pcapts[:,0], pcapts[:,ii+1], c=colors, m = markers, alpha=0.5); ii+=1\n",
    "\n",
    "#legel_trem = mpl.patches.Patch(facecolor=tremcolor, edgecolor=None, label='trem')\n",
    "\n",
    "legel_trem = mpl.lines.Line2D([0], [0], marker='o', color='w', label='trem', \n",
    "                              markerfacecolor=tremcolor, markersize=8)\n",
    "legel_notrem = mpl.lines.Line2D([0], [0], marker='o', color='w', label='notrem', \n",
    "                              markerfacecolor=nontremcolor, markersize=8)\n",
    "legel_mvt = mpl.lines.Line2D([0], [0], marker='o', color='w', label='mvt', \n",
    "                              markerfacecolor=mvtcolor, markersize=8)\n",
    "# legel_preend = mpl.lines.Line2D([0], [0], marker='o', color='w', label='preend', \n",
    "#                               markerfacecolor=precolor, markersize=8)\n",
    "# legel_postend = mpl.lines.Line2D([0], [0], marker='o', color='w', label='postend', \n",
    "#                               markerfacecolor=postcolor, markersize=8)\n",
    "\n",
    "\n",
    "\n",
    "#legend_elements = [legel_trem, legel_notrem, legel_preend, legel_postend]\n",
    "legend_elements = [legel_trem, legel_notrem, legel_mvt]\n",
    "\n",
    "# Create the figure\n",
    "#fig, ax = plt.subplots()\n",
    "plt.legend(handles=legend_elements)\n",
    "plt.suptitle('PCA')\n",
    "#plt.show()"
   ]
  },
  {
   "cell_type": "markdown",
   "metadata": {},
   "source": [
    "## Run TSNE"
   ]
  },
  {
   "cell_type": "code",
   "execution_count": null,
   "metadata": {},
   "outputs": [],
   "source": [
    "XX = pcapts\n",
    "\n",
    "\n",
    "\n",
    "#X = np.array([[0, 0, 0], [0, 1, 1], [1, 0, 1], [1, 1, 1]])"
   ]
  },
  {
   "cell_type": "code",
   "execution_count": null,
   "metadata": {},
   "outputs": [],
   "source": [
    "gc.collect()"
   ]
  },
  {
   "cell_type": "code",
   "execution_count": null,
   "metadata": {},
   "outputs": [],
   "source": [
    "# function to be run in parallel\n",
    "def run_tsne(p):\n",
    "    t0 = time.time()\n",
    "    pi,si, XX, seed, perplex_cur, lrate = p\n",
    "    tsne = TSNE(n_components=2, random_state=seed, perplexity=perplex_cur, learning_rate=lrate)\n",
    "    X_embedded = tsne.fit_transform(XX)\n",
    "    \n",
    "    dur = time.time() - t0\n",
    "    print('comnputed in {:.3f}s: perplexity = {};  lrate = {}; seed = {}'.\n",
    "          format(dur,perplex_cur, lrate, seed))\n",
    "    \n",
    "    return pi,si,X_embedded, seed, perplex_cur, lrate"
   ]
  },
  {
   "cell_type": "markdown",
   "metadata": {},
   "source": [
    "### Prepare arguments "
   ]
  },
  {
   "cell_type": "code",
   "execution_count": null,
   "metadata": {},
   "outputs": [],
   "source": [
    "perplex_values = [5, 10, 30, 40, 50]\n",
    "seeds = range(5)\n",
    "lrate = 200.\n",
    "\n",
    "#lrate = 100.\n",
    "#seeds = range(5)\n",
    "perplex_values = [5, 30, 50]\n",
    "seeds = range(2)\n",
    "\n",
    "#perplex_values = [30]\n",
    "#seeds = [0]\n",
    "\n",
    "\n",
    "res = []\n",
    "args = []\n",
    "for pi,perplex_cur in enumerate(perplex_values):\n",
    "    subres = []\n",
    "    for si,seed in enumerate(seeds):\n",
    "\n",
    "        args += [ (pi,si, XX.copy(), seed, perplex_cur, lrate)]\n",
    "        #tsne = TSNE(n_components=2, random_state=seed, perplexity=perplex_cur, learning_rate=lrate)\n",
    "        \n",
    "\n",
    "        #X_embedded = tsne.fit_transform(XX)\n",
    "        #X_embedded.shape\n",
    "        #subres += [X_embedded]\n",
    "\n",
    "    #res += [subres]\n",
    "    "
   ]
  },
  {
   "cell_type": "markdown",
   "metadata": {},
   "source": [
    "### Run parallel"
   ]
  },
  {
   "cell_type": "code",
   "execution_count": null,
   "metadata": {},
   "outputs": [],
   "source": [
    "import multiprocessing as mpr\n",
    "ncores = min(len(args) , mpr.cpu_count()-2)\n",
    "if ncores > 1:\n",
    "    pool = mpr.Pool(ncores)\n",
    "    print('Starting {} workers on {} cores'.format(len(args), ncores))\n",
    "    r = pool.map(run_tsne, args)\n",
    "\n",
    "    pool.close()\n",
    "    pool.join()\n",
    "else:\n",
    "    r = [run_tsne(args[0])]"
   ]
  },
  {
   "cell_type": "markdown",
   "metadata": {},
   "source": [
    "### Make tSNE plots"
   ]
  },
  {
   "cell_type": "code",
   "execution_count": null,
   "metadata": {},
   "outputs": [],
   "source": [
    "#cols = [colors, colors2, colors3]\n",
    "cols = [colors]\n",
    "\n",
    "colind = 0\n",
    "nr = len(seeds)\n",
    "nc = len(perplex_values)\n",
    "ww = 8; hh=8\n",
    "fig,axs = plt.subplots(ncols =nc, nrows=nr, figsize = (nc*ww, nr*hh))\n",
    "if not isinstance(axs,np.ndarray):\n",
    "    axs = np.array([[axs]] )\n",
    "# for pi,pv in enumerate(perplex_values):\n",
    "#     for si,sv in enumerate(seeds):\n",
    "for tpl in r:\n",
    "    pi,si,X_embedded, seed, perplex_cur, lrate = tpl\n",
    "    ax = axs[si,pi]\n",
    "    #X_embedded = res[si][pi]\n",
    "    plotMultiMarker(ax, X_embedded[:,0],  X_embedded[:,1], c=cols[colind], m = markers, alpha=0.5); ii+=1\n",
    "    #ax.scatter(X_embedded[:,0], X_embedded[:,1], c = cols[colind], s=5)\n",
    "    ax.set_title('perplexity = {};  lrate = {}; seed = {}'.format(perplex_cur, lrate, seed))\n",
    "\n",
    "axs[0,0].legend(handles=legend_elements)\n",
    "figname = 'tSNE_inpdim{}_PCAdim{}_hside{}_trem_minFreq={}_lrate{}.png'.format(X.shape[-1], pcapts.shape[-1], side_hand,min_freq, lrate)\n",
    "plt.suptitle(figname)\n",
    "plt.savefig(figname)"
   ]
  },
  {
   "cell_type": "code",
   "execution_count": null,
   "metadata": {},
   "outputs": [],
   "source": []
  },
  {
   "cell_type": "code",
   "execution_count": null,
   "metadata": {},
   "outputs": [],
   "source": []
  }
 ],
 "metadata": {
  "celltoolbar": "Initialization Cell",
  "kernelspec": {
   "display_name": "Python 3",
   "language": "python",
   "name": "python3"
  },
  "language_info": {
   "codemirror_mode": {
    "name": "ipython",
    "version": 3
   },
   "file_extension": ".py",
   "mimetype": "text/x-python",
   "name": "python",
   "nbconvert_exporter": "python",
   "pygments_lexer": "ipython3",
   "version": "3.6.9"
  },
  "varInspector": {
   "cols": {
    "lenName": 16,
    "lenType": 16,
    "lenVar": 40
   },
   "kernels_config": {
    "python": {
     "delete_cmd_postfix": "",
     "delete_cmd_prefix": "del ",
     "library": "var_list.py",
     "varRefreshCmd": "print(var_dic_list())"
    },
    "r": {
     "delete_cmd_postfix": ") ",
     "delete_cmd_prefix": "rm(",
     "library": "var_list.r",
     "varRefreshCmd": "cat(var_dic_list()) "
    }
   },
   "oldHeight": 560.85,
   "position": {
    "height": "582.85px",
    "left": "1712px",
    "right": "20px",
    "top": "120px",
    "width": "188px"
   },
   "types_to_exclude": [
    "module",
    "function",
    "builtin_function_or_method",
    "instance",
    "_Feature"
   ],
   "varInspector_section_display": "block",
   "window_display": false
  }
 },
 "nbformat": 4,
 "nbformat_minor": 2
}
