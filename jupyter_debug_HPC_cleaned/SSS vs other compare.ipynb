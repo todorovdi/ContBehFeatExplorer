{
 "cells": [
  {
   "cell_type": "code",
   "execution_count": null,
   "metadata": {
    "run_control": {
     "marked": false
    }
   },
   "outputs": [],
   "source": [
    "import os,sys\n",
    "import mne\n",
    "import json\n",
    "import matplotlib.pyplot as plt\n",
    "import numpy as np\n",
    "\n",
    "code_dir = os.path.expandvars('$OSCBAGDIS_DATAPROC_CODE')\n",
    "sys.path.append(code_dir)\n",
    "\n",
    "import utils  #my code\n",
    "import utils_preproc as upre\n",
    "from os.path import join as pjoin\n",
    "%load_ext autoreload\n",
    "%autoreload 2\n",
    "\n",
    "\n",
    "\n",
    "if os.environ.get('DATA_DUSS') is not None:\n",
    "    data_dir = os.path.expandvars('$DATA_DUSS')\n",
    "else:\n",
    "    data_dir = '/home/demitau/data'\n",
    "    \n",
    "\n",
    "rawname_ = 'S01_off_hold'\n",
    "#rawname_ = 'S01_on_hold'\n",
    "#rawname_ = 'S01_off_move'\n",
    "#rawname_ = 'S01_on_move'\n",
    "\n",
    "#rawname_ = 'S02_off_hold'\n",
    "#rawname_ = 'S02_on_hold' \n",
    "#rawname_ = 'S02_off_move'  \n",
    "#rawname_ = 'S02_on_move'\n",
    "\n",
    "#rawname_ = 'S03_off_move'  \n",
    "#rawname_ = 'S03_off_hold'  \n",
    "\n",
    "rawname = rawname_ + '_resample_raw.fif'\n",
    "fname_full = pjoin(data_dir,rawname)\n",
    "\n",
    "subj,medcond,task  = utils.getParamsFromRawname(rawname_)\n",
    "sind_str = subj\n",
    "\n",
    "\n",
    "# read file -- resampled to 256 Hz,  Electa MEG, EMG, LFP, EOG channels\n",
    "raw = mne.io.read_raw_fif(fname_full, None)\n",
    "mod_info, infos = upre.readInfo(rawname_, raw)\n",
    "raw.info = mod_info\n",
    "\n",
    "# get info about bad MEG channels (from separate file)\n",
    "with open(pjoin(code_dir,'subj_info.json') ) as info_json:\n",
    "        #raise TypeError\n",
    "\n",
    "    #json.dumps({'value': numpy.int64(42)}, default=convert)\n",
    "    gen_subj_info = json.load(info_json)\n",
    "    \n",
    "maintremside = gen_subj_info[subj]['tremor_side']\n",
    "nonmaintremside = utils.getOppositeSideStr(maintremside)\n",
    "    \n",
    "badchlist = gen_subj_info[subj]['bad_channels'][medcond][task]\n",
    "raw.info['bads'] = badchlist\n",
    "print('bad channels (from Jan) are ',badchlist)"
   ]
  },
  {
   "cell_type": "code",
   "execution_count": null,
   "metadata": {},
   "outputs": [],
   "source": [
    "fname_bads = '{}_MEGch_bads_upd.npz'.format(rawname_)\n",
    "fname_bads_full = os.path.join( data_dir, fname_bads)\n",
    "if os.path.exists(fname_bads_full):\n",
    "    badchlist_upd = list(np.load(fname_bads_full)['arr_0'])\n",
    "    print('Setting additional bad channels ', set(badchlist_upd)-set(badchlist))\n",
    "\n",
    "    raw.info['bads'] = list(badchlist_upd)\n",
    "    \n",
    "    do_MaxFilter_bad_chans = 0\n",
    "else:\n",
    "    do_MaxFilter_bad_chans = 1\n",
    "print(do_MaxFilter_bad_chans)"
   ]
  },
  {
   "cell_type": "code",
   "execution_count": null,
   "metadata": {},
   "outputs": [],
   "source": [
    "# Butterwordth 4th order -- for stopping power grid noise\n",
    "#help(raw_sss.notch_filter)\n",
    "raw.load_data()\n",
    "#import numpy as np\n",
    "freqsToKill = np.arange(50, 128, 50) # harmonics of 50\n",
    "raw.notch_filter(freqsToKill, picks=['meg','eog'])"
   ]
  },
  {
   "cell_type": "code",
   "execution_count": null,
   "metadata": {},
   "outputs": [],
   "source": [
    "radius, origin, _ = mne.bem.\\\n",
    "fit_sphere_to_headshape(mod_info, dig_kinds=('cardinal','hpi'))"
   ]
  },
  {
   "cell_type": "code",
   "execution_count": null,
   "metadata": {},
   "outputs": [],
   "source": [
    "fine_cal_file  = os.path.join(data_dir,  'sss_cal.dat')\n",
    "crosstalk_file = os.path.join(data_dir,  'ct_sparse.fif')"
   ]
  },
  {
   "cell_type": "code",
   "execution_count": null,
   "metadata": {},
   "outputs": [],
   "source": [
    "#Maxwell filter\n",
    "raw_sss = mne.preprocessing.\\\n",
    "maxwell_filter(raw, cross_talk=crosstalk_file,\n",
    "               calibration=fine_cal_file, origin=origin,\n",
    "              coord_frame='head')\n",
    "\n",
    "import gc; gc.collect()"
   ]
  },
  {
   "cell_type": "code",
   "execution_count": null,
   "metadata": {},
   "outputs": [],
   "source": [
    "raw.info['bads']"
   ]
  },
  {
   "cell_type": "code",
   "execution_count": null,
   "metadata": {},
   "outputs": [],
   "source": [
    "raw_ssp = raw.copy()"
   ]
  },
  {
   "cell_type": "code",
   "execution_count": null,
   "metadata": {},
   "outputs": [],
   "source": [
    "raw_ssp.info['projs']"
   ]
  },
  {
   "cell_type": "code",
   "execution_count": null,
   "metadata": {},
   "outputs": [],
   "source": [
    "raw_ssp.apply_proj()\n",
    "raw_ssp.info['bads'] = []"
   ]
  },
  {
   "cell_type": "code",
   "execution_count": null,
   "metadata": {},
   "outputs": [],
   "source": [
    "raw_ssp.info"
   ]
  },
  {
   "cell_type": "code",
   "execution_count": null,
   "metadata": {},
   "outputs": [],
   "source": [
    "#Maxwell filter\n",
    "raw_tsss = mne.preprocessing.\\\n",
    "maxwell_filter(raw, cross_talk=crosstalk_file,\n",
    "               calibration=fine_cal_file, origin=origin,\n",
    "              coord_frame='head', st_duration=10)\n",
    "\n",
    "import gc; gc.collect()"
   ]
  },
  {
   "cell_type": "code",
   "execution_count": null,
   "metadata": {},
   "outputs": [],
   "source": [
    "#Maxwell filter\n",
    "raw_sss_frame_meg = mne.preprocessing.\\\n",
    "maxwell_filter(raw, cross_talk=crosstalk_file,\n",
    "               calibration=fine_cal_file, coord_frame='meg')\n",
    "\n",
    "import gc; gc.collect()"
   ]
  },
  {
   "cell_type": "code",
   "execution_count": null,
   "metadata": {},
   "outputs": [],
   "source": [
    "raw.info"
   ]
  },
  {
   "cell_type": "code",
   "execution_count": null,
   "metadata": {},
   "outputs": [],
   "source": [
    "raw_tsss.info['projs']"
   ]
  },
  {
   "cell_type": "code",
   "execution_count": null,
   "metadata": {},
   "outputs": [],
   "source": [
    "raw.info['projs']"
   ]
  },
  {
   "cell_type": "code",
   "execution_count": null,
   "metadata": {
    "run_control": {
     "marked": false
    }
   },
   "outputs": [],
   "source": [
    "help(raw_sss.apply_proj)"
   ]
  },
  {
   "cell_type": "code",
   "execution_count": null,
   "metadata": {},
   "outputs": [],
   "source": [
    "raw_sss.info"
   ]
  },
  {
   "cell_type": "code",
   "execution_count": null,
   "metadata": {},
   "outputs": [],
   "source": [
    "raws_toshow = {'naked':raw.copy(), 'sss':raw_sss, 'sss_fm':raw_sss_frame_meg,\n",
    "               'tsss':raw_tsss, 'ssp':raw_ssp}"
   ]
  },
  {
   "cell_type": "code",
   "execution_count": null,
   "metadata": {},
   "outputs": [],
   "source": [
    "raws_toshow['naked'].info['bads'] = []"
   ]
  },
  {
   "cell_type": "code",
   "execution_count": null,
   "metadata": {},
   "outputs": [],
   "source": []
  },
  {
   "cell_type": "code",
   "execution_count": null,
   "metadata": {},
   "outputs": [],
   "source": [
    "# raw_sss_frame_meg.pick_types(meg=True, misc=False, bio=False, emg=False, \n",
    "#                               eog=False, exclude='bads')\n",
    "# raw_sss_frame_meg = raw_sss_frame_meg.filter(l_freq=1., h_freq=None)"
   ]
  },
  {
   "cell_type": "code",
   "execution_count": null,
   "metadata": {},
   "outputs": [],
   "source": [
    "#raws_toshow['sss_fm'] = raw_sss_frame_meg"
   ]
  },
  {
   "cell_type": "code",
   "execution_count": null,
   "metadata": {},
   "outputs": [],
   "source": []
  },
  {
   "cell_type": "code",
   "execution_count": null,
   "metadata": {},
   "outputs": [],
   "source": [
    "for k in raws_toshow:\n",
    "    raws_toshow[k].load_data()\n",
    "    raws_toshow[k].pick_types(meg=True, misc=False, bio=False, emg=False, \n",
    "                              eog=False, exclude='bads')\n",
    "    raws_toshow[k] = raws_toshow[k].filter(l_freq=1., h_freq=None)\n",
    "    # get rid of bad channels"
   ]
  },
  {
   "cell_type": "code",
   "execution_count": null,
   "metadata": {},
   "outputs": [],
   "source": [
    "rectconv_fname_full = os.path.join(data_dir, '{}_emg_rectconv.fif'.format(rawname_) )\n",
    "raw_emg_rectconv = mne.io.read_raw_fif(rectconv_fname_full)\n"
   ]
  },
  {
   "cell_type": "markdown",
   "metadata": {},
   "source": [
    "# Plot overall"
   ]
  },
  {
   "cell_type": "code",
   "execution_count": null,
   "metadata": {},
   "outputs": [],
   "source": [
    "%matplotlib qt\n",
    "mult = 2.5\n",
    "import utils_tSNE as utsne\n",
    "\n"
   ]
  },
  {
   "cell_type": "code",
   "execution_count": null,
   "metadata": {},
   "outputs": [],
   "source": [
    "len(raws_toshow['naked'].ch_names)"
   ]
  },
  {
   "cell_type": "code",
   "execution_count": null,
   "metadata": {},
   "outputs": [],
   "source": [
    "badchlist_upd"
   ]
  },
  {
   "cell_type": "code",
   "execution_count": null,
   "metadata": {},
   "outputs": [],
   "source": [
    "nonbad = list( set(raws_toshow['naked'].ch_names) - set(badchlist_upd) )\n",
    "len(nonbad)"
   ]
  },
  {
   "cell_type": "code",
   "execution_count": null,
   "metadata": {},
   "outputs": [],
   "source": []
  },
  {
   "cell_type": "code",
   "execution_count": null,
   "metadata": {},
   "outputs": [],
   "source": [
    "plt.close('all')\n",
    "ww = 14; hh = 4\n",
    "nr = len(raws_toshow)+1; nc = 1\n",
    "fig,axs = plt.subplots(nr,nc, figsize=(nc*ww, nr*hh),sharex='col')\n",
    "ks = list(raws_toshow.keys())\n",
    "\n",
    "\n",
    "xlim = raw.times[0],raw.times[-1]\n",
    "xlim = 300,400\n",
    "xlim = 500,550\n",
    "\n",
    "scale_mode = 'separate'\n",
    "scale_mode = 'from_naked'\n",
    "#scale_mode = 'no'\n",
    "\n",
    "chansel = nonbad\n",
    "#chansel = raws_toshow['naked'].ch_names\n",
    "\n",
    "ax = axs[0]\n",
    "emg = raw_emg_rectconv.get_data()\n",
    "for emgchi in range(len(emg)):\n",
    "    ax.plot(raw.times,emg[emgchi], label=raw_emg_rectconv.ch_names[emgchi], alpha=0.6)\n",
    "ax.legend(loc='upper right')\n",
    "\n",
    "\n",
    "megdat,times = raws_toshow['naked'][nonbad]\n",
    "me_naked, mn_naked,mx_naked = utsne.robustMean(megdat, axis=1, per_dim =1, \n",
    "                                               ret_aux=1, q = .25)\n",
    "# megdat_sum = np.sum(np.abs(megdat_scaled),axis=0)\n",
    "# me_s_naked, mn_s_naked, mx_s_naked = utsne.robustMean(megdat_sum, axis=None, \n",
    "#                                    per_dim =1, ret_aux=1, pos = 1)\n",
    "\n",
    "for i,k in enumerate(ks):\n",
    "    #raw_only_meg = filt_raw.copy()\n",
    "    #megdat = raws_toshow[k].get_data()\n",
    "    megdat,times = raws_toshow[k][nonbad]\n",
    "    \n",
    "    # pctshift = 25\n",
    "    # pcts = [pctshift, 100-pctshift]\n",
    "    # qs = np.percentile(megdat, pcts, axis=1)\n",
    "    me, mn,mx = utsne.robustMean(megdat, axis=1, per_dim =1, ret_aux=1, q = .25)\n",
    "    if scale_mode == 'separate':\n",
    "        megdat_scaled = ( megdat - me[:,None] ) \n",
    "        megdat_scaled /= (mx-mn)[:,None]\n",
    "    elif scale_mode == 'from_naked':\n",
    "        megdat_scaled = ( megdat - me_naked[:,None] ) \n",
    "        megdat_scaled /= (mx_naked - mn_naked)[:,None]\n",
    "    elif scale_mode == 'no':\n",
    "        megdat_scaled = ( megdat - me[:,None] ) \n",
    "    megdat_sum = np.sum(np.abs(megdat_scaled),axis=0)\n",
    "    me_s, mn_s,mx_s = utsne.robustMean(megdat_sum, axis=None, \n",
    "                                       per_dim =1, ret_aux=1, pos = 1)\n",
    "\n",
    "    mask= megdat_sum > mx_s * mult\n",
    "    _,ivals_meg_artif = utils.getIntervals(np.where(mask)[0] ,include_short_spikes=1, \n",
    "                                           endbin=len(mask), thr=1e-2)\n",
    "    ivals_meg_artif\n",
    "    \n",
    "    \n",
    "    ax = axs[i+1]\n",
    "    ax.plot(raw.times,megdat_sum)\n",
    "    ax.axhline( me_s , c='r', ls=':')\n",
    "    ax.axhline( mx_s , c='purple', ls=':')\n",
    "    ax.axhline( me_s * mult , c='r', ls=':')\n",
    "    ax.axhline( mx_s * mult , c='purple', ls=':')\n",
    "    ax.set_title(k)\n",
    "\n",
    "    for ivl in ivals_meg_artif:\n",
    "        b0,b1 = ivl\n",
    "        ax.axvline( raw.times[b0] , c='r', ls=':')\n",
    "        ax.axvline( raw.times[b1] , c='r', ls=':')\n",
    "        \n",
    "    ax.set_xlim(xlim)\n",
    "        \n",
    "plt.suptitle('scale = {}'.format(scale_mode))\n",
    "plt.savefig('{}_multiArtifCorr_dur{:.1f}s.png'.format(rawname_,xlim[1]-xlim[0] ),dpi=200)"
   ]
  },
  {
   "cell_type": "markdown",
   "metadata": {},
   "source": [
    "# Plot power concentr"
   ]
  },
  {
   "cell_type": "code",
   "execution_count": null,
   "metadata": {},
   "outputs": [],
   "source": [
    "sfreq = raw.info['sfreq']\n",
    "#decim = 10\n",
    "decim = 30\n",
    "freq_min, freq_max = 3,90\n",
    "freq_step = 1\n",
    "freqs = np.arange(freq_min,freq_max,freq_step) #np.linspace(freq_min, freq_max, num=nfreqs)\n",
    "endrec = raw.times[-1]\n",
    "\n",
    "n_cycles = 7 + freqs  #/ 2.  # different number of cycle per frequency"
   ]
  },
  {
   "cell_type": "code",
   "execution_count": null,
   "metadata": {},
   "outputs": [],
   "source": [
    "tfrs = {}"
   ]
  },
  {
   "cell_type": "code",
   "execution_count": null,
   "metadata": {},
   "outputs": [],
   "source": [
    "raws_toshow.keys()"
   ]
  },
  {
   "cell_type": "code",
   "execution_count": null,
   "metadata": {},
   "outputs": [],
   "source": [
    "for k in ks:\n",
    "    strec = 0\n",
    "    #endrec = 300  \n",
    "    epdur = endrec\n",
    "    curraw=  raws_toshow[k]\n",
    "    new_events = mne.make_fixed_length_events(curraw,\\\n",
    "        start=strec, stop=endrec, duration=epdur)\n",
    "    epochs = mne.Epochs(curraw,new_events, tmin=0,\n",
    "                        tmax = epdur, baseline=None)\n",
    "\n",
    "    # sh=2\n",
    "    # cfq = 15\n",
    "    # freqs = np.logspace(*np.log10([cfq-sh,cfq+sh ]), num=6)\n",
    "    power = mne.time_frequency.tfr_morlet(epochs,\\\n",
    "        freqs=freqs, n_cycles=n_cycles, use_fft=True,\\\n",
    "        return_itc=False, decim=decim, n_jobs=10)\n",
    "    tfrs[k] = power"
   ]
  },
  {
   "cell_type": "code",
   "execution_count": null,
   "metadata": {},
   "outputs": [],
   "source": [
    "plt.close('all')"
   ]
  },
  {
   "cell_type": "code",
   "execution_count": null,
   "metadata": {},
   "outputs": [],
   "source": [
    "data_band.shape"
   ]
  },
  {
   "cell_type": "code",
   "execution_count": null,
   "metadata": {},
   "outputs": [],
   "source": [
    "data_band_me.shape"
   ]
  },
  {
   "cell_type": "code",
   "execution_count": null,
   "metadata": {},
   "outputs": [],
   "source": [
    "data_band.shape"
   ]
  },
  {
   "cell_type": "code",
   "execution_count": null,
   "metadata": {},
   "outputs": [],
   "source": []
  },
  {
   "cell_type": "code",
   "execution_count": null,
   "metadata": {},
   "outputs": [],
   "source": [
    "#maintremside"
   ]
  },
  {
   "cell_type": "code",
   "execution_count": null,
   "metadata": {},
   "outputs": [],
   "source": [
    "fbs = [ ('tremfreq', 3,9), ('alpha/mu', 8,13),  ('beta', 15,30),  ('gamma', 30,90)  ]"
   ]
  },
  {
   "cell_type": "code",
   "execution_count": null,
   "metadata": {},
   "outputs": [],
   "source": [
    "#select some interval types and restrict by time\n",
    "reg_intervals = 1\n",
    "if reg_intervals:\n",
    "    intlen_s = 30\n",
    "    timeints = [(0,endrec,'entire')]\n",
    "    int_bounds = np.arange(raw.times[0],raw.times[-1],intlen_s)\n",
    "    for ib in range(1,len(int_bounds)):\n",
    "        st,end = int_bounds[ib-1],int_bounds[ib]\n",
    "        it = 'reg{}_{}'.format(intlen_s,ib)\n",
    "        timeints += [(st,end,it)]\n",
    "else:\n",
    "    timeints_ = [(0,endrec,'entire')]\n",
    "\n",
    "    for t in ['trem', 'hold', 'move', 'notrem']:\n",
    "        for side in ['L', 'R']:\n",
    "            it = '{}_{}'.format(t,side)\n",
    "            print(it, ivalis.get(it,[]))\n",
    "            timeints_ += ivalis.get(it,[])\n",
    "\n",
    "    timeints = []\n",
    "    for i,ti in enumerate(timeints_):\n",
    "        timin,timax,tiname = ti\n",
    "        if timin <= endrec - decim /sfreq:\n",
    "            timeints += [ti]\n",
    "        \n",
    "print(len(timeints))"
   ]
  },
  {
   "cell_type": "code",
   "execution_count": null,
   "metadata": {},
   "outputs": [],
   "source": [
    "anns_fn = rawname_ + '_anns.txt'\n",
    "anns_fn_full = os.path.join(data_dir, anns_fn)\n",
    "anns = mne.read_annotations(anns_fn_full)"
   ]
  },
  {
   "cell_type": "code",
   "execution_count": null,
   "metadata": {},
   "outputs": [],
   "source": [
    "for i,k in enumerate(ks):\n",
    "    utils.plotBandLocations(tfrs[k],\\\n",
    "    timeints,fbs,prefix=rawname_+'_corr_{}_regint{}_'.format(k,reg_intervals),\\\n",
    "    anns=anns)\n",
    "    plt.close()"
   ]
  },
  {
   "cell_type": "code",
   "execution_count": null,
   "metadata": {},
   "outputs": [],
   "source": [
    "gc.collect()"
   ]
  },
  {
   "cell_type": "code",
   "execution_count": null,
   "metadata": {},
   "outputs": [],
   "source": [
    "ww = 14; hh = 4\n",
    "nr = len(raws_toshow) + 1; nc = 1\n",
    "fig,axs = plt.subplots(nr,nc, figsize=(nc*ww, nr*hh))\n",
    "\n",
    "ax = axs[0]\n",
    "emg = raw_emg_rectconv.get_data()\n",
    "for emgchi in range(len(emg)):\n",
    "    ax.plot(raw.times,emg[emgchi], label=raw_emg_rectconv.ch_names[emgchi], alpha=0.6)\n",
    "ax.legend(loc='upper right')\n",
    "\n",
    "for i,k in enumerate(ks):\n",
    "#     if i > 0: \n",
    "#         break\n",
    "    \n",
    "    tfr=  tfrs[k]\n",
    "    ax =axs[i+1]\n",
    "    \n",
    "    logscale = 1\n",
    "    \n",
    "    fbmin,fbmax = 0,90\n",
    "    #interval = ( raw.times[0], raw.times[-1], 'entire')\n",
    "    interval = ( 350,460, 'bad')\n",
    "    fb = ('allf', fbmin, fbmax)\n",
    "    \n",
    "    freqi = np.where( (tfr.freqs <= fbmax) * (tfr.freqs >=fbmin) )[0]\n",
    "    data_band = np.abs(tfr.data)[:,freqi[0]:freqi[-1]+1,:]\n",
    "    if logscale:\n",
    "        data_band = np.log(data_band)\n",
    "        data_band -= np.min(data_band,axis=2)[:,:,None]\n",
    "    #data_band_me = np.mean( np.mean(data_band, axis=2), axis=1 )  #mean over freq\n",
    "    data_band_me = np.mean( np.mean(data_band, axis=2), axis=1 )  #mean over freq\n",
    "    #data_band_me = np.mean(np.mean(data, axis=2), axis=1)\n",
    "\n",
    "    qoffset=  5e-2\n",
    "    #qoffset=  1e-2\n",
    "    mn = np.quantile(data_band_me, qoffset)\n",
    "    mx = np.quantile(data_band_me, 1 - qoffset)\n",
    "    print(k, mn,mx, len(freqi))\n",
    "\n",
    "    utils.plotTopomapTau(ax, tfr, interval, fb, mn,mx, logscale=logscale, colorbar=1)\n",
    "    ax.set_title(k)\n",
    "\n",
    "    \n",
    "    #tfr.plot_topo(dB=False, mode='zlogratio', baseline=(None,None), vmin=-2,vmax=2)"
   ]
  },
  {
   "cell_type": "code",
   "execution_count": null,
   "metadata": {},
   "outputs": [],
   "source": [
    "raw.times[-1]"
   ]
  },
  {
   "cell_type": "code",
   "execution_count": null,
   "metadata": {},
   "outputs": [],
   "source": [
    "mn,mx"
   ]
  },
  {
   "cell_type": "code",
   "execution_count": null,
   "metadata": {},
   "outputs": [],
   "source": [
    "gc.collect()\n"
   ]
  },
  {
   "cell_type": "code",
   "execution_count": null,
   "metadata": {},
   "outputs": [],
   "source": []
  }
 ],
 "metadata": {
  "kernelspec": {
   "display_name": "Python 3",
   "language": "python",
   "name": "python3"
  },
  "language_info": {
   "codemirror_mode": {
    "name": "ipython",
    "version": 3
   },
   "file_extension": ".py",
   "mimetype": "text/x-python",
   "name": "python",
   "nbconvert_exporter": "python",
   "pygments_lexer": "ipython3",
   "version": "3.8.5"
  },
  "varInspector": {
   "cols": {
    "lenName": 16,
    "lenType": 16,
    "lenVar": 40
   },
   "kernels_config": {
    "python": {
     "delete_cmd_postfix": "",
     "delete_cmd_prefix": "del ",
     "library": "var_list.py",
     "varRefreshCmd": "print(var_dic_list())"
    },
    "r": {
     "delete_cmd_postfix": ") ",
     "delete_cmd_prefix": "rm(",
     "library": "var_list.r",
     "varRefreshCmd": "cat(var_dic_list()) "
    }
   },
   "types_to_exclude": [
    "module",
    "function",
    "builtin_function_or_method",
    "instance",
    "_Feature"
   ],
   "window_display": false
  }
 },
 "nbformat": 4,
 "nbformat_minor": 2
}
