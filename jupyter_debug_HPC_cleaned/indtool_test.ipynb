{
 "cells": [
  {
   "cell_type": "code",
   "execution_count": null,
   "id": "c8ad871b",
   "metadata": {},
   "outputs": [],
   "source": [
    "%load_ext autoreload\n",
    "%autoreload 2\n",
    "%precision %.4f\n",
    "import numpy as np\n",
    "np.set_printoptions(precision=4, suppress=1)\n",
    "\n",
    "import sys,os\n",
    "sys.path.append(os.path.expandvars('$HELPER_SCRIPTS_DIR' ) )\n",
    "\n",
    "from _utils_indtool import *\n",
    "from IPython import get_ipython; ipython = get_ipython()\n",
    "\n",
    "#os.path.expandvars('$HELPER_SCRIPTS_DIR')"
   ]
  },
  {
   "cell_type": "code",
   "execution_count": null,
   "id": "868fd66b",
   "metadata": {},
   "outputs": [],
   "source": [
    "\n",
    "\n",
    "#--start_time \"2023-07-15 00:00:00\"\n",
    "ipython.run_line_magic('run',' /p/project/icei-hbp-2020-0012/helper_scripts/indtool.py ')"
   ]
  },
  {
   "cell_type": "code",
   "execution_count": null,
   "id": "77e9c234",
   "metadata": {},
   "outputs": [],
   "source": [
    "line_bds_per_job"
   ]
  },
  {
   "cell_type": "code",
   "execution_count": null,
   "id": "79330e94",
   "metadata": {},
   "outputs": [],
   "source": [
    "slice(*line_bds)"
   ]
  },
  {
   "cell_type": "code",
   "execution_count": null,
   "id": "56b97517",
   "metadata": {},
   "outputs": [],
   "source": [
    "!grep -noP 'import (\\w+)' ../fe*.py"
   ]
  },
  {
   "cell_type": "code",
   "execution_count": null,
   "id": "7a62d176",
   "metadata": {},
   "outputs": [],
   "source": [
    "from _utils_indtool import starttext, endstr, timeout_text"
   ]
  },
  {
   "cell_type": "code",
   "execution_count": null,
   "id": "d2453231",
   "metadata": {},
   "outputs": [],
   "source": [
    "outfn"
   ]
  },
  {
   "cell_type": "code",
   "execution_count": null,
   "id": "57188f06",
   "metadata": {},
   "outputs": [],
   "source": [
    "'/p/project/icei-hbp-2020-0012/slurmout/ML_401211_92.out'"
   ]
  },
  {
   "cell_type": "code",
   "execution_count": null,
   "id": "f7625261",
   "metadata": {},
   "outputs": [],
   "source": [
    "with open(outfn) as f:\n",
    "    lines_all = f.readlines()"
   ]
  },
  {
   "cell_type": "code",
   "execution_count": null,
   "id": "fdc4e789",
   "metadata": {},
   "outputs": [],
   "source": [
    "def findLineInds(txtline, fnf):\n",
    "    #txtline = txtline.replace('-', '\\\\' + '-' )\n",
    "    #print(txtline)\n",
    "    so = sp.getoutput('grep -n -- ' + '\"' + txtline +  '\" ' + fnf)#.replace('\\r','\\r\\n')\n",
    "\n",
    "    lns = so.split('\\n')\n",
    "    lineis = []\n",
    "    #print(lns)\n",
    "    for ln in lns:\n",
    "        coli = ln.find(':')\n",
    "        lni = int(ln[:coli]); \n",
    "        #print(lni, ln)\n",
    "        lineis += [lni - 1]  # because they use non-python numbering starting from 1\n",
    "    return lineis,lns\n"
   ]
  },
  {
   "cell_type": "code",
   "execution_count": null,
   "id": "2bda3180",
   "metadata": {},
   "outputs": [],
   "source": [
    "def isTimeout(info, lines_all, maxlines_check = 100):\n",
    "    for line in lines_all[info['start']:info['end']][::-1][:maxlines_check]:\n",
    "        if line.find( timeout_text ) >= 0:\n",
    "            return True"
   ]
  },
  {
   "cell_type": "code",
   "execution_count": null,
   "id": "780bd346",
   "metadata": {},
   "outputs": [],
   "source": [
    "import re\n",
    "regex = re.compile(r'.*\\(effctive_id = ([0-9]+)\\)')\n",
    "def getRsind2Info(outfn, lines_all = None):\n",
    "    if lines_all is None:\n",
    "        print(f'Reading {outfn}')\n",
    "        with open(outfn) as f:\n",
    "            lines_all = f.readlines()\n",
    "    lineis_start, lines_start = findLineInds(starttext, outfn)\n",
    "    lineis_end,   lines_end   = findLineInds(endstr, outfn)\n",
    "\n",
    "    rsind2info = {}\n",
    "    for lineii,(linei,line) in enumerate(zip(lineis_start,lines_start)):\n",
    "        info = {'start':linei}\n",
    "        info['zero_feats'] = False\n",
    "        info['timeout']    = False\n",
    "        if lineii >= len(lines_end):\n",
    "            info['end'] = len(lines_all) - 1\n",
    "            info['exit_code'] = None\n",
    "            rsind2info[runstring_ind] = linei, \n",
    "            \n",
    "            info['timeout'] = isTimeout(info, lines_all)\n",
    "            break\n",
    "            \n",
    "        linei_end = lineis_end[lineii]\n",
    "        info['end'] = linei_end\n",
    "\n",
    "        #print(line)\n",
    "        #print( lines_end[lineii] )\n",
    "        \n",
    "        #ind = line.find(' = ')\n",
    "        r = re.match(regex, line)\n",
    "        runstring_ind = int( r.groups()[0] )\n",
    "\n",
    "        EC = int( lines_end[lineii][-1] )\n",
    "        zf = False\n",
    "        \n",
    "        if EC > 0:\n",
    "            zf = lines_all[linei_end - 1].startswith('ValueError: We got zero features!')\n",
    "            \n",
    "            #print(EC,zf)\n",
    "            if not zf:\n",
    "                print(lines_all[linei_end-10:linei_end])\n",
    "            #break\n",
    "        #rellines[lineii] = lines_all[linei:linei_end-1]\n",
    "        \n",
    "        info['exit_code'] = EC\n",
    "        info['zero_feats'] = zf\n",
    "        \n",
    "        rsind2info[runstring_ind] = info\n",
    "        \n",
    "    return rsind2info\n",
    "getRsind2Info(outfn, lines_all)"
   ]
  },
  {
   "cell_type": "code",
   "execution_count": null,
   "id": "3c1f8811",
   "metadata": {},
   "outputs": [],
   "source": [
    "fns_info_collected"
   ]
  },
  {
   "cell_type": "code",
   "execution_count": null,
   "id": "6daafb7b",
   "metadata": {},
   "outputs": [],
   "source": [
    "import gc;gc.collect()"
   ]
  },
  {
   "cell_type": "code",
   "execution_count": null,
   "id": "4edf9adc",
   "metadata": {},
   "outputs": [],
   "source": [
    "rsind2info"
   ]
  },
  {
   "cell_type": "code",
   "execution_count": null,
   "id": "364611ce",
   "metadata": {},
   "outputs": [],
   "source": [
    "len(lines_per_job)"
   ]
  },
  {
   "cell_type": "code",
   "execution_count": null,
   "id": "ff3b90e7",
   "metadata": {},
   "outputs": [],
   "source": [
    "fns_info_collected = []\n",
    "rsind2info = {}\n",
    "for outfn in field_vals['outfn']:\n",
    "    if outfn in fns_info_collected:\n",
    "        continue\n",
    "    lines_all = None\n",
    "    rsind2info_cur = getRsind2Info(outfn, lines_all)\n",
    "    rsind2info.update(rsind2info_cur)\n",
    "    fns_info_collected += [outfn]\n",
    "    for rsind, info in rsind2info.items():\n",
    "        if info['exit_code'] and not info['zero_feats']:\n",
    "            print(rsind)"
   ]
  },
  {
   "cell_type": "code",
   "execution_count": null,
   "id": "8fb784c5",
   "metadata": {},
   "outputs": [],
   "source": []
  },
  {
   "cell_type": "code",
   "execution_count": null,
   "id": "acef8672",
   "metadata": {},
   "outputs": [],
   "source": [
    "np.savez(os.path.join( os.path.expandvars('$HELPER_SCRIPTS_DIR') , 'out.npz' ),rsind2info)"
   ]
  },
  {
   "cell_type": "code",
   "execution_count": null,
   "id": "244d08a0",
   "metadata": {},
   "outputs": [],
   "source": [
    "bads = []\n",
    "for rsind, info in rsind2info.items():\n",
    "    if info['exit_code']:\n",
    "        print(rsind, info)\n",
    "        bads += [rsind]"
   ]
  },
  {
   "cell_type": "code",
   "execution_count": null,
   "id": "82a01467",
   "metadata": {},
   "outputs": [],
   "source": [
    "len(bads), list(sorted(bads))"
   ]
  },
  {
   "cell_type": "code",
   "execution_count": null,
   "id": "4b711bb8",
   "metadata": {},
   "outputs": [],
   "source": [
    "field_vals['rsind']"
   ]
  },
  {
   "cell_type": "code",
   "execution_count": null,
   "id": "c20b76d5",
   "metadata": {},
   "outputs": [],
   "source": [
    "lines_all[linei_end - 1]"
   ]
  },
  {
   "cell_type": "code",
   "execution_count": null,
   "id": "dfb8a5fb",
   "metadata": {},
   "outputs": [],
   "source": [
    "# how to find zerofeats without running through entire stuff?"
   ]
  },
  {
   "cell_type": "code",
   "execution_count": null,
   "id": "936a2676",
   "metadata": {},
   "outputs": [],
   "source": [
    "\n",
    "print(so)"
   ]
  },
  {
   "cell_type": "code",
   "execution_count": null,
   "id": "4e250e3f",
   "metadata": {},
   "outputs": [],
   "source": [
    "time_str_sacct = f'{start_month}/{start_day}-{start_hour}:{start_minute}'\n",
    "#time_str_sacct"
   ]
  },
  {
   "cell_type": "code",
   "execution_count": null,
   "id": "63c3337d",
   "metadata": {},
   "outputs": [],
   "source": [
    "dt\n",
    "dt.strftime(\"%Y-%m-%dT%H:%M:%S\")"
   ]
  },
  {
   "cell_type": "code",
   "execution_count": null,
   "id": "ab4f9c55",
   "metadata": {},
   "outputs": [],
   "source": []
  }
 ],
 "metadata": {
  "kernelspec": {
   "display_name": "Python 3 (ipykernel)",
   "language": "python",
   "name": "python3"
  },
  "language_info": {
   "codemirror_mode": {
    "name": "ipython",
    "version": 3
   },
   "file_extension": ".py",
   "mimetype": "text/x-python",
   "name": "python",
   "nbconvert_exporter": "python",
   "pygments_lexer": "ipython3",
   "version": "3.8.15"
  }
 },
 "nbformat": 4,
 "nbformat_minor": 5
}
