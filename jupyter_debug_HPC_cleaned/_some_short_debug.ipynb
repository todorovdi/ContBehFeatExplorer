{
 "cells": [
  {
   "cell_type": "code",
   "execution_count": null,
   "id": "325316b2",
   "metadata": {},
   "outputs": [],
   "source": [
    "%load_ext autoreload\n",
    "%autoreload 2\n",
    "import os,sys"
   ]
  },
  {
   "cell_type": "code",
   "execution_count": null,
   "id": "84716b5e",
   "metadata": {},
   "outputs": [],
   "source": [
    "#import shutil\n",
    "os.system(f'mkdir ')"
   ]
  },
  {
   "cell_type": "code",
   "execution_count": null,
   "id": "263eddc0",
   "metadata": {},
   "outputs": [],
   "source": [
    "fdir = os.path.expandvars('$CODE/tmp')\n",
    "listfns = os.listdir(fdir)\n",
    "svd = {}\n",
    "for fn in listfns:\n",
    "    if fn.startswith('__'):\n",
    "        continue\n",
    "    fnfull = os.path.join(fdir,fn)\n",
    "    f = np.load(fnfull,allow_pickle=1)\n",
    "    subf = f['arr_0'][()]\n",
    "    ks = list( subf.keys() )\n",
    "    assert len(ks) == 1, ks\n",
    "    k = ks[0]\n",
    "    svd[k] = subf[k]\n",
    "\n",
    "fntry = os.path.join(fdir,'__try.npz')\n",
    "np.savez(fntry,results_light=svd)\n",
    "f = np.load(fntry, allow_pickle=1)\n",
    "ff = f['results_light'][()]"
   ]
  },
  {
   "cell_type": "code",
   "execution_count": null,
   "id": "68887566",
   "metadata": {},
   "outputs": [],
   "source": [
    "ff.keys()"
   ]
  },
  {
   "cell_type": "code",
   "execution_count": null,
   "id": "0d1de333",
   "metadata": {},
   "outputs": [],
   "source": [
    "fntry='/p/project/icei-hbp-2020-0012/OSCBAGDIS/data_duss/per_subj_per_medcond_best_LFP/_!_S02_on_parcel_aal_grp10-0_onlyH_act_only15_ML_nr2_7chs_nfeats1_pcadim1_skip32_wsz256_mainLFP__(merge_nothing,basic).npz'\n",
    "f = np.load(fntry, allow_pickle=1)\n",
    "ff = f['results_light'][()]"
   ]
  },
  {
   "cell_type": "code",
   "execution_count": null,
   "id": "85df5f68",
   "metadata": {},
   "outputs": [],
   "source": [
    "!which python"
   ]
  },
  {
   "cell_type": "code",
   "execution_count": null,
   "id": "90ae3f6e",
   "metadata": {},
   "outputs": [],
   "source": [
    "%load_ext autoreload\n",
    "%autoreload 2\n",
    "\n",
    "#%debug\n",
    "\n",
    "%run -i ../run/run_genfeats.py --sources_type parcel_aal --bands crude\\\n",
    " --src_grouping_fn 10\\\n",
    " --src_grouping 0 \\\n",
    " --raw S03_off_hold,S03_off_move \\\n",
    " --feat_types con,H_act,H_mob,H_compl,rbcorr\\\n",
    " --Kalman_smooth 0\\\n",
    " --load_TFR 1\\\n",
    " --load_CSD 1\\\n",
    " --save_TFR 0\\\n",
    " --save_CSD 0\\\n",
    " --save_bpcorr 0\\\n",
    " --save_rbcorr 0\\\n",
    " --load_rbcorr 0\\\n",
    " --use_existing_TFR 1\\\n",
    " --load_TFRCSD_max_age_h 500\\\n",
    " --load_only 0\\\n",
    " --show_plots 0\\\n",
    " --save_feat 0\\\n",
    " --output_subdir \"\"\\\n",
    " --plot_types raw_stats_scatter,feat_stats_scatter\\\n",
    " --scale_data_combine_type subj \\\n",
    " --rbcorr_use_local_means 1\\\n",
    " --stats_fn_prefix stats_S01,S02,S03,S04,S05,S07_22_  \\\n",
    " --param_file genfeats_defparams.ini "
   ]
  },
  {
   "cell_type": "code",
   "execution_count": null,
   "id": "175fd5fe",
   "metadata": {},
   "outputs": [],
   "source": [
    "print( chnames_perband['beta'][0] )\n",
    "print( subfeature_order[0] )\n",
    "print( chnames_tfr[0] )"
   ]
  },
  {
   "cell_type": "code",
   "execution_count": null,
   "id": "1b6b224c",
   "metadata": {},
   "outputs": [],
   "source": []
  },
  {
   "cell_type": "code",
   "execution_count": null,
   "id": "e162687b",
   "metadata": {},
   "outputs": [],
   "source": [
    "ipdb> chnames_perband['beta'][0]\n",
    "'LFPR01'\n",
    "ipdb> subfeature_order[0]\n",
    "'LFPR01'\n",
    "ipdb> chnames_tfr[0]\n",
    "'msrcR_0_2_c0'\n",
    "ipdb> chnames_tfr[-1]\n",
    "'LFPR23'"
   ]
  },
  {
   "cell_type": "code",
   "execution_count": null,
   "id": "180853e6",
   "metadata": {},
   "outputs": [],
   "source": [
    "chnames_tfr[266]"
   ]
  },
  {
   "cell_type": "code",
   "execution_count": null,
   "id": "d93d67cf",
   "metadata": {},
   "outputs": [],
   "source": [
    "res_couplings_saved=csdf['res_couplings'][()]\n"
   ]
  },
  {
   "cell_type": "code",
   "execution_count": null,
   "id": "514cfcd5",
   "metadata": {},
   "outputs": [],
   "source": [
    "chnames_tfr = list(names_lfp) + list(names_src)\n"
   ]
  },
  {
   "cell_type": "code",
   "execution_count": null,
   "id": "181d3d94",
   "metadata": {},
   "outputs": [],
   "source": [
    "#res_couplings_saved[('LFPR23', 60)]\n",
    "# ind_distr, ind_distr_parcels, ind_pairs_parcelsLFP, \\\n",
    "#     parcel_couplings, LFP2parcel_couplings, LFP2LFP_couplings = res_couplings_saved\n",
    "LFP2parcel_couplings_saved = res_couplings_saved[4]\n",
    "LFP2parcel_couplings_saved[('LFPR23', 60)]"
   ]
  },
  {
   "cell_type": "code",
   "execution_count": null,
   "id": "56089878",
   "metadata": {},
   "outputs": [],
   "source": [
    "LFP2parcel_couplings[('LFPR23', 60)]"
   ]
  },
  {
   "cell_type": "code",
   "execution_count": null,
   "id": "7f61eb5a",
   "metadata": {},
   "outputs": [],
   "source": [
    "chnames_tfr"
   ]
  },
  {
   "cell_type": "code",
   "execution_count": null,
   "id": "c7e0541b",
   "metadata": {},
   "outputs": [],
   "source": [
    "parcel_couplings"
   ]
  },
  {
   "cell_type": "code",
   "execution_count": null,
   "id": "7c7b898c",
   "metadata": {},
   "outputs": [],
   "source": [
    "\n",
    "        \n",
    "        "
   ]
  },
  {
   "cell_type": "code",
   "execution_count": null,
   "id": "88ad5953",
   "metadata": {},
   "outputs": [],
   "source": [
    "                computeCorr(raw_perband, chnames_perband=chnames_perband,\n",
    "                                        defnames=chnames_tfr,\n",
    "                                        parcel_couplings=parcel_couplings,\n",
    "                                        LFP2parcel_couplings=LFP2parcel_couplings,\n",
    "                                        LFP2LFP_couplings=LFP2LFP_couplings,\n",
    "                                        res_group_id=newchn_grouping_ind,\n",
    "                                        skip=skip, windowsz = windowsz,\n",
    "                                        band_pairs = [bp], n_jobs=n_jobs,\n",
    "                                        positive=0, templ='{}_.*',\n",
    "                                        roi_labels=roi_labels,\n",
    "                                        sort_keys=srcgrouping_names_sorted,\n",
    "                                        means=means_perband,\n",
    "                                        local_means=rbcorr_use_local_means)\n"
   ]
  },
  {
   "cell_type": "code",
   "execution_count": null,
   "id": "fb2dfdcd",
   "metadata": {},
   "outputs": [],
   "source": [
    "chnames_tfr[-1]"
   ]
  },
  {
   "cell_type": "code",
   "execution_count": null,
   "id": "5365f4ce",
   "metadata": {},
   "outputs": [],
   "source": [
    "# why order is name_from is different as in names"
   ]
  },
  {
   "cell_type": "code",
   "execution_count": null,
   "id": "894717fd",
   "metadata": {},
   "outputs": [],
   "source": [
    "# total updrs or a subscale?\n",
    "# does RMSE drop much? (y scale not clear if it is a lot or not)\n",
    "# ask Alex: with foof how do you compare amplitudes of the gaussians?"
   ]
  },
  {
   "cell_type": "code",
   "execution_count": null,
   "id": "c82900f1",
   "metadata": {},
   "outputs": [],
   "source": [
    "fname_tfr_full_pri"
   ]
  },
  {
   "cell_type": "code",
   "execution_count": null,
   "id": "556ee404",
   "metadata": {},
   "outputs": [],
   "source": [
    "os.path.exists( fname_tfr_full_pri[0] )"
   ]
  },
  {
   "cell_type": "code",
   "execution_count": null,
   "id": "0fa18205",
   "metadata": {},
   "outputs": [],
   "source": [
    "gs_tfr, gs_csd"
   ]
  },
  {
   "cell_type": "code",
   "execution_count": null,
   "id": "68f9f180",
   "metadata": {},
   "outputs": [],
   "source": [
    "# TODO: allow empty TFR"
   ]
  },
  {
   "cell_type": "code",
   "execution_count": null,
   "id": "eb4d2a34",
   "metadata": {},
   "outputs": [],
   "source": [
    "    chnames_nicened = utils.nicenMEGsrc_chnames(chnames_tfr, roi_labels, srcgrouping_names_sorted,\n",
    "                            prefix='msrc_')\n"
   ]
  },
  {
   "cell_type": "code",
   "execution_count": null,
   "id": "bd356989",
   "metadata": {},
   "outputs": [],
   "source": [
    "res_couplings = ugf.selectIndPairs(chnames_nicened, chnames_tfr, cross_types, upper_diag=False,\n",
    "                        LFP2LFP_only_self=1, cross_within_parcel=False)\n",
    "ind_distr, ind_distr_parcels, ind_pairs_parcelsLFP, \\\n",
    "    parcel_couplings, LFP2parcel_couplings, LFP2LFP_couplings = res_couplings\n"
   ]
  },
  {
   "cell_type": "code",
   "execution_count": null,
   "id": "1e37b5a3",
   "metadata": {},
   "outputs": [],
   "source": [
    "chnames_nicened[0], chnames_tfr[0],chnames_nicened[-1], chnames_tfr[-1]"
   ]
  },
  {
   "cell_type": "code",
   "execution_count": null,
   "id": "6318e82a",
   "metadata": {},
   "outputs": [],
   "source": []
  },
  {
   "cell_type": "code",
   "execution_count": null,
   "id": "5e3e209e",
   "metadata": {},
   "outputs": [],
   "source": []
  }
 ],
 "metadata": {
  "kernelspec": {
   "display_name": "Python 3",
   "language": "python",
   "name": "python3"
  },
  "language_info": {
   "codemirror_mode": {
    "name": "ipython",
    "version": 3
   },
   "file_extension": ".py",
   "mimetype": "text/x-python",
   "name": "python",
   "nbconvert_exporter": "python",
   "pygments_lexer": "ipython3",
   "version": "3.9.6"
  }
 },
 "nbformat": 4,
 "nbformat_minor": 5
}
