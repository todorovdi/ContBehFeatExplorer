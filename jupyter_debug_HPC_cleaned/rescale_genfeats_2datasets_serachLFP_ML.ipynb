{
 "cells": [
  {
   "cell_type": "code",
   "execution_count": null,
   "id": "a704aff0",
   "metadata": {},
   "outputs": [],
   "source": [
    "%load_ext autoreload\n",
    "%autoreload 2\n",
    "\n",
    "from utils_postprocess import printDict\n",
    "\n",
    "import globvars as gv\n",
    "import mne\n",
    "import matplotlib.pyplot as plt\n",
    "from os.path import join as pjoin\n",
    "\n",
    "\n",
    "defdgen = lambda sz :np.random.uniform(low=-1,high=1, size=sz)\n",
    "\n",
    "import utils_tSNE as utsne\n",
    "\n",
    "sfreq = 256\n",
    "sfreq_hires = 1024\n",
    "\n",
    "from IPython import get_ipython; ipython = get_ipython()\n",
    "ipython.magic('run -i ../test_data/gen_test_data9.py')\n",
    "\n",
    "print(test_data_descr)\n",
    "\n",
    "#rawnames = ['S01_off_move','S01_off_hold','S01_on_move']\n",
    "\n",
    "# prep_test_data\n",
    "\n",
    "# _gt means ground truth here\n",
    "dat_pri_gt           = dat_pri\n",
    "dat_LFP_hires_pri_gt = dat_LFP_hires_pri\n",
    "\n",
    "plt.plot(times,dat_pri[dati].T)\n",
    "plt.figure()\n",
    "plt.plot(times_hires,dat_LFP_hires_pri[dati].T, label=sfo_LFP)\n",
    "plt.legend()\n",
    "\n",
    "dat_EMG = defdgen( (2, nbins ) )\n",
    "\n",
    "# reversed if needed\n",
    "from utils import makeSimpleRaw\n",
    "from featlist import selFeatsRegexInds\n",
    "raws_permod_both_sides2 = {}\n",
    "for rawi,rawn in enumerate(rawnames):\n",
    "    raws_permod_both_sides2[rawn] = {}\n",
    "    chis_LFP = utsne.selFeatsRegexInds(sfo_pri[rawi], 'LFP.*' )\n",
    "    dat_LFP = dat_pri_gt[rawi][chis_LFP]\n",
    "    raws_permod_both_sides2[rawn]['LFP'] = makeSimpleRaw(dat_LFP, np.array(sfo_pri[rawi])[chis_LFP], rescale=0 )\n",
    "\n",
    "    chis_msrc = utsne.selFeatsRegexInds(sfo_pri[rawi], 'msrc.*' )\n",
    "    dat_msrc = dat_pri_gt[rawi][chis_msrc]\n",
    "    raws_permod_both_sides2[rawn]['src'] = makeSimpleRaw(dat_msrc, \n",
    "        np.array(sfo_pri[rawi])[chis_msrc] , rescale=0)\n",
    "\n",
    "    raws_permod_both_sides2[rawn]['LFP_hires'] = makeSimpleRaw(dat_LFP_hires_pri_gt[rawi],\n",
    "        sfo_lfp_hires_pri[rawi], sfreq=sfreq_hires, rescale=0 )\n",
    "    \n",
    "    raws_permod_both_sides2[rawn]['EMG'] = makeSimpleRaw(dat_EMG, \n",
    "        gv.EMG_per_hand[main_side], sfreq=sfreq, rescale=0)\n",
    "\n",
    "rawnames_str = ','.join(rawnames)\n",
    "\n",
    "####################################\n",
    "import globvars as gv\n",
    "gv.DEBUG_MODE=1\n",
    "from IPython import get_ipython; ipython = get_ipython()\n",
    "#Once that's done, run a magic command like this:\n",
    "#%debug\n",
    "raws_permod_both_sides = raws_permod_both_sides2\n",
    "\n",
    "mstr = 'run -i ../run/run_prep_dat.py -r ' +   rawnames_str + \\\n",
    "        ' --param_file prep_dat_defparams.ini --calc_stats_multi_band 1' +\\\n",
    "        ' --save_dat 1 --save_stats 1 --use_preloaded_raws 1 --allow_CUDA 0 --n_jobs 20'+\\\n",
    "        ' --brain_side_to_use both'\n",
    "ipython.magic(mstr)\n",
    "\n",
    "# %run -i ../run/run_prep_dat.py -r S99_off_move,S99_off_hold,S99_on_move \\\n",
    "#         --param_file prep_dat_defparams.ini --calc_stats_multi_band 1 --save_dat 1 \\\n",
    "#         --use_preloaded_raws 1 --save_stats 1"
   ]
  },
  {
   "cell_type": "code",
   "execution_count": null,
   "id": "3a3848db",
   "metadata": {},
   "outputs": [],
   "source": [
    "from IPython import get_ipython; ipython = get_ipython()\n",
    "#genfeats\n",
    "\n",
    "# import warnings\n",
    "# warnings.filterwarnings(\"error\")\n",
    "# # with warnings.catch_warnings():\n",
    "# #     warnings.simplefilter('error')\n",
    "\n",
    "rs = ('%run -i ../run/run_genfeats.py '\n",
    "' --sources_type parcel_aal --bands crude'\n",
    "' --src_grouping_fn 10'\n",
    "' --src_grouping 0 '\n",
    "' --raw {} '\n",
    "' --feat_types con,H_act,H_mob,H_compl,rbcorr,bpcorr'\n",
    "' --Kalman_smooth 0'\n",
    "' --load_TFR 0'\n",
    "' --load_CSD 0'\n",
    "' --save_TFR 0'\n",
    "' --save_CSD 0'\n",
    "' --save_bpcorr 0'\n",
    "' --save_rbcorr 0'\n",
    "' --load_rbcorr 0'\n",
    "' --use_existing_TFR 0'\n",
    "' --use_preloaded_data 0'\n",
    "' --allow_CUDA 0'\n",
    "' --load_only 0'\n",
    "' --show_plots 0'\n",
    "' --plot_types ,'\n",
    "' --prescale_data 1'\n",
    "' --exit_after {}'\n",
    "' --normalize_TFR separate'\n",
    "' --scale_data_combine_type no'\n",
    "' --baseline_int_type entire'\n",
    "' --n_jobs 1'\n",
    "' --save_feat 1'\n",
    "' --feat_stats_artif_handling reject'\n",
    "' --scale_data_combine_type no '\n",
    "' --rbcorr_use_local_means 0'\n",
    "' --brain_side_to_use both'\n",
    "' --output_subdir test'\n",
    "' --stats_fn_prefix stats_{}_{}_ '\n",
    "' --param_file genfeats_defparams.ini ')\n",
    "\n",
    "#exit_after = 'TFR_and_CSD'\n",
    "exit_after = 'end'\n",
    "#exit_after = 'prescale_data'\n",
    "#exit_after = 'load'\n",
    "mstr2 = rs.format(rawnames_str,exit_after,rawnames_str[:3],len(rawnames))\n",
    "\n",
    "#%debug\n",
    "\n",
    "ipython.magic(mstr2)\n",
    "\n",
    "#np.savez(pjoin(gv.drawnames_str = 'S95_off_hold,S95_off_move'rawnames_str = 'S95_off_hold,S95_off_move'# search LFPata_dir,'test.npz') ,globals() )"
   ]
  },
  {
   "cell_type": "code",
   "execution_count": null,
   "id": "ecf92287",
   "metadata": {},
   "outputs": [],
   "source": [
    "#feature_names_all"
   ]
  },
  {
   "cell_type": "code",
   "execution_count": null,
   "id": "612d2a09",
   "metadata": {},
   "outputs": [],
   "source": [
    "# search LFP\n",
    "rawnames_str = 'S95_off_hold,S95_off_move'\n",
    "import globvars as gv\n",
    "gv.DEBUG_MODE=1\n",
    "\n",
    "%load_ext autoreload\n",
    "%autoreload 2\n",
    "\n",
    "#%debug\n",
    "\n",
    "from IPython import get_ipython; ipython = get_ipython()\n",
    "# --parcel_group_names motor-related\\\n",
    "mstr_ML = '''%run -i ../run/run_ML.py --sources_type parcel_aal --bands_type crude --src_grouping_fn 10\\\n",
    "    --src_grouping 0 \\\n",
    "    --prefix modLFP_onlyH_act_brainboth \\\n",
    "    --skip_XGB 0\\\n",
    "    --mods LFP,msrc\\\n",
    "    --LFP_related_only 1\\\n",
    "    --feat_types rbcorr,bpcorr,con,Hjorth\\\n",
    "    --allow_CUDA 0\\\n",
    "    --subskip_fit 1 \\\n",
    "    --n_splits 2 \\\n",
    "    --n_jobs 1\\\n",
    "    --calc_MI 0 \\\n",
    "    --save_output 1\\\n",
    "    --LFP_side_to_use both\\\n",
    "    --brain_side_to_use both\\\n",
    "    --feat_body_side both\\\n",
    "    --baseline_int_type entire\\\n",
    "    --savefile_rawname_format subj,medcond_glob\n",
    "    --heavy_fit_red_featset 0\\ \n",
    "    --groupings_to_use merge_movements --int_types_to_use basic\\\n",
    "    --input_subdir test --output_subdir test_searchLFP\\\n",
    "    --raw {} --load_only 0 --show_plots 1\\\n",
    "    --param_file ML_defparams.ini \\\n",
    "    --featsel_method XGB_Shapley\\\n",
    "    --calc_VIF 0 --skip_LDA 1 --calc_Boruta 0\\\n",
    "    --tune_search_best_LFP 0\\\n",
    "    --exit_after {}\\\n",
    "    --prep_for_clf_only 0\n",
    "    --search_best_LFP XGB\n",
    "    --discard_outliers 0 --artif_force_all_modalities 1\\\n",
    "    --n_permutations_permtest 5'''\n",
    "\n",
    "exit_after = 'end'\n",
    "mstr_ML = mstr_ML.format(rawnames_str,exit_after)\n",
    "\n",
    "\n",
    "#%debug\n",
    "ipython.magic(mstr_ML)"
   ]
  },
  {
   "cell_type": "code",
   "execution_count": null,
   "id": "c239596c",
   "metadata": {},
   "outputs": [],
   "source": [
    "from utils_postprocess_HPC import collectBestLFP\n",
    "import sys,traceback\n",
    "%load_ext autoreload\n",
    "%autoreload 2\n",
    "#%debug\n",
    "\n",
    "\n",
    "try:\n",
    "    #test(100)\n",
    "    rr, output_per_raw =\\\n",
    "        collectBestLFP('test_searchLFP', save_result = 1, savefile_rawname_format='subj,medcond_glob');\n",
    "except Exception as e:\n",
    "    exc_info = sys.exc_info()\n",
    "    exc = traceback.TracebackException(*exc_info, capture_locals=True)\n",
    "    \n",
    "    \n",
    "    stackframe = exc_info[2].tb_next.tb_frame\n",
    "    local_vars_in_fun = stackframe.f_locals\n",
    "    display(exc_info, stackframe,  exc_info[2].tb_next.tb_lineno)\n",
    "    #display(local_vars_in_fun)\n",
    "\n",
    "#r = collectBestLFP('test_searchLFP', save_result = 1);"
   ]
  },
  {
   "cell_type": "code",
   "execution_count": null,
   "id": "8c12107d",
   "metadata": {},
   "outputs": [],
   "source": [
    "#local_vars_in_fun['mult_clf_output'].keys()"
   ]
  },
  {
   "cell_type": "code",
   "execution_count": null,
   "id": "b64a4613",
   "metadata": {},
   "outputs": [],
   "source": [
    "# main ML\n",
    "rawnames_str = 'S95_off_hold,S95_off_move'\n",
    "import globvars as gv\n",
    "gv.DEBUG_MODE=1\n",
    "\n",
    "%load_ext autoreload\n",
    "%autoreload 2\n",
    "#%debug\n",
    "\n",
    "from IPython import get_ipython; ipython = get_ipython()\n",
    "#      --parcel_group_names motor-related\\\n",
    "# --feat_types rbcorr,bpcorr,con,Hjorth\\\n",
    "mstr_ML = '''%run -i ../run/run_ML.py --sources_type parcel_aal --bands_type crude --src_grouping_fn 10\\\n",
    "    --src_grouping 0 \\\n",
    "    --prefix test \\\n",
    "    --skip_XGB 0\\\n",
    "    --mods LFP,msrc\\\n",
    "    --LFP_related_only 1\\\n",
    "    --feat_types Hjorth\\\n",
    "    --parcel_group_names motor-related\\\n",
    "    --allow_CUDA 0\\\n",
    "    --subskip_fit 1 \\\n",
    "    --n_splits 2 \\\n",
    "    --calc_MI 0 \\\n",
    "    --save_output 0\\\n",
    "    --LFP_side_to_use copy_from_search_LFP\\\n",
    "    --brain_side_to_use both\\\n",
    "    --feat_body_side both\\\n",
    "    --savefile_rawname_format subj,medcond\n",
    "    --baseline_int_type entire\\\n",
    "    --heavy_fit_red_featset 0\\ \n",
    "    --groupings_to_use merge_movements --int_types_to_use basic\\\n",
    "    --input_subdir test --output_subdir test\\\n",
    "    --raw {} --load_only 0 --show_plots 1\\\n",
    "    --param_file ML_defparams.ini \\\n",
    "    --featsel_method XGB_Shapley\\\n",
    "    --LFPchan=main\n",
    "    --best_LFP_info_file test_searchLFP/best_LFP_info_both_sides_ext.json\n",
    "    --exit_after {}\\\n",
    "    --skip_LDA 1\\\n",
    "    --calc_Boruta 0\\\n",
    "    --prep_for_clf_only 0\\\n",
    "    --XGB_grid_test_only 1\\\n",
    "    --n_permutations_permtest 2\\\n",
    "    --n_jobs_perm_test 1\\\n",
    "    --use_matching_folds_main_LFP 1\\\n",
    "    --discard_outliers 0 --artif_force_all_modalities 1\\\n",
    "    --num_boost_rounds=5\n",
    "    '''\n",
    "\n",
    "exit_after = 'end'\n",
    "mstr_ML = mstr_ML.format(rawnames_str,exit_after)\n",
    "\n",
    "\n",
    "#%debug\n",
    "ipython.magic(mstr_ML)"
   ]
  },
  {
   "cell_type": "code",
   "execution_count": null,
   "id": "4444d0a0",
   "metadata": {},
   "outputs": [],
   "source": [
    "results_cur['class_']"
   ]
  },
  {
   "cell_type": "code",
   "execution_count": null,
   "id": "da6676e6",
   "metadata": {},
   "outputs": [],
   "source": [
    "results_cur['class_labels_good'] = class_labels_good\n",
    "results_cur_cleaned = pp.removeLargeItems(results_cur,rem_XGBobj=1)"
   ]
  },
  {
   "cell_type": "code",
   "execution_count": null,
   "id": "2f0d64d9",
   "metadata": {},
   "outputs": [],
   "source": [
    "results_cur_cleaned['XGB_analysis_versions']['all_present_features']['perf_dict']['perfs_CV']"
   ]
  },
  {
   "cell_type": "code",
   "execution_count": null,
   "id": "f9416d91",
   "metadata": {},
   "outputs": [],
   "source": [
    "from pprint import pprint as ppr\n",
    "ppr(results_cur_cleaned['XGB_analysis_versions']['all_present_features'], depth=3)"
   ]
  },
  {
   "cell_type": "code",
   "execution_count": null,
   "id": "6b6fbdcb",
   "metadata": {},
   "outputs": [],
   "source": [
    "results_cur_cleaned['XGB_analysis_versions'].keys()"
   ]
  },
  {
   "cell_type": "code",
   "execution_count": null,
   "id": "271d9435",
   "metadata": {},
   "outputs": [],
   "source": [
    "rc_searchLFP['fold_info']"
   ]
  },
  {
   "cell_type": "code",
   "execution_count": null,
   "id": "34c42cab",
   "metadata": {},
   "outputs": [],
   "source": [
    "#/test/S95_off_move_feats_NMSboth_parcel_aal_4chs_nfeats116_skip32_wsz256_grp10-0.npz"
   ]
  },
  {
   "cell_type": "code",
   "execution_count": null,
   "id": "30e144ec",
   "metadata": {},
   "outputs": [],
   "source": [
    "fname_feat_full"
   ]
  },
  {
   "cell_type": "code",
   "execution_count": null,
   "id": "243592df",
   "metadata": {},
   "outputs": [],
   "source": [
    "best_LFP_info['S95_off'].keys()"
   ]
  },
  {
   "cell_type": "code",
   "execution_count": null,
   "id": "6bb20070",
   "metadata": {},
   "outputs": [],
   "source": [
    "savefile_rawname_format"
   ]
  },
  {
   "cell_type": "code",
   "execution_count": null,
   "id": "9d62cc83",
   "metadata": {},
   "outputs": [],
   "source": [
    "brain_side_to_use"
   ]
  },
  {
   "cell_type": "code",
   "execution_count": null,
   "id": "721727f2",
   "metadata": {},
   "outputs": [],
   "source": [
    "featinds_good_boruta"
   ]
  },
  {
   "cell_type": "code",
   "execution_count": null,
   "id": "c43c68ce",
   "metadata": {},
   "outputs": [],
   "source": [
    "featinds_ranking_boruta"
   ]
  },
  {
   "cell_type": "code",
   "execution_count": null,
   "id": "817466dd",
   "metadata": {},
   "outputs": [],
   "source": [
    "colinds_good_VFsel[featinds_good_boruta]\n"
   ]
  },
  {
   "cell_type": "code",
   "execution_count": null,
   "id": "9ec37c93",
   "metadata": {},
   "outputs": [],
   "source": [
    "Xconcat_good_cur.shape"
   ]
  },
  {
   "cell_type": "code",
   "execution_count": null,
   "id": "b4e1b045",
   "metadata": {},
   "outputs": [],
   "source": [
    "colinds_good_VFsel"
   ]
  },
  {
   "cell_type": "code",
   "execution_count": null,
   "id": "795c59e3",
   "metadata": {},
   "outputs": [],
   "source": [
    "perfs_XGB[0].keys()"
   ]
  },
  {
   "cell_type": "code",
   "execution_count": null,
   "id": "96cd06b3",
   "metadata": {},
   "outputs": [],
   "source": [
    "perfs_XGB[-1].keys()"
   ]
  },
  {
   "cell_type": "code",
   "execution_count": null,
   "id": "57c2e30e",
   "metadata": {},
   "outputs": [],
   "source": [
    "featnames_nice"
   ]
  },
  {
   "cell_type": "code",
   "execution_count": null,
   "id": "458d2d8c",
   "metadata": {},
   "outputs": [],
   "source": [
    "Xconcat_good_cur"
   ]
  },
  {
   "cell_type": "code",
   "execution_count": null,
   "id": "9e3ff028",
   "metadata": {},
   "outputs": [],
   "source": [
    "colinds_bad_VFsel"
   ]
  },
  {
   "cell_type": "code",
   "execution_count": null,
   "id": "95aa850a",
   "metadata": {},
   "outputs": [],
   "source": [
    "anndict_per_intcat_per_rawn"
   ]
  },
  {
   "cell_type": "code",
   "execution_count": null,
   "id": "23dcc313",
   "metadata": {},
   "outputs": [],
   "source": [
    "np.nan"
   ]
  },
  {
   "cell_type": "code",
   "execution_count": null,
   "id": "5ed29c43",
   "metadata": {},
   "outputs": [],
   "source": [
    "discard_ratio"
   ]
  },
  {
   "cell_type": "code",
   "execution_count": null,
   "id": "b99a8adb",
   "metadata": {},
   "outputs": [],
   "source": [
    "mstr_ML"
   ]
  },
  {
   "cell_type": "code",
   "execution_count": null,
   "id": "c7fa2384",
   "metadata": {},
   "outputs": [],
   "source": [
    "discard_outliers_q"
   ]
  },
  {
   "cell_type": "code",
   "execution_count": null,
   "id": "e35d88f9",
   "metadata": {},
   "outputs": [],
   "source": [
    "artif_naive_bininds"
   ]
  },
  {
   "cell_type": "code",
   "execution_count": null,
   "id": "ad89f33c",
   "metadata": {},
   "outputs": [],
   "source": []
  }
 ],
 "metadata": {
  "kernelspec": {
   "display_name": "cobd",
   "language": "python",
   "name": "cobd"
  },
  "language_info": {
   "codemirror_mode": {
    "name": "ipython",
    "version": 3
   },
   "file_extension": ".py",
   "mimetype": "text/x-python",
   "name": "python",
   "nbconvert_exporter": "python",
   "pygments_lexer": "ipython3",
   "version": "3.8.15"
  }
 },
 "nbformat": 4,
 "nbformat_minor": 5
}
