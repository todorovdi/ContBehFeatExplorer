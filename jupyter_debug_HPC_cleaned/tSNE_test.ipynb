{
 "cells": [
  {
   "cell_type": "code",
   "execution_count": null,
   "metadata": {},
   "outputs": [],
   "source": []
  },
  {
   "cell_type": "code",
   "execution_count": null,
   "metadata": {},
   "outputs": [],
   "source": [
    "import os,sys\n",
    "import mne\n",
    "import utils  #my code\n",
    "import json\n",
    "import matplotlib.pyplot as plt\n",
    "import numpy as np\n",
    "import h5py\n",
    "%load_ext autoreload\n",
    "%autoreload 2\n",
    "\n",
    "if os.environ.get('DATA_DUSS') is not None:\n",
    "    data_dir = os.path.expandvars('$DATA_DUSS')\n",
    "else:\n",
    "    data_dir = '/home/demitau/data'\n",
    "    \n",
    "\n",
    "\n",
    "rawname_ = 'S01_off_hold'\n",
    "#rawname_ = 'S01_on_hold'\n",
    "rawname = rawname_ + '_resample_raw.fif'\n",
    "fname_full = os.path.join(data_dir,rawname)\n",
    "    \n",
    "# read file -- resampled to 256 Hz,  Electa MEG, EMG, LFP, EOG channels\n",
    "raw = mne.io.read_raw_fif(fname_full, None)"
   ]
  },
  {
   "cell_type": "code",
   "execution_count": null,
   "metadata": {},
   "outputs": [],
   "source": [
    "anns_fn = rawname_ + '_anns.txt'\n",
    "anns_fn_full = os.path.join(data_dir, anns_fn)\n",
    "anns = mne.read_annotations(anns_fn_full)\n",
    "raw.set_annotations(anns)"
   ]
  },
  {
   "cell_type": "code",
   "execution_count": null,
   "metadata": {},
   "outputs": [],
   "source": [
    "# get info about bad MEG channels (from separate file)\n",
    "with open('subj_info.json') as info_json:\n",
    "        #raise TypeError\n",
    "\n",
    "    #json.dumps({'value': numpy.int64(42)}, default=convert)\n",
    "    gen_subj_info = json.load(info_json)\n",
    "    \n",
    "subj,medcond,task  = utils.getParamsFromRawname(rawname_)\n",
    "badchlist = gen_subj_info[subj]['bad_channels'][medcond][task]\n",
    "raw.info['bads'] = badchlist\n",
    "print('bad channels are ',badchlist)"
   ]
  },
  {
   "cell_type": "code",
   "execution_count": null,
   "metadata": {},
   "outputs": [],
   "source": [
    "import utils\n",
    "trem_times_fn = 'trem_times_tau.json'\n",
    "with open(trem_times_fn ) as jf:\n",
    "    trem_times_byhand = json.load(jf)   \n",
    "trem_times_nms_fn = 'trem_times_tau_nms.json'\n",
    "with open(trem_times_nms_fn ) as jf:\n",
    "    trem_times_nms_byhand = json.load(jf)   \n",
    "\n",
    "#%debug\n",
    "tremIntervalJan, artif         = utils.unpackTimeIntervals(trem_times_byhand, mainSide = True, \n",
    "                                                           gen_subj_info=gen_subj_info, skipNotLoadedRaws=0)\n",
    "tremIntervalJan_nms, artif_nms = utils.unpackTimeIntervals(trem_times_nms_byhand, mainSide = False, \n",
    "                                                           gen_subj_info=gen_subj_info, skipNotLoadedRaws=0)\n",
    "for rawn in [rawname_]:\n",
    "    if rawn in artif_nms and rawn not in artif:\n",
    "        artif[rawn] = artif_nms[rawn]\n",
    "    else:\n",
    "        if rawn in artif_nms:\n",
    "            artif[rawn].update(artif_nms[rawn] )\n",
    "        \n",
    "for rawn in tremIntervalJan:\n",
    "    sind_str,medcond,task = utils.getParamsFromRawname(rawn)\n",
    "    maintremside = gen_subj_info[sind_str]['tremor_side']\n",
    "    opside= utils.getOppositeSideStr(maintremside)\n",
    "    if rawn in tremIntervalJan_nms:\n",
    "        tremIntervalJan[rawn][opside] = tremIntervalJan_nms[rawn][opside] \n",
    "\n",
    "\n",
    "mvtTypes = ['tremor', 'no_tremor', 'unk_activity']\n",
    "\n",
    "plotTremNegOffset = 2.\n",
    "plotTremPosOffset = 2.\n",
    "maxPlotLen = 6   # for those interval that are made for plotting, not touching intervals for stats\n",
    "addIntLenStat = 5\n",
    "plot_time_end = 150\n",
    "\n",
    "timeIntervalPerRaw_processed = utils.processJanIntervals(tremIntervalJan, maxPlotLen, addIntLenStat, \n",
    "                          plotTremNegOffset, plotTremPosOffset, plot_time_end, mvtTypes=mvtTypes)"
   ]
  },
  {
   "cell_type": "code",
   "execution_count": null,
   "metadata": {},
   "outputs": [],
   "source": [
    "# for current raw\n",
    "maintremside = gen_subj_info[subj]['tremor_side']\n",
    "print(maintremside)"
   ]
  },
  {
   "cell_type": "code",
   "execution_count": null,
   "metadata": {},
   "outputs": [],
   "source": [
    "raw_lfponly = raw.copy()\n",
    "#raw_lfponly.crop(0,300)\n",
    "raw_lfponly.load_data()"
   ]
  },
  {
   "cell_type": "code",
   "execution_count": null,
   "metadata": {},
   "outputs": [],
   "source": [
    "#hand_side = 'L'\n",
    "hand_side = 'R'\n",
    "\n",
    "if hand_side == 'L':\n",
    "    brain_side  = 'R'\n",
    "else:\n",
    "    brain_side  = 'L'\n",
    "chis = mne.pick_channels_regexp(raw.ch_names, 'LFP{}.*'.format(brain_side))\n",
    "chnames_lfp = [raw.ch_names[chi] for chi in chis]\n",
    "chnames_lfp"
   ]
  },
  {
   "cell_type": "code",
   "execution_count": null,
   "metadata": {},
   "outputs": [],
   "source": [
    "raw_lfponly.pick_channels(   chnames_lfp  )\n",
    "\n",
    "raw_lfponly.ch_names"
   ]
  },
  {
   "cell_type": "code",
   "execution_count": null,
   "metadata": {},
   "outputs": [],
   "source": [
    "rawdata = raw_lfponly.get_data()\n",
    "\n",
    "rawdata.shape"
   ]
  },
  {
   "cell_type": "code",
   "execution_count": null,
   "metadata": {},
   "outputs": [],
   "source": [
    "raw_lfponly.get_channel_types()"
   ]
  },
  {
   "cell_type": "code",
   "execution_count": null,
   "metadata": {},
   "outputs": [],
   "source": [
    "y = {}\n",
    "for chname in raw_lfponly.ch_names:\n",
    "    y[chname] = 'eeg'\n",
    "raw_lfponly.set_channel_types(y)"
   ]
  },
  {
   "cell_type": "code",
   "execution_count": null,
   "metadata": {},
   "outputs": [],
   "source": [
    "freqsToKill = np.arange(50, 128, 50) # harmonics of 50\n",
    "raw_lfponly.notch_filter(freqsToKill, picks=['eeg'])"
   ]
  },
  {
   "cell_type": "code",
   "execution_count": null,
   "metadata": {},
   "outputs": [],
   "source": [
    "raw_lfponly.plot_psd();"
   ]
  },
  {
   "cell_type": "code",
   "execution_count": null,
   "metadata": {},
   "outputs": [],
   "source": [
    "for ind in range(rawdata.shape[0] ):\n",
    "    plt.hist(rawdata[ind], bins=100, alpha=0.7, label='{}'.format(raw_lfponly.ch_names[ind]))\n",
    "\n",
    "plt.legend()"
   ]
  },
  {
   "cell_type": "code",
   "execution_count": null,
   "metadata": {},
   "outputs": [],
   "source": [
    "# I want 256 window sz\n",
    "cf =  256/ ( 5/(2*np.pi) * 256  ) \n",
    "cf"
   ]
  },
  {
   "cell_type": "code",
   "execution_count": null,
   "metadata": {},
   "outputs": [],
   "source": [
    "# strec = 0\n",
    "# endrec = raw_lfponly.times[-1]\n",
    "# epdur = endrec\n",
    "# events_one = mne.make_fixed_length_events(raw_lfponly, start=strec, stop=endrec, duration=epdur)\n",
    "# epochs_one = mne.Epochs(raw_lfponly,events_one, tmin=0,tmax = epdur, baseline=None)\n",
    "\n",
    "#tfr_array_morlet\n",
    "min_freq = 3\n",
    "freq_step = 2\n",
    "freqs = np.arange(min_freq,100,freq_step)\n",
    "#freq2cycles_mult = 0.75\n",
    "freq2cycles_mult = cf  # 1.2566370614359172\n",
    "tfrres = mne.time_frequency.tfr_array_morlet(raw_lfponly.get_data()[None,:], \n",
    "                                             raw.info['sfreq'], freqs, freqs * freq2cycles_mult, n_jobs=10)\n",
    "tfrres = tfrres[0]"
   ]
  },
  {
   "cell_type": "code",
   "execution_count": null,
   "metadata": {},
   "outputs": [],
   "source": [
    "%matplotlib qt"
   ]
  },
  {
   "cell_type": "code",
   "execution_count": null,
   "metadata": {},
   "outputs": [],
   "source": [
    "dat_ = np.abs( tfrres[0] )\n",
    "plt.figure()\n",
    "import matplotlib as mpl\n",
    "norm = mpl.colors.LogNorm(vmin = np.min(dat_), vmax = np.max(dat_))\n",
    "plt.pcolormesh(raw.times, freqs, dat_, norm=norm )"
   ]
  },
  {
   "cell_type": "code",
   "execution_count": null,
   "metadata": {},
   "outputs": [],
   "source": [
    "tfrres.shape"
   ]
  },
  {
   "cell_type": "code",
   "execution_count": null,
   "metadata": {},
   "outputs": [],
   "source": [
    "tfres_ = tfrres.reshape(3*len(freqs), tfrres.shape[-1]).T"
   ]
  },
  {
   "cell_type": "code",
   "execution_count": null,
   "metadata": {},
   "outputs": [],
   "source": [
    "plt.figure()\n",
    "N =  tfres_.shape[0] \n",
    "nshow = 20\n",
    "for ind in range( 0, N, N//nshow ):\n",
    "    plt.hist( np.abs( tfres_[ind] ) , bins=100, alpha=0.7, label='{}'.format(ind))\n",
    "\n",
    "#plt.legend()"
   ]
  },
  {
   "cell_type": "code",
   "execution_count": null,
   "metadata": {},
   "outputs": [],
   "source": [
    "Xfull = np.abs( tfres_ )[256:-256]  # to avaoid edge artifact due to wavelet computation"
   ]
  },
  {
   "cell_type": "code",
   "execution_count": null,
   "metadata": {},
   "outputs": [],
   "source": [
    "skip = 30\n",
    "X = np.abs( Xfull[::skip] )\n",
    "Xtimes = raw_lfponly.times[256:-256:skip]\n",
    "X.shape"
   ]
  },
  {
   "cell_type": "code",
   "execution_count": null,
   "metadata": {},
   "outputs": [],
   "source": []
  },
  {
   "cell_type": "code",
   "execution_count": null,
   "metadata": {},
   "outputs": [],
   "source": [
    "anns.description"
   ]
  },
  {
   "cell_type": "code",
   "execution_count": null,
   "metadata": {},
   "outputs": [],
   "source": []
  },
  {
   "cell_type": "code",
   "execution_count": null,
   "metadata": {},
   "outputs": [],
   "source": [
    "ivalis = {}\n",
    "anns = raw_lfponly.annotations\n",
    "for i,an in enumerate(anns ):\n",
    "    descr = an['description']\n",
    "    if descr not in ivalis:\n",
    "        ivalis[descr] = []\n",
    "    tpl = an['onset'], an['onset']+ an['duration'], descr\n",
    "    ivalis[descr] += [ tpl  ]"
   ]
  },
  {
   "cell_type": "code",
   "execution_count": null,
   "metadata": {},
   "outputs": [],
   "source": [
    "hand_side"
   ]
  },
  {
   "cell_type": "code",
   "execution_count": null,
   "metadata": {},
   "outputs": [],
   "source": [
    "tremcolor = 'r'\n",
    "nontremcolor = 'g'\n",
    "mvtcolor = 'm'  #c,y\n",
    "\n",
    "#hsfc = hand_side\n",
    "hsfc = 'L'; print('Using not hand side (perhabs) for coloring')\n",
    "annot_colors = { 'trem_{}'.format(hsfc): tremcolor  }\n",
    "annot_colors[ 'no_tremor_{}'.format(hsfc) ] = nontremcolor\n",
    "annot_colors[ 'mvt_{}'.format(hsfc) ] = mvtcolor\n",
    "#annot_colors[ 'no_tremor_{}'.format(hand_side) ] = nontremcolor\n",
    "#annot_colors[ 'no_tremor_{}'.format(hand_side) ] = nontremcolor\n",
    "\n",
    "colors =  np.array(  [nontremcolor] * len(Xtimes) )\n",
    "\n",
    "for an in anns:\n",
    "    for descr in annot_colors:\n",
    "        if an['description'] == descr:\n",
    "            col = annot_colors[descr]\n",
    "    \n",
    "            start = an['onset']\n",
    "            end = start + an['duration']\n",
    "            inds = np.where((Xtimes >= start)* (Xtimes <= end)  )[0]\n",
    "            colors[inds] = [col]\n",
    "\n",
    "# postcolor = 'blue'\n",
    "# precolor = 'yellow'\n",
    "\n",
    "# predur = 3\n",
    "# postdur = 3\n",
    "\n",
    "# inds = np.where((Xtimes >= tremend - predur)* (Xtimes <= tremend )  )[0]\n",
    "# colors[inds] = [precolor]\n",
    "\n",
    "# inds = np.where((Xtimes >= tremend)* (Xtimes <= tremend + postdur )  )[0]\n",
    "# colors[inds] = [postcolor]"
   ]
  },
  {
   "cell_type": "code",
   "execution_count": null,
   "metadata": {},
   "outputs": [],
   "source": [
    "colors"
   ]
  },
  {
   "cell_type": "code",
   "execution_count": null,
   "metadata": {},
   "outputs": [],
   "source": [
    "colors.shape"
   ]
  },
  {
   "cell_type": "code",
   "execution_count": null,
   "metadata": {},
   "outputs": [],
   "source": [
    "# X = Xfull\n",
    "# X.shape"
   ]
  },
  {
   "cell_type": "markdown",
   "metadata": {},
   "source": [
    "## Look if we have something evidently weird in ICA"
   ]
  },
  {
   "cell_type": "code",
   "execution_count": null,
   "metadata": {},
   "outputs": [],
   "source": [
    "help(FastICA)"
   ]
  },
  {
   "cell_type": "code",
   "execution_count": null,
   "metadata": {},
   "outputs": [],
   "source": [
    "from sklearn.decomposition import FastICA\n",
    "ica = FastICA(n_components=30)\n",
    "S_ = ica.fit_transform(X)  "
   ]
  },
  {
   "cell_type": "code",
   "execution_count": null,
   "metadata": {},
   "outputs": [],
   "source": [
    "sh = 0.09\n",
    "%matplotlib qt\n",
    "#descrs = ['trem']\n",
    "for i in range(S_.shape[-1]):\n",
    "    plt.plot(Xtimes, S_[:,i] + i*sh)\n",
    "    #for i in ivalis"
   ]
  },
  {
   "cell_type": "code",
   "execution_count": null,
   "metadata": {},
   "outputs": [],
   "source": [
    "import gc; gc.collect()"
   ]
  },
  {
   "cell_type": "code",
   "execution_count": null,
   "metadata": {},
   "outputs": [],
   "source": [
    "X.shape"
   ]
  },
  {
   "cell_type": "code",
   "execution_count": null,
   "metadata": {},
   "outputs": [],
   "source": [
    "from sklearn.decomposition import PCA\n",
    "pca = PCA(n_components=60)\n",
    "pca.fit(Xfull)\n",
    "#pca.fit(X)"
   ]
  },
  {
   "cell_type": "code",
   "execution_count": null,
   "metadata": {},
   "outputs": [],
   "source": [
    "np.sum(pca.explained_variance_)"
   ]
  },
  {
   "cell_type": "code",
   "execution_count": null,
   "metadata": {},
   "outputs": [],
   "source": [
    "print('total explained variance proportion', np.sum(pca.explained_variance_ratio_) )\n",
    "print(pca.explained_variance_ratio_[:10])"
   ]
  },
  {
   "cell_type": "code",
   "execution_count": null,
   "metadata": {},
   "outputs": [],
   "source": [
    "pcapts = pca.transform(X)"
   ]
  },
  {
   "cell_type": "code",
   "execution_count": null,
   "metadata": {},
   "outputs": [],
   "source": [
    "pcapts.shape"
   ]
  },
  {
   "cell_type": "code",
   "execution_count": null,
   "metadata": {},
   "outputs": [],
   "source": [
    "import matplotlib as mpl"
   ]
  },
  {
   "cell_type": "code",
   "execution_count": null,
   "metadata": {},
   "outputs": [],
   "source": [
    "colors"
   ]
  },
  {
   "cell_type": "code",
   "execution_count": null,
   "metadata": {},
   "outputs": [],
   "source": [
    "plt.scatter(pcapts[:,0], pcapts[:,1], c=colors.tolist())\n",
    "\n",
    "#legel_trem = mpl.patches.Patch(facecolor=tremcolor, edgecolor=None, label='trem')\n",
    "\n",
    "legel_trem = mpl.lines.Line2D([0], [0], marker='o', color='w', label='trem', \n",
    "                              markerfacecolor=tremcolor, markersize=8)\n",
    "legel_notrem = mpl.lines.Line2D([0], [0], marker='o', color='w', label='notrem', \n",
    "                              markerfacecolor=nontremcolor, markersize=8)\n",
    "legel_mvt = mpl.lines.Line2D([0], [0], marker='o', color='w', label='mvt', \n",
    "                              markerfacecolor=mvtcolor, markersize=8)\n",
    "# legel_preend = mpl.lines.Line2D([0], [0], marker='o', color='w', label='preend', \n",
    "#                               markerfacecolor=precolor, markersize=8)\n",
    "# legel_postend = mpl.lines.Line2D([0], [0], marker='o', color='w', label='postend', \n",
    "#                               markerfacecolor=postcolor, markersize=8)\n",
    "\n",
    "\n",
    "\n",
    "#legend_elements = [legel_trem, legel_notrem, legel_preend, legel_postend]\n",
    "legend_elements = [legel_trem, legel_notrem, legel_mvt]\n",
    "\n",
    "# Create the figure\n",
    "#fig, ax = plt.subplots()\n",
    "plt.legend(handles=legend_elements)\n",
    "\n",
    "#plt.show()\n"
   ]
  },
  {
   "cell_type": "code",
   "execution_count": null,
   "metadata": {},
   "outputs": [],
   "source": [
    "XX = pcapts\n",
    "\n",
    "\n",
    "import numpy as np\n",
    "from sklearn.manifold import TSNE\n",
    "#X = np.array([[0, 0, 0], [0, 1, 1], [1, 0, 1], [1, 1, 1]])"
   ]
  },
  {
   "cell_type": "code",
   "execution_count": null,
   "metadata": {},
   "outputs": [],
   "source": [
    "import gc; gc.collect()"
   ]
  },
  {
   "cell_type": "code",
   "execution_count": null,
   "metadata": {},
   "outputs": [],
   "source": [
    "import time\n",
    "\n",
    "time.time()\n"
   ]
  },
  {
   "cell_type": "code",
   "execution_count": null,
   "metadata": {},
   "outputs": [],
   "source": [
    "def run_tsne(p):\n",
    "    t0 = time.time()\n",
    "    pi,si, XX, seed, perplex_cur, lrate = p\n",
    "    tsne = TSNE(n_components=2, random_state=seed, perplexity=perplex_cur, learning_rate=lrate)\n",
    "    X_embedded = tsne.fit_transform(XX)\n",
    "    \n",
    "    dur = time.time() - t0\n",
    "    print('comnputed in {:.3f}s: perplexity = {};  lrate = {}; seed = {}'.\n",
    "          format(dur,perplex_cur, lrate, seed))\n",
    "    \n",
    "    return pi,si,X_embedded, seed, perplex_cur, lrate"
   ]
  },
  {
   "cell_type": "code",
   "execution_count": null,
   "metadata": {},
   "outputs": [],
   "source": [
    "#perplex_values = [5, 10, 30, 40, 50]\n",
    "#seeds = range(5)\n",
    "lrate = 200.\n",
    "#seeds = range(5)\n",
    "perplex_values = [5, 30, 50]\n",
    "seeds = range(2)\n",
    "\n",
    "res = []\n",
    "args = []\n",
    "for pi,perplex_cur in enumerate(perplex_values):\n",
    "    subres = []\n",
    "    for si,seed in enumerate(seeds):\n",
    "\n",
    "        args += [ (pi,si, XX.copy(), seed, perplex_cur, lrate)]\n",
    "        #tsne = TSNE(n_components=2, random_state=seed, perplexity=perplex_cur, learning_rate=lrate)\n",
    "        \n",
    "\n",
    "        #X_embedded = tsne.fit_transform(XX)\n",
    "        #X_embedded.shape\n",
    "        #subres += [X_embedded]\n",
    "\n",
    "    #res += [subres]\n",
    "    "
   ]
  },
  {
   "cell_type": "code",
   "execution_count": null,
   "metadata": {},
   "outputs": [],
   "source": [
    "import multiprocessing as mpr\n",
    "ncores = mpr.cpu_count()-2\n",
    "pool = mpr.Pool(ncores)\n",
    "print('Starting {} workers on {} cores'.format(len(args), ncores))\n",
    "r = pool.map(run_tsne, args)\n",
    "\n",
    "pool.close()\n",
    "pool.join()"
   ]
  },
  {
   "cell_type": "code",
   "execution_count": null,
   "metadata": {},
   "outputs": [],
   "source": [
    "#cols = [colors, colors2, colors3]\n",
    "cols = [colors]\n",
    "\n",
    "colind = 0\n",
    "nr = len(seeds)\n",
    "nc = len(perplex_values)\n",
    "ww = 5; hh=5\n",
    "fig,axs = plt.subplots(ncols =nc, nrows=nr, figsize = (nc*ww, nr*hh))\n",
    "# for pi,pv in enumerate(perplex_values):\n",
    "#     for si,sv in enumerate(seeds):\n",
    "for tpl in r:\n",
    "    pi,si,X_embedded, seed, perplex_cur, lrate = tpl\n",
    "    ax = axs[si,pi]\n",
    "    #X_embedded = res[si][pi]\n",
    "    ax.scatter(X_embedded[:,0], X_embedded[:,1], c = cols[colind], s=1)\n",
    "    ax.set_title('perplexity = {};  lrate = {}; seed = {}'.format(perplex_cur, lrate, seed))\n",
    "\n",
    "axs[0,0].legend(handles=legend_elements)\n",
    "plt.savefig('tSNE_LFP{}_trem_minFreq={}.pdf'.format(brain_side,min_freq))"
   ]
  },
  {
   "cell_type": "code",
   "execution_count": null,
   "metadata": {},
   "outputs": [],
   "source": [
    "X.shape"
   ]
  },
  {
   "cell_type": "code",
   "execution_count": null,
   "metadata": {},
   "outputs": [],
   "source": []
  },
  {
   "cell_type": "code",
   "execution_count": null,
   "metadata": {},
   "outputs": [],
   "source": []
  }
 ],
 "metadata": {
  "kernelspec": {
   "display_name": "Python 3",
   "language": "python",
   "name": "python3"
  },
  "language_info": {
   "codemirror_mode": {
    "name": "ipython",
    "version": 3
   },
   "file_extension": ".py",
   "mimetype": "text/x-python",
   "name": "python",
   "nbconvert_exporter": "python",
   "pygments_lexer": "ipython3",
   "version": "3.6.9"
  }
 },
 "nbformat": 4,
 "nbformat_minor": 2
}
