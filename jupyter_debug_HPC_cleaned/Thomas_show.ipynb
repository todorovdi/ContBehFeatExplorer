{
 "cells": [
  {
   "cell_type": "code",
   "execution_count": null,
   "metadata": {},
   "outputs": [],
   "source": [
    "import os,sys\n",
    "import mne\n",
    "import utils  #my code\n",
    "import json\n",
    "import matplotlib.pyplot as plt\n",
    "import numpy as np\n",
    "%load_ext autoreload\n",
    "%autoreload 2\n",
    "\n",
    "if os.environ.get('DATA_DUSS') is not None:\n",
    "    data_dir = os.path.expandvars('$DATA_DUSS')\n",
    "else:\n",
    "    data_dir = '/home/demitau/data'\n",
    "    \n",
    "\n",
    "\n",
    "rawname_ = 'S01_off_hold'\n",
    "#rawname_ = 'S01_on_hold'\n",
    "rawname = rawname_ + '_resample_raw.fif'\n",
    "fname_full = os.path.join(data_dir,rawname)\n",
    "    "
   ]
  },
  {
   "cell_type": "code",
   "execution_count": null,
   "metadata": {},
   "outputs": [],
   "source": [
    "# read file -- resampled to 256 Hz,  Electa MEG, EMG, LFP, EOG channels\n",
    "raw = mne.io.read_raw_fif(fname_full, None)"
   ]
  },
  {
   "cell_type": "code",
   "execution_count": null,
   "metadata": {},
   "outputs": [],
   "source": [
    "# apparently tfr_morlet does not use baseline info from Epochs itself\n",
    "# MNE baseline (locate in rescale funtion) does not get rid of artifact high values\n",
    "# the type of basline corr that Jan referred to is called in MNE 'percent'"
   ]
  },
  {
   "cell_type": "code",
   "execution_count": null,
   "metadata": {},
   "outputs": [],
   "source": [
    "%matplotlib qt"
   ]
  },
  {
   "cell_type": "code",
   "execution_count": null,
   "metadata": {},
   "outputs": [],
   "source": [
    "# Look for visual alpha and motor mu"
   ]
  },
  {
   "cell_type": "code",
   "execution_count": null,
   "metadata": {},
   "outputs": [],
   "source": [
    "#raw.times[-1]"
   ]
  },
  {
   "cell_type": "code",
   "execution_count": null,
   "metadata": {},
   "outputs": [],
   "source": [
    "epdur = 30\n",
    "endrec = raw.times[-1]\n",
    "new_events = mne.make_fixed_length_events(raw, start=0, stop=endrec, duration=epdur)\n",
    "epochs = mne.Epochs(raw,new_events, tmin=0,tmax = epdur, baseline=None)\n",
    "\n",
    "freqs = np.linspace(8, 13, num=10)\n",
    "\n",
    "# sh=2\n",
    "# cfq = 15\n",
    "# freqs = np.logspace(*np.log10([cfq-sh,cfq+sh ]), num=6)\n",
    "n_cycles = freqs / 2.  # different number of cycle per frequency\n",
    "power = mne.time_frequency.tfr_morlet(epochs, freqs=freqs, n_cycles=n_cycles, use_fft=True,\n",
    "                        return_itc=False, decim=3, n_jobs=10)"
   ]
  },
  {
   "cell_type": "code",
   "execution_count": null,
   "metadata": {},
   "outputs": [],
   "source": [
    "#power.plot_topomap(sensors=True, contours=10, tmin=None, tmax=None, fmin=8, fmax=12);"
   ]
  },
  {
   "cell_type": "code",
   "execution_count": null,
   "metadata": {},
   "outputs": [],
   "source": [
    "#power.plot_topo(title='Average power', sensors=True, contours=5);"
   ]
  },
  {
   "cell_type": "code",
   "execution_count": null,
   "metadata": {},
   "outputs": [],
   "source": [
    "power.plot_topo(baseline=[-1e-10,0], mode='percent', title='Average power');"
   ]
  },
  {
   "cell_type": "code",
   "execution_count": null,
   "metadata": {},
   "outputs": [],
   "source": [
    "#reshuffle channels types (by default LFP and EMG types are determined wronng)\n",
    "\n",
    "# set types for some misc channels\n",
    "for i,chn in enumerate(raw.ch_names):\n",
    "    #chn = raw.ch_names[chi]\n",
    "    show = 0\n",
    "    if chn.find('_old') >= 0:\n",
    "        raw.set_channel_types({chn:'emg'}); show = 1\n",
    "    elif chn.find('_kil') >= 0:\n",
    "        raw.set_channel_types({chn:'misc'}); show = 1\n",
    "    elif chn.find('LFP') >= 0:\n",
    "        raw.set_channel_types({chn:'bio'}); show = 1  # or stim, ecog, eeg\n",
    "    \n",
    "    if show:\n",
    "        print(i, chn )\n",
    "        \n",
    "        \n",
    "bt = mne.io.pick.channel_indices_by_type(raw.info)\n",
    "miscchans = bt['misc']\n",
    "gradchans = bt['grad']\n",
    "magchans = bt['mag']\n",
    "eogchans = bt['eog']\n",
    "emgchans = bt['emg']\n",
    "biochans = bt['bio']\n",
    "#mne.pick_channels(raw,miscchans)\n",
    "\n",
    "print('miscchans', len(miscchans))\n",
    "print('gradchans', len(gradchans) )\n",
    "print('magchans', len(magchans))\n",
    "print('eogchans', len(eogchans))\n",
    "print('emgchans', len(emgchans))\n",
    "print('biochans', len(biochans))\n",
    "print( len(miscchans) + len(gradchans) + len(magchans) + len(eogchans) + len(emgchans) +\n",
    "      len(biochans), len(raw.ch_names) )\n",
    "print(len(raw.info['bads']))"
   ]
  },
  {
   "cell_type": "code",
   "execution_count": null,
   "metadata": {},
   "outputs": [],
   "source": []
  },
  {
   "cell_type": "code",
   "execution_count": null,
   "metadata": {},
   "outputs": [],
   "source": [
    "# get info about bad MEG channels (from separate file)\n",
    "with open('subj_info.json') as info_json:\n",
    "        #raise TypeError\n",
    "\n",
    "    #json.dumps({'value': numpy.int64(42)}, default=convert)\n",
    "    gen_subj_info = json.load(info_json)\n",
    "    \n",
    "subj,medcond,task  = utils.getParamsFromRawname(rawname_)\n",
    "badchlist = gen_subj_info[subj]['bad_channels'][medcond][task]\n",
    "raw.info['bads'] = badchlist\n",
    "print('bad channels are ',badchlist)"
   ]
  },
  {
   "cell_type": "code",
   "execution_count": null,
   "metadata": {},
   "outputs": [],
   "source": [
    "gen_subj_info[subj]['tremor_side']"
   ]
  },
  {
   "cell_type": "markdown",
   "metadata": {},
   "source": [
    "#The event list contains three columns. The first column corresponds to sample number. To convert this to seconds, you should divide the sample number by the used sampling frequency. The second column is reserved for the old value of the trigger channel at the time of transition, but is currently not in use. The third column is the trigger id (amplitude of the pulse)."
   ]
  },
  {
   "cell_type": "markdown",
   "metadata": {},
   "source": [
    "## load tremor labels"
   ]
  },
  {
   "cell_type": "code",
   "execution_count": null,
   "metadata": {},
   "outputs": [],
   "source": [
    "import utils\n",
    "trem_times_fn = 'trem_times_tau.json'\n",
    "with open(trem_times_fn ) as jf:\n",
    "    trem_times_byhand = json.load(jf)   \n",
    "trem_times_nms_fn = 'trem_times_tau_nms.json'\n",
    "with open(trem_times_nms_fn ) as jf:\n",
    "    trem_times_nms_byhand = json.load(jf)   \n",
    "\n",
    "#%debug\n",
    "tremIntervalJan, artif         = utils.unpackTimeIntervals(trem_times_byhand, mainSide = True, \n",
    "                                                           gen_subj_info=gen_subj_info, skipNotLoadedRaws=0)\n",
    "tremIntervalJan_nms, artif_nms = utils.unpackTimeIntervals(trem_times_nms_byhand, mainSide = False, \n",
    "                                                           gen_subj_info=gen_subj_info, skipNotLoadedRaws=0)\n",
    "for rawn in [rawname_]:\n",
    "    if rawn in artif_nms and rawn not in artif:\n",
    "        artif[rawn] = artif_nms[rawn]\n",
    "    else:\n",
    "        if rawn in artif_nms:\n",
    "            artif[rawn].update(artif_nms[rawn] )\n",
    "        \n",
    "for rawn in tremIntervalJan:\n",
    "    sind_str,medcond,task = utils.getParamsFromRawname(rawn)\n",
    "    maintremside = gen_subj_info[sind_str]['tremor_side']\n",
    "    opside= utils.getOppositeSideStr(maintremside)\n",
    "    if rawn in tremIntervalJan_nms:\n",
    "        tremIntervalJan[rawn][opside] = tremIntervalJan_nms[rawn][opside] \n",
    "\n",
    "\n",
    "mvtTypes = ['tremor', 'no_tremor', 'unk_activity']\n",
    "\n",
    "plotTremNegOffset = 2.\n",
    "plotTremPosOffset = 2.\n",
    "maxPlotLen = 6   # for those interval that are made for plotting, not touching intervals for stats\n",
    "addIntLenStat = 5\n",
    "plot_time_end = 150\n",
    "\n",
    "timeIntervalPerRaw_processed = utils.processJanIntervals(tremIntervalJan, maxPlotLen, addIntLenStat, \n",
    "                          plotTremNegOffset, plotTremPosOffset, plot_time_end, mvtTypes=mvtTypes)"
   ]
  },
  {
   "cell_type": "code",
   "execution_count": null,
   "metadata": {},
   "outputs": [],
   "source": []
  },
  {
   "cell_type": "code",
   "execution_count": null,
   "metadata": {},
   "outputs": [],
   "source": [
    "sind_str"
   ]
  },
  {
   "cell_type": "code",
   "execution_count": null,
   "metadata": {},
   "outputs": [],
   "source": [
    "# for current raw\n",
    "maintremside = gen_subj_info[subj]['tremor_side']\n",
    "nonmaintremside = utils.getOppositeSideStr(maintremside)\n",
    "intervals = timeIntervalPerRaw_processed[rawname_][maintremside]   #[rawn][side] -- list of tuples (beg,end, type string)]   #[rawn][side] -- list of tuples (beg,end, type string)\n",
    "intervals_nms = timeIntervalPerRaw_processed[rawname_][nonmaintremside]   #[rawn][side] -- list of tuples (beg,end, type string)]   #[rawn][side] -- list of tuples (beg,end, type string)\n",
    "\n",
    "# convert to intervalType -> intervalInds\n",
    "import globvars as gv\n",
    "ivalis = {}  # dict of indices of intervals per interval type\n",
    "ivalis_nms = {}\n",
    "for itype in gv.gparams['intTypes']:\n",
    "    ivit = []\n",
    "    for i,interval in enumerate(intervals):\n",
    "        t1,t2,it = interval\n",
    "\n",
    "        if it == itype:\n",
    "            ivit += [i]\n",
    "    if len(ivit) > 0:\n",
    "        ivalis[itype] = ivit\n",
    "        \n",
    "    ivit = []\n",
    "    for i,interval in enumerate(intervals_nms):\n",
    "        t1,t2,it = interval\n",
    "\n",
    "        if it == itype:\n",
    "            ivit += [i]\n",
    "    if len(ivit) > 0:\n",
    "        ivalis_nms[itype] = ivit\n",
    "\n",
    "print('Main tremor side here is ',maintremside)\n",
    "\n",
    "display('all intervals:' ,intervals)\n",
    "display('intervals by type:', ivalis )\n",
    "\n",
    "# convert intervals to MNE type\n",
    "annotation_desc_2_event_id = {'middle_full':0, 'no_tremor':1, 'endseg':2}\n",
    "annotation_desc_2_event_id = {'middle_full':0, 'no_tremor':1}\n",
    "\n",
    "onset = [ ivl[0] for ivl in intervals ]\n",
    "duration = [ ivl[1]-ivl[0] for ivl in intervals ]\n",
    "description = [ ivl[2] for ivl in intervals ]\n",
    "annot = mne.Annotations(onset, duration, description)\n",
    "raw.set_annotations(annot)"
   ]
  },
  {
   "cell_type": "code",
   "execution_count": null,
   "metadata": {},
   "outputs": [],
   "source": [
    "ivalis_nms"
   ]
  },
  {
   "cell_type": "markdown",
   "metadata": {},
   "source": [
    "#The event list contains three columns. The first column corresponds to sample number. To convert this to seconds, you should divide the sample number by the used sampling frequency. The second column is reserved for the old value of the trigger channel at the time of transition, but is currently not in use. The third column is the trigger id (amplitude of the pulse)."
   ]
  },
  {
   "cell_type": "code",
   "execution_count": null,
   "metadata": {},
   "outputs": [],
   "source": [
    "#just to make it faster\n",
    "fastTest = 1\n",
    "if fastTest:\n",
    "    fastTest_dataCropTime = 300\n",
    "    #fastTest_dataCropTime = 100\n",
    "    raw.crop(tmin=0, tmax=fastTest_dataCropTime)\n",
    "raw.load_data()"
   ]
  },
  {
   "cell_type": "code",
   "execution_count": null,
   "metadata": {},
   "outputs": [],
   "source": [
    "help(raw.plot)"
   ]
  },
  {
   "cell_type": "markdown",
   "metadata": {},
   "source": [
    "## Mawell filter"
   ]
  },
  {
   "cell_type": "code",
   "execution_count": null,
   "metadata": {},
   "outputs": [],
   "source": [
    "#Maxwell filter\n",
    "fine_cal_file  = os.path.join(data_dir,  'sss_cal.dat')\n",
    "crosstalk_file = os.path.join(data_dir,  'ct_sparse.fif')\n",
    "raw_sss = mne.preprocessing.maxwell_filter(raw, cross_talk=crosstalk_file,\n",
    "                                           calibration=fine_cal_file, coord_frame='meg')"
   ]
  },
  {
   "cell_type": "code",
   "execution_count": null,
   "metadata": {},
   "outputs": [],
   "source": [
    "%matplotlib qt"
   ]
  },
  {
   "cell_type": "code",
   "execution_count": null,
   "metadata": {},
   "outputs": [],
   "source": [
    "#%matplotlib inline\n",
    "#fig,axs = plt.subplots(2,1,figsize=(10,5))\n",
    "raw.copy().pick(['meg']).plot(duration=2, butterfly=True);\n",
    "raw_sss.copy().pick(['meg']).plot(duration=2, butterfly=True);"
   ]
  },
  {
   "cell_type": "code",
   "execution_count": null,
   "metadata": {},
   "outputs": [],
   "source": [
    "import gc; gc.collect()"
   ]
  },
  {
   "cell_type": "code",
   "execution_count": null,
   "metadata": {},
   "outputs": [],
   "source": [
    "#raw_sss.info"
   ]
  },
  {
   "cell_type": "markdown",
   "metadata": {},
   "source": [
    "# Notch"
   ]
  },
  {
   "cell_type": "code",
   "execution_count": null,
   "metadata": {},
   "outputs": [],
   "source": [
    "# Butterwordth 4th order -- for stopping power grid noise"
   ]
  },
  {
   "cell_type": "code",
   "execution_count": null,
   "metadata": {},
   "outputs": [],
   "source": [
    "#help(raw_sss.notch_filter)"
   ]
  },
  {
   "cell_type": "code",
   "execution_count": null,
   "metadata": {},
   "outputs": [],
   "source": [
    "import numpy as np\n",
    "freqsToKill = np.arange(50, 128, 50) # harmonics of 50\n",
    "raw_sss.notch_filter(freqsToKill, picks=['meg','bio', 'emg'])"
   ]
  },
  {
   "cell_type": "code",
   "execution_count": null,
   "metadata": {},
   "outputs": [],
   "source": [
    "#help(raw.plot_psd)"
   ]
  },
  {
   "cell_type": "code",
   "execution_count": null,
   "metadata": {},
   "outputs": [],
   "source": [
    "#tfr = AverageTFR(epochs.info, con, times, freqs, len(epochs))\n",
    "#tfr.plot_topo(fig_facecolor='w', font_color='k', border='k')"
   ]
  },
  {
   "cell_type": "code",
   "execution_count": null,
   "metadata": {},
   "outputs": [],
   "source": [
    "intervals[-1]"
   ]
  },
  {
   "cell_type": "code",
   "execution_count": null,
   "metadata": {},
   "outputs": [],
   "source": [
    "intind = 2\n",
    "ival = intervals[intind]; display( intervals[intind] )\n",
    "a, b, it = ival\n",
    "assert it == 'middle_full'"
   ]
  },
  {
   "cell_type": "code",
   "execution_count": null,
   "metadata": {},
   "outputs": [],
   "source": [
    "intind = -1\n",
    "ival = intervals[intind]; display( intervals[intind] )\n",
    "a0, b0, it0 = ival\n",
    "assert it0 == 'no_tremor'"
   ]
  },
  {
   "cell_type": "code",
   "execution_count": null,
   "metadata": {},
   "outputs": [],
   "source": [
    "#some PSD to look at\n",
    "%matplotlib inline\n",
    "#%debug\n",
    "#ax = plt.gca()\n",
    "raw.plot_psd(picks='meg' ,     fmax=40, tmin=a, tmax=b);\n",
    "raw_sss.plot_psd(picks='meg' , fmax=40, tmin=a, tmax=b);"
   ]
  },
  {
   "cell_type": "code",
   "execution_count": null,
   "metadata": {},
   "outputs": [],
   "source": [
    "#some PSD to look at\n",
    "%matplotlib inline\n",
    "#%debug\n",
    "#ax = plt.gca()\n",
    "raw.plot_psd(picks='meg' ,     fmax=40, tmin=a0, tmax=b0 );\n",
    "raw_sss.plot_psd(picks='meg' , fmax=40, tmin=a0, tmax=b0 );"
   ]
  },
  {
   "cell_type": "code",
   "execution_count": null,
   "metadata": {},
   "outputs": [],
   "source": [
    "#advise: plot topomap,   no special pattern -- weird"
   ]
  },
  {
   "cell_type": "code",
   "execution_count": null,
   "metadata": {},
   "outputs": [],
   "source": [
    "#raw_sss.plot_psd_topomap(ch_type='grad', normalize=True)"
   ]
  },
  {
   "cell_type": "code",
   "execution_count": null,
   "metadata": {},
   "outputs": [],
   "source": [
    "help(raw.pick)"
   ]
  },
  {
   "cell_type": "code",
   "execution_count": null,
   "metadata": {},
   "outputs": [],
   "source": [
    "#ri2 = raw.pick(['meg','misc','bio'])\n",
    "#mne.io.pick.channel_indices_by_type(ri2.info)"
   ]
  },
  {
   "cell_type": "code",
   "execution_count": null,
   "metadata": {},
   "outputs": [],
   "source": []
  },
  {
   "cell_type": "code",
   "execution_count": null,
   "metadata": {},
   "outputs": [],
   "source": [
    "import gc; gc.collect()"
   ]
  },
  {
   "cell_type": "code",
   "execution_count": null,
   "metadata": {},
   "outputs": [],
   "source": [
    "#some PSD to look at\n",
    "%matplotlib inline\n",
    "#%debug\n",
    "#ax = plt.gca()\n",
    "raw_sss.plot_psd(picks=gradchans[:2] );\n",
    "raw_sss.plot_psd(picks=biochans);\n",
    "raw_sss.plot_psd(picks=emgchans);"
   ]
  },
  {
   "cell_type": "markdown",
   "metadata": {},
   "source": [
    "## Question: does filter order/type matter?"
   ]
  },
  {
   "cell_type": "code",
   "execution_count": null,
   "metadata": {},
   "outputs": [],
   "source": [
    "help(raw.filter)"
   ]
  },
  {
   "cell_type": "code",
   "execution_count": null,
   "metadata": {},
   "outputs": [],
   "source": [
    "raw_sss.info"
   ]
  },
  {
   "cell_type": "markdown",
   "metadata": {},
   "source": [
    "# Look per freq"
   ]
  },
  {
   "cell_type": "code",
   "execution_count": null,
   "metadata": {},
   "outputs": [],
   "source": [
    "# I need to create single epoch from the data apparently"
   ]
  },
  {
   "cell_type": "code",
   "execution_count": null,
   "metadata": {},
   "outputs": [],
   "source": [
    "new_events"
   ]
  },
  {
   "cell_type": "code",
   "execution_count": null,
   "metadata": {},
   "outputs": [],
   "source": [
    "dur = 20\n",
    "new_events = mne.make_fixed_length_events(raw_sss, start=0, stop=300, duration=dur)\n",
    "epochs = mne.Epochs(raw_sss,new_events, tmin=0,tmax = dur, baseline=None)"
   ]
  },
  {
   "cell_type": "code",
   "execution_count": null,
   "metadata": {},
   "outputs": [],
   "source": [
    "freqs"
   ]
  },
  {
   "cell_type": "code",
   "execution_count": null,
   "metadata": {},
   "outputs": [],
   "source": [
    "#epochs.info['subject_info']"
   ]
  },
  {
   "cell_type": "code",
   "execution_count": null,
   "metadata": {},
   "outputs": [],
   "source": [
    "5121/256"
   ]
  },
  {
   "cell_type": "code",
   "execution_count": null,
   "metadata": {},
   "outputs": [],
   "source": [
    "epochs.get_data().shape"
   ]
  },
  {
   "cell_type": "code",
   "execution_count": null,
   "metadata": {},
   "outputs": [],
   "source": [
    "intervals"
   ]
  },
  {
   "cell_type": "code",
   "execution_count": null,
   "metadata": {},
   "outputs": [],
   "source": [
    "#raw.info['bads']"
   ]
  },
  {
   "cell_type": "code",
   "execution_count": null,
   "metadata": {},
   "outputs": [],
   "source": [
    "#mne.viz.plot_tfr_topomap\n",
    "\n",
    "# define frequencies of interest (log-spaced)\n",
    "#freqs = np.logspace(*np.log10([6, 48]), num=40)\n",
    "freqs = np.linspace(6, 48, num=40)\n",
    "\n",
    "# sh=2\n",
    "# cfq = 15\n",
    "# freqs = np.logspace(*np.log10([cfq-sh,cfq+sh ]), num=6)\n",
    "n_cycles = freqs / 2.  # different number of cycle per frequency\n",
    "power = mne.time_frequency.tfr_morlet(epochs, freqs=freqs, n_cycles=n_cycles, use_fft=True,\n",
    "                        return_itc=False, decim=3, n_jobs=10)"
   ]
  },
  {
   "cell_type": "code",
   "execution_count": null,
   "metadata": {},
   "outputs": [],
   "source": [
    "%matplotlib qt"
   ]
  },
  {
   "cell_type": "code",
   "execution_count": null,
   "metadata": {},
   "outputs": [],
   "source": [
    "#power.__file__"
   ]
  },
  {
   "cell_type": "code",
   "execution_count": null,
   "metadata": {},
   "outputs": [],
   "source": [
    "#help(mne.time_frequency.tfr_morlet)"
   ]
  },
  {
   "cell_type": "code",
   "execution_count": null,
   "metadata": {},
   "outputs": [],
   "source": [
    "#help(power.plot_topo)"
   ]
  },
  {
   "cell_type": "code",
   "execution_count": null,
   "metadata": {},
   "outputs": [],
   "source": [
    "mne.time_frequency.__file__"
   ]
  },
  {
   "cell_type": "code",
   "execution_count": null,
   "metadata": {},
   "outputs": [],
   "source": [
    "#%matplotlib qt\n",
    "#power.plot_topo(baseline=(-0.5, 0), mode='logratio', title='Average power');\n",
    "#power.plot_topo(baseline=(-1e-5, 0), mode='logratio', title='Average power');\n",
    "power.plot_topo(baseline=None, mode='logratio', title='Average power');\n",
    "\n",
    "\n",
    "# fig, axis = plt.subplots(1, 2, figsize=(7, 4))\n",
    "# power.plot_topomap(ch_type='grad', tmin=0.5, tmax=1.5, fmin=8, fmax=12,\n",
    "#                    baseline=(-0.5, 0), mode='logratio', axes=axis[0],\n",
    "#                    title='Alpha', show=False)\n",
    "# power.plot_topomap(ch_type='grad', tmin=0.5, tmax=1.5, fmin=13, fmax=25,\n",
    "#                    baseline=(-0.5, 0), mode='logratio', axes=axis[1],\n",
    "#                    title='Beta', show=False)\n",
    "# mne.viz.tight_layout()"
   ]
  },
  {
   "cell_type": "code",
   "execution_count": null,
   "metadata": {},
   "outputs": [],
   "source": [
    "#high pass 1Hz, apparently it should help artifact removal\n",
    "filt_raw = raw_sss.copy()\n",
    "filt_raw = filt_raw.load_data().filter(l_freq=2., h_freq=None)  # advise: maybe 0.5"
   ]
  },
  {
   "cell_type": "code",
   "execution_count": null,
   "metadata": {},
   "outputs": [],
   "source": [
    "# get rid of bad channels\n",
    "filt_raw.pick_types(meg=True, misc=False, bio=True, emg=True, eog=True, exclude='bads')"
   ]
  },
  {
   "cell_type": "code",
   "execution_count": null,
   "metadata": {},
   "outputs": [],
   "source": [
    "# look at not-meg part of the data\n",
    "notmeg = filt_raw.copy().pick_types(meg=False, bio=True, emg=True, eog=True)\n",
    "#notmeg.plot(duration=10, n_channels=100, remove_dc=True);"
   ]
  },
  {
   "cell_type": "code",
   "execution_count": null,
   "metadata": {},
   "outputs": [],
   "source": [
    "# what is a projection?\n",
    "# gradient compensation?"
   ]
  },
  {
   "cell_type": "code",
   "execution_count": null,
   "metadata": {},
   "outputs": [],
   "source": [
    "#help(filt_raw.plot)"
   ]
  },
  {
   "cell_type": "code",
   "execution_count": null,
   "metadata": {},
   "outputs": [],
   "source": [
    "#help(filt_raw)"
   ]
  },
  {
   "cell_type": "code",
   "execution_count": null,
   "metadata": {},
   "outputs": [],
   "source": [
    "%matplotlib notebook"
   ]
  },
  {
   "cell_type": "code",
   "execution_count": null,
   "metadata": {},
   "outputs": [],
   "source": [
    "#%matplotlib qt\n",
    "#%matplotlib inline\n",
    "#%matplotlib TkAgg\n",
    "\n",
    "#import matplotlib as mpl\n",
    "#mpl.use('TkAgg')\n",
    "#mpl.use('Qt5Cairo')\n",
    "#['GTK3Agg', 'GTK3Cairo', 'MacOSX', 'nbAgg', 'Qt4Agg', 'Qt4Cairo', 'Qt5Agg', 'Qt5Cairo', \n",
    "# 'TkAgg', 'TkCairo', 'WebAgg', 'WX', 'WXAgg', 'WXCairo', 'agg', 'cairo', 'pdf', 'pgf', 'ps', 'svg', 'template']\n",
    "# look at not-meg part of the data\n",
    "# butterfly gives strange pic\n",
    "\n",
    "#filt_raw.plot(duration=20,n_channels=10, bad_color='yellow', scalings='auto', butterfly=0);"
   ]
  },
  {
   "cell_type": "markdown",
   "metadata": {},
   "source": [
    "## Question: what is the right way to use ICA? Do I use it together/before/after  create_ecg_epochs, create_eog_epochs ?"
   ]
  },
  {
   "cell_type": "code",
   "execution_count": null,
   "metadata": {},
   "outputs": [],
   "source": [
    "filt_raw.info"
   ]
  },
  {
   "cell_type": "markdown",
   "metadata": {},
   "source": [
    "## Question: how should I use these params for ICA?\n",
    "n_components  int | float | None\n",
    "\n",
    "    Number of principal components (from the pre-whitening PCA step) that are passed to the ICA algorithm during fitting. If int, must not be larger than max_pca_components. If float between 0 and 1, the number of components with cumulative explained variance less than n_components will be used. If None, max_pca_components will be used. Defaults to None; the actual number used when executing the ICA.fit() method will be stored in the attribute n_components_ (note the trailing underscore).\n",
    "max_pca_components  int | None\n",
    "\n",
    "    Number of principal components (from the pre-whitening PCA step) that are retained for later use (i.e., for signal reconstruction in ICA.apply(); see the n_pca_components parameter). If None, no dimensionality reduction occurs and max_pca_components will equal the number of channels in the mne.io.Raw, mne.Epochs, or mne.Evoked object passed to ICA.fit().\n",
    "n_pca_components  int | float | None\n",
    "\n",
    "    Total number of components (ICA + PCA) used for signal reconstruction in ICA.apply(). At minimum, at least n_components will be used (unless modified by ICA.include or ICA.exclude). If n_pca_components > n_components, additional PCA components will be incorporated. If float between 0 and 1, the number is chosen as the number of PCA components with cumulative explained variance less than n_components (without accounting for ICA.include or ICA.exclude). If int or float, n_components_ ≤ n_pca_components ≤ max_pca_components must hold. If None, max_pca_components will be used. Defaults to None.\n"
   ]
  },
  {
   "cell_type": "markdown",
   "metadata": {},
   "source": [
    "You can impose an optional dimensionality reduction at this step by specifying max_pca_components. From the retained Principal Components (PCs), the first n_components are then passed to the ICA algorithm (n_components may be an integer number of components to use, or a fraction of explained variance that used components should capture).\n",
    "\n",
    "After visualizing the Independent Components (ICs) and excluding any that capture artifacts you want to repair, the sensor signal can be reconstructed using the ICA object’s apply() method. By default, signal reconstruction uses all of the ICs (less any ICs listed in ICA.exclude) plus all of the PCs that were not included in the ICA decomposition (i.e., the “PCA residual”). If you want to reduce the number of components used at the reconstruction stage, it is controlled by the n_pca_components parameter (which will in turn reduce the rank of your data; by default n_pca_components = max_pca_components resulting in no additional dimensionality reduction)"
   ]
  },
  {
   "cell_type": "markdown",
   "metadata": {},
   "source": [
    "because filtering is a linear operation, the ICA solution found from the filtered signal can be applied to the unfiltered signal (see 2 for more information), so we’ll keep a copy of the unfiltered Raw object around so we can apply the ICA solution to it later."
   ]
  },
  {
   "cell_type": "code",
   "execution_count": null,
   "metadata": {},
   "outputs": [],
   "source": [
    "from mne.preprocessing import ICA\n",
    "\n",
    "addstr = ''\n",
    "if fastTest:\n",
    "    addstr = 'fast_'\n",
    "icafname = '{}_{}resampled-ica.fif.gz'.format(rawname_,addstr)\n",
    "\n",
    "    \n",
    "icafname_full = os.path.join(data_dir,icafname)\n",
    "print(icafname_full)\n",
    "loadICA = 1\n",
    "saveICA = 0\n",
    "\n",
    "if loadICA and os.path.exists(icafname_full):\n",
    "    ica = mne.preprocessing.read_ica(icafname_full)\n",
    "else:\n",
    "    ica = ICA(n_components = 0.95, random_state=0).fit(filt_raw)\n",
    "    if saveICA:\n",
    "        ica.save(icafname_full)\n",
    "#ica = ICA(n_components = 20, random_state=0).fit(filt_raw)"
   ]
  },
  {
   "cell_type": "code",
   "execution_count": null,
   "metadata": {},
   "outputs": [],
   "source": [
    "import gc; gc.collect()"
   ]
  },
  {
   "cell_type": "code",
   "execution_count": null,
   "metadata": {},
   "outputs": [],
   "source": [
    "#components = ica.get_components()\n",
    "#components.shape"
   ]
  },
  {
   "cell_type": "code",
   "execution_count": null,
   "metadata": {},
   "outputs": [],
   "source": [
    "icacomp = ica.get_sources(filt_raw)"
   ]
  },
  {
   "cell_type": "code",
   "execution_count": null,
   "metadata": {},
   "outputs": [],
   "source": [
    "icacomp.ch_names"
   ]
  },
  {
   "cell_type": "markdown",
   "metadata": {},
   "source": [
    "## SHould I mark as invalid components making large excursions?"
   ]
  },
  {
   "cell_type": "code",
   "execution_count": null,
   "metadata": {},
   "outputs": [],
   "source": [
    "intervals"
   ]
  },
  {
   "cell_type": "code",
   "execution_count": null,
   "metadata": {},
   "outputs": [],
   "source": [
    "filt_raw.plot_psd()"
   ]
  },
  {
   "cell_type": "code",
   "execution_count": null,
   "metadata": {},
   "outputs": [],
   "source": [
    "%matplotlib qt"
   ]
  },
  {
   "cell_type": "code",
   "execution_count": null,
   "metadata": {},
   "outputs": [],
   "source": [
    "#%matplotlib notebook\n",
    "ica_inds = ica.plot_sources(raw_sss)"
   ]
  },
  {
   "cell_type": "code",
   "execution_count": null,
   "metadata": {},
   "outputs": [],
   "source": [
    "print('Components that I have found by hand', ica.exclude)"
   ]
  },
  {
   "cell_type": "code",
   "execution_count": null,
   "metadata": {},
   "outputs": [],
   "source": [
    "ica.exclude"
   ]
  },
  {
   "cell_type": "code",
   "execution_count": null,
   "metadata": {},
   "outputs": [],
   "source": [
    "[icacomp.ch_names[i] for i in ica.exclude]"
   ]
  },
  {
   "cell_type": "code",
   "execution_count": null,
   "metadata": {},
   "outputs": [],
   "source": [
    "# Look at variance evolution of components"
   ]
  },
  {
   "cell_type": "code",
   "execution_count": null,
   "metadata": {},
   "outputs": [],
   "source": []
  },
  {
   "cell_type": "code",
   "execution_count": null,
   "metadata": {},
   "outputs": [],
   "source": [
    "#EOG127, EOG128, EMG061_old - 64"
   ]
  },
  {
   "cell_type": "code",
   "execution_count": null,
   "metadata": {},
   "outputs": [],
   "source": [
    "#ica.plot_components();  #topography"
   ]
  },
  {
   "cell_type": "markdown",
   "metadata": {},
   "source": [
    "## Plot Component info MNE "
   ]
  },
  {
   "cell_type": "code",
   "execution_count": null,
   "metadata": {},
   "outputs": [],
   "source": [
    "nonexcluded = list(  set( range( len(ica.ch_names) ) ) - set(ica.exclude) )\n",
    "sorted(nonexcluded)"
   ]
  },
  {
   "cell_type": "code",
   "execution_count": null,
   "metadata": {},
   "outputs": [],
   "source": [
    "s = ','.join(map(str,ica.exclude) )\n",
    "exclStr = 'excl_' + s\n",
    "exclStr"
   ]
  },
  {
   "cell_type": "code",
   "execution_count": null,
   "metadata": {},
   "outputs": [],
   "source": [
    "#%%capture\n",
    "from matplotlib.backends.backend_pdf import PdfPages\n",
    "compinds = ica.exclude + nonexcluded[:5]\n",
    "nr = len(compinds); nc = 2\n",
    "\n",
    "with PdfPages('{}_ica_components_{}.pdf'.format(rawname_,exclStr)) as pdf:\n",
    "\n",
    "#fig,axs = plt.subplots(nrows=nr,ncols=nc)\n",
    "#fig = plt.gcf()\n",
    "    figs = mne.viz.plot_ica_properties(ica,filt_raw,compinds, show=0 )\n",
    "    for fig in figs:\n",
    "        pdf.savefig(fig)\n",
    "        plt.close()\n",
    "#plt.savefig('fd.pdf')"
   ]
  },
  {
   "cell_type": "code",
   "execution_count": null,
   "metadata": {},
   "outputs": [],
   "source": [
    "%matplotlib qt"
   ]
  },
  {
   "cell_type": "markdown",
   "metadata": {},
   "source": [
    "## Component info by hand"
   ]
  },
  {
   "cell_type": "code",
   "execution_count": null,
   "metadata": {},
   "outputs": [],
   "source": [
    "import pandas as pd\n",
    "\n",
    "windowsz_sec = 3\n",
    "time_to_look_dur = 15\n",
    "time_to_look_start = 0; time_to_look_end = time_to_look_dur + time_to_look_start\n",
    "t0,t1 = icacomp.time_as_index([time_to_look_start,time_to_look_end])\n",
    "windowsz = int( windowsz_sec * icacomp.info['sfreq'] )\n",
    "#stds = pd.rolling_std(chdata, windowsz)"
   ]
  },
  {
   "cell_type": "code",
   "execution_count": null,
   "metadata": {},
   "outputs": [],
   "source": [
    "%matplotlib notebook\n",
    "#ind = 0\n",
    "ww = 5; hh = 3; \n",
    "compIndsToShow = ica.exclude + [1,2,3]\n",
    "nc = 3; nr = len(compIndsToShow) + 2 + 2*2\n",
    "fig,axs = plt.subplots(nrows=nr, ncols = nc, figsize = (nc*ww,nr*hh))\n",
    "ylim_var_min = 0.5\n",
    "ylim_var_max = 2\n",
    "\n",
    "for axind,ind in enumerate(compIndsToShow ):\n",
    "    chdata,chtimes = icacomp[ind]; chdata=chdata.flatten()\n",
    "    chtimes = chtimes[t0:t1]\n",
    "    chdata = chdata[t0:t1]    \n",
    "    stds = pd.Series(chdata).rolling(windowsz).std()\n",
    "    ax = axs[axind,0]\n",
    "    ax.plot(chtimes,chdata)\n",
    "    ax.set_title('Raw component {}'.format(ind))\n",
    "    ax.set_xlabel('sec')\n",
    "    \n",
    "    ax = axs[axind,1]\n",
    "    ax.plot(chtimes,stds)\n",
    "    vartot = np.std(chdata)\n",
    "    ax.set_title('Component {} variance  (window size = {:.2f}s), tot = {:.3f}'.format(ind, windowsz_sec, vartot))\n",
    "    ax.set_xlabel('sec')\n",
    "    ax.set_ylim(ylim_var_min,ylim_var_max)\n",
    "    \n",
    "    ax = axs[axind,2]\n",
    "    ax.psd(chdata, Fs = int(icacomp.info['sfreq']))\n",
    "    \n",
    "for axind,ind in enumerate(compIndsToShow ):\n",
    "    if ind in ica.exclude:\n",
    "        continue\n",
    "    for ii in range(nc):\n",
    "        axs[axind,ii].set_facecolor('lightgreen')\n",
    "\n",
    "for chni,chn in enumerate(['EOG127', 'EOG128', 'EMG061_old', 'EMG062_old', 'EMG063_old', 'EMG064_old'] ):\n",
    "    chdata,chtimes = filt_raw[chn]; chdata=chdata.flatten()\n",
    "    chtimes = chtimes[t0:t1]\n",
    "    chdata = chdata[t0:t1]  \n",
    "    \n",
    "    ax = axs[nr-1-chni,0]\n",
    "    ax.set_title(chn)\n",
    "    ax.plot(chtimes,chdata)\n",
    "    \n",
    "    ax = axs[nr-1-chni,2]\n",
    "    ax.psd(chdata, Fs = int(icacomp.info['sfreq']))\n",
    "\n",
    "plt.tight_layout()\n",
    "plt.savefig('components_raw_var_spec.pdf')        \n",
    "        \n",
    "ica.plot_components(compIndsToShow);\n",
    "\n",
    "plt.savefig('components_top.pdf')"
   ]
  },
  {
   "cell_type": "code",
   "execution_count": null,
   "metadata": {},
   "outputs": [],
   "source": [
    "ax"
   ]
  },
  {
   "cell_type": "code",
   "execution_count": null,
   "metadata": {},
   "outputs": [],
   "source": [
    "fig.show()"
   ]
  },
  {
   "cell_type": "code",
   "execution_count": null,
   "metadata": {},
   "outputs": [],
   "source": [
    "ax = axs[0,0]\n",
    "ax.remove()"
   ]
  },
  {
   "cell_type": "code",
   "execution_count": null,
   "metadata": {},
   "outputs": [],
   "source": [
    "fg = plt.figure()\n",
    "ax = axs[0,0]\n",
    "fg.axes.append(ax)\n",
    "fg.add_axes(ax)"
   ]
  },
  {
   "cell_type": "markdown",
   "metadata": {},
   "source": [
    "###  Q: What is a \"bad\" epoch?"
   ]
  },
  {
   "cell_type": "code",
   "execution_count": null,
   "metadata": {},
   "outputs": [],
   "source": [
    "ecg_epochs = mne.preprocessing.create_ecg_epochs(filt_raw)"
   ]
  },
  {
   "cell_type": "code",
   "execution_count": null,
   "metadata": {},
   "outputs": [],
   "source": [
    "ecg_epochs"
   ]
  },
  {
   "cell_type": "code",
   "execution_count": null,
   "metadata": {},
   "outputs": [],
   "source": [
    "ecg_epochs.plot_image(combine='median')"
   ]
  },
  {
   "cell_type": "code",
   "execution_count": null,
   "metadata": {},
   "outputs": [],
   "source": [
    "ecg_epochs_av = ecg_epochs.average()"
   ]
  },
  {
   "cell_type": "code",
   "execution_count": null,
   "metadata": {},
   "outputs": [],
   "source": [
    "import gc; gc.collect()"
   ]
  },
  {
   "cell_type": "markdown",
   "metadata": {},
   "source": [
    "## Q: should I apply it to raw or to high-passed raw?  \n",
    "## Q2: if my ICA was done on one data object what does it mean to take \"sources from\" another?"
   ]
  },
  {
   "cell_type": "code",
   "execution_count": null,
   "metadata": {},
   "outputs": [],
   "source": [
    "# tyring to find ECG events directly from raw\n",
    "ecg_inds, scores = ica.find_bads_ecg(raw_sss)"
   ]
  },
  {
   "cell_type": "code",
   "execution_count": null,
   "metadata": {},
   "outputs": [],
   "source": [
    "print(ecg_inds)\n",
    "\n",
    "#what do image parts mean?\n",
    "if len(ecg_inds):\n",
    "    ica.plot_properties(raw_sss,picks=ecg_inds)"
   ]
  },
  {
   "cell_type": "code",
   "execution_count": null,
   "metadata": {},
   "outputs": [],
   "source": [
    "ecg_inds2, scores2 = ica.find_bads_ecg(ecg_epochs)"
   ]
  },
  {
   "cell_type": "code",
   "execution_count": null,
   "metadata": {},
   "outputs": [],
   "source": [
    "ecg_inds2, scores2"
   ]
  },
  {
   "cell_type": "code",
   "execution_count": null,
   "metadata": {},
   "outputs": [],
   "source": [
    "#eog_inds, scores = ica.find_bads_eog(raw)\n",
    "\n",
    "eog_epochs = mne.preprocessing.create_eog_epochs(raw_sss)  # get single EOG trials\n",
    "eog_inds, scores = ica.find_bads_eog(eog_epochs)"
   ]
  },
  {
   "cell_type": "code",
   "execution_count": null,
   "metadata": {},
   "outputs": [],
   "source": [
    "bt = mne.io.pick.channel_indices_by_type(raw.info)\n",
    "gradchans = bt['grad']\n",
    "\n",
    "eog_epochs.plot_image(combine='mean',  picks=gradchans[8:10])"
   ]
  },
  {
   "cell_type": "code",
   "execution_count": null,
   "metadata": {},
   "outputs": [],
   "source": [
    "import numpy as np\n",
    "plt.figure(figsize=(12,3))\n",
    "sortinds = np.abs(scores)[0,:].argsort()[::-1]\n",
    "pr = np.abs(scores)[0,sortinds]\n",
    "plt.xticks(np.arange(len(scores[0])))\n",
    "#print(pr)\n",
    "plt.plot(pr)"
   ]
  },
  {
   "cell_type": "code",
   "execution_count": null,
   "metadata": {},
   "outputs": [],
   "source": [
    "print('(highest) eog-related componenents',eog_inds)\n",
    "print('scores of the highes components, one of the EOGs ',pr[:4])\n",
    "print(len(scores), len(scores[0]), len(scores[1]), scores[-1][0] )"
   ]
  },
  {
   "cell_type": "code",
   "execution_count": null,
   "metadata": {},
   "outputs": [],
   "source": [
    "# collect eog - related components?\n",
    "import numpy as np\n",
    "ica.plot_scores(scores, exclude=eog_inds,  labels='eog');\n",
    "for i in range(len(scores)):   # we have two channels\n",
    "    show_picks = np.abs(scores)[i,:].argsort()[::-1][:5]  # zeroth is largest\n",
    "    print(show_picks, show_picks.shape)"
   ]
  },
  {
   "cell_type": "code",
   "execution_count": null,
   "metadata": {},
   "outputs": [],
   "source": [
    "#ica.exclude = []\n",
    "print(ica.exclude, eog_inds, ecg_inds)\n",
    "exclude_bak = ica.exclude"
   ]
  },
  {
   "cell_type": "code",
   "execution_count": null,
   "metadata": {},
   "outputs": [],
   "source": [
    "%matplotlib qt"
   ]
  },
  {
   "cell_type": "code",
   "execution_count": null,
   "metadata": {},
   "outputs": [],
   "source": [
    "ica.plot_components(range(25),colorbar=1);"
   ]
  },
  {
   "cell_type": "code",
   "execution_count": null,
   "metadata": {},
   "outputs": [],
   "source": [
    "help(ica.plot_components)"
   ]
  },
  {
   "cell_type": "code",
   "execution_count": null,
   "metadata": {},
   "outputs": [],
   "source": [
    "ica.plot_components(ica.exclude,colorbar=1, axis = []);"
   ]
  },
  {
   "cell_type": "code",
   "execution_count": null,
   "metadata": {},
   "outputs": [],
   "source": [
    "# bin componenet in 100ms, plot variance over time"
   ]
  },
  {
   "cell_type": "code",
   "execution_count": null,
   "metadata": {},
   "outputs": [],
   "source": [
    "ica.exclude = []\n",
    "%matplotlib inline\n",
    "ee = [exclude_bak[:1], ecg_inds, eog_inds]\n",
    "for toexclude in ee:\n",
    "    if len(toexclude) == 0:\n",
    "        continue\n",
    "    ica.plot_overlay(filt_raw, exclude=toexclude, picks='meg', title='exclude {}'.format(toexclude) )\n",
    "# ica.plot_overlay(filt_raw, exclude=ecg_inds, picks='grad')\n",
    "# ica.plot_overlay(filt_raw, exclude=eog_inds, picks='meg')"
   ]
  },
  {
   "cell_type": "code",
   "execution_count": null,
   "metadata": {},
   "outputs": [],
   "source": [
    "#ica.plot_sources(raw, show_picks, exclude=eog_inds)\n",
    "#ica.plot_components(eog_inds, colorbar=True)\n",
    "\n",
    "ica.exclude = []\n",
    "n_max_eog = 2\n",
    "eog_inds = eog_inds[:n_max_eog]\n",
    "ica.exclude += eog_inds\n",
    "ica.exclude += ecg_inds\n",
    "\n",
    "\n",
    "ica.exclude += exclude_bak[:1]\n",
    "print(ica.exclude)"
   ]
  },
  {
   "cell_type": "markdown",
   "metadata": {},
   "source": [
    "#### Q: Should I reject something?\n",
    "#### Q: Do I better apply find_bads_eog on epochs or on entire raw?"
   ]
  },
  {
   "cell_type": "markdown",
   "metadata": {},
   "source": [
    "# Reconstruct"
   ]
  },
  {
   "cell_type": "code",
   "execution_count": null,
   "metadata": {},
   "outputs": [],
   "source": [
    "reconst_raw = filt_raw.copy()\n",
    "ica.apply(filt_raw)"
   ]
  },
  {
   "cell_type": "code",
   "execution_count": null,
   "metadata": {},
   "outputs": [],
   "source": [
    "reconst_raw.plot(duration=20,n_channels=10, bad_color='yellow', scalings='auto');"
   ]
  },
  {
   "cell_type": "code",
   "execution_count": null,
   "metadata": {},
   "outputs": [],
   "source": [
    "filt_raw.plot(duration=20,n_channels=10, bad_color='yellow', scalings='auto');"
   ]
  },
  {
   "cell_type": "markdown",
   "metadata": {},
   "source": [
    "## Compare PSD"
   ]
  },
  {
   "cell_type": "code",
   "execution_count": null,
   "metadata": {},
   "outputs": [],
   "source": [
    "#%matplotlib qt\n",
    "%matplotlib inline"
   ]
  },
  {
   "cell_type": "code",
   "execution_count": null,
   "metadata": {},
   "outputs": [],
   "source": [
    "#some PSD to look at\n",
    "#%debug\n",
    "#plt.figure()\n",
    "# fig,axs = plt.subplots(4,2)\n",
    "# filt_raw.plot_psd(picks='meg' , ax = axs[:2,0] );\n",
    "# filt_raw.plot_psd(picks='bio', ax=axs[2,0]);\n",
    "# filt_raw.plot_psd(picks='emg', ax=axs[3,0]);\n",
    "\n",
    "#making 4x2  would not work because of bug in mne, the use ax_list[0].get_figure(), \n",
    "# but it gives list of axes if we have two columns\n",
    "#ax = plt.gca()\n",
    "filt_raw.plot_psd(picks='meg'  );\n",
    "#filt_raw.plot_psd(picks='bio');\n",
    "#filt_raw.plot_psd(picks='emg');\n"
   ]
  },
  {
   "cell_type": "code",
   "execution_count": null,
   "metadata": {},
   "outputs": [],
   "source": [
    "raw.info['bads']"
   ]
  },
  {
   "cell_type": "code",
   "execution_count": null,
   "metadata": {},
   "outputs": [],
   "source": [
    "raw.info['bads'][0] in filt_raw.ch_names"
   ]
  },
  {
   "cell_type": "code",
   "execution_count": null,
   "metadata": {},
   "outputs": [],
   "source": [
    "raw.info['bads'][0] in reconst_raw.ch_names"
   ]
  },
  {
   "cell_type": "code",
   "execution_count": null,
   "metadata": {},
   "outputs": [],
   "source": [
    "filt_raw.ch_names"
   ]
  },
  {
   "cell_type": "code",
   "execution_count": null,
   "metadata": {},
   "outputs": [],
   "source": [
    "help(reconst_raw.plot_psd)"
   ]
  },
  {
   "cell_type": "code",
   "execution_count": null,
   "metadata": {},
   "outputs": [],
   "source": [
    "#some PSD to look at\n",
    "#%debug\n",
    "ax = plt.gca()\n",
    "#mne.time_frequency.psd\n",
    "reconst_raw.plot_psd(picks='grad', fmax=20, ax=ax );\n",
    "#reconst_raw.plot_psd(picks='bio');\n",
    "#reconst_raw.plot_psd(picks='emg');"
   ]
  },
  {
   "cell_type": "code",
   "execution_count": null,
   "metadata": {},
   "outputs": [],
   "source": [
    "type(reconst_raw.get_channel_types())"
   ]
  },
  {
   "cell_type": "code",
   "execution_count": null,
   "metadata": {},
   "outputs": [],
   "source": [
    "set( reconst_raw.get_channel_types() )"
   ]
  },
  {
   "cell_type": "code",
   "execution_count": null,
   "metadata": {},
   "outputs": [],
   "source": [
    "meg_chis = np.where ( [ a in ['grad','mag'] for a in reconst_raw.get_channel_types() ] )[0]\n",
    "\n",
    "meg_chnames = np.array(reconst_raw.ch_names)[meg_chis]\n",
    "\n",
    "#for chn in meg_chnames\n",
    "chn = 'MEG0113'\n",
    "chd, times = reconst_raw[chn]\n",
    "plt.hist(chd, bins=100)"
   ]
  },
  {
   "cell_type": "code",
   "execution_count": null,
   "metadata": {},
   "outputs": [],
   "source": [
    "chd"
   ]
  },
  {
   "cell_type": "code",
   "execution_count": null,
   "metadata": {},
   "outputs": [],
   "source": [
    "a0,b0"
   ]
  },
  {
   "cell_type": "code",
   "execution_count": null,
   "metadata": {},
   "outputs": [],
   "source": [
    "a,b"
   ]
  },
  {
   "cell_type": "code",
   "execution_count": null,
   "metadata": {},
   "outputs": [],
   "source": [
    "strec = 0\n",
    "endrec = 300\n",
    "epdur = endrec\n",
    "new_events = mne.make_fixed_length_events(reconst_raw, start=strec, stop=endrec, duration=epdur)\n",
    "epochs = mne.Epochs(raw,new_events, tmin=0,tmax = epdur, baseline=None)\n",
    "\n",
    "freqs = np.linspace(3, 90, num=100)\n",
    "\n",
    "# sh=2\n",
    "# cfq = 15\n",
    "# freqs = np.logspace(*np.log10([cfq-sh,cfq+sh ]), num=6)\n",
    "n_cycles = freqs / 2.  # different number of cycle per frequency\n",
    "power = mne.time_frequency.tfr_morlet(epochs, freqs=freqs, n_cycles=n_cycles, use_fft=True,\n",
    "                        return_itc=False, decim=3, n_jobs=10)"
   ]
  },
  {
   "cell_type": "code",
   "execution_count": null,
   "metadata": {},
   "outputs": [],
   "source": [
    "a1,b1,uuu_ = intervals[ ivalis['middle_full'][1] ]"
   ]
  },
  {
   "cell_type": "code",
   "execution_count": null,
   "metadata": {},
   "outputs": [],
   "source": [
    "intervals"
   ]
  },
  {
   "cell_type": "code",
   "execution_count": null,
   "metadata": {},
   "outputs": [],
   "source": [
    "power.plot_topomap(sensors=True, contours=8, tmin=timin, tmax=timax, \n",
    "                   fmin=fbmin, fmax=fbmax, colorbar=True, size=40, res=100, show=0, sphere=np.array([0,0,0,1]));"
   ]
  },
  {
   "cell_type": "markdown",
   "metadata": {},
   "source": [
    "### Plot power band concentrations"
   ]
  },
  {
   "cell_type": "code",
   "execution_count": null,
   "metadata": {},
   "outputs": [],
   "source": [
    "timeints = [ ('nonotrem',a0,b0), ('trem', a,b), ('trem2', a1,b1)]\n",
    "fbs = [ ('tremfreq', 3,9), ('alpha/mu', 8,13),  ('beta', 15,30), ('gamma', 30,90)  ]\n",
    "nc = len(fbs); nr = len(timeints)\n",
    "ww = 4; hh = 3\n",
    "headsph = np.array([0,0,0,0.9])\n",
    "fig,axs = plt.subplots( nrows = nr, ncols = nc, figsize= (nc*ww, nr*hh))\n",
    "for i,ti in enumerate(timeints):\n",
    "    tiname,timin,timax = ti\n",
    "    for j,fb in enumerate(fbs):\n",
    "        fbname, fbmin, fbmax = fb\n",
    "        ax = axs[i,j]\n",
    "        ttl = 'epoch type: {};  band: {}'.format(tiname,fbname)\n",
    "        ax.set_title(ttl)\n",
    "        power.plot_topomap(sensors=True, contours=8, tmin=timin, tmax=timax, \n",
    "                           fmin=fbmin, fmax=fbmax, axes=ax, colorbar=True, size=40, res=100, show=0, sphere=headsph);\n",
    "        #plt.gcf().suptitle('{} : {}'.format(tiname,fbname))\n",
    "#plt.tight_layout()\n",
    "plt.savefig('{}_sensor_bandpow_concentr.pdf'.format(rawname_ ))"
   ]
  },
  {
   "cell_type": "code",
   "execution_count": null,
   "metadata": {},
   "outputs": [],
   "source": [
    "help(reconst_raw.plot)"
   ]
  },
  {
   "cell_type": "code",
   "execution_count": null,
   "metadata": {},
   "outputs": [],
   "source": [
    "help(reconst_raw.filter)"
   ]
  },
  {
   "cell_type": "code",
   "execution_count": null,
   "metadata": {},
   "outputs": [],
   "source": [
    "reconst_raw.filter(picks='emg', l_freq=10, h_freq=None)"
   ]
  },
  {
   "cell_type": "code",
   "execution_count": null,
   "metadata": {},
   "outputs": [],
   "source": [
    "#left\n",
    "leftEMG, times = reconst_raw[['EMG063_old', 'EMG064_old']]\n",
    "plt.plot(times,leftEMG.T, c='b', alpha=0.5)\n",
    "plt.figure()\n",
    "rightEMG, times = reconst_raw[['EMG061_old', 'EMG062_old']]\n",
    "plt.plot(times,rightEMG.T, c='g', alpha=0.5)"
   ]
  },
  {
   "cell_type": "code",
   "execution_count": null,
   "metadata": {},
   "outputs": [],
   "source": [
    "intervals"
   ]
  },
  {
   "cell_type": "code",
   "execution_count": null,
   "metadata": {},
   "outputs": [],
   "source": [
    "#reconst_raw[.plot(chn=['emg'])]"
   ]
  },
  {
   "cell_type": "code",
   "execution_count": null,
   "metadata": {},
   "outputs": [],
   "source": [
    "gen_subj_info[subj]['tremor_side']"
   ]
  },
  {
   "cell_type": "markdown",
   "metadata": {},
   "source": [
    "# Save reconstructed"
   ]
  },
  {
   "cell_type": "code",
   "execution_count": null,
   "metadata": {},
   "outputs": [],
   "source": [
    "assert reconst_raw.info['bads'] == raw.info['bads']\n",
    "savename = rawname_ + '_resample_afterICA_raw.fif'\n",
    "print(savename)"
   ]
  },
  {
   "cell_type": "code",
   "execution_count": null,
   "metadata": {},
   "outputs": [],
   "source": [
    "reconst_raw.save(os.path.join(data_dir, savename), overwrite=True )"
   ]
  },
  {
   "cell_type": "code",
   "execution_count": null,
   "metadata": {},
   "outputs": [],
   "source": []
  },
  {
   "cell_type": "code",
   "execution_count": null,
   "metadata": {},
   "outputs": [],
   "source": [
    "subj"
   ]
  },
  {
   "cell_type": "code",
   "execution_count": null,
   "metadata": {},
   "outputs": [],
   "source": [
    "reconst_raw.save"
   ]
  },
  {
   "cell_type": "markdown",
   "metadata": {},
   "source": [
    "## Q: how to remove power grid noise component best?\n",
    "for some reason my games with ICA did not help to remove power grid noise"
   ]
  },
  {
   "cell_type": "code",
   "execution_count": null,
   "metadata": {},
   "outputs": [],
   "source": [
    "# sensor-level analysis\n",
    "# maybe perform ICA on TFA of LFP\n",
    "# save updated file"
   ]
  },
  {
   "cell_type": "code",
   "execution_count": null,
   "metadata": {},
   "outputs": [],
   "source": [
    "#event_id = {'Tremor/Left/main': 1, 'Tremor/Right/other': 2}\n",
    "#epochs has to be same length, so it won't work for me directly"
   ]
  },
  {
   "cell_type": "code",
   "execution_count": null,
   "metadata": {},
   "outputs": [],
   "source": [
    "print(description)"
   ]
  },
  {
   "cell_type": "code",
   "execution_count": null,
   "metadata": {},
   "outputs": [],
   "source": [
    "reconst_raw.set_annotations(annot)"
   ]
  },
  {
   "cell_type": "code",
   "execution_count": null,
   "metadata": {},
   "outputs": [],
   "source": [
    "#reconst_raw.plot(duration=10);"
   ]
  },
  {
   "cell_type": "code",
   "execution_count": null,
   "metadata": {},
   "outputs": [],
   "source": [
    "#help(ica.find_bads_eog)"
   ]
  },
  {
   "cell_type": "code",
   "execution_count": null,
   "metadata": {},
   "outputs": [],
   "source": [
    "events_tremrel, _ = mne.events_from_annotations(reconst_raw, event_id=annotation_desc_2_event_id, chunk_duration=None)"
   ]
  },
  {
   "cell_type": "code",
   "execution_count": null,
   "metadata": {},
   "outputs": [],
   "source": [
    "#help(mne.events_from_annotations)"
   ]
  },
  {
   "cell_type": "code",
   "execution_count": null,
   "metadata": {},
   "outputs": [],
   "source": [
    "# events = []\n",
    "# event_types = { 'tremor_start':0  }\n",
    "\n",
    "# intType = 'middle_full'\n",
    "# inds = []\n",
    "# for ind in ivalis[intType]:\n",
    "#     a,b,it = intervals[ind]\n",
    "#     #inds += [i]\n",
    "#     abinind = reconst_raw.time_as_index(a)[0]\n",
    "#     events += [ [abinind,0, event_types['tremor_start']]  ]\n",
    "        \n",
    "# events"
   ]
  },
  {
   "cell_type": "code",
   "execution_count": null,
   "metadata": {},
   "outputs": [],
   "source": [
    "event_types"
   ]
  },
  {
   "cell_type": "code",
   "execution_count": null,
   "metadata": {},
   "outputs": [],
   "source": [
    "help(mne.Epochs)"
   ]
  },
  {
   "cell_type": "code",
   "execution_count": null,
   "metadata": {},
   "outputs": [],
   "source": [
    "ivalis"
   ]
  },
  {
   "cell_type": "code",
   "execution_count": null,
   "metadata": {},
   "outputs": [],
   "source": [
    "a0,b0,it = intervals[ ivalis['no_tremor'][0] ]  # for baseline\n",
    "a0binind,b0binind = reconst_raw.time_as_index([a0,b0])\n",
    "epochs_trem_st = mne.Epochs(reconst_raw, events, event_id=annotation_desc_2_event_id, \n",
    "                            tmin=0, tmax=3, baseline=None, preload=True)  # baseline should be inside epoch interval"
   ]
  },
  {
   "cell_type": "code",
   "execution_count": null,
   "metadata": {},
   "outputs": [],
   "source": [
    "epochs = epochs_trem_st"
   ]
  },
  {
   "cell_type": "code",
   "execution_count": null,
   "metadata": {},
   "outputs": [],
   "source": [
    "dur = 20\n",
    "events_regsampled = mne.make_fixed_length_events(raw_sss, start=0, stop=300, duration=dur)\n",
    "epochs_regsampled = mne.Epochs(raw_sss,events_regsampled, tmin=0,tmax = dur, baseline=None)"
   ]
  },
  {
   "cell_type": "code",
   "execution_count": null,
   "metadata": {},
   "outputs": [],
   "source": [
    "events = events_regsampled"
   ]
  },
  {
   "cell_type": "code",
   "execution_count": null,
   "metadata": {},
   "outputs": [],
   "source": [
    "mne.viz.plot_events(events,sfreq=reconst_raw.info['sfreq']);"
   ]
  },
  {
   "cell_type": "code",
   "execution_count": null,
   "metadata": {},
   "outputs": [],
   "source": [
    "# mne.viz.plot_events(events, event_id={'middle_full':0, 'no_tremor':1},\n",
    "#                     sfreq=reconst_raw.info['sfreq']);"
   ]
  },
  {
   "cell_type": "code",
   "execution_count": null,
   "metadata": {},
   "outputs": [],
   "source": [
    "help(epochs.plot_psd)"
   ]
  },
  {
   "cell_type": "code",
   "execution_count": null,
   "metadata": {},
   "outputs": [],
   "source": [
    "epochs"
   ]
  },
  {
   "cell_type": "code",
   "execution_count": null,
   "metadata": {},
   "outputs": [],
   "source": [
    "fmax = 48"
   ]
  },
  {
   "cell_type": "code",
   "execution_count": null,
   "metadata": {},
   "outputs": [],
   "source": [
    "epochs.plot_psd(area_mode=None, fmin=2, fmax=fmax, show=False,\n",
    "                               average=True, spatial_colors=False, n_jobs=10);"
   ]
  },
  {
   "cell_type": "code",
   "execution_count": null,
   "metadata": {},
   "outputs": [],
   "source": [
    "gc.collect()"
   ]
  },
  {
   "cell_type": "code",
   "execution_count": null,
   "metadata": {},
   "outputs": [],
   "source": [
    "colors[tpi]"
   ]
  },
  {
   "cell_type": "markdown",
   "metadata": {},
   "source": [
    "### Plot psd for tremor and no_tremor"
   ]
  },
  {
   "cell_type": "code",
   "execution_count": null,
   "metadata": {},
   "outputs": [],
   "source": [
    "colors = plt.rcParams['axes.prop_cycle'].by_key()['color']\n",
    "_,axs = plt.subplots(2)\n",
    "\n",
    "epochTypes = sorted(annotation_desc_2_event_id.keys())\n",
    "for ep in   epochTypes:\n",
    "    #print(ep)\n",
    "    \n",
    "    evid = epochs_trem_st[ep].event_id\n",
    "    tp =  list( evid.keys() )[0] \n",
    "    tpi =  evid[tp]\n",
    "    \n",
    "    epochs_trem_st[ep].plot_psd(area_mode=None, color=colors[tpi], ax=axs, \n",
    "                               fmin=2, fmax=fmax, show=False,\n",
    "                               average=True, spatial_colors=False)\n",
    "    ax = axs[0]\n",
    "    \n",
    "    ax.lines[-1].set_label(tp)\n",
    "    ax.set(title='', xlabel='Frequency (Hz)')\n",
    "\n",
    "ax.legend()\n",
    "#ax.legend(ax.lines, list(annotation_desc_2_event_id.values())) "
   ]
  },
  {
   "cell_type": "code",
   "execution_count": null,
   "metadata": {},
   "outputs": [],
   "source": [
    "len(ax.lines)"
   ]
  },
  {
   "cell_type": "code",
   "execution_count": null,
   "metadata": {},
   "outputs": [],
   "source": [
    "#ax.lines[3].__dict__"
   ]
  },
  {
   "cell_type": "code",
   "execution_count": null,
   "metadata": {},
   "outputs": [],
   "source": [
    "#help( epochs_trem_st.average )"
   ]
  },
  {
   "cell_type": "code",
   "execution_count": null,
   "metadata": {},
   "outputs": [],
   "source": [
    "epochs_trem_st.plot_psd(fmax=fmax, spatial_colors=1, average=False);"
   ]
  },
  {
   "cell_type": "code",
   "execution_count": null,
   "metadata": {},
   "outputs": [],
   "source": [
    "epochs_trem_st.plot_psd_topomap(ch_type='grad', normalize=True)"
   ]
  },
  {
   "cell_type": "code",
   "execution_count": null,
   "metadata": {},
   "outputs": [],
   "source": [
    "#reconst_raw.ch_names"
   ]
  },
  {
   "cell_type": "code",
   "execution_count": null,
   "metadata": {},
   "outputs": [],
   "source": [
    "#psds_welch_mean.shape"
   ]
  },
  {
   "cell_type": "code",
   "execution_count": null,
   "metadata": {},
   "outputs": [],
   "source": [
    "epochs = epochs_trem_st\n",
    "epochs = epochs_regsampled\n",
    "import mne.time_frequency as tfr\n",
    "from mne.time_frequency import psd_welch\n",
    "from mne.time_frequency import tfr_morlet\n",
    "\n",
    "kwargs = dict(fmin=2, fmax=48, n_jobs=1)\n",
    "psds_welch_mean, freqs_mean     = psd_welch(epochs, average='mean', **kwargs)\n",
    "psds_welch_median, freqs_median = psd_welch(epochs, average='median', **kwargs)\n",
    "\n",
    "# Convert power to dB scale.\n",
    "psds_welch_mean = 10 * np.log10(psds_welch_mean)\n",
    "psds_welch_median = 10 * np.log10(psds_welch_median)\n",
    "\n",
    "# We will only plot the PSD for a single sensor in the first epoch.\n",
    "ch_name = 'MEG0113'\n",
    "ch_idx = epochs.info['ch_names'].index(ch_name)\n",
    "epo_idx = 1\n",
    "\n",
    "_, ax = plt.subplots()\n",
    "ax.plot(freqs_mean, psds_welch_mean[epo_idx, ch_idx, :], color='k',\n",
    "        ls='-', label='mean of segments')\n",
    "ax.plot(freqs_median, psds_welch_median[epo_idx, ch_idx, :], color='k',\n",
    "        ls='--', label='median of segments')\n",
    "\n",
    "ax.set(title='Welch PSD ({}, Epoch {})'.format(ch_name, epo_idx),\n",
    "       xlabel='Frequency (Hz)', ylabel='Power Spectral Density (dB)')\n",
    "ax.legend(loc='upper right')\n",
    "plt.show()\n"
   ]
  },
  {
   "cell_type": "code",
   "execution_count": null,
   "metadata": {},
   "outputs": [],
   "source": [
    "#help(tfr_morlet)"
   ]
  },
  {
   "cell_type": "code",
   "execution_count": null,
   "metadata": {},
   "outputs": [],
   "source": [
    "#help(power.plot_topo)"
   ]
  },
  {
   "cell_type": "code",
   "execution_count": null,
   "metadata": {},
   "outputs": [],
   "source": [
    "# define frequencies of interest (log-spaced)\n",
    "#%matplotlib qt\n",
    "#freqs = np.logspace(*np.log10([2, 48]), num=20)\n",
    "freqs = np.linspace( 2, 48, 20)\n",
    "n_cycles = freqs / 2.  # different number of cycle per frequency\n",
    "power, itc = tfr_morlet(epochs, freqs=freqs, n_cycles=n_cycles, use_fft=True,\n",
    "                        return_itc=True, decim=3, n_jobs=10)"
   ]
  },
  {
   "cell_type": "code",
   "execution_count": null,
   "metadata": {},
   "outputs": [],
   "source": [
    "#bl = [-0.5,0]\n",
    "bl = None\n",
    "\n",
    "mode = None #'logratio'\n",
    "power.plot_topo(baseline=bl,  mode=mode, title='Average power')\n",
    "power.plot([82], baseline=bl, mode=mode, title=power.ch_names[82])"
   ]
  },
  {
   "cell_type": "code",
   "execution_count": null,
   "metadata": {},
   "outputs": [],
   "source": [
    "fig, axis = plt.subplots(1, 2, figsize=(7, 4))\n",
    "power.plot_topomap(ch_type='grad', tmin=0.5, tmax=1.5, fmin=8, fmax=12,\n",
    "                   baseline=bl, mode='logratio', axes=axis[0],\n",
    "                   title='Alpha', show=False)\n",
    "power.plot_topomap(ch_type='grad', tmin=0.5, tmax=1.5, fmin=13, fmax=25,\n",
    "                   baseline=bl, mode='logratio', axes=axis[1],\n",
    "                   title='Beta', show=False)\n",
    "mne.viz.tight_layout()\n",
    "plt.show()"
   ]
  },
  {
   "cell_type": "code",
   "execution_count": null,
   "metadata": {},
   "outputs": [],
   "source": []
  },
  {
   "cell_type": "code",
   "execution_count": null,
   "metadata": {},
   "outputs": [],
   "source": []
  },
  {
   "cell_type": "code",
   "execution_count": null,
   "metadata": {},
   "outputs": [],
   "source": [
    "power.plot_joint(baseline=(-0.5, 0), mode='mean', tmin=-.5, tmax=2,\n",
    "                 timefreqs=[(.5, 10), (1.3, 8)])\n"
   ]
  },
  {
   "cell_type": "code",
   "execution_count": null,
   "metadata": {},
   "outputs": [],
   "source": [
    "epochs.plot(block=True)"
   ]
  },
  {
   "cell_type": "code",
   "execution_count": null,
   "metadata": {},
   "outputs": [],
   "source": [
    "help(epochs.plot_image)"
   ]
  },
  {
   "cell_type": "code",
   "execution_count": null,
   "metadata": {},
   "outputs": [],
   "source": [
    "epochs.plot_image(278, cmap='interactive')"
   ]
  },
  {
   "cell_type": "code",
   "execution_count": null,
   "metadata": {},
   "outputs": [],
   "source": [
    "epochs.plot_topo_image(vmin=-250, vmax=250, title='ERF images', sigma=2.,\n",
    "                       fig_facecolor='w', font_color='k')"
   ]
  },
  {
   "cell_type": "code",
   "execution_count": null,
   "metadata": {},
   "outputs": [],
   "source": [
    "help(reconst_raw.apply_function)"
   ]
  },
  {
   "cell_type": "markdown",
   "metadata": {},
   "source": [
    "## Read src"
   ]
  },
  {
   "cell_type": "code",
   "execution_count": null,
   "metadata": {},
   "outputs": [],
   "source": [
    "srcname = 'srcd_S01_off_hold_HirschPt2011_test.mat'\n",
    "srcname_full = os.path.join(data_dir,srcname)"
   ]
  },
  {
   "cell_type": "code",
   "execution_count": null,
   "metadata": {},
   "outputs": [],
   "source": [
    "import h5py\n",
    "srcf = h5py.File(srcname_full,'r')"
   ]
  },
  {
   "cell_type": "code",
   "execution_count": null,
   "metadata": {},
   "outputs": [],
   "source": [
    "src = srcf['source_data'] \n",
    "nsrc = src['avg']['mom'].shape[1]\n",
    "print(nsrc, src['avg']['mom'].shape)"
   ]
  },
  {
   "cell_type": "code",
   "execution_count": null,
   "metadata": {},
   "outputs": [],
   "source": [
    "#srcf[ preref[0,1] ]"
   ]
  },
  {
   "cell_type": "code",
   "execution_count": null,
   "metadata": {},
   "outputs": [],
   "source": [
    "src_ind = 0\n",
    "preref = src['avg']['mom']\n",
    "ref = preref[0, src_ind]\n",
    "srcdata = srcf[ref]\n",
    "print(srcdata.shape)"
   ]
  },
  {
   "cell_type": "code",
   "execution_count": null,
   "metadata": {},
   "outputs": [],
   "source": [
    "raw.info['sfreq']"
   ]
  },
  {
   "cell_type": "code",
   "execution_count": null,
   "metadata": {},
   "outputs": [],
   "source": [
    "srcdata[:,0][None,:]"
   ]
  },
  {
   "cell_type": "code",
   "execution_count": null,
   "metadata": {},
   "outputs": [],
   "source": [
    "freqs = np.arange(2,48,2)\n",
    "Sxx = mne.time_frequency.tfr_array_morlet(srcdata[:,0][None,None,:], sfreq=int(raw.info['sfreq']),\n",
    "                                 freqs=freqs, n_cycles=freqs * 0.75, \n",
    "                                 output='avg_power')\n",
    "print(Sxx.shape)\n"
   ]
  },
  {
   "cell_type": "code",
   "execution_count": null,
   "metadata": {},
   "outputs": [],
   "source": [
    "if Sxx.ndim == 3:\n",
    "    Sxx = Sxx[0,:,:]"
   ]
  },
  {
   "cell_type": "code",
   "execution_count": null,
   "metadata": {},
   "outputs": [],
   "source": [
    "Sxx.shape"
   ]
  },
  {
   "cell_type": "code",
   "execution_count": null,
   "metadata": {},
   "outputs": [],
   "source": [
    "srctimes = src['time'][:,0]"
   ]
  },
  {
   "cell_type": "code",
   "execution_count": null,
   "metadata": {},
   "outputs": [],
   "source": [
    "Sxx.shape"
   ]
  },
  {
   "cell_type": "code",
   "execution_count": null,
   "metadata": {},
   "outputs": [],
   "source": [
    "srctimes.shape"
   ]
  },
  {
   "cell_type": "code",
   "execution_count": null,
   "metadata": {},
   "outputs": [],
   "source": [
    "# MNE tutorial to look at bands\n",
    "#https://mne.tools/stable/auto_examples/time_frequency/plot_time_frequency_global_field_power.html#sphx-glr-auto-examples-time-frequency-plot-time-frequency-global-field-power-py"
   ]
  },
  {
   "cell_type": "code",
   "execution_count": null,
   "metadata": {},
   "outputs": [],
   "source": []
  },
  {
   "cell_type": "code",
   "execution_count": null,
   "metadata": {},
   "outputs": [],
   "source": [
    "#mne.baseline.rescale(data,times,baselineTuple,mode in ['mean', 'ratio', 'logratio'])\n",
    "help( mne.baseline )"
   ]
  },
  {
   "cell_type": "code",
   "execution_count": null,
   "metadata": {},
   "outputs": [],
   "source": []
  },
  {
   "cell_type": "code",
   "execution_count": null,
   "metadata": {},
   "outputs": [],
   "source": [
    "ivalinds = ivalis['no_tremor']\n",
    "a,b,_ = intervals[ivalinds[0]]\n",
    "\n",
    "print(a,b)"
   ]
  },
  {
   "cell_type": "code",
   "execution_count": null,
   "metadata": {},
   "outputs": [],
   "source": []
  },
  {
   "cell_type": "markdown",
   "metadata": {},
   "source": [
    "### No baseline correction"
   ]
  },
  {
   "cell_type": "code",
   "execution_count": null,
   "metadata": {},
   "outputs": [],
   "source": [
    "%matplotlib inline\n",
    "plt.figure(figsize=(15,5))\n",
    "plt.pcolor(srctimes,freqs, Sxx)"
   ]
  },
  {
   "cell_type": "code",
   "execution_count": null,
   "metadata": {},
   "outputs": [],
   "source": [
    "bin1,bin2 = reconst_raw.time_as_index([0,50])"
   ]
  },
  {
   "cell_type": "code",
   "execution_count": null,
   "metadata": {},
   "outputs": [],
   "source": [
    "%matplotlib inline\n",
    "import matplotlib as mpl\n",
    "norm = mpl.colors.LogNorm(vmin=np.min(Sxx + np.min(Sxx)),vmax= np.max(Sxx + np.min(Sxx)) ); \n",
    "plt.figure(figsize=(15,5))\n",
    "plt.pcolor(srctimes[bin1:bin2],freqs, Sxx[:,bin1:bin2], norm=norm)"
   ]
  },
  {
   "cell_type": "code",
   "execution_count": null,
   "metadata": {},
   "outputs": [],
   "source": [
    "%matplotlib inline\n",
    "plt.figure(figsize=(15,5))\n",
    "Sxx_bmod = mne.baseline.rescale(Sxx,srctimes,(a,b), 'ratio')\n",
    "plt.pcolor(srctimes,freqs, Sxx_bmod)"
   ]
  },
  {
   "cell_type": "code",
   "execution_count": null,
   "metadata": {},
   "outputs": [],
   "source": [
    "Sxx_bmod = mne.baseline.rescale(Sxx,srctimes,(a,b), 'mean')\n",
    "plt.figure(figsize=(15,5))\n",
    "plt.pcolor(srctimes,freqs, Sxx_bmod)"
   ]
  },
  {
   "cell_type": "code",
   "execution_count": null,
   "metadata": {},
   "outputs": [],
   "source": [
    "Sxx_bmod = mne.baseline.rescale(Sxx,srctimes,(a,b), 'logratio')\n",
    "plt.figure(figsize=(15,5))\n",
    "plt.pcolor(srctimes,freqs, Sxx_bmod)"
   ]
  },
  {
   "cell_type": "code",
   "execution_count": null,
   "metadata": {},
   "outputs": [],
   "source": [
    "Sxx_bmod = mne.baseline.rescale(Sxx,srctimes,(a,b), 'zscore')\n",
    "plt.figure(figsize=(15,5))\n",
    "plt.pcolor(srctimes,freqs, Sxx_bmod)"
   ]
  },
  {
   "cell_type": "code",
   "execution_count": null,
   "metadata": {},
   "outputs": [],
   "source": [
    "Sxx_bmod = mne.baseline.rescale(Sxx,srctimes,(a,b), 'zlogratio')\n",
    "plt.figure(figsize=(15,5))\n",
    "plt.pcolor(srctimes,freqs, Sxx_bmod)"
   ]
  },
  {
   "cell_type": "code",
   "execution_count": null,
   "metadata": {},
   "outputs": [],
   "source": [
    "abin,bbin = reconst_raw.time_as_index([a,b])\n",
    "Sxx_notrem = Sxx[:,abin:bbin]\n",
    "print(Sxx.shape, Sxx_notrem.shape)"
   ]
  },
  {
   "cell_type": "code",
   "execution_count": null,
   "metadata": {},
   "outputs": [],
   "source": [
    "import utils\n",
    "mn_nout, mx_nout, me_nout = utils.calcNoutMMM_specgram(Sxx_notrem, thr=1e-2 )\n",
    "Sxx_mc = (Sxx - mn_nout[:,None]) / mn_nout[:,None]\n",
    "plt.figure(figsize=(15,5))\n",
    "plt.pcolor(srctimes,freqs, Sxx_mc)"
   ]
  },
  {
   "cell_type": "code",
   "execution_count": null,
   "metadata": {},
   "outputs": [],
   "source": [
    "import utils\n",
    "mn_nout, mx_nout, me_nout = utils.calcNoutMMM_specgram(Sxx, thr=1e-2 )\n",
    "Sxx_mc = (Sxx - mn_nout[:,None]) / mn_nout[:,None]\n",
    "plt.figure(figsize=(15,5))\n",
    "plt.pcolor(srctimes,freqs, Sxx_mc)"
   ]
  },
  {
   "cell_type": "code",
   "execution_count": null,
   "metadata": {},
   "outputs": [],
   "source": [
    "import matplotlib as mpl"
   ]
  },
  {
   "cell_type": "code",
   "execution_count": null,
   "metadata": {},
   "outputs": [],
   "source": [
    "import utils\n",
    "mn_nout, mx_nout, me_nout = utils.calcNoutMMM_specgram(Sxx_notrem, thr=1e-2 )\n",
    "Sxx_mc = (Sxx - mn_nout[:,None]) / mn_nout[:,None]\n",
    "mn_mc,mx_mc = utils.getSpecEffMax(Sxx_mc, thr=1e-2)\n",
    "norm = mpl.colors.Normalize(vmin=np.min(mn_mc),vmax= np.max(mx_mc) ); \n",
    "plt.figure(figsize=(15,5))\n",
    "plt.pcolor(srctimes,freqs, Sxx_mc, norm=norm)"
   ]
  },
  {
   "cell_type": "code",
   "execution_count": null,
   "metadata": {},
   "outputs": [],
   "source": [
    "import utils\n",
    "mn_nout, mx_nout, me_nout = utils.calcNoutMMM_specgram(Sxx, thr=1e-2 )\n",
    "Sxx_mc = (Sxx - mn_nout[:,None]) / mn_nout[:,None]\n",
    "mn_mc,mx_mc = utils.getSpecEffMax(Sxx_mc, thr=1e-2)\n",
    "norm = mpl.colors.Normalize(vmin=np.min(mn_mc),vmax= np.max(mx_mc) ); \n",
    "plt.figure(figsize=(15,5))\n",
    "plt.pcolor(srctimes,freqs, Sxx_mc, norm=norm)"
   ]
  },
  {
   "cell_type": "code",
   "execution_count": null,
   "metadata": {},
   "outputs": [],
   "source": [
    "import scipy\n",
    "from  scipy.signal import welch\n"
   ]
  },
  {
   "cell_type": "code",
   "execution_count": null,
   "metadata": {},
   "outputs": [],
   "source": [
    "# get many sources\n",
    "# alpha gradient anterior-posterior\n",
    "# lateralization of MC activity\n",
    "# power spectrum lookup\n",
    "# topography in sensor space for narrow   -- different between \n",
    "   #  motor alpha (mu rythm) and visual alpha (lower than mu-rythm)  -- at least in some subjects"
   ]
  },
  {
   "cell_type": "code",
   "execution_count": null,
   "metadata": {},
   "outputs": [],
   "source": [
    "for src_ind in range(0,8,2):\n",
    "#for src_ind in range(3):\n",
    "#for src_ind in [1,3,5]:\n",
    "    ref = preref[0, src_ind]\n",
    "    srcdata = srcf[ref]\n",
    "    f,Pxx = welch(srcdata[:,0][None,None,:], fs = raw.info['sfreq'])\n",
    "    ax = plt.gca()\n",
    "    ax.plot(f,Pxx[0,0,:], label='{}'.format(src_ind))\n",
    "    ax.set_xlim(0,60)\n",
    "    ax.set_yscale('log')\n",
    "ax.legend()"
   ]
  },
  {
   "cell_type": "code",
   "execution_count": null,
   "metadata": {},
   "outputs": [],
   "source": [
    "ax = plt.gca()\n",
    "ax.plot(f,Pxx[0,0,:])\n",
    "ax.set_xlim(0,60)\n",
    "ax.set_yscale('log')"
   ]
  },
  {
   "cell_type": "code",
   "execution_count": null,
   "metadata": {},
   "outputs": [],
   "source": [
    "ax = plt.gca()\n",
    "ax.plot(freqs,np.sum(Sxx, axis=1) )\n",
    "ax.set_xlim(0,60)\n",
    "ax.set_yscale('log')"
   ]
  },
  {
   "cell_type": "code",
   "execution_count": null,
   "metadata": {},
   "outputs": [],
   "source": [
    "help( scipy.signal.welch )"
   ]
  },
  {
   "cell_type": "code",
   "execution_count": null,
   "metadata": {},
   "outputs": [],
   "source": [
    "#help( mne.concatenate_raws )"
   ]
  },
  {
   "cell_type": "code",
   "execution_count": null,
   "metadata": {},
   "outputs": [],
   "source": [
    "help( mne.parallel )"
   ]
  },
  {
   "cell_type": "code",
   "execution_count": null,
   "metadata": {},
   "outputs": [],
   "source": [
    "help( mne.stats )"
   ]
  },
  {
   "cell_type": "code",
   "execution_count": null,
   "metadata": {},
   "outputs": [],
   "source": [
    "help( mne.viz.plot_csd )"
   ]
  },
  {
   "cell_type": "code",
   "execution_count": null,
   "metadata": {},
   "outputs": [],
   "source": [
    "#help(mne.what)"
   ]
  },
  {
   "cell_type": "code",
   "execution_count": null,
   "metadata": {},
   "outputs": [],
   "source": [
    "Sxx_bmod = mne.baseline.rescale(Sxx,srctimes,(a,b), 'mean')\n",
    "plt.figure(figsize=(15,5))\n",
    "plt.pcolor(srctimes,freqs, Sxx_bmod)"
   ]
  },
  {
   "cell_type": "code",
   "execution_count": null,
   "metadata": {},
   "outputs": [],
   "source": [
    "# create source estimate by hand\n",
    "vertices = [[146374], [33830]]  # need to find right vertices somehow\n",
    "\n",
    "# Construct SourceEstimates that describe the signals at the cortical level.\n",
    "data = np.vstack((signal1, signal2))\n",
    "stc_signal = mne.SourceEstimate(\n",
    "    data, vertices, tmin=0, tstep=1. / sfreq, subject=sind_str)"
   ]
  },
  {
   "cell_type": "code",
   "execution_count": null,
   "metadata": {},
   "outputs": [],
   "source": []
  },
  {
   "cell_type": "code",
   "execution_count": null,
   "metadata": {},
   "outputs": [],
   "source": [
    "\n",
    "\n",
    "# fmax =48\n",
    "# a,b,it = intervals[ ivalis[intType][0] ]\n",
    "# r = reconst_raw.plot_psd(tmin=a, tmax=b, show=False, n_jobs=1, fmax=fmax)\n",
    "# a,b,it = intervals[ ivalis[intType][1] ]\n",
    "# r = reconst_raw.plot_psd(tmin=a, tmax=b, show=False, n_jobs=1, fmax=fmax)"
   ]
  },
  {
   "cell_type": "code",
   "execution_count": null,
   "metadata": {},
   "outputs": [],
   "source": [
    "type(r)"
   ]
  },
  {
   "cell_type": "code",
   "execution_count": null,
   "metadata": {},
   "outputs": [],
   "source": [
    "help( raw.plot_psd )"
   ]
  },
  {
   "cell_type": "code",
   "execution_count": null,
   "metadata": {},
   "outputs": [],
   "source": [
    "from mne.viz import plot_alignment, set_3d_title\n",
    "plot_alignment(raw.info, trans=None, dig=False, eeg=False,\n",
    "                         surfaces=[], meg=['helmet', 'sensors'], coord_frame='meg',\n",
    "                         verbose=True)"
   ]
  },
  {
   "cell_type": "code",
   "execution_count": null,
   "metadata": {},
   "outputs": [],
   "source": []
  }
 ],
 "metadata": {
  "kernelspec": {
   "display_name": "Python 3",
   "language": "python",
   "name": "python3"
  },
  "language_info": {
   "codemirror_mode": {
    "name": "ipython",
    "version": 3
   },
   "file_extension": ".py",
   "mimetype": "text/x-python",
   "name": "python",
   "nbconvert_exporter": "python",
   "pygments_lexer": "ipython3",
   "version": "3.6.9"
  },
  "varInspector": {
   "cols": {
    "lenName": 16,
    "lenType": 16,
    "lenVar": 40
   },
   "kernels_config": {
    "python": {
     "delete_cmd_postfix": "",
     "delete_cmd_prefix": "del ",
     "library": "var_list.py",
     "varRefreshCmd": "print(var_dic_list())"
    },
    "r": {
     "delete_cmd_postfix": ") ",
     "delete_cmd_prefix": "rm(",
     "library": "var_list.r",
     "varRefreshCmd": "cat(var_dic_list()) "
    }
   },
   "types_to_exclude": [
    "module",
    "function",
    "builtin_function_or_method",
    "instance",
    "_Feature"
   ],
   "window_display": false
  }
 },
 "nbformat": 4,
 "nbformat_minor": 2
}
