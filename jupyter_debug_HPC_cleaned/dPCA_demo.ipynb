{
 "cells": [
  {
   "cell_type": "code",
   "execution_count": null,
   "metadata": {},
   "outputs": [],
   "source": [
    "%pylab inline\n",
    "from numpy import *\n",
    "from numpy.random import rand, randn, randint\n",
    "from dPCA import dPCA"
   ]
  },
  {
   "cell_type": "code",
   "execution_count": null,
   "metadata": {},
   "outputs": [],
   "source": [
    "dPCA.__dict__"
   ]
  },
  {
   "cell_type": "code",
   "execution_count": null,
   "metadata": {},
   "outputs": [],
   "source": [
    "import importlib.util\n",
    "spec = importlib.util.spec_from_file_location(\"dPCA\", \"/home/demitau/soft/dPCA/python/dPCA/__init__.py\")\n",
    "#spec = importlib.util.spec_from_file_location(\"dPCA\", \"/home/demitau/soft/dPCA/python/dPCA/dPCA.py\")\n",
    "dPCA = importlib.util.module_from_spec(spec)\n",
    "spec.loader.exec_module(dPCA)\n",
    "#spec.loader.load_module(dPCA)"
   ]
  },
  {
   "cell_type": "code",
   "execution_count": null,
   "metadata": {},
   "outputs": [],
   "source": [
    "dPCA"
   ]
  },
  {
   "cell_type": "code",
   "execution_count": null,
   "metadata": {},
   "outputs": [],
   "source": [
    "spec.loader.load_module()"
   ]
  },
  {
   "cell_type": "code",
   "execution_count": null,
   "metadata": {},
   "outputs": [],
   "source": [
    "dPCA.dPCA()"
   ]
  },
  {
   "cell_type": "markdown",
   "metadata": {},
   "source": [
    "We first build surrogate data to apply dPCA to."
   ]
  },
  {
   "cell_type": "code",
   "execution_count": null,
   "metadata": {},
   "outputs": [],
   "source": [
    "# number of neurons, time-points and stimuli\n",
    "N,T,S = 100,250,6\n",
    "\n",
    "# noise-level and number of trials in each condition\n",
    "noise, n_samples = 0.2, 10\n",
    "\n",
    "# build two latent factors\n",
    "zt = (arange(T)/float(T))\n",
    "zs = (arange(S)/float(S))\n",
    "\n",
    "# build trial-by trial data\n",
    "trialR = noise*randn(n_samples,N,S,T)\n",
    "trialR += randn(N)[None,:,None,None]*zt[None,None,None,:]\n",
    "trialR += randn(N)[None,:,None,None]*zs[None,None,:,None]\n",
    "\n",
    "# trial-average data\n",
    "R = mean(trialR,0)\n",
    "\n",
    "# center data\n",
    "R -= mean(R.reshape((N,-1)),1)[:,None,None]"
   ]
  },
  {
   "cell_type": "code",
   "execution_count": null,
   "metadata": {},
   "outputs": [],
   "source": [
    "R.shape, trialR.shape   #n_samples,N,S,T"
   ]
  },
  {
   "cell_type": "markdown",
   "metadata": {},
   "source": [
    "We then instantiate a dPCA model where the two parameter axis are labeled by 's' (stimulus) and 't' (time) respectively. We set regularizer to 'auto' to optimize the regularization parameter when we fit the data."
   ]
  },
  {
   "cell_type": "code",
   "execution_count": null,
   "metadata": {},
   "outputs": [],
   "source": [
    "dpca = dPCA.dPCA(labels='st',regularizer='auto')\n",
    "dpca.protect = ['t']"
   ]
  },
  {
   "cell_type": "markdown",
   "metadata": {},
   "source": [
    "Now fit the data (R) using the model we just instatiated. Note that we only need trial-to-trial data when we want to optimize over the regularization parameter."
   ]
  },
  {
   "cell_type": "code",
   "execution_count": null,
   "metadata": {},
   "outputs": [],
   "source": [
    "Z = dpca.fit_transform(R,trialR)"
   ]
  },
  {
   "cell_type": "code",
   "execution_count": null,
   "metadata": {},
   "outputs": [],
   "source": [
    "time = arange(T)\n",
    "\n",
    "figure(figsize=(16,7))\n",
    "subplot(131)\n",
    "\n",
    "for s in range(S):\n",
    "    plot(time,Z['t'][0,s])\n",
    "\n",
    "title('1st time component')\n",
    "    \n",
    "subplot(132)\n",
    "\n",
    "for s in range(S):\n",
    "    plot(time,Z['s'][0,s])\n",
    "    \n",
    "title('1st stimulus component')\n",
    "    \n",
    "subplot(133)\n",
    "\n",
    "for s in range(S):\n",
    "    plot(time,Z['st'][0,s])\n",
    "    \n",
    "title('1st mixing component')\n",
    "show()"
   ]
  },
  {
   "cell_type": "markdown",
   "metadata": {},
   "source": [
    "The 1st mixing component looks merely like noise. But to be sure, we can run a significance analysis:"
   ]
  },
  {
   "cell_type": "code",
   "execution_count": null,
   "metadata": {},
   "outputs": [],
   "source": [
    "significance_masks = dpca.significance_analysis(R,trialR,axis='t',n_shuffles=10,n_splits=10,n_consecutive=10)"
   ]
  },
  {
   "cell_type": "markdown",
   "metadata": {},
   "source": [
    "We can highlight the significant parts of the demixed components with a black bar underneath. Note that there is no significant analysis time, since there are no classes to compute the significance over."
   ]
  },
  {
   "cell_type": "code",
   "execution_count": null,
   "metadata": {},
   "outputs": [],
   "source": [
    "time = arange(T)\n",
    "\n",
    "figure(figsize=(16,7))\n",
    "subplot(131)\n",
    "\n",
    "for s in range(S):\n",
    "    plot(time,Z['t'][0,s])\n",
    "\n",
    "title('1st time component')\n",
    "    \n",
    "subplot(132)\n",
    "\n",
    "for s in range(S):\n",
    "    plot(time,Z['s'][0,s])\n",
    "\n",
    "imshow(significance_masks['s'][0][None,:],extent=[0,250,amin(Z['s'])-1,amin(Z['s'])-0.5],aspect='auto',cmap='gray_r',vmin=0,vmax=1)\n",
    "ylim([amin(Z['s'])-1,amax(Z['s'])+1])\n",
    "\n",
    "title('1st stimulus component')\n",
    "    \n",
    "subplot(133)\n",
    "\n",
    "for s in range(S):\n",
    "    plot(time,Z['st'][0,s])\n",
    "\n",
    "dZ = amax(Z['st'])-amin(Z['st'])\n",
    "imshow(significance_masks['st'][0][None,:],extent=[0,250,amin(Z['st'])-dZ/10.,amin(Z['st'])-dZ/5.],aspect='auto',cmap='gray_r',vmin=0,vmax=1)\n",
    "ylim([amin(Z['st'])-dZ/10.,amax(Z['st'])+dZ/10.])\n",
    "    \n",
    "title('1st mixing component')\n",
    "show()"
   ]
  }
 ],
 "metadata": {
  "kernelspec": {
   "display_name": "Python 3",
   "language": "python",
   "name": "python3"
  },
  "language_info": {
   "codemirror_mode": {
    "name": "ipython",
    "version": 3
   },
   "file_extension": ".py",
   "mimetype": "text/x-python",
   "name": "python",
   "nbconvert_exporter": "python",
   "pygments_lexer": "ipython3",
   "version": "3.6.9"
  },
  "varInspector": {
   "cols": {
    "lenName": 16,
    "lenType": 16,
    "lenVar": 40
   },
   "kernels_config": {
    "python": {
     "delete_cmd_postfix": "",
     "delete_cmd_prefix": "del ",
     "library": "var_list.py",
     "varRefreshCmd": "print(var_dic_list())"
    },
    "r": {
     "delete_cmd_postfix": ") ",
     "delete_cmd_prefix": "rm(",
     "library": "var_list.r",
     "varRefreshCmd": "cat(var_dic_list()) "
    }
   },
   "types_to_exclude": [
    "module",
    "function",
    "builtin_function_or_method",
    "instance",
    "_Feature"
   ],
   "window_display": false
  }
 },
 "nbformat": 4,
 "nbformat_minor": 1
}
