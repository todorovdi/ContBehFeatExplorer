{
 "cells": [
  {
   "cell_type": "code",
   "execution_count": null,
   "id": "3dc72296",
   "metadata": {},
   "outputs": [],
   "source": [
    "!module unload Python-Neuroimaging"
   ]
  },
  {
   "cell_type": "code",
   "execution_count": null,
   "id": "248d8a13",
   "metadata": {},
   "outputs": [],
   "source": [
    "!pip freeze | grep mne"
   ]
  },
  {
   "cell_type": "code",
   "execution_count": null,
   "id": "4e0ac247",
   "metadata": {},
   "outputs": [],
   "source": [
    "import mne\n",
    "assert mne.__version__ == '0.23.0'"
   ]
  },
  {
   "cell_type": "code",
   "execution_count": null,
   "id": "a704aff0",
   "metadata": {},
   "outputs": [],
   "source": [
    "%load_ext autoreload\n",
    "%autoreload 2\n",
    "\n",
    "from utils_postprocess import printDict\n",
    "\n",
    "import globvars as gv\n",
    "import mne\n",
    "import matplotlib.pyplot as plt\n",
    "from os.path import join as pjoin\n",
    "\n",
    "\n",
    "defdgen = lambda sz :np.random.uniform(low=-1,high=1, size=sz)\n",
    "\n",
    "import utils_tSNE as utsne\n",
    "\n",
    "sfreq = 256\n",
    "sfreq_hires = 1024\n",
    "\n",
    "from IPython import get_ipython; ipython = get_ipython()\n",
    "ipython.magic('run -i ../test_data/gen_test_data4.py')\n",
    "\n",
    "print(test_data_descr)\n",
    "\n",
    "#rawnames = ['S01_off_move','S01_off_hold','S01_on_move']\n",
    "\n",
    "# prep_test_data\n",
    "\n",
    "# _gt means ground truth here\n",
    "dat_pri_gt           = dat_pri\n",
    "dat_LFP_hires_pri_gt = dat_LFP_hires_pri\n",
    "\n",
    "plt.plot(times,dat_pri[dati].T)\n",
    "plt.figure()\n",
    "plt.plot(times_hires,dat_LFP_hires_pri[dati].T, label=sfo_LFP)\n",
    "plt.legend()\n",
    "\n",
    "dat_EMG = defdgen( (2, nbins ) )\n",
    "\n",
    "# reversed if needed\n",
    "from utils import makeSimpleRaw\n",
    "from featlist import selFeatsRegexInds\n",
    "raws_permod_both_sides2 = {}\n",
    "for rawi,rawn in enumerate(rawnames):\n",
    "    raws_permod_both_sides2[rawn] = {}\n",
    "    chis_LFP = utsne.selFeatsRegexInds(sfo_pri[rawi], 'LFP.*' )\n",
    "    dat_LFP = dat_pri_gt[rawi][chis_LFP]\n",
    "    raws_permod_both_sides2[rawn]['LFP'] = makeSimpleRaw(dat_LFP, np.array(sfo_pri[rawi])[chis_LFP], rescale=0 )\n",
    "\n",
    "    chis_msrc = utsne.selFeatsRegexInds(sfo_pri[rawi], 'msrc.*' )\n",
    "    dat_msrc = dat_pri_gt[rawi][chis_msrc]\n",
    "    raws_permod_both_sides2[rawn]['src'] = makeSimpleRaw(dat_msrc, \n",
    "        np.array(sfo_pri[rawi])[chis_msrc] , rescale=0)\n",
    "\n",
    "    raws_permod_both_sides2[rawn]['LFP_hires'] = makeSimpleRaw(dat_LFP_hires_pri_gt[rawi],\n",
    "        sfo_lfp_hires_pri[rawi], sfreq=sfreq_hires, rescale=0 )\n",
    "    \n",
    "    raws_permod_both_sides2[rawn]['EMG'] = makeSimpleRaw(dat_EMG, \n",
    "        gv.EMG_per_hand[main_side], sfreq=sfreq, rescale=0)\n",
    "\n",
    "rawnames_str = ','.join(rawnames)\n",
    "\n",
    "####################################\n",
    "import globvars as gv\n",
    "gv.DEBUG_MODE=1\n",
    "from IPython import get_ipython; ipython = get_ipython()\n",
    "#Once that's done, run a magic command like this:\n",
    "#%debug\n",
    "raws_permod_both_sides = raws_permod_both_sides2\n",
    "\n",
    "mstr = 'run -i ../run/run_prep_dat.py -r ' +   rawnames_str + \\\n",
    "        ' --param_file prep_dat_defparams.ini --calc_stats_multi_band 1' +\\\n",
    "        ' --save_dat 1 --save_stats 1 --use_preloaded_raws 1 --allow_CUDA 0 --n_jobs 20'\n",
    "        \n",
    "ipython.magic(mstr)\n",
    "\n",
    "# %run -i ../run/run_prep_dat.py -r S99_off_move,S99_off_hold,S99_on_move \\\n",
    "#         --param_file prep_dat_defparams.ini --calc_stats_multi_band 1 --save_dat 1 \\\n",
    "#         --use_preloaded_raws 1 --save_stats 1"
   ]
  },
  {
   "cell_type": "code",
   "execution_count": null,
   "id": "3a3848db",
   "metadata": {},
   "outputs": [],
   "source": [
    "from IPython import get_ipython; ipython = get_ipython()\n",
    "#debug\n",
    "\n",
    "# import warnings\n",
    "# warnings.filterwarnings(\"error\")\n",
    "# # with warnings.catch_warnings():\n",
    "# #     warnings.simplefilter('error')\n",
    "\n",
    "# try:\n",
    "\n",
    "# except ComplexWarning as e:\n",
    "#     pass\n",
    "\n",
    "rs = ('%run -i ../run/run_genfeats.py '\n",
    "' --sources_type parcel_aal --bands crude'\n",
    "' --src_grouping_fn 10'\n",
    "' --src_grouping 0 '\n",
    "' --raw {} '\n",
    "' --feat_types con,H_act,H_mob,H_compl,rbcorr,bpcorr'\n",
    "' --Kalman_smooth 0'\n",
    "' --load_TFR 0'\n",
    "' --load_CSD 0'\n",
    "' --save_TFR 0'\n",
    "' --save_CSD 0'\n",
    "' --save_bpcorr 0'\n",
    "' --save_rbcorr 0'\n",
    "' --load_rbcorr 0'\n",
    "' --use_existing_TFR 0'\n",
    "' --use_preloaded_data 0'\n",
    "' --allow_CUDA 0'\n",
    "' --load_only 0'\n",
    "' --show_plots 0'\n",
    "' --plot_types ,'\n",
    "' --prescale_data 1'\n",
    "' --exit_after {}'\n",
    "' --normalize_TFR separate'\n",
    "' --scale_data_combine_type no'\n",
    "' --baseline_int_type entire'\n",
    "' --n_jobs 1'\n",
    "' --save_feat 1'\n",
    "' --feat_stats_artif_handling reject'\n",
    "' --scale_data_combine_type no '\n",
    "' --rbcorr_use_local_means 0'\n",
    "' --output_subdir test'\n",
    "' --stats_fn_prefix stats_{}_{}_ '\n",
    "' --param_file genfeats_defparams.ini ')\n",
    "\n",
    "#exit_after = 'TFR_and_CSD'\n",
    "exit_after = 'end'\n",
    "#exit_after = 'prescale_data'\n",
    "#exit_after = 'load'\n",
    "mstr2 = rs.format(rawnames_str,exit_after,rawnames_str[:3],len(rawnames))\n",
    "\n",
    "#%debug\n",
    "\n",
    "ipython.magic(mstr2)\n",
    "\n",
    "#np.savez(pjoin(gv.data_dir,'test.npz') ,globals() )"
   ]
  },
  {
   "cell_type": "code",
   "execution_count": null,
   "id": "612d2a09",
   "metadata": {},
   "outputs": [],
   "source": [
    "# search LFP\n",
    "import globvars as gv\n",
    "rawnames_str = 'S95_off_move'\n",
    "gv.DEBUG_MODE=1\n",
    "\n",
    "%load_ext autoreload\n",
    "%autoreload 2\n",
    "\n",
    "#%debug\n",
    "\n",
    "from IPython import get_ipython; ipython = get_ipython()\n",
    "mstr_ML = '''%run -i ../run/run_ML.py --sources_type parcel_aal --bands_type crude --src_grouping_fn 10\\\n",
    "    --src_grouping 0 \\\n",
    "    --prefix test \\\n",
    "    --skip_XGB 0\\\n",
    "    --mods LFP,msrc\\\n",
    "    --LFP_related_only 1\\\n",
    "    --feat_types rbcorr,bpcorr,con,Hjorth\\\n",
    "    --parcel_group_names motor-related\\\n",
    "    --allow_CUDA 0\\\n",
    "    --subskip_fit 1 \\\n",
    "    --n_splits 2 \\\n",
    "    --n_jobs 1\\\n",
    "    --calc_MI 0 \\\n",
    "    --save_output 1\\\n",
    "    --baseline_int_type entire\\\n",
    "    --heavy_fit_red_featset 0\\ \n",
    "    --groupings_to_use merge_movements --int_types_to_use basic\\\n",
    "    --input_subdir test --output_subdir test_searchLFP\\\n",
    "    --raw {} --load_only 0 --show_plots 1\\\n",
    "    --param_file ML_defparams.ini \\\n",
    "    --featsel_method XGB_Shapley\\\n",
    "    --calc_VIF 0 --skip_LDA 1 --calc_Boruta 0\\\n",
    "    --exit_after {}\\\n",
    "    --prep_for_clf_only 0\n",
    "    --search_best_LFP XGB'''\n",
    "\n",
    "exit_after = 'end'\n",
    "mstr_ML = mstr_ML.format(rawnames_str,exit_after)\n",
    "\n",
    "\n",
    "#%debug\n",
    "ipython.magic(mstr_ML)"
   ]
  },
  {
   "cell_type": "code",
   "execution_count": null,
   "id": "c239596c",
   "metadata": {},
   "outputs": [],
   "source": [
    "from utils_postprocess_HPC import collectBestLFP\n",
    "%load_ext autoreload\n",
    "%autoreload 2\n",
    "#%debug\n",
    "r = collectBestLFP('test_searchLFP', save_result = 1);"
   ]
  },
  {
   "cell_type": "code",
   "execution_count": null,
   "id": "b64a4613",
   "metadata": {},
   "outputs": [],
   "source": [
    "rawnames_str = 'S95_off_move'\n",
    "import globvars as gv\n",
    "gv.DEBUG_MODE=1\n",
    "\n",
    "%load_ext autoreload\n",
    "%autoreload 2\n",
    "\n",
    "from IPython import get_ipython; ipython = get_ipython()\n",
    "mstr_ML = '''%run -i ../run/run_ML.py --sources_type parcel_aal --bands_type crude --src_grouping_fn 10\\\n",
    "    --src_grouping 0 \\\n",
    "    --prefix test \\\n",
    "    --skip_XGB 0\\\n",
    "    --mods LFP,msrc\\\n",
    "    --LFP_related_only 1\\\n",
    "    --feat_types rbcorr,bpcorr,con,Hjorth\\\n",
    "    --parcel_group_names motor-related\\\n",
    "    --allow_CUDA 0\\\n",
    "    --subskip_fit 1 \\\n",
    "    --n_splits 2 \\\n",
    "    --calc_MI 0 \\\n",
    "    --save_output 0\\\n",
    "    --baseline_int_type entire\\\n",
    "    --heavy_fit_red_featset 0\\ \n",
    "    --groupings_to_use merge_movements --int_types_to_use basic\\\n",
    "    --input_subdir test --output_subdir test\\\n",
    "    --raw {} --load_only 0 --show_plots 1\\\n",
    "    --param_file ML_defparams.ini \\\n",
    "    --featsel_method XGB_Shapley\\\n",
    "    --LFPchan=main\n",
    "    --best_LFP_info_file test_searchLFP/best_LFP_info_both_sides_ext.json\n",
    "    --exit_after {}\\\n",
    "    --prep_for_clf_only 0'''\n",
    "\n",
    "exit_after = 'end'\n",
    "mstr_ML = mstr_ML.format(rawnames_str,exit_after)\n",
    "\n",
    "\n",
    "#%debug\n",
    "ipython.magic(mstr_ML)"
   ]
  },
  {
   "cell_type": "code",
   "execution_count": null,
   "id": "721727f2",
   "metadata": {},
   "outputs": [],
   "source": [
    "featinds_good_boruta"
   ]
  },
  {
   "cell_type": "code",
   "execution_count": null,
   "id": "c43c68ce",
   "metadata": {},
   "outputs": [],
   "source": [
    "featinds_ranking_boruta"
   ]
  },
  {
   "cell_type": "code",
   "execution_count": null,
   "id": "817466dd",
   "metadata": {},
   "outputs": [],
   "source": [
    "colinds_good_VFsel[featinds_good_boruta]\n"
   ]
  },
  {
   "cell_type": "code",
   "execution_count": null,
   "id": "9ec37c93",
   "metadata": {},
   "outputs": [],
   "source": [
    "Xconcat_good_cur.shape"
   ]
  },
  {
   "cell_type": "code",
   "execution_count": null,
   "id": "b4e1b045",
   "metadata": {},
   "outputs": [],
   "source": [
    "colinds_good_VFsel"
   ]
  },
  {
   "cell_type": "code",
   "execution_count": null,
   "id": "795c59e3",
   "metadata": {},
   "outputs": [],
   "source": [
    "perfs_XGB[0].keys()"
   ]
  },
  {
   "cell_type": "code",
   "execution_count": null,
   "id": "96cd06b3",
   "metadata": {},
   "outputs": [],
   "source": [
    "perfs_XGB[-1].keys()"
   ]
  },
  {
   "cell_type": "code",
   "execution_count": null,
   "id": "57c2e30e",
   "metadata": {},
   "outputs": [],
   "source": [
    "featnames_nice"
   ]
  },
  {
   "cell_type": "code",
   "execution_count": null,
   "id": "458d2d8c",
   "metadata": {},
   "outputs": [],
   "source": [
    "Xconcat_good_cur"
   ]
  },
  {
   "cell_type": "code",
   "execution_count": null,
   "id": "9e3ff028",
   "metadata": {},
   "outputs": [],
   "source": [
    "colinds_bad_VFsel"
   ]
  },
  {
   "cell_type": "code",
   "execution_count": null,
   "id": "95aa850a",
   "metadata": {},
   "outputs": [],
   "source": [
    "anndict_per_intcat_per_rawn"
   ]
  },
  {
   "cell_type": "code",
   "execution_count": null,
   "id": "23dcc313",
   "metadata": {},
   "outputs": [],
   "source": [
    "np.nan"
   ]
  },
  {
   "cell_type": "code",
   "execution_count": null,
   "id": "5ed29c43",
   "metadata": {},
   "outputs": [],
   "source": [
    "discard_ratio"
   ]
  },
  {
   "cell_type": "code",
   "execution_count": null,
   "id": "b99a8adb",
   "metadata": {},
   "outputs": [],
   "source": [
    "mstr_ML"
   ]
  },
  {
   "cell_type": "code",
   "execution_count": null,
   "id": "c7fa2384",
   "metadata": {},
   "outputs": [],
   "source": [
    "discard_outliers_q"
   ]
  },
  {
   "cell_type": "code",
   "execution_count": null,
   "id": "e35d88f9",
   "metadata": {},
   "outputs": [],
   "source": [
    "artif_naive_bininds"
   ]
  },
  {
   "cell_type": "code",
   "execution_count": null,
   "id": "ad89f33c",
   "metadata": {},
   "outputs": [],
   "source": []
  }
 ],
 "metadata": {
  "kernelspec": {
   "display_name": "cobd",
   "language": "python",
   "name": "cobd"
  },
  "language_info": {
   "codemirror_mode": {
    "name": "ipython",
    "version": 3
   },
   "file_extension": ".py",
   "mimetype": "text/x-python",
   "name": "python",
   "nbconvert_exporter": "python",
   "pygments_lexer": "ipython3",
   "version": "3.8.15"
  }
 },
 "nbformat": 4,
 "nbformat_minor": 5
}
