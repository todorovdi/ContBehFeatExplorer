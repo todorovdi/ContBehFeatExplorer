{
 "cells": [
  {
   "cell_type": "code",
   "execution_count": null,
   "id": "babf37d1",
   "metadata": {},
   "outputs": [],
   "source": [
    "%load_ext autoreload\n",
    "%autoreload 2\n",
    "%precision %.4f\n",
    "############################\n",
    "import globvars as gv"
   ]
  },
  {
   "cell_type": "code",
   "execution_count": null,
   "id": "7935dd71",
   "metadata": {},
   "outputs": [],
   "source": [
    "!conda install -c conda-forge simdkalman"
   ]
  },
  {
   "cell_type": "code",
   "execution_count": null,
   "id": "a4adcb88",
   "metadata": {},
   "outputs": [],
   "source": [
    "!pip install simdkalman"
   ]
  },
  {
   "cell_type": "code",
   "execution_count": null,
   "id": "c2d7e860",
   "metadata": {},
   "outputs": [],
   "source": [
    "import simdkalman"
   ]
  },
  {
   "cell_type": "code",
   "execution_count": null,
   "id": "a1fe1811",
   "metadata": {},
   "outputs": [],
   "source": [
    "%load_ext autoreload\n",
    "%autoreload 2\n",
    "%precision %.4f\n",
    "import numpy as np\n",
    "np.set_printoptions(precision=4, suppress=1)\n",
    "import utils_postprocess_HPC as postp\n",
    "import gc; gc.collect()\n",
    "\n",
    "f = open('../run/_runstrings_genfeats.txt','r')\n",
    "runstrings = f.readlines()\n",
    "f.close()\n",
    "\n",
    "import mne; print(  mne.__version__ )\n",
    "from IPython import get_ipython; ipython = get_ipython()\n",
    "istr = 0\n",
    "#%debug\n",
    "mstr0 = '%run -i ../run/' + runstrings[istr][:-1] + ' --n_jobs 1'\n",
    "mstr0 += ' --feat_types Hjorth'\n",
    "#mstr0 += ' --exit_after prescale_data'\n",
    "\n",
    "ipython.magic(mstr0)"
   ]
  },
  {
   "cell_type": "code",
   "execution_count": null,
   "id": "bf8c1e9a",
   "metadata": {},
   "outputs": [],
   "source": [
    "X"
   ]
  },
  {
   "cell_type": "code",
   "execution_count": null,
   "id": "842261c0",
   "metadata": {},
   "outputs": [],
   "source": [
    "X.shape"
   ]
  },
  {
   "cell_type": "code",
   "execution_count": null,
   "id": "7a7cf7e3",
   "metadata": {},
   "outputs": [],
   "source": [
    "Xt = np.ones((10,4))\n",
    "Xt[:3,1] = np.nan\n",
    "Xt[-3:,1] = 2\n",
    "\n",
    "Xt[:3,2] = 0\n",
    "Xt[3:-3,2] = np.nan\n",
    "Xt[-3:,2] = 1.5\n",
    "\n",
    "Xt[3:-3,0] = 33\n",
    "\n",
    "Xt[:,3] = -10\n",
    "dft = pd.DataFrame(Xt)\n",
    "display(dft)\n",
    "dft_lin = dft.interpolate(axis=0, method='linear')\n",
    "display(dft_lin)\n",
    "#dft_lin.interpolate(axis=0, method='pad')  \n",
    "dft_lin.fillna(0)"
   ]
  },
  {
   "cell_type": "code",
   "execution_count": null,
   "id": "8387c589",
   "metadata": {},
   "outputs": [],
   "source": [
    "df"
   ]
  },
  {
   "cell_type": "code",
   "execution_count": null,
   "id": "97774887",
   "metadata": {},
   "outputs": [],
   "source": [
    "X[507500:507550]"
   ]
  },
  {
   "cell_type": "code",
   "execution_count": null,
   "id": "ac59705e",
   "metadata": {},
   "outputs": [],
   "source": [
    "df"
   ]
  },
  {
   "cell_type": "code",
   "execution_count": null,
   "id": "91f4abbb",
   "metadata": {},
   "outputs": [],
   "source": [
    "f['subfeature_order_pri']"
   ]
  },
  {
   "cell_type": "code",
   "execution_count": null,
   "id": "47abcf7d",
   "metadata": {},
   "outputs": [],
   "source": [
    "#chnames_tfr"
   ]
  },
  {
   "cell_type": "markdown",
   "id": "6d5ef008",
   "metadata": {},
   "source": [
    "# Plot data scaling"
   ]
  },
  {
   "cell_type": "code",
   "execution_count": null,
   "id": "f3f2f9a1",
   "metadata": {},
   "outputs": [],
   "source": [
    "#dat_to_show[0].shape"
   ]
  },
  {
   "cell_type": "code",
   "execution_count": null,
   "id": "4a207211",
   "metadata": {},
   "outputs": [],
   "source": [
    "sfo_pri"
   ]
  },
  {
   "cell_type": "code",
   "execution_count": null,
   "id": "662808f3",
   "metadata": {},
   "outputs": [],
   "source": [
    "#indsets"
   ]
  },
  {
   "cell_type": "code",
   "execution_count": null,
   "id": "5a2f1c5b",
   "metadata": {},
   "outputs": [],
   "source": [
    "rawnames"
   ]
  },
  {
   "cell_type": "code",
   "execution_count": null,
   "id": "99f64aeb",
   "metadata": {},
   "outputs": [],
   "source": [
    "inds stats_per_ct[ct]['rawnames'].index(rawnames[0])"
   ]
  },
  {
   "cell_type": "code",
   "execution_count": null,
   "id": "aa9d7806",
   "metadata": {},
   "outputs": [],
   "source": [
    "subfeature_order_pri"
   ]
  },
  {
   "cell_type": "code",
   "execution_count": null,
   "id": "d3e6aadf",
   "metadata": {},
   "outputs": [],
   "source": [
    "\n",
    "help(np.random.choice)\n"
   ]
  },
  {
   "cell_type": "code",
   "execution_count": null,
   "id": "54ecc780",
   "metadata": {},
   "outputs": [],
   "source": []
  },
  {
   "cell_type": "code",
   "execution_count": null,
   "id": "c498c653",
   "metadata": {},
   "outputs": [],
   "source": [
    "combine_type"
   ]
  },
  {
   "cell_type": "code",
   "execution_count": null,
   "id": "f669b8d9",
   "metadata": {},
   "outputs": [],
   "source": [
    "means_per_iset = {}\n",
    "for indseti in range(len(means)):\n",
    "    for it in means[indseti].keys():\n",
    "        means[indseti][it]"
   ]
  },
  {
   "cell_type": "code",
   "execution_count": null,
   "id": "a50c7532",
   "metadata": {},
   "outputs": [],
   "source": [
    "means_rescaled += means_rescaled"
   ]
  },
  {
   "cell_type": "code",
   "execution_count": null,
   "id": "545f216e",
   "metadata": {},
   "outputs": [],
   "source": [
    "stds_rescaled += stds_rescaled"
   ]
  },
  {
   "cell_type": "code",
   "execution_count": null,
   "id": "5a963fd0",
   "metadata": {},
   "outputs": [],
   "source": [
    "from utils_genfeats import getIndsetsValid\n",
    "ct = combine_type\n",
    "#ct = 'no'\n",
    "_,newindsets, means, stds = getIndsetsValid(rawnames,stats_per_ct[ct])\n",
    "indsets = stats_per_ct[ct]['indsets']\n",
    "show_unscaled = False\n",
    "nch = 12\n",
    "\n",
    "#inds = np.arange(nch)\n",
    "inds = np.random.choice(len(subfeature_order_pri[0] ), nch)\n",
    "sfo_pri = [np.array(sfo)[inds] for sfo in subfeature_order_pri]\n",
    "if show_unscaled:\n",
    "    means_per_iset = stats_per_ct[ct]['means']\n",
    "    stds_per_iset  = stats_per_ct[ct]['stds']\n",
    "    dat_to_show = [d[inds,:] for d in dat_pri_unscaled]\n",
    "else:\n",
    "    means_per_iset = means_rescaled\n",
    "    stds_per_iset = stds_rescaled\n",
    "    dat_to_show = [d[inds,:] for d in dat_pri]\n",
    "    \n",
    "chnames_nicened_pri = []\n",
    "for sfo in subfeature_order_pri:\n",
    "    chnames_nicened_cur = utils.nicenMEGsrc_chnames(sfo, roi_labels, srcgrouping_names_sorted,\n",
    "                            prefix='msrc_')\n",
    "    chnames_nicened_pri += [ np.array(chnames_nicened_cur)[inds] ]\n",
    "\n",
    "suptitle = ct\n",
    "\n",
    "#means_per_iset,stds_per_iset,\n",
    "from plots import plotDataAnnStat\n",
    "plotDataAnnStat(rawnames,dat_to_show,times_pri,sfo_pri,                    \n",
    "                   None,None,None,\n",
    "                   anndict_per_intcat_per_rawn,\n",
    "                   newindsets,\n",
    "                   means_rescaled, stds_rescaled,\n",
    "                   chnames_nicened_pri,\n",
    "                   suptitle=suptitle,\n",
    "                   dat_dict=None,band=None, hh=3, ww=20)\n",
    "plt.tight_layout()\n",
    "figname = pjoin(gv.dir_fig,'test',\n",
    "                f'test_rawdata_scaling_scaled{1-show_unscaled}.png')\n",
    "plt.savefig(figname)\n",
    "\n",
    "# S01 off hold 10s, 180s, 360s\n",
    "# S01 off move -- right MEG artifacts (around 20s, 310s)"
   ]
  },
  {
   "cell_type": "markdown",
   "id": "230187ae",
   "metadata": {},
   "source": [
    "# plot features"
   ]
  },
  {
   "cell_type": "code",
   "execution_count": null,
   "id": "ffabc174",
   "metadata": {},
   "outputs": [],
   "source": [
    "for prefix in prefixes:\n",
    "    fntry = loadMLFile(pjoin(gv.data_dir,subdir0), pre_rawname, prefix ) \n",
    "    #fntry = loadFeatFile(pjoin(gv.data_dir,subdir), rawname, prefix ) \n",
    "    f = np.load(fntry, allow_pickle=1)\n",
    "    mcf = f['results_light'][()]\n",
    "\n",
    "    newcmdstr = savedCmd2str(mcf['cmd'][0] + [('--load_only','1')])\n",
    "    ipython.magic(newcmdstr)\n",
    "\n",
    "    featnames_sel = featnames\n",
    "    subj = pre_rawname.split('_')[0]\n",
    "   \n",
    "    anndict_per_intcat_per_rawn_flt = filterAnnDict(anndict_per_intcat_per_rawn)\n",
    "\n",
    "    ww = 20\n",
    "    hh = 5\n",
    "    plotFeatsAndRelDat(rawnames, featnames_sel, None,None,\n",
    "                    X_pri,[featnames]*len(rawnames),rawtimes_pri,Xtimes_pri,\n",
    "                    None, wbd_pri,\n",
    "                    dat_hires_pri=None,\n",
    "                    chnames_all_hires_pri = None,\n",
    "                    times_hires_pri=None,\n",
    "                    anndict_per_intcat_per_rawn=anndict_per_intcat_per_rawn_flt, \n",
    "                       sfreq=sfreq,\n",
    "                      feat_comments=None, ww=ww, hh=hh, legend_loc = 'upper right')\n",
    "\n",
    "    figfname = pjoin(gv.dir_fig,subdir0,f'{subj}_{medcond}_{prefix}_timecourse.pdf') \n",
    "    print('saved to ',figfname)\n",
    "    plt.savefig(figfname)\n",
    "    plt.close()"
   ]
  }
 ],
 "metadata": {
  "kernelspec": {
   "display_name": "cobd",
   "language": "python",
   "name": "cobd"
  },
  "language_info": {
   "codemirror_mode": {
    "name": "ipython",
    "version": 3
   },
   "file_extension": ".py",
   "mimetype": "text/x-python",
   "name": "python",
   "nbconvert_exporter": "python",
   "pygments_lexer": "ipython3",
   "version": "3.8.15"
  }
 },
 "nbformat": 4,
 "nbformat_minor": 5
}
