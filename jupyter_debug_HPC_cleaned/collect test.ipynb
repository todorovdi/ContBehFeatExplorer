{
 "cells": [
  {
   "cell_type": "code",
   "execution_count": null,
   "id": "8be8edcd",
   "metadata": {},
   "outputs": [],
   "source": [
    "%load_ext autoreload\n",
    "%autoreload 2\n",
    "\n",
    "import os, sys, mne, json, h5py, pymatreader, re, time, gc;\n",
    "import globvars as gv\n",
    "import utils\n",
    "import utils_tSNE as utsne\n",
    "import utils_preproc as upre\n",
    "import matplotlib.pyplot as plt\n",
    "import numpy as np\n",
    "import multiprocessing as mpr\n",
    "import matplotlib as mpl\n",
    "import scipy.signal as sig\n",
    "import pandas as pd \n",
    "import utils_postprocess_HPC as postp\n",
    "\n",
    "data_dir = gv.data_dir\n",
    "from os.path import join as pjoin\n",
    "\n",
    "from dateutil import parser\n",
    "from utils_postprocess_HPC import collectCalcResults"
   ]
  },
  {
   "cell_type": "code",
   "execution_count": null,
   "id": "5f5415ae",
   "metadata": {},
   "outputs": [],
   "source": [
    "from utils_postprocess_HPC import collectPerformanceInfo3\n",
    "prefixes_to_collect = ['onlyH_act_only25']\n",
    "\n",
    "start_time = parser.parse(\"20 jan 2023 09:00:00\")\n",
    "#end_time = parser.parse(\"30 Oct 2021 21:21:45\")\n",
    "end_time = parser.parse(\"30 Oct 2029 21:21:45\")\n",
    "\n",
    "sources_type = 'parcel_aal'  # or ''\n",
    "load = False # whether I want to do actual load or just collect filenames (for deferred loading)\n",
    "#groupings_to_collect = ['merge_nothing']; interval_sets_to_collect = ['basic']\n",
    "groupings_to_collect = ['merge_nothing']; isets_to_collect = ['basic']\n",
    "load = False\n",
    "ndaysBefore = None\n",
    "light_only = 1\n",
    "\n",
    "pairs = []\n",
    "pairs += [('covmat_entire','per_subj_per_medcond_best_LFP_wholectx_oversample_LFP256_covmat_entire')]\n",
    "pairs += [('covmat_rest','per_subj_per_medcond_best_LFP_wholectx_oversample_LFP256_covmat_rest')]\n",
    "\n",
    "pptype2res = {}\n",
    "dfs = []\n",
    "for pptype,subdir_cur in pairs:\n",
    "    r = collectPerformanceInfo3('S01_off',prefixes_to_collect,\n",
    "                   interval_groupings=groupings_to_collect,\n",
    "                           interval_sets =  isets_to_collect,\n",
    "             nraws_used='[0-9]+', sources_type = sources_type,\n",
    "            printFilenames=1,\n",
    "             ndays_before=ndaysBefore,\n",
    "             use_main_LFP_chan=1,\n",
    "              subdir=subdir_cur,\n",
    "                remove_large_items = 1,\n",
    "              list_only=0, allow_multi_fn_same_prefix=0,\n",
    "              use_light_files = light_only, rawname_regex_full=0,\n",
    "              start_time=start_time,\n",
    "                end_time=end_time, load=load, ret_df = True)\n",
    "\n",
    "\n",
    "    df, opr, _, _ =r \n",
    "    df['pptype'] = pptype\n",
    "    \n",
    "    dfs += [df]\n",
    "    \n",
    "    pptype2res[pptype]   = df\n",
    "    \n",
    "df_all = pd.concat(dfs)"
   ]
  },
  {
   "cell_type": "code",
   "execution_count": null,
   "id": "a8ad3e6b",
   "metadata": {},
   "outputs": [],
   "source": [
    "from utils_postprocess_HPC import loadSingleRes"
   ]
  },
  {
   "cell_type": "code",
   "execution_count": null,
   "id": "7f9849a3",
   "metadata": {},
   "outputs": [],
   "source": []
  },
  {
   "cell_type": "code",
   "execution_count": null,
   "id": "6fb3d929",
   "metadata": {},
   "outputs": [],
   "source": [
    "def lbd(row):\n",
    "    rowd = dict(row)\n",
    "    r = loadSingleRes(rowd,\n",
    "        use_light_files=1,\n",
    "        lighter_light=0,\n",
    "        remove_large_items=1, in_place = False)\n",
    "    #print(dict(row)  )\n",
    "    row['loaded'] = True\n",
    "    return r\n",
    "\n",
    "\n",
    "df_all['mcf'] = df_all.apply(lbd,1)\n",
    "df_all['loaded'] = True"
   ]
  },
  {
   "cell_type": "code",
   "execution_count": null,
   "id": "5518ba3b",
   "metadata": {},
   "outputs": [],
   "source": []
  },
  {
   "cell_type": "code",
   "execution_count": null,
   "id": "60dc8789",
   "metadata": {},
   "outputs": [],
   "source": [
    "def lbd(row):\n",
    "    bacc= row['mcf']['XGB_analysis_versions']['all_present_features']['perf_dict']['perf_aver']['balanced_accuracy']\n",
    "    return bacc\n",
    "\n",
    "\n",
    "df_all['bacc'] = df_all.apply(lbd,1)\n",
    "\n",
    "\n",
    "df_all"
   ]
  },
  {
   "cell_type": "code",
   "execution_count": null,
   "id": "0023f292",
   "metadata": {},
   "outputs": [],
   "source": [
    "from pathlib import Path\n",
    "p = df['filename_full'].values[0]\n",
    "def lbd(p):\n",
    "    #print(type(p),p)\n",
    "    parent = Path( p ).parts[-2]\n",
    "    fn = str( Path( p ).parts[-1] )\n",
    "    pts = parent.split('_')    \n",
    "    #return '_'.join(pts[-2:])\n",
    "    return fn\n",
    "\n",
    "tmp = df['filename_full'].apply(lbd,1)"
   ]
  },
  {
   "cell_type": "code",
   "execution_count": null,
   "id": "7925217c",
   "metadata": {},
   "outputs": [],
   "source": [
    "tmp.values[:2]"
   ]
  },
  {
   "cell_type": "code",
   "execution_count": null,
   "id": "7a3ae25e",
   "metadata": {},
   "outputs": [],
   "source": []
  }
 ],
 "metadata": {
  "kernelspec": {
   "display_name": "cobd",
   "language": "python",
   "name": "cobd"
  },
  "language_info": {
   "codemirror_mode": {
    "name": "ipython",
    "version": 3
   },
   "file_extension": ".py",
   "mimetype": "text/x-python",
   "name": "python",
   "nbconvert_exporter": "python",
   "pygments_lexer": "ipython3",
   "version": "3.8.15"
  }
 },
 "nbformat": 4,
 "nbformat_minor": 5
}
