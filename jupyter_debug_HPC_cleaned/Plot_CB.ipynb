{
 "cells": [
  {
   "cell_type": "code",
   "execution_count": null,
   "id": "847fb4f3",
   "metadata": {},
   "outputs": [],
   "source": [
    "%load_ext autoreload\n",
    "%autoreload 2\n",
    "\n",
    "import globvars as gv\n",
    "import utils\n",
    "import utils_tSNE as utsne\n",
    "import utils_preproc as upre\n",
    "import utils_postprocess as pp\n",
    "\n",
    "import os\n",
    "import sys\n",
    "import mne\n",
    "import json\n",
    "import matplotlib.pyplot as plt\n",
    "import numpy as np\n",
    "import h5py\n",
    "import multiprocessing as mpr\n",
    "import matplotlib as mpl\n",
    "import time\n",
    "import gc;\n",
    "import scipy.signal as sig\n",
    "import pandas as pd \n",
    "\n",
    "import numpy as np\n",
    "import utils_postprocess_HPC as postp\n",
    "import pymatreader\n",
    "import re\n",
    "\n",
    "from IPython.display import Audio\n",
    "sound_file = '../beep-06.mp3'\n",
    "\n",
    "data_dir = gv.data_dir\n",
    "from os.path import join as pjoin\n",
    "from IPython import get_ipython; ipython = get_ipython()\n",
    "from utils import loadMLFile,loadFeatFile\n",
    "from utils import filterAnnDict\n",
    "from plots import plotFeatsAndRelDat\n",
    "\n",
    "subj='S02'\n",
    "medcond='off'\n",
    "pre_rawname = f'{subj}_{medcond}'\n",
    "subdir0 = 'per_subj_per_medcond_best_LFP'\n",
    "#prefix = 'onlyH_act_only15'\n",
    "prefixes = ['onlyH_act_LFPand_only14', 'onlyH_act_LFPand_only0'] #senosry\n",
    "#fn=f'_!_{subj}_{medcond}_parcel_aal_grp10-0_{prefix}_ML_nr2_7chs_nfeats1_pcadim1_skip32_wsz256_mainLFP__(merge_nothing,basic).npz'\n",
    "#fn=f'_ !_{subj}_{medcond}_parcel_aal_grp10-0_{prefix}_ML_nr2_7chs_nfeats1_pcadim1_skip32_wsz256_mainLFP__(merge_nothing,basic).npz'\n",
    "# fn='_!_S02_off_parcel_aal_grp10-0_onlyH_act_LFPand_only14_ML_nr2_7chs_nfeats2_pcadim2_skip32_wsz256_mainLFP__(merge_nothing,basic).npz'\n",
    "# fntry=pjoin(gv.data_dir,subdir,fn)\n",
    "\n",
    "print(mne.__version__)"
   ]
  },
  {
   "cell_type": "code",
   "execution_count": null,
   "id": "7d64616e",
   "metadata": {},
   "outputs": [],
   "source": [
    "def savedCmd2str(tpl_list):\n",
    "    s = \"%run -i ../run/run_ML.py \"\n",
    "    for opt,arg in tpl_list:\n",
    "        s += f\"{opt} {arg} \"\n",
    "    return s\n",
    "\n",
    "print(newcmdstr)\n",
    "\n"
   ]
  },
  {
   "cell_type": "code",
   "execution_count": null,
   "id": "cf52e51d",
   "metadata": {},
   "outputs": [],
   "source": [
    "for prefix in prefixes:\n",
    "    fntry = loadMLFile(pjoin(gv.data_dir,subdir0), pre_rawname, prefix ) \n",
    "    #fntry = loadFeatFile(pjoin(gv.data_dir,subdir), rawname, prefix ) \n",
    "    f = np.load(fntry, allow_pickle=1)\n",
    "    mcf = f['results_light'][()]\n",
    "\n",
    "    newcmdstr = savedCmd2str(mcf['cmd'][0] + [('--load_only','1')])\n",
    "    ipython.magic(newcmdstr)\n",
    "\n",
    "    featnames_sel = featnames\n",
    "    subj = pre_rawname.split('_')[0]\n",
    "   \n",
    "    anndict_per_intcat_per_rawn_flt = filterAnnDict(anndict_per_intcat_per_rawn)\n",
    "\n",
    "    ww = 20\n",
    "    hh = 5\n",
    "    plotFeatsAndRelDat(rawnames, featnames_sel, None,None,\n",
    "                    X_pri,[featnames]*len(rawnames),rawtimes_pri,Xtimes_pri,\n",
    "                    None, wbd_pri,\n",
    "                    dat_hires_pri=None,\n",
    "                    chnames_all_hires_pri = None,\n",
    "                    times_hires_pri=None,\n",
    "                    anndict_per_intcat_per_rawn=anndict_per_intcat_per_rawn_flt, \n",
    "                       sfreq=sfreq,\n",
    "                      feat_comments=None, ww=ww, hh=hh, legend_loc = 'upper right')\n",
    "\n",
    "    figfname = pjoin(gv.dir_fig,subdir0,f'{subj}_{medcond}_{prefix}_timecourse.pdf') \n",
    "    print('saved to ',figfname)\n",
    "    plt.savefig(figfname)\n",
    "    plt.close()"
   ]
  },
  {
   "cell_type": "code",
   "execution_count": null,
   "id": "b1b99bd7",
   "metadata": {},
   "outputs": [],
   "source": []
  },
  {
   "cell_type": "code",
   "execution_count": null,
   "id": "3db6f9e6",
   "metadata": {},
   "outputs": [],
   "source": [
    "gv.dir_fig, subdir"
   ]
  },
  {
   "cell_type": "code",
   "execution_count": null,
   "id": "edc8cc73",
   "metadata": {},
   "outputs": [],
   "source": []
  }
 ],
 "metadata": {
  "kernelspec": {
   "display_name": "Python 3",
   "language": "python",
   "name": "python3"
  },
  "language_info": {
   "codemirror_mode": {
    "name": "ipython",
    "version": 3
   },
   "file_extension": ".py",
   "mimetype": "text/x-python",
   "name": "python",
   "nbconvert_exporter": "python",
   "pygments_lexer": "ipython3",
   "version": "3.9.6"
  }
 },
 "nbformat": 4,
 "nbformat_minor": 5
}
