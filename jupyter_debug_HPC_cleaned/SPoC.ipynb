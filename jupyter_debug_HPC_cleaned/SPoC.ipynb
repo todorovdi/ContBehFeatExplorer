{
 "cells": [
  {
   "cell_type": "code",
   "execution_count": null,
   "metadata": {},
   "outputs": [],
   "source": [
    "import os,sys\n",
    "import mne\n",
    "import utils  #my code\n",
    "import json\n",
    "import matplotlib.pyplot as plt\n",
    "import numpy as np\n",
    "import utils\n",
    "import globvars as gv\n",
    "%load_ext autoreload\n",
    "%autoreload 2\n",
    "\n",
    "if os.environ.get('DATA_DUSS') is not None:\n",
    "    data_dir = os.path.expandvars('$DATA_DUSS')\n",
    "else:\n",
    "    data_dir = '/home/demitau/data'\n",
    "    \n",
    "\n",
    "\n",
    "rawname_ = 'S01_off_hold'\n",
    "rawname_ = 'S01_off_move'\n",
    "rawname_ = 'S01_on_hold'\n",
    "rawname_ = 'S01_on_move'\n",
    "\n",
    "#rawname_ = 'S02_off_hold'\n",
    "rawname_ = 'S02_off_move'  \n",
    "#rawname_ = 'S02_on_hold' \n",
    "#rawname_ = 'S02_on_move'\n",
    "\n",
    "#rawname_ = 'S03_off_move'  \n",
    "#rawname_ = 'S03_off_hold'  \n",
    "\n",
    "#rawname = rawname_ + '_resample_raw.fif'\n",
    "rawname = rawname_ + '_resample_afterICA_raw.fif'\n",
    "fname_full = os.path.join(data_dir,rawname)\n",
    "    \n",
    "\n",
    "from mne.decoding import SPoC\n",
    "from sklearn.pipeline import make_pipeline\n",
    "from sklearn.linear_model import Ridge\n",
    "from sklearn.model_selection import KFold, cross_val_predict\n",
    "\n",
    "from mne import Epochs"
   ]
  },
  {
   "cell_type": "code",
   "execution_count": null,
   "metadata": {},
   "outputs": [],
   "source": [
    "# read file -- resampled to 256 Hz,  Electa MEG, EMG, LFP, EOG channels\n",
    "raw = mne.io.read_raw_fif(fname_full, None)\n",
    "\n",
    "rectconv_fname_full = os.path.join(gv.data_dir, '{}_emg_rectconv.fif'.format(rawname_) )\n",
    "rectconvraw  = mne.io.read_raw_fif(rectconv_fname_full)\n",
    "\n",
    "anns_fn = rawname_ + '_anns.txt'\n",
    "anns_fn_full = os.path.join(data_dir, anns_fn)\n",
    "anns = mne.read_annotations(anns_fn_full)\n",
    "\n",
    "rectconvraw.set_annotations(anns)\n",
    "\n",
    "anns_MEGartif_fn = rawname_ + '_ann_MEGartif.txt'\n",
    "anns_MEGartif_fn_full = os.path.join(data_dir, anns_MEGartif_fn)\n",
    "anns_MEGartif = mne.read_annotations(anns_MEGartif_fn_full)\n",
    "\n",
    "rectconvraw.annotations.append(anns_MEGartif.onset, anns_MEGartif.duration, anns_MEGartif.description)\n",
    "\n",
    "subj,medcond,task  = utils.getParamsFromRawname(rawname_)\n",
    "sind_str = subj\n",
    "with open('subj_info.json') as info_json:\n",
    "        #raise TypeError\n",
    "\n",
    "    #json.dumps({'value': numpy.int64(42)}, default=convert)\n",
    "    gen_subj_info = json.load(info_json)\n",
    "maintremside = gen_subj_info[subj]['tremor_side']"
   ]
  },
  {
   "cell_type": "code",
   "execution_count": null,
   "metadata": {},
   "outputs": [],
   "source": [
    "sometrem = 0\n",
    "for ann_descr in anns.description:\n",
    "    if ann_descr.startswith('trem_{}'.format(maintremside[0].upper())):\n",
    "        sometrem = 1\n",
    "assert sometrem"
   ]
  },
  {
   "cell_type": "code",
   "execution_count": null,
   "metadata": {},
   "outputs": [],
   "source": [
    "\n",
    "print(maintremside)\n",
    "#emg_ps = utils.getEMGperHand(rectconvraw)\n",
    "emg_rot_ps = utils.getMainEMGcomp(rectconvraw)\n",
    "emg = emg_rot_ps[maintremside]\n",
    "\n",
    "megraw = raw.copy()\n",
    "megraw.load_data()\n",
    "megraw.pick_types(meg=True)"
   ]
  },
  {
   "cell_type": "code",
   "execution_count": null,
   "metadata": {},
   "outputs": [],
   "source": [
    "task_start = utils.findTaskStart(raw.annotations)\n",
    "task_offset = 5 # in sec\n",
    "print( task_start - task_offset )\n",
    "megraw.crop(tmin=0, tmax = task_start - task_offset)\n",
    "emg.crop(tmin = 0, tmax = task_start - task_offset)\n",
    "\n",
    "print( rawname_ )\n",
    "\n",
    "%matplotlib qt\n",
    "emg.plot(scalings={'eeg':'auto'});\n",
    "\n"
   ]
  },
  {
   "cell_type": "code",
   "execution_count": null,
   "metadata": {
    "run_control": {
     "marked": false
    }
   },
   "outputs": [],
   "source": [
    "megraw.set_annotations(emg.annotations)\n",
    "\n",
    "#emg.set_annotations(megraw.annotations)\n",
    "\n",
    "print( megraw.info['bads'], emg.info['bads'] )\n",
    "print(megraw.annotations, emg.annotations)\n",
    "\n",
    "assert 0 == len(emg.times) - len(megraw.times)\n",
    "\n",
    "print( megraw.info['bads'] )"
   ]
  },
  {
   "cell_type": "code",
   "execution_count": null,
   "metadata": {},
   "outputs": [],
   "source": [
    "help(SPoC)\n",
    "help(cross_val_predict)"
   ]
  },
  {
   "cell_type": "code",
   "execution_count": null,
   "metadata": {},
   "outputs": [],
   "source": [
    "import scipy"
   ]
  },
  {
   "cell_type": "code",
   "execution_count": null,
   "metadata": {},
   "outputs": [],
   "source": [
    "# fband_to_use = 'tremor'\n",
    "# fband_to_use = 'beta'\n",
    "# fband_to_use = 'gamma'\n",
    "\n",
    "N = 2\n",
    "N_crossval = 2\n",
    "for fband_to_use in ['tremor', 'beta', 'gamma']:\n",
    "#for fband_to_use in ['gamma']:\n",
    "    fb = gv.fbands[fband_to_use]\n",
    "    megraw_flt = megraw.copy().filter(l_freq=fb[0], h_freq=fb[1])\n",
    "\n",
    "    evt_dur_s = 1. # orig 0.25\n",
    "    epoch_dur_s = 2   # orig 1.5\n",
    "    decim = 1\n",
    "\n",
    "    # Build epochs as sliding windows over the continuous raw file\n",
    "    events = mne.make_fixed_length_events(megraw, id=1, duration=evt_dur_s)\n",
    "\n",
    "    # Epoch length is 1.5 second\n",
    "    meg_epochs = Epochs(megraw_flt, events, tmin=0., tmax=epoch_dur_s, baseline=None,\n",
    "                        detrend=1, decim=decim)\n",
    "    emg_epochs = Epochs(emg, events, tmin=0., tmax=epoch_dur_s, baseline=None)\n",
    "\n",
    "    # Prepare classification\n",
    "    #rr = meg_epochs._get_data(verbose=None)\n",
    "\n",
    "    X = meg_epochs.get_data()\n",
    "    y = emg_epochs.get_data().var(axis=2)[:, 0]  # target is EMG power\n",
    "    import gc; gc.collect()\n",
    "\n",
    "\n",
    "    # Classification pipeline with SPoC spatial filtering and Ridge Regression\n",
    "    spoc = SPoC(n_components=N, log=True, reg='oas', rank='full')\n",
    "    clf = make_pipeline(spoc, Ridge())\n",
    "    # Define a two fold cross-validation\n",
    "    cv = KFold(n_splits=N_crossval, shuffle=False)\n",
    "\n",
    "    try:\n",
    "        # Run cross validaton\n",
    "        y_preds = cross_val_predict(clf, X, y, cv=cv, n_jobs = 10)\n",
    "    except scipy.linalg.LinAlgError as e:\n",
    "        print(str(e))\n",
    "        continue\n",
    "\n",
    "    # Plot the True EMG power and the EMG power predicted from MEG data\n",
    "\n",
    "    fig, ax = plt.subplots(1, 1, figsize=[10, 4])\n",
    "    times = megraw.times[meg_epochs.events[:, 0] - megraw.first_samp]\n",
    "\n",
    "    ax.plot(times, y_preds, color='b', label='Predicted EMG')\n",
    "    ax.plot(times, y, color='r', label='True EMG')\n",
    "    ax.set_xlabel('Time (s)')\n",
    "    ax.set_ylabel('EMG Power')\n",
    "    ax.set_title('SPoC MEG Predictions band={}'.format(fband_to_use))\n",
    "    plt.legend()\n",
    "    mne.viz.tight_layout()\n",
    "    plt.show()\n",
    "\n",
    "    figname = '{}_SPoC_{}.pdf'.format(rawname_,fband_to_use)\n",
    "    plt.savefig(os.path.join(gv.dir_fig,figname) )\n",
    "    plt.close()\n",
    "\n",
    "    spoc.fit(X, y)\n",
    "    spoc.plot_patterns(meg_epochs.info);\n",
    "\n",
    "    figname = '{}_SPoC_patterns_{}.pdf'.format(rawname_,fband_to_use)\n",
    "    plt.savefig(os.path.join(gv.dir_fig,figname) )\n",
    "    plt.close()"
   ]
  },
  {
   "cell_type": "code",
   "execution_count": null,
   "metadata": {},
   "outputs": [],
   "source": []
  },
  {
   "cell_type": "code",
   "execution_count": null,
   "metadata": {},
   "outputs": [],
   "source": []
  }
 ],
 "metadata": {
  "kernelspec": {
   "display_name": "Python 3",
   "language": "python",
   "name": "python3"
  },
  "language_info": {
   "codemirror_mode": {
    "name": "ipython",
    "version": 3
   },
   "file_extension": ".py",
   "mimetype": "text/x-python",
   "name": "python",
   "nbconvert_exporter": "python",
   "pygments_lexer": "ipython3",
   "version": "3.6.9"
  },
  "varInspector": {
   "cols": {
    "lenName": 16,
    "lenType": 16,
    "lenVar": 40
   },
   "kernels_config": {
    "python": {
     "delete_cmd_postfix": "",
     "delete_cmd_prefix": "del ",
     "library": "var_list.py",
     "varRefreshCmd": "print(var_dic_list())"
    },
    "r": {
     "delete_cmd_postfix": ") ",
     "delete_cmd_prefix": "rm(",
     "library": "var_list.r",
     "varRefreshCmd": "cat(var_dic_list()) "
    }
   },
   "types_to_exclude": [
    "module",
    "function",
    "builtin_function_or_method",
    "instance",
    "_Feature"
   ],
   "window_display": false
  }
 },
 "nbformat": 4,
 "nbformat_minor": 2
}
