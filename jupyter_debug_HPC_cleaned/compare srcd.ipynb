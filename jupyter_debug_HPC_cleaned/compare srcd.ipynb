{
 "cells": [
  {
   "cell_type": "code",
   "execution_count": null,
   "id": "c2c7cee3",
   "metadata": {},
   "outputs": [],
   "source": [
    "%load_ext autoreload\n",
    "%autoreload 2\n",
    "import os,sys, mne\n",
    "\n",
    "rn = 'S01_off_hold'\n",
    "pptypes = ['covmat_entire', 'covmat_rest']\n",
    "ppt2raw = {}\n",
    "for pptype in pptypes:\n",
    "    fn = f'/p/project/icei-hbp-2020-0012/OSCBAGDIS/data_duss/hipass_{pptype}/pcica_srcd_{rn}_parcel_aal_surf_grp10.fif'\n",
    "    raw = mne.io.read_raw(fn)\n",
    "    #f = np.load(fn, allow_pickle = 1)\n",
    "    ppt2raw[pptype] = raw"
   ]
  },
  {
   "cell_type": "code",
   "execution_count": null,
   "id": "c8de971c",
   "metadata": {},
   "outputs": [],
   "source": [
    "for ppt,raw in ppt2raw.items():\n",
    "    dat, times = raw['msrcL_0_1_c0']\n",
    "    print(ppt,dat[0,0:3])"
   ]
  }
 ],
 "metadata": {
  "kernelspec": {
   "display_name": "cobd",
   "language": "python",
   "name": "cobd"
  },
  "language_info": {
   "codemirror_mode": {
    "name": "ipython",
    "version": 3
   },
   "file_extension": ".py",
   "mimetype": "text/x-python",
   "name": "python",
   "nbconvert_exporter": "python",
   "pygments_lexer": "ipython3",
   "version": "3.8.15"
  }
 },
 "nbformat": 4,
 "nbformat_minor": 5
}
