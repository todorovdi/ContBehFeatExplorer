{
 "cells": [
  {
   "cell_type": "code",
   "execution_count": null,
   "metadata": {},
   "outputs": [],
   "source": [
    "import pywt\n",
    "import numpy as np\n",
    "import matplotlib.pyplot as plt"
   ]
  },
  {
   "cell_type": "code",
   "execution_count": null,
   "metadata": {},
   "outputs": [],
   "source": [
    "base = 5\n",
    "spec_wavelet = \"cmor1-1.5\"\n",
    "#spec_wavelet = \"cmor1.5-1.5\"\n",
    "\n",
    "spec_cwtscales = 2 + (np.logspace(0.0, 1, 25,base=base) - 1 ) * 400/base; ttl = 'log {} spacing of scales'.format(base);\n",
    "spec_cwtscales = np.arange(1,400,0.5); ttl = 'unif spacing of scales'\n",
    "freqs = pywt.scale2frequency(spec_wavelet, spec_cwtscales) * 256\n",
    "\n",
    "fig, axs = plt.subplots(nrows=2,ncols=1,figsize=(15,5))\n",
    "\n",
    "ax = axs[0]\n",
    "ax.plot(spec_cwtscales, freqs)\n",
    "ax.set_title( ttl)\n",
    "#freqs\n",
    "ax = axs[1]\n",
    "ax.plot(freqs, np.ones(len(freqs)), lw=0, marker='*')"
   ]
  },
  {
   "cell_type": "code",
   "execution_count": null,
   "metadata": {},
   "outputs": [],
   "source": [
    "base = 120\n",
    "spec_cwtscales = 2 + (np.logspace(0.0, 1, 25,base=base) - 1 ) * 400/base; ttl = 'log {} spacing of scales'.format(base);\n",
    "#spec_cwtscales = np.arange(1,400,0.5); ttl = 'unif spacing of scales'\n",
    "freqs = pywt.scale2frequency(spec_wavelet, spec_cwtscales) * 256\n",
    "\n",
    "fig, axs = plt.subplots(nrows=2,ncols=1,figsize=(15,5))\n",
    "\n",
    "ax = axs[0]\n",
    "ax.plot(spec_cwtscales, freqs)\n",
    "ax.set_title( ttl)\n",
    "#freqs\n",
    "ax = axs[1]\n",
    "ax.plot(freqs, np.ones(len(freqs)), lw=0, marker='*')"
   ]
  },
  {
   "cell_type": "code",
   "execution_count": null,
   "metadata": {},
   "outputs": [],
   "source": [
    "maxscale = 20450\n",
    "maxscale = 14400\n",
    "maxscale = 1800\n",
    "minscale = 7\n",
    "N = 25\n",
    "pw = 3.5  # higher values -- larger density on the right for freq\n",
    "xs = np.arange(1, N) / N\n",
    "s = np.exp(xs) \n",
    "s = np.power(xs, pw)\n",
    "s -= np.min(s)\n",
    "s *= N\n",
    "smax = np.max(s)\n",
    "spec_cwtscales = minscale + ( s/smax ) * maxscale/base; ttl = 'log {} spacing of scales'.format(base);\n",
    "freqs = pywt.scale2frequency(spec_wavelet, spec_cwtscales) * 256\n",
    "\n",
    "fig, axs = plt.subplots(nrows=3,ncols=1,figsize=(15,8))\n",
    "\n",
    "ax = axs[0]\n",
    "ax.plot(spec_cwtscales, np.ones(len(spec_cwtscales)), lw=0, marker='*')\n",
    "ax.set_title( ttl)\n",
    "ax.set_xlabel('scales')\n",
    "\n",
    "ax = axs[1]\n",
    "ax.plot(spec_cwtscales, freqs)\n",
    "ax.set_title( ttl)\n",
    "ax.set_ylabel('freqs')\n",
    "ax.set_xlabel('scales')\n",
    "#freqs\n",
    "ax = axs[2]\n",
    "ax.plot(freqs, np.ones(len(freqs)), lw=0, marker='*')\n",
    "ax.set_title('freqs')\n",
    "plt.tight_layout()\n",
    "\n",
    "print(np.min(freqs))"
   ]
  },
  {
   "cell_type": "code",
   "execution_count": null,
   "metadata": {},
   "outputs": [],
   "source": [
    "freqs"
   ]
  },
  {
   "cell_type": "code",
   "execution_count": null,
   "metadata": {},
   "outputs": [],
   "source": [
    "np.logspace(0.0, 1, 25,base=base) - 1 "
   ]
  },
  {
   "cell_type": "code",
   "execution_count": null,
   "metadata": {},
   "outputs": [],
   "source": [
    "help(np.logspace)"
   ]
  },
  {
   "cell_type": "code",
   "execution_count": null,
   "metadata": {},
   "outputs": [],
   "source": [
    "scales = np.logspace(1.1, 150, num=100, dtype=np.int32)"
   ]
  },
  {
   "cell_type": "code",
   "execution_count": null,
   "metadata": {},
   "outputs": [],
   "source": [
    "scales"
   ]
  },
  {
   "cell_type": "code",
   "execution_count": null,
   "metadata": {},
   "outputs": [],
   "source": [
    "xs"
   ]
  },
  {
   "cell_type": "code",
   "execution_count": null,
   "metadata": {},
   "outputs": [],
   "source": [
    "np.max(   np.sin(2*np.pi * 5 * xs) )"
   ]
  },
  {
   "cell_type": "code",
   "execution_count": null,
   "metadata": {},
   "outputs": [],
   "source": [
    "%matplotlib inline\n",
    "#data = nino3.values.squeeze()\n",
    "n = 100\n",
    "dt = 1/256\n",
    "xs = np.arange(0,n,dt)\n",
    "#xs = np.arange(n)\n",
    "noisescale = 0.1 \n",
    "noise = np.random.uniform( size =len(xs), low=-1, high=1) * noisescale\n",
    "a1 = 1;    f1 = 1./20;  \n",
    "a2 = 0.6;  f2 = 1/60\n",
    "\n",
    "a1 = 0.8; f1 = 4.7\n",
    "a2 = 0.3; f2 = 31\n",
    "\n",
    "data = a1 * np.sin(2*np.pi * f1 * xs) + a2 * np.sin(2*np.pi * f2 * xs) + noise\n",
    "N = data.size; print(\"Nb of samples of data:\", N)\n",
    "\n",
    "import scaleogram as scg\n",
    "fig, (ax1, ax2) = plt.subplots(2, 1, figsize=(14, 6))\n",
    "fig.subplots_adjust(hspace=0.3)\n",
    "ax1.plot(xs, data); ax1.set_xlim(0, n)\n",
    "#scales = np.logspace(1.2, 3.1, num=200, dtype=np.int32)\n",
    "#scales = np.logspace(1.1, 150, num=100, dtype=np.int32)\n",
    "scales = np.arange(1,max(f1,f2)*2)  # how do we scale time in the argument of mother wavelet\n",
    "\n",
    "freqs = np.arange(0.01, 20, 0.1)\n",
    "pers = 1/freqs\n",
    "scales = scg.periods2scales( pers )\n",
    "scales = np.arange(1,60,0.5)\n",
    "\n",
    "#scales = np.arange(15,600, 4)\n",
    "ax = scg.cws(xs, data, figsize=(12,6), scales=scales,\n",
    "             ylabel=\"Period\", xlabel='Time',ax=ax2)\n",
    "#ax = scg.cws(year, data, scales, figsize=(12,6), ylabel=\"Period\", xlabel='Year', yscale='log')\n",
    "#ticks = ax.set_yticks([2,4,8, 16,32])\n",
    "#ticks = ax.set_yticklabels([2,4,8, 16,32])"
   ]
  },
  {
   "cell_type": "code",
   "execution_count": null,
   "metadata": {},
   "outputs": [],
   "source": [
    "help(scg.cws)"
   ]
  },
  {
   "cell_type": "code",
   "execution_count": null,
   "metadata": {},
   "outputs": [],
   "source": [
    "np.mean(data)"
   ]
  },
  {
   "cell_type": "code",
   "execution_count": null,
   "metadata": {},
   "outputs": [],
   "source": [
    "noise"
   ]
  },
  {
   "cell_type": "code",
   "execution_count": null,
   "metadata": {},
   "outputs": [],
   "source": [
    "help(scg.cws)"
   ]
  },
  {
   "cell_type": "code",
   "execution_count": null,
   "metadata": {},
   "outputs": [],
   "source": [
    "pywt.wavelist(kind='continuous')"
   ]
  },
  {
   "cell_type": "code",
   "execution_count": null,
   "metadata": {},
   "outputs": [],
   "source": [
    "freqs = np.arange(1,10)\n",
    "pers = 1/freqs\n",
    "scales = scg.periods2scales( pers )\n",
    "print(scales)\n",
    "import matplotlib.colors as colors"
   ]
  },
  {
   "cell_type": "code",
   "execution_count": null,
   "metadata": {},
   "outputs": [],
   "source": []
  },
  {
   "cell_type": "code",
   "execution_count": null,
   "metadata": {},
   "outputs": [],
   "source": [
    "dt"
   ]
  },
  {
   "cell_type": "code",
   "execution_count": null,
   "metadata": {},
   "outputs": [],
   "source": [
    "scales = np.arange(2, 90, 0.5)\n",
    "\n",
    "plt.figure(figsize=(12,5))\n",
    "cwtmatr, freqs = pywt.cwt(data, scales , \"cmor1-1\", sampling_period = dt)\n",
    "\n",
    "a = np.abs(cwtmatr)\n",
    "im2 = plt.pcolormesh(xs, freqs, a , cmap = \"inferno\" , \n",
    "                     norm = colors.LogNorm(vmin=a.min(), vmax=a.max()))  \n",
    "plt.ylim(0,max(f1,f2)*1.3)\n",
    "plt.xlim(0,6)"
   ]
  },
  {
   "cell_type": "code",
   "execution_count": null,
   "metadata": {},
   "outputs": [],
   "source": [
    "freqs"
   ]
  },
  {
   "cell_type": "code",
   "execution_count": null,
   "metadata": {},
   "outputs": [],
   "source": [
    "scales = np.arange(8, 180, 3)\n",
    "\n",
    "plt.figure(figsize=(12,5))\n",
    "cwtmatr, freqs = pywt.cwt(data, scales , \"cmor1-1.5\", sampling_period = dt)\n",
    "print(min(freqs),max(freqs))\n",
    "\n",
    "\n",
    "a = np.abs(cwtmatr)\n",
    "im2 = plt.pcolormesh(xs, freqs, a , cmap = \"inferno\" , \n",
    "                     norm = colors.LogNorm(vmin=a.min(), vmax=a.max()))  \n",
    "plt.ylim(0,max(f1,f2)*1.3)"
   ]
  },
  {
   "cell_type": "code",
   "execution_count": null,
   "metadata": {},
   "outputs": [],
   "source": [
    "print(min(freqs),max(freqs))"
   ]
  },
  {
   "cell_type": "code",
   "execution_count": null,
   "metadata": {},
   "outputs": [],
   "source": [
    "cwtmatr.shape  # has shape len(scales) x time"
   ]
  },
  {
   "cell_type": "code",
   "execution_count": null,
   "metadata": {},
   "outputs": [],
   "source": [
    "int_psi"
   ]
  },
  {
   "cell_type": "code",
   "execution_count": null,
   "metadata": {},
   "outputs": [],
   "source": [
    "int_psi"
   ]
  },
  {
   "cell_type": "code",
   "execution_count": null,
   "metadata": {},
   "outputs": [],
   "source": [
    "wav = pywt.ContinuousWavelet('cmor1.5-1.0')\n",
    "wav = pywt.ContinuousWavelet('cmor1-0.5')\n",
    "wav = pywt.ContinuousWavelet('cmor1-1')\n",
    "wav = pywt.ContinuousWavelet('cmor1-2')\n",
    "wav = pywt.ContinuousWavelet('cmor1-1')\n",
    "#wav = pywt.ContinuousWavelet('cmor0.5-1.0')  #first is width, second is number of cycles\n",
    "int_psi, x = pywt.integrate_wavelet(wav, precision=10)\n",
    "int_psi /= np.abs(int_psi).max()\n",
    "\n",
    "width = wav.upper_bound - wav.lower_bound\n",
    "\n",
    "scale = scales[3]\n",
    "print(scale)\n",
    "step = x[1] - x[0]\n",
    "j = np.floor(\n",
    "    np.arange(scale * width + 1) / (scale * step))\n",
    "if np.max(j) >= np.size(int_psi):\n",
    "    j = np.delete(j, np.where((j >= np.size(int_psi)))[0])\n",
    "j = j.astype(np.int)\n",
    "\n",
    "filt = int_psi[j] [::-1]\n",
    "nt = len(filt)\n",
    "t = np.linspace(-nt//2, nt//2, nt) * dt\n",
    "\n",
    "fig,axs = plt.subplots(nrows=2,ncols=1)\n",
    "\n",
    "ax = axs[0]\n",
    "ax.plot(t, filt.real, t, filt.imag)\n",
    "\n",
    "\n",
    "max_len = int(np.max(scales)*width + 1)\n",
    "f = np.linspace(-np.pi, np.pi, max_len)\n",
    "filt_fft = np.fft.fftshift(np.fft.fft(filt, n=max_len))\n",
    "filt_fft /= np.abs(filt_fft).max()\n",
    "ax = axs[1]\n",
    "ax.plot(f, np.abs(filt_fft)**2)\n",
    "ax.set_xlim([-np.pi, np.pi])"
   ]
  },
  {
   "cell_type": "code",
   "execution_count": null,
   "metadata": {},
   "outputs": [],
   "source": [
    "j"
   ]
  },
  {
   "cell_type": "code",
   "execution_count": null,
   "metadata": {},
   "outputs": [],
   "source": [
    "help(pywt.cwt)"
   ]
  },
  {
   "cell_type": "code",
   "execution_count": null,
   "metadata": {},
   "outputs": [],
   "source": [
    "f1,f2"
   ]
  },
  {
   "cell_type": "markdown",
   "metadata": {},
   "source": [
    "For the cmor, fbsp and shan wavelets, the user can specify a specific a normalized center frequency. A value of 1.0 corresponds to 1/dt where dt is the sampling period. In other words, when analyzing a signal sampled at 100 Hz, a center frequency of 1.0 corresponds to ~100 Hz at scale = 1. This is above the Nyquist rate of 50 Hz, so for this particular wavelet, one would analyze a signal using scales >= 2."
   ]
  },
  {
   "cell_type": "code",
   "execution_count": null,
   "metadata": {},
   "outputs": [],
   "source": [
    "freqs"
   ]
  },
  {
   "cell_type": "code",
   "execution_count": null,
   "metadata": {},
   "outputs": [],
   "source": [
    "scales"
   ]
  },
  {
   "cell_type": "code",
   "execution_count": null,
   "metadata": {},
   "outputs": [],
   "source": [
    "frequencies = pywt.scale2frequency('cmor1.5-2', scales) / dt\n",
    "plt.plot(frequencies)\n",
    "frequencies"
   ]
  },
  {
   "cell_type": "code",
   "execution_count": null,
   "metadata": {},
   "outputs": [],
   "source": [
    "cwtmatr, freqs = pywt.cwt(data, np.arange(1,200,1) , \"cmor1-1.5\", sampling_period = dt)\n",
    "im2 = plt.pcolormesh(xs, freqs, np.abs(cwtmatr), cmap = \"inferno\" )  \n",
    "plt.ylim(0,80)"
   ]
  },
  {
   "cell_type": "code",
   "execution_count": null,
   "metadata": {},
   "outputs": [],
   "source": [
    "freqs"
   ]
  },
  {
   "cell_type": "code",
   "execution_count": null,
   "metadata": {},
   "outputs": [],
   "source": [
    "help(pywt.cwt)"
   ]
  },
  {
   "cell_type": "code",
   "execution_count": null,
   "metadata": {},
   "outputs": [],
   "source": [
    "help(wfun)"
   ]
  },
  {
   "cell_type": "code",
   "execution_count": null,
   "metadata": {},
   "outputs": [],
   "source": [
    "noise"
   ]
  },
  {
   "cell_type": "code",
   "execution_count": null,
   "metadata": {},
   "outputs": [],
   "source": [
    "%matplotlib qt"
   ]
  },
  {
   "cell_type": "markdown",
   "metadata": {},
   "source": [
    "\n",
    "Phase-Amplitude Coupling (PAC)  object\n",
    "======================================\n",
    "\n",
    "The PAC measure the degree of coupling between the phase of slow oscillations\n",
    "and the amplitude of fatser oscillations. To compute PAC, you'll need to\n",
    "install the tensorpac package (see https://github.com/EtienneCmb/tensorpac).\n",
    "\n",
    "The PacmapObj can be use to visualize three things :\n",
    "\n",
    "    * The comodulogram of amplitude frequencies as a function of low frequency\n",
    "      phase.\n",
    "    * The evolution of coupling across time for several frequency phase\n",
    "    * The evolution of coupling across time for several frequency amplitude\n",
    "\n"
   ]
  },
  {
   "cell_type": "code",
   "execution_count": null,
   "metadata": {},
   "outputs": [],
   "source": [
    "import numpy as np\n",
    "\n",
    "from tensorpac.signals import pac_signals_wavelet\n",
    "\n",
    "from visbrain.objects import PacmapObj, SceneObj\n",
    "\n",
    "\"\"\"Generate artificillly coupled signals :\n",
    "- First coupling between 10hz phase with a 80hz amplitude\n",
    "- Second coupling between 5hz phase with a 100hz amplitude\n",
    "\n",
    "The final signal is the concatenation of both\n",
    "\"\"\"\n",
    "sf = 1024.\n",
    "s_1 = pac_signals_wavelet(sf=sf, f_pha=10., f_amp=80., n_epochs=1,\n",
    "                          n_times=5000)[0]\n",
    "s_2 = pac_signals_wavelet(sf=sf, f_pha=5., f_amp=100., n_epochs=1,\n",
    "                          n_times=5000)[0]\n",
    "sig = np.c_[s_1, s_2]\n",
    "\n",
    "sc = SceneObj(size=(1200, 600))\n",
    "\n",
    "print(\"\"\"\n",
    "# =============================================================================\n",
    "#                              Comodulogram\n",
    "# =============================================================================\n",
    "\"\"\")\n",
    "pac_obj_como = PacmapObj('como', sig, sf=sf, f_pha=(2, 30, 1, .5),\n",
    "                         f_amp=(60, 150, 10, 1), interpolation='bicubic')\n",
    "sc.add_to_subplot(pac_obj_como, row=0, col=0, zoom=.9, title='Comodulogram')\n",
    "\n",
    "print(\"\"\"\n",
    "# =============================================================================\n",
    "#                         Optimal phase frequency\n",
    "# =============================================================================\n",
    "\"\"\")\n",
    "pac_pha_como = PacmapObj('como', sig, sf=sf, f_pha=(2, 30, 1, .5),\n",
    "                         f_amp=[70., 110.], n_window=500, cmap='plasma')\n",
    "sc.add_to_subplot(pac_pha_como, row=0, col=1, zoom=.9,\n",
    "                  title='Optimal phase frequency')\n",
    "\n",
    "print(\"\"\"\n",
    "# =============================================================================\n",
    "#                         Optimal amplitude frequency\n",
    "# =============================================================================\n",
    "\"\"\")\n",
    "pac_amp_como = PacmapObj('como', sig, sf=sf, f_pha=[2, 20],\n",
    "                         f_amp=(60, 150, 10, 1), n_window=500, cmap='inferno')\n",
    "sc.add_to_subplot(pac_amp_como, row=0, col=2, zoom=.9,\n",
    "                  title='Optimal amplitude frequency')\n",
    "sc.preview()"
   ]
  },
  {
   "cell_type": "code",
   "execution_count": null,
   "metadata": {},
   "outputs": [],
   "source": [
    "coords"
   ]
  },
  {
   "cell_type": "code",
   "execution_count": null,
   "metadata": {},
   "outputs": [],
   "source": [
    "from tensorpac.signals"
   ]
  },
  {
   "cell_type": "code",
   "execution_count": null,
   "metadata": {},
   "outputs": [],
   "source": [
    "import tensorpac"
   ]
  },
  {
   "cell_type": "code",
   "execution_count": null,
   "metadata": {},
   "outputs": [],
   "source": [
    "help(tensorpac.pac)"
   ]
  },
  {
   "cell_type": "code",
   "execution_count": null,
   "metadata": {},
   "outputs": [],
   "source": [
    "from tensorpac import Pac\n",
    "from tensorpac.signals import pac_signals_tort\n",
    "\n",
    "# Dataset of signals artificially coupled between 10hz and 100hz :\n",
    "n_epochs = 20\n",
    "n_times = 4000\n",
    "sf = 512.  # sampling frequency\n",
    "\n",
    "# Create artificially coupled signals using Tort method :\n",
    "data, time = pac_signals_tort(f_pha=10, f_amp=100, noise=2, n_epochs=n_epochs,\n",
    "                              dpha=10, damp=10, sf=sf, n_times=n_times)\n",
    "\n",
    "# Define a PAC object :   \n",
    "#freqs:  f_pha = (start, stop_ width, step)\n",
    "p = Pac(idpac=(6, 0, 0), f_pha=(2, 20, 1, 1), f_amp=(60, 150, 5, 5))\n",
    "# Filter the data and extract PAC :\n",
    "xpac = p.filterfit(sf, data)\n",
    "\n",
    "# Plot your Phase-Amplitude Coupling :\n",
    "p.comodulogram(xpac.mean(-1), title='Contour plot with 5 regions',\n",
    "               cmap='Spectral_r', plotas='contour', ncontours=5)\n",
    "\n",
    "p.show()"
   ]
  },
  {
   "cell_type": "code",
   "execution_count": null,
   "metadata": {},
   "outputs": [],
   "source": [
    "data.shape"
   ]
  },
  {
   "cell_type": "code",
   "execution_count": null,
   "metadata": {},
   "outputs": [],
   "source": []
  }
 ],
 "metadata": {
  "kernelspec": {
   "display_name": "Python 3",
   "language": "python",
   "name": "python3"
  },
  "language_info": {
   "codemirror_mode": {
    "name": "ipython",
    "version": 3
   },
   "file_extension": ".py",
   "mimetype": "text/x-python",
   "name": "python",
   "nbconvert_exporter": "python",
   "pygments_lexer": "ipython3",
   "version": "3.6.9"
  }
 },
 "nbformat": 4,
 "nbformat_minor": 1
}
