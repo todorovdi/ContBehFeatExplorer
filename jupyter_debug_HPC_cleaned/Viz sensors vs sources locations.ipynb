{
 "cells": [
  {
   "cell_type": "code",
   "execution_count": null,
   "metadata": {
    "run_control": {
     "marked": false
    }
   },
   "outputs": [],
   "source": [
    "%load_ext autoreload\n",
    "%autoreload 2\n",
    "\n",
    "import os,sys\n",
    "import mne\n",
    "import utils  #my code\n",
    "import json\n",
    "import matplotlib.pyplot as plt\n",
    "import numpy as np\n",
    "import utils_preproc as upre\n",
    "\n",
    "\n",
    "\n",
    "\n",
    "#rawname_ = 'S01_off_hold'\n",
    "rawname_ = 'S01_off_move'\n",
    "#rawname_ = 'S01_on_hold'\n",
    "#rawname_ = 'S01_on_move'\n",
    "\n",
    "#rawname_ = 'S02_off_hold'\n",
    "#rawname_ = 'S02_on_hold' \n",
    "#rawname_ = 'S02_off_move'  \n",
    "#rawname_ = 'S02_on_move'\n",
    "\n",
    "#rawname_ = 'S03_off_move'  \n",
    "#rawname_ = 'S03_off_hold'  \n",
    "\n",
    "#rawname_ = 'S04_off_hold'\n",
    "#rawname_ = 'S04_off_move'\n",
    "#rawname_ = 'S04_on_hold'\n",
    "#rawname_ = 'S04_on_move'\n",
    "\n",
    "#rawname_ = 'S05_off_hold'\n",
    "#rawname_ = 'S05_off_move'\n",
    "#rawname_ = 'S05_on_hold'\n",
    "#rawname_ = 'S05_on_move'\n",
    "\n",
    "#rawname_ = 'S07_off_hold'\n",
    "#rawname_ = 'S07_off_move'\n",
    "#rawname_ = 'S07_on_hold'\n",
    "#rawname_ = 'S07_on_move'\n",
    "\n",
    "import globvars as gv\n",
    "\n",
    "\n",
    "rawname = rawname_ + '_resample_raw.fif'\n",
    "#rawname = rawname_ + '_notch_SSS_raw.fif'\n",
    "#rawname = rawname_ + '_resample_afterICA_raw.fif'\n",
    "fname_full = os.path.join(gv.data_dir,rawname)\n",
    "\n",
    "raw = mne.io.read_raw_fif(fname_full, None)"
   ]
  },
  {
   "cell_type": "code",
   "execution_count": null,
   "metadata": {},
   "outputs": [],
   "source": [
    "sind_str,mod,task = utils.getParamsFromRawname(rawname_)\n",
    "\n",
    "sources_type='parcel_aal'\n",
    "src_file_grouping_ind = 10\n",
    "src_rec_info_fn = '{}_{}_grp{}_src_rec_info'.format(rawname_,\n",
    "                                                    sources_type,src_file_grouping_ind)\n",
    "src_rec_info_fn_full = os.path.join(gv.data_dir, src_rec_info_fn + '.npz')\n",
    "rec_info = np.load(src_rec_info_fn_full, allow_pickle=True)\n",
    "\n",
    "\n",
    "print( list(rec_info.keys()) )\n",
    "\n",
    "labels_dict = rec_info['label_groups_dict'][()]\n",
    "srcgroups_dict = rec_info['srcgroups_dict'][()]\n",
    "coords = rec_info['coords_Jan_actual'][()]\n",
    "\n",
    "print( labels_dict.keys() )\n",
    "\n",
    "sgdn = 'all_raw'"
   ]
  },
  {
   "cell_type": "code",
   "execution_count": null,
   "metadata": {},
   "outputs": [],
   "source": []
  },
  {
   "cell_type": "code",
   "execution_count": null,
   "metadata": {},
   "outputs": [],
   "source": [
    "display(chan_info)\n"
   ]
  },
  {
   "cell_type": "code",
   "execution_count": null,
   "metadata": {},
   "outputs": [],
   "source": [
    "#raw.pick_channels(raw.ch_names)"
   ]
  },
  {
   "cell_type": "code",
   "execution_count": null,
   "metadata": {},
   "outputs": [],
   "source": [
    "meg_chis = mne.pick_channels_regexp(raw.ch_names,'MEG.*')\n",
    "\n",
    "chlocs = []\n",
    "for si in range(len(meg_chis)):\n",
    "    chi = meg_chis[si]\n",
    "    chan_info = raw.info['chs'][chi]\n",
    "    chan_loc = chan_info['loc'][:3]\n",
    "    chlocs += [chan_loc]\n",
    "chlocs = np.vstack(chlocs)\n",
    "\n",
    "#x,y,z = chlocs.T*100\n",
    "# another run -- check which distances are small then the average one"
   ]
  },
  {
   "cell_type": "code",
   "execution_count": null,
   "metadata": {},
   "outputs": [],
   "source": [
    "#x*100"
   ]
  },
  {
   "cell_type": "code",
   "execution_count": null,
   "metadata": {},
   "outputs": [],
   "source": [
    "x,y,z = chlocs.T*100"
   ]
  },
  {
   "cell_type": "code",
   "execution_count": null,
   "metadata": {},
   "outputs": [],
   "source": [
    "utils.vizGroup(sind_str,coords,labels_dict[sgdn],srcgroups_dict[sgdn], show=False)\n",
    "\n",
    "import mayavi.mlab as mam\n",
    "mam.points3d(x,y,z, scale_factor=0.5)#, color = tuple(clrs[grpi]) )\n",
    "\n",
    "mam.show()"
   ]
  },
  {
   "cell_type": "code",
   "execution_count": null,
   "metadata": {},
   "outputs": [],
   "source": [
    "lbls = ['Supp_Motor_Area_L', 'Cerebellum_R']\n",
    "#lbls = [ 'Cerebellum_R']\n",
    "\n",
    "\n",
    "import utils_test\n",
    "\n",
    "roi_sensors = utils_test.getSensorsFromRoiLabels(lbls, coords, chlocs*100, \n",
    "                                                 labels_dict[sgdn], \n",
    "                                                 srcgroups_dict[sgdn] )"
   ]
  },
  {
   "cell_type": "code",
   "execution_count": null,
   "metadata": {},
   "outputs": [],
   "source": [
    "roi_sensors"
   ]
  },
  {
   "cell_type": "code",
   "execution_count": null,
   "metadata": {},
   "outputs": [],
   "source": [
    "# TODO: for each key select corresponding sources and found sensors and plot both\n",
    "sensors_inds = []\n",
    "src_inds = []\n",
    "for roi_label in roi_sensors:\n",
    "    sensors_inds +=  list(roi_sensors[roi_label] ) \n",
    "    \n",
    "    src_inds += list(np.where(srcgroups_dict[sgdn] == labels_dict[sgdn].index(roi_label))[0])\n",
    "\n",
    "\n",
    "x,y,z = chlocs.T * 100\n",
    "mam.points3d(x,y,z, scale_factor=0.3, color=(0.1,0.1,0.1))#, color = tuple(clrs[grpi]) )\n",
    "    \n",
    "x,y,z = chlocs[sensors_inds].T * 100\n",
    "mam.points3d(x,y,z, scale_factor=0.5)#, color = tuple(clrs[grpi]) )\n",
    "\n",
    "x,y,z = coords[src_inds].T \n",
    "mam.points3d(x,y,z, scale_factor=0.5, color=(1,1,0))#, color = tuple(clrs[grpi]) )\n",
    "\n",
    "\n",
    "mam.show()"
   ]
  },
  {
   "cell_type": "code",
   "execution_count": null,
   "metadata": {},
   "outputs": [],
   "source": [
    "best_dists"
   ]
  },
  {
   "cell_type": "code",
   "execution_count": null,
   "metadata": {},
   "outputs": [],
   "source": []
  },
  {
   "cell_type": "code",
   "execution_count": null,
   "metadata": {},
   "outputs": [],
   "source": [
    "getSe"
   ]
  },
  {
   "cell_type": "code",
   "execution_count": null,
   "metadata": {},
   "outputs": [],
   "source": [
    "#best_inds"
   ]
  },
  {
   "cell_type": "code",
   "execution_count": null,
   "metadata": {},
   "outputs": [],
   "source": [
    "best_dist_mean = np.mean(best_dists)\n",
    "print(best_dist_mean)"
   ]
  },
  {
   "cell_type": "code",
   "execution_count": null,
   "metadata": {},
   "outputs": [],
   "source": [
    "print(dist_mean)"
   ]
  },
  {
   "cell_type": "code",
   "execution_count": null,
   "metadata": {},
   "outputs": [],
   "source": [
    "np.min(dists),np.max((dists))"
   ]
  },
  {
   "cell_type": "code",
   "execution_count": null,
   "metadata": {},
   "outputs": [],
   "source": [
    "# (o,oo) = np.unravel_index(8199, dists_loc.shape)\n",
    "\n",
    "# print(source_inds[o],oo)\n",
    "\n",
    "# dists_loc[o,oo]\n"
   ]
  },
  {
   "cell_type": "code",
   "execution_count": null,
   "metadata": {},
   "outputs": [],
   "source": []
  },
  {
   "cell_type": "code",
   "execution_count": null,
   "metadata": {},
   "outputs": [],
   "source": []
  },
  {
   "cell_type": "code",
   "execution_count": null,
   "metadata": {},
   "outputs": [],
   "source": [
    "roi_sensors"
   ]
  },
  {
   "cell_type": "code",
   "execution_count": null,
   "metadata": {},
   "outputs": [],
   "source": [
    "assert len(corresp_sensors) < len(meg_chis), '{} -- Too many :('.\\\n",
    "    format(len(corresp_sensors))"
   ]
  },
  {
   "cell_type": "code",
   "execution_count": null,
   "metadata": {},
   "outputs": [],
   "source": [
    "#corresp_sensors"
   ]
  },
  {
   "cell_type": "code",
   "execution_count": null,
   "metadata": {},
   "outputs": [],
   "source": [
    "import mayavi.mlab as mam\n",
    "\n",
    "x,y,z = chlocs.T*90\n",
    "mam.points3d(x,y,z, scale_factor=0.5)#, color = tuple(clrs[grpi]) )\n",
    "\n",
    "mam.show()"
   ]
  },
  {
   "cell_type": "code",
   "execution_count": null,
   "metadata": {},
   "outputs": [],
   "source": []
  },
  {
   "cell_type": "code",
   "execution_count": null,
   "metadata": {},
   "outputs": [],
   "source": [
    "# TODO: update due to update of MNE\n",
    "mod_info, infos = upre.readInfo(rawname_, raw)  \n",
    "radius, origin, _ = mne.bem.fit_sphere_to_headshape(mod_info, dig_kinds=('cardinal','hpi'))\n",
    "\n",
    "sphere = mne.make_sphere_model(info=mod_info, r0=origin, head_radius=radius)\n",
    "#sphere = mne.make_sphere_model(info=mod_info, r0='auto', head_radius='auto')\n",
    "#sphere = mne.make_sphere_model(info=raw_tmp.info, r0='auto', head_radius='auto')\n",
    "src = mne.setup_volume_source_space(sphere=sphere, pos=10.)\n",
    "\n",
    "plot_sensor_helmet = False\n",
    "if plot_sensor_helmet:\n",
    "    mne.viz.plot_alignment(\n",
    "        mod_info, eeg='projected', bem=sphere, src=src, dig=True,\n",
    "        surfaces=['brain', 'outer_skin'], coord_frame='meg', show_axes=True)\n",
    "\n",
    "print('Origin is ', origin)"
   ]
  },
  {
   "cell_type": "code",
   "execution_count": null,
   "metadata": {},
   "outputs": [],
   "source": []
  },
  {
   "cell_type": "code",
   "execution_count": null,
   "metadata": {},
   "outputs": [],
   "source": []
  }
 ],
 "metadata": {
  "kernelspec": {
   "display_name": "Python 3",
   "language": "python",
   "name": "python3"
  },
  "language_info": {
   "codemirror_mode": {
    "name": "ipython",
    "version": 3
   },
   "file_extension": ".py",
   "mimetype": "text/x-python",
   "name": "python",
   "nbconvert_exporter": "python",
   "pygments_lexer": "ipython3",
   "version": "3.8.5"
  },
  "varInspector": {
   "cols": {
    "lenName": 16,
    "lenType": 16,
    "lenVar": 40
   },
   "kernels_config": {
    "python": {
     "delete_cmd_postfix": "",
     "delete_cmd_prefix": "del ",
     "library": "var_list.py",
     "varRefreshCmd": "print(var_dic_list())"
    },
    "r": {
     "delete_cmd_postfix": ") ",
     "delete_cmd_prefix": "rm(",
     "library": "var_list.r",
     "varRefreshCmd": "cat(var_dic_list()) "
    }
   },
   "types_to_exclude": [
    "module",
    "function",
    "builtin_function_or_method",
    "instance",
    "_Feature"
   ],
   "window_display": false
  }
 },
 "nbformat": 4,
 "nbformat_minor": 2
}
