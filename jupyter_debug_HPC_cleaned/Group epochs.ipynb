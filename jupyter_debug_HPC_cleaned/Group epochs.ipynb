{
 "cells": [
  {
   "cell_type": "code",
   "execution_count": null,
   "metadata": {},
   "outputs": [],
   "source": [
    "%load_ext autoreload\n",
    "%autoreload 2\n",
    "\n",
    "# resample data uing MNE\n",
    "import os, sys\n",
    "\n",
    "code_dir = os.path.expandvars('$OSCBAGDIS_DATAPROC_CODE')\n",
    "sys.path.append(code_dir)\n",
    "\n",
    "import mne\n",
    "from mne.preprocessing import ICA\n",
    "import multiprocessing as mpr\n",
    "import numpy as np\n",
    "import utils\n",
    "import json\n",
    "import matplotlib.pyplot as plt\n",
    "from matplotlib.backends.backend_pdf import PdfPages\n",
    "\n",
    "import utils_preproc as upre\n",
    "import matplotlib as mpl\n",
    "import globvars as gv\n"
   ]
  },
  {
   "cell_type": "code",
   "execution_count": null,
   "metadata": {},
   "outputs": [],
   "source": [
    "# TODO: look only at files where there are several tremor starts"
   ]
  },
  {
   "cell_type": "code",
   "execution_count": null,
   "metadata": {},
   "outputs": [],
   "source": [
    "# subjinds = [8,9,10]\n",
    "# tasks = ['hold' , 'move', 'rest']\n",
    "# medstates = ['on','off']\n",
    "\n",
    "\n",
    "# for subjind in subjinds:\n",
    "#     sis = '{:02d}'.format(subjind)\n",
    "#     for medstate in medstates:\n",
    "#         for task in tasks:\n",
    "\n",
    "#             #fnames_noext = ['S{}_off_{}'.format(sis,task), 'S{}_on_{}'.format(sis,task)]\n",
    "#             #fnames_noext = ['S01_off_hold', 'S01_on_hold']\n",
    "#             #fnames_noext = ['S01_off_move', 'S01_on_move']\n",
    "#             #fnames_noext = ['S02_off_move', 'S02_on_move']\n",
    "#             rawname_ = 'S{}_{}_{}'.format(sis,medstate,task)\n",
    "\n",
    "\n",
    "# rawname_ = 'S04_off_move'"
   ]
  },
  {
   "cell_type": "code",
   "execution_count": null,
   "metadata": {
    "run_control": {
     "marked": false
    }
   },
   "outputs": [],
   "source": [
    "#gc.collect()\n",
    "\n",
    "%run -i run_genfeats.py -r S02_off_hold --bands fine #--plot_only #--plot_types=feat_timecourse"
   ]
  },
  {
   "cell_type": "code",
   "execution_count": null,
   "metadata": {},
   "outputs": [],
   "source": [
    "# S04 right hand tremor type -- smooth decay"
   ]
  },
  {
   "cell_type": "code",
   "execution_count": null,
   "metadata": {},
   "outputs": [],
   "source": [
    "rawind = 0"
   ]
  },
  {
   "cell_type": "code",
   "execution_count": null,
   "metadata": {},
   "outputs": [],
   "source": [
    "raws_lfp_perside"
   ]
  },
  {
   "cell_type": "code",
   "execution_count": null,
   "metadata": {},
   "outputs": [],
   "source": [
    "raws_emg_rectconv"
   ]
  },
  {
   "cell_type": "code",
   "execution_count": null,
   "metadata": {},
   "outputs": [],
   "source": [
    "rectconv = raws_emg_rectconv[rawind]"
   ]
  },
  {
   "cell_type": "code",
   "execution_count": null,
   "metadata": {},
   "outputs": [],
   "source": [
    "rectconv.set_annotations(anns_pri[rawind])"
   ]
  },
  {
   "cell_type": "code",
   "execution_count": null,
   "metadata": {},
   "outputs": [],
   "source": [
    "emg_perside = utils.getEMGperHand(rectconv)"
   ]
  },
  {
   "cell_type": "code",
   "execution_count": null,
   "metadata": {},
   "outputs": [],
   "source": [
    "emg_perside"
   ]
  },
  {
   "cell_type": "code",
   "execution_count": null,
   "metadata": {},
   "outputs": [],
   "source": [
    "maintremside"
   ]
  },
  {
   "cell_type": "code",
   "execution_count": null,
   "metadata": {},
   "outputs": [],
   "source": [
    "opside = utils.getOppositeSideStr(maintremside)\n",
    "ops_letter = opside[0].upper()"
   ]
  },
  {
   "cell_type": "code",
   "execution_count": null,
   "metadata": {},
   "outputs": [],
   "source": [
    "print(mts_letter)"
   ]
  },
  {
   "cell_type": "code",
   "execution_count": null,
   "metadata": {},
   "outputs": [],
   "source": [
    "anns = anns_pri[rawind]\n",
    "anninds_notrem = np.where( anns.description == 'notrem_{}'.format(mts_letter) )[0]\n",
    "ind_longest = None\n",
    "dur_longest = 0\n",
    "for anni,ann in enumerate(anns):\n",
    "    if ann['duration'] > dur_longest:\n",
    "        dur_longest = ann['duration']\n",
    "        ind_longest = anni\n",
    "ann_bl = anns[ind_longest]\n",
    "print(ind_longest, ann_bl)"
   ]
  },
  {
   "cell_type": "code",
   "execution_count": null,
   "metadata": {},
   "outputs": [],
   "source": [
    "print(anns.description)"
   ]
  },
  {
   "cell_type": "code",
   "execution_count": null,
   "metadata": {},
   "outputs": [],
   "source": [
    "#gv.gen_subj_info['S04']['move_side']"
   ]
  },
  {
   "cell_type": "code",
   "execution_count": null,
   "metadata": {},
   "outputs": [],
   "source": [
    "int_types_L = ['trem_L', 'notrem_L', 'hold_L', 'move_L', 'undef_L', 'holdtrem_L', 'movetrem_L']\n",
    "int_types_R = ['trem_R', 'notrem_R', 'hold_R', 'move_R', 'undef_R', 'holdtrem_R', 'movetrem_R']\n",
    "class_ids = {}\n",
    "for ind, it in enumerate(int_types_L):\n",
    "    class_ids[it] = ind+1\n",
    "for ind, it in enumerate(int_types_R):\n",
    "    class_ids[it] = -ind-1\n",
    "\n",
    "int_types_basic = ['trem', 'notrem', 'hold', 'move']\n"
   ]
  },
  {
   "cell_type": "code",
   "execution_count": null,
   "metadata": {},
   "outputs": [],
   "source": [
    "sides_hand = [mts_letter]\n"
   ]
  },
  {
   "cell_type": "code",
   "execution_count": null,
   "metadata": {},
   "outputs": [],
   "source": []
  },
  {
   "cell_type": "code",
   "execution_count": null,
   "metadata": {},
   "outputs": [],
   "source": [
    "class_ids"
   ]
  },
  {
   "cell_type": "code",
   "execution_count": null,
   "metadata": {},
   "outputs": [],
   "source": [
    "# lofreq\n",
    "# raws_lfponly[rawind].set_annotations( raws_lfponly[rawind].annotations + anns_artif)\n",
    "# lfp_perside_cur = utils.getLFPperSide(raws_lfponly[rawind])"
   ]
  },
  {
   "cell_type": "code",
   "execution_count": null,
   "metadata": {},
   "outputs": [],
   "source": [
    "raws_lfp_highres[rawind].set_annotations( raws_lfponly[rawind].annotations + anns_artif)\n",
    "lfp_perside_cur = utils.getLFPperSide(raws_lfp_highres[rawind])"
   ]
  },
  {
   "cell_type": "code",
   "execution_count": null,
   "metadata": {},
   "outputs": [],
   "source": [
    "raws_srconly[rawind].set_annotations( raws_lfponly[rawind].annotations + anns_artif)\n",
    "src_perside_cur = utils.getRawPerSide(raws_srconly[rawind])"
   ]
  },
  {
   "cell_type": "code",
   "execution_count": null,
   "metadata": {},
   "outputs": [],
   "source": [
    "#gv.gen_subj_info[subj]['lfpchan_used_in_paper']"
   ]
  },
  {
   "cell_type": "code",
   "execution_count": null,
   "metadata": {
    "run_control": {
     "marked": false
    }
   },
   "outputs": [],
   "source": [
    "lfp_maintrem_side = lfp_perside_cur[ops_letter]\n",
    "src_maintrem_side = src_perside_cur[ops_letter]\n",
    "emg_maintrem_side = emg_perside[maintremside]\n",
    "\n",
    "lfp_maintrem_side.pick_channels([mainLFPchan])\n",
    "\n",
    "src_maintrem_side.set_annotations( utils.removeAnnsByDescr(src_maintrem_side.annotations, ['BAD_LFP'])  )"
   ]
  },
  {
   "cell_type": "code",
   "execution_count": null,
   "metadata": {},
   "outputs": [],
   "source": [
    "#lfp_maintrem_side.ch_names"
   ]
  },
  {
   "cell_type": "code",
   "execution_count": null,
   "metadata": {},
   "outputs": [],
   "source": [
    "emg_maintrem_side.plot();"
   ]
  },
  {
   "cell_type": "code",
   "execution_count": null,
   "metadata": {},
   "outputs": [],
   "source": [
    "print( lfp_maintrem_side.annotations, emg_maintrem_side.annotations )\n",
    "\n",
    "print(maintremside)"
   ]
  },
  {
   "cell_type": "code",
   "execution_count": null,
   "metadata": {},
   "outputs": [],
   "source": [
    "# evt_dict = { 'trem_{}'.format(mts_letter), 'notrem_{}'.format(mts_letter),\n",
    "#            'move_{}'.format(mts_letter), 'hold_{}'.format(mts_letter):}"
   ]
  },
  {
   "cell_type": "code",
   "execution_count": null,
   "metadata": {},
   "outputs": [],
   "source": [
    "#help(mne.events_from_annotations)"
   ]
  },
  {
   "cell_type": "code",
   "execution_count": null,
   "metadata": {},
   "outputs": [],
   "source": [
    "#regexp='^(?![Bb][Aa][Dd]|[Ee][Dd][Gg][Ee]).*$'\n",
    "# get onsets\n",
    "# onsets_mts, lbl = mne.events_from_annotations(emg_perside[opside], event_id=class_ids, \n",
    "#                             use_rounding=True, chunk_duration=None, verbose=None)\n",
    "\n",
    "onsets_mts, lbl = mne.events_from_annotations(lfp_maintrem_side, \n",
    "                                              event_id=class_ids, \n",
    "                            use_rounding=True, chunk_duration=None, verbose=None)"
   ]
  },
  {
   "cell_type": "code",
   "execution_count": null,
   "metadata": {},
   "outputs": [],
   "source": [
    "anns_tmp = copy.deepcopy(lfp_maintrem_side.annotations)\n",
    "onset_tmp = anns_tmp.onset \n",
    "raw_tmp = lfp_maintrem_side.copy()\n",
    "raw_tmp.set_annotations( mne.Annotations(anns_tmp.onset+anns_tmp.duration, \n",
    "                                        len(anns_tmp) * [0.1], anns_tmp.description))\n",
    "\n",
    "outsets_mts, lbl = mne.events_from_annotations(raw_tmp, \n",
    "                                              event_id=class_ids, \n",
    "                            use_rounding=True, chunk_duration=None, verbose=None)"
   ]
  },
  {
   "cell_type": "code",
   "execution_count": null,
   "metadata": {},
   "outputs": [],
   "source": [
    "onsets_mts, onsets_mts[:,0]/256"
   ]
  },
  {
   "cell_type": "code",
   "execution_count": null,
   "metadata": {},
   "outputs": [],
   "source": [
    "revdict = {}\n",
    "import copy\n",
    "classs_ids_flt = copy.deepcopy(class_ids)\n",
    "# set class label for all basic interval types\n",
    "for itb in class_ids:\n",
    "    cid = class_ids[itb]\n",
    "    if cid in onsets_mts[:,2]:\n",
    "        revdict[cid] = itb\n",
    "    else:\n",
    "        del classs_ids_flt[itb]\n",
    "        "
   ]
  },
  {
   "cell_type": "code",
   "execution_count": null,
   "metadata": {},
   "outputs": [],
   "source": [
    "classs_ids_flt"
   ]
  },
  {
   "cell_type": "code",
   "execution_count": null,
   "metadata": {},
   "outputs": [],
   "source": [
    "# import copy\n",
    "# class_ids_restr = copy.deepcopy(class_ids)\n",
    "# for i in range(len(onsets_mts)):\n",
    "#     if onsets_mts[i][2] not in class_ids_restr.values():\n",
    "        "
   ]
  },
  {
   "cell_type": "code",
   "execution_count": null,
   "metadata": {
    "run_control": {
     "marked": false
    }
   },
   "outputs": [],
   "source": [
    "#src_maintrem_side.annotations.description"
   ]
  },
  {
   "cell_type": "code",
   "execution_count": null,
   "metadata": {},
   "outputs": [],
   "source": [
    "bl = ann_bl['onset'], ann_bl['onset'] + ann_bl['duration']\n",
    "bl = None\n",
    "epochs_emg = mne.Epochs(emg_maintrem_side, events=onsets_mts, tmax=3, tmin = -2,\n",
    "                    event_id=classs_ids_flt, baseline = bl)\n",
    "\n",
    "epochs_lfp = mne.Epochs(lfp_maintrem_side, events=onsets_mts, tmax=3, tmin = -2,\n",
    "                    event_id=classs_ids_flt, baseline = bl)\n",
    "\n",
    "epochs_src = mne.Epochs(src_maintrem_side, events=onsets_mts, tmax=3, tmin = -2,\n",
    "                    event_id=classs_ids_flt, baseline = bl)\n",
    "\n",
    "\n",
    "epochs_mid_emg = mne.Epochs(emg_maintrem_side, events=onsets_mts, tmax=4, tmin = 1,\n",
    "                    event_id=classs_ids_flt, baseline = bl)\n",
    "\n",
    "epochs_mid_lfp = mne.Epochs(lfp_maintrem_side, events=onsets_mts, tmax=4, tmin = 1,\n",
    "                    event_id=classs_ids_flt, baseline = bl)\n",
    "\n",
    "epochs_mid_src = mne.Epochs(src_maintrem_side, events=onsets_mts, tmax=4, tmin = 1,\n",
    "                    event_id=classs_ids_flt, baseline = bl)\n"
   ]
  },
  {
   "cell_type": "code",
   "execution_count": null,
   "metadata": {},
   "outputs": [],
   "source": [
    "epochs_end_emg = mne.Epochs(emg_maintrem_side, events=outsets_mts, tmin=-3, tmax = 1,\n",
    "                    event_id=classs_ids_flt, baseline = bl)\n",
    "\n",
    "epochs_end_lfp = mne.Epochs(lfp_maintrem_side, events=outsets_mts, tmin=-3, tmax = 1,\n",
    "                    event_id=classs_ids_flt, baseline = bl)\n",
    "\n",
    "epochs_end_src = mne.Epochs(src_maintrem_side, events=outsets_mts, tmin=-3, tmax = 1,\n",
    "                    event_id=classs_ids_flt, baseline = bl)\n",
    "\n",
    "\n",
    "epochs_endmid_emg = mne.Epochs(emg_maintrem_side, events=outsets_mts, tmin=-4, tmax = -1,\n",
    "                    event_id=classs_ids_flt, baseline = bl)\n",
    "\n",
    "epochs_endmid_lfp = mne.Epochs(lfp_maintrem_side, events=outsets_mts, tmin=-4, tmax = -1,\n",
    "                    event_id=classs_ids_flt, baseline = bl)\n",
    "\n",
    "epochs_endmid_src = mne.Epochs(src_maintrem_side, events=outsets_mts, tmin=-4, tmax = -1,\n",
    "                    event_id=classs_ids_flt, baseline = bl)"
   ]
  },
  {
   "cell_type": "code",
   "execution_count": null,
   "metadata": {},
   "outputs": [],
   "source": [
    "#%matplotlib qt\n",
    "#epochs_emg[int_type].plot();"
   ]
  },
  {
   "cell_type": "code",
   "execution_count": null,
   "metadata": {},
   "outputs": [],
   "source": [
    "fbands"
   ]
  },
  {
   "cell_type": "code",
   "execution_count": null,
   "metadata": {},
   "outputs": [],
   "source": [
    "%matplotlib inline"
   ]
  },
  {
   "cell_type": "code",
   "execution_count": null,
   "metadata": {},
   "outputs": [],
   "source": [
    "int_type = 'trem_{}'.format(mts_letter)"
   ]
  },
  {
   "cell_type": "markdown",
   "metadata": {},
   "source": [
    "# LFP start"
   ]
  },
  {
   "cell_type": "code",
   "execution_count": null,
   "metadata": {},
   "outputs": [],
   "source": [
    "epochs_lfp_per_band = {}\n",
    "for bandname in fband_names_fine_inc_HFO:\n",
    "    lf,hf = fbands[bandname]\n",
    "    epochs_lfp_cb = epochs_lfp.copy()\n",
    "    epochs_lfp_cb.load_data();\n",
    "    epochs_lfp_cb.filter(l_freq=lf,h_freq=hf, verbose=False)\n",
    "    epochs_lfp_per_band[bandname] = epochs_lfp_cb.copy()\n",
    "    \n",
    "    epochs_lfp_cb.apply_hilbert(envelope=True)\n",
    "    \n",
    "    #fig = plt.figure(figsize=(15,4))\n",
    "    print(bandname)\n",
    "    fig = epochs_lfp_cb[int_type].plot_image(combine='mean', show=0)#,fig=fig)\n",
    "    ax = fig[0].axes[0]\n",
    "    ax.set_title(ax.title._text + '  ' + bandname)\n",
    "    #title.suptitle(bandname)"
   ]
  },
  {
   "cell_type": "markdown",
   "metadata": {},
   "source": [
    "# LFP end"
   ]
  },
  {
   "cell_type": "code",
   "execution_count": null,
   "metadata": {},
   "outputs": [],
   "source": [
    "epochs_lfp_per_band = {}\n",
    "for bandname in fband_names_fine:\n",
    "    lf,hf = fbands[bandname]\n",
    "    epochs_lfp_cb = epochs_end_lfp.copy()\n",
    "    epochs_lfp_cb.load_data();\n",
    "    epochs_lfp_cb.filter(l_freq=lf,h_freq=hf, verbose=False)\n",
    "    epochs_lfp_per_band[bandname] = epochs_lfp_cb.copy()\n",
    "    \n",
    "    epochs_lfp_cb.apply_hilbert(envelope=True)\n",
    "    \n",
    "    #fig = plt.figure(figsize=(15,4))\n",
    "    print(bandname)\n",
    "    fig = epochs_lfp_cb[int_type].plot_image(combine='mean', show=0)#,fig=fig)\n",
    "    ax = fig[0].axes[0]\n",
    "    ax.set_title(ax.title._text + '  ' + bandname)\n",
    "    #title.suptitle(bandname)"
   ]
  },
  {
   "cell_type": "markdown",
   "metadata": {},
   "source": [
    "# SRC start"
   ]
  },
  {
   "cell_type": "code",
   "execution_count": null,
   "metadata": {},
   "outputs": [],
   "source": [
    "epochs_emg_cb[int_type]"
   ]
  },
  {
   "cell_type": "code",
   "execution_count": null,
   "metadata": {},
   "outputs": [],
   "source": [
    "epochs_src[int_type]"
   ]
  },
  {
   "cell_type": "code",
   "execution_count": null,
   "metadata": {},
   "outputs": [],
   "source": [
    "int_type"
   ]
  },
  {
   "cell_type": "code",
   "execution_count": null,
   "metadata": {},
   "outputs": [],
   "source": [
    "#src_maintrem_side.annotations"
   ]
  },
  {
   "cell_type": "code",
   "execution_count": null,
   "metadata": {},
   "outputs": [],
   "source": [
    "epochs_src_per_band = {}\n",
    "for bandname in fband_names_fine:\n",
    "    lf,hf = fbands[bandname]\n",
    "    epochs_src_cb = epochs_src.copy()\n",
    "    #display(epochs_src_cb[int_type])\n",
    "    epochs_src_cb.load_data();\n",
    "    epochs_src_cb.filter(l_freq=lf,h_freq=hf, verbose=False)\n",
    "    epochs_src_per_band[bandname] = epochs_src_cb.copy()\n",
    "    \n",
    "    epochs_src_cb.apply_hilbert(envelope=True)\n",
    "    \n",
    "    #fig = plt.figure(figsize=(15,4))\n",
    "    print(bandname)\n",
    "    fig = epochs_src_cb[int_type].plot_image(combine='mean', show=0)#,fig=fig)\n",
    "    ax = fig[0].axes[0]\n",
    "    ax.set_title(ax.title._text + '  ' + bandname)\n",
    "    #title.suptitle(bandname)"
   ]
  },
  {
   "cell_type": "code",
   "execution_count": null,
   "metadata": {},
   "outputs": [],
   "source": [
    "#epochs_emg[int_type]"
   ]
  },
  {
   "cell_type": "code",
   "execution_count": null,
   "metadata": {},
   "outputs": [],
   "source": [
    "epochs_emg[int_type].plot_image(combine='mean') #,ts_args=dict(vlines=[0, rts.mean() / 1000.]))\n",
    "#epochs_end_emg[int_type].plot_image(combine='mean') #,ts_args=dict(vlines=[0, rts.mean() / 1000.]))"
   ]
  },
  {
   "cell_type": "code",
   "execution_count": null,
   "metadata": {
    "run_control": {
     "marked": false
    }
   },
   "outputs": [],
   "source": [
    "%matplotlib inline\n",
    "int_type = 'trem_{}'.format(mts_letter)\n",
    "\n",
    "epochs_emg[int_type].plot_image(combine='mean') #,ts_args=dict(vlines=[0, rts.mean() / 1000.]))\n",
    "epochs_lfp[int_type].plot_image(combine='mean') #,ts_args=dict(vlines=[0, rts.mean() / 1000.]))\n",
    "epochs_mid_lfp[int_type].plot_psd(fmax=60);"
   ]
  },
  {
   "cell_type": "code",
   "execution_count": null,
   "metadata": {},
   "outputs": [],
   "source": [
    "int_type = 'notrem_{}'.format(mts_letter)\n",
    "epochs_mid_emg[int_type].plot_image(combine='mean')\n",
    "epochs_mid_lfp[int_type].plot_image(combine='mean')\n",
    "epochs_mid_lfp[int_type].plot_psd(fmax=60);"
   ]
  },
  {
   "cell_type": "code",
   "execution_count": null,
   "metadata": {},
   "outputs": [],
   "source": []
  }
 ],
 "metadata": {
  "kernelspec": {
   "display_name": "Python 3",
   "language": "python",
   "name": "python3"
  },
  "language_info": {
   "codemirror_mode": {
    "name": "ipython",
    "version": 3
   },
   "file_extension": ".py",
   "mimetype": "text/x-python",
   "name": "python",
   "nbconvert_exporter": "python",
   "pygments_lexer": "ipython3",
   "version": "3.8.5"
  },
  "varInspector": {
   "cols": {
    "lenName": 16,
    "lenType": 16,
    "lenVar": 40
   },
   "kernels_config": {
    "python": {
     "delete_cmd_postfix": "",
     "delete_cmd_prefix": "del ",
     "library": "var_list.py",
     "varRefreshCmd": "print(var_dic_list())"
    },
    "r": {
     "delete_cmd_postfix": ") ",
     "delete_cmd_prefix": "rm(",
     "library": "var_list.r",
     "varRefreshCmd": "cat(var_dic_list()) "
    }
   },
   "types_to_exclude": [
    "module",
    "function",
    "builtin_function_or_method",
    "instance",
    "_Feature"
   ],
   "window_display": false
  }
 },
 "nbformat": 4,
 "nbformat_minor": 2
}
