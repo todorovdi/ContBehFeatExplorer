{
 "cells": [
  {
   "cell_type": "code",
   "execution_count": null,
   "metadata": {},
   "outputs": [],
   "source": [
    "import os,sys\n",
    "import mne\n",
    "import utils  #my code\n",
    "import json\n",
    "import matplotlib.pyplot as plt\n",
    "import numpy as np\n",
    "import utils\n",
    "%load_ext autoreload\n",
    "%autoreload 2\n",
    "\n",
    "if os.environ.get('DATA_DUSS') is not None:\n",
    "    data_dir = os.path.expandvars('$DATA_DUSS')\n",
    "else:\n",
    "    data_dir = '/home/demitau/data'\n",
    "    \n",
    "\n",
    "\n",
    "#rawname_ = 'S01_off_hold'\n",
    "#rawname_ = 'S01_on_hold'\n",
    "#rawname_ = 'S01_off_move'\n",
    "#rawname_ = 'S01_on_move'\n",
    "\n",
    "rawname_ = 'S02_off_hold'\n",
    "rawname_ = 'S02_on_hold'  \n",
    "\n",
    "rawname_ = 'S03_off_move'  \n",
    "rawname_ = 'S03_off_hold'  \n",
    "\n",
    "rawname = rawname_ + '_resample_raw.fif'\n",
    "fname_full = os.path.join(data_dir,rawname)\n",
    "    "
   ]
  },
  {
   "cell_type": "code",
   "execution_count": null,
   "metadata": {},
   "outputs": [],
   "source": [
    "# read file -- resampled to 256 Hz,  Electa MEG, EMG, LFP, EOG channels\n",
    "raw = mne.io.read_raw_fif(fname_full, None)"
   ]
  },
  {
   "cell_type": "code",
   "execution_count": null,
   "metadata": {},
   "outputs": [],
   "source": [
    "afterICA_name = rawname_ + '_resample_afterICA_raw.fif'\n",
    "reconst_raw = mne.io.read_raw_fif(os.path.join(data_dir, afterICA_name), None)"
   ]
  },
  {
   "cell_type": "code",
   "execution_count": null,
   "metadata": {},
   "outputs": [],
   "source": [
    "# Butterwordth 4th order -- for stopping power grid noise\n",
    "#help(raw_sss.notch_filter)\n",
    "raw.load_data()\n",
    "import numpy as np\n",
    "freqsToKill = np.arange(50, 128, 50) # harmonics of 50\n",
    "raw.notch_filter(freqsToKill, picks=['meg','bio', 'emg'])"
   ]
  },
  {
   "cell_type": "code",
   "execution_count": null,
   "metadata": {},
   "outputs": [],
   "source": [
    "# get info about bad MEG channels (from separate file)\n",
    "with open('subj_info.json') as info_json:\n",
    "        #raise TypeError\n",
    "\n",
    "    #json.dumps({'value': numpy.int64(42)}, default=convert)\n",
    "    gen_subj_info = json.load(info_json)\n",
    "    \n",
    "subj,medcond,task  = utils.getParamsFromRawname(rawname_)\n",
    "badchlist = gen_subj_info[subj]['bad_channels'][medcond][task]\n",
    "raw.info['bads'] = badchlist\n",
    "print('bad channels are ',badchlist)"
   ]
  },
  {
   "cell_type": "code",
   "execution_count": null,
   "metadata": {},
   "outputs": [],
   "source": [
    "raw.pick_types(meg=True, eog=True )\n",
    "gen_subj_info[subj]['tremor_side']"
   ]
  },
  {
   "cell_type": "code",
   "execution_count": null,
   "metadata": {},
   "outputs": [],
   "source": [
    "trem_times_fn = 'trem_times_tau.json'\n",
    "with open(trem_times_fn ) as jf:\n",
    "    trem_times_byhand = json.load(jf)   \n",
    "trem_times_nms_fn = 'trem_times_tau_nms.json'\n",
    "with open(trem_times_nms_fn ) as jf:\n",
    "    trem_times_nms_byhand = json.load(jf)   \n",
    "\n",
    "tremIntervalJan, artif         = utils.unpackTimeIntervals(trem_times_byhand, mainSide = True, \n",
    "                                                           gen_subj_info=gen_subj_info, skipNotLoadedRaws=0)\n",
    "tremIntervalJan_nms, artif_nms = utils.unpackTimeIntervals(trem_times_nms_byhand, mainSide = False, \n",
    "                                                           gen_subj_info=gen_subj_info, skipNotLoadedRaws=0)\n",
    "for rawn in [rawname_]:\n",
    "    if rawn in artif_nms and rawn not in artif:\n",
    "        artif[rawn] = artif_nms[rawn]\n",
    "    else:\n",
    "        if rawn in artif_nms:\n",
    "            artif[rawn].update(artif_nms[rawn] )"
   ]
  },
  {
   "cell_type": "code",
   "execution_count": null,
   "metadata": {},
   "outputs": [],
   "source": [
    "artif"
   ]
  },
  {
   "cell_type": "code",
   "execution_count": null,
   "metadata": {},
   "outputs": [],
   "source": [
    "#Maxwell filter\n",
    "do_Maxwell = 0\n",
    "if do_Maxwell:\n",
    "    fine_cal_file  = os.path.join(data_dir,  'sss_cal.dat')\n",
    "    crosstalk_file = os.path.join(data_dir,  'ct_sparse.fif')\n",
    "    raw_sss = mne.preprocessing.maxwell_filter(raw, cross_talk=crosstalk_file,\n",
    "                                               calibration=fine_cal_file, coord_frame='meg')\n",
    "else:\n",
    "    raw_sss = raw.copy()\n",
    "\n",
    "import gc; gc.collect()"
   ]
  },
  {
   "cell_type": "code",
   "execution_count": null,
   "metadata": {},
   "outputs": [],
   "source": [
    "#high pass 1Hz, apparently it should help artifact removal\n",
    "filt_raw = raw_sss.copy()\n",
    "filt_raw = filt_raw.load_data().filter(l_freq=2., h_freq=None)  # advise: maybe 0.5\n",
    "\n",
    "# get rid of bad channels\n",
    "filt_raw.pick_types(meg=True, misc=False, bio=True, emg=True, eog=True, exclude='bads')"
   ]
  },
  {
   "cell_type": "code",
   "execution_count": null,
   "metadata": {},
   "outputs": [],
   "source": [
    "subj,medcond,task  = utils.getParamsFromRawname(rawname_)\n",
    "sind_str = subj\n",
    "\n",
    "maintremside = gen_subj_info[subj]['tremor_side']\n",
    "nonmaintremside = utils.getOppositeSideStr(maintremside)"
   ]
  },
  {
   "cell_type": "code",
   "execution_count": null,
   "metadata": {},
   "outputs": [],
   "source": [
    "anns_fn = rawname_ + '_anns.txt'\n",
    "anns_fn_full = os.path.join(data_dir, anns_fn)\n",
    "anns = mne.read_annotations(anns_fn_full)\n",
    "filt_raw.set_annotations(anns)\n",
    "reconst_raw.set_annotations(anns)\n",
    "\n",
    "ivalis = utils.ann2ivalDict(anns)"
   ]
  },
  {
   "cell_type": "code",
   "execution_count": null,
   "metadata": {},
   "outputs": [],
   "source": [
    "sfreq = raw.info['sfreq']\n",
    "#decim = 10\n",
    "decim = 30\n",
    "freq_min, freq_max = 3,90\n",
    "freq_step = 1\n",
    "freqs = np.arange(freq_min,freq_max,freq_step) #np.linspace(freq_min, freq_max, num=nfreqs)\n",
    "endrec = raw.times[-1]\n",
    "\n",
    "n_cycles = 7 + freqs  #/ 2.  # different number of cycle per frequency"
   ]
  },
  {
   "cell_type": "code",
   "execution_count": null,
   "metadata": {},
   "outputs": [],
   "source": [
    "gc.collect()"
   ]
  },
  {
   "cell_type": "code",
   "execution_count": null,
   "metadata": {
    "run_control": {
     "marked": false
    }
   },
   "outputs": [],
   "source": [
    "strec = 0\n",
    "#endrec = 300  \n",
    "epdur = endrec\n",
    "new_events = mne.make_fixed_length_events(reconst_raw, \n",
    "                                          start=strec, stop=endrec, duration=epdur)\n",
    "epochs = mne.Epochs(reconst_raw,new_events, tmin=0,\n",
    "                    tmax = epdur, baseline=None)\n",
    "\n",
    "# sh=2\n",
    "# cfq = 15\n",
    "# freqs = np.logspace(*np.log10([cfq-sh,cfq+sh ]), num=6)\n",
    "power_afterICA = mne.time_frequency.tfr_morlet(epochs, freqs=freqs, n_cycles=n_cycles, use_fft=True,\n",
    "                        return_itc=False, decim=decim, n_jobs=10)"
   ]
  },
  {
   "cell_type": "code",
   "execution_count": null,
   "metadata": {},
   "outputs": [],
   "source": [
    "tremfreq_this_subj = gen_subj_info[sind_str]['tremfreq']\n",
    "print(tremfreq_this_subj)"
   ]
  },
  {
   "cell_type": "code",
   "execution_count": null,
   "metadata": {},
   "outputs": [],
   "source": [
    "#select some interval types and restrict by time\n",
    "reg_intervals = 1\n",
    "if reg_intervals:\n",
    "    intlen_s = 10\n",
    "    timeints = [(0,endrec,'entire')]\n",
    "    int_bounds = np.arange(raw.times[0],raw.times[-1],intlen_s)\n",
    "    for ib in range(1,len(int_bounds)):\n",
    "        st,end = int_bounds[ib-1],int_bounds[ib]\n",
    "        it = 'reg{}_{}'.format(intlen_s,ib)\n",
    "        timeints += [(st,end,it)]\n",
    "else:\n",
    "    timeints_ = [(0,endrec,'entire')]\n",
    "\n",
    "    for t in ['trem', 'hold', 'move', 'notrem']:\n",
    "        for side in ['L', 'R']:\n",
    "            it = '{}_{}'.format(t,side)\n",
    "            print(it, ivalis.get(it,[]))\n",
    "            timeints_ += ivalis.get(it,[])\n",
    "\n",
    "    timeints = []\n",
    "    for i,ti in enumerate(timeints_):\n",
    "        timin,timax,tiname = ti\n",
    "        if timin <= endrec - decim /sfreq:\n",
    "            timeints += [ti]\n",
    "        \n",
    "print(len(timeints))"
   ]
  },
  {
   "cell_type": "code",
   "execution_count": null,
   "metadata": {},
   "outputs": [],
   "source": [
    "rf = list( map(lambda x: x.find('_{}'.format(maintremside[0].upper()) ), anns.description) )\n",
    "ann_inds = np.where(np.array(rf) >= 0)[0]\n"
   ]
  },
  {
   "cell_type": "code",
   "execution_count": null,
   "metadata": {
    "run_control": {
     "marked": false
    }
   },
   "outputs": [],
   "source": [
    "for t in anns:\n",
    "    print(t['onset'])"
   ]
  },
  {
   "cell_type": "code",
   "execution_count": null,
   "metadata": {},
   "outputs": [],
   "source": [
    "print( len(timeints) )\n",
    "\n",
    "#timeints = [ ('all',0,endrec), ('no_mvt',0,300), ('only_mvt',300,endrec) ]\n",
    "fbs = [ ('tremfreq', 3,9), ('alpha/mu', 8,13),  ('beta', 15,30),  ('gamma', 30,90)  ]\n",
    "fbs = [ ('tremV', tremfreq_this_subj-1,tremfreq_this_subj+1), ('tremfreq', 3,9), ('alpha/mu', 8,13),  ('low_beta', 15,22), ('high_beta', 22,30),  \n",
    "       ('low_gamma', 30,60), ('high_gamma', 60,90)  ]"
   ]
  },
  {
   "cell_type": "code",
   "execution_count": null,
   "metadata": {},
   "outputs": [],
   "source": [
    "utils.plotBandLocations(power_afterICA,\\\n",
    "timeints,fbs,prefix=rawname_+'_afterICA_regint{}_'.format(reg_intervals),\\\n",
    "anns=anns)\n",
    "plt.close()"
   ]
  },
  {
   "cell_type": "code",
   "execution_count": null,
   "metadata": {},
   "outputs": [],
   "source": [
    "%matplotlib qt"
   ]
  },
  {
   "cell_type": "code",
   "execution_count": null,
   "metadata": {},
   "outputs": [],
   "source": [
    "tfr = power_afterICA"
   ]
  },
  {
   "cell_type": "code",
   "execution_count": null,
   "metadata": {},
   "outputs": [],
   "source": [
    "#fig = tfr.plot_topo(vmin=mn,vmax=mx)\n",
    "#%debug\n",
    "fig = tfr.plot_topo(dB=False, mode='zlogratio', baseline=(None,None), vmin=-2,vmax=2)"
   ]
  },
  {
   "cell_type": "code",
   "execution_count": null,
   "metadata": {},
   "outputs": [],
   "source": [
    "#help(power_afterICA.plot)"
   ]
  },
  {
   "cell_type": "code",
   "execution_count": null,
   "metadata": {},
   "outputs": [],
   "source": [
    "ax2.xaxis.set"
   ]
  },
  {
   "cell_type": "code",
   "execution_count": null,
   "metadata": {},
   "outputs": [],
   "source": [
    "#help(power_afterICA.plot)"
   ]
  },
  {
   "cell_type": "code",
   "execution_count": null,
   "metadata": {},
   "outputs": [],
   "source": [
    "set([2, 534,3]) == set([2, 3, 534])"
   ]
  },
  {
   "cell_type": "code",
   "execution_count": null,
   "metadata": {},
   "outputs": [],
   "source": [
    "itypes = ['trem_L','trem_R']\n",
    "itypes = ['trem_L', 'hold_L']\n",
    "\n",
    "chnames = ['MEG2633',  'MEG1442',  'MEG1342', 'MEG2323',  'MEG1942',  'MEG1613']\n",
    "\n",
    "nr = len(chnames)\n",
    "nc = 1\n",
    "ww = 12; hh = 3 \n",
    "fig, axs =plt.subplots(nr,nc, figsize=(nc*ww,nr*hh), sharex='row')\n",
    "\n",
    "for i in range(nr):\n",
    "    ax = axs[i]\n",
    "    chname = chnames[i]\n",
    "    power_afterICA.plot(picks=[chname], mode='zlogratio', \n",
    "                        baseline=(None,None), vmin=-2,vmax=2, colorbar=0, axes=ax)\n",
    "    ax.set_ylabel(chname)\n",
    "    lw=2\n",
    "\n",
    "    ii = 0\n",
    "    ticks = []\n",
    "    ticklabels = []\n",
    "    for itype in itypes:\n",
    "        intervals = ivalis[itype]\n",
    "        for i,iv in enumerate(intervals):\n",
    "            st,end,_ = iv\n",
    "    #         ax.axvline(x=st, c='purple', lw=lw)\n",
    "    #         ax.axvline(x=end, c='purple', lw = lw)\n",
    "            ticks += [st, end]\n",
    "            ticklabels += [ '{}^'.format(itype), '{}v'.format(itype)]\n",
    "            ii += 2\n",
    "\n",
    "    if i == 0:\n",
    "        ax2 = ax.twiny()  # we want to share y axis, not x! x should be different\n",
    "        ax2.set_xlim(ax.get_xlim() )\n",
    "        #ax2.xaxis.tick\n",
    "        ax2.xaxis.set_label_position(\"top\")\n",
    "        ax2.set_xticks(ticks)\n",
    "        ax2.set_xticklabels(ticklabels,rotation=90);\n",
    "    "
   ]
  },
  {
   "cell_type": "code",
   "execution_count": null,
   "metadata": {},
   "outputs": [],
   "source": [
    "len(ticklabels), len(ticks)"
   ]
  },
  {
   "cell_type": "code",
   "execution_count": null,
   "metadata": {},
   "outputs": [],
   "source": [
    "print(ticks)"
   ]
  },
  {
   "cell_type": "code",
   "execution_count": null,
   "metadata": {},
   "outputs": [],
   "source": [
    "strec = 0\n",
    "#endrec = 300  \n",
    "epdur = endrec\n",
    "new_events = mne.make_fixed_length_events(filt_raw, start=strec, stop=endrec, duration=epdur)\n",
    "epochs = mne.Epochs(raw,new_events, tmin=0,tmax = epdur, baseline=None)\n",
    "\n",
    "# sh=2\n",
    "# cfq = 15\n",
    "# freqs = np.logspace(*np.log10([cfq-sh,cfq+sh ]), num=6)\n",
    "n_cycles = freqs #/ 2.  # different number of cycle per frequency\n",
    "power_noICA = mne.time_frequency.tfr_morlet(epochs, freqs=freqs, n_cycles=n_cycles, use_fft=True,\n",
    "                        return_itc=False, decim=decim, n_jobs=10)"
   ]
  },
  {
   "cell_type": "code",
   "execution_count": null,
   "metadata": {},
   "outputs": [],
   "source": [
    "utils.plotBandLocations(power_noICA,timeints,fbs,prefix=rawname_+'_beforeICA__regint{}_'.format(reg_intervals), anns=anns)\n",
    "plt.close()"
   ]
  },
  {
   "cell_type": "code",
   "execution_count": null,
   "metadata": {},
   "outputs": [],
   "source": [
    "power_afterICA.data.shape"
   ]
  },
  {
   "cell_type": "code",
   "execution_count": null,
   "metadata": {},
   "outputs": [],
   "source": [
    "power_afterICA.info"
   ]
  },
  {
   "cell_type": "code",
   "execution_count": null,
   "metadata": {},
   "outputs": [],
   "source": [
    "tfr = power_afterICA\n",
    "picks = mne.pick_types(tfr.info, meg='mag', ref_meg=False,exclude='bads')\n",
    "#timei = np.where( (tfr.times <= timax) * (tfr.times >=timin) )[0]\n",
    "data = tfr.data[picks]"
   ]
  },
  {
   "cell_type": "code",
   "execution_count": null,
   "metadata": {},
   "outputs": [],
   "source": [
    "mn,mx = np.min(data), np.max(data)"
   ]
  },
  {
   "cell_type": "code",
   "execution_count": null,
   "metadata": {},
   "outputs": [],
   "source": [
    "mn,mx = np.min(tfr.data), np.max(tfr.data)"
   ]
  },
  {
   "cell_type": "code",
   "execution_count": null,
   "metadata": {},
   "outputs": [],
   "source": []
  },
  {
   "cell_type": "code",
   "execution_count": null,
   "metadata": {},
   "outputs": [],
   "source": [
    "#fig = tfr.plot_topo(vmin=mn,vmax=mx)\n",
    "#%debug\n",
    "#fig = tfr.plot_topo(dB=0, mode='zlogratio', baseline=(0,10))"
   ]
  },
  {
   "cell_type": "code",
   "execution_count": null,
   "metadata": {},
   "outputs": [],
   "source": [
    "gc.collect()"
   ]
  },
  {
   "cell_type": "code",
   "execution_count": null,
   "metadata": {},
   "outputs": [],
   "source": [
    "fig = tfr.plot_joint(dB=0, mode='percent')"
   ]
  },
  {
   "cell_type": "code",
   "execution_count": null,
   "metadata": {},
   "outputs": [],
   "source": [
    "import functools"
   ]
  },
  {
   "cell_type": "code",
   "execution_count": null,
   "metadata": {},
   "outputs": [],
   "source": [
    "#help(functools.partial)"
   ]
  },
  {
   "cell_type": "code",
   "execution_count": null,
   "metadata": {},
   "outputs": [],
   "source": [
    "mne.time_frequency.tfr._prepare_picks(tfr.info, tfr.data, None, axis=0)"
   ]
  },
  {
   "cell_type": "code",
   "execution_count": null,
   "metadata": {},
   "outputs": [],
   "source": [
    "info2,data2 = _"
   ]
  },
  {
   "cell_type": "code",
   "execution_count": null,
   "metadata": {},
   "outputs": [],
   "source": [
    "data2.shape"
   ]
  },
  {
   "cell_type": "code",
   "execution_count": null,
   "metadata": {},
   "outputs": [],
   "source": []
  },
  {
   "cell_type": "code",
   "execution_count": null,
   "metadata": {},
   "outputs": [],
   "source": []
  },
  {
   "cell_type": "code",
   "execution_count": null,
   "metadata": {},
   "outputs": [],
   "source": []
  }
 ],
 "metadata": {
  "kernelspec": {
   "display_name": "Python 3",
   "language": "python",
   "name": "python3"
  },
  "language_info": {
   "codemirror_mode": {
    "name": "ipython",
    "version": 3
   },
   "file_extension": ".py",
   "mimetype": "text/x-python",
   "name": "python",
   "nbconvert_exporter": "python",
   "pygments_lexer": "ipython3",
   "version": "3.6.9"
  },
  "varInspector": {
   "cols": {
    "lenName": 16,
    "lenType": 16,
    "lenVar": 40
   },
   "kernels_config": {
    "python": {
     "delete_cmd_postfix": "",
     "delete_cmd_prefix": "del ",
     "library": "var_list.py",
     "varRefreshCmd": "print(var_dic_list())"
    },
    "r": {
     "delete_cmd_postfix": ") ",
     "delete_cmd_prefix": "rm(",
     "library": "var_list.r",
     "varRefreshCmd": "cat(var_dic_list()) "
    }
   },
   "types_to_exclude": [
    "module",
    "function",
    "builtin_function_or_method",
    "instance",
    "_Feature"
   ],
   "window_display": false
  }
 },
 "nbformat": 4,
 "nbformat_minor": 2
}
