{
 "cells": [
  {
   "cell_type": "code",
   "execution_count": null,
   "metadata": {},
   "outputs": [],
   "source": []
  },
  {
   "cell_type": "code",
   "execution_count": null,
   "metadata": {},
   "outputs": [],
   "source": [
    "%load_ext autoreload\n",
    "%autoreload 2"
   ]
  },
  {
   "cell_type": "code",
   "execution_count": null,
   "metadata": {},
   "outputs": [],
   "source": [
    "import os,sys\n",
    "import mne\n",
    "import utils  #my code\n",
    "import json\n",
    "import matplotlib.pyplot as plt\n",
    "import numpy as np\n",
    "import h5py\n",
    "import multiprocessing as mpr\n",
    "import matplotlib as mpl\n",
    "import time\n",
    "import gc;\n",
    "import scipy.signal as sig\n",
    "\n",
    "import numpy as np\n",
    "from sklearn.preprocessing import RobustScaler\n",
    "from sklearn.manifold import TSNE\n",
    "from sklearn.decomposition import PCA\n",
    "\n",
    "import utils_tSNE as utsne\n",
    "\n",
    "from matplotlib.backends.backend_pdf import PdfPages\n",
    "import utils_preproc as upre\n",
    "\n",
    "#mpl.use('Agg')\n",
    "\n",
    "############################\n",
    "\n",
    "if os.environ.get('DATA_DUSS') is not None:\n",
    "    data_dir = os.path.expandvars('$DATA_DUSS')\n",
    "else:\n",
    "    data_dir = '/home/demitau/data'\n",
    "\n",
    "\n",
    "rawname_= 'S01_on_hold'"
   ]
  },
  {
   "cell_type": "code",
   "execution_count": null,
   "metadata": {},
   "outputs": [],
   "source": [
    "raw_lfp_highres = upre.saveLFP_nonresampled(rawname_, skip_if_exist = 1, ret_if_exist = 1)\n"
   ]
  },
  {
   "cell_type": "code",
   "execution_count": null,
   "metadata": {},
   "outputs": [],
   "source": [
    "sfreq = int( raw_lfp_highres.info['sfreq'] )"
   ]
  },
  {
   "cell_type": "code",
   "execution_count": null,
   "metadata": {},
   "outputs": [],
   "source": [
    "windowsz = 1 * sfreq\n",
    "\n",
    "cf =  windowsz/ ( 5/(2*np.pi) * sfreq  )\n",
    "freq2cycles_mult = cf  # 1.2566370614359172\n",
    "print('cf= ',cf)\n"
   ]
  },
  {
   "cell_type": "code",
   "execution_count": null,
   "metadata": {},
   "outputs": [],
   "source": [
    "lfp_fname_full = os.path.join(data_dir, '{}_LFP_1kHz.fif'.format(rawname_) )\n",
    "raw_lfp_highres = mne.io.read_raw_fif(lfp_fname_full)\n"
   ]
  },
  {
   "cell_type": "code",
   "execution_count": null,
   "metadata": {},
   "outputs": [],
   "source": [
    "crop = 100\n",
    "raw_lfp_highres.crop(0,crop)"
   ]
  },
  {
   "cell_type": "code",
   "execution_count": null,
   "metadata": {},
   "outputs": [],
   "source": [
    "raw_lfp_highres.load_data()"
   ]
  },
  {
   "cell_type": "code",
   "execution_count": null,
   "metadata": {},
   "outputs": [],
   "source": [
    "fband = [15,30]"
   ]
  },
  {
   "cell_type": "code",
   "execution_count": null,
   "metadata": {},
   "outputs": [],
   "source": [
    "fband = [3,10]"
   ]
  },
  {
   "cell_type": "code",
   "execution_count": null,
   "metadata": {},
   "outputs": [],
   "source": [
    "fband = [100, 400]"
   ]
  },
  {
   "cell_type": "code",
   "execution_count": null,
   "metadata": {},
   "outputs": [],
   "source": [
    "\n",
    "\n",
    "\n",
    "#hilbraw.plot(duration=2)\n",
    "\n",
    "filtraw = raw_lfp_highres.copy()\n",
    "filtraw.filter(l_freq=fband[0],h_freq=fband[1])\n",
    "hilbraw = filtraw.copy()\n",
    "hilbraw.apply_hilbert()\n",
    "\n",
    "# smoothness of hilb_freq depends heavilly on the band we use for filtering hilbraw\n",
    "hilb_amp = hilbraw.copy()\n",
    "hilb_amp.apply_function(np.abs, dtype=np.float)\n",
    "\n",
    "times = hilb_amp.times"
   ]
  },
  {
   "cell_type": "code",
   "execution_count": null,
   "metadata": {},
   "outputs": [],
   "source": [
    "Ws_ptt = {}\n",
    "\n",
    "tfrs = {}\n"
   ]
  },
  {
   "cell_type": "code",
   "execution_count": null,
   "metadata": {},
   "outputs": [],
   "source": [
    "freqs_ = np.arange(3,200,1); n_cycles = 7; tfr_type = 'fix_ncyc, fix_freqstep'\n",
    "\n",
    "#freq2cycles_mult\n",
    "freqs_ = np.arange(3,200,2); n_cycles = freqs_ * 1.2 ;  tfr_type=  'ncyc_from_freq, fix_freqstep'\n",
    "\n",
    "freqs_,n_cycles = utils.prepFreqs()\n",
    "# fbands = [ [3,36], [36,90], [90,400]  ]\n",
    "# freqres = [ 2, 4, 8  ]\n",
    "# frmults = [1.2, 0.6, 0.3]\n",
    "# freqs_ = []\n",
    "# n_cycles  = []\n",
    "# prev_fe = -1\n",
    "# for fb,freq_step,fm in zip(fbands,freqres,frmults):\n",
    "#     if prev_fe < 0:\n",
    "#         fbstart = fb[0]\n",
    "#     else:\n",
    "#         fbstart = prev_fe + freq_step/2\n",
    "#     freqs_cur = np.arange(fbstart, fb[1], freq_step)\n",
    "#     freqs_ += freqs_cur.tolist(); \n",
    "#     n_cycles += (freqs_cur * fm).tolist()\n",
    "#     prev_fe = fb[1]\n",
    "\n",
    "# freqs_ = np.array(freqs_)\n",
    "# n_cycles = np.array(n_cycles)\n",
    "tfr_type=  'ncyc_from_freq, var_freqstep'"
   ]
  },
  {
   "cell_type": "code",
   "execution_count": null,
   "metadata": {},
   "outputs": [],
   "source": [
    "freqs_"
   ]
  },
  {
   "cell_type": "code",
   "execution_count": null,
   "metadata": {},
   "outputs": [],
   "source": [
    "#stepsize_sec = skip / sfreq"
   ]
  },
  {
   "cell_type": "code",
   "execution_count": null,
   "metadata": {},
   "outputs": [],
   "source": [
    "stepsize_sec = 0.25\n",
    "stepsize_sec = 1/8\n",
    "stepsize_bins = stepsize_sec * sfreq\n",
    "#decim = sfreq / stepsize_bins\n",
    "decim = sfreq * stepsize_sec\n",
    "decim = int(decim)\n",
    "print(decim)"
   ]
  },
  {
   "cell_type": "code",
   "execution_count": null,
   "metadata": {},
   "outputs": [],
   "source": [
    "help( mne.time_frequency.tfr_array_morlet)"
   ]
  },
  {
   "cell_type": "code",
   "execution_count": null,
   "metadata": {},
   "outputs": [],
   "source": [
    "dat_lfp_highres = raw_lfp_highres.get_data()\n",
    "\n",
    "sfreq_highres = raw_lfp_highres.info['sfreq']\n",
    "\n",
    "\n",
    "\n",
    "dat_for_tfr = dat_lfp_highres[None,:]\n",
    "tfrres = mne.time_frequency.tfr_array_morlet(dat_for_tfr, sfreq_highres,\n",
    "                                            freqs_, n_cycles, n_jobs=10, decim =decim)\n",
    "tfrres_LFP = tfrres[0]\n",
    "\n",
    "\n",
    "Ws = mne.time_frequency.morlet(sfreq, freqs_, n_cycles=n_cycles)"
   ]
  },
  {
   "cell_type": "code",
   "execution_count": null,
   "metadata": {},
   "outputs": [],
   "source": [
    "help(mne.time_frequency.tfr_array_morlet)"
   ]
  },
  {
   "cell_type": "code",
   "execution_count": null,
   "metadata": {},
   "outputs": [],
   "source": [
    "tfrres_LFP.shape"
   ]
  },
  {
   "cell_type": "code",
   "execution_count": null,
   "metadata": {},
   "outputs": [],
   "source": [
    "tfrs[tfr_type] = tfrres_LFP"
   ]
  },
  {
   "cell_type": "code",
   "execution_count": null,
   "metadata": {},
   "outputs": [],
   "source": [
    "Ws_ptt[tfr_type] = Ws"
   ]
  },
  {
   "cell_type": "code",
   "execution_count": null,
   "metadata": {},
   "outputs": [],
   "source": [
    "chi = 0"
   ]
  },
  {
   "cell_type": "code",
   "execution_count": null,
   "metadata": {},
   "outputs": [],
   "source": [
    "freqs_"
   ]
  },
  {
   "cell_type": "code",
   "execution_count": null,
   "metadata": {},
   "outputs": [],
   "source": [
    "freqis = np.where((freqs_ >= fband[0])  * (freqs_ < fband[1]))[0]\n",
    "slice_freq = slice(freqis[0], freqis[-1])\n",
    "bpow = np.mean( np.abs(tfrres_LFP[:, slice_freq, :] ) , axis=1)\n",
    "tfrtimes = times[::decim]"
   ]
  },
  {
   "cell_type": "code",
   "execution_count": null,
   "metadata": {},
   "outputs": [],
   "source": [
    "tfr_frav = np.mean( tfrres_LFP[:, slice_freq, :]  , axis=1)"
   ]
  },
  {
   "cell_type": "code",
   "execution_count": null,
   "metadata": {},
   "outputs": [],
   "source": [
    "tfrtimes.shape"
   ]
  },
  {
   "cell_type": "code",
   "execution_count": null,
   "metadata": {},
   "outputs": [],
   "source": [
    "bpow.shape"
   ]
  },
  {
   "cell_type": "code",
   "execution_count": null,
   "metadata": {},
   "outputs": [],
   "source": [
    "hilbraw[chi][0].shape"
   ]
  },
  {
   "cell_type": "code",
   "execution_count": null,
   "metadata": {},
   "outputs": [],
   "source": [
    "wsz = int(stepsize_bins)"
   ]
  },
  {
   "cell_type": "code",
   "execution_count": null,
   "metadata": {},
   "outputs": [],
   "source": [
    "bandpow_hilb = hilb_amp.get_data()\n",
    "nr =3; nc=1\n",
    "\n",
    "lims = (0,50)\n",
    "#lims = (0,1)\n",
    "fig,axs = plt.subplots(nr,nc, figsize=(15,4))\n",
    "\n",
    "ax = axs[0]\n",
    "datcur,_ = filtraw[chi]\n",
    "datcur = datcur[0]\n",
    "ax.plot(times,datcur, label='hilbert')\n",
    "\n",
    "ax = axs[1]\n",
    "datcur = bandpow_hilb[chi]\n",
    "datcur /= np.quantile(datcur, 0.9)\n",
    "ax.plot(times,datcur, label='hilbert')\n",
    "ax.set_title('bpow_hilbert')\n",
    "\n",
    "datcur = bandpow_hilb[chi]\n",
    "datcur /= np.quantile(datcur, 0.9)\n",
    "wsz = 400\n",
    "datcur = np.convolve(datcur, np.ones(wsz), mode='same') / wsz\n",
    "ax.plot(times,datcur, label='hilbert_mav')\n",
    "ax.set_title('bpow_hilbert_mav')\n",
    "\n",
    "datcur = bpow[chi]\n",
    "datcur /= np.quantile(datcur, 0.9)\n",
    "ax.plot(tfrtimes,datcur, label='wavelet')\n",
    "ax.set_title('bpow_wavelet')\n",
    "\n",
    "ax = axs[2]\n",
    "datcur,_ = hilbraw[chi]\n",
    "datcur = datcur[0]\n",
    "datcur /= np.quantile(np.abs(datcur), 0.9)\n",
    "ax.plot(times,datcur.real, label='hilbert')\n",
    "ax.set_title('bpow')\n",
    "\n",
    "datcur,_ = hilbraw[chi]\n",
    "datcur = datcur[0]\n",
    "datcur /= np.quantile(np.abs(datcur), 0.9)\n",
    "wsz = 50\n",
    "datcur = np.convolve(datcur, np.ones(wsz), mode='same') / wsz\n",
    "ax.plot(times,datcur.real, label='hilbert_mav')\n",
    "ax.set_title('real part')\n",
    "\n",
    "datcur = tfr_frav[chi]\n",
    "datcur /= np.quantile(np.abs(datcur), 0.9)\n",
    "ax.plot(tfrtimes,datcur.real, label='wavelet')\n",
    "#ax.set_title('bpow_wavelet')\n",
    "\n",
    "plt.suptitle(fband)\n",
    "\n",
    "for ax in axs:\n",
    "    ax.set_xlim(lims)\n",
    "    ax.legend(loc='upper left')\n",
    "    ax.grid()"
   ]
  },
  {
   "cell_type": "code",
   "execution_count": null,
   "metadata": {},
   "outputs": [],
   "source": []
  },
  {
   "cell_type": "code",
   "execution_count": null,
   "metadata": {},
   "outputs": [],
   "source": [
    "len(Ws)"
   ]
  },
  {
   "cell_type": "code",
   "execution_count": null,
   "metadata": {},
   "outputs": [],
   "source": [
    "help(np.fft.fftfreq)"
   ]
  },
  {
   "cell_type": "code",
   "execution_count": null,
   "metadata": {},
   "outputs": [],
   "source": [
    "max(freqs_)"
   ]
  },
  {
   "cell_type": "code",
   "execution_count": null,
   "metadata": {},
   "outputs": [],
   "source": [
    "Ws = Ws_ptt[tfr_type]"
   ]
  },
  {
   "cell_type": "code",
   "execution_count": null,
   "metadata": {},
   "outputs": [],
   "source": [
    "nwlt = len(Ws)\n",
    "#nwlt = 20\n",
    "use_single_row = 1\n",
    "wlts = np.arange(len(Ws))[:nwlt:5]\n",
    "wlts = np.arange(len(Ws))[:nwlt]\n",
    "\n",
    "if use_single_row:\n",
    "    nr = 1\n",
    "else:\n",
    "    nr = nwlt\n",
    "nc = 2\n",
    "\n",
    "flims = (0,50)\n",
    "hh=4\n",
    "fig,axs = plt.subplots(nr,nc,sharex = 'col', figsize=(15, nr*hh))\n",
    "fm = -np.inf\n",
    "for ii,i in enumerate(wlts):\n",
    "    wi = i\n",
    "    if use_single_row:\n",
    "        axT = axs[0]\n",
    "        axF = axs[1]\n",
    "    else:\n",
    "        axT = axs[i,0]\n",
    "        axF = axs[i,1] \n",
    "    \n",
    "    ax = axT\n",
    "    W = Ws[wi]\n",
    "    \n",
    "    Wabs = np.abs( W )\n",
    "    #q = np.quantile(Wabs  , 0.1)\n",
    "    q = np.max(Wabs) * 0.05\n",
    "    inds_td = np.where( Wabs>= q )[0]\n",
    "    ax.plot( np.arange(len(W)) / sfreq,  W.real  )\n",
    "    ax.axhline(y=q, ls=':', c='r')\n",
    "    ax.axhline(y=-q, ls=':', c='r')\n",
    "    \n",
    "    out = np.fft.fft(W)\n",
    "    \n",
    "    half = np.abs( out[ :len(out)//2 -1 ] )\n",
    "    #qf = np.quantile(half  , 0.1)\n",
    "    qf = np.max(half) * 0.05\n",
    "    inds = np.where( half >= qf )[0]\n",
    "    freqs_[wi]\n",
    "    print('{}: freq={}, bandwidh={} timeint={} (={} bins of {})'.format(i, freqs_[wi], 2 * len(inds) / sfreq, \n",
    "                                                       len(inds_td) / sfreq, len(inds_td) , len(W) ) )\n",
    "    \n",
    "    #fm = max(2 * 7 * inds[-1] / sfreq,fm)\n",
    "    \n",
    "    ax = axF\n",
    "    freqscur = np.fft.fftfreq(len(out), 1/sfreq)\n",
    "    ax.plot(freqscur,  np.abs(out)  )\n",
    "    ax.axhline(y=qf, ls=':', c='r')\n",
    "    \n",
    "for ii in range(len(wlts)):\n",
    "    #axs[1].set_xlim((0, np.max(freqs_)))\n",
    "    axs[1].set_xlim(flims)\n",
    "    axs[1].set_xlim(30,110)\n",
    "    #axs[1].set_xlim(110,110)"
   ]
  },
  {
   "cell_type": "code",
   "execution_count": null,
   "metadata": {},
   "outputs": [],
   "source": [
    "len(W)"
   ]
  },
  {
   "cell_type": "code",
   "execution_count": null,
   "metadata": {},
   "outputs": [],
   "source": [
    "#help(np.fft.fft)"
   ]
  },
  {
   "cell_type": "code",
   "execution_count": null,
   "metadata": {},
   "outputs": [],
   "source": [
    "# n_cycles divide by freq (from 0 to 2pi), multiply by 5  and  sample with 1/sfreq steps"
   ]
  },
  {
   "cell_type": "code",
   "execution_count": null,
   "metadata": {},
   "outputs": [],
   "source": [
    "2*np.pi / 5"
   ]
  },
  {
   "cell_type": "markdown",
   "metadata": {},
   "source": [
    "# from MNE code"
   ]
  },
  {
   "cell_type": "code",
   "execution_count": null,
   "metadata": {},
   "outputs": [],
   "source": [
    "# for k, f in enumerate(freqs):\n",
    "#     if len(n_cycles) != 1:\n",
    "#         this_n_cycles = n_cycles[k]\n",
    "#     else:\n",
    "#         this_n_cycles = n_cycles[0]\n",
    "#     # fixed or scale-dependent window\n",
    "#     sigma_t = this_n_cycles / (2.0 * np.pi * f)\n",
    "#     # this scaling factor is proportional to (Tallon-Baudry 98):\n",
    "#     # (sigma_t*sqrt(pi))^(-1/2);\n",
    "#     t = np.arange(0., 5. * sigma_t, 1.0 / sfreq) #--------------!!!!\n",
    "#     t = np.r_[-t[::-1], t[1:]]\n",
    "#     oscillation = np.exp(2.0 * 1j * np.pi * f * t)\n",
    "#     gaussian_enveloppe = np.exp(-t ** 2 / (2.0 * sigma_t ** 2))\n",
    "#     if zero_mean:  # to make it zero mean\n",
    "#         real_offset = np.exp(- 2 * (np.pi * f * sigma_t) ** 2)\n",
    "#         oscillation -= real_offset\n",
    "#     W = oscillation * gaussian_enveloppe\n",
    "#     W /= sqrt(0.5) * linalg.norm(W.ravel())\n",
    "#     Ws.append(W)\n",
    "\n",
    "\n",
    "\n",
    "# Ws = morlet(sfreq, freqs, n_cycles=n_cycles, zero_mean=zero_mean)\n",
    "\n",
    "# n_signals, n_times = X.shape\n",
    "# n_times_out = X[:, decim].shape[1]\n",
    "# n_freqs = len(Ws)\n",
    "\n",
    "# Ws_max_size = max(W.size for W in Ws)\n",
    "# size = n_times + Ws_max_size - 1\n",
    "\n",
    "\n",
    "# size = n_times + Ws_max_size - 1\n",
    "#     # Always use 2**n-sized FFT\n",
    "#     fsize = 2 ** int(np.ceil(np.log2(size)))"
   ]
  }
 ],
 "metadata": {
  "kernelspec": {
   "display_name": "Python 3",
   "language": "python",
   "name": "python3"
  },
  "language_info": {
   "codemirror_mode": {
    "name": "ipython",
    "version": 3
   },
   "file_extension": ".py",
   "mimetype": "text/x-python",
   "name": "python",
   "nbconvert_exporter": "python",
   "pygments_lexer": "ipython3",
   "version": "3.8.5"
  },
  "varInspector": {
   "cols": {
    "lenName": 16,
    "lenType": 16,
    "lenVar": 40
   },
   "kernels_config": {
    "python": {
     "delete_cmd_postfix": "",
     "delete_cmd_prefix": "del ",
     "library": "var_list.py",
     "varRefreshCmd": "print(var_dic_list())"
    },
    "r": {
     "delete_cmd_postfix": ") ",
     "delete_cmd_prefix": "rm(",
     "library": "var_list.r",
     "varRefreshCmd": "cat(var_dic_list()) "
    }
   },
   "types_to_exclude": [
    "module",
    "function",
    "builtin_function_or_method",
    "instance",
    "_Feature"
   ],
   "window_display": false
  }
 },
 "nbformat": 4,
 "nbformat_minor": 2
}
