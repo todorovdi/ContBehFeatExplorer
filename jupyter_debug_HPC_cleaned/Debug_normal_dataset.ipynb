{
 "cells": [
  {
   "cell_type": "code",
   "execution_count": null,
   "id": "1d05e596",
   "metadata": {},
   "outputs": [],
   "source": [
    "%load_ext autoreload\n",
    "%autoreload 2\n",
    "%precision %.4f\n",
    "import numpy as np\n",
    "np.set_printoptions(precision=4, suppress=1)\n",
    "import utils_postprocess_HPC as postp\n",
    "import globvars\n",
    "\n",
    "import mne; print(  mne.__version__ )\n",
    "from IPython import get_ipython; ipython = get_ipython()\n",
    "\n",
    "f = open('../run/_runstrings_ML.txt','r')\n",
    "runstrings = f.readlines()\n",
    "f.close()\n",
    "print(len(runstrings))"
   ]
  },
  {
   "cell_type": "code",
   "execution_count": null,
   "id": "aa909470",
   "metadata": {
    "code_folding": []
   },
   "outputs": [],
   "source": [
    "rn = 'S01_on'\n",
    "output_subdir = 'per_subj_per_medcond_best_LFP_wholectx_oversample_LFP256_covmat_entire'\n",
    "prefixes = ['onlyH_act_only11', 'onlyH_act_only12']\n",
    "inds = []\n",
    "for rsi,rs in enumerate(runstrings):\n",
    "    if rs.find('_test') >= 0 or rs.find('_fast') >= 0:\n",
    "        continue\n",
    "    items = rs.split()\n",
    "    a = items[1::2]\n",
    "    b = items[2::2]\n",
    "    d = dict( zip(a,b) )\n",
    "\n",
    "    c1 = d['-r'].find(rn) >= 0 \n",
    "    c1 &= (d['--prefix'] in prefixes)\n",
    "    c1 &= (d['--groupings_to_use'] == 'merge_nothing')\n",
    "    c1 &= (d['--int_types_to_use'] == 'basic')\n",
    "    c1 &= (d['--output_subdir'] == output_subdir)\n",
    "    \n",
    "    \n",
    "    #c2 = d['--prefix'] in key_founds\n",
    "\n",
    "    if c1:\n",
    "        inds += [rsi]\n",
    "        #rsis += [rsi]\n",
    "        print(f'{rsi:4} = {rn} ', rs)\n",
    "        #print(rsi)\n",
    "\n",
    "inds"
   ]
  },
  {
   "cell_type": "code",
   "execution_count": null,
   "id": "5919b105",
   "metadata": {},
   "outputs": [],
   "source": [
    "#runstrings[istr]"
   ]
  },
  {
   "cell_type": "code",
   "execution_count": null,
   "id": "c64330f9",
   "metadata": {},
   "outputs": [],
   "source": [
    "import gc; gc.collect()"
   ]
  },
  {
   "cell_type": "markdown",
   "id": "644475b7",
   "metadata": {},
   "source": [
    "# import globvars as gv\n",
    "gv.DEBUG_MODE=1\n",
    "istr2v = {}\n",
    "#or istr in [0]:#inds:\n",
    "for istr in [3]: #inds:    \n",
    "    # istr = 9\n",
    "    # istr = 1300\n",
    "    mstr0 = '%run -i ../run/' + runstrings[istr][:-1] \n",
    "    #mstr0 += ' --exit_after LDA_best_LFP'\n",
    "    #mstr0 += ' --exit_after XGB_main' \n",
    "    #mstr0 += ' --exit_after corr_matrix' \n",
    "    #mstr0 += ' --exit_after load' \n",
    "    mstr0 += ' --output_subdir test'\n",
    "    #mstr0 += ' -r S01_off_hold,S04_off_move,S03_off_move'\n",
    "    #mstr0 += ' --XGB_tune_param 0'\n",
    "    #mstr0 += ' --discard_outliers 0' \n",
    "    #mstr0 += ' --use_matching_folds_main_LFP 1'\n",
    "    #mstr0 += ' --skip_LDA 1' \n",
    "    mstr0 += ' --n_jobs 1 --n_permutations_permtest 2' \n",
    "    #mstr0 += '--load_XGB_params_auto 0 --load_EBM_params_auto 1' \n",
    "    #mstr0 += ' --XGB_tune_param 0 --EBM_tune_param 0 --subskip_fit 8 --n_jobs 1' \n",
    "    #mstr0 += ' --use_matching_folds_main_LFP 0'\n",
    "    print(mstr0)\n",
    "    \n",
    "    ipython.magic(mstr0)\n",
    "    #istr2Xpri[istr] = X_pri\n",
    "    #istr2C[istr] = C\n",
    "    \n",
    "    istr2v[istr] = LFP_side_to_use\n",
    "    #istr2v[istr] = Xsubset_to_fit\n",
    "    #istr2v[istr] = artif_manual_bininds\n",
    "    #istr2v[istr] = bininds_clean2\n",
    "    #istr2v[istr] = Xconcat_good_cur\n",
    "    #istr2v[istr] = Xconcat_artif_nan\n",
    "    #istr2v[istr] = ivalis_artif_tb_indarrays_merged,Xconcat,featnames_for_artif_setnan,test_mode,featnames"
   ]
  },
  {
   "cell_type": "code",
   "execution_count": null,
   "id": "517abf6d",
   "metadata": {},
   "outputs": [],
   "source": [
    "prescale_data_pri"
   ]
  },
  {
   "cell_type": "code",
   "execution_count": null,
   "id": "cbb9068b",
   "metadata": {},
   "outputs": [],
   "source": [
    "rescale_feats_pri"
   ]
  },
  {
   "cell_type": "code",
   "execution_count": null,
   "id": "d2efab48",
   "metadata": {},
   "outputs": [],
   "source": [
    "inp_sub,os.listdir(inp_sub)"
   ]
  },
  {
   "cell_type": "code",
   "execution_count": null,
   "id": "de9dea2c",
   "metadata": {},
   "outputs": [],
   "source": [
    "fname_feat_full_pri"
   ]
  },
  {
   "cell_type": "code",
   "execution_count": null,
   "id": "e432fc6c",
   "metadata": {},
   "outputs": [],
   "source": [
    "feat_pars_pri"
   ]
  },
  {
   "cell_type": "code",
   "execution_count": null,
   "id": "2a0cd39b",
   "metadata": {},
   "outputs": [],
   "source": []
  },
  {
   "cell_type": "code",
   "execution_count": null,
   "id": "97d9132d",
   "metadata": {},
   "outputs": [],
   "source": [
    "aincaux = '149,154,192,193,194,195,196,197,198,199,200,201,202,203,204,205,206,207,208,209,210,211,212,213,214,215,216,217,218,219,220,221,222,223,224,225,226,227,228,229,230,231,232,233,234,235,236,237,238,239,240,241,242,243,244,245,246,247,248,249,250,251,252,253,254,255,418,433,434,435,436,437,438,439,440,441,442,443,444,445,446,447,448,449,450,451,452,453,454,455,456,457,458,459,460,461,462,463,464,465'\n",
    "aincaux = '670,682-683,685-688,764,936-944,1011,1015-1023,1155,1190-1200,1267-1279,1446-1456,1523-1535,1700-1712,1779-1791,1956-1968,2034-2047,2212-2224,2290-2303,2468-2480,2544-2559,2724-2736,2800-2815,2980-2992,3056-3071,3236-3248'\n",
    "a = aincaux.split(',')\n",
    "anoaux = list(sorted(set( np.array(list(map(int,a))) % 256 )))\n",
    "anoaux_s = ','.join( list(map(str,anoaux)) )\n",
    "print(anoaux_s)"
   ]
  },
  {
   "cell_type": "code",
   "execution_count": null,
   "id": "28a611d0",
   "metadata": {},
   "outputs": [],
   "source": [
    "686%256"
   ]
  },
  {
   "cell_type": "code",
   "execution_count": null,
   "id": "9d84682c",
   "metadata": {},
   "outputs": [],
   "source": [
    "len(anoaux)"
   ]
  },
  {
   "cell_type": "code",
   "execution_count": null,
   "id": "a13977c4",
   "metadata": {},
   "outputs": [],
   "source": [
    "len(clgfc), len(class_labels_good_for_classif)"
   ]
  },
  {
   "cell_type": "code",
   "execution_count": null,
   "id": "ca01b1c6",
   "metadata": {},
   "outputs": [],
   "source": [
    "scale_data_combine_type_pri"
   ]
  },
  {
   "cell_type": "code",
   "execution_count": null,
   "id": "eef90581",
   "metadata": {},
   "outputs": [],
   "source": [
    "scale_feat_combine_type"
   ]
  },
  {
   "cell_type": "code",
   "execution_count": null,
   "id": "10131b09",
   "metadata": {},
   "outputs": [],
   "source": [
    "from pprint import pprint"
   ]
  },
  {
   "cell_type": "code",
   "execution_count": null,
   "id": "89e6af98",
   "metadata": {},
   "outputs": [],
   "source": [
    "pprint?"
   ]
  },
  {
   "cell_type": "code",
   "execution_count": null,
   "id": "923c53c1",
   "metadata": {},
   "outputs": [],
   "source": [
    "for s in list(best_LFP_info['S04_on']):\n",
    "    if s.find('modLFP_onlyH_brainboth_disjoint') >= 0:\n",
    "        print(s)"
   ]
  },
  {
   "cell_type": "code",
   "execution_count": null,
   "id": "a054e362",
   "metadata": {},
   "outputs": [],
   "source": [
    "pprint(best_LFP_info, depth=2, compact=True)"
   ]
  },
  {
   "cell_type": "code",
   "execution_count": null,
   "id": "b9081f8e",
   "metadata": {},
   "outputs": [],
   "source": [
    "list(r.keys())"
   ]
  },
  {
   "cell_type": "code",
   "execution_count": null,
   "id": "05e268d4",
   "metadata": {},
   "outputs": [],
   "source": [
    "int_types_to_use_sub, int_types_to_use"
   ]
  },
  {
   "cell_type": "code",
   "execution_count": null,
   "id": "ee9e2965",
   "metadata": {},
   "outputs": [],
   "source": [
    "gp.int_type_datset_rel"
   ]
  },
  {
   "cell_type": "code",
   "execution_count": null,
   "id": "4d31037f",
   "metadata": {},
   "outputs": [],
   "source": [
    "results_cur['XGB_analysis_versions']['all_present_features']\\\n",
    "    ['across']['medcond']['perfs_CV'][0].keys()"
   ]
  },
  {
   "cell_type": "code",
   "execution_count": null,
   "id": "a1ca07fe",
   "metadata": {},
   "outputs": [],
   "source": [
    "len(results_cur['XGB_analysis_versions']['all_present_features']\\\n",
    "    ['across']['medcond']['perfs_CV'])"
   ]
  },
  {
   "cell_type": "code",
   "execution_count": null,
   "id": "6c22aaac",
   "metadata": {},
   "outputs": [],
   "source": [
    "fold_info.keys()"
   ]
  },
  {
   "cell_type": "code",
   "execution_count": null,
   "id": "14f8ca14",
   "metadata": {},
   "outputs": [],
   "source": [
    "for perf,(train_inds,test_inds) in \\\n",
    "    zip(r0_across['perfs_CV'],foldsg_train_holdout):\n",
    "    rnsrep_ = rawname_rep_concat_for_fit[inds_not_neut][::subskip_fit]\n",
    "    \n",
    "    rns_train = list(set(rnsrep_[train_inds]))\n",
    "    rns_test = list(set(rnsrep_[test_inds]))\n",
    "    perf['generalization_pattern_from_fold'] = '{}->{}'.format(\n",
    "        ','.join(rns_train),','.join(rns_test))\n",
    "    perf\n",
    "    break"
   ]
  },
  {
   "cell_type": "code",
   "execution_count": null,
   "id": "a757b08b",
   "metadata": {},
   "outputs": [],
   "source": [
    "perf['generalization_pattern_from_fold']"
   ]
  },
  {
   "cell_type": "code",
   "execution_count": null,
   "id": "dc2d703c",
   "metadata": {},
   "outputs": [],
   "source": [
    "pdict = r0_across['perfs_CV']\n",
    "\n",
    "#perfs_add_CV\n",
    "d = {}\n",
    "for perf in pdict:\n",
    "    k = perf['generalization_pattern_from_fold']\n",
    "    d[k] = perf['balanced_accuracy']\n",
    "    print(perf)\n",
    "#perfs_add_CV['genpat2bacc'] = d"
   ]
  },
  {
   "cell_type": "code",
   "execution_count": null,
   "id": "31415292",
   "metadata": {},
   "outputs": [],
   "source": [
    "group_labels_dict['medcond']"
   ]
  },
  {
   "cell_type": "code",
   "execution_count": null,
   "id": "5e215be2",
   "metadata": {},
   "outputs": [],
   "source": [
    "foldsg_train_holdout"
   ]
  },
  {
   "cell_type": "code",
   "execution_count": null,
   "id": "c31b5adc",
   "metadata": {},
   "outputs": [],
   "source": [
    "train_inds"
   ]
  },
  {
   "cell_type": "code",
   "execution_count": null,
   "id": "13c41d49",
   "metadata": {},
   "outputs": [],
   "source": [
    "test_inds"
   ]
  },
  {
   "cell_type": "code",
   "execution_count": null,
   "id": "724111b6",
   "metadata": {},
   "outputs": [],
   "source": []
  },
  {
   "cell_type": "code",
   "execution_count": null,
   "id": "a5f8f6d5",
   "metadata": {},
   "outputs": [],
   "source": [
    "len(group_labels)"
   ]
  },
  {
   "cell_type": "code",
   "execution_count": null,
   "id": "da19db2e",
   "metadata": {},
   "outputs": [],
   "source": [
    "int_types_to_use"
   ]
  },
  {
   "cell_type": "code",
   "execution_count": null,
   "id": "5e84e02e",
   "metadata": {},
   "outputs": [],
   "source": [
    "discard_remaining_int_types_during_fit"
   ]
  },
  {
   "cell_type": "code",
   "execution_count": null,
   "id": "fcf1ac24",
   "metadata": {},
   "outputs": [],
   "source": [
    "for gln,gls in group_labels_dict.items():\n",
    "    print(len(gls))"
   ]
  },
  {
   "cell_type": "code",
   "execution_count": null,
   "id": "9149ab7a",
   "metadata": {},
   "outputs": [],
   "source": [
    "len(rawname_rep_concat_for_fit),len(bininds_for_fit), len(group_labels)"
   ]
  },
  {
   "cell_type": "code",
   "execution_count": null,
   "id": "b49b25fa",
   "metadata": {},
   "outputs": [],
   "source": [
    "len(rawname_rep_concat_for_fit[inds_not_neut][::subskip_fit]), len(group_labels[::subskip_fit]),len(test_inds) + len(train_inds)"
   ]
  },
  {
   "cell_type": "code",
   "execution_count": null,
   "id": "acb70310",
   "metadata": {},
   "outputs": [],
   "source": [
    "rawname_rep_concat_for_fit[0],rawname_rep_concat_for_fit[207]"
   ]
  },
  {
   "cell_type": "code",
   "execution_count": null,
   "id": "eabb4517",
   "metadata": {},
   "outputs": [],
   "source": [
    "train_inds,test_inds = foldsg_train_holdout[0]\n",
    "rrcff[train_inds]"
   ]
  },
  {
   "cell_type": "code",
   "execution_count": null,
   "id": "961cbb79",
   "metadata": {},
   "outputs": [],
   "source": [
    "rrcff[test_inds]"
   ]
  },
  {
   "cell_type": "code",
   "execution_count": null,
   "id": "155b3b4c",
   "metadata": {},
   "outputs": [],
   "source": [
    "rrcff = results_cur['rawname_rep_concat_y_compat']"
   ]
  },
  {
   "cell_type": "code",
   "execution_count": null,
   "id": "85652d6b",
   "metadata": {},
   "outputs": [],
   "source": [
    "len(rrcff)"
   ]
  },
  {
   "cell_type": "code",
   "execution_count": null,
   "id": "71d88a25",
   "metadata": {},
   "outputs": [],
   "source": [
    "list(rawname_rep_concat)[:10],list(rawname_rep_concat)[-10:]"
   ]
  },
  {
   "cell_type": "code",
   "execution_count": null,
   "id": "3580cafe",
   "metadata": {},
   "outputs": [],
   "source": [
    "sum([[2],[3]],[])"
   ]
  },
  {
   "cell_type": "code",
   "execution_count": null,
   "id": "fbcf431b",
   "metadata": {},
   "outputs": [],
   "source": [
    "for grouping_key in mult_clf_results_pg_cur:                                                                                               |306         # classified even on ground truth level                                                                                               \n",
    "    grouping = gp.groupings[grouping_key]                                                                                                  |307         self.groupings = {'merge_movements':['hold','move'],                                                                                  \n",
    "                                                                                                                                           |308                     'merge_all_not_trem':['notrem','hold','move'],                                                                            \n",
    "    mult_clf_results_pit = {}                                                                                                              |309                     'merge_nothing':[],                                                                                                       \n",
    "    #for int_types_key in int_types_to_use:                                                                                                |310                           'merge_within_task':int_types_all,                                                                                  \n",
    "    for int_types_key in mult_clf_results_pg_cur[grouping_key]:                                                                            |311                           'merge_within_medcond':int_types_all,                                                                               \n",
    "        r = mult_clf_results_pg_cur[grouping_key][int_types_key]                                                                           |312                           'merge_within_subj':int_types_all     ,                                                                             \n",
    "        if r is not None:                                                                                                                  |313                           'merge_within_medcond_across':int_types_all     }                                                                   \n",
    "            r['transformed_imputed'] = r['transformed_imputed'][sl]                                                                        |314                                                                                                                                               \n",
    "            r['transformed_imputed_CV'] = r['transformed_imputed_CV'][sl]                                                                  |315         # I prefer to have globally non-intersecting class ids                                                                                \n",
    "                                                                                                                                           |316         basic_shift = len(int_types_all) * 2 + 10  # just in case                                                                             \n",
    "            trkey = 'X_transformed'                                                                                                        |317         self.int_types_aux_cid_shift = { 'subj':basic_shift}                                                                                  \n",
    "            # crop everything                                                                                                              |318         self.int_types_aux_cid_shift['subj_medcond'] = \\                                                                                      \n",
    "            lda_analysis_vers =  r['LDA_analysis_versions']                                                                                |319             self.int_types_aux_cid_shift['subj'] + len(self.subj_strs_all) * 2                                                                \n",
    "            for featset_name, anver_cur in lda_analysis_vers.items():                                                                      |320         self.int_types_aux_cid_shift['subj_medcond_task'] = \\                                                                                 \n",
    "                for fit_type_name, fit_cur in anver_cur.items():                                                                           |321             self.int_types_aux_cid_shift['subj_medcond'] + len(self.subj_medcond_strs_all) * 2                                                \n",
    "                    if trkey in fit_cur:                                                                                                   |322         self.int_types_aux_cid_shift['medcond'] = \\                                                                                           \n",
    "                        fit_cur[trkey] = fit_cur[trkey][sl]                              "
   ]
  },
  {
   "cell_type": "code",
   "execution_count": null,
   "id": "b65808b6",
   "metadata": {},
   "outputs": [],
   "source": [
    "import traceback\n",
    "try:\n",
    "    r0_across = utsne.getPredPowersCV(clf_XGB,\n",
    "        X_orig,y_orig,\n",
    "        class_ind_to_check_lenc, printLog = 0,\n",
    "        n_splits=ngroups, add_fitopts=add_fitopts,\n",
    "        add_clf_creopts=add_clf_creopts,\n",
    "        ret_clf_obj=False, seed=0,\n",
    "        balancing=XGB_balancing,\n",
    "        fold_split=foldsg_train_holdout,\n",
    "        perm_test=0)\n",
    "except Exception as e:\n",
    "    print('EXC',e)\n",
    "    exc_info = sys.exc_info()\n",
    "    exc = traceback.TracebackException(*exc_info, capture_locals=True)\n",
    "    ei = exc_info[2]    \n",
    "    #display(ei.tb_frame)\n",
    "    psf = ei\n",
    "\n",
    "    lfprev = None; lf = None\n",
    "    lfs = []\n",
    "    di = 0\n",
    "    while psf.tb_frame is not None:\n",
    "        stackframe = psf.tb_frame        \n",
    "\n",
    "        psf = psf.tb_next  \n",
    "        if ('conda' not in stackframe.f_code.co_filename) and\\\n",
    "            ('mamba' not in stackframe.f_code.co_filename):        \n",
    "            display(di, stackframe)\n",
    "            lfprev = lf\n",
    "            lf = stackframe.f_locals\n",
    "            lfs += [lf]\n",
    "            di += 1\n",
    "        if psf is None:\n",
    "            break\n",
    "        \n",
    "    excsfmt = traceback.format_exc()\n",
    "    print(excsfmt)"
   ]
  },
  {
   "cell_type": "code",
   "execution_count": null,
   "id": "0111f7d4",
   "metadata": {},
   "outputs": [],
   "source": [
    "n_classes"
   ]
  },
  {
   "cell_type": "code",
   "execution_count": null,
   "id": "292d253d",
   "metadata": {},
   "outputs": [],
   "source": [
    "len(set(y_orig))"
   ]
  },
  {
   "cell_type": "code",
   "execution_count": null,
   "id": "58fac958",
   "metadata": {},
   "outputs": [],
   "source": [
    "rawnames"
   ]
  },
  {
   "cell_type": "code",
   "execution_count": null,
   "id": "61545827",
   "metadata": {},
   "outputs": [],
   "source": [
    "set(lf['y_train']),set(lf['y_test']),lf['n_classes']"
   ]
  },
  {
   "cell_type": "code",
   "execution_count": null,
   "id": "2427b584",
   "metadata": {},
   "outputs": [],
   "source": [
    "lf.keys()"
   ]
  },
  {
   "cell_type": "code",
   "execution_count": null,
   "id": "e8ba9a3f",
   "metadata": {},
   "outputs": [],
   "source": [
    "group_fold_stratif"
   ]
  },
  {
   "cell_type": "code",
   "execution_count": null,
   "id": "262ceea9",
   "metadata": {},
   "outputs": [],
   "source": [
    "foldsg_train_holdout"
   ]
  },
  {
   "cell_type": "code",
   "execution_count": null,
   "id": "812e2f14",
   "metadata": {},
   "outputs": [],
   "source": [
    "set(y_train)"
   ]
  },
  {
   "cell_type": "code",
   "execution_count": null,
   "id": "d10a86cb",
   "metadata": {},
   "outputs": [],
   "source": [
    "# a lot of issues with selecting best LFP even though \n",
    "# it does not really matter that much\n",
    "# would have been better if I just decided that it's not important \n",
    "# in the first place in one analysis and then always used one"
   ]
  },
  {
   "cell_type": "code",
   "execution_count": null,
   "id": "60bd4475",
   "metadata": {},
   "outputs": [],
   "source": [
    "rncombinstr"
   ]
  },
  {
   "cell_type": "code",
   "execution_count": null,
   "id": "a7c2b73b",
   "metadata": {},
   "outputs": [],
   "source": [
    "for fn in fnf_searchLFPres_pri:\n",
    "    print(fn.split('/')[-1])"
   ]
  },
  {
   "cell_type": "code",
   "execution_count": null,
   "id": "574bca20",
   "metadata": {},
   "outputs": [],
   "source": [
    "brain_side_to_use"
   ]
  },
  {
   "cell_type": "code",
   "execution_count": null,
   "id": "95593b9b",
   "metadata": {},
   "outputs": [],
   "source": [
    "sm = 'S04_on'\n",
    "# idk which I used\n",
    "best_LFP_info[sm].keys()"
   ]
  },
  {
   "cell_type": "code",
   "execution_count": null,
   "id": "c404a975",
   "metadata": {},
   "outputs": [],
   "source": [
    "#best_LFP_info.keys() =\n",
    "#['S04_on', 'S01_off', 'S07_on', 'S05_on', 'S02_off', 'S02_on', 'S05_off', \n",
    "# 'S01_on', 'S04_off', 'S03_off', 'S07_off']"
   ]
  },
  {
   "cell_type": "code",
   "execution_count": null,
   "id": "ac555ec5",
   "metadata": {},
   "outputs": [],
   "source": [
    "artif_force_all_modalities"
   ]
  },
  {
   "cell_type": "code",
   "execution_count": null,
   "id": "7c050697",
   "metadata": {},
   "outputs": [],
   "source": [
    "fnf_searchLFPres_pri"
   ]
  },
  {
   "cell_type": "code",
   "execution_count": null,
   "id": "1d9b4bf8",
   "metadata": {},
   "outputs": [],
   "source": [
    "arg"
   ]
  },
  {
   "cell_type": "code",
   "execution_count": null,
   "id": "007fd37b",
   "metadata": {},
   "outputs": [],
   "source": [
    "pars_searchLFP['rawnames']"
   ]
  },
  {
   "cell_type": "code",
   "execution_count": null,
   "id": "f113a623",
   "metadata": {},
   "outputs": [],
   "source": [
    "pars['rawnames']"
   ]
  },
  {
   "cell_type": "code",
   "execution_count": null,
   "id": "f816a030",
   "metadata": {},
   "outputs": [],
   "source": [
    "rawnames"
   ]
  },
  {
   "cell_type": "code",
   "execution_count": null,
   "id": "a16c2a56",
   "metadata": {},
   "outputs": [],
   "source": [
    "filename_to_save"
   ]
  },
  {
   "cell_type": "code",
   "execution_count": null,
   "id": "2e6726d5",
   "metadata": {},
   "outputs": [],
   "source": [
    "r0_across = utsne.getPredPowersCV(clf_XGB,\n",
    "    X_orig,y_orig,\n",
    "    class_ind_to_check_lenc, printLog = 0,\n",
    "    n_splits=ngroups, add_fitopts=add_fitopts,\n",
    "    add_clf_creopts=add_clf_creopts,\n",
    "    ret_clf_obj=False, seed=0, balancing=XGB_balancing,\n",
    "    fold_split=foldsg_train_holdout,\n",
    "    perm_test=0)\n",
    "rc['across'][label_group_name] = r0_across\n",
    "\n",
    "perfstr = utsne.sprintfPerfs(r0_across['perf_aver'])\n",
    "print(f'{label_group_name} label grouping gave perf {perfstr}')\n"
   ]
  },
  {
   "cell_type": "code",
   "execution_count": null,
   "id": "fb54d1d3",
   "metadata": {},
   "outputs": [],
   "source": [
    "fsh"
   ]
  },
  {
   "cell_type": "code",
   "execution_count": null,
   "id": "e8d686cb",
   "metadata": {},
   "outputs": [],
   "source": [
    "len(group_labels), len(X_for_heavy)"
   ]
  },
  {
   "cell_type": "code",
   "execution_count": null,
   "id": "2583c9db",
   "metadata": {},
   "outputs": [],
   "source": [
    "Xconcat_good_cur.shape"
   ]
  },
  {
   "cell_type": "code",
   "execution_count": null,
   "id": "e606d4d9",
   "metadata": {},
   "outputs": [],
   "source": [
    "len(class_labels_good_for_classif)"
   ]
  },
  {
   "cell_type": "code",
   "execution_count": null,
   "id": "23cf93be",
   "metadata": {},
   "outputs": [],
   "source": [
    "len(group_labels) / 32"
   ]
  },
  {
   "cell_type": "code",
   "execution_count": null,
   "id": "e794da24",
   "metadata": {},
   "outputs": [],
   "source": [
    "LFP_side_to_use"
   ]
  },
  {
   "cell_type": "code",
   "execution_count": null,
   "id": "73272690",
   "metadata": {},
   "outputs": [],
   "source": [
    "use_matching_folds_main_LFP"
   ]
  },
  {
   "cell_type": "code",
   "execution_count": null,
   "id": "e6c2624f",
   "metadata": {},
   "outputs": [],
   "source": [
    "#fnf_searchLFPres_pri"
   ]
  },
  {
   "cell_type": "code",
   "execution_count": null,
   "id": "0d740f32",
   "metadata": {},
   "outputs": [],
   "source": [
    "savefile_rawname_format_best_LFP, rawnames"
   ]
  },
  {
   "cell_type": "code",
   "execution_count": null,
   "id": "b8fbbbbb",
   "metadata": {},
   "outputs": [],
   "source": [
    "rawnames_cursubj"
   ]
  },
  {
   "cell_type": "code",
   "execution_count": null,
   "id": "6391b0c4",
   "metadata": {},
   "outputs": [],
   "source": []
  },
  {
   "cell_type": "code",
   "execution_count": null,
   "id": "6589528e",
   "metadata": {},
   "outputs": [],
   "source": [
    "from pprint import pprint as ppr\n",
    "ppr(best_LFP_info['S01_off'], depth=1)"
   ]
  },
  {
   "cell_type": "code",
   "execution_count": null,
   "id": "fc6335df",
   "metadata": {},
   "outputs": [],
   "source": [
    "rncombinstr"
   ]
  },
  {
   "cell_type": "code",
   "execution_count": null,
   "id": "06f8cab8",
   "metadata": {},
   "outputs": [],
   "source": [
    "for k,v in istr2v.items():\n",
    "    print(v)\n",
    "    #print(v.shape)\n",
    "    \n",
    "    #rawnames, rawtimes_pri, suffixes, (crop_start,crop_end), side_switch_happened_pri, wbd_pri, sfreq = v\n",
    "    #print(rawnames, suffixes, (crop_start,crop_end), side_switch_happened_pri, sfreq)\n",
    "    #print(rawtimes_pri[0] )\n",
    "#     ivalis_artif_tb_indarrays_merged,featnames_for_artif_setnan = v\n",
    "#     v = ivalis_artif_tb_indarrays_merged\n",
    "#     print(k)\n",
    "#     for k,vv in v.items():\n",
    "#         print('   ',k,len(vv))"
   ]
  },
  {
   "cell_type": "code",
   "execution_count": null,
   "id": "c587a7e4",
   "metadata": {},
   "outputs": [],
   "source": [
    "s = ''\n",
    "for p,a in rc_searchLFP['pars'].items():\n",
    "    if p in ['iniAdd', 'code_ver']:\n",
    "        continue\n",
    "    if p.find('artif') >= 0:\n",
    "        print(p,a)\n",
    "    s += f' --{p} {a}'\n",
    "print(s)\n",
    "searchLFP_runstr = '%run -i ../run/run_ML.py ' + s + ' --exit_after corr_matrix'"
   ]
  },
  {
   "cell_type": "code",
   "execution_count": null,
   "id": "2f04b8d1",
   "metadata": {},
   "outputs": [],
   "source": []
  },
  {
   "cell_type": "code",
   "execution_count": null,
   "id": "8f9c28dc",
   "metadata": {
    "code_folding": [
     3
    ]
   },
   "outputs": [],
   "source": [
    "istr2v = {}\n",
    "torun = [mstr0,  searchLFP_runstr]\n",
    "for i,mstr_to_run in enumerate(torun):\n",
    "    try:\n",
    "        ipython.magic(mstr_to_run)\n",
    "    except Exception as e:\n",
    "        print(e)\n",
    "        pass\n",
    "    \n",
    "    Xconcat_artif_nan = utils.setArtifNaN(Xconcat,\n",
    "        ivalis_artif_tb_indarrays_merged,\n",
    "        featnames_for_artif_setnan, ignore_shape_warning=test_mode)\n",
    "    \n",
    "    #istr2v[i] = ivalis_artif_tb_indarrays_merged,featnames_for_artif_setnan\n",
    "    istr2v[i] = pars"
   ]
  },
  {
   "cell_type": "code",
   "execution_count": null,
   "id": "0dcecdbe",
   "metadata": {},
   "outputs": [],
   "source": [
    "istr2v[0]['baseline_int_type']"
   ]
  },
  {
   "cell_type": "code",
   "execution_count": null,
   "id": "aa509a3a",
   "metadata": {},
   "outputs": [],
   "source": [
    "opts"
   ]
  },
  {
   "cell_type": "code",
   "execution_count": null,
   "id": "d8bbc8be",
   "metadata": {},
   "outputs": [],
   "source": [
    "istr2v[1]['cmd']"
   ]
  },
  {
   "cell_type": "code",
   "execution_count": null,
   "id": "039d7ac2",
   "metadata": {},
   "outputs": [],
   "source": [
    "istr2v[0].keys()"
   ]
  },
  {
   "cell_type": "code",
   "execution_count": null,
   "id": "a899c831",
   "metadata": {},
   "outputs": [],
   "source": []
  },
  {
   "cell_type": "code",
   "execution_count": null,
   "id": "183f34a9",
   "metadata": {},
   "outputs": [],
   "source": [
    "artif_force_all_modalities"
   ]
  },
  {
   "cell_type": "code",
   "execution_count": null,
   "id": "116e4205",
   "metadata": {},
   "outputs": [],
   "source": [
    "for p,a in istr2v[0].items():\n",
    "    if p in ['iniAdd', 'code_ver']:\n",
    "        continue\n",
    "    if p.find('artif') >= 0:\n",
    "        print(p,a)\n"
   ]
  },
  {
   "cell_type": "code",
   "execution_count": null,
   "id": "beb5f6d8",
   "metadata": {},
   "outputs": [],
   "source": [
    "istr2v[0].shape, (istr2v[1]).shape"
   ]
  },
  {
   "cell_type": "code",
   "execution_count": null,
   "id": "90e5fa52",
   "metadata": {},
   "outputs": [],
   "source": [
    "np.unique(istr2v[0]).shape, np.unique(istr2v[1]).shape"
   ]
  },
  {
   "cell_type": "code",
   "execution_count": null,
   "id": "53cf978b",
   "metadata": {},
   "outputs": [],
   "source": [
    "mstr0"
   ]
  },
  {
   "cell_type": "code",
   "execution_count": null,
   "id": "e87bd20e",
   "metadata": {},
   "outputs": [],
   "source": []
  },
  {
   "cell_type": "code",
   "execution_count": null,
   "id": "40a46da9",
   "metadata": {},
   "outputs": [],
   "source": [
    "rc_searchLFP.keys()"
   ]
  },
  {
   "cell_type": "code",
   "execution_count": null,
   "id": "06c22cb0",
   "metadata": {},
   "outputs": [],
   "source": [
    "rc_searchLFP['bininds_clean2']"
   ]
  },
  {
   "cell_type": "code",
   "execution_count": null,
   "id": "9a0c673b",
   "metadata": {},
   "outputs": [],
   "source": [
    "datetime.datetime.fromtimestamp( os.stat(fnf_searchLFPres).st_mtime )"
   ]
  },
  {
   "cell_type": "code",
   "execution_count": null,
   "id": "0fe26e71",
   "metadata": {},
   "outputs": [],
   "source": [
    "list( f_searchLFPres.keys() )"
   ]
  },
  {
   "cell_type": "code",
   "execution_count": null,
   "id": "4a33e5c0",
   "metadata": {},
   "outputs": [],
   "source": []
  },
  {
   "cell_type": "code",
   "execution_count": null,
   "id": "79420474",
   "metadata": {},
   "outputs": [],
   "source": [
    "bininds_noartif_naive_and_manual_searchLFP = rc_searchLFP['bininds_noartif_naive_and_manual']\n",
    "bininds_noartif_naive_and_manual_searchLFP.shape"
   ]
  },
  {
   "cell_type": "code",
   "execution_count": null,
   "id": "a00528d5",
   "metadata": {},
   "outputs": [],
   "source": [
    "mod_time_searchLFP_res = datetime.datetime.fromtimestamp(os.stat(fnf_searchLFPres).st_mtime)"
   ]
  },
  {
   "cell_type": "code",
   "execution_count": null,
   "id": "7738424f",
   "metadata": {},
   "outputs": [],
   "source": [
    "bininds_clean2.shape"
   ]
  },
  {
   "cell_type": "code",
   "execution_count": null,
   "id": "95cbcdad",
   "metadata": {},
   "outputs": [],
   "source": [
    "rc_searchLFP.keys()"
   ]
  },
  {
   "cell_type": "code",
   "execution_count": null,
   "id": "429a26af",
   "metadata": {},
   "outputs": [],
   "source": [
    "fold_info.keys()"
   ]
  },
  {
   "cell_type": "code",
   "execution_count": null,
   "id": "313c5a55",
   "metadata": {},
   "outputs": [],
   "source": [
    "fold_info.keys()"
   ]
  },
  {
   "cell_type": "code",
   "execution_count": null,
   "id": "57ac50ad",
   "metadata": {},
   "outputs": [],
   "source": [
    "f_searchLFPres['pars'][()]['rawnames']"
   ]
  },
  {
   "cell_type": "code",
   "execution_count": null,
   "id": "ac6ae33d",
   "metadata": {},
   "outputs": [],
   "source": [
    "len( rc['class_labels_good_for_classif'] ) == len( class_labels_good_for_classif )"
   ]
  },
  {
   "cell_type": "code",
   "execution_count": null,
   "id": "999ef2ea",
   "metadata": {},
   "outputs": [],
   "source": [
    "rc = f_searchLFPres['results_cur'][()]\n",
    "list( rc.keys() )"
   ]
  },
  {
   "cell_type": "code",
   "execution_count": null,
   "id": "a167793d",
   "metadata": {},
   "outputs": [],
   "source": [
    "use_matching_folds_main_LFP"
   ]
  },
  {
   "cell_type": "code",
   "execution_count": null,
   "id": "6ebe39e1",
   "metadata": {},
   "outputs": [],
   "source": [
    "for istr,v in istr2v.items():\n",
    "    #ivalis_artif_tb_indarrays_merged,Xconcat,featnames_for_artif_setnan,test_mode,featnames = v\n",
    "    #Xr = utils.setArtifNaN(Xconcat, ivalis_artif_tb_indarrays_merged,\n",
    "    #                  featnames_for_artif_setnan)\n",
    "    #print(Xr.shape, len(np.where(np.isnan(Xr))[0] ))\n",
    "    print(istr, v.shape )\n",
    "    #print(istr, v.shape, len(np.where(np.isnan(v))[0] ) )\n",
    "    #print(runstrings[istr])\n",
    "    #print(istr )\n",
    "#     print(featnames)\n",
    "#     v = ivalis_artif_tb_indarrays_merged\n",
    "#     for k,vv in v.items():\n",
    "#         print('   ',k,len(vv))"
   ]
  },
  {
   "cell_type": "code",
   "execution_count": null,
   "id": "972fd8b6",
   "metadata": {},
   "outputs": [],
   "source": [
    "featnames_for_artif_setnan"
   ]
  },
  {
   "cell_type": "code",
   "execution_count": null,
   "id": "52e612b4",
   "metadata": {},
   "outputs": [],
   "source": [
    "v.keys()"
   ]
  },
  {
   "cell_type": "code",
   "execution_count": null,
   "id": "bac44559",
   "metadata": {},
   "outputs": [],
   "source": [
    "artif_handling_before_fit"
   ]
  },
  {
   "cell_type": "code",
   "execution_count": null,
   "id": "c2e8ceba",
   "metadata": {},
   "outputs": [],
   "source": []
  },
  {
   "cell_type": "code",
   "execution_count": null,
   "id": "8e45a168",
   "metadata": {},
   "outputs": [],
   "source": [
    "istr = 0\n",
    "# istr = 9\n",
    "# istr = 1300\n",
    "mstr0 = '%run -i ../run/' + runstrings[istr][:-1] \n",
    "#mstr0 += ' --exit_after LDA_best_LFP'\n",
    "#mstr0 += ' --exit_after XGB_main' \n",
    "#mstr0 += ' --exit_after corr_matrix' \n",
    "mstr0 += ' --exit_after load' \n",
    "#mstr0 += ' --skip_LDA 1' \n",
    "mstr0 += ' --n_jobs 1 --n_permutations_permtest 2' \n",
    "#mstr0 += '--load_XGB_params_auto 0 --load_EBM_params_auto 1' \n",
    "#mstr0 += ' --XGB_tune_param 0 --EBM_tune_param 0 --subskip_fit 8 --n_jobs 1' \n",
    "print(mstr0)"
   ]
  },
  {
   "cell_type": "code",
   "execution_count": null,
   "id": "fe16cf91",
   "metadata": {
    "code_folding": []
   },
   "outputs": [],
   "source": [
    "#%debug\n",
    "ipython.magic(mstr0)"
   ]
  },
  {
   "cell_type": "code",
   "execution_count": null,
   "id": "958e77a0",
   "metadata": {},
   "outputs": [],
   "source": [
    "f['rec_info']"
   ]
  },
  {
   "cell_type": "code",
   "execution_count": null,
   "id": "523f6295",
   "metadata": {},
   "outputs": [],
   "source": [
    "pwd"
   ]
  }
 ],
 "metadata": {
  "kernelspec": {
   "display_name": "cobd",
   "language": "python",
   "name": "cobd"
  },
  "language_info": {
   "codemirror_mode": {
    "name": "ipython",
    "version": 3
   },
   "file_extension": ".py",
   "mimetype": "text/x-python",
   "name": "python",
   "nbconvert_exporter": "python",
   "pygments_lexer": "ipython3",
   "version": "3.8.15"
  }
 },
 "nbformat": 4,
 "nbformat_minor": 5
}
