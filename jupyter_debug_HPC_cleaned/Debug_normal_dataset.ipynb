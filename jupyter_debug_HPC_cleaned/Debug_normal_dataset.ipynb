{
 "cells": [
  {
   "cell_type": "code",
   "execution_count": null,
   "id": "1d05e596",
   "metadata": {},
   "outputs": [],
   "source": [
    "%load_ext autoreload\n",
    "%autoreload 2\n",
    "%precision %.4f\n",
    "import numpy as np\n",
    "np.set_printoptions(precision=4, suppress=1)\n",
    "import utils_postprocess_HPC as postp\n",
    "import globvars\n",
    "\n",
    "import mne; print(  mne.__version__ )\n",
    "from IPython import get_ipython; ipython = get_ipython()\n",
    "\n",
    "f = open('../run/_runstrings_ML.txt','r')\n",
    "runstrings = f.readlines()\n",
    "f.close()"
   ]
  },
  {
   "cell_type": "code",
   "execution_count": null,
   "id": "aa909470",
   "metadata": {},
   "outputs": [],
   "source": [
    "#for runstr in runstrings:\n",
    "#    rn = 'S05_off'\n",
    "rn = 'S01_on'\n",
    "output_subdir = 'per_subj_per_medcond_best_LFP_wholectx_oversample_LFP256_covmat_entire'\n",
    "prefixes = ['onlyH_act_only11', 'onlyH_act_only12']\n",
    "inds = []\n",
    "for rsi,rs in enumerate(runstrings):\n",
    "    if rs.find('_test') >= 0 or rs.find('_fast') >= 0:\n",
    "        continue\n",
    "    items = rs.split()\n",
    "    a = items[1::2]\n",
    "    b = items[2::2]\n",
    "    d = dict( zip(a,b) )\n",
    "\n",
    "    c1 = d['-r'].find(rn) >= 0 \n",
    "    c1 &= (d['--prefix'] in prefixes)\n",
    "    c1 &= (d['--groupings_to_use'] == 'merge_nothing')\n",
    "    c1 &= (d['--int_types_to_use'] == 'basic')\n",
    "    c1 &= (d['--output_subdir'] == output_subdir)\n",
    "    \n",
    "    \n",
    "    #c2 = d['--prefix'] in key_founds\n",
    "\n",
    "    if c1:\n",
    "        inds += [rsi]\n",
    "        #rsis += [rsi]\n",
    "        print(f'{rsi:4} = {rn} ', rs)\n",
    "        #print(rsi)\n",
    "\n",
    "inds"
   ]
  },
  {
   "cell_type": "code",
   "execution_count": null,
   "id": "5919b105",
   "metadata": {},
   "outputs": [],
   "source": [
    "runstrings[istr]"
   ]
  },
  {
   "cell_type": "code",
   "execution_count": null,
   "id": "c64330f9",
   "metadata": {},
   "outputs": [],
   "source": [
    "import gc; gc.collect()"
   ]
  },
  {
   "cell_type": "code",
   "execution_count": null,
   "id": "c1087d8c",
   "metadata": {},
   "outputs": [],
   "source": [
    "import globvars as gv\n",
    "gv.DEBUG_MODE=1\n",
    "istr2v = {}\n",
    "for istr in [0]:#inds:\n",
    "    # istr = 9\n",
    "    # istr = 1300\n",
    "    mstr0 = '%run -i ../run/' + runstrings[istr][:-1] \n",
    "    #mstr0 += ' --exit_after LDA_best_LFP'\n",
    "    #mstr0 += ' --exit_after XGB_main' \n",
    "    #mstr0 += ' --exit_after corr_matrix' \n",
    "    #mstr0 += ' --exit_after load' \n",
    "    mstr0 += ' --output_subdir test'\n",
    "    #mstr0 += ' --XGB_tune_param 0'\n",
    "    #mstr0 += ' --discard_outliers 0' \n",
    "    #mstr0 += ' --use_matching_folds_main_LFP 1'\n",
    "    #mstr0 += ' --skip_LDA 1' \n",
    "    mstr0 += ' --n_jobs 1 --n_permutations_permtest 2' \n",
    "    #mstr0 += '--load_XGB_params_auto 0 --load_EBM_params_auto 1' \n",
    "    #mstr0 += ' --XGB_tune_param 0 --EBM_tune_param 0 --subskip_fit 8 --n_jobs 1' \n",
    "    print(mstr0)\n",
    "    \n",
    "    ipython.magic(mstr0)\n",
    "    #istr2Xpri[istr] = X_pri\n",
    "    #istr2C[istr] = C\n",
    "    \n",
    "    istr2v[istr] = LFP_side_to_use\n",
    "    #istr2v[istr] = Xsubset_to_fit\n",
    "    #istr2v[istr] = artif_manual_bininds\n",
    "    #istr2v[istr] = bininds_clean2\n",
    "    #istr2v[istr] = Xconcat_good_cur\n",
    "    #istr2v[istr] = Xconcat_artif_nan\n",
    "    #istr2v[istr] = ivalis_artif_tb_indarrays_merged,Xconcat,featnames_for_artif_setnan,test_mode,featnames"
   ]
  },
  {
   "cell_type": "code",
   "execution_count": null,
   "id": "2e6726d5",
   "metadata": {},
   "outputs": [],
   "source": [
    "r0_across = utsne.getPredPowersCV(clf_XGB,\n",
    "    X_orig,y_orig,\n",
    "    class_ind_to_check_lenc, printLog = 0,\n",
    "    n_splits=ngroups, add_fitopts=add_fitopts,\n",
    "    add_clf_creopts=add_clf_creopts,\n",
    "    ret_clf_obj=False, seed=0, balancing=XGB_balancing,\n",
    "    fold_split=foldsg_train_holdout,\n",
    "    perm_test=0)\n",
    "rc['across'][label_group_name] = r0_across\n",
    "\n",
    "perfstr = utsne.sprintfPerfs(r0_across['perf_aver'])\n",
    "print(f'{label_group_name} label grouping gave perf {perfstr}')\n"
   ]
  },
  {
   "cell_type": "code",
   "execution_count": null,
   "id": "fb54d1d3",
   "metadata": {},
   "outputs": [],
   "source": [
    "fsh"
   ]
  },
  {
   "cell_type": "code",
   "execution_count": null,
   "id": "e8d686cb",
   "metadata": {},
   "outputs": [],
   "source": [
    "len(group_labels), len(X_for_heavy)"
   ]
  },
  {
   "cell_type": "code",
   "execution_count": null,
   "id": "2583c9db",
   "metadata": {},
   "outputs": [],
   "source": [
    "Xconcat_good_cur.shape"
   ]
  },
  {
   "cell_type": "code",
   "execution_count": null,
   "id": "e606d4d9",
   "metadata": {},
   "outputs": [],
   "source": [
    "len(class_labels_good_for_classif)"
   ]
  },
  {
   "cell_type": "code",
   "execution_count": null,
   "id": "23cf93be",
   "metadata": {},
   "outputs": [],
   "source": [
    "len(group_labels) / 32"
   ]
  },
  {
   "cell_type": "code",
   "execution_count": null,
   "id": "e794da24",
   "metadata": {},
   "outputs": [],
   "source": [
    "LFP_side_to_use"
   ]
  },
  {
   "cell_type": "code",
   "execution_count": null,
   "id": "73272690",
   "metadata": {},
   "outputs": [],
   "source": [
    "use_matching_folds_main_LFP"
   ]
  },
  {
   "cell_type": "code",
   "execution_count": null,
   "id": "e6c2624f",
   "metadata": {},
   "outputs": [],
   "source": [
    "#fnf_searchLFPres_pri"
   ]
  },
  {
   "cell_type": "code",
   "execution_count": null,
   "id": "0d740f32",
   "metadata": {},
   "outputs": [],
   "source": [
    "savefile_rawname_format_best_LFP, rawnames"
   ]
  },
  {
   "cell_type": "code",
   "execution_count": null,
   "id": "b8fbbbbb",
   "metadata": {},
   "outputs": [],
   "source": [
    "rawnames_cursubj"
   ]
  },
  {
   "cell_type": "code",
   "execution_count": null,
   "id": "6391b0c4",
   "metadata": {},
   "outputs": [],
   "source": []
  },
  {
   "cell_type": "code",
   "execution_count": null,
   "id": "6589528e",
   "metadata": {},
   "outputs": [],
   "source": [
    "from pprint import pprint as ppr\n",
    "ppr(best_LFP_info['S01_off'], depth=1)"
   ]
  },
  {
   "cell_type": "code",
   "execution_count": null,
   "id": "fc6335df",
   "metadata": {},
   "outputs": [],
   "source": [
    "rncombinstr"
   ]
  },
  {
   "cell_type": "code",
   "execution_count": null,
   "id": "06f8cab8",
   "metadata": {},
   "outputs": [],
   "source": [
    "for k,v in istr2v.items():\n",
    "    print(v)\n",
    "    #print(v.shape)\n",
    "    \n",
    "    #rawnames, rawtimes_pri, suffixes, (crop_start,crop_end), side_switch_happened_pri, wbd_pri, sfreq = v\n",
    "    #print(rawnames, suffixes, (crop_start,crop_end), side_switch_happened_pri, sfreq)\n",
    "    #print(rawtimes_pri[0] )\n",
    "#     ivalis_artif_tb_indarrays_merged,featnames_for_artif_setnan = v\n",
    "#     v = ivalis_artif_tb_indarrays_merged\n",
    "#     print(k)\n",
    "#     for k,vv in v.items():\n",
    "#         print('   ',k,len(vv))"
   ]
  },
  {
   "cell_type": "code",
   "execution_count": null,
   "id": "c587a7e4",
   "metadata": {},
   "outputs": [],
   "source": [
    "s = ''\n",
    "for p,a in rc_searchLFP['pars'].items():\n",
    "    if p in ['iniAdd', 'code_ver']:\n",
    "        continue\n",
    "    if p.find('artif') >= 0:\n",
    "        print(p,a)\n",
    "    s += f' --{p} {a}'\n",
    "print(s)\n",
    "searchLFP_runstr = '%run -i ../run/run_ML.py ' + s + ' --exit_after corr_matrix'"
   ]
  },
  {
   "cell_type": "code",
   "execution_count": null,
   "id": "2f04b8d1",
   "metadata": {},
   "outputs": [],
   "source": []
  },
  {
   "cell_type": "code",
   "execution_count": null,
   "id": "8f9c28dc",
   "metadata": {
    "code_folding": [
     3
    ]
   },
   "outputs": [],
   "source": [
    "istr2v = {}\n",
    "torun = [mstr0,  searchLFP_runstr]\n",
    "for i,mstr_to_run in enumerate(torun):\n",
    "    try:\n",
    "        ipython.magic(mstr_to_run)\n",
    "    except Exception as e:\n",
    "        print(e)\n",
    "        pass\n",
    "    \n",
    "    Xconcat_artif_nan = utils.setArtifNaN(Xconcat,\n",
    "        ivalis_artif_tb_indarrays_merged,\n",
    "        featnames_for_artif_setnan, ignore_shape_warning=test_mode)\n",
    "    \n",
    "    #istr2v[i] = ivalis_artif_tb_indarrays_merged,featnames_for_artif_setnan\n",
    "    istr2v[i] = pars"
   ]
  },
  {
   "cell_type": "code",
   "execution_count": null,
   "id": "0dcecdbe",
   "metadata": {},
   "outputs": [],
   "source": [
    "istr2v[0]['baseline_int_type']"
   ]
  },
  {
   "cell_type": "code",
   "execution_count": null,
   "id": "aa509a3a",
   "metadata": {},
   "outputs": [],
   "source": [
    "opts"
   ]
  },
  {
   "cell_type": "code",
   "execution_count": null,
   "id": "d8bbc8be",
   "metadata": {},
   "outputs": [],
   "source": [
    "istr2v[1]['cmd']"
   ]
  },
  {
   "cell_type": "code",
   "execution_count": null,
   "id": "039d7ac2",
   "metadata": {},
   "outputs": [],
   "source": [
    "istr2v[0].keys()"
   ]
  },
  {
   "cell_type": "code",
   "execution_count": null,
   "id": "a899c831",
   "metadata": {},
   "outputs": [],
   "source": []
  },
  {
   "cell_type": "code",
   "execution_count": null,
   "id": "183f34a9",
   "metadata": {},
   "outputs": [],
   "source": [
    "artif_force_all_modalities"
   ]
  },
  {
   "cell_type": "code",
   "execution_count": null,
   "id": "116e4205",
   "metadata": {},
   "outputs": [],
   "source": [
    "for p,a in istr2v[0].items():\n",
    "    if p in ['iniAdd', 'code_ver']:\n",
    "        continue\n",
    "    if p.find('artif') >= 0:\n",
    "        print(p,a)\n"
   ]
  },
  {
   "cell_type": "code",
   "execution_count": null,
   "id": "beb5f6d8",
   "metadata": {},
   "outputs": [],
   "source": [
    "istr2v[0].shape, (istr2v[1]).shape"
   ]
  },
  {
   "cell_type": "code",
   "execution_count": null,
   "id": "90e5fa52",
   "metadata": {},
   "outputs": [],
   "source": [
    "np.unique(istr2v[0]).shape, np.unique(istr2v[1]).shape"
   ]
  },
  {
   "cell_type": "code",
   "execution_count": null,
   "id": "53cf978b",
   "metadata": {},
   "outputs": [],
   "source": [
    "mstr0"
   ]
  },
  {
   "cell_type": "code",
   "execution_count": null,
   "id": "e87bd20e",
   "metadata": {},
   "outputs": [],
   "source": []
  },
  {
   "cell_type": "code",
   "execution_count": null,
   "id": "40a46da9",
   "metadata": {},
   "outputs": [],
   "source": [
    "rc_searchLFP.keys()"
   ]
  },
  {
   "cell_type": "code",
   "execution_count": null,
   "id": "06c22cb0",
   "metadata": {},
   "outputs": [],
   "source": [
    "rc_searchLFP['bininds_clean2']"
   ]
  },
  {
   "cell_type": "code",
   "execution_count": null,
   "id": "9a0c673b",
   "metadata": {},
   "outputs": [],
   "source": [
    "datetime.datetime.fromtimestamp( os.stat(fnf_searchLFPres).st_mtime )"
   ]
  },
  {
   "cell_type": "code",
   "execution_count": null,
   "id": "0fe26e71",
   "metadata": {},
   "outputs": [],
   "source": [
    "list( f_searchLFPres.keys() )"
   ]
  },
  {
   "cell_type": "code",
   "execution_count": null,
   "id": "4a33e5c0",
   "metadata": {},
   "outputs": [],
   "source": []
  },
  {
   "cell_type": "code",
   "execution_count": null,
   "id": "79420474",
   "metadata": {},
   "outputs": [],
   "source": [
    "bininds_noartif_naive_and_manual_searchLFP = rc_searchLFP['bininds_noartif_naive_and_manual']\n",
    "bininds_noartif_naive_and_manual_searchLFP.shape"
   ]
  },
  {
   "cell_type": "code",
   "execution_count": null,
   "id": "a00528d5",
   "metadata": {},
   "outputs": [],
   "source": [
    "mod_time_searchLFP_res = datetime.datetime.fromtimestamp(os.stat(fnf_searchLFPres).st_mtime)"
   ]
  },
  {
   "cell_type": "code",
   "execution_count": null,
   "id": "7738424f",
   "metadata": {},
   "outputs": [],
   "source": [
    "bininds_clean2.shape"
   ]
  },
  {
   "cell_type": "code",
   "execution_count": null,
   "id": "95cbcdad",
   "metadata": {},
   "outputs": [],
   "source": [
    "rc_searchLFP.keys()"
   ]
  },
  {
   "cell_type": "code",
   "execution_count": null,
   "id": "429a26af",
   "metadata": {},
   "outputs": [],
   "source": [
    "fold_info.keys()"
   ]
  },
  {
   "cell_type": "code",
   "execution_count": null,
   "id": "313c5a55",
   "metadata": {},
   "outputs": [],
   "source": [
    "fold_info.keys()"
   ]
  },
  {
   "cell_type": "code",
   "execution_count": null,
   "id": "57ac50ad",
   "metadata": {},
   "outputs": [],
   "source": [
    "f_searchLFPres['pars'][()]['rawnames']"
   ]
  },
  {
   "cell_type": "code",
   "execution_count": null,
   "id": "ac6ae33d",
   "metadata": {},
   "outputs": [],
   "source": [
    "len( rc['class_labels_good_for_classif'] ) == len( class_labels_good_for_classif )"
   ]
  },
  {
   "cell_type": "code",
   "execution_count": null,
   "id": "999ef2ea",
   "metadata": {},
   "outputs": [],
   "source": [
    "rc = f_searchLFPres['results_cur'][()]\n",
    "list( rc.keys() )"
   ]
  },
  {
   "cell_type": "code",
   "execution_count": null,
   "id": "a167793d",
   "metadata": {},
   "outputs": [],
   "source": [
    "use_matching_folds_main_LFP"
   ]
  },
  {
   "cell_type": "code",
   "execution_count": null,
   "id": "6ebe39e1",
   "metadata": {},
   "outputs": [],
   "source": [
    "for istr,v in istr2v.items():\n",
    "    #ivalis_artif_tb_indarrays_merged,Xconcat,featnames_for_artif_setnan,test_mode,featnames = v\n",
    "    #Xr = utils.setArtifNaN(Xconcat, ivalis_artif_tb_indarrays_merged,\n",
    "    #                  featnames_for_artif_setnan)\n",
    "    #print(Xr.shape, len(np.where(np.isnan(Xr))[0] ))\n",
    "    print(istr, v.shape )\n",
    "    #print(istr, v.shape, len(np.where(np.isnan(v))[0] ) )\n",
    "    #print(runstrings[istr])\n",
    "    #print(istr )\n",
    "#     print(featnames)\n",
    "#     v = ivalis_artif_tb_indarrays_merged\n",
    "#     for k,vv in v.items():\n",
    "#         print('   ',k,len(vv))"
   ]
  },
  {
   "cell_type": "code",
   "execution_count": null,
   "id": "972fd8b6",
   "metadata": {},
   "outputs": [],
   "source": [
    "featnames_for_artif_setnan"
   ]
  },
  {
   "cell_type": "code",
   "execution_count": null,
   "id": "52e612b4",
   "metadata": {},
   "outputs": [],
   "source": [
    "v.keys()"
   ]
  },
  {
   "cell_type": "code",
   "execution_count": null,
   "id": "bac44559",
   "metadata": {},
   "outputs": [],
   "source": [
    "artif_handling_before_fit"
   ]
  },
  {
   "cell_type": "code",
   "execution_count": null,
   "id": "c2e8ceba",
   "metadata": {},
   "outputs": [],
   "source": []
  },
  {
   "cell_type": "code",
   "execution_count": null,
   "id": "8e45a168",
   "metadata": {},
   "outputs": [],
   "source": [
    "istr = 0\n",
    "# istr = 9\n",
    "# istr = 1300\n",
    "mstr0 = '%run -i ../run/' + runstrings[istr][:-1] \n",
    "#mstr0 += ' --exit_after LDA_best_LFP'\n",
    "#mstr0 += ' --exit_after XGB_main' \n",
    "#mstr0 += ' --exit_after corr_matrix' \n",
    "mstr0 += ' --exit_after load' \n",
    "#mstr0 += ' --skip_LDA 1' \n",
    "mstr0 += ' --n_jobs 1 --n_permutations_permtest 2' \n",
    "#mstr0 += '--load_XGB_params_auto 0 --load_EBM_params_auto 1' \n",
    "#mstr0 += ' --XGB_tune_param 0 --EBM_tune_param 0 --subskip_fit 8 --n_jobs 1' \n",
    "print(mstr0)"
   ]
  },
  {
   "cell_type": "code",
   "execution_count": null,
   "id": "fe16cf91",
   "metadata": {
    "code_folding": []
   },
   "outputs": [],
   "source": [
    "#%debug\n",
    "ipython.magic(mstr0)"
   ]
  },
  {
   "cell_type": "code",
   "execution_count": null,
   "id": "958e77a0",
   "metadata": {},
   "outputs": [],
   "source": [
    "f['rec_info']"
   ]
  },
  {
   "cell_type": "code",
   "execution_count": null,
   "id": "523f6295",
   "metadata": {},
   "outputs": [],
   "source": [
    "pwd"
   ]
  }
 ],
 "metadata": {
  "kernelspec": {
   "display_name": "cobd",
   "language": "python",
   "name": "cobd"
  },
  "language_info": {
   "codemirror_mode": {
    "name": "ipython",
    "version": 3
   },
   "file_extension": ".py",
   "mimetype": "text/x-python",
   "name": "python",
   "nbconvert_exporter": "python",
   "pygments_lexer": "ipython3",
   "version": "3.8.15"
  }
 },
 "nbformat": 4,
 "nbformat_minor": 5
}
