{
 "cells": [
  {
   "cell_type": "code",
   "execution_count": null,
   "id": "1d05e596",
   "metadata": {},
   "outputs": [],
   "source": [
    "%load_ext autoreload\n",
    "%autoreload 2\n",
    "%precision %.4f\n",
    "import numpy as np\n",
    "np.set_printoptions(precision=4, suppress=1)\n",
    "import utils_postprocess_HPC as postp"
   ]
  },
  {
   "cell_type": "code",
   "execution_count": null,
   "id": "aa909470",
   "metadata": {},
   "outputs": [],
   "source": [
    "f = open('../run/_runstrings_ML.txt','r')\n",
    "runstrings = f.readlines()\n",
    "f.close()\n",
    "\n",
    "import mne; print(  mne.__version__ )\n",
    "from IPython import get_ipython; ipython = get_ipython()"
   ]
  },
  {
   "cell_type": "code",
   "execution_count": null,
   "id": "554e6748",
   "metadata": {},
   "outputs": [],
   "source": [
    "from jupyter_helpers.notifications import Notifications\n",
    "p = '/usr/share/sounds/gnome/default/alerts/'\n",
    "sound_file = '../beep-06.mp3'\n",
    "#p1 = p + 'glass.ogg'; p2 = p + 'sonar.ogg';\n",
    "p1 = sound_file; p2 = p1\n",
    "Notifications(success_audio=p1, time_threshold=2,\n",
    "    failure_audio=p2)  #    ,integration='GNOME')"
   ]
  },
  {
   "cell_type": "code",
   "execution_count": null,
   "id": "8e45a168",
   "metadata": {},
   "outputs": [],
   "source": [
    "#istr = 61\n",
    "istr = 0\n",
    "istr = 9\n",
    "istr = 2\n",
    "mstr0 = '%run -i ../run/' + runstrings[istr][:-1] \n",
    "#mstr0 += ' --exit_after LDA_best_LFP'\n",
    "#mstr0 += ' --exit_after XGB_main' \n",
    "#mstr0 += ' --exit_after corr_matrix' \n",
    "mstr0 += ' --exit_after load' \n",
    "#mstr0 += ' --skip_LDA 1' \n",
    "mstr0 += ' --n_jobs 1' \n",
    "#mstr0 += '--load_XGB_params_auto 0 --load_EBM_params_auto 1' \n",
    "#mstr0 += ' --XGB_tune_param 0 --EBM_tune_param 0 --subskip_fit 8 --n_jobs 1' \n",
    "print(mstr0)"
   ]
  },
  {
   "cell_type": "code",
   "execution_count": null,
   "id": "fe16cf91",
   "metadata": {},
   "outputs": [],
   "source": [
    "#%debug\n",
    "ipython.magic(mstr0)"
   ]
  },
  {
   "cell_type": "code",
   "execution_count": null,
   "id": "9abdb299",
   "metadata": {},
   "outputs": [],
   "source": [
    "featnames"
   ]
  },
  {
   "cell_type": "code",
   "execution_count": null,
   "id": "cbccaa2a",
   "metadata": {},
   "outputs": [],
   "source": [
    "exCB, data_modalities, prefix"
   ]
  },
  {
   "cell_type": "code",
   "execution_count": null,
   "id": "9ecc44e4",
   "metadata": {},
   "outputs": [],
   "source": [
    "brain_side_to_use"
   ]
  },
  {
   "cell_type": "code",
   "execution_count": null,
   "id": "e6988b6b",
   "metadata": {},
   "outputs": [],
   "source": [
    "use_featfname_old_regex"
   ]
  },
  {
   "cell_type": "code",
   "execution_count": null,
   "id": "42ab26ed",
   "metadata": {},
   "outputs": [],
   "source": [
    "feat_info"
   ]
  },
  {
   "cell_type": "code",
   "execution_count": null,
   "id": "a643d4ca",
   "metadata": {},
   "outputs": [],
   "source": [
    "            '{}_feats_NMS{}_{}_{}chs_nfeats{}_skip{}_wsz{}_grp{}-{}{}.npz'.\\\n",
    "            format(rawn,feat_body_side, sources_type,'[0-9]+', '[0-9]+', skip, windowsz,\n",
    "                    src_file_grouping_ind, src_grouping, crp_str)\n"
   ]
  },
  {
   "cell_type": "code",
   "execution_count": null,
   "id": "05441a9b",
   "metadata": {},
   "outputs": [],
   "source": [
    "best_LFP_info_file"
   ]
  },
  {
   "cell_type": "code",
   "execution_count": null,
   "id": "7db6a80d",
   "metadata": {},
   "outputs": [],
   "source": [
    "best_LFP_info[subj].keys()"
   ]
  },
  {
   "cell_type": "code",
   "execution_count": null,
   "id": "a639001a",
   "metadata": {},
   "outputs": [],
   "source": [
    "# to try later\n",
    "#%run -i ../run/run_ML.py -r S01_off_hold,S01_off_move,S01_on_hold,S01_on_move --prefix modLFP_onlyH_brainleft_disjoint --mods LFP --feat_types H_act,H_mob,H_compl --subskip_fit 8 --brain_side_to_use left --LFP_side_to_use left --param_file ML_searchLFP_both_HPC.ini --groupings_to_use merge_nothing --int_types_to_use basic --runCID 16499349608940  --n_jobs 1"
   ]
  },
  {
   "cell_type": "code",
   "execution_count": null,
   "id": "70839b4a",
   "metadata": {},
   "outputs": [],
   "source": []
  },
  {
   "cell_type": "code",
   "execution_count": null,
   "id": "d673a987",
   "metadata": {},
   "outputs": [],
   "source": [
    "features_to_use"
   ]
  },
  {
   "cell_type": "code",
   "execution_count": null,
   "id": "f1eaa85f",
   "metadata": {},
   "outputs": [],
   "source": [
    "set([]) | set([1,2,3])"
   ]
  },
  {
   "cell_type": "code",
   "execution_count": null,
   "id": "59b36e91",
   "metadata": {},
   "outputs": [],
   "source": [
    "print(class_ids_grouped)\n",
    "class_to_check,class_ind_to_check, class_ind_to_check_lenc"
   ]
  },
  {
   "cell_type": "code",
   "execution_count": null,
   "id": "df2b6c2f",
   "metadata": {},
   "outputs": [],
   "source": [
    "# Q: if I change manuall classes order, will it just change the number or something else as well?"
   ]
  },
  {
   "cell_type": "code",
   "execution_count": null,
   "id": "4df73b6d",
   "metadata": {},
   "outputs": [],
   "source": []
  },
  {
   "cell_type": "code",
   "execution_count": null,
   "id": "68458471",
   "metadata": {},
   "outputs": [],
   "source": [
    "set(class_labels_for_heavy), set(class_labels_nm_for_heavy)"
   ]
  },
  {
   "cell_type": "code",
   "execution_count": null,
   "id": "a024afb7",
   "metadata": {},
   "outputs": [],
   "source": [
    "lab_enc = preprocessing.LabelEncoder()\n",
    "lab_enc_nm = preprocessing.LabelEncoder()\n",
    "\n",
    "lab_enc.   fit(class_labels_for_heavy)\n",
    "lab_enc_nm.fit(class_labels_nm_for_heavy)\n",
    "#lab_enc.classes_ = lab_enc.classes_[::-1]\n",
    "#lab_enc_nm.classes_ = lab_enc_nm.classes_[::-1]"
   ]
  },
  {
   "cell_type": "code",
   "execution_count": null,
   "id": "406fa1a9",
   "metadata": {},
   "outputs": [],
   "source": [
    "lab_enc.classes_, lab_enc_nm.classes_"
   ]
  },
  {
   "cell_type": "code",
   "execution_count": null,
   "id": "787e3b20",
   "metadata": {},
   "outputs": [],
   "source": [
    "class_ind_to_check"
   ]
  },
  {
   "cell_type": "code",
   "execution_count": null,
   "id": "e3f6d3d1",
   "metadata": {},
   "outputs": [],
   "source": [
    "lab_enc.transform([class_ind_to_check])[0], lab_enc_nm.transform([class_ind_to_check])[0]\n",
    "#lab_enc.transform([class_ind_to_check])[0], lab_enc_nm.transform([class_ind_to_check])[0]\n"
   ]
  },
  {
   "cell_type": "code",
   "execution_count": null,
   "id": "b1ccbf2b",
   "metadata": {},
   "outputs": [],
   "source": [
    "class_ind_to_check_lenc_nm, class_ind_to_check_lenc"
   ]
  },
  {
   "cell_type": "code",
   "execution_count": null,
   "id": "8fada14e",
   "metadata": {},
   "outputs": [],
   "source": [
    "set(class_labels_nm)"
   ]
  },
  {
   "cell_type": "code",
   "execution_count": null,
   "id": "ef8c1319",
   "metadata": {},
   "outputs": [],
   "source": [
    "set(class_labels)"
   ]
  },
  {
   "cell_type": "code",
   "execution_count": null,
   "id": "fae813f0",
   "metadata": {},
   "outputs": [],
   "source": []
  },
  {
   "cell_type": "code",
   "execution_count": null,
   "id": "e932a7c4",
   "metadata": {},
   "outputs": [],
   "source": [
    "S01_on_hold_feats_NMSboth_parcel_aal_543chs_nfeats198_skip32_wsz256_grp10-0.npz\n"
   ]
  },
  {
   "cell_type": "code",
   "execution_count": null,
   "id": "e6cb5310",
   "metadata": {},
   "outputs": [],
   "source": [
    "regex"
   ]
  },
  {
   "cell_type": "code",
   "execution_count": null,
   "id": "2f529b20",
   "metadata": {},
   "outputs": [],
   "source": [
    "inp_sub"
   ]
  },
  {
   "cell_type": "code",
   "execution_count": null,
   "id": "1044a9af",
   "metadata": {},
   "outputs": [],
   "source": [
    "fscm = featsel_per_method['interpret_EBM']['all']"
   ]
  },
  {
   "cell_type": "code",
   "execution_count": null,
   "id": "5c8f4ab7",
   "metadata": {},
   "outputs": [],
   "source": [
    "fscm.keys()"
   ]
  },
  {
   "cell_type": "code",
   "execution_count": null,
   "id": "0a0fa2b6",
   "metadata": {},
   "outputs": [],
   "source": [
    "fscm['perf_dict'].keys()"
   ]
  },
  {
   "cell_type": "code",
   "execution_count": null,
   "id": "ebf1aa5f",
   "metadata": {},
   "outputs": [],
   "source": [
    "fscm['scores_from_loc'][0]"
   ]
  },
  {
   "cell_type": "code",
   "execution_count": null,
   "id": "91409595",
   "metadata": {},
   "outputs": [],
   "source": [
    "fscm['perf_per_cp']"
   ]
  },
  {
   "cell_type": "code",
   "execution_count": null,
   "id": "8cd3bbdd",
   "metadata": {},
   "outputs": [],
   "source": [
    "s = '%run -i ../run/run_ML.py -r S01_off_hold,S03_off_hold --param_file ML_joint_one_LFP_HPC.ini --groupings_to_use merge_movements --int_types_to_use basic --mods msrc --feat_types H_act --parcel_group_names Sensorimotor --prefix onlyH_act_SM_noLFP'\n",
    "s = s + ' --save_output 0 --XGB_tune_param 0 --XGB_tune_param 0 --EBM_CV 1 --subskip_fit 4 --skip_LDA 1'\n",
    "ipython.magic(s)"
   ]
  },
  {
   "cell_type": "code",
   "execution_count": null,
   "id": "70784f6c",
   "metadata": {},
   "outputs": [],
   "source": [
    "ebm.additive_terms_[1].shape"
   ]
  },
  {
   "cell_type": "code",
   "execution_count": null,
   "id": "f19383b5",
   "metadata": {},
   "outputs": [],
   "source": [
    "ebm.term_standard_deviations_[0].shape"
   ]
  },
  {
   "cell_type": "code",
   "execution_count": null,
   "id": "eca202f2",
   "metadata": {},
   "outputs": [],
   "source": [
    "len(ebm.additive_terms_)"
   ]
  },
  {
   "cell_type": "code",
   "execution_count": null,
   "id": "87c8b724",
   "metadata": {},
   "outputs": [],
   "source": [
    "ebm.feature_groups_"
   ]
  },
  {
   "cell_type": "code",
   "execution_count": null,
   "id": "16a1664b",
   "metadata": {},
   "outputs": [],
   "source": [
    "ebm.intercept_"
   ]
  },
  {
   "cell_type": "code",
   "execution_count": null,
   "id": "82bd0ca1",
   "metadata": {},
   "outputs": [],
   "source": [
    "len( ebm.feature_names['feature_names'] )"
   ]
  },
  {
   "cell_type": "code",
   "execution_count": null,
   "id": "b4730068",
   "metadata": {},
   "outputs": [],
   "source": [
    "ebm_creopts"
   ]
  },
  {
   "cell_type": "code",
   "execution_count": null,
   "id": "b1209a18",
   "metadata": {},
   "outputs": [],
   "source": [
    "class_weights_cur.shape"
   ]
  },
  {
   "cell_type": "code",
   "execution_count": null,
   "id": "a00b6b91",
   "metadata": {},
   "outputs": [],
   "source": [
    "X.shape"
   ]
  },
  {
   "cell_type": "code",
   "execution_count": null,
   "id": "1271b42d",
   "metadata": {},
   "outputs": [],
   "source": [
    "from utils import runFilePart"
   ]
  },
  {
   "cell_type": "code",
   "execution_count": null,
   "id": "ae2734c2",
   "metadata": {},
   "outputs": [],
   "source": [
    "runFilePart('../run/run_ML.py','', 2603)"
   ]
  },
  {
   "cell_type": "code",
   "execution_count": null,
   "id": "9300f0d7",
   "metadata": {},
   "outputs": [],
   "source": [
    "load_XGB_params_auto"
   ]
  },
  {
   "cell_type": "code",
   "execution_count": null,
   "id": "ba7014c6",
   "metadata": {},
   "outputs": [],
   "source": [
    "s = ('%run -i ../run/run_ML.py -r S01_off_hold,S01_on_hold --feat_types H_act '\n",
    "'--parcel_group_names !Sensorimotor  --prefix test --EBM_CV 1 --save_output 0')\n",
    "ipython.magic(s)"
   ]
  },
  {
   "cell_type": "code",
   "execution_count": null,
   "id": "5be8958c",
   "metadata": {},
   "outputs": [],
   "source": [
    "feature_names_pri[0]"
   ]
  },
  {
   "cell_type": "code",
   "execution_count": null,
   "id": "6dd45be7",
   "metadata": {},
   "outputs": [],
   "source": []
  },
  {
   "cell_type": "code",
   "execution_count": null,
   "id": "ff51ee47",
   "metadata": {},
   "outputs": [],
   "source": [
    "s=('%run -i ../run/run_ML.py -r S01_off_hold,S01_on_hold,S01_off_move,S01_on_move,S02_off_hold,S02_on_hold,S02_off_move,S02_on_move,S03_off_hold,S03_off_move,S04_off_hold,S04_on_hold,S04_off_move,S04_on_move,S05_off_hold,S05_on_hold,S05_off_move,S05_on_move,S07_off_hold,S07_on_hold,S07_off_move,S07_on_move '\n",
    "'--param_file ML_joint2_ICA_one_LFP_HPC.ini --groupings_to_use merge_movements --int_types_to_use basic '\n",
    "'--feat_types H_act --prefix onlyH_act --exit_after corr_matrix --use_ICA_for_classif 0 --compute_ICA 0')\n",
    "ipython.magic(s + ' --show_plots 0')"
   ]
  },
  {
   "cell_type": "code",
   "execution_count": null,
   "id": "ec4fea95",
   "metadata": {},
   "outputs": [],
   "source": [
    "use_main_LFP_chan"
   ]
  },
  {
   "cell_type": "code",
   "execution_count": null,
   "id": "fac28037",
   "metadata": {},
   "outputs": [],
   "source": [
    "featnames_nice"
   ]
  },
  {
   "cell_type": "code",
   "execution_count": null,
   "id": "030a1070",
   "metadata": {},
   "outputs": [],
   "source": [
    "s=('%run -i ../run/run_ML.py -r S01_on_hold,S01_on_move,S02_on_hold --param_file ML_joint_one_LFP_HPC.ini ' \n",
    "'--groupings_to_use merge_movements --int_types_to_use trem_vs_hold&move --feat_types H_act,H_mob,H_compl --prefix onlyH '\n",
    "'--use_ICA_for_classif 1 --output_subdir test_ICA --compute_ICA 1 --calc_VIF 0 '\n",
    "'--XGB_tune_param 0 --subskip_fit 4 --parcel_group_names !Sensorimotor --XGB_featsel_feats all ')\n",
    "ipython.magic(s + ' --show_plots 0')"
   ]
  },
  {
   "cell_type": "code",
   "execution_count": null,
   "id": "fb9ed4f7",
   "metadata": {},
   "outputs": [],
   "source": [
    "groups = {'1_': np.array(featnames_for_fit)[np.arange(10)], '2_':np.array(featnames_for_fit)[np.arange(10,17)]  } \n",
    "\n",
    "#%debug\n",
    "expl = utsne.shapr_proxy(X_for_heavy,class_labels_good_for_classif,featnames_for_fit,\n",
    "                 groups=groups,n_samples = len(class_labels_for_heavy) // 4, n_batches = 1,\n",
    "                 class_weights=class_weights, add_clf_creopts=add_clf_creopts, n_combinations = None)"
   ]
  },
  {
   "cell_type": "code",
   "execution_count": null,
   "id": "6bd5b8d7",
   "metadata": {},
   "outputs": [],
   "source": [
    "expl[0][2]"
   ]
  },
  {
   "cell_type": "code",
   "execution_count": null,
   "id": "80b310e3",
   "metadata": {},
   "outputs": [],
   "source": [
    "X_for_heavy.shape"
   ]
  },
  {
   "cell_type": "code",
   "execution_count": null,
   "id": "48c8a797",
   "metadata": {},
   "outputs": [],
   "source": [
    "roi_labels"
   ]
  },
  {
   "cell_type": "markdown",
   "id": "0000cad5",
   "metadata": {},
   "source": [
    "# Shapr"
   ]
  },
  {
   "cell_type": "code",
   "execution_count": null,
   "id": "41dab443",
   "metadata": {},
   "outputs": [],
   "source": []
  },
  {
   "cell_type": "code",
   "execution_count": null,
   "id": "96bc26a3",
   "metadata": {},
   "outputs": [],
   "source": []
  },
  {
   "cell_type": "code",
   "execution_count": null,
   "id": "cff54830",
   "metadata": {},
   "outputs": [],
   "source": []
  },
  {
   "cell_type": "code",
   "execution_count": null,
   "id": "a4f2533e",
   "metadata": {},
   "outputs": [],
   "source": [
    "xgbobj.__dict__.keys()"
   ]
  },
  {
   "cell_type": "code",
   "execution_count": null,
   "id": "5a316c1b",
   "metadata": {},
   "outputs": [],
   "source": []
  },
  {
   "cell_type": "code",
   "execution_count": null,
   "id": "627b157a",
   "metadata": {},
   "outputs": [],
   "source": [
    "add_clf_creopts"
   ]
  },
  {
   "cell_type": "code",
   "execution_count": null,
   "id": "b83f45fe",
   "metadata": {},
   "outputs": [],
   "source": [
    "xgbobj.booster"
   ]
  },
  {
   "cell_type": "code",
   "execution_count": null,
   "id": "2af8cf5c",
   "metadata": {},
   "outputs": [],
   "source": [
    "f = np.load(fname_ML_full_intermed,allow_pickle=True)\n",
    "\n",
    "#f['results_cur'][()]['XGB_analysis_versions']['all_present_features']['perf_dict'].keys()\n",
    "f['XGBojb']"
   ]
  },
  {
   "cell_type": "code",
   "execution_count": null,
   "id": "53d65921",
   "metadata": {},
   "outputs": [],
   "source": [
    "fname_ML_full_intermed = pjoin( gv.data_dir, output_subdir, filename_to_save)\n",
    "\n",
    "\n",
    "#     for rn,a in outputs_grouped.items():\n",
    "#         _, mult_clf_output = a\n",
    "\n",
    "results_cur['filename_full'] = fname_ML_full_intermed\n",
    "outputs_grouped = {'': (None,results_cur) }\n",
    "postp.loadFullScores(outputs_grouped, force_reload=1)\n",
    "\n",
    "#results_cur['XGB_analysis_versions']['all_present_features']['perf_dict']['perfs_CV'][0]\n",
    "\n",
    "body_side = 'L'\n",
    "if chnames_LFP is None:\n",
    "    chnames_LFP = getChnamesFromFeatlist(featnames_sub, mod='LFP')\n",
    "separate_by_band = False\n",
    "separate_by_band2 = False\n",
    "merge_Hjorth = 1\n",
    "Hjorth_diff_color = True\n",
    "grand_average_per_feat_type = False\n",
    "cross_source_groups = False\n",
    "\n",
    "cmap = plt.cm.get_cmap('tab20', 20)\n",
    "\n",
    "\n",
    "clrs,feature_groups_names,feat_groups_all  = \\\n",
    "    postp.prepareFeatGroups(featnames,body_side,\n",
    "                      roi_labels['all_raw'],cmap,\n",
    "                      chnames_LFP, separate_by_band,\n",
    "                      separate_by_band2,\n",
    "                      merge_Hjorth,\n",
    "                      Hjorth_diff_color,\n",
    "                      grand_average_per_feat_type,\n",
    "                      cross_source_groups)\n",
    "\n",
    "\n",
    "groups = {}\n",
    "inds_list = []\n",
    "for cgri,cgr in enumerate(feat_groups_all):\n",
    "    # indices of features\n",
    "    inds = utsne.selFeatsRegexInds(featnames,cgr)\n",
    "    if len(inds_list):\n",
    "        assert 0 == len( set(inds) & set(inds_list[-1])  )\n",
    "    inds_list += [ inds ]\n",
    "    \n",
    "    if len(inds):\n",
    "        #groups[feature_groups_names[cgri]] = inds\n",
    "        groups[feature_groups_names[cgri]] = featnames[inds]\n",
    "    \n",
    "#     if feature_names_subset is not None:\n",
    "#         inds_small_set = selFeatsRegexInds(feature_names_subset,cgr)\n",
    "#         inds = [ feature_names_l.index(feature_names_subset[i]) for i in inds_small_set  ]\n",
    "#     else:\n",
    "#         inds = utsne.selFeatsRegexInds(feature_names,cgr)\n",
    "\n",
    "#groups = {'1_': np.array(featnames_for_fit)[np.arange(10)], '2_':np.array(featnames_for_fit)[np.arange(10,17)]  } \n",
    "\n",
    "n_samples = min( len(class_labels_for_heavy), max(1000, len(class_labels_for_heavy) // 4) )\n",
    "\n",
    "\n",
    "n_samples = 100\n",
    "n_combinations = 100\n",
    "n_batches = 1  # more would reduce data usage but slow\n",
    "\n",
    "xgbobj = results_cur['XGBobj']\n",
    "add_clf_creopts2 =  {'tree_method'         :    xgbobj.tree_method,\n",
    "'n_jobs'              :    xgbobj.n_jobs,\n",
    "'min_child_weight'    : xgbobj.min_child_weight,\n",
    "'max_depth'           : xgbobj.max_depth,\n",
    "'eta'                 : xgbobj.kwargs['eta'],\n",
    "'subsample'          :   xgbobj.subsample }"
   ]
  },
  {
   "cell_type": "code",
   "execution_count": null,
   "id": "a9e3a48b",
   "metadata": {},
   "outputs": [],
   "source": [
    "groups"
   ]
  },
  {
   "cell_type": "code",
   "execution_count": null,
   "id": "822bf617",
   "metadata": {},
   "outputs": [],
   "source": [
    "#%debug\n",
    "expl = utsne.shapr_proxy(X_for_heavy,class_labels_good_for_classif,featnames,\n",
    "                 groups=groups,n_samples = n_samples, n_batches = n_batches,\n",
    "                 class_weights=class_weights, add_clf_creopts=add_clf_creopts2, \n",
    "                         n_combinations = n_combinations)"
   ]
  },
  {
   "cell_type": "code",
   "execution_count": null,
   "id": "423ca323",
   "metadata": {},
   "outputs": [],
   "source": [
    "add_clf_creopts2"
   ]
  },
  {
   "cell_type": "code",
   "execution_count": null,
   "id": "22e87595",
   "metadata": {},
   "outputs": [],
   "source": [
    "len(class_labels_for_heavy)"
   ]
  },
  {
   "cell_type": "code",
   "execution_count": null,
   "id": "fd0a0771",
   "metadata": {},
   "outputs": [],
   "source": [
    "len(groups),groups"
   ]
  },
  {
   "cell_type": "code",
   "execution_count": null,
   "id": "4fa6bb4b",
   "metadata": {},
   "outputs": [],
   "source": [
    "feature_groups_names"
   ]
  },
  {
   "cell_type": "code",
   "execution_count": null,
   "id": "16d0d7ad",
   "metadata": {},
   "outputs": [],
   "source": [
    "num_class"
   ]
  },
  {
   "cell_type": "code",
   "execution_count": null,
   "id": "2a40902a",
   "metadata": {},
   "outputs": [],
   "source": [
    "import pandas as pd\n",
    "import rpy2.robjects as robjects\n",
    "from rpy2.robjects import numpy2ri\n",
    "from rpy2.robjects.packages import importr\n",
    "import rpy2.robjects as ro\n",
    "from rpy2.robjects.conversion import localconverter\n",
    "from rpy2.robjects import pandas2ri\n",
    "\n",
    "numpy2ri.activate()\n",
    "#import feather as ft\n",
    "\n",
    "X_train = X_for_heavy\n",
    "y_train = class_labels_good_for_classif\n",
    "\n",
    "assert X_train.ndim == 2\n",
    "assert X_train.shape[0] == len(y_train)\n",
    "\n",
    "colnames = map(str,range(X_train.shape[1]))\n",
    "df = pd.DataFrame(X_train, columns = colnames  )\n",
    "\n",
    "xgboost = importr('xgboost')\n",
    "\n",
    "with localconverter(ro.default_converter + pandas2ri.converter):\n",
    "    r_from_pd_df = ro.conversion.py2rpy(df)\n",
    "\n",
    "X_train_r = robjects.r['matrix'](X_train, ncol=X_train.shape[1])\n",
    "dtrain = xgboost.xgb_DMatrix(X_train_r, label = y_train)\n",
    "#robjects.r('colnames(X_train_r) <- range(10)' )\n",
    "\n",
    "# num_class = len(set(y_train) )\n",
    "# model = xgboost.xgboost(dtrain, nround = 20,\n",
    "# verbose = False, weight=class_weights,\n",
    "#                        objective = \"multi:softprob\" , num_class=num_class,\n",
    "#                         **add_clf_creopts)#, **add_fitopts)\n",
    "\n",
    "\n",
    "num_class = len(set(y_train) )\n",
    "model = xgboost.xgboost(dtrain, nround = 20,\n",
    "verbose = False, weight=class_weights,\n",
    "                       objective = \"binary:logistic\" , num_class=num_class,\n",
    "                        **add_clf_creopts)#, **add_fitopts)\n"
   ]
  },
  {
   "cell_type": "code",
   "execution_count": null,
   "id": "2e11700b",
   "metadata": {},
   "outputs": [],
   "source": [
    "help(xgboost.train)"
   ]
  },
  {
   "cell_type": "code",
   "execution_count": null,
   "id": "bae3f1b2",
   "metadata": {},
   "outputs": [],
   "source": [
    "add_clf_creopts"
   ]
  },
  {
   "cell_type": "code",
   "execution_count": null,
   "id": "6aaada70",
   "metadata": {},
   "outputs": [],
   "source": [
    "X_for_heavy.shape"
   ]
  },
  {
   "cell_type": "code",
   "execution_count": null,
   "id": "536db977",
   "metadata": {},
   "outputs": [],
   "source": [
    "help(xgboost.train)"
   ]
  },
  {
   "cell_type": "code",
   "execution_count": null,
   "id": "fbf3eea5",
   "metadata": {},
   "outputs": [],
   "source": [
    "import xgboost\n",
    "dtrain = xgboost.DMatrix(X_for_heavy,class_labels_good_for_classif)\n",
    "xgboost.train({'objective': \"binary:logistic\" }, dtrain=dtrain,\n",
    "    num_boost_round = 20)#, **add_fitopts) "
   ]
  },
  {
   "cell_type": "code",
   "execution_count": null,
   "id": "b220c979",
   "metadata": {},
   "outputs": [],
   "source": [
    "from utils_tSNE import shapr_proxy"
   ]
  },
  {
   "cell_type": "code",
   "execution_count": null,
   "id": "80b95923",
   "metadata": {},
   "outputs": [],
   "source": [
    "%load shapr_proxy"
   ]
  },
  {
   "cell_type": "code",
   "execution_count": null,
   "id": "42331397",
   "metadata": {},
   "outputs": [],
   "source": [
    "expl.__dict__"
   ]
  },
  {
   "cell_type": "code",
   "execution_count": null,
   "id": "7da77e69",
   "metadata": {},
   "outputs": [],
   "source": [
    "r_df = expl[0]\n",
    "\n",
    "from rpy2.robjects import pandas2ri\n",
    "import rpy2.robjects as ro\n",
    "from rpy2.robjects.conversion import localconverter\n",
    "with localconverter(ro.default_converter + pandas2ri.converter):\n",
    "  pd_from_r_df = ro.conversion.rpy2py(r_df)\n",
    "\n",
    "pd_from_r_df"
   ]
  },
  {
   "cell_type": "code",
   "execution_count": null,
   "id": "c59bd825",
   "metadata": {},
   "outputs": [],
   "source": [
    "XGB_featsel_feats"
   ]
  },
  {
   "cell_type": "code",
   "execution_count": null,
   "id": "f097c21c",
   "metadata": {},
   "outputs": [],
   "source": [
    "featur"
   ]
  },
  {
   "cell_type": "code",
   "execution_count": null,
   "id": "16db423f",
   "metadata": {},
   "outputs": [],
   "source": [
    "len(feature_names_pri[0])"
   ]
  },
  {
   "cell_type": "code",
   "execution_count": null,
   "id": "756f834c",
   "metadata": {},
   "outputs": [],
   "source": [
    "                    !OccipitalMid\n",
    "                    !TemporalMid\n",
    "                    !FrontalSup\n",
    "                    !FrontalMed\n",
    "                    !Sensorimotor\n"
   ]
  },
  {
   "cell_type": "code",
   "execution_count": null,
   "id": "e59f2510",
   "metadata": {},
   "outputs": [],
   "source": []
  },
  {
   "cell_type": "code",
   "execution_count": null,
   "id": "db3c0034",
   "metadata": {},
   "outputs": [],
   "source": [
    "XGB_tune_param"
   ]
  },
  {
   "cell_type": "code",
   "execution_count": null,
   "id": "f50e0dea",
   "metadata": {},
   "outputs": [],
   "source": [
    "pca_derived_featinds"
   ]
  },
  {
   "cell_type": "code",
   "execution_count": null,
   "id": "0877747b",
   "metadata": {},
   "outputs": [],
   "source": [
    "Xconcat_good_cur.shape"
   ]
  },
  {
   "cell_type": "code",
   "execution_count": null,
   "id": "77ea7098",
   "metadata": {},
   "outputs": [],
   "source": [
    "Xconcat_imputed.shape"
   ]
  },
  {
   "cell_type": "code",
   "execution_count": null,
   "id": "2243aa45",
   "metadata": {},
   "outputs": [],
   "source": [
    "# %run -i ../run/run_ML.py -r S01_on_hold,S01_on_move,S02_on_hold --param_file ML_joint_one_LFP_HPC.ini \\\n",
    "# --groupings_to_use merge_nothing --int_types_to_use trem_vs_quiet --fbands --prefix allb_tremor --exit_after load"
   ]
  },
  {
   "cell_type": "code",
   "execution_count": null,
   "id": "25790549",
   "metadata": {},
   "outputs": [],
   "source": [
    "#%debug\n",
    "#ipython.magic(mstr0 + ' --exit_after load --show_plots 0')\n",
    "ipython.magic(mstr0 + ' --show_plots 0')\n",
    "\n",
    "#savefile_raw"
   ]
  },
  {
   "cell_type": "code",
   "execution_count": null,
   "id": "3b2e9295",
   "metadata": {},
   "outputs": [],
   "source": [
    "savefile_rawname_format"
   ]
  },
  {
   "cell_type": "code",
   "execution_count": null,
   "id": "420784c8",
   "metadata": {},
   "outputs": [],
   "source": [
    "            filename_to_save =  utils.genMLresFn(rawnames,sources_type, src_file_grouping_ind, src_grouping,\n",
    "                    prefix, n_channels, 999,\n",
    "                    899, skip, windowsz, use_main_LFP_chan, grouping_key,int_types_key,\n",
    "                                        rawname_format = savefile_rawname_format,\n",
    "                                        custom_rawname_str=custom_rawname_str)\n"
   ]
  },
  {
   "cell_type": "code",
   "execution_count": null,
   "id": "3eff17c6",
   "metadata": {},
   "outputs": [],
   "source": [
    "rawnames"
   ]
  },
  {
   "cell_type": "code",
   "execution_count": null,
   "id": "a319205b",
   "metadata": {},
   "outputs": [],
   "source": [
    "X_for_heavy.shape, class_labels_for_heavy.shape,group_labels.shape"
   ]
  },
  {
   "cell_type": "code",
   "execution_count": null,
   "id": "8ed2ccdc",
   "metadata": {},
   "outputs": [],
   "source": [
    "group_labels_dict.keys()"
   ]
  },
  {
   "cell_type": "code",
   "execution_count": null,
   "id": "4f938e26",
   "metadata": {},
   "outputs": [],
   "source": [
    "group_labels_dict['medcond'].shape"
   ]
  },
  {
   "cell_type": "code",
   "execution_count": null,
   "id": "200cc951",
   "metadata": {},
   "outputs": [],
   "source": [
    "from sklearn.model_selection import KFold,GroupKFold\n",
    "kf = GroupKFold(n_splits=2)  # no shuffling is possible here\n",
    "split_res = kf.split(X_for_heavy,class_labels_for_heavy,groups=group_labels_dict['medcond'] )\n",
    "\n",
    "\n",
    "#l1,l2 =  list(split_res)[1]\n",
    "\n",
    "for l1,l2 in split_res:\n",
    "    print( len(l1),len(l2), groups[l1] , groups[l2])"
   ]
  },
  {
   "cell_type": "code",
   "execution_count": null,
   "id": "3b4e0a39",
   "metadata": {},
   "outputs": [],
   "source": [
    "kf = GroupKFold(n_splits=3)  # no shuffling is possible here\n",
    "lbls = np.array( [0,0,0,0,1,1,2,1,1,2,2,2,2] )\n",
    "split_res = kf.split(np.arange(13),[0,0,0,0,1,1,2,1,1,2,2,2,2],groups=lbls )\n",
    "\n",
    "\n",
    "#l1,l2 =  list(split_res)[1]\n",
    "\n",
    "for l1,l2 in split_res:\n",
    "    print( len(l1),len(l2), lbls[l1] , lbls[l2])"
   ]
  },
  {
   "cell_type": "code",
   "execution_count": null,
   "id": "89780220",
   "metadata": {},
   "outputs": [],
   "source": [
    "from sklearn.model_selection import LeaveOneGroupOut\n",
    "LeaveOneGroupOut( )"
   ]
  },
  {
   "cell_type": "code",
   "execution_count": null,
   "id": "45145dfa",
   "metadata": {},
   "outputs": [],
   "source": [
    "groups"
   ]
  },
  {
   "cell_type": "code",
   "execution_count": null,
   "id": "4029aba5",
   "metadata": {},
   "outputs": [],
   "source": [
    "groups = group_labels_dict['medcond']\n",
    "logo = LeaveOneGroupOut()\n",
    "logo.get_n_splits(groups=groups)  # 'groups' is always required\n",
    "print(logo)\n",
    "for train_index, test_index in logo.split(X_for_heavy,class_labels_for_heavy,groups=group_labels_dict['medcond']):\n",
    "    print(groups[train_index] )"
   ]
  },
  {
   "cell_type": "code",
   "execution_count": null,
   "id": "82cb5ded",
   "metadata": {},
   "outputs": [],
   "source": [
    "group_labels[l1]"
   ]
  },
  {
   "cell_type": "code",
   "execution_count": null,
   "id": "cb319670",
   "metadata": {},
   "outputs": [],
   "source": [
    "group_labels"
   ]
  },
  {
   "cell_type": "code",
   "execution_count": null,
   "id": "af53773c",
   "metadata": {},
   "outputs": [],
   "source": [
    "filename_to_save"
   ]
  },
  {
   "cell_type": "code",
   "execution_count": null,
   "id": "c9a1cf4d",
   "metadata": {},
   "outputs": [],
   "source": [
    "savefile_rawname_format='subj,medcond_glob'"
   ]
  },
  {
   "cell_type": "code",
   "execution_count": null,
   "id": "debd1c4a",
   "metadata": {},
   "outputs": [],
   "source": [
    "custom_rawname_str"
   ]
  },
  {
   "cell_type": "code",
   "execution_count": null,
   "id": "56790fb4",
   "metadata": {},
   "outputs": [],
   "source": []
  },
  {
   "cell_type": "code",
   "execution_count": null,
   "id": "3ff374db",
   "metadata": {},
   "outputs": [],
   "source": [
    "filename_to_save =  utils.genMLresFn(rawnames,sources_type, src_file_grouping_ind, src_grouping,\n",
    "        prefix, n_channels, Xconcat_imputed.shape[1],\n",
    "        pcapts.shape[1], skip, windowsz, use_main_LFP_chan, grouping_key,int_types_key,\n",
    "                             rawname_format = savefile_rawname_format,\n",
    "                                     custom_rawname_str=custom_rawname_str)\n",
    "filename_to_save"
   ]
  },
  {
   "cell_type": "code",
   "execution_count": null,
   "id": "fa48aa7c",
   "metadata": {},
   "outputs": [],
   "source": [
    "np.arange(3,10,2)"
   ]
  },
  {
   "cell_type": "code",
   "execution_count": null,
   "id": "e518b408",
   "metadata": {},
   "outputs": [],
   "source": [
    "X_cur.shape"
   ]
  },
  {
   "cell_type": "code",
   "execution_count": null,
   "id": "40f068b0",
   "metadata": {},
   "outputs": [],
   "source": [
    "mstr00 = '%run -i ../run/run_ML.py -r {} --param_file ML_joint_one_LFP_HPC.ini ' +\\\n",
    "    '--groupings_to_use merge_movements --int_types_to_use trem_vs_hold&move --mods LFP --prefix modLFP ' +\\\n",
    "    '--subskip_fit 4 --skip_LDA 1 --custom_rawname_str 1,2,3mixed_test'\n",
    "mstr00 = mstr00.format('S01_off_hold,S01_off_move,S02_off_move,S04_off_hold')\n",
    "print(mstr00)"
   ]
  },
  {
   "cell_type": "code",
   "execution_count": null,
   "id": "b2b41e9b",
   "metadata": {},
   "outputs": [],
   "source": [
    "ipython.magic(mstr00)"
   ]
  },
  {
   "cell_type": "code",
   "execution_count": null,
   "id": "323d8d6c",
   "metadata": {},
   "outputs": [],
   "source": [
    "featsel_methods"
   ]
  },
  {
   "cell_type": "code",
   "execution_count": null,
   "id": "7dac4456",
   "metadata": {},
   "outputs": [],
   "source": [
    "custom_rawname_str"
   ]
  },
  {
   "cell_type": "code",
   "execution_count": null,
   "id": "4bec6c54",
   "metadata": {},
   "outputs": [],
   "source": [
    "results_cur['featsel_per_method'].keys()"
   ]
  },
  {
   "cell_type": "code",
   "execution_count": null,
   "id": "a4711760",
   "metadata": {},
   "outputs": [],
   "source": [
    "featsel_info.keys()"
   ]
  },
  {
   "cell_type": "code",
   "execution_count": null,
   "id": "1bd097d7",
   "metadata": {},
   "outputs": [],
   "source": [
    "X_cur.shape"
   ]
  },
  {
   "cell_type": "code",
   "execution_count": null,
   "id": "dd3bbf92",
   "metadata": {},
   "outputs": [],
   "source": [
    "Xconcat_good_cur.shape"
   ]
  },
  {
   "cell_type": "code",
   "execution_count": null,
   "id": "071a70fe",
   "metadata": {},
   "outputs": [],
   "source": [
    "len(class_weights), X_cur.shape"
   ]
  },
  {
   "cell_type": "code",
   "execution_count": null,
   "id": "19329891",
   "metadata": {},
   "outputs": [],
   "source": [
    "add_clf_creopts"
   ]
  },
  {
   "cell_type": "code",
   "execution_count": null,
   "id": "548674a1",
   "metadata": {},
   "outputs": [],
   "source": [
    "                            r0_across = utsne.getPredPowersCV(clf_XGB,X_cur,y_cur,\n",
    "                                class_ind_to_check_lenc, printLog = 0,\n",
    "                                n_splits=len( set(group_labels) ), add_fitopts=add_fitopts,\n",
    "                                add_clf_creopts=add_clf_creopts,\n",
    "                                ret_clf_obj=False, seed=0, label_groups=group_labels[::subskip_fit])\n",
    "                            rc['across'][label_group_name] = r0_across\n",
    "\n",
    "                            perfstr = utsne.sprintfPerfs(r0_across['perf_aver'])\n",
    "                            print(f'{label_group_name} label grouping gave perf {perfstr}')\n",
    "                            print( r0_across['confmat_aver'] * 100 )\n"
   ]
  },
  {
   "cell_type": "code",
   "execution_count": null,
   "id": "50056340",
   "metadata": {},
   "outputs": [],
   "source": [
    "                class_labels, class_labels_good, revdict, class_ids_grouped,inds_not_neut  = \\\n",
    "                    utsne.makeClassLabels(sides_hand, grouping,\n",
    "                        int_types_to_distinguish,\n",
    "                        ivalis_tb_indarrays_merged, bininds_noartif_nounlab,\n",
    "                        len(Xconcat_imputed),\n",
    "                        rem_neut = discard_remaining_int_types_during_fit)\n"
   ]
  },
  {
   "cell_type": "code",
   "execution_count": null,
   "id": "f0793e59",
   "metadata": {},
   "outputs": [],
   "source": [
    "len(class_labels), len(inds_not_neut), len(class_labels_good), len(bininds_noartif_nounlab), Xsubset_to_fit.shape"
   ]
  },
  {
   "cell_type": "code",
   "execution_count": null,
   "id": "7db7514d",
   "metadata": {},
   "outputs": [],
   "source": [
    "                    add_clf_creopts_CV = dict(add_clf_creopts.items())\n",
    "                    if len(numpoints_per_class_id)  > 2:\n",
    "                        add_clf_creopts_CV['objective'] = 'multi:softprob'\n",
    "                        add_clf_creopts_CV['num_class'] = len(numpoints_per_class_id)\n",
    "                        tune_metric = 'mlogloss'\n",
    "                    else:\n",
    "                        add_clf_creopts_CV['objective'] = 'binary:logistic'\n",
    "                        tune_metric = 'logloss'\n",
    "\n",
    "                    #search_grid['eta'] = np.array([.3, .2, .1, .05, .01, .005])\n",
    "                    XGB_param_list_search_seq = [ ['max_depth','min_child_weight'],\n",
    "                                            ['subsample', 'eta'] ]\n",
    "\n",
    "                    print('Start XGB param tuning, XGB_param_list_search_seq=',XGB_param_list_search_seq)\n",
    "                    add_clf_creopts_orig = add_clf_creopts\n",
    "                    add_clf_creopts, best_params_list, cv_resutls_best_list,\\\n",
    "                        num_boost_round_best=\\\n",
    "                        utsne.gridSearchSeq(X_cur,y_cur, add_clf_creopts_CV,\n",
    "                                        XGB_params_search_grid,\n",
    "                                        XGB_param_list_search_seq,\n",
    "                                        num_boost_round=100,\n",
    "                            early_stopping_rounds=10, nfold=n_splits, seed=0,\n",
    "                                           sel_num_boost_round=1,\n",
    "                                            main_metric=tune_metric, printLog=1)\n"
   ]
  },
  {
   "cell_type": "code",
   "execution_count": null,
   "id": "ae07cce9",
   "metadata": {},
   "outputs": [],
   "source": [
    "set(class_labels_good_for_classif), len(class_labels_good_for_classif)"
   ]
  },
  {
   "cell_type": "code",
   "execution_count": null,
   "id": "32898fd4",
   "metadata": {},
   "outputs": [],
   "source": [
    "set(class_labels_good)"
   ]
  },
  {
   "cell_type": "code",
   "execution_count": null,
   "id": "41203a6d",
   "metadata": {},
   "outputs": [],
   "source": [
    "numpoints_per_class_id"
   ]
  },
  {
   "cell_type": "code",
   "execution_count": null,
   "id": "59db7c39",
   "metadata": {},
   "outputs": [],
   "source": [
    "X_cur.shape"
   ]
  },
  {
   "cell_type": "code",
   "execution_count": null,
   "id": "f834b029",
   "metadata": {},
   "outputs": [],
   "source": [
    "y_cur.shape"
   ]
  },
  {
   "cell_type": "code",
   "execution_count": null,
   "id": "c70f059f",
   "metadata": {},
   "outputs": [],
   "source": [
    "discard_remaining_int_types_during_fit"
   ]
  },
  {
   "cell_type": "code",
   "execution_count": null,
   "id": "53e1d934",
   "metadata": {},
   "outputs": [],
   "source": []
  },
  {
   "cell_type": "code",
   "execution_count": null,
   "id": "71007800",
   "metadata": {},
   "outputs": [],
   "source": [
    "                            r0_across = utsne.getPredPowersCV(clf_XGB,X_cur,y_cur,\n",
    "                                class_ind_to_check_lenc, printLog = 0,\n",
    "                                n_splits=n_splits, add_fitopts=add_fitopts,\n",
    "                                add_clf_creopts=add_clf_creopts,\n",
    "                                ret_clf_obj=False, seed=0, label_groups=group_labels[::subskip_fit])\n"
   ]
  },
  {
   "cell_type": "code",
   "execution_count": null,
   "id": "4042ee22",
   "metadata": {},
   "outputs": [],
   "source": [
    "len(class_labels_good), len(class_labels_good)/4, len(class_labels)"
   ]
  },
  {
   "cell_type": "code",
   "execution_count": null,
   "id": "3a6ff770",
   "metadata": {},
   "outputs": [],
   "source": [
    "len(bininds_concat_good), len(group_labels), len(group_labels)/subskip_fit"
   ]
  },
  {
   "cell_type": "code",
   "execution_count": null,
   "id": "2c9cd6b7",
   "metadata": {},
   "outputs": [],
   "source": [
    "len(inds_not_neut), len(inds_not_neut2)"
   ]
  },
  {
   "cell_type": "code",
   "execution_count": null,
   "id": "ec428aeb",
   "metadata": {},
   "outputs": [],
   "source": [
    "                for itkc,glv in group_labels_dict.items():\n",
    "                    group_labels_dict[itkc] = glv[inds_not_neut]\n"
   ]
  },
  {
   "cell_type": "code",
   "execution_count": null,
   "id": "26fea908",
   "metadata": {},
   "outputs": [],
   "source": [
    "len(group_labels_dict['subj'])"
   ]
  },
  {
   "cell_type": "code",
   "execution_count": null,
   "id": "574eeb79",
   "metadata": {},
   "outputs": [],
   "source": [
    "X_cur.shape"
   ]
  },
  {
   "cell_type": "code",
   "execution_count": null,
   "id": "65fd9d81",
   "metadata": {},
   "outputs": [],
   "source": [
    "y_cur.shape"
   ]
  },
  {
   "cell_type": "code",
   "execution_count": null,
   "id": "13a8c4b2",
   "metadata": {},
   "outputs": [],
   "source": [
    "fsh"
   ]
  },
  {
   "cell_type": "code",
   "execution_count": null,
   "id": "41aab892",
   "metadata": {},
   "outputs": [],
   "source": [
    "featsel_methods_all_possible"
   ]
  },
  {
   "cell_type": "code",
   "execution_count": null,
   "id": "7bc9fab2",
   "metadata": {},
   "outputs": [],
   "source": []
  },
  {
   "cell_type": "code",
   "execution_count": null,
   "id": "22cc631e",
   "metadata": {},
   "outputs": [],
   "source": []
  },
  {
   "cell_type": "code",
   "execution_count": null,
   "id": "9663c4b1",
   "metadata": {},
   "outputs": [],
   "source": [
    "add_clf_creopts"
   ]
  },
  {
   "cell_type": "code",
   "execution_count": null,
   "id": "b1c1722e",
   "metadata": {},
   "outputs": [],
   "source": [
    "set(class_labels_good)"
   ]
  },
  {
   "cell_type": "code",
   "execution_count": null,
   "id": "46911501",
   "metadata": {},
   "outputs": [],
   "source": [
    "# sys.setrecursionlimit(10000)\n",
    "\n",
    "# import utils_postprocess as pp\n",
    "# ld = dict( locals().items() )\n",
    "# for llab,lv in ld.items():\n",
    "#     print(llab)\n",
    "#     pp.printSizeInfo(lv)"
   ]
  },
  {
   "cell_type": "code",
   "execution_count": null,
   "id": "efee672a",
   "metadata": {},
   "outputs": [],
   "source": [
    "sys.setrecursionlimit(10000)"
   ]
  },
  {
   "cell_type": "code",
   "execution_count": null,
   "id": "0b5fe1a0",
   "metadata": {},
   "outputs": [],
   "source": [
    "sys.getrecursionlimit()"
   ]
  },
  {
   "cell_type": "code",
   "execution_count": null,
   "id": "c93e15ff",
   "metadata": {},
   "outputs": [],
   "source": [
    "numpoints_per_class_id"
   ]
  },
  {
   "cell_type": "code",
   "execution_count": null,
   "id": "0c15215d",
   "metadata": {},
   "outputs": [],
   "source": [
    "results_cur['best_LFP']['LDA']"
   ]
  },
  {
   "cell_type": "code",
   "execution_count": null,
   "id": "b5e0938f",
   "metadata": {},
   "outputs": [],
   "source": [
    "s_almost_all = 'S01_off_hold,S01_off_move,S02_off_hold,S02_off_move,S04_off_hold,S04_off_move,S05_off_hold,S05_off_move,S07_off_hold,S07_off_move'\n",
    "s_all_off = s_almost_all + ',S03_off_hold,S03_off_move'\n",
    "s_all_on = s_almost_all.replace('_off_','_on_')"
   ]
  },
  {
   "cell_type": "code",
   "execution_count": null,
   "id": "a925b64b",
   "metadata": {},
   "outputs": [],
   "source": [
    "mstr0 = '%run -i ../run/run_ML.py -r ' + \\\n",
    "    'S01_off_hold,S01_off_move,S02_off_hold,S02_off_move,S04_off_hold,S04_off_move,S05_off_hold,S05_off_move,S07_off_hold,S07_off_move ' + \\\n",
    "    '--param_file ML_nofeatsel_HPC.ini --groupings_to_use merge_movements --int_types_to_use basic --self_couplings_only 1 --mods msrc --prefix modSrc_self --exit_after XGB_main --allow_CUDA 0'\n",
    "mstr0 += ' --show_plots 0'"
   ]
  },
  {
   "cell_type": "code",
   "execution_count": null,
   "id": "2ad6db75",
   "metadata": {},
   "outputs": [],
   "source": [
    "mstr0 = '%run -i ../run/run_ML.py -r ' + \\\n",
    "    'S01_off_hold,S01_off_move,S02_off_hold,S02_off_move,S04_off_hold,S04_off_move,S05_off_hold,S05_off_move,S07_off_hold,S07_off_move ' + \\\n",
    "    '--param_file ML_nofeatsel_HPC.ini --groupings_to_use merge_movements --int_types_to_use basic --mods msrc --prefix modSrc_self --exit_after XGB_main --allow_CUDA 0'\n",
    "mstr0 += ' --show_plots 0'"
   ]
  },
  {
   "cell_type": "code",
   "execution_count": null,
   "id": "49856875",
   "metadata": {},
   "outputs": [],
   "source": [
    "mstr0 = '%run -i ../run/run_ML.py -r ' + \\\n",
    "    'S01_off_hold,S01_off_move,S02_off_hold,S02_off_move,S04_off_hold,S04_off_move,S05_off_hold,S05_off_move,S07_off_hold,S07_off_move,S03_off_hold,S03_off_move ' + \\\n",
    "    '--param_file ML_nofeatsel_HPC.ini --groupings_to_use merge_movements --int_types_to_use basic --mods msrc --prefix modSrc_self --exit_after XGB_main --allow_CUDA 0'\n",
    "mstr0 += ' --show_plots 0'\n",
    "kind = 'off_with_S03'"
   ]
  },
  {
   "cell_type": "code",
   "execution_count": null,
   "id": "de4eb442",
   "metadata": {},
   "outputs": [],
   "source": [
    "mstr0 = '%run -i ../run/run_ML.py -r ' + \\\n",
    "    'S01_off_hold,S01_off_move,S02_off_hold,S02_off_move,S04_off_hold,S04_off_move,S05_off_hold,S05_off_move,S07_off_hold,S07_off_move ' + \\\n",
    "    '--param_file ML_nofeatsel_HPC.ini --groupings_to_use merge_movements --int_types_to_use basic --mods msrc --prefix modSrc_self --exit_after XGB_main --allow_CUDA 0'\n",
    "mstr0 += ' --show_plots 0'\n",
    "mstr0 = mstr0.replace('_off_','_on_')"
   ]
  },
  {
   "cell_type": "code",
   "execution_count": null,
   "id": "11dc7260",
   "metadata": {},
   "outputs": [],
   "source": [
    "mstr0, kind"
   ]
  },
  {
   "cell_type": "code",
   "execution_count": null,
   "id": "59c541b6",
   "metadata": {},
   "outputs": [],
   "source": [
    "import gc\n",
    "print(kind)\n",
    "#depths = [3,4,5,6]\n",
    "depths = [3, 6, 8, 10]\n",
    "#depths = [4]\n",
    "resutls_per_depth = {}\n",
    "for cur_depth in depths:    \n",
    "    gc.collect()\n",
    "    mstr1 = mstr0 + f' --XGB_max_depth {cur_depth}'\n",
    "    \n",
    "    ipython.magic(mstr1)\n",
    "    resutls_per_depth[cur_depth] = results_cur\n",
    "    \n",
    "for cd in resutls_per_depth:\n",
    "    results_cur = resutls_per_depth[cd]\n",
    "    r0 = results_cur['XGB_analysis_versions']['all_present_features']['perf_dict']\n",
    "    perfstr = utsne.sprintfPerfs(r0['perf_aver'])\n",
    "    print(f'{cd}:   XGB {XGB_version_name} perfs are {perfstr}')\n",
    "    print( r0['confmat_aver'] * 100 )\n",
    "\n",
    "  "
   ]
  },
  {
   "cell_type": "code",
   "execution_count": null,
   "id": "0b201455",
   "metadata": {},
   "outputs": [],
   "source": [
    "#import \n",
    "featis = np.random.randint( len(featnames),size=20)\n",
    "postp.plotFeatHists(rawnames,featnames,featis,X_pri,Xconcat, bindict_per_rawn,\n",
    "                  ivalis_tb_indarrays_merged, xlim_common = (-6,6))"
   ]
  },
  {
   "cell_type": "code",
   "execution_count": null,
   "id": "bd385006",
   "metadata": {},
   "outputs": [],
   "source": [
    "# modSrc off med (no S03)\n",
    "# 3:   XGB all_present_features perfs are 78.55%,81.73%,61.37%\n",
    "# [[78.5524 10.1157 11.3318]\n",
    "#  [20.4269 54.5132 25.0599]\n",
    "#  [16.3914 17.6036 66.005 ]]\n",
    "# 6:   XGB all_present_features perfs are 88.61%,95.14%,84.71%\n",
    "# [[88.6131  5.4496  5.9373]\n",
    "#  [ 5.7199 80.2536 14.0265]\n",
    "#  [ 4.1124  9.4194 86.4682]]\n",
    "# 8:   XGB all_present_features perfs are 91.42%,98.47%,92.39%\n",
    "# [[91.4243  4.0299  4.5458]\n",
    "#  [ 1.7566 90.3171  7.9263]\n",
    "#  [ 1.33    4.9196 93.7504]]\n",
    "# 10:   XGB all_present_features perfs are 92.52%,99.06%,94.15%\n",
    "# [[92.5208  3.253   4.2262]\n",
    "#  [ 1.0206 93.505   5.4743]\n",
    "#  [ 0.8791  2.9675 96.1535]]\n",
    "\n",
    "# modSrc off med (with S03)\n",
    "# 3:   XGB all_present_features perfs are 79.39%,82.02%,58.46%\n",
    "# [[79.3911 10.3852 10.2238]\n",
    "#  [19.7135 53.4299 26.8566]\n",
    "#  [16.4489 20.9141 62.637 ]]\n",
    "# 6:   XGB all_present_features perfs are 87.03%,95.05%,81.95%\n",
    "# [[87.0329  6.8438  6.1232]\n",
    "#  [ 5.4368 78.5579 16.0053]\n",
    "#  [ 4.5176 12.5858 82.8966]]\n",
    "# 8:   XGB all_present_features perfs are 88.81%,98.57%,90.56%\n",
    "# [[88.8083  5.6869  5.5047]\n",
    "#  [ 1.5933 89.2997  9.1069]\n",
    "#  [ 1.2827  6.4514 92.266 ]]\n",
    "# 10:   XGB all_present_features perfs are 89.52%,99.19%,92.43%\n",
    "# [[89.518   5.1263  5.3557]\n",
    "#  [ 0.8968 93.1867  5.9165]\n",
    "#  [ 0.7401  3.6538 95.6062]]\n",
    "\n",
    "# modSrc on med\n",
    "# 3: XGB all_present_features perfs are 77.87%,85.01%,60.41%\n",
    "# [[77.8652  9.0964 13.0384]\n",
    "#  [14.2411 62.7034 23.0555]\n",
    "#  [15.5233 21.3497 63.127 ]]"
   ]
  },
  {
   "cell_type": "code",
   "execution_count": null,
   "id": "7dbbb025",
   "metadata": {},
   "outputs": [],
   "source": [
    "# if I use all off (besides S03)\n",
    "# mem usage (GB) =  154.61236953735352"
   ]
  },
  {
   "cell_type": "code",
   "execution_count": null,
   "id": "428b5fd2",
   "metadata": {},
   "outputs": [],
   "source": [
    "gc.collect()"
   ]
  },
  {
   "cell_type": "code",
   "execution_count": null,
   "id": "9d6f4af7",
   "metadata": {},
   "outputs": [],
   "source": [
    "    #import \n",
    "featis = np.random.randint( len(featnames),size=20)\n",
    "postp.plotFeatHists(rawnames,featnames,featis,X_pri,Xconcat, bindict_per_rawn,\n",
    "                  ivalis_tb_indarrays_merged, xlim_common = (-6,6))"
   ]
  },
  {
   "cell_type": "code",
   "execution_count": null,
   "id": "befc612b",
   "metadata": {},
   "outputs": [],
   "source": [
    "for cur_depth in depths:    \n",
    "    resutls_per_depth[cur_depth] \n",
    "    \n",
    "    perfstr = utsne.sprintfPerfs(r0['perf_aver'])\n",
    "    print(f'XGB {XGB_version_name} perfs are {perfstr}')\n",
    "    print( r0['confmat_aver'] * 100 )"
   ]
  },
  {
   "cell_type": "code",
   "execution_count": null,
   "id": "b5081888",
   "metadata": {},
   "outputs": [],
   "source": [
    "feature_names_all"
   ]
  },
  {
   "cell_type": "code",
   "execution_count": null,
   "id": "c489466f",
   "metadata": {},
   "outputs": [],
   "source": [
    "35.80%,88.57%,30.57%"
   ]
  },
  {
   "cell_type": "code",
   "execution_count": null,
   "id": "8e261830",
   "metadata": {},
   "outputs": [],
   "source": [
    "help(clf_XGB.fit)"
   ]
  },
  {
   "cell_type": "code",
   "execution_count": null,
   "id": "fcd5e797",
   "metadata": {},
   "outputs": [],
   "source": [
    "add_clf_creopts['max_depth'] = 6;\n",
    "print(add_clf_creopts)\n",
    "\n",
    "clf_XGB = XGBClassifier(**add_clf_creopts)\n",
    "clf_XGB.fit(X_cur, y_cur, **add_fitopts,\n",
    "            sample_weight=class_weights)\n",
    "r0 = utsne.getPredPowersCV(clf_XGB,X_cur,y_cur,\n",
    "    class_ind_to_check_lenc, printLog = 0,\n",
    "    n_splits=n_splits, add_fitopts=add_fitopts,\n",
    "    add_clf_creopts=add_clf_creopts,\n",
    "    ret_clf_obj=False, seed=0)\n",
    "\n",
    "perfstr = utsne.sprintfPerfs(r0['perf_aver'])\n",
    "print(f'XGB {XGB_version_name} perfs are {perfstr}')\n",
    "print( r0['confmat_aver'] * 100 )\n",
    "\n"
   ]
  },
  {
   "cell_type": "code",
   "execution_count": null,
   "id": "c9b62032",
   "metadata": {},
   "outputs": [],
   "source": [
    "clf_XGB.cv(booster_params,num_boost_round,nfold,metrics=['merror'],shuffle=True,seed=0)"
   ]
  },
  {
   "cell_type": "code",
   "execution_count": null,
   "id": "7cf3b231",
   "metadata": {},
   "outputs": [],
   "source": [
    "#https://rdrr.io/cran/xgboost/man/xgb.cv.html\n",
    "# error binary classification error rate\n",
    "# rmse Rooted mean square error\n",
    "# logloss negative log-likelihood function\n",
    "# mae Mean absolute error\n",
    "# mape Mean absolute percentage error\n",
    "# auc Area under curve\n",
    "# aucpr Area under PR curve\n",
    "# merror Exact matching error, used to evaluate multi-class classification\n",
    "\n",
    "# feaval   customized evaluation function. \n",
    "# Returns list(metric='metric-name', value='metric-value') with given prediction and dtrain."
   ]
  },
  {
   "cell_type": "code",
   "execution_count": null,
   "id": "890d6b11",
   "metadata": {},
   "outputs": [],
   "source": [
    "import xgboost"
   ]
  },
  {
   "cell_type": "code",
   "execution_count": null,
   "id": "0b84116b",
   "metadata": {},
   "outputs": [],
   "source": [
    "help(xgboost.cv)"
   ]
  },
  {
   "cell_type": "code",
   "execution_count": null,
   "id": "375f6cca",
   "metadata": {},
   "outputs": [],
   "source": [
    "clf_XGB"
   ]
  },
  {
   "cell_type": "code",
   "execution_count": null,
   "id": "3de9bfd6",
   "metadata": {},
   "outputs": [],
   "source": [
    "add_clf_creopts['max_depth'] = 1;\n",
    "print(add_clf_creopts)\n",
    "\n",
    "clf_XGB = XGBClassifier(**add_clf_creopts)\n",
    "clf_XGB.fit(X_cur, y_cur, **add_fitopts,\n",
    "            sample_weight=class_weights)\n",
    "r0 = utsne.getPredPowersCV(clf_XGB,X_cur,y_cur,\n",
    "    class_ind_to_check_lenc, printLog = 0,\n",
    "    n_splits=n_splits, add_fitopts=add_fitopts,\n",
    "    add_clf_creopts=add_clf_creopts,\n",
    "    ret_clf_obj=False, seed=0)\n",
    "\n",
    "perfstr = utsne.sprintfPerfs(r0['perf_aver'])\n",
    "print(f'XGB {XGB_version_name} perfs are {perfstr}')\n",
    "print( r0['confmat_aver'] * 100 )\n",
    "\n"
   ]
  },
  {
   "cell_type": "code",
   "execution_count": null,
   "id": "4ab32881",
   "metadata": {},
   "outputs": [],
   "source": [
    "r0['perfs_CV'][0][-1],r0['perfs_CV'][1][-1]"
   ]
  },
  {
   "cell_type": "code",
   "execution_count": null,
   "id": "b432e58c",
   "metadata": {},
   "outputs": [],
   "source": [
    "feat_inds_curLFP, feat_inds_except_curLFP = getFeatIndsRelToOnlyOneLFPchan(featnames,\n",
    "        chn=chn_LFP, chnames_LFP=chnames_LFP)\n",
    "len(featnames), len(feat_inds_curLFP), len(feat_inds_except_curLFP)"
   ]
  },
  {
   "cell_type": "code",
   "execution_count": null,
   "id": "ee81accb",
   "metadata": {},
   "outputs": [],
   "source": [
    "np.array(featnames)[feat_inds_except_curLFP], chn_LFP"
   ]
  },
  {
   "cell_type": "code",
   "execution_count": null,
   "id": "924c57b0",
   "metadata": {},
   "outputs": [],
   "source": [
    "np.array(featnames)[feat_inds_curLFP], chn_LFP"
   ]
  },
  {
   "cell_type": "code",
   "execution_count": null,
   "id": "6b06b7c4",
   "metadata": {},
   "outputs": [],
   "source": [
    "XGB_max_depth"
   ]
  },
  {
   "cell_type": "code",
   "execution_count": null,
   "id": "22c3fc06",
   "metadata": {},
   "outputs": [],
   "source": [
    "r0.keys()"
   ]
  },
  {
   "cell_type": "code",
   "execution_count": null,
   "id": "b34f956f",
   "metadata": {},
   "outputs": [],
   "source": []
  },
  {
   "cell_type": "code",
   "execution_count": null,
   "id": "b7c4b8ab",
   "metadata": {},
   "outputs": [],
   "source": []
  },
  {
   "cell_type": "code",
   "execution_count": null,
   "id": "8ad9477a",
   "metadata": {},
   "outputs": [],
   "source": []
  },
  {
   "cell_type": "code",
   "execution_count": null,
   "id": "c58472f1",
   "metadata": {},
   "outputs": [],
   "source": [
    "help(getFeatIndsRelToOnlyOneLFPchan)"
   ]
  },
  {
   "cell_type": "code",
   "execution_count": null,
   "id": "af2ce381",
   "metadata": {},
   "outputs": [],
   "source": [
    "from xgboost import XGBClassifier\n",
    "clf_XGB = XGBClassifier()\n"
   ]
  },
  {
   "cell_type": "code",
   "execution_count": null,
   "id": "78b916ff",
   "metadata": {},
   "outputs": [],
   "source": [
    "isinstance(clf_XGB,XGBClassifier)"
   ]
  },
  {
   "cell_type": "code",
   "execution_count": null,
   "id": "4aa7c56d",
   "metadata": {},
   "outputs": [],
   "source": [
    "preds = res_all_feats['CV_aver']['ldaobj'].predict(Xconcat_good_cur)"
   ]
  },
  {
   "cell_type": "code",
   "execution_count": null,
   "id": "617532c8",
   "metadata": {},
   "outputs": [],
   "source": [
    "from sklearn.metrics import recall_score"
   ]
  },
  {
   "cell_type": "code",
   "execution_count": null,
   "id": "b1cd871c",
   "metadata": {},
   "outputs": [],
   "source": [
    "counts, list(sorted(set(class_labels_good) ))"
   ]
  },
  {
   "cell_type": "code",
   "execution_count": null,
   "id": "4b47260c",
   "metadata": {},
   "outputs": [],
   "source": [
    "class_ids_grouped"
   ]
  },
  {
   "cell_type": "code",
   "execution_count": null,
   "id": "3366e4d4",
   "metadata": {},
   "outputs": [],
   "source": [
    "class_labels_good_mrg = class_labels_good.copy()\n",
    "class_labels_good_mrg[class_labels_good_mrg == 3] = 2\n",
    "preds_mrg = preds.copy()\n",
    "preds_mrg[preds_mrg==3] = 2"
   ]
  },
  {
   "cell_type": "code",
   "execution_count": null,
   "id": "2fb18fcc",
   "metadata": {},
   "outputs": [],
   "source": [
    "lbls = list(sorted(set(class_labels_good_mrg) )); print(lbls)\n",
    "for lbl in lbls:\n",
    "    TP = np.sum((preds_mrg==lbl) & (class_labels_good_mrg == lbl))\n",
    "    P = np.sum(class_labels_good_mrg==lbl)\n",
    "    pred_P = np.sum(preds_mrg==lbl)\n",
    "    print(f'lbl={lbl}, P={P}, pred_P={pred_P}, TP={TP}')\n",
    "nav = recall_score(class_labels_good_mrg, preds_mrg, average=None,   labels=lbls)\n",
    "#bav = recall_score(class_labels_good_mrg, preds_mrg, average='binary',   labels=lbls)\n",
    "miv = recall_score(class_labels_good_mrg, preds_mrg, average='micro',labels=lbls)\n",
    "mav = recall_score(class_labels_good_mrg, preds_mrg, average='macro',labels=lbls)\n",
    "wav = recall_score(class_labels_good_mrg, preds_mrg, average='weighted',labels=lbls)\n",
    "print(nav)\n",
    "print(miv,mav,wav)"
   ]
  },
  {
   "cell_type": "code",
   "execution_count": null,
   "id": "59e4a09c",
   "metadata": {},
   "outputs": [],
   "source": [
    "lbls = list(sorted(set(class_labels_good) ))\n",
    "for lbl in lbls:\n",
    "    TP = np.sum((preds==lbl) & (class_labels_good == lbl))\n",
    "    P = np.sum(class_labels_good==lbl)\n",
    "    pred_P = np.sum(preds==lbl)\n",
    "    print(f'lbl={lbl}, P={P}, pred_P={pred_P}, TP={TP}')\n",
    "nav = recall_score(class_labels_good, preds, average=None,   labels=lbls)\n",
    "#Calculate metrics globally by counting the total true positives, false negatives and false positives.\n",
    "miv = recall_score(class_labels_good, preds, average='micro',labels=lbls)\n",
    "# Calculate metrics for each label, and find their unweighted mean\n",
    "mav = recall_score(class_labels_good, preds, average='macro',labels=lbls)\n",
    "# weighted Calculate metrics for each label, and find their average weighted by support \n",
    "#(the number of true instances for each label). This alters ‘macro’ to account for label imbalance;\n",
    "wav = recall_score(class_labels_good_mrg, preds_mrg, average='weighted',labels=lbls)\n",
    "print(nav)\n",
    "print(miv,mav,wav)\n",
    "\n",
    "# weighted means that we give more importance to predicting most abundant label \n",
    "# -- which I don't want (unless it is tremor), I want to have equal importance"
   ]
  },
  {
   "cell_type": "code",
   "execution_count": null,
   "id": "aeda9b9d",
   "metadata": {},
   "outputs": [],
   "source": [
    "#In a multi-class classification setup, micro-average is preferable \n",
    "#if you suspect there might be class imbalance \n",
    "#(i.e you may have many more examples of one class than of other classes)."
   ]
  },
  {
   "cell_type": "code",
   "execution_count": null,
   "id": "e56ab76e",
   "metadata": {},
   "outputs": [],
   "source": [
    "# computes only for selected labels, but includes also points with other labels\n",
    "recall_score(class_labels_good, preds, average=None,labels=[1,3]) "
   ]
  },
  {
   "cell_type": "code",
   "execution_count": null,
   "id": "7ccd5fce",
   "metadata": {},
   "outputs": [],
   "source": [
    "utsne.getClfPredPower(res_all_feats['CV_aver']['ldaobj'],Xconcat_good_cur,class_labels_good,1)"
   ]
  },
  {
   "cell_type": "code",
   "execution_count": null,
   "id": "fe75c689",
   "metadata": {},
   "outputs": [],
   "source": [
    "utsne.getClfPredPower(res_all_feats_mrg['CV_aver']['ldaobj'],Xconcat_good_cur,class_labels_good,1)"
   ]
  },
  {
   "cell_type": "code",
   "execution_count": null,
   "id": "1ab86a70",
   "metadata": {},
   "outputs": [],
   "source": [
    "import copy\n",
    "revdict_mrg = {}\n",
    "revdict_mrg[1] = revdict[1]\n",
    "revdict_mrg[2] = 'notrem_L&hold_L&move_L'\n",
    "\n",
    "res_all_feats_mrg = utsne.calcLDAVersions(Xconcat_good_cur, Xconcat_imputed, class_labels_good_mrg,\n",
    "                      n_components_LDA-1, class_ind_to_check, revdict_mrg,\n",
    "                            calcName=lda_version_name,n_splits=n_splits)\n"
   ]
  },
  {
   "cell_type": "code",
   "execution_count": null,
   "id": "36283a78",
   "metadata": {},
   "outputs": [],
   "source": [
    "from sklearn.utils.class_weight import compute_sample_weight\n",
    "class_weights = compute_sample_weight('balanced',class_labels_good)\n",
    "print(np.unique(ws))"
   ]
  },
  {
   "cell_type": "code",
   "execution_count": null,
   "id": "1a21bd1b",
   "metadata": {},
   "outputs": [],
   "source": [
    "# need to be finished\n",
    "def reconstructImportanceUsingVIF(importances_subset, colinds_good_VFsel, colinds_bad_VFsel, \n",
    "                                  VFsel_featsets_list,VFsel_linreg_objs):\n",
    "    assert importances_subset.ndim == 3\n",
    "    importances_full = np.ones( (len(VFsel_featsets_list[0]),importances_subset.shape[dim] ) ) * np.nan\n",
    "    importances_full[colinds_good_VFsel] = importances_subset\n",
    "    for badind,featis,linreg_obj in list(zip(colinds_bad_VFsel,VFsel_featsets_list,VFsel_linreg_objs))[::-1]:\n",
    "        \n",
    "        importances_full[badind] = importances_full[featis] * linreg_obj.coef_  + linreg_obj.intercept"
   ]
  },
  {
   "cell_type": "markdown",
   "id": "ab268be2",
   "metadata": {},
   "source": [
    "## Histograms"
   ]
  },
  {
   "cell_type": "code",
   "execution_count": null,
   "id": "0bb31d02",
   "metadata": {},
   "outputs": [],
   "source": [
    "%matplotlib inline"
   ]
  },
  {
   "cell_type": "code",
   "execution_count": null,
   "id": "6d0c1ddb",
   "metadata": {},
   "outputs": [],
   "source": [
    "bindict_per_rawn.keys()"
   ]
  },
  {
   "cell_type": "code",
   "execution_count": null,
   "id": "d71174cc",
   "metadata": {},
   "outputs": [],
   "source": [
    "bindict_per_rawn[rawnames[0]]['beh_state']"
   ]
  },
  {
   "cell_type": "code",
   "execution_count": null,
   "id": "d4d4da66",
   "metadata": {},
   "outputs": [],
   "source": [
    "gp.int_types_basic"
   ]
  },
  {
   "cell_type": "code",
   "execution_count": null,
   "id": "b465cd70",
   "metadata": {},
   "outputs": [],
   "source": [
    "X_pri[rawi].shape"
   ]
  },
  {
   "cell_type": "code",
   "execution_count": null,
   "id": "94cd515e",
   "metadata": {},
   "outputs": [],
   "source": [
    "len(featnames)"
   ]
  },
  {
   "cell_type": "code",
   "execution_count": null,
   "id": "1bfd78c8",
   "metadata": {},
   "outputs": [],
   "source": [
    "#prefix"
   ]
  },
  {
   "cell_type": "code",
   "execution_count": null,
   "id": "975ecc9f",
   "metadata": {},
   "outputs": [],
   "source": [
    "np.random.randint(180,size=10)"
   ]
  },
  {
   "cell_type": "code",
   "execution_count": null,
   "id": "0d256a7d",
   "metadata": {},
   "outputs": [],
   "source": [
    "ivalis_tb_indarrays_merged.keys()"
   ]
  },
  {
   "cell_type": "code",
   "execution_count": null,
   "id": "54b58461",
   "metadata": {},
   "outputs": [],
   "source": [
    "help(ax.set_ylim)"
   ]
  },
  {
   "cell_type": "code",
   "execution_count": null,
   "id": "1be38020",
   "metadata": {},
   "outputs": [],
   "source": [
    "rawnames"
   ]
  },
  {
   "cell_type": "code",
   "execution_count": null,
   "id": "aab257fa",
   "metadata": {},
   "outputs": [],
   "source": [
    "scale_feat_combine_type"
   ]
  },
  {
   "cell_type": "code",
   "execution_count": null,
   "id": "5cd1398b",
   "metadata": {},
   "outputs": [],
   "source": [
    "import utils_postprocess_HPC as postp\n",
    "\n",
    "#import \n",
    "featis = np.random.randint(180,size=20)\n",
    "\n",
    "postp.plotFeatHists(rawnames,featnames,featis,X_pri,Xconcat, bindict_per_rawn,\n",
    "                  ivalis_tb_indarrays_merged, xlim_common = (-5,5))\n",
    "\n"
   ]
  },
  {
   "cell_type": "code",
   "execution_count": null,
   "id": "4c2d5a61",
   "metadata": {},
   "outputs": [],
   "source": [
    "pjoin(gv.dir_fig, figname)"
   ]
  },
  {
   "cell_type": "code",
   "execution_count": null,
   "id": "8bcaf4a2",
   "metadata": {},
   "outputs": [],
   "source": [
    "help(plt.hist)"
   ]
  },
  {
   "cell_type": "code",
   "execution_count": null,
   "id": "2451e9a4",
   "metadata": {},
   "outputs": [],
   "source": [
    "recall_score(class_labels_good, preds, average='samples')"
   ]
  },
  {
   "cell_type": "code",
   "execution_count": null,
   "id": "0be6e34a",
   "metadata": {},
   "outputs": [],
   "source": [
    "res_all_feats['CV_aver'].keys()"
   ]
  },
  {
   "cell_type": "code",
   "execution_count": null,
   "id": "01fe9d59",
   "metadata": {},
   "outputs": [],
   "source": [
    "# sklearn.metrics.recall_score(y_true, y_pred, *, labels=None, \n",
    "#                              pos_label=1, average='binary', sample_weight=None, zero_division='warn')[source]¶"
   ]
  },
  {
   "cell_type": "code",
   "execution_count": null,
   "id": "b992e25e",
   "metadata": {},
   "outputs": [],
   "source": [
    "results_cur['best_LFP'].keys()"
   ]
  },
  {
   "cell_type": "code",
   "execution_count": null,
   "id": "42a5e3e5",
   "metadata": {},
   "outputs": [],
   "source": [
    "best_inds_XGB"
   ]
  },
  {
   "cell_type": "code",
   "execution_count": null,
   "id": "7adea33d",
   "metadata": {},
   "outputs": [],
   "source": [
    "indlist"
   ]
  },
  {
   "cell_type": "code",
   "execution_count": null,
   "id": "31a065d4",
   "metadata": {},
   "outputs": [],
   "source": [
    "C_subset.shape"
   ]
  },
  {
   "cell_type": "code",
   "execution_count": null,
   "id": "1ad09d8d",
   "metadata": {},
   "outputs": [],
   "source": [
    "istr = 18\n",
    "mstr0 = '%run -i ../run/' + runstrings[istr][:-1] + ' --allow_CUDA 0' \n",
    "mstr0.replace('load_TFR 0', 'load_TFR 1')\n",
    "mstr0.replace('load_CSD 0', 'load_CSD 1')\n",
    "mstr0.replace('load_TFRCSD_max_age_h 240', 'load_TFRCSD_max_age_h 400')\n",
    "\n",
    "addopts = ' --exit_after prescale_data'\n",
    "\n",
    "mstr0 = mstr0 + addopts\n",
    "#+ ' --load_TFR 1 --load_CSD 1 --allow_CUDA 0'\n",
    "print(mstr0)"
   ]
  },
  {
   "cell_type": "code",
   "execution_count": null,
   "id": "1be9173f",
   "metadata": {},
   "outputs": [],
   "source": [
    "istr = 1\n",
    "mstr0 = '%run -i ../run/' + runstrings[istr][:-1] + ' --allow_CUDA 0' \n",
    "addopts = ' --n_jobs 21'\n",
    "mstr0 = mstr0 + addopts\n",
    "#+ ' --load_TFR 1 --load_CSD 1 --allow_CUDA 0'\n",
    "print(mstr0)"
   ]
  },
  {
   "cell_type": "code",
   "execution_count": null,
   "id": "5969fcd9",
   "metadata": {},
   "outputs": [],
   "source": []
  },
  {
   "cell_type": "code",
   "execution_count": null,
   "id": "38e63887",
   "metadata": {},
   "outputs": [],
   "source": [
    "from IPython import get_ipython; ipython = get_ipython()\n",
    "#%debug\n",
    "ipython.magic(mstr0)"
   ]
  },
  {
   "cell_type": "code",
   "execution_count": null,
   "id": "1f1da0aa",
   "metadata": {},
   "outputs": [],
   "source": [
    "utils.ann2ivalDict(anndict_per_intcat['artif']['MEG'])"
   ]
  },
  {
   "cell_type": "code",
   "execution_count": null,
   "id": "5349e412",
   "metadata": {},
   "outputs": [],
   "source": []
  },
  {
   "cell_type": "code",
   "execution_count": null,
   "id": "52665028",
   "metadata": {},
   "outputs": [],
   "source": [
    "for side in ['L','R']:\n",
    "    chis_msrc = mne.pick_channels_regexp(subfeature_order,f'msrc{side}.*')\n",
    "    temp_ann = utils.getArtifForFiltering(f'msrc{side}', anndict_per_intcat['artif']['MEG'] )\n",
    "    print(f'bandFilter: for {len(chis_msrc)} chis current anns are ',\n",
    "          temp_ann,temp_ann.onset,temp_ann.duration,temp_ann.description)\n",
    "    #print(len(chis_msrc) )\n"
   ]
  },
  {
   "cell_type": "code",
   "execution_count": null,
   "id": "45c93073",
   "metadata": {},
   "outputs": [],
   "source": [
    "if bands_only == 'fine':\n",
    "    fband_names = gv.fband_names_fine\n",
    "else:\n",
    "    fband_names = gv.fband_names_crude\n",
    "\n",
    "if bands_only == 'fine':\n",
    "    fband_names_inc_HFO = gv.fband_names_fine_inc_HFO\n",
    "else:\n",
    "    fband_names_inc_HFO = gv.fband_names_crude_inc_HFO\n",
    "    fband_names_HFO = fband_names_inc_HFO[len(fband_names):]  # that HFO names go after\n"
   ]
  },
  {
   "cell_type": "code",
   "execution_count": null,
   "id": "85b9be1c",
   "metadata": {},
   "outputs": [],
   "source": [
    "    if bands_only == 'fine':\n",
    "        fband_names = gv.fband_names_fine\n",
    "    else:\n",
    "        fband_names = gv.fband_names_crude\n",
    "\n",
    "    print('Filtering and Hilbert')\n",
    "\n",
    "    sfreqs = [sfreq, sfreq_hires]\n",
    "    skips = [skip, skip_hires]\n",
    "    dat_pri_persfreq = [dat_pri, dat_lfp_hires_pri]\n",
    "\n",
    "\n",
    "    # note that we can have different channel names for different raws\n",
    "    #raw_perband_flt_pri_persfreq = []\n",
    "    #raw_perband_bp_pri_persfreq = []\n",
    "\n",
    "    smoothen_bandpow = 0\n",
    "\n",
    "    # band filter computed separately for different datasets\n",
    "    raw_perband_flt_pri, raw_perband_bp_pri, chnames_perband_flt_pri, chnames_perband_bp_pri  = \\\n",
    "        ugf.bandFilter(rawnames, times_pri, main_sides_pri, side_switched_pri,\n",
    "              sfreqs, skips, dat_pri_persfreq, fband_names_inc_HFO, gv.fband_names_HFO_all,\n",
    "              fbands, n_jobs_flt, allow_CUDA, subfeature_order, subfeature_order_lfp_hires,\n",
    "              smoothen_bandpow, ann_MEGartif_prefix_to_use, \n",
    "                       anndict_per_intcat_per_rawn= anndict_per_intcat_per_rawn)\n"
   ]
  },
  {
   "cell_type": "code",
   "execution_count": null,
   "id": "496e9f42",
   "metadata": {},
   "outputs": [],
   "source": []
  },
  {
   "cell_type": "code",
   "execution_count": null,
   "id": "00b6cf20",
   "metadata": {},
   "outputs": [],
   "source": []
  },
  {
   "cell_type": "code",
   "execution_count": null,
   "id": "e23fd2ee",
   "metadata": {},
   "outputs": [],
   "source": []
  },
  {
   "cell_type": "code",
   "execution_count": null,
   "id": "bb307434",
   "metadata": {},
   "outputs": [],
   "source": [
    "mstr"
   ]
  },
  {
   "cell_type": "code",
   "execution_count": null,
   "id": "9bda4f79",
   "metadata": {},
   "outputs": [],
   "source": [
    "import importlib as il; il.reload(ugf)"
   ]
  },
  {
   "cell_type": "code",
   "execution_count": null,
   "id": "83e413e7",
   "metadata": {},
   "outputs": [],
   "source": [
    "import gc; gc.collect()"
   ]
  },
  {
   "cell_type": "code",
   "execution_count": null,
   "id": "23cc5404",
   "metadata": {},
   "outputs": [],
   "source": [
    "    raw_perband_flt_pri, raw_perband_bp_pri, chnames_perband_flt_pri, chnames_perband_bp_pri  = \\\n",
    "        ugf.bandFilter(rawnames, times_pri, main_sides_pri, side_switched_pri,\n",
    "              sfreqs, skips, dat_pri_persfreq, fband_names_inc_HFO, gv.fband_names_HFO_all,\n",
    "              fbands, n_jobs_flt, allow_CUDA, subfeature_order, subfeature_order_lfp_hires,\n",
    "              smoothen_bandpow, ann_MEGartif_prefix_to_use, anndict_per_intcat_per_rawn= anndict_per_intcat_per_rawn)\n"
   ]
  },
  {
   "cell_type": "code",
   "execution_count": null,
   "id": "c5bdfbe2",
   "metadata": {},
   "outputs": [],
   "source": [
    "mstr = \n",
    "print(mstr)"
   ]
  },
  {
   "cell_type": "code",
   "execution_count": null,
   "id": "52d64f4b",
   "metadata": {},
   "outputs": [],
   "source": [
    "from IPython import get_ipython; ipython = get_ipython()\n",
    "\n",
    "mstr='%run -i ../run/'+runstrings[18]\n",
    "mstr = mstr.replace('-- ','')\n",
    "mstr = mstr[:-1] + ' --load_TFR 1 --load_CSD 1 --allow_CUDA 0'\n",
    "display(mstr)"
   ]
  },
  {
   "cell_type": "code",
   "execution_count": null,
   "id": "61ace7e8",
   "metadata": {},
   "outputs": [],
   "source": [
    "ipython.magic(mstr)"
   ]
  },
  {
   "cell_type": "code",
   "execution_count": null,
   "id": "8d4fdfb9",
   "metadata": {},
   "outputs": [],
   "source": [
    "if recalc_stats_multi_band:\n",
    "    #means_perband_flt_pri_,_ = \\\n",
    "    indsets, means_perband_flt_pri_, stds_perband_flt_pri_, stats_per_indset_per_band_flt =  \\\n",
    "    ugf.gatherMultiBandStats(rawnames,raw_perband_flt_pri, times_pri,\n",
    "                            chnames_perband_flt_pri, side_switched_pri, sfreq,\n",
    "                            baseline_int, scale_data_combine_type,\n",
    "                            feat_stats_artif_handling,\n",
    "                            require_intervals_present = [baseline_int],\n",
    "                             bindict_per_rawn=bindict_per_rawn)\n",
    "    #means_perband_bp_pri_,_ = \\\n",
    "    indsets, means_perband_bp_pri_, stds_perband_bp_pri_, stats_per_indset_per_band_bp =  \\\n",
    "    ugf.gatherMultiBandStats(rawnames,raw_perband_bp_pri, times_pri,\n",
    "                            chnames_perband_bp_pri, side_switched_pri, sfreq,\n",
    "                            baseline_int, scale_data_combine_type,\n",
    "                            feat_stats_artif_handling,\n",
    "                            require_intervals_present = [baseline_int],\n",
    "                             bindict_per_rawn=bindict_per_rawn)\n",
    "\n",
    "    #stats_multiband_flt = stats_per_indset_per_band_flt\n",
    "    #stats_multiband_bp  = stats_per_indset_per_band_bp\n",
    "\n",
    "    #stats_multiband_flt = means_perband_flt_pri_\n",
    "    #stats_multiband_bp  = means_perband_bp_pri_\n",
    "\n",
    "\n",
    "    curstatinfo = {'indsets':indsets, 'rawnames':rawnames,\n",
    "                   'stats_per_indset':stats_per_indset_per_band_flt }\n",
    "    curstatinfo['means' ]  = means_perband_flt_pri_\n",
    "    curstatinfo['stds' ]   = stds_perband_flt_pri_\n",
    "    stats_multiband_flt = curstatinfo\n",
    "\n",
    "    curstatinfo = {'indsets':indsets, 'rawnames':rawnames,\n",
    "                   'stats_per_indset':stats_per_indset_per_band_bp }\n",
    "    curstatinfo['means' ]  = means_perband_bp_pri_\n",
    "    curstatinfo['stds' ]   = stds_perband_bp_pri_\n",
    "    stats_multiband_bp = curstatinfo\n",
    "else:\n",
    "    assert not prescale_data, 'If we prescale data, loaded multi band stats is not valid!'\n",
    "    prefix = stats_fn_prefix\n",
    "    # first arg should be None so that I can specify explicitly the prefix\n",
    "    # it is necessary because I run this scripts not with the same set of\n",
    "    # rawnames compared to what was used for stats gathering\n",
    "    fname_stats_multi_band = utils.genStatsMultiBandFn(None, new_main_side, data_modalities,\n",
    "                                    use_main_LFP_chan, src_file_grouping_ind,\n",
    "                                    src_grouping, bands_only, prefix )\n",
    "\n",
    "    fname_stats_full = pjoin( gv.data_dir, input_subdir, fname_stats_multi_band)\n",
    "    f = np.load(fname_stats_full, allow_pickle=True)\n",
    "    rawnames_stats =  f['rawnames']\n",
    "    assert set(rawnames).issubset(rawnames_stats)\n",
    "    #means_perband_flt_pri_ =  f['stats_multiband_flt_per_ct'][()][scale_data_combine_type]['means']\n",
    "    #means_perband_bp_pri_  =  f['stats_multiband_bp_per_ct'][()][scale_data_combine_type]['means']\n",
    "\n",
    "    stats_multiband_flt =  f['stats_multiband_flt_per_ct'][()][scale_data_combine_type]\n",
    "    stats_multiband_bp  =  f['stats_multiband_bp_per_ct'][()][scale_data_combine_type]\n",
    "\n",
    "    indsets = stats_multiband_bp['indsets']\n",
    "    #stats_per_indset_per_band_flt\n",
    "\n",
    "################# extract stats for the given baseline int\n",
    "\n",
    "rawi_mask,allinds = upre.getIndsetMask(indsets, allow_repeating=False, allow_holes = False)\n",
    "\n",
    "means_perband_flt_pri = len(rawnames) * [dict()]\n",
    "means_perband_bp_pri = len(rawnames) * [dict()]\n",
    "\n",
    "statdicts =[stats_multiband_flt, stats_multiband_bp ]\n",
    "mdicts =[means_perband_flt_pri, means_perband_bp_pri ]\n",
    "for mdi,md in enumerate(mdicts):\n",
    "    for rawind in range(len(rawnames)):\n",
    "        indseti = rawi_mask[rawind]\n",
    "        for bandname in statdicts[mdi]['means']:\n",
    "            a = statdicts[mdi]['means'][bandname][indseti][baseline_int]\n",
    "            #print(a)\n",
    "            mdicts[mdi][rawind][bandname] = a\n",
    "\n",
    "if 'rbcorr' in features_to_use:  #raw band corr\n",
    "    if bands_only == 'fine':\n",
    "        bandPairs = [('tremor','tremor', 'corr'),\n",
    "                    ('low_beta','low_beta', 'corr'), ('high_beta','high_beta', 'corr'),\n",
    "                    ('low_gamma','low_gamma', 'corr') , ('high_gamma','high_gamma', 'corr') ]\n",
    "    else:\n",
    "        bandPairs = [('tremor','tremor', 'corr'), ('beta','beta', 'corr'), ('gamma','gamma', 'corr') ]\n",
    "\n",
    "    rbcorrs_pri     = [0] * len(rawnames)\n",
    "    wbd_rbcorr_pri  = [0] * len(rawnames)\n",
    "    rbcor_names_pri = [0] * len(rawnames)\n",
    "    for rawind in range(len(dat_pri)):\n",
    "        fn = pre_rbcorr_fname.format(rawnames[rawind], n_channels_pri[rawind] )\n",
    "        fn = pjoin(gv.data_dir, output_subdir, fn)\n",
    "        if load_rbcorr and os.path.exists(fn):\n",
    "            print('Load rbcorr from {}'.format(fn) )\n",
    "            f = np.load(fn, allow_pickle=True)\n",
    "            bpcorrs      =f['rbcorrs'    ]\n",
    "            bpcor_names  =f['rbcor_names']\n",
    "            wbd_bpcorr   =f['wbd_rbcorr' ]\n",
    "        else:\n",
    "            print('Starting rbcorr for datset {}'.format(rawind) )\n",
    "            raw_perband =  raw_perband_flt_pri[rawind]\n",
    "            chnames_per_band =  chnames_perband_flt_pri[rawind]\n",
    "            if rbcorr_use_local_means:\n",
    "                means_perband = None\n",
    "                assert not rbcorr_use_zero_mean\n",
    "            else:\n",
    "                means_perband = means_perband_flt_pri[rawind]\n",
    "\n",
    "            if rbcorr_use_zero_mean:\n",
    "                assert not rbcorr_use_local_means\n",
    "                means_perband = 0.\n",
    "\n",
    "            rbcorrs = []\n",
    "            rbcor_names = []\n",
    "            for bp in bandPairs:\n",
    "                print('band pair ',bp)\n",
    "                rbcorrs_curbp,rbcor_names_curbp,dct_nums, wbd_rbcorr = \\\n",
    "                computeCorr(raw_perband, chnames_per_band=chnames_per_band,\n",
    "                                        defnames=chnames_tfr,\n",
    "                                        parcel_couplings=parcel_couplings,\n",
    "                                        LFP2parcel_couplings=LFP2parcel_couplings,\n",
    "                                        LFP2LFP_couplings=LFP2LFP_couplings,\n",
    "                                        res_group_id=newchn_grouping_ind,\n",
    "                                        skip=skip, windowsz = windowsz,\n",
    "                                        band_pairs = [bp], n_jobs=n_jobs,\n",
    "                                        positive=0, templ='{}_.*',\n",
    "                                        roi_labels=roi_labels,\n",
    "                                        sort_keys=srcgrouping_names_sorted,\n",
    "                                        means=means_perband,\n",
    "                                        local_means=rbcorr_use_local_means)\n",
    "                assert len(rbcor_names_curbp) > 0\n",
    "                gc.collect()\n",
    "                rbcorrs     += rbcorrs_curbp\n",
    "                rbcor_names += rbcor_names_curbp\n",
    "\n",
    "            rbcorrs = np.vstack(rbcorrs)\n",
    "\n",
    "            for feati in range(len(rbcor_names) ):\n",
    "                rbcor_names[feati] = 'rb' + rbcor_names[feati]\n",
    "\n",
    "            if save_rbcorr:\n",
    "                print('Saving rbcorr ',fn)\n",
    "                #fn = pjoin(gv.data_dir, output_subdir,'{}_rbcorr.npz'.format(rawnames[rawind] ) )\n",
    "                np.savez( fn , rbcorrs=rbcorrs, rbcor_names=rbcor_names, wbd_rbcorr=wbd_rbcorr)\n",
    "                gc.collect()\n",
    "\n",
    "        rbcor_names_pri[rawind] = rbcor_names\n",
    "        rbcorrs_pri    [rawind] = rbcorrs\n",
    "        wbd_rbcorr_pri [rawind] = wbd_rbcorr\n",
    "    if do_cleanup:\n",
    "        del  raw_perband_flt_pri\n",
    "        del  rbcorrs\n",
    "    gc.collect()\n",
    "\n",
    "\n",
    "else:\n",
    "    rbcorrs_pri = None\n",
    "    rbcor_names = None\n",
    "    wbd_rbcorr_pri = None\n"
   ]
  },
  {
   "cell_type": "code",
   "execution_count": null,
   "id": "fb8afe51",
   "metadata": {},
   "outputs": [],
   "source": [
    "side_switched_pri"
   ]
  },
  {
   "cell_type": "code",
   "execution_count": null,
   "id": "f37d241c",
   "metadata": {},
   "outputs": [],
   "source": [
    " utils.ann2ivalDict( tuple(anndict_per_intcat_per_rawn.items())[0] [1]['beh_state'] )"
   ]
  },
  {
   "cell_type": "code",
   "execution_count": null,
   "id": "f167b881",
   "metadata": {},
   "outputs": [],
   "source": [
    "features_to_use"
   ]
  },
  {
   "cell_type": "code",
   "execution_count": null,
   "id": "772ded40",
   "metadata": {},
   "outputs": [],
   "source": [
    "%load_ext autoreload\n",
    "%autoreload 2\n",
    "%precision %.4f\n",
    "import numpy as np\n",
    "np.set_printoptions(precision=4, suppress=1)\n",
    "\n",
    "#%debug\n",
    "%run -i ../run/run_ML.py -r S01_off_hold,S01_off_move \\\n",
    "--bands_type crude --sources_type parcel_aal \\\n",
    "--src_grouping 0 --src_grouping_fn 10 --rescale_feats 1 \\\n",
    "--skip_XGB 0\\\n",
    "--fbands_mod1 msrc:gamma --fbands_mod2 LFP:beta\\\n",
    "--subskip_fit 16 \\\n",
    "--allow_CUDA 0\\\n",
    "--n_splits 2 \\\n",
    "--calc_MI 0 \\\n",
    "--heavy_fit_red_featset 1\\\n",
    "--groupings_to_use merge_nothing \\\n",
    "--int_types_to_use basic\\\n",
    "--save_output 0 --prefix test \\\n",
    "--show_plots 0 \\\n",
    "--featsel_method XGB_Shapley \\\n",
    "--n_jobs 1 \\\n",
    "--load_only 1\n",
    "#--prep_for_clf_only 1\n",
    "#--featsel_method SHAP_XGB,interpret_EBM,XGB_Shapley  \n",
    "#--featsel_methods XGB_Shapley\n",
    "#,interpret_EBM "
   ]
  },
  {
   "cell_type": "code",
   "execution_count": null,
   "id": "abf2a60b",
   "metadata": {},
   "outputs": [],
   "source": [
    "X_allfeats.shape"
   ]
  },
  {
   "cell_type": "code",
   "execution_count": null,
   "id": "39f9c356",
   "metadata": {},
   "outputs": [],
   "source": [
    "Xconcat.shape"
   ]
  },
  {
   "cell_type": "code",
   "execution_count": null,
   "id": "81e4e85e",
   "metadata": {},
   "outputs": [],
   "source": [
    "help(pd.DataFrame)"
   ]
  },
  {
   "cell_type": "code",
   "execution_count": null,
   "id": "60aaac1c",
   "metadata": {},
   "outputs": [],
   "source": [
    "import seaborn as sns\n",
    "import pandas as pd\n",
    "df = pd.DataFrame(Xconcat, columns=good_feats)"
   ]
  },
  {
   "cell_type": "code",
   "execution_count": null,
   "id": "6d36f468",
   "metadata": {},
   "outputs": [],
   "source": [
    "good_feats[:3]"
   ]
  },
  {
   "cell_type": "code",
   "execution_count": null,
   "id": "0963cee5",
   "metadata": {},
   "outputs": [],
   "source": [
    "df.head()"
   ]
  },
  {
   "cell_type": "code",
   "execution_count": null,
   "id": "7fec90c6",
   "metadata": {},
   "outputs": [],
   "source": [
    "df[good_feats[:3]]"
   ]
  },
  {
   "cell_type": "code",
   "execution_count": null,
   "id": "d8d7f957",
   "metadata": {},
   "outputs": [],
   "source": []
  },
  {
   "cell_type": "code",
   "execution_count": null,
   "id": "a1f41beb",
   "metadata": {},
   "outputs": [],
   "source": []
  },
  {
   "cell_type": "code",
   "execution_count": null,
   "id": "ac1e7eec",
   "metadata": {},
   "outputs": [],
   "source": [
    "sns_plot = sns.pairplot(df[good_feats[:5]])\n",
    "fig_fname = pjoin(gv.dir_fig, f'{rn_str}_pairplot.png' )\n",
    "print(fig_fname)\n",
    "sns_plot.savefig(fig_fname)"
   ]
  },
  {
   "cell_type": "code",
   "execution_count": null,
   "id": "e6f7d50b",
   "metadata": {},
   "outputs": [],
   "source": [
    "import globvars as gv"
   ]
  },
  {
   "cell_type": "code",
   "execution_count": null,
   "id": "d1056de1",
   "metadata": {},
   "outputs": [],
   "source": [
    "import os\n",
    "s = '_S01_parcel_aal_grp10-0_allb_beta_ML_nr4_7chs_nfeats384_pcadim161_skip32_wsz256__(merge_nothing,basic).npz'  \n",
    "f = np.load(os.path.join(gv.data_dir, s),allow_pickle=True )"
   ]
  },
  {
   "cell_type": "code",
   "execution_count": null,
   "id": "bdeea34c",
   "metadata": {},
   "outputs": [],
   "source": [
    "import utils_postprocess as pp\n",
    "#pp.total_size(f)"
   ]
  },
  {
   "cell_type": "code",
   "execution_count": null,
   "id": "be6cda8c",
   "metadata": {},
   "outputs": [],
   "source": [
    "list( f.keys() )"
   ]
  },
  {
   "cell_type": "code",
   "execution_count": null,
   "id": "13ab1e05",
   "metadata": {},
   "outputs": [],
   "source": [
    "results_cur = f['results_cur'][()]"
   ]
  },
  {
   "cell_type": "code",
   "execution_count": null,
   "id": "f01bd69a",
   "metadata": {},
   "outputs": [],
   "source": [
    "results_cur['perfs_XGB'][0].keys()"
   ]
  },
  {
   "cell_type": "code",
   "execution_count": null,
   "id": "6f087854",
   "metadata": {},
   "outputs": [],
   "source": [
    "    #res_cur = f['results_cur'][()]\n",
    "#     for lda_anver in res_cur['lda_analysis_versions'].values():\n",
    "#         keys_to_clean = ['X_transformed', 'ldaobj', 'ldaobjs']\n",
    "#         for subver in lda_anver.values():\n",
    "#             for ktc in keys_to_clean:\n",
    "#                 if ktc in subver:\n",
    "#                     print('delted ',ktc)\n",
    "#                     #del subver[ktc]\n",
    "#         #del lda_anver['ldaobj']\n",
    "#     if 'Xconcat_good_cur' in res_cur:\n",
    "#         print('delted Xconcat_good_cur')\n",
    "#         #del res_cur['Xconcat_good_cur']\n",
    "    #del res_cur['transformed_imputed']\n",
    "    #del res_cur['transformed_imputed_CV']\n",
    "    for pt in ['perfs_XGB','perfs_XGB_fs' ]:\n",
    "        for i in range(len(res_cur[pt]) ):\n",
    "            if 'clf_obj' in res_cur[pt][i]:\n",
    "                print('delted clf_obj')\n",
    "                #del res_cur[pt]['clf_obj']"
   ]
  },
  {
   "cell_type": "code",
   "execution_count": null,
   "id": "ba2fc347",
   "metadata": {},
   "outputs": [],
   "source": [
    "pp.total_size(results_cur, minRepSz=None)"
   ]
  },
  {
   "cell_type": "code",
   "execution_count": null,
   "id": "080cb56e",
   "metadata": {},
   "outputs": [],
   "source": [
    "list(res_cur.keys())"
   ]
  },
  {
   "cell_type": "code",
   "execution_count": null,
   "id": "bc70fb9f",
   "metadata": {},
   "outputs": [],
   "source": [
    "\n",
    "\n",
    "res_cleaned = removeLargeItems(res_cur)\n",
    "pp.total_size(res_cleaned, minRepSz=None)"
   ]
  },
  {
   "cell_type": "code",
   "execution_count": null,
   "id": "55b07860",
   "metadata": {},
   "outputs": [],
   "source": [
    "import gc;gc.collect()\n",
    "pp.total_size(res_cleaned, minRepSz=None)"
   ]
  },
  {
   "cell_type": "code",
   "execution_count": null,
   "id": "4faf9de0",
   "metadata": {},
   "outputs": [],
   "source": [
    "import importlib as il\n",
    "il.reload(pp)"
   ]
  },
  {
   "cell_type": "code",
   "execution_count": null,
   "id": "3712a5e8",
   "metadata": {},
   "outputs": [],
   "source": [
    "pp.total_size(results_cur, minRepSz=None), pp.total_size(res_cleaned, minRepSz=None)"
   ]
  },
  {
   "cell_type": "code",
   "execution_count": null,
   "id": "7ee47b75",
   "metadata": {},
   "outputs": [],
   "source": [
    "457378611 / 456345583"
   ]
  },
  {
   "cell_type": "code",
   "execution_count": null,
   "id": "802d6474",
   "metadata": {},
   "outputs": [],
   "source": []
  },
  {
   "cell_type": "code",
   "execution_count": null,
   "id": "33f3cdaa",
   "metadata": {},
   "outputs": [],
   "source": [
    "results_cur.keys()"
   ]
  },
  {
   "cell_type": "code",
   "execution_count": null,
   "id": "a7c04e90",
   "metadata": {},
   "outputs": [],
   "source": [
    "pp.total_size(f)"
   ]
  },
  {
   "cell_type": "code",
   "execution_count": null,
   "id": "a293a7b9",
   "metadata": {},
   "outputs": [],
   "source": [
    "res_cleaned"
   ]
  },
  {
   "cell_type": "code",
   "execution_count": null,
   "id": "a57138ca",
   "metadata": {},
   "outputs": [],
   "source": [
    "for kk,item in res_cleaned['featsel_per_method'].items():\n",
    "    print(pp.total_size(item,minRepSz=None), kk)"
   ]
  },
  {
   "cell_type": "code",
   "execution_count": null,
   "id": "ee435308",
   "metadata": {},
   "outputs": [],
   "source": [
    "for kk,item in res_cleaned['featsel_per_method']['XGB_Shapley'].items():\n",
    "    print(pp.total_size(item,minRepSz=None), kk)"
   ]
  },
  {
   "cell_type": "code",
   "execution_count": null,
   "id": "24e3fc83",
   "metadata": {},
   "outputs": [],
   "source": [
    "for kk,item in res_cleaned['featsel_per_method']['interpret_EBM']['info_per_cp'][('trem_L', 'notrem_L')]['explainer'].__dict__.items():\n",
    "    print(pp.total_size(item,minRepSz=None), kk)"
   ]
  },
  {
   "cell_type": "code",
   "execution_count": null,
   "id": "ab3d9bdb",
   "metadata": {},
   "outputs": [],
   "source": [
    "for kk,item in res_cleaned.items():\n",
    "    print(pp.total_size(item,minRepSz=None), kk)"
   ]
  },
  {
   "cell_type": "code",
   "execution_count": null,
   "id": "40ca3a5c",
   "metadata": {},
   "outputs": [],
   "source": [
    "#lda_output_pg_cur\n",
    "#for kk,item in lda_output_pg_cur['merge_movements']['basic'].items():\n",
    "for kk,item in res_cleaned['lda_analysis_versions']['all_present_features']['fit_to_all_data'].items():\n",
    "    print(pp.total_size(item, verbose=0), kk  )"
   ]
  },
  {
   "cell_type": "code",
   "execution_count": null,
   "id": "8206bacc",
   "metadata": {},
   "outputs": [],
   "source": [
    "x_for_heavy"
   ]
  },
  {
   "cell_type": "code",
   "execution_count": null,
   "id": "82ece6d1",
   "metadata": {},
   "outputs": [],
   "source": [
    "len(class_labels_good_for_classif)"
   ]
  },
  {
   "cell_type": "code",
   "execution_count": null,
   "id": "5b5925dd",
   "metadata": {},
   "outputs": [],
   "source": [
    "X_for_heavy.shape"
   ]
  },
  {
   "cell_type": "code",
   "execution_count": null,
   "id": "dc61a0e8",
   "metadata": {},
   "outputs": [],
   "source": [
    "np.savez('tst16.npz',X_for_heavy=X_for_heavy,class_labels_good_for_classif=class_labels_good_for_classif,\n",
    "       add_fitopts=add_fitopts, clf_XGB= clf_XGB )"
   ]
  },
  {
   "cell_type": "code",
   "execution_count": null,
   "id": "846ce79c",
   "metadata": {},
   "outputs": [],
   "source": [
    "# np.savez('tst.npz',X_for_heavy=X_for_heavy,class_labels_good_for_classif=class_labels_good_for_classif,\n",
    "#        add_fitopts=add_fitopts, clf_XGB= clf_XGB )"
   ]
  },
  {
   "cell_type": "code",
   "execution_count": null,
   "id": "68c7f4c1",
   "metadata": {},
   "outputs": [],
   "source": []
  },
  {
   "cell_type": "code",
   "execution_count": null,
   "id": "67eb540e",
   "metadata": {},
   "outputs": [],
   "source": [
    "X.shape"
   ]
  },
  {
   "cell_type": "code",
   "execution_count": null,
   "id": "e8246d57",
   "metadata": {},
   "outputs": [],
   "source": [
    "import numpy as np\n",
    "f = np.load('tst16.npz',allow_pickle=True)\n",
    "X_for_heavy = f['X_for_heavy']\n",
    "class_labels_good_for_classif = f['class_labels_good_for_classif']\n",
    "#clf_XGB = f['clf_XGB'][()]\n",
    "add_fitopts = f['add_fitopts'][()]\n",
    "\n",
    "X = X_for_heavy\n",
    "y = class_labels_good_for_classif\n",
    "##\n",
    "#X = np.random.uniform(size=X_for_heavy.shape)\n",
    "# X = np.random.uniform(size=(300,10))\n",
    "# y = class_labels_good_for_classif[:300]\n",
    "\n",
    "add_fitopts['eval_metric'] = 'mlogloss'\n",
    "\n",
    "from xgboost import XGBClassifier\n",
    "\n",
    "\n",
    "add_clf_creopts={ 'n_jobs':128, 'use_label_encoder':False,\n",
    "                 'importance_type': 'total_gain' }\n",
    "tree_method = 'exact'\n",
    "method_params = {'tree_method': tree_method}\n",
    "\n",
    "add_clf_creopts.update(method_params)\n",
    "clf_XGB = XGBClassifier(**add_clf_creopts)\n",
    "\n",
    "print(X_for_heavy.shape,class_labels_good_for_classif.shape)\n",
    "display(clf_XGB)\n",
    "\n",
    "clf_XGB.fit(X, y, **add_fitopts)"
   ]
  },
  {
   "cell_type": "code",
   "execution_count": null,
   "id": "cab72e6b",
   "metadata": {},
   "outputs": [],
   "source": [
    "clf_XGB.fit(X_for_heavy, class_labels_good_for_classif, **add_fitopts)"
   ]
  },
  {
   "cell_type": "code",
   "execution_count": null,
   "id": "adb693f1",
   "metadata": {},
   "outputs": [],
   "source": [
    "clf_XGB"
   ]
  },
  {
   "cell_type": "code",
   "execution_count": null,
   "id": "07e15dba",
   "metadata": {},
   "outputs": [],
   "source": [
    "add_fitopts"
   ]
  },
  {
   "cell_type": "code",
   "execution_count": null,
   "id": "ed8284ef",
   "metadata": {},
   "outputs": [],
   "source": [
    "getrusage()"
   ]
  },
  {
   "cell_type": "code",
   "execution_count": null,
   "id": "3a552e2c",
   "metadata": {},
   "outputs": [],
   "source": [
    "help(psutil.virtual_memory())"
   ]
  },
  {
   "cell_type": "code",
   "execution_count": null,
   "id": "ac4b5632",
   "metadata": {},
   "outputs": [],
   "source": [
    "GB = 1024**3"
   ]
  },
  {
   "cell_type": "code",
   "execution_count": null,
   "id": "65417179",
   "metadata": {},
   "outputs": [],
   "source": [
    "import psutil\n",
    "psutil.virtual_memory().free / GB"
   ]
  },
  {
   "cell_type": "code",
   "execution_count": null,
   "id": "071f1bd6",
   "metadata": {},
   "outputs": [],
   "source": [
    "psutil.virtual_memory().total / GB"
   ]
  },
  {
   "cell_type": "code",
   "execution_count": null,
   "id": "e7eb32ef",
   "metadata": {},
   "outputs": [],
   "source": [
    "!free -g"
   ]
  },
  {
   "cell_type": "code",
   "execution_count": null,
   "id": "2b11c547",
   "metadata": {},
   "outputs": [],
   "source": [
    "fbands_per_mod.keys()"
   ]
  },
  {
   "cell_type": "code",
   "execution_count": null,
   "id": "a0e61271",
   "metadata": {},
   "outputs": [],
   "source": [
    "opts"
   ]
  },
  {
   "cell_type": "code",
   "execution_count": null,
   "id": "98110ba0",
   "metadata": {},
   "outputs": [],
   "source": [
    "#      A 1-D or 2-D array containing multiple variables and observations.\n",
    "#         Each row of `x` represents a variable, and each column a single\n",
    "#         observation of all those variables. Also see `rowvar` below."
   ]
  },
  {
   "cell_type": "code",
   "execution_count": null,
   "id": "924a52cd",
   "metadata": {},
   "outputs": [],
   "source": [
    "from featlist import parseFeatNames\n",
    "parseFeatNames(featnames,n_jobs=1)"
   ]
  },
  {
   "cell_type": "code",
   "execution_count": null,
   "id": "162fc35d",
   "metadata": {},
   "outputs": [],
   "source": [
    "featnames[500:550]"
   ]
  },
  {
   "cell_type": "code",
   "execution_count": null,
   "id": "5a1a91e6",
   "metadata": {},
   "outputs": [],
   "source": []
  },
  {
   "cell_type": "code",
   "execution_count": null,
   "id": "382484f9",
   "metadata": {},
   "outputs": [],
   "source": [
    "hist, bin_edges = np.histogram(C_nocenter.flatten(), bins=20, density=False)"
   ]
  },
  {
   "cell_type": "code",
   "execution_count": null,
   "id": "65721d0e",
   "metadata": {},
   "outputs": [],
   "source": [
    "np.max(C_nocenter)"
   ]
  },
  {
   "cell_type": "code",
   "execution_count": null,
   "id": "f8db8faa",
   "metadata": {},
   "outputs": [],
   "source": [
    "np.max(bin_edges)"
   ]
  },
  {
   "cell_type": "code",
   "execution_count": null,
   "id": "a0eb3076",
   "metadata": {},
   "outputs": [],
   "source": [
    "ax = plt.gca()\n",
    "ax.bar(bin_edges[:-1],hist)\n",
    "ax.set_xlim(np.min(bin_edges),np.max(bin_edges))"
   ]
  },
  {
   "cell_type": "code",
   "execution_count": null,
   "id": "bb6f38b1",
   "metadata": {},
   "outputs": [],
   "source": [
    "nr = 1; nc = 2;\n",
    "ww = 5; hh = 4\n",
    "fig,axs = plt.subplots(nr,nc, figsize=(nc*ww, nr*hh))\n",
    "ax = axs[0]\n",
    "ax.hist(C_nocenter.flatten());\n",
    "ax = axs[1]\n",
    "#ax.pcolor(C_nocenter)"
   ]
  },
  {
   "cell_type": "code",
   "execution_count": null,
   "id": "c2d09ccf",
   "metadata": {},
   "outputs": [],
   "source": [
    "#maxind = np.argmax(C_nocenter)\n",
    "C_flat = C_nocenter.flatten()\n",
    "sinds = np.argsort(C_flat)\n",
    "for i in sinds[-100:][::-1]:\n",
    "    coords = np.unravel_index(i, C_nocenter.shape)\n",
    "    if coords[0] < coords[1]:\n",
    "        continue\n",
    "    print( f'{C_nocenter[coords]:.3f} {featnames[coords[0]]} <-> {featnames[coords[1]]}' )"
   ]
  },
  {
   "cell_type": "code",
   "execution_count": null,
   "id": "285e49c4",
   "metadata": {},
   "outputs": [],
   "source": [
    "strong_correl = np.where( C_flat > 0.5 )\n"
   ]
  },
  {
   "cell_type": "code",
   "execution_count": null,
   "id": "373bb207",
   "metadata": {},
   "outputs": [],
   "source": [
    "np.sum( C_flat > 0.5 )//2 , len(C_flat)//2, np.sum( C_flat > 0.5 ) / len(C_flat)"
   ]
  },
  {
   "cell_type": "code",
   "execution_count": null,
   "id": "b0703bed",
   "metadata": {},
   "outputs": [],
   "source": [
    "A = np.random.choice(feature_names_all,3)\n",
    "o = parseFeatNames(A,n_jobs=1)\n",
    "display('test_input=',A)\n",
    "display('test_output=',o)"
   ]
  },
  {
   "cell_type": "code",
   "execution_count": null,
   "id": "327fbaf8",
   "metadata": {},
   "outputs": [],
   "source": []
  },
  {
   "cell_type": "code",
   "execution_count": null,
   "id": "65858007",
   "metadata": {},
   "outputs": [],
   "source": [
    "parsed_featnames = parseFeatNames(feature_names_all)"
   ]
  },
  {
   "cell_type": "code",
   "execution_count": null,
   "id": "ac2d9c4c",
   "metadata": {},
   "outputs": [],
   "source": [
    "np.ones(5,dtype=bool) & np.zeros(5,dtype=bool)"
   ]
  },
  {
   "cell_type": "code",
   "execution_count": null,
   "id": "021c7080",
   "metadata": {},
   "outputs": [],
   "source": [
    "np.array(['fsd', 'fds']  ) == 'as'"
   ]
  },
  {
   "cell_type": "code",
   "execution_count": null,
   "id": "a475b12d",
   "metadata": {},
   "outputs": [],
   "source": [
    "parsed_featnames.keys()"
   ]
  },
  {
   "cell_type": "code",
   "execution_count": null,
   "id": "b7297296",
   "metadata": {},
   "outputs": [],
   "source": [
    "sum(r)"
   ]
  },
  {
   "cell_type": "code",
   "execution_count": null,
   "id": "6e9fb7f1",
   "metadata": {},
   "outputs": [],
   "source": [
    "inds = np.where( np.array(parsed_featnames['mod2'] ) != 'LFP' )[0]\n",
    "print(len(inds))\n",
    "feature_names_all[inds]"
   ]
  },
  {
   "cell_type": "code",
   "execution_count": null,
   "id": "ca434b70",
   "metadata": {},
   "outputs": [],
   "source": [
    "feature_names_all[inds][800:]"
   ]
  },
  {
   "cell_type": "code",
   "execution_count": null,
   "id": "71bceb72",
   "metadata": {},
   "outputs": [],
   "source": []
  },
  {
   "cell_type": "code",
   "execution_count": null,
   "id": "47e77ba7",
   "metadata": {},
   "outputs": [],
   "source": [
    "inds = np.where( np.array(parsed_featnames['mod1'] ) != 'msrc' )[0]\n",
    "print(len(inds))\n",
    "feature_names_all[inds]"
   ]
  },
  {
   "cell_type": "code",
   "execution_count": null,
   "id": "a6f432fd",
   "metadata": {},
   "outputs": [],
   "source": [
    "r = np.logical_and(np.array(parsed_featnames['fb1'] ) == 'beta' , \\\n",
    " np.logical_or( np.array(parsed_featnames['fb2'] ) == 'gamma' , \n",
    "               (np.array(parsed_featnames['fb2'] ) == 'tremor' ) ) )\n",
    "#r = np.logical_and(  np.array(parsed_featnames['mod1'] ) == 'mscr', r )\n",
    "#r = np.logical_and(  np.array(parsed_featnames['mod2'] ) == 'LFP', r )\n",
    "\n",
    "sum(r)"
   ]
  },
  {
   "cell_type": "code",
   "execution_count": null,
   "id": "7d5afe0c",
   "metadata": {},
   "outputs": [],
   "source": [
    "data_modalities"
   ]
  },
  {
   "cell_type": "code",
   "execution_count": null,
   "id": "cb7b3243",
   "metadata": {},
   "outputs": [],
   "source": [
    "fbands_per_mod"
   ]
  },
  {
   "cell_type": "code",
   "execution_count": null,
   "id": "d253bf82",
   "metadata": {},
   "outputs": [],
   "source": [
    "from featlist import getBadInds_doubleBandFeats \n",
    "#%debug\n",
    "bf = getBadInds_doubleBandFeats(feature_names_all, data_modalities,\n",
    "                               fbands_per_mod, fbands_def, printLog=0,\n",
    "                               parsed_featnames=parsed_featnames)\n"
   ]
  },
  {
   "cell_type": "code",
   "execution_count": null,
   "id": "be6381f5",
   "metadata": {},
   "outputs": [],
   "source": [
    "bf"
   ]
  },
  {
   "cell_type": "code",
   "execution_count": null,
   "id": "9686337c",
   "metadata": {},
   "outputs": [],
   "source": [
    "feature_names_all[np.setdiff1d( np.arange(len(feature_names_all) ), bf ) ]"
   ]
  },
  {
   "cell_type": "code",
   "execution_count": null,
   "id": "067512f6",
   "metadata": {},
   "outputs": [],
   "source": [
    "feature_names_all[2:200]"
   ]
  },
  {
   "cell_type": "code",
   "execution_count": null,
   "id": "177bc90c",
   "metadata": {},
   "outputs": [],
   "source": [
    "re.compile('^.*_(\\w+)_.*' ).match('fsdafd_555dsfs_fdsfds_&$#*_fdsfffffgfggg_').groups()"
   ]
  },
  {
   "cell_type": "code",
   "execution_count": null,
   "id": "91caee1c",
   "metadata": {},
   "outputs": [],
   "source": [
    "parsed_featnames['fb1'][2:200]"
   ]
  },
  {
   "cell_type": "code",
   "execution_count": null,
   "id": "df68af50",
   "metadata": {},
   "outputs": [],
   "source": [
    "feature_names_all[0]"
   ]
  },
  {
   "cell_type": "code",
   "execution_count": null,
   "id": "b1fe663e",
   "metadata": {},
   "outputs": [],
   "source": [
    "parsed_featnames[0]"
   ]
  },
  {
   "cell_type": "code",
   "execution_count": null,
   "id": "e48d1258",
   "metadata": {},
   "outputs": [],
   "source": [
    "data_modalities"
   ]
  },
  {
   "cell_type": "code",
   "execution_count": null,
   "id": "16290f7b",
   "metadata": {},
   "outputs": [],
   "source": [
    "featnames"
   ]
  },
  {
   "cell_type": "code",
   "execution_count": null,
   "id": "73dd09cb",
   "metadata": {},
   "outputs": [],
   "source": [
    "from featlist import parseFeatNames\n",
    "r = parseFeatNames(featnames)"
   ]
  },
  {
   "cell_type": "code",
   "execution_count": null,
   "id": "72361be6",
   "metadata": {},
   "outputs": [],
   "source": [
    "r['mod1']"
   ]
  },
  {
   "cell_type": "code",
   "execution_count": null,
   "id": "e9a9093f",
   "metadata": {},
   "outputs": [],
   "source": [
    "featnames"
   ]
  },
  {
   "cell_type": "code",
   "execution_count": null,
   "id": "f210ac35",
   "metadata": {},
   "outputs": [],
   "source": [
    "len(featnames_nice)"
   ]
  },
  {
   "cell_type": "code",
   "execution_count": null,
   "id": "2664571d",
   "metadata": {},
   "outputs": [],
   "source": [
    "parcel_group_names"
   ]
  },
  {
   "cell_type": "code",
   "execution_count": null,
   "id": "cdda0395",
   "metadata": {},
   "outputs": [],
   "source": [
    "roi_labels.keys(), parcel_types"
   ]
  },
  {
   "cell_type": "code",
   "execution_count": null,
   "id": "b32294ca",
   "metadata": {},
   "outputs": [],
   "source": [
    "revdict"
   ]
  },
  {
   "cell_type": "code",
   "execution_count": null,
   "id": "8ecfffd3",
   "metadata": {},
   "outputs": [],
   "source": [
    "featsel_per_method['interpret_EBM']['info_per_cp'].keys()"
   ]
  },
  {
   "cell_type": "code",
   "execution_count": null,
   "id": "60066cab",
   "metadata": {},
   "outputs": [],
   "source": [
    "explainer_cur = featsel_per_method['interpret_EBM']['info_per_cp'][('trem_L', 'notrem_L')]['explainer']"
   ]
  },
  {
   "cell_type": "code",
   "execution_count": null,
   "id": "36228ef5",
   "metadata": {},
   "outputs": [],
   "source": [
    "interpret.show(explainer_cur)"
   ]
  },
  {
   "cell_type": "code",
   "execution_count": null,
   "id": "347f464f",
   "metadata": {},
   "outputs": [],
   "source": [
    "featsel_per_method = results_cur['featsel_per_method'] \n",
    "fsh = 'XGB_total_gain'\n",
    "info = featsel_per_method[fsh]\n",
    "scores_XGB_total_gain = info['scores']\n",
    "\n",
    "fsh = 'XGB_Shapley'\n",
    "info = featsel_per_method[fsh]\n",
    "shapley_values = info['scores']  # dim = 3"
   ]
  },
  {
   "cell_type": "code",
   "execution_count": null,
   "id": "6b126982",
   "metadata": {},
   "outputs": [],
   "source": [
    "featsel_per_method.keys()"
   ]
  },
  {
   "cell_type": "code",
   "execution_count": null,
   "id": "e1953a0d",
   "metadata": {},
   "outputs": [],
   "source": [
    "scores.shape"
   ]
  },
  {
   "cell_type": "code",
   "execution_count": null,
   "id": "eb76fb09",
   "metadata": {},
   "outputs": [],
   "source": [
    "revdict"
   ]
  },
  {
   "cell_type": "code",
   "execution_count": null,
   "id": "f3ebe2aa",
   "metadata": {},
   "outputs": [],
   "source": [
    "for lblind in range(shap_values.shape[1] ):\n",
    "    plt.figure(figsize = (20,5))\n",
    "    ax = plt.gca()\n",
    "    utsne.plotFeatureImportance(ax, featnames_nice, shapley_values[:,lblind,:20], 'XGB_Shapley')\n",
    "    ax.set_title( ax.get_title() + f'_lblind={lblind}' )"
   ]
  },
  {
   "cell_type": "code",
   "execution_count": null,
   "id": "0c5b2bfe",
   "metadata": {},
   "outputs": [],
   "source": [
    "shap_values"
   ]
  },
  {
   "cell_type": "code",
   "execution_count": null,
   "id": "c8df1117",
   "metadata": {},
   "outputs": [],
   "source": [
    "fsh"
   ]
  },
  {
   "cell_type": "code",
   "execution_count": null,
   "id": "c5d1d2fd",
   "metadata": {},
   "outputs": [],
   "source": [
    "do_XGB_cur"
   ]
  },
  {
   "cell_type": "markdown",
   "id": "68c8e376",
   "metadata": {},
   "source": [
    "## Inspect explainable AI"
   ]
  },
  {
   "cell_type": "code",
   "execution_count": null,
   "id": "09117b7f",
   "metadata": {},
   "outputs": [],
   "source": [
    "# results_cur['featsel_importances_res'] = featsel_importances_res\n",
    "# results_cur['featsel_explainer_res'] = featsel_importances_res\n"
   ]
  },
  {
   "cell_type": "code",
   "execution_count": null,
   "id": "082a28b1",
   "metadata": {},
   "outputs": [],
   "source": [
    "results_cur['featsel_per_method'].keys()"
   ]
  },
  {
   "cell_type": "code",
   "execution_count": null,
   "id": "a547b38c",
   "metadata": {},
   "outputs": [],
   "source": [
    "\n",
    "#for fsh,info in featsel_per_method.items():\n",
    "    "
   ]
  },
  {
   "cell_type": "code",
   "execution_count": null,
   "id": "39b78785",
   "metadata": {},
   "outputs": [],
   "source": [
    "info.keys()"
   ]
  },
  {
   "cell_type": "code",
   "execution_count": null,
   "id": "eb07b8f0",
   "metadata": {},
   "outputs": [],
   "source": [
    "featsel_explainers_res.keys()"
   ]
  },
  {
   "cell_type": "code",
   "execution_count": null,
   "id": "51d286e9",
   "metadata": {},
   "outputs": [],
   "source": [
    "#featsel_explainers_res['interpret_EBM']"
   ]
  },
  {
   "cell_type": "code",
   "execution_count": null,
   "id": "662d8d1b",
   "metadata": {},
   "outputs": [],
   "source": [
    "interpret.show(explainer)"
   ]
  },
  {
   "cell_type": "code",
   "execution_count": null,
   "id": "2cb892df",
   "metadata": {},
   "outputs": [],
   "source": [
    "from sklearn.metrics import confusion_matrix\n",
    "preds = ebm.predict(X)\n",
    "# Confusion matrix whose i-th row and j-th column entry indicates the number\n",
    "# of samples with true label being i-th class and predicted label being j-th\n",
    "# class.   confmat[i,j] -- true i'th predicted being j'th\n",
    "confmat = confusion_matrix(preds, y)\n"
   ]
  },
  {
   "cell_type": "code",
   "execution_count": null,
   "id": "e22d9fd4",
   "metadata": {},
   "outputs": [],
   "source": [
    "confmat"
   ]
  },
  {
   "cell_type": "code",
   "execution_count": null,
   "id": "3b290dde",
   "metadata": {},
   "outputs": [],
   "source": []
  }
 ],
 "metadata": {
  "kernelspec": {
   "display_name": "Python 3",
   "language": "python",
   "name": "python3"
  },
  "language_info": {
   "codemirror_mode": {
    "name": "ipython",
    "version": 3
   },
   "file_extension": ".py",
   "mimetype": "text/x-python",
   "name": "python",
   "nbconvert_exporter": "python",
   "pygments_lexer": "ipython3",
   "version": "3.9.6"
  }
 },
 "nbformat": 4,
 "nbformat_minor": 5
}
